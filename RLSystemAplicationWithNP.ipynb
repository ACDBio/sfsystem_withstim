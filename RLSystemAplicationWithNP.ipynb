{
 "cells": [
  {
   "cell_type": "code",
   "execution_count": 15,
   "metadata": {},
   "outputs": [],
   "source": [
    "import RLSystem\n",
    "import os\n",
    "import threading"
   ]
  },
  {
   "cell_type": "code",
   "execution_count": 14,
   "metadata": {},
   "outputs": [],
   "source": [
    "from importlib import reload\n",
    "reload(RLSystem)\n",
    "import numpy as np\n",
    "import time"
   ]
  },
  {
   "cell_type": "code",
   "execution_count": 7,
   "metadata": {},
   "outputs": [
    {
     "ename": "ConnectionResetError",
     "evalue": "[Errno 104] Connection reset by peer",
     "output_type": "error",
     "traceback": [
      "\u001b[0;31m---------------------------------------------------------------------------\u001b[0m",
      "\u001b[0;31mConnectionResetError\u001b[0m                      Traceback (most recent call last)",
      "Cell \u001b[0;32mIn[7], line 1\u001b[0m\n\u001b[0;32m----> 1\u001b[0m \u001b[43menv\u001b[49m\u001b[38;5;241;43m.\u001b[39;49m\u001b[43mclose\u001b[49m\u001b[43m(\u001b[49m\u001b[43m)\u001b[49m\n",
      "File \u001b[0;32m~/Documents/PlatformIO/Projects/SFSystem_withAV/RLSystem.py:903\u001b[0m, in \u001b[0;36mSFSystemCommunicator.close\u001b[0;34m(self, clear_log)\u001b[0m\n\u001b[1;32m    901\u001b[0m         \u001b[38;5;28mself\u001b[39m\u001b[38;5;241m.\u001b[39mwrite_tolog(json\u001b[38;5;241m.\u001b[39mdumps({\u001b[38;5;124m'\u001b[39m\u001b[38;5;124mBest action across episodes reward\u001b[39m\u001b[38;5;124m'\u001b[39m:\u001b[38;5;28mself\u001b[39m\u001b[38;5;241m.\u001b[39moverall_max_reward}))\n\u001b[1;32m    902\u001b[0m         \u001b[38;5;28mself\u001b[39m\u001b[38;5;241m.\u001b[39mwrite_tolog(actionstring)\n\u001b[0;32m--> 903\u001b[0m \u001b[38;5;28;43mself\u001b[39;49m\u001b[38;5;241;43m.\u001b[39;49m\u001b[43mstop_audiovis_feedback\u001b[49m\u001b[43m(\u001b[49m\u001b[43m)\u001b[49m \u001b[38;5;66;03m#just in case\u001b[39;00m\n\u001b[1;32m    904\u001b[0m \u001b[38;5;28mself\u001b[39m\u001b[38;5;241m.\u001b[39mws_sf\u001b[38;5;241m.\u001b[39msend(\u001b[38;5;124m\"\u001b[39m\u001b[38;5;124mstop_data_transfer_from_ads\u001b[39m\u001b[38;5;124m\"\u001b[39m) \u001b[38;5;66;03m#just in case\u001b[39;00m\n\u001b[1;32m    905\u001b[0m \u001b[38;5;28;01mif\u001b[39;00m \u001b[38;5;28mself\u001b[39m\u001b[38;5;241m.\u001b[39muse_neuroplay:\n",
      "File \u001b[0;32m~/Documents/PlatformIO/Projects/SFSystem_withAV/RLSystem.py:582\u001b[0m, in \u001b[0;36mSFSystemCommunicator.stop_audiovis_feedback\u001b[0;34m(self)\u001b[0m\n\u001b[1;32m    581\u001b[0m \u001b[38;5;28;01mdef\u001b[39;00m \u001b[38;5;21mstop_audiovis_feedback\u001b[39m(\u001b[38;5;28mself\u001b[39m):\n\u001b[0;32m--> 582\u001b[0m     \u001b[38;5;28;43mself\u001b[39;49m\u001b[38;5;241;43m.\u001b[39;49m\u001b[43mws_sf\u001b[49m\u001b[38;5;241;43m.\u001b[39;49m\u001b[43msend\u001b[49m\u001b[43m(\u001b[49m\u001b[38;5;124;43m\"\u001b[39;49m\u001b[38;5;124;43mstop_led_cycle\u001b[39;49m\u001b[38;5;124;43m\"\u001b[39;49m\u001b[43m)\u001b[49m\n",
      "File \u001b[0;32m~/.local/lib/python3.10/site-packages/websocket/_core.py:297\u001b[0m, in \u001b[0;36mWebSocket.send\u001b[0;34m(self, payload, opcode)\u001b[0m\n\u001b[1;32m    283\u001b[0m \u001b[38;5;250m\u001b[39m\u001b[38;5;124;03m\"\"\"\u001b[39;00m\n\u001b[1;32m    284\u001b[0m \u001b[38;5;124;03mSend the data as string.\u001b[39;00m\n\u001b[1;32m    285\u001b[0m \n\u001b[0;32m   (...)\u001b[0m\n\u001b[1;32m    293\u001b[0m \u001b[38;5;124;03m    Operation code (opcode) to send.\u001b[39;00m\n\u001b[1;32m    294\u001b[0m \u001b[38;5;124;03m\"\"\"\u001b[39;00m\n\u001b[1;32m    296\u001b[0m frame \u001b[38;5;241m=\u001b[39m ABNF\u001b[38;5;241m.\u001b[39mcreate_frame(payload, opcode)\n\u001b[0;32m--> 297\u001b[0m \u001b[38;5;28;01mreturn\u001b[39;00m \u001b[38;5;28;43mself\u001b[39;49m\u001b[38;5;241;43m.\u001b[39;49m\u001b[43msend_frame\u001b[49m\u001b[43m(\u001b[49m\u001b[43mframe\u001b[49m\u001b[43m)\u001b[49m\n",
      "File \u001b[0;32m~/.local/lib/python3.10/site-packages/websocket/_core.py:337\u001b[0m, in \u001b[0;36mWebSocket.send_frame\u001b[0;34m(self, frame)\u001b[0m\n\u001b[1;32m    335\u001b[0m \u001b[38;5;28;01mwith\u001b[39;00m \u001b[38;5;28mself\u001b[39m\u001b[38;5;241m.\u001b[39mlock:\n\u001b[1;32m    336\u001b[0m     \u001b[38;5;28;01mwhile\u001b[39;00m data:\n\u001b[0;32m--> 337\u001b[0m         l \u001b[38;5;241m=\u001b[39m \u001b[38;5;28;43mself\u001b[39;49m\u001b[38;5;241;43m.\u001b[39;49m\u001b[43m_send\u001b[49m\u001b[43m(\u001b[49m\u001b[43mdata\u001b[49m\u001b[43m)\u001b[49m\n\u001b[1;32m    338\u001b[0m         data \u001b[38;5;241m=\u001b[39m data[l:]\n\u001b[1;32m    340\u001b[0m \u001b[38;5;28;01mreturn\u001b[39;00m length\n",
      "File \u001b[0;32m~/.local/lib/python3.10/site-packages/websocket/_core.py:559\u001b[0m, in \u001b[0;36mWebSocket._send\u001b[0;34m(self, data)\u001b[0m\n\u001b[1;32m    558\u001b[0m \u001b[38;5;28;01mdef\u001b[39;00m \u001b[38;5;21m_send\u001b[39m(\u001b[38;5;28mself\u001b[39m, data: Union[\u001b[38;5;28mstr\u001b[39m, \u001b[38;5;28mbytes\u001b[39m]):\n\u001b[0;32m--> 559\u001b[0m     \u001b[38;5;28;01mreturn\u001b[39;00m \u001b[43msend\u001b[49m\u001b[43m(\u001b[49m\u001b[38;5;28;43mself\u001b[39;49m\u001b[38;5;241;43m.\u001b[39;49m\u001b[43msock\u001b[49m\u001b[43m,\u001b[49m\u001b[43m \u001b[49m\u001b[43mdata\u001b[49m\u001b[43m)\u001b[49m\n",
      "File \u001b[0;32m~/.local/lib/python3.10/site-packages/websocket/_socket.py:176\u001b[0m, in \u001b[0;36msend\u001b[0;34m(sock, data)\u001b[0m\n\u001b[1;32m    174\u001b[0m         \u001b[38;5;28;01mreturn\u001b[39;00m sock\u001b[38;5;241m.\u001b[39msend(data)\n\u001b[1;32m    175\u001b[0m     \u001b[38;5;28;01melse\u001b[39;00m:\n\u001b[0;32m--> 176\u001b[0m         \u001b[38;5;28;01mreturn\u001b[39;00m \u001b[43m_send\u001b[49m\u001b[43m(\u001b[49m\u001b[43m)\u001b[49m\n\u001b[1;32m    177\u001b[0m \u001b[38;5;28;01mexcept\u001b[39;00m socket\u001b[38;5;241m.\u001b[39mtimeout \u001b[38;5;28;01mas\u001b[39;00m e:\n\u001b[1;32m    178\u001b[0m     message \u001b[38;5;241m=\u001b[39m extract_err_message(e)\n",
      "File \u001b[0;32m~/.local/lib/python3.10/site-packages/websocket/_socket.py:153\u001b[0m, in \u001b[0;36msend.<locals>._send\u001b[0;34m()\u001b[0m\n\u001b[1;32m    151\u001b[0m \u001b[38;5;28;01mdef\u001b[39;00m \u001b[38;5;21m_send\u001b[39m():\n\u001b[1;32m    152\u001b[0m     \u001b[38;5;28;01mtry\u001b[39;00m:\n\u001b[0;32m--> 153\u001b[0m         \u001b[38;5;28;01mreturn\u001b[39;00m \u001b[43msock\u001b[49m\u001b[38;5;241;43m.\u001b[39;49m\u001b[43msend\u001b[49m\u001b[43m(\u001b[49m\u001b[43mdata\u001b[49m\u001b[43m)\u001b[49m\n\u001b[1;32m    154\u001b[0m     \u001b[38;5;28;01mexcept\u001b[39;00m SSLWantWriteError:\n\u001b[1;32m    155\u001b[0m         \u001b[38;5;28;01mpass\u001b[39;00m\n",
      "\u001b[0;31mConnectionResetError\u001b[0m: [Errno 104] Connection reset by peer"
     ]
    }
   ],
   "source": [
    "env.close()"
   ]
  },
  {
   "cell_type": "code",
   "execution_count": 45,
   "metadata": {},
   "outputs": [
    {
     "name": "stderr",
     "output_type": "stream",
     "text": [
      "\"NeuroPlayPro\" VER \"1.10.1\"\n",
      "qt.bluetooth.bluez: Missing CAP_NET_ADMIN permission. Cannot determine whether a found address is of random or public type.\n",
      "could not load multimedia backend \"\"\n",
      "QtMultimedia is not currently supported on this platform or compiler.\n",
      "Failed to initialize QMediaPlayer \"Not available\"\n",
      "Files updated in 4\n",
      "Syncing 4 files\n",
      "Start req\n",
      "Req posted\n",
      "Sync request finished\n",
      "Unsynced 0\n",
      "\"10:18:38.642 UNSYNCED RECORDS 2\"\n",
      "\"10:18:39.202 UPLOAD Queue size 2\"\n",
      "\"10:18:39.202 SENDING FILE /home/biorp/Documents/NeuroPlayPro/2024.03.24-13.35.50.831.log | 7AEA7112-2841-4A32-994E-F9C6F41037AE\"\n",
      "\"10:18:39.326 UPLOAD Good\"\n",
      "\"10:18:40.202 UPLOAD Queue size 1\"\n",
      "\"10:18:40.202 SENDING FILE /home/biorp/Documents/NeuroPlayPro/2024.03.24-13.36.13.199.log | 7AEA7112-2841-4A32-994E-F9C6F41037AE\"\n",
      "\"10:18:40.305 UPLOAD Good\"\n"
     ]
    },
    {
     "name": "stdout",
     "output_type": "stream",
     "text": [
      "SF system connected\n",
      "{\"command\":\"startsearch\",\"result\":true,\"time\":\"2024.03.27-10.18.42.066\"}\n"
     ]
    },
    {
     "name": "stderr",
     "output_type": "stream",
     "text": [
      "\"10:18:42.066 START DEVICE SEARCH\"\n"
     ]
    },
    {
     "name": "stdout",
     "output_type": "stream",
     "text": [
      "Neuroplay connected.\n",
      "{\"command\":\"startdevice\",\"result\":true,\"time\":\"2024.03.27-10.18.42.643\"}\n",
      "{\"command\":\"stopsearch\",\"result\":true,\"time\":\"2024.03.27-10.18.42.674\"}\n",
      "{\"command\":\"enabledatagrabmode\",\"result\":true,\"time\":\"2024.03.27-10.18.42.704\"}\n",
      "{'BSF': 50, 'BSF2': 50, 'HPF': 2, 'LPF': 40, 'command': 'currentdeviceinfo', 'currentChannels': 8, 'currentChannelsNames': ['O1', 'P3', 'C3', 'F3', 'F4', 'C4', 'P4', 'O2'], 'currentFrequency': 125, 'device': {'battery': -1, 'maxChannels': 8, 'model': 'NeuroPlay', 'name': 'NeuroPlay-8K (1056)', 'preferredChannelCount': 8, 'serialNumber': '1056'}, 'isRecording': False, 'quality': [0, 0, 0, 0, 0, 0, 0, 0], 'result': False, 'searching': False, 'time': '2024.03.27-10.18.42.735'}\n",
      "Neuroplay device data received\n",
      "Setting delay to 8 to match neuroplay sampling frequency\n"
     ]
    },
    {
     "name": "stderr",
     "output_type": "stream",
     "text": [
      "\"C1\" START DEVICE \"NeuroPlay-8K (1056)\" -1\n"
     ]
    },
    {
     "name": "stdout",
     "output_type": "stream",
     "text": [
      "Encoder data will be used regardless of rotation direction\n",
      "Delay and data transfer buffer size are set up.\n",
      "Default actions are set.\n"
     ]
    },
    {
     "name": "stderr",
     "output_type": "stream",
     "text": [
      "\"10:18:47.702 KINDA WRONG DATA RATE 1.34712\"\n"
     ]
    }
   ],
   "source": [
    "env = RLSystem.SFSystemCommunicator(write_edf_ann=True, edf_step_annotation=True, edf_rf_annotation=True, use_unfiltered_np_data=False,\n",
    "                                    fbins=[(1,4),(4,8),(8,14),(14,35),(35,49)],  reward_formula_string='raw_ch16', n_timepoints_per_sample=500,\n",
    "                                    use_fbins_in_os_def=True, use_freq_in_os_def=True, use_raw_in_os_def=True) #input_channels=['sf_enc']) #, step_stim_length_millis=1000)"
   ]
  },
  {
   "cell_type": "code",
   "execution_count": 4,
   "metadata": {},
   "outputs": [
    {
     "name": "stderr",
     "output_type": "stream",
     "text": [
      "STOP ON START\n",
      "\"03:23:57.536 1711499037536\\tDevice\\tNeuroPlay-8K (1056)\\r\\n\"\n",
      "\"03:23:57.536 1711499037536\\tDate\\t2024-03-27T03:23:57.536\\r\\n\"\n",
      "\"03:23:57.536 1711499037536\\tTimestamp\\t1711499037536\\r\\n\"\n",
      "\"03:23:57.536 1711499037536\\tFrequency\\t125\\r\\n\"\n",
      "\"03:23:57.536 1711499037536\\tChannels\\tO1,P3,C3,F3,F4,C4,P4,O2\\r\\n\"\n",
      "\"03:23:57.536 1711499037536\\tChannelCount\\t8\\r\\n\"\n",
      "\"03:23:57.536 1711499037536\\tHPF\\t2\\r\\n\"\n",
      "\"03:23:57.536 1711499037536\\tLPF\\t40\\r\\n\"\n",
      "\"03:23:57.536 1711499037536\\tBSF\\t50\\r\\n\"\n",
      "\"03:23:57.536 1711499037536\\tBSF2\\t50\\r\\n\"\n",
      "\"03:23:57.536 1711499037536\\tMeditationChannels\\tO1,O2\\r\\n\"\n",
      "\"03:23:57.536 1711499037536\\tMeditationTopThresholdHistory\\t100\\r\\n\"\n",
      "\"03:23:57.536 1711499037536\\tMeditationLowThresholdHistory\\t1000\\r\\n\"\n",
      "\"03:23:57.536 1711499037536\\tMeditationSmoothing\\t16\\r\\n\"\n",
      "\"03:23:57.536 1711499037536\\tConcentrationChannels\\tF3,F4,Fp1,Fp2\\r\\n\"\n",
      "\"03:23:57.536 1711499037536\\tConcentrationTopThresholdHistory\\t100\\r\\n\"\n",
      "\"03:23:57.536 1711499037536\\tConcentrationLowThresholdHistory\\t1000\\r\\n\"\n",
      "\"03:23:57.536 1711499037536\\tConcentrationSmoothing\\t16\\r\\n\"\n",
      "\"03:23:57.537 1711499037537\\tOS\\t\\r\\n\"\n",
      "\"03:23:57.537 1711499037537\\tOSversion\\t-1.-1.-1\\r\\n\"\n",
      "\"03:23:57.537 1711499037537\\tVersion\\t1.10.1\\r\\n\"\n"
     ]
    }
   ],
   "source": [
    "env.start_edf_log()"
   ]
  },
  {
   "cell_type": "code",
   "execution_count": 46,
   "metadata": {},
   "outputs": [
    {
     "name": "stdout",
     "output_type": "stream",
     "text": [
      "sampled from np\n",
      "sampled from sf\n"
     ]
    },
    {
     "data": {
      "text/plain": [
       "True"
      ]
     },
     "execution_count": 46,
     "metadata": {},
     "output_type": "execute_result"
    }
   ],
   "source": [
    "env.sample_observations()"
   ]
  },
  {
   "cell_type": "code",
   "execution_count": null,
   "metadata": {},
   "outputs": [],
   "source": [
    "env.sample_observations()"
   ]
  },
  {
   "cell_type": "code",
   "execution_count": 39,
   "metadata": {},
   "outputs": [
    {
     "name": "stdout",
     "output_type": "stream",
     "text": [
      "On env close received 'NoneType' object has no attribute 'send'\n"
     ]
    }
   ],
   "source": [
    "env.close()"
   ]
  },
  {
   "cell_type": "code",
   "execution_count": 6,
   "metadata": {},
   "outputs": [
    {
     "data": {
      "text/plain": [
       "Dict('raw_data': Box(0, 1023, (500, 1), int64), 'fft': Box(0.0, 1.0, (1, 251), float32), 'fbins': Box(0.0, 1.0, (1, 5), float32))"
      ]
     },
     "execution_count": 6,
     "metadata": {},
     "output_type": "execute_result"
    }
   ],
   "source": [
    "env.observation_space"
   ]
  },
  {
   "cell_type": "code",
   "execution_count": 25,
   "metadata": {},
   "outputs": [
    {
     "name": "stdout",
     "output_type": "stream",
     "text": [
      "[39, 156, 241, 129, 115, 53, 74, 240, 90, 12, 12, 39, 28, 167, 76, 115, 195, 163, 184, 19, 76, 244, 156, 250, 9186, 22299, 23606, 13, 2, 33, 44, 14, 10, 40, 45, 22, 0, 3]\n",
      "39,156,241,129,115,53,74,240,90,12,12,39,28,167,76,115,195,163,184,19,76,244,156,250,9186,22299,23606,13,2,33,44,14,10,40,45,22,0,3\n",
      "sampled from np\n",
      "sampled from sf\n",
      "[21, 220, 21, 61, 31, 142, 229, 200, 55, 239, 43, 113, 61, 27, 22, 224, 110, 170, 48, 13, 225, 111, 102, 150, 4579, 3662, 2044, 36, 1, 47, 3, 45, 5, 20, 2, 33, 1, 1]\n",
      "21,220,21,61,31,142,229,200,55,239,43,113,61,27,22,224,110,170,48,13,225,111,102,150,4579,3662,2044,36,1,47,3,45,5,20,2,33,1,1\n",
      "sampled from np\n",
      "sampled from sf\n",
      "[78, 239, 215, 54, 50, 23, 246, 137, 138, 112, 10, 90, 218, 102, 121, 180, 113, 243, 246, 44, 172, 11, 34, 98, 5088, 4077, 10935, 28, 2, 44, 46, 44, 11, 20, 42, 31, 1, 0]\n",
      "78,239,215,54,50,23,246,137,138,112,10,90,218,102,121,180,113,243,246,44,172,11,34,98,5088,4077,10935,28,2,44,46,44,11,20,42,31,1,0\n",
      "sampled from np\n",
      "sampled from sf\n",
      "[194, 10, 177, 96, 123, 95, 24, 22, 110, 208, 193, 214, 149, 122, 16, 168, 90, 106, 203, 238, 49, 100, 170, 238, 258, 11308, 10554, 32, 4, 5, 32, 46, 14, 34, 9, 28, 0, 2]\n",
      "194,10,177,96,123,95,24,22,110,208,193,214,149,122,16,168,90,106,203,238,49,100,170,238,258,11308,10554,32,4,5,32,46,14,34,9,28,0,2\n",
      "sampled from np\n",
      "sampled from sf\n",
      "[125, 12, 86, 242, 148, 183, 29, 86, 214, 200, 50, 198, 141, 102, 226, 24, 175, 135, 170, 121, 34, 17, 194, 82, 3793, 19053, 16548, 42, 2, 5, 12, 12, 13, 15, 44, 38, 3, 2]\n",
      "125,12,86,242,148,183,29,86,214,200,50,198,141,102,226,24,175,135,170,121,34,17,194,82,3793,19053,16548,42,2,5,12,12,13,15,44,38,3,2\n",
      "sampled from np\n",
      "sampled from sf\n"
     ]
    }
   ],
   "source": [
    "for i in range(5):\n",
    "    env.step(env.action_space.sample())"
   ]
  },
  {
   "cell_type": "code",
   "execution_count": 38,
   "metadata": {},
   "outputs": [
    {
     "data": {
      "text/plain": [
       "OrderedDict([('raw_data',\n",
       "              array([[     0.,      0.,      0., ..., 129727., 140296.,      0.],\n",
       "                     [     0.,      0.,      0., ..., 129727., 140296.,      0.],\n",
       "                     [     0.,      0.,      0., ..., 129727., 140296.,      0.],\n",
       "                     ...,\n",
       "                     [     0.,      0.,      0., ..., 140488., 140485.,      0.],\n",
       "                     [     0.,      0.,      0., ..., 140488., 140485.,      0.],\n",
       "                     [     0.,      0.,      0., ..., 140488., 140485.,      0.]])),\n",
       "             ('fft',\n",
       "              array([[0.00000000e+00, 0.00000000e+00, 0.00000000e+00, ...,\n",
       "                      0.00000000e+00, 0.00000000e+00, 0.00000000e+00],\n",
       "                     [0.00000000e+00, 0.00000000e+00, 0.00000000e+00, ...,\n",
       "                      0.00000000e+00, 0.00000000e+00, 0.00000000e+00],\n",
       "                     [0.00000000e+00, 0.00000000e+00, 0.00000000e+00, ...,\n",
       "                      0.00000000e+00, 0.00000000e+00, 0.00000000e+00],\n",
       "                     ...,\n",
       "                     [2.68794548e+05, 6.70397442e+03, 1.38012491e+03, ...,\n",
       "                      3.93987518e+01, 8.86132505e+00, 4.30440000e+01],\n",
       "                     [2.80756052e+05, 1.17744742e+02, 2.42397182e+01, ...,\n",
       "                      6.91976962e-01, 1.55635204e-01, 7.56000000e-01],\n",
       "                     [0.00000000e+00, 0.00000000e+00, 0.00000000e+00, ...,\n",
       "                      0.00000000e+00, 0.00000000e+00, 0.00000000e+00]])),\n",
       "             ('fbins',\n",
       "              array([[0.00000000e+00, 0.00000000e+00, 0.00000000e+00, 0.00000000e+00,\n",
       "                      0.00000000e+00],\n",
       "                     [0.00000000e+00, 0.00000000e+00, 0.00000000e+00, 0.00000000e+00,\n",
       "                      0.00000000e+00],\n",
       "                     [0.00000000e+00, 0.00000000e+00, 0.00000000e+00, 0.00000000e+00,\n",
       "                      0.00000000e+00],\n",
       "                     [0.00000000e+00, 0.00000000e+00, 0.00000000e+00, 0.00000000e+00,\n",
       "                      0.00000000e+00],\n",
       "                     [0.00000000e+00, 0.00000000e+00, 0.00000000e+00, 0.00000000e+00,\n",
       "                      0.00000000e+00],\n",
       "                     [0.00000000e+00, 0.00000000e+00, 0.00000000e+00, 0.00000000e+00,\n",
       "                      0.00000000e+00],\n",
       "                     [0.00000000e+00, 0.00000000e+00, 0.00000000e+00, 0.00000000e+00,\n",
       "                      0.00000000e+00],\n",
       "                     [0.00000000e+00, 0.00000000e+00, 0.00000000e+00, 0.00000000e+00,\n",
       "                      0.00000000e+00],\n",
       "                     [3.62310879e+00, 1.31767546e+00, 7.28278506e-01, 3.66462424e-01,\n",
       "                      2.44400312e-01],\n",
       "                     [1.79207532e+00, 6.51753452e-01, 3.60223777e-01, 1.81260984e-01,\n",
       "                      1.20886176e-01],\n",
       "                     [6.38913808e+00, 2.32364274e+00, 1.28427607e+00, 6.46234812e-01,\n",
       "                      4.30985496e-01],\n",
       "                     [8.57079499e-01, 3.11708173e-01, 1.72280937e-01, 8.66900357e-02,\n",
       "                      5.78151275e-02],\n",
       "                     [3.89581590e-01, 1.41685533e-01, 7.83095168e-02, 3.94045617e-02,\n",
       "                      2.62796034e-02],\n",
       "                     [6.21538469e+02, 2.26045099e+02, 1.24935003e+02, 6.28660377e+01,\n",
       "                      4.19264792e+01],\n",
       "                     [4.19228749e+02, 1.52467802e+02, 8.42688710e+01, 4.24032488e+01,\n",
       "                      2.82794812e+01],\n",
       "                     [7.36309206e+00, 2.67785657e+00, 1.48004987e+00, 7.44746216e-01,\n",
       "                      4.96684504e-01],\n",
       "                     [0.00000000e+00, 0.00000000e+00, 0.00000000e+00, 0.00000000e+00,\n",
       "                      0.00000000e+00]]))])"
      ]
     },
     "execution_count": 38,
     "metadata": {},
     "output_type": "execute_result"
    }
   ],
   "source": [
    "env.cur_observations"
   ]
  },
  {
   "cell_type": "code",
   "execution_count": 26,
   "metadata": {},
   "outputs": [
    {
     "data": {
      "text/plain": [
       "Dict('leddelay': Box(1, 10001, (1,), int64), 'lv1r': Box(10, 255, (1,), int64), 'lv1g': Box(10, 255, (1,), int64), 'lv1b': Box(10, 255, (1,), int64), 'lv2r': Box(10, 255, (1,), int64), 'lv2g': Box(10, 255, (1,), int64), 'lv2b': Box(10, 255, (1,), int64), 'lv3r': Box(10, 255, (1,), int64), 'lv3g': Box(10, 255, (1,), int64), 'lv3b': Box(10, 255, (1,), int64), 'lv4r': Box(10, 255, (1,), int64), 'lv4g': Box(10, 255, (1,), int64), 'lv4b': Box(10, 255, (1,), int64), 'lv5r': Box(10, 255, (1,), int64), 'lv5g': Box(10, 255, (1,), int64), 'lv5b': Box(10, 255, (1,), int64), 'lv6r': Box(10, 255, (1,), int64), 'lv6g': Box(10, 255, (1,), int64), 'lv6b': Box(10, 255, (1,), int64), 'lv7r': Box(10, 255, (1,), int64), 'lv7g': Box(10, 255, (1,), int64), 'lv7b': Box(10, 255, (1,), int64), 'lv8r': Box(10, 255, (1,), int64), 'lv8g': Box(10, 255, (1,), int64), 'lv8b': Box(10, 255, (1,), int64), 'wave_1_freq': Box(1, 30000, (1,), int64), 'wave_2_freq': Box(1, 30000, (1,), int64), 'panner_freq': Box(1, 50, (1,), int64), 'phasor_1_freq': Box(1, 50, (1,), int64), 'phasor_2_freq': Box(1, 50, (1,), int64), 'phasor_1_min': Box(1, 50, (1,), int64), 'phasor_2_min': Box(1, 50, (1,), int64), 'phasor_1_dif': Box(1, 50, (1,), int64), 'phasor_2_dif': Box(1, 50, (1,), int64), 'panner_div': Box(1, 5, (1,), int64), 'wave_1_type': Box(0, 3, (1,), int64), 'wave_2_type': Box(0, 3, (1,), int64), 'maxivolume': Box(0, 50, (1,), int64))"
      ]
     },
     "execution_count": 26,
     "metadata": {},
     "output_type": "execute_result"
    }
   ],
   "source": [
    "env.action_space"
   ]
  },
  {
   "cell_type": "code",
   "execution_count": null,
   "metadata": {},
   "outputs": [],
   "source": [
    "sam_o=env.action_space.sample()\n",
    "sam_o['leddelay']=np.array([8000])\n",
    "sam=env.action_space.sample()\n",
    "sam['leddelay']=np.array([100])\n",
    "sam"
   ]
  },
  {
   "cell_type": "code",
   "execution_count": 47,
   "metadata": {},
   "outputs": [
    {
     "name": "stderr",
     "output_type": "stream",
     "text": [
      "Unable to put log: REC -  false \", FILE: \"\n"
     ]
    },
    {
     "name": "stdout",
     "output_type": "stream",
     "text": [
      "[204, 164, 232, 108, 110, 178, 162, 165, 114, 135, 62, 185, 168, 179, 181, 239, 11, 133, 50, 102, 144, 242, 12, 130, 100, 18493, 24119, 39, 3, 11, 42, 20, 16, 11, 2, 22, 1, 0]\n",
      "204,164,232,108,110,178,162,165,114,135,62,185,168,179,181,239,11,133,50,102,144,242,12,130,100,18493,24119,39,3,11,42,20,16,11,2,22,1,0\n",
      "sampled from np\n",
      "sampled from sf\n",
      "0.0\n",
      "[195, 57, 46, 55, 227, 125, 202, 66, 41, 212, 165, 132, 189, 59, 188, 51, 135, 121, 46, 151, 237, 242, 118, 107, 8000, 28257, 19390, 12, 2, 7, 35, 8, 6, 2, 34, 29, 0, 3]\n",
      "195,57,46,55,227,125,202,66,41,212,165,132,189,59,188,51,135,121,46,151,237,242,118,107,8000,28257,19390,12,2,7,35,8,6,2,34,29,0,3\n"
     ]
    },
    {
     "name": "stderr",
     "output_type": "stream",
     "text": [
      "Unable to put log: REC -  false \", FILE: \"\n",
      "Unable to put log: REC -  false \", FILE: \"\n",
      "Unable to put log: REC -  false \", FILE: \"\n",
      "Unable to put log: REC -  false \", FILE: \"\n"
     ]
    },
    {
     "name": "stdout",
     "output_type": "stream",
     "text": [
      "sampled from np\n",
      "sampled from sf\n",
      "221.0\n",
      "[204, 164, 232, 108, 110, 178, 162, 165, 114, 135, 62, 185, 168, 179, 181, 239, 11, 133, 50, 102, 144, 242, 12, 130, 100, 18493, 24119, 39, 3, 11, 42, 20, 16, 11, 2, 22, 1, 0]\n",
      "204,164,232,108,110,178,162,165,114,135,62,185,168,179,181,239,11,133,50,102,144,242,12,130,100,18493,24119,39,3,11,42,20,16,11,2,22,1,0\n"
     ]
    },
    {
     "name": "stderr",
     "output_type": "stream",
     "text": [
      "Unable to put log: REC -  false \", FILE: \"\n",
      "Unable to put log: REC -  false \", FILE: \"\n",
      "Unable to put log: REC -  false \", FILE: \"\n",
      "Unable to put log: REC -  false \", FILE: \"\n",
      "Unable to put log: REC -  false \", FILE: \"\n"
     ]
    },
    {
     "name": "stdout",
     "output_type": "stream",
     "text": [
      "sampled from np\n",
      "sampled from sf\n",
      "21.0\n",
      "[195, 57, 46, 55, 227, 125, 202, 66, 41, 212, 165, 132, 189, 59, 188, 51, 135, 121, 46, 151, 237, 242, 118, 107, 8000, 28257, 19390, 12, 2, 7, 35, 8, 6, 2, 34, 29, 0, 3]\n",
      "195,57,46,55,227,125,202,66,41,212,165,132,189,59,188,51,135,121,46,151,237,242,118,107,8000,28257,19390,12,2,7,35,8,6,2,34,29,0,3\n"
     ]
    },
    {
     "name": "stderr",
     "output_type": "stream",
     "text": [
      "Unable to put log: REC -  false \", FILE: \"\n",
      "Unable to put log: REC -  false \", FILE: \"\n",
      "Unable to put log: REC -  false \", FILE: \"\n",
      "Unable to put log: REC -  false \", FILE: \"\n",
      "\"10:20:24.701 From now on bad frame rate is not watched\"\n"
     ]
    },
    {
     "name": "stdout",
     "output_type": "stream",
     "text": [
      "sampled from np\n",
      "sampled from sf\n",
      "0.0\n"
     ]
    },
    {
     "name": "stderr",
     "output_type": "stream",
     "text": [
      "Unable to put log: REC -  false \", FILE: \"\n",
      "Unable to put log: REC -  false \", FILE: \"\n"
     ]
    }
   ],
   "source": [
    "for i in range(2):\n",
    "    env.step(sam)\n",
    "    print(env.reward)\n",
    "    env.step(sam_o)\n",
    "    print(env.reward)"
   ]
  },
  {
   "cell_type": "code",
   "execution_count": 33,
   "metadata": {},
   "outputs": [
    {
     "name": "stdout",
     "output_type": "stream",
     "text": [
      "[204, 164, 232, 108, 110, 178, 162, 165, 114, 135, 62, 185, 168, 179, 181, 239, 11, 133, 50, 102, 144, 242, 12, 130, 100, 18493, 24119, 39, 3, 11, 42, 20, 16, 11, 2, 22, 1, 0]\n",
      "204,164,232,108,110,178,162,165,114,135,62,185,168,179,181,239,11,133,50,102,144,242,12,130,100,18493,24119,39,3,11,42,20,16,11,2,22,1,0\n"
     ]
    }
   ],
   "source": [
    "env.update_audiovis_feedback(sam)"
   ]
  },
  {
   "cell_type": "code",
   "execution_count": 35,
   "metadata": {},
   "outputs": [],
   "source": [
    "sam_o=env.action_space.sample()\n",
    "sam_o['leddelay']=np.array([8000])\n",
    "sam=env.action_space.sample()\n",
    "sam['leddelay']=np.array([100])\n",
    "sam"
   ]
  },
  {
   "cell_type": "code",
   "execution_count": null,
   "metadata": {},
   "outputs": [],
   "source": [
    "env.update_audiovis_feedback()"
   ]
  },
  {
   "cell_type": "code",
   "execution_count": 6,
   "metadata": {},
   "outputs": [
    {
     "data": {
      "application/vnd.plotly.v1+json": {
       "config": {
        "plotlyServerURL": "https://plot.ly"
       },
       "data": [
        {
         "mode": "lines+markers",
         "name": "Current episode rewards",
         "type": "scatter",
         "x": [
          0,
          1,
          2,
          3,
          4
         ],
         "xaxis": "x",
         "y": [
          93811368,
          -119353132,
          -25099754,
          1014326339,
          1424890976
         ],
         "yaxis": "y"
        },
        {
         "mode": "lines+markers",
         "name": "Previous episode max rewards",
         "type": "scatter",
         "x": [],
         "xaxis": "x2",
         "y": [],
         "yaxis": "y2"
        },
        {
         "mode": "lines+markers",
         "name": "Previous episode total rewards",
         "type": "scatter",
         "x": [],
         "xaxis": "x3",
         "y": [],
         "yaxis": "y3"
        }
       ],
       "layout": {
        "height": 500,
        "template": {
         "data": {
          "bar": [
           {
            "error_x": {
             "color": "#2a3f5f"
            },
            "error_y": {
             "color": "#2a3f5f"
            },
            "marker": {
             "line": {
              "color": "#E5ECF6",
              "width": 0.5
             },
             "pattern": {
              "fillmode": "overlay",
              "size": 10,
              "solidity": 0.2
             }
            },
            "type": "bar"
           }
          ],
          "barpolar": [
           {
            "marker": {
             "line": {
              "color": "#E5ECF6",
              "width": 0.5
             },
             "pattern": {
              "fillmode": "overlay",
              "size": 10,
              "solidity": 0.2
             }
            },
            "type": "barpolar"
           }
          ],
          "carpet": [
           {
            "aaxis": {
             "endlinecolor": "#2a3f5f",
             "gridcolor": "white",
             "linecolor": "white",
             "minorgridcolor": "white",
             "startlinecolor": "#2a3f5f"
            },
            "baxis": {
             "endlinecolor": "#2a3f5f",
             "gridcolor": "white",
             "linecolor": "white",
             "minorgridcolor": "white",
             "startlinecolor": "#2a3f5f"
            },
            "type": "carpet"
           }
          ],
          "choropleth": [
           {
            "colorbar": {
             "outlinewidth": 0,
             "ticks": ""
            },
            "type": "choropleth"
           }
          ],
          "contour": [
           {
            "colorbar": {
             "outlinewidth": 0,
             "ticks": ""
            },
            "colorscale": [
             [
              0,
              "#0d0887"
             ],
             [
              0.1111111111111111,
              "#46039f"
             ],
             [
              0.2222222222222222,
              "#7201a8"
             ],
             [
              0.3333333333333333,
              "#9c179e"
             ],
             [
              0.4444444444444444,
              "#bd3786"
             ],
             [
              0.5555555555555556,
              "#d8576b"
             ],
             [
              0.6666666666666666,
              "#ed7953"
             ],
             [
              0.7777777777777778,
              "#fb9f3a"
             ],
             [
              0.8888888888888888,
              "#fdca26"
             ],
             [
              1,
              "#f0f921"
             ]
            ],
            "type": "contour"
           }
          ],
          "contourcarpet": [
           {
            "colorbar": {
             "outlinewidth": 0,
             "ticks": ""
            },
            "type": "contourcarpet"
           }
          ],
          "heatmap": [
           {
            "colorbar": {
             "outlinewidth": 0,
             "ticks": ""
            },
            "colorscale": [
             [
              0,
              "#0d0887"
             ],
             [
              0.1111111111111111,
              "#46039f"
             ],
             [
              0.2222222222222222,
              "#7201a8"
             ],
             [
              0.3333333333333333,
              "#9c179e"
             ],
             [
              0.4444444444444444,
              "#bd3786"
             ],
             [
              0.5555555555555556,
              "#d8576b"
             ],
             [
              0.6666666666666666,
              "#ed7953"
             ],
             [
              0.7777777777777778,
              "#fb9f3a"
             ],
             [
              0.8888888888888888,
              "#fdca26"
             ],
             [
              1,
              "#f0f921"
             ]
            ],
            "type": "heatmap"
           }
          ],
          "heatmapgl": [
           {
            "colorbar": {
             "outlinewidth": 0,
             "ticks": ""
            },
            "colorscale": [
             [
              0,
              "#0d0887"
             ],
             [
              0.1111111111111111,
              "#46039f"
             ],
             [
              0.2222222222222222,
              "#7201a8"
             ],
             [
              0.3333333333333333,
              "#9c179e"
             ],
             [
              0.4444444444444444,
              "#bd3786"
             ],
             [
              0.5555555555555556,
              "#d8576b"
             ],
             [
              0.6666666666666666,
              "#ed7953"
             ],
             [
              0.7777777777777778,
              "#fb9f3a"
             ],
             [
              0.8888888888888888,
              "#fdca26"
             ],
             [
              1,
              "#f0f921"
             ]
            ],
            "type": "heatmapgl"
           }
          ],
          "histogram": [
           {
            "marker": {
             "pattern": {
              "fillmode": "overlay",
              "size": 10,
              "solidity": 0.2
             }
            },
            "type": "histogram"
           }
          ],
          "histogram2d": [
           {
            "colorbar": {
             "outlinewidth": 0,
             "ticks": ""
            },
            "colorscale": [
             [
              0,
              "#0d0887"
             ],
             [
              0.1111111111111111,
              "#46039f"
             ],
             [
              0.2222222222222222,
              "#7201a8"
             ],
             [
              0.3333333333333333,
              "#9c179e"
             ],
             [
              0.4444444444444444,
              "#bd3786"
             ],
             [
              0.5555555555555556,
              "#d8576b"
             ],
             [
              0.6666666666666666,
              "#ed7953"
             ],
             [
              0.7777777777777778,
              "#fb9f3a"
             ],
             [
              0.8888888888888888,
              "#fdca26"
             ],
             [
              1,
              "#f0f921"
             ]
            ],
            "type": "histogram2d"
           }
          ],
          "histogram2dcontour": [
           {
            "colorbar": {
             "outlinewidth": 0,
             "ticks": ""
            },
            "colorscale": [
             [
              0,
              "#0d0887"
             ],
             [
              0.1111111111111111,
              "#46039f"
             ],
             [
              0.2222222222222222,
              "#7201a8"
             ],
             [
              0.3333333333333333,
              "#9c179e"
             ],
             [
              0.4444444444444444,
              "#bd3786"
             ],
             [
              0.5555555555555556,
              "#d8576b"
             ],
             [
              0.6666666666666666,
              "#ed7953"
             ],
             [
              0.7777777777777778,
              "#fb9f3a"
             ],
             [
              0.8888888888888888,
              "#fdca26"
             ],
             [
              1,
              "#f0f921"
             ]
            ],
            "type": "histogram2dcontour"
           }
          ],
          "mesh3d": [
           {
            "colorbar": {
             "outlinewidth": 0,
             "ticks": ""
            },
            "type": "mesh3d"
           }
          ],
          "parcoords": [
           {
            "line": {
             "colorbar": {
              "outlinewidth": 0,
              "ticks": ""
             }
            },
            "type": "parcoords"
           }
          ],
          "pie": [
           {
            "automargin": true,
            "type": "pie"
           }
          ],
          "scatter": [
           {
            "fillpattern": {
             "fillmode": "overlay",
             "size": 10,
             "solidity": 0.2
            },
            "type": "scatter"
           }
          ],
          "scatter3d": [
           {
            "line": {
             "colorbar": {
              "outlinewidth": 0,
              "ticks": ""
             }
            },
            "marker": {
             "colorbar": {
              "outlinewidth": 0,
              "ticks": ""
             }
            },
            "type": "scatter3d"
           }
          ],
          "scattercarpet": [
           {
            "marker": {
             "colorbar": {
              "outlinewidth": 0,
              "ticks": ""
             }
            },
            "type": "scattercarpet"
           }
          ],
          "scattergeo": [
           {
            "marker": {
             "colorbar": {
              "outlinewidth": 0,
              "ticks": ""
             }
            },
            "type": "scattergeo"
           }
          ],
          "scattergl": [
           {
            "marker": {
             "colorbar": {
              "outlinewidth": 0,
              "ticks": ""
             }
            },
            "type": "scattergl"
           }
          ],
          "scattermapbox": [
           {
            "marker": {
             "colorbar": {
              "outlinewidth": 0,
              "ticks": ""
             }
            },
            "type": "scattermapbox"
           }
          ],
          "scatterpolar": [
           {
            "marker": {
             "colorbar": {
              "outlinewidth": 0,
              "ticks": ""
             }
            },
            "type": "scatterpolar"
           }
          ],
          "scatterpolargl": [
           {
            "marker": {
             "colorbar": {
              "outlinewidth": 0,
              "ticks": ""
             }
            },
            "type": "scatterpolargl"
           }
          ],
          "scatterternary": [
           {
            "marker": {
             "colorbar": {
              "outlinewidth": 0,
              "ticks": ""
             }
            },
            "type": "scatterternary"
           }
          ],
          "surface": [
           {
            "colorbar": {
             "outlinewidth": 0,
             "ticks": ""
            },
            "colorscale": [
             [
              0,
              "#0d0887"
             ],
             [
              0.1111111111111111,
              "#46039f"
             ],
             [
              0.2222222222222222,
              "#7201a8"
             ],
             [
              0.3333333333333333,
              "#9c179e"
             ],
             [
              0.4444444444444444,
              "#bd3786"
             ],
             [
              0.5555555555555556,
              "#d8576b"
             ],
             [
              0.6666666666666666,
              "#ed7953"
             ],
             [
              0.7777777777777778,
              "#fb9f3a"
             ],
             [
              0.8888888888888888,
              "#fdca26"
             ],
             [
              1,
              "#f0f921"
             ]
            ],
            "type": "surface"
           }
          ],
          "table": [
           {
            "cells": {
             "fill": {
              "color": "#EBF0F8"
             },
             "line": {
              "color": "white"
             }
            },
            "header": {
             "fill": {
              "color": "#C8D4E3"
             },
             "line": {
              "color": "white"
             }
            },
            "type": "table"
           }
          ]
         },
         "layout": {
          "annotationdefaults": {
           "arrowcolor": "#2a3f5f",
           "arrowhead": 0,
           "arrowwidth": 1
          },
          "autotypenumbers": "strict",
          "coloraxis": {
           "colorbar": {
            "outlinewidth": 0,
            "ticks": ""
           }
          },
          "colorscale": {
           "diverging": [
            [
             0,
             "#8e0152"
            ],
            [
             0.1,
             "#c51b7d"
            ],
            [
             0.2,
             "#de77ae"
            ],
            [
             0.3,
             "#f1b6da"
            ],
            [
             0.4,
             "#fde0ef"
            ],
            [
             0.5,
             "#f7f7f7"
            ],
            [
             0.6,
             "#e6f5d0"
            ],
            [
             0.7,
             "#b8e186"
            ],
            [
             0.8,
             "#7fbc41"
            ],
            [
             0.9,
             "#4d9221"
            ],
            [
             1,
             "#276419"
            ]
           ],
           "sequential": [
            [
             0,
             "#0d0887"
            ],
            [
             0.1111111111111111,
             "#46039f"
            ],
            [
             0.2222222222222222,
             "#7201a8"
            ],
            [
             0.3333333333333333,
             "#9c179e"
            ],
            [
             0.4444444444444444,
             "#bd3786"
            ],
            [
             0.5555555555555556,
             "#d8576b"
            ],
            [
             0.6666666666666666,
             "#ed7953"
            ],
            [
             0.7777777777777778,
             "#fb9f3a"
            ],
            [
             0.8888888888888888,
             "#fdca26"
            ],
            [
             1,
             "#f0f921"
            ]
           ],
           "sequentialminus": [
            [
             0,
             "#0d0887"
            ],
            [
             0.1111111111111111,
             "#46039f"
            ],
            [
             0.2222222222222222,
             "#7201a8"
            ],
            [
             0.3333333333333333,
             "#9c179e"
            ],
            [
             0.4444444444444444,
             "#bd3786"
            ],
            [
             0.5555555555555556,
             "#d8576b"
            ],
            [
             0.6666666666666666,
             "#ed7953"
            ],
            [
             0.7777777777777778,
             "#fb9f3a"
            ],
            [
             0.8888888888888888,
             "#fdca26"
            ],
            [
             1,
             "#f0f921"
            ]
           ]
          },
          "colorway": [
           "#636efa",
           "#EF553B",
           "#00cc96",
           "#ab63fa",
           "#FFA15A",
           "#19d3f3",
           "#FF6692",
           "#B6E880",
           "#FF97FF",
           "#FECB52"
          ],
          "font": {
           "color": "#2a3f5f"
          },
          "geo": {
           "bgcolor": "white",
           "lakecolor": "white",
           "landcolor": "#E5ECF6",
           "showlakes": true,
           "showland": true,
           "subunitcolor": "white"
          },
          "hoverlabel": {
           "align": "left"
          },
          "hovermode": "closest",
          "mapbox": {
           "style": "light"
          },
          "paper_bgcolor": "white",
          "plot_bgcolor": "#E5ECF6",
          "polar": {
           "angularaxis": {
            "gridcolor": "white",
            "linecolor": "white",
            "ticks": ""
           },
           "bgcolor": "#E5ECF6",
           "radialaxis": {
            "gridcolor": "white",
            "linecolor": "white",
            "ticks": ""
           }
          },
          "scene": {
           "xaxis": {
            "backgroundcolor": "#E5ECF6",
            "gridcolor": "white",
            "gridwidth": 2,
            "linecolor": "white",
            "showbackground": true,
            "ticks": "",
            "zerolinecolor": "white"
           },
           "yaxis": {
            "backgroundcolor": "#E5ECF6",
            "gridcolor": "white",
            "gridwidth": 2,
            "linecolor": "white",
            "showbackground": true,
            "ticks": "",
            "zerolinecolor": "white"
           },
           "zaxis": {
            "backgroundcolor": "#E5ECF6",
            "gridcolor": "white",
            "gridwidth": 2,
            "linecolor": "white",
            "showbackground": true,
            "ticks": "",
            "zerolinecolor": "white"
           }
          },
          "shapedefaults": {
           "line": {
            "color": "#2a3f5f"
           }
          },
          "ternary": {
           "aaxis": {
            "gridcolor": "white",
            "linecolor": "white",
            "ticks": ""
           },
           "baxis": {
            "gridcolor": "white",
            "linecolor": "white",
            "ticks": ""
           },
           "bgcolor": "#E5ECF6",
           "caxis": {
            "gridcolor": "white",
            "linecolor": "white",
            "ticks": ""
           }
          },
          "title": {
           "x": 0.05
          },
          "xaxis": {
           "automargin": true,
           "gridcolor": "white",
           "linecolor": "white",
           "ticks": "",
           "title": {
            "standoff": 15
           },
           "zerolinecolor": "white",
           "zerolinewidth": 2
          },
          "yaxis": {
           "automargin": true,
           "gridcolor": "white",
           "linecolor": "white",
           "ticks": "",
           "title": {
            "standoff": 15
           },
           "zerolinecolor": "white",
           "zerolinewidth": 2
          }
         }
        },
        "width": 2000,
        "xaxis": {
         "anchor": "y",
         "domain": [
          0,
          0.45
         ]
        },
        "xaxis2": {
         "anchor": "y2",
         "domain": [
          0.55,
          1
         ]
        },
        "xaxis3": {
         "anchor": "y3",
         "domain": [
          0,
          0.45
         ]
        },
        "xaxis4": {
         "anchor": "y4",
         "domain": [
          0.55,
          1
         ]
        },
        "yaxis": {
         "anchor": "x",
         "domain": [
          0.575,
          1
         ]
        },
        "yaxis2": {
         "anchor": "x2",
         "domain": [
          0.575,
          1
         ]
        },
        "yaxis3": {
         "anchor": "x3",
         "domain": [
          0,
          0.425
         ]
        },
        "yaxis4": {
         "anchor": "x4",
         "domain": [
          0,
          0.425
         ]
        }
       }
      }
     },
     "metadata": {},
     "output_type": "display_data"
    },
    {
     "data": {
      "application/vnd.plotly.v1+json": {
       "config": {
        "plotlyServerURL": "https://plot.ly"
       },
       "data": [
        {
         "line": {
          "color": "mintcream"
         },
         "mode": "lines+markers",
         "name": "Channel 16 spectrum",
         "type": "scatter",
         "x": [
          0,
          0.2,
          0.4,
          0.6000000000000001,
          0.8,
          1,
          1.2000000000000002,
          1.4000000000000001,
          1.6,
          1.8,
          2,
          2.2,
          2.4000000000000004,
          2.6,
          2.8000000000000003,
          3,
          3.2,
          3.4000000000000004,
          3.6,
          3.8000000000000003,
          4,
          4.2,
          4.4,
          4.6000000000000005,
          4.800000000000001,
          5,
          5.2,
          5.4,
          5.6000000000000005,
          5.800000000000001,
          6,
          6.2,
          6.4,
          6.6000000000000005,
          6.800000000000001,
          7,
          7.2,
          7.4,
          7.6000000000000005,
          7.800000000000001,
          8,
          8.200000000000001,
          8.4,
          8.6,
          8.8,
          9,
          9.200000000000001,
          9.4,
          9.600000000000001,
          9.8,
          10,
          10.200000000000001,
          10.4,
          10.600000000000001,
          10.8,
          11,
          11.200000000000001,
          11.4,
          11.600000000000001,
          11.8,
          12,
          12.200000000000001,
          12.4,
          12.600000000000001,
          12.8,
          13,
          13.200000000000001,
          13.4,
          13.600000000000001,
          13.8,
          14,
          14.200000000000001,
          14.4,
          14.600000000000001,
          14.8,
          15,
          15.200000000000001,
          15.4,
          15.600000000000001,
          15.8,
          16,
          16.2,
          16.400000000000002,
          16.6,
          16.8,
          17,
          17.2,
          17.400000000000002,
          17.6,
          17.8,
          18,
          18.2,
          18.400000000000002,
          18.6,
          18.8,
          19,
          19.200000000000003,
          19.400000000000002,
          19.6,
          19.8,
          20,
          20.200000000000003,
          20.400000000000002,
          20.6,
          20.8,
          21,
          21.200000000000003,
          21.400000000000002,
          21.6,
          21.8,
          22,
          22.200000000000003,
          22.400000000000002,
          22.6,
          22.8,
          23,
          23.200000000000003,
          23.400000000000002,
          23.6,
          23.8,
          24,
          24.200000000000003,
          24.400000000000002,
          24.6,
          24.8,
          25,
          25.200000000000003,
          25.400000000000002,
          25.6,
          25.8,
          26,
          26.200000000000003,
          26.400000000000002,
          26.6,
          26.8,
          27,
          27.200000000000003,
          27.400000000000002,
          27.6,
          27.8,
          28,
          28.200000000000003,
          28.400000000000002,
          28.6,
          28.8,
          29,
          29.200000000000003,
          29.400000000000002,
          29.6,
          29.8,
          30,
          30.200000000000003,
          30.400000000000002,
          30.6,
          30.8,
          31,
          31.200000000000003,
          31.400000000000002,
          31.6,
          31.8,
          32,
          32.2,
          32.4,
          32.6,
          32.800000000000004,
          33,
          33.2,
          33.4,
          33.6,
          33.800000000000004,
          34,
          34.2,
          34.4,
          34.6,
          34.800000000000004,
          35,
          35.2,
          35.4,
          35.6,
          35.800000000000004,
          36,
          36.2,
          36.4,
          36.6,
          36.800000000000004,
          37,
          37.2,
          37.4,
          37.6,
          37.800000000000004,
          38,
          38.2,
          38.400000000000006,
          38.6,
          38.800000000000004,
          39,
          39.2,
          39.400000000000006,
          39.6,
          39.800000000000004,
          40,
          40.2,
          40.400000000000006,
          40.6,
          40.800000000000004,
          41,
          41.2,
          41.400000000000006,
          41.6,
          41.800000000000004,
          42,
          42.2,
          42.400000000000006,
          42.6,
          42.800000000000004,
          43,
          43.2,
          43.400000000000006,
          43.6,
          43.800000000000004,
          44,
          44.2,
          44.400000000000006,
          44.6,
          44.800000000000004,
          45,
          45.2,
          45.400000000000006,
          45.6,
          45.800000000000004,
          46,
          46.2,
          46.400000000000006,
          46.6,
          46.800000000000004,
          47,
          47.2,
          47.400000000000006,
          47.6,
          47.800000000000004,
          48,
          48.2,
          48.400000000000006,
          48.6,
          48.800000000000004,
          49,
          49.2,
          49.400000000000006,
          49.6,
          49.800000000000004,
          50
         ],
         "xaxis": "x",
         "y": [
          0,
          0,
          0,
          0,
          0,
          0,
          0,
          0,
          0,
          0,
          0,
          0,
          0,
          0,
          0,
          0,
          0,
          0,
          0,
          0,
          0,
          0,
          0,
          0,
          0,
          0,
          0,
          0,
          0,
          0,
          0,
          0,
          0,
          0,
          0,
          0,
          0,
          0,
          0,
          0,
          0,
          0,
          0,
          0,
          0,
          0,
          0,
          0,
          0,
          0,
          0,
          0,
          0,
          0,
          0,
          0,
          0,
          0,
          0,
          0,
          0,
          0,
          0,
          0,
          0,
          0,
          0,
          0,
          0,
          0,
          0,
          0,
          0,
          0,
          0,
          0,
          0,
          0,
          0,
          0,
          0,
          0,
          0,
          0,
          0,
          0,
          0,
          0,
          0,
          0,
          0,
          0,
          0,
          0,
          0,
          0,
          0,
          0,
          0,
          0,
          0,
          0,
          0,
          0,
          0,
          0,
          0,
          0,
          0,
          0,
          0,
          0,
          0,
          0,
          0,
          0,
          0,
          0,
          0,
          0,
          0,
          0,
          0,
          0,
          0,
          0,
          0,
          0,
          0,
          0,
          0,
          0,
          0,
          0,
          0,
          0,
          0,
          0,
          0,
          0,
          0,
          0,
          0,
          0,
          0,
          0,
          0,
          0,
          0,
          0,
          0,
          0,
          0,
          0,
          0,
          0,
          0,
          0,
          0,
          0,
          0,
          0,
          0,
          0,
          0,
          0,
          0,
          0,
          0,
          0,
          0,
          0,
          0,
          0,
          0,
          0,
          0,
          0,
          0,
          0,
          0,
          0,
          0,
          0,
          0,
          0,
          0,
          0,
          0,
          0,
          0,
          0,
          0,
          0,
          0,
          0,
          0,
          0,
          0,
          0,
          0,
          0,
          0,
          0,
          0,
          0,
          0,
          0,
          0,
          0,
          0,
          0,
          0,
          0,
          0,
          0,
          0,
          0,
          0,
          0,
          0,
          0,
          0,
          0,
          0,
          0,
          0,
          0,
          0,
          0,
          0,
          0,
          0,
          0,
          0,
          0,
          0,
          0,
          0,
          0,
          0,
          0,
          0,
          0,
          0,
          0,
          0,
          0,
          0,
          0,
          0
         ],
         "yaxis": "y"
        },
        {
         "marker": {
          "color": "mintcream"
         },
         "name": "Channel 16 frequency bins",
         "type": "bar",
         "x": [
          "1-4 Hz",
          "4-8 Hz",
          "8-14 Hz",
          "14-35 Hz",
          "35-49 Hz"
         ],
         "xaxis": "x2",
         "y": [
          0,
          0,
          0,
          0,
          0
         ],
         "yaxis": "y2"
        },
        {
         "line": {
          "color": "mintcream"
         },
         "mode": "lines+markers",
         "name": "Channel 16 raw signal",
         "type": "scatter",
         "x": [
          0,
          1,
          2,
          3,
          4,
          5,
          6,
          7,
          8,
          9,
          10,
          11,
          12,
          13,
          14,
          15,
          16,
          17,
          18,
          19,
          20,
          21,
          22,
          23,
          24,
          25,
          26,
          27,
          28,
          29,
          30,
          31,
          32,
          33,
          34,
          35,
          36,
          37,
          38,
          39,
          40,
          41,
          42,
          43,
          44,
          45,
          46,
          47,
          48,
          49,
          50,
          51,
          52,
          53,
          54,
          55,
          56,
          57,
          58,
          59,
          60,
          61,
          62,
          63,
          64,
          65,
          66,
          67,
          68,
          69,
          70,
          71,
          72,
          73,
          74,
          75,
          76,
          77,
          78,
          79,
          80,
          81,
          82,
          83,
          84,
          85,
          86,
          87,
          88,
          89,
          90,
          91,
          92,
          93,
          94,
          95,
          96,
          97,
          98,
          99,
          100,
          101,
          102,
          103,
          104,
          105,
          106,
          107,
          108,
          109,
          110,
          111,
          112,
          113,
          114,
          115,
          116,
          117,
          118,
          119,
          120,
          121,
          122,
          123,
          124,
          125,
          126,
          127,
          128,
          129,
          130,
          131,
          132,
          133,
          134,
          135,
          136,
          137,
          138,
          139,
          140,
          141,
          142,
          143,
          144,
          145,
          146,
          147,
          148,
          149,
          150,
          151,
          152,
          153,
          154,
          155,
          156,
          157,
          158,
          159,
          160,
          161,
          162,
          163,
          164,
          165,
          166,
          167,
          168,
          169,
          170,
          171,
          172,
          173,
          174,
          175,
          176,
          177,
          178,
          179,
          180,
          181,
          182,
          183,
          184,
          185,
          186,
          187,
          188,
          189,
          190,
          191,
          192,
          193,
          194,
          195,
          196,
          197,
          198,
          199,
          200,
          201,
          202,
          203,
          204,
          205,
          206,
          207,
          208,
          209,
          210,
          211,
          212,
          213,
          214,
          215,
          216,
          217,
          218,
          219,
          220,
          221,
          222,
          223,
          224,
          225,
          226,
          227,
          228,
          229,
          230,
          231,
          232,
          233,
          234,
          235,
          236,
          237,
          238,
          239,
          240,
          241,
          242,
          243,
          244,
          245,
          246,
          247,
          248,
          249,
          250,
          251,
          252,
          253,
          254,
          255,
          256,
          257,
          258,
          259,
          260,
          261,
          262,
          263,
          264,
          265,
          266,
          267,
          268,
          269,
          270,
          271,
          272,
          273,
          274,
          275,
          276,
          277,
          278,
          279,
          280,
          281,
          282,
          283,
          284,
          285,
          286,
          287,
          288,
          289,
          290,
          291,
          292,
          293,
          294,
          295,
          296,
          297,
          298,
          299,
          300,
          301,
          302,
          303,
          304,
          305,
          306,
          307,
          308,
          309,
          310,
          311,
          312,
          313,
          314,
          315,
          316,
          317,
          318,
          319,
          320,
          321,
          322,
          323,
          324,
          325,
          326,
          327,
          328,
          329,
          330,
          331,
          332,
          333,
          334,
          335,
          336,
          337,
          338,
          339,
          340,
          341,
          342,
          343,
          344,
          345,
          346,
          347,
          348,
          349,
          350,
          351,
          352,
          353,
          354,
          355,
          356,
          357,
          358,
          359,
          360,
          361,
          362,
          363,
          364,
          365,
          366,
          367,
          368,
          369,
          370,
          371,
          372,
          373,
          374,
          375,
          376,
          377,
          378,
          379,
          380,
          381,
          382,
          383,
          384,
          385,
          386,
          387,
          388,
          389,
          390,
          391,
          392,
          393,
          394,
          395,
          396,
          397,
          398,
          399,
          400,
          401,
          402,
          403,
          404,
          405,
          406,
          407,
          408,
          409,
          410,
          411,
          412,
          413,
          414,
          415,
          416,
          417,
          418,
          419,
          420,
          421,
          422,
          423,
          424,
          425,
          426,
          427,
          428,
          429,
          430,
          431,
          432,
          433,
          434,
          435,
          436,
          437,
          438,
          439,
          440,
          441,
          442,
          443,
          444,
          445,
          446,
          447,
          448,
          449,
          450,
          451,
          452,
          453,
          454,
          455,
          456,
          457,
          458,
          459,
          460,
          461,
          462,
          463,
          464,
          465,
          466,
          467,
          468,
          469,
          470,
          471,
          472,
          473,
          474,
          475,
          476,
          477,
          478,
          479,
          480,
          481,
          482,
          483,
          484,
          485,
          486,
          487,
          488,
          489,
          490,
          491,
          492,
          493,
          494,
          495,
          496,
          497,
          498,
          499
         ],
         "xaxis": "x3",
         "y": [
          0,
          0,
          0,
          0,
          0,
          0,
          0,
          0,
          0,
          0,
          0,
          0,
          0,
          0,
          0,
          0,
          0,
          0,
          0,
          0,
          0,
          0,
          0,
          0,
          0,
          0,
          0,
          0,
          0,
          0,
          0,
          0,
          0,
          0,
          0,
          0,
          0,
          0,
          0,
          0,
          0,
          0,
          0,
          0,
          0,
          0,
          0,
          0,
          0,
          0,
          0,
          0,
          0,
          0,
          0,
          0,
          0,
          0,
          0,
          0,
          0,
          0,
          0,
          0,
          0,
          0,
          0,
          0,
          0,
          0,
          0,
          0,
          0,
          0,
          0,
          0,
          0,
          0,
          0,
          0,
          0,
          0,
          0,
          0,
          0,
          0,
          0,
          0,
          0,
          0,
          0,
          0,
          0,
          0,
          0,
          0,
          0,
          0,
          0,
          0,
          0,
          0,
          0,
          0,
          0,
          0,
          0,
          0,
          0,
          0,
          0,
          0,
          0,
          0,
          0,
          0,
          0,
          0,
          0,
          0,
          0,
          0,
          0,
          0,
          0,
          0,
          0,
          0,
          0,
          0,
          0,
          0,
          0,
          0,
          0,
          0,
          0,
          0,
          0,
          0,
          0,
          0,
          0,
          0,
          0,
          0,
          0,
          0,
          0,
          0,
          0,
          0,
          0,
          0,
          0,
          0,
          0,
          0,
          0,
          0,
          0,
          0,
          0,
          0,
          0,
          0,
          0,
          0,
          0,
          0,
          0,
          0,
          0,
          0,
          0,
          0,
          0,
          0,
          0,
          0,
          0,
          0,
          0,
          0,
          0,
          0,
          0,
          0,
          0,
          0,
          0,
          0,
          0,
          0,
          0,
          0,
          0,
          0,
          0,
          0,
          0,
          0,
          0,
          0,
          0,
          0,
          0,
          0,
          0,
          0,
          0,
          0,
          0,
          0,
          0,
          0,
          0,
          0,
          0,
          0,
          0,
          0,
          0,
          0,
          0,
          0,
          0,
          0,
          0,
          0,
          0,
          0,
          0,
          0,
          0,
          0,
          0,
          0,
          0,
          0,
          0,
          0,
          0,
          0,
          0,
          0,
          0,
          0,
          0,
          0,
          0,
          0,
          0,
          0,
          0,
          0,
          0,
          0,
          0,
          0,
          0,
          0,
          0,
          0,
          0,
          0,
          0,
          0,
          0,
          0,
          0,
          0,
          0,
          0,
          0,
          0,
          0,
          0,
          0,
          0,
          0,
          0,
          0,
          0,
          0,
          0,
          0,
          0,
          0,
          0,
          0,
          0,
          0,
          0,
          0,
          0,
          0,
          0,
          0,
          0,
          0,
          0,
          0,
          0,
          0,
          0,
          0,
          0,
          0,
          0,
          0,
          0,
          0,
          0,
          0,
          0,
          0,
          0,
          0,
          0,
          0,
          0,
          0,
          0,
          0,
          0,
          0,
          0,
          0,
          0,
          0,
          0,
          0,
          0,
          0,
          0,
          0,
          0,
          0,
          0,
          0,
          0,
          0,
          0,
          0,
          0,
          0,
          0,
          0,
          0,
          0,
          0,
          0,
          0,
          0,
          0,
          0,
          0,
          0,
          0,
          0,
          0,
          0,
          0,
          0,
          0,
          0,
          0,
          0,
          0,
          0,
          0,
          0,
          0,
          0,
          0,
          0,
          0,
          0,
          0,
          0,
          0,
          0,
          0,
          0,
          0,
          0,
          0,
          0,
          0,
          0,
          0,
          0,
          0,
          0,
          0,
          0,
          0,
          0,
          0,
          0,
          0,
          0,
          0,
          0,
          0,
          0,
          0,
          0,
          0,
          0,
          0,
          0,
          0,
          0,
          0,
          0,
          0,
          0,
          0,
          0,
          0,
          0,
          0,
          0,
          0,
          0,
          0,
          0,
          0,
          0,
          0,
          0,
          0,
          0,
          0,
          0,
          0,
          0,
          0,
          0,
          0,
          0,
          0,
          0,
          0,
          0,
          0,
          0,
          0,
          0,
          0,
          0,
          0,
          0,
          0,
          0,
          0,
          0,
          0,
          0,
          0,
          0,
          0,
          0,
          0,
          0,
          0,
          0,
          0,
          0,
          0,
          0,
          0,
          0,
          0,
          0,
          0,
          0,
          0,
          0,
          0,
          0,
          0,
          0,
          0,
          0,
          0,
          0,
          0,
          0,
          0,
          0,
          0,
          0,
          0,
          0,
          0,
          0,
          0
         ],
         "yaxis": "y3"
        }
       ],
       "layout": {
        "height": 1500,
        "template": {
         "data": {
          "bar": [
           {
            "error_x": {
             "color": "#2a3f5f"
            },
            "error_y": {
             "color": "#2a3f5f"
            },
            "marker": {
             "line": {
              "color": "#E5ECF6",
              "width": 0.5
             },
             "pattern": {
              "fillmode": "overlay",
              "size": 10,
              "solidity": 0.2
             }
            },
            "type": "bar"
           }
          ],
          "barpolar": [
           {
            "marker": {
             "line": {
              "color": "#E5ECF6",
              "width": 0.5
             },
             "pattern": {
              "fillmode": "overlay",
              "size": 10,
              "solidity": 0.2
             }
            },
            "type": "barpolar"
           }
          ],
          "carpet": [
           {
            "aaxis": {
             "endlinecolor": "#2a3f5f",
             "gridcolor": "white",
             "linecolor": "white",
             "minorgridcolor": "white",
             "startlinecolor": "#2a3f5f"
            },
            "baxis": {
             "endlinecolor": "#2a3f5f",
             "gridcolor": "white",
             "linecolor": "white",
             "minorgridcolor": "white",
             "startlinecolor": "#2a3f5f"
            },
            "type": "carpet"
           }
          ],
          "choropleth": [
           {
            "colorbar": {
             "outlinewidth": 0,
             "ticks": ""
            },
            "type": "choropleth"
           }
          ],
          "contour": [
           {
            "colorbar": {
             "outlinewidth": 0,
             "ticks": ""
            },
            "colorscale": [
             [
              0,
              "#0d0887"
             ],
             [
              0.1111111111111111,
              "#46039f"
             ],
             [
              0.2222222222222222,
              "#7201a8"
             ],
             [
              0.3333333333333333,
              "#9c179e"
             ],
             [
              0.4444444444444444,
              "#bd3786"
             ],
             [
              0.5555555555555556,
              "#d8576b"
             ],
             [
              0.6666666666666666,
              "#ed7953"
             ],
             [
              0.7777777777777778,
              "#fb9f3a"
             ],
             [
              0.8888888888888888,
              "#fdca26"
             ],
             [
              1,
              "#f0f921"
             ]
            ],
            "type": "contour"
           }
          ],
          "contourcarpet": [
           {
            "colorbar": {
             "outlinewidth": 0,
             "ticks": ""
            },
            "type": "contourcarpet"
           }
          ],
          "heatmap": [
           {
            "colorbar": {
             "outlinewidth": 0,
             "ticks": ""
            },
            "colorscale": [
             [
              0,
              "#0d0887"
             ],
             [
              0.1111111111111111,
              "#46039f"
             ],
             [
              0.2222222222222222,
              "#7201a8"
             ],
             [
              0.3333333333333333,
              "#9c179e"
             ],
             [
              0.4444444444444444,
              "#bd3786"
             ],
             [
              0.5555555555555556,
              "#d8576b"
             ],
             [
              0.6666666666666666,
              "#ed7953"
             ],
             [
              0.7777777777777778,
              "#fb9f3a"
             ],
             [
              0.8888888888888888,
              "#fdca26"
             ],
             [
              1,
              "#f0f921"
             ]
            ],
            "type": "heatmap"
           }
          ],
          "heatmapgl": [
           {
            "colorbar": {
             "outlinewidth": 0,
             "ticks": ""
            },
            "colorscale": [
             [
              0,
              "#0d0887"
             ],
             [
              0.1111111111111111,
              "#46039f"
             ],
             [
              0.2222222222222222,
              "#7201a8"
             ],
             [
              0.3333333333333333,
              "#9c179e"
             ],
             [
              0.4444444444444444,
              "#bd3786"
             ],
             [
              0.5555555555555556,
              "#d8576b"
             ],
             [
              0.6666666666666666,
              "#ed7953"
             ],
             [
              0.7777777777777778,
              "#fb9f3a"
             ],
             [
              0.8888888888888888,
              "#fdca26"
             ],
             [
              1,
              "#f0f921"
             ]
            ],
            "type": "heatmapgl"
           }
          ],
          "histogram": [
           {
            "marker": {
             "pattern": {
              "fillmode": "overlay",
              "size": 10,
              "solidity": 0.2
             }
            },
            "type": "histogram"
           }
          ],
          "histogram2d": [
           {
            "colorbar": {
             "outlinewidth": 0,
             "ticks": ""
            },
            "colorscale": [
             [
              0,
              "#0d0887"
             ],
             [
              0.1111111111111111,
              "#46039f"
             ],
             [
              0.2222222222222222,
              "#7201a8"
             ],
             [
              0.3333333333333333,
              "#9c179e"
             ],
             [
              0.4444444444444444,
              "#bd3786"
             ],
             [
              0.5555555555555556,
              "#d8576b"
             ],
             [
              0.6666666666666666,
              "#ed7953"
             ],
             [
              0.7777777777777778,
              "#fb9f3a"
             ],
             [
              0.8888888888888888,
              "#fdca26"
             ],
             [
              1,
              "#f0f921"
             ]
            ],
            "type": "histogram2d"
           }
          ],
          "histogram2dcontour": [
           {
            "colorbar": {
             "outlinewidth": 0,
             "ticks": ""
            },
            "colorscale": [
             [
              0,
              "#0d0887"
             ],
             [
              0.1111111111111111,
              "#46039f"
             ],
             [
              0.2222222222222222,
              "#7201a8"
             ],
             [
              0.3333333333333333,
              "#9c179e"
             ],
             [
              0.4444444444444444,
              "#bd3786"
             ],
             [
              0.5555555555555556,
              "#d8576b"
             ],
             [
              0.6666666666666666,
              "#ed7953"
             ],
             [
              0.7777777777777778,
              "#fb9f3a"
             ],
             [
              0.8888888888888888,
              "#fdca26"
             ],
             [
              1,
              "#f0f921"
             ]
            ],
            "type": "histogram2dcontour"
           }
          ],
          "mesh3d": [
           {
            "colorbar": {
             "outlinewidth": 0,
             "ticks": ""
            },
            "type": "mesh3d"
           }
          ],
          "parcoords": [
           {
            "line": {
             "colorbar": {
              "outlinewidth": 0,
              "ticks": ""
             }
            },
            "type": "parcoords"
           }
          ],
          "pie": [
           {
            "automargin": true,
            "type": "pie"
           }
          ],
          "scatter": [
           {
            "fillpattern": {
             "fillmode": "overlay",
             "size": 10,
             "solidity": 0.2
            },
            "type": "scatter"
           }
          ],
          "scatter3d": [
           {
            "line": {
             "colorbar": {
              "outlinewidth": 0,
              "ticks": ""
             }
            },
            "marker": {
             "colorbar": {
              "outlinewidth": 0,
              "ticks": ""
             }
            },
            "type": "scatter3d"
           }
          ],
          "scattercarpet": [
           {
            "marker": {
             "colorbar": {
              "outlinewidth": 0,
              "ticks": ""
             }
            },
            "type": "scattercarpet"
           }
          ],
          "scattergeo": [
           {
            "marker": {
             "colorbar": {
              "outlinewidth": 0,
              "ticks": ""
             }
            },
            "type": "scattergeo"
           }
          ],
          "scattergl": [
           {
            "marker": {
             "colorbar": {
              "outlinewidth": 0,
              "ticks": ""
             }
            },
            "type": "scattergl"
           }
          ],
          "scattermapbox": [
           {
            "marker": {
             "colorbar": {
              "outlinewidth": 0,
              "ticks": ""
             }
            },
            "type": "scattermapbox"
           }
          ],
          "scatterpolar": [
           {
            "marker": {
             "colorbar": {
              "outlinewidth": 0,
              "ticks": ""
             }
            },
            "type": "scatterpolar"
           }
          ],
          "scatterpolargl": [
           {
            "marker": {
             "colorbar": {
              "outlinewidth": 0,
              "ticks": ""
             }
            },
            "type": "scatterpolargl"
           }
          ],
          "scatterternary": [
           {
            "marker": {
             "colorbar": {
              "outlinewidth": 0,
              "ticks": ""
             }
            },
            "type": "scatterternary"
           }
          ],
          "surface": [
           {
            "colorbar": {
             "outlinewidth": 0,
             "ticks": ""
            },
            "colorscale": [
             [
              0,
              "#0d0887"
             ],
             [
              0.1111111111111111,
              "#46039f"
             ],
             [
              0.2222222222222222,
              "#7201a8"
             ],
             [
              0.3333333333333333,
              "#9c179e"
             ],
             [
              0.4444444444444444,
              "#bd3786"
             ],
             [
              0.5555555555555556,
              "#d8576b"
             ],
             [
              0.6666666666666666,
              "#ed7953"
             ],
             [
              0.7777777777777778,
              "#fb9f3a"
             ],
             [
              0.8888888888888888,
              "#fdca26"
             ],
             [
              1,
              "#f0f921"
             ]
            ],
            "type": "surface"
           }
          ],
          "table": [
           {
            "cells": {
             "fill": {
              "color": "#EBF0F8"
             },
             "line": {
              "color": "white"
             }
            },
            "header": {
             "fill": {
              "color": "#C8D4E3"
             },
             "line": {
              "color": "white"
             }
            },
            "type": "table"
           }
          ]
         },
         "layout": {
          "annotationdefaults": {
           "arrowcolor": "#2a3f5f",
           "arrowhead": 0,
           "arrowwidth": 1
          },
          "autotypenumbers": "strict",
          "coloraxis": {
           "colorbar": {
            "outlinewidth": 0,
            "ticks": ""
           }
          },
          "colorscale": {
           "diverging": [
            [
             0,
             "#8e0152"
            ],
            [
             0.1,
             "#c51b7d"
            ],
            [
             0.2,
             "#de77ae"
            ],
            [
             0.3,
             "#f1b6da"
            ],
            [
             0.4,
             "#fde0ef"
            ],
            [
             0.5,
             "#f7f7f7"
            ],
            [
             0.6,
             "#e6f5d0"
            ],
            [
             0.7,
             "#b8e186"
            ],
            [
             0.8,
             "#7fbc41"
            ],
            [
             0.9,
             "#4d9221"
            ],
            [
             1,
             "#276419"
            ]
           ],
           "sequential": [
            [
             0,
             "#0d0887"
            ],
            [
             0.1111111111111111,
             "#46039f"
            ],
            [
             0.2222222222222222,
             "#7201a8"
            ],
            [
             0.3333333333333333,
             "#9c179e"
            ],
            [
             0.4444444444444444,
             "#bd3786"
            ],
            [
             0.5555555555555556,
             "#d8576b"
            ],
            [
             0.6666666666666666,
             "#ed7953"
            ],
            [
             0.7777777777777778,
             "#fb9f3a"
            ],
            [
             0.8888888888888888,
             "#fdca26"
            ],
            [
             1,
             "#f0f921"
            ]
           ],
           "sequentialminus": [
            [
             0,
             "#0d0887"
            ],
            [
             0.1111111111111111,
             "#46039f"
            ],
            [
             0.2222222222222222,
             "#7201a8"
            ],
            [
             0.3333333333333333,
             "#9c179e"
            ],
            [
             0.4444444444444444,
             "#bd3786"
            ],
            [
             0.5555555555555556,
             "#d8576b"
            ],
            [
             0.6666666666666666,
             "#ed7953"
            ],
            [
             0.7777777777777778,
             "#fb9f3a"
            ],
            [
             0.8888888888888888,
             "#fdca26"
            ],
            [
             1,
             "#f0f921"
            ]
           ]
          },
          "colorway": [
           "#636efa",
           "#EF553B",
           "#00cc96",
           "#ab63fa",
           "#FFA15A",
           "#19d3f3",
           "#FF6692",
           "#B6E880",
           "#FF97FF",
           "#FECB52"
          ],
          "font": {
           "color": "#2a3f5f"
          },
          "geo": {
           "bgcolor": "white",
           "lakecolor": "white",
           "landcolor": "#E5ECF6",
           "showlakes": true,
           "showland": true,
           "subunitcolor": "white"
          },
          "hoverlabel": {
           "align": "left"
          },
          "hovermode": "closest",
          "mapbox": {
           "style": "light"
          },
          "paper_bgcolor": "white",
          "plot_bgcolor": "#E5ECF6",
          "polar": {
           "angularaxis": {
            "gridcolor": "white",
            "linecolor": "white",
            "ticks": ""
           },
           "bgcolor": "#E5ECF6",
           "radialaxis": {
            "gridcolor": "white",
            "linecolor": "white",
            "ticks": ""
           }
          },
          "scene": {
           "xaxis": {
            "backgroundcolor": "#E5ECF6",
            "gridcolor": "white",
            "gridwidth": 2,
            "linecolor": "white",
            "showbackground": true,
            "ticks": "",
            "zerolinecolor": "white"
           },
           "yaxis": {
            "backgroundcolor": "#E5ECF6",
            "gridcolor": "white",
            "gridwidth": 2,
            "linecolor": "white",
            "showbackground": true,
            "ticks": "",
            "zerolinecolor": "white"
           },
           "zaxis": {
            "backgroundcolor": "#E5ECF6",
            "gridcolor": "white",
            "gridwidth": 2,
            "linecolor": "white",
            "showbackground": true,
            "ticks": "",
            "zerolinecolor": "white"
           }
          },
          "shapedefaults": {
           "line": {
            "color": "#2a3f5f"
           }
          },
          "ternary": {
           "aaxis": {
            "gridcolor": "white",
            "linecolor": "white",
            "ticks": ""
           },
           "baxis": {
            "gridcolor": "white",
            "linecolor": "white",
            "ticks": ""
           },
           "bgcolor": "#E5ECF6",
           "caxis": {
            "gridcolor": "white",
            "linecolor": "white",
            "ticks": ""
           }
          },
          "title": {
           "x": 0.05
          },
          "xaxis": {
           "automargin": true,
           "gridcolor": "white",
           "linecolor": "white",
           "ticks": "",
           "title": {
            "standoff": 15
           },
           "zerolinecolor": "white",
           "zerolinewidth": 2
          },
          "yaxis": {
           "automargin": true,
           "gridcolor": "white",
           "linecolor": "white",
           "ticks": "",
           "title": {
            "standoff": 15
           },
           "zerolinecolor": "white",
           "zerolinewidth": 2
          }
         }
        },
        "width": 2000,
        "xaxis": {
         "anchor": "y",
         "domain": [
          0,
          0.2888888888888889
         ]
        },
        "xaxis2": {
         "anchor": "y2",
         "domain": [
          0.35555555555555557,
          0.6444444444444445
         ]
        },
        "xaxis3": {
         "anchor": "y3",
         "domain": [
          0.7111111111111111,
          1
         ]
        },
        "yaxis": {
         "anchor": "x",
         "domain": [
          0,
          1
         ]
        },
        "yaxis2": {
         "anchor": "x2",
         "domain": [
          0,
          1
         ]
        },
        "yaxis3": {
         "anchor": "x3",
         "domain": [
          0,
          1
         ]
        }
       }
      }
     },
     "metadata": {},
     "output_type": "display_data"
    }
   ],
   "source": [
    "env.render(jnb=True)"
   ]
  },
  {
   "cell_type": "code",
   "execution_count": 10,
   "metadata": {},
   "outputs": [
    {
     "data": {
      "text/plain": [
       "False"
      ]
     },
     "execution_count": 10,
     "metadata": {},
     "output_type": "execute_result"
    }
   ],
   "source": [
    "env.record_fbins"
   ]
  },
  {
   "cell_type": "code",
   "execution_count": 13,
   "metadata": {},
   "outputs": [
    {
     "ename": "WebSocketTimeoutException",
     "evalue": "110",
     "output_type": "error",
     "traceback": [
      "\u001b[0;31m---------------------------------------------------------------------------\u001b[0m",
      "\u001b[0;31mTimeoutError\u001b[0m                              Traceback (most recent call last)",
      "File \u001b[0;32m~/.local/lib/python3.10/site-packages/websocket/_socket.py:176\u001b[0m, in \u001b[0;36msend\u001b[0;34m(sock, data)\u001b[0m\n\u001b[1;32m    175\u001b[0m     \u001b[38;5;28;01melse\u001b[39;00m:\n\u001b[0;32m--> 176\u001b[0m         \u001b[38;5;28;01mreturn\u001b[39;00m \u001b[43m_send\u001b[49m\u001b[43m(\u001b[49m\u001b[43m)\u001b[49m\n\u001b[1;32m    177\u001b[0m \u001b[38;5;28;01mexcept\u001b[39;00m socket\u001b[38;5;241m.\u001b[39mtimeout \u001b[38;5;28;01mas\u001b[39;00m e:\n",
      "File \u001b[0;32m~/.local/lib/python3.10/site-packages/websocket/_socket.py:153\u001b[0m, in \u001b[0;36msend.<locals>._send\u001b[0;34m()\u001b[0m\n\u001b[1;32m    152\u001b[0m \u001b[38;5;28;01mtry\u001b[39;00m:\n\u001b[0;32m--> 153\u001b[0m     \u001b[38;5;28;01mreturn\u001b[39;00m \u001b[43msock\u001b[49m\u001b[38;5;241;43m.\u001b[39;49m\u001b[43msend\u001b[49m\u001b[43m(\u001b[49m\u001b[43mdata\u001b[49m\u001b[43m)\u001b[49m\n\u001b[1;32m    154\u001b[0m \u001b[38;5;28;01mexcept\u001b[39;00m SSLWantWriteError:\n",
      "\u001b[0;31mTimeoutError\u001b[0m: [Errno 110] Connection timed out",
      "\nDuring handling of the above exception, another exception occurred:\n",
      "\u001b[0;31mWebSocketTimeoutException\u001b[0m                 Traceback (most recent call last)",
      "Cell \u001b[0;32mIn[13], line 1\u001b[0m\n\u001b[0;32m----> 1\u001b[0m \u001b[43menv\u001b[49m\u001b[38;5;241;43m.\u001b[39;49m\u001b[43mclose\u001b[49m\u001b[43m(\u001b[49m\u001b[43m)\u001b[49m\n",
      "File \u001b[0;32m~/Documents/PlatformIO/Projects/SFSystem_withAV/RLSystem.py:903\u001b[0m, in \u001b[0;36mSFSystemCommunicator.close\u001b[0;34m(self, clear_log)\u001b[0m\n\u001b[1;32m    901\u001b[0m         \u001b[38;5;28mself\u001b[39m\u001b[38;5;241m.\u001b[39mwrite_tolog(json\u001b[38;5;241m.\u001b[39mdumps({\u001b[38;5;124m'\u001b[39m\u001b[38;5;124mBest action across episodes reward\u001b[39m\u001b[38;5;124m'\u001b[39m:\u001b[38;5;28mself\u001b[39m\u001b[38;5;241m.\u001b[39moverall_max_reward}))\n\u001b[1;32m    902\u001b[0m         \u001b[38;5;28mself\u001b[39m\u001b[38;5;241m.\u001b[39mwrite_tolog(actionstring)\n\u001b[0;32m--> 903\u001b[0m \u001b[38;5;28;43mself\u001b[39;49m\u001b[38;5;241;43m.\u001b[39;49m\u001b[43mstop_audiovis_feedback\u001b[49m\u001b[43m(\u001b[49m\u001b[43m)\u001b[49m \u001b[38;5;66;03m#just in case\u001b[39;00m\n\u001b[1;32m    904\u001b[0m \u001b[38;5;28mself\u001b[39m\u001b[38;5;241m.\u001b[39mws_sf\u001b[38;5;241m.\u001b[39msend(\u001b[38;5;124m\"\u001b[39m\u001b[38;5;124mstop_data_transfer_from_ads\u001b[39m\u001b[38;5;124m\"\u001b[39m) \u001b[38;5;66;03m#just in case\u001b[39;00m\n\u001b[1;32m    905\u001b[0m \u001b[38;5;28;01mif\u001b[39;00m \u001b[38;5;28mself\u001b[39m\u001b[38;5;241m.\u001b[39muse_neuroplay:\n",
      "File \u001b[0;32m~/Documents/PlatformIO/Projects/SFSystem_withAV/RLSystem.py:582\u001b[0m, in \u001b[0;36mSFSystemCommunicator.stop_audiovis_feedback\u001b[0;34m(self)\u001b[0m\n\u001b[1;32m    581\u001b[0m \u001b[38;5;28;01mdef\u001b[39;00m \u001b[38;5;21mstop_audiovis_feedback\u001b[39m(\u001b[38;5;28mself\u001b[39m):\n\u001b[0;32m--> 582\u001b[0m     \u001b[38;5;28;43mself\u001b[39;49m\u001b[38;5;241;43m.\u001b[39;49m\u001b[43mws_sf\u001b[49m\u001b[38;5;241;43m.\u001b[39;49m\u001b[43msend\u001b[49m\u001b[43m(\u001b[49m\u001b[38;5;124;43m\"\u001b[39;49m\u001b[38;5;124;43mstop_led_cycle\u001b[39;49m\u001b[38;5;124;43m\"\u001b[39;49m\u001b[43m)\u001b[49m\n",
      "File \u001b[0;32m~/.local/lib/python3.10/site-packages/websocket/_core.py:297\u001b[0m, in \u001b[0;36mWebSocket.send\u001b[0;34m(self, payload, opcode)\u001b[0m\n\u001b[1;32m    283\u001b[0m \u001b[38;5;250m\u001b[39m\u001b[38;5;124;03m\"\"\"\u001b[39;00m\n\u001b[1;32m    284\u001b[0m \u001b[38;5;124;03mSend the data as string.\u001b[39;00m\n\u001b[1;32m    285\u001b[0m \n\u001b[0;32m   (...)\u001b[0m\n\u001b[1;32m    293\u001b[0m \u001b[38;5;124;03m    Operation code (opcode) to send.\u001b[39;00m\n\u001b[1;32m    294\u001b[0m \u001b[38;5;124;03m\"\"\"\u001b[39;00m\n\u001b[1;32m    296\u001b[0m frame \u001b[38;5;241m=\u001b[39m ABNF\u001b[38;5;241m.\u001b[39mcreate_frame(payload, opcode)\n\u001b[0;32m--> 297\u001b[0m \u001b[38;5;28;01mreturn\u001b[39;00m \u001b[38;5;28;43mself\u001b[39;49m\u001b[38;5;241;43m.\u001b[39;49m\u001b[43msend_frame\u001b[49m\u001b[43m(\u001b[49m\u001b[43mframe\u001b[49m\u001b[43m)\u001b[49m\n",
      "File \u001b[0;32m~/.local/lib/python3.10/site-packages/websocket/_core.py:337\u001b[0m, in \u001b[0;36mWebSocket.send_frame\u001b[0;34m(self, frame)\u001b[0m\n\u001b[1;32m    335\u001b[0m \u001b[38;5;28;01mwith\u001b[39;00m \u001b[38;5;28mself\u001b[39m\u001b[38;5;241m.\u001b[39mlock:\n\u001b[1;32m    336\u001b[0m     \u001b[38;5;28;01mwhile\u001b[39;00m data:\n\u001b[0;32m--> 337\u001b[0m         l \u001b[38;5;241m=\u001b[39m \u001b[38;5;28;43mself\u001b[39;49m\u001b[38;5;241;43m.\u001b[39;49m\u001b[43m_send\u001b[49m\u001b[43m(\u001b[49m\u001b[43mdata\u001b[49m\u001b[43m)\u001b[49m\n\u001b[1;32m    338\u001b[0m         data \u001b[38;5;241m=\u001b[39m data[l:]\n\u001b[1;32m    340\u001b[0m \u001b[38;5;28;01mreturn\u001b[39;00m length\n",
      "File \u001b[0;32m~/.local/lib/python3.10/site-packages/websocket/_core.py:559\u001b[0m, in \u001b[0;36mWebSocket._send\u001b[0;34m(self, data)\u001b[0m\n\u001b[1;32m    558\u001b[0m \u001b[38;5;28;01mdef\u001b[39;00m \u001b[38;5;21m_send\u001b[39m(\u001b[38;5;28mself\u001b[39m, data: Union[\u001b[38;5;28mstr\u001b[39m, \u001b[38;5;28mbytes\u001b[39m]):\n\u001b[0;32m--> 559\u001b[0m     \u001b[38;5;28;01mreturn\u001b[39;00m \u001b[43msend\u001b[49m\u001b[43m(\u001b[49m\u001b[38;5;28;43mself\u001b[39;49m\u001b[38;5;241;43m.\u001b[39;49m\u001b[43msock\u001b[49m\u001b[43m,\u001b[49m\u001b[43m \u001b[49m\u001b[43mdata\u001b[49m\u001b[43m)\u001b[49m\n",
      "File \u001b[0;32m~/.local/lib/python3.10/site-packages/websocket/_socket.py:179\u001b[0m, in \u001b[0;36msend\u001b[0;34m(sock, data)\u001b[0m\n\u001b[1;32m    177\u001b[0m \u001b[38;5;28;01mexcept\u001b[39;00m socket\u001b[38;5;241m.\u001b[39mtimeout \u001b[38;5;28;01mas\u001b[39;00m e:\n\u001b[1;32m    178\u001b[0m     message \u001b[38;5;241m=\u001b[39m extract_err_message(e)\n\u001b[0;32m--> 179\u001b[0m     \u001b[38;5;28;01mraise\u001b[39;00m WebSocketTimeoutException(message)\n\u001b[1;32m    180\u001b[0m \u001b[38;5;28;01mexcept\u001b[39;00m \u001b[38;5;167;01mException\u001b[39;00m \u001b[38;5;28;01mas\u001b[39;00m e:\n\u001b[1;32m    181\u001b[0m     message \u001b[38;5;241m=\u001b[39m extract_err_message(e)\n",
      "\u001b[0;31mWebSocketTimeoutException\u001b[0m: 110"
     ]
    }
   ],
   "source": [
    "env.close()"
   ]
  },
  {
   "cell_type": "code",
   "execution_count": 48,
   "metadata": {},
   "outputs": [
    {
     "name": "stdout",
     "output_type": "stream",
     "text": [
      "EDF log started:\n",
      "/home/biorp/Documents/PlatformIO/Projects/SFSystem_withAV/default_edf/default_edf\n"
     ]
    },
    {
     "name": "stderr",
     "output_type": "stream",
     "text": [
      "STOP ON START\n",
      "\"10:20:58.780 1711524058780\\tDevice\\tNeuroPlay-8K (1056)\\r\\n\"\n",
      "\"10:20:58.780 1711524058780\\tDate\\t2024-03-27T10:20:58.780\\r\\n\"\n",
      "\"10:20:58.780 1711524058780\\tTimestamp\\t1711524058780\\r\\n\"\n",
      "\"10:20:58.780 1711524058780\\tFrequency\\t125\\r\\n\"\n",
      "\"10:20:58.780 1711524058780\\tChannels\\tO1,P3,C3,F3,F4,C4,P4,O2\\r\\n\"\n",
      "\"10:20:58.780 1711524058780\\tChannelCount\\t8\\r\\n\"\n",
      "\"10:20:58.780 1711524058780\\tHPF\\t2\\r\\n\"\n",
      "\"10:20:58.780 1711524058780\\tLPF\\t40\\r\\n\"\n",
      "\"10:20:58.780 1711524058780\\tBSF\\t50\\r\\n\"\n",
      "\"10:20:58.780 1711524058780\\tBSF2\\t50\\r\\n\"\n",
      "\"10:20:58.780 1711524058780\\tMeditationChannels\\tO1,O2\\r\\n\"\n",
      "\"10:20:58.780 1711524058780\\tMeditationTopThresholdHistory\\t100\\r\\n\"\n",
      "\"10:20:58.780 1711524058780\\tMeditationLowThresholdHistory\\t1000\\r\\n\"\n",
      "\"10:20:58.780 1711524058780\\tMeditationSmoothing\\t16\\r\\n\"\n",
      "\"10:20:58.780 1711524058780\\tConcentrationChannels\\tF3,F4,Fp1,Fp2\\r\\n\"\n",
      "\"10:20:58.780 1711524058780\\tConcentrationTopThresholdHistory\\t100\\r\\n\"\n",
      "\"10:20:58.780 1711524058780\\tConcentrationLowThresholdHistory\\t1000\\r\\n\"\n",
      "\"10:20:58.780 1711524058780\\tConcentrationSmoothing\\t16\\r\\n\"\n",
      "\"10:20:58.780 1711524058780\\tOS\\t\\r\\n\"\n",
      "\"10:20:58.780 1711524058780\\tOSversion\\t-1.-1.-1\\r\\n\"\n",
      "\"10:20:58.780 1711524058780\\tVersion\\t1.10.1\\r\\n\"\n"
     ]
    }
   ],
   "source": [
    "trainer=RLSystem.stable_baselines_model_trainer(initialized_environment=env,\n",
    "                                                          algorithm='A2C',\n",
    "                                                          policy='MlpPolicy',\n",
    "                                                          logfn='model_stats.log',\n",
    "                                                          n_steps_per_timestep=2)"
   ]
  },
  {
   "cell_type": "code",
   "execution_count": 49,
   "metadata": {},
   "outputs": [],
   "source": [
    "sd2={'num_episodes': 2,\n",
    " 'log_model': False,\n",
    " 'n_total_timesteps': 'episode',\n",
    " 'log_or_plot_every_n_timesteps': 1,\n",
    " 'jnb': False}"
   ]
  },
  {
   "cell_type": "code",
   "execution_count": 34,
   "metadata": {},
   "outputs": [
    {
     "name": "stderr",
     "output_type": "stream",
     "text": [
      "Sync request finished\n",
      "Unsynced 0\n",
      "\"08:14:35.964 UNSYNCED RECORDS 2\"\n"
     ]
    }
   ],
   "source": [
    "#env.ws_np.send('RawData')\n",
    "#np.array(json.loads(env.ws_np.recv())['data'])\n",
    "\n"
   ]
  },
  {
   "cell_type": "code",
   "execution_count": null,
   "metadata": {},
   "outputs": [],
   "source": []
  },
  {
   "cell_type": "code",
   "execution_count": 42,
   "metadata": {},
   "outputs": [
    {
     "data": {
      "text/plain": [
       "(500, 1)"
      ]
     },
     "execution_count": 42,
     "metadata": {},
     "output_type": "execute_result"
    }
   ],
   "source": [
    "trainer.env.new_observations_tarchs['raw_data'].shape"
   ]
  },
  {
   "cell_type": "code",
   "execution_count": 50,
   "metadata": {},
   "outputs": [
    {
     "name": "stdout",
     "output_type": "stream",
     "text": [
      "/home/biorp/Documents/PlatformIO/Projects/SFSystem_withAV/default_edf/default_edf\n",
      "[255, 0, 0, 0, 117, 0, 0, 0, 255, 255, 255, 255, 0, 255, 255, 255, 0, 255, 255, 72, 0, 255, 0, 0, 10, 440, 440, 1, 2, 10, 1, 30, 10, 1, 30, 10, 0, 0]\n",
      "255,0,0,0,117,0,0,0,255,255,255,255,0,255,255,255,0,255,255,72,0,255,0,0,10,440,440,1,2,10,1,30,10,1,30,10,0,0\n"
     ]
    },
    {
     "name": "stderr",
     "output_type": "stream",
     "text": [
      "\"10:21:05.596 1711524065596\\tAnnotation\\tstarted_training_run\\r\\n\"\n",
      "\"10:21:05.625 1711524065625\\tAnnotation\\tt_episode_0\\r\\n\"\n"
     ]
    },
    {
     "name": "stdout",
     "output_type": "stream",
     "text": [
      "sampled from np\n",
      "sampled from sf\n",
      "[255.0, 255.0, 10.0, 68.19579750299454, 134.11106199026108, 239.16383147239685, 255.0, 156.68764472007751, 162.88412123918533, 240.18126130104065, 10.0, 10.0, 121.29624620079994, 116.93091556429863, 175.5785122513771, 197.4024200439453, 255.0, 178.9051216840744, 10.0, 45.024545788764954, 255.0, 10.0, 10.0, 54.120139479637146, 501.9308457374573, 30000.0, 1.0, 43.36532127857208, 2.410670757293701, 15.916010200977325, 31.9236341714859, 44.790786147117615, 33.212477922439575, 28.431299567222595, 12.001437544822693, 20.047853887081146, 0.0, 2.4173187017440796]\n",
      "255,255,10,68,134,239,255,156,162,240,10,10,121,116,175,197,255,178,10,45,255,10,10,54,501,30000,1,43,2,15,31,44,33,28,12,20,0,2\n"
     ]
    },
    {
     "name": "stderr",
     "output_type": "stream",
     "text": [
      "\"10:21:21.848 1711524081848\\tAnnotation\\tepisode_0_step_0\\r\\n\"\n"
     ]
    },
    {
     "name": "stdout",
     "output_type": "stream",
     "text": [
      "sampled from np\n",
      "sampled from sf\n",
      "[175.56279927492142, 127.25158840417862, 10.0, 255.0, 165.6518393754959, 208.50861757993698, 163.69062334299088, 255.0, 10.0, 23.780514001846313, 114.61302518844604, 171.68801724910736, 10.0, 195.2032458782196, 91.6145870089531, 10.0, 255.0, 255.0, 113.89786571264267, 10.0, 138.70921045541763, 10.0, 10.0, 123.6120118200779, 1.0, 6461.6861354112625, 1.0, 3.6406153440475464, 5.0, 1.0, 13.097344636917114, 50.0, 43.83732682466507, 50.0, 29.921687066555023, 0.0, 3.0, 3.0]\n",
      "175,127,10,255,165,208,163,255,10,23,114,171,10,195,91,10,255,255,113,10,138,10,10,123,1,6461,1,3,5,1,13,50,43,50,29,0,3,3\n"
     ]
    },
    {
     "name": "stderr",
     "output_type": "stream",
     "text": [
      "\"10:21:38.040 1711524098040\\tAnnotation\\tsr_0.0_tcer_242.0\\r\\n\"\n",
      "\"10:21:38.069 1711524098069\\tAnnotation\\ttemr_242.0\\r\\n\"\n",
      "\"10:21:38.140 1711524098139\\tAnnotation\\tepisode_0_step_1\\r\\n\"\n"
     ]
    },
    {
     "name": "stdout",
     "output_type": "stream",
     "text": [
      "sampled from np\n",
      "sampled from sf\n",
      "[255, 0, 0, 0, 117, 0, 0, 0, 255, 255, 255, 255, 0, 255, 255, 255, 0, 255, 255, 72, 0, 255, 0, 0, 10, 440, 440, 1, 2, 10, 1, 30, 10, 1, 30, 10, 0, 0]\n",
      "255,0,0,0,117,0,0,0,255,255,255,255,0,255,255,255,0,255,255,72,0,255,0,0,10,440,440,1,2,10,1,30,10,1,30,10,0,0\n"
     ]
    },
    {
     "name": "stderr",
     "output_type": "stream",
     "text": [
      "\"10:21:54.383 1711524114383\\tAnnotation\\tsr_0.0_tcer_242.0\\r\\n\"\n",
      "\"10:21:54.414 1711524114414\\tAnnotation\\ttemr_242.0\\r\\n\"\n",
      "\"10:21:54.505 1711524114505\\tAnnotation\\tt_episode_1\\r\\n\"\n"
     ]
    },
    {
     "name": "stdout",
     "output_type": "stream",
     "text": [
      "sampled from np\n",
      "sampled from sf\n",
      "[145.09320586919785, 39.4149985909462, 120.16132682561874, 83.90413016080856, 255.0, 10.0, 121.60285368561745, 110.42011380195618, 10.0, 182.08299815654755, 198.52391183376312, 186.4233136177063, 197.27655559778214, 165.4340335726738, 144.9471452832222, 171.19856387376785, 91.54131576418877, 99.28222015500069, 10.0, 145.32279640436172, 10.0, 117.9022578895092, 10.0, 41.599292159080505, 8376.084400177002, 30000.0, 30000.0, 32.35554826259613, 4.422459602355957, 28.89068216085434, 41.44115924835205, 1.8589843213558197, 28.78083735704422, 38.15442222356796, 40.69417953491211, 10.635267198085785, 3.0, 0.4382151961326599]\n",
      "145,39,120,83,255,10,121,110,10,182,198,186,197,165,144,171,91,99,10,145,10,117,10,41,8376,30000,30000,32,4,28,41,1,28,38,40,10,3,0\n"
     ]
    },
    {
     "name": "stderr",
     "output_type": "stream",
     "text": [
      "\"10:22:10.603 1711524130603\\tAnnotation\\tepisode_0_step_0\\r\\n\"\n"
     ]
    },
    {
     "name": "stdout",
     "output_type": "stream",
     "text": [
      "sampled from np\n",
      "sampled from sf\n",
      "[10.0, 87.80001372098923, 255.0, 80.46558767557144, 234.59337055683136, 22.853711247444153, 109.80389058589935, 235.35171151161194, 221.57557845115662, 10.0, 52.829119861125946, 132.9259443283081, 76.55978858470917, 96.49296969175339, 167.36649602651596, 22.956531941890717, 192.60420858860016, 11.037983745336533, 79.75543707609177, 10.0, 129.54787343740463, 10.0, 136.72258496284485, 178.24798047542572, 1.0, 3664.630549967289, 21800.36698102951, 1.0, 3.4127109050750732, 16.076527893543243, 37.51868337392807, 35.975406229496, 37.282705426216125, 49.7136207818985, 38.61705839633942, 0.0, 0.35147005319595337, 0.32692766189575195]\n",
      "10,87,255,80,234,22,109,235,221,10,52,132,76,96,167,22,192,11,79,10,129,10,136,178,1,3664,21800,1,3,16,37,35,37,49,38,0,0,0\n"
     ]
    },
    {
     "name": "stderr",
     "output_type": "stream",
     "text": [
      "\"10:22:26.773 1711524146773\\tAnnotation\\tsr_0.0_tcer_0.0\\r\\n\"\n",
      "\"10:22:26.856 1711524146856\\tAnnotation\\tepisode_0_step_1\\r\\n\"\n"
     ]
    },
    {
     "name": "stdout",
     "output_type": "stream",
     "text": [
      "sampled from np\n",
      "sampled from sf\n"
     ]
    },
    {
     "name": "stderr",
     "output_type": "stream",
     "text": [
      "\"10:22:42.967 1711524162967\\tAnnotation\\tsr_0.0_tcer_0.0\\r\\n\"\n",
      "\"10:22:43.061 1711524163061\\tRECORD_PAUSE\\t\\r\\n\"\n"
     ]
    }
   ],
   "source": [
    "trainer.train(num_episodes=sd2['num_episodes'], log_model=sd2['log_model'],n_total_timesteps=1, #sd2['n_total_timesteps'],\n",
    "                 log_or_plot_every_n_timesteps=sd2['log_or_plot_every_n_timesteps'], jnb=False, pause_on_click=True)"
   ]
  },
  {
   "cell_type": "code",
   "execution_count": 51,
   "metadata": {},
   "outputs": [
    {
     "name": "stderr",
     "output_type": "stream",
     "text": [
      "STOP ON WEB COMMAND\n",
      "\"10:23:01.895 1711524181895\\tStopRecord\\t\\r\\n\"\n",
      "QObject: Cannot create children for a parent that is in a different thread.\n",
      "(Parent is QLowEnergyControllerPrivateBluezDBus(0x7421a8049030), parent's thread is QThread(0x56f7ef149bd0), current thread is QThread(0x56f7ee65da40)\n",
      "STOPPED \"NeuroPlay-8K (1056)\" in 52 ms\n",
      "QObject: Cannot create children for a parent that is in a different thread.\n",
      "(Parent is QLowEnergyControllerPrivateBluezDBus(0x7421a8049030), parent's thread is QThread(0x56f7ef149bd0), current thread is QThread(0x56f7ee65da40)\n",
      "qt.bluetooth.bluez: Low Energy Controller is not Unconnected when deleted. Deleted in state: QLowEnergyController::ClosingState\n",
      "Destroy BV\n",
      "Destroy BV2\n",
      "Destroy BV\n",
      "Destroy BV2\n",
      "Release of profile requested but WebEnginePage still not deleted. Expect troubles !\n",
      "Release of profile requested but WebEnginePage still not deleted. Expect troubles !\n"
     ]
    }
   ],
   "source": [
    "trainer.close_env()"
   ]
  },
  {
   "cell_type": "code",
   "execution_count": null,
   "metadata": {},
   "outputs": [],
   "source": []
  },
  {
   "cell_type": "code",
   "execution_count": null,
   "metadata": {},
   "outputs": [],
   "source": []
  }
 ],
 "metadata": {
  "kernelspec": {
   "display_name": "Python 3",
   "language": "python",
   "name": "python3"
  },
  "language_info": {
   "codemirror_mode": {
    "name": "ipython",
    "version": 3
   },
   "file_extension": ".py",
   "mimetype": "text/x-python",
   "name": "python",
   "nbconvert_exporter": "python",
   "pygments_lexer": "ipython3",
   "version": "3.10.12"
  }
 },
 "nbformat": 4,
 "nbformat_minor": 2
}
