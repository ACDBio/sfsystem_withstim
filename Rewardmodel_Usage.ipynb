{
 "cells": [
  {
   "cell_type": "code",
   "execution_count": 205,
   "metadata": {},
   "outputs": [
    {
     "data": {
      "text/plain": [
       "<module 'EEGModLoaders' from '/home/biorp/Documents/PlatformIO/Projects/SFSystem_withAV/EEGModLoaders.py'>"
      ]
     },
     "execution_count": 205,
     "metadata": {},
     "output_type": "execute_result"
    }
   ],
   "source": [
    "import EEGModLoaders\n",
    "from importlib import reload\n",
    "import os \n",
    "import pandas as pd\n",
    "import numpy as np\n",
    "import matplotlib.pyplot as plt\n",
    "reload(EEGModLoaders)"
   ]
  },
  {
   "cell_type": "code",
   "execution_count": null,
   "metadata": {},
   "outputs": [],
   "source": [
    "#model name structure\n",
    "#f'CLASSIFIER_{name}_{dataset}_min_{min}_max_{max}_wi_{window_init}_wa_{win}_ns_{n_samples}_tstroc_{roc_auc}.joblib'"
   ]
  },
  {
   "cell_type": "code",
   "execution_count": 210,
   "metadata": {},
   "outputs": [],
   "source": [
    "mpath='/mnt/15db7227-8d00-439f-99a4-f3adb340ef58/CODE/2024/OWNPROJ/EEG_analysis/CLASSIFIER_LogisticRegression_l1_haagladen_20_slowwaves_rawframes_min_100_max_350_wi_150_wa_150_ns_500_tstroc_0.73178616_thresh_0.70.joblib'\n",
    "spath='/mnt/15db7227-8d00-439f-99a4-f3adb340ef58/CODE/2024/OWNPROJ/EEG_analysis/STATS_LogisticRegression_l1_haagladen_20_slowwaves_rawframes_min_100_max_350_wi_150_wa_150_ns_500_thresh_0.70.pkl'\n",
    "inputdescr='CHANNELS_np_C3,np_P3_SF_100_WIN_150_DATA_SCALO_scalomagn_lf1_uf40_nscales32_ww1'"
   ]
  },
  {
   "cell_type": "code",
   "execution_count": 211,
   "metadata": {},
   "outputs": [
    {
     "name": "stdout",
     "output_type": "stream",
     "text": [
      "model data processed\n"
     ]
    }
   ],
   "source": [
    "eegml=EEGModLoaders.SklearnEEGModelReader(modelpath=mpath, statspath=spath, inputdescr=inputdescr, apply_chans_sep=True, \n",
    "voting='max', \n",
    "predtype='optithresh', \n",
    "customthresh=0.5)"
   ]
  },
  {
   "cell_type": "code",
   "execution_count": 198,
   "metadata": {},
   "outputs": [
    {
     "name": "stdout",
     "output_type": "stream",
     "text": [
      "model data processed\n"
     ]
    }
   ],
   "source": [
    "eegml=EEGModLoaders.SklearnEEGModelReader(modelpath=mpath, statspath=spath, inputdescr=inputdescr, apply_chans_sep=True, \n",
    "voting='max', \n",
    "predtype='customthresh', \n",
    "customthresh=0.01)"
   ]
  },
  {
   "cell_type": "code",
   "execution_count": 206,
   "metadata": {},
   "outputs": [
    {
     "name": "stdout",
     "output_type": "stream",
     "text": [
      "model data processed\n"
     ]
    }
   ],
   "source": [
    "eegml=EEGModLoaders.SklearnEEGModelReader(modelpath=mpath, statspath=spath, inputdescr=inputdescr, apply_chans_sep=True, \n",
    "voting='max', \n",
    "predtype='defaultthresh', \n",
    "customthresh=0.01)"
   ]
  },
  {
   "cell_type": "code",
   "execution_count": 207,
   "metadata": {},
   "outputs": [
    {
     "name": "stdout",
     "output_type": "stream",
     "text": [
      "0.73178616\n",
      "              precision    recall  f1-score   support\n",
      "\n",
      "           0       0.67      0.67      0.67      2500\n",
      "           1       0.67      0.68      0.67      2500\n",
      "\n",
      "    accuracy                           0.67      5000\n",
      "   macro avg       0.67      0.67      0.67      5000\n",
      "weighted avg       0.67      0.67      0.67      5000\n",
      "\n",
      "[[1681  819]\n",
      " [ 810 1690]]\n"
     ]
    }
   ],
   "source": [
    "eegml.print_model_stats()"
   ]
  },
  {
   "cell_type": "code",
   "execution_count": 212,
   "metadata": {},
   "outputs": [
    {
     "data": {
      "text/plain": [
       "(500, 17)"
      ]
     },
     "execution_count": 212,
     "metadata": {},
     "output_type": "execute_result"
    }
   ],
   "source": [
    "import json\n",
    "with open('/home/biorp/Documents/PlatformIO/Projects/SFSystem_withAV/session_lib/default_session/current_training.log', 'rb') as f:\n",
    "    data=f.readlines()\n",
    "log=np.array(json.loads(data[8])['raw_data'])\n",
    "log.shape"
   ]
  },
  {
   "cell_type": "code",
   "execution_count": 217,
   "metadata": {},
   "outputs": [
    {
     "data": {
      "text/plain": [
       "0"
      ]
     },
     "execution_count": 217,
     "metadata": {},
     "output_type": "execute_result"
    }
   ],
   "source": [
    "eegml.predict(log, verb=False)"
   ]
  },
  {
   "cell_type": "code",
   "execution_count": 214,
   "metadata": {},
   "outputs": [
    {
     "data": {
      "text/plain": [
       "[0, 0]"
      ]
     },
     "execution_count": 214,
     "metadata": {},
     "output_type": "execute_result"
    }
   ],
   "source": [
    "eegml.allcurpreds"
   ]
  },
  {
   "cell_type": "code",
   "execution_count": null,
   "metadata": {},
   "outputs": [],
   "source": []
  }
 ],
 "metadata": {
  "kernelspec": {
   "display_name": "Python 3",
   "language": "python",
   "name": "python3"
  },
  "language_info": {
   "codemirror_mode": {
    "name": "ipython",
    "version": 3
   },
   "file_extension": ".py",
   "mimetype": "text/x-python",
   "name": "python",
   "nbconvert_exporter": "python",
   "pygments_lexer": "ipython3",
   "version": "3.10.12"
  }
 },
 "nbformat": 4,
 "nbformat_minor": 2
}
