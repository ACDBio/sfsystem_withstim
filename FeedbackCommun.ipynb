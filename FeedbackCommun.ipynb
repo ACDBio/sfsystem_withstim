{
 "cells": [
  {
   "cell_type": "code",
   "execution_count": 12,
   "metadata": {},
   "outputs": [],
   "source": [
    "import websocket\n",
    "import json\n",
    "import gym\n",
    "from gym import spaces\n",
    "import numpy as np\n",
    "import numexpr as ne"
   ]
  },
  {
   "cell_type": "code",
   "execution_count": 13,
   "metadata": {},
   "outputs": [
    {
     "name": "stderr",
     "output_type": "stream",
     "text": [
      "--- request header ---\n",
      "GET / HTTP/1.1\n",
      "Upgrade: websocket\n",
      "Host: 10.42.0.231\n",
      "Origin: http://10.42.0.231\n",
      "Sec-WebSocket-Key: S7Opfo7QrO2vKJ8ueVMADA==\n",
      "Sec-WebSocket-Version: 13\n",
      "Connection: Upgrade\n",
      "\n",
      "\n",
      "-----------------------\n",
      "--- response header ---\n",
      "HTTP/1.1 101 Switching Protocols\n",
      "Server: arduino-WebSocketsServer\n",
      "Upgrade: websocket\n",
      "Connection: Upgrade\n",
      "Sec-WebSocket-Version: 13\n",
      "Sec-WebSocket-Accept: MMoTmSOWyrsj+xOwsMVnwIWn3oU=\n",
      "-----------------------\n"
     ]
    }
   ],
   "source": [
    "websocket.enableTrace(True)\n",
    "ws=websocket.WebSocket()\n",
    "ws.connect(\"ws://10.42.0.231:80/\")"
   ]
  },
  {
   "cell_type": "code",
   "execution_count": 56,
   "metadata": {},
   "outputs": [
    {
     "data": {
      "text/plain": [
       "range(0, 100)"
      ]
     },
     "execution_count": 56,
     "metadata": {},
     "output_type": "execute_result"
    }
   ],
   "source": [
    "range(0, 100)"
   ]
  },
  {
   "cell_type": "code",
   "execution_count": 60,
   "metadata": {},
   "outputs": [
    {
     "data": {
      "text/plain": [
       "(2, 3)"
      ]
     },
     "execution_count": 60,
     "metadata": {},
     "output_type": "execute_result"
    }
   ],
   "source": [
    "import numpy as np\n",
    "np.array([[1,2,3],[1,2,3]]).shape"
   ]
  },
  {
   "cell_type": "code",
   "execution_count": 7,
   "metadata": {},
   "outputs": [],
   "source": [
    "import websocket\n",
    "import json\n",
    "import gym\n",
    "from gym import spaces\n",
    "import numpy as np\n",
    "import re\n",
    "import numexpr as ne\n",
    "import time\n",
    "from collections import OrderedDict\n",
    "import logging\n",
    "import plotly.graph_objects as go\n",
    "import plotly.subplots as sp\n",
    "import plotly\n",
    "import json\n",
    "import os\n",
    "plotly.io.json.config.default_engine = 'orjson'\n",
    "\n",
    "#steps are not implemented for now\n",
    "out_dict={'leddelay':{'names':['leddelay'], 'value_range':{'min':1, 'max':10001, 'step':100}, 'init_val':{'leddelay':10}},\n",
    "          'ledcontrols':{'names':['lv1r','lv1g','lv1b','lv2r','lv2g','lv2b','lv3r','lv3g','lv3b','lv4r','lv4g','lv4b', 'lv5r','lv5g','lv5b','lv6r','lv6g',\n",
    "          'lv6b',\n",
    "          'lv7r',\n",
    "          'lv7g',\n",
    "          'lv7b',\n",
    "          'lv8r',\n",
    "          'lv8g',\n",
    "          'lv8b'], 'value_range':{'min':10, 'max':255, 'step':10}, 'init_val':{'lv1r':255, 'lv1g':0, 'lv1b':0, \n",
    "                                                                               'lv2r':0, 'lv2b':255, 'lv2b':0, \n",
    "                                                                               'lv3r':0, 'lv3g':0, 'lv3b':255, \n",
    "                                                                               'lv4r':255, 'lv4g':255, 'lv4b':255, \n",
    "                                                                               'lv5r':0,   'lv5g':255, 'lv5b':255, \n",
    "                                                                               'lv6r':255, 'lv6g':0,   'lv6b':255, \n",
    "                                                                               'lv7r':255, 'lv7b':255, 'lv7b':0, \n",
    "                                                                               'lv8r':255, 'lv8g':0, 'lv8b':0}},\n",
    "          'sound_wave_frequencies':{'names':['wave_1_freq','wave_2_freq'], 'value_range':{'min':1, 'max':30000, 'step':100}, 'init_val':{'wave_1_freq':440, \n",
    "                                                                                                                                         'wave_2_freq':440}},\n",
    "          'panner_phasor_frequencies':{'names':['panner_freq', 'phasor_1_freq', 'phasor_2_freq','phasor_1_min',  'phasor_2_min', 'phasor_1_dif', 'phasor_2_dif'],  'value_range':{'min':1, 'max':50, 'step':1},\n",
    "                                       'init_val':{'panner_freq':1,\n",
    "                                                    'phasor_1_freq':10,\n",
    "                                                    'phasor_2_freq':10,\n",
    "                                                    'phasor_1_min':1,\n",
    "                                                    'phasor_2_min':1,\n",
    "                                                    'phasor_1_dif':30,\n",
    "                                                    'phasor_2_dif':30}},\n",
    "          'panner_div':{'names':['panner_div'], 'value_range':{'min':1, 'max':5, 'step':1}, 'init_val':{'panner_div':2}},\n",
    "          'sound_wave_shapes':{'names':['wave_1_type', 'wave_2_type'], 'value_range':{'min':0, 'max':3, 'step':1}, \n",
    "                               'init_val':{'wave_1_type':0,\n",
    "                                           'wave_2_type':0}},\n",
    "          'maxibolume':{'names':['maxivolume'], 'value_range':{'min':0, 'max':50, 'step':10}, \n",
    "                        'init_val':{'maxivolume':10}}\n",
    "}\n",
    "out_order=['lv1r','lv1g','lv1b','lv2r','lv2g','lv2b','lv3r','lv3g','lv3b','lv4r','lv4g','lv4b','lv5r','lv5g','lv5b','lv6r','lv6g','lv6b',\n",
    "          'lv7r','lv7g','lv7b','lv8r','lv8g','lv8b','leddelay','wave_1_freq','wave_2_freq','panner_freq','panner_div','phasor_1_freq',\n",
    "          'phasor_1_min','phasor_1_dif','phasor_2_freq','phasor_2_min','phasor_2_dif','maxivolume','wave_1_type','wave_2_type']\n",
    "\n",
    "\n",
    "class SFSystemCommunicator(gym.Env):\n",
    "    def __init__(self, out_dict=out_dict, out_order=out_order,n_input_channels=8, channels_of_interest_inds=list(range(8)), n_timepoints_per_sample=100, max_sfsystem_output=1023,reward_formula_string='(fbin_05_4_ch0+freq_30_ch0)/fbin_12_30_ch0', \n",
    "                 fbins=[(0.001, 0.5), (0.5, 4), (4,8), (8,12), (12,30)], delay=10,\n",
    "                 use_raw_in_os_def=False, use_freq_in_os_def=False, use_fbins_in_os_def=False, device_address=\"ws://10.42.0.231:80/\",\n",
    "                 step_stim_length_millis=10000, episode_time_seconds=60, collect_data_toplot=True, render_data=True, return_plotly_figs=False,\n",
    "                 logfn='current_training.log', log_steps=True, log_episodes=True, log_best_actions_final=True, signal_plot_width=2000, signal_plot_height=1500, training_plot_width=2000, training_plot_height=500, \n",
    "                 write_raw=True,\n",
    "                 write_fft=True,\n",
    "                 write_bins=True,\n",
    "                 log_best_actions_every_episode=True,\n",
    "                 log_actions_every_step=True):\n",
    "        self.device_address=device_address\n",
    "        self.step_stim_length=step_stim_length_millis/1000\n",
    "        self.episode_time_seconds=episode_time_seconds\n",
    "        self.n_steps_per_episode=int(self.episode_time_seconds*1000/self.step_stim_length)\n",
    "        self.cur_step=0\n",
    "        self.render_data=render_data\n",
    "        self.return_plotly_figs=return_plotly_figs\n",
    "        \n",
    "        self.out_dict=out_dict\n",
    "        self.out_order=out_order\n",
    "        self.max_sfsystem_output=max_sfsystem_output\n",
    "        self.n_timepoints_per_sample=n_timepoints_per_sample\n",
    "        self.n_input_channels=n_input_channels\n",
    "        self.reward_formula_string=reward_formula_string\n",
    "\n",
    "        self.delay=delay\n",
    "\n",
    "        self.record_raw=use_raw_in_os_def\n",
    "\n",
    "        self.do_fft=use_freq_in_os_def\n",
    "        self.record_fft=use_freq_in_os_def\n",
    "\n",
    "        self.do_fbins=use_fbins_in_os_def\n",
    "        self.record_fbins=use_fbins_in_os_def\n",
    "\n",
    "        self.fbins=fbins\n",
    "        self.n_fbins=len(self.fbins)\n",
    "\n",
    "        self.channels_of_interest_inds=channels_of_interest_inds\n",
    "        self.channels_of_interest_inds.sort()\n",
    "        self.n_channels_of_interest=len(self.channels_of_interest_inds)\n",
    "\n",
    "        self.set_fft_params()\n",
    "\n",
    "        self.timesleep_period=0.1\n",
    "\n",
    "        if 'raw' in self.reward_formula_string:\n",
    "            self.record_raw=True\n",
    "        if 'freq' in self.reward_formula_string:\n",
    "            self.record_fft=True\n",
    "        if 'fbin' in self.reward_formula_string:\n",
    "            self.record_fbins=True\n",
    "\n",
    "        if self.record_fbins:\n",
    "            self.do_fft=True\n",
    "            self.do_fbins=True\n",
    "        \n",
    "        self.init_action_space()\n",
    "        self.init_observation_space()\n",
    "        self.set_value_dict_for_reward_function()\n",
    "        self.connect()\n",
    "        print(self.connection_status)\n",
    "        self.set_delay_and_data_transfer_buffer_size()\n",
    "        print('Delay and data transfer buffer size are set up.')\n",
    "        self.set_default_actions()\n",
    "        print('Default actions are set.')\n",
    "\n",
    "\n",
    "        #logging part\n",
    "        self.logfn=logfn\n",
    "        self.collect_data_toplot=collect_data_toplot\n",
    "\n",
    "        self.write_raw=write_raw\n",
    "        self.write_fft=write_fft\n",
    "        self.write_bins=write_bins\n",
    "\n",
    "        self.log_steps=log_steps\n",
    "        self.log_episodes=log_episodes\n",
    "        \n",
    " \n",
    "        self.clear_reward_buffers()   \n",
    "        self.clear_reward_stats()\n",
    "        self.current_episode=0\n",
    "        self.set_fbin_x_axis_labels()\n",
    "        \n",
    "        logging.basicConfig(filename=self.logfn, level=logging.INFO)\n",
    "        self.signal_plot_width=signal_plot_width\n",
    "        self.signal_plot_height=signal_plot_height\n",
    "        self.training_plot_width=training_plot_width\n",
    "        self.training_plot_height=training_plot_height\n",
    "        #action logging\n",
    "        self.best_action_overall=None\n",
    "        self.best_action_episode=None\n",
    "        self.log_actions_every_step=log_actions_every_step\n",
    "        self.log_best_actions_every_episode=log_best_actions_every_episode\n",
    "        self.log_best_actions_final=log_best_actions_final\n",
    "\n",
    "\n",
    "    def help(self):\n",
    "        print('Reward formula can use the following operators: //, *, **, -, +')\n",
    "        print('It can refer to channels using \"ch\" prefix followed by an index (starting with 0) e.g. ch0')\n",
    "        print('It can refer to values of frequency bins in specific channels e.g. fbin_10_50_ch0')\n",
    "        print('The corresponding freqency bins must be present among fbins passed at the initialization step')\n",
    "        print('fbins should be passed in the form of [(b1 min, b1max),...(bn min, bn max)]')\n",
    "        print('It can refer to specific frequencies from fft e.g. freq_50_ch0')\n",
    "        print('For fractional frequencies (e.g. 0.5) do not use points, just start with 0 (e.g. 05)')\n",
    "        print('Some examples:')\n",
    "        print('1. (freq_50_ch0+fbin_0_10_ch0)/(fbin_20_30_ch0)')\n",
    "        print('2. freq_5_ch0/freq_10_ch0')\n",
    "        print('3. fbin_05_5_ch0')\n",
    "    def clear_log(self):\n",
    "        if os.path.isfile(self.logfn):\n",
    "            os.remove(self.logfn)\n",
    "    def set_value_dict_for_reward_function(self):\n",
    "        ftokens=re.split(r'[+/)(*]+',self.reward_formula_string)\n",
    "        self.rewarddict={}\n",
    "        self.tokendict={}\n",
    "        for token in ftokens:\n",
    "            if 'ch' in token:\n",
    "                self.rewarddict[token]=None\n",
    "                self.tokendict[token]={}\n",
    "                subtokens=token.split('_')\n",
    "                self.tokendict[token]['datatype']=subtokens[0]\n",
    "                for subtoken in subtokens:\n",
    "                    if 'ch' in subtoken:\n",
    "                        self.tokendict[token]['channelindex']=int(subtoken.split('h')[1])\n",
    "                    if subtoken=='freq':\n",
    "                        tfreq=float(subtokens[1])\n",
    "                        self.tokendict[token]['freqdata']=tfreq\n",
    "                        closestind=np.argmin(np.abs(self.f_plot - tfreq))\n",
    "                        self.tokendict[token]['closest_fft_ind']=closestind\n",
    "                        print(f'Token {token}:')\n",
    "                        print(f'Closest fft frequency {self.f_plot[closestind]}')\n",
    "                    if subtoken=='fbin':\n",
    "                        bin_lst=[subtokens[1],subtokens[2]]\n",
    "                        for i in range(2):\n",
    "                            val=bin_lst[i]\n",
    "                            if val.startswith('0'):\n",
    "                                val=float('0.'+val[1:])\n",
    "                            else:\n",
    "                                val=float(val)\n",
    "                            bin_lst[i]=val\n",
    "                        self.tokendict[token]['freqdata']=tuple(bin_lst)\n",
    "                        self.tokendict[token]['fbin_idx']=self.fbins.index(self.tokendict[token]['freqdata'])\n",
    "    def set_default_actions(self):\n",
    "        observation_space_sample=self.observation_space.sample()\n",
    "        for key1 in observation_space_sample:\n",
    "            for key2 in self.out_dict:\n",
    "                if key1 in self.out_dict[key2]['init_val']:\n",
    "                    observation_space_sample[key2]=self.out_dict[key1]['init_val'][key2]\n",
    "\n",
    "        self.default_actions=observation_space_sample\n",
    "    def populate_rewarddict(self, observations):\n",
    "        for token, tokendata in self.tokendict.items():\n",
    "            tartype=tokendata['datatype']\n",
    "            tarchannelidx=tokendata['channelindex']\n",
    "            if tartype=='raw':\n",
    "                tarobs=observations['raw_data']\n",
    "                tarobs=tarobs[:,tarchannelidx]\n",
    "                res=np.mean(tarobs) #here we use the mean, but this may be changed\n",
    "            if tartype=='freq':\n",
    "                #tarfreq=tokendata['freqdata']\n",
    "                taridx=tokendata['closest_fft_ind']\n",
    "                tarobs=observations['fft'][tarchannelidx]\n",
    "                res=tarobs[taridx]\n",
    "            if tartype=='fbin':\n",
    "                tarobs=observations['fbins'][tarchannelidx]\n",
    "                res=tarobs[tokendata['fbin_idx']]\n",
    "            self.rewarddict[token]=res\n",
    "    def get_reward(self, observations=None, toreturn=False):\n",
    "        if str(observations) != \"None\":\n",
    "            observations=self.observation_space.sample() #if no observations are given extrernally, sample from the observation space\n",
    "        self.populate_rewarddict(observations)\n",
    "        self.reward=ne.evaluate(self.reward_formula_string, local_dict=self.rewarddict)\n",
    "        if toreturn==True:\n",
    "            return self.reward\n",
    "    def init_action_space(self):\n",
    "        self.action_space=spaces.Dict({})\n",
    "        for key, val in self.out_dict.items():\n",
    "            spacesnames=val['names']\n",
    "            spacesrange=val['value_range']\n",
    "            for spacename in spacesnames:\n",
    "                self.action_space.spaces[spacename]=spaces.Box(low=spacesrange['min'], high=spacesrange['max'], shape=(1,), dtype=int)\n",
    "    def init_observation_space(self):\n",
    "        self.observation_space=spaces.Dict({})\n",
    "        self.observation_space['raw_data']=spaces.Box(low=0, high=self.max_sfsystem_output, shape=(self.n_timepoints_per_sample, self.n_channels_of_interest), dtype=int) #n timepoints per sample rows, n input channels columns, signals should be normalized\n",
    "        if self.record_fft:\n",
    "            self.observation_space['fft']=spaces.Box(low=0.0, high=1.0, shape=(self.n_channels_of_interest, self.n_fft_values))\n",
    "        if self.record_fbins:\n",
    "            self.observation_space['fbins']=spaces.Box(low=0.0, high=1.0, shape=(self.n_channels_of_interest, self.n_fbins))\n",
    "    def set_fft_params(self):\n",
    "        self.sampling_frequency=int(1000/self.delay)\n",
    "        self.max_possible_fft_frequency=self.sampling_frequency/2\n",
    "        self.sampling_period=int(self.delay*self.n_timepoints_per_sample)\n",
    "        self.timesteps=np.linspace(0, (self.n_timepoints_per_sample-1)*self.delay, self.n_timepoints_per_sample)\n",
    "        self.fstep=self.sampling_frequency/self.n_timepoints_per_sample\n",
    "        self.f=np.linspace(0, (self.n_timepoints_per_sample-1)*self.fstep, self.n_timepoints_per_sample)\n",
    "        self.f_plot=self.f[0:int(self.n_timepoints_per_sample/2 + 1)]\n",
    "        self.n_fft_values=len(self.f_plot)\n",
    "\n",
    "    def connect(self):\n",
    "        websocket.enableTrace(True)\n",
    "        self.ws=websocket.WebSocket()\n",
    "        self.ws.connect(self.device_address)\n",
    "        self.connection_status=self.ws.recv()\n",
    "    \n",
    "    def get_fft_fromsignal(self, raw_singlech):\n",
    "        X=np.fft.fft(raw_singlech)\n",
    "        X_mag=np.abs(X)/self.n_timepoints_per_sample\n",
    "        X_mag_plot=2*X_mag[0:int(self.n_timepoints_per_sample/2 + 1)]\n",
    "        return X_mag_plot\n",
    "\n",
    "    def get_fft_allchannels(self, raw_data):\n",
    "        if str(raw_data) != \"None\":\n",
    "            raw_data=self.observation_space.sample()['raw_data']\n",
    "\n",
    "        fft_data=[]\n",
    "        for chindex in range(raw_data.shape[1]):\n",
    "            chraw=raw_data[:,chindex]\n",
    "            chfft=self.get_fft_fromsignal(chraw)\n",
    "            fft_data.append(chfft)\n",
    "        fft_data=np.array(fft_data)\n",
    "        return fft_data\n",
    "    \n",
    "    def get_bin_values_from_signal(self, fft_signlech):\n",
    "        fpl=np.array(self.f_plot)\n",
    "        xmp=np.array(fft_signlech)\n",
    "        magnitudes=[]\n",
    "        for low, high in self.fbins:\n",
    "            mask = (fpl >= low) & (fpl < high)\n",
    "            magnitude = np.abs(xmp[mask]).mean() #here can be other functions\n",
    "            magnitudes.append(magnitude)\n",
    "        magnitudes=np.array(magnitudes)\n",
    "        return magnitudes\n",
    "    def set_fbin_x_axis_labels(self):\n",
    "        self.fbin_axis_labels=[]\n",
    "        for low, high in self.fbins:\n",
    "            binname=f'{low}-{high} Hz'\n",
    "            self.fbin_axis_labels.append(binname)\n",
    "    def get_bin_values_allchannels(self, fft=None):\n",
    "        if str(fft) != \"None\":\n",
    "            fft=self.observation_space.sample()['fft']\n",
    "        fbins_data=[]\n",
    "        for chindex in range(fft.shape[0]):\n",
    "            chfft=fft[chindex,:]\n",
    "            chbins=self.get_bin_values_from_signal(chfft)\n",
    "            fbins_data.append(chbins)\n",
    "        fbins_data=np.array(fbins_data)\n",
    "        return fbins_data\n",
    "\n",
    "    def set_delay_and_data_transfer_buffer_size(self):\n",
    "        self.ws.send(\"set_delay_and_data_transfer_buffer_size\")\n",
    "        time.sleep(self.timesleep_period)\n",
    "        setup=False\n",
    "        while setup==False:\n",
    "            try:\n",
    "                device_msg=self.ws.recv()\n",
    "                if device_msg == \"Awaiting delay and data transfer buffer size in shape with space separator\":\n",
    "                    self.ws.send(f'{self.delay},{self.n_timepoints_per_sample}')\n",
    "                time.sleep(self.timesleep_period)\n",
    "                device_msg=self.ws.recv()\n",
    "                if device_msg == \"Delay and data transfer buffer size set up\":\n",
    "                    setup = True \n",
    "                    break;\n",
    "            except:\n",
    "                pass\n",
    "    def start_data_transfer_from_device(self):\n",
    "        self.ws.send(\"start_data_transfer_from_ads\")\n",
    "    def stop_data_transfer_from_device(self):\n",
    "        self.ws.send(\"stop_data_transfer_from_ads\")\n",
    "    def stop_audiovis_feedback(self):\n",
    "        self.ws.send(\"stop_led_cycle\")\n",
    "    def update_audiovis_feedback(self, update_dict=None):\n",
    "        if str(update_dict)!= 'None':\n",
    "            update_dict=self.action_space.sample()\n",
    "        self.ws.send(\"receive_output_control_data\")\n",
    "        outmsg_vals=[]\n",
    "        for controlnm in self.out_order:\n",
    "            outmsg_vals.append(update_dict[controlnm][0])\n",
    "        self.current_control_msg=','.join(list(map(str,outmsg_vals)))\n",
    "        self.ws.send(self.current_control_msg)\n",
    "    def sample_observations(self):\n",
    "        self.ws.send(\"start_data_transfer_from_ads\")\n",
    "        self.current_sample=json.loads(self.ws.recv())\n",
    "        self.raw_data=[]\n",
    "        for key, value in self.current_sample.items():\n",
    "            self.raw_data.append(value)\n",
    "        self.raw_data=np.array(self.raw_data).transpose()\n",
    "        self.raw_data=self.raw_data[:,self.channels_of_interest_inds]\n",
    "        self.ws.send(\"stop_data_transfer_from_ads\")\n",
    "    def sample_and_process_observations_from_device(self):\n",
    "        new_observations=dict()\n",
    "        self.sample_observations()\n",
    "        new_observations['raw_data']=self.raw_data\n",
    "        if self.do_fft:\n",
    "         self.fft=self.get_fft_allchannels(raw_data=self.raw_data)\n",
    "         if self.record_fft:\n",
    "            new_observations['fft']=self.fft\n",
    "        if self.do_fbins:\n",
    "            self.fbins_data=self.get_bin_values_allchannels(fft=self.fft)\n",
    "            if self.record_fbins:\n",
    "                new_observations['fbins']=self.fbins_data \n",
    "        new_observations=OrderedDict(new_observations)\n",
    "        return new_observations\n",
    "    def write_signal_logs(self):\n",
    "        if self.record_fft==True:\n",
    "            if self.write_fft==True:\n",
    "                logging.info(json.dumps({'fft':self.cur_observations['fft'].tolist()}))\n",
    "        if self.record_fbins==True:\n",
    "            if self.write_bins==True:\n",
    "                logging.info(json.dumps({'fbins':self.cur_observations['fbins'].tolist()}))\n",
    "        if self.record_raw==True:\n",
    "            if self.write_raw==True:\n",
    "                logging.info(json.dumps({'raw_data':self.cur_observations['raw_data'].tolist()}))\n",
    "    def step(self, action):\n",
    "        self.best_overall_reward_now=False\n",
    "        self.update_audiovis_feedback(action)\n",
    "        time.sleep(self.step_stim_length)\n",
    "        self.current_actions=action\n",
    "        new_observations=self.sample_and_process_observations_from_device()\n",
    "        self.cur_observations=new_observations\n",
    "        reward=self.get_reward(observations=new_observations, toreturn=True)\n",
    "        self.total_cur_episode_reward+=reward\n",
    "        if reward>self.episode_max_reward:\n",
    "                self.episode_max_reward=reward\n",
    "                self.best_episode_reward_now=True\n",
    "                self.best_action_episode=action\n",
    "        if reward>self.overall_max_reward:\n",
    "                self.overall_max_reward=reward\n",
    "                self.best_overall_reward_now=True\n",
    "                self.best_action_overall=action\n",
    "        if self.total_cur_episode_reward>self.total_episode_max_reward:\n",
    "            self.total_episode_max_reward=self.total_cur_episode_reward\n",
    "            self.best_total_episode_reward_now=True\n",
    "\n",
    "        if self.collect_data_toplot:\n",
    "            self.cur_episode_rewards.append(reward)\n",
    "        if self.log_steps:\n",
    "            logging.info(json.dumps({'Episode':self.current_episode, 'Step': self.cur_step, 'Step reward': reward}))\n",
    "        if self.log_actions_every_step:\n",
    "            logging.info(json.dumps({'Action reward':reward}))\n",
    "            actionstring=self.get_json_string_from_ordered_dict(action)\n",
    "            logging.info(actionstring)\n",
    "        self.write_signal_logs()        \n",
    "              \n",
    "\n",
    "\n",
    "        if self.cur_step<self.n_steps_per_episode:\n",
    "            done=False\n",
    "            self.cur_step+=1\n",
    "        else:\n",
    "            done=True\n",
    "        return new_observations, reward, done, {}\n",
    "    def reset(self):\n",
    "        if self.collect_data_toplot:\n",
    "            self.previous_episodes_total_rewards.append(self.total_cur_episode_reward)\n",
    "            self.previous_episodes_max_rewards.append(self.episode_max_reward)\n",
    "        if self.log_episodes:\n",
    "            logging.info(json.dumps({'Episode':self.current_episode, 'Episode total reward': self.total_cur_episode_reward, 'Episode max reward': self.episode_max_reward}))\n",
    "        if self.log_best_actions_every_episode:\n",
    "            actionstring=self.get_json_string_from_ordered_dict(self.best_action_episode)\n",
    "            logging.info(json.dumps({'Best action in the episode reward':self.episode_max_reward}))\n",
    "            logging.info(actionstring)\n",
    "        self.stop_audiovis_feedback()\n",
    "        self.cur_step=0\n",
    "        self.episode_max_reward=0\n",
    "        self.total_cur_episode_reward=0\n",
    "\n",
    "        self.best_episode_reward_now=False #just in case\n",
    "        self.best_overall_reward_now=False #just in case\n",
    "        self.best_total_episode_reward_now=False #just in case\n",
    "\n",
    "        self.best_action_epoch=None\n",
    "\n",
    "        new_observations=self.sample_and_process_observations_from_device()\n",
    "        self.cur_observations=new_observations\n",
    "        self.update_audiovis_feedback(update_dict=self.default_actions) #update back to default actions\n",
    "        if self.collect_data_toplot==True:\n",
    "            self.previous_episodes_max_rewards.append(self.episode_max_reward)\n",
    "            self.cur_episode_rewards=[]\n",
    "        time.sleep(self.step_stim_length) #prepare the brain for the next episode \n",
    "        return new_observations\n",
    "\n",
    "    def get_json_string_from_ordered_dict(self, od):\n",
    "        od=dict(od)\n",
    "        for key, value in od.items():\n",
    "            od[key]=value.tolist()\n",
    "        return json.dumps(od)\n",
    "\n",
    "    def render(self, elems=['reward_lineplots', 'current_fft', 'current_fbins'], return_figs=None):\n",
    "        if return_figs==None:\n",
    "            return_figs=self.return_plotly_figs\n",
    "        figures=dict()\n",
    "        if 'reward_lineplots' in elems:\n",
    "            training_fig=sp.make_subplots(rows=2, cols=2)\n",
    "            training_fig.update_layout(width=self.training_plot_width, height = self.training_plot_height)\n",
    "            training_fig.add_trace(sp.go.Scatter(x=list(range(len(self.cur_episode_rewards))), y=self.cur_episode_rewards, mode='lines+markers', name='Current episode rewards'), row=1, col=1)\n",
    "            training_fig.add_trace(sp.go.Scatter(x=list(range(len(self.previous_episodes_max_rewards))), y=self.previous_episodes_max_rewards, mode='lines+markers', name='Previous episode max rewards'), row=1, col=2)\n",
    "            training_fig.add_trace(sp.go.Scatter(x=list(range(len(self.previous_episodes_total_rewards))), y=self.previous_episodes_total_rewards, mode='lines+markers', name='Previous episode total rewards'), row=2, col=1)           \n",
    "            figures['reward_lineplots']=training_fig\n",
    "            if self.render_data:\n",
    "                training_fig.show()\n",
    "        if ('current_fft' in elems) or ('current_fbins' in elems):\n",
    "            if self.record_fft or self.record_fbins:\n",
    "                signal_fig=sp.make_subplots(rows=self.n_channels_of_interest, cols=2)\n",
    "                signal_fig.update_layout(width=self.signal_plot_width, height = self.signal_plot_height)\n",
    "                if 'current_fft' in elems and self.record_fft:\n",
    "                    for chidx in range(self.n_channels_of_interest):\n",
    "                        orig_chidx=self.channels_of_interest_inds[chidx]\n",
    "                        chfft=self.cur_observations['fft'][chidx]\n",
    "                        signal_fig.add_trace(sp.go.Scatter(x=self.f_plot, y=chfft, mode='lines+markers', name=f'Channel {orig_chidx} spectrum'), row=chidx+1, col=1)\n",
    "                if 'current_fbins' in elems and self.record_fbins:\n",
    "                    for chidx in range(self.n_channels_of_interest):\n",
    "                        orig_chidx=self.channels_of_interest_inds[chidx]\n",
    "                        chbins=self.cur_observations['fbins'][chidx]\n",
    "                        signal_fig.add_trace(sp.go.Bar(x=self.fbin_axis_labels, y=chbins, name=f'Channel {orig_chidx} frequency bins'), row=chidx+1, col=2)\n",
    "                if self.render_data:\n",
    "                    signal_fig.show()\n",
    "        if return_figs:\n",
    "            return figures\n",
    "    def clear_reward_buffers(self):\n",
    "        self.cur_episode_rewards=[]\n",
    "        self.previous_episodes_max_rewards=[]\n",
    "        self.previous_episodes_total_rewards=[]\n",
    "    def clear_reward_stats(self):\n",
    "        if self.log_best_actions_final:\n",
    "            actionstring=self.get_json_string_from_ordered_dict(self.best_action_overall)\n",
    "            logging.info(json.dumps({'Best action across episodes reward':self.overall_max_reward}))\n",
    "            logging.info(actionstring)\n",
    "        self.episode_max_reward=0\n",
    "        self.overall_max_reward=0\n",
    "        self.total_cur_episode_reward=0\n",
    "        self.total_episode_max_reward=0\n",
    "        self.best_episode_reward_now=False\n",
    "        self.best_overall_reward_now=False\n",
    "        self.best_total_episode_reward_now=False\n",
    "    def close(self, clear_log=False):\n",
    "        self.stop_audiovis_feedback() #just in case\n",
    "        self.stop_data_transfer_from_device() #just in case\n",
    "        self.cur_step=0 #just in case\n",
    "        self.current_episode=0\n",
    "\n",
    "        self.clear_reward_buffers()\n",
    "        self.clear_reward_stats()\n",
    "        if clear_log:\n",
    "            self.clear_log()\n",
    "        self.ws.close()\n",
    "        \n",
    "        "
   ]
  },
  {
   "cell_type": "code",
   "execution_count": null,
   "metadata": {},
   "outputs": [],
   "source": []
  },
  {
   "cell_type": "code",
   "execution_count": null,
   "metadata": {},
   "outputs": [],
   "source": []
  },
  {
   "cell_type": "code",
   "execution_count": null,
   "metadata": {},
   "outputs": [],
   "source": []
  },
  {
   "cell_type": "code",
   "execution_count": 128,
   "metadata": {},
   "outputs": [],
   "source": [
    "import torch\n",
    "import torch.optim as optim\n",
    "class trainer():\n",
    "    def __init__(self, environment, agent, optimizer, optim_params={'lr':0.001}, num_episodes=1000, log_model=True, render=True, get_plots=False):\n",
    "        self.env=environment()\n",
    "        self.agent=agent(self.env)\n",
    "        self.optim_params=optim_params\n",
    "        self.optim=optimizer(self.agent.model.parameters(), lr=self.optim_params['lr'])\n",
    "        self.num_episodes=num_episodes\n",
    "        self.log_model=log_model\n",
    "        self.render=render\n",
    "        self.get_plots=get_plots\n",
    "    def train(self, num_episodes=None, render=None, get_plots=None):\n",
    "        if str(num_episodes)=='None':\n",
    "            num_episodes=self.num_episodes\n",
    "        if str(render)=='None':\n",
    "            render=self.render\n",
    "        if str(get_plots)=='None':\n",
    "            get_plots=self.get_plots\n",
    "        for episode in range(num_episodes):\n",
    "            state=self.env.reset()\n",
    "            done=False\n",
    "            while not done:\n",
    "                action=self.agent.select_action(state)\n",
    "                next_state, reward, done, _=self.env.step(action)\n",
    "                loss = self.agent.update_policy(state, action, reward, next_state, done)\n",
    "                self.optim.zero_grad()\n",
    "                loss.backward()\n",
    "                self.optim.step()\n",
    "                state=next_state\n",
    "                #best_episode_reward_now=self.env.best_episode_reward_now\n",
    "                #best_overall_reward_now=self.env.best_overall_reward_now\n",
    "                #best_total_episode_reward_now=self.env.best_total_episode_reward_now\n",
    "                #self.overall_max_reward=self.env.overall_max_reward\n",
    "                #self.total_episode_max_reward=self.env.total_episode_max_reward\n",
    "                #self.total_cur_episode_reward=self.env.total_cur_episode_reward\n",
    "                #self.episode_max_reward=self.env.episode_max_reward\n",
    "                \n",
    "                if self.log_model==True:\n",
    "                    if self.env.best_overall_reward_now:\n",
    "                        torch.save(self.agent.model.state_dict(), 'model_best_overall_reward.pth')\n",
    "                    if self.env.best_total_episode_reward_now:\n",
    "                        torch.save(self.agent.model.state_dict(), 'model_best_total_episode_reward.pth')\n",
    "\n",
    "                if render:\n",
    "                    self.env.render(return_figs=get_plots)\n",
    "            "
   ]
  },
  {
   "cell_type": "code",
   "execution_count": 3,
   "metadata": {},
   "outputs": [
    {
     "name": "stderr",
     "output_type": "stream",
     "text": [
      "--- request header ---\n",
      "GET / HTTP/1.1\n",
      "Upgrade: websocket\n",
      "Host: 10.42.0.231\n",
      "Origin: http://10.42.0.231\n",
      "Sec-WebSocket-Key: F5YK/4GjCUGdzYIbNwn0NA==\n",
      "Sec-WebSocket-Version: 13\n",
      "Connection: Upgrade\n",
      "\n",
      "\n",
      "-----------------------\n",
      "--- response header ---\n"
     ]
    },
    {
     "name": "stderr",
     "output_type": "stream",
     "text": [
      "HTTP/1.1 101 Switching Protocols\n",
      "Server: arduino-WebSocketsServer\n",
      "Upgrade: websocket\n",
      "Connection: Upgrade\n",
      "Sec-WebSocket-Version: 13\n",
      "Sec-WebSocket-Accept: DvfFGRCrIVo0MZ2JY6Z6/2OWxZo=\n",
      "-----------------------\n",
      "++Rcv raw: b'\\x89\\x00'\n",
      "++Rcv decoded: fin=1 opcode=9 data=b''\n",
      "++Sent raw: b'\\x8a\\x80\\xbe\\x13\\xf9\\xbc'\n",
      "++Sent decoded: fin=1 opcode=10 data=b''\n",
      "++Rcv raw: b'\\x81\\tConnected'\n",
      "++Rcv decoded: fin=1 opcode=1 data=b'Connected'\n",
      "++Sent raw: b'\\x81\\xa7\\x89bT\\xd9\\xfa\\x07 \\x86\\xed\\x078\\xb8\\xf0=5\\xb7\\xed=0\\xb8\\xfd\\x03\\x0b\\xad\\xfb\\x03:\\xaa\\xef\\x07&\\x86\\xeb\\x172\\xbf\\xec\\x10\\x0b\\xaa\\xe0\\x181'\n",
      "++Sent decoded: fin=1 opcode=1 data=b'set_delay_and_data_transfer_buffer_size'\n",
      "++Rcv raw: b'\\x81JAwaiting delay and data transfer buffer size in shape with space separator'\n",
      "++Rcv decoded: fin=1 opcode=1 data=b'Awaiting delay and data transfer buffer size in shape with space separator'\n",
      "++Sent raw: b'\\x81\\x86p\\x1f\\xa8\\xdbA/\\x84\\xea@/'\n",
      "++Sent decoded: fin=1 opcode=1 data=b'10,100'\n"
     ]
    },
    {
     "name": "stdout",
     "output_type": "stream",
     "text": [
      "Token freq_30_ch0:\n",
      "Closest fft frequency 30.0\n",
      "Connected\n"
     ]
    },
    {
     "name": "stderr",
     "output_type": "stream",
     "text": [
      "++Rcv raw: b'\\x81*Delay and data transfer buffer size set up'\n",
      "++Rcv decoded: fin=1 opcode=1 data=b'Delay and data transfer buffer size set up'\n"
     ]
    },
    {
     "name": "stdout",
     "output_type": "stream",
     "text": [
      "Delay and data transfer buffer size are set up.\n",
      "Default actions are set.\n"
     ]
    }
   ],
   "source": [
    "communicator=SFSystemCommunicator()"
   ]
  },
  {
   "cell_type": "code",
   "execution_count": 126,
   "metadata": {},
   "outputs": [
    {
     "data": {
      "text/plain": [
       "True"
      ]
     },
     "execution_count": 126,
     "metadata": {},
     "output_type": "execute_result"
    }
   ],
   "source": [
    "communicator.collect_data_toplot"
   ]
  },
  {
   "cell_type": "code",
   "execution_count": 111,
   "metadata": {},
   "outputs": [
    {
     "data": {
      "text/plain": [
       "True"
      ]
     },
     "execution_count": 111,
     "metadata": {},
     "output_type": "execute_result"
    }
   ],
   "source": [
    "communicator.write_log"
   ]
  },
  {
   "cell_type": "code",
   "execution_count": 129,
   "metadata": {},
   "outputs": [
    {
     "name": "stderr",
     "output_type": "stream",
     "text": [
      "++Sent raw: b'\\x81\\x8e\\xb3\\xb2\\xf4\\xe7\\xc0\\xc6\\x9b\\x97\\xec\\xde\\x91\\x83\\xec\\xd1\\x8d\\x84\\xdf\\xd7'\n",
      "++Sent decoded: fin=1 opcode=1 data=b'stop_led_cycle'\n",
      "++Sent raw: b'\\x81\\x9bo[\\xbe}\\x1c/\\xd1\\r0?\\xdf\\t\\x0e\\x04\\xca\\x0f\\x0e5\\xcd\\x1b\\n)\\xe1\\x1b\\x1d4\\xd3\"\\x0e?\\xcd'\n",
      "++Sent decoded: fin=1 opcode=1 data=b'stop_data_transfer_from_ads'\n",
      "++Sent raw: b'\\x88\\x82\\x93\\x8c\\xd7\\xb8\\x90d'\n",
      "++Sent decoded: fin=1 opcode=8 data=b'\\x03\\xe8'\n"
     ]
    }
   ],
   "source": [
    "communicator.close()"
   ]
  },
  {
   "cell_type": "code",
   "execution_count": 82,
   "metadata": {},
   "outputs": [
    {
     "data": {
      "text/plain": [
       "array(5.275713, dtype=float32)"
      ]
     },
     "execution_count": 82,
     "metadata": {},
     "output_type": "execute_result"
    }
   ],
   "source": [
    "communicator.reward"
   ]
  },
  {
   "cell_type": "code",
   "execution_count": 131,
   "metadata": {},
   "outputs": [
    {
     "name": "stderr",
     "output_type": "stream",
     "text": [
      "++Sent raw: b'\\x81\\x9bA;\\xba+3^\\xd9N(M\\xdft.N\\xce[4O\\xe5H.U\\xceY.W\\xe5O O\\xdb'\n",
      "++Sent decoded: fin=1 opcode=1 data=b'receive_output_control_data'\n",
      "++Sent raw: b'\\x81\\xfe\\x00\\x84\\xd1\\xd2\\x8e\\xaa\\xe3\\xe3\\xb9\\x86\\xe3\\xe1\\xba\\x86\\xe0\\xe4\\xbb\\x86\\xe0\\xea\\xa2\\x9b\\xe9\\xe0\\xa2\\x9e\\xe3\\xfe\\xbd\\x93\\xfd\\xe3\\xbd\\x92\\xfd\\xe3\\xb6\\x86\\xe6\\xe4\\xa2\\x9c\\xe2\\xfe\\xbf\\x9d\\xfd\\xe3\\xb7\\x9b\\xfd\\xe3\\xbc\\x9a\\xfd\\xe3\\xbe\\x98\\xfd\\xe0\\xbc\\x9c\\xfd\\xe0\\xbb\\x9f\\xfd\\xe0\\xbb\\x9e\\xfd\\xe6\\xb6\\x86\\xe0\\xe6\\xbf\\x86\\xe9\\xe2\\xa2\\x9b\\xe2\\xe5\\xa2\\x98\\xe1\\xe5\\xa2\\x9b\\xe9\\xea\\xa2\\x98\\xe3\\xe5\\xb9\\x86\\xe3\\xeb\\xbd\\x9e\\xe6\\xfe\\xbf\\x9b\\xe6\\xe6\\xbc\\x86\\xe0\\xe7\\xa2\\x9f\\xfd\\xe6\\xbe\\x86\\xe3\\xe1\\xa2\\x9e\\xe7\\xfe\\xb6\\x86\\xe3\\xe4\\xa2\\x98\\xe5\\xfe\\xbd\\x98\\xfd\\xe1\\xa2\\x9b'\n",
      "++Sent decoded: fin=1 opcode=1 data=b'217,234,165,18,182,42,39,138,18,76,63,17,191,120,102,226,255,254,48,141,80,137,207,188,2277,29347,11742,15,5,40,23,46,8,26,24,32,3,1'\n",
      "++Sent raw: b'\\x81\\x9c\\xe1P>\\xd9\\x92$_\\xab\\x95\\x0fZ\\xb8\\x951a\\xad\\x931P\\xaa\\x875L\\x86\\x87\"Q\\xb4\\xbe1Z\\xaa'\n",
      "++Sent decoded: fin=1 opcode=1 data=b'start_data_transfer_from_ads'\n",
      "++Rcv raw: b'\\x81~\\x06\\x81{\"ch1\":[0,0,0,0,0,0,0,0,0,0,0,0,0,0,0,0,0,0,0,0,0,0,0,0,0,0,0,0,0,0,0,0,0,0,0,0,0,0,0,0,0,0,0,0,0,0,0,0,0,0,0,0,0,0,0,0,0,0,0,0,0,0,0,0,0,0,0,0,0,0,0,0,0,0,0,0,0,0,0,0,0,0,0,0,0,0,0,0,0,0,0,0,0,0,0,0,0,0,0,0],\"ch2\":[0,0,0,0,0,0,0,0,0,0,0,0,0,0,0,0,0,0,0,0,0,0,0,0,0,0,0,0,0,0,0,0,0,0,0,0,0,0,0,0,0,0,0,0,0,0,0,0,0,0,0,0,0,0,0,0,0,0,0,0,0,0,0,0,0,0,0,0,0,0,0,0,0,0,0,0,0,0,0,0,0,0,0,0,0,0,0,0,0,0,0,0,0,0,0,0,0,0,0,0],\"ch3\":[0,0,0,0,0,0,0,0,0,0,0,0,0,0,0,0,0,0,0,0,0,0,0,0,0,0,0,0,0,0,0,0,0,0,0,0,0,0,0,0,0,0,0,0,0,0,0,0,0,0,0,0,0,0,0,0,0,0,0,0,0,0,0,0,0,0,0,0,0,0,0,0,0,0,0,0,0,0,0,0,0,0,0,0,0,0,0,0,0,0,0,0,0,0,0,0,0,0,0,0],\"ch4\":[0,0,0,0,0,0,0,0,0,0,0,0,0,0,0,0,0,0,0,0,0,0,0,0,0,0,0,0,0,0,0,0,0,0,0,0,0,0,0,0,0,0,0,0,0,0,0,0,0,0,0,0,0,0,0,0,0,0,0,0,0,0,0,0,0,0,0,0,0,0,0,0,0,0,0,0,0,0,0,0,0,0,0,0,0,0,0,0,0,0,0,0,0,0,0,0,0,0,0,0],\"ch5\":[0,0,0,0,0,0,0,0,0,0,0,0,0,0,0,0,0,0,0,0,0,0,0,0,0,0,0,0,0,0,0,0,0,0,0,0,0,0,0,0,0,0,0,0,0,0,0,0,0,0,0,0,0,0,0,0,0,0,0,0,0,0,0,0,0,0,0,0,0,0,0,0,0,0,0,0,0,0,0,0,0,0,0,0,0,0,0,0,0,0,0,0,0,0,0,0,0,0,0,0],\"ch6\":[0,0,0,0,0,0,0,0,0,0,0,0,0,0,0,0,0,0,0,0,0,0,0,0,0,0,0,0,0,0,0,0,0,0,0,0,0,0,0,0,0,0,0,0,0,0,0,0,0,0,0,0,0,0,0,0,0,0,0,0,0,0,0,0,0,0,0,0,0,0,0,0,0,0,0,0,0,0,0,0,0,0,0,0,0,0,0,0,0,0,0,0,0,0,0,0,0,0,0,0],\"ch7\":[0,0,0,0,0,0,0,0,0,0,0,0,0,0,0,0,0,0,0,0,0,0,0,0,0,0,0,0,0,0,0,0,0,0,0,0,0,0,0,0,0,0,0,0,0,0,0,0,0,0,0,0,0,0,0,0,0,0,0,0,0,0,0,0,0,0,0,0,0,0,0,0,0,0,0,0,0,0,0,0,0,0,0,0,0,0,0,0,0,0,0,0,0,0,0,0,0,0,0,0],\"ch8\":[0,0,0,0,0,0,0,0,0,0,0,0,0,0,0,0,0,0,0,0,0,0,0,0,0,0,0,0,0,0,0,0,0,0,0,0,0,0,0,0,0,0,0,0,0,0,0,0,0,0,0,0,0,0,0,0,0,0,0,0,0,0,0,0,0,0,0,0,0,0,0,0,0,0,0,0,0,0,0,0,0,0,0,0,0,0,0,0,0,0,0,0,0,0,0,0,0,0,0,0]}'\n",
      "++Rcv decoded: fin=1 opcode=1 data=b'{\"ch1\":[0,0,0,0,0,0,0,0,0,0,0,0,0,0,0,0,0,0,0,0,0,0,0,0,0,0,0,0,0,0,0,0,0,0,0,0,0,0,0,0,0,0,0,0,0,0,0,0,0,0,0,0,0,0,0,0,0,0,0,0,0,0,0,0,0,0,0,0,0,0,0,0,0,0,0,0,0,0,0,0,0,0,0,0,0,0,0,0,0,0,0,0,0,0,0,0,0,0,0,0],\"ch2\":[0,0,0,0,0,0,0,0,0,0,0,0,0,0,0,0,0,0,0,0,0,0,0,0,0,0,0,0,0,0,0,0,0,0,0,0,0,0,0,0,0,0,0,0,0,0,0,0,0,0,0,0,0,0,0,0,0,0,0,0,0,0,0,0,0,0,0,0,0,0,0,0,0,0,0,0,0,0,0,0,0,0,0,0,0,0,0,0,0,0,0,0,0,0,0,0,0,0,0,0],\"ch3\":[0,0,0,0,0,0,0,0,0,0,0,0,0,0,0,0,0,0,0,0,0,0,0,0,0,0,0,0,0,0,0,0,0,0,0,0,0,0,0,0,0,0,0,0,0,0,0,0,0,0,0,0,0,0,0,0,0,0,0,0,0,0,0,0,0,0,0,0,0,0,0,0,0,0,0,0,0,0,0,0,0,0,0,0,0,0,0,0,0,0,0,0,0,0,0,0,0,0,0,0],\"ch4\":[0,0,0,0,0,0,0,0,0,0,0,0,0,0,0,0,0,0,0,0,0,0,0,0,0,0,0,0,0,0,0,0,0,0,0,0,0,0,0,0,0,0,0,0,0,0,0,0,0,0,0,0,0,0,0,0,0,0,0,0,0,0,0,0,0,0,0,0,0,0,0,0,0,0,0,0,0,0,0,0,0,0,0,0,0,0,0,0,0,0,0,0,0,0,0,0,0,0,0,0],\"ch5\":[0,0,0,0,0,0,0,0,0,0,0,0,0,0,0,0,0,0,0,0,0,0,0,0,0,0,0,0,0,0,0,0,0,0,0,0,0,0,0,0,0,0,0,0,0,0,0,0,0,0,0,0,0,0,0,0,0,0,0,0,0,0,0,0,0,0,0,0,0,0,0,0,0,0,0,0,0,0,0,0,0,0,0,0,0,0,0,0,0,0,0,0,0,0,0,0,0,0,0,0],\"ch6\":[0,0,0,0,0,0,0,0,0,0,0,0,0,0,0,0,0,0,0,0,0,0,0,0,0,0,0,0,0,0,0,0,0,0,0,0,0,0,0,0,0,0,0,0,0,0,0,0,0,0,0,0,0,0,0,0,0,0,0,0,0,0,0,0,0,0,0,0,0,0,0,0,0,0,0,0,0,0,0,0,0,0,0,0,0,0,0,0,0,0,0,0,0,0,0,0,0,0,0,0],\"ch7\":[0,0,0,0,0,0,0,0,0,0,0,0,0,0,0,0,0,0,0,0,0,0,0,0,0,0,0,0,0,0,0,0,0,0,0,0,0,0,0,0,0,0,0,0,0,0,0,0,0,0,0,0,0,0,0,0,0,0,0,0,0,0,0,0,0,0,0,0,0,0,0,0,0,0,0,0,0,0,0,0,0,0,0,0,0,0,0,0,0,0,0,0,0,0,0,0,0,0,0,0],\"ch8\":[0,0,0,0,0,0,0,0,0,0,0,0,0,0,0,0,0,0,0,0,0,0,0,0,0,0,0,0,0,0,0,0,0,0,0,0,0,0,0,0,0,0,0,0,0,0,0,0,0,0,0,0,0,0,0,0,0,0,0,0,0,0,0,0,0,0,0,0,0,0,0,0,0,0,0,0,0,0,0,0,0,0,0,0,0,0,0,0,0,0,0,0,0,0,0,0,0,0,0,0]}'\n",
      "++Sent raw: b'\\x81\\x9b}\\xfe\\x8f\\x11\\x0e\\x8a\\xe0a\"\\x9a\\xeee\\x1c\\xa1\\xfbc\\x1c\\x90\\xfcw\\x18\\x8c\\xd0w\\x0f\\x91\\xe2N\\x1c\\x9a\\xfc'\n",
      "++Sent decoded: fin=1 opcode=1 data=b'stop_data_transfer_from_ads'\n"
     ]
    },
    {
     "name": "stdout",
     "output_type": "stream",
     "text": [
      "here\n"
     ]
    },
    {
     "name": "stderr",
     "output_type": "stream",
     "text": [
      "/tmp/ipykernel_29567/4154560659.py:274: RuntimeWarning:\n",
      "\n",
      "Mean of empty slice.\n",
      "\n",
      "/home/biorp/.local/lib/python3.10/site-packages/numpy/core/_methods.py:190: RuntimeWarning:\n",
      "\n",
      "invalid value encountered in divide\n",
      "\n"
     ]
    }
   ],
   "source": [
    "res=communicator.step(communicator.action_space.sample())"
   ]
  },
  {
   "cell_type": "code",
   "execution_count": 137,
   "metadata": {},
   "outputs": [
    {
     "data": {
      "text/plain": [
       "'[[0 0 0 0 0 0 0 0]\\n [0 0 0 0 0 0 0 0]\\n [0 0 0 0 0 0 0 0]\\n [0 0 0 0 0 0 0 0]\\n [0 0 0 0 0 0 0 0]\\n [0 0 0 0 0 0 0 0]\\n [0 0 0 0 0 0 0 0]\\n [0 0 0 0 0 0 0 0]\\n [0 0 0 0 0 0 0 0]\\n [0 0 0 0 0 0 0 0]\\n [0 0 0 0 0 0 0 0]\\n [0 0 0 0 0 0 0 0]\\n [0 0 0 0 0 0 0 0]\\n [0 0 0 0 0 0 0 0]\\n [0 0 0 0 0 0 0 0]\\n [0 0 0 0 0 0 0 0]\\n [0 0 0 0 0 0 0 0]\\n [0 0 0 0 0 0 0 0]\\n [0 0 0 0 0 0 0 0]\\n [0 0 0 0 0 0 0 0]\\n [0 0 0 0 0 0 0 0]\\n [0 0 0 0 0 0 0 0]\\n [0 0 0 0 0 0 0 0]\\n [0 0 0 0 0 0 0 0]\\n [0 0 0 0 0 0 0 0]\\n [0 0 0 0 0 0 0 0]\\n [0 0 0 0 0 0 0 0]\\n [0 0 0 0 0 0 0 0]\\n [0 0 0 0 0 0 0 0]\\n [0 0 0 0 0 0 0 0]\\n [0 0 0 0 0 0 0 0]\\n [0 0 0 0 0 0 0 0]\\n [0 0 0 0 0 0 0 0]\\n [0 0 0 0 0 0 0 0]\\n [0 0 0 0 0 0 0 0]\\n [0 0 0 0 0 0 0 0]\\n [0 0 0 0 0 0 0 0]\\n [0 0 0 0 0 0 0 0]\\n [0 0 0 0 0 0 0 0]\\n [0 0 0 0 0 0 0 0]\\n [0 0 0 0 0 0 0 0]\\n [0 0 0 0 0 0 0 0]\\n [0 0 0 0 0 0 0 0]\\n [0 0 0 0 0 0 0 0]\\n [0 0 0 0 0 0 0 0]\\n [0 0 0 0 0 0 0 0]\\n [0 0 0 0 0 0 0 0]\\n [0 0 0 0 0 0 0 0]\\n [0 0 0 0 0 0 0 0]\\n [0 0 0 0 0 0 0 0]\\n [0 0 0 0 0 0 0 0]\\n [0 0 0 0 0 0 0 0]\\n [0 0 0 0 0 0 0 0]\\n [0 0 0 0 0 0 0 0]\\n [0 0 0 0 0 0 0 0]\\n [0 0 0 0 0 0 0 0]\\n [0 0 0 0 0 0 0 0]\\n [0 0 0 0 0 0 0 0]\\n [0 0 0 0 0 0 0 0]\\n [0 0 0 0 0 0 0 0]\\n [0 0 0 0 0 0 0 0]\\n [0 0 0 0 0 0 0 0]\\n [0 0 0 0 0 0 0 0]\\n [0 0 0 0 0 0 0 0]\\n [0 0 0 0 0 0 0 0]\\n [0 0 0 0 0 0 0 0]\\n [0 0 0 0 0 0 0 0]\\n [0 0 0 0 0 0 0 0]\\n [0 0 0 0 0 0 0 0]\\n [0 0 0 0 0 0 0 0]\\n [0 0 0 0 0 0 0 0]\\n [0 0 0 0 0 0 0 0]\\n [0 0 0 0 0 0 0 0]\\n [0 0 0 0 0 0 0 0]\\n [0 0 0 0 0 0 0 0]\\n [0 0 0 0 0 0 0 0]\\n [0 0 0 0 0 0 0 0]\\n [0 0 0 0 0 0 0 0]\\n [0 0 0 0 0 0 0 0]\\n [0 0 0 0 0 0 0 0]\\n [0 0 0 0 0 0 0 0]\\n [0 0 0 0 0 0 0 0]\\n [0 0 0 0 0 0 0 0]\\n [0 0 0 0 0 0 0 0]\\n [0 0 0 0 0 0 0 0]\\n [0 0 0 0 0 0 0 0]\\n [0 0 0 0 0 0 0 0]\\n [0 0 0 0 0 0 0 0]\\n [0 0 0 0 0 0 0 0]\\n [0 0 0 0 0 0 0 0]\\n [0 0 0 0 0 0 0 0]\\n [0 0 0 0 0 0 0 0]\\n [0 0 0 0 0 0 0 0]\\n [0 0 0 0 0 0 0 0]\\n [0 0 0 0 0 0 0 0]\\n [0 0 0 0 0 0 0 0]\\n [0 0 0 0 0 0 0 0]\\n [0 0 0 0 0 0 0 0]\\n [0 0 0 0 0 0 0 0]\\n [0 0 0 0 0 0 0 0]]'"
      ]
     },
     "execution_count": 137,
     "metadata": {},
     "output_type": "execute_result"
    }
   ],
   "source": [
    "str(communicator.cur_observations['raw_data'])"
   ]
  },
  {
   "cell_type": "code",
   "execution_count": 147,
   "metadata": {},
   "outputs": [
    {
     "data": {
      "text/plain": [
       "{'fft': [[1061.82,\n",
       "   64.85400006812361,\n",
       "   32.05495321370078,\n",
       "   37.45840095159833,\n",
       "   40.12737658646226,\n",
       "   71.23357224860794,\n",
       "   82.65749945364101,\n",
       "   86.90947544120378,\n",
       "   56.68757962490529,\n",
       "   72.66634427665639,\n",
       "   89.94266372698853,\n",
       "   29.74025383177499,\n",
       "   43.97035613047283,\n",
       "   67.9856736888025,\n",
       "   144.40794694960115,\n",
       "   19.744174774811526,\n",
       "   49.4974469963815,\n",
       "   34.67174799366255,\n",
       "   24.311509411140914,\n",
       "   17.013056768317995,\n",
       "   36.899002180445834,\n",
       "   39.36445239701676,\n",
       "   67.37027060991637,\n",
       "   44.49914624314557,\n",
       "   50.192479732744275,\n",
       "   123.83855457812808,\n",
       "   70.87210609941444,\n",
       "   8.251014486548272,\n",
       "   4.514411299458669,\n",
       "   74.31174780532974,\n",
       "   49.1794392169519,\n",
       "   28.522124232046686,\n",
       "   55.6631156419679,\n",
       "   37.522468137469,\n",
       "   36.24489987496416,\n",
       "   43.563960177541865,\n",
       "   54.48147322683956,\n",
       "   12.761606074613063,\n",
       "   68.65836115023832,\n",
       "   32.76670651208926,\n",
       "   108.77349143098908,\n",
       "   62.114658938899886,\n",
       "   7.716727266762501,\n",
       "   110.02813722740102,\n",
       "   59.42707236476817,\n",
       "   47.11455741926898,\n",
       "   39.28693343822635,\n",
       "   23.61598179382128,\n",
       "   84.60577556095157,\n",
       "   31.980668098855286,\n",
       "   58.7],\n",
       "  [947.06,\n",
       "   17.610253961068278,\n",
       "   39.847152208827055,\n",
       "   32.602957925281785,\n",
       "   7.363916623275132,\n",
       "   12.056366716345984,\n",
       "   39.240547396249106,\n",
       "   74.93180639007812,\n",
       "   42.05892243620955,\n",
       "   24.867734406493724,\n",
       "   51.43277098891173,\n",
       "   57.330610934830176,\n",
       "   17.152467438978178,\n",
       "   27.99257667077068,\n",
       "   54.76356812164845,\n",
       "   32.29725920996965,\n",
       "   35.91763631803697,\n",
       "   60.73843322083565,\n",
       "   15.121965116872703,\n",
       "   38.647171369786555,\n",
       "   80.98456495096929,\n",
       "   91.02585012305282,\n",
       "   52.83508327689751,\n",
       "   76.30921327366816,\n",
       "   48.549937523678985,\n",
       "   47.08401427236212,\n",
       "   74.18000046899948,\n",
       "   40.25569040693438,\n",
       "   26.819162841678253,\n",
       "   37.722917934971804,\n",
       "   93.53806106822057,\n",
       "   50.89160467129291,\n",
       "   65.41242106052546,\n",
       "   102.69403208651333,\n",
       "   37.65165430966042,\n",
       "   109.79220344680009,\n",
       "   26.86391267189559,\n",
       "   60.061827180280936,\n",
       "   12.144378469052873,\n",
       "   4.079374464324843,\n",
       "   84.74293740307945,\n",
       "   77.58090290469956,\n",
       "   38.73162397764863,\n",
       "   36.45262662360081,\n",
       "   58.20554159555614,\n",
       "   17.427355835624475,\n",
       "   50.595725979787666,\n",
       "   31.738165014387555,\n",
       "   64.9709196717583,\n",
       "   34.318094932172784,\n",
       "   21.019999999999982],\n",
       "  [972.92,\n",
       "   83.46198097866733,\n",
       "   32.952661538005685,\n",
       "   4.560663657760595,\n",
       "   35.807681645525975,\n",
       "   98.79610109690157,\n",
       "   32.72577271857439,\n",
       "   38.71310766557803,\n",
       "   37.53914630596979,\n",
       "   23.800247152025225,\n",
       "   82.41850217589393,\n",
       "   32.6442740582355,\n",
       "   40.11819281483423,\n",
       "   35.631291728705406,\n",
       "   10.800644983175427,\n",
       "   40.29936196405354,\n",
       "   58.14398802699136,\n",
       "   41.134312070774925,\n",
       "   127.6864372479973,\n",
       "   44.69662802418182,\n",
       "   53.63895444070591,\n",
       "   40.723360112348814,\n",
       "   71.37452616902223,\n",
       "   20.75401865183177,\n",
       "   25.19173005315417,\n",
       "   80.70991512819229,\n",
       "   33.47162885776849,\n",
       "   95.6770490011425,\n",
       "   64.19331164038468,\n",
       "   64.72223904913031,\n",
       "   84.3071272140272,\n",
       "   50.38615653859636,\n",
       "   14.60643702266774,\n",
       "   101.08349001682441,\n",
       "   68.79208773263731,\n",
       "   56.92026760368007,\n",
       "   103.17663021452199,\n",
       "   22.751236936573605,\n",
       "   84.05540765168081,\n",
       "   106.02959951545894,\n",
       "   53.12386814331084,\n",
       "   19.476648041047525,\n",
       "   57.16318051564457,\n",
       "   34.294377603157756,\n",
       "   55.66301715909718,\n",
       "   25.62312567323609,\n",
       "   67.4528330567411,\n",
       "   44.4052563241051,\n",
       "   80.72603461569673,\n",
       "   49.12752932380324,\n",
       "   22.63999999999999],\n",
       "  [1065.76,\n",
       "   42.950975190669624,\n",
       "   32.118247578666406,\n",
       "   71.01743556147053,\n",
       "   47.21229251617515,\n",
       "   57.91030469381915,\n",
       "   50.8098384994144,\n",
       "   38.46000855454052,\n",
       "   80.97202160584857,\n",
       "   70.80812310271008,\n",
       "   86.72381809097149,\n",
       "   67.79355471467451,\n",
       "   38.67413334588548,\n",
       "   108.06654245182375,\n",
       "   15.301651470386691,\n",
       "   39.91661718757368,\n",
       "   56.411398330276946,\n",
       "   38.232421393239115,\n",
       "   39.35247384771753,\n",
       "   37.20100488487892,\n",
       "   28.47631995516117,\n",
       "   34.806383308529455,\n",
       "   92.75635425449791,\n",
       "   53.70587741068565,\n",
       "   34.11633762382949,\n",
       "   40.27531253758311,\n",
       "   128.45265456109294,\n",
       "   67.81282400498881,\n",
       "   69.46612465746053,\n",
       "   39.485929690603484,\n",
       "   37.50144764837869,\n",
       "   44.26414670784146,\n",
       "   46.61372474091716,\n",
       "   55.320599981146735,\n",
       "   63.83781455816132,\n",
       "   77.42300420255901,\n",
       "   8.537951660330977,\n",
       "   54.025636090628666,\n",
       "   92.19580691035173,\n",
       "   58.125875940520466,\n",
       "   37.021485678066604,\n",
       "   10.780137351565754,\n",
       "   72.07787775190056,\n",
       "   16.89554169031205,\n",
       "   87.71122865149528,\n",
       "   67.4913765070787,\n",
       "   124.84798432283189,\n",
       "   27.60279996487308,\n",
       "   28.817080849326334,\n",
       "   35.640309918127556,\n",
       "   98.16],\n",
       "  [1019.46,\n",
       "   35.177270218384706,\n",
       "   45.70131755055236,\n",
       "   93.80540844707403,\n",
       "   35.355645999361556,\n",
       "   30.374177000499923,\n",
       "   81.11491443394242,\n",
       "   72.25686370710382,\n",
       "   138.48791761746557,\n",
       "   54.67637429928837,\n",
       "   55.16256997304766,\n",
       "   16.7220624553108,\n",
       "   66.11532913964548,\n",
       "   54.27525143160568,\n",
       "   29.049243412437157,\n",
       "   20.469227692960555,\n",
       "   50.016174577006204,\n",
       "   45.52098738188854,\n",
       "   62.01534878985483,\n",
       "   55.33856087342855,\n",
       "   33.7548209441283,\n",
       "   77.24361712883812,\n",
       "   42.564445344515555,\n",
       "   101.84909921913578,\n",
       "   57.83983586578718,\n",
       "   79.32981532816018,\n",
       "   89.15346730601361,\n",
       "   54.15127456806404,\n",
       "   30.550848220608962,\n",
       "   43.48592375488565,\n",
       "   78.45308199152295,\n",
       "   44.98225257799285,\n",
       "   54.95757112917872,\n",
       "   47.892290884312125,\n",
       "   12.718222291619433,\n",
       "   33.78023646341692,\n",
       "   87.40742089831024,\n",
       "   50.11758277476454,\n",
       "   40.14887930241628,\n",
       "   30.20899199422978,\n",
       "   23.327564447019213,\n",
       "   32.354840569691774,\n",
       "   64.31212269543704,\n",
       "   41.93575197483021,\n",
       "   99.58673952361494,\n",
       "   42.23735448239716,\n",
       "   102.48402143208827,\n",
       "   129.95723035137715,\n",
       "   63.7932991931548,\n",
       "   22.400306850491948,\n",
       "   9.460000000000004],\n",
       "  [1068.18,\n",
       "   16.46143606894875,\n",
       "   42.99852924464869,\n",
       "   28.67098287860241,\n",
       "   50.09509815406872,\n",
       "   56.81850276800911,\n",
       "   45.37930871824054,\n",
       "   19.00870809209879,\n",
       "   51.74198921881534,\n",
       "   22.34773377466981,\n",
       "   68.52494387942305,\n",
       "   70.49802161429443,\n",
       "   72.84747631095262,\n",
       "   76.15721177464127,\n",
       "   13.843533130851286,\n",
       "   5.536889597576975,\n",
       "   57.33532264403447,\n",
       "   48.7305404238167,\n",
       "   31.485641145030794,\n",
       "   52.87910493303906,\n",
       "   47.02215043374337,\n",
       "   34.77185013601116,\n",
       "   59.95187809632946,\n",
       "   59.46310135449425,\n",
       "   97.80115105428723,\n",
       "   60.52547562803616,\n",
       "   18.96039701809904,\n",
       "   39.895528393175425,\n",
       "   41.37881294001193,\n",
       "   42.533703725482766,\n",
       "   65.73659609625311,\n",
       "   53.04179657432037,\n",
       "   14.386691698219499,\n",
       "   38.74498557595485,\n",
       "   90.954081915069,\n",
       "   95.67578015398811,\n",
       "   77.1042590624105,\n",
       "   35.59856495272975,\n",
       "   27.742800163899414,\n",
       "   11.428703788159094,\n",
       "   35.12802540118655,\n",
       "   91.71626185339056,\n",
       "   49.95730440252001,\n",
       "   68.43683581237656,\n",
       "   60.07550464153978,\n",
       "   84.34352665564627,\n",
       "   100.89515960500187,\n",
       "   113.11323392430417,\n",
       "   45.071614522416084,\n",
       "   30.56781355565222,\n",
       "   18.500000000000014],\n",
       "  [963.68,\n",
       "   54.83237302926791,\n",
       "   79.54975768929673,\n",
       "   44.81670475073659,\n",
       "   103.5436852523172,\n",
       "   18.790448432638687,\n",
       "   46.42701809233225,\n",
       "   40.61794863887008,\n",
       "   28.45287065619303,\n",
       "   89.00331136199983,\n",
       "   68.63078046909564,\n",
       "   34.6176441308815,\n",
       "   74.64999487117649,\n",
       "   12.447765104207658,\n",
       "   50.750253291720355,\n",
       "   47.166354405462286,\n",
       "   34.62412610691701,\n",
       "   100.92785018528575,\n",
       "   128.42707639359992,\n",
       "   98.9749376112755,\n",
       "   54.46392605926612,\n",
       "   114.57610259535605,\n",
       "   72.00063580175033,\n",
       "   30.803734653278326,\n",
       "   10.493542408460792,\n",
       "   25.127976440612954,\n",
       "   37.66422832440162,\n",
       "   104.44433120621227,\n",
       "   88.78214010460178,\n",
       "   49.314192663445176,\n",
       "   36.08668968197003,\n",
       "   26.525614764120903,\n",
       "   31.668996799040595,\n",
       "   64.77771171853317,\n",
       "   100.47478255971811,\n",
       "   27.96066124222093,\n",
       "   88.55539397014763,\n",
       "   31.461605094060122,\n",
       "   19.212364683861246,\n",
       "   16.220563165611637,\n",
       "   29.195745549836417,\n",
       "   43.356535823635724,\n",
       "   40.051092394811334,\n",
       "   11.404692474171041,\n",
       "   64.70858926978848,\n",
       "   60.802403593085366,\n",
       "   91.42373511365705,\n",
       "   21.89847040684665,\n",
       "   23.98328656113371,\n",
       "   38.77418434057013,\n",
       "   17.95999999999999],\n",
       "  [1090.84,\n",
       "   28.66606042969166,\n",
       "   11.150860306946882,\n",
       "   17.41213463857447,\n",
       "   61.62832996217211,\n",
       "   62.77229034062516,\n",
       "   5.493824468888692,\n",
       "   50.78588203632183,\n",
       "   28.667689053877652,\n",
       "   37.41884957274997,\n",
       "   38.83404338680371,\n",
       "   96.59803980230096,\n",
       "   55.09139652643175,\n",
       "   39.600055841087766,\n",
       "   43.27332433720757,\n",
       "   5.729224130806787,\n",
       "   16.954283768606803,\n",
       "   35.33233622994451,\n",
       "   7.923287120183772,\n",
       "   85.74967211305835,\n",
       "   74.8783707775963,\n",
       "   50.433516203988574,\n",
       "   17.12619896282661,\n",
       "   33.89018505868344,\n",
       "   72.51452125699602,\n",
       "   88.18796289743858,\n",
       "   123.03054096908505,\n",
       "   14.666723587919318,\n",
       "   44.931157863438465,\n",
       "   37.84933193648691,\n",
       "   19.98379028692624,\n",
       "   17.36713894612524,\n",
       "   21.442408353104888,\n",
       "   11.26995938507559,\n",
       "   34.67276538463282,\n",
       "   76.04537768754005,\n",
       "   7.69165416173811,\n",
       "   55.19158554361527,\n",
       "   21.011296930421867,\n",
       "   89.17837313514492,\n",
       "   62.608743715976374,\n",
       "   35.08162493366708,\n",
       "   32.74189827551108,\n",
       "   135.1217706085653,\n",
       "   14.99468323414463,\n",
       "   31.572951851396873,\n",
       "   30.51821204261252,\n",
       "   74.17236281965884,\n",
       "   80.79746998481367,\n",
       "   29.113845450893972,\n",
       "   18.92]]}"
      ]
     },
     "execution_count": 147,
     "metadata": {},
     "output_type": "execute_result"
    }
   ],
   "source": [
    "s=json.dumps({'fft':communicator.cur_observations['fft'].tolist()})\n",
    "json.loads(s)"
   ]
  },
  {
   "cell_type": "code",
   "execution_count": 132,
   "metadata": {},
   "outputs": [
    {
     "data": {
      "application/vnd.plotly.v1+json": {
       "config": {
        "plotlyServerURL": "https://plot.ly"
       },
       "data": [
        {
         "mode": "lines+markers",
         "name": "Current episode rewards",
         "type": "scatter",
         "x": [
          0
         ],
         "xaxis": "x",
         "y": [
          1.413986325263977
         ],
         "yaxis": "y"
        },
        {
         "mode": "lines+markers",
         "name": "Previous episode max rewards",
         "type": "scatter",
         "x": [],
         "xaxis": "x2",
         "y": [],
         "yaxis": "y2"
        },
        {
         "mode": "lines+markers",
         "name": "Previous episode total rewards",
         "type": "scatter",
         "x": [],
         "xaxis": "x3",
         "y": [],
         "yaxis": "y3"
        }
       ],
       "layout": {
        "height": 500,
        "template": {
         "data": {
          "bar": [
           {
            "error_x": {
             "color": "#2a3f5f"
            },
            "error_y": {
             "color": "#2a3f5f"
            },
            "marker": {
             "line": {
              "color": "#E5ECF6",
              "width": 0.5
             },
             "pattern": {
              "fillmode": "overlay",
              "size": 10,
              "solidity": 0.2
             }
            },
            "type": "bar"
           }
          ],
          "barpolar": [
           {
            "marker": {
             "line": {
              "color": "#E5ECF6",
              "width": 0.5
             },
             "pattern": {
              "fillmode": "overlay",
              "size": 10,
              "solidity": 0.2
             }
            },
            "type": "barpolar"
           }
          ],
          "carpet": [
           {
            "aaxis": {
             "endlinecolor": "#2a3f5f",
             "gridcolor": "white",
             "linecolor": "white",
             "minorgridcolor": "white",
             "startlinecolor": "#2a3f5f"
            },
            "baxis": {
             "endlinecolor": "#2a3f5f",
             "gridcolor": "white",
             "linecolor": "white",
             "minorgridcolor": "white",
             "startlinecolor": "#2a3f5f"
            },
            "type": "carpet"
           }
          ],
          "choropleth": [
           {
            "colorbar": {
             "outlinewidth": 0,
             "ticks": ""
            },
            "type": "choropleth"
           }
          ],
          "contour": [
           {
            "colorbar": {
             "outlinewidth": 0,
             "ticks": ""
            },
            "colorscale": [
             [
              0,
              "#0d0887"
             ],
             [
              0.1111111111111111,
              "#46039f"
             ],
             [
              0.2222222222222222,
              "#7201a8"
             ],
             [
              0.3333333333333333,
              "#9c179e"
             ],
             [
              0.4444444444444444,
              "#bd3786"
             ],
             [
              0.5555555555555556,
              "#d8576b"
             ],
             [
              0.6666666666666666,
              "#ed7953"
             ],
             [
              0.7777777777777778,
              "#fb9f3a"
             ],
             [
              0.8888888888888888,
              "#fdca26"
             ],
             [
              1,
              "#f0f921"
             ]
            ],
            "type": "contour"
           }
          ],
          "contourcarpet": [
           {
            "colorbar": {
             "outlinewidth": 0,
             "ticks": ""
            },
            "type": "contourcarpet"
           }
          ],
          "heatmap": [
           {
            "colorbar": {
             "outlinewidth": 0,
             "ticks": ""
            },
            "colorscale": [
             [
              0,
              "#0d0887"
             ],
             [
              0.1111111111111111,
              "#46039f"
             ],
             [
              0.2222222222222222,
              "#7201a8"
             ],
             [
              0.3333333333333333,
              "#9c179e"
             ],
             [
              0.4444444444444444,
              "#bd3786"
             ],
             [
              0.5555555555555556,
              "#d8576b"
             ],
             [
              0.6666666666666666,
              "#ed7953"
             ],
             [
              0.7777777777777778,
              "#fb9f3a"
             ],
             [
              0.8888888888888888,
              "#fdca26"
             ],
             [
              1,
              "#f0f921"
             ]
            ],
            "type": "heatmap"
           }
          ],
          "heatmapgl": [
           {
            "colorbar": {
             "outlinewidth": 0,
             "ticks": ""
            },
            "colorscale": [
             [
              0,
              "#0d0887"
             ],
             [
              0.1111111111111111,
              "#46039f"
             ],
             [
              0.2222222222222222,
              "#7201a8"
             ],
             [
              0.3333333333333333,
              "#9c179e"
             ],
             [
              0.4444444444444444,
              "#bd3786"
             ],
             [
              0.5555555555555556,
              "#d8576b"
             ],
             [
              0.6666666666666666,
              "#ed7953"
             ],
             [
              0.7777777777777778,
              "#fb9f3a"
             ],
             [
              0.8888888888888888,
              "#fdca26"
             ],
             [
              1,
              "#f0f921"
             ]
            ],
            "type": "heatmapgl"
           }
          ],
          "histogram": [
           {
            "marker": {
             "pattern": {
              "fillmode": "overlay",
              "size": 10,
              "solidity": 0.2
             }
            },
            "type": "histogram"
           }
          ],
          "histogram2d": [
           {
            "colorbar": {
             "outlinewidth": 0,
             "ticks": ""
            },
            "colorscale": [
             [
              0,
              "#0d0887"
             ],
             [
              0.1111111111111111,
              "#46039f"
             ],
             [
              0.2222222222222222,
              "#7201a8"
             ],
             [
              0.3333333333333333,
              "#9c179e"
             ],
             [
              0.4444444444444444,
              "#bd3786"
             ],
             [
              0.5555555555555556,
              "#d8576b"
             ],
             [
              0.6666666666666666,
              "#ed7953"
             ],
             [
              0.7777777777777778,
              "#fb9f3a"
             ],
             [
              0.8888888888888888,
              "#fdca26"
             ],
             [
              1,
              "#f0f921"
             ]
            ],
            "type": "histogram2d"
           }
          ],
          "histogram2dcontour": [
           {
            "colorbar": {
             "outlinewidth": 0,
             "ticks": ""
            },
            "colorscale": [
             [
              0,
              "#0d0887"
             ],
             [
              0.1111111111111111,
              "#46039f"
             ],
             [
              0.2222222222222222,
              "#7201a8"
             ],
             [
              0.3333333333333333,
              "#9c179e"
             ],
             [
              0.4444444444444444,
              "#bd3786"
             ],
             [
              0.5555555555555556,
              "#d8576b"
             ],
             [
              0.6666666666666666,
              "#ed7953"
             ],
             [
              0.7777777777777778,
              "#fb9f3a"
             ],
             [
              0.8888888888888888,
              "#fdca26"
             ],
             [
              1,
              "#f0f921"
             ]
            ],
            "type": "histogram2dcontour"
           }
          ],
          "mesh3d": [
           {
            "colorbar": {
             "outlinewidth": 0,
             "ticks": ""
            },
            "type": "mesh3d"
           }
          ],
          "parcoords": [
           {
            "line": {
             "colorbar": {
              "outlinewidth": 0,
              "ticks": ""
             }
            },
            "type": "parcoords"
           }
          ],
          "pie": [
           {
            "automargin": true,
            "type": "pie"
           }
          ],
          "scatter": [
           {
            "fillpattern": {
             "fillmode": "overlay",
             "size": 10,
             "solidity": 0.2
            },
            "type": "scatter"
           }
          ],
          "scatter3d": [
           {
            "line": {
             "colorbar": {
              "outlinewidth": 0,
              "ticks": ""
             }
            },
            "marker": {
             "colorbar": {
              "outlinewidth": 0,
              "ticks": ""
             }
            },
            "type": "scatter3d"
           }
          ],
          "scattercarpet": [
           {
            "marker": {
             "colorbar": {
              "outlinewidth": 0,
              "ticks": ""
             }
            },
            "type": "scattercarpet"
           }
          ],
          "scattergeo": [
           {
            "marker": {
             "colorbar": {
              "outlinewidth": 0,
              "ticks": ""
             }
            },
            "type": "scattergeo"
           }
          ],
          "scattergl": [
           {
            "marker": {
             "colorbar": {
              "outlinewidth": 0,
              "ticks": ""
             }
            },
            "type": "scattergl"
           }
          ],
          "scattermapbox": [
           {
            "marker": {
             "colorbar": {
              "outlinewidth": 0,
              "ticks": ""
             }
            },
            "type": "scattermapbox"
           }
          ],
          "scatterpolar": [
           {
            "marker": {
             "colorbar": {
              "outlinewidth": 0,
              "ticks": ""
             }
            },
            "type": "scatterpolar"
           }
          ],
          "scatterpolargl": [
           {
            "marker": {
             "colorbar": {
              "outlinewidth": 0,
              "ticks": ""
             }
            },
            "type": "scatterpolargl"
           }
          ],
          "scatterternary": [
           {
            "marker": {
             "colorbar": {
              "outlinewidth": 0,
              "ticks": ""
             }
            },
            "type": "scatterternary"
           }
          ],
          "surface": [
           {
            "colorbar": {
             "outlinewidth": 0,
             "ticks": ""
            },
            "colorscale": [
             [
              0,
              "#0d0887"
             ],
             [
              0.1111111111111111,
              "#46039f"
             ],
             [
              0.2222222222222222,
              "#7201a8"
             ],
             [
              0.3333333333333333,
              "#9c179e"
             ],
             [
              0.4444444444444444,
              "#bd3786"
             ],
             [
              0.5555555555555556,
              "#d8576b"
             ],
             [
              0.6666666666666666,
              "#ed7953"
             ],
             [
              0.7777777777777778,
              "#fb9f3a"
             ],
             [
              0.8888888888888888,
              "#fdca26"
             ],
             [
              1,
              "#f0f921"
             ]
            ],
            "type": "surface"
           }
          ],
          "table": [
           {
            "cells": {
             "fill": {
              "color": "#EBF0F8"
             },
             "line": {
              "color": "white"
             }
            },
            "header": {
             "fill": {
              "color": "#C8D4E3"
             },
             "line": {
              "color": "white"
             }
            },
            "type": "table"
           }
          ]
         },
         "layout": {
          "annotationdefaults": {
           "arrowcolor": "#2a3f5f",
           "arrowhead": 0,
           "arrowwidth": 1
          },
          "autotypenumbers": "strict",
          "coloraxis": {
           "colorbar": {
            "outlinewidth": 0,
            "ticks": ""
           }
          },
          "colorscale": {
           "diverging": [
            [
             0,
             "#8e0152"
            ],
            [
             0.1,
             "#c51b7d"
            ],
            [
             0.2,
             "#de77ae"
            ],
            [
             0.3,
             "#f1b6da"
            ],
            [
             0.4,
             "#fde0ef"
            ],
            [
             0.5,
             "#f7f7f7"
            ],
            [
             0.6,
             "#e6f5d0"
            ],
            [
             0.7,
             "#b8e186"
            ],
            [
             0.8,
             "#7fbc41"
            ],
            [
             0.9,
             "#4d9221"
            ],
            [
             1,
             "#276419"
            ]
           ],
           "sequential": [
            [
             0,
             "#0d0887"
            ],
            [
             0.1111111111111111,
             "#46039f"
            ],
            [
             0.2222222222222222,
             "#7201a8"
            ],
            [
             0.3333333333333333,
             "#9c179e"
            ],
            [
             0.4444444444444444,
             "#bd3786"
            ],
            [
             0.5555555555555556,
             "#d8576b"
            ],
            [
             0.6666666666666666,
             "#ed7953"
            ],
            [
             0.7777777777777778,
             "#fb9f3a"
            ],
            [
             0.8888888888888888,
             "#fdca26"
            ],
            [
             1,
             "#f0f921"
            ]
           ],
           "sequentialminus": [
            [
             0,
             "#0d0887"
            ],
            [
             0.1111111111111111,
             "#46039f"
            ],
            [
             0.2222222222222222,
             "#7201a8"
            ],
            [
             0.3333333333333333,
             "#9c179e"
            ],
            [
             0.4444444444444444,
             "#bd3786"
            ],
            [
             0.5555555555555556,
             "#d8576b"
            ],
            [
             0.6666666666666666,
             "#ed7953"
            ],
            [
             0.7777777777777778,
             "#fb9f3a"
            ],
            [
             0.8888888888888888,
             "#fdca26"
            ],
            [
             1,
             "#f0f921"
            ]
           ]
          },
          "colorway": [
           "#636efa",
           "#EF553B",
           "#00cc96",
           "#ab63fa",
           "#FFA15A",
           "#19d3f3",
           "#FF6692",
           "#B6E880",
           "#FF97FF",
           "#FECB52"
          ],
          "font": {
           "color": "#2a3f5f"
          },
          "geo": {
           "bgcolor": "white",
           "lakecolor": "white",
           "landcolor": "#E5ECF6",
           "showlakes": true,
           "showland": true,
           "subunitcolor": "white"
          },
          "hoverlabel": {
           "align": "left"
          },
          "hovermode": "closest",
          "mapbox": {
           "style": "light"
          },
          "paper_bgcolor": "white",
          "plot_bgcolor": "#E5ECF6",
          "polar": {
           "angularaxis": {
            "gridcolor": "white",
            "linecolor": "white",
            "ticks": ""
           },
           "bgcolor": "#E5ECF6",
           "radialaxis": {
            "gridcolor": "white",
            "linecolor": "white",
            "ticks": ""
           }
          },
          "scene": {
           "xaxis": {
            "backgroundcolor": "#E5ECF6",
            "gridcolor": "white",
            "gridwidth": 2,
            "linecolor": "white",
            "showbackground": true,
            "ticks": "",
            "zerolinecolor": "white"
           },
           "yaxis": {
            "backgroundcolor": "#E5ECF6",
            "gridcolor": "white",
            "gridwidth": 2,
            "linecolor": "white",
            "showbackground": true,
            "ticks": "",
            "zerolinecolor": "white"
           },
           "zaxis": {
            "backgroundcolor": "#E5ECF6",
            "gridcolor": "white",
            "gridwidth": 2,
            "linecolor": "white",
            "showbackground": true,
            "ticks": "",
            "zerolinecolor": "white"
           }
          },
          "shapedefaults": {
           "line": {
            "color": "#2a3f5f"
           }
          },
          "ternary": {
           "aaxis": {
            "gridcolor": "white",
            "linecolor": "white",
            "ticks": ""
           },
           "baxis": {
            "gridcolor": "white",
            "linecolor": "white",
            "ticks": ""
           },
           "bgcolor": "#E5ECF6",
           "caxis": {
            "gridcolor": "white",
            "linecolor": "white",
            "ticks": ""
           }
          },
          "title": {
           "x": 0.05
          },
          "xaxis": {
           "automargin": true,
           "gridcolor": "white",
           "linecolor": "white",
           "ticks": "",
           "title": {
            "standoff": 15
           },
           "zerolinecolor": "white",
           "zerolinewidth": 2
          },
          "yaxis": {
           "automargin": true,
           "gridcolor": "white",
           "linecolor": "white",
           "ticks": "",
           "title": {
            "standoff": 15
           },
           "zerolinecolor": "white",
           "zerolinewidth": 2
          }
         }
        },
        "width": 2000,
        "xaxis": {
         "anchor": "y",
         "domain": [
          0,
          0.45
         ]
        },
        "xaxis2": {
         "anchor": "y2",
         "domain": [
          0.55,
          1
         ]
        },
        "xaxis3": {
         "anchor": "y3",
         "domain": [
          0,
          0.45
         ]
        },
        "xaxis4": {
         "anchor": "y4",
         "domain": [
          0.55,
          1
         ]
        },
        "yaxis": {
         "anchor": "x",
         "domain": [
          0.575,
          1
         ]
        },
        "yaxis2": {
         "anchor": "x2",
         "domain": [
          0.575,
          1
         ]
        },
        "yaxis3": {
         "anchor": "x3",
         "domain": [
          0,
          0.425
         ]
        },
        "yaxis4": {
         "anchor": "x4",
         "domain": [
          0,
          0.425
         ]
        }
       }
      }
     },
     "metadata": {},
     "output_type": "display_data"
    },
    {
     "data": {
      "application/vnd.plotly.v1+json": {
       "config": {
        "plotlyServerURL": "https://plot.ly"
       },
       "data": [
        {
         "mode": "lines+markers",
         "name": "Channel 0 spectrum",
         "type": "scatter",
         "x": [
          0,
          1,
          2,
          3,
          4,
          5,
          6,
          7,
          8,
          9,
          10,
          11,
          12,
          13,
          14,
          15,
          16,
          17,
          18,
          19,
          20,
          21,
          22,
          23,
          24,
          25,
          26,
          27,
          28,
          29,
          30,
          31,
          32,
          33,
          34,
          35,
          36,
          37,
          38,
          39,
          40,
          41,
          42,
          43,
          44,
          45,
          46,
          47,
          48,
          49,
          50
         ],
         "xaxis": "x",
         "y": [
          1061.82,
          64.85400006812361,
          32.05495321370078,
          37.45840095159833,
          40.12737658646226,
          71.23357224860794,
          82.65749945364101,
          86.90947544120378,
          56.68757962490529,
          72.66634427665639,
          89.94266372698853,
          29.74025383177499,
          43.97035613047283,
          67.9856736888025,
          144.40794694960115,
          19.744174774811526,
          49.4974469963815,
          34.67174799366255,
          24.311509411140914,
          17.013056768317995,
          36.899002180445834,
          39.36445239701676,
          67.37027060991637,
          44.49914624314557,
          50.192479732744275,
          123.83855457812808,
          70.87210609941444,
          8.251014486548272,
          4.514411299458669,
          74.31174780532974,
          49.1794392169519,
          28.522124232046686,
          55.6631156419679,
          37.522468137469,
          36.24489987496416,
          43.563960177541865,
          54.48147322683956,
          12.761606074613063,
          68.65836115023832,
          32.76670651208926,
          108.77349143098908,
          62.114658938899886,
          7.716727266762501,
          110.02813722740102,
          59.42707236476817,
          47.11455741926898,
          39.28693343822635,
          23.61598179382128,
          84.60577556095157,
          31.980668098855286,
          58.7
         ],
         "yaxis": "y"
        },
        {
         "mode": "lines+markers",
         "name": "Channel 1 spectrum",
         "type": "scatter",
         "x": [
          0,
          1,
          2,
          3,
          4,
          5,
          6,
          7,
          8,
          9,
          10,
          11,
          12,
          13,
          14,
          15,
          16,
          17,
          18,
          19,
          20,
          21,
          22,
          23,
          24,
          25,
          26,
          27,
          28,
          29,
          30,
          31,
          32,
          33,
          34,
          35,
          36,
          37,
          38,
          39,
          40,
          41,
          42,
          43,
          44,
          45,
          46,
          47,
          48,
          49,
          50
         ],
         "xaxis": "x3",
         "y": [
          947.06,
          17.610253961068278,
          39.847152208827055,
          32.602957925281785,
          7.363916623275132,
          12.056366716345984,
          39.240547396249106,
          74.93180639007812,
          42.05892243620955,
          24.867734406493724,
          51.43277098891173,
          57.330610934830176,
          17.152467438978178,
          27.99257667077068,
          54.76356812164845,
          32.29725920996965,
          35.91763631803697,
          60.73843322083565,
          15.121965116872703,
          38.647171369786555,
          80.98456495096929,
          91.02585012305282,
          52.83508327689751,
          76.30921327366816,
          48.549937523678985,
          47.08401427236212,
          74.18000046899948,
          40.25569040693438,
          26.819162841678253,
          37.722917934971804,
          93.53806106822057,
          50.89160467129291,
          65.41242106052546,
          102.69403208651333,
          37.65165430966042,
          109.79220344680009,
          26.86391267189559,
          60.061827180280936,
          12.144378469052873,
          4.079374464324843,
          84.74293740307945,
          77.58090290469956,
          38.73162397764863,
          36.45262662360081,
          58.20554159555614,
          17.427355835624475,
          50.595725979787666,
          31.738165014387555,
          64.9709196717583,
          34.318094932172784,
          21.019999999999982
         ],
         "yaxis": "y3"
        },
        {
         "mode": "lines+markers",
         "name": "Channel 2 spectrum",
         "type": "scatter",
         "x": [
          0,
          1,
          2,
          3,
          4,
          5,
          6,
          7,
          8,
          9,
          10,
          11,
          12,
          13,
          14,
          15,
          16,
          17,
          18,
          19,
          20,
          21,
          22,
          23,
          24,
          25,
          26,
          27,
          28,
          29,
          30,
          31,
          32,
          33,
          34,
          35,
          36,
          37,
          38,
          39,
          40,
          41,
          42,
          43,
          44,
          45,
          46,
          47,
          48,
          49,
          50
         ],
         "xaxis": "x5",
         "y": [
          972.92,
          83.46198097866733,
          32.952661538005685,
          4.560663657760595,
          35.807681645525975,
          98.79610109690157,
          32.72577271857439,
          38.71310766557803,
          37.53914630596979,
          23.800247152025225,
          82.41850217589393,
          32.6442740582355,
          40.11819281483423,
          35.631291728705406,
          10.800644983175427,
          40.29936196405354,
          58.14398802699136,
          41.134312070774925,
          127.6864372479973,
          44.69662802418182,
          53.63895444070591,
          40.723360112348814,
          71.37452616902223,
          20.75401865183177,
          25.19173005315417,
          80.70991512819229,
          33.47162885776849,
          95.6770490011425,
          64.19331164038468,
          64.72223904913031,
          84.3071272140272,
          50.38615653859636,
          14.60643702266774,
          101.08349001682441,
          68.79208773263731,
          56.92026760368007,
          103.17663021452199,
          22.751236936573605,
          84.05540765168081,
          106.02959951545894,
          53.12386814331084,
          19.476648041047525,
          57.16318051564457,
          34.294377603157756,
          55.66301715909718,
          25.62312567323609,
          67.4528330567411,
          44.4052563241051,
          80.72603461569673,
          49.12752932380324,
          22.63999999999999
         ],
         "yaxis": "y5"
        },
        {
         "mode": "lines+markers",
         "name": "Channel 3 spectrum",
         "type": "scatter",
         "x": [
          0,
          1,
          2,
          3,
          4,
          5,
          6,
          7,
          8,
          9,
          10,
          11,
          12,
          13,
          14,
          15,
          16,
          17,
          18,
          19,
          20,
          21,
          22,
          23,
          24,
          25,
          26,
          27,
          28,
          29,
          30,
          31,
          32,
          33,
          34,
          35,
          36,
          37,
          38,
          39,
          40,
          41,
          42,
          43,
          44,
          45,
          46,
          47,
          48,
          49,
          50
         ],
         "xaxis": "x7",
         "y": [
          1065.76,
          42.950975190669624,
          32.118247578666406,
          71.01743556147053,
          47.21229251617515,
          57.91030469381915,
          50.8098384994144,
          38.46000855454052,
          80.97202160584857,
          70.80812310271008,
          86.72381809097149,
          67.79355471467451,
          38.67413334588548,
          108.06654245182375,
          15.301651470386691,
          39.91661718757368,
          56.411398330276946,
          38.232421393239115,
          39.35247384771753,
          37.20100488487892,
          28.47631995516117,
          34.806383308529455,
          92.75635425449791,
          53.70587741068565,
          34.11633762382949,
          40.27531253758311,
          128.45265456109294,
          67.81282400498881,
          69.46612465746053,
          39.485929690603484,
          37.50144764837869,
          44.26414670784146,
          46.61372474091716,
          55.320599981146735,
          63.83781455816132,
          77.42300420255901,
          8.537951660330977,
          54.025636090628666,
          92.19580691035173,
          58.125875940520466,
          37.021485678066604,
          10.780137351565754,
          72.07787775190056,
          16.89554169031205,
          87.71122865149528,
          67.4913765070787,
          124.84798432283189,
          27.60279996487308,
          28.817080849326334,
          35.640309918127556,
          98.16
         ],
         "yaxis": "y7"
        },
        {
         "mode": "lines+markers",
         "name": "Channel 4 spectrum",
         "type": "scatter",
         "x": [
          0,
          1,
          2,
          3,
          4,
          5,
          6,
          7,
          8,
          9,
          10,
          11,
          12,
          13,
          14,
          15,
          16,
          17,
          18,
          19,
          20,
          21,
          22,
          23,
          24,
          25,
          26,
          27,
          28,
          29,
          30,
          31,
          32,
          33,
          34,
          35,
          36,
          37,
          38,
          39,
          40,
          41,
          42,
          43,
          44,
          45,
          46,
          47,
          48,
          49,
          50
         ],
         "xaxis": "x9",
         "y": [
          1019.46,
          35.177270218384706,
          45.70131755055236,
          93.80540844707403,
          35.355645999361556,
          30.374177000499923,
          81.11491443394242,
          72.25686370710382,
          138.48791761746557,
          54.67637429928837,
          55.16256997304766,
          16.7220624553108,
          66.11532913964548,
          54.27525143160568,
          29.049243412437157,
          20.469227692960555,
          50.016174577006204,
          45.52098738188854,
          62.01534878985483,
          55.33856087342855,
          33.7548209441283,
          77.24361712883812,
          42.564445344515555,
          101.84909921913578,
          57.83983586578718,
          79.32981532816018,
          89.15346730601361,
          54.15127456806404,
          30.550848220608962,
          43.48592375488565,
          78.45308199152295,
          44.98225257799285,
          54.95757112917872,
          47.892290884312125,
          12.718222291619433,
          33.78023646341692,
          87.40742089831024,
          50.11758277476454,
          40.14887930241628,
          30.20899199422978,
          23.327564447019213,
          32.354840569691774,
          64.31212269543704,
          41.93575197483021,
          99.58673952361494,
          42.23735448239716,
          102.48402143208827,
          129.95723035137715,
          63.7932991931548,
          22.400306850491948,
          9.460000000000004
         ],
         "yaxis": "y9"
        },
        {
         "mode": "lines+markers",
         "name": "Channel 5 spectrum",
         "type": "scatter",
         "x": [
          0,
          1,
          2,
          3,
          4,
          5,
          6,
          7,
          8,
          9,
          10,
          11,
          12,
          13,
          14,
          15,
          16,
          17,
          18,
          19,
          20,
          21,
          22,
          23,
          24,
          25,
          26,
          27,
          28,
          29,
          30,
          31,
          32,
          33,
          34,
          35,
          36,
          37,
          38,
          39,
          40,
          41,
          42,
          43,
          44,
          45,
          46,
          47,
          48,
          49,
          50
         ],
         "xaxis": "x11",
         "y": [
          1068.18,
          16.46143606894875,
          42.99852924464869,
          28.67098287860241,
          50.09509815406872,
          56.81850276800911,
          45.37930871824054,
          19.00870809209879,
          51.74198921881534,
          22.34773377466981,
          68.52494387942305,
          70.49802161429443,
          72.84747631095262,
          76.15721177464127,
          13.843533130851286,
          5.536889597576975,
          57.33532264403447,
          48.7305404238167,
          31.485641145030794,
          52.87910493303906,
          47.02215043374337,
          34.77185013601116,
          59.95187809632946,
          59.46310135449425,
          97.80115105428723,
          60.52547562803616,
          18.96039701809904,
          39.895528393175425,
          41.37881294001193,
          42.533703725482766,
          65.73659609625311,
          53.04179657432037,
          14.386691698219499,
          38.74498557595485,
          90.954081915069,
          95.67578015398811,
          77.1042590624105,
          35.59856495272975,
          27.742800163899414,
          11.428703788159094,
          35.12802540118655,
          91.71626185339056,
          49.95730440252001,
          68.43683581237656,
          60.07550464153978,
          84.34352665564627,
          100.89515960500187,
          113.11323392430417,
          45.071614522416084,
          30.56781355565222,
          18.500000000000014
         ],
         "yaxis": "y11"
        },
        {
         "mode": "lines+markers",
         "name": "Channel 6 spectrum",
         "type": "scatter",
         "x": [
          0,
          1,
          2,
          3,
          4,
          5,
          6,
          7,
          8,
          9,
          10,
          11,
          12,
          13,
          14,
          15,
          16,
          17,
          18,
          19,
          20,
          21,
          22,
          23,
          24,
          25,
          26,
          27,
          28,
          29,
          30,
          31,
          32,
          33,
          34,
          35,
          36,
          37,
          38,
          39,
          40,
          41,
          42,
          43,
          44,
          45,
          46,
          47,
          48,
          49,
          50
         ],
         "xaxis": "x13",
         "y": [
          963.68,
          54.83237302926791,
          79.54975768929673,
          44.81670475073659,
          103.5436852523172,
          18.790448432638687,
          46.42701809233225,
          40.61794863887008,
          28.45287065619303,
          89.00331136199983,
          68.63078046909564,
          34.6176441308815,
          74.64999487117649,
          12.447765104207658,
          50.750253291720355,
          47.166354405462286,
          34.62412610691701,
          100.92785018528575,
          128.42707639359992,
          98.9749376112755,
          54.46392605926612,
          114.57610259535605,
          72.00063580175033,
          30.803734653278326,
          10.493542408460792,
          25.127976440612954,
          37.66422832440162,
          104.44433120621227,
          88.78214010460178,
          49.314192663445176,
          36.08668968197003,
          26.525614764120903,
          31.668996799040595,
          64.77771171853317,
          100.47478255971811,
          27.96066124222093,
          88.55539397014763,
          31.461605094060122,
          19.212364683861246,
          16.220563165611637,
          29.195745549836417,
          43.356535823635724,
          40.051092394811334,
          11.404692474171041,
          64.70858926978848,
          60.802403593085366,
          91.42373511365705,
          21.89847040684665,
          23.98328656113371,
          38.77418434057013,
          17.95999999999999
         ],
         "yaxis": "y13"
        },
        {
         "mode": "lines+markers",
         "name": "Channel 7 spectrum",
         "type": "scatter",
         "x": [
          0,
          1,
          2,
          3,
          4,
          5,
          6,
          7,
          8,
          9,
          10,
          11,
          12,
          13,
          14,
          15,
          16,
          17,
          18,
          19,
          20,
          21,
          22,
          23,
          24,
          25,
          26,
          27,
          28,
          29,
          30,
          31,
          32,
          33,
          34,
          35,
          36,
          37,
          38,
          39,
          40,
          41,
          42,
          43,
          44,
          45,
          46,
          47,
          48,
          49,
          50
         ],
         "xaxis": "x15",
         "y": [
          1090.84,
          28.66606042969166,
          11.150860306946882,
          17.41213463857447,
          61.62832996217211,
          62.77229034062516,
          5.493824468888692,
          50.78588203632183,
          28.667689053877652,
          37.41884957274997,
          38.83404338680371,
          96.59803980230096,
          55.09139652643175,
          39.600055841087766,
          43.27332433720757,
          5.729224130806787,
          16.954283768606803,
          35.33233622994451,
          7.923287120183772,
          85.74967211305835,
          74.8783707775963,
          50.433516203988574,
          17.12619896282661,
          33.89018505868344,
          72.51452125699602,
          88.18796289743858,
          123.03054096908505,
          14.666723587919318,
          44.931157863438465,
          37.84933193648691,
          19.98379028692624,
          17.36713894612524,
          21.442408353104888,
          11.26995938507559,
          34.67276538463282,
          76.04537768754005,
          7.69165416173811,
          55.19158554361527,
          21.011296930421867,
          89.17837313514492,
          62.608743715976374,
          35.08162493366708,
          32.74189827551108,
          135.1217706085653,
          14.99468323414463,
          31.572951851396873,
          30.51821204261252,
          74.17236281965884,
          80.79746998481367,
          29.113845450893972,
          18.92
         ],
         "yaxis": "y15"
        },
        {
         "name": "Channel 0 frequency bins",
         "type": "bar",
         "x": [
          "0.001-0.5 Hz",
          "0.5-4 Hz",
          "4-8 Hz",
          "8-12 Hz",
          "12-30 Hz"
         ],
         "xaxis": "x2",
         "y": [
          null,
          0.557431,
          0.2584437,
          0.6143918,
          0.5140177
         ],
         "yaxis": "y2"
        },
        {
         "name": "Channel 1 frequency bins",
         "type": "bar",
         "x": [
          "0.001-0.5 Hz",
          "0.5-4 Hz",
          "4-8 Hz",
          "8-12 Hz",
          "12-30 Hz"
         ],
         "xaxis": "x4",
         "y": [
          null,
          0.6115391,
          0.35163704,
          0.53492033,
          0.5244222
         ],
         "yaxis": "y4"
        },
        {
         "name": "Channel 2 frequency bins",
         "type": "bar",
         "x": [
          "0.001-0.5 Hz",
          "0.5-4 Hz",
          "4-8 Hz",
          "8-12 Hz",
          "12-30 Hz"
         ],
         "xaxis": "x6",
         "y": [
          null,
          0.37641063,
          0.6034907,
          0.46496505,
          0.39905003
         ],
         "yaxis": "y6"
        },
        {
         "name": "Channel 3 frequency bins",
         "type": "bar",
         "x": [
          "0.001-0.5 Hz",
          "0.5-4 Hz",
          "4-8 Hz",
          "8-12 Hz",
          "12-30 Hz"
         ],
         "xaxis": "x8",
         "y": [
          null,
          0.6984703,
          0.502497,
          0.3136881,
          0.43698317
         ],
         "yaxis": "y8"
        },
        {
         "name": "Channel 4 frequency bins",
         "type": "bar",
         "x": [
          "0.001-0.5 Hz",
          "0.5-4 Hz",
          "4-8 Hz",
          "8-12 Hz",
          "12-30 Hz"
         ],
         "xaxis": "x10",
         "y": [
          null,
          0.4416162,
          0.7498593,
          0.46428233,
          0.53881997
         ],
         "yaxis": "y10"
        },
        {
         "name": "Channel 5 frequency bins",
         "type": "bar",
         "x": [
          "0.001-0.5 Hz",
          "0.5-4 Hz",
          "4-8 Hz",
          "8-12 Hz",
          "12-30 Hz"
         ],
         "xaxis": "x12",
         "y": [
          null,
          0.54615015,
          0.591944,
          0.44244993,
          0.4241587
         ],
         "yaxis": "y12"
        },
        {
         "name": "Channel 6 frequency bins",
         "type": "bar",
         "x": [
          "0.001-0.5 Hz",
          "0.5-4 Hz",
          "4-8 Hz",
          "8-12 Hz",
          "12-30 Hz"
         ],
         "xaxis": "x14",
         "y": [
          null,
          0.23201253,
          0.49930653,
          0.4741491,
          0.4995297
         ],
         "yaxis": "y14"
        },
        {
         "name": "Channel 7 frequency bins",
         "type": "bar",
         "x": [
          "0.001-0.5 Hz",
          "0.5-4 Hz",
          "4-8 Hz",
          "8-12 Hz",
          "12-30 Hz"
         ],
         "xaxis": "x16",
         "y": [
          null,
          0.7244969,
          0.1718883,
          0.50283223,
          0.581755
         ],
         "yaxis": "y16"
        }
       ],
       "layout": {
        "height": 1500,
        "template": {
         "data": {
          "bar": [
           {
            "error_x": {
             "color": "#2a3f5f"
            },
            "error_y": {
             "color": "#2a3f5f"
            },
            "marker": {
             "line": {
              "color": "#E5ECF6",
              "width": 0.5
             },
             "pattern": {
              "fillmode": "overlay",
              "size": 10,
              "solidity": 0.2
             }
            },
            "type": "bar"
           }
          ],
          "barpolar": [
           {
            "marker": {
             "line": {
              "color": "#E5ECF6",
              "width": 0.5
             },
             "pattern": {
              "fillmode": "overlay",
              "size": 10,
              "solidity": 0.2
             }
            },
            "type": "barpolar"
           }
          ],
          "carpet": [
           {
            "aaxis": {
             "endlinecolor": "#2a3f5f",
             "gridcolor": "white",
             "linecolor": "white",
             "minorgridcolor": "white",
             "startlinecolor": "#2a3f5f"
            },
            "baxis": {
             "endlinecolor": "#2a3f5f",
             "gridcolor": "white",
             "linecolor": "white",
             "minorgridcolor": "white",
             "startlinecolor": "#2a3f5f"
            },
            "type": "carpet"
           }
          ],
          "choropleth": [
           {
            "colorbar": {
             "outlinewidth": 0,
             "ticks": ""
            },
            "type": "choropleth"
           }
          ],
          "contour": [
           {
            "colorbar": {
             "outlinewidth": 0,
             "ticks": ""
            },
            "colorscale": [
             [
              0,
              "#0d0887"
             ],
             [
              0.1111111111111111,
              "#46039f"
             ],
             [
              0.2222222222222222,
              "#7201a8"
             ],
             [
              0.3333333333333333,
              "#9c179e"
             ],
             [
              0.4444444444444444,
              "#bd3786"
             ],
             [
              0.5555555555555556,
              "#d8576b"
             ],
             [
              0.6666666666666666,
              "#ed7953"
             ],
             [
              0.7777777777777778,
              "#fb9f3a"
             ],
             [
              0.8888888888888888,
              "#fdca26"
             ],
             [
              1,
              "#f0f921"
             ]
            ],
            "type": "contour"
           }
          ],
          "contourcarpet": [
           {
            "colorbar": {
             "outlinewidth": 0,
             "ticks": ""
            },
            "type": "contourcarpet"
           }
          ],
          "heatmap": [
           {
            "colorbar": {
             "outlinewidth": 0,
             "ticks": ""
            },
            "colorscale": [
             [
              0,
              "#0d0887"
             ],
             [
              0.1111111111111111,
              "#46039f"
             ],
             [
              0.2222222222222222,
              "#7201a8"
             ],
             [
              0.3333333333333333,
              "#9c179e"
             ],
             [
              0.4444444444444444,
              "#bd3786"
             ],
             [
              0.5555555555555556,
              "#d8576b"
             ],
             [
              0.6666666666666666,
              "#ed7953"
             ],
             [
              0.7777777777777778,
              "#fb9f3a"
             ],
             [
              0.8888888888888888,
              "#fdca26"
             ],
             [
              1,
              "#f0f921"
             ]
            ],
            "type": "heatmap"
           }
          ],
          "heatmapgl": [
           {
            "colorbar": {
             "outlinewidth": 0,
             "ticks": ""
            },
            "colorscale": [
             [
              0,
              "#0d0887"
             ],
             [
              0.1111111111111111,
              "#46039f"
             ],
             [
              0.2222222222222222,
              "#7201a8"
             ],
             [
              0.3333333333333333,
              "#9c179e"
             ],
             [
              0.4444444444444444,
              "#bd3786"
             ],
             [
              0.5555555555555556,
              "#d8576b"
             ],
             [
              0.6666666666666666,
              "#ed7953"
             ],
             [
              0.7777777777777778,
              "#fb9f3a"
             ],
             [
              0.8888888888888888,
              "#fdca26"
             ],
             [
              1,
              "#f0f921"
             ]
            ],
            "type": "heatmapgl"
           }
          ],
          "histogram": [
           {
            "marker": {
             "pattern": {
              "fillmode": "overlay",
              "size": 10,
              "solidity": 0.2
             }
            },
            "type": "histogram"
           }
          ],
          "histogram2d": [
           {
            "colorbar": {
             "outlinewidth": 0,
             "ticks": ""
            },
            "colorscale": [
             [
              0,
              "#0d0887"
             ],
             [
              0.1111111111111111,
              "#46039f"
             ],
             [
              0.2222222222222222,
              "#7201a8"
             ],
             [
              0.3333333333333333,
              "#9c179e"
             ],
             [
              0.4444444444444444,
              "#bd3786"
             ],
             [
              0.5555555555555556,
              "#d8576b"
             ],
             [
              0.6666666666666666,
              "#ed7953"
             ],
             [
              0.7777777777777778,
              "#fb9f3a"
             ],
             [
              0.8888888888888888,
              "#fdca26"
             ],
             [
              1,
              "#f0f921"
             ]
            ],
            "type": "histogram2d"
           }
          ],
          "histogram2dcontour": [
           {
            "colorbar": {
             "outlinewidth": 0,
             "ticks": ""
            },
            "colorscale": [
             [
              0,
              "#0d0887"
             ],
             [
              0.1111111111111111,
              "#46039f"
             ],
             [
              0.2222222222222222,
              "#7201a8"
             ],
             [
              0.3333333333333333,
              "#9c179e"
             ],
             [
              0.4444444444444444,
              "#bd3786"
             ],
             [
              0.5555555555555556,
              "#d8576b"
             ],
             [
              0.6666666666666666,
              "#ed7953"
             ],
             [
              0.7777777777777778,
              "#fb9f3a"
             ],
             [
              0.8888888888888888,
              "#fdca26"
             ],
             [
              1,
              "#f0f921"
             ]
            ],
            "type": "histogram2dcontour"
           }
          ],
          "mesh3d": [
           {
            "colorbar": {
             "outlinewidth": 0,
             "ticks": ""
            },
            "type": "mesh3d"
           }
          ],
          "parcoords": [
           {
            "line": {
             "colorbar": {
              "outlinewidth": 0,
              "ticks": ""
             }
            },
            "type": "parcoords"
           }
          ],
          "pie": [
           {
            "automargin": true,
            "type": "pie"
           }
          ],
          "scatter": [
           {
            "fillpattern": {
             "fillmode": "overlay",
             "size": 10,
             "solidity": 0.2
            },
            "type": "scatter"
           }
          ],
          "scatter3d": [
           {
            "line": {
             "colorbar": {
              "outlinewidth": 0,
              "ticks": ""
             }
            },
            "marker": {
             "colorbar": {
              "outlinewidth": 0,
              "ticks": ""
             }
            },
            "type": "scatter3d"
           }
          ],
          "scattercarpet": [
           {
            "marker": {
             "colorbar": {
              "outlinewidth": 0,
              "ticks": ""
             }
            },
            "type": "scattercarpet"
           }
          ],
          "scattergeo": [
           {
            "marker": {
             "colorbar": {
              "outlinewidth": 0,
              "ticks": ""
             }
            },
            "type": "scattergeo"
           }
          ],
          "scattergl": [
           {
            "marker": {
             "colorbar": {
              "outlinewidth": 0,
              "ticks": ""
             }
            },
            "type": "scattergl"
           }
          ],
          "scattermapbox": [
           {
            "marker": {
             "colorbar": {
              "outlinewidth": 0,
              "ticks": ""
             }
            },
            "type": "scattermapbox"
           }
          ],
          "scatterpolar": [
           {
            "marker": {
             "colorbar": {
              "outlinewidth": 0,
              "ticks": ""
             }
            },
            "type": "scatterpolar"
           }
          ],
          "scatterpolargl": [
           {
            "marker": {
             "colorbar": {
              "outlinewidth": 0,
              "ticks": ""
             }
            },
            "type": "scatterpolargl"
           }
          ],
          "scatterternary": [
           {
            "marker": {
             "colorbar": {
              "outlinewidth": 0,
              "ticks": ""
             }
            },
            "type": "scatterternary"
           }
          ],
          "surface": [
           {
            "colorbar": {
             "outlinewidth": 0,
             "ticks": ""
            },
            "colorscale": [
             [
              0,
              "#0d0887"
             ],
             [
              0.1111111111111111,
              "#46039f"
             ],
             [
              0.2222222222222222,
              "#7201a8"
             ],
             [
              0.3333333333333333,
              "#9c179e"
             ],
             [
              0.4444444444444444,
              "#bd3786"
             ],
             [
              0.5555555555555556,
              "#d8576b"
             ],
             [
              0.6666666666666666,
              "#ed7953"
             ],
             [
              0.7777777777777778,
              "#fb9f3a"
             ],
             [
              0.8888888888888888,
              "#fdca26"
             ],
             [
              1,
              "#f0f921"
             ]
            ],
            "type": "surface"
           }
          ],
          "table": [
           {
            "cells": {
             "fill": {
              "color": "#EBF0F8"
             },
             "line": {
              "color": "white"
             }
            },
            "header": {
             "fill": {
              "color": "#C8D4E3"
             },
             "line": {
              "color": "white"
             }
            },
            "type": "table"
           }
          ]
         },
         "layout": {
          "annotationdefaults": {
           "arrowcolor": "#2a3f5f",
           "arrowhead": 0,
           "arrowwidth": 1
          },
          "autotypenumbers": "strict",
          "coloraxis": {
           "colorbar": {
            "outlinewidth": 0,
            "ticks": ""
           }
          },
          "colorscale": {
           "diverging": [
            [
             0,
             "#8e0152"
            ],
            [
             0.1,
             "#c51b7d"
            ],
            [
             0.2,
             "#de77ae"
            ],
            [
             0.3,
             "#f1b6da"
            ],
            [
             0.4,
             "#fde0ef"
            ],
            [
             0.5,
             "#f7f7f7"
            ],
            [
             0.6,
             "#e6f5d0"
            ],
            [
             0.7,
             "#b8e186"
            ],
            [
             0.8,
             "#7fbc41"
            ],
            [
             0.9,
             "#4d9221"
            ],
            [
             1,
             "#276419"
            ]
           ],
           "sequential": [
            [
             0,
             "#0d0887"
            ],
            [
             0.1111111111111111,
             "#46039f"
            ],
            [
             0.2222222222222222,
             "#7201a8"
            ],
            [
             0.3333333333333333,
             "#9c179e"
            ],
            [
             0.4444444444444444,
             "#bd3786"
            ],
            [
             0.5555555555555556,
             "#d8576b"
            ],
            [
             0.6666666666666666,
             "#ed7953"
            ],
            [
             0.7777777777777778,
             "#fb9f3a"
            ],
            [
             0.8888888888888888,
             "#fdca26"
            ],
            [
             1,
             "#f0f921"
            ]
           ],
           "sequentialminus": [
            [
             0,
             "#0d0887"
            ],
            [
             0.1111111111111111,
             "#46039f"
            ],
            [
             0.2222222222222222,
             "#7201a8"
            ],
            [
             0.3333333333333333,
             "#9c179e"
            ],
            [
             0.4444444444444444,
             "#bd3786"
            ],
            [
             0.5555555555555556,
             "#d8576b"
            ],
            [
             0.6666666666666666,
             "#ed7953"
            ],
            [
             0.7777777777777778,
             "#fb9f3a"
            ],
            [
             0.8888888888888888,
             "#fdca26"
            ],
            [
             1,
             "#f0f921"
            ]
           ]
          },
          "colorway": [
           "#636efa",
           "#EF553B",
           "#00cc96",
           "#ab63fa",
           "#FFA15A",
           "#19d3f3",
           "#FF6692",
           "#B6E880",
           "#FF97FF",
           "#FECB52"
          ],
          "font": {
           "color": "#2a3f5f"
          },
          "geo": {
           "bgcolor": "white",
           "lakecolor": "white",
           "landcolor": "#E5ECF6",
           "showlakes": true,
           "showland": true,
           "subunitcolor": "white"
          },
          "hoverlabel": {
           "align": "left"
          },
          "hovermode": "closest",
          "mapbox": {
           "style": "light"
          },
          "paper_bgcolor": "white",
          "plot_bgcolor": "#E5ECF6",
          "polar": {
           "angularaxis": {
            "gridcolor": "white",
            "linecolor": "white",
            "ticks": ""
           },
           "bgcolor": "#E5ECF6",
           "radialaxis": {
            "gridcolor": "white",
            "linecolor": "white",
            "ticks": ""
           }
          },
          "scene": {
           "xaxis": {
            "backgroundcolor": "#E5ECF6",
            "gridcolor": "white",
            "gridwidth": 2,
            "linecolor": "white",
            "showbackground": true,
            "ticks": "",
            "zerolinecolor": "white"
           },
           "yaxis": {
            "backgroundcolor": "#E5ECF6",
            "gridcolor": "white",
            "gridwidth": 2,
            "linecolor": "white",
            "showbackground": true,
            "ticks": "",
            "zerolinecolor": "white"
           },
           "zaxis": {
            "backgroundcolor": "#E5ECF6",
            "gridcolor": "white",
            "gridwidth": 2,
            "linecolor": "white",
            "showbackground": true,
            "ticks": "",
            "zerolinecolor": "white"
           }
          },
          "shapedefaults": {
           "line": {
            "color": "#2a3f5f"
           }
          },
          "ternary": {
           "aaxis": {
            "gridcolor": "white",
            "linecolor": "white",
            "ticks": ""
           },
           "baxis": {
            "gridcolor": "white",
            "linecolor": "white",
            "ticks": ""
           },
           "bgcolor": "#E5ECF6",
           "caxis": {
            "gridcolor": "white",
            "linecolor": "white",
            "ticks": ""
           }
          },
          "title": {
           "x": 0.05
          },
          "xaxis": {
           "automargin": true,
           "gridcolor": "white",
           "linecolor": "white",
           "ticks": "",
           "title": {
            "standoff": 15
           },
           "zerolinecolor": "white",
           "zerolinewidth": 2
          },
          "yaxis": {
           "automargin": true,
           "gridcolor": "white",
           "linecolor": "white",
           "ticks": "",
           "title": {
            "standoff": 15
           },
           "zerolinecolor": "white",
           "zerolinewidth": 2
          }
         }
        },
        "width": 2000,
        "xaxis": {
         "anchor": "y",
         "domain": [
          0,
          0.45
         ]
        },
        "xaxis10": {
         "anchor": "y10",
         "domain": [
          0.55,
          1
         ]
        },
        "xaxis11": {
         "anchor": "y11",
         "domain": [
          0,
          0.45
         ]
        },
        "xaxis12": {
         "anchor": "y12",
         "domain": [
          0.55,
          1
         ]
        },
        "xaxis13": {
         "anchor": "y13",
         "domain": [
          0,
          0.45
         ]
        },
        "xaxis14": {
         "anchor": "y14",
         "domain": [
          0.55,
          1
         ]
        },
        "xaxis15": {
         "anchor": "y15",
         "domain": [
          0,
          0.45
         ]
        },
        "xaxis16": {
         "anchor": "y16",
         "domain": [
          0.55,
          1
         ]
        },
        "xaxis2": {
         "anchor": "y2",
         "domain": [
          0.55,
          1
         ]
        },
        "xaxis3": {
         "anchor": "y3",
         "domain": [
          0,
          0.45
         ]
        },
        "xaxis4": {
         "anchor": "y4",
         "domain": [
          0.55,
          1
         ]
        },
        "xaxis5": {
         "anchor": "y5",
         "domain": [
          0,
          0.45
         ]
        },
        "xaxis6": {
         "anchor": "y6",
         "domain": [
          0.55,
          1
         ]
        },
        "xaxis7": {
         "anchor": "y7",
         "domain": [
          0,
          0.45
         ]
        },
        "xaxis8": {
         "anchor": "y8",
         "domain": [
          0.55,
          1
         ]
        },
        "xaxis9": {
         "anchor": "y9",
         "domain": [
          0,
          0.45
         ]
        },
        "yaxis": {
         "anchor": "x",
         "domain": [
          0.9078124999999999,
          0.9999999999999999
         ]
        },
        "yaxis10": {
         "anchor": "x10",
         "domain": [
          0.38906250000000003,
          0.48125000000000007
         ]
        },
        "yaxis11": {
         "anchor": "x11",
         "domain": [
          0.259375,
          0.3515625
         ]
        },
        "yaxis12": {
         "anchor": "x12",
         "domain": [
          0.259375,
          0.3515625
         ]
        },
        "yaxis13": {
         "anchor": "x13",
         "domain": [
          0.1296875,
          0.22187500000000002
         ]
        },
        "yaxis14": {
         "anchor": "x14",
         "domain": [
          0.1296875,
          0.22187500000000002
         ]
        },
        "yaxis15": {
         "anchor": "x15",
         "domain": [
          0,
          0.0921875
         ]
        },
        "yaxis16": {
         "anchor": "x16",
         "domain": [
          0,
          0.0921875
         ]
        },
        "yaxis2": {
         "anchor": "x2",
         "domain": [
          0.9078124999999999,
          0.9999999999999999
         ]
        },
        "yaxis3": {
         "anchor": "x3",
         "domain": [
          0.778125,
          0.8703124999999999
         ]
        },
        "yaxis4": {
         "anchor": "x4",
         "domain": [
          0.778125,
          0.8703124999999999
         ]
        },
        "yaxis5": {
         "anchor": "x5",
         "domain": [
          0.6484375,
          0.740625
         ]
        },
        "yaxis6": {
         "anchor": "x6",
         "domain": [
          0.6484375,
          0.740625
         ]
        },
        "yaxis7": {
         "anchor": "x7",
         "domain": [
          0.51875,
          0.6109375
         ]
        },
        "yaxis8": {
         "anchor": "x8",
         "domain": [
          0.51875,
          0.6109375
         ]
        },
        "yaxis9": {
         "anchor": "x9",
         "domain": [
          0.38906250000000003,
          0.48125000000000007
         ]
        }
       }
      }
     },
     "metadata": {},
     "output_type": "display_data"
    }
   ],
   "source": [
    "communicator.render()"
   ]
  },
  {
   "cell_type": "code",
   "execution_count": 80,
   "metadata": {},
   "outputs": [
    {
     "data": {
      "text/plain": [
       "(OrderedDict([('raw_data',\n",
       "               array([[0, 0, 0, 0, 0, 0, 0, 0],\n",
       "                      [0, 0, 0, 0, 0, 0, 0, 0],\n",
       "                      [0, 0, 0, 0, 0, 0, 0, 0],\n",
       "                      [0, 0, 0, 0, 0, 0, 0, 0],\n",
       "                      [0, 0, 0, 0, 0, 0, 0, 0],\n",
       "                      [0, 0, 0, 0, 0, 0, 0, 0],\n",
       "                      [0, 0, 0, 0, 0, 0, 0, 0],\n",
       "                      [0, 0, 0, 0, 0, 0, 0, 0],\n",
       "                      [0, 0, 0, 0, 0, 0, 0, 0],\n",
       "                      [0, 0, 0, 0, 0, 0, 0, 0],\n",
       "                      [0, 0, 0, 0, 0, 0, 0, 0],\n",
       "                      [0, 0, 0, 0, 0, 0, 0, 0],\n",
       "                      [0, 0, 0, 0, 0, 0, 0, 0],\n",
       "                      [0, 0, 0, 0, 0, 0, 0, 0],\n",
       "                      [0, 0, 0, 0, 0, 0, 0, 0],\n",
       "                      [0, 0, 0, 0, 0, 0, 0, 0],\n",
       "                      [0, 0, 0, 0, 0, 0, 0, 0],\n",
       "                      [0, 0, 0, 0, 0, 0, 0, 0],\n",
       "                      [0, 0, 0, 0, 0, 0, 0, 0],\n",
       "                      [0, 0, 0, 0, 0, 0, 0, 0],\n",
       "                      [0, 0, 0, 0, 0, 0, 0, 0],\n",
       "                      [0, 0, 0, 0, 0, 0, 0, 0],\n",
       "                      [0, 0, 0, 0, 0, 0, 0, 0],\n",
       "                      [0, 0, 0, 0, 0, 0, 0, 0],\n",
       "                      [0, 0, 0, 0, 0, 0, 0, 0],\n",
       "                      [0, 0, 0, 0, 0, 0, 0, 0],\n",
       "                      [0, 0, 0, 0, 0, 0, 0, 0],\n",
       "                      [0, 0, 0, 0, 0, 0, 0, 0],\n",
       "                      [0, 0, 0, 0, 0, 0, 0, 0],\n",
       "                      [0, 0, 0, 0, 0, 0, 0, 0],\n",
       "                      [0, 0, 0, 0, 0, 0, 0, 0],\n",
       "                      [0, 0, 0, 0, 0, 0, 0, 0],\n",
       "                      [0, 0, 0, 0, 0, 0, 0, 0],\n",
       "                      [0, 0, 0, 0, 0, 0, 0, 0],\n",
       "                      [0, 0, 0, 0, 0, 0, 0, 0],\n",
       "                      [0, 0, 0, 0, 0, 0, 0, 0],\n",
       "                      [0, 0, 0, 0, 0, 0, 0, 0],\n",
       "                      [0, 0, 0, 0, 0, 0, 0, 0],\n",
       "                      [0, 0, 0, 0, 0, 0, 0, 0],\n",
       "                      [0, 0, 0, 0, 0, 0, 0, 0],\n",
       "                      [0, 0, 0, 0, 0, 0, 0, 0],\n",
       "                      [0, 0, 0, 0, 0, 0, 0, 0],\n",
       "                      [0, 0, 0, 0, 0, 0, 0, 0],\n",
       "                      [0, 0, 0, 0, 0, 0, 0, 0],\n",
       "                      [0, 0, 0, 0, 0, 0, 0, 0],\n",
       "                      [0, 0, 0, 0, 0, 0, 0, 0],\n",
       "                      [0, 0, 0, 0, 0, 0, 0, 0],\n",
       "                      [0, 0, 0, 0, 0, 0, 0, 0],\n",
       "                      [0, 0, 0, 0, 0, 0, 0, 0],\n",
       "                      [0, 0, 0, 0, 0, 0, 0, 0],\n",
       "                      [0, 0, 0, 0, 0, 0, 0, 0],\n",
       "                      [0, 0, 0, 0, 0, 0, 0, 0],\n",
       "                      [0, 0, 0, 0, 0, 0, 0, 0],\n",
       "                      [0, 0, 0, 0, 0, 0, 0, 0],\n",
       "                      [0, 0, 0, 0, 0, 0, 0, 0],\n",
       "                      [0, 0, 0, 0, 0, 0, 0, 0],\n",
       "                      [0, 0, 0, 0, 0, 0, 0, 0],\n",
       "                      [0, 0, 0, 0, 0, 0, 0, 0],\n",
       "                      [0, 0, 0, 0, 0, 0, 0, 0],\n",
       "                      [0, 0, 0, 0, 0, 0, 0, 0],\n",
       "                      [0, 0, 0, 0, 0, 0, 0, 0],\n",
       "                      [0, 0, 0, 0, 0, 0, 0, 0],\n",
       "                      [0, 0, 0, 0, 0, 0, 0, 0],\n",
       "                      [0, 0, 0, 0, 0, 0, 0, 0],\n",
       "                      [0, 0, 0, 0, 0, 0, 0, 0],\n",
       "                      [0, 0, 0, 0, 0, 0, 0, 0],\n",
       "                      [0, 0, 0, 0, 0, 0, 0, 0],\n",
       "                      [0, 0, 0, 0, 0, 0, 0, 0],\n",
       "                      [0, 0, 0, 0, 0, 0, 0, 0],\n",
       "                      [0, 0, 0, 0, 0, 0, 0, 0],\n",
       "                      [0, 0, 0, 0, 0, 0, 0, 0],\n",
       "                      [0, 0, 0, 0, 0, 0, 0, 0],\n",
       "                      [0, 0, 0, 0, 0, 0, 0, 0],\n",
       "                      [0, 0, 0, 0, 0, 0, 0, 0],\n",
       "                      [0, 0, 0, 0, 0, 0, 0, 0],\n",
       "                      [0, 0, 0, 0, 0, 0, 0, 0],\n",
       "                      [0, 0, 0, 0, 0, 0, 0, 0],\n",
       "                      [0, 0, 0, 0, 0, 0, 0, 0],\n",
       "                      [0, 0, 0, 0, 0, 0, 0, 0],\n",
       "                      [0, 0, 0, 0, 0, 0, 0, 0],\n",
       "                      [0, 0, 0, 0, 0, 0, 0, 0],\n",
       "                      [0, 0, 0, 0, 0, 0, 0, 0],\n",
       "                      [0, 0, 0, 0, 0, 0, 0, 0],\n",
       "                      [0, 0, 0, 0, 0, 0, 0, 0],\n",
       "                      [0, 0, 0, 0, 0, 0, 0, 0],\n",
       "                      [0, 0, 0, 0, 0, 0, 0, 0],\n",
       "                      [0, 0, 0, 0, 0, 0, 0, 0],\n",
       "                      [0, 0, 0, 0, 0, 0, 0, 0],\n",
       "                      [0, 0, 0, 0, 0, 0, 0, 0],\n",
       "                      [0, 0, 0, 0, 0, 0, 0, 0],\n",
       "                      [0, 0, 0, 0, 0, 0, 0, 0],\n",
       "                      [0, 0, 0, 0, 0, 0, 0, 0],\n",
       "                      [0, 0, 0, 0, 0, 0, 0, 0],\n",
       "                      [0, 0, 0, 0, 0, 0, 0, 0],\n",
       "                      [0, 0, 0, 0, 0, 0, 0, 0],\n",
       "                      [0, 0, 0, 0, 0, 0, 0, 0],\n",
       "                      [0, 0, 0, 0, 0, 0, 0, 0],\n",
       "                      [0, 0, 0, 0, 0, 0, 0, 0],\n",
       "                      [0, 0, 0, 0, 0, 0, 0, 0],\n",
       "                      [0, 0, 0, 0, 0, 0, 0, 0]])),\n",
       "              ('fft',\n",
       "               array([[1049.54      ,   49.06836421,  111.98225449,   45.89247664,\n",
       "                         63.637579  ,   24.88828855,   42.83144032,   24.86216837,\n",
       "                         54.83159374,   73.05672657,   67.17028039,   88.10663254,\n",
       "                         48.5510092 ,   26.454265  ,   10.6655075 ,   52.83549736,\n",
       "                         57.9250794 ,   41.77439315,   55.48477007,   60.60042916,\n",
       "                         54.93757533,   10.19565864,   73.06569218,    7.03556455,\n",
       "                         67.78529703,   47.08003823,   56.05975653,  102.41625115,\n",
       "                         85.11167401,   36.02272309,   67.074438  ,   64.50978813,\n",
       "                        117.46164995,   77.55100632,   73.9348083 ,    9.31382926,\n",
       "                         47.61667348,   71.73359327,   73.71741022,    4.83146755,\n",
       "                         65.71949495,   43.67956235,   56.46987013,   37.43523271,\n",
       "                         72.80647493,   39.92327512,   33.8166421 ,  116.2609936 ,\n",
       "                         39.30771437,   32.22165043,   65.62      ],\n",
       "                      [1018.96      ,   40.33671518,   36.66926952,   94.58474725,\n",
       "                         98.80257065,   15.47301004,  110.68749931,   35.65800253,\n",
       "                        104.01655941,   39.06643099,   27.54293802,   33.29290691,\n",
       "                         31.40097661,   22.81195058,   19.90031131,   63.92638257,\n",
       "                        118.76177804,   70.62581295,   21.18269852,   56.05293546,\n",
       "                         89.79615398,   61.30356027,   52.31219506,   44.91926183,\n",
       "                         68.76524328,   52.43587322,  117.04488476,   69.22966479,\n",
       "                         14.9328537 ,   91.52929841,   72.775137  ,   58.17741617,\n",
       "                         42.28877156,   56.90905707,   26.95128192,   94.45851752,\n",
       "                         33.77599368,   12.26397794,   54.83120773,   17.7097001 ,\n",
       "                         47.00527555,   79.26004225,   72.42839014,   36.52284784,\n",
       "                         34.52772831,   19.96555131,   44.29631616,   15.1988198 ,\n",
       "                         88.39767741,   64.58816082,   66.6       ],\n",
       "                      [1133.52      ,   66.99971361,   59.27682187,   54.83069143,\n",
       "                         33.82184622,   43.26995745,   90.05040063,  108.30802088,\n",
       "                        119.94342419,   53.89288467,   70.30537118,   11.80521597,\n",
       "                         97.69371984,    9.63430974,   41.46704052,   42.93439502,\n",
       "                         61.91279288,   56.79576719,   63.8952663 ,  122.03919496,\n",
       "                         36.18393082,   57.27685214,   25.81637135,   99.09390284,\n",
       "                         48.67449774,   66.50521784,    5.19029621,   49.90720215,\n",
       "                         24.25259295,   19.86710824,   38.58595577,   30.38523108,\n",
       "                         23.02210628,   15.4024839 ,   83.90842653,   61.13474312,\n",
       "                          9.9936306 ,   63.21148602,   47.61299874,   34.98134125,\n",
       "                         88.17061841,   73.01726739,   50.38828165,   68.95468922,\n",
       "                         37.46705277,   36.95580725,   44.2019955 ,   18.32133889,\n",
       "                         63.03559173,   45.7499158 ,   25.04      ],\n",
       "                      [1020.66      ,  115.20525019,   24.33598893,   34.07328213,\n",
       "                         19.5776022 ,   92.93975357,   39.424183  ,   78.95315704,\n",
       "                         12.93549405,  139.9770858 ,   35.31006226,   23.23515468,\n",
       "                        109.07557592,   14.50900275,   11.91549105,   14.76146324,\n",
       "                         94.25532101,   42.46663242,   55.91588115,   34.69816036,\n",
       "                         54.89355924,   63.61156207,   55.98226074,   36.19004266,\n",
       "                         69.00096241,   67.52926773,   57.24668567,   81.22832259,\n",
       "                        102.4657097 ,   84.30371729,   75.34249998,    6.44801762,\n",
       "                         46.88418288,   77.90861102,   72.12115104,   42.75858495,\n",
       "                         88.91261563,   70.4678401 ,   52.54148926,   21.21566043,\n",
       "                         34.72624878,   52.05547443,   61.17864429,   81.92038596,\n",
       "                         59.9093659 ,   53.398959  ,   80.45675342,   38.61068703,\n",
       "                         31.17481771,   47.36027599,   10.98      ],\n",
       "                      [1056.14      ,   62.20064521,   60.82459993,   98.53185798,\n",
       "                         72.31210339,   71.11939851,   48.66173122,  100.06928203,\n",
       "                         64.40939163,   32.79450602,  102.94008673,   69.03441068,\n",
       "                         50.84064509,   37.03033796,   41.73667134,   89.2525979 ,\n",
       "                         26.41604951,   59.83283744,   30.02742219,   83.68042466,\n",
       "                         52.11855304,  101.4518964 ,   47.3440207 ,   82.80591207,\n",
       "                         53.48134071,   75.99201274,   36.18039561,   30.08950156,\n",
       "                          5.27635944,   52.30605619,   48.4288937 ,   52.6619978 ,\n",
       "                         46.97391503,   86.32561263,  118.74235831,   43.71797748,\n",
       "                         29.10088181,   39.92922262,   49.79808911,   42.25466764,\n",
       "                          7.72448245,    5.1989428 ,   17.66859099,   47.50497207,\n",
       "                         61.20154883,   83.65127237,   25.82259428,   83.43727429,\n",
       "                         32.91415715,   35.6958109 ,   58.26      ],\n",
       "                      [1213.78      ,   65.20601655,   40.83496046,   41.50607625,\n",
       "                         72.26715649,   17.51205865,   50.63784856,   37.02900277,\n",
       "                         60.73939277,   17.16923951,   69.06291331,   38.30514904,\n",
       "                         13.3368005 ,   61.8796739 ,   44.86648854,   58.62939698,\n",
       "                         43.35201902,   92.28894961,   30.37191241,   64.54257213,\n",
       "                         40.34684847,   26.26247718,   41.55273644,   70.5674602 ,\n",
       "                         99.77514041,   68.74400337,   68.15700236,   34.02800242,\n",
       "                         66.40633464,   63.38555899,   23.54947992,   66.92281025,\n",
       "                         27.14694006,   84.57267648,   42.56578795,   61.49449529,\n",
       "                         51.75141898,   59.29668419,   17.28514355,   62.28568864,\n",
       "                         72.66430086,   59.33356521,   36.18226111,   14.98271273,\n",
       "                         44.0757152 ,   94.11291442,   95.0262072 ,    9.57990098,\n",
       "                         45.30567452,   19.77090427,  107.7       ],\n",
       "                      [1030.58      ,   29.87776839,   83.96819374,   79.44731867,\n",
       "                         55.66540524,   18.87043862,   95.50253323,   60.56671015,\n",
       "                         78.9137001 ,   46.57344227,  110.21417256,   81.04802493,\n",
       "                         54.27930265,   38.60365665,   35.28728491,   79.2907271 ,\n",
       "                         15.22187149,  111.9291662 ,   30.64051351,   65.22808592,\n",
       "                         77.80944778,   52.83153912,   86.63459457,   64.69209397,\n",
       "                         71.06506736,   72.30017704,   65.1160802 ,   31.95272592,\n",
       "                         42.50082654,   14.30015061,   40.00706145,   15.95793807,\n",
       "                         28.03055644,   82.64687879,   51.88391946,   66.58709624,\n",
       "                         65.2483617 ,   33.42330787,   58.16487424,   58.06337986,\n",
       "                         42.94115318,   18.26046173,   20.62087001,   24.04312112,\n",
       "                          7.41155473,   14.54648262,   96.30879602,   50.87539252,\n",
       "                         51.24656604,   53.66523381,   30.82      ],\n",
       "                      [1036.72      ,   58.02820505,   10.21019983,   68.71408162,\n",
       "                         20.88572124,   72.31886999,   47.33716667,   58.37239322,\n",
       "                         60.89993663,   74.55426965,   74.86643655,   30.87881577,\n",
       "                         48.28861739,   72.88612646,   71.24345772,   56.4154705 ,\n",
       "                         53.99493455,   29.89132371,   49.95592414,   36.44281768,\n",
       "                         48.21613931,   90.64627895,   50.54981602,   70.9399817 ,\n",
       "                         72.34048128,   60.11423791,   43.34740575,   45.69359663,\n",
       "                         37.07760836,    5.80196139,   29.52209137,   39.65697863,\n",
       "                         81.34207326,   79.43759673,   55.63481432,   33.13484461,\n",
       "                         48.01739346,   71.66714227,   29.20298063,   56.34783866,\n",
       "                         30.98533056,   33.38896259,   84.97840294,   50.36103924,\n",
       "                         50.34009697,   38.17994506,   38.04966168,  106.21344481,\n",
       "                        101.92110795,   81.47110407,   54.24      ]])),\n",
       "              ('fbins',\n",
       "               array([[       nan, 0.46245614, 0.55076915, 0.7190973 , 0.3869585 ],\n",
       "                      [       nan, 0.6786988 , 0.27869403, 0.32404906, 0.42352626],\n",
       "                      [       nan, 0.7026524 , 0.61288786, 0.5821615 , 0.5422552 ],\n",
       "                      [       nan, 0.5038341 , 0.4776087 , 0.59036833, 0.51095974],\n",
       "                      [       nan, 0.60353667, 0.45966247, 0.5005088 , 0.35902268],\n",
       "                      [       nan, 0.74340755, 0.53612196, 0.52442694, 0.6386007 ],\n",
       "                      [       nan, 0.43773803, 0.26482034, 0.66295844, 0.46455294],\n",
       "                      [       nan, 0.6186531 , 0.53590035, 0.6800144 , 0.36122942]],\n",
       "                     dtype=float32))]),\n",
       " array(4.4100804, dtype=float32),\n",
       " False,\n",
       " {})"
      ]
     },
     "execution_count": 80,
     "metadata": {},
     "output_type": "execute_result"
    }
   ],
   "source": [
    "res"
   ]
  },
  {
   "cell_type": "code",
   "execution_count": 73,
   "metadata": {},
   "outputs": [
    {
     "ename": "ValueError",
     "evalue": "too many values to unpack (expected 2)",
     "output_type": "error",
     "traceback": [
      "\u001b[0;31m---------------------------------------------------------------------------\u001b[0m",
      "\u001b[0;31mValueError\u001b[0m                                Traceback (most recent call last)",
      "Cell \u001b[0;32mIn[73], line 1\u001b[0m\n\u001b[0;32m----> 1\u001b[0m \u001b[38;5;28;01mfor\u001b[39;00m low, high \u001b[38;5;129;01min\u001b[39;00m communicator\u001b[38;5;241m.\u001b[39mfbins:\n\u001b[1;32m      2\u001b[0m     \u001b[38;5;28mprint\u001b[39m(low, high)\n",
      "\u001b[0;31mValueError\u001b[0m: too many values to unpack (expected 2)"
     ]
    }
   ],
   "source": [
    "for low, high in communicator.fbins:\n",
    "    print(low, high)"
   ]
  },
  {
   "cell_type": "code",
   "execution_count": 74,
   "metadata": {},
   "outputs": [
    {
     "data": {
      "text/plain": [
       "array([[       nan, 0.6982351 , 0.6538787 , 0.43219435, 0.5053414 ],\n",
       "       [       nan, 0.5992771 , 0.6171261 , 0.3235731 , 0.42574465],\n",
       "       [       nan, 0.29284555, 0.64092684, 0.77488357, 0.47472328],\n",
       "       [       nan, 0.50798297, 0.46259686, 0.5543925 , 0.5086066 ],\n",
       "       [       nan, 0.45116618, 0.48398477, 0.79926497, 0.5995662 ],\n",
       "       [       nan, 0.5164592 , 0.33149385, 0.5761446 , 0.53982437],\n",
       "       [       nan, 0.31781006, 0.37277874, 0.52640885, 0.5283958 ],\n",
       "       [       nan, 0.3079564 , 0.6230651 , 0.31849974, 0.5566319 ]],\n",
       "      dtype=float32)"
      ]
     },
     "execution_count": 74,
     "metadata": {},
     "output_type": "execute_result"
    }
   ],
   "source": [
    "communicator.fbins"
   ]
  },
  {
   "cell_type": "code",
   "execution_count": 72,
   "metadata": {},
   "outputs": [
    {
     "data": {
      "text/plain": [
       "array([[ 977.94      ,   94.79825768,   35.85994414,  116.29147161,\n",
       "          58.17282561,   35.85678481,   15.70999903,   56.10109109,\n",
       "          90.15924147,   60.17444454,   18.45576598,  117.7905015 ,\n",
       "          42.8311498 ,   54.48442461,   73.40662573,   64.59555359,\n",
       "          40.2182514 ,   18.46259997,   18.2396288 ,   10.72506476,\n",
       "          59.97846249,   33.57476122,   92.8180531 ,   20.58441116,\n",
       "          35.45424914,   31.57437569,   20.30761684,   48.4961765 ,\n",
       "         159.04429771,   70.21094093,   49.69210704,   18.81233736,\n",
       "          92.78241405,   48.17055463,   51.66721257,   68.85679848,\n",
       "          71.76493153,   46.09494315,   14.85317015,   79.06896782,\n",
       "          63.247571  ,   50.19697439,   78.05301918,   47.09011193,\n",
       "          66.83176778,   62.76192749,   63.72843927,   92.15048586,\n",
       "          46.31383209,   38.68174902,   35.62      ],\n",
       "       [ 949.5       ,  109.48324881,   50.83762211,   64.38010751,\n",
       "          59.64524474,   18.4722154 ,   29.65695507,   53.70301892,\n",
       "          62.47357429,   81.25129549,   24.11040317,   54.430581  ,\n",
       "          91.91590523,   47.21399118,   85.0719965 ,   53.67491491,\n",
       "          38.93094824,   55.61927882,   39.06522805,  120.35100265,\n",
       "          87.57694713,   63.61061804,   52.2019999 ,   28.87675041,\n",
       "          53.9373466 ,  105.61655363,   10.07400451,   18.89092931,\n",
       "          75.17426787,    6.0923342 ,   39.1180733 ,   34.16646958,\n",
       "          81.46157013,   46.81311092,   68.72968537,   22.97749472,\n",
       "          34.50058968,   50.20731091,   20.68389305,   72.38078185,\n",
       "          87.76545067,   23.15018352,   66.65123167,   68.74348143,\n",
       "           5.46890407,   18.50829824,   29.73705496,   21.54579269,\n",
       "          68.94638506,   20.14897881,   28.66      ],\n",
       "       [1011.48      ,   21.14566516,   27.15002799,  102.12105362,\n",
       "          96.53240432,   49.5764402 ,   64.45882598,   73.92693503,\n",
       "           2.6158073 ,   96.60105332,   13.46229406,   40.80845803,\n",
       "           7.57950247,   62.6455914 ,  124.23908267,   55.25925008,\n",
       "          41.5777989 ,   57.41906421,   21.93655785,   22.41141469,\n",
       "          36.89700204,   59.08598985,   11.05012699,   59.10492885,\n",
       "          41.86836278,    4.82037343,   40.79887685,   41.07172168,\n",
       "          47.16558023,   31.78873361,   44.87243518,   47.01810787,\n",
       "          53.81292165,    7.2588168 ,   47.74571018,   50.12870424,\n",
       "          38.92450471,   54.70730047,   66.72249392,   48.88796602,\n",
       "          68.14161754,   97.72495842,   69.48147014,   73.83925575,\n",
       "          96.95504896,   64.01934762,   56.30025855,    7.9548982 ,\n",
       "          72.03565344,   45.96294234,   29.92      ],\n",
       "       [ 978.94      ,  106.71654442,   84.66345738,  109.17712937,\n",
       "          81.76982263,   54.34327418,   32.26730124,   74.27964868,\n",
       "          89.31622539,   35.35987092,   48.18576532,   50.82126705,\n",
       "          22.54808995,   14.56452117,   22.1062006 ,   24.8075916 ,\n",
       "           5.40598527,   56.38330715,   41.12989615,   49.95465302,\n",
       "          49.53775284,   65.29145321,   45.95475481,   73.64556927,\n",
       "          70.60542645,   59.06391453,   38.44735685,   19.89786356,\n",
       "          59.01494961,   59.00956852,   82.4037549 ,   66.07006384,\n",
       "          61.4475415 ,   55.27147701,   47.52912272,   30.55262689,\n",
       "          17.56285358,   22.49767616,    5.93470846,   84.41981642,\n",
       "          66.18111697,   26.52609392,   39.41245062,   46.66960038,\n",
       "          63.13827565,   73.04870252,   53.96937575,   69.3367185 ,\n",
       "          85.24133033,   49.16026571,   60.78      ],\n",
       "       [1085.74      ,   32.63451806,    7.97463383,   16.10561876,\n",
       "          86.41333956,   54.76060976,   50.58194156,   31.28203409,\n",
       "          47.54826515,   72.60592795,   31.76761066,   33.06196422,\n",
       "          34.6605445 ,   45.49730415,   59.73081421,   16.04338478,\n",
       "          37.90932693,   84.98434127,   43.16624349,   15.08220698,\n",
       "          43.70188246,   61.62886431,   69.28273383,   18.20464004,\n",
       "          83.72656051,   19.08944211,    5.45958105,   80.4182527 ,\n",
       "          71.7580953 ,   85.0646891 ,   39.85916347,   18.23550597,\n",
       "          25.54876989,   11.80609164,   23.51650469,   98.6187102 ,\n",
       "          52.38756145,   31.93620939,   48.13825514,   66.95923812,\n",
       "          46.8811974 ,   53.85692985,   25.00344298,   43.52565692,\n",
       "          48.76155022,   22.62862393,   74.76777158,  111.17417505,\n",
       "          39.59672486,   29.03851753,   59.9       ],\n",
       "       [1015.32      ,   11.60300576,   74.85952882,   56.27569836,\n",
       "          61.9913508 ,   28.6283529 ,   82.24047832,   35.78541951,\n",
       "          82.81051248,   33.66069066,   67.57818937,   15.5966773 ,\n",
       "          28.13138435,   51.13800083,   87.25320125,   91.54089788,\n",
       "          70.22492287,    7.32597862,   12.76601649,   67.67430787,\n",
       "          95.75112739,   26.44214486,   44.80048281,   24.45433217,\n",
       "         144.13408941,  107.24226779,   36.30239263,   30.02062183,\n",
       "          90.69999792,   56.29073809,   81.39561119,   24.47954347,\n",
       "          96.25660358,   24.27218116,   25.85145874,   88.3433838 ,\n",
       "          90.39007298,   11.19222633,   37.46621363,   66.20838459,\n",
       "          36.75889557,   40.32142757,   81.50503995,   24.69790763,\n",
       "          33.67658956,   54.12954798,   65.83081933,   65.60201223,\n",
       "          73.03316923,   58.93456432,    7.64      ],\n",
       "       [1033.28      ,   57.21777464,   50.47921056,    8.76477988,\n",
       "          98.69602385,   45.96549764,   60.61503649,   35.50421405,\n",
       "          68.42508102,   70.6478039 ,   28.53950493,   96.3508301 ,\n",
       "          37.77805199,   17.67482719,   60.55222628,   41.00559835,\n",
       "          45.44307118,   58.75651286,   41.50665778,   17.77778446,\n",
       "          94.41539381,   62.03319143,   74.45467588,   35.38277142,\n",
       "          71.22814139,   87.84792769,   55.49488087,   29.12175202,\n",
       "          27.60811866,   70.29767018,   73.78639074,   58.27252758,\n",
       "          67.27153983,   16.95207051,    8.94576229,   22.03347328,\n",
       "          30.14945651,   34.0775008 ,  103.5872801 ,   36.0390877 ,\n",
       "          64.29364052,   91.01960312,   44.44732115,   46.79540537,\n",
       "          40.3065659 ,   57.78637889,   63.28320254,   37.08926366,\n",
       "          80.27612247,   90.96449967,  100.12      ],\n",
       "       [ 979.46      ,   70.86766765,   38.89021183,   69.12358808,\n",
       "          51.80393212,  105.5978963 ,   19.47751138,   42.02786871,\n",
       "          63.13138164,   45.65344025,   75.6262531 ,   79.54720219,\n",
       "          48.32177527,   57.83388988,   39.26808101,   38.90575649,\n",
       "          50.36756023,   92.13886049,   56.42986896,   83.81940309,\n",
       "          60.37414454,   90.60825794,   26.18908922,   86.03637001,\n",
       "         104.36108456,   66.50493215,   57.41573708,   67.77255323,\n",
       "          54.76794023,   26.69327749,   37.32485824,   70.48668522,\n",
       "          47.5562999 ,   90.37325644,   87.73722067,    8.49056714,\n",
       "          75.86295659,   43.85712318,   51.77519585,  101.36473695,\n",
       "          29.06320475,   56.19921321,   90.81776641,   26.63931048,\n",
       "          70.01803571,   40.63939811,  128.06392516,   38.23187878,\n",
       "          58.66472333,   35.94839278,   83.26      ]])"
      ]
     },
     "execution_count": 72,
     "metadata": {},
     "output_type": "execute_result"
    }
   ],
   "source": [
    "communicator.fft"
   ]
  },
  {
   "cell_type": "code",
   "execution_count": 59,
   "metadata": {},
   "outputs": [
    {
     "data": {
      "text/plain": [
       "(100, 8)"
      ]
     },
     "execution_count": 59,
     "metadata": {},
     "output_type": "execute_result"
    }
   ],
   "source": [
    "communicator.raw_data.shape"
   ]
  },
  {
   "cell_type": "code",
   "execution_count": 51,
   "metadata": {},
   "outputs": [],
   "source": [
    "communicator.raw_data"
   ]
  },
  {
   "cell_type": "code",
   "execution_count": 31,
   "metadata": {},
   "outputs": [
    {
     "name": "stderr",
     "output_type": "stream",
     "text": [
      "++Sent raw: b'\\x81\\x9c\\xac\\xc1\\xf3\\xec\\xdf\\xb5\\x92\\x9e\\xd8\\x9e\\x97\\x8d\\xd8\\xa0\\xac\\x98\\xde\\xa0\\x9d\\x9f\\xca\\xa4\\x81\\xb3\\xca\\xb3\\x9c\\x81\\xf3\\xa0\\x97\\x9f'\n",
      "++Sent decoded: fin=1 opcode=1 data=b'start_data_transfer_from_ads'\n",
      "++Rcv raw: b'\\x81~\\x06\\x81{\"ch1\":[0,0,0,0,0,0,0,0,0,0,0,0,0,0,0,0,0,0,0,0,0,0,0,0,0,0,0,0,0,0,0,0,0,0,0,0,0,0,0,0,0,0,0,0,0,0,0,0,0,0,0,0,0,0,0,0,0,0,0,0,0,0,0,0,0,0,0,0,0,0,0,0,0,0,0,0,0,0,0,0,0,0,0,0,0,0,0,0,0,0,0,0,0,0,0,0,0,0,0,0],\"ch2\":[0,0,0,0,0,0,0,0,0,0,0,0,0,0,0,0,0,0,0,0,0,0,0,0,0,0,0,0,0,0,0,0,0,0,0,0,0,0,0,0,0,0,0,0,0,0,0,0,0,0,0,0,0,0,0,0,0,0,0,0,0,0,0,0,0,0,0,0,0,0,0,0,0,0,0,0,0,0,0,0,0,0,0,0,0,0,0,0,0,0,0,0,0,0,0,0,0,0,0,0],\"ch3\":[0,0,0,0,0,0,0,0,0,0,0,0,0,0,0,0,0,0,0,0,0,0,0,0,0,0,0,0,0,0,0,0,0,0,0,0,0,0,0,0,0,0,0,0,0,0,0,0,0,0,0,0,0,0,0,0,0,0,0,0,0,0,0,0,0,0,0,0,0,0,0,0,0,0,0,0,0,0,0,0,0,0,0,0,0,0,0,0,0,0,0,0,0,0,0,0,0,0,0,0],\"ch4\":[0,0,0,0,0,0,0,0,0,0,0,0,0,0,0,0,0,0,0,0,0,0,0,0,0,0,0,0,0,0,0,0,0,0,0,0,0,0,0,0,0,0,0,0,0,0,0,0,0,0,0,0,0,0,0,0,0,0,0,0,0,0,0,0,0,0,0,0,0,0,0,0,0,0,0,0,0,0,0,0,0,0,0,0,0,0,0,0,0,0,0,0,0,0,0,0,0,0,0,0],\"ch5\":[0,0,0,0,0,0,0,0,0,0,0,0,0,0,0,0,0,0,0,0,0,0,0,0,0,0,0,0,0,0,0,0,0,0,0,0,0,0,0,0,0,0,0,0,0,0,0,0,0,0,0,0,0,0,0,0,0,0,0,0,0,0,0,0,0,0,0,0,0,0,0,0,0,0,0,0,0,0,0,0,0,0,0,0,0,0,0,0,0,0,0,0,0,0,0,0,0,0,0,0],\"ch6\":[0,0,0,0,0,0,0,0,0,0,0,0,0,0,0,0,0,0,0,0,0,0,0,0,0,0,0,0,0,0,0,0,0,0,0,0,0,0,0,0,0,0,0,0,0,0,0,0,0,0,0,0,0,0,0,0,0,0,0,0,0,0,0,0,0,0,0,0,0,0,0,0,0,0,0,0,0,0,0,0,0,0,0,0,0,0,0,0,0,0,0,0,0,0,0,0,0,0,0,0],\"ch7\":[0,0,0,0,0,0,0,0,0,0,0,0,0,0,0,0,0,0,0,0,0,0,0,0,0,0,0,0,0,0,0,0,0,0,0,0,0,0,0,0,0,0,0,0,0,0,0,0,0,0,0,0,0,0,0,0,0,0,0,0,0,0,0,0,0,0,0,0,0,0,0,0,0,0,0,0,0,0,0,0,0,0,0,0,0,0,0,0,0,0,0,0,0,0,0,0,0,0,0,0],\"ch8\":[0,0,0,0,0,0,0,0,0,0,0,0,0,0,0,0,0,0,0,0,0,0,0,0,0,0,0,0,0,0,0,0,0,0,0,0,0,0,0,0,0,0,0,0,0,0,0,0,0,0,0,0,0,0,0,0,0,0,0,0,0,0,0,0,0,0,0,0,0,0,0,0,0,0,0,0,0,0,0,0,0,0,0,0,0,0,0,0,0,0,0,0,0,0,0,0,0,0,0,0]}'\n",
      "++Rcv decoded: fin=1 opcode=1 data=b'{\"ch1\":[0,0,0,0,0,0,0,0,0,0,0,0,0,0,0,0,0,0,0,0,0,0,0,0,0,0,0,0,0,0,0,0,0,0,0,0,0,0,0,0,0,0,0,0,0,0,0,0,0,0,0,0,0,0,0,0,0,0,0,0,0,0,0,0,0,0,0,0,0,0,0,0,0,0,0,0,0,0,0,0,0,0,0,0,0,0,0,0,0,0,0,0,0,0,0,0,0,0,0,0],\"ch2\":[0,0,0,0,0,0,0,0,0,0,0,0,0,0,0,0,0,0,0,0,0,0,0,0,0,0,0,0,0,0,0,0,0,0,0,0,0,0,0,0,0,0,0,0,0,0,0,0,0,0,0,0,0,0,0,0,0,0,0,0,0,0,0,0,0,0,0,0,0,0,0,0,0,0,0,0,0,0,0,0,0,0,0,0,0,0,0,0,0,0,0,0,0,0,0,0,0,0,0,0],\"ch3\":[0,0,0,0,0,0,0,0,0,0,0,0,0,0,0,0,0,0,0,0,0,0,0,0,0,0,0,0,0,0,0,0,0,0,0,0,0,0,0,0,0,0,0,0,0,0,0,0,0,0,0,0,0,0,0,0,0,0,0,0,0,0,0,0,0,0,0,0,0,0,0,0,0,0,0,0,0,0,0,0,0,0,0,0,0,0,0,0,0,0,0,0,0,0,0,0,0,0,0,0],\"ch4\":[0,0,0,0,0,0,0,0,0,0,0,0,0,0,0,0,0,0,0,0,0,0,0,0,0,0,0,0,0,0,0,0,0,0,0,0,0,0,0,0,0,0,0,0,0,0,0,0,0,0,0,0,0,0,0,0,0,0,0,0,0,0,0,0,0,0,0,0,0,0,0,0,0,0,0,0,0,0,0,0,0,0,0,0,0,0,0,0,0,0,0,0,0,0,0,0,0,0,0,0],\"ch5\":[0,0,0,0,0,0,0,0,0,0,0,0,0,0,0,0,0,0,0,0,0,0,0,0,0,0,0,0,0,0,0,0,0,0,0,0,0,0,0,0,0,0,0,0,0,0,0,0,0,0,0,0,0,0,0,0,0,0,0,0,0,0,0,0,0,0,0,0,0,0,0,0,0,0,0,0,0,0,0,0,0,0,0,0,0,0,0,0,0,0,0,0,0,0,0,0,0,0,0,0],\"ch6\":[0,0,0,0,0,0,0,0,0,0,0,0,0,0,0,0,0,0,0,0,0,0,0,0,0,0,0,0,0,0,0,0,0,0,0,0,0,0,0,0,0,0,0,0,0,0,0,0,0,0,0,0,0,0,0,0,0,0,0,0,0,0,0,0,0,0,0,0,0,0,0,0,0,0,0,0,0,0,0,0,0,0,0,0,0,0,0,0,0,0,0,0,0,0,0,0,0,0,0,0],\"ch7\":[0,0,0,0,0,0,0,0,0,0,0,0,0,0,0,0,0,0,0,0,0,0,0,0,0,0,0,0,0,0,0,0,0,0,0,0,0,0,0,0,0,0,0,0,0,0,0,0,0,0,0,0,0,0,0,0,0,0,0,0,0,0,0,0,0,0,0,0,0,0,0,0,0,0,0,0,0,0,0,0,0,0,0,0,0,0,0,0,0,0,0,0,0,0,0,0,0,0,0,0],\"ch8\":[0,0,0,0,0,0,0,0,0,0,0,0,0,0,0,0,0,0,0,0,0,0,0,0,0,0,0,0,0,0,0,0,0,0,0,0,0,0,0,0,0,0,0,0,0,0,0,0,0,0,0,0,0,0,0,0,0,0,0,0,0,0,0,0,0,0,0,0,0,0,0,0,0,0,0,0,0,0,0,0,0,0,0,0,0,0,0,0,0,0,0,0,0,0,0,0,0,0,0,0]}'\n",
      "++Sent raw: b'\\x81\\x9bR\\xa1o\\xf2!\\xd5\\x00\\x82\\r\\xc5\\x0e\\x863\\xfe\\x1b\\x803\\xcf\\x1c\\x947\\xd30\\x94 \\xce\\x02\\xad3\\xc5\\x1c'\n",
      "++Sent decoded: fin=1 opcode=1 data=b'stop_data_transfer_from_ads'\n"
     ]
    }
   ],
   "source": [
    "communicator.sample_observations()"
   ]
  },
  {
   "cell_type": "code",
   "execution_count": null,
   "metadata": {},
   "outputs": [],
   "source": []
  },
  {
   "cell_type": "code",
   "execution_count": 25,
   "metadata": {},
   "outputs": [
    {
     "name": "stderr",
     "output_type": "stream",
     "text": [
      "++Sent raw: b'\\x81\\x8e\\x88\\xae\\x1c\\xfb\\xfb\\xdas\\x8b\\xd7\\xc2y\\x9f\\xd7\\xcde\\x98\\xe4\\xcb'\n",
      "++Sent decoded: fin=1 opcode=1 data=b'stop_led_cycle'\n",
      "++Sent raw: b\"\\x81\\x9bHUG\\x8b;!(\\xfb\\x171&\\xff)\\n3\\xf9);4\\xed-'\\x18\\xed::*\\xd4)14\"\n",
      "++Sent decoded: fin=1 opcode=1 data=b'stop_data_transfer_from_ads'\n",
      "++Sent raw: b'\\x88\\x82\\xfcci\\xab\\xff\\x8b'\n",
      "++Sent decoded: fin=1 opcode=8 data=b'\\x03\\xe8'\n"
     ]
    }
   ],
   "source": [
    "communicator.close()"
   ]
  },
  {
   "cell_type": "code",
   "execution_count": 21,
   "metadata": {},
   "outputs": [
    {
     "name": "stderr",
     "output_type": "stream",
     "text": [
      "++Sent raw: b'\\x81\\x9c\\xfbJ\\xdc\\xa7\\x88>\\xbd\\xd5\\x8f\\x15\\xb8\\xc6\\x8f+\\x83\\xd3\\x89+\\xb2\\xd4\\x9d/\\xae\\xf8\\x9d8\\xb3\\xca\\xa4+\\xb8\\xd4'\n",
      "++Sent decoded: fin=1 opcode=1 data=b'start_data_transfer_from_ads'\n",
      "++Rcv raw: b'\\x81~\\x06\\x81{\"ch1\":[0,0,0,0,0,0,0,0,0,0,0,0,0,0,0,0,0,0,0,0,0,0,0,0,0,0,0,0,0,0,0,0,0,0,0,0,0,0,0,0,0,0,0,0,0,0,0,0,0,0,0,0,0,0,0,0,0,0,0,0,0,0,0,0,0,0,0,0,0,0,0,0,0,0,0,0,0,0,0,0,0,0,0,0,0,0,0,0,0,0,0,0,0,0,0,0,0,0,0,0],\"ch2\":[0,0,0,0,0,0,0,0,0,0,0,0,0,0,0,0,0,0,0,0,0,0,0,0,0,0,0,0,0,0,0,0,0,0,0,0,0,0,0,0,0,0,0,0,0,0,0,0,0,0,0,0,0,0,0,0,0,0,0,0,0,0,0,0,0,0,0,0,0,0,0,0,0,0,0,0,0,0,0,0,0,0,0,0,0,0,0,0,0,0,0,0,0,0,0,0,0,0,0,0],\"ch3\":[0,0,0,0,0,0,0,0,0,0,0,0,0,0,0,0,0,0,0,0,0,0,0,0,0,0,0,0,0,0,0,0,0,0,0,0,0,0,0,0,0,0,0,0,0,0,0,0,0,0,0,0,0,0,0,0,0,0,0,0,0,0,0,0,0,0,0,0,0,0,0,0,0,0,0,0,0,0,0,0,0,0,0,0,0,0,0,0,0,0,0,0,0,0,0,0,0,0,0,0],\"ch4\":[0,0,0,0,0,0,0,0,0,0,0,0,0,0,0,0,0,0,0,0,0,0,0,0,0,0,0,0,0,0,0,0,0,0,0,0,0,0,0,0,0,0,0,0,0,0,0,0,0,0,0,0,0,0,0,0,0,0,0,0,0,0,0,0,0,0,0,0,0,0,0,0,0,0,0,0,0,0,0,0,0,0,0,0,0,0,0,0,0,0,0,0,0,0,0,0,0,0,0,0],\"ch5\":[0,0,0,0,0,0,0,0,0,0,0,0,0,0,0,0,0,0,0,0,0,0,0,0,0,0,0,0,0,0,0,0,0,0,0,0,0,0,0,0,0,0,0,0,0,0,0,0,0,0,0,0,0,0,0,0,0,0,0,0,0,0,0,0,0,0,0,0,0,0,0,0,0,0,0,0,0,0,0,0,0,0,0,0,0,0,0,0,0,0,0,0,0,0,0,0,0,0,0,0],\"ch6\":[0,0,0,0,0,0,0,0,0,0,0,0,0,0,0,0,0,0,0,0,0,0,0,0,0,0,0,0,0,0,0,0,0,0,0,0,0,0,0,0,0,0,0,0,0,0,0,0,0,0,0,0,0,0,0,0,0,0,0,0,0,0,0,0,0,0,0,0,0,0,0,0,0,0,0,0,0,0,0,0,0,0,0,0,0,0,0,0,0,0,0,0,0,0,0,0,0,0,0,0],\"ch7\":[0,0,0,0,0,0,0,0,0,0,0,0,0,0,0,0,0,0,0,0,0,0,0,0,0,0,0,0,0,0,0,0,0,0,0,0,0,0,0,0,0,0,0,0,0,0,0,0,0,0,0,0,0,0,0,0,0,0,0,0,0,0,0,0,0,0,0,0,0,0,0,0,0,0,0,0,0,0,0,0,0,0,0,0,0,0,0,0,0,0,0,0,0,0,0,0,0,0,0,0],\"ch8\":[0,0,0,0,0,0,0,0,0,0,0,0,0,0,0,0,0,0,0,0,0,0,0,0,0,0,0,0,0,0,0,0,0,0,0,0,0,0,0,0,0,0,0,0,0,0,0,0,0,0,0,0,0,0,0,0,0,0,0,0,0,0,0,0,0,0,0,0,0,0,0,0,0,0,0,0,0,0,0,0,0,0,0,0,0,0,0,0,0,0,0,0,0,0,0,0,0,0,0,0]}'\n",
      "++Rcv decoded: fin=1 opcode=1 data=b'{\"ch1\":[0,0,0,0,0,0,0,0,0,0,0,0,0,0,0,0,0,0,0,0,0,0,0,0,0,0,0,0,0,0,0,0,0,0,0,0,0,0,0,0,0,0,0,0,0,0,0,0,0,0,0,0,0,0,0,0,0,0,0,0,0,0,0,0,0,0,0,0,0,0,0,0,0,0,0,0,0,0,0,0,0,0,0,0,0,0,0,0,0,0,0,0,0,0,0,0,0,0,0,0],\"ch2\":[0,0,0,0,0,0,0,0,0,0,0,0,0,0,0,0,0,0,0,0,0,0,0,0,0,0,0,0,0,0,0,0,0,0,0,0,0,0,0,0,0,0,0,0,0,0,0,0,0,0,0,0,0,0,0,0,0,0,0,0,0,0,0,0,0,0,0,0,0,0,0,0,0,0,0,0,0,0,0,0,0,0,0,0,0,0,0,0,0,0,0,0,0,0,0,0,0,0,0,0],\"ch3\":[0,0,0,0,0,0,0,0,0,0,0,0,0,0,0,0,0,0,0,0,0,0,0,0,0,0,0,0,0,0,0,0,0,0,0,0,0,0,0,0,0,0,0,0,0,0,0,0,0,0,0,0,0,0,0,0,0,0,0,0,0,0,0,0,0,0,0,0,0,0,0,0,0,0,0,0,0,0,0,0,0,0,0,0,0,0,0,0,0,0,0,0,0,0,0,0,0,0,0,0],\"ch4\":[0,0,0,0,0,0,0,0,0,0,0,0,0,0,0,0,0,0,0,0,0,0,0,0,0,0,0,0,0,0,0,0,0,0,0,0,0,0,0,0,0,0,0,0,0,0,0,0,0,0,0,0,0,0,0,0,0,0,0,0,0,0,0,0,0,0,0,0,0,0,0,0,0,0,0,0,0,0,0,0,0,0,0,0,0,0,0,0,0,0,0,0,0,0,0,0,0,0,0,0],\"ch5\":[0,0,0,0,0,0,0,0,0,0,0,0,0,0,0,0,0,0,0,0,0,0,0,0,0,0,0,0,0,0,0,0,0,0,0,0,0,0,0,0,0,0,0,0,0,0,0,0,0,0,0,0,0,0,0,0,0,0,0,0,0,0,0,0,0,0,0,0,0,0,0,0,0,0,0,0,0,0,0,0,0,0,0,0,0,0,0,0,0,0,0,0,0,0,0,0,0,0,0,0],\"ch6\":[0,0,0,0,0,0,0,0,0,0,0,0,0,0,0,0,0,0,0,0,0,0,0,0,0,0,0,0,0,0,0,0,0,0,0,0,0,0,0,0,0,0,0,0,0,0,0,0,0,0,0,0,0,0,0,0,0,0,0,0,0,0,0,0,0,0,0,0,0,0,0,0,0,0,0,0,0,0,0,0,0,0,0,0,0,0,0,0,0,0,0,0,0,0,0,0,0,0,0,0],\"ch7\":[0,0,0,0,0,0,0,0,0,0,0,0,0,0,0,0,0,0,0,0,0,0,0,0,0,0,0,0,0,0,0,0,0,0,0,0,0,0,0,0,0,0,0,0,0,0,0,0,0,0,0,0,0,0,0,0,0,0,0,0,0,0,0,0,0,0,0,0,0,0,0,0,0,0,0,0,0,0,0,0,0,0,0,0,0,0,0,0,0,0,0,0,0,0,0,0,0,0,0,0],\"ch8\":[0,0,0,0,0,0,0,0,0,0,0,0,0,0,0,0,0,0,0,0,0,0,0,0,0,0,0,0,0,0,0,0,0,0,0,0,0,0,0,0,0,0,0,0,0,0,0,0,0,0,0,0,0,0,0,0,0,0,0,0,0,0,0,0,0,0,0,0,0,0,0,0,0,0,0,0,0,0,0,0,0,0,0,0,0,0,0,0,0,0,0,0,0,0,0,0,0,0,0,0]}'\n",
      "++Sent raw: b'\\x81\\x9b\\xad\\xcc\\x13\\xfe\\xde\\xb8|\\x8e\\xf2\\xa8r\\x8a\\xcc\\x93g\\x8c\\xcc\\xa2`\\x98\\xc8\\xbeL\\x98\\xdf\\xa3~\\xa1\\xcc\\xa8`'\n",
      "++Sent decoded: fin=1 opcode=1 data=b'stop_data_transfer_from_ads'\n"
     ]
    }
   ],
   "source": [
    "communicator.sample_observations()"
   ]
  },
  {
   "cell_type": "code",
   "execution_count": 12,
   "metadata": {},
   "outputs": [
    {
     "name": "stderr",
     "output_type": "stream",
     "text": [
      "++Sent raw: b'\\x81\\x9b\\xd6_M\\xe0\\xa4:.\\x85\\xbf)(\\xbf\\xb9*9\\x90\\xa3+\\x12\\x83\\xb919\\x92\\xb93\\x12\\x84\\xb7+,'\n",
      "++Sent decoded: fin=1 opcode=1 data=b'receive_output_control_data'\n",
      "++Sent raw: b'\\x81\\xfe\\x00\\x82\\xc9\\xb1R\\xdd\\xf8\\x82k\\xf1\\xf8\\x81a\\xf1\\xf8\\x83c\\xf1\\xfb\\x85e\\xf1\\xfb\\x85c\\xf1\\xf8\\x88j\\xf1\\xfd\\x81~\\xeb\\xf8\\x9dd\\xef\\xe5\\x80k\\xee\\xe5\\x89b\\xf1\\xf8\\x83b\\xf1\\xf8\\x83j\\xf1\\xfb\\x85a\\xf1\\xfb\\x81`\\xf1\\xff\\x81~\\xe4\\xf0\\x9dk\\xe8\\xe5\\x86e\\xf1\\xf8\\x80d\\xf1\\xf8\\x88c\\xf1\\xff\\x85~\\xe9\\xfc\\x9dd\\xe5\\xe5\\x87e\\xec\\xf9\\x9d`\\xed\\xf1\\x82k\\xf1\\xfb\\x86e\\xec\\xfe\\x9d`\\xec\\xe5\\x82~\\xef\\xf0\\x9d`\\xef\\xe5\\x85g\\xf1\\xfa\\x85~\\xe9\\xf0\\x9d`\\xe5\\xe5\\x87~\\xec\\xe5\\x81'\n",
      "++Sent decoded: fin=1 opcode=1 data=b'139,103,121,247,241,198,40,61,62,193,80,120,128,243,202,60,99,95,77,116,191,64,45,68,6710,20839,27717,21,3,29,22,45,34,49,28,6,1,0'\n"
     ]
    }
   ],
   "source": [
    "communicator.update_audiovis_feedback(communicator.action_space.sample())"
   ]
  },
  {
   "cell_type": "code",
   "execution_count": 13,
   "metadata": {},
   "outputs": [
    {
     "name": "stderr",
     "output_type": "stream",
     "text": [
      "++Sent raw: b'\\x81\\x8e\\xa9M\\xc2\\x1b\\xda9\\xadk\\xf6!\\xa7\\x7f\\xf6.\\xbbx\\xc5('\n",
      "++Sent decoded: fin=1 opcode=1 data=b'stop_led_cycle'\n"
     ]
    }
   ],
   "source": [
    "communicator.stop_audiovis_feedback()"
   ]
  },
  {
   "cell_type": "code",
   "execution_count": 8,
   "metadata": {},
   "outputs": [
    {
     "data": {
      "text/plain": [
       "'{\"ch1\":[0,0,0,0,0,0,0,0,0,0,0,0,0,0,0,0,0,0,0,0,0,0,0,0,0,0,0,0,0,0,0,0,0,0,0,0,0,0,0,0,0,0,0,0,0,0,0,0,0,0,0,0,0,0,0,0,0,0,0,0,0,0,0,0,0,0,0,0,0,0,0,0,0,0,0,0,0,0,0,0,0,0,0,0,0,0,0,0,0,0,0,0,0,0,0,0,0,0,0,0],\"ch2\":[0,0,0,0,0,0,0,0,0,0,0,0,0,0,0,0,0,0,0,0,0,0,0,0,0,0,0,0,0,0,0,0,0,0,0,0,0,0,0,0,0,0,0,0,0,0,0,0,0,0,0,0,0,0,0,0,0,0,0,0,0,0,0,0,0,0,0,0,0,0,0,0,0,0,0,0,0,0,0,0,0,0,0,0,0,0,0,0,0,0,0,0,0,0,0,0,0,0,0,0],\"ch3\":[0,0,0,0,0,0,0,0,0,0,0,0,0,0,0,0,0,0,0,0,0,0,0,0,0,0,0,0,0,0,0,0,0,0,0,0,0,0,0,0,0,0,0,0,0,0,0,0,0,0,0,0,0,0,0,0,0,0,0,0,0,0,0,0,0,0,0,0,0,0,0,0,0,0,0,0,0,0,0,0,0,0,0,0,0,0,0,0,0,0,0,0,0,0,0,0,0,0,0,0],\"ch4\":[0,0,0,0,0,0,0,0,0,0,0,0,0,0,0,0,0,0,0,0,0,0,0,0,0,0,0,0,0,0,0,0,0,0,0,0,0,0,0,0,0,0,0,0,0,0,0,0,0,0,0,0,0,0,0,0,0,0,0,0,0,0,0,0,0,0,0,0,0,0,0,0,0,0,0,0,0,0,0,0,0,0,0,0,0,0,0,0,0,0,0,0,0,0,0,0,0,0,0,0],\"ch5\":[0,0,0,0,0,0,0,0,0,0,0,0,0,0,0,0,0,0,0,0,0,0,0,0,0,0,0,0,0,0,0,0,0,0,0,0,0,0,0,0,0,0,0,0,0,0,0,0,0,0,0,0,0,0,0,0,0,0,0,0,0,0,0,0,0,0,0,0,0,0,0,0,0,0,0,0,0,0,0,0,0,0,0,0,0,0,0,0,0,0,0,0,0,0,0,0,0,0,0,0],\"ch6\":[0,0,0,0,0,0,0,0,0,0,0,0,0,0,0,0,0,0,0,0,0,0,0,0,0,0,0,0,0,0,0,0,0,0,0,0,0,0,0,0,0,0,0,0,0,0,0,0,0,0,0,0,0,0,0,0,0,0,0,0,0,0,0,0,0,0,0,0,0,0,0,0,0,0,0,0,0,0,0,0,0,0,0,0,0,0,0,0,0,0,0,0,0,0,0,0,0,0,0,0],\"ch7\":[0,0,0,0,0,0,0,0,0,0,0,0,0,0,0,0,0,0,0,0,0,0,0,0,0,0,0,0,0,0,0,0,0,0,0,0,0,0,0,0,0,0,0,0,0,0,0,0,0,0,0,0,0,0,0,0,0,0,0,0,0,0,0,0,0,0,0,0,0,0,0,0,0,0,0,0,0,0,0,0,0,0,0,0,0,0,0,0,0,0,0,0,0,0,0,0,0,0,0,0],\"ch8\":[0,0,0,0,0,0,0,0,0,0,0,0,0,0,0,0,0,0,0,0,0,0,0,0,0,0,0,0,0,0,0,0,0,0,0,0,0,0,0,0,0,0,0,0,0,0,0,0,0,0,0,0,0,0,0,0,0,0,0,0,0,0,0,0,0,0,0,0,0,0,0,0,0,0,0,0,0,0,0,0,0,0,0,0,0,0,0,0,0,0,0,0,0,0,0,0,0,0,0,0]}'"
      ]
     },
     "execution_count": 8,
     "metadata": {},
     "output_type": "execute_result"
    }
   ],
   "source": [
    "communicator.current_sample"
   ]
  },
  {
   "cell_type": "code",
   "execution_count": 3,
   "metadata": {},
   "outputs": [],
   "source": [
    "actspace=communicator.action_space.sample()"
   ]
  },
  {
   "cell_type": "code",
   "execution_count": 14,
   "metadata": {},
   "outputs": [
    {
     "data": {
      "text/plain": [
       "{'fbin_05_4_ch0': None, 'freq_30_ch0': None, 'fbin_12_30_ch0': None}"
      ]
     },
     "execution_count": 14,
     "metadata": {},
     "output_type": "execute_result"
    }
   ],
   "source": [
    "communicator.rewarddict"
   ]
  },
  {
   "cell_type": "code",
   "execution_count": 15,
   "metadata": {},
   "outputs": [],
   "source": [
    "communicator.get_reward()"
   ]
  },
  {
   "cell_type": "code",
   "execution_count": 16,
   "metadata": {},
   "outputs": [
    {
     "data": {
      "text/plain": [
       "array(4.1762214, dtype=float32)"
      ]
     },
     "execution_count": 16,
     "metadata": {},
     "output_type": "execute_result"
    }
   ],
   "source": [
    "communicator.reward"
   ]
  },
  {
   "cell_type": "code",
   "execution_count": 51,
   "metadata": {},
   "outputs": [
    {
     "data": {
      "text/plain": [
       "{'fbin_0.5_5_ch0': None, 'freq_30_ch0': None, 'fbin_10_20_ch0': None}"
      ]
     },
     "execution_count": 51,
     "metadata": {},
     "output_type": "execute_result"
    }
   ],
   "source": [
    "communicator.rewarddict"
   ]
  },
  {
   "cell_type": "code",
   "execution_count": 12,
   "metadata": {},
   "outputs": [
    {
     "data": {
      "text/plain": [
       "array(0.75)"
      ]
     },
     "execution_count": 12,
     "metadata": {},
     "output_type": "execute_result"
    }
   ],
   "source": [
    "s = \"(freq_50+fbin_0_10)/(fbin_20_30)\"\n",
    "\n",
    "# Define the variables\n",
    "variables = {\n",
    "    'freq_50': 10,\n",
    "    'fbin_0_10': 20,\n",
    "    'fbin_20_30':40\n",
    "}\n",
    "\n",
    "# Evaluate the string as a mathematical expression\n",
    "result = ne.evaluate(s, local_dict=variables)\n",
    "result"
   ]
  },
  {
   "cell_type": "code",
   "execution_count": 3,
   "metadata": {},
   "outputs": [
    {
     "name": "stdout",
     "output_type": "stream",
     "text": [
      "Reward formula can use the following operators: //, *, **, -, +\n",
      "It can refer to channels using \"ch\" prefix followed by an index (starting with 0) e.g. ch0\n",
      "It can refer to values of frequency bins in specific channels e.g. fbin_10-50|ch0\n",
      "The corresponding freqency bins must be present among fbins passed at the initialization step\n",
      "fbins should be passed in the form of [(b1 min, b1max),...(bn min, bn max)]\n",
      "It can refer to specific frequencies from fft e.g. freq_50|ch0\n",
      "Some examples:\n",
      "1. (freq_50|ch0+fbin_0-10|ch0)/(fbin_20-30|ch0)\n",
      "2. freq_5|ch0/freq_10|ch0\n",
      "3. fbin_0.5-5|ch0\n"
     ]
    }
   ],
   "source": [
    "communicator.print_reward_formula_legend()"
   ]
  },
  {
   "cell_type": "code",
   "execution_count": 14,
   "metadata": {},
   "outputs": [
    {
     "data": {
      "text/plain": [
       "'Connected'"
      ]
     },
     "execution_count": 14,
     "metadata": {},
     "output_type": "execute_result"
    }
   ],
   "source": [
    "communicator.connection_status"
   ]
  },
  {
   "cell_type": "code",
   "execution_count": null,
   "metadata": {},
   "outputs": [],
   "source": [
    "\n",
    "\n",
    "\n",
    "leddelay=100\n",
    "ledvalues=[30, 0, 0, 0, 255, 0, 0, 0, 255, 255, 255, 255, 0, 255, 255, 255, 0, 255, 255, 255, 0, 255, 0, 0]\n",
    "sdict={'wave_1_freq':800, 'wave_2_freq':200, 'panner_freq':30, 'panner_div':2, 'phasor_1_freq':100, 'phasor_1_min':30, 'phasor_1_max':30, \n",
    "       'phasor_2_freq':30, 'phasor_2_min':30, 'phasor_2_max':30,\n",
    "       'maxivolume':5,'wave_1_type':3,'wave_2_type':0}\n"
   ]
  },
  {
   "cell_type": "code",
   "execution_count": 15,
   "metadata": {},
   "outputs": [
    {
     "name": "stderr",
     "output_type": "stream",
     "text": [
      "++Rcv raw: b'\\x89\\x00'\n",
      "++Rcv decoded: fin=1 opcode=9 data=b''\n",
      "++Sent raw: b'\\x8a\\x80M\\xc5\\x07\\x01'\n",
      "++Sent decoded: fin=1 opcode=10 data=b''\n",
      "++Rcv raw: b'\\x81\\tConnected'\n",
      "++Rcv decoded: fin=1 opcode=1 data=b'Connected'\n"
     ]
    },
    {
     "data": {
      "text/plain": [
       "'Connected'"
      ]
     },
     "execution_count": 15,
     "metadata": {},
     "output_type": "execute_result"
    }
   ],
   "source": [
    "ws.recv()"
   ]
  },
  {
   "cell_type": "code",
   "execution_count": 16,
   "metadata": {},
   "outputs": [
    {
     "name": "stderr",
     "output_type": "stream",
     "text": [
      "++Sent raw: b'\\x81\\x9b\\xe1\\xd95\\xcf\\x93\\xbcV\\xaa\\x88\\xafP\\x90\\x8e\\xacA\\xbf\\x94\\xadj\\xac\\x8e\\xb7A\\xbd\\x8e\\xb5j\\xab\\x80\\xadT'\n",
      "++Sent decoded: fin=1 opcode=1 data=b'receive_output_control_data'\n"
     ]
    },
    {
     "data": {
      "text/plain": [
       "33"
      ]
     },
     "execution_count": 16,
     "metadata": {},
     "output_type": "execute_result"
    }
   ],
   "source": [
    "ws.send(\"receive_output_control_data\")"
   ]
  },
  {
   "cell_type": "code",
   "execution_count": 17,
   "metadata": {},
   "outputs": [],
   "source": [
    "# 0. noise\n",
    "# 1. sinewave\n",
    "# 2. square\n",
    "# 3. triangle\n",
    "\n",
    "\n",
    "leddelay=100\n",
    "ledvalues=[30, 0, 0, 0, 255, 0, 0, 0, 255, 255, 255, 255, 0, 255, 255, 255, 0, 255, 255, 255, 0, 255, 0, 0]\n",
    "sdict={'wave_1_freq':800, 'wave_2_freq':200, 'panner_freq':30, 'panner_div':2, 'phasor_1_freq':100, 'phasor_1_min':30, 'phasor_1_max':30, \n",
    "       'phasor_2_freq':30, 'phasor_2_min':30, 'phasor_2_max':30,\n",
    "       'maxivolume':5,'wave_1_type':3,'wave_2_type':0}"
   ]
  },
  {
   "cell_type": "code",
   "execution_count": 18,
   "metadata": {},
   "outputs": [],
   "source": [
    "message=','.join(list(map(str,ledvalues)))+f',{leddelay}'+f\",{sdict['wave_1_freq']},{sdict['wave_2_freq']},{sdict['panner_freq']},{sdict['panner_div']},{sdict['phasor_1_freq']},{sdict['phasor_1_min']},{sdict['phasor_1_max']},{sdict['phasor_2_freq']},{sdict['phasor_2_min']},{sdict['phasor_2_max']},{sdict['maxivolume']},{sdict['wave_1_type']},{sdict['wave_2_type']}\""
   ]
  },
  {
   "cell_type": "code",
   "execution_count": 19,
   "metadata": {},
   "outputs": [
    {
     "data": {
      "text/plain": [
       "'30,0,0,0,255,0,0,0,255,255,255,255,0,255,255,255,0,255,255,255,0,255,0,0,100,800,200,30,2,100,30,30,30,30,30,5,3,0'"
      ]
     },
     "execution_count": 19,
     "metadata": {},
     "output_type": "execute_result"
    }
   ],
   "source": [
    "message"
   ]
  },
  {
   "cell_type": "code",
   "execution_count": 20,
   "metadata": {},
   "outputs": [
    {
     "data": {
      "text/plain": [
       "38"
      ]
     },
     "execution_count": 20,
     "metadata": {},
     "output_type": "execute_result"
    }
   ],
   "source": [
    "len(message.split(','))"
   ]
  },
  {
   "cell_type": "code",
   "execution_count": 21,
   "metadata": {},
   "outputs": [
    {
     "name": "stderr",
     "output_type": "stream",
     "text": [
      "++Sent raw: b'\\x81\\xf2C\\x9e\\x08\\xb5p\\xae$\\x85o\\xae$\\x85o\\xac=\\x80o\\xae$\\x85o\\xae$\\x87v\\xab$\\x87v\\xab$\\x87v\\xab$\\x87v\\xab$\\x85o\\xac=\\x80o\\xac=\\x80o\\xac=\\x80o\\xae$\\x87v\\xab$\\x87v\\xab$\\x87v\\xab$\\x85o\\xac=\\x80o\\xae$\\x85o\\xaf8\\x85o\\xa68\\x85o\\xac8\\x85o\\xad8\\x99q\\xb29\\x85s\\xb2;\\x85o\\xad8\\x99p\\xae$\\x86s\\xb2;\\x85o\\xab$\\x86o\\xae'\n",
      "++Sent decoded: fin=1 opcode=1 data=b'30,0,0,0,255,0,0,0,255,255,255,255,0,255,255,255,0,255,255,255,0,255,0,0,100,800,200,30,2,100,30,30,30,30,30,5,3,0'\n",
      "++Sent raw: b'\\x81\\xf2\\xf8\\xa5~@\\xcb\\x95Rp\\xd4\\x95Rp\\xd4\\x97Ku\\xd4\\x95Rp\\xd4\\x95Rr\\xcd\\x90Rr\\xcd\\x90Rr\\xcd\\x90Rr\\xcd\\x90Rp\\xd4\\x97Ku\\xd4\\x97Ku\\xd4\\x97Ku\\xd4\\x95Rr\\xcd\\x90Rr\\xcd\\x90Rr\\xcd\\x90Rp\\xd4\\x97Ku\\xd4\\x95Rp\\xd4\\x94Np\\xd4\\x9dNp\\xd4\\x97Np\\xd4\\x96Nl\\xca\\x89Op\\xc8\\x89Mp\\xd4\\x96Nl\\xcb\\x95Rs\\xc8\\x89Mp\\xd4\\x90Rs\\xd4\\x95'\n",
      "++Sent decoded: fin=1 opcode=1 data=b'30,0,0,0,255,0,0,0,255,255,255,255,0,255,255,255,0,255,255,255,0,255,0,0,100,800,200,30,2,100,30,30,30,30,30,5,3,0'\n"
     ]
    }
   ],
   "source": [
    "nsecs=60\n",
    "nmessages=int(nsecs*(1000/leddelay))\n",
    "for m in range(2):\n",
    "    ws.send(message)"
   ]
  },
  {
   "cell_type": "code",
   "execution_count": 22,
   "metadata": {},
   "outputs": [
    {
     "name": "stderr",
     "output_type": "stream",
     "text": [
      "++Sent raw: b'\\x81\\x8e\\xaa\\x15\\xa0\\x99\\xd9a\\xcf\\xe9\\xf5y\\xc5\\xfd\\xf5v\\xd9\\xfa\\xc6p'\n",
      "++Sent decoded: fin=1 opcode=1 data=b'stop_led_cycle'\n"
     ]
    },
    {
     "data": {
      "text/plain": [
       "20"
      ]
     },
     "execution_count": 22,
     "metadata": {},
     "output_type": "execute_result"
    }
   ],
   "source": [
    "ws.send('stop_led_cycle')"
   ]
  },
  {
   "cell_type": "code",
   "execution_count": 263,
   "metadata": {},
   "outputs": [
    {
     "data": {
      "text/plain": [
       "25"
      ]
     },
     "execution_count": 263,
     "metadata": {},
     "output_type": "execute_result"
    }
   ],
   "source": [
    "len(\"%d,%d,%d,%d,%d,%d,%d,%d,%d,%d,%d,%d,%d,%d,%d,%d,%d,%d,%d,%d,%d,%d,%d,%d,%d\".split(','))"
   ]
  },
  {
   "cell_type": "code",
   "execution_count": null,
   "metadata": {},
   "outputs": [],
   "source": []
  }
 ],
 "metadata": {
  "kernelspec": {
   "display_name": "Python 3",
   "language": "python",
   "name": "python3"
  },
  "language_info": {
   "codemirror_mode": {
    "name": "ipython",
    "version": 3
   },
   "file_extension": ".py",
   "mimetype": "text/x-python",
   "name": "python",
   "nbconvert_exporter": "python",
   "pygments_lexer": "ipython3",
   "version": "3.10.12"
  }
 },
 "nbformat": 4,
 "nbformat_minor": 2
}
