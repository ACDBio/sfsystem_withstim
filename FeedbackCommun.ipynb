{
 "cells": [
  {
   "cell_type": "code",
   "execution_count": 8,
   "metadata": {},
   "outputs": [],
   "source": [
    "import websocket\n",
    "import json\n",
    "import gym\n",
    "from gym import spaces\n",
    "import numpy as np\n",
    "import numexpr as ne"
   ]
  },
  {
   "cell_type": "code",
   "execution_count": 2,
   "metadata": {},
   "outputs": [
    {
     "name": "stderr",
     "output_type": "stream",
     "text": [
      "--- request header ---\n",
      "GET / HTTP/1.1\n",
      "Upgrade: websocket\n",
      "Host: 10.42.0.231\n",
      "Origin: http://10.42.0.231\n",
      "Sec-WebSocket-Key: PgnSi1ceFBvRzDuwSFnwQw==\n",
      "Sec-WebSocket-Version: 13\n",
      "Connection: Upgrade\n",
      "\n",
      "\n",
      "-----------------------\n",
      "--- response header ---\n"
     ]
    },
    {
     "name": "stderr",
     "output_type": "stream",
     "text": [
      "HTTP/1.1 101 Switching Protocols\n",
      "Server: arduino-WebSocketsServer\n",
      "Upgrade: websocket\n",
      "Connection: Upgrade\n",
      "Sec-WebSocket-Version: 13\n",
      "Sec-WebSocket-Accept: JdBbRrC9tQXyYe9p4BK7MGIuNZ8=\n",
      "-----------------------\n"
     ]
    }
   ],
   "source": [
    "websocket.enableTrace(True)\n",
    "ws=websocket.WebSocket()\n",
    "ws.connect(\"ws://10.42.0.231:80/\")"
   ]
  },
  {
   "cell_type": "code",
   "execution_count": 56,
   "metadata": {},
   "outputs": [
    {
     "data": {
      "text/plain": [
       "range(0, 100)"
      ]
     },
     "execution_count": 56,
     "metadata": {},
     "output_type": "execute_result"
    }
   ],
   "source": [
    "range(0, 100)"
   ]
  },
  {
   "cell_type": "code",
   "execution_count": 60,
   "metadata": {},
   "outputs": [
    {
     "data": {
      "text/plain": [
       "(2, 3)"
      ]
     },
     "execution_count": 60,
     "metadata": {},
     "output_type": "execute_result"
    }
   ],
   "source": [
    "import numpy as np\n",
    "np.array([[1,2,3],[1,2,3]]).shape"
   ]
  },
  {
   "cell_type": "code",
   "execution_count": 12,
   "metadata": {},
   "outputs": [],
   "source": [
    "import websocket\n",
    "import json\n",
    "import gym\n",
    "from gym import spaces\n",
    "import numpy as np\n",
    "import re\n",
    "import numexpr as ne\n",
    "import time\n",
    "#steps are not implemented for now\n",
    "out_dict={'leddelay':{'names':['leddelay'], 'value_range':{'min':10, 'max':10000, 'step':100}},\n",
    "          'ledcontrols':{'names':['lv1r','lv1g','lv1b','lv2r','lv2g','lv2b','lv3r','lv3g','lv3b','lv4r','lv4g','lv4b', 'lv5r','lv5g','lv5b','lv6r','lv6g',\n",
    "          'lv6b',\n",
    "          'lv7r',\n",
    "          'lv7g',\n",
    "          'lv7b',\n",
    "          'lv8r',\n",
    "          'lv8g',\n",
    "          'lv8b'], 'value_range':{'min':10, 'max':255, 'step':10}},\n",
    "          'sound_wave_frequencies':{'names':['wave_1_freq','wave_2_freq'], 'value_range':{'min':1, 'max':30000, 'step':100}},\n",
    "          'panner_phasor_frequencies':{'names':['panner_freq', 'phasor_1_freq', 'phasor_2_freq','phasor_1_min',  'phasor_2_min', 'phasor_1_dif', 'phasor_2_dif'],  'value_range':{'min':1, 'max':50, 'step':1}},\n",
    "          'panner_div':{'names':['panner_div'], 'value_range':{'min':1, 'max':5, 'step':1}},\n",
    "          'sound_wave_shapes':{'names':['wave_1_type', 'wave_2_type'], 'value_range':{'min':0, 'max':3, 'step':1}},\n",
    "          'maxibolume':{'names':['maxivolume'], 'value_range':{'min':0, 'max':100, 'step':10}}\n",
    "}\n",
    "out_order=['lv1r','lv1g','lv1b','lv2r','lv2g','lv2b','lv3r','lv3g','lv3b','lv4r','lv4g','lv4b','lv5r','lv5g','lv5b','lv6r','lv6g','lv6b',\n",
    "          'lv7r','lv7g','lv7b','lv8r','lv8g','lv8b','leddelay','wave_1_freq','wave_2_freq','panner_freq','panner_div','phasor_1_freq',\n",
    "          'phasor_1_min','phasor_1_max','phasor_2_freq','phasor_2_min','phasor_2_max','maxivolume','wave_1_type','wave_2_type']\n",
    "\n",
    "\n",
    "class SFSystemCommunicator(gym.Env):\n",
    "    def __init__(self, out_dict=out_dict, out_order=out_order,n_input_channels=8, channels_of_interest_inds=list(range(8)), n_timepoints_per_sample=100, max_sfsystem_output=1023,reward_formula_string='(fbin_05_4_ch0+freq_30_ch0)/fbin_12_30_ch0', \n",
    "                 fbins=[(0.001, 0.5), (0.5, 4), (4,8), (8,12), (12,30)], delay=10,\n",
    "                 use_raw_in_os_def=False, use_freq_in_os_def=False, use_fbins_in_os_def=False, device_address=\"ws://10.42.0.231:80/\",\n",
    "                 step_stim_length=10000):\n",
    "        self.device_address=device_address\n",
    "        self.step_stim_length=step_stim_length\n",
    "        \n",
    "        self.out_dict=out_dict\n",
    "        self.out_order=out_order\n",
    "        self.max_sfsystem_output=max_sfsystem_output\n",
    "        self.n_timepoints_per_sample=n_timepoints_per_sample\n",
    "        self.n_input_channels=n_input_channels\n",
    "        self.reward_formula_string=reward_formula_string\n",
    "\n",
    "        self.delay=delay\n",
    "\n",
    "        self.record_raw=use_raw_in_os_def\n",
    "\n",
    "        self.do_fft=use_freq_in_os_def\n",
    "        self.record_fft=use_freq_in_os_def\n",
    "\n",
    "        self.do_fbins=use_fbins_in_os_def\n",
    "        self.record_fbins=use_fbins_in_os_def\n",
    "\n",
    "        self.fbins=fbins\n",
    "        self.n_fbins=len(self.fbins)\n",
    "\n",
    "        self.channels_of_interest_inds=channels_of_interest_inds\n",
    "        self.n_channels_of_interest=len(self.channels_of_interest_inds)\n",
    "    \n",
    "\n",
    "        self.set_fft_params()\n",
    "\n",
    "        self.timesleep_period=0.1\n",
    "\n",
    "        if 'raw' in self.reward_formula_string:\n",
    "            self.record_raw=True\n",
    "        if 'freq' in self.reward_formula_string:\n",
    "            self.record_fft=True\n",
    "        if 'fbin' in self.reward_formula_string:\n",
    "            self.record_fbins=True\n",
    "\n",
    "        if self.record_fbins:\n",
    "            self.do_fft=True\n",
    "            self.do_fbins=True\n",
    "        \n",
    "        self.init_action_space()\n",
    "        self.init_observation_space()\n",
    "        self.set_value_dict_for_reward_function()\n",
    "        self.connect()\n",
    "        print(self.connection_status)\n",
    "        self.set_delay_and_data_transfer_buffer_size()\n",
    "        print('Delay and data transfer buffer size are set up.')\n",
    "    def print_reward_formula_legend(self):\n",
    "        print('Reward formula can use the following operators: //, *, **, -, +')\n",
    "        print('It can refer to channels using \"ch\" prefix followed by an index (starting with 0) e.g. ch0')\n",
    "        print('It can refer to values of frequency bins in specific channels e.g. fbin_10_50_ch0')\n",
    "        print('The corresponding freqency bins must be present among fbins passed at the initialization step')\n",
    "        print('fbins should be passed in the form of [(b1 min, b1max),...(bn min, bn max)]')\n",
    "        print('It can refer to specific frequencies from fft e.g. freq_50_ch0')\n",
    "        print('For fractional frequencies (e.g. 0.5) do not use points, just start with 0 (e.g. 05)')\n",
    "        print('Some examples:')\n",
    "        print('1. (freq_50_ch0+fbin_0_10_ch0)/(fbin_20_30_ch0)')\n",
    "        print('2. freq_5_ch0/freq_10_ch0')\n",
    "        print('3. fbin_05_5_ch0')\n",
    "    def set_value_dict_for_reward_function(self):\n",
    "        ftokens=re.split(r'[+/)(*]+',self.reward_formula_string)\n",
    "        self.rewarddict={}\n",
    "        self.tokendict={}\n",
    "        for token in ftokens:\n",
    "            if 'ch' in token:\n",
    "                self.rewarddict[token]=None\n",
    "                self.tokendict[token]={}\n",
    "                subtokens=token.split('_')\n",
    "                self.tokendict[token]['datatype']=subtokens[0]\n",
    "                for subtoken in subtokens:\n",
    "                    if 'ch' in subtoken:\n",
    "                        self.tokendict[token]['channelindex']=int(subtoken.split('h')[1])\n",
    "                    if subtoken=='freq':\n",
    "                        tfreq=float(subtokens[1])\n",
    "                        self.tokendict[token]['freqdata']=tfreq\n",
    "                        closestind=np.argmin(np.abs(self.f_plot - tfreq))\n",
    "                        self.tokendict[token]['closest_fft_ind']=closestind\n",
    "                        print(f'Token {token}:')\n",
    "                        print(f'Closest fft frequency {self.f_plot[closestind]}')\n",
    "                    if subtoken=='fbin':\n",
    "                        bin_lst=[subtokens[1],subtokens[2]]\n",
    "                        for i in range(2):\n",
    "                            val=bin_lst[i]\n",
    "                            if val.startswith('0'):\n",
    "                                val=float('0.'+val[1:])\n",
    "                            else:\n",
    "                                val=float(val)\n",
    "                            bin_lst[i]=val\n",
    "                        self.tokendict[token]['freqdata']=tuple(bin_lst)\n",
    "                        self.tokendict[token]['fbin_idx']=self.fbins.index(self.tokendict[token]['freqdata'])\n",
    "    def populate_rewarddict(self, observations):\n",
    "        for token, tokendata in self.tokendict.items():\n",
    "            tartype=tokendata['datatype']\n",
    "            tarchannelidx=tokendata['channelindex']\n",
    "            if tartype=='raw':\n",
    "                tarobs=observations['raw_data']\n",
    "                tarobs=tarobs[:,tarchannelidx]\n",
    "                res=np.mean(tarobs) #here we use the mean, but this may be changed\n",
    "            if tartype=='freq':\n",
    "                #tarfreq=tokendata['freqdata']\n",
    "                taridx=tokendata['closest_fft_ind']\n",
    "                tarobs=observations['fft'][tarchannelidx]\n",
    "                res=tarobs[taridx]\n",
    "            if tartype=='fbin':\n",
    "                tarobs=observations['fbins'][tarchannelidx]\n",
    "                res=tarobs[tokendata['fbin_idx']]\n",
    "            self.rewarddict[token]=res\n",
    "    def get_reward(self, observations=None, toreturn=False):\n",
    "        if observations == None:\n",
    "            observations=self.observation_space.sample() #if no observations are given extrernally, sample from the observation space\n",
    "        self.populate_rewarddict(observations)\n",
    "        self.reward=ne.evaluate(self.reward_formula_string, local_dict=self.rewarddict)\n",
    "        if toreturn==True:\n",
    "            return self.reward\n",
    "    def init_action_space(self):\n",
    "        self.action_space=spaces.Dict({})\n",
    "        for key, val in self.out_dict.items():\n",
    "            spacesnames=val['names']\n",
    "            spacesrange=val['value_range']\n",
    "            for spacename in spacesnames:\n",
    "                self.action_space.spaces[spacename]=spaces.Box(low=spacesrange['min'], high=spacesrange['max'], shape=(1,), dtype=int)\n",
    "    def init_observation_space(self):\n",
    "        self.observation_space=spaces.Dict({})\n",
    "        self.observation_space['raw_data']=spaces.Box(low=0, high=self.max_sfsystem_output, shape=(self.n_timepoints_per_sample, self.n_channels_of_interest), dtype=int) #n timepoints per sample rows, n input channels columns, signals should be normalized\n",
    "        if self.record_fft:\n",
    "            self.observation_space['fft']=spaces.Box(low=0.0, high=1.0, shape=(self.n_channels_of_interest, self.n_fft_values))\n",
    "        if self.record_fbins:\n",
    "            self.observation_space['fbins']=spaces.Box(low=0.0, high=1.0, shape=(self.n_channels_of_interest, self.n_fbins))\n",
    "    def set_fft_params(self):\n",
    "        self.sampling_frequency=int(1000/self.delay)\n",
    "        self.max_possible_fft_frequency=self.sampling_frequency/2\n",
    "        self.sampling_period=int(self.delay*self.n_timepoints_per_sample)\n",
    "        self.timesteps=np.linspace(0, (self.n_timepoints_per_sample-1)*self.delay, self.n_timepoints_per_sample)\n",
    "        self.fstep=self.sampling_frequency/self.n_timepoints_per_sample\n",
    "        self.f=np.linspace(0, (self.n_timepoints_per_sample-1)*self.fstep, self.n_timepoints_per_sample)\n",
    "        self.f_plot=self.f[0:int(self.n_timepoints_per_sample/2 + 1)]\n",
    "        self.n_fft_values=len(self.f_plot)\n",
    "\n",
    "    def connect(self):\n",
    "        websocket.enableTrace(True)\n",
    "        self.ws=websocket.WebSocket()\n",
    "        self.ws.connect(self.device_address)\n",
    "        self.connection_status=self.ws.recv()\n",
    "    \n",
    "    def get_fft_fromsignal(self, raw_singlech):\n",
    "        X=np.fft.fft(raw_singlech)\n",
    "        X_mag=np.abs(X)/self.n_timepoints_per_sample\n",
    "        X_mag_plot=2*X_mag[0:int(self.n_timepoints_per_sample/2 + 1)]\n",
    "        return X_mag_plot\n",
    "\n",
    "    def get_fft_allchannels(self, raw_data=None):\n",
    "        if raw_data == None:\n",
    "            raw_data=self.observation_space.sample()['raw_data']\n",
    "\n",
    "        fft_data=[]\n",
    "        for chindex in range(raw_data.shape[1]):\n",
    "            chraw=raw_data[:,chindex]\n",
    "            chfft=self.get_fft_fromsignal(chraw)\n",
    "            fft_data.append(chfft)\n",
    "        fft_data=np.array(fft_data)\n",
    "        return fft_data\n",
    "    \n",
    "    def get_bin_values_from_signal(self, fft_signlech):\n",
    "        fpl=np.array(self.f_plot)\n",
    "        xmp=np.array(fft_signlech)\n",
    "        magnitudes=[]\n",
    "        for low, high in self.fbins:\n",
    "            mask = (fpl >= low) & (fpl < high)\n",
    "            magnitude = np.abs(xmp[mask]).mean() #here can be other functions\n",
    "            magnitudes.append(magnitude)\n",
    "        magnitudes=np.array(magnitudes)\n",
    "        return magnitudes\n",
    "\n",
    "    def get_bin_values_allchannels(self, fft=None):\n",
    "        if fft == None:\n",
    "            fft=self.observation_space.sample()['fft']\n",
    "        fbins_data=[]\n",
    "        for chindex in range(fft.shape[0]):\n",
    "            chfft=fft[chindex,:]\n",
    "            chbins=self.get_bin_values_from_signal(chfft)\n",
    "            fbins_data.append(chbins)\n",
    "        fbins_data=np.array(fbins_data)\n",
    "        return fbins_data\n",
    "\n",
    "    def set_delay_and_data_transfer_buffer_size(self):\n",
    "        self.ws.send(\"set_delay_and_data_transfer_buffer_size\")\n",
    "        time.sleep(self.timesleep_period)\n",
    "        setup=False\n",
    "        while setup==False:\n",
    "            try:\n",
    "                device_msg=self.ws.recv()\n",
    "                if device_msg == \"Awaiting delay and data transfer buffer size in shape with space separator\":\n",
    "                    self.ws.send(f'{self.delay},{self.n_timepoints_per_sample}')\n",
    "                time.sleep(self.timesleep_period)\n",
    "                device_msg=self.ws.recv()\n",
    "                if device_msg == \"Delay and data transfer buffer size set up\":\n",
    "                    setup = True \n",
    "                    break;\n",
    "            except:\n",
    "                pass\n",
    "    def start_data_transfer_from_device(self):\n",
    "        self.ws.send(\"start_data_transfer_from_ads\")\n",
    "    def stop_data_transfer_from_device(self):\n",
    "        self.ws.send(\"stop_data_transfer_from_ads\")\n",
    "    def stop_audiovis_feedback(self):\n",
    "        self.ws.send(\"stop_led_cycle\")\n",
    "    def update_audiovis_feedback(self, update_dict):\n",
    "        self.ws.send(\"receive_output_control_data\")\n",
    "        outmsg_vals=[]\n",
    "        for controlnm in self.out_order:\n",
    "            outmsg_vals.append(update_dict[controlnm])\n",
    "        msg=','.join(outmsg_vals)\n",
    "        self.ws.send(msg)\n",
    "    def step(self, action):\n",
    "        # Implement the logic of the environment here\n",
    "        # This method should return the new observation, the reward, whether the episode is done, and any additional info\n",
    "        # ...\n",
    "\n",
    "        return #observation, reward, done, info\n",
    "\n",
    "    def reset(self):\n",
    "        # Reset the environment to its initial state\n",
    "        # This method should return the initial observation\n",
    "        # ...\n",
    "\n",
    "        return initial_observation\n",
    "\n",
    "    def render(self, mode='human'):\n",
    "        # Implement any rendering logic here\n",
    "        # This method is optional and is not required for training the agent\n",
    "        # ...\n",
    "\n",
    "        pass\n",
    "\n",
    "    def close(self):\n",
    "        # Implement any cleanup logic here\n",
    "        # This method is optional and is not required for training the agent\n",
    "        # ...\n",
    "\n",
    "        pass"
   ]
  },
  {
   "cell_type": "code",
   "execution_count": 13,
   "metadata": {},
   "outputs": [
    {
     "name": "stderr",
     "output_type": "stream",
     "text": [
      "--- request header ---\n",
      "GET / HTTP/1.1\n",
      "Upgrade: websocket\n",
      "Host: 10.42.0.231\n",
      "Origin: http://10.42.0.231\n",
      "Sec-WebSocket-Key: XiEGEltwAPJtwfwv6coiHQ==\n",
      "Sec-WebSocket-Version: 13\n",
      "Connection: Upgrade\n",
      "\n",
      "\n",
      "-----------------------\n",
      "--- response header ---\n",
      "HTTP/1.1 101 Switching Protocols\n",
      "Server: arduino-WebSocketsServer\n",
      "Upgrade: websocket\n",
      "Connection: Upgrade\n",
      "Sec-WebSocket-Version: 13\n",
      "Sec-WebSocket-Accept: a3V+0982CG9bOcZa67m2QLdIhlQ=\n",
      "-----------------------\n",
      "++Rcv raw: b'\\x89\\x00'\n",
      "++Rcv decoded: fin=1 opcode=9 data=b''\n",
      "++Sent raw: b'\\x8a\\x80\\xe9\\x98\\x19\\xe4'\n",
      "++Sent decoded: fin=1 opcode=10 data=b''\n",
      "++Rcv raw: b'\\x81\\tConnected'\n",
      "++Rcv decoded: fin=1 opcode=1 data=b'Connected'\n"
     ]
    },
    {
     "name": "stdout",
     "output_type": "stream",
     "text": [
      "Token freq_30_ch0:\n",
      "Closest fft frequency 30.0\n",
      "Connected\n"
     ]
    }
   ],
   "source": [
    "communicator=SFSystemCommunicator()"
   ]
  },
  {
   "cell_type": "code",
   "execution_count": 17,
   "metadata": {},
   "outputs": [
    {
     "data": {
      "text/plain": [
       "8"
      ]
     },
     "execution_count": 17,
     "metadata": {},
     "output_type": "execute_result"
    }
   ],
   "source": [
    "sample=communicator.observation_space.sample()\n",
    "sample['raw_data'].shape[1]"
   ]
  },
  {
   "cell_type": "code",
   "execution_count": 18,
   "metadata": {},
   "outputs": [
    {
     "data": {
      "text/plain": [
       "array([[ 633,  909,  253,  174,  711,  192,  812,  991],\n",
       "       [ 355,  144,  985,   83,  882,  887,  214,   84],\n",
       "       [ 614,  687,  346,  308,  653,  238,  810,  591],\n",
       "       [ 883,  862,  456,   30,  968,    2,  301,  574],\n",
       "       [ 616,  797,  605,  168,  826,   42,  486,  555],\n",
       "       [ 254,  545,  324,  660,  796,  887,  792,  455],\n",
       "       [ 949,  350,  269,  885,  498,  935,  178,  762],\n",
       "       [ 376,  157,  471,  169,  565,  282,  429,  358],\n",
       "       [ 942,  278,  955,  781,  112,  950,  288,  589],\n",
       "       [ 126,  665,   77,  906,  229,  528,  848,   83],\n",
       "       [ 275,  446,  179,  504,  738,  536,  249,  266],\n",
       "       [ 798,  994,  226,  201,   13,  775,  836,  602],\n",
       "       [ 670,  360,   60,  780,  707,  165,  380,  856],\n",
       "       [ 243,  481,  710,   81,  894,  381,  544,  783],\n",
       "       [ 462,  197,  161,  229,    1,  735,  381,  855],\n",
       "       [ 808,  282,  185,  338,  630,  914,  589,  181],\n",
       "       [ 640,   23,  489,  776,  799,  502,  452,  791],\n",
       "       [  79,   86,  299,  779,   12,  846,  323,  566],\n",
       "       [ 336,  792,  753,  943,  695,  203,  594,  101],\n",
       "       [ 347,  166,  370,  915,  230,  725,  421,  198],\n",
       "       [ 457,  870,  564,  530,  500,  158,  497,  730],\n",
       "       [ 928,  131, 1019,  816,   18,  738,  524,  351],\n",
       "       [ 902,  752,  470,  600,   40,  293,  341,  729],\n",
       "       [  92,  937,  661,  431,  956,  946,  183,   14],\n",
       "       [   8,  399,  114,  587,  572,  523,  563,  837],\n",
       "       [ 891,  387,  951,  883,  370,   28,  233,  952],\n",
       "       [ 110,  762,  260,  954,  370,  857,  115,  666],\n",
       "       [ 831,  438,  711,  107,  857,  114,  870,  169],\n",
       "       [ 633,  151,  829,  903,  800,  972,  971,   97],\n",
       "       [ 235,  703,  259,  648,  667,  607,  132,  496],\n",
       "       [ 720,  568,   80,  279,  324,  116,  722,  966],\n",
       "       [ 255,    3,  938,  597,  287,  278,  652,  198],\n",
       "       [ 332,  296,   62,  597,  118,  393,  924,  292],\n",
       "       [ 284,  690,  716,  962,  590,  368,  294,  397],\n",
       "       [ 635,  591,  492,   43,   44,  186,  150,  674],\n",
       "       [ 883,  216,  212,  984,    2,  211,    8,  432],\n",
       "       [ 356,  428,  495,  457,  390,  338,  172, 1015],\n",
       "       [1014,  294,  807,  900,  888,  648,  891,  485],\n",
       "       [ 751,  617,  869,  585,  250,  698,  449,  619],\n",
       "       [ 494,  923,  868,  750,  955,  260,  890,   73],\n",
       "       [ 329,  135,  204,  365,  899,  309,  272,  233],\n",
       "       [ 706,   59,  566,   49,  707,  776,  450,  833],\n",
       "       [ 425,  140,  367,  899,  507,  321,  233,  390],\n",
       "       [ 435, 1004,  840,  467,  721,  808,  558,  902],\n",
       "       [ 580,  273,  834,  632,  534,  406,  433,  855],\n",
       "       [ 963,  190,  650,  781,   34,  731,  430,  233],\n",
       "       [ 295,  109,  593,   25,   45,  442,  197,  209],\n",
       "       [ 562,   50,  272, 1013,  996,  884,  720,  973],\n",
       "       [ 249,  293,   31,  173,  911,  387,  321,  482],\n",
       "       [ 971,  109,  316,  802,  787,  105,  593,  447],\n",
       "       [ 767,  840,  908,  982,  759,  361,  887,  524],\n",
       "       [ 180,  192,  348,  583,  417,  138,  454,   47],\n",
       "       [ 296,  699,  720,  207,  186,  955,  745,  175],\n",
       "       [ 631,  503,  776,  308,  427,  792,  449,  723],\n",
       "       [ 285,  666,   30,  711,  918,  873,  863,  263],\n",
       "       [ 302,  381,  745,  928,   42,  292,  187,  976],\n",
       "       [ 100,  146,  960,  795,  744,  768,  913,  458],\n",
       "       [ 201,  273,  297,  620,  963,  134,  544,  129],\n",
       "       [ 708,  622,  687,  139,  263, 1017,  607,  156],\n",
       "       [ 711,  120,  447,  642,  491,  305,  446,  752],\n",
       "       [ 777,  999,   84,  568,  964,  849,  835,  202],\n",
       "       [ 507,  772,  832,  490,  383,   50,  345,  146],\n",
       "       [ 227,  532,  950,  789,  973,  842,  103,  868],\n",
       "       [ 962,  519,  627,  473,   38,  531,  647,  970],\n",
       "       [ 415,  415,  634, 1001,  504,  367,  634,  761],\n",
       "       [  19,  345,  229,  195,  961,  112,  782,  781],\n",
       "       [1021,  983,  300,  245,  513,  728,   67,  448],\n",
       "       [ 672,  180,  666,  866,  323,  872,  929,  311],\n",
       "       [ 736,  335,  547,  584,  538,  230,   36,  589],\n",
       "       [ 722,  554,  159,   22,  374,  453,  860,  962],\n",
       "       [ 519,  631,  734,  898,  882,  143,  995,  874],\n",
       "       [  11,  786,  460,  322,  498,  718,  728,  232],\n",
       "       [ 225,  210,  410,   16,  726,  277,  406,  291],\n",
       "       [ 815,  259, 1000,  657,  928,  414,  685,  963],\n",
       "       [ 766,  154,  356,  237,   61,  907,  145,  844],\n",
       "       [  31,  551,  123,  528,  606,  246,  227,  399],\n",
       "       [ 555,  239,  726,  171,  959,  613,   70,  819],\n",
       "       [  84,  331,  216,  336,  221,   31,  698,  109],\n",
       "       [  31,  853,  934,  637,  251,  965,  579,  117],\n",
       "       [ 116,  188,   64,   38,  698,  218,  456,  108],\n",
       "       [ 125,  520,  626,  115,  280,  388,  474,  532],\n",
       "       [ 554,  157,  178,  293,  960,  938,  503,  459],\n",
       "       [ 911,  391,  916,  179,   37,  800,  431,  989],\n",
       "       [ 890,  104,  719,  263,  147,  117,  557,  133],\n",
       "       [ 514,  149,  130,  900,  489,  940,  877,  588],\n",
       "       [ 114,  183,  656,   28,  234,  386,  695,  937],\n",
       "       [ 878,  742,  998,  925,  358,  278,  551,  192],\n",
       "       [  88,  212,   34,  190,   64,  948,  596,  778],\n",
       "       [ 867,  404,  854,  894,  868,  663,  563,  893],\n",
       "       [1008,  204,  718,  471,   55,  271,  362,  307],\n",
       "       [ 767,  588,  462,  923,  340,   33,  264,  508],\n",
       "       [ 250,  561,  545,  641,  827,  292,  139,  396],\n",
       "       [ 591,  878,   22, 1020,  352,  570,   44,  654],\n",
       "       [ 552,  714,  583,  221,  965,  335,   10,  492],\n",
       "       [ 663,  901,  354,  404,  688,  218,  957,  809],\n",
       "       [ 862,  216,  126,  274,  952,  472, 1003,  713],\n",
       "       [ 925,  458, 1006,   17,  283,  699,  878,    8],\n",
       "       [ 624,  598,  958,  917,  507,  766,  188,   14],\n",
       "       [ 245,  370,  919,   66,   62,  739,   79,  621],\n",
       "       [ 310,  253,  417,  282,  711,  274,  450,  226]])"
      ]
     },
     "execution_count": 18,
     "metadata": {},
     "output_type": "execute_result"
    }
   ],
   "source": [
    "sample['raw_data']"
   ]
  },
  {
   "cell_type": "code",
   "execution_count": 14,
   "metadata": {},
   "outputs": [
    {
     "data": {
      "text/plain": [
       "{'fbin_05_4_ch0': None, 'freq_30_ch0': None, 'fbin_12_30_ch0': None}"
      ]
     },
     "execution_count": 14,
     "metadata": {},
     "output_type": "execute_result"
    }
   ],
   "source": [
    "communicator.rewarddict"
   ]
  },
  {
   "cell_type": "code",
   "execution_count": 15,
   "metadata": {},
   "outputs": [],
   "source": [
    "communicator.get_reward()"
   ]
  },
  {
   "cell_type": "code",
   "execution_count": 16,
   "metadata": {},
   "outputs": [
    {
     "data": {
      "text/plain": [
       "array(4.1762214, dtype=float32)"
      ]
     },
     "execution_count": 16,
     "metadata": {},
     "output_type": "execute_result"
    }
   ],
   "source": [
    "communicator.reward"
   ]
  },
  {
   "cell_type": "code",
   "execution_count": 51,
   "metadata": {},
   "outputs": [
    {
     "data": {
      "text/plain": [
       "{'fbin_0.5_5_ch0': None, 'freq_30_ch0': None, 'fbin_10_20_ch0': None}"
      ]
     },
     "execution_count": 51,
     "metadata": {},
     "output_type": "execute_result"
    }
   ],
   "source": [
    "communicator.rewarddict"
   ]
  },
  {
   "cell_type": "code",
   "execution_count": 12,
   "metadata": {},
   "outputs": [
    {
     "data": {
      "text/plain": [
       "array(0.75)"
      ]
     },
     "execution_count": 12,
     "metadata": {},
     "output_type": "execute_result"
    }
   ],
   "source": [
    "s = \"(freq_50+fbin_0_10)/(fbin_20_30)\"\n",
    "\n",
    "# Define the variables\n",
    "variables = {\n",
    "    'freq_50': 10,\n",
    "    'fbin_0_10': 20,\n",
    "    'fbin_20_30':40\n",
    "}\n",
    "\n",
    "# Evaluate the string as a mathematical expression\n",
    "result = ne.evaluate(s, local_dict=variables)\n",
    "result"
   ]
  },
  {
   "cell_type": "code",
   "execution_count": 5,
   "metadata": {},
   "outputs": [
    {
     "data": {
      "text/plain": [
       "OrderedDict([('leddelay', array([2577])),\n",
       "             ('lv1r', array([251])),\n",
       "             ('lv1g', array([91])),\n",
       "             ('lv1b', array([237])),\n",
       "             ('lv2r', array([103])),\n",
       "             ('lv2g', array([178])),\n",
       "             ('lv2b', array([80])),\n",
       "             ('lv3r', array([220])),\n",
       "             ('lv3g', array([71])),\n",
       "             ('lv3b', array([167])),\n",
       "             ('lv4r', array([192])),\n",
       "             ('lv4g', array([133])),\n",
       "             ('lv4b', array([10])),\n",
       "             ('lv5r', array([164])),\n",
       "             ('lv5g', array([127])),\n",
       "             ('lv5b', array([83])),\n",
       "             ('lv6r', array([136])),\n",
       "             ('lv6g', array([143])),\n",
       "             ('lv6b', array([20])),\n",
       "             ('lv7r', array([98])),\n",
       "             ('lv7g', array([81])),\n",
       "             ('lv7b', array([109])),\n",
       "             ('lv8r', array([163])),\n",
       "             ('lv8g', array([235])),\n",
       "             ('lv8b', array([76])),\n",
       "             ('wave_1_freq', array([22009])),\n",
       "             ('wave_2_freq', array([12657])),\n",
       "             ('panner_freq', array([49])),\n",
       "             ('phasor_1_freq', array([45])),\n",
       "             ('phasor_2_freq', array([23])),\n",
       "             ('phasor_1_min', array([48])),\n",
       "             ('phasor_2_min', array([48])),\n",
       "             ('phasor_1_dif', array([42])),\n",
       "             ('phasor_2_dif', array([1])),\n",
       "             ('panner_div', array([2])),\n",
       "             ('wave_1_type', array([3])),\n",
       "             ('wave_2_type', array([1])),\n",
       "             ('maxivolume', array([19]))])"
      ]
     },
     "execution_count": 5,
     "metadata": {},
     "output_type": "execute_result"
    }
   ],
   "source": [
    "communicator.action_space.sample()"
   ]
  },
  {
   "cell_type": "code",
   "execution_count": 3,
   "metadata": {},
   "outputs": [
    {
     "name": "stdout",
     "output_type": "stream",
     "text": [
      "Reward formula can use the following operators: //, *, **, -, +\n",
      "It can refer to channels using \"ch\" prefix followed by an index (starting with 0) e.g. ch0\n",
      "It can refer to values of frequency bins in specific channels e.g. fbin_10-50|ch0\n",
      "The corresponding freqency bins must be present among fbins passed at the initialization step\n",
      "fbins should be passed in the form of [(b1 min, b1max),...(bn min, bn max)]\n",
      "It can refer to specific frequencies from fft e.g. freq_50|ch0\n",
      "Some examples:\n",
      "1. (freq_50|ch0+fbin_0-10|ch0)/(fbin_20-30|ch0)\n",
      "2. freq_5|ch0/freq_10|ch0\n",
      "3. fbin_0.5-5|ch0\n"
     ]
    }
   ],
   "source": [
    "communicator.print_reward_formula_legend()"
   ]
  },
  {
   "cell_type": "code",
   "execution_count": 4,
   "metadata": {},
   "outputs": [
    {
     "data": {
      "text/plain": [
       "'Connected'"
      ]
     },
     "execution_count": 4,
     "metadata": {},
     "output_type": "execute_result"
    }
   ],
   "source": [
    "communicator.connection_status"
   ]
  },
  {
   "cell_type": "code",
   "execution_count": null,
   "metadata": {},
   "outputs": [],
   "source": [
    "\n",
    "\n",
    "\n",
    "leddelay=100\n",
    "ledvalues=[30, 0, 0, 0, 255, 0, 0, 0, 255, 255, 255, 255, 0, 255, 255, 255, 0, 255, 255, 255, 0, 255, 0, 0]\n",
    "sdict={'wave_1_freq':800, 'wave_2_freq':200, 'panner_freq':30, 'panner_div':2, 'phasor_1_freq':100, 'phasor_1_min':30, 'phasor_1_max':30, \n",
    "       'phasor_2_freq':30, 'phasor_2_min':30, 'phasor_2_max':30,\n",
    "       'maxivolume':5,'wave_1_type':3,'wave_2_type':0}\n"
   ]
  },
  {
   "cell_type": "code",
   "execution_count": 5,
   "metadata": {},
   "outputs": [
    {
     "name": "stderr",
     "output_type": "stream",
     "text": [
      "++Rcv raw: b'\\x89\\x00'\n",
      "++Rcv decoded: fin=1 opcode=9 data=b''\n",
      "++Sent raw: b'\\x8a\\x80\\x1bE\\xf6f'\n",
      "++Sent decoded: fin=1 opcode=10 data=b''\n",
      "++Rcv raw: b'\\x81\\tConnected'\n",
      "++Rcv decoded: fin=1 opcode=1 data=b'Connected'\n"
     ]
    },
    {
     "data": {
      "text/plain": [
       "'Connected'"
      ]
     },
     "execution_count": 5,
     "metadata": {},
     "output_type": "execute_result"
    }
   ],
   "source": [
    "ws.recv()"
   ]
  },
  {
   "cell_type": "code",
   "execution_count": 48,
   "metadata": {},
   "outputs": [
    {
     "name": "stderr",
     "output_type": "stream",
     "text": [
      "++Sent raw: b'\\x81\\x9b]6\\x89\\xe2/S\\xea\\x874@\\xec\\xbd2C\\xfd\\x92(B\\xd6\\x812X\\xfd\\x902Z\\xd6\\x86<B\\xe8'\n",
      "++Sent decoded: fin=1 opcode=1 data=b'receive_output_control_data'\n"
     ]
    },
    {
     "data": {
      "text/plain": [
       "33"
      ]
     },
     "execution_count": 48,
     "metadata": {},
     "output_type": "execute_result"
    }
   ],
   "source": [
    "ws.send(\"receive_output_control_data\")"
   ]
  },
  {
   "cell_type": "code",
   "execution_count": 49,
   "metadata": {},
   "outputs": [],
   "source": [
    "# 0. noise\n",
    "# 1. sinewave\n",
    "# 2. square\n",
    "# 3. triangle\n",
    "\n",
    "\n",
    "leddelay=100\n",
    "ledvalues=[30, 0, 0, 0, 255, 0, 0, 0, 255, 255, 255, 255, 0, 255, 255, 255, 0, 255, 255, 255, 0, 255, 0, 0]\n",
    "sdict={'wave_1_freq':800, 'wave_2_freq':200, 'panner_freq':30, 'panner_div':2, 'phasor_1_freq':100, 'phasor_1_min':30, 'phasor_1_max':30, \n",
    "       'phasor_2_freq':30, 'phasor_2_min':30, 'phasor_2_max':30,\n",
    "       'maxivolume':5,'wave_1_type':3,'wave_2_type':0}"
   ]
  },
  {
   "cell_type": "code",
   "execution_count": 50,
   "metadata": {},
   "outputs": [],
   "source": [
    "message=','.join(list(map(str,ledvalues)))+f',{leddelay}'+f\",{sdict['wave_1_freq']},{sdict['wave_2_freq']},{sdict['panner_freq']},{sdict['panner_div']},{sdict['phasor_1_freq']},{sdict['phasor_1_min']},{sdict['phasor_1_max']},{sdict['phasor_2_freq']},{sdict['phasor_2_min']},{sdict['phasor_2_max']},{sdict['maxivolume']},{sdict['wave_1_type']},{sdict['wave_2_type']}\""
   ]
  },
  {
   "cell_type": "code",
   "execution_count": 51,
   "metadata": {},
   "outputs": [
    {
     "data": {
      "text/plain": [
       "'30,0,0,0,255,0,0,0,255,255,255,255,0,255,255,255,0,255,255,255,0,255,0,0,100,800,200,30,2,100,30,30,30,30,30,5,3,0'"
      ]
     },
     "execution_count": 51,
     "metadata": {},
     "output_type": "execute_result"
    }
   ],
   "source": [
    "message"
   ]
  },
  {
   "cell_type": "code",
   "execution_count": 52,
   "metadata": {},
   "outputs": [
    {
     "data": {
      "text/plain": [
       "38"
      ]
     },
     "execution_count": 52,
     "metadata": {},
     "output_type": "execute_result"
    }
   ],
   "source": [
    "len(message.split(','))"
   ]
  },
  {
   "cell_type": "code",
   "execution_count": 53,
   "metadata": {},
   "outputs": [
    {
     "name": "stderr",
     "output_type": "stream",
     "text": [
      "++Sent raw: b'\\x81\\xf2~r\\xdcqMB\\xf0ARB\\xf0AR@\\xe9DRB\\xf0ARB\\xf0CKG\\xf0CKG\\xf0CKG\\xf0CKG\\xf0AR@\\xe9DR@\\xe9DR@\\xe9DRB\\xf0CKG\\xf0CKG\\xf0CKG\\xf0AR@\\xe9DRB\\xf0ARC\\xecARJ\\xecAR@\\xecARA\\xec]L^\\xedAN^\\xefARA\\xec]MB\\xf0BN^\\xefARG\\xf0BRB'\n",
      "++Sent decoded: fin=1 opcode=1 data=b'30,0,0,0,255,0,0,0,255,255,255,255,0,255,255,255,0,255,255,255,0,255,0,0,100,800,200,30,2,100,30,30,30,30,30,5,3,0'\n",
      "++Sent raw: b\"\\x81\\xf2'1U\\x84\\x14\\x01y\\xb4\\x0b\\x01y\\xb4\\x0b\\x03`\\xb1\\x0b\\x01y\\xb4\\x0b\\x01y\\xb6\\x12\\x04y\\xb6\\x12\\x04y\\xb6\\x12\\x04y\\xb6\\x12\\x04y\\xb4\\x0b\\x03`\\xb1\\x0b\\x03`\\xb1\\x0b\\x03`\\xb1\\x0b\\x01y\\xb6\\x12\\x04y\\xb6\\x12\\x04y\\xb6\\x12\\x04y\\xb4\\x0b\\x03`\\xb1\\x0b\\x01y\\xb4\\x0b\\x00e\\xb4\\x0b\\te\\xb4\\x0b\\x03e\\xb4\\x0b\\x02e\\xa8\\x15\\x1dd\\xb4\\x17\\x1df\\xb4\\x0b\\x02e\\xa8\\x14\\x01y\\xb7\\x17\\x1df\\xb4\\x0b\\x04y\\xb7\\x0b\\x01\"\n",
      "++Sent decoded: fin=1 opcode=1 data=b'30,0,0,0,255,0,0,0,255,255,255,255,0,255,255,255,0,255,255,255,0,255,0,0,100,800,200,30,2,100,30,30,30,30,30,5,3,0'\n"
     ]
    }
   ],
   "source": [
    "nsecs=60\n",
    "nmessages=int(nsecs*(1000/leddelay))\n",
    "for m in range(2):\n",
    "    ws.send(message)"
   ]
  },
  {
   "cell_type": "code",
   "execution_count": 54,
   "metadata": {},
   "outputs": [
    {
     "name": "stderr",
     "output_type": "stream",
     "text": [
      "++Sent raw: b'\\x81\\x8e\\x8c\\xd2\\x1c\\xfd\\xff\\xa6s\\x8d\\xd3\\xbey\\x99\\xd3\\xb1e\\x9e\\xe0\\xb7'\n",
      "++Sent decoded: fin=1 opcode=1 data=b'stop_led_cycle'\n"
     ]
    },
    {
     "data": {
      "text/plain": [
       "20"
      ]
     },
     "execution_count": 54,
     "metadata": {},
     "output_type": "execute_result"
    }
   ],
   "source": [
    "ws.send('stop_led_cycle')"
   ]
  },
  {
   "cell_type": "code",
   "execution_count": 263,
   "metadata": {},
   "outputs": [
    {
     "data": {
      "text/plain": [
       "25"
      ]
     },
     "execution_count": 263,
     "metadata": {},
     "output_type": "execute_result"
    }
   ],
   "source": [
    "len(\"%d,%d,%d,%d,%d,%d,%d,%d,%d,%d,%d,%d,%d,%d,%d,%d,%d,%d,%d,%d,%d,%d,%d,%d,%d\".split(','))"
   ]
  },
  {
   "cell_type": "code",
   "execution_count": null,
   "metadata": {},
   "outputs": [],
   "source": []
  }
 ],
 "metadata": {
  "kernelspec": {
   "display_name": "Python 3",
   "language": "python",
   "name": "python3"
  },
  "language_info": {
   "codemirror_mode": {
    "name": "ipython",
    "version": 3
   },
   "file_extension": ".py",
   "mimetype": "text/x-python",
   "name": "python",
   "nbconvert_exporter": "python",
   "pygments_lexer": "ipython3",
   "version": "3.10.12"
  }
 },
 "nbformat": 4,
 "nbformat_minor": 2
}
