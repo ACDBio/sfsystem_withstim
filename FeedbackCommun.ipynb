{
 "cells": [
  {
   "cell_type": "code",
   "execution_count": 8,
   "metadata": {},
   "outputs": [],
   "source": [
    "import websocket\n",
    "import json\n",
    "import gym\n",
    "from gym import spaces\n",
    "import numpy as np\n",
    "import numexpr as ne"
   ]
  },
  {
   "cell_type": "code",
   "execution_count": 2,
   "metadata": {},
   "outputs": [
    {
     "name": "stderr",
     "output_type": "stream",
     "text": [
      "--- request header ---\n",
      "GET / HTTP/1.1\n",
      "Upgrade: websocket\n",
      "Host: 10.42.0.231\n",
      "Origin: http://10.42.0.231\n",
      "Sec-WebSocket-Key: PgnSi1ceFBvRzDuwSFnwQw==\n",
      "Sec-WebSocket-Version: 13\n",
      "Connection: Upgrade\n",
      "\n",
      "\n",
      "-----------------------\n",
      "--- response header ---\n"
     ]
    },
    {
     "name": "stderr",
     "output_type": "stream",
     "text": [
      "HTTP/1.1 101 Switching Protocols\n",
      "Server: arduino-WebSocketsServer\n",
      "Upgrade: websocket\n",
      "Connection: Upgrade\n",
      "Sec-WebSocket-Version: 13\n",
      "Sec-WebSocket-Accept: JdBbRrC9tQXyYe9p4BK7MGIuNZ8=\n",
      "-----------------------\n"
     ]
    }
   ],
   "source": [
    "websocket.enableTrace(True)\n",
    "ws=websocket.WebSocket()\n",
    "ws.connect(\"ws://10.42.0.231:80/\")"
   ]
  },
  {
   "cell_type": "code",
   "execution_count": 56,
   "metadata": {},
   "outputs": [
    {
     "data": {
      "text/plain": [
       "range(0, 100)"
      ]
     },
     "execution_count": 56,
     "metadata": {},
     "output_type": "execute_result"
    }
   ],
   "source": [
    "range(0, 100)"
   ]
  },
  {
   "cell_type": "code",
   "execution_count": 60,
   "metadata": {},
   "outputs": [
    {
     "data": {
      "text/plain": [
       "(2, 3)"
      ]
     },
     "execution_count": 60,
     "metadata": {},
     "output_type": "execute_result"
    }
   ],
   "source": [
    "import numpy as np\n",
    "np.array([[1,2,3],[1,2,3]]).shape"
   ]
  },
  {
   "cell_type": "code",
   "execution_count": 66,
   "metadata": {},
   "outputs": [],
   "source": [
    "import websocket\n",
    "import json\n",
    "import gym\n",
    "from gym import spaces\n",
    "import numpy as np\n",
    "import re\n",
    "import numexpr as ne\n",
    "#steps are not implemented for now\n",
    "out_dict={'leddelay':{'names':['leddelay'], 'value_range':{'min':10, 'max':10000, 'step':100}},\n",
    "          'ledcontrols':{'names':['lv1r','lv1g','lv1b','lv2r','lv2g','lv2b','lv3r','lv3g','lv3b','lv4r','lv4g','lv4b', 'lv5r','lv5g','lv5b','lv6r','lv6g',\n",
    "          'lv6b',\n",
    "          'lv7r',\n",
    "          'lv7g',\n",
    "          'lv7b',\n",
    "          'lv8r',\n",
    "          'lv8g',\n",
    "          'lv8b'], 'value_range':{'min':10, 'max':255, 'step':10}},\n",
    "          'sound_wave_frequencies':{'names':['wave_1_freq','wave_2_freq'], 'value_range':{'min':1, 'max':30000, 'step':100}},\n",
    "          'panner_phasor_frequencies':{'names':['panner_freq', 'phasor_1_freq', 'phasor_2_freq','phasor_1_min',  'phasor_2_min', 'phasor_1_dif', 'phasor_2_dif'],  'value_range':{'min':1, 'max':50, 'step':1}},\n",
    "          'panner_div':{'names':['panner_div'], 'value_range':{'min':1, 'max':5, 'step':1}},\n",
    "          'sound_wave_shapes':{'names':['wave_1_type', 'wave_2_type'], 'value_range':{'min':0, 'max':3, 'step':1}},\n",
    "          'maxibolume':{'names':['maxivolume'], 'value_range':{'min':0, 'max':100, 'step':10}}\n",
    "}\n",
    "out_order=['lv1r','lv1g','lv1b','lv2r','lv2g','lv2b','lv3r','lv3g','lv3b','lv4r','lv4g','lv4b','lv5r','lv5g','lv5b','lv6r','lv6g','lv6b',\n",
    "          'lv7r','lv7g','lv7b','lv8r','lv8g','lv8b','leddelay','wave_1_freq','wave_2_freq','panner_freq','panner_div','phasor_1_freq',\n",
    "          'phasor_1_min','phasor_1_max','phasor_2_freq','phasor_2_min','phasor_2_max','maxivolume','wave_1_type','wave_2_type']\n",
    "\n",
    "\n",
    "class SFSystemCommunicator(gym.Env):\n",
    "    def __init__(self, out_dict=out_dict, out_order=out_order,n_input_channels=8, channels_of_interest_inds=list(range(8)), n_timepoints_per_sample=100, max_sfsystem_output=1023,reward_formula_string='(fbin_0.5_4_ch0+freq_30_ch0)/fbin_12_30_ch0', \n",
    "                 fbins=[(0.001, 0.5), (0.5, 4), (4,8), (8,12), (12,30)], delay=10,\n",
    "                 use_raw_in_os_def=False, use_freq_in_os_def=False, use_fbins_in_os_def=False, device_address=\"ws://10.42.0.231:80/\"):\n",
    "        self.device_address=device_address\n",
    "        \n",
    "        self.out_dict=out_dict\n",
    "        self.out_order=out_order\n",
    "        self.max_sfsystem_output=max_sfsystem_output\n",
    "        self.n_timepoints_per_sample=n_timepoints_per_sample\n",
    "        self.n_input_channels=n_input_channels\n",
    "        self.reward_formula_string=reward_formula_string\n",
    "\n",
    "        self.delay=delay\n",
    "\n",
    "        self.record_raw=use_raw_in_os_def\n",
    "\n",
    "        self.do_fft=use_freq_in_os_def\n",
    "        self.record_fft=use_freq_in_os_def\n",
    "\n",
    "        self.do_fbins=use_fbins_in_os_def\n",
    "        self.record_fbins=use_fbins_in_os_def\n",
    "\n",
    "        self.fbins=fbins\n",
    "        self.n_fbins=len(self.fbins)\n",
    "\n",
    "        self.channels_of_interest_inds=channels_of_interest_inds\n",
    "        self.n_channels_of_interest=len(self.channels_of_interest_inds)\n",
    "    \n",
    "\n",
    "        self.set_fft_params()\n",
    "\n",
    "        \n",
    "\n",
    "        if 'raw' in self.reward_formula_string:\n",
    "            self.record_raw=True\n",
    "        if 'freq' in self.reward_formula_string:\n",
    "            self.record_fft=True\n",
    "        if 'fbin' in self.reward_formula_string:\n",
    "            self.record_fbins=True\n",
    "\n",
    "        if self.record_fbins:\n",
    "            self.do_fft=True\n",
    "            self.do_fbins=True\n",
    "        \n",
    "        self.init_action_space()\n",
    "        self.init_observation_space()\n",
    "        self.set_value_dict_for_reward_function()\n",
    "        self.connect()\n",
    "        print(self.connection_status)\n",
    "    def print_reward_formula_legend(self):\n",
    "        print('Reward formula can use the following operators: //, *, **, -, +')\n",
    "        print('It can refer to channels using \"ch\" prefix followed by an index (starting with 0) e.g. ch0')\n",
    "        print('It can refer to values of frequency bins in specific channels e.g. fbin_10_50_ch0')\n",
    "        print('The corresponding freqency bins must be present among fbins passed at the initialization step')\n",
    "        print('fbins should be passed in the form of [(b1 min, b1max),...(bn min, bn max)]')\n",
    "        print('It can refer to specific frequencies from fft e.g. freq_50_ch0')\n",
    "        print('Some examples:')\n",
    "        print('1. (freq_50_ch0+fbin_0_10_ch0)/(fbin_20_30_ch0)')\n",
    "        print('2. freq_5|ch0/freq_10|ch0')\n",
    "        print('3. fbin_0.5-5|ch0')\n",
    "    def set_value_dict_for_reward_function(self):\n",
    "        ftokens=re.split(r'[+/)(*]+',self.reward_formula_string)\n",
    "        self.rewarddict={}\n",
    "        self.tokendict={}\n",
    "        for token in ftokens:\n",
    "            if 'ch' in token:\n",
    "                self.rewarddict[token]=None\n",
    "                self.tokendict[token]={}\n",
    "                subtokens=token.split('_')\n",
    "                self.tokendict[token]['datatype']=subtokens[0]\n",
    "                for subtoken in subtokens:\n",
    "                    if 'ch' in subtoken:\n",
    "                        self.tokendict[token]['channelindex']=int(subtoken.split('h')[1])\n",
    "                    if subtoken=='freq':\n",
    "                        tfreq=float(subtokens[1])\n",
    "                        self.tokendict[token]['freqdata']=tfreq\n",
    "                        closestind=np.argmin(np.abs(self.f_plot - tfreq))\n",
    "                        self.tokendict[token]['closest_fft_ind']=closestind\n",
    "                        print(f'Token {token}:')\n",
    "                        print(f'Closest fft frequency {self.f_plot[closestind]}')\n",
    "                    if subtoken=='fbin':\n",
    "                        self.tokendict[token]['freqdata']=tuple([float(subtokens[1]),float(subtokens[2])])\n",
    "                        self.tokendict[token]['fbin_idx']=self.fbins.index(self.tokendict[token]['freqdata'])\n",
    "    def populate_rewarddict(self, observations):\n",
    "        for token, tokendata in self.tokendict.items():\n",
    "            tartype=tokendata['datatype']\n",
    "            tarchannelidx=tokendata['channelindex']\n",
    "            if tartype=='raw':\n",
    "                tarobs=observations['raw_data']\n",
    "                tarobs=tarobs[:,tarchannelidx]\n",
    "                res=np.mean(tarobs) #here we use the mean, but this may be changed\n",
    "            if tartype=='freq':\n",
    "                #tarfreq=tokendata['freqdata']\n",
    "                taridx=tokendata['closest_fft_ind']\n",
    "                tarobs=observations['fft'][tarchannelidx]\n",
    "                res=tarobs[taridx]\n",
    "            if tartype=='fbin':\n",
    "                tarobs=observations['fbins'][tarchannelidx]\n",
    "                res=tarobs[tokendata['fbin_idx']]\n",
    "            self.rewarddict[token]=res\n",
    "    def get_reward(self, observations, toreturn=False):\n",
    "        if observations == None:\n",
    "            observations=self.observation_space.sample() #if no observations are given extrernally, sample from the observation space\n",
    "        self.populate_rewarddict(observations)\n",
    "        self.reward=ne.evaluate(self.reward_formula_string, local_dict=self.rewarddict)\n",
    "        if toreturn==True:\n",
    "            return self.reward\n",
    "    def init_action_space(self):\n",
    "        self.action_space=spaces.Dict({})\n",
    "        for key, val in self.out_dict.items():\n",
    "            spacesnames=val['names']\n",
    "            spacesrange=val['value_range']\n",
    "            for spacename in spacesnames:\n",
    "                self.action_space.spaces[spacename]=spaces.Box(low=spacesrange['min'], high=spacesrange['max'], shape=(1,), dtype=int)\n",
    "    def init_observation_space(self):\n",
    "        self.observation_space=spaces.Dict({})\n",
    "        self.observation_space['raw_data']=spaces.Box(low=0, high=self.max_sfsystem_output, shape=(self.n_timepoints_per_sample, self.n_channels_of_interest), dtype=int) #n timepoints per sample rows, n input channels columns, signals should be normalized\n",
    "        if self.record_fft:\n",
    "            self.observation_space['fft']=spaces.Box(low=0.0, high=1.0, shape=(self.n_channels_of_interest, self.n_fft_values))\n",
    "        if self.record_fbins:\n",
    "            self.observation_space['fbins']=spaces.Box(low=0.0, high=1.0, shape=(self.n_channels_of_interest, self.n_fbins))\n",
    "    def set_fft_params(self):\n",
    "        self.sampling_frequency=int(1000/self.delay)\n",
    "        self.max_possible_fft_frequency=self.sampling_frequency/2\n",
    "        self.sampling_period=int(self.delay*self.n_timepoints_per_sample)\n",
    "        self.timesteps=np.linspace(0, (self.n_timepoints_per_sample-1)*self.delay, self.n_timepoints_per_sample)\n",
    "        self.fstep=self.sampling_frequency/self.n_timepoints_per_sample\n",
    "        self.f=np.linspace(0, (self.n_timepoints_per_sample-1)*self.fstep, self.n_timepoints_per_sample)\n",
    "        self.f_plot=self.f[0:int(self.n_timepoints_per_sample/2 + 1)]\n",
    "        self.n_fft_values=len(self.f_plot)\n",
    "\n",
    "    def connect(self):\n",
    "        websocket.enableTrace(True)\n",
    "        self.ws=websocket.WebSocket()\n",
    "        self.ws.connect(self.device_address)\n",
    "        self.connection_status=self.ws.recv()\n",
    "\n",
    "    def step(self, action):\n",
    "        # Implement the logic of the environment here\n",
    "        # This method should return the new observation, the reward, whether the episode is done, and any additional info\n",
    "        # ...\n",
    "\n",
    "        return #observation, reward, done, info\n",
    "\n",
    "    def reset(self):\n",
    "        # Reset the environment to its initial state\n",
    "        # This method should return the initial observation\n",
    "        # ...\n",
    "\n",
    "        return initial_observation\n",
    "\n",
    "    def render(self, mode='human'):\n",
    "        # Implement any rendering logic here\n",
    "        # This method is optional and is not required for training the agent\n",
    "        # ...\n",
    "\n",
    "        pass\n",
    "\n",
    "    def close(self):\n",
    "        # Implement any cleanup logic here\n",
    "        # This method is optional and is not required for training the agent\n",
    "        # ...\n",
    "\n",
    "        pass"
   ]
  },
  {
   "cell_type": "code",
   "execution_count": 63,
   "metadata": {},
   "outputs": [
    {
     "data": {
      "text/plain": [
       "2"
      ]
     },
     "execution_count": 63,
     "metadata": {},
     "output_type": "execute_result"
    }
   ],
   "source": [
    "a=[(0.001, 0.5), (0.5, 4), (4,8), (8,12), (12,30)]\n",
    "a.index((4,8))"
   ]
  },
  {
   "cell_type": "code",
   "execution_count": 52,
   "metadata": {},
   "outputs": [
    {
     "data": {
      "text/plain": [
       "{'fbin_0.5_5_ch0': {'datatype': 'fbin',\n",
       "  'freqdata': (0.5, 5.0),\n",
       "  'channelindex': 0},\n",
       " 'freq_30_ch0': {'datatype': 'freq', 'freqdata': 30.0, 'channelindex': 0},\n",
       " 'fbin_10_20_ch0': {'datatype': 'fbin',\n",
       "  'freqdata': (10.0, 20.0),\n",
       "  'channelindex': 0}}"
      ]
     },
     "execution_count": 52,
     "metadata": {},
     "output_type": "execute_result"
    }
   ],
   "source": [
    "communicator.tokendict"
   ]
  },
  {
   "cell_type": "code",
   "execution_count": 53,
   "metadata": {},
   "outputs": [],
   "source": [
    "obssample=communicator.observation_space.sample()"
   ]
  },
  {
   "cell_type": "code",
   "execution_count": 61,
   "metadata": {},
   "outputs": [
    {
     "data": {
      "text/plain": [
       "array([0.63692856, 0.21385315, 0.05583614, 0.5928448 , 0.8968203 ,\n",
       "       0.42797175, 0.9112172 , 0.5297968 , 0.60610986, 0.3625291 ,\n",
       "       0.21686694, 0.9411039 , 0.48078015, 0.6994949 , 0.303112  ,\n",
       "       0.58356756, 0.46786493, 0.26944366, 0.96451336, 0.59496427,\n",
       "       0.8136624 , 0.6874312 , 0.40602434, 0.37178832, 0.22795615,\n",
       "       0.49608156, 0.8852    , 0.4969973 , 0.018068  , 0.54200196,\n",
       "       0.23654619, 0.58584833, 0.05758528, 0.3190965 , 0.57064843,\n",
       "       0.2530713 , 0.35323054, 0.75782335, 0.17333303, 0.66723114,\n",
       "       0.35168827, 0.50474554, 0.6285765 , 0.2205955 , 0.3750408 ,\n",
       "       0.02882524, 0.8961511 , 0.30628237, 0.6505876 , 0.17322965,\n",
       "       0.39767745, 0.24528617, 0.6421089 , 0.8877395 , 0.70390946,\n",
       "       0.45594156, 0.15679121, 0.24932882, 0.7083924 , 0.5048984 ,\n",
       "       0.731948  , 0.7905782 , 0.82788163, 0.5865187 , 0.94734883,\n",
       "       0.17071305, 0.11708491, 0.68457836, 0.8089453 , 0.62713516,\n",
       "       0.78488594, 0.4991407 , 0.3602659 , 0.9151197 , 0.77515316,\n",
       "       0.69552934, 0.08452992, 0.24205782, 0.05632574, 0.638462  ,\n",
       "       0.6792404 , 0.33830762, 0.16747832, 0.22349674, 0.68309647,\n",
       "       0.19143793, 0.8149356 , 0.09306789, 0.11973034, 0.461698  ,\n",
       "       0.7489189 , 0.45942882, 0.29548764, 0.5111572 , 0.67268497,\n",
       "       0.2753893 , 0.05226021, 0.93466717, 0.94976115, 0.91562814],\n",
       "      dtype=float32)"
      ]
     },
     "execution_count": 61,
     "metadata": {},
     "output_type": "execute_result"
    }
   ],
   "source": [
    "obssample['fft'][0]"
   ]
  },
  {
   "cell_type": "code",
   "execution_count": 32,
   "metadata": {},
   "outputs": [
    {
     "data": {
      "text/plain": [
       "'(fbin_0.5_5_ch0+freq_30_ch0)/fbin_10_20_ch0'"
      ]
     },
     "execution_count": 32,
     "metadata": {},
     "output_type": "execute_result"
    }
   ],
   "source": [
    "communicator.reward_formula_string"
   ]
  },
  {
   "cell_type": "code",
   "execution_count": 49,
   "metadata": {},
   "outputs": [
    {
     "name": "stderr",
     "output_type": "stream",
     "text": [
      "--- request header ---\n",
      "GET / HTTP/1.1\n",
      "Upgrade: websocket\n",
      "Host: 10.42.0.231\n",
      "Origin: http://10.42.0.231\n",
      "Sec-WebSocket-Key: cQ3qI/WbOgEG5Z7Q55DImw==\n",
      "Sec-WebSocket-Version: 13\n",
      "Connection: Upgrade\n",
      "\n",
      "\n",
      "-----------------------\n",
      "--- response header ---\n",
      "HTTP/1.1 101 Switching Protocols\n",
      "Server: arduino-WebSocketsServer\n",
      "Upgrade: websocket\n",
      "Connection: Upgrade\n",
      "Sec-WebSocket-Version: 13\n",
      "Sec-WebSocket-Accept: vDsTFNg/xWNXzS4oGrd877cfa8s=\n",
      "-----------------------\n",
      "++Rcv raw: b'\\x89\\x00'\n",
      "++Rcv decoded: fin=1 opcode=9 data=b''\n",
      "++Sent raw: b'\\x8a\\x80\\x8b)\\xd5\\xd1'\n",
      "++Sent decoded: fin=1 opcode=10 data=b''\n",
      "++Rcv raw: b'\\x81\\tConnected'\n",
      "++Rcv decoded: fin=1 opcode=1 data=b'Connected'\n"
     ]
    },
    {
     "name": "stdout",
     "output_type": "stream",
     "text": [
      "Connected\n"
     ]
    }
   ],
   "source": [
    "communicator=SFSystemCommunicator()"
   ]
  },
  {
   "cell_type": "code",
   "execution_count": 50,
   "metadata": {},
   "outputs": [
    {
     "data": {
      "text/plain": [
       "{'fbin_0.5_5_ch0': {'datatype': 'fbin',\n",
       "  'freqdata': (0.5, 5.0),\n",
       "  'channelindex': 0},\n",
       " 'freq_30_ch0': {'datatype': 'freq', 'freqdata': 30.0, 'channelindex': 0},\n",
       " 'fbin_10_20_ch0': {'datatype': 'fbin',\n",
       "  'freqdata': (10.0, 20.0),\n",
       "  'channelindex': 0}}"
      ]
     },
     "execution_count": 50,
     "metadata": {},
     "output_type": "execute_result"
    }
   ],
   "source": [
    "communicator.tokendict"
   ]
  },
  {
   "cell_type": "code",
   "execution_count": 51,
   "metadata": {},
   "outputs": [
    {
     "data": {
      "text/plain": [
       "{'fbin_0.5_5_ch0': None, 'freq_30_ch0': None, 'fbin_10_20_ch0': None}"
      ]
     },
     "execution_count": 51,
     "metadata": {},
     "output_type": "execute_result"
    }
   ],
   "source": [
    "communicator.rewarddict"
   ]
  },
  {
   "cell_type": "code",
   "execution_count": 12,
   "metadata": {},
   "outputs": [
    {
     "data": {
      "text/plain": [
       "array(0.75)"
      ]
     },
     "execution_count": 12,
     "metadata": {},
     "output_type": "execute_result"
    }
   ],
   "source": [
    "s = \"(freq_50+fbin_0_10)/(fbin_20_30)\"\n",
    "\n",
    "# Define the variables\n",
    "variables = {\n",
    "    'freq_50': 10,\n",
    "    'fbin_0_10': 20,\n",
    "    'fbin_20_30':40\n",
    "}\n",
    "\n",
    "# Evaluate the string as a mathematical expression\n",
    "result = ne.evaluate(s, local_dict=variables)\n",
    "result"
   ]
  },
  {
   "cell_type": "code",
   "execution_count": 5,
   "metadata": {},
   "outputs": [
    {
     "data": {
      "text/plain": [
       "OrderedDict([('leddelay', array([2577])),\n",
       "             ('lv1r', array([251])),\n",
       "             ('lv1g', array([91])),\n",
       "             ('lv1b', array([237])),\n",
       "             ('lv2r', array([103])),\n",
       "             ('lv2g', array([178])),\n",
       "             ('lv2b', array([80])),\n",
       "             ('lv3r', array([220])),\n",
       "             ('lv3g', array([71])),\n",
       "             ('lv3b', array([167])),\n",
       "             ('lv4r', array([192])),\n",
       "             ('lv4g', array([133])),\n",
       "             ('lv4b', array([10])),\n",
       "             ('lv5r', array([164])),\n",
       "             ('lv5g', array([127])),\n",
       "             ('lv5b', array([83])),\n",
       "             ('lv6r', array([136])),\n",
       "             ('lv6g', array([143])),\n",
       "             ('lv6b', array([20])),\n",
       "             ('lv7r', array([98])),\n",
       "             ('lv7g', array([81])),\n",
       "             ('lv7b', array([109])),\n",
       "             ('lv8r', array([163])),\n",
       "             ('lv8g', array([235])),\n",
       "             ('lv8b', array([76])),\n",
       "             ('wave_1_freq', array([22009])),\n",
       "             ('wave_2_freq', array([12657])),\n",
       "             ('panner_freq', array([49])),\n",
       "             ('phasor_1_freq', array([45])),\n",
       "             ('phasor_2_freq', array([23])),\n",
       "             ('phasor_1_min', array([48])),\n",
       "             ('phasor_2_min', array([48])),\n",
       "             ('phasor_1_dif', array([42])),\n",
       "             ('phasor_2_dif', array([1])),\n",
       "             ('panner_div', array([2])),\n",
       "             ('wave_1_type', array([3])),\n",
       "             ('wave_2_type', array([1])),\n",
       "             ('maxivolume', array([19]))])"
      ]
     },
     "execution_count": 5,
     "metadata": {},
     "output_type": "execute_result"
    }
   ],
   "source": [
    "communicator.action_space.sample()"
   ]
  },
  {
   "cell_type": "code",
   "execution_count": 3,
   "metadata": {},
   "outputs": [
    {
     "name": "stdout",
     "output_type": "stream",
     "text": [
      "Reward formula can use the following operators: //, *, **, -, +\n",
      "It can refer to channels using \"ch\" prefix followed by an index (starting with 0) e.g. ch0\n",
      "It can refer to values of frequency bins in specific channels e.g. fbin_10-50|ch0\n",
      "The corresponding freqency bins must be present among fbins passed at the initialization step\n",
      "fbins should be passed in the form of [(b1 min, b1max),...(bn min, bn max)]\n",
      "It can refer to specific frequencies from fft e.g. freq_50|ch0\n",
      "Some examples:\n",
      "1. (freq_50|ch0+fbin_0-10|ch0)/(fbin_20-30|ch0)\n",
      "2. freq_5|ch0/freq_10|ch0\n",
      "3. fbin_0.5-5|ch0\n"
     ]
    }
   ],
   "source": [
    "communicator.print_reward_formula_legend()"
   ]
  },
  {
   "cell_type": "code",
   "execution_count": 4,
   "metadata": {},
   "outputs": [
    {
     "data": {
      "text/plain": [
       "'Connected'"
      ]
     },
     "execution_count": 4,
     "metadata": {},
     "output_type": "execute_result"
    }
   ],
   "source": [
    "communicator.connection_status"
   ]
  },
  {
   "cell_type": "code",
   "execution_count": null,
   "metadata": {},
   "outputs": [],
   "source": [
    "\n",
    "\n",
    "\n",
    "leddelay=100\n",
    "ledvalues=[30, 0, 0, 0, 255, 0, 0, 0, 255, 255, 255, 255, 0, 255, 255, 255, 0, 255, 255, 255, 0, 255, 0, 0]\n",
    "sdict={'wave_1_freq':800, 'wave_2_freq':200, 'panner_freq':30, 'panner_div':2, 'phasor_1_freq':100, 'phasor_1_min':30, 'phasor_1_max':30, \n",
    "       'phasor_2_freq':30, 'phasor_2_min':30, 'phasor_2_max':30,\n",
    "       'maxivolume':5,'wave_1_type':3,'wave_2_type':0}\n"
   ]
  },
  {
   "cell_type": "code",
   "execution_count": 5,
   "metadata": {},
   "outputs": [
    {
     "name": "stderr",
     "output_type": "stream",
     "text": [
      "++Rcv raw: b'\\x89\\x00'\n",
      "++Rcv decoded: fin=1 opcode=9 data=b''\n",
      "++Sent raw: b'\\x8a\\x80\\x1bE\\xf6f'\n",
      "++Sent decoded: fin=1 opcode=10 data=b''\n",
      "++Rcv raw: b'\\x81\\tConnected'\n",
      "++Rcv decoded: fin=1 opcode=1 data=b'Connected'\n"
     ]
    },
    {
     "data": {
      "text/plain": [
       "'Connected'"
      ]
     },
     "execution_count": 5,
     "metadata": {},
     "output_type": "execute_result"
    }
   ],
   "source": [
    "ws.recv()"
   ]
  },
  {
   "cell_type": "code",
   "execution_count": 48,
   "metadata": {},
   "outputs": [
    {
     "name": "stderr",
     "output_type": "stream",
     "text": [
      "++Sent raw: b'\\x81\\x9b]6\\x89\\xe2/S\\xea\\x874@\\xec\\xbd2C\\xfd\\x92(B\\xd6\\x812X\\xfd\\x902Z\\xd6\\x86<B\\xe8'\n",
      "++Sent decoded: fin=1 opcode=1 data=b'receive_output_control_data'\n"
     ]
    },
    {
     "data": {
      "text/plain": [
       "33"
      ]
     },
     "execution_count": 48,
     "metadata": {},
     "output_type": "execute_result"
    }
   ],
   "source": [
    "ws.send(\"receive_output_control_data\")"
   ]
  },
  {
   "cell_type": "code",
   "execution_count": 49,
   "metadata": {},
   "outputs": [],
   "source": [
    "# 0. noise\n",
    "# 1. sinewave\n",
    "# 2. square\n",
    "# 3. triangle\n",
    "\n",
    "\n",
    "leddelay=100\n",
    "ledvalues=[30, 0, 0, 0, 255, 0, 0, 0, 255, 255, 255, 255, 0, 255, 255, 255, 0, 255, 255, 255, 0, 255, 0, 0]\n",
    "sdict={'wave_1_freq':800, 'wave_2_freq':200, 'panner_freq':30, 'panner_div':2, 'phasor_1_freq':100, 'phasor_1_min':30, 'phasor_1_max':30, \n",
    "       'phasor_2_freq':30, 'phasor_2_min':30, 'phasor_2_max':30,\n",
    "       'maxivolume':5,'wave_1_type':3,'wave_2_type':0}"
   ]
  },
  {
   "cell_type": "code",
   "execution_count": 50,
   "metadata": {},
   "outputs": [],
   "source": [
    "message=','.join(list(map(str,ledvalues)))+f',{leddelay}'+f\",{sdict['wave_1_freq']},{sdict['wave_2_freq']},{sdict['panner_freq']},{sdict['panner_div']},{sdict['phasor_1_freq']},{sdict['phasor_1_min']},{sdict['phasor_1_max']},{sdict['phasor_2_freq']},{sdict['phasor_2_min']},{sdict['phasor_2_max']},{sdict['maxivolume']},{sdict['wave_1_type']},{sdict['wave_2_type']}\""
   ]
  },
  {
   "cell_type": "code",
   "execution_count": 51,
   "metadata": {},
   "outputs": [
    {
     "data": {
      "text/plain": [
       "'30,0,0,0,255,0,0,0,255,255,255,255,0,255,255,255,0,255,255,255,0,255,0,0,100,800,200,30,2,100,30,30,30,30,30,5,3,0'"
      ]
     },
     "execution_count": 51,
     "metadata": {},
     "output_type": "execute_result"
    }
   ],
   "source": [
    "message"
   ]
  },
  {
   "cell_type": "code",
   "execution_count": 52,
   "metadata": {},
   "outputs": [
    {
     "data": {
      "text/plain": [
       "38"
      ]
     },
     "execution_count": 52,
     "metadata": {},
     "output_type": "execute_result"
    }
   ],
   "source": [
    "len(message.split(','))"
   ]
  },
  {
   "cell_type": "code",
   "execution_count": 53,
   "metadata": {},
   "outputs": [
    {
     "name": "stderr",
     "output_type": "stream",
     "text": [
      "++Sent raw: b'\\x81\\xf2~r\\xdcqMB\\xf0ARB\\xf0AR@\\xe9DRB\\xf0ARB\\xf0CKG\\xf0CKG\\xf0CKG\\xf0CKG\\xf0AR@\\xe9DR@\\xe9DR@\\xe9DRB\\xf0CKG\\xf0CKG\\xf0CKG\\xf0AR@\\xe9DRB\\xf0ARC\\xecARJ\\xecAR@\\xecARA\\xec]L^\\xedAN^\\xefARA\\xec]MB\\xf0BN^\\xefARG\\xf0BRB'\n",
      "++Sent decoded: fin=1 opcode=1 data=b'30,0,0,0,255,0,0,0,255,255,255,255,0,255,255,255,0,255,255,255,0,255,0,0,100,800,200,30,2,100,30,30,30,30,30,5,3,0'\n",
      "++Sent raw: b\"\\x81\\xf2'1U\\x84\\x14\\x01y\\xb4\\x0b\\x01y\\xb4\\x0b\\x03`\\xb1\\x0b\\x01y\\xb4\\x0b\\x01y\\xb6\\x12\\x04y\\xb6\\x12\\x04y\\xb6\\x12\\x04y\\xb6\\x12\\x04y\\xb4\\x0b\\x03`\\xb1\\x0b\\x03`\\xb1\\x0b\\x03`\\xb1\\x0b\\x01y\\xb6\\x12\\x04y\\xb6\\x12\\x04y\\xb6\\x12\\x04y\\xb4\\x0b\\x03`\\xb1\\x0b\\x01y\\xb4\\x0b\\x00e\\xb4\\x0b\\te\\xb4\\x0b\\x03e\\xb4\\x0b\\x02e\\xa8\\x15\\x1dd\\xb4\\x17\\x1df\\xb4\\x0b\\x02e\\xa8\\x14\\x01y\\xb7\\x17\\x1df\\xb4\\x0b\\x04y\\xb7\\x0b\\x01\"\n",
      "++Sent decoded: fin=1 opcode=1 data=b'30,0,0,0,255,0,0,0,255,255,255,255,0,255,255,255,0,255,255,255,0,255,0,0,100,800,200,30,2,100,30,30,30,30,30,5,3,0'\n"
     ]
    }
   ],
   "source": [
    "nsecs=60\n",
    "nmessages=int(nsecs*(1000/leddelay))\n",
    "for m in range(2):\n",
    "    ws.send(message)"
   ]
  },
  {
   "cell_type": "code",
   "execution_count": 54,
   "metadata": {},
   "outputs": [
    {
     "name": "stderr",
     "output_type": "stream",
     "text": [
      "++Sent raw: b'\\x81\\x8e\\x8c\\xd2\\x1c\\xfd\\xff\\xa6s\\x8d\\xd3\\xbey\\x99\\xd3\\xb1e\\x9e\\xe0\\xb7'\n",
      "++Sent decoded: fin=1 opcode=1 data=b'stop_led_cycle'\n"
     ]
    },
    {
     "data": {
      "text/plain": [
       "20"
      ]
     },
     "execution_count": 54,
     "metadata": {},
     "output_type": "execute_result"
    }
   ],
   "source": [
    "ws.send('stop_led_cycle')"
   ]
  },
  {
   "cell_type": "code",
   "execution_count": 263,
   "metadata": {},
   "outputs": [
    {
     "data": {
      "text/plain": [
       "25"
      ]
     },
     "execution_count": 263,
     "metadata": {},
     "output_type": "execute_result"
    }
   ],
   "source": [
    "len(\"%d,%d,%d,%d,%d,%d,%d,%d,%d,%d,%d,%d,%d,%d,%d,%d,%d,%d,%d,%d,%d,%d,%d,%d,%d\".split(','))"
   ]
  },
  {
   "cell_type": "code",
   "execution_count": null,
   "metadata": {},
   "outputs": [],
   "source": []
  }
 ],
 "metadata": {
  "kernelspec": {
   "display_name": "Python 3",
   "language": "python",
   "name": "python3"
  },
  "language_info": {
   "codemirror_mode": {
    "name": "ipython",
    "version": 3
   },
   "file_extension": ".py",
   "mimetype": "text/x-python",
   "name": "python",
   "nbconvert_exporter": "python",
   "pygments_lexer": "ipython3",
   "version": "3.10.12"
  }
 },
 "nbformat": 4,
 "nbformat_minor": 2
}
