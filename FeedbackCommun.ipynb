{
 "cells": [
  {
   "cell_type": "code",
   "execution_count": 1,
   "metadata": {},
   "outputs": [],
   "source": [
    "import websocket\n",
    "import json"
   ]
  },
  {
   "cell_type": "code",
   "execution_count": 2,
   "metadata": {},
   "outputs": [
    {
     "name": "stderr",
     "output_type": "stream",
     "text": [
      "--- request header ---\n",
      "GET / HTTP/1.1\n",
      "Upgrade: websocket\n",
      "Host: 10.42.0.231\n",
      "Origin: http://10.42.0.231\n",
      "Sec-WebSocket-Key: eadwy+H/NYj8eE2pvY9c9g==\n",
      "Sec-WebSocket-Version: 13\n",
      "Connection: Upgrade\n",
      "\n",
      "\n",
      "-----------------------\n",
      "--- response header ---\n",
      "HTTP/1.1 101 Switching Protocols\n",
      "Server: arduino-WebSocketsServer\n",
      "Upgrade: websocket\n",
      "Connection: Upgrade\n",
      "Sec-WebSocket-Version: 13\n",
      "Sec-WebSocket-Accept: cYNFsEDFf6uc4jbT40ivm04ZUeU=\n",
      "-----------------------\n"
     ]
    }
   ],
   "source": [
    "websocket.enableTrace(True)\n",
    "ws=websocket.WebSocket()\n",
    "ws.connect(\"ws://10.42.0.231:80/\")"
   ]
  },
  {
   "cell_type": "code",
   "execution_count": 3,
   "metadata": {},
   "outputs": [
    {
     "name": "stderr",
     "output_type": "stream",
     "text": [
      "++Rcv raw: b'\\x89\\x00'\n",
      "++Rcv decoded: fin=1 opcode=9 data=b''\n",
      "++Sent raw: b'\\x8a\\x80\\xe0\\xea\\x91\\x8c'\n",
      "++Sent decoded: fin=1 opcode=10 data=b''\n",
      "++Rcv raw: b'\\x81\\tConnected'\n",
      "++Rcv decoded: fin=1 opcode=1 data=b'Connected'\n"
     ]
    },
    {
     "data": {
      "text/plain": [
       "'Connected'"
      ]
     },
     "execution_count": 3,
     "metadata": {},
     "output_type": "execute_result"
    }
   ],
   "source": [
    "ws.recv()"
   ]
  },
  {
   "cell_type": "code",
   "execution_count": 4,
   "metadata": {},
   "outputs": [
    {
     "name": "stderr",
     "output_type": "stream",
     "text": [
      "++Sent raw: b'\\x81\\x9b\\x10\\xcd\\x8b\\xf1b\\xa8\\xe8\\x94y\\xbb\\xee\\xae\\x7f\\xb8\\xff\\x81e\\xb9\\xd4\\x92\\x7f\\xa3\\xff\\x83\\x7f\\xa1\\xd4\\x95q\\xb9\\xea'\n",
      "++Sent decoded: fin=1 opcode=1 data=b'receive_output_control_data'\n"
     ]
    },
    {
     "data": {
      "text/plain": [
       "33"
      ]
     },
     "execution_count": 4,
     "metadata": {},
     "output_type": "execute_result"
    }
   ],
   "source": [
    "ws.send(\"receive_output_control_data\")"
   ]
  },
  {
   "cell_type": "code",
   "execution_count": 55,
   "metadata": {},
   "outputs": [],
   "source": [
    "# 0. noise\n",
    "# 1. sinewave\n",
    "# 2. square\n",
    "# 3. triangle\n",
    "\n",
    "\n",
    "leddelay=100\n",
    "ledvalues=[30, 0, 0, 0, 255, 0, 0, 0, 255, 255, 255, 255, 0, 255, 255, 255, 0, 255, 255, 255, 0, 255, 0, 0]\n",
    "sdict={'wave_1_freq':800, 'wave_2_freq':200, 'panner_freq':2, 'panner_div':2, 'phasor_1_freq':100, 'phasor_1_min':30, 'phasor_1_max':30, \n",
    "       'phasor_2_freq':30, 'phasor_2_min':30, 'phasor_2_max':30,\n",
    "       'maxivolume':1,'wave_1_type':1,'wave_2_type':1}"
   ]
  },
  {
   "cell_type": "code",
   "execution_count": 56,
   "metadata": {},
   "outputs": [],
   "source": [
    "message=','.join(list(map(str,ledvalues)))+f',{leddelay}'+f\",{sdict['wave_1_freq']},{sdict['wave_2_freq']},{sdict['panner_freq']},{sdict['panner_div']},{sdict['phasor_1_freq']},{sdict['phasor_1_min']},{sdict['phasor_1_max']},{sdict['phasor_2_freq']},{sdict['phasor_2_min']},{sdict['phasor_2_max']},{sdict['maxivolume']},{sdict['wave_1_type']},{sdict['wave_2_type']}\""
   ]
  },
  {
   "cell_type": "code",
   "execution_count": 57,
   "metadata": {},
   "outputs": [
    {
     "data": {
      "text/plain": [
       "'30,0,0,0,255,0,0,0,255,255,255,255,0,255,255,255,0,255,255,255,0,255,0,0,100,800,200,2,2,100,30,30,30,30,30,1,1,1'"
      ]
     },
     "execution_count": 57,
     "metadata": {},
     "output_type": "execute_result"
    }
   ],
   "source": [
    "message"
   ]
  },
  {
   "cell_type": "code",
   "execution_count": 58,
   "metadata": {},
   "outputs": [
    {
     "data": {
      "text/plain": [
       "38"
      ]
     },
     "execution_count": 58,
     "metadata": {},
     "output_type": "execute_result"
    }
   ],
   "source": [
    "len(message.split(','))"
   ]
  },
  {
   "cell_type": "code",
   "execution_count": 59,
   "metadata": {},
   "outputs": [
    {
     "name": "stderr",
     "output_type": "stream",
     "text": [
      "++Sent raw: b'\\x81\\xf1\\x92\\x8f\\x02\\xe4\\xa1\\xbf.\\xd4\\xbe\\xbf.\\xd4\\xbe\\xbd7\\xd1\\xbe\\xbf.\\xd4\\xbe\\xbf.\\xd6\\xa7\\xba.\\xd6\\xa7\\xba.\\xd6\\xa7\\xba.\\xd6\\xa7\\xba.\\xd4\\xbe\\xbd7\\xd1\\xbe\\xbd7\\xd1\\xbe\\xbd7\\xd1\\xbe\\xbf.\\xd6\\xa7\\xba.\\xd6\\xa7\\xba.\\xd6\\xa7\\xba.\\xd4\\xbe\\xbd7\\xd1\\xbe\\xbf.\\xd4\\xbe\\xbe2\\xd4\\xbe\\xb72\\xd4\\xbe\\xbd2\\xd4\\xbe\\xbd.\\xd6\\xbe\\xbe2\\xd4\\xbe\\xbc2\\xc8\\xa1\\xbf.\\xd7\\xa2\\xa31\\xd4\\xbe\\xbc2\\xc8\\xa3\\xa33\\xc8\\xa3'\n",
      "++Sent decoded: fin=1 opcode=1 data=b'30,0,0,0,255,0,0,0,255,255,255,255,0,255,255,255,0,255,255,255,0,255,0,0,100,800,200,2,2,100,30,30,30,30,30,1,1,1'\n",
      "++Sent raw: b'\\x81\\xf1\\xc11\\xd0\\xcb\\xf2\\x01\\xfc\\xfb\\xed\\x01\\xfc\\xfb\\xed\\x03\\xe5\\xfe\\xed\\x01\\xfc\\xfb\\xed\\x01\\xfc\\xf9\\xf4\\x04\\xfc\\xf9\\xf4\\x04\\xfc\\xf9\\xf4\\x04\\xfc\\xf9\\xf4\\x04\\xfc\\xfb\\xed\\x03\\xe5\\xfe\\xed\\x03\\xe5\\xfe\\xed\\x03\\xe5\\xfe\\xed\\x01\\xfc\\xf9\\xf4\\x04\\xfc\\xf9\\xf4\\x04\\xfc\\xf9\\xf4\\x04\\xfc\\xfb\\xed\\x03\\xe5\\xfe\\xed\\x01\\xfc\\xfb\\xed\\x00\\xe0\\xfb\\xed\\t\\xe0\\xfb\\xed\\x03\\xe0\\xfb\\xed\\x03\\xfc\\xf9\\xed\\x00\\xe0\\xfb\\xed\\x02\\xe0\\xe7\\xf2\\x01\\xfc\\xf8\\xf1\\x1d\\xe3\\xfb\\xed\\x02\\xe0\\xe7\\xf0\\x1d\\xe1\\xe7\\xf0'\n",
      "++Sent decoded: fin=1 opcode=1 data=b'30,0,0,0,255,0,0,0,255,255,255,255,0,255,255,255,0,255,255,255,0,255,0,0,100,800,200,2,2,100,30,30,30,30,30,1,1,1'\n"
     ]
    }
   ],
   "source": [
    "nsecs=60\n",
    "nmessages=int(nsecs*(1000/leddelay))\n",
    "for m in range(2):\n",
    "    ws.send(message)"
   ]
  },
  {
   "cell_type": "code",
   "execution_count": 60,
   "metadata": {},
   "outputs": [
    {
     "name": "stderr",
     "output_type": "stream",
     "text": [
      "++Sent raw: b'\\x81\\x8e\\xeb\\r\\xef,\\x98y\\x80\\\\\\xb4a\\x8aH\\xb4n\\x96O\\x87h'\n",
      "++Sent decoded: fin=1 opcode=1 data=b'stop_led_cycle'\n"
     ]
    },
    {
     "data": {
      "text/plain": [
       "20"
      ]
     },
     "execution_count": 60,
     "metadata": {},
     "output_type": "execute_result"
    }
   ],
   "source": [
    "ws.send('stop_led_cycle')"
   ]
  },
  {
   "cell_type": "code",
   "execution_count": 263,
   "metadata": {},
   "outputs": [
    {
     "data": {
      "text/plain": [
       "25"
      ]
     },
     "execution_count": 263,
     "metadata": {},
     "output_type": "execute_result"
    }
   ],
   "source": [
    "len(\"%d,%d,%d,%d,%d,%d,%d,%d,%d,%d,%d,%d,%d,%d,%d,%d,%d,%d,%d,%d,%d,%d,%d,%d,%d\".split(','))"
   ]
  },
  {
   "cell_type": "code",
   "execution_count": null,
   "metadata": {},
   "outputs": [],
   "source": []
  }
 ],
 "metadata": {
  "kernelspec": {
   "display_name": "Python 3",
   "language": "python",
   "name": "python3"
  },
  "language_info": {
   "codemirror_mode": {
    "name": "ipython",
    "version": 3
   },
   "file_extension": ".py",
   "mimetype": "text/x-python",
   "name": "python",
   "nbconvert_exporter": "python",
   "pygments_lexer": "ipython3",
   "version": "3.10.12"
  }
 },
 "nbformat": 4,
 "nbformat_minor": 2
}
