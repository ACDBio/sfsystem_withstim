{
 "cells": [
  {
   "cell_type": "code",
   "execution_count": 12,
   "metadata": {},
   "outputs": [],
   "source": [
    "import websocket\n",
    "import json\n",
    "import gym\n",
    "from gym import spaces\n",
    "import numpy as np\n",
    "import numexpr as ne"
   ]
  },
  {
   "cell_type": "code",
   "execution_count": 13,
   "metadata": {},
   "outputs": [
    {
     "name": "stderr",
     "output_type": "stream",
     "text": [
      "--- request header ---\n",
      "GET / HTTP/1.1\n",
      "Upgrade: websocket\n",
      "Host: 10.42.0.231\n",
      "Origin: http://10.42.0.231\n",
      "Sec-WebSocket-Key: S7Opfo7QrO2vKJ8ueVMADA==\n",
      "Sec-WebSocket-Version: 13\n",
      "Connection: Upgrade\n",
      "\n",
      "\n",
      "-----------------------\n",
      "--- response header ---\n",
      "HTTP/1.1 101 Switching Protocols\n",
      "Server: arduino-WebSocketsServer\n",
      "Upgrade: websocket\n",
      "Connection: Upgrade\n",
      "Sec-WebSocket-Version: 13\n",
      "Sec-WebSocket-Accept: MMoTmSOWyrsj+xOwsMVnwIWn3oU=\n",
      "-----------------------\n"
     ]
    }
   ],
   "source": [
    "websocket.enableTrace(True)\n",
    "ws=websocket.WebSocket()\n",
    "ws.connect(\"ws://10.42.0.231:80/\")"
   ]
  },
  {
   "cell_type": "code",
   "execution_count": 56,
   "metadata": {},
   "outputs": [
    {
     "data": {
      "text/plain": [
       "range(0, 100)"
      ]
     },
     "execution_count": 56,
     "metadata": {},
     "output_type": "execute_result"
    }
   ],
   "source": [
    "range(0, 100)"
   ]
  },
  {
   "cell_type": "code",
   "execution_count": 60,
   "metadata": {},
   "outputs": [
    {
     "data": {
      "text/plain": [
       "(2, 3)"
      ]
     },
     "execution_count": 60,
     "metadata": {},
     "output_type": "execute_result"
    }
   ],
   "source": [
    "import numpy as np\n",
    "np.array([[1,2,3],[1,2,3]]).shape"
   ]
  },
  {
   "cell_type": "code",
   "execution_count": 8,
   "metadata": {},
   "outputs": [],
   "source": [
    "import websocket\n",
    "import json\n",
    "import gym\n",
    "from gym import spaces\n",
    "import numpy as np\n",
    "import re\n",
    "import numexpr as ne\n",
    "import time\n",
    "from collections import OrderedDict\n",
    "import plotly.graph_objects as go\n",
    "import plotly.subplots as sp\n",
    "import plotly\n",
    "import json\n",
    "import os\n",
    "plotly.io.json.config.default_engine = 'orjson'\n",
    "websocket.enableTrace(False)\n",
    "\n",
    "#steps are not implemented for now\n",
    "out_dict={'leddelay':{'names':['leddelay'], 'value_range':{'min':1, 'max':10001, 'step':100}, 'init_val':{'leddelay':10}},\n",
    "          'ledcontrols':{'names':['lv1r','lv1g','lv1b','lv2r','lv2g','lv2b','lv3r','lv3g','lv3b','lv4r','lv4g','lv4b', 'lv5r','lv5g','lv5b','lv6r','lv6g',\n",
    "          'lv6b',\n",
    "          'lv7r',\n",
    "          'lv7g',\n",
    "          'lv7b',\n",
    "          'lv8r',\n",
    "          'lv8g',\n",
    "          'lv8b'], 'value_range':{'min':10, 'max':255, 'step':10}, 'init_val':{'lv1r':255, 'lv1g':0, 'lv1b':0, \n",
    "                                                                               'lv2r':0, 'lv2b':255, 'lv2b':0, \n",
    "                                                                               'lv3r':0, 'lv3g':0, 'lv3b':255, \n",
    "                                                                               'lv4r':255, 'lv4g':255, 'lv4b':255, \n",
    "                                                                               'lv5r':0,   'lv5g':255, 'lv5b':255, \n",
    "                                                                               'lv6r':255, 'lv6g':0,   'lv6b':255, \n",
    "                                                                               'lv7r':255, 'lv7b':255, 'lv7b':0, \n",
    "                                                                               'lv8r':255, 'lv8g':0, 'lv8b':0}},\n",
    "          'sound_wave_frequencies':{'names':['wave_1_freq','wave_2_freq'], 'value_range':{'min':1, 'max':30000, 'step':100}, 'init_val':{'wave_1_freq':440, \n",
    "                                                                                                                                         'wave_2_freq':440}},\n",
    "          'panner_phasor_frequencies':{'names':['panner_freq', 'phasor_1_freq', 'phasor_2_freq','phasor_1_min',  'phasor_2_min', 'phasor_1_dif', 'phasor_2_dif'],  'value_range':{'min':1, 'max':50, 'step':1},\n",
    "                                       'init_val':{'panner_freq':1,\n",
    "                                                    'phasor_1_freq':10,\n",
    "                                                    'phasor_2_freq':10,\n",
    "                                                    'phasor_1_min':1,\n",
    "                                                    'phasor_2_min':1,\n",
    "                                                    'phasor_1_dif':30,\n",
    "                                                    'phasor_2_dif':30}},\n",
    "          'panner_div':{'names':['panner_div'], 'value_range':{'min':1, 'max':5, 'step':1}, 'init_val':{'panner_div':2}},\n",
    "          'sound_wave_shapes':{'names':['wave_1_type', 'wave_2_type'], 'value_range':{'min':0, 'max':3, 'step':1}, \n",
    "                               'init_val':{'wave_1_type':0,\n",
    "                                           'wave_2_type':0}},\n",
    "          'maxibolume':{'names':['maxivolume'], 'value_range':{'min':0, 'max':50, 'step':10}, \n",
    "                        'init_val':{'maxivolume':10}}\n",
    "}\n",
    "out_order=['lv1r','lv1g','lv1b','lv2r','lv2g','lv2b','lv3r','lv3g','lv3b','lv4r','lv4g','lv4b','lv5r','lv5g','lv5b','lv6r','lv6g','lv6b',\n",
    "          'lv7r','lv7g','lv7b','lv8r','lv8g','lv8b','leddelay','wave_1_freq','wave_2_freq','panner_freq','panner_div','phasor_1_freq',\n",
    "          'phasor_1_min','phasor_1_dif','phasor_2_freq','phasor_2_min','phasor_2_dif','maxivolume','wave_1_type','wave_2_type']\n",
    "\n",
    "\n",
    "class SFSystemCommunicator(gym.Env):\n",
    "    def __init__(self, out_dict=out_dict, out_order=out_order,n_input_channels=8, channels_of_interest_inds=list(range(8)), n_timepoints_per_sample=100, max_sfsystem_output=1023,reward_formula_string='(fbin_1_4_ch0+freq_30_ch0)/fbin_12_30_ch0', \n",
    "                 fbins=[(0,1), (1,4), (4,8), (8,12), (12,30)], delay=10,\n",
    "                 use_raw_in_os_def=False, use_freq_in_os_def=False, use_fbins_in_os_def=False, device_address=\"ws://10.42.0.231:80/\",\n",
    "                 step_stim_length_millis=10000, episode_time_seconds=60, render_data=True, return_plotly_figs=False,\n",
    "                 logfn='current_training.log', log_steps=True, log_episodes=True, log_best_actions_final=True, signal_plot_width=2000, signal_plot_height=1500, training_plot_width=2000, training_plot_height=500, \n",
    "                 write_raw=True,\n",
    "                 write_fft=True,\n",
    "                 write_bins=True,\n",
    "                 log_best_actions_every_episode=True,\n",
    "                 log_actions_every_step=True,\n",
    "                 render_each_step=True):\n",
    "        self.device_address=device_address\n",
    "        self.step_stim_length=step_stim_length_millis/1000\n",
    "        self.episode_time_seconds=episode_time_seconds\n",
    "        self.n_steps_per_episode=int(self.episode_time_seconds/self.step_stim_length)\n",
    "        self.cur_step=0\n",
    "        self.render_data=render_data\n",
    "        self.return_plotly_figs=return_plotly_figs\n",
    "        \n",
    "        self.out_dict=out_dict\n",
    "        self.out_order=out_order\n",
    "        self.max_sfsystem_output=max_sfsystem_output\n",
    "        self.n_timepoints_per_sample=n_timepoints_per_sample\n",
    "        self.n_input_channels=n_input_channels\n",
    "        self.reward_formula_string=reward_formula_string\n",
    "\n",
    "        self.delay=delay\n",
    "\n",
    "        self.record_raw=use_raw_in_os_def\n",
    "\n",
    "        self.do_fft=use_freq_in_os_def\n",
    "        self.record_fft=use_freq_in_os_def\n",
    "\n",
    "        self.do_fbins=use_fbins_in_os_def\n",
    "        self.record_fbins=use_fbins_in_os_def\n",
    "\n",
    "        self.fbins=fbins\n",
    "        self.n_fbins=len(self.fbins)\n",
    "\n",
    "        self.channels_of_interest_inds=channels_of_interest_inds\n",
    "        self.channels_of_interest_inds.sort()\n",
    "        self.n_channels_of_interest=len(self.channels_of_interest_inds)\n",
    "\n",
    "        self.set_fft_params()\n",
    "\n",
    "        self.timesleep_period=0.1\n",
    "\n",
    "        if 'raw' in self.reward_formula_string:\n",
    "            self.record_raw=True\n",
    "        if 'freq' in self.reward_formula_string:\n",
    "            self.record_fft=True\n",
    "        if 'fbin' in self.reward_formula_string:\n",
    "            self.record_fbins=True\n",
    "\n",
    "        if self.record_fbins:\n",
    "            self.do_fft=True\n",
    "            self.do_fbins=True\n",
    "        \n",
    "        self.init_action_space()\n",
    "        self.init_observation_space()\n",
    "        self.set_value_dict_for_reward_function()\n",
    "        self.connect()\n",
    "        print(self.connection_status)\n",
    "        self.set_delay_and_data_transfer_buffer_size()\n",
    "        print('Delay and data transfer buffer size are set up.')\n",
    "        self.set_default_actions()\n",
    "        print('Default actions are set.')\n",
    "\n",
    "\n",
    "        #logging part\n",
    "        self.logfn=logfn\n",
    "        if self.render_data==True:\n",
    "            self.collect_data_toplot=True\n",
    "\n",
    "        self.write_raw=write_raw\n",
    "        self.write_fft=write_fft\n",
    "        self.write_bins=write_bins\n",
    "\n",
    "\n",
    "        self.log_steps=log_steps\n",
    "        self.log_episodes=log_episodes\n",
    "        \n",
    " \n",
    "        self.clear_reward_buffers()   \n",
    "        self.clear_reward_stats()\n",
    "        self.current_episode=0\n",
    "        self.set_fbin_x_axis_labels()\n",
    "        \n",
    "        self.create_log()\n",
    "        self.signal_plot_width=signal_plot_width\n",
    "        self.signal_plot_height=signal_plot_height\n",
    "        self.training_plot_width=training_plot_width\n",
    "        self.training_plot_height=training_plot_height\n",
    "        #action logging\n",
    "        self.best_action_overall=None\n",
    "        self.best_action_episode=None\n",
    "        self.log_actions_every_step=log_actions_every_step\n",
    "        self.log_best_actions_every_episode=log_best_actions_every_episode\n",
    "        self.log_best_actions_final=log_best_actions_final\n",
    "\n",
    "        self.render_each_step=render_each_step\n",
    "\n",
    "        self.done=False\n",
    "    def create_log(self):\n",
    "        if not os.path.isfile(self.logfn):\n",
    "            open(self.logfn, 'a').close()\n",
    "    def write_tolog(self, string):\n",
    "        with open(self.logfn, 'a') as log_file:\n",
    "            log_file.write(string + '\\n')\n",
    "    def help(self):\n",
    "        print('Reward formula can use the following operators: //, *, **, -, +')\n",
    "        print('It can refer to channels using \"ch\" prefix followed by an index (starting with 0) e.g. ch0')\n",
    "        print('It can refer to values of frequency bins in specific channels e.g. fbin_10_50_ch0')\n",
    "        print('The corresponding freqency bins must be present among fbins passed at the initialization step')\n",
    "        print('fbins should be passed in the form of [(b1 min, b1max),...(bn min, bn max)]')\n",
    "        print('It can refer to specific frequencies from fft e.g. freq_50_ch0')\n",
    "        print('Use integers for frequencies, fractions are not supported for now')\n",
    "        print('Some examples:')\n",
    "        print('1. (freq_50_ch0+fbin_0_10_ch0)/(fbin_20_30_ch0)')\n",
    "        print('2. freq_5_ch0/freq_10_ch0')\n",
    "        print('3. fbin_05_5_ch0')\n",
    "    def clear_log(self):\n",
    "        if os.path.isfile(self.logfn):\n",
    "            os.remove(self.logfn)\n",
    "    def set_value_dict_for_reward_function(self):\n",
    "        ftokens=re.split(r'[+/)(*]+',self.reward_formula_string)\n",
    "        self.rewarddict={}\n",
    "        self.tokendict={}\n",
    "        for token in ftokens:\n",
    "            if 'ch' in token:\n",
    "                self.rewarddict[token]=None\n",
    "                self.tokendict[token]={}\n",
    "                subtokens=token.split('_')\n",
    "                self.tokendict[token]['datatype']=subtokens[0]\n",
    "                for subtoken in subtokens:\n",
    "                    if 'ch' in subtoken:\n",
    "                        self.tokendict[token]['channelindex']=int(subtoken.split('h')[1])\n",
    "                    if subtoken=='freq':\n",
    "                        tfreq=float(subtokens[1])\n",
    "                        self.tokendict[token]['freqdata']=tfreq\n",
    "                        closestind=np.argmin(np.abs(self.f_plot - tfreq))\n",
    "                        self.tokendict[token]['closest_fft_ind']=closestind\n",
    "                        print(f'Token {token}:')\n",
    "                        print(f'Closest fft frequency {self.f_plot[closestind]}')\n",
    "                    if subtoken=='fbin':\n",
    "                        bin_lst=[subtokens[1],subtokens[2]]\n",
    "                        for i in range(2):\n",
    "                            val=bin_lst[i]\n",
    "                            if val.startswith('0'):\n",
    "                                val=float('0.'+val[1:])\n",
    "                            else:\n",
    "                                val=float(val)\n",
    "                            bin_lst[i]=val\n",
    "                        self.tokendict[token]['freqdata']=tuple(bin_lst)\n",
    "                        self.tokendict[token]['fbin_idx']=self.fbins.index(self.tokendict[token]['freqdata'])\n",
    "    def set_default_actions(self):\n",
    "        observation_space_sample=self.observation_space.sample()\n",
    "        for key1 in observation_space_sample:\n",
    "            for key2 in self.out_dict:\n",
    "                if key1 in self.out_dict[key2]['init_val']:\n",
    "                    observation_space_sample[key2]=self.out_dict[key1]['init_val'][key2]\n",
    "\n",
    "        self.default_actions=observation_space_sample\n",
    "    def populate_rewarddict(self, observations):\n",
    "        for token, tokendata in self.tokendict.items():\n",
    "            tartype=tokendata['datatype']\n",
    "            tarchannelidx=tokendata['channelindex']\n",
    "            if tartype=='raw':\n",
    "                tarobs=observations['raw_data']\n",
    "                tarobs=tarobs[:,tarchannelidx]\n",
    "                res=np.mean(tarobs) #here we use the mean, but this may be changed\n",
    "            if tartype=='freq':\n",
    "                #tarfreq=tokendata['freqdata']\n",
    "                taridx=tokendata['closest_fft_ind']\n",
    "                tarobs=observations['fft'][tarchannelidx]\n",
    "                res=tarobs[taridx]\n",
    "            if tartype=='fbin':\n",
    "                tarobs=observations['fbins'][tarchannelidx]\n",
    "                res=tarobs[tokendata['fbin_idx']]\n",
    "            self.rewarddict[token]=res\n",
    "    def get_reward(self, observations=None, toreturn=False):\n",
    "        if str(observations) != \"None\":\n",
    "            observations=self.observation_space.sample() #if no observations are given extrernally, sample from the observation space\n",
    "        self.populate_rewarddict(observations)\n",
    "        self.reward=ne.evaluate(self.reward_formula_string, local_dict=self.rewarddict)\n",
    "        if toreturn==True:\n",
    "            return self.reward\n",
    "    def init_action_space(self):\n",
    "        self.action_space=spaces.Dict({})\n",
    "        for key, val in self.out_dict.items():\n",
    "            spacesnames=val['names']\n",
    "            spacesrange=val['value_range']\n",
    "            for spacename in spacesnames:\n",
    "                self.action_space.spaces[spacename]=spaces.Box(low=spacesrange['min'], high=spacesrange['max'], shape=(1,), dtype=int)\n",
    "    def init_observation_space(self):\n",
    "        self.observation_space=spaces.Dict({})\n",
    "        self.observation_space['raw_data']=spaces.Box(low=0, high=self.max_sfsystem_output, shape=(self.n_timepoints_per_sample, self.n_channels_of_interest), dtype=int) #n timepoints per sample rows, n input channels columns, signals should be normalized\n",
    "        if self.record_fft:\n",
    "            self.observation_space['fft']=spaces.Box(low=0.0, high=1.0, shape=(self.n_channels_of_interest, self.n_fft_values))\n",
    "        if self.record_fbins:\n",
    "            self.observation_space['fbins']=spaces.Box(low=0.0, high=1.0, shape=(self.n_channels_of_interest, self.n_fbins))\n",
    "    def set_fft_params(self):\n",
    "        self.sampling_frequency=int(1000/self.delay)\n",
    "        self.max_possible_fft_frequency=self.sampling_frequency/2\n",
    "        self.sampling_period=int(self.delay*self.n_timepoints_per_sample)\n",
    "        self.timesteps=np.linspace(0, (self.n_timepoints_per_sample-1)*self.delay, self.n_timepoints_per_sample)\n",
    "        self.fstep=self.sampling_frequency/self.n_timepoints_per_sample\n",
    "        self.f=np.linspace(0, (self.n_timepoints_per_sample-1)*self.fstep, self.n_timepoints_per_sample)\n",
    "        self.f_plot=self.f[0:int(self.n_timepoints_per_sample/2 + 1)]\n",
    "        self.n_fft_values=len(self.f_plot)\n",
    "\n",
    "    def connect(self):\n",
    "        websocket.enableTrace(False)\n",
    "        self.ws=websocket.WebSocket()\n",
    "        self.ws.connect(self.device_address)\n",
    "        self.connection_status=self.ws.recv()\n",
    "    \n",
    "    def get_fft_fromsignal(self, raw_singlech):\n",
    "        X=np.fft.fft(raw_singlech)\n",
    "        X_mag=np.abs(X)/self.n_timepoints_per_sample\n",
    "        X_mag_plot=2*X_mag[0:int(self.n_timepoints_per_sample/2 + 1)]\n",
    "        return X_mag_plot\n",
    "\n",
    "    def get_fft_allchannels(self, raw_data):\n",
    "        if str(raw_data) != \"None\":\n",
    "            raw_data=self.observation_space.sample()['raw_data']\n",
    "\n",
    "        fft_data=[]\n",
    "        for chindex in range(raw_data.shape[1]):\n",
    "            chraw=raw_data[:,chindex]\n",
    "            chfft=self.get_fft_fromsignal(chraw)\n",
    "            fft_data.append(chfft)\n",
    "        fft_data=np.array(fft_data)\n",
    "        return fft_data\n",
    "    \n",
    "    def get_bin_values_from_signal(self, fft_signlech):\n",
    "        fpl=np.array(self.f_plot)\n",
    "        xmp=np.array(fft_signlech)\n",
    "        magnitudes=[]\n",
    "        for low, high in self.fbins:\n",
    "            mask = (fpl >= low) & (fpl < high)\n",
    "            magnitude = np.abs(xmp[mask]).mean() #here can be other functions\n",
    "            magnitudes.append(magnitude)\n",
    "        magnitudes=np.array(magnitudes)\n",
    "        if True in np.isnan(magnitudes):\n",
    "            print('Warning: nan values among bin values detected!')\n",
    "        return magnitudes\n",
    "    def set_fbin_x_axis_labels(self):\n",
    "        self.fbin_axis_labels=[]\n",
    "        for low, high in self.fbins:\n",
    "            binname=f'{low}-{high} Hz'\n",
    "            self.fbin_axis_labels.append(binname)\n",
    "    def get_bin_values_allchannels(self, fft=None):\n",
    "        if str(fft) != \"None\":\n",
    "            fft=self.observation_space.sample()['fft']\n",
    "        fbins_data=[]\n",
    "        for chindex in range(fft.shape[0]):\n",
    "            chfft=fft[chindex]\n",
    "            chbins=self.get_bin_values_from_signal(chfft)\n",
    "            fbins_data.append(chbins)\n",
    "        fbins_data=np.array(fbins_data)\n",
    "        return fbins_data\n",
    "\n",
    "    def set_delay_and_data_transfer_buffer_size(self):\n",
    "        self.ws.send(\"set_delay_and_data_transfer_buffer_size\")\n",
    "        time.sleep(self.timesleep_period)\n",
    "        setup=False\n",
    "        while setup==False:\n",
    "            try:\n",
    "                device_msg=self.ws.recv()\n",
    "                if device_msg == \"Awaiting delay and data transfer buffer size in shape with space separator\":\n",
    "                    self.ws.send(f'{self.delay},{self.n_timepoints_per_sample}')\n",
    "                time.sleep(self.timesleep_period)\n",
    "                device_msg=self.ws.recv()\n",
    "                if device_msg == \"Delay and data transfer buffer size set up\":\n",
    "                    setup = True \n",
    "                    break;\n",
    "            except:\n",
    "                pass\n",
    "    def start_data_transfer_from_device(self):\n",
    "        self.ws.send(\"start_data_transfer_from_ads\")\n",
    "    def stop_data_transfer_from_device(self):\n",
    "        self.ws.send(\"stop_data_transfer_from_ads\")\n",
    "    def stop_audiovis_feedback(self):\n",
    "        self.ws.send(\"stop_led_cycle\")\n",
    "    def update_audiovis_feedback(self, update_dict=None):\n",
    "        if str(update_dict)!= 'None':\n",
    "            update_dict=self.action_space.sample()\n",
    "        self.ws.send(\"receive_output_control_data\")\n",
    "        outmsg_vals=[]\n",
    "        for controlnm in self.out_order:\n",
    "            outmsg_vals.append(update_dict[controlnm][0])\n",
    "        self.current_control_msg=','.join(list(map(str,outmsg_vals)))\n",
    "        self.ws.send(self.current_control_msg)\n",
    "    def sample_observations(self):\n",
    "        self.ws.send(\"start_data_transfer_from_ads\")\n",
    "        self.current_sample=json.loads(self.ws.recv())\n",
    "        self.raw_data=[]\n",
    "        for key, value in self.current_sample.items():\n",
    "            self.raw_data.append(value)\n",
    "        self.raw_data=np.array(self.raw_data).transpose()\n",
    "        self.raw_data=self.raw_data[:,self.channels_of_interest_inds]\n",
    "        self.ws.send(\"stop_data_transfer_from_ads\")\n",
    "    def sample_and_process_observations_from_device(self):\n",
    "        new_observations=dict()\n",
    "        self.sample_observations()\n",
    "        new_observations['raw_data']=self.raw_data\n",
    "        if self.do_fft:\n",
    "         self.fft=self.get_fft_allchannels(raw_data=self.raw_data)\n",
    "         if self.record_fft:\n",
    "            new_observations['fft']=self.fft\n",
    "        if self.do_fbins:\n",
    "            self.fbins_data=self.get_bin_values_allchannels(fft=self.fft)\n",
    "            if self.record_fbins:\n",
    "                new_observations['fbins']=self.fbins_data \n",
    "        new_observations=OrderedDict(new_observations)\n",
    "        return new_observations\n",
    "    def write_signal_logs(self):\n",
    "        if self.record_fft==True:\n",
    "            if self.write_fft==True:\n",
    "                self.write_tolog(json.dumps({'fft':self.cur_observations['fft'].tolist()}))\n",
    "        if self.record_fbins==True:\n",
    "            if self.write_bins==True:\n",
    "                self.write_tolog(json.dumps({'fbins':self.cur_observations['fbins'].tolist()}))\n",
    "        if self.record_raw==True:\n",
    "            if self.write_raw==True:\n",
    "                self.write_tolog(json.dumps({'raw_data':self.cur_observations['raw_data'].tolist()}))\n",
    "    def step(self, action):\n",
    "        self.done=False\n",
    "        self.best_overall_reward_now=False\n",
    "        self.best_episode_reward_now=False\n",
    "        self.best_total_episode_reward_now=False\n",
    "        self.update_audiovis_feedback(action)\n",
    "        time.sleep(self.step_stim_length)\n",
    "        self.current_actions=action\n",
    "        new_observations=self.sample_and_process_observations_from_device()\n",
    "        self.cur_observations=new_observations\n",
    "        reward=self.get_reward(observations=new_observations, toreturn=True)\n",
    "        reward_val=reward.tolist()\n",
    "        self.total_cur_episode_reward+=reward_val\n",
    "        if reward_val>self.episode_max_reward:\n",
    "                self.episode_max_reward=reward_val\n",
    "                self.best_episode_reward_now=True\n",
    "                self.best_action_episode=action\n",
    "        if reward_val>self.overall_max_reward:\n",
    "                self.overall_max_reward=reward_val\n",
    "                self.best_overall_reward_now=True\n",
    "                self.best_action_overall=action\n",
    "        if self.total_cur_episode_reward>self.total_episode_max_reward:\n",
    "            self.total_episode_max_reward=self.total_cur_episode_reward\n",
    "            self.best_total_episode_reward_now=True\n",
    "\n",
    "        if self.collect_data_toplot:\n",
    "            self.cur_episode_rewards.append(reward_val)\n",
    "        if self.log_steps:\n",
    "            self.write_tolog(json.dumps({'Episode':self.current_episode, 'Step': self.cur_step, 'Step reward': reward_val}))\n",
    "        if self.log_actions_every_step:\n",
    "            self.write_tolog(json.dumps({'Action reward':reward_val}))\n",
    "            actionstring=self.get_json_string_from_ordered_dict(action)\n",
    "            self.write_tolog(actionstring)\n",
    "        self.write_signal_logs()        \n",
    "              \n",
    "\n",
    "\n",
    "        if self.cur_step<self.n_steps_per_episode:\n",
    "            self.done=False\n",
    "            self.cur_step+=1\n",
    "        else:\n",
    "            self.done=True\n",
    "        if self.render_each_step==True:\n",
    "            self.render()\n",
    "        return new_observations, reward, self.done, {} #False\n",
    "    def reset(self):\n",
    "        if self.cur_step>0:\n",
    "            if self.done:\n",
    "                if self.collect_data_toplot:\n",
    "                    self.previous_episodes_total_rewards.append(self.total_cur_episode_reward)\n",
    "                    self.previous_episodes_max_rewards.append(self.episode_max_reward)\n",
    "                if self.log_episodes:\n",
    "                    self.write_tolog(json.dumps({'Episode':self.current_episode, 'Episode total reward': self.total_cur_episode_reward, 'Episode max reward': self.episode_max_reward}))\n",
    "                if self.log_best_actions_every_episode:\n",
    "                    actionstring=self.get_json_string_from_ordered_dict(self.best_action_episode)\n",
    "                    self.write_tolog(json.dumps({'Best action in the episode reward':self.episode_max_reward}))\n",
    "                    self.write_tolog(actionstring)\n",
    "        self.stop_audiovis_feedback()\n",
    "        self.cur_step=0\n",
    "        self.episode_max_reward=0\n",
    "        self.total_cur_episode_reward=0\n",
    "\n",
    "        self.done=False\n",
    "        self.best_episode_reward_now=False #just in case\n",
    "        self.best_overall_reward_now=False #just in case\n",
    "        self.best_total_episode_reward_now=False #just in case\n",
    "\n",
    "        self.best_action_epoch=None\n",
    "\n",
    "        new_observations=self.sample_and_process_observations_from_device()\n",
    "        self.cur_observations=new_observations\n",
    "        self.update_audiovis_feedback(update_dict=self.default_actions) #update back to default actions\n",
    "        if self.collect_data_toplot==True:\n",
    "            self.previous_episodes_max_rewards.append(self.episode_max_reward)\n",
    "            self.cur_episode_rewards=[]\n",
    "        time.sleep(self.step_stim_length) #prepare the brain for the next episode \n",
    "        return new_observations, {}\n",
    "\n",
    "    def get_json_string_from_ordered_dict(self, od):\n",
    "        od=dict(od)\n",
    "        for key, value in od.items():\n",
    "            od[key]=value.tolist()\n",
    "        return json.dumps(od)\n",
    "\n",
    "    def render(self, elems=['reward_lineplots', 'current_fft', 'current_fbins'], return_figs=False):\n",
    "        if return_figs==None:\n",
    "            return_figs=self.return_plotly_figs\n",
    "        figures=dict()\n",
    "        if 'reward_lineplots' in elems:\n",
    "            training_fig=sp.make_subplots(rows=2, cols=2)\n",
    "            training_fig.update_layout(width=self.training_plot_width, height = self.training_plot_height)\n",
    "            training_fig.add_trace(sp.go.Scatter(x=list(range(len(self.cur_episode_rewards))), y=self.cur_episode_rewards, mode='lines+markers', name='Current episode rewards'), row=1, col=1)\n",
    "            training_fig.add_trace(sp.go.Scatter(x=list(range(len(self.previous_episodes_max_rewards))), y=self.previous_episodes_max_rewards, mode='lines+markers', name='Previous episode max rewards'), row=1, col=2)\n",
    "            training_fig.add_trace(sp.go.Scatter(x=list(range(len(self.previous_episodes_total_rewards))), y=self.previous_episodes_total_rewards, mode='lines+markers', name='Previous episode total rewards'), row=2, col=1)           \n",
    "            figures['reward_lineplots']=training_fig\n",
    "            if self.render_data:\n",
    "                training_fig.show()\n",
    "        if ('current_fft' in elems) or ('current_fbins' in elems):\n",
    "            if self.record_fft or self.record_fbins:\n",
    "                signal_fig=sp.make_subplots(rows=self.n_channels_of_interest, cols=2)\n",
    "                signal_fig.update_layout(width=self.signal_plot_width, height = self.signal_plot_height)\n",
    "                if 'current_fft' in elems and self.record_fft:\n",
    "                    for chidx in range(self.n_channels_of_interest):\n",
    "                        orig_chidx=self.channels_of_interest_inds[chidx]\n",
    "                        chfft=self.cur_observations['fft'][chidx]\n",
    "                        signal_fig.add_trace(sp.go.Scatter(x=self.f_plot, y=chfft, mode='lines+markers', name=f'Channel {orig_chidx} spectrum'), row=chidx+1, col=1)\n",
    "                if 'current_fbins' in elems and self.record_fbins:\n",
    "                    for chidx in range(self.n_channels_of_interest):\n",
    "                        orig_chidx=self.channels_of_interest_inds[chidx]\n",
    "                        chbins=self.cur_observations['fbins'][chidx]\n",
    "                        signal_fig.add_trace(sp.go.Bar(x=self.fbin_axis_labels, y=chbins, name=f'Channel {orig_chidx} frequency bins'), row=chidx+1, col=2)\n",
    "                if self.render_data:\n",
    "                    signal_fig.show()\n",
    "        if return_figs:\n",
    "            return figures\n",
    "    def clear_reward_buffers(self):\n",
    "        self.cur_episode_rewards=[]\n",
    "        self.previous_episodes_max_rewards=[]\n",
    "        self.previous_episodes_total_rewards=[]\n",
    "    def clear_reward_stats(self):\n",
    "        self.episode_max_reward=0\n",
    "        self.overall_max_reward=0\n",
    "        self.total_cur_episode_reward=0\n",
    "        self.total_episode_max_reward=0\n",
    "        self.best_episode_reward_now=False\n",
    "        self.best_overall_reward_now=False\n",
    "        self.best_total_episode_reward_now=False\n",
    "    def close(self, clear_log=False):\n",
    "        if self.log_best_actions_final:\n",
    "            actionstring=self.get_json_string_from_ordered_dict(self.best_action_overall)\n",
    "            self.write_tolog(json.dumps({'Best action across episodes reward':self.overall_max_reward}))\n",
    "            self.write_tolog(actionstring)\n",
    "        self.stop_audiovis_feedback() #just in case\n",
    "        self.stop_data_transfer_from_device() #just in case\n",
    "        self.cur_step=0 #just in case\n",
    "        self.current_episode=0\n",
    "\n",
    "        self.clear_reward_buffers()\n",
    "        self.clear_reward_stats()\n",
    "        if clear_log:\n",
    "            self.clear_log()\n",
    "        self.ws.close()\n",
    "        \n",
    "        \n",
    "class FlattenActionSpaceWrapper(gym.Wrapper):\n",
    "    def __init__(self, env):\n",
    "        super().__init__(env)\n",
    "        # Flatten the action space\n",
    "        self.action_space = self._flatten_action_space(env.action_space)\n",
    "\n",
    "    def _flatten_action_space(self, original_space):\n",
    "        # Calculate the total size of the flattened action space\n",
    "        total_size = sum(space.shape[0] for space in original_space.spaces.values())\n",
    "        # Create a new Box space with the total size\n",
    "        return spaces.Box(low=np.concatenate([space.low for space in original_space.spaces.values()]),\n",
    "                            high=np.concatenate([space.high for space in original_space.spaces.values()]),\n",
    "                            shape=(total_size,),\n",
    "                            dtype=np.int64)\n",
    "\n",
    "    def step(self, action):\n",
    "        # Convert the flattened action back to the original action space format\n",
    "        original_action = self._unflatten_action(action)\n",
    "        return super().step(original_action)\n",
    "\n",
    "    def _unflatten_action(self, action):\n",
    "        # Split the flattened action into the original spaces\n",
    "        original_action = {}\n",
    "        start = 0\n",
    "        for key, space in self.env.action_space.spaces.items():\n",
    "            end = start + space.shape[0]\n",
    "            original_action[key] = action[start:end]\n",
    "            start = end\n",
    "        return original_action"
   ]
  },
  {
   "cell_type": "code",
   "execution_count": 10,
   "metadata": {},
   "outputs": [],
   "source": [
    "from stable_baselines3 import A2C\n",
    "from stable_baselines3.common.env_checker import check_env\n",
    "from gym.wrappers import FlattenObservation\n",
    "from stable_baselines3 import PPO, SAC, DDPG, TD3, A2C, DQN\n",
    "from IPython.display import clear_output\n",
    "\n",
    "class stable_baselines_model_trainer():\n",
    "    def __init__(self, initialized_environment, algorithm='A2C', policy='MlpPolicy', logfn='model_stats.log', n_steps_per_timestep=1):\n",
    "        self.env=initialized_environment\n",
    "        self.env = FlattenObservation(self.env)\n",
    "        self.env = FlattenActionSpaceWrapper(self.env)\n",
    "        self.algorithm=algorithm\n",
    "        self.policy=policy\n",
    "        self.n_steps_per_timestep=n_steps_per_timestep #for PPO and A2C\n",
    "        self.set_model()\n",
    "        self.max_test_reward=0\n",
    "        self.logfn=logfn\n",
    "        if os.path.isfile(self.logfn):\n",
    "            os.remove(self.logfn)\n",
    "    def set_model(self):\n",
    "        if self.algorithm=='PPO':\n",
    "            self.model = PPO(self.policy, self.env, n_steps=self.n_steps_per_timestep)\n",
    "        if self.algorithm=='SAC':\n",
    "            self.model = SAC(self.policy, self.env)\n",
    "        if self.algorithm=='DDPG':\n",
    "            self.model = DDPG(self.policy, self.env)\n",
    "        if self.algorithm=='TD3':\n",
    "            self.model = TD3(self.policy, self.env)\n",
    "        if self.algorithm=='A2C':\n",
    "            self.model = A2C(self.policy, self.env, n_steps=self.n_steps_per_timestep)\n",
    "        if self.algorithm=='DQN':\n",
    "            self.model = DQN(self.policy, self.env)\n",
    "    \n",
    "    def close_env(self):\n",
    "        self.env.close()\n",
    "\n",
    "    def train(self, num_episodes=5, log_model=True, get_plots=False, render_plots=False,n_total_timesteps=2, log_or_plot_every_n_timesteps=1):\n",
    "        if n_total_timesteps=='episode':\n",
    "            n_total_timesteps=int(self.env.n_steps_per_episode/self.n_steps_per_timestep)+1 #we run one episode + 1 step before resetting, episode \n",
    "        for i in range(num_episodes):\n",
    "            self.cur_n_timesteps=0\n",
    "            while self.cur_n_timesteps<int(n_total_timesteps): #here-for A2C\n",
    "                self.model.learn(total_timesteps=log_or_plot_every_n_timesteps)\n",
    "                self.cur_n_timesteps+=log_or_plot_every_n_timesteps\n",
    "                if render_plots:\n",
    "                    if get_plots:\n",
    "                        self.figs=self.env.render(return_figs=True)\n",
    "                    else:\n",
    "                        self.env.render()\n",
    "                    clear_output(wait=True)\n",
    "                if log_model:\n",
    "                    if self.env.best_overall_reward_now:\n",
    "                        self.model.save(\"best_overall_reward_model\")\n",
    "                        with open(self.logfn, 'w') as log_file:\n",
    "                            log_file.write(f'current best_overall_reward_model reward {self.env.self.overall_max_reward}' + '\\n')\n",
    "                    if self.env.best_total_episode_reward_now:\n",
    "                        self.model.save(\"best_total_episode_reward_model\")\n",
    "                        with open(self.logfn, 'w') as log_file:\n",
    "                            log_file.write(f'current best_total_episode_reward_model reward {self.env.total_episode_max_reward}' + '\\n')\n",
    "        self.env.stop_audiovis_feedback()            \n",
    "#            obs=self.env.reset()[0]\n",
    "#            done=False\n",
    "#            while not done:\n",
    "#                action, _states = self.model.predict(obs, deterministic=True)\n",
    "#                obs, reward, done, info = self.env.step(action)\n",
    "#                if reward>self.max_test_reward:\n",
    "#                    self.max_test_reward=reward\n",
    "#                    if log_model:\n",
    "#                        self.model.save(\"best_test_reward_model\")\n",
    "\n",
    "\n",
    "        \n",
    "        \n",
    "        \n",
    "\n",
    "\n",
    "\n",
    "\n",
    "        \n"
   ]
  },
  {
   "cell_type": "code",
   "execution_count": 14,
   "metadata": {},
   "outputs": [
    {
     "name": "stdout",
     "output_type": "stream",
     "text": [
      "Token freq_30_ch0:\n",
      "Closest fft frequency 30.0\n",
      "Connected\n",
      "Delay and data transfer buffer size are set up.\n",
      "Default actions are set.\n"
     ]
    }
   ],
   "source": [
    "env = SFSystemCommunicator(step_stim_length_millis=1000, episode_time_seconds=1)"
   ]
  },
  {
   "cell_type": "code",
   "execution_count": 21,
   "metadata": {},
   "outputs": [
    {
     "data": {
      "text/plain": [
       "1"
      ]
     },
     "execution_count": 21,
     "metadata": {},
     "output_type": "execute_result"
    }
   ],
   "source": [
    "env.n_steps_per_episode"
   ]
  },
  {
   "cell_type": "code",
   "execution_count": 16,
   "metadata": {},
   "outputs": [],
   "source": [
    "env.close()"
   ]
  },
  {
   "cell_type": "code",
   "execution_count": 15,
   "metadata": {},
   "outputs": [
    {
     "name": "stdout",
     "output_type": "stream",
     "text": [
      "Using cuda device\n",
      "Wrapping the env with a `Monitor` wrapper\n",
      "Wrapping the env in a DummyVecEnv.\n"
     ]
    },
    {
     "name": "stderr",
     "output_type": "stream",
     "text": [
      "/home/biorp/.local/lib/python3.10/site-packages/stable_baselines3/common/vec_env/patch_gym.py:49: UserWarning:\n",
      "\n",
      "You provided an OpenAI Gym environment. We strongly recommend transitioning to Gymnasium environments. Stable-Baselines3 is automatically wrapping your environments in a compatibility layer, which could potentially cause issues.\n",
      "\n"
     ]
    },
    {
     "data": {
      "application/vnd.plotly.v1+json": {
       "config": {
        "plotlyServerURL": "https://plot.ly"
       },
       "data": [
        {
         "mode": "lines+markers",
         "name": "Current episode rewards",
         "type": "scatter",
         "x": [
          0
         ],
         "xaxis": "x",
         "y": [
          1.4444434642791748
         ],
         "yaxis": "y"
        },
        {
         "mode": "lines+markers",
         "name": "Previous episode max rewards",
         "type": "scatter",
         "x": [
          0
         ],
         "xaxis": "x2",
         "y": [
          0
         ],
         "yaxis": "y2"
        },
        {
         "mode": "lines+markers",
         "name": "Previous episode total rewards",
         "type": "scatter",
         "x": [],
         "xaxis": "x3",
         "y": [],
         "yaxis": "y3"
        }
       ],
       "layout": {
        "height": 500,
        "template": {
         "data": {
          "bar": [
           {
            "error_x": {
             "color": "#2a3f5f"
            },
            "error_y": {
             "color": "#2a3f5f"
            },
            "marker": {
             "line": {
              "color": "#E5ECF6",
              "width": 0.5
             },
             "pattern": {
              "fillmode": "overlay",
              "size": 10,
              "solidity": 0.2
             }
            },
            "type": "bar"
           }
          ],
          "barpolar": [
           {
            "marker": {
             "line": {
              "color": "#E5ECF6",
              "width": 0.5
             },
             "pattern": {
              "fillmode": "overlay",
              "size": 10,
              "solidity": 0.2
             }
            },
            "type": "barpolar"
           }
          ],
          "carpet": [
           {
            "aaxis": {
             "endlinecolor": "#2a3f5f",
             "gridcolor": "white",
             "linecolor": "white",
             "minorgridcolor": "white",
             "startlinecolor": "#2a3f5f"
            },
            "baxis": {
             "endlinecolor": "#2a3f5f",
             "gridcolor": "white",
             "linecolor": "white",
             "minorgridcolor": "white",
             "startlinecolor": "#2a3f5f"
            },
            "type": "carpet"
           }
          ],
          "choropleth": [
           {
            "colorbar": {
             "outlinewidth": 0,
             "ticks": ""
            },
            "type": "choropleth"
           }
          ],
          "contour": [
           {
            "colorbar": {
             "outlinewidth": 0,
             "ticks": ""
            },
            "colorscale": [
             [
              0,
              "#0d0887"
             ],
             [
              0.1111111111111111,
              "#46039f"
             ],
             [
              0.2222222222222222,
              "#7201a8"
             ],
             [
              0.3333333333333333,
              "#9c179e"
             ],
             [
              0.4444444444444444,
              "#bd3786"
             ],
             [
              0.5555555555555556,
              "#d8576b"
             ],
             [
              0.6666666666666666,
              "#ed7953"
             ],
             [
              0.7777777777777778,
              "#fb9f3a"
             ],
             [
              0.8888888888888888,
              "#fdca26"
             ],
             [
              1,
              "#f0f921"
             ]
            ],
            "type": "contour"
           }
          ],
          "contourcarpet": [
           {
            "colorbar": {
             "outlinewidth": 0,
             "ticks": ""
            },
            "type": "contourcarpet"
           }
          ],
          "heatmap": [
           {
            "colorbar": {
             "outlinewidth": 0,
             "ticks": ""
            },
            "colorscale": [
             [
              0,
              "#0d0887"
             ],
             [
              0.1111111111111111,
              "#46039f"
             ],
             [
              0.2222222222222222,
              "#7201a8"
             ],
             [
              0.3333333333333333,
              "#9c179e"
             ],
             [
              0.4444444444444444,
              "#bd3786"
             ],
             [
              0.5555555555555556,
              "#d8576b"
             ],
             [
              0.6666666666666666,
              "#ed7953"
             ],
             [
              0.7777777777777778,
              "#fb9f3a"
             ],
             [
              0.8888888888888888,
              "#fdca26"
             ],
             [
              1,
              "#f0f921"
             ]
            ],
            "type": "heatmap"
           }
          ],
          "heatmapgl": [
           {
            "colorbar": {
             "outlinewidth": 0,
             "ticks": ""
            },
            "colorscale": [
             [
              0,
              "#0d0887"
             ],
             [
              0.1111111111111111,
              "#46039f"
             ],
             [
              0.2222222222222222,
              "#7201a8"
             ],
             [
              0.3333333333333333,
              "#9c179e"
             ],
             [
              0.4444444444444444,
              "#bd3786"
             ],
             [
              0.5555555555555556,
              "#d8576b"
             ],
             [
              0.6666666666666666,
              "#ed7953"
             ],
             [
              0.7777777777777778,
              "#fb9f3a"
             ],
             [
              0.8888888888888888,
              "#fdca26"
             ],
             [
              1,
              "#f0f921"
             ]
            ],
            "type": "heatmapgl"
           }
          ],
          "histogram": [
           {
            "marker": {
             "pattern": {
              "fillmode": "overlay",
              "size": 10,
              "solidity": 0.2
             }
            },
            "type": "histogram"
           }
          ],
          "histogram2d": [
           {
            "colorbar": {
             "outlinewidth": 0,
             "ticks": ""
            },
            "colorscale": [
             [
              0,
              "#0d0887"
             ],
             [
              0.1111111111111111,
              "#46039f"
             ],
             [
              0.2222222222222222,
              "#7201a8"
             ],
             [
              0.3333333333333333,
              "#9c179e"
             ],
             [
              0.4444444444444444,
              "#bd3786"
             ],
             [
              0.5555555555555556,
              "#d8576b"
             ],
             [
              0.6666666666666666,
              "#ed7953"
             ],
             [
              0.7777777777777778,
              "#fb9f3a"
             ],
             [
              0.8888888888888888,
              "#fdca26"
             ],
             [
              1,
              "#f0f921"
             ]
            ],
            "type": "histogram2d"
           }
          ],
          "histogram2dcontour": [
           {
            "colorbar": {
             "outlinewidth": 0,
             "ticks": ""
            },
            "colorscale": [
             [
              0,
              "#0d0887"
             ],
             [
              0.1111111111111111,
              "#46039f"
             ],
             [
              0.2222222222222222,
              "#7201a8"
             ],
             [
              0.3333333333333333,
              "#9c179e"
             ],
             [
              0.4444444444444444,
              "#bd3786"
             ],
             [
              0.5555555555555556,
              "#d8576b"
             ],
             [
              0.6666666666666666,
              "#ed7953"
             ],
             [
              0.7777777777777778,
              "#fb9f3a"
             ],
             [
              0.8888888888888888,
              "#fdca26"
             ],
             [
              1,
              "#f0f921"
             ]
            ],
            "type": "histogram2dcontour"
           }
          ],
          "mesh3d": [
           {
            "colorbar": {
             "outlinewidth": 0,
             "ticks": ""
            },
            "type": "mesh3d"
           }
          ],
          "parcoords": [
           {
            "line": {
             "colorbar": {
              "outlinewidth": 0,
              "ticks": ""
             }
            },
            "type": "parcoords"
           }
          ],
          "pie": [
           {
            "automargin": true,
            "type": "pie"
           }
          ],
          "scatter": [
           {
            "fillpattern": {
             "fillmode": "overlay",
             "size": 10,
             "solidity": 0.2
            },
            "type": "scatter"
           }
          ],
          "scatter3d": [
           {
            "line": {
             "colorbar": {
              "outlinewidth": 0,
              "ticks": ""
             }
            },
            "marker": {
             "colorbar": {
              "outlinewidth": 0,
              "ticks": ""
             }
            },
            "type": "scatter3d"
           }
          ],
          "scattercarpet": [
           {
            "marker": {
             "colorbar": {
              "outlinewidth": 0,
              "ticks": ""
             }
            },
            "type": "scattercarpet"
           }
          ],
          "scattergeo": [
           {
            "marker": {
             "colorbar": {
              "outlinewidth": 0,
              "ticks": ""
             }
            },
            "type": "scattergeo"
           }
          ],
          "scattergl": [
           {
            "marker": {
             "colorbar": {
              "outlinewidth": 0,
              "ticks": ""
             }
            },
            "type": "scattergl"
           }
          ],
          "scattermapbox": [
           {
            "marker": {
             "colorbar": {
              "outlinewidth": 0,
              "ticks": ""
             }
            },
            "type": "scattermapbox"
           }
          ],
          "scatterpolar": [
           {
            "marker": {
             "colorbar": {
              "outlinewidth": 0,
              "ticks": ""
             }
            },
            "type": "scatterpolar"
           }
          ],
          "scatterpolargl": [
           {
            "marker": {
             "colorbar": {
              "outlinewidth": 0,
              "ticks": ""
             }
            },
            "type": "scatterpolargl"
           }
          ],
          "scatterternary": [
           {
            "marker": {
             "colorbar": {
              "outlinewidth": 0,
              "ticks": ""
             }
            },
            "type": "scatterternary"
           }
          ],
          "surface": [
           {
            "colorbar": {
             "outlinewidth": 0,
             "ticks": ""
            },
            "colorscale": [
             [
              0,
              "#0d0887"
             ],
             [
              0.1111111111111111,
              "#46039f"
             ],
             [
              0.2222222222222222,
              "#7201a8"
             ],
             [
              0.3333333333333333,
              "#9c179e"
             ],
             [
              0.4444444444444444,
              "#bd3786"
             ],
             [
              0.5555555555555556,
              "#d8576b"
             ],
             [
              0.6666666666666666,
              "#ed7953"
             ],
             [
              0.7777777777777778,
              "#fb9f3a"
             ],
             [
              0.8888888888888888,
              "#fdca26"
             ],
             [
              1,
              "#f0f921"
             ]
            ],
            "type": "surface"
           }
          ],
          "table": [
           {
            "cells": {
             "fill": {
              "color": "#EBF0F8"
             },
             "line": {
              "color": "white"
             }
            },
            "header": {
             "fill": {
              "color": "#C8D4E3"
             },
             "line": {
              "color": "white"
             }
            },
            "type": "table"
           }
          ]
         },
         "layout": {
          "annotationdefaults": {
           "arrowcolor": "#2a3f5f",
           "arrowhead": 0,
           "arrowwidth": 1
          },
          "autotypenumbers": "strict",
          "coloraxis": {
           "colorbar": {
            "outlinewidth": 0,
            "ticks": ""
           }
          },
          "colorscale": {
           "diverging": [
            [
             0,
             "#8e0152"
            ],
            [
             0.1,
             "#c51b7d"
            ],
            [
             0.2,
             "#de77ae"
            ],
            [
             0.3,
             "#f1b6da"
            ],
            [
             0.4,
             "#fde0ef"
            ],
            [
             0.5,
             "#f7f7f7"
            ],
            [
             0.6,
             "#e6f5d0"
            ],
            [
             0.7,
             "#b8e186"
            ],
            [
             0.8,
             "#7fbc41"
            ],
            [
             0.9,
             "#4d9221"
            ],
            [
             1,
             "#276419"
            ]
           ],
           "sequential": [
            [
             0,
             "#0d0887"
            ],
            [
             0.1111111111111111,
             "#46039f"
            ],
            [
             0.2222222222222222,
             "#7201a8"
            ],
            [
             0.3333333333333333,
             "#9c179e"
            ],
            [
             0.4444444444444444,
             "#bd3786"
            ],
            [
             0.5555555555555556,
             "#d8576b"
            ],
            [
             0.6666666666666666,
             "#ed7953"
            ],
            [
             0.7777777777777778,
             "#fb9f3a"
            ],
            [
             0.8888888888888888,
             "#fdca26"
            ],
            [
             1,
             "#f0f921"
            ]
           ],
           "sequentialminus": [
            [
             0,
             "#0d0887"
            ],
            [
             0.1111111111111111,
             "#46039f"
            ],
            [
             0.2222222222222222,
             "#7201a8"
            ],
            [
             0.3333333333333333,
             "#9c179e"
            ],
            [
             0.4444444444444444,
             "#bd3786"
            ],
            [
             0.5555555555555556,
             "#d8576b"
            ],
            [
             0.6666666666666666,
             "#ed7953"
            ],
            [
             0.7777777777777778,
             "#fb9f3a"
            ],
            [
             0.8888888888888888,
             "#fdca26"
            ],
            [
             1,
             "#f0f921"
            ]
           ]
          },
          "colorway": [
           "#636efa",
           "#EF553B",
           "#00cc96",
           "#ab63fa",
           "#FFA15A",
           "#19d3f3",
           "#FF6692",
           "#B6E880",
           "#FF97FF",
           "#FECB52"
          ],
          "font": {
           "color": "#2a3f5f"
          },
          "geo": {
           "bgcolor": "white",
           "lakecolor": "white",
           "landcolor": "#E5ECF6",
           "showlakes": true,
           "showland": true,
           "subunitcolor": "white"
          },
          "hoverlabel": {
           "align": "left"
          },
          "hovermode": "closest",
          "mapbox": {
           "style": "light"
          },
          "paper_bgcolor": "white",
          "plot_bgcolor": "#E5ECF6",
          "polar": {
           "angularaxis": {
            "gridcolor": "white",
            "linecolor": "white",
            "ticks": ""
           },
           "bgcolor": "#E5ECF6",
           "radialaxis": {
            "gridcolor": "white",
            "linecolor": "white",
            "ticks": ""
           }
          },
          "scene": {
           "xaxis": {
            "backgroundcolor": "#E5ECF6",
            "gridcolor": "white",
            "gridwidth": 2,
            "linecolor": "white",
            "showbackground": true,
            "ticks": "",
            "zerolinecolor": "white"
           },
           "yaxis": {
            "backgroundcolor": "#E5ECF6",
            "gridcolor": "white",
            "gridwidth": 2,
            "linecolor": "white",
            "showbackground": true,
            "ticks": "",
            "zerolinecolor": "white"
           },
           "zaxis": {
            "backgroundcolor": "#E5ECF6",
            "gridcolor": "white",
            "gridwidth": 2,
            "linecolor": "white",
            "showbackground": true,
            "ticks": "",
            "zerolinecolor": "white"
           }
          },
          "shapedefaults": {
           "line": {
            "color": "#2a3f5f"
           }
          },
          "ternary": {
           "aaxis": {
            "gridcolor": "white",
            "linecolor": "white",
            "ticks": ""
           },
           "baxis": {
            "gridcolor": "white",
            "linecolor": "white",
            "ticks": ""
           },
           "bgcolor": "#E5ECF6",
           "caxis": {
            "gridcolor": "white",
            "linecolor": "white",
            "ticks": ""
           }
          },
          "title": {
           "x": 0.05
          },
          "xaxis": {
           "automargin": true,
           "gridcolor": "white",
           "linecolor": "white",
           "ticks": "",
           "title": {
            "standoff": 15
           },
           "zerolinecolor": "white",
           "zerolinewidth": 2
          },
          "yaxis": {
           "automargin": true,
           "gridcolor": "white",
           "linecolor": "white",
           "ticks": "",
           "title": {
            "standoff": 15
           },
           "zerolinecolor": "white",
           "zerolinewidth": 2
          }
         }
        },
        "width": 2000,
        "xaxis": {
         "anchor": "y",
         "domain": [
          0,
          0.45
         ]
        },
        "xaxis2": {
         "anchor": "y2",
         "domain": [
          0.55,
          1
         ]
        },
        "xaxis3": {
         "anchor": "y3",
         "domain": [
          0,
          0.45
         ]
        },
        "xaxis4": {
         "anchor": "y4",
         "domain": [
          0.55,
          1
         ]
        },
        "yaxis": {
         "anchor": "x",
         "domain": [
          0.575,
          1
         ]
        },
        "yaxis2": {
         "anchor": "x2",
         "domain": [
          0.575,
          1
         ]
        },
        "yaxis3": {
         "anchor": "x3",
         "domain": [
          0,
          0.425
         ]
        },
        "yaxis4": {
         "anchor": "x4",
         "domain": [
          0,
          0.425
         ]
        }
       }
      }
     },
     "metadata": {},
     "output_type": "display_data"
    },
    {
     "data": {
      "application/vnd.plotly.v1+json": {
       "config": {
        "plotlyServerURL": "https://plot.ly"
       },
       "data": [
        {
         "mode": "lines+markers",
         "name": "Channel 0 spectrum",
         "type": "scatter",
         "x": [
          0,
          1,
          2,
          3,
          4,
          5,
          6,
          7,
          8,
          9,
          10,
          11,
          12,
          13,
          14,
          15,
          16,
          17,
          18,
          19,
          20,
          21,
          22,
          23,
          24,
          25,
          26,
          27,
          28,
          29,
          30,
          31,
          32,
          33,
          34,
          35,
          36,
          37,
          38,
          39,
          40,
          41,
          42,
          43,
          44,
          45,
          46,
          47,
          48,
          49,
          50
         ],
         "xaxis": "x",
         "y": [
          936.78,
          75.80799080076126,
          70.13336941725795,
          53.826582909649545,
          39.16241294174543,
          16.522325295754694,
          16.799191086561837,
          28.12265703990925,
          63.140299793506244,
          33.18515925481442,
          56.43399409783147,
          57.34564534964259,
          24.864092008583114,
          87.23465406937815,
          40.99810402302419,
          23.806582064633798,
          58.96274966243377,
          76.75960671849782,
          77.09563081430501,
          53.149667703526255,
          57.549776809461825,
          146.86103712821352,
          28.466779408942035,
          7.568556291013278,
          14.144486278791838,
          46.00019565175783,
          20.829016891334128,
          96.06865542121066,
          71.8472388208775,
          66.17844517053555,
          54.39760573927792,
          75.99508874227085,
          32.0512283963617,
          71.71083395680094,
          68.5557720420763,
          64.43208479757229,
          57.46326141028457,
          76.21816004048465,
          77.34917865939443,
          37.124354645343075,
          62.28874689043862,
          87.24841365106452,
          25.016054173727188,
          36.593632542245494,
          61.25720941119565,
          42.430435607704695,
          21.989158426677637,
          28.487439721412407,
          95.61281011797313,
          49.77283828084605,
          73.54
         ],
         "yaxis": "y"
        },
        {
         "mode": "lines+markers",
         "name": "Channel 1 spectrum",
         "type": "scatter",
         "x": [
          0,
          1,
          2,
          3,
          4,
          5,
          6,
          7,
          8,
          9,
          10,
          11,
          12,
          13,
          14,
          15,
          16,
          17,
          18,
          19,
          20,
          21,
          22,
          23,
          24,
          25,
          26,
          27,
          28,
          29,
          30,
          31,
          32,
          33,
          34,
          35,
          36,
          37,
          38,
          39,
          40,
          41,
          42,
          43,
          44,
          45,
          46,
          47,
          48,
          49,
          50
         ],
         "xaxis": "x3",
         "y": [
          932.94,
          24.723047007663727,
          22.207868929078273,
          90.25523269599462,
          39.66112750064649,
          24.684897841217342,
          43.77834563963708,
          36.92016138107848,
          25.92076157560198,
          76.90647671148992,
          67.39599887943191,
          66.12199688038216,
          11.046512891624781,
          29.870369475041112,
          69.86038646106023,
          20.638048349710385,
          43.65696138001534,
          47.559492695917925,
          112.59225457819865,
          8.243622600792417,
          14.700055623594391,
          31.694441408607403,
          76.5477010896689,
          71.81432613632121,
          7.969220678143124,
          86.91158956088651,
          68.09033435450061,
          58.231877203838664,
          19.617363614509284,
          39.58513231550769,
          119.00867252029835,
          46.8206063191449,
          93.07224478216429,
          58.47198773574295,
          57.452221427839774,
          58.84380108053557,
          41.975791065637196,
          57.70601026337944,
          42.49853046548256,
          46.09654547064749,
          15.433326428972823,
          95.15610284005858,
          50.09942111302361,
          91.30366096222886,
          19.97846780372479,
          40.68507654261007,
          43.24144555856821,
          64.96424299884214,
          51.17635163974527,
          44.82991332021548,
          104.18
         ],
         "yaxis": "y3"
        },
        {
         "mode": "lines+markers",
         "name": "Channel 2 spectrum",
         "type": "scatter",
         "x": [
          0,
          1,
          2,
          3,
          4,
          5,
          6,
          7,
          8,
          9,
          10,
          11,
          12,
          13,
          14,
          15,
          16,
          17,
          18,
          19,
          20,
          21,
          22,
          23,
          24,
          25,
          26,
          27,
          28,
          29,
          30,
          31,
          32,
          33,
          34,
          35,
          36,
          37,
          38,
          39,
          40,
          41,
          42,
          43,
          44,
          45,
          46,
          47,
          48,
          49,
          50
         ],
         "xaxis": "x5",
         "y": [
          1013.68,
          99.953300882921,
          86.47141388458465,
          36.517103878435364,
          23.537115464806533,
          42.21150497593834,
          78.68034231164023,
          28.45703004065672,
          69.6409042282971,
          16.012990004091247,
          100.20157686522958,
          37.79255880939607,
          89.47787488947411,
          27.851382757884426,
          54.39235810488253,
          28.269296698882762,
          32.812108978570585,
          111.14554376720298,
          17.934879871939405,
          51.09475603706778,
          106.66028733749702,
          74.86536753705118,
          82.89093686292551,
          16.952241787803775,
          55.00538143348035,
          52.63569891243015,
          37.27044306082795,
          12.806282959425092,
          15.945069681009517,
          92.30741095242591,
          107.69779010602534,
          52.29627149069613,
          12.203636098654783,
          53.12092591044227,
          11.787619819204064,
          76.21109797721714,
          55.92059442799099,
          57.90432232092609,
          61.27298356684574,
          114.4582993980553,
          77.34265256042467,
          54.754233545207356,
          19.49333499169252,
          60.49442759241986,
          111.81622532340398,
          21.315709158362093,
          71.72628411569912,
          21.07494478931185,
          74.37615860573956,
          39.99429709224136,
          42.80000000000001
         ],
         "yaxis": "y5"
        },
        {
         "mode": "lines+markers",
         "name": "Channel 3 spectrum",
         "type": "scatter",
         "x": [
          0,
          1,
          2,
          3,
          4,
          5,
          6,
          7,
          8,
          9,
          10,
          11,
          12,
          13,
          14,
          15,
          16,
          17,
          18,
          19,
          20,
          21,
          22,
          23,
          24,
          25,
          26,
          27,
          28,
          29,
          30,
          31,
          32,
          33,
          34,
          35,
          36,
          37,
          38,
          39,
          40,
          41,
          42,
          43,
          44,
          45,
          46,
          47,
          48,
          49,
          50
         ],
         "xaxis": "x7",
         "y": [
          956.04,
          55.6820597144547,
          52.008873385168236,
          53.023831991828416,
          71.8547142092612,
          47.49419058993475,
          13.561351667653103,
          30.24015848102104,
          26.64039327375324,
          94.44432443402592,
          56.35988217136715,
          81.31131651895171,
          93.70787076178793,
          41.38913381815571,
          65.33692292140084,
          20.510160699201496,
          31.55434539007948,
          60.15448332247544,
          19.94400191408827,
          51.05536665618343,
          86.87108526487562,
          65.44571486942579,
          2.9870270491321445,
          44.79234217899664,
          56.33588096724646,
          33.81817262951975,
          26.29109926404002,
          22.966243442674145,
          31.80783298505756,
          50.54246422340177,
          43.86443755058999,
          16.026152031410625,
          86.85792770648408,
          90.94602289591225,
          55.8383556487718,
          30.832251764723566,
          86.97958561366309,
          70.41592959077312,
          48.90981890978691,
          27.604811238013646,
          48.39462516543248,
          85.7379637809828,
          14.574801224713035,
          54.32961177127815,
          64.28868877586945,
          111.841399398508,
          85.88541617629225,
          106.73977998783901,
          57.52598186341317,
          91.71295028423906,
          21.23999999999999
         ],
         "yaxis": "y7"
        },
        {
         "mode": "lines+markers",
         "name": "Channel 4 spectrum",
         "type": "scatter",
         "x": [
          0,
          1,
          2,
          3,
          4,
          5,
          6,
          7,
          8,
          9,
          10,
          11,
          12,
          13,
          14,
          15,
          16,
          17,
          18,
          19,
          20,
          21,
          22,
          23,
          24,
          25,
          26,
          27,
          28,
          29,
          30,
          31,
          32,
          33,
          34,
          35,
          36,
          37,
          38,
          39,
          40,
          41,
          42,
          43,
          44,
          45,
          46,
          47,
          48,
          49,
          50
         ],
         "xaxis": "x9",
         "y": [
          1022.82,
          15.176173672342411,
          91.19815693422017,
          103.94127279144844,
          33.206109984102206,
          83.85414227197928,
          46.31156915541204,
          43.96923105073896,
          18.8081920688357,
          71.39443356302195,
          36.792943228445004,
          55.36636979574152,
          28.196663402974895,
          73.2289723400446,
          46.09931726674426,
          25.84585703343451,
          78.74645688682155,
          17.69994270359251,
          63.66911501774854,
          34.501671357538605,
          82.36475367429499,
          56.5048966634764,
          42.25902787543586,
          80.11733703318397,
          83.81448720083932,
          23.795335677396956,
          50.70365291799345,
          30.618307792766917,
          108.5094016979751,
          83.00763422053255,
          7.628900876825104,
          118.47925256325082,
          20.35117095392611,
          70.60305342758653,
          56.416740771932865,
          60.092986623971,
          47.11568610073579,
          10.455083951217077,
          21.941681958207045,
          62.10402969189596,
          52.12055402787564,
          31.84528625484713,
          30.786150347931102,
          15.702282872046379,
          18.074354302147757,
          87.20258858915349,
          68.64013781038312,
          93.88947774130696,
          73.746152649247,
          2.917823884856187,
          9.58
         ],
         "yaxis": "y9"
        },
        {
         "mode": "lines+markers",
         "name": "Channel 5 spectrum",
         "type": "scatter",
         "x": [
          0,
          1,
          2,
          3,
          4,
          5,
          6,
          7,
          8,
          9,
          10,
          11,
          12,
          13,
          14,
          15,
          16,
          17,
          18,
          19,
          20,
          21,
          22,
          23,
          24,
          25,
          26,
          27,
          28,
          29,
          30,
          31,
          32,
          33,
          34,
          35,
          36,
          37,
          38,
          39,
          40,
          41,
          42,
          43,
          44,
          45,
          46,
          47,
          48,
          49,
          50
         ],
         "xaxis": "x11",
         "y": [
          965.72,
          77.4880425190322,
          44.464564718766766,
          22.42304498911757,
          53.320247645848255,
          49.83355028535789,
          14.756522381499371,
          47.23720240872912,
          33.64981736205249,
          57.63776090907534,
          97.94791911452258,
          79.35257589876089,
          51.77226965355806,
          41.01630681343123,
          16.100743414682952,
          40.12063665628207,
          48.511174390479475,
          36.61956533595134,
          63.03622720194381,
          34.75670620257001,
          51.363430196718284,
          26.812273465076615,
          17.474235079703124,
          116.15043100476534,
          27.168074242011958,
          79.3385656537853,
          50.033100890230344,
          92.12722992833267,
          60.08925698102773,
          38.41864685270047,
          90.89464858359347,
          94.77499837452888,
          11.737499429238524,
          34.66484432323738,
          21.25684837185531,
          42.59126322246503,
          36.373032039912836,
          49.453459252664196,
          16.68121045614668,
          73.7341473320401,
          56.15847966626988,
          77.56812816337884,
          116.57755429786246,
          81.53588582751715,
          68.71923177625149,
          59.0295186950224,
          74.31455460301372,
          65.56643999412913,
          74.43991406204165,
          57.04494697417473,
          43.00000000000002
         ],
         "yaxis": "y11"
        },
        {
         "mode": "lines+markers",
         "name": "Channel 6 spectrum",
         "type": "scatter",
         "x": [
          0,
          1,
          2,
          3,
          4,
          5,
          6,
          7,
          8,
          9,
          10,
          11,
          12,
          13,
          14,
          15,
          16,
          17,
          18,
          19,
          20,
          21,
          22,
          23,
          24,
          25,
          26,
          27,
          28,
          29,
          30,
          31,
          32,
          33,
          34,
          35,
          36,
          37,
          38,
          39,
          40,
          41,
          42,
          43,
          44,
          45,
          46,
          47,
          48,
          49,
          50
         ],
         "xaxis": "x13",
         "y": [
          1053.16,
          23.942223021712152,
          81.05861068336462,
          31.234008512413073,
          26.24778853084973,
          104.1653289554289,
          54.283473382941885,
          78.66461700568148,
          78.13163745005271,
          18.30233262890074,
          10.561210055497302,
          13.373357606368518,
          14.877186383571198,
          46.78979370896581,
          53.627540119915594,
          58.87001179063691,
          74.39928748357462,
          61.06888014179912,
          24.770774919888126,
          48.48164731685138,
          70.83452031990988,
          56.827837471949245,
          47.50275287809644,
          16.729255756761503,
          68.21497956467206,
          50.35061866551393,
          20.283630124178615,
          83.35057954823468,
          35.92455461291934,
          51.177378468611806,
          75.57580063858842,
          83.8980268160295,
          87.27347338649226,
          12.190074271225603,
          56.21130434089822,
          31.391633525478028,
          45.109941481391886,
          19.644857010925246,
          66.03621719065087,
          82.96299381330483,
          50.02925075441638,
          115.54876676508002,
          62.03234242732116,
          97.53430871983494,
          34.20038469861128,
          5.369776529767223,
          48.62065812525516,
          73.91891247174348,
          15.423320711914812,
          56.876156975767536,
          37.67999999999999
         ],
         "yaxis": "y13"
        },
        {
         "mode": "lines+markers",
         "name": "Channel 7 spectrum",
         "type": "scatter",
         "x": [
          0,
          1,
          2,
          3,
          4,
          5,
          6,
          7,
          8,
          9,
          10,
          11,
          12,
          13,
          14,
          15,
          16,
          17,
          18,
          19,
          20,
          21,
          22,
          23,
          24,
          25,
          26,
          27,
          28,
          29,
          30,
          31,
          32,
          33,
          34,
          35,
          36,
          37,
          38,
          39,
          40,
          41,
          42,
          43,
          44,
          45,
          46,
          47,
          48,
          49,
          50
         ],
         "xaxis": "x15",
         "y": [
          1130,
          58.2819027942676,
          73.18080868098593,
          77.36009406392527,
          18.08089050302709,
          32.37485935383614,
          50.11726022835319,
          82.3413337292624,
          47.90824191836253,
          52.34509678473839,
          53.45338325997814,
          16.133039292977625,
          27.96908142916324,
          30.566995189800238,
          101.66381235595834,
          44.28948563572868,
          20.45486459476127,
          47.93221480442921,
          58.02805401847799,
          16.736234337532007,
          113.94223769029955,
          35.98633803350661,
          70.55803358945275,
          63.424510073253394,
          53.11006312787513,
          64.54292215262646,
          8.842977935096329,
          68.54135017636591,
          57.63163402922669,
          79.99168392859107,
          72.75332994483408,
          4.473786978665967,
          45.68063506673614,
          17.007329522043346,
          75.46792946235159,
          41.65283164610391,
          109.22035413740863,
          90.52733053430212,
          48.6788791745837,
          65.14255962059761,
          58.45297657200425,
          32.83765585018775,
          44.73552447238768,
          32.65869388071914,
          25.79893748725064,
          45.84468082344163,
          59.94764803111814,
          54.47109546093832,
          73.65454061719525,
          22.567594455343603,
          65.76000000000002
         ],
         "yaxis": "y15"
        },
        {
         "name": "Channel 0 frequency bins",
         "type": "bar",
         "x": [
          "0-1 Hz",
          "1-4 Hz",
          "4-8 Hz",
          "8-12 Hz",
          "12-30 Hz"
         ],
         "xaxis": "x2",
         "y": [
          0.9717173,
          0.55864614,
          0.3060067,
          0.38727912,
          0.5038563
         ],
         "yaxis": "y2"
        },
        {
         "name": "Channel 1 frequency bins",
         "type": "bar",
         "x": [
          "0-1 Hz",
          "1-4 Hz",
          "4-8 Hz",
          "8-12 Hz",
          "12-30 Hz"
         ],
         "xaxis": "x4",
         "y": [
          0.07130183,
          0.7889457,
          0.6171358,
          0.7309326,
          0.47318015
         ],
         "yaxis": "y4"
        },
        {
         "name": "Channel 2 frequency bins",
         "type": "bar",
         "x": [
          "0-1 Hz",
          "1-4 Hz",
          "4-8 Hz",
          "8-12 Hz",
          "12-30 Hz"
         ],
         "xaxis": "x6",
         "y": [
          0.9263564,
          0.49126855,
          0.86511403,
          0.7422276,
          0.32534134
         ],
         "yaxis": "y6"
        },
        {
         "name": "Channel 3 frequency bins",
         "type": "bar",
         "x": [
          "0-1 Hz",
          "1-4 Hz",
          "4-8 Hz",
          "8-12 Hz",
          "12-30 Hz"
         ],
         "xaxis": "x8",
         "y": [
          0.38543975,
          0.32802296,
          0.6493937,
          0.25070766,
          0.48366722
         ],
         "yaxis": "y8"
        },
        {
         "name": "Channel 4 frequency bins",
         "type": "bar",
         "x": [
          "0-1 Hz",
          "1-4 Hz",
          "4-8 Hz",
          "8-12 Hz",
          "12-30 Hz"
         ],
         "xaxis": "x10",
         "y": [
          0.5963906,
          0.41586995,
          0.36357924,
          0.3253478,
          0.5718068
         ],
         "yaxis": "y10"
        },
        {
         "name": "Channel 5 frequency bins",
         "type": "bar",
         "x": [
          "0-1 Hz",
          "1-4 Hz",
          "4-8 Hz",
          "8-12 Hz",
          "12-30 Hz"
         ],
         "xaxis": "x12",
         "y": [
          0.39124456,
          0.3951926,
          0.69248253,
          0.2862288,
          0.4915465
         ],
         "yaxis": "y12"
        },
        {
         "name": "Channel 6 frequency bins",
         "type": "bar",
         "x": [
          "0-1 Hz",
          "1-4 Hz",
          "4-8 Hz",
          "8-12 Hz",
          "12-30 Hz"
         ],
         "xaxis": "x14",
         "y": [
          0.699211,
          0.53306794,
          0.7125478,
          0.5849794,
          0.49811363
         ],
         "yaxis": "y14"
        },
        {
         "name": "Channel 7 frequency bins",
         "type": "bar",
         "x": [
          "0-1 Hz",
          "1-4 Hz",
          "4-8 Hz",
          "8-12 Hz",
          "12-30 Hz"
         ],
         "xaxis": "x16",
         "y": [
          0.12566681,
          0.14984359,
          0.564081,
          0.535434,
          0.5513272
         ],
         "yaxis": "y16"
        }
       ],
       "layout": {
        "height": 1500,
        "template": {
         "data": {
          "bar": [
           {
            "error_x": {
             "color": "#2a3f5f"
            },
            "error_y": {
             "color": "#2a3f5f"
            },
            "marker": {
             "line": {
              "color": "#E5ECF6",
              "width": 0.5
             },
             "pattern": {
              "fillmode": "overlay",
              "size": 10,
              "solidity": 0.2
             }
            },
            "type": "bar"
           }
          ],
          "barpolar": [
           {
            "marker": {
             "line": {
              "color": "#E5ECF6",
              "width": 0.5
             },
             "pattern": {
              "fillmode": "overlay",
              "size": 10,
              "solidity": 0.2
             }
            },
            "type": "barpolar"
           }
          ],
          "carpet": [
           {
            "aaxis": {
             "endlinecolor": "#2a3f5f",
             "gridcolor": "white",
             "linecolor": "white",
             "minorgridcolor": "white",
             "startlinecolor": "#2a3f5f"
            },
            "baxis": {
             "endlinecolor": "#2a3f5f",
             "gridcolor": "white",
             "linecolor": "white",
             "minorgridcolor": "white",
             "startlinecolor": "#2a3f5f"
            },
            "type": "carpet"
           }
          ],
          "choropleth": [
           {
            "colorbar": {
             "outlinewidth": 0,
             "ticks": ""
            },
            "type": "choropleth"
           }
          ],
          "contour": [
           {
            "colorbar": {
             "outlinewidth": 0,
             "ticks": ""
            },
            "colorscale": [
             [
              0,
              "#0d0887"
             ],
             [
              0.1111111111111111,
              "#46039f"
             ],
             [
              0.2222222222222222,
              "#7201a8"
             ],
             [
              0.3333333333333333,
              "#9c179e"
             ],
             [
              0.4444444444444444,
              "#bd3786"
             ],
             [
              0.5555555555555556,
              "#d8576b"
             ],
             [
              0.6666666666666666,
              "#ed7953"
             ],
             [
              0.7777777777777778,
              "#fb9f3a"
             ],
             [
              0.8888888888888888,
              "#fdca26"
             ],
             [
              1,
              "#f0f921"
             ]
            ],
            "type": "contour"
           }
          ],
          "contourcarpet": [
           {
            "colorbar": {
             "outlinewidth": 0,
             "ticks": ""
            },
            "type": "contourcarpet"
           }
          ],
          "heatmap": [
           {
            "colorbar": {
             "outlinewidth": 0,
             "ticks": ""
            },
            "colorscale": [
             [
              0,
              "#0d0887"
             ],
             [
              0.1111111111111111,
              "#46039f"
             ],
             [
              0.2222222222222222,
              "#7201a8"
             ],
             [
              0.3333333333333333,
              "#9c179e"
             ],
             [
              0.4444444444444444,
              "#bd3786"
             ],
             [
              0.5555555555555556,
              "#d8576b"
             ],
             [
              0.6666666666666666,
              "#ed7953"
             ],
             [
              0.7777777777777778,
              "#fb9f3a"
             ],
             [
              0.8888888888888888,
              "#fdca26"
             ],
             [
              1,
              "#f0f921"
             ]
            ],
            "type": "heatmap"
           }
          ],
          "heatmapgl": [
           {
            "colorbar": {
             "outlinewidth": 0,
             "ticks": ""
            },
            "colorscale": [
             [
              0,
              "#0d0887"
             ],
             [
              0.1111111111111111,
              "#46039f"
             ],
             [
              0.2222222222222222,
              "#7201a8"
             ],
             [
              0.3333333333333333,
              "#9c179e"
             ],
             [
              0.4444444444444444,
              "#bd3786"
             ],
             [
              0.5555555555555556,
              "#d8576b"
             ],
             [
              0.6666666666666666,
              "#ed7953"
             ],
             [
              0.7777777777777778,
              "#fb9f3a"
             ],
             [
              0.8888888888888888,
              "#fdca26"
             ],
             [
              1,
              "#f0f921"
             ]
            ],
            "type": "heatmapgl"
           }
          ],
          "histogram": [
           {
            "marker": {
             "pattern": {
              "fillmode": "overlay",
              "size": 10,
              "solidity": 0.2
             }
            },
            "type": "histogram"
           }
          ],
          "histogram2d": [
           {
            "colorbar": {
             "outlinewidth": 0,
             "ticks": ""
            },
            "colorscale": [
             [
              0,
              "#0d0887"
             ],
             [
              0.1111111111111111,
              "#46039f"
             ],
             [
              0.2222222222222222,
              "#7201a8"
             ],
             [
              0.3333333333333333,
              "#9c179e"
             ],
             [
              0.4444444444444444,
              "#bd3786"
             ],
             [
              0.5555555555555556,
              "#d8576b"
             ],
             [
              0.6666666666666666,
              "#ed7953"
             ],
             [
              0.7777777777777778,
              "#fb9f3a"
             ],
             [
              0.8888888888888888,
              "#fdca26"
             ],
             [
              1,
              "#f0f921"
             ]
            ],
            "type": "histogram2d"
           }
          ],
          "histogram2dcontour": [
           {
            "colorbar": {
             "outlinewidth": 0,
             "ticks": ""
            },
            "colorscale": [
             [
              0,
              "#0d0887"
             ],
             [
              0.1111111111111111,
              "#46039f"
             ],
             [
              0.2222222222222222,
              "#7201a8"
             ],
             [
              0.3333333333333333,
              "#9c179e"
             ],
             [
              0.4444444444444444,
              "#bd3786"
             ],
             [
              0.5555555555555556,
              "#d8576b"
             ],
             [
              0.6666666666666666,
              "#ed7953"
             ],
             [
              0.7777777777777778,
              "#fb9f3a"
             ],
             [
              0.8888888888888888,
              "#fdca26"
             ],
             [
              1,
              "#f0f921"
             ]
            ],
            "type": "histogram2dcontour"
           }
          ],
          "mesh3d": [
           {
            "colorbar": {
             "outlinewidth": 0,
             "ticks": ""
            },
            "type": "mesh3d"
           }
          ],
          "parcoords": [
           {
            "line": {
             "colorbar": {
              "outlinewidth": 0,
              "ticks": ""
             }
            },
            "type": "parcoords"
           }
          ],
          "pie": [
           {
            "automargin": true,
            "type": "pie"
           }
          ],
          "scatter": [
           {
            "fillpattern": {
             "fillmode": "overlay",
             "size": 10,
             "solidity": 0.2
            },
            "type": "scatter"
           }
          ],
          "scatter3d": [
           {
            "line": {
             "colorbar": {
              "outlinewidth": 0,
              "ticks": ""
             }
            },
            "marker": {
             "colorbar": {
              "outlinewidth": 0,
              "ticks": ""
             }
            },
            "type": "scatter3d"
           }
          ],
          "scattercarpet": [
           {
            "marker": {
             "colorbar": {
              "outlinewidth": 0,
              "ticks": ""
             }
            },
            "type": "scattercarpet"
           }
          ],
          "scattergeo": [
           {
            "marker": {
             "colorbar": {
              "outlinewidth": 0,
              "ticks": ""
             }
            },
            "type": "scattergeo"
           }
          ],
          "scattergl": [
           {
            "marker": {
             "colorbar": {
              "outlinewidth": 0,
              "ticks": ""
             }
            },
            "type": "scattergl"
           }
          ],
          "scattermapbox": [
           {
            "marker": {
             "colorbar": {
              "outlinewidth": 0,
              "ticks": ""
             }
            },
            "type": "scattermapbox"
           }
          ],
          "scatterpolar": [
           {
            "marker": {
             "colorbar": {
              "outlinewidth": 0,
              "ticks": ""
             }
            },
            "type": "scatterpolar"
           }
          ],
          "scatterpolargl": [
           {
            "marker": {
             "colorbar": {
              "outlinewidth": 0,
              "ticks": ""
             }
            },
            "type": "scatterpolargl"
           }
          ],
          "scatterternary": [
           {
            "marker": {
             "colorbar": {
              "outlinewidth": 0,
              "ticks": ""
             }
            },
            "type": "scatterternary"
           }
          ],
          "surface": [
           {
            "colorbar": {
             "outlinewidth": 0,
             "ticks": ""
            },
            "colorscale": [
             [
              0,
              "#0d0887"
             ],
             [
              0.1111111111111111,
              "#46039f"
             ],
             [
              0.2222222222222222,
              "#7201a8"
             ],
             [
              0.3333333333333333,
              "#9c179e"
             ],
             [
              0.4444444444444444,
              "#bd3786"
             ],
             [
              0.5555555555555556,
              "#d8576b"
             ],
             [
              0.6666666666666666,
              "#ed7953"
             ],
             [
              0.7777777777777778,
              "#fb9f3a"
             ],
             [
              0.8888888888888888,
              "#fdca26"
             ],
             [
              1,
              "#f0f921"
             ]
            ],
            "type": "surface"
           }
          ],
          "table": [
           {
            "cells": {
             "fill": {
              "color": "#EBF0F8"
             },
             "line": {
              "color": "white"
             }
            },
            "header": {
             "fill": {
              "color": "#C8D4E3"
             },
             "line": {
              "color": "white"
             }
            },
            "type": "table"
           }
          ]
         },
         "layout": {
          "annotationdefaults": {
           "arrowcolor": "#2a3f5f",
           "arrowhead": 0,
           "arrowwidth": 1
          },
          "autotypenumbers": "strict",
          "coloraxis": {
           "colorbar": {
            "outlinewidth": 0,
            "ticks": ""
           }
          },
          "colorscale": {
           "diverging": [
            [
             0,
             "#8e0152"
            ],
            [
             0.1,
             "#c51b7d"
            ],
            [
             0.2,
             "#de77ae"
            ],
            [
             0.3,
             "#f1b6da"
            ],
            [
             0.4,
             "#fde0ef"
            ],
            [
             0.5,
             "#f7f7f7"
            ],
            [
             0.6,
             "#e6f5d0"
            ],
            [
             0.7,
             "#b8e186"
            ],
            [
             0.8,
             "#7fbc41"
            ],
            [
             0.9,
             "#4d9221"
            ],
            [
             1,
             "#276419"
            ]
           ],
           "sequential": [
            [
             0,
             "#0d0887"
            ],
            [
             0.1111111111111111,
             "#46039f"
            ],
            [
             0.2222222222222222,
             "#7201a8"
            ],
            [
             0.3333333333333333,
             "#9c179e"
            ],
            [
             0.4444444444444444,
             "#bd3786"
            ],
            [
             0.5555555555555556,
             "#d8576b"
            ],
            [
             0.6666666666666666,
             "#ed7953"
            ],
            [
             0.7777777777777778,
             "#fb9f3a"
            ],
            [
             0.8888888888888888,
             "#fdca26"
            ],
            [
             1,
             "#f0f921"
            ]
           ],
           "sequentialminus": [
            [
             0,
             "#0d0887"
            ],
            [
             0.1111111111111111,
             "#46039f"
            ],
            [
             0.2222222222222222,
             "#7201a8"
            ],
            [
             0.3333333333333333,
             "#9c179e"
            ],
            [
             0.4444444444444444,
             "#bd3786"
            ],
            [
             0.5555555555555556,
             "#d8576b"
            ],
            [
             0.6666666666666666,
             "#ed7953"
            ],
            [
             0.7777777777777778,
             "#fb9f3a"
            ],
            [
             0.8888888888888888,
             "#fdca26"
            ],
            [
             1,
             "#f0f921"
            ]
           ]
          },
          "colorway": [
           "#636efa",
           "#EF553B",
           "#00cc96",
           "#ab63fa",
           "#FFA15A",
           "#19d3f3",
           "#FF6692",
           "#B6E880",
           "#FF97FF",
           "#FECB52"
          ],
          "font": {
           "color": "#2a3f5f"
          },
          "geo": {
           "bgcolor": "white",
           "lakecolor": "white",
           "landcolor": "#E5ECF6",
           "showlakes": true,
           "showland": true,
           "subunitcolor": "white"
          },
          "hoverlabel": {
           "align": "left"
          },
          "hovermode": "closest",
          "mapbox": {
           "style": "light"
          },
          "paper_bgcolor": "white",
          "plot_bgcolor": "#E5ECF6",
          "polar": {
           "angularaxis": {
            "gridcolor": "white",
            "linecolor": "white",
            "ticks": ""
           },
           "bgcolor": "#E5ECF6",
           "radialaxis": {
            "gridcolor": "white",
            "linecolor": "white",
            "ticks": ""
           }
          },
          "scene": {
           "xaxis": {
            "backgroundcolor": "#E5ECF6",
            "gridcolor": "white",
            "gridwidth": 2,
            "linecolor": "white",
            "showbackground": true,
            "ticks": "",
            "zerolinecolor": "white"
           },
           "yaxis": {
            "backgroundcolor": "#E5ECF6",
            "gridcolor": "white",
            "gridwidth": 2,
            "linecolor": "white",
            "showbackground": true,
            "ticks": "",
            "zerolinecolor": "white"
           },
           "zaxis": {
            "backgroundcolor": "#E5ECF6",
            "gridcolor": "white",
            "gridwidth": 2,
            "linecolor": "white",
            "showbackground": true,
            "ticks": "",
            "zerolinecolor": "white"
           }
          },
          "shapedefaults": {
           "line": {
            "color": "#2a3f5f"
           }
          },
          "ternary": {
           "aaxis": {
            "gridcolor": "white",
            "linecolor": "white",
            "ticks": ""
           },
           "baxis": {
            "gridcolor": "white",
            "linecolor": "white",
            "ticks": ""
           },
           "bgcolor": "#E5ECF6",
           "caxis": {
            "gridcolor": "white",
            "linecolor": "white",
            "ticks": ""
           }
          },
          "title": {
           "x": 0.05
          },
          "xaxis": {
           "automargin": true,
           "gridcolor": "white",
           "linecolor": "white",
           "ticks": "",
           "title": {
            "standoff": 15
           },
           "zerolinecolor": "white",
           "zerolinewidth": 2
          },
          "yaxis": {
           "automargin": true,
           "gridcolor": "white",
           "linecolor": "white",
           "ticks": "",
           "title": {
            "standoff": 15
           },
           "zerolinecolor": "white",
           "zerolinewidth": 2
          }
         }
        },
        "width": 2000,
        "xaxis": {
         "anchor": "y",
         "domain": [
          0,
          0.45
         ]
        },
        "xaxis10": {
         "anchor": "y10",
         "domain": [
          0.55,
          1
         ]
        },
        "xaxis11": {
         "anchor": "y11",
         "domain": [
          0,
          0.45
         ]
        },
        "xaxis12": {
         "anchor": "y12",
         "domain": [
          0.55,
          1
         ]
        },
        "xaxis13": {
         "anchor": "y13",
         "domain": [
          0,
          0.45
         ]
        },
        "xaxis14": {
         "anchor": "y14",
         "domain": [
          0.55,
          1
         ]
        },
        "xaxis15": {
         "anchor": "y15",
         "domain": [
          0,
          0.45
         ]
        },
        "xaxis16": {
         "anchor": "y16",
         "domain": [
          0.55,
          1
         ]
        },
        "xaxis2": {
         "anchor": "y2",
         "domain": [
          0.55,
          1
         ]
        },
        "xaxis3": {
         "anchor": "y3",
         "domain": [
          0,
          0.45
         ]
        },
        "xaxis4": {
         "anchor": "y4",
         "domain": [
          0.55,
          1
         ]
        },
        "xaxis5": {
         "anchor": "y5",
         "domain": [
          0,
          0.45
         ]
        },
        "xaxis6": {
         "anchor": "y6",
         "domain": [
          0.55,
          1
         ]
        },
        "xaxis7": {
         "anchor": "y7",
         "domain": [
          0,
          0.45
         ]
        },
        "xaxis8": {
         "anchor": "y8",
         "domain": [
          0.55,
          1
         ]
        },
        "xaxis9": {
         "anchor": "y9",
         "domain": [
          0,
          0.45
         ]
        },
        "yaxis": {
         "anchor": "x",
         "domain": [
          0.9078124999999999,
          0.9999999999999999
         ]
        },
        "yaxis10": {
         "anchor": "x10",
         "domain": [
          0.38906250000000003,
          0.48125000000000007
         ]
        },
        "yaxis11": {
         "anchor": "x11",
         "domain": [
          0.259375,
          0.3515625
         ]
        },
        "yaxis12": {
         "anchor": "x12",
         "domain": [
          0.259375,
          0.3515625
         ]
        },
        "yaxis13": {
         "anchor": "x13",
         "domain": [
          0.1296875,
          0.22187500000000002
         ]
        },
        "yaxis14": {
         "anchor": "x14",
         "domain": [
          0.1296875,
          0.22187500000000002
         ]
        },
        "yaxis15": {
         "anchor": "x15",
         "domain": [
          0,
          0.0921875
         ]
        },
        "yaxis16": {
         "anchor": "x16",
         "domain": [
          0,
          0.0921875
         ]
        },
        "yaxis2": {
         "anchor": "x2",
         "domain": [
          0.9078124999999999,
          0.9999999999999999
         ]
        },
        "yaxis3": {
         "anchor": "x3",
         "domain": [
          0.778125,
          0.8703124999999999
         ]
        },
        "yaxis4": {
         "anchor": "x4",
         "domain": [
          0.778125,
          0.8703124999999999
         ]
        },
        "yaxis5": {
         "anchor": "x5",
         "domain": [
          0.6484375,
          0.740625
         ]
        },
        "yaxis6": {
         "anchor": "x6",
         "domain": [
          0.6484375,
          0.740625
         ]
        },
        "yaxis7": {
         "anchor": "x7",
         "domain": [
          0.51875,
          0.6109375
         ]
        },
        "yaxis8": {
         "anchor": "x8",
         "domain": [
          0.51875,
          0.6109375
         ]
        },
        "yaxis9": {
         "anchor": "x9",
         "domain": [
          0.38906250000000003,
          0.48125000000000007
         ]
        }
       }
      }
     },
     "metadata": {},
     "output_type": "display_data"
    },
    {
     "data": {
      "text/plain": [
       "<stable_baselines3.a2c.a2c.A2C at 0x7ef814530940>"
      ]
     },
     "execution_count": 15,
     "metadata": {},
     "output_type": "execute_result"
    }
   ],
   "source": [
    "env=FlattenObservation(env)\n",
    "env=FlattenActionSpaceWrapper(env)\n",
    "model=A2C('MlpPolicy', env,  verbose=1, n_steps=1)\n",
    "model.learn(total_timesteps=1)"
   ]
  },
  {
   "cell_type": "code",
   "execution_count": 11,
   "metadata": {},
   "outputs": [],
   "source": [
    "env.close()"
   ]
  },
  {
   "cell_type": "code",
   "execution_count": 12,
   "metadata": {},
   "outputs": [
    {
     "name": "stderr",
     "output_type": "stream",
     "text": [
      "/home/biorp/.local/lib/python3.10/site-packages/stable_baselines3/common/vec_env/patch_gym.py:49: UserWarning:\n",
      "\n",
      "You provided an OpenAI Gym environment. We strongly recommend transitioning to Gymnasium environments. Stable-Baselines3 is automatically wrapping your environments in a compatibility layer, which could potentially cause issues.\n",
      "\n"
     ]
    }
   ],
   "source": [
    "trainer=stable_baselines_model_trainer(initialized_environment=env)"
   ]
  },
  {
   "cell_type": "code",
   "execution_count": 19,
   "metadata": {},
   "outputs": [
    {
     "data": {
      "application/vnd.plotly.v1+json": {
       "config": {
        "plotlyServerURL": "https://plot.ly"
       },
       "data": [
        {
         "mode": "lines+markers",
         "name": "Current episode rewards",
         "type": "scatter",
         "x": [
          0
         ],
         "xaxis": "x",
         "y": [
          6.363196849822998
         ],
         "yaxis": "y"
        },
        {
         "mode": "lines+markers",
         "name": "Previous episode max rewards",
         "type": "scatter",
         "x": [
          0,
          1,
          2,
          3,
          4,
          5,
          6,
          7,
          8,
          9
         ],
         "xaxis": "x2",
         "y": [
          0,
          8.33330249786377,
          0,
          1.6548852920532227,
          0,
          0,
          4.966546058654785,
          0,
          7.884133815765381,
          0
         ],
         "yaxis": "y2"
        },
        {
         "mode": "lines+markers",
         "name": "Previous episode total rewards",
         "type": "scatter",
         "x": [
          0,
          1,
          2,
          3
         ],
         "xaxis": "x3",
         "y": [
          9.952477812767029,
          2.466761350631714,
          6.903897285461426,
          8.824614465236664
         ],
         "yaxis": "y3"
        }
       ],
       "layout": {
        "height": 500,
        "template": {
         "data": {
          "bar": [
           {
            "error_x": {
             "color": "#2a3f5f"
            },
            "error_y": {
             "color": "#2a3f5f"
            },
            "marker": {
             "line": {
              "color": "#E5ECF6",
              "width": 0.5
             },
             "pattern": {
              "fillmode": "overlay",
              "size": 10,
              "solidity": 0.2
             }
            },
            "type": "bar"
           }
          ],
          "barpolar": [
           {
            "marker": {
             "line": {
              "color": "#E5ECF6",
              "width": 0.5
             },
             "pattern": {
              "fillmode": "overlay",
              "size": 10,
              "solidity": 0.2
             }
            },
            "type": "barpolar"
           }
          ],
          "carpet": [
           {
            "aaxis": {
             "endlinecolor": "#2a3f5f",
             "gridcolor": "white",
             "linecolor": "white",
             "minorgridcolor": "white",
             "startlinecolor": "#2a3f5f"
            },
            "baxis": {
             "endlinecolor": "#2a3f5f",
             "gridcolor": "white",
             "linecolor": "white",
             "minorgridcolor": "white",
             "startlinecolor": "#2a3f5f"
            },
            "type": "carpet"
           }
          ],
          "choropleth": [
           {
            "colorbar": {
             "outlinewidth": 0,
             "ticks": ""
            },
            "type": "choropleth"
           }
          ],
          "contour": [
           {
            "colorbar": {
             "outlinewidth": 0,
             "ticks": ""
            },
            "colorscale": [
             [
              0,
              "#0d0887"
             ],
             [
              0.1111111111111111,
              "#46039f"
             ],
             [
              0.2222222222222222,
              "#7201a8"
             ],
             [
              0.3333333333333333,
              "#9c179e"
             ],
             [
              0.4444444444444444,
              "#bd3786"
             ],
             [
              0.5555555555555556,
              "#d8576b"
             ],
             [
              0.6666666666666666,
              "#ed7953"
             ],
             [
              0.7777777777777778,
              "#fb9f3a"
             ],
             [
              0.8888888888888888,
              "#fdca26"
             ],
             [
              1,
              "#f0f921"
             ]
            ],
            "type": "contour"
           }
          ],
          "contourcarpet": [
           {
            "colorbar": {
             "outlinewidth": 0,
             "ticks": ""
            },
            "type": "contourcarpet"
           }
          ],
          "heatmap": [
           {
            "colorbar": {
             "outlinewidth": 0,
             "ticks": ""
            },
            "colorscale": [
             [
              0,
              "#0d0887"
             ],
             [
              0.1111111111111111,
              "#46039f"
             ],
             [
              0.2222222222222222,
              "#7201a8"
             ],
             [
              0.3333333333333333,
              "#9c179e"
             ],
             [
              0.4444444444444444,
              "#bd3786"
             ],
             [
              0.5555555555555556,
              "#d8576b"
             ],
             [
              0.6666666666666666,
              "#ed7953"
             ],
             [
              0.7777777777777778,
              "#fb9f3a"
             ],
             [
              0.8888888888888888,
              "#fdca26"
             ],
             [
              1,
              "#f0f921"
             ]
            ],
            "type": "heatmap"
           }
          ],
          "heatmapgl": [
           {
            "colorbar": {
             "outlinewidth": 0,
             "ticks": ""
            },
            "colorscale": [
             [
              0,
              "#0d0887"
             ],
             [
              0.1111111111111111,
              "#46039f"
             ],
             [
              0.2222222222222222,
              "#7201a8"
             ],
             [
              0.3333333333333333,
              "#9c179e"
             ],
             [
              0.4444444444444444,
              "#bd3786"
             ],
             [
              0.5555555555555556,
              "#d8576b"
             ],
             [
              0.6666666666666666,
              "#ed7953"
             ],
             [
              0.7777777777777778,
              "#fb9f3a"
             ],
             [
              0.8888888888888888,
              "#fdca26"
             ],
             [
              1,
              "#f0f921"
             ]
            ],
            "type": "heatmapgl"
           }
          ],
          "histogram": [
           {
            "marker": {
             "pattern": {
              "fillmode": "overlay",
              "size": 10,
              "solidity": 0.2
             }
            },
            "type": "histogram"
           }
          ],
          "histogram2d": [
           {
            "colorbar": {
             "outlinewidth": 0,
             "ticks": ""
            },
            "colorscale": [
             [
              0,
              "#0d0887"
             ],
             [
              0.1111111111111111,
              "#46039f"
             ],
             [
              0.2222222222222222,
              "#7201a8"
             ],
             [
              0.3333333333333333,
              "#9c179e"
             ],
             [
              0.4444444444444444,
              "#bd3786"
             ],
             [
              0.5555555555555556,
              "#d8576b"
             ],
             [
              0.6666666666666666,
              "#ed7953"
             ],
             [
              0.7777777777777778,
              "#fb9f3a"
             ],
             [
              0.8888888888888888,
              "#fdca26"
             ],
             [
              1,
              "#f0f921"
             ]
            ],
            "type": "histogram2d"
           }
          ],
          "histogram2dcontour": [
           {
            "colorbar": {
             "outlinewidth": 0,
             "ticks": ""
            },
            "colorscale": [
             [
              0,
              "#0d0887"
             ],
             [
              0.1111111111111111,
              "#46039f"
             ],
             [
              0.2222222222222222,
              "#7201a8"
             ],
             [
              0.3333333333333333,
              "#9c179e"
             ],
             [
              0.4444444444444444,
              "#bd3786"
             ],
             [
              0.5555555555555556,
              "#d8576b"
             ],
             [
              0.6666666666666666,
              "#ed7953"
             ],
             [
              0.7777777777777778,
              "#fb9f3a"
             ],
             [
              0.8888888888888888,
              "#fdca26"
             ],
             [
              1,
              "#f0f921"
             ]
            ],
            "type": "histogram2dcontour"
           }
          ],
          "mesh3d": [
           {
            "colorbar": {
             "outlinewidth": 0,
             "ticks": ""
            },
            "type": "mesh3d"
           }
          ],
          "parcoords": [
           {
            "line": {
             "colorbar": {
              "outlinewidth": 0,
              "ticks": ""
             }
            },
            "type": "parcoords"
           }
          ],
          "pie": [
           {
            "automargin": true,
            "type": "pie"
           }
          ],
          "scatter": [
           {
            "fillpattern": {
             "fillmode": "overlay",
             "size": 10,
             "solidity": 0.2
            },
            "type": "scatter"
           }
          ],
          "scatter3d": [
           {
            "line": {
             "colorbar": {
              "outlinewidth": 0,
              "ticks": ""
             }
            },
            "marker": {
             "colorbar": {
              "outlinewidth": 0,
              "ticks": ""
             }
            },
            "type": "scatter3d"
           }
          ],
          "scattercarpet": [
           {
            "marker": {
             "colorbar": {
              "outlinewidth": 0,
              "ticks": ""
             }
            },
            "type": "scattercarpet"
           }
          ],
          "scattergeo": [
           {
            "marker": {
             "colorbar": {
              "outlinewidth": 0,
              "ticks": ""
             }
            },
            "type": "scattergeo"
           }
          ],
          "scattergl": [
           {
            "marker": {
             "colorbar": {
              "outlinewidth": 0,
              "ticks": ""
             }
            },
            "type": "scattergl"
           }
          ],
          "scattermapbox": [
           {
            "marker": {
             "colorbar": {
              "outlinewidth": 0,
              "ticks": ""
             }
            },
            "type": "scattermapbox"
           }
          ],
          "scatterpolar": [
           {
            "marker": {
             "colorbar": {
              "outlinewidth": 0,
              "ticks": ""
             }
            },
            "type": "scatterpolar"
           }
          ],
          "scatterpolargl": [
           {
            "marker": {
             "colorbar": {
              "outlinewidth": 0,
              "ticks": ""
             }
            },
            "type": "scatterpolargl"
           }
          ],
          "scatterternary": [
           {
            "marker": {
             "colorbar": {
              "outlinewidth": 0,
              "ticks": ""
             }
            },
            "type": "scatterternary"
           }
          ],
          "surface": [
           {
            "colorbar": {
             "outlinewidth": 0,
             "ticks": ""
            },
            "colorscale": [
             [
              0,
              "#0d0887"
             ],
             [
              0.1111111111111111,
              "#46039f"
             ],
             [
              0.2222222222222222,
              "#7201a8"
             ],
             [
              0.3333333333333333,
              "#9c179e"
             ],
             [
              0.4444444444444444,
              "#bd3786"
             ],
             [
              0.5555555555555556,
              "#d8576b"
             ],
             [
              0.6666666666666666,
              "#ed7953"
             ],
             [
              0.7777777777777778,
              "#fb9f3a"
             ],
             [
              0.8888888888888888,
              "#fdca26"
             ],
             [
              1,
              "#f0f921"
             ]
            ],
            "type": "surface"
           }
          ],
          "table": [
           {
            "cells": {
             "fill": {
              "color": "#EBF0F8"
             },
             "line": {
              "color": "white"
             }
            },
            "header": {
             "fill": {
              "color": "#C8D4E3"
             },
             "line": {
              "color": "white"
             }
            },
            "type": "table"
           }
          ]
         },
         "layout": {
          "annotationdefaults": {
           "arrowcolor": "#2a3f5f",
           "arrowhead": 0,
           "arrowwidth": 1
          },
          "autotypenumbers": "strict",
          "coloraxis": {
           "colorbar": {
            "outlinewidth": 0,
            "ticks": ""
           }
          },
          "colorscale": {
           "diverging": [
            [
             0,
             "#8e0152"
            ],
            [
             0.1,
             "#c51b7d"
            ],
            [
             0.2,
             "#de77ae"
            ],
            [
             0.3,
             "#f1b6da"
            ],
            [
             0.4,
             "#fde0ef"
            ],
            [
             0.5,
             "#f7f7f7"
            ],
            [
             0.6,
             "#e6f5d0"
            ],
            [
             0.7,
             "#b8e186"
            ],
            [
             0.8,
             "#7fbc41"
            ],
            [
             0.9,
             "#4d9221"
            ],
            [
             1,
             "#276419"
            ]
           ],
           "sequential": [
            [
             0,
             "#0d0887"
            ],
            [
             0.1111111111111111,
             "#46039f"
            ],
            [
             0.2222222222222222,
             "#7201a8"
            ],
            [
             0.3333333333333333,
             "#9c179e"
            ],
            [
             0.4444444444444444,
             "#bd3786"
            ],
            [
             0.5555555555555556,
             "#d8576b"
            ],
            [
             0.6666666666666666,
             "#ed7953"
            ],
            [
             0.7777777777777778,
             "#fb9f3a"
            ],
            [
             0.8888888888888888,
             "#fdca26"
            ],
            [
             1,
             "#f0f921"
            ]
           ],
           "sequentialminus": [
            [
             0,
             "#0d0887"
            ],
            [
             0.1111111111111111,
             "#46039f"
            ],
            [
             0.2222222222222222,
             "#7201a8"
            ],
            [
             0.3333333333333333,
             "#9c179e"
            ],
            [
             0.4444444444444444,
             "#bd3786"
            ],
            [
             0.5555555555555556,
             "#d8576b"
            ],
            [
             0.6666666666666666,
             "#ed7953"
            ],
            [
             0.7777777777777778,
             "#fb9f3a"
            ],
            [
             0.8888888888888888,
             "#fdca26"
            ],
            [
             1,
             "#f0f921"
            ]
           ]
          },
          "colorway": [
           "#636efa",
           "#EF553B",
           "#00cc96",
           "#ab63fa",
           "#FFA15A",
           "#19d3f3",
           "#FF6692",
           "#B6E880",
           "#FF97FF",
           "#FECB52"
          ],
          "font": {
           "color": "#2a3f5f"
          },
          "geo": {
           "bgcolor": "white",
           "lakecolor": "white",
           "landcolor": "#E5ECF6",
           "showlakes": true,
           "showland": true,
           "subunitcolor": "white"
          },
          "hoverlabel": {
           "align": "left"
          },
          "hovermode": "closest",
          "mapbox": {
           "style": "light"
          },
          "paper_bgcolor": "white",
          "plot_bgcolor": "#E5ECF6",
          "polar": {
           "angularaxis": {
            "gridcolor": "white",
            "linecolor": "white",
            "ticks": ""
           },
           "bgcolor": "#E5ECF6",
           "radialaxis": {
            "gridcolor": "white",
            "linecolor": "white",
            "ticks": ""
           }
          },
          "scene": {
           "xaxis": {
            "backgroundcolor": "#E5ECF6",
            "gridcolor": "white",
            "gridwidth": 2,
            "linecolor": "white",
            "showbackground": true,
            "ticks": "",
            "zerolinecolor": "white"
           },
           "yaxis": {
            "backgroundcolor": "#E5ECF6",
            "gridcolor": "white",
            "gridwidth": 2,
            "linecolor": "white",
            "showbackground": true,
            "ticks": "",
            "zerolinecolor": "white"
           },
           "zaxis": {
            "backgroundcolor": "#E5ECF6",
            "gridcolor": "white",
            "gridwidth": 2,
            "linecolor": "white",
            "showbackground": true,
            "ticks": "",
            "zerolinecolor": "white"
           }
          },
          "shapedefaults": {
           "line": {
            "color": "#2a3f5f"
           }
          },
          "ternary": {
           "aaxis": {
            "gridcolor": "white",
            "linecolor": "white",
            "ticks": ""
           },
           "baxis": {
            "gridcolor": "white",
            "linecolor": "white",
            "ticks": ""
           },
           "bgcolor": "#E5ECF6",
           "caxis": {
            "gridcolor": "white",
            "linecolor": "white",
            "ticks": ""
           }
          },
          "title": {
           "x": 0.05
          },
          "xaxis": {
           "automargin": true,
           "gridcolor": "white",
           "linecolor": "white",
           "ticks": "",
           "title": {
            "standoff": 15
           },
           "zerolinecolor": "white",
           "zerolinewidth": 2
          },
          "yaxis": {
           "automargin": true,
           "gridcolor": "white",
           "linecolor": "white",
           "ticks": "",
           "title": {
            "standoff": 15
           },
           "zerolinecolor": "white",
           "zerolinewidth": 2
          }
         }
        },
        "width": 2000,
        "xaxis": {
         "anchor": "y",
         "domain": [
          0,
          0.45
         ]
        },
        "xaxis2": {
         "anchor": "y2",
         "domain": [
          0.55,
          1
         ]
        },
        "xaxis3": {
         "anchor": "y3",
         "domain": [
          0,
          0.45
         ]
        },
        "xaxis4": {
         "anchor": "y4",
         "domain": [
          0.55,
          1
         ]
        },
        "yaxis": {
         "anchor": "x",
         "domain": [
          0.575,
          1
         ]
        },
        "yaxis2": {
         "anchor": "x2",
         "domain": [
          0.575,
          1
         ]
        },
        "yaxis3": {
         "anchor": "x3",
         "domain": [
          0,
          0.425
         ]
        },
        "yaxis4": {
         "anchor": "x4",
         "domain": [
          0,
          0.425
         ]
        }
       }
      }
     },
     "metadata": {},
     "output_type": "display_data"
    },
    {
     "data": {
      "application/vnd.plotly.v1+json": {
       "config": {
        "plotlyServerURL": "https://plot.ly"
       },
       "data": [
        {
         "mode": "lines+markers",
         "name": "Channel 0 spectrum",
         "type": "scatter",
         "x": [
          0,
          1,
          2,
          3,
          4,
          5,
          6,
          7,
          8,
          9,
          10,
          11,
          12,
          13,
          14,
          15,
          16,
          17,
          18,
          19,
          20,
          21,
          22,
          23,
          24,
          25,
          26,
          27,
          28,
          29,
          30,
          31,
          32,
          33,
          34,
          35,
          36,
          37,
          38,
          39,
          40,
          41,
          42,
          43,
          44,
          45,
          46,
          47,
          48,
          49,
          50
         ],
         "xaxis": "x",
         "y": [
          1125.72,
          26.649996637732006,
          31.281555579774068,
          25.0779960539732,
          8.958949344399274,
          34.500741967392045,
          100.53769320198867,
          47.04680700404867,
          38.07073687273244,
          67.09566265388366,
          76.66048786581318,
          20.29934679440724,
          49.32270676064105,
          60.6900343530341,
          31.35864441697601,
          68.1875689370749,
          31.947917727136108,
          52.47882331071057,
          96.76184720733089,
          46.59024125059473,
          27.142270560353705,
          75.24002872309629,
          45.60949593305339,
          69.0612748525748,
          49.05086261452026,
          56.10776060403766,
          41.95696295726576,
          52.173314778672506,
          68.3544494802778,
          41.57531644460326,
          49.12818743018627,
          8.01891149888362,
          75.6116623123661,
          27.777263600736624,
          7.556023078066012,
          27.460021456893195,
          46.22771082618396,
          55.78368223569649,
          3.584740093588839,
          11.730961808669916,
          72.53713496429644,
          27.403844869718455,
          92.11898927920825,
          15.135482416111069,
          56.24204469770275,
          54.53971642517093,
          103.90156870569757,
          33.36275138319973,
          77.40257855322558,
          78.15239309847907,
          31.439999999999994
         ],
         "yaxis": "y"
        },
        {
         "mode": "lines+markers",
         "name": "Channel 1 spectrum",
         "type": "scatter",
         "x": [
          0,
          1,
          2,
          3,
          4,
          5,
          6,
          7,
          8,
          9,
          10,
          11,
          12,
          13,
          14,
          15,
          16,
          17,
          18,
          19,
          20,
          21,
          22,
          23,
          24,
          25,
          26,
          27,
          28,
          29,
          30,
          31,
          32,
          33,
          34,
          35,
          36,
          37,
          38,
          39,
          40,
          41,
          42,
          43,
          44,
          45,
          46,
          47,
          48,
          49,
          50
         ],
         "xaxis": "x3",
         "y": [
          1043.08,
          23.084561434418283,
          48.19787136753807,
          20.57978971730865,
          44.24961436788205,
          80.73651537901178,
          39.273532448472324,
          85.12351123369679,
          30.44980087655889,
          50.36938859927076,
          68.80964516095919,
          81.3975052706331,
          21.963466725019753,
          116.6827000878813,
          49.82635364425145,
          73.10030288739635,
          40.27849023001043,
          26.029573715909702,
          27.459445973395113,
          46.30306326470386,
          21.23743777132348,
          58.20712158891635,
          84.04981323806956,
          33.368182276463855,
          101.01199227946407,
          36.45056926853131,
          69.0668393833703,
          31.189905321840005,
          19.82930297735711,
          42.70176531631459,
          39.97006295745462,
          54.58149803135968,
          28.584639406252137,
          47.22231890565815,
          37.23686322946245,
          85.67546091423128,
          75.95271772639288,
          52.204549102260756,
          62.96368260084959,
          35.63568460462963,
          29.451621974165775,
          77.34110660832025,
          44.99050450452742,
          24.933338934265386,
          7.442004814534901,
          56.73020535270021,
          56.9688155120366,
          121.54769182946796,
          60.86974940458578,
          47.075531583413394,
          10.639999999999997
         ],
         "yaxis": "y3"
        },
        {
         "mode": "lines+markers",
         "name": "Channel 2 spectrum",
         "type": "scatter",
         "x": [
          0,
          1,
          2,
          3,
          4,
          5,
          6,
          7,
          8,
          9,
          10,
          11,
          12,
          13,
          14,
          15,
          16,
          17,
          18,
          19,
          20,
          21,
          22,
          23,
          24,
          25,
          26,
          27,
          28,
          29,
          30,
          31,
          32,
          33,
          34,
          35,
          36,
          37,
          38,
          39,
          40,
          41,
          42,
          43,
          44,
          45,
          46,
          47,
          48,
          49,
          50
         ],
         "xaxis": "x5",
         "y": [
          1002.3,
          7.780574337563411,
          34.734910010432515,
          44.06777924682241,
          24.89394505969455,
          20.90535926010042,
          84.31978685306845,
          61.512057104069214,
          23.030228505513804,
          41.577816750055746,
          19.566777653847822,
          88.56218973427848,
          22.23673995884014,
          31.762391005947237,
          61.72553517586717,
          59.61942654190405,
          53.66736386096882,
          9.686325316683769,
          76.19105187832497,
          38.53371779448673,
          20.14415306102584,
          37.81252880158652,
          73.27962368469949,
          33.8859111519657,
          71.60889448938944,
          58.84496579997306,
          91.98446072458421,
          103.96550586966623,
          133.40316673097593,
          52.793007246128184,
          32.9420705518776,
          44.68027153061868,
          39.245323728123275,
          55.28385156839461,
          36.51669167572595,
          153.10049410991599,
          42.48893260778742,
          62.88767870886024,
          22.948817624011035,
          35.298283141204266,
          45.69134597988949,
          55.023427581749544,
          78.69733867173436,
          33.27736984913623,
          38.73018935704026,
          63.66607131212217,
          88.02951275049682,
          90.16620057158546,
          59.81625587091244,
          19.266743927878643,
          42.02
         ],
         "yaxis": "y5"
        },
        {
         "mode": "lines+markers",
         "name": "Channel 3 spectrum",
         "type": "scatter",
         "x": [
          0,
          1,
          2,
          3,
          4,
          5,
          6,
          7,
          8,
          9,
          10,
          11,
          12,
          13,
          14,
          15,
          16,
          17,
          18,
          19,
          20,
          21,
          22,
          23,
          24,
          25,
          26,
          27,
          28,
          29,
          30,
          31,
          32,
          33,
          34,
          35,
          36,
          37,
          38,
          39,
          40,
          41,
          42,
          43,
          44,
          45,
          46,
          47,
          48,
          49,
          50
         ],
         "xaxis": "x7",
         "y": [
          1073.28,
          42.52426068271488,
          84.5701320756006,
          84.95900551502565,
          5.457923116866705,
          22.845683717961847,
          21.9141513438616,
          70.05317279479486,
          108.12586494602057,
          30.55794529520606,
          49.619891236905325,
          29.68145644983632,
          3.754643230721026,
          82.84580040668287,
          81.26671788378896,
          53.34576020435745,
          52.3246327674381,
          14.869024519253044,
          80.83214367886143,
          86.68998975121562,
          67.83524119154555,
          28.12157610836846,
          46.00311657464697,
          36.57051314811465,
          54.018596015492534,
          47.654926293091656,
          54.241442201999334,
          40.037439535054325,
          31.797862653349704,
          35.341795720694066,
          34.813750065709485,
          37.05317581161846,
          55.35732399833808,
          97.54851575112554,
          7.3061601808748415,
          55.142278545786155,
          69.78303157603668,
          64.67768163575246,
          92.16546419756637,
          24.532508377722305,
          82.04003201172488,
          78.45808275842138,
          60.83458148851786,
          42.908151401934155,
          14.826013318609544,
          104.99057919859752,
          70.21965526341157,
          33.233060972263935,
          14.397902380522316,
          18.570501777206047,
          35.12
         ],
         "yaxis": "y7"
        },
        {
         "mode": "lines+markers",
         "name": "Channel 4 spectrum",
         "type": "scatter",
         "x": [
          0,
          1,
          2,
          3,
          4,
          5,
          6,
          7,
          8,
          9,
          10,
          11,
          12,
          13,
          14,
          15,
          16,
          17,
          18,
          19,
          20,
          21,
          22,
          23,
          24,
          25,
          26,
          27,
          28,
          29,
          30,
          31,
          32,
          33,
          34,
          35,
          36,
          37,
          38,
          39,
          40,
          41,
          42,
          43,
          44,
          45,
          46,
          47,
          48,
          49,
          50
         ],
         "xaxis": "x9",
         "y": [
          1033.56,
          44.03516692686023,
          25.92548405213806,
          52.62996704088449,
          71.07161720585871,
          63.139152516568785,
          55.97638999672844,
          29.336241696862523,
          25.043698846562037,
          27.98444059186264,
          73.95706401284998,
          45.58633615745089,
          28.6608015904878,
          27.353824105090034,
          19.66595296919064,
          26.055607393427703,
          13.190359284806421,
          63.70766169646774,
          56.9179830450942,
          35.11785761619488,
          41.200612308836696,
          42.4685597023427,
          63.40440366498141,
          53.3585766514902,
          58.408676650044534,
          12.024109114608038,
          68.27682739471066,
          49.30163333481352,
          67.02289540521612,
          78.85313870385956,
          33.470964769471585,
          38.52705312260583,
          24.025958324392562,
          92.45388946353222,
          16.89428475994156,
          51.872363498660704,
          88.87266698200372,
          97.91309031170823,
          58.309929387773884,
          45.38912730978058,
          27.593201071585305,
          47.07090827618118,
          47.499585398551645,
          108.34010257592348,
          37.265550230990236,
          20.713363993128596,
          63.38404878593631,
          59.90648485616528,
          68.89055370316726,
          65.92326782817285,
          57.88
         ],
         "yaxis": "y9"
        },
        {
         "mode": "lines+markers",
         "name": "Channel 5 spectrum",
         "type": "scatter",
         "x": [
          0,
          1,
          2,
          3,
          4,
          5,
          6,
          7,
          8,
          9,
          10,
          11,
          12,
          13,
          14,
          15,
          16,
          17,
          18,
          19,
          20,
          21,
          22,
          23,
          24,
          25,
          26,
          27,
          28,
          29,
          30,
          31,
          32,
          33,
          34,
          35,
          36,
          37,
          38,
          39,
          40,
          41,
          42,
          43,
          44,
          45,
          46,
          47,
          48,
          49,
          50
         ],
         "xaxis": "x11",
         "y": [
          981.4,
          40.74066157793367,
          24.367640869183624,
          96.04059961053048,
          77.1028392286159,
          48.470000251349276,
          46.417052583692275,
          29.562222590546384,
          55.80706631578522,
          72.13652236189525,
          44.13916775662834,
          31.76338242580727,
          29.89199432894479,
          21.205595788487276,
          39.27875534924898,
          27.06593214284109,
          45.31736139586036,
          60.004641236707066,
          57.18120056225705,
          101.89940100743836,
          36.46928066273901,
          14.087866246610858,
          75.3446975101148,
          39.89078336535443,
          70.41043908986614,
          40.38568063063937,
          66.60376925521513,
          63.57143539071809,
          10.258731040602873,
          84.04400780979313,
          30.95287821434738,
          75.54190604775684,
          8.795331245680304,
          75.33497406748103,
          33.0945601006917,
          104.59915832663194,
          86.44337374946022,
          100.06614039766794,
          54.41306883118311,
          40.30715512223852,
          90.0605439021016,
          50.91383912526304,
          82.8414053354366,
          17.774403862262766,
          86.53831516906043,
          51.495080058521154,
          115.62787319957893,
          34.98964446677628,
          30.550986214296728,
          33.473903636728544,
          89.88
         ],
         "yaxis": "y11"
        },
        {
         "mode": "lines+markers",
         "name": "Channel 6 spectrum",
         "type": "scatter",
         "x": [
          0,
          1,
          2,
          3,
          4,
          5,
          6,
          7,
          8,
          9,
          10,
          11,
          12,
          13,
          14,
          15,
          16,
          17,
          18,
          19,
          20,
          21,
          22,
          23,
          24,
          25,
          26,
          27,
          28,
          29,
          30,
          31,
          32,
          33,
          34,
          35,
          36,
          37,
          38,
          39,
          40,
          41,
          42,
          43,
          44,
          45,
          46,
          47,
          48,
          49,
          50
         ],
         "xaxis": "x13",
         "y": [
          1091.84,
          65.23550211263611,
          54.068877731959766,
          38.45950518567047,
          77.76678960929443,
          27.727601079645392,
          70.58169961516431,
          47.225984242687254,
          54.169013712741396,
          72.67161912867546,
          29.772091380489634,
          72.91194669321854,
          52.18584176525205,
          55.56379512623012,
          32.01268376299481,
          26.938520305099665,
          64.46192926922129,
          58.78947249077351,
          43.19189342717212,
          56.91952735869123,
          56.2374710493385,
          72.99036941666917,
          10.50767926673583,
          77.53815879128857,
          24.412538731046343,
          30.198595993853747,
          12.352093199732238,
          47.64395621973302,
          61.724378147430706,
          44.16657282661448,
          70.14591773461785,
          65.36673677586842,
          50.82662183243428,
          44.17259589680705,
          68.1342310056828,
          56.31013051528817,
          36.30725133387568,
          111.1344103548682,
          16.755717388562903,
          82.28998660921643,
          73.98371476193131,
          39.347689418312484,
          63.271709692316065,
          49.18035516243259,
          69.32008339528623,
          52.28198794509437,
          43.389863832352255,
          8.71354082032422,
          70.10341737864681,
          74.93614460737767,
          33.76000000000001
         ],
         "yaxis": "y13"
        },
        {
         "mode": "lines+markers",
         "name": "Channel 7 spectrum",
         "type": "scatter",
         "x": [
          0,
          1,
          2,
          3,
          4,
          5,
          6,
          7,
          8,
          9,
          10,
          11,
          12,
          13,
          14,
          15,
          16,
          17,
          18,
          19,
          20,
          21,
          22,
          23,
          24,
          25,
          26,
          27,
          28,
          29,
          30,
          31,
          32,
          33,
          34,
          35,
          36,
          37,
          38,
          39,
          40,
          41,
          42,
          43,
          44,
          45,
          46,
          47,
          48,
          49,
          50
         ],
         "xaxis": "x15",
         "y": [
          894.88,
          49.63003120609412,
          36.13181027389124,
          30.191936419914054,
          5.752913025063813,
          37.04543988319826,
          47.053885986162214,
          59.9577706487068,
          46.44266638797487,
          60.08282019357818,
          28.83026597355492,
          83.80668752709056,
          75.32063733098326,
          15.314307883998383,
          47.06833814898674,
          22.956167997230665,
          32.79879414152152,
          61.971380522874036,
          62.98495896799124,
          31.143430310930608,
          105.45801127047994,
          88.33809499291824,
          65.48032522288409,
          108.53333655148974,
          13.455048528360223,
          108.19609235087928,
          100.62252143934354,
          46.36024838760328,
          58.97137354882843,
          28.127822150042892,
          75.43451838445102,
          36.16061779206871,
          58.5148781487125,
          104.80958071093748,
          24.789250979302984,
          45.50637243595339,
          48.08746024239571,
          27.649529644902263,
          41.607967702679886,
          38.33275177022248,
          43.17145652946316,
          43.935639536040874,
          38.26933563725906,
          39.44297815392244,
          72.24565699554813,
          101.33379200673173,
          105.80580222719703,
          73.24083485841969,
          38.969198660491664,
          40.117158740236654,
          9.48
         ],
         "yaxis": "y15"
        },
        {
         "name": "Channel 0 frequency bins",
         "type": "bar",
         "x": [
          "0-1 Hz",
          "1-4 Hz",
          "4-8 Hz",
          "8-12 Hz",
          "12-30 Hz"
         ],
         "xaxis": "x2",
         "y": [
          0.9640722,
          0.4177774,
          0.68178844,
          0.26104635,
          0.48443073
         ],
         "yaxis": "y2"
        },
        {
         "name": "Channel 1 frequency bins",
         "type": "bar",
         "x": [
          "0-1 Hz",
          "1-4 Hz",
          "4-8 Hz",
          "8-12 Hz",
          "12-30 Hz"
         ],
         "xaxis": "x4",
         "y": [
          0.7679119,
          0.27687624,
          0.6010376,
          0.48919693,
          0.47549608
         ],
         "yaxis": "y4"
        },
        {
         "name": "Channel 2 frequency bins",
         "type": "bar",
         "x": [
          "0-1 Hz",
          "1-4 Hz",
          "4-8 Hz",
          "8-12 Hz",
          "12-30 Hz"
         ],
         "xaxis": "x6",
         "y": [
          0.7730078,
          0.4658781,
          0.6169621,
          0.6604965,
          0.481509
         ],
         "yaxis": "y6"
        },
        {
         "name": "Channel 3 frequency bins",
         "type": "bar",
         "x": [
          "0-1 Hz",
          "1-4 Hz",
          "4-8 Hz",
          "8-12 Hz",
          "12-30 Hz"
         ],
         "xaxis": "x8",
         "y": [
          0.3439404,
          0.5693745,
          0.56001735,
          0.71655494,
          0.6042858
         ],
         "yaxis": "y8"
        },
        {
         "name": "Channel 4 frequency bins",
         "type": "bar",
         "x": [
          "0-1 Hz",
          "1-4 Hz",
          "4-8 Hz",
          "8-12 Hz",
          "12-30 Hz"
         ],
         "xaxis": "x10",
         "y": [
          0.62765014,
          0.3137233,
          0.75265247,
          0.52684,
          0.50399643
         ],
         "yaxis": "y10"
        },
        {
         "name": "Channel 5 frequency bins",
         "type": "bar",
         "x": [
          "0-1 Hz",
          "1-4 Hz",
          "4-8 Hz",
          "8-12 Hz",
          "12-30 Hz"
         ],
         "xaxis": "x12",
         "y": [
          0.3068819,
          0.78708243,
          0.4565334,
          0.34076005,
          0.5710857
         ],
         "yaxis": "y12"
        },
        {
         "name": "Channel 6 frequency bins",
         "type": "bar",
         "x": [
          "0-1 Hz",
          "1-4 Hz",
          "4-8 Hz",
          "8-12 Hz",
          "12-30 Hz"
         ],
         "xaxis": "x14",
         "y": [
          0.796188,
          0.6096042,
          0.5815607,
          0.5307129,
          0.4692295
         ],
         "yaxis": "y14"
        },
        {
         "name": "Channel 7 frequency bins",
         "type": "bar",
         "x": [
          "0-1 Hz",
          "1-4 Hz",
          "4-8 Hz",
          "8-12 Hz",
          "12-30 Hz"
         ],
         "xaxis": "x16",
         "y": [
          0.95053416,
          0.8752594,
          0.65927863,
          0.68180305,
          0.50034505
         ],
         "yaxis": "y16"
        }
       ],
       "layout": {
        "height": 1500,
        "template": {
         "data": {
          "bar": [
           {
            "error_x": {
             "color": "#2a3f5f"
            },
            "error_y": {
             "color": "#2a3f5f"
            },
            "marker": {
             "line": {
              "color": "#E5ECF6",
              "width": 0.5
             },
             "pattern": {
              "fillmode": "overlay",
              "size": 10,
              "solidity": 0.2
             }
            },
            "type": "bar"
           }
          ],
          "barpolar": [
           {
            "marker": {
             "line": {
              "color": "#E5ECF6",
              "width": 0.5
             },
             "pattern": {
              "fillmode": "overlay",
              "size": 10,
              "solidity": 0.2
             }
            },
            "type": "barpolar"
           }
          ],
          "carpet": [
           {
            "aaxis": {
             "endlinecolor": "#2a3f5f",
             "gridcolor": "white",
             "linecolor": "white",
             "minorgridcolor": "white",
             "startlinecolor": "#2a3f5f"
            },
            "baxis": {
             "endlinecolor": "#2a3f5f",
             "gridcolor": "white",
             "linecolor": "white",
             "minorgridcolor": "white",
             "startlinecolor": "#2a3f5f"
            },
            "type": "carpet"
           }
          ],
          "choropleth": [
           {
            "colorbar": {
             "outlinewidth": 0,
             "ticks": ""
            },
            "type": "choropleth"
           }
          ],
          "contour": [
           {
            "colorbar": {
             "outlinewidth": 0,
             "ticks": ""
            },
            "colorscale": [
             [
              0,
              "#0d0887"
             ],
             [
              0.1111111111111111,
              "#46039f"
             ],
             [
              0.2222222222222222,
              "#7201a8"
             ],
             [
              0.3333333333333333,
              "#9c179e"
             ],
             [
              0.4444444444444444,
              "#bd3786"
             ],
             [
              0.5555555555555556,
              "#d8576b"
             ],
             [
              0.6666666666666666,
              "#ed7953"
             ],
             [
              0.7777777777777778,
              "#fb9f3a"
             ],
             [
              0.8888888888888888,
              "#fdca26"
             ],
             [
              1,
              "#f0f921"
             ]
            ],
            "type": "contour"
           }
          ],
          "contourcarpet": [
           {
            "colorbar": {
             "outlinewidth": 0,
             "ticks": ""
            },
            "type": "contourcarpet"
           }
          ],
          "heatmap": [
           {
            "colorbar": {
             "outlinewidth": 0,
             "ticks": ""
            },
            "colorscale": [
             [
              0,
              "#0d0887"
             ],
             [
              0.1111111111111111,
              "#46039f"
             ],
             [
              0.2222222222222222,
              "#7201a8"
             ],
             [
              0.3333333333333333,
              "#9c179e"
             ],
             [
              0.4444444444444444,
              "#bd3786"
             ],
             [
              0.5555555555555556,
              "#d8576b"
             ],
             [
              0.6666666666666666,
              "#ed7953"
             ],
             [
              0.7777777777777778,
              "#fb9f3a"
             ],
             [
              0.8888888888888888,
              "#fdca26"
             ],
             [
              1,
              "#f0f921"
             ]
            ],
            "type": "heatmap"
           }
          ],
          "heatmapgl": [
           {
            "colorbar": {
             "outlinewidth": 0,
             "ticks": ""
            },
            "colorscale": [
             [
              0,
              "#0d0887"
             ],
             [
              0.1111111111111111,
              "#46039f"
             ],
             [
              0.2222222222222222,
              "#7201a8"
             ],
             [
              0.3333333333333333,
              "#9c179e"
             ],
             [
              0.4444444444444444,
              "#bd3786"
             ],
             [
              0.5555555555555556,
              "#d8576b"
             ],
             [
              0.6666666666666666,
              "#ed7953"
             ],
             [
              0.7777777777777778,
              "#fb9f3a"
             ],
             [
              0.8888888888888888,
              "#fdca26"
             ],
             [
              1,
              "#f0f921"
             ]
            ],
            "type": "heatmapgl"
           }
          ],
          "histogram": [
           {
            "marker": {
             "pattern": {
              "fillmode": "overlay",
              "size": 10,
              "solidity": 0.2
             }
            },
            "type": "histogram"
           }
          ],
          "histogram2d": [
           {
            "colorbar": {
             "outlinewidth": 0,
             "ticks": ""
            },
            "colorscale": [
             [
              0,
              "#0d0887"
             ],
             [
              0.1111111111111111,
              "#46039f"
             ],
             [
              0.2222222222222222,
              "#7201a8"
             ],
             [
              0.3333333333333333,
              "#9c179e"
             ],
             [
              0.4444444444444444,
              "#bd3786"
             ],
             [
              0.5555555555555556,
              "#d8576b"
             ],
             [
              0.6666666666666666,
              "#ed7953"
             ],
             [
              0.7777777777777778,
              "#fb9f3a"
             ],
             [
              0.8888888888888888,
              "#fdca26"
             ],
             [
              1,
              "#f0f921"
             ]
            ],
            "type": "histogram2d"
           }
          ],
          "histogram2dcontour": [
           {
            "colorbar": {
             "outlinewidth": 0,
             "ticks": ""
            },
            "colorscale": [
             [
              0,
              "#0d0887"
             ],
             [
              0.1111111111111111,
              "#46039f"
             ],
             [
              0.2222222222222222,
              "#7201a8"
             ],
             [
              0.3333333333333333,
              "#9c179e"
             ],
             [
              0.4444444444444444,
              "#bd3786"
             ],
             [
              0.5555555555555556,
              "#d8576b"
             ],
             [
              0.6666666666666666,
              "#ed7953"
             ],
             [
              0.7777777777777778,
              "#fb9f3a"
             ],
             [
              0.8888888888888888,
              "#fdca26"
             ],
             [
              1,
              "#f0f921"
             ]
            ],
            "type": "histogram2dcontour"
           }
          ],
          "mesh3d": [
           {
            "colorbar": {
             "outlinewidth": 0,
             "ticks": ""
            },
            "type": "mesh3d"
           }
          ],
          "parcoords": [
           {
            "line": {
             "colorbar": {
              "outlinewidth": 0,
              "ticks": ""
             }
            },
            "type": "parcoords"
           }
          ],
          "pie": [
           {
            "automargin": true,
            "type": "pie"
           }
          ],
          "scatter": [
           {
            "fillpattern": {
             "fillmode": "overlay",
             "size": 10,
             "solidity": 0.2
            },
            "type": "scatter"
           }
          ],
          "scatter3d": [
           {
            "line": {
             "colorbar": {
              "outlinewidth": 0,
              "ticks": ""
             }
            },
            "marker": {
             "colorbar": {
              "outlinewidth": 0,
              "ticks": ""
             }
            },
            "type": "scatter3d"
           }
          ],
          "scattercarpet": [
           {
            "marker": {
             "colorbar": {
              "outlinewidth": 0,
              "ticks": ""
             }
            },
            "type": "scattercarpet"
           }
          ],
          "scattergeo": [
           {
            "marker": {
             "colorbar": {
              "outlinewidth": 0,
              "ticks": ""
             }
            },
            "type": "scattergeo"
           }
          ],
          "scattergl": [
           {
            "marker": {
             "colorbar": {
              "outlinewidth": 0,
              "ticks": ""
             }
            },
            "type": "scattergl"
           }
          ],
          "scattermapbox": [
           {
            "marker": {
             "colorbar": {
              "outlinewidth": 0,
              "ticks": ""
             }
            },
            "type": "scattermapbox"
           }
          ],
          "scatterpolar": [
           {
            "marker": {
             "colorbar": {
              "outlinewidth": 0,
              "ticks": ""
             }
            },
            "type": "scatterpolar"
           }
          ],
          "scatterpolargl": [
           {
            "marker": {
             "colorbar": {
              "outlinewidth": 0,
              "ticks": ""
             }
            },
            "type": "scatterpolargl"
           }
          ],
          "scatterternary": [
           {
            "marker": {
             "colorbar": {
              "outlinewidth": 0,
              "ticks": ""
             }
            },
            "type": "scatterternary"
           }
          ],
          "surface": [
           {
            "colorbar": {
             "outlinewidth": 0,
             "ticks": ""
            },
            "colorscale": [
             [
              0,
              "#0d0887"
             ],
             [
              0.1111111111111111,
              "#46039f"
             ],
             [
              0.2222222222222222,
              "#7201a8"
             ],
             [
              0.3333333333333333,
              "#9c179e"
             ],
             [
              0.4444444444444444,
              "#bd3786"
             ],
             [
              0.5555555555555556,
              "#d8576b"
             ],
             [
              0.6666666666666666,
              "#ed7953"
             ],
             [
              0.7777777777777778,
              "#fb9f3a"
             ],
             [
              0.8888888888888888,
              "#fdca26"
             ],
             [
              1,
              "#f0f921"
             ]
            ],
            "type": "surface"
           }
          ],
          "table": [
           {
            "cells": {
             "fill": {
              "color": "#EBF0F8"
             },
             "line": {
              "color": "white"
             }
            },
            "header": {
             "fill": {
              "color": "#C8D4E3"
             },
             "line": {
              "color": "white"
             }
            },
            "type": "table"
           }
          ]
         },
         "layout": {
          "annotationdefaults": {
           "arrowcolor": "#2a3f5f",
           "arrowhead": 0,
           "arrowwidth": 1
          },
          "autotypenumbers": "strict",
          "coloraxis": {
           "colorbar": {
            "outlinewidth": 0,
            "ticks": ""
           }
          },
          "colorscale": {
           "diverging": [
            [
             0,
             "#8e0152"
            ],
            [
             0.1,
             "#c51b7d"
            ],
            [
             0.2,
             "#de77ae"
            ],
            [
             0.3,
             "#f1b6da"
            ],
            [
             0.4,
             "#fde0ef"
            ],
            [
             0.5,
             "#f7f7f7"
            ],
            [
             0.6,
             "#e6f5d0"
            ],
            [
             0.7,
             "#b8e186"
            ],
            [
             0.8,
             "#7fbc41"
            ],
            [
             0.9,
             "#4d9221"
            ],
            [
             1,
             "#276419"
            ]
           ],
           "sequential": [
            [
             0,
             "#0d0887"
            ],
            [
             0.1111111111111111,
             "#46039f"
            ],
            [
             0.2222222222222222,
             "#7201a8"
            ],
            [
             0.3333333333333333,
             "#9c179e"
            ],
            [
             0.4444444444444444,
             "#bd3786"
            ],
            [
             0.5555555555555556,
             "#d8576b"
            ],
            [
             0.6666666666666666,
             "#ed7953"
            ],
            [
             0.7777777777777778,
             "#fb9f3a"
            ],
            [
             0.8888888888888888,
             "#fdca26"
            ],
            [
             1,
             "#f0f921"
            ]
           ],
           "sequentialminus": [
            [
             0,
             "#0d0887"
            ],
            [
             0.1111111111111111,
             "#46039f"
            ],
            [
             0.2222222222222222,
             "#7201a8"
            ],
            [
             0.3333333333333333,
             "#9c179e"
            ],
            [
             0.4444444444444444,
             "#bd3786"
            ],
            [
             0.5555555555555556,
             "#d8576b"
            ],
            [
             0.6666666666666666,
             "#ed7953"
            ],
            [
             0.7777777777777778,
             "#fb9f3a"
            ],
            [
             0.8888888888888888,
             "#fdca26"
            ],
            [
             1,
             "#f0f921"
            ]
           ]
          },
          "colorway": [
           "#636efa",
           "#EF553B",
           "#00cc96",
           "#ab63fa",
           "#FFA15A",
           "#19d3f3",
           "#FF6692",
           "#B6E880",
           "#FF97FF",
           "#FECB52"
          ],
          "font": {
           "color": "#2a3f5f"
          },
          "geo": {
           "bgcolor": "white",
           "lakecolor": "white",
           "landcolor": "#E5ECF6",
           "showlakes": true,
           "showland": true,
           "subunitcolor": "white"
          },
          "hoverlabel": {
           "align": "left"
          },
          "hovermode": "closest",
          "mapbox": {
           "style": "light"
          },
          "paper_bgcolor": "white",
          "plot_bgcolor": "#E5ECF6",
          "polar": {
           "angularaxis": {
            "gridcolor": "white",
            "linecolor": "white",
            "ticks": ""
           },
           "bgcolor": "#E5ECF6",
           "radialaxis": {
            "gridcolor": "white",
            "linecolor": "white",
            "ticks": ""
           }
          },
          "scene": {
           "xaxis": {
            "backgroundcolor": "#E5ECF6",
            "gridcolor": "white",
            "gridwidth": 2,
            "linecolor": "white",
            "showbackground": true,
            "ticks": "",
            "zerolinecolor": "white"
           },
           "yaxis": {
            "backgroundcolor": "#E5ECF6",
            "gridcolor": "white",
            "gridwidth": 2,
            "linecolor": "white",
            "showbackground": true,
            "ticks": "",
            "zerolinecolor": "white"
           },
           "zaxis": {
            "backgroundcolor": "#E5ECF6",
            "gridcolor": "white",
            "gridwidth": 2,
            "linecolor": "white",
            "showbackground": true,
            "ticks": "",
            "zerolinecolor": "white"
           }
          },
          "shapedefaults": {
           "line": {
            "color": "#2a3f5f"
           }
          },
          "ternary": {
           "aaxis": {
            "gridcolor": "white",
            "linecolor": "white",
            "ticks": ""
           },
           "baxis": {
            "gridcolor": "white",
            "linecolor": "white",
            "ticks": ""
           },
           "bgcolor": "#E5ECF6",
           "caxis": {
            "gridcolor": "white",
            "linecolor": "white",
            "ticks": ""
           }
          },
          "title": {
           "x": 0.05
          },
          "xaxis": {
           "automargin": true,
           "gridcolor": "white",
           "linecolor": "white",
           "ticks": "",
           "title": {
            "standoff": 15
           },
           "zerolinecolor": "white",
           "zerolinewidth": 2
          },
          "yaxis": {
           "automargin": true,
           "gridcolor": "white",
           "linecolor": "white",
           "ticks": "",
           "title": {
            "standoff": 15
           },
           "zerolinecolor": "white",
           "zerolinewidth": 2
          }
         }
        },
        "width": 2000,
        "xaxis": {
         "anchor": "y",
         "domain": [
          0,
          0.45
         ]
        },
        "xaxis10": {
         "anchor": "y10",
         "domain": [
          0.55,
          1
         ]
        },
        "xaxis11": {
         "anchor": "y11",
         "domain": [
          0,
          0.45
         ]
        },
        "xaxis12": {
         "anchor": "y12",
         "domain": [
          0.55,
          1
         ]
        },
        "xaxis13": {
         "anchor": "y13",
         "domain": [
          0,
          0.45
         ]
        },
        "xaxis14": {
         "anchor": "y14",
         "domain": [
          0.55,
          1
         ]
        },
        "xaxis15": {
         "anchor": "y15",
         "domain": [
          0,
          0.45
         ]
        },
        "xaxis16": {
         "anchor": "y16",
         "domain": [
          0.55,
          1
         ]
        },
        "xaxis2": {
         "anchor": "y2",
         "domain": [
          0.55,
          1
         ]
        },
        "xaxis3": {
         "anchor": "y3",
         "domain": [
          0,
          0.45
         ]
        },
        "xaxis4": {
         "anchor": "y4",
         "domain": [
          0.55,
          1
         ]
        },
        "xaxis5": {
         "anchor": "y5",
         "domain": [
          0,
          0.45
         ]
        },
        "xaxis6": {
         "anchor": "y6",
         "domain": [
          0.55,
          1
         ]
        },
        "xaxis7": {
         "anchor": "y7",
         "domain": [
          0,
          0.45
         ]
        },
        "xaxis8": {
         "anchor": "y8",
         "domain": [
          0.55,
          1
         ]
        },
        "xaxis9": {
         "anchor": "y9",
         "domain": [
          0,
          0.45
         ]
        },
        "yaxis": {
         "anchor": "x",
         "domain": [
          0.9078124999999999,
          0.9999999999999999
         ]
        },
        "yaxis10": {
         "anchor": "x10",
         "domain": [
          0.38906250000000003,
          0.48125000000000007
         ]
        },
        "yaxis11": {
         "anchor": "x11",
         "domain": [
          0.259375,
          0.3515625
         ]
        },
        "yaxis12": {
         "anchor": "x12",
         "domain": [
          0.259375,
          0.3515625
         ]
        },
        "yaxis13": {
         "anchor": "x13",
         "domain": [
          0.1296875,
          0.22187500000000002
         ]
        },
        "yaxis14": {
         "anchor": "x14",
         "domain": [
          0.1296875,
          0.22187500000000002
         ]
        },
        "yaxis15": {
         "anchor": "x15",
         "domain": [
          0,
          0.0921875
         ]
        },
        "yaxis16": {
         "anchor": "x16",
         "domain": [
          0,
          0.0921875
         ]
        },
        "yaxis2": {
         "anchor": "x2",
         "domain": [
          0.9078124999999999,
          0.9999999999999999
         ]
        },
        "yaxis3": {
         "anchor": "x3",
         "domain": [
          0.778125,
          0.8703124999999999
         ]
        },
        "yaxis4": {
         "anchor": "x4",
         "domain": [
          0.778125,
          0.8703124999999999
         ]
        },
        "yaxis5": {
         "anchor": "x5",
         "domain": [
          0.6484375,
          0.740625
         ]
        },
        "yaxis6": {
         "anchor": "x6",
         "domain": [
          0.6484375,
          0.740625
         ]
        },
        "yaxis7": {
         "anchor": "x7",
         "domain": [
          0.51875,
          0.6109375
         ]
        },
        "yaxis8": {
         "anchor": "x8",
         "domain": [
          0.51875,
          0.6109375
         ]
        },
        "yaxis9": {
         "anchor": "x9",
         "domain": [
          0.38906250000000003,
          0.48125000000000007
         ]
        }
       }
      }
     },
     "metadata": {},
     "output_type": "display_data"
    }
   ],
   "source": [
    "trainer.train(num_episodes=2)"
   ]
  },
  {
   "cell_type": "code",
   "execution_count": 42,
   "metadata": {},
   "outputs": [],
   "source": [
    "trainer.env.close()"
   ]
  },
  {
   "cell_type": "code",
   "execution_count": null,
   "metadata": {},
   "outputs": [],
   "source": []
  }
 ],
 "metadata": {
  "kernelspec": {
   "display_name": "Python 3",
   "language": "python",
   "name": "python3"
  },
  "language_info": {
   "codemirror_mode": {
    "name": "ipython",
    "version": 3
   },
   "file_extension": ".py",
   "mimetype": "text/x-python",
   "name": "python",
   "nbconvert_exporter": "python",
   "pygments_lexer": "ipython3",
   "version": "3.10.12"
  }
 },
 "nbformat": 4,
 "nbformat_minor": 2
}
