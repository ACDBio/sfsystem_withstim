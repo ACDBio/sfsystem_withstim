{
 "cells": [
  {
   "cell_type": "code",
   "execution_count": 12,
   "metadata": {},
   "outputs": [],
   "source": [
    "import websocket\n",
    "import json\n",
    "import gym\n",
    "from gym import spaces\n",
    "import numpy as np\n",
    "import numexpr as ne"
   ]
  },
  {
   "cell_type": "code",
   "execution_count": 13,
   "metadata": {},
   "outputs": [
    {
     "name": "stderr",
     "output_type": "stream",
     "text": [
      "--- request header ---\n",
      "GET / HTTP/1.1\n",
      "Upgrade: websocket\n",
      "Host: 10.42.0.231\n",
      "Origin: http://10.42.0.231\n",
      "Sec-WebSocket-Key: S7Opfo7QrO2vKJ8ueVMADA==\n",
      "Sec-WebSocket-Version: 13\n",
      "Connection: Upgrade\n",
      "\n",
      "\n",
      "-----------------------\n",
      "--- response header ---\n",
      "HTTP/1.1 101 Switching Protocols\n",
      "Server: arduino-WebSocketsServer\n",
      "Upgrade: websocket\n",
      "Connection: Upgrade\n",
      "Sec-WebSocket-Version: 13\n",
      "Sec-WebSocket-Accept: MMoTmSOWyrsj+xOwsMVnwIWn3oU=\n",
      "-----------------------\n"
     ]
    }
   ],
   "source": [
    "websocket.enableTrace(True)\n",
    "ws=websocket.WebSocket()\n",
    "ws.connect(\"ws://10.42.0.231:80/\")"
   ]
  },
  {
   "cell_type": "code",
   "execution_count": 56,
   "metadata": {},
   "outputs": [
    {
     "data": {
      "text/plain": [
       "range(0, 100)"
      ]
     },
     "execution_count": 56,
     "metadata": {},
     "output_type": "execute_result"
    }
   ],
   "source": [
    "range(0, 100)"
   ]
  },
  {
   "cell_type": "code",
   "execution_count": 60,
   "metadata": {},
   "outputs": [
    {
     "data": {
      "text/plain": [
       "(2, 3)"
      ]
     },
     "execution_count": 60,
     "metadata": {},
     "output_type": "execute_result"
    }
   ],
   "source": [
    "import numpy as np\n",
    "np.array([[1,2,3],[1,2,3]]).shape"
   ]
  },
  {
   "cell_type": "code",
   "execution_count": 1,
   "metadata": {},
   "outputs": [],
   "source": [
    "import websocket\n",
    "import json\n",
    "import gym\n",
    "from gym import spaces\n",
    "import numpy as np\n",
    "import re\n",
    "import numexpr as ne\n",
    "import time\n",
    "from collections import OrderedDict\n",
    "import plotly.graph_objects as go\n",
    "import plotly.subplots as sp\n",
    "import plotly\n",
    "import json\n",
    "import os\n",
    "plotly.io.json.config.default_engine = 'orjson'\n",
    "websocket.enableTrace(False)\n",
    "\n",
    "#steps are not implemented for now\n",
    "out_dict={'leddelay':{'names':['leddelay'], 'value_range':{'min':1, 'max':10001, 'step':100}, 'init_val':{'leddelay':10}},\n",
    "          'ledcontrols':{'names':['lv1r','lv1g','lv1b','lv2r','lv2g','lv2b','lv3r','lv3g','lv3b','lv4r','lv4g','lv4b', 'lv5r','lv5g','lv5b','lv6r','lv6g',\n",
    "          'lv6b',\n",
    "          'lv7r',\n",
    "          'lv7g',\n",
    "          'lv7b',\n",
    "          'lv8r',\n",
    "          'lv8g',\n",
    "          'lv8b'], 'value_range':{'min':10, 'max':255, 'step':10}, 'init_val':{'lv1r':255, 'lv1g':0, 'lv1b':0, \n",
    "                                                                               'lv2r':0, 'lv2b':255, 'lv2b':0, \n",
    "                                                                               'lv3r':0, 'lv3g':0, 'lv3b':255, \n",
    "                                                                               'lv4r':255, 'lv4g':255, 'lv4b':255, \n",
    "                                                                               'lv5r':0,   'lv5g':255, 'lv5b':255, \n",
    "                                                                               'lv6r':255, 'lv6g':0,   'lv6b':255, \n",
    "                                                                               'lv7r':255, 'lv7b':255, 'lv7b':0, \n",
    "                                                                               'lv8r':255, 'lv8g':0, 'lv8b':0}},\n",
    "          'sound_wave_frequencies':{'names':['wave_1_freq','wave_2_freq'], 'value_range':{'min':1, 'max':30000, 'step':100}, 'init_val':{'wave_1_freq':440, \n",
    "                                                                                                                                         'wave_2_freq':440}},\n",
    "          'panner_phasor_frequencies':{'names':['panner_freq', 'phasor_1_freq', 'phasor_2_freq','phasor_1_min',  'phasor_2_min', 'phasor_1_dif', 'phasor_2_dif'],  'value_range':{'min':1, 'max':50, 'step':1},\n",
    "                                       'init_val':{'panner_freq':1,\n",
    "                                                    'phasor_1_freq':10,\n",
    "                                                    'phasor_2_freq':10,\n",
    "                                                    'phasor_1_min':1,\n",
    "                                                    'phasor_2_min':1,\n",
    "                                                    'phasor_1_dif':30,\n",
    "                                                    'phasor_2_dif':30}},\n",
    "          'panner_div':{'names':['panner_div'], 'value_range':{'min':1, 'max':5, 'step':1}, 'init_val':{'panner_div':2}},\n",
    "          'sound_wave_shapes':{'names':['wave_1_type', 'wave_2_type'], 'value_range':{'min':0, 'max':3, 'step':1}, \n",
    "                               'init_val':{'wave_1_type':0,\n",
    "                                           'wave_2_type':0}},\n",
    "          'maxibolume':{'names':['maxivolume'], 'value_range':{'min':0, 'max':50, 'step':10}, \n",
    "                        'init_val':{'maxivolume':10}}\n",
    "}\n",
    "out_order=['lv1r','lv1g','lv1b','lv2r','lv2g','lv2b','lv3r','lv3g','lv3b','lv4r','lv4g','lv4b','lv5r','lv5g','lv5b','lv6r','lv6g','lv6b',\n",
    "          'lv7r','lv7g','lv7b','lv8r','lv8g','lv8b','leddelay','wave_1_freq','wave_2_freq','panner_freq','panner_div','phasor_1_freq',\n",
    "          'phasor_1_min','phasor_1_dif','phasor_2_freq','phasor_2_min','phasor_2_dif','maxivolume','wave_1_type','wave_2_type']\n",
    "\n",
    "\n",
    "class SFSystemCommunicator(gym.Env):\n",
    "    def __init__(self, out_dict=out_dict, out_order=out_order,n_input_channels=8, channels_of_interest_inds=list(range(8)), n_timepoints_per_sample=100, max_sfsystem_output=1023,reward_formula_string='(fbin_1_4_ch0+freq_30_ch0)/fbin_12_30_ch0', \n",
    "                 fbins=[(0,1), (1,4), (4,8), (8,12), (12,30)], delay=10,\n",
    "                 use_raw_in_os_def=False, use_freq_in_os_def=False, use_fbins_in_os_def=False, device_address=\"ws://10.42.0.231:80/\",\n",
    "                 step_stim_length_millis=10000, episode_time_seconds=60, collect_data_toplot=True, render_data=True, return_plotly_figs=False,\n",
    "                 logfn='current_training.log', log_steps=True, log_episodes=True, log_best_actions_final=True, signal_plot_width=2000, signal_plot_height=1500, training_plot_width=2000, training_plot_height=500, \n",
    "                 write_raw=True,\n",
    "                 write_fft=True,\n",
    "                 write_bins=True,\n",
    "                 log_best_actions_every_episode=True,\n",
    "                 log_actions_every_step=True):\n",
    "        self.device_address=device_address\n",
    "        self.step_stim_length=step_stim_length_millis/1000\n",
    "        self.episode_time_seconds=episode_time_seconds\n",
    "        self.n_steps_per_episode=int(self.episode_time_seconds/self.step_stim_length)\n",
    "        self.cur_step=0\n",
    "        self.render_data=render_data\n",
    "        self.return_plotly_figs=return_plotly_figs\n",
    "        \n",
    "        self.out_dict=out_dict\n",
    "        self.out_order=out_order\n",
    "        self.max_sfsystem_output=max_sfsystem_output\n",
    "        self.n_timepoints_per_sample=n_timepoints_per_sample\n",
    "        self.n_input_channels=n_input_channels\n",
    "        self.reward_formula_string=reward_formula_string\n",
    "\n",
    "        self.delay=delay\n",
    "\n",
    "        self.record_raw=use_raw_in_os_def\n",
    "\n",
    "        self.do_fft=use_freq_in_os_def\n",
    "        self.record_fft=use_freq_in_os_def\n",
    "\n",
    "        self.do_fbins=use_fbins_in_os_def\n",
    "        self.record_fbins=use_fbins_in_os_def\n",
    "\n",
    "        self.fbins=fbins\n",
    "        self.n_fbins=len(self.fbins)\n",
    "\n",
    "        self.channels_of_interest_inds=channels_of_interest_inds\n",
    "        self.channels_of_interest_inds.sort()\n",
    "        self.n_channels_of_interest=len(self.channels_of_interest_inds)\n",
    "\n",
    "        self.set_fft_params()\n",
    "\n",
    "        self.timesleep_period=0.1\n",
    "\n",
    "        if 'raw' in self.reward_formula_string:\n",
    "            self.record_raw=True\n",
    "        if 'freq' in self.reward_formula_string:\n",
    "            self.record_fft=True\n",
    "        if 'fbin' in self.reward_formula_string:\n",
    "            self.record_fbins=True\n",
    "\n",
    "        if self.record_fbins:\n",
    "            self.do_fft=True\n",
    "            self.do_fbins=True\n",
    "        \n",
    "        self.init_action_space()\n",
    "        self.init_observation_space()\n",
    "        self.set_value_dict_for_reward_function()\n",
    "        self.connect()\n",
    "        print(self.connection_status)\n",
    "        self.set_delay_and_data_transfer_buffer_size()\n",
    "        print('Delay and data transfer buffer size are set up.')\n",
    "        self.set_default_actions()\n",
    "        print('Default actions are set.')\n",
    "\n",
    "\n",
    "        #logging part\n",
    "        self.logfn=logfn\n",
    "        self.collect_data_toplot=collect_data_toplot\n",
    "\n",
    "        self.write_raw=write_raw\n",
    "        self.write_fft=write_fft\n",
    "        self.write_bins=write_bins\n",
    "\n",
    "\n",
    "        self.log_steps=log_steps\n",
    "        self.log_episodes=log_episodes\n",
    "        \n",
    " \n",
    "        self.clear_reward_buffers()   \n",
    "        self.clear_reward_stats()\n",
    "        self.current_episode=0\n",
    "        self.set_fbin_x_axis_labels()\n",
    "        \n",
    "        self.create_log()\n",
    "        self.signal_plot_width=signal_plot_width\n",
    "        self.signal_plot_height=signal_plot_height\n",
    "        self.training_plot_width=training_plot_width\n",
    "        self.training_plot_height=training_plot_height\n",
    "        #action logging\n",
    "        self.best_action_overall=None\n",
    "        self.best_action_episode=None\n",
    "        self.log_actions_every_step=log_actions_every_step\n",
    "        self.log_best_actions_every_episode=log_best_actions_every_episode\n",
    "        self.log_best_actions_final=log_best_actions_final\n",
    "\n",
    "        self.done=False\n",
    "    def create_log(self):\n",
    "        if not os.path.isfile(self.logfn):\n",
    "            open(self.logfn, 'a').close()\n",
    "    def write_tolog(self, string):\n",
    "        with open(self.logfn, 'a') as log_file:\n",
    "            log_file.write(string + '\\n')\n",
    "    def help(self):\n",
    "        print('Reward formula can use the following operators: //, *, **, -, +')\n",
    "        print('It can refer to channels using \"ch\" prefix followed by an index (starting with 0) e.g. ch0')\n",
    "        print('It can refer to values of frequency bins in specific channels e.g. fbin_10_50_ch0')\n",
    "        print('The corresponding freqency bins must be present among fbins passed at the initialization step')\n",
    "        print('fbins should be passed in the form of [(b1 min, b1max),...(bn min, bn max)]')\n",
    "        print('It can refer to specific frequencies from fft e.g. freq_50_ch0')\n",
    "        print('Use integers for frequencies, fractions are not supported for now')\n",
    "        print('Some examples:')\n",
    "        print('1. (freq_50_ch0+fbin_0_10_ch0)/(fbin_20_30_ch0)')\n",
    "        print('2. freq_5_ch0/freq_10_ch0')\n",
    "        print('3. fbin_05_5_ch0')\n",
    "    def clear_log(self):\n",
    "        if os.path.isfile(self.logfn):\n",
    "            os.remove(self.logfn)\n",
    "    def set_value_dict_for_reward_function(self):\n",
    "        ftokens=re.split(r'[+/)(*]+',self.reward_formula_string)\n",
    "        self.rewarddict={}\n",
    "        self.tokendict={}\n",
    "        for token in ftokens:\n",
    "            if 'ch' in token:\n",
    "                self.rewarddict[token]=None\n",
    "                self.tokendict[token]={}\n",
    "                subtokens=token.split('_')\n",
    "                self.tokendict[token]['datatype']=subtokens[0]\n",
    "                for subtoken in subtokens:\n",
    "                    if 'ch' in subtoken:\n",
    "                        self.tokendict[token]['channelindex']=int(subtoken.split('h')[1])\n",
    "                    if subtoken=='freq':\n",
    "                        tfreq=float(subtokens[1])\n",
    "                        self.tokendict[token]['freqdata']=tfreq\n",
    "                        closestind=np.argmin(np.abs(self.f_plot - tfreq))\n",
    "                        self.tokendict[token]['closest_fft_ind']=closestind\n",
    "                        print(f'Token {token}:')\n",
    "                        print(f'Closest fft frequency {self.f_plot[closestind]}')\n",
    "                    if subtoken=='fbin':\n",
    "                        bin_lst=[subtokens[1],subtokens[2]]\n",
    "                        for i in range(2):\n",
    "                            val=bin_lst[i]\n",
    "                            if val.startswith('0'):\n",
    "                                val=float('0.'+val[1:])\n",
    "                            else:\n",
    "                                val=float(val)\n",
    "                            bin_lst[i]=val\n",
    "                        self.tokendict[token]['freqdata']=tuple(bin_lst)\n",
    "                        self.tokendict[token]['fbin_idx']=self.fbins.index(self.tokendict[token]['freqdata'])\n",
    "    def set_default_actions(self):\n",
    "        observation_space_sample=self.observation_space.sample()\n",
    "        for key1 in observation_space_sample:\n",
    "            for key2 in self.out_dict:\n",
    "                if key1 in self.out_dict[key2]['init_val']:\n",
    "                    observation_space_sample[key2]=self.out_dict[key1]['init_val'][key2]\n",
    "\n",
    "        self.default_actions=observation_space_sample\n",
    "    def populate_rewarddict(self, observations):\n",
    "        for token, tokendata in self.tokendict.items():\n",
    "            tartype=tokendata['datatype']\n",
    "            tarchannelidx=tokendata['channelindex']\n",
    "            if tartype=='raw':\n",
    "                tarobs=observations['raw_data']\n",
    "                tarobs=tarobs[:,tarchannelidx]\n",
    "                res=np.mean(tarobs) #here we use the mean, but this may be changed\n",
    "            if tartype=='freq':\n",
    "                #tarfreq=tokendata['freqdata']\n",
    "                taridx=tokendata['closest_fft_ind']\n",
    "                tarobs=observations['fft'][tarchannelidx]\n",
    "                res=tarobs[taridx]\n",
    "            if tartype=='fbin':\n",
    "                tarobs=observations['fbins'][tarchannelidx]\n",
    "                res=tarobs[tokendata['fbin_idx']]\n",
    "            self.rewarddict[token]=res\n",
    "    def get_reward(self, observations=None, toreturn=False):\n",
    "        if str(observations) != \"None\":\n",
    "            observations=self.observation_space.sample() #if no observations are given extrernally, sample from the observation space\n",
    "        self.populate_rewarddict(observations)\n",
    "        self.reward=ne.evaluate(self.reward_formula_string, local_dict=self.rewarddict)\n",
    "        if toreturn==True:\n",
    "            return self.reward\n",
    "    def init_action_space(self):\n",
    "        self.action_space=spaces.Dict({})\n",
    "        for key, val in self.out_dict.items():\n",
    "            spacesnames=val['names']\n",
    "            spacesrange=val['value_range']\n",
    "            for spacename in spacesnames:\n",
    "                self.action_space.spaces[spacename]=spaces.Box(low=spacesrange['min'], high=spacesrange['max'], shape=(1,), dtype=int)\n",
    "    def init_observation_space(self):\n",
    "        self.observation_space=spaces.Dict({})\n",
    "        self.observation_space['raw_data']=spaces.Box(low=0, high=self.max_sfsystem_output, shape=(self.n_timepoints_per_sample, self.n_channels_of_interest), dtype=int) #n timepoints per sample rows, n input channels columns, signals should be normalized\n",
    "        if self.record_fft:\n",
    "            self.observation_space['fft']=spaces.Box(low=0.0, high=1.0, shape=(self.n_channels_of_interest, self.n_fft_values))\n",
    "        if self.record_fbins:\n",
    "            self.observation_space['fbins']=spaces.Box(low=0.0, high=1.0, shape=(self.n_channels_of_interest, self.n_fbins))\n",
    "    def set_fft_params(self):\n",
    "        self.sampling_frequency=int(1000/self.delay)\n",
    "        self.max_possible_fft_frequency=self.sampling_frequency/2\n",
    "        self.sampling_period=int(self.delay*self.n_timepoints_per_sample)\n",
    "        self.timesteps=np.linspace(0, (self.n_timepoints_per_sample-1)*self.delay, self.n_timepoints_per_sample)\n",
    "        self.fstep=self.sampling_frequency/self.n_timepoints_per_sample\n",
    "        self.f=np.linspace(0, (self.n_timepoints_per_sample-1)*self.fstep, self.n_timepoints_per_sample)\n",
    "        self.f_plot=self.f[0:int(self.n_timepoints_per_sample/2 + 1)]\n",
    "        self.n_fft_values=len(self.f_plot)\n",
    "\n",
    "    def connect(self):\n",
    "        websocket.enableTrace(False)\n",
    "        self.ws=websocket.WebSocket()\n",
    "        self.ws.connect(self.device_address)\n",
    "        self.connection_status=self.ws.recv()\n",
    "    \n",
    "    def get_fft_fromsignal(self, raw_singlech):\n",
    "        X=np.fft.fft(raw_singlech)\n",
    "        X_mag=np.abs(X)/self.n_timepoints_per_sample\n",
    "        X_mag_plot=2*X_mag[0:int(self.n_timepoints_per_sample/2 + 1)]\n",
    "        return X_mag_plot\n",
    "\n",
    "    def get_fft_allchannels(self, raw_data):\n",
    "        if str(raw_data) != \"None\":\n",
    "            raw_data=self.observation_space.sample()['raw_data']\n",
    "\n",
    "        fft_data=[]\n",
    "        for chindex in range(raw_data.shape[1]):\n",
    "            chraw=raw_data[:,chindex]\n",
    "            chfft=self.get_fft_fromsignal(chraw)\n",
    "            fft_data.append(chfft)\n",
    "        fft_data=np.array(fft_data)\n",
    "        return fft_data\n",
    "    \n",
    "    def get_bin_values_from_signal(self, fft_signlech):\n",
    "        fpl=np.array(self.f_plot)\n",
    "        xmp=np.array(fft_signlech)\n",
    "        magnitudes=[]\n",
    "        for low, high in self.fbins:\n",
    "            mask = (fpl >= low) & (fpl < high)\n",
    "            magnitude = np.abs(xmp[mask]).mean() #here can be other functions\n",
    "            magnitudes.append(magnitude)\n",
    "        magnitudes=np.array(magnitudes)\n",
    "        if True in np.isnan(magnitudes):\n",
    "            print('Warning: nan values among bin values detected!')\n",
    "        return magnitudes\n",
    "    def set_fbin_x_axis_labels(self):\n",
    "        self.fbin_axis_labels=[]\n",
    "        for low, high in self.fbins:\n",
    "            binname=f'{low}-{high} Hz'\n",
    "            self.fbin_axis_labels.append(binname)\n",
    "    def get_bin_values_allchannels(self, fft=None):\n",
    "        if str(fft) != \"None\":\n",
    "            fft=self.observation_space.sample()['fft']\n",
    "        fbins_data=[]\n",
    "        for chindex in range(fft.shape[0]):\n",
    "            chfft=fft[chindex]\n",
    "            chbins=self.get_bin_values_from_signal(chfft)\n",
    "            fbins_data.append(chbins)\n",
    "        fbins_data=np.array(fbins_data)\n",
    "        return fbins_data\n",
    "\n",
    "    def set_delay_and_data_transfer_buffer_size(self):\n",
    "        self.ws.send(\"set_delay_and_data_transfer_buffer_size\")\n",
    "        time.sleep(self.timesleep_period)\n",
    "        setup=False\n",
    "        while setup==False:\n",
    "            try:\n",
    "                device_msg=self.ws.recv()\n",
    "                if device_msg == \"Awaiting delay and data transfer buffer size in shape with space separator\":\n",
    "                    self.ws.send(f'{self.delay},{self.n_timepoints_per_sample}')\n",
    "                time.sleep(self.timesleep_period)\n",
    "                device_msg=self.ws.recv()\n",
    "                if device_msg == \"Delay and data transfer buffer size set up\":\n",
    "                    setup = True \n",
    "                    break;\n",
    "            except:\n",
    "                pass\n",
    "    def start_data_transfer_from_device(self):\n",
    "        self.ws.send(\"start_data_transfer_from_ads\")\n",
    "    def stop_data_transfer_from_device(self):\n",
    "        self.ws.send(\"stop_data_transfer_from_ads\")\n",
    "    def stop_audiovis_feedback(self):\n",
    "        self.ws.send(\"stop_led_cycle\")\n",
    "    def update_audiovis_feedback(self, update_dict=None):\n",
    "        if str(update_dict)!= 'None':\n",
    "            update_dict=self.action_space.sample()\n",
    "        self.ws.send(\"receive_output_control_data\")\n",
    "        outmsg_vals=[]\n",
    "        for controlnm in self.out_order:\n",
    "            outmsg_vals.append(update_dict[controlnm][0])\n",
    "        self.current_control_msg=','.join(list(map(str,outmsg_vals)))\n",
    "        self.ws.send(self.current_control_msg)\n",
    "    def sample_observations(self):\n",
    "        self.ws.send(\"start_data_transfer_from_ads\")\n",
    "        self.current_sample=json.loads(self.ws.recv())\n",
    "        self.raw_data=[]\n",
    "        for key, value in self.current_sample.items():\n",
    "            self.raw_data.append(value)\n",
    "        self.raw_data=np.array(self.raw_data).transpose()\n",
    "        self.raw_data=self.raw_data[:,self.channels_of_interest_inds]\n",
    "        self.ws.send(\"stop_data_transfer_from_ads\")\n",
    "    def sample_and_process_observations_from_device(self):\n",
    "        new_observations=dict()\n",
    "        self.sample_observations()\n",
    "        new_observations['raw_data']=self.raw_data\n",
    "        if self.do_fft:\n",
    "         self.fft=self.get_fft_allchannels(raw_data=self.raw_data)\n",
    "         if self.record_fft:\n",
    "            new_observations['fft']=self.fft\n",
    "        if self.do_fbins:\n",
    "            self.fbins_data=self.get_bin_values_allchannels(fft=self.fft)\n",
    "            if self.record_fbins:\n",
    "                new_observations['fbins']=self.fbins_data \n",
    "        new_observations=OrderedDict(new_observations)\n",
    "        return new_observations\n",
    "    def write_signal_logs(self):\n",
    "        if self.record_fft==True:\n",
    "            if self.write_fft==True:\n",
    "                self.write_tolog(json.dumps({'fft':self.cur_observations['fft'].tolist()}))\n",
    "        if self.record_fbins==True:\n",
    "            if self.write_bins==True:\n",
    "                self.write_tolog(json.dumps({'fbins':self.cur_observations['fbins'].tolist()}))\n",
    "        if self.record_raw==True:\n",
    "            if self.write_raw==True:\n",
    "                self.write_tolog(json.dumps({'raw_data':self.cur_observations['raw_data'].tolist()}))\n",
    "    def step(self, action):\n",
    "        self.done=False\n",
    "        self.best_overall_reward_now=False\n",
    "        self.update_audiovis_feedback(action)\n",
    "        time.sleep(self.step_stim_length)\n",
    "        self.current_actions=action\n",
    "        new_observations=self.sample_and_process_observations_from_device()\n",
    "        self.cur_observations=new_observations\n",
    "        reward=self.get_reward(observations=new_observations, toreturn=True)\n",
    "        reward_val=reward.tolist()\n",
    "        self.total_cur_episode_reward+=reward_val\n",
    "        if reward_val>self.episode_max_reward:\n",
    "                self.episode_max_reward=reward_val\n",
    "                self.best_episode_reward_now=True\n",
    "                self.best_action_episode=action\n",
    "        if reward_val>self.overall_max_reward:\n",
    "                self.overall_max_reward=reward_val\n",
    "                self.best_overall_reward_now=True\n",
    "                self.best_action_overall=action\n",
    "        if self.total_cur_episode_reward>self.total_episode_max_reward:\n",
    "            self.total_episode_max_reward=self.total_cur_episode_reward\n",
    "            self.best_total_episode_reward_now=True\n",
    "\n",
    "        if self.collect_data_toplot:\n",
    "            self.cur_episode_rewards.append(reward_val)\n",
    "        if self.log_steps:\n",
    "            self.write_tolog(json.dumps({'Episode':self.current_episode, 'Step': self.cur_step, 'Step reward': reward_val}))\n",
    "        if self.log_actions_every_step:\n",
    "            self.write_tolog(json.dumps({'Action reward':reward_val}))\n",
    "            actionstring=self.get_json_string_from_ordered_dict(action)\n",
    "            self.write_tolog(actionstring)\n",
    "        self.write_signal_logs()        \n",
    "              \n",
    "\n",
    "\n",
    "        if self.cur_step<self.n_steps_per_episode:\n",
    "            self.done=False\n",
    "            self.cur_step+=1\n",
    "        else:\n",
    "            self.done=True\n",
    "        return new_observations, reward, self.done, {} #False\n",
    "    def reset(self):\n",
    "        if self.cur_step>0:\n",
    "            if self.done:\n",
    "                if self.collect_data_toplot:\n",
    "                    self.previous_episodes_total_rewards.append(self.total_cur_episode_reward)\n",
    "                    self.previous_episodes_max_rewards.append(self.episode_max_reward)\n",
    "                if self.log_episodes:\n",
    "                    self.write_tolog(json.dumps({'Episode':self.current_episode, 'Episode total reward': self.total_cur_episode_reward, 'Episode max reward': self.episode_max_reward}))\n",
    "                if self.log_best_actions_every_episode:\n",
    "                    actionstring=self.get_json_string_from_ordered_dict(self.best_action_episode)\n",
    "                    self.write_tolog(json.dumps({'Best action in the episode reward':self.episode_max_reward}))\n",
    "                    self.write_tolog(actionstring)\n",
    "        self.stop_audiovis_feedback()\n",
    "        self.cur_step=0\n",
    "        self.episode_max_reward=0\n",
    "        self.total_cur_episode_reward=0\n",
    "\n",
    "        self.done=False\n",
    "        self.best_episode_reward_now=False #just in case\n",
    "        self.best_overall_reward_now=False #just in case\n",
    "        self.best_total_episode_reward_now=False #just in case\n",
    "\n",
    "        self.best_action_epoch=None\n",
    "\n",
    "        new_observations=self.sample_and_process_observations_from_device()\n",
    "        self.cur_observations=new_observations\n",
    "        self.update_audiovis_feedback(update_dict=self.default_actions) #update back to default actions\n",
    "        if self.collect_data_toplot==True:\n",
    "            self.previous_episodes_max_rewards.append(self.episode_max_reward)\n",
    "            self.cur_episode_rewards=[]\n",
    "        time.sleep(self.step_stim_length) #prepare the brain for the next episode \n",
    "        return new_observations, {}\n",
    "\n",
    "    def get_json_string_from_ordered_dict(self, od):\n",
    "        od=dict(od)\n",
    "        for key, value in od.items():\n",
    "            od[key]=value.tolist()\n",
    "        return json.dumps(od)\n",
    "\n",
    "    def render(self, elems=['reward_lineplots', 'current_fft', 'current_fbins'], return_figs=False):\n",
    "        if return_figs==None:\n",
    "            return_figs=self.return_plotly_figs\n",
    "        figures=dict()\n",
    "        if 'reward_lineplots' in elems:\n",
    "            training_fig=sp.make_subplots(rows=2, cols=2)\n",
    "            training_fig.update_layout(width=self.training_plot_width, height = self.training_plot_height)\n",
    "            training_fig.add_trace(sp.go.Scatter(x=list(range(len(self.cur_episode_rewards))), y=self.cur_episode_rewards, mode='lines+markers', name='Current episode rewards'), row=1, col=1)\n",
    "            training_fig.add_trace(sp.go.Scatter(x=list(range(len(self.previous_episodes_max_rewards))), y=self.previous_episodes_max_rewards, mode='lines+markers', name='Previous episode max rewards'), row=1, col=2)\n",
    "            training_fig.add_trace(sp.go.Scatter(x=list(range(len(self.previous_episodes_total_rewards))), y=self.previous_episodes_total_rewards, mode='lines+markers', name='Previous episode total rewards'), row=2, col=1)           \n",
    "            figures['reward_lineplots']=training_fig\n",
    "            if self.render_data:\n",
    "                training_fig.show()\n",
    "        if ('current_fft' in elems) or ('current_fbins' in elems):\n",
    "            if self.record_fft or self.record_fbins:\n",
    "                signal_fig=sp.make_subplots(rows=self.n_channels_of_interest, cols=2)\n",
    "                signal_fig.update_layout(width=self.signal_plot_width, height = self.signal_plot_height)\n",
    "                if 'current_fft' in elems and self.record_fft:\n",
    "                    for chidx in range(self.n_channels_of_interest):\n",
    "                        orig_chidx=self.channels_of_interest_inds[chidx]\n",
    "                        chfft=self.cur_observations['fft'][chidx]\n",
    "                        signal_fig.add_trace(sp.go.Scatter(x=self.f_plot, y=chfft, mode='lines+markers', name=f'Channel {orig_chidx} spectrum'), row=chidx+1, col=1)\n",
    "                if 'current_fbins' in elems and self.record_fbins:\n",
    "                    for chidx in range(self.n_channels_of_interest):\n",
    "                        orig_chidx=self.channels_of_interest_inds[chidx]\n",
    "                        chbins=self.cur_observations['fbins'][chidx]\n",
    "                        signal_fig.add_trace(sp.go.Bar(x=self.fbin_axis_labels, y=chbins, name=f'Channel {orig_chidx} frequency bins'), row=chidx+1, col=2)\n",
    "                if self.render_data:\n",
    "                    signal_fig.show()\n",
    "        if return_figs:\n",
    "            return figures\n",
    "    def clear_reward_buffers(self):\n",
    "        self.cur_episode_rewards=[]\n",
    "        self.previous_episodes_max_rewards=[]\n",
    "        self.previous_episodes_total_rewards=[]\n",
    "    def clear_reward_stats(self):\n",
    "        self.episode_max_reward=0\n",
    "        self.overall_max_reward=0\n",
    "        self.total_cur_episode_reward=0\n",
    "        self.total_episode_max_reward=0\n",
    "        self.best_episode_reward_now=False\n",
    "        self.best_overall_reward_now=False\n",
    "        self.best_total_episode_reward_now=False\n",
    "    def close(self, clear_log=False):\n",
    "        if self.log_best_actions_final:\n",
    "            actionstring=self.get_json_string_from_ordered_dict(self.best_action_overall)\n",
    "            self.write_tolog(json.dumps({'Best action across episodes reward':self.overall_max_reward}))\n",
    "            self.write_tolog(actionstring)\n",
    "        self.stop_audiovis_feedback() #just in case\n",
    "        self.stop_data_transfer_from_device() #just in case\n",
    "        self.cur_step=0 #just in case\n",
    "        self.current_episode=0\n",
    "\n",
    "        self.clear_reward_buffers()\n",
    "        self.clear_reward_stats()\n",
    "        if clear_log:\n",
    "            self.clear_log()\n",
    "        self.ws.close()\n",
    "        \n",
    "        \n",
    "class FlattenActionSpaceWrapper(gym.Wrapper):\n",
    "    def __init__(self, env):\n",
    "        super().__init__(env)\n",
    "        # Flatten the action space\n",
    "        self.action_space = self._flatten_action_space(env.action_space)\n",
    "\n",
    "    def _flatten_action_space(self, original_space):\n",
    "        # Calculate the total size of the flattened action space\n",
    "        total_size = sum(space.shape[0] for space in original_space.spaces.values())\n",
    "        # Create a new Box space with the total size\n",
    "        return spaces.Box(low=np.concatenate([space.low for space in original_space.spaces.values()]),\n",
    "                            high=np.concatenate([space.high for space in original_space.spaces.values()]),\n",
    "                            shape=(total_size,),\n",
    "                            dtype=np.int64)\n",
    "\n",
    "    def step(self, action):\n",
    "        # Convert the flattened action back to the original action space format\n",
    "        original_action = self._unflatten_action(action)\n",
    "        return super().step(original_action)\n",
    "\n",
    "    def _unflatten_action(self, action):\n",
    "        # Split the flattened action into the original spaces\n",
    "        original_action = {}\n",
    "        start = 0\n",
    "        for key, space in self.env.action_space.spaces.items():\n",
    "            end = start + space.shape[0]\n",
    "            original_action[key] = action[start:end]\n",
    "            start = end\n",
    "        return original_action"
   ]
  },
  {
   "cell_type": "code",
   "execution_count": 2,
   "metadata": {},
   "outputs": [
    {
     "name": "stderr",
     "output_type": "stream",
     "text": [
      "2024-03-11 06:47:36.706323: I tensorflow/core/util/port.cc:113] oneDNN custom operations are on. You may see slightly different numerical results due to floating-point round-off errors from different computation orders. To turn them off, set the environment variable `TF_ENABLE_ONEDNN_OPTS=0`.\n",
      "2024-03-11 06:47:36.726749: E external/local_xla/xla/stream_executor/cuda/cuda_dnn.cc:9261] Unable to register cuDNN factory: Attempting to register factory for plugin cuDNN when one has already been registered\n",
      "2024-03-11 06:47:36.726773: E external/local_xla/xla/stream_executor/cuda/cuda_fft.cc:607] Unable to register cuFFT factory: Attempting to register factory for plugin cuFFT when one has already been registered\n",
      "2024-03-11 06:47:36.727437: E external/local_xla/xla/stream_executor/cuda/cuda_blas.cc:1515] Unable to register cuBLAS factory: Attempting to register factory for plugin cuBLAS when one has already been registered\n",
      "2024-03-11 06:47:36.731726: I tensorflow/core/platform/cpu_feature_guard.cc:182] This TensorFlow binary is optimized to use available CPU instructions in performance-critical operations.\n",
      "To enable the following instructions: AVX2 AVX_VNNI FMA, in other operations, rebuild TensorFlow with the appropriate compiler flags.\n",
      "2024-03-11 06:47:37.163889: W tensorflow/compiler/tf2tensorrt/utils/py_utils.cc:38] TF-TRT Warning: Could not find TensorRT\n"
     ]
    }
   ],
   "source": [
    "from stable_baselines3 import A2C\n",
    "from stable_baselines3.common.env_checker import check_env\n",
    "from gym.wrappers import FlattenObservation\n",
    "from stable_baselines3 import PPO, SAC, DDPG, TD3, A2C, DQN\n",
    "from IPython.display import clear_output\n",
    "\n",
    "class stable_baselines_model_trainer():\n",
    "    def __init__(self, initialized_environment, algorithm='A2C', policy='MlpPolicy'):\n",
    "        self.env=initialized_environment\n",
    "        self.env = FlattenObservation(self.env)\n",
    "        self.env = FlattenActionSpaceWrapper(self.env)\n",
    "        self.algorithm=algorithm\n",
    "        self.policy=policy\n",
    "        self.set_model()\n",
    "        self.max_test_reward=0\n",
    "    def set_model(self):\n",
    "        if self.algorithm=='PPO':\n",
    "            self.model = PPO(self.policy, self.env)\n",
    "        if self.algorithm=='SAC':\n",
    "            self.model = SAC(self.policy, self.env)\n",
    "        if self.algorithm=='DDPG':\n",
    "            self.model = DDPG(self.policy, self.env)\n",
    "        if self.algorithm=='TD3':\n",
    "            self.model = TD3(self.policy, self.env)\n",
    "        if self.algorithm=='A2C':\n",
    "            self.model = A2C(self.policy, self.env)\n",
    "        if self.algorithm=='DQN':\n",
    "            self.model = DQN(self.policy, self.env)\n",
    "    \n",
    "    def close_env(self):\n",
    "        self.env.close()\n",
    "\n",
    "    def train(self, num_episodes=5, log_model=True, get_plots=False, render_plots=True, log_or_plot_every_n_timesteps=2):\n",
    "        for i in range(num_episodes):\n",
    "            self.cur_n_timesteps=0\n",
    "            while self.cur_n_timesteps<int(self.env.n_steps_per_episode/6): #here-for A2C\n",
    "                self.model.learn(total_timesteps=log_or_plot_every_n_timesteps)\n",
    "                self.cur_n_timesteps+=log_or_plot_every_n_timesteps\n",
    "                if render_plots:\n",
    "                    if get_plots:\n",
    "                        figs=self.env.render(return_figs=True)\n",
    "                    else:\n",
    "                        self.env.render()\n",
    "                    clear_output(wait=True)\n",
    "                if log_model:\n",
    "                    if self.env.best_overall_reward_now:\n",
    "                        self.model.save(\"best_overall_reward_model\")\n",
    "                    if self.env.best_total_episode_reward_now:\n",
    "                        self.model.save(\"best_total_episode_reward_model\")\n",
    "        self.env.stop_audiovis_feedback()            \n",
    "#            obs=self.env.reset()[0]\n",
    "#            done=False\n",
    "#            while not done:\n",
    "#                action, _states = self.model.predict(obs, deterministic=True)\n",
    "#                obs, reward, done, info = self.env.step(action)\n",
    "#                if reward>self.max_test_reward:\n",
    "#                    self.max_test_reward=reward\n",
    "#                    if log_model:\n",
    "#                        self.model.save(\"best_test_reward_model\")\n",
    "\n",
    "\n",
    "        \n",
    "        \n",
    "        \n",
    "\n",
    "\n",
    "\n",
    "\n",
    "        \n"
   ]
  },
  {
   "cell_type": "code",
   "execution_count": 8,
   "metadata": {},
   "outputs": [
    {
     "name": "stdout",
     "output_type": "stream",
     "text": [
      "Token freq_30_ch0:\n",
      "Closest fft frequency 30.0\n",
      "Connected\n",
      "Delay and data transfer buffer size are set up.\n",
      "Default actions are set.\n"
     ]
    }
   ],
   "source": [
    "env = SFSystemCommunicator(step_stim_length_millis=1000, episode_time_seconds=10)"
   ]
  },
  {
   "cell_type": "code",
   "execution_count": 18,
   "metadata": {},
   "outputs": [],
   "source": [
    "env=FlattenObservation(env)\n",
    "env=FlattenActionSpaceWrapper(env)\n",
    "model=A2C('MlpPolicy', env,  verbose=1)\n",
    "model.learn(total_timesteps=1)"
   ]
  },
  {
   "cell_type": "code",
   "execution_count": 11,
   "metadata": {},
   "outputs": [],
   "source": [
    "env.close()"
   ]
  },
  {
   "cell_type": "code",
   "execution_count": null,
   "metadata": {},
   "outputs": [],
   "source": [
    "env.stop_audiovis_feedback()"
   ]
  },
  {
   "cell_type": "code",
   "execution_count": 4,
   "metadata": {},
   "outputs": [
    {
     "data": {
      "text/plain": [
       "10"
      ]
     },
     "execution_count": 4,
     "metadata": {},
     "output_type": "execute_result"
    }
   ],
   "source": [
    "env.n_steps_per_episode"
   ]
  },
  {
   "cell_type": "code",
   "execution_count": 9,
   "metadata": {},
   "outputs": [
    {
     "name": "stderr",
     "output_type": "stream",
     "text": [
      "/home/biorp/.local/lib/python3.10/site-packages/stable_baselines3/common/vec_env/patch_gym.py:49: UserWarning:\n",
      "\n",
      "You provided an OpenAI Gym environment. We strongly recommend transitioning to Gymnasium environments. Stable-Baselines3 is automatically wrapping your environments in a compatibility layer, which could potentially cause issues.\n",
      "\n"
     ]
    }
   ],
   "source": [
    "trainer=stable_baselines_model_trainer(initialized_environment=env)"
   ]
  },
  {
   "cell_type": "code",
   "execution_count": 10,
   "metadata": {},
   "outputs": [
    {
     "data": {
      "application/vnd.plotly.v1+json": {
       "config": {
        "plotlyServerURL": "https://plot.ly"
       },
       "data": [
        {
         "mode": "lines+markers",
         "name": "Current episode rewards",
         "type": "scatter",
         "x": [
          0,
          1,
          2,
          3,
          4
         ],
         "xaxis": "x",
         "y": [
          1.5000708103179932,
          1.4748196601867676,
          2.728560209274292,
          8.559595108032227,
          9.506654739379883
         ],
         "yaxis": "y"
        },
        {
         "mode": "lines+markers",
         "name": "Previous episode max rewards",
         "type": "scatter",
         "x": [
          0,
          1,
          2,
          3
         ],
         "xaxis": "x2",
         "y": [
          0,
          0,
          3.436797857284546,
          0
         ],
         "yaxis": "y2"
        },
        {
         "mode": "lines+markers",
         "name": "Previous episode total rewards",
         "type": "scatter",
         "x": [
          0
         ],
         "xaxis": "x3",
         "y": [
          19.04800647497177
         ],
         "yaxis": "y3"
        }
       ],
       "layout": {
        "height": 500,
        "template": {
         "data": {
          "bar": [
           {
            "error_x": {
             "color": "#2a3f5f"
            },
            "error_y": {
             "color": "#2a3f5f"
            },
            "marker": {
             "line": {
              "color": "#E5ECF6",
              "width": 0.5
             },
             "pattern": {
              "fillmode": "overlay",
              "size": 10,
              "solidity": 0.2
             }
            },
            "type": "bar"
           }
          ],
          "barpolar": [
           {
            "marker": {
             "line": {
              "color": "#E5ECF6",
              "width": 0.5
             },
             "pattern": {
              "fillmode": "overlay",
              "size": 10,
              "solidity": 0.2
             }
            },
            "type": "barpolar"
           }
          ],
          "carpet": [
           {
            "aaxis": {
             "endlinecolor": "#2a3f5f",
             "gridcolor": "white",
             "linecolor": "white",
             "minorgridcolor": "white",
             "startlinecolor": "#2a3f5f"
            },
            "baxis": {
             "endlinecolor": "#2a3f5f",
             "gridcolor": "white",
             "linecolor": "white",
             "minorgridcolor": "white",
             "startlinecolor": "#2a3f5f"
            },
            "type": "carpet"
           }
          ],
          "choropleth": [
           {
            "colorbar": {
             "outlinewidth": 0,
             "ticks": ""
            },
            "type": "choropleth"
           }
          ],
          "contour": [
           {
            "colorbar": {
             "outlinewidth": 0,
             "ticks": ""
            },
            "colorscale": [
             [
              0,
              "#0d0887"
             ],
             [
              0.1111111111111111,
              "#46039f"
             ],
             [
              0.2222222222222222,
              "#7201a8"
             ],
             [
              0.3333333333333333,
              "#9c179e"
             ],
             [
              0.4444444444444444,
              "#bd3786"
             ],
             [
              0.5555555555555556,
              "#d8576b"
             ],
             [
              0.6666666666666666,
              "#ed7953"
             ],
             [
              0.7777777777777778,
              "#fb9f3a"
             ],
             [
              0.8888888888888888,
              "#fdca26"
             ],
             [
              1,
              "#f0f921"
             ]
            ],
            "type": "contour"
           }
          ],
          "contourcarpet": [
           {
            "colorbar": {
             "outlinewidth": 0,
             "ticks": ""
            },
            "type": "contourcarpet"
           }
          ],
          "heatmap": [
           {
            "colorbar": {
             "outlinewidth": 0,
             "ticks": ""
            },
            "colorscale": [
             [
              0,
              "#0d0887"
             ],
             [
              0.1111111111111111,
              "#46039f"
             ],
             [
              0.2222222222222222,
              "#7201a8"
             ],
             [
              0.3333333333333333,
              "#9c179e"
             ],
             [
              0.4444444444444444,
              "#bd3786"
             ],
             [
              0.5555555555555556,
              "#d8576b"
             ],
             [
              0.6666666666666666,
              "#ed7953"
             ],
             [
              0.7777777777777778,
              "#fb9f3a"
             ],
             [
              0.8888888888888888,
              "#fdca26"
             ],
             [
              1,
              "#f0f921"
             ]
            ],
            "type": "heatmap"
           }
          ],
          "heatmapgl": [
           {
            "colorbar": {
             "outlinewidth": 0,
             "ticks": ""
            },
            "colorscale": [
             [
              0,
              "#0d0887"
             ],
             [
              0.1111111111111111,
              "#46039f"
             ],
             [
              0.2222222222222222,
              "#7201a8"
             ],
             [
              0.3333333333333333,
              "#9c179e"
             ],
             [
              0.4444444444444444,
              "#bd3786"
             ],
             [
              0.5555555555555556,
              "#d8576b"
             ],
             [
              0.6666666666666666,
              "#ed7953"
             ],
             [
              0.7777777777777778,
              "#fb9f3a"
             ],
             [
              0.8888888888888888,
              "#fdca26"
             ],
             [
              1,
              "#f0f921"
             ]
            ],
            "type": "heatmapgl"
           }
          ],
          "histogram": [
           {
            "marker": {
             "pattern": {
              "fillmode": "overlay",
              "size": 10,
              "solidity": 0.2
             }
            },
            "type": "histogram"
           }
          ],
          "histogram2d": [
           {
            "colorbar": {
             "outlinewidth": 0,
             "ticks": ""
            },
            "colorscale": [
             [
              0,
              "#0d0887"
             ],
             [
              0.1111111111111111,
              "#46039f"
             ],
             [
              0.2222222222222222,
              "#7201a8"
             ],
             [
              0.3333333333333333,
              "#9c179e"
             ],
             [
              0.4444444444444444,
              "#bd3786"
             ],
             [
              0.5555555555555556,
              "#d8576b"
             ],
             [
              0.6666666666666666,
              "#ed7953"
             ],
             [
              0.7777777777777778,
              "#fb9f3a"
             ],
             [
              0.8888888888888888,
              "#fdca26"
             ],
             [
              1,
              "#f0f921"
             ]
            ],
            "type": "histogram2d"
           }
          ],
          "histogram2dcontour": [
           {
            "colorbar": {
             "outlinewidth": 0,
             "ticks": ""
            },
            "colorscale": [
             [
              0,
              "#0d0887"
             ],
             [
              0.1111111111111111,
              "#46039f"
             ],
             [
              0.2222222222222222,
              "#7201a8"
             ],
             [
              0.3333333333333333,
              "#9c179e"
             ],
             [
              0.4444444444444444,
              "#bd3786"
             ],
             [
              0.5555555555555556,
              "#d8576b"
             ],
             [
              0.6666666666666666,
              "#ed7953"
             ],
             [
              0.7777777777777778,
              "#fb9f3a"
             ],
             [
              0.8888888888888888,
              "#fdca26"
             ],
             [
              1,
              "#f0f921"
             ]
            ],
            "type": "histogram2dcontour"
           }
          ],
          "mesh3d": [
           {
            "colorbar": {
             "outlinewidth": 0,
             "ticks": ""
            },
            "type": "mesh3d"
           }
          ],
          "parcoords": [
           {
            "line": {
             "colorbar": {
              "outlinewidth": 0,
              "ticks": ""
             }
            },
            "type": "parcoords"
           }
          ],
          "pie": [
           {
            "automargin": true,
            "type": "pie"
           }
          ],
          "scatter": [
           {
            "fillpattern": {
             "fillmode": "overlay",
             "size": 10,
             "solidity": 0.2
            },
            "type": "scatter"
           }
          ],
          "scatter3d": [
           {
            "line": {
             "colorbar": {
              "outlinewidth": 0,
              "ticks": ""
             }
            },
            "marker": {
             "colorbar": {
              "outlinewidth": 0,
              "ticks": ""
             }
            },
            "type": "scatter3d"
           }
          ],
          "scattercarpet": [
           {
            "marker": {
             "colorbar": {
              "outlinewidth": 0,
              "ticks": ""
             }
            },
            "type": "scattercarpet"
           }
          ],
          "scattergeo": [
           {
            "marker": {
             "colorbar": {
              "outlinewidth": 0,
              "ticks": ""
             }
            },
            "type": "scattergeo"
           }
          ],
          "scattergl": [
           {
            "marker": {
             "colorbar": {
              "outlinewidth": 0,
              "ticks": ""
             }
            },
            "type": "scattergl"
           }
          ],
          "scattermapbox": [
           {
            "marker": {
             "colorbar": {
              "outlinewidth": 0,
              "ticks": ""
             }
            },
            "type": "scattermapbox"
           }
          ],
          "scatterpolar": [
           {
            "marker": {
             "colorbar": {
              "outlinewidth": 0,
              "ticks": ""
             }
            },
            "type": "scatterpolar"
           }
          ],
          "scatterpolargl": [
           {
            "marker": {
             "colorbar": {
              "outlinewidth": 0,
              "ticks": ""
             }
            },
            "type": "scatterpolargl"
           }
          ],
          "scatterternary": [
           {
            "marker": {
             "colorbar": {
              "outlinewidth": 0,
              "ticks": ""
             }
            },
            "type": "scatterternary"
           }
          ],
          "surface": [
           {
            "colorbar": {
             "outlinewidth": 0,
             "ticks": ""
            },
            "colorscale": [
             [
              0,
              "#0d0887"
             ],
             [
              0.1111111111111111,
              "#46039f"
             ],
             [
              0.2222222222222222,
              "#7201a8"
             ],
             [
              0.3333333333333333,
              "#9c179e"
             ],
             [
              0.4444444444444444,
              "#bd3786"
             ],
             [
              0.5555555555555556,
              "#d8576b"
             ],
             [
              0.6666666666666666,
              "#ed7953"
             ],
             [
              0.7777777777777778,
              "#fb9f3a"
             ],
             [
              0.8888888888888888,
              "#fdca26"
             ],
             [
              1,
              "#f0f921"
             ]
            ],
            "type": "surface"
           }
          ],
          "table": [
           {
            "cells": {
             "fill": {
              "color": "#EBF0F8"
             },
             "line": {
              "color": "white"
             }
            },
            "header": {
             "fill": {
              "color": "#C8D4E3"
             },
             "line": {
              "color": "white"
             }
            },
            "type": "table"
           }
          ]
         },
         "layout": {
          "annotationdefaults": {
           "arrowcolor": "#2a3f5f",
           "arrowhead": 0,
           "arrowwidth": 1
          },
          "autotypenumbers": "strict",
          "coloraxis": {
           "colorbar": {
            "outlinewidth": 0,
            "ticks": ""
           }
          },
          "colorscale": {
           "diverging": [
            [
             0,
             "#8e0152"
            ],
            [
             0.1,
             "#c51b7d"
            ],
            [
             0.2,
             "#de77ae"
            ],
            [
             0.3,
             "#f1b6da"
            ],
            [
             0.4,
             "#fde0ef"
            ],
            [
             0.5,
             "#f7f7f7"
            ],
            [
             0.6,
             "#e6f5d0"
            ],
            [
             0.7,
             "#b8e186"
            ],
            [
             0.8,
             "#7fbc41"
            ],
            [
             0.9,
             "#4d9221"
            ],
            [
             1,
             "#276419"
            ]
           ],
           "sequential": [
            [
             0,
             "#0d0887"
            ],
            [
             0.1111111111111111,
             "#46039f"
            ],
            [
             0.2222222222222222,
             "#7201a8"
            ],
            [
             0.3333333333333333,
             "#9c179e"
            ],
            [
             0.4444444444444444,
             "#bd3786"
            ],
            [
             0.5555555555555556,
             "#d8576b"
            ],
            [
             0.6666666666666666,
             "#ed7953"
            ],
            [
             0.7777777777777778,
             "#fb9f3a"
            ],
            [
             0.8888888888888888,
             "#fdca26"
            ],
            [
             1,
             "#f0f921"
            ]
           ],
           "sequentialminus": [
            [
             0,
             "#0d0887"
            ],
            [
             0.1111111111111111,
             "#46039f"
            ],
            [
             0.2222222222222222,
             "#7201a8"
            ],
            [
             0.3333333333333333,
             "#9c179e"
            ],
            [
             0.4444444444444444,
             "#bd3786"
            ],
            [
             0.5555555555555556,
             "#d8576b"
            ],
            [
             0.6666666666666666,
             "#ed7953"
            ],
            [
             0.7777777777777778,
             "#fb9f3a"
            ],
            [
             0.8888888888888888,
             "#fdca26"
            ],
            [
             1,
             "#f0f921"
            ]
           ]
          },
          "colorway": [
           "#636efa",
           "#EF553B",
           "#00cc96",
           "#ab63fa",
           "#FFA15A",
           "#19d3f3",
           "#FF6692",
           "#B6E880",
           "#FF97FF",
           "#FECB52"
          ],
          "font": {
           "color": "#2a3f5f"
          },
          "geo": {
           "bgcolor": "white",
           "lakecolor": "white",
           "landcolor": "#E5ECF6",
           "showlakes": true,
           "showland": true,
           "subunitcolor": "white"
          },
          "hoverlabel": {
           "align": "left"
          },
          "hovermode": "closest",
          "mapbox": {
           "style": "light"
          },
          "paper_bgcolor": "white",
          "plot_bgcolor": "#E5ECF6",
          "polar": {
           "angularaxis": {
            "gridcolor": "white",
            "linecolor": "white",
            "ticks": ""
           },
           "bgcolor": "#E5ECF6",
           "radialaxis": {
            "gridcolor": "white",
            "linecolor": "white",
            "ticks": ""
           }
          },
          "scene": {
           "xaxis": {
            "backgroundcolor": "#E5ECF6",
            "gridcolor": "white",
            "gridwidth": 2,
            "linecolor": "white",
            "showbackground": true,
            "ticks": "",
            "zerolinecolor": "white"
           },
           "yaxis": {
            "backgroundcolor": "#E5ECF6",
            "gridcolor": "white",
            "gridwidth": 2,
            "linecolor": "white",
            "showbackground": true,
            "ticks": "",
            "zerolinecolor": "white"
           },
           "zaxis": {
            "backgroundcolor": "#E5ECF6",
            "gridcolor": "white",
            "gridwidth": 2,
            "linecolor": "white",
            "showbackground": true,
            "ticks": "",
            "zerolinecolor": "white"
           }
          },
          "shapedefaults": {
           "line": {
            "color": "#2a3f5f"
           }
          },
          "ternary": {
           "aaxis": {
            "gridcolor": "white",
            "linecolor": "white",
            "ticks": ""
           },
           "baxis": {
            "gridcolor": "white",
            "linecolor": "white",
            "ticks": ""
           },
           "bgcolor": "#E5ECF6",
           "caxis": {
            "gridcolor": "white",
            "linecolor": "white",
            "ticks": ""
           }
          },
          "title": {
           "x": 0.05
          },
          "xaxis": {
           "automargin": true,
           "gridcolor": "white",
           "linecolor": "white",
           "ticks": "",
           "title": {
            "standoff": 15
           },
           "zerolinecolor": "white",
           "zerolinewidth": 2
          },
          "yaxis": {
           "automargin": true,
           "gridcolor": "white",
           "linecolor": "white",
           "ticks": "",
           "title": {
            "standoff": 15
           },
           "zerolinecolor": "white",
           "zerolinewidth": 2
          }
         }
        },
        "width": 2000,
        "xaxis": {
         "anchor": "y",
         "domain": [
          0,
          0.45
         ]
        },
        "xaxis2": {
         "anchor": "y2",
         "domain": [
          0.55,
          1
         ]
        },
        "xaxis3": {
         "anchor": "y3",
         "domain": [
          0,
          0.45
         ]
        },
        "xaxis4": {
         "anchor": "y4",
         "domain": [
          0.55,
          1
         ]
        },
        "yaxis": {
         "anchor": "x",
         "domain": [
          0.575,
          1
         ]
        },
        "yaxis2": {
         "anchor": "x2",
         "domain": [
          0.575,
          1
         ]
        },
        "yaxis3": {
         "anchor": "x3",
         "domain": [
          0,
          0.425
         ]
        },
        "yaxis4": {
         "anchor": "x4",
         "domain": [
          0,
          0.425
         ]
        }
       }
      }
     },
     "metadata": {},
     "output_type": "display_data"
    },
    {
     "data": {
      "application/vnd.plotly.v1+json": {
       "config": {
        "plotlyServerURL": "https://plot.ly"
       },
       "data": [
        {
         "mode": "lines+markers",
         "name": "Channel 0 spectrum",
         "type": "scatter",
         "x": [
          0,
          1,
          2,
          3,
          4,
          5,
          6,
          7,
          8,
          9,
          10,
          11,
          12,
          13,
          14,
          15,
          16,
          17,
          18,
          19,
          20,
          21,
          22,
          23,
          24,
          25,
          26,
          27,
          28,
          29,
          30,
          31,
          32,
          33,
          34,
          35,
          36,
          37,
          38,
          39,
          40,
          41,
          42,
          43,
          44,
          45,
          46,
          47,
          48,
          49,
          50
         ],
         "xaxis": "x",
         "y": [
          928.26,
          48.14932147837776,
          98.97779922814867,
          47.72275336248673,
          15.745217532197287,
          91.41933895682105,
          26.108242077348454,
          36.20817645223471,
          40.93428457024409,
          36.83542006176928,
          31.259603864684408,
          24.86210607482037,
          46.823699175610244,
          21.923417043311236,
          63.905445856866436,
          46.1879027390919,
          37.86403972161241,
          45.87327690428943,
          108.9374387572566,
          30.968535673417094,
          37.63542012068485,
          60.18433524448191,
          35.703377463623035,
          58.34167348201779,
          15.925558910623106,
          41.07180541442024,
          119.32827078656894,
          37.898563492572606,
          71.05857912026455,
          23.388065136425336,
          13.502635528777603,
          118.53023923253919,
          25.694184591821294,
          53.19601820866621,
          108.21328261063199,
          52.589559792195985,
          39.74245636720815,
          18.049382326850505,
          90.55397755939468,
          37.52017762101806,
          74.63853128471615,
          89.22944817306052,
          10.972299820745969,
          46.29767404240287,
          56.71064539912904,
          43.560315725727854,
          97.8201577521324,
          64.52672845634342,
          90.84562624765029,
          38.3045136536388,
          23.1
         ],
         "yaxis": "y"
        },
        {
         "mode": "lines+markers",
         "name": "Channel 1 spectrum",
         "type": "scatter",
         "x": [
          0,
          1,
          2,
          3,
          4,
          5,
          6,
          7,
          8,
          9,
          10,
          11,
          12,
          13,
          14,
          15,
          16,
          17,
          18,
          19,
          20,
          21,
          22,
          23,
          24,
          25,
          26,
          27,
          28,
          29,
          30,
          31,
          32,
          33,
          34,
          35,
          36,
          37,
          38,
          39,
          40,
          41,
          42,
          43,
          44,
          45,
          46,
          47,
          48,
          49,
          50
         ],
         "xaxis": "x3",
         "y": [
          940.82,
          39.218256125779355,
          85.31473593425542,
          29.756099801099307,
          116.76646737804744,
          102.19460980521895,
          75.82297711200275,
          18.738670358870475,
          10.79349097607882,
          64.49985592334446,
          58.41948591372823,
          45.37063499564334,
          26.63483256577026,
          72.9691342773845,
          38.94375353039657,
          49.56149207115015,
          101.83277597916651,
          40.67363426700456,
          97.4298973920389,
          62.886282398657244,
          31.689898016631254,
          118.33094822846716,
          51.8781981806283,
          4.814049913471981,
          90.58387895164658,
          56.59761479073124,
          74.78619614252838,
          77.22940847774072,
          27.72510585206696,
          8.527743021568336,
          41.1565409816679,
          64.3033810458133,
          107.90468724957955,
          28.305941894856097,
          39.411168259603826,
          75.51949544829564,
          48.924973438791625,
          88.89898519857829,
          15.67765363120985,
          70.44907121793534,
          30.82410037122756,
          27.885790539442606,
          46.8860024484639,
          25.996802599600493,
          66.27528663763233,
          56.123560450805506,
          112.40111350418125,
          95.46199049585955,
          22.28136628260719,
          41.2652425221366,
          90.86
         ],
         "yaxis": "y3"
        },
        {
         "mode": "lines+markers",
         "name": "Channel 2 spectrum",
         "type": "scatter",
         "x": [
          0,
          1,
          2,
          3,
          4,
          5,
          6,
          7,
          8,
          9,
          10,
          11,
          12,
          13,
          14,
          15,
          16,
          17,
          18,
          19,
          20,
          21,
          22,
          23,
          24,
          25,
          26,
          27,
          28,
          29,
          30,
          31,
          32,
          33,
          34,
          35,
          36,
          37,
          38,
          39,
          40,
          41,
          42,
          43,
          44,
          45,
          46,
          47,
          48,
          49,
          50
         ],
         "xaxis": "x5",
         "y": [
          1047.44,
          96.77626236136315,
          64.00416594247027,
          62.236037286043086,
          57.65564396615278,
          25.63729064197115,
          41.28087273237906,
          26.017163490166368,
          82.65143944514818,
          22.224153513983087,
          15.866977859193641,
          66.51916756536082,
          66.03986539960792,
          12.301516348713196,
          82.22854912130903,
          54.51280974062401,
          51.75013532606601,
          71.43850284309225,
          40.51070656401793,
          24.221193479828404,
          29.120774663895023,
          49.59313564008621,
          58.144252530503955,
          36.20723475910414,
          53.001390222995944,
          23.453647903897593,
          36.11409735050718,
          80.04888615185679,
          35.22627421032599,
          77.76784057740147,
          54.784594674195226,
          55.645620279518,
          43.79923177861656,
          99.9037984430826,
          87.01935474375398,
          120.84313018975716,
          57.1910307695101,
          22.9725416262497,
          34.193142951201644,
          43.73826276396112,
          69.92361320022479,
          83.69654739459811,
          57.31358619087719,
          33.767440778145115,
          22.826640540213848,
          25.222354938883637,
          34.70556489696881,
          52.948720650751,
          27.992105399366093,
          82.0532234460617,
          21.119999999999994
         ],
         "yaxis": "y5"
        },
        {
         "mode": "lines+markers",
         "name": "Channel 3 spectrum",
         "type": "scatter",
         "x": [
          0,
          1,
          2,
          3,
          4,
          5,
          6,
          7,
          8,
          9,
          10,
          11,
          12,
          13,
          14,
          15,
          16,
          17,
          18,
          19,
          20,
          21,
          22,
          23,
          24,
          25,
          26,
          27,
          28,
          29,
          30,
          31,
          32,
          33,
          34,
          35,
          36,
          37,
          38,
          39,
          40,
          41,
          42,
          43,
          44,
          45,
          46,
          47,
          48,
          49,
          50
         ],
         "xaxis": "x7",
         "y": [
          1018.3,
          68.31885596109119,
          49.73090221690989,
          63.54185900368206,
          23.82265554321144,
          74.54955109307433,
          60.052460748662426,
          25.793704651259283,
          28.604563054751978,
          60.17610619739447,
          31.78117145607244,
          39.04888498899229,
          59.756865256582586,
          36.53147744867745,
          27.88132744218284,
          25.85640578054509,
          18.31574033566872,
          80.96532827423502,
          76.4966031339172,
          10.73312136706164,
          46.34215394425637,
          61.54267675548198,
          73.04507361155976,
          45.7532268484971,
          46.99409813499688,
          43.83671976779283,
          22.539478781837023,
          65.18588846516035,
          99.108535740556,
          36.26453899993762,
          88.31968037124977,
          83.42141948583036,
          114.29931017932282,
          51.14966884622154,
          50.746728935029935,
          123.40655130104956,
          52.825181168065235,
          54.26588689430039,
          100.72227463077793,
          98.34151018030545,
          21.509550618430936,
          15.729885486959386,
          100.23522927364225,
          55.83545583334791,
          34.93317283882825,
          88.66632849009994,
          45.34921649971814,
          30.171986518350163,
          17.749338363021153,
          37.27054804083979,
          92.18000000000002
         ],
         "yaxis": "y7"
        },
        {
         "mode": "lines+markers",
         "name": "Channel 4 spectrum",
         "type": "scatter",
         "x": [
          0,
          1,
          2,
          3,
          4,
          5,
          6,
          7,
          8,
          9,
          10,
          11,
          12,
          13,
          14,
          15,
          16,
          17,
          18,
          19,
          20,
          21,
          22,
          23,
          24,
          25,
          26,
          27,
          28,
          29,
          30,
          31,
          32,
          33,
          34,
          35,
          36,
          37,
          38,
          39,
          40,
          41,
          42,
          43,
          44,
          45,
          46,
          47,
          48,
          49,
          50
         ],
         "xaxis": "x9",
         "y": [
          937.62,
          58.1071589125643,
          53.25953789121178,
          48.368191232100806,
          62.80163645359913,
          35.08516930847254,
          59.45090320692407,
          69.33424812388144,
          32.27303072333951,
          45.91481281655385,
          97.72968404733383,
          34.09868758168811,
          56.148725982732856,
          48.94920006400104,
          22.96305701927767,
          106.96085609545935,
          50.218736030281015,
          47.89556495334475,
          23.56888683839556,
          7.754084260333635,
          53.79108768662105,
          64.1879144554578,
          23.080299916138024,
          66.5310998448408,
          38.477054619842335,
          57.04059256354198,
          71.20405702115175,
          19.97662397785634,
          94.4439478259195,
          52.36590741344625,
          55.74547565505476,
          70.24710163850668,
          24.70602051001241,
          29.346643468141632,
          46.00955547747626,
          92.60134618963819,
          7.594986885570788,
          132.10837456248484,
          89.47632740895358,
          45.009595450162095,
          118.79322238869626,
          80.10392034501642,
          52.82007857973885,
          64.33473120652383,
          53.48300386669342,
          66.66442560908358,
          41.84691474331773,
          77.93543716775491,
          82.87111123736706,
          7.969943342529676,
          37.66
         ],
         "yaxis": "y9"
        },
        {
         "mode": "lines+markers",
         "name": "Channel 5 spectrum",
         "type": "scatter",
         "x": [
          0,
          1,
          2,
          3,
          4,
          5,
          6,
          7,
          8,
          9,
          10,
          11,
          12,
          13,
          14,
          15,
          16,
          17,
          18,
          19,
          20,
          21,
          22,
          23,
          24,
          25,
          26,
          27,
          28,
          29,
          30,
          31,
          32,
          33,
          34,
          35,
          36,
          37,
          38,
          39,
          40,
          41,
          42,
          43,
          44,
          45,
          46,
          47,
          48,
          49,
          50
         ],
         "xaxis": "x11",
         "y": [
          960.66,
          128.61248164697363,
          27.112951095848548,
          17.388372734790664,
          29.10922737946734,
          48.476626569898265,
          29.02666573904087,
          39.48669059826053,
          67.8795490628331,
          67.58470966979087,
          39.51803185042852,
          26.900792717964073,
          50.34323406659827,
          92.94396730354056,
          41.29329896099923,
          63.48845149318024,
          30.50521244317804,
          65.01951551270332,
          44.88009655977577,
          41.053956586595675,
          43.45003429499736,
          58.17283362265907,
          23.105948882239367,
          59.422667083371124,
          85.5682919040498,
          8.346711927459818,
          42.24505469031306,
          17.333328910776846,
          113.63483562866503,
          51.02038100100519,
          30.43054318720778,
          42.37395445021354,
          26.51156524332716,
          43.499423591458736,
          13.916887989125641,
          62.53187017606919,
          78.36476384201579,
          96.25942623645166,
          33.929681308857596,
          33.65932840918601,
          40.131355817659,
          16.132237239035728,
          90.99045900441907,
          47.41745994839256,
          71.23164625514175,
          61.51007084765842,
          62.52807975827564,
          111.82912709295357,
          56.61352593060281,
          77.118757339918,
          91.18
         ],
         "yaxis": "y11"
        },
        {
         "mode": "lines+markers",
         "name": "Channel 6 spectrum",
         "type": "scatter",
         "x": [
          0,
          1,
          2,
          3,
          4,
          5,
          6,
          7,
          8,
          9,
          10,
          11,
          12,
          13,
          14,
          15,
          16,
          17,
          18,
          19,
          20,
          21,
          22,
          23,
          24,
          25,
          26,
          27,
          28,
          29,
          30,
          31,
          32,
          33,
          34,
          35,
          36,
          37,
          38,
          39,
          40,
          41,
          42,
          43,
          44,
          45,
          46,
          47,
          48,
          49,
          50
         ],
         "xaxis": "x13",
         "y": [
          1091.3,
          55.484922126828224,
          117.21079832106963,
          31.4162618316441,
          33.02089192612226,
          21.080843851695416,
          32.50108106829461,
          72.84313675834824,
          83.35029469128114,
          100.58994429687975,
          41.405023327830214,
          50.584825672529036,
          97.79266911439548,
          89.27731305824689,
          45.352579634438555,
          55.36226751520689,
          36.90255975320103,
          34.98302968540431,
          64.03776499458964,
          24.84949905264541,
          59.82489930282824,
          89.29574003394774,
          37.25035851967059,
          56.35289613333106,
          27.427224926763802,
          42.992729617924915,
          15.514014902242026,
          70.3957860742403,
          44.39245796847944,
          69.41299019035291,
          21.98387689243723,
          59.32580492037977,
          10.718130732870632,
          48.321409681995476,
          27.66381761532753,
          50.61123434745632,
          57.00532534812166,
          116.89628188156155,
          22.12228221374484,
          42.22888233094148,
          94.50927691717074,
          87.93466796280636,
          55.26107827333866,
          82.71772138533352,
          68.12108359875869,
          31.610623465885013,
          37.74909066146602,
          41.87872287935859,
          46.02609646315938,
          35.43559776023698,
          79.42
         ],
         "yaxis": "y13"
        },
        {
         "mode": "lines+markers",
         "name": "Channel 7 spectrum",
         "type": "scatter",
         "x": [
          0,
          1,
          2,
          3,
          4,
          5,
          6,
          7,
          8,
          9,
          10,
          11,
          12,
          13,
          14,
          15,
          16,
          17,
          18,
          19,
          20,
          21,
          22,
          23,
          24,
          25,
          26,
          27,
          28,
          29,
          30,
          31,
          32,
          33,
          34,
          35,
          36,
          37,
          38,
          39,
          40,
          41,
          42,
          43,
          44,
          45,
          46,
          47,
          48,
          49,
          50
         ],
         "xaxis": "x15",
         "y": [
          967.12,
          57.318591032752146,
          116.13285272126619,
          69.17378755602103,
          61.20084964436037,
          51.37137882705842,
          36.99966739463447,
          54.97952504684404,
          92.54571168261323,
          16.948622657902884,
          61.8809403177783,
          71.08208647237936,
          28.47106839285361,
          125.23571258199027,
          46.72463916905852,
          60.58125834031639,
          65.45937269940814,
          36.81910778116074,
          40.59489253463872,
          19.029938228053446,
          31.84000210070579,
          37.40356118098713,
          12.367712225036644,
          30.866183294890874,
          81.4287833728831,
          101.96269513895757,
          60.73066310867751,
          70.20834923522702,
          47.4441158332289,
          48.10147951020449,
          66.27627045472279,
          64.99839502098285,
          94.49714606844411,
          68.86998578138646,
          28.12163901136788,
          31.681908042044974,
          51.58792931980384,
          19.35245825099242,
          17.344230813892594,
          65.97091793062306,
          34.576886300345976,
          49.355753009607405,
          60.067676859835046,
          20.830055429545208,
          32.78748662199102,
          71.91349023741029,
          9.710687528681873,
          39.97467959549792,
          50.39193197306995,
          28.17664753523206,
          142.12
         ],
         "yaxis": "y15"
        },
        {
         "name": "Channel 0 frequency bins",
         "type": "bar",
         "x": [
          "0-1 Hz",
          "1-4 Hz",
          "4-8 Hz",
          "8-12 Hz",
          "12-30 Hz"
         ],
         "xaxis": "x2",
         "y": [
          0.5658396,
          0.32829902,
          0.5896431,
          0.31601432,
          0.41368547
         ],
         "yaxis": "y2"
        },
        {
         "name": "Channel 1 frequency bins",
         "type": "bar",
         "x": [
          "0-1 Hz",
          "1-4 Hz",
          "4-8 Hz",
          "8-12 Hz",
          "12-30 Hz"
         ],
         "xaxis": "x4",
         "y": [
          0.5062218,
          0.4173874,
          0.8692186,
          0.6454814,
          0.39742294
         ],
         "yaxis": "y4"
        },
        {
         "name": "Channel 2 frequency bins",
         "type": "bar",
         "x": [
          "0-1 Hz",
          "1-4 Hz",
          "4-8 Hz",
          "8-12 Hz",
          "12-30 Hz"
         ],
         "xaxis": "x6",
         "y": [
          0.57903963,
          0.2952517,
          0.5088338,
          0.5792798,
          0.47270256
         ],
         "yaxis": "y6"
        },
        {
         "name": "Channel 3 frequency bins",
         "type": "bar",
         "x": [
          "0-1 Hz",
          "1-4 Hz",
          "4-8 Hz",
          "8-12 Hz",
          "12-30 Hz"
         ],
         "xaxis": "x8",
         "y": [
          0.48715508,
          0.4291365,
          0.51824844,
          0.3433305,
          0.45176703
         ],
         "yaxis": "y8"
        },
        {
         "name": "Channel 4 frequency bins",
         "type": "bar",
         "x": [
          "0-1 Hz",
          "1-4 Hz",
          "4-8 Hz",
          "8-12 Hz",
          "12-30 Hz"
         ],
         "xaxis": "x10",
         "y": [
          0.7229243,
          0.44018826,
          0.81828,
          0.43404832,
          0.542116
         ],
         "yaxis": "y10"
        },
        {
         "name": "Channel 5 frequency bins",
         "type": "bar",
         "x": [
          "0-1 Hz",
          "1-4 Hz",
          "4-8 Hz",
          "8-12 Hz",
          "12-30 Hz"
         ],
         "xaxis": "x12",
         "y": [
          0.5453312,
          0.3698392,
          0.52596927,
          0.4734432,
          0.53112173
         ],
         "yaxis": "y12"
        },
        {
         "name": "Channel 6 frequency bins",
         "type": "bar",
         "x": [
          "0-1 Hz",
          "1-4 Hz",
          "4-8 Hz",
          "8-12 Hz",
          "12-30 Hz"
         ],
         "xaxis": "x14",
         "y": [
          0.12870307,
          0.34642056,
          0.66037524,
          0.41239047,
          0.49315417
         ],
         "yaxis": "y14"
        },
        {
         "name": "Channel 7 frequency bins",
         "type": "bar",
         "x": [
          "0-1 Hz",
          "1-4 Hz",
          "4-8 Hz",
          "8-12 Hz",
          "12-30 Hz"
         ],
         "xaxis": "x16",
         "y": [
          0.65430987,
          0.65751314,
          0.43458697,
          0.5386144,
          0.572785
         ],
         "yaxis": "y16"
        }
       ],
       "layout": {
        "height": 1500,
        "template": {
         "data": {
          "bar": [
           {
            "error_x": {
             "color": "#2a3f5f"
            },
            "error_y": {
             "color": "#2a3f5f"
            },
            "marker": {
             "line": {
              "color": "#E5ECF6",
              "width": 0.5
             },
             "pattern": {
              "fillmode": "overlay",
              "size": 10,
              "solidity": 0.2
             }
            },
            "type": "bar"
           }
          ],
          "barpolar": [
           {
            "marker": {
             "line": {
              "color": "#E5ECF6",
              "width": 0.5
             },
             "pattern": {
              "fillmode": "overlay",
              "size": 10,
              "solidity": 0.2
             }
            },
            "type": "barpolar"
           }
          ],
          "carpet": [
           {
            "aaxis": {
             "endlinecolor": "#2a3f5f",
             "gridcolor": "white",
             "linecolor": "white",
             "minorgridcolor": "white",
             "startlinecolor": "#2a3f5f"
            },
            "baxis": {
             "endlinecolor": "#2a3f5f",
             "gridcolor": "white",
             "linecolor": "white",
             "minorgridcolor": "white",
             "startlinecolor": "#2a3f5f"
            },
            "type": "carpet"
           }
          ],
          "choropleth": [
           {
            "colorbar": {
             "outlinewidth": 0,
             "ticks": ""
            },
            "type": "choropleth"
           }
          ],
          "contour": [
           {
            "colorbar": {
             "outlinewidth": 0,
             "ticks": ""
            },
            "colorscale": [
             [
              0,
              "#0d0887"
             ],
             [
              0.1111111111111111,
              "#46039f"
             ],
             [
              0.2222222222222222,
              "#7201a8"
             ],
             [
              0.3333333333333333,
              "#9c179e"
             ],
             [
              0.4444444444444444,
              "#bd3786"
             ],
             [
              0.5555555555555556,
              "#d8576b"
             ],
             [
              0.6666666666666666,
              "#ed7953"
             ],
             [
              0.7777777777777778,
              "#fb9f3a"
             ],
             [
              0.8888888888888888,
              "#fdca26"
             ],
             [
              1,
              "#f0f921"
             ]
            ],
            "type": "contour"
           }
          ],
          "contourcarpet": [
           {
            "colorbar": {
             "outlinewidth": 0,
             "ticks": ""
            },
            "type": "contourcarpet"
           }
          ],
          "heatmap": [
           {
            "colorbar": {
             "outlinewidth": 0,
             "ticks": ""
            },
            "colorscale": [
             [
              0,
              "#0d0887"
             ],
             [
              0.1111111111111111,
              "#46039f"
             ],
             [
              0.2222222222222222,
              "#7201a8"
             ],
             [
              0.3333333333333333,
              "#9c179e"
             ],
             [
              0.4444444444444444,
              "#bd3786"
             ],
             [
              0.5555555555555556,
              "#d8576b"
             ],
             [
              0.6666666666666666,
              "#ed7953"
             ],
             [
              0.7777777777777778,
              "#fb9f3a"
             ],
             [
              0.8888888888888888,
              "#fdca26"
             ],
             [
              1,
              "#f0f921"
             ]
            ],
            "type": "heatmap"
           }
          ],
          "heatmapgl": [
           {
            "colorbar": {
             "outlinewidth": 0,
             "ticks": ""
            },
            "colorscale": [
             [
              0,
              "#0d0887"
             ],
             [
              0.1111111111111111,
              "#46039f"
             ],
             [
              0.2222222222222222,
              "#7201a8"
             ],
             [
              0.3333333333333333,
              "#9c179e"
             ],
             [
              0.4444444444444444,
              "#bd3786"
             ],
             [
              0.5555555555555556,
              "#d8576b"
             ],
             [
              0.6666666666666666,
              "#ed7953"
             ],
             [
              0.7777777777777778,
              "#fb9f3a"
             ],
             [
              0.8888888888888888,
              "#fdca26"
             ],
             [
              1,
              "#f0f921"
             ]
            ],
            "type": "heatmapgl"
           }
          ],
          "histogram": [
           {
            "marker": {
             "pattern": {
              "fillmode": "overlay",
              "size": 10,
              "solidity": 0.2
             }
            },
            "type": "histogram"
           }
          ],
          "histogram2d": [
           {
            "colorbar": {
             "outlinewidth": 0,
             "ticks": ""
            },
            "colorscale": [
             [
              0,
              "#0d0887"
             ],
             [
              0.1111111111111111,
              "#46039f"
             ],
             [
              0.2222222222222222,
              "#7201a8"
             ],
             [
              0.3333333333333333,
              "#9c179e"
             ],
             [
              0.4444444444444444,
              "#bd3786"
             ],
             [
              0.5555555555555556,
              "#d8576b"
             ],
             [
              0.6666666666666666,
              "#ed7953"
             ],
             [
              0.7777777777777778,
              "#fb9f3a"
             ],
             [
              0.8888888888888888,
              "#fdca26"
             ],
             [
              1,
              "#f0f921"
             ]
            ],
            "type": "histogram2d"
           }
          ],
          "histogram2dcontour": [
           {
            "colorbar": {
             "outlinewidth": 0,
             "ticks": ""
            },
            "colorscale": [
             [
              0,
              "#0d0887"
             ],
             [
              0.1111111111111111,
              "#46039f"
             ],
             [
              0.2222222222222222,
              "#7201a8"
             ],
             [
              0.3333333333333333,
              "#9c179e"
             ],
             [
              0.4444444444444444,
              "#bd3786"
             ],
             [
              0.5555555555555556,
              "#d8576b"
             ],
             [
              0.6666666666666666,
              "#ed7953"
             ],
             [
              0.7777777777777778,
              "#fb9f3a"
             ],
             [
              0.8888888888888888,
              "#fdca26"
             ],
             [
              1,
              "#f0f921"
             ]
            ],
            "type": "histogram2dcontour"
           }
          ],
          "mesh3d": [
           {
            "colorbar": {
             "outlinewidth": 0,
             "ticks": ""
            },
            "type": "mesh3d"
           }
          ],
          "parcoords": [
           {
            "line": {
             "colorbar": {
              "outlinewidth": 0,
              "ticks": ""
             }
            },
            "type": "parcoords"
           }
          ],
          "pie": [
           {
            "automargin": true,
            "type": "pie"
           }
          ],
          "scatter": [
           {
            "fillpattern": {
             "fillmode": "overlay",
             "size": 10,
             "solidity": 0.2
            },
            "type": "scatter"
           }
          ],
          "scatter3d": [
           {
            "line": {
             "colorbar": {
              "outlinewidth": 0,
              "ticks": ""
             }
            },
            "marker": {
             "colorbar": {
              "outlinewidth": 0,
              "ticks": ""
             }
            },
            "type": "scatter3d"
           }
          ],
          "scattercarpet": [
           {
            "marker": {
             "colorbar": {
              "outlinewidth": 0,
              "ticks": ""
             }
            },
            "type": "scattercarpet"
           }
          ],
          "scattergeo": [
           {
            "marker": {
             "colorbar": {
              "outlinewidth": 0,
              "ticks": ""
             }
            },
            "type": "scattergeo"
           }
          ],
          "scattergl": [
           {
            "marker": {
             "colorbar": {
              "outlinewidth": 0,
              "ticks": ""
             }
            },
            "type": "scattergl"
           }
          ],
          "scattermapbox": [
           {
            "marker": {
             "colorbar": {
              "outlinewidth": 0,
              "ticks": ""
             }
            },
            "type": "scattermapbox"
           }
          ],
          "scatterpolar": [
           {
            "marker": {
             "colorbar": {
              "outlinewidth": 0,
              "ticks": ""
             }
            },
            "type": "scatterpolar"
           }
          ],
          "scatterpolargl": [
           {
            "marker": {
             "colorbar": {
              "outlinewidth": 0,
              "ticks": ""
             }
            },
            "type": "scatterpolargl"
           }
          ],
          "scatterternary": [
           {
            "marker": {
             "colorbar": {
              "outlinewidth": 0,
              "ticks": ""
             }
            },
            "type": "scatterternary"
           }
          ],
          "surface": [
           {
            "colorbar": {
             "outlinewidth": 0,
             "ticks": ""
            },
            "colorscale": [
             [
              0,
              "#0d0887"
             ],
             [
              0.1111111111111111,
              "#46039f"
             ],
             [
              0.2222222222222222,
              "#7201a8"
             ],
             [
              0.3333333333333333,
              "#9c179e"
             ],
             [
              0.4444444444444444,
              "#bd3786"
             ],
             [
              0.5555555555555556,
              "#d8576b"
             ],
             [
              0.6666666666666666,
              "#ed7953"
             ],
             [
              0.7777777777777778,
              "#fb9f3a"
             ],
             [
              0.8888888888888888,
              "#fdca26"
             ],
             [
              1,
              "#f0f921"
             ]
            ],
            "type": "surface"
           }
          ],
          "table": [
           {
            "cells": {
             "fill": {
              "color": "#EBF0F8"
             },
             "line": {
              "color": "white"
             }
            },
            "header": {
             "fill": {
              "color": "#C8D4E3"
             },
             "line": {
              "color": "white"
             }
            },
            "type": "table"
           }
          ]
         },
         "layout": {
          "annotationdefaults": {
           "arrowcolor": "#2a3f5f",
           "arrowhead": 0,
           "arrowwidth": 1
          },
          "autotypenumbers": "strict",
          "coloraxis": {
           "colorbar": {
            "outlinewidth": 0,
            "ticks": ""
           }
          },
          "colorscale": {
           "diverging": [
            [
             0,
             "#8e0152"
            ],
            [
             0.1,
             "#c51b7d"
            ],
            [
             0.2,
             "#de77ae"
            ],
            [
             0.3,
             "#f1b6da"
            ],
            [
             0.4,
             "#fde0ef"
            ],
            [
             0.5,
             "#f7f7f7"
            ],
            [
             0.6,
             "#e6f5d0"
            ],
            [
             0.7,
             "#b8e186"
            ],
            [
             0.8,
             "#7fbc41"
            ],
            [
             0.9,
             "#4d9221"
            ],
            [
             1,
             "#276419"
            ]
           ],
           "sequential": [
            [
             0,
             "#0d0887"
            ],
            [
             0.1111111111111111,
             "#46039f"
            ],
            [
             0.2222222222222222,
             "#7201a8"
            ],
            [
             0.3333333333333333,
             "#9c179e"
            ],
            [
             0.4444444444444444,
             "#bd3786"
            ],
            [
             0.5555555555555556,
             "#d8576b"
            ],
            [
             0.6666666666666666,
             "#ed7953"
            ],
            [
             0.7777777777777778,
             "#fb9f3a"
            ],
            [
             0.8888888888888888,
             "#fdca26"
            ],
            [
             1,
             "#f0f921"
            ]
           ],
           "sequentialminus": [
            [
             0,
             "#0d0887"
            ],
            [
             0.1111111111111111,
             "#46039f"
            ],
            [
             0.2222222222222222,
             "#7201a8"
            ],
            [
             0.3333333333333333,
             "#9c179e"
            ],
            [
             0.4444444444444444,
             "#bd3786"
            ],
            [
             0.5555555555555556,
             "#d8576b"
            ],
            [
             0.6666666666666666,
             "#ed7953"
            ],
            [
             0.7777777777777778,
             "#fb9f3a"
            ],
            [
             0.8888888888888888,
             "#fdca26"
            ],
            [
             1,
             "#f0f921"
            ]
           ]
          },
          "colorway": [
           "#636efa",
           "#EF553B",
           "#00cc96",
           "#ab63fa",
           "#FFA15A",
           "#19d3f3",
           "#FF6692",
           "#B6E880",
           "#FF97FF",
           "#FECB52"
          ],
          "font": {
           "color": "#2a3f5f"
          },
          "geo": {
           "bgcolor": "white",
           "lakecolor": "white",
           "landcolor": "#E5ECF6",
           "showlakes": true,
           "showland": true,
           "subunitcolor": "white"
          },
          "hoverlabel": {
           "align": "left"
          },
          "hovermode": "closest",
          "mapbox": {
           "style": "light"
          },
          "paper_bgcolor": "white",
          "plot_bgcolor": "#E5ECF6",
          "polar": {
           "angularaxis": {
            "gridcolor": "white",
            "linecolor": "white",
            "ticks": ""
           },
           "bgcolor": "#E5ECF6",
           "radialaxis": {
            "gridcolor": "white",
            "linecolor": "white",
            "ticks": ""
           }
          },
          "scene": {
           "xaxis": {
            "backgroundcolor": "#E5ECF6",
            "gridcolor": "white",
            "gridwidth": 2,
            "linecolor": "white",
            "showbackground": true,
            "ticks": "",
            "zerolinecolor": "white"
           },
           "yaxis": {
            "backgroundcolor": "#E5ECF6",
            "gridcolor": "white",
            "gridwidth": 2,
            "linecolor": "white",
            "showbackground": true,
            "ticks": "",
            "zerolinecolor": "white"
           },
           "zaxis": {
            "backgroundcolor": "#E5ECF6",
            "gridcolor": "white",
            "gridwidth": 2,
            "linecolor": "white",
            "showbackground": true,
            "ticks": "",
            "zerolinecolor": "white"
           }
          },
          "shapedefaults": {
           "line": {
            "color": "#2a3f5f"
           }
          },
          "ternary": {
           "aaxis": {
            "gridcolor": "white",
            "linecolor": "white",
            "ticks": ""
           },
           "baxis": {
            "gridcolor": "white",
            "linecolor": "white",
            "ticks": ""
           },
           "bgcolor": "#E5ECF6",
           "caxis": {
            "gridcolor": "white",
            "linecolor": "white",
            "ticks": ""
           }
          },
          "title": {
           "x": 0.05
          },
          "xaxis": {
           "automargin": true,
           "gridcolor": "white",
           "linecolor": "white",
           "ticks": "",
           "title": {
            "standoff": 15
           },
           "zerolinecolor": "white",
           "zerolinewidth": 2
          },
          "yaxis": {
           "automargin": true,
           "gridcolor": "white",
           "linecolor": "white",
           "ticks": "",
           "title": {
            "standoff": 15
           },
           "zerolinecolor": "white",
           "zerolinewidth": 2
          }
         }
        },
        "width": 2000,
        "xaxis": {
         "anchor": "y",
         "domain": [
          0,
          0.45
         ]
        },
        "xaxis10": {
         "anchor": "y10",
         "domain": [
          0.55,
          1
         ]
        },
        "xaxis11": {
         "anchor": "y11",
         "domain": [
          0,
          0.45
         ]
        },
        "xaxis12": {
         "anchor": "y12",
         "domain": [
          0.55,
          1
         ]
        },
        "xaxis13": {
         "anchor": "y13",
         "domain": [
          0,
          0.45
         ]
        },
        "xaxis14": {
         "anchor": "y14",
         "domain": [
          0.55,
          1
         ]
        },
        "xaxis15": {
         "anchor": "y15",
         "domain": [
          0,
          0.45
         ]
        },
        "xaxis16": {
         "anchor": "y16",
         "domain": [
          0.55,
          1
         ]
        },
        "xaxis2": {
         "anchor": "y2",
         "domain": [
          0.55,
          1
         ]
        },
        "xaxis3": {
         "anchor": "y3",
         "domain": [
          0,
          0.45
         ]
        },
        "xaxis4": {
         "anchor": "y4",
         "domain": [
          0.55,
          1
         ]
        },
        "xaxis5": {
         "anchor": "y5",
         "domain": [
          0,
          0.45
         ]
        },
        "xaxis6": {
         "anchor": "y6",
         "domain": [
          0.55,
          1
         ]
        },
        "xaxis7": {
         "anchor": "y7",
         "domain": [
          0,
          0.45
         ]
        },
        "xaxis8": {
         "anchor": "y8",
         "domain": [
          0.55,
          1
         ]
        },
        "xaxis9": {
         "anchor": "y9",
         "domain": [
          0,
          0.45
         ]
        },
        "yaxis": {
         "anchor": "x",
         "domain": [
          0.9078124999999999,
          0.9999999999999999
         ]
        },
        "yaxis10": {
         "anchor": "x10",
         "domain": [
          0.38906250000000003,
          0.48125000000000007
         ]
        },
        "yaxis11": {
         "anchor": "x11",
         "domain": [
          0.259375,
          0.3515625
         ]
        },
        "yaxis12": {
         "anchor": "x12",
         "domain": [
          0.259375,
          0.3515625
         ]
        },
        "yaxis13": {
         "anchor": "x13",
         "domain": [
          0.1296875,
          0.22187500000000002
         ]
        },
        "yaxis14": {
         "anchor": "x14",
         "domain": [
          0.1296875,
          0.22187500000000002
         ]
        },
        "yaxis15": {
         "anchor": "x15",
         "domain": [
          0,
          0.0921875
         ]
        },
        "yaxis16": {
         "anchor": "x16",
         "domain": [
          0,
          0.0921875
         ]
        },
        "yaxis2": {
         "anchor": "x2",
         "domain": [
          0.9078124999999999,
          0.9999999999999999
         ]
        },
        "yaxis3": {
         "anchor": "x3",
         "domain": [
          0.778125,
          0.8703124999999999
         ]
        },
        "yaxis4": {
         "anchor": "x4",
         "domain": [
          0.778125,
          0.8703124999999999
         ]
        },
        "yaxis5": {
         "anchor": "x5",
         "domain": [
          0.6484375,
          0.740625
         ]
        },
        "yaxis6": {
         "anchor": "x6",
         "domain": [
          0.6484375,
          0.740625
         ]
        },
        "yaxis7": {
         "anchor": "x7",
         "domain": [
          0.51875,
          0.6109375
         ]
        },
        "yaxis8": {
         "anchor": "x8",
         "domain": [
          0.51875,
          0.6109375
         ]
        },
        "yaxis9": {
         "anchor": "x9",
         "domain": [
          0.38906250000000003,
          0.48125000000000007
         ]
        }
       }
      }
     },
     "metadata": {},
     "output_type": "display_data"
    }
   ],
   "source": [
    "trainer.train(num_episodes=2)"
   ]
  },
  {
   "cell_type": "code",
   "execution_count": 42,
   "metadata": {},
   "outputs": [],
   "source": [
    "trainer.env.close()"
   ]
  },
  {
   "cell_type": "code",
   "execution_count": null,
   "metadata": {},
   "outputs": [],
   "source": []
  }
 ],
 "metadata": {
  "kernelspec": {
   "display_name": "Python 3",
   "language": "python",
   "name": "python3"
  },
  "language_info": {
   "codemirror_mode": {
    "name": "ipython",
    "version": 3
   },
   "file_extension": ".py",
   "mimetype": "text/x-python",
   "name": "python",
   "nbconvert_exporter": "python",
   "pygments_lexer": "ipython3",
   "version": "3.10.12"
  }
 },
 "nbformat": 4,
 "nbformat_minor": 2
}
