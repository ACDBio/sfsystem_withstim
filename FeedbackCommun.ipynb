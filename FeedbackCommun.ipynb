{
 "cells": [
  {
   "cell_type": "code",
   "execution_count": 12,
   "metadata": {},
   "outputs": [],
   "source": [
    "import websocket\n",
    "import json\n",
    "import gym\n",
    "from gym import spaces\n",
    "import numpy as np\n",
    "import numexpr as ne"
   ]
  },
  {
   "cell_type": "code",
   "execution_count": 13,
   "metadata": {},
   "outputs": [
    {
     "name": "stderr",
     "output_type": "stream",
     "text": [
      "--- request header ---\n",
      "GET / HTTP/1.1\n",
      "Upgrade: websocket\n",
      "Host: 10.42.0.231\n",
      "Origin: http://10.42.0.231\n",
      "Sec-WebSocket-Key: S7Opfo7QrO2vKJ8ueVMADA==\n",
      "Sec-WebSocket-Version: 13\n",
      "Connection: Upgrade\n",
      "\n",
      "\n",
      "-----------------------\n",
      "--- response header ---\n",
      "HTTP/1.1 101 Switching Protocols\n",
      "Server: arduino-WebSocketsServer\n",
      "Upgrade: websocket\n",
      "Connection: Upgrade\n",
      "Sec-WebSocket-Version: 13\n",
      "Sec-WebSocket-Accept: MMoTmSOWyrsj+xOwsMVnwIWn3oU=\n",
      "-----------------------\n"
     ]
    }
   ],
   "source": [
    "websocket.enableTrace(True)\n",
    "ws=websocket.WebSocket()\n",
    "ws.connect(\"ws://10.42.0.231:80/\")"
   ]
  },
  {
   "cell_type": "code",
   "execution_count": 56,
   "metadata": {},
   "outputs": [
    {
     "data": {
      "text/plain": [
       "range(0, 100)"
      ]
     },
     "execution_count": 56,
     "metadata": {},
     "output_type": "execute_result"
    }
   ],
   "source": [
    "range(0, 100)"
   ]
  },
  {
   "cell_type": "code",
   "execution_count": 60,
   "metadata": {},
   "outputs": [
    {
     "data": {
      "text/plain": [
       "(2, 3)"
      ]
     },
     "execution_count": 60,
     "metadata": {},
     "output_type": "execute_result"
    }
   ],
   "source": [
    "import numpy as np\n",
    "np.array([[1,2,3],[1,2,3]]).shape"
   ]
  },
  {
   "cell_type": "code",
   "execution_count": 2,
   "metadata": {},
   "outputs": [],
   "source": [
    "import websocket\n",
    "import json\n",
    "import gym\n",
    "from gym import spaces\n",
    "import numpy as np\n",
    "import re\n",
    "import numexpr as ne\n",
    "import time\n",
    "from collections import OrderedDict\n",
    "import logging\n",
    "import plotly.graph_objects as go\n",
    "import plotly.subplots as sp\n",
    "import plotly\n",
    "import json\n",
    "import os\n",
    "plotly.io.json.config.default_engine = 'orjson'\n",
    "\n",
    "#steps are not implemented for now\n",
    "out_dict={'leddelay':{'names':['leddelay'], 'value_range':{'min':1, 'max':10001, 'step':100}, 'init_val':{'leddelay':10}},\n",
    "          'ledcontrols':{'names':['lv1r','lv1g','lv1b','lv2r','lv2g','lv2b','lv3r','lv3g','lv3b','lv4r','lv4g','lv4b', 'lv5r','lv5g','lv5b','lv6r','lv6g',\n",
    "          'lv6b',\n",
    "          'lv7r',\n",
    "          'lv7g',\n",
    "          'lv7b',\n",
    "          'lv8r',\n",
    "          'lv8g',\n",
    "          'lv8b'], 'value_range':{'min':10, 'max':255, 'step':10}, 'init_val':{'lv1r':255, 'lv1g':0, 'lv1b':0, \n",
    "                                                                               'lv2r':0, 'lv2b':255, 'lv2b':0, \n",
    "                                                                               'lv3r':0, 'lv3g':0, 'lv3b':255, \n",
    "                                                                               'lv4r':255, 'lv4g':255, 'lv4b':255, \n",
    "                                                                               'lv5r':0,   'lv5g':255, 'lv5b':255, \n",
    "                                                                               'lv6r':255, 'lv6g':0,   'lv6b':255, \n",
    "                                                                               'lv7r':255, 'lv7b':255, 'lv7b':0, \n",
    "                                                                               'lv8r':255, 'lv8g':0, 'lv8b':0}},\n",
    "          'sound_wave_frequencies':{'names':['wave_1_freq','wave_2_freq'], 'value_range':{'min':1, 'max':30000, 'step':100}, 'init_val':{'wave_1_freq':440, \n",
    "                                                                                                                                         'wave_2_freq':440}},\n",
    "          'panner_phasor_frequencies':{'names':['panner_freq', 'phasor_1_freq', 'phasor_2_freq','phasor_1_min',  'phasor_2_min', 'phasor_1_dif', 'phasor_2_dif'],  'value_range':{'min':1, 'max':50, 'step':1},\n",
    "                                       'init_val':{'panner_freq':1,\n",
    "                                                    'phasor_1_freq':10,\n",
    "                                                    'phasor_2_freq':10,\n",
    "                                                    'phasor_1_min':1,\n",
    "                                                    'phasor_2_min':1,\n",
    "                                                    'phasor_1_dif':30,\n",
    "                                                    'phasor_2_dif':30}},\n",
    "          'panner_div':{'names':['panner_div'], 'value_range':{'min':1, 'max':5, 'step':1}, 'init_val':{'panner_div':2}},\n",
    "          'sound_wave_shapes':{'names':['wave_1_type', 'wave_2_type'], 'value_range':{'min':0, 'max':3, 'step':1}, \n",
    "                               'init_val':{'wave_1_type':0,\n",
    "                                           'wave_2_type':0}},\n",
    "          'maxibolume':{'names':['maxivolume'], 'value_range':{'min':0, 'max':50, 'step':10}, \n",
    "                        'init_val':{'maxivolume':10}}\n",
    "}\n",
    "out_order=['lv1r','lv1g','lv1b','lv2r','lv2g','lv2b','lv3r','lv3g','lv3b','lv4r','lv4g','lv4b','lv5r','lv5g','lv5b','lv6r','lv6g','lv6b',\n",
    "          'lv7r','lv7g','lv7b','lv8r','lv8g','lv8b','leddelay','wave_1_freq','wave_2_freq','panner_freq','panner_div','phasor_1_freq',\n",
    "          'phasor_1_min','phasor_1_dif','phasor_2_freq','phasor_2_min','phasor_2_dif','maxivolume','wave_1_type','wave_2_type']\n",
    "\n",
    "\n",
    "class SFSystemCommunicator(gym.Env):\n",
    "    def __init__(self, out_dict=out_dict, out_order=out_order,n_input_channels=8, channels_of_interest_inds=list(range(8)), n_timepoints_per_sample=100, max_sfsystem_output=1023,reward_formula_string='(fbin_05_4_ch0+freq_30_ch0)/fbin_12_30_ch0', \n",
    "                 fbins=[(0.001, 0.5), (0.5, 4), (4,8), (8,12), (12,30)], delay=10,\n",
    "                 use_raw_in_os_def=False, use_freq_in_os_def=False, use_fbins_in_os_def=False, device_address=\"ws://10.42.0.231:80/\",\n",
    "                 step_stim_length=10000, episode_time_seconds=60, log_and_plot_data=True, render_data=True, return_plotly_figs=False,\n",
    "                 logfn='current_training.log', write_log=True, write_signals=True):\n",
    "        self.device_address=device_address\n",
    "        self.step_stim_length=step_stim_length\n",
    "        self.episode_time_seconds=episode_time_seconds\n",
    "        self.n_steps_per_episode=int(self.episode_time_seconds*1000/self.step_stim_length)\n",
    "        self.cur_step=0\n",
    "        self.render_data=render_data\n",
    "        self.return_plotly_figs=return_plotly_figs\n",
    "        \n",
    "        self.out_dict=out_dict\n",
    "        self.out_order=out_order\n",
    "        self.max_sfsystem_output=max_sfsystem_output\n",
    "        self.n_timepoints_per_sample=n_timepoints_per_sample\n",
    "        self.n_input_channels=n_input_channels\n",
    "        self.reward_formula_string=reward_formula_string\n",
    "\n",
    "        self.delay=delay\n",
    "\n",
    "        self.record_raw=use_raw_in_os_def\n",
    "\n",
    "        self.do_fft=use_freq_in_os_def\n",
    "        self.record_fft=use_freq_in_os_def\n",
    "\n",
    "        self.do_fbins=use_fbins_in_os_def\n",
    "        self.record_fbins=use_fbins_in_os_def\n",
    "\n",
    "        self.fbins=fbins\n",
    "        self.n_fbins=len(self.fbins)\n",
    "\n",
    "        self.channels_of_interest_inds=channels_of_interest_inds\n",
    "        self.channels_of_interest_inds.sort()\n",
    "        self.n_channels_of_interest=len(self.channels_of_interest_inds)\n",
    "    \n",
    "\n",
    "        self.set_fft_params()\n",
    "\n",
    "        self.timesleep_period=0.1\n",
    "\n",
    "        if 'raw' in self.reward_formula_string:\n",
    "            self.record_raw=True\n",
    "        if 'freq' in self.reward_formula_string:\n",
    "            self.record_fft=True\n",
    "        if 'fbin' in self.reward_formula_string:\n",
    "            self.record_fbins=True\n",
    "\n",
    "        if self.record_fbins:\n",
    "            self.do_fft=True\n",
    "            self.do_fbins=True\n",
    "        \n",
    "        self.init_action_space()\n",
    "        self.init_observation_space()\n",
    "        self.set_value_dict_for_reward_function()\n",
    "        self.connect()\n",
    "        print(self.connection_status)\n",
    "        self.set_delay_and_data_transfer_buffer_size()\n",
    "        print('Delay and data transfer buffer size are set up.')\n",
    "        self.set_default_actions()\n",
    "        print('Default actions are set.')\n",
    "\n",
    "\n",
    "        #logging part\n",
    "        self.logfn=logfn\n",
    "        self.write_log=write_log\n",
    "        self.write_signals=write_signals\n",
    "        self.cur_episode_rewards=[]\n",
    "        self.previous_episodes_max_rewards=[]\n",
    "        self.log_and_plot_data=log_and_plot_data\n",
    "        self.episode_max_reward=0\n",
    "        self.current_episode=0\n",
    "        self.set_fbin_x_axis_labels()\n",
    "        if self.log_and_plot_data:\n",
    "            if self.write_log:\n",
    "                logging.basicConfig(filename=self.logfn, level=logging.INFO)\n",
    "\n",
    "    def help(self):\n",
    "        print('Reward formula can use the following operators: //, *, **, -, +')\n",
    "        print('It can refer to channels using \"ch\" prefix followed by an index (starting with 0) e.g. ch0')\n",
    "        print('It can refer to values of frequency bins in specific channels e.g. fbin_10_50_ch0')\n",
    "        print('The corresponding freqency bins must be present among fbins passed at the initialization step')\n",
    "        print('fbins should be passed in the form of [(b1 min, b1max),...(bn min, bn max)]')\n",
    "        print('It can refer to specific frequencies from fft e.g. freq_50_ch0')\n",
    "        print('For fractional frequencies (e.g. 0.5) do not use points, just start with 0 (e.g. 05)')\n",
    "        print('Some examples:')\n",
    "        print('1. (freq_50_ch0+fbin_0_10_ch0)/(fbin_20_30_ch0)')\n",
    "        print('2. freq_5_ch0/freq_10_ch0')\n",
    "        print('3. fbin_05_5_ch0')\n",
    "    def clear_log(self):\n",
    "        if os.path.isfile(self.logfn):\n",
    "            os.remove(self.logfn)\n",
    "    def set_value_dict_for_reward_function(self):\n",
    "        ftokens=re.split(r'[+/)(*]+',self.reward_formula_string)\n",
    "        self.rewarddict={}\n",
    "        self.tokendict={}\n",
    "        for token in ftokens:\n",
    "            if 'ch' in token:\n",
    "                self.rewarddict[token]=None\n",
    "                self.tokendict[token]={}\n",
    "                subtokens=token.split('_')\n",
    "                self.tokendict[token]['datatype']=subtokens[0]\n",
    "                for subtoken in subtokens:\n",
    "                    if 'ch' in subtoken:\n",
    "                        self.tokendict[token]['channelindex']=int(subtoken.split('h')[1])\n",
    "                    if subtoken=='freq':\n",
    "                        tfreq=float(subtokens[1])\n",
    "                        self.tokendict[token]['freqdata']=tfreq\n",
    "                        closestind=np.argmin(np.abs(self.f_plot - tfreq))\n",
    "                        self.tokendict[token]['closest_fft_ind']=closestind\n",
    "                        print(f'Token {token}:')\n",
    "                        print(f'Closest fft frequency {self.f_plot[closestind]}')\n",
    "                    if subtoken=='fbin':\n",
    "                        bin_lst=[subtokens[1],subtokens[2]]\n",
    "                        for i in range(2):\n",
    "                            val=bin_lst[i]\n",
    "                            if val.startswith('0'):\n",
    "                                val=float('0.'+val[1:])\n",
    "                            else:\n",
    "                                val=float(val)\n",
    "                            bin_lst[i]=val\n",
    "                        self.tokendict[token]['freqdata']=tuple(bin_lst)\n",
    "                        self.tokendict[token]['fbin_idx']=self.fbins.index(self.tokendict[token]['freqdata'])\n",
    "    def set_default_actions(self):\n",
    "        observation_space_sample=self.observation_space.sample()\n",
    "        for key1 in observation_space_sample:\n",
    "            for key2 in self.out_dict:\n",
    "                if key1 in self.out_dict[key2]['init_val']:\n",
    "                    observation_space_sample[key2]=self.out_dict[key1]['init_val'][key2]\n",
    "\n",
    "        self.default_actions=observation_space_sample\n",
    "    def populate_rewarddict(self, observations):\n",
    "        for token, tokendata in self.tokendict.items():\n",
    "            tartype=tokendata['datatype']\n",
    "            tarchannelidx=tokendata['channelindex']\n",
    "            if tartype=='raw':\n",
    "                tarobs=observations['raw_data']\n",
    "                tarobs=tarobs[:,tarchannelidx]\n",
    "                res=np.mean(tarobs) #here we use the mean, but this may be changed\n",
    "            if tartype=='freq':\n",
    "                #tarfreq=tokendata['freqdata']\n",
    "                taridx=tokendata['closest_fft_ind']\n",
    "                tarobs=observations['fft'][tarchannelidx]\n",
    "                res=tarobs[taridx]\n",
    "            if tartype=='fbin':\n",
    "                tarobs=observations['fbins'][tarchannelidx]\n",
    "                res=tarobs[tokendata['fbin_idx']]\n",
    "            self.rewarddict[token]=res\n",
    "    def get_reward(self, observations=None, toreturn=False):\n",
    "        if observations == None:\n",
    "            observations=self.observation_space.sample() #if no observations are given extrernally, sample from the observation space\n",
    "        self.populate_rewarddict(observations)\n",
    "        self.reward=ne.evaluate(self.reward_formula_string, local_dict=self.rewarddict)\n",
    "        if toreturn==True:\n",
    "            return self.reward\n",
    "    def init_action_space(self):\n",
    "        self.action_space=spaces.Dict({})\n",
    "        for key, val in self.out_dict.items():\n",
    "            spacesnames=val['names']\n",
    "            spacesrange=val['value_range']\n",
    "            for spacename in spacesnames:\n",
    "                self.action_space.spaces[spacename]=spaces.Box(low=spacesrange['min'], high=spacesrange['max'], shape=(1,), dtype=int)\n",
    "    def init_observation_space(self):\n",
    "        self.observation_space=spaces.Dict({})\n",
    "        self.observation_space['raw_data']=spaces.Box(low=0, high=self.max_sfsystem_output, shape=(self.n_timepoints_per_sample, self.n_channels_of_interest), dtype=int) #n timepoints per sample rows, n input channels columns, signals should be normalized\n",
    "        if self.record_fft:\n",
    "            self.observation_space['fft']=spaces.Box(low=0.0, high=1.0, shape=(self.n_channels_of_interest, self.n_fft_values))\n",
    "        if self.record_fbins:\n",
    "            self.observation_space['fbins']=spaces.Box(low=0.0, high=1.0, shape=(self.n_channels_of_interest, self.n_fbins))\n",
    "    def set_fft_params(self):\n",
    "        self.sampling_frequency=int(1000/self.delay)\n",
    "        self.max_possible_fft_frequency=self.sampling_frequency/2\n",
    "        self.sampling_period=int(self.delay*self.n_timepoints_per_sample)\n",
    "        self.timesteps=np.linspace(0, (self.n_timepoints_per_sample-1)*self.delay, self.n_timepoints_per_sample)\n",
    "        self.fstep=self.sampling_frequency/self.n_timepoints_per_sample\n",
    "        self.f=np.linspace(0, (self.n_timepoints_per_sample-1)*self.fstep, self.n_timepoints_per_sample)\n",
    "        self.f_plot=self.f[0:int(self.n_timepoints_per_sample/2 + 1)]\n",
    "        self.n_fft_values=len(self.f_plot)\n",
    "\n",
    "    def connect(self):\n",
    "        websocket.enableTrace(True)\n",
    "        self.ws=websocket.WebSocket()\n",
    "        self.ws.connect(self.device_address)\n",
    "        self.connection_status=self.ws.recv()\n",
    "    \n",
    "    def get_fft_fromsignal(self, raw_singlech):\n",
    "        X=np.fft.fft(raw_singlech)\n",
    "        X_mag=np.abs(X)/self.n_timepoints_per_sample\n",
    "        X_mag_plot=2*X_mag[0:int(self.n_timepoints_per_sample/2 + 1)]\n",
    "        return X_mag_plot\n",
    "\n",
    "    def get_fft_allchannels(self, raw_data=None):\n",
    "        if raw_data == None:\n",
    "            raw_data=self.observation_space.sample()['raw_data']\n",
    "\n",
    "        fft_data=[]\n",
    "        for chindex in range(raw_data.shape[1]):\n",
    "            chraw=raw_data[:,chindex]\n",
    "            chfft=self.get_fft_fromsignal(chraw)\n",
    "            fft_data.append(chfft)\n",
    "        fft_data=np.array(fft_data)\n",
    "        return fft_data\n",
    "    \n",
    "    def get_bin_values_from_signal(self, fft_signlech):\n",
    "        fpl=np.array(self.f_plot)\n",
    "        xmp=np.array(fft_signlech)\n",
    "        magnitudes=[]\n",
    "        for low, high in self.fbins:\n",
    "            mask = (fpl >= low) & (fpl < high)\n",
    "            magnitude = np.abs(xmp[mask]).mean() #here can be other functions\n",
    "            magnitudes.append(magnitude)\n",
    "        magnitudes=np.array(magnitudes)\n",
    "        return magnitudes\n",
    "    def set_fbin_x_axis_labels(self):\n",
    "        self.fbin_axis_labels=[]\n",
    "        for low, high in self.fbins:\n",
    "            binname=f'{low}-{high} Hz'\n",
    "            self.fbin_axis_labels.append(binname)\n",
    "    def get_bin_values_allchannels(self, fft=None):\n",
    "        if fft == None:\n",
    "            fft=self.observation_space.sample()['fft']\n",
    "        fbins_data=[]\n",
    "        for chindex in range(fft.shape[0]):\n",
    "            chfft=fft[chindex,:]\n",
    "            chbins=self.get_bin_values_from_signal(chfft)\n",
    "            fbins_data.append(chbins)\n",
    "        fbins_data=np.array(fbins_data)\n",
    "        return fbins_data\n",
    "\n",
    "    def set_delay_and_data_transfer_buffer_size(self):\n",
    "        self.ws.send(\"set_delay_and_data_transfer_buffer_size\")\n",
    "        time.sleep(self.timesleep_period)\n",
    "        setup=False\n",
    "        while setup==False:\n",
    "            try:\n",
    "                device_msg=self.ws.recv()\n",
    "                if device_msg == \"Awaiting delay and data transfer buffer size in shape with space separator\":\n",
    "                    self.ws.send(f'{self.delay},{self.n_timepoints_per_sample}')\n",
    "                time.sleep(self.timesleep_period)\n",
    "                device_msg=self.ws.recv()\n",
    "                if device_msg == \"Delay and data transfer buffer size set up\":\n",
    "                    setup = True \n",
    "                    break;\n",
    "            except:\n",
    "                pass\n",
    "    def start_data_transfer_from_device(self):\n",
    "        self.ws.send(\"start_data_transfer_from_ads\")\n",
    "    def stop_data_transfer_from_device(self):\n",
    "        self.ws.send(\"stop_data_transfer_from_ads\")\n",
    "    def stop_audiovis_feedback(self):\n",
    "        self.ws.send(\"stop_led_cycle\")\n",
    "    def update_audiovis_feedback(self, update_dict=None):\n",
    "        if update_dict == None:\n",
    "            update_dict=self.action_space.sample()\n",
    "        self.ws.send(\"receive_output_control_data\")\n",
    "        outmsg_vals=[]\n",
    "        for controlnm in self.out_order:\n",
    "            outmsg_vals.append(update_dict[controlnm][0])\n",
    "        self.current_control_msg=','.join(list(map(str,outmsg_vals)))\n",
    "        self.ws.send(self.current_control_msg)\n",
    "    def sample_observations(self):\n",
    "        self.ws.send(\"start_data_transfer_from_ads\")\n",
    "        self.current_sample=self.ws.recv()\n",
    "        self.current_sample=json.loads(self.current_sample['data'])\n",
    "        self.ws.send(\"stop_data_transfer_from_ads\")\n",
    "    def sample_and_process_observations_from_device(self):\n",
    "        new_observations=dict()\n",
    "        raw_data=self.sample_observations()\n",
    "        new_observations['raw_data']=raw_data\n",
    "        if self.do_fft:\n",
    "         fft=self.get_fft_allchannels(raw_data=raw_data)\n",
    "         if self.record_fft:\n",
    "            new_observations['fft']=fft\n",
    "        if self.do_fbins:\n",
    "            fbins=self.get_bin_values_allchannels(fft=fft)\n",
    "            if self.record_fbins:\n",
    "                new_observations['fbins']=fbins \n",
    "        new_observations=OrderedDict(new_observations)\n",
    "        return new_observations\n",
    "    def step(self, action):\n",
    "        self.update_audiovis_feedback(action)\n",
    "        time.sleep(self.step_stim_length)\n",
    "\n",
    "        new_observations=self.sample_and_process_observations_from_device()\n",
    "        new_observations=new_observations[:,self.channels_of_interest_inds]\n",
    "        self.cur_observations=new_observations\n",
    "        reward=self.get_reward(observations=new_observations, toreturn=True)\n",
    "\n",
    "\n",
    "\n",
    "        if self.log_and_plot_data==True:\n",
    "            if reward>self.episode_max_reward:\n",
    "                self.episode_max_reward=reward\n",
    "            self.cur_episode_rewards.append(reward)\n",
    "            if self.write_log:\n",
    "                logging.info(f'Episode {self.current_episode}, Step {self.cur_step}, Reward {reward}')\n",
    "                if self.log_signals==True:\n",
    "                    logging.info(str(self.cur_observations))            \n",
    "\n",
    "\n",
    "        if self.cur_step<self.n_steps_per_episode:\n",
    "            done=False\n",
    "            self.cur_step+=1\n",
    "        else:\n",
    "            done=True\n",
    "        return new_observations, reward, done, {}\n",
    "    def reset(self):\n",
    "        self.stop_audiovis_feedback()\n",
    "        self.cur_step=0\n",
    "        new_observations=self.sample_and_process_observations_from_device()\n",
    "        self.cur_observations=new_observations\n",
    "        self.update_audiovis_feedback(update_dict=self.default_actions) #update back to default actions\n",
    "        if self.log_and_plot_data==True:\n",
    "            self.previous_episodes_max_rewards.append(self.episode_max_reward)\n",
    "            self.cur_episode_rewards=[]\n",
    "        time.sleep(self.step_stim_length) #prepare the brain for the next episode \n",
    "        return new_observations\n",
    "\n",
    "    def render(self, elems=['reward_lineplots', 'current_fft', 'current_fbins']):\n",
    "        figures=dict()\n",
    "        if 'reward_lineplots' in elems:\n",
    "            training_fig=sp.make_subplots(rows=1, cols=2)\n",
    "            training_fig.add_trace(sp.go.Scatter(x=list(range(len(self.cur_episode_rewards))), y=self.cur_episode_rewards, mode='lines+markers', name='Current episode rewards'), row=1, column=1)\n",
    "            training_fig.add_trace(sp.go.Scatter(x=list(range(len(self.previous_episodes_max_rewards))), y=self.previous_episodes_max_rewards, mode='lines+markers', name='Previous episode max rewards'), row=1, column=2)\n",
    "            figures['reward_lineplots']=training_fig\n",
    "            if self.render_data:\n",
    "                training_fig.show()\n",
    "        if ('current_fft' in elems) or ('current_fbins' in elems):\n",
    "            if self.record_fft or self.record_fbins:\n",
    "                signal_fig=sp.make_subplots(rows=self.n_channels_of_interest, cols=2)\n",
    "                if 'current_fft' in elems and self.record_fft:\n",
    "                    for chidx in range(self.n_channels_of_interest):\n",
    "                        orig_chidx=self.channels_of_interest_inds[chidx]\n",
    "                        chfft=self.cur_observations['fft'][chidx]\n",
    "                        signal_fig.add_trace(sp.go.Scatter(x=self.f_plot, y=chfft, mode='lines+markers', name=f'Channel {orig_chidx} spectrum'), row=chidx+1, column=1)\n",
    "                if 'current_fbins' in elems and self.record_fbins:\n",
    "                    for chidx in range(self.n_channels_of_interest):\n",
    "                        orig_chidx=self.channels_of_interest_inds[chidx]\n",
    "                        chbins=self.cur_observations['fbins'][chidx]\n",
    "                        signal_fig.add_trace(sp.go.Bar(x=self.fbin_axis_labels, y=chbins, mode='lines+markers', name=f'Channel {orig_chidx} frequency bins'), row=chidx+1, column=2)\n",
    "                if self.render_data:\n",
    "                    signal_fig.show()\n",
    "        if self.return_plotly_figs:\n",
    "            return figures\n",
    "    def close(self):\n",
    "        self.stop_audiovis_feedback() #just in case\n",
    "        self.stop_data_transfer_from_device() #just in case\n",
    "        self.cur_step=0 #just in case\n",
    "        self.current_episode=0"
   ]
  },
  {
   "cell_type": "code",
   "execution_count": 3,
   "metadata": {},
   "outputs": [
    {
     "name": "stderr",
     "output_type": "stream",
     "text": [
      "--- request header ---\n",
      "GET / HTTP/1.1\n",
      "Upgrade: websocket\n",
      "Host: 10.42.0.231\n",
      "Origin: http://10.42.0.231\n",
      "Sec-WebSocket-Key: sKTlFCzVOAFLDCH7PPJtjQ==\n",
      "Sec-WebSocket-Version: 13\n",
      "Connection: Upgrade\n",
      "\n",
      "\n",
      "-----------------------\n",
      "--- response header ---\n",
      "HTTP/1.1 101 Switching Protocols\n",
      "Server: arduino-WebSocketsServer\n",
      "Upgrade: websocket\n",
      "Connection: Upgrade\n",
      "Sec-WebSocket-Version: 13\n",
      "Sec-WebSocket-Accept: /chj//Pvge5bCdzeYBt694JIDm4=\n",
      "-----------------------\n"
     ]
    },
    {
     "name": "stdout",
     "output_type": "stream",
     "text": [
      "Token freq_30_ch0:\n",
      "Closest fft frequency 30.0\n"
     ]
    },
    {
     "name": "stderr",
     "output_type": "stream",
     "text": [
      "++Rcv raw: b'\\x89\\x00'\n",
      "++Rcv decoded: fin=1 opcode=9 data=b''\n",
      "++Sent raw: b'\\x8a\\x80\\xbf[PB'\n",
      "++Sent decoded: fin=1 opcode=10 data=b''\n",
      "++Rcv raw: b'\\x81\\tConnected'\n",
      "++Rcv decoded: fin=1 opcode=1 data=b'Connected'\n",
      "++Sent raw: b'\\x81\\xa7\\xc2\\xd4*h\\xb1\\xb1^7\\xa6\\xb1F\\t\\xbb\\x8bK\\x06\\xa6\\x8bN\\t\\xb6\\xb5u\\x1c\\xb0\\xb5D\\x1b\\xa4\\xb1X7\\xa0\\xa1L\\x0e\\xa7\\xa6u\\x1b\\xab\\xaeO'\n",
      "++Sent decoded: fin=1 opcode=1 data=b'set_delay_and_data_transfer_buffer_size'\n",
      "++Rcv raw: b'\\x81JAwaiting delay and data transfer buffer size in shape with space separator'\n",
      "++Rcv decoded: fin=1 opcode=1 data=b'Awaiting delay and data transfer buffer size in shape with space separator'\n",
      "++Sent raw: b'\\x81\\x86\\xecYs\\xf6\\xddi_\\xc7\\xdci'\n",
      "++Sent decoded: fin=1 opcode=1 data=b'10,100'\n"
     ]
    },
    {
     "name": "stdout",
     "output_type": "stream",
     "text": [
      "Connected\n"
     ]
    },
    {
     "name": "stderr",
     "output_type": "stream",
     "text": [
      "++Rcv raw: b'\\x81*Delay and data transfer buffer size set up'\n",
      "++Rcv decoded: fin=1 opcode=1 data=b'Delay and data transfer buffer size set up'\n"
     ]
    },
    {
     "name": "stdout",
     "output_type": "stream",
     "text": [
      "Delay and data transfer buffer size are set up.\n"
     ]
    }
   ],
   "source": [
    "communicator=SFSystemCommunicator()"
   ]
  },
  {
   "cell_type": "code",
   "execution_count": 3,
   "metadata": {},
   "outputs": [
    {
     "name": "stderr",
     "output_type": "stream",
     "text": [
      "++Sent raw: b'\\x81\\x9c@\\xa7\\x0f|3\\xd3n\\x0e4\\xf8k\\x1d4\\xc6P\\x082\\xc6a\\x0f&\\xc2}#&\\xd5`\\x11\\x1f\\xc6k\\x0f'\n",
      "++Sent decoded: fin=1 opcode=1 data=b'start_data_transfer_from_ads'\n",
      "++Rcv raw: b'\\x81~\\x06\\x81{\"ch1\":[0,0,0,0,0,0,0,0,0,0,0,0,0,0,0,0,0,0,0,0,0,0,0,0,0,0,0,0,0,0,0,0,0,0,0,0,0,0,0,0,0,0,0,0,0,0,0,0,0,0,0,0,0,0,0,0,0,0,0,0,0,0,0,0,0,0,0,0,0,0,0,0,0,0,0,0,0,0,0,0,0,0,0,0,0,0,0,0,0,0,0,0,0,0,0,0,0,0,0,0],\"ch2\":[0,0,0,0,0,0,0,0,0,0,0,0,0,0,0,0,0,0,0,0,0,0,0,0,0,0,0,0,0,0,0,0,0,0,0,0,0,0,0,0,0,0,0,0,0,0,0,0,0,0,0,0,0,0,0,0,0,0,0,0,0,0,0,0,0,0,0,0,0,0,0,0,0,0,0,0,0,0,0,0,0,0,0,0,0,0,0,0,0,0,0,0,0,0,0,0,0,0,0,0],\"ch3\":[0,0,0,0,0,0,0,0,0,0,0,0,0,0,0,0,0,0,0,0,0,0,0,0,0,0,0,0,0,0,0,0,0,0,0,0,0,0,0,0,0,0,0,0,0,0,0,0,0,0,0,0,0,0,0,0,0,0,0,0,0,0,0,0,0,0,0,0,0,0,0,0,0,0,0,0,0,0,0,0,0,0,0,0,0,0,0,0,0,0,0,0,0,0,0,0,0,0,0,0],\"ch4\":[0,0,0,0,0,0,0,0,0,0,0,0,0,0,0,0,0,0,0,0,0,0,0,0,0,0,0,0,0,0,0,0,0,0,0,0,0,0,0,0,0,0,0,0,0,0,0,0,0,0,0,0,0,0,0,0,0,0,0,0,0,0,0,0,0,0,0,0,0,0,0,0,0,0,0,0,0,0,0,0,0,0,0,0,0,0,0,0,0,0,0,0,0,0,0,0,0,0,0,0],\"ch5\":[0,0,0,0,0,0,0,0,0,0,0,0,0,0,0,0,0,0,0,0,0,0,0,0,0,0,0,0,0,0,0,0,0,0,0,0,0,0,0,0,0,0,0,0,0,0,0,0,0,0,0,0,0,0,0,0,0,0,0,0,0,0,0,0,0,0,0,0,0,0,0,0,0,0,0,0,0,0,0,0,0,0,0,0,0,0,0,0,0,0,0,0,0,0,0,0,0,0,0,0],\"ch6\":[0,0,0,0,0,0,0,0,0,0,0,0,0,0,0,0,0,0,0,0,0,0,0,0,0,0,0,0,0,0,0,0,0,0,0,0,0,0,0,0,0,0,0,0,0,0,0,0,0,0,0,0,0,0,0,0,0,0,0,0,0,0,0,0,0,0,0,0,0,0,0,0,0,0,0,0,0,0,0,0,0,0,0,0,0,0,0,0,0,0,0,0,0,0,0,0,0,0,0,0],\"ch7\":[0,0,0,0,0,0,0,0,0,0,0,0,0,0,0,0,0,0,0,0,0,0,0,0,0,0,0,0,0,0,0,0,0,0,0,0,0,0,0,0,0,0,0,0,0,0,0,0,0,0,0,0,0,0,0,0,0,0,0,0,0,0,0,0,0,0,0,0,0,0,0,0,0,0,0,0,0,0,0,0,0,0,0,0,0,0,0,0,0,0,0,0,0,0,0,0,0,0,0,0],\"ch8\":[0,0,0,0,0,0,0,0,0,0,0,0,0,0,0,0,0,0,0,0,0,0,0,0,0,0,0,0,0,0,0,0,0,0,0,0,0,0,0,0,0,0,0,0,0,0,0,0,0,0,0,0,0,0,0,0,0,0,0,0,0,0,0,0,0,0,0,0,0,0,0,0,0,0,0,0,0,0,0,0,0,0,0,0,0,0,0,0,0,0,0,0,0,0,0,0,0,0,0,0]}'\n",
      "++Rcv decoded: fin=1 opcode=1 data=b'{\"ch1\":[0,0,0,0,0,0,0,0,0,0,0,0,0,0,0,0,0,0,0,0,0,0,0,0,0,0,0,0,0,0,0,0,0,0,0,0,0,0,0,0,0,0,0,0,0,0,0,0,0,0,0,0,0,0,0,0,0,0,0,0,0,0,0,0,0,0,0,0,0,0,0,0,0,0,0,0,0,0,0,0,0,0,0,0,0,0,0,0,0,0,0,0,0,0,0,0,0,0,0,0],\"ch2\":[0,0,0,0,0,0,0,0,0,0,0,0,0,0,0,0,0,0,0,0,0,0,0,0,0,0,0,0,0,0,0,0,0,0,0,0,0,0,0,0,0,0,0,0,0,0,0,0,0,0,0,0,0,0,0,0,0,0,0,0,0,0,0,0,0,0,0,0,0,0,0,0,0,0,0,0,0,0,0,0,0,0,0,0,0,0,0,0,0,0,0,0,0,0,0,0,0,0,0,0],\"ch3\":[0,0,0,0,0,0,0,0,0,0,0,0,0,0,0,0,0,0,0,0,0,0,0,0,0,0,0,0,0,0,0,0,0,0,0,0,0,0,0,0,0,0,0,0,0,0,0,0,0,0,0,0,0,0,0,0,0,0,0,0,0,0,0,0,0,0,0,0,0,0,0,0,0,0,0,0,0,0,0,0,0,0,0,0,0,0,0,0,0,0,0,0,0,0,0,0,0,0,0,0],\"ch4\":[0,0,0,0,0,0,0,0,0,0,0,0,0,0,0,0,0,0,0,0,0,0,0,0,0,0,0,0,0,0,0,0,0,0,0,0,0,0,0,0,0,0,0,0,0,0,0,0,0,0,0,0,0,0,0,0,0,0,0,0,0,0,0,0,0,0,0,0,0,0,0,0,0,0,0,0,0,0,0,0,0,0,0,0,0,0,0,0,0,0,0,0,0,0,0,0,0,0,0,0],\"ch5\":[0,0,0,0,0,0,0,0,0,0,0,0,0,0,0,0,0,0,0,0,0,0,0,0,0,0,0,0,0,0,0,0,0,0,0,0,0,0,0,0,0,0,0,0,0,0,0,0,0,0,0,0,0,0,0,0,0,0,0,0,0,0,0,0,0,0,0,0,0,0,0,0,0,0,0,0,0,0,0,0,0,0,0,0,0,0,0,0,0,0,0,0,0,0,0,0,0,0,0,0],\"ch6\":[0,0,0,0,0,0,0,0,0,0,0,0,0,0,0,0,0,0,0,0,0,0,0,0,0,0,0,0,0,0,0,0,0,0,0,0,0,0,0,0,0,0,0,0,0,0,0,0,0,0,0,0,0,0,0,0,0,0,0,0,0,0,0,0,0,0,0,0,0,0,0,0,0,0,0,0,0,0,0,0,0,0,0,0,0,0,0,0,0,0,0,0,0,0,0,0,0,0,0,0],\"ch7\":[0,0,0,0,0,0,0,0,0,0,0,0,0,0,0,0,0,0,0,0,0,0,0,0,0,0,0,0,0,0,0,0,0,0,0,0,0,0,0,0,0,0,0,0,0,0,0,0,0,0,0,0,0,0,0,0,0,0,0,0,0,0,0,0,0,0,0,0,0,0,0,0,0,0,0,0,0,0,0,0,0,0,0,0,0,0,0,0,0,0,0,0,0,0,0,0,0,0,0,0],\"ch8\":[0,0,0,0,0,0,0,0,0,0,0,0,0,0,0,0,0,0,0,0,0,0,0,0,0,0,0,0,0,0,0,0,0,0,0,0,0,0,0,0,0,0,0,0,0,0,0,0,0,0,0,0,0,0,0,0,0,0,0,0,0,0,0,0,0,0,0,0,0,0,0,0,0,0,0,0,0,0,0,0,0,0,0,0,0,0,0,0,0,0,0,0,0,0,0,0,0,0,0,0]}'\n",
      "++Sent raw: b'\\x81\\x9bk\\xdc\\xd7\\x05\\x18\\xa8\\xb8u4\\xb8\\xb6q\\n\\x83\\xa3w\\n\\xb2\\xa4c\\x0e\\xae\\x88c\\x19\\xb3\\xbaZ\\n\\xb8\\xa4'\n",
      "++Sent decoded: fin=1 opcode=1 data=b'stop_data_transfer_from_ads'\n"
     ]
    }
   ],
   "source": [
    "communicator.sample_observations()"
   ]
  },
  {
   "cell_type": "code",
   "execution_count": 12,
   "metadata": {},
   "outputs": [
    {
     "name": "stderr",
     "output_type": "stream",
     "text": [
      "++Sent raw: b'\\x81\\x9b\\xd6_M\\xe0\\xa4:.\\x85\\xbf)(\\xbf\\xb9*9\\x90\\xa3+\\x12\\x83\\xb919\\x92\\xb93\\x12\\x84\\xb7+,'\n",
      "++Sent decoded: fin=1 opcode=1 data=b'receive_output_control_data'\n",
      "++Sent raw: b'\\x81\\xfe\\x00\\x82\\xc9\\xb1R\\xdd\\xf8\\x82k\\xf1\\xf8\\x81a\\xf1\\xf8\\x83c\\xf1\\xfb\\x85e\\xf1\\xfb\\x85c\\xf1\\xf8\\x88j\\xf1\\xfd\\x81~\\xeb\\xf8\\x9dd\\xef\\xe5\\x80k\\xee\\xe5\\x89b\\xf1\\xf8\\x83b\\xf1\\xf8\\x83j\\xf1\\xfb\\x85a\\xf1\\xfb\\x81`\\xf1\\xff\\x81~\\xe4\\xf0\\x9dk\\xe8\\xe5\\x86e\\xf1\\xf8\\x80d\\xf1\\xf8\\x88c\\xf1\\xff\\x85~\\xe9\\xfc\\x9dd\\xe5\\xe5\\x87e\\xec\\xf9\\x9d`\\xed\\xf1\\x82k\\xf1\\xfb\\x86e\\xec\\xfe\\x9d`\\xec\\xe5\\x82~\\xef\\xf0\\x9d`\\xef\\xe5\\x85g\\xf1\\xfa\\x85~\\xe9\\xf0\\x9d`\\xe5\\xe5\\x87~\\xec\\xe5\\x81'\n",
      "++Sent decoded: fin=1 opcode=1 data=b'139,103,121,247,241,198,40,61,62,193,80,120,128,243,202,60,99,95,77,116,191,64,45,68,6710,20839,27717,21,3,29,22,45,34,49,28,6,1,0'\n"
     ]
    }
   ],
   "source": [
    "communicator.update_audiovis_feedback(communicator.action_space.sample())"
   ]
  },
  {
   "cell_type": "code",
   "execution_count": 13,
   "metadata": {},
   "outputs": [
    {
     "name": "stderr",
     "output_type": "stream",
     "text": [
      "++Sent raw: b'\\x81\\x8e\\xa9M\\xc2\\x1b\\xda9\\xadk\\xf6!\\xa7\\x7f\\xf6.\\xbbx\\xc5('\n",
      "++Sent decoded: fin=1 opcode=1 data=b'stop_led_cycle'\n"
     ]
    }
   ],
   "source": [
    "communicator.stop_audiovis_feedback()"
   ]
  },
  {
   "cell_type": "code",
   "execution_count": 8,
   "metadata": {},
   "outputs": [
    {
     "data": {
      "text/plain": [
       "'{\"ch1\":[0,0,0,0,0,0,0,0,0,0,0,0,0,0,0,0,0,0,0,0,0,0,0,0,0,0,0,0,0,0,0,0,0,0,0,0,0,0,0,0,0,0,0,0,0,0,0,0,0,0,0,0,0,0,0,0,0,0,0,0,0,0,0,0,0,0,0,0,0,0,0,0,0,0,0,0,0,0,0,0,0,0,0,0,0,0,0,0,0,0,0,0,0,0,0,0,0,0,0,0],\"ch2\":[0,0,0,0,0,0,0,0,0,0,0,0,0,0,0,0,0,0,0,0,0,0,0,0,0,0,0,0,0,0,0,0,0,0,0,0,0,0,0,0,0,0,0,0,0,0,0,0,0,0,0,0,0,0,0,0,0,0,0,0,0,0,0,0,0,0,0,0,0,0,0,0,0,0,0,0,0,0,0,0,0,0,0,0,0,0,0,0,0,0,0,0,0,0,0,0,0,0,0,0],\"ch3\":[0,0,0,0,0,0,0,0,0,0,0,0,0,0,0,0,0,0,0,0,0,0,0,0,0,0,0,0,0,0,0,0,0,0,0,0,0,0,0,0,0,0,0,0,0,0,0,0,0,0,0,0,0,0,0,0,0,0,0,0,0,0,0,0,0,0,0,0,0,0,0,0,0,0,0,0,0,0,0,0,0,0,0,0,0,0,0,0,0,0,0,0,0,0,0,0,0,0,0,0],\"ch4\":[0,0,0,0,0,0,0,0,0,0,0,0,0,0,0,0,0,0,0,0,0,0,0,0,0,0,0,0,0,0,0,0,0,0,0,0,0,0,0,0,0,0,0,0,0,0,0,0,0,0,0,0,0,0,0,0,0,0,0,0,0,0,0,0,0,0,0,0,0,0,0,0,0,0,0,0,0,0,0,0,0,0,0,0,0,0,0,0,0,0,0,0,0,0,0,0,0,0,0,0],\"ch5\":[0,0,0,0,0,0,0,0,0,0,0,0,0,0,0,0,0,0,0,0,0,0,0,0,0,0,0,0,0,0,0,0,0,0,0,0,0,0,0,0,0,0,0,0,0,0,0,0,0,0,0,0,0,0,0,0,0,0,0,0,0,0,0,0,0,0,0,0,0,0,0,0,0,0,0,0,0,0,0,0,0,0,0,0,0,0,0,0,0,0,0,0,0,0,0,0,0,0,0,0],\"ch6\":[0,0,0,0,0,0,0,0,0,0,0,0,0,0,0,0,0,0,0,0,0,0,0,0,0,0,0,0,0,0,0,0,0,0,0,0,0,0,0,0,0,0,0,0,0,0,0,0,0,0,0,0,0,0,0,0,0,0,0,0,0,0,0,0,0,0,0,0,0,0,0,0,0,0,0,0,0,0,0,0,0,0,0,0,0,0,0,0,0,0,0,0,0,0,0,0,0,0,0,0],\"ch7\":[0,0,0,0,0,0,0,0,0,0,0,0,0,0,0,0,0,0,0,0,0,0,0,0,0,0,0,0,0,0,0,0,0,0,0,0,0,0,0,0,0,0,0,0,0,0,0,0,0,0,0,0,0,0,0,0,0,0,0,0,0,0,0,0,0,0,0,0,0,0,0,0,0,0,0,0,0,0,0,0,0,0,0,0,0,0,0,0,0,0,0,0,0,0,0,0,0,0,0,0],\"ch8\":[0,0,0,0,0,0,0,0,0,0,0,0,0,0,0,0,0,0,0,0,0,0,0,0,0,0,0,0,0,0,0,0,0,0,0,0,0,0,0,0,0,0,0,0,0,0,0,0,0,0,0,0,0,0,0,0,0,0,0,0,0,0,0,0,0,0,0,0,0,0,0,0,0,0,0,0,0,0,0,0,0,0,0,0,0,0,0,0,0,0,0,0,0,0,0,0,0,0,0,0]}'"
      ]
     },
     "execution_count": 8,
     "metadata": {},
     "output_type": "execute_result"
    }
   ],
   "source": [
    "communicator.current_sample"
   ]
  },
  {
   "cell_type": "code",
   "execution_count": 3,
   "metadata": {},
   "outputs": [],
   "source": [
    "actspace=communicator.action_space.sample()"
   ]
  },
  {
   "cell_type": "code",
   "execution_count": 7,
   "metadata": {},
   "outputs": [
    {
     "data": {
      "text/plain": [
       "OrderedDict([('leddelay', array([2401])),\n",
       "             ('lv1r', array([112])),\n",
       "             ('lv1g', array([101])),\n",
       "             ('lv1b', array([56])),\n",
       "             ('lv2r', array([222])),\n",
       "             ('lv2g', array([185])),\n",
       "             ('lv2b', array([200])),\n",
       "             ('lv3r', array([184])),\n",
       "             ('lv3g', array([100])),\n",
       "             ('lv3b', array([41])),\n",
       "             ('lv4r', array([123])),\n",
       "             ('lv4g', array([170])),\n",
       "             ('lv4b', array([19])),\n",
       "             ('lv5r', array([249])),\n",
       "             ('lv5g', array([238])),\n",
       "             ('lv5b', array([176])),\n",
       "             ('lv6r', array([145])),\n",
       "             ('lv6g', array([124])),\n",
       "             ('lv6b', array([207])),\n",
       "             ('lv7r', array([249])),\n",
       "             ('lv7g', array([22])),\n",
       "             ('lv7b', array([85])),\n",
       "             ('lv8r', array([45])),\n",
       "             ('lv8g', array([148])),\n",
       "             ('lv8b', array([110])),\n",
       "             ('wave_1_freq', array([4648])),\n",
       "             ('wave_2_freq', array([17008])),\n",
       "             ('panner_freq', array([11])),\n",
       "             ('phasor_1_freq', array([46])),\n",
       "             ('phasor_2_freq', array([50])),\n",
       "             ('phasor_1_min', array([14])),\n",
       "             ('phasor_2_min', array([15])),\n",
       "             ('phasor_1_dif', array([35])),\n",
       "             ('phasor_2_dif', array([24])),\n",
       "             ('panner_div', array([2])),\n",
       "             ('wave_1_type', array([2])),\n",
       "             ('wave_2_type', array([1])),\n",
       "             ('maxivolume', array([86]))])"
      ]
     },
     "execution_count": 7,
     "metadata": {},
     "output_type": "execute_result"
    }
   ],
   "source": [
    "actspace"
   ]
  },
  {
   "cell_type": "code",
   "execution_count": 17,
   "metadata": {},
   "outputs": [
    {
     "data": {
      "text/plain": [
       "8"
      ]
     },
     "execution_count": 17,
     "metadata": {},
     "output_type": "execute_result"
    }
   ],
   "source": [
    "sample=communicator.observation_space.sample()\n",
    "sample['raw_data'].shape[1]"
   ]
  },
  {
   "cell_type": "code",
   "execution_count": 18,
   "metadata": {},
   "outputs": [
    {
     "data": {
      "text/plain": [
       "array([[ 633,  909,  253,  174,  711,  192,  812,  991],\n",
       "       [ 355,  144,  985,   83,  882,  887,  214,   84],\n",
       "       [ 614,  687,  346,  308,  653,  238,  810,  591],\n",
       "       [ 883,  862,  456,   30,  968,    2,  301,  574],\n",
       "       [ 616,  797,  605,  168,  826,   42,  486,  555],\n",
       "       [ 254,  545,  324,  660,  796,  887,  792,  455],\n",
       "       [ 949,  350,  269,  885,  498,  935,  178,  762],\n",
       "       [ 376,  157,  471,  169,  565,  282,  429,  358],\n",
       "       [ 942,  278,  955,  781,  112,  950,  288,  589],\n",
       "       [ 126,  665,   77,  906,  229,  528,  848,   83],\n",
       "       [ 275,  446,  179,  504,  738,  536,  249,  266],\n",
       "       [ 798,  994,  226,  201,   13,  775,  836,  602],\n",
       "       [ 670,  360,   60,  780,  707,  165,  380,  856],\n",
       "       [ 243,  481,  710,   81,  894,  381,  544,  783],\n",
       "       [ 462,  197,  161,  229,    1,  735,  381,  855],\n",
       "       [ 808,  282,  185,  338,  630,  914,  589,  181],\n",
       "       [ 640,   23,  489,  776,  799,  502,  452,  791],\n",
       "       [  79,   86,  299,  779,   12,  846,  323,  566],\n",
       "       [ 336,  792,  753,  943,  695,  203,  594,  101],\n",
       "       [ 347,  166,  370,  915,  230,  725,  421,  198],\n",
       "       [ 457,  870,  564,  530,  500,  158,  497,  730],\n",
       "       [ 928,  131, 1019,  816,   18,  738,  524,  351],\n",
       "       [ 902,  752,  470,  600,   40,  293,  341,  729],\n",
       "       [  92,  937,  661,  431,  956,  946,  183,   14],\n",
       "       [   8,  399,  114,  587,  572,  523,  563,  837],\n",
       "       [ 891,  387,  951,  883,  370,   28,  233,  952],\n",
       "       [ 110,  762,  260,  954,  370,  857,  115,  666],\n",
       "       [ 831,  438,  711,  107,  857,  114,  870,  169],\n",
       "       [ 633,  151,  829,  903,  800,  972,  971,   97],\n",
       "       [ 235,  703,  259,  648,  667,  607,  132,  496],\n",
       "       [ 720,  568,   80,  279,  324,  116,  722,  966],\n",
       "       [ 255,    3,  938,  597,  287,  278,  652,  198],\n",
       "       [ 332,  296,   62,  597,  118,  393,  924,  292],\n",
       "       [ 284,  690,  716,  962,  590,  368,  294,  397],\n",
       "       [ 635,  591,  492,   43,   44,  186,  150,  674],\n",
       "       [ 883,  216,  212,  984,    2,  211,    8,  432],\n",
       "       [ 356,  428,  495,  457,  390,  338,  172, 1015],\n",
       "       [1014,  294,  807,  900,  888,  648,  891,  485],\n",
       "       [ 751,  617,  869,  585,  250,  698,  449,  619],\n",
       "       [ 494,  923,  868,  750,  955,  260,  890,   73],\n",
       "       [ 329,  135,  204,  365,  899,  309,  272,  233],\n",
       "       [ 706,   59,  566,   49,  707,  776,  450,  833],\n",
       "       [ 425,  140,  367,  899,  507,  321,  233,  390],\n",
       "       [ 435, 1004,  840,  467,  721,  808,  558,  902],\n",
       "       [ 580,  273,  834,  632,  534,  406,  433,  855],\n",
       "       [ 963,  190,  650,  781,   34,  731,  430,  233],\n",
       "       [ 295,  109,  593,   25,   45,  442,  197,  209],\n",
       "       [ 562,   50,  272, 1013,  996,  884,  720,  973],\n",
       "       [ 249,  293,   31,  173,  911,  387,  321,  482],\n",
       "       [ 971,  109,  316,  802,  787,  105,  593,  447],\n",
       "       [ 767,  840,  908,  982,  759,  361,  887,  524],\n",
       "       [ 180,  192,  348,  583,  417,  138,  454,   47],\n",
       "       [ 296,  699,  720,  207,  186,  955,  745,  175],\n",
       "       [ 631,  503,  776,  308,  427,  792,  449,  723],\n",
       "       [ 285,  666,   30,  711,  918,  873,  863,  263],\n",
       "       [ 302,  381,  745,  928,   42,  292,  187,  976],\n",
       "       [ 100,  146,  960,  795,  744,  768,  913,  458],\n",
       "       [ 201,  273,  297,  620,  963,  134,  544,  129],\n",
       "       [ 708,  622,  687,  139,  263, 1017,  607,  156],\n",
       "       [ 711,  120,  447,  642,  491,  305,  446,  752],\n",
       "       [ 777,  999,   84,  568,  964,  849,  835,  202],\n",
       "       [ 507,  772,  832,  490,  383,   50,  345,  146],\n",
       "       [ 227,  532,  950,  789,  973,  842,  103,  868],\n",
       "       [ 962,  519,  627,  473,   38,  531,  647,  970],\n",
       "       [ 415,  415,  634, 1001,  504,  367,  634,  761],\n",
       "       [  19,  345,  229,  195,  961,  112,  782,  781],\n",
       "       [1021,  983,  300,  245,  513,  728,   67,  448],\n",
       "       [ 672,  180,  666,  866,  323,  872,  929,  311],\n",
       "       [ 736,  335,  547,  584,  538,  230,   36,  589],\n",
       "       [ 722,  554,  159,   22,  374,  453,  860,  962],\n",
       "       [ 519,  631,  734,  898,  882,  143,  995,  874],\n",
       "       [  11,  786,  460,  322,  498,  718,  728,  232],\n",
       "       [ 225,  210,  410,   16,  726,  277,  406,  291],\n",
       "       [ 815,  259, 1000,  657,  928,  414,  685,  963],\n",
       "       [ 766,  154,  356,  237,   61,  907,  145,  844],\n",
       "       [  31,  551,  123,  528,  606,  246,  227,  399],\n",
       "       [ 555,  239,  726,  171,  959,  613,   70,  819],\n",
       "       [  84,  331,  216,  336,  221,   31,  698,  109],\n",
       "       [  31,  853,  934,  637,  251,  965,  579,  117],\n",
       "       [ 116,  188,   64,   38,  698,  218,  456,  108],\n",
       "       [ 125,  520,  626,  115,  280,  388,  474,  532],\n",
       "       [ 554,  157,  178,  293,  960,  938,  503,  459],\n",
       "       [ 911,  391,  916,  179,   37,  800,  431,  989],\n",
       "       [ 890,  104,  719,  263,  147,  117,  557,  133],\n",
       "       [ 514,  149,  130,  900,  489,  940,  877,  588],\n",
       "       [ 114,  183,  656,   28,  234,  386,  695,  937],\n",
       "       [ 878,  742,  998,  925,  358,  278,  551,  192],\n",
       "       [  88,  212,   34,  190,   64,  948,  596,  778],\n",
       "       [ 867,  404,  854,  894,  868,  663,  563,  893],\n",
       "       [1008,  204,  718,  471,   55,  271,  362,  307],\n",
       "       [ 767,  588,  462,  923,  340,   33,  264,  508],\n",
       "       [ 250,  561,  545,  641,  827,  292,  139,  396],\n",
       "       [ 591,  878,   22, 1020,  352,  570,   44,  654],\n",
       "       [ 552,  714,  583,  221,  965,  335,   10,  492],\n",
       "       [ 663,  901,  354,  404,  688,  218,  957,  809],\n",
       "       [ 862,  216,  126,  274,  952,  472, 1003,  713],\n",
       "       [ 925,  458, 1006,   17,  283,  699,  878,    8],\n",
       "       [ 624,  598,  958,  917,  507,  766,  188,   14],\n",
       "       [ 245,  370,  919,   66,   62,  739,   79,  621],\n",
       "       [ 310,  253,  417,  282,  711,  274,  450,  226]])"
      ]
     },
     "execution_count": 18,
     "metadata": {},
     "output_type": "execute_result"
    }
   ],
   "source": [
    "sample['raw_data']"
   ]
  },
  {
   "cell_type": "code",
   "execution_count": 14,
   "metadata": {},
   "outputs": [
    {
     "data": {
      "text/plain": [
       "{'fbin_05_4_ch0': None, 'freq_30_ch0': None, 'fbin_12_30_ch0': None}"
      ]
     },
     "execution_count": 14,
     "metadata": {},
     "output_type": "execute_result"
    }
   ],
   "source": [
    "communicator.rewarddict"
   ]
  },
  {
   "cell_type": "code",
   "execution_count": 15,
   "metadata": {},
   "outputs": [],
   "source": [
    "communicator.get_reward()"
   ]
  },
  {
   "cell_type": "code",
   "execution_count": 16,
   "metadata": {},
   "outputs": [
    {
     "data": {
      "text/plain": [
       "array(4.1762214, dtype=float32)"
      ]
     },
     "execution_count": 16,
     "metadata": {},
     "output_type": "execute_result"
    }
   ],
   "source": [
    "communicator.reward"
   ]
  },
  {
   "cell_type": "code",
   "execution_count": 51,
   "metadata": {},
   "outputs": [
    {
     "data": {
      "text/plain": [
       "{'fbin_0.5_5_ch0': None, 'freq_30_ch0': None, 'fbin_10_20_ch0': None}"
      ]
     },
     "execution_count": 51,
     "metadata": {},
     "output_type": "execute_result"
    }
   ],
   "source": [
    "communicator.rewarddict"
   ]
  },
  {
   "cell_type": "code",
   "execution_count": 12,
   "metadata": {},
   "outputs": [
    {
     "data": {
      "text/plain": [
       "array(0.75)"
      ]
     },
     "execution_count": 12,
     "metadata": {},
     "output_type": "execute_result"
    }
   ],
   "source": [
    "s = \"(freq_50+fbin_0_10)/(fbin_20_30)\"\n",
    "\n",
    "# Define the variables\n",
    "variables = {\n",
    "    'freq_50': 10,\n",
    "    'fbin_0_10': 20,\n",
    "    'fbin_20_30':40\n",
    "}\n",
    "\n",
    "# Evaluate the string as a mathematical expression\n",
    "result = ne.evaluate(s, local_dict=variables)\n",
    "result"
   ]
  },
  {
   "cell_type": "code",
   "execution_count": 3,
   "metadata": {},
   "outputs": [
    {
     "name": "stdout",
     "output_type": "stream",
     "text": [
      "Reward formula can use the following operators: //, *, **, -, +\n",
      "It can refer to channels using \"ch\" prefix followed by an index (starting with 0) e.g. ch0\n",
      "It can refer to values of frequency bins in specific channels e.g. fbin_10-50|ch0\n",
      "The corresponding freqency bins must be present among fbins passed at the initialization step\n",
      "fbins should be passed in the form of [(b1 min, b1max),...(bn min, bn max)]\n",
      "It can refer to specific frequencies from fft e.g. freq_50|ch0\n",
      "Some examples:\n",
      "1. (freq_50|ch0+fbin_0-10|ch0)/(fbin_20-30|ch0)\n",
      "2. freq_5|ch0/freq_10|ch0\n",
      "3. fbin_0.5-5|ch0\n"
     ]
    }
   ],
   "source": [
    "communicator.print_reward_formula_legend()"
   ]
  },
  {
   "cell_type": "code",
   "execution_count": 14,
   "metadata": {},
   "outputs": [
    {
     "data": {
      "text/plain": [
       "'Connected'"
      ]
     },
     "execution_count": 14,
     "metadata": {},
     "output_type": "execute_result"
    }
   ],
   "source": [
    "communicator.connection_status"
   ]
  },
  {
   "cell_type": "code",
   "execution_count": null,
   "metadata": {},
   "outputs": [],
   "source": [
    "\n",
    "\n",
    "\n",
    "leddelay=100\n",
    "ledvalues=[30, 0, 0, 0, 255, 0, 0, 0, 255, 255, 255, 255, 0, 255, 255, 255, 0, 255, 255, 255, 0, 255, 0, 0]\n",
    "sdict={'wave_1_freq':800, 'wave_2_freq':200, 'panner_freq':30, 'panner_div':2, 'phasor_1_freq':100, 'phasor_1_min':30, 'phasor_1_max':30, \n",
    "       'phasor_2_freq':30, 'phasor_2_min':30, 'phasor_2_max':30,\n",
    "       'maxivolume':5,'wave_1_type':3,'wave_2_type':0}\n"
   ]
  },
  {
   "cell_type": "code",
   "execution_count": 15,
   "metadata": {},
   "outputs": [
    {
     "name": "stderr",
     "output_type": "stream",
     "text": [
      "++Rcv raw: b'\\x89\\x00'\n",
      "++Rcv decoded: fin=1 opcode=9 data=b''\n",
      "++Sent raw: b'\\x8a\\x80M\\xc5\\x07\\x01'\n",
      "++Sent decoded: fin=1 opcode=10 data=b''\n",
      "++Rcv raw: b'\\x81\\tConnected'\n",
      "++Rcv decoded: fin=1 opcode=1 data=b'Connected'\n"
     ]
    },
    {
     "data": {
      "text/plain": [
       "'Connected'"
      ]
     },
     "execution_count": 15,
     "metadata": {},
     "output_type": "execute_result"
    }
   ],
   "source": [
    "ws.recv()"
   ]
  },
  {
   "cell_type": "code",
   "execution_count": 16,
   "metadata": {},
   "outputs": [
    {
     "name": "stderr",
     "output_type": "stream",
     "text": [
      "++Sent raw: b'\\x81\\x9b\\xe1\\xd95\\xcf\\x93\\xbcV\\xaa\\x88\\xafP\\x90\\x8e\\xacA\\xbf\\x94\\xadj\\xac\\x8e\\xb7A\\xbd\\x8e\\xb5j\\xab\\x80\\xadT'\n",
      "++Sent decoded: fin=1 opcode=1 data=b'receive_output_control_data'\n"
     ]
    },
    {
     "data": {
      "text/plain": [
       "33"
      ]
     },
     "execution_count": 16,
     "metadata": {},
     "output_type": "execute_result"
    }
   ],
   "source": [
    "ws.send(\"receive_output_control_data\")"
   ]
  },
  {
   "cell_type": "code",
   "execution_count": 17,
   "metadata": {},
   "outputs": [],
   "source": [
    "# 0. noise\n",
    "# 1. sinewave\n",
    "# 2. square\n",
    "# 3. triangle\n",
    "\n",
    "\n",
    "leddelay=100\n",
    "ledvalues=[30, 0, 0, 0, 255, 0, 0, 0, 255, 255, 255, 255, 0, 255, 255, 255, 0, 255, 255, 255, 0, 255, 0, 0]\n",
    "sdict={'wave_1_freq':800, 'wave_2_freq':200, 'panner_freq':30, 'panner_div':2, 'phasor_1_freq':100, 'phasor_1_min':30, 'phasor_1_max':30, \n",
    "       'phasor_2_freq':30, 'phasor_2_min':30, 'phasor_2_max':30,\n",
    "       'maxivolume':5,'wave_1_type':3,'wave_2_type':0}"
   ]
  },
  {
   "cell_type": "code",
   "execution_count": 18,
   "metadata": {},
   "outputs": [],
   "source": [
    "message=','.join(list(map(str,ledvalues)))+f',{leddelay}'+f\",{sdict['wave_1_freq']},{sdict['wave_2_freq']},{sdict['panner_freq']},{sdict['panner_div']},{sdict['phasor_1_freq']},{sdict['phasor_1_min']},{sdict['phasor_1_max']},{sdict['phasor_2_freq']},{sdict['phasor_2_min']},{sdict['phasor_2_max']},{sdict['maxivolume']},{sdict['wave_1_type']},{sdict['wave_2_type']}\""
   ]
  },
  {
   "cell_type": "code",
   "execution_count": 19,
   "metadata": {},
   "outputs": [
    {
     "data": {
      "text/plain": [
       "'30,0,0,0,255,0,0,0,255,255,255,255,0,255,255,255,0,255,255,255,0,255,0,0,100,800,200,30,2,100,30,30,30,30,30,5,3,0'"
      ]
     },
     "execution_count": 19,
     "metadata": {},
     "output_type": "execute_result"
    }
   ],
   "source": [
    "message"
   ]
  },
  {
   "cell_type": "code",
   "execution_count": 20,
   "metadata": {},
   "outputs": [
    {
     "data": {
      "text/plain": [
       "38"
      ]
     },
     "execution_count": 20,
     "metadata": {},
     "output_type": "execute_result"
    }
   ],
   "source": [
    "len(message.split(','))"
   ]
  },
  {
   "cell_type": "code",
   "execution_count": 21,
   "metadata": {},
   "outputs": [
    {
     "name": "stderr",
     "output_type": "stream",
     "text": [
      "++Sent raw: b'\\x81\\xf2C\\x9e\\x08\\xb5p\\xae$\\x85o\\xae$\\x85o\\xac=\\x80o\\xae$\\x85o\\xae$\\x87v\\xab$\\x87v\\xab$\\x87v\\xab$\\x87v\\xab$\\x85o\\xac=\\x80o\\xac=\\x80o\\xac=\\x80o\\xae$\\x87v\\xab$\\x87v\\xab$\\x87v\\xab$\\x85o\\xac=\\x80o\\xae$\\x85o\\xaf8\\x85o\\xa68\\x85o\\xac8\\x85o\\xad8\\x99q\\xb29\\x85s\\xb2;\\x85o\\xad8\\x99p\\xae$\\x86s\\xb2;\\x85o\\xab$\\x86o\\xae'\n",
      "++Sent decoded: fin=1 opcode=1 data=b'30,0,0,0,255,0,0,0,255,255,255,255,0,255,255,255,0,255,255,255,0,255,0,0,100,800,200,30,2,100,30,30,30,30,30,5,3,0'\n",
      "++Sent raw: b'\\x81\\xf2\\xf8\\xa5~@\\xcb\\x95Rp\\xd4\\x95Rp\\xd4\\x97Ku\\xd4\\x95Rp\\xd4\\x95Rr\\xcd\\x90Rr\\xcd\\x90Rr\\xcd\\x90Rr\\xcd\\x90Rp\\xd4\\x97Ku\\xd4\\x97Ku\\xd4\\x97Ku\\xd4\\x95Rr\\xcd\\x90Rr\\xcd\\x90Rr\\xcd\\x90Rp\\xd4\\x97Ku\\xd4\\x95Rp\\xd4\\x94Np\\xd4\\x9dNp\\xd4\\x97Np\\xd4\\x96Nl\\xca\\x89Op\\xc8\\x89Mp\\xd4\\x96Nl\\xcb\\x95Rs\\xc8\\x89Mp\\xd4\\x90Rs\\xd4\\x95'\n",
      "++Sent decoded: fin=1 opcode=1 data=b'30,0,0,0,255,0,0,0,255,255,255,255,0,255,255,255,0,255,255,255,0,255,0,0,100,800,200,30,2,100,30,30,30,30,30,5,3,0'\n"
     ]
    }
   ],
   "source": [
    "nsecs=60\n",
    "nmessages=int(nsecs*(1000/leddelay))\n",
    "for m in range(2):\n",
    "    ws.send(message)"
   ]
  },
  {
   "cell_type": "code",
   "execution_count": 22,
   "metadata": {},
   "outputs": [
    {
     "name": "stderr",
     "output_type": "stream",
     "text": [
      "++Sent raw: b'\\x81\\x8e\\xaa\\x15\\xa0\\x99\\xd9a\\xcf\\xe9\\xf5y\\xc5\\xfd\\xf5v\\xd9\\xfa\\xc6p'\n",
      "++Sent decoded: fin=1 opcode=1 data=b'stop_led_cycle'\n"
     ]
    },
    {
     "data": {
      "text/plain": [
       "20"
      ]
     },
     "execution_count": 22,
     "metadata": {},
     "output_type": "execute_result"
    }
   ],
   "source": [
    "ws.send('stop_led_cycle')"
   ]
  },
  {
   "cell_type": "code",
   "execution_count": 263,
   "metadata": {},
   "outputs": [
    {
     "data": {
      "text/plain": [
       "25"
      ]
     },
     "execution_count": 263,
     "metadata": {},
     "output_type": "execute_result"
    }
   ],
   "source": [
    "len(\"%d,%d,%d,%d,%d,%d,%d,%d,%d,%d,%d,%d,%d,%d,%d,%d,%d,%d,%d,%d,%d,%d,%d,%d,%d\".split(','))"
   ]
  },
  {
   "cell_type": "code",
   "execution_count": null,
   "metadata": {},
   "outputs": [],
   "source": []
  }
 ],
 "metadata": {
  "kernelspec": {
   "display_name": "Python 3",
   "language": "python",
   "name": "python3"
  },
  "language_info": {
   "codemirror_mode": {
    "name": "ipython",
    "version": 3
   },
   "file_extension": ".py",
   "mimetype": "text/x-python",
   "name": "python",
   "nbconvert_exporter": "python",
   "pygments_lexer": "ipython3",
   "version": "3.10.12"
  }
 },
 "nbformat": 4,
 "nbformat_minor": 2
}
