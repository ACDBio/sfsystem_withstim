{
 "cells": [
  {
   "cell_type": "code",
   "execution_count": 12,
   "metadata": {},
   "outputs": [],
   "source": [
    "import websocket\n",
    "import json\n",
    "import gym\n",
    "from gym import spaces\n",
    "import numpy as np\n",
    "import numexpr as ne"
   ]
  },
  {
   "cell_type": "code",
   "execution_count": 13,
   "metadata": {},
   "outputs": [
    {
     "name": "stderr",
     "output_type": "stream",
     "text": [
      "--- request header ---\n",
      "GET / HTTP/1.1\n",
      "Upgrade: websocket\n",
      "Host: 10.42.0.231\n",
      "Origin: http://10.42.0.231\n",
      "Sec-WebSocket-Key: S7Opfo7QrO2vKJ8ueVMADA==\n",
      "Sec-WebSocket-Version: 13\n",
      "Connection: Upgrade\n",
      "\n",
      "\n",
      "-----------------------\n",
      "--- response header ---\n",
      "HTTP/1.1 101 Switching Protocols\n",
      "Server: arduino-WebSocketsServer\n",
      "Upgrade: websocket\n",
      "Connection: Upgrade\n",
      "Sec-WebSocket-Version: 13\n",
      "Sec-WebSocket-Accept: MMoTmSOWyrsj+xOwsMVnwIWn3oU=\n",
      "-----------------------\n"
     ]
    }
   ],
   "source": [
    "websocket.enableTrace(True)\n",
    "ws=websocket.WebSocket()\n",
    "ws.connect(\"ws://10.42.0.231:80/\")"
   ]
  },
  {
   "cell_type": "code",
   "execution_count": 56,
   "metadata": {},
   "outputs": [
    {
     "data": {
      "text/plain": [
       "range(0, 100)"
      ]
     },
     "execution_count": 56,
     "metadata": {},
     "output_type": "execute_result"
    }
   ],
   "source": [
    "range(0, 100)"
   ]
  },
  {
   "cell_type": "code",
   "execution_count": 60,
   "metadata": {},
   "outputs": [
    {
     "data": {
      "text/plain": [
       "(2, 3)"
      ]
     },
     "execution_count": 60,
     "metadata": {},
     "output_type": "execute_result"
    }
   ],
   "source": [
    "import numpy as np\n",
    "np.array([[1,2,3],[1,2,3]]).shape"
   ]
  },
  {
   "cell_type": "code",
   "execution_count": 23,
   "metadata": {},
   "outputs": [],
   "source": [
    "import websocket\n",
    "import json\n",
    "import gym\n",
    "from gym import spaces\n",
    "import numpy as np\n",
    "import re\n",
    "import numexpr as ne\n",
    "import time\n",
    "from collections import OrderedDict\n",
    "import plotly.graph_objects as go\n",
    "import plotly.subplots as sp\n",
    "import plotly\n",
    "import json\n",
    "import os\n",
    "plotly.io.json.config.default_engine = 'orjson'\n",
    "websocket.enableTrace(False)\n",
    "\n",
    "#steps are not implemented for now\n",
    "out_dict={'leddelay':{'names':['leddelay'], 'value_range':{'min':1, 'max':10001, 'step':100}, 'init_val':{'leddelay':10}},\n",
    "          'ledcontrols':{'names':['lv1r','lv1g','lv1b','lv2r','lv2g','lv2b','lv3r','lv3g','lv3b','lv4r','lv4g','lv4b', 'lv5r','lv5g','lv5b','lv6r','lv6g',\n",
    "          'lv6b',\n",
    "          'lv7r',\n",
    "          'lv7g',\n",
    "          'lv7b',\n",
    "          'lv8r',\n",
    "          'lv8g',\n",
    "          'lv8b'], 'value_range':{'min':10, 'max':255, 'step':10}, 'init_val':{'lv1r':255, 'lv1g':0, 'lv1b':0, \n",
    "                                                                               'lv2r':0, 'lv2b':255, 'lv2b':0, \n",
    "                                                                               'lv3r':0, 'lv3g':0, 'lv3b':255, \n",
    "                                                                               'lv4r':255, 'lv4g':255, 'lv4b':255, \n",
    "                                                                               'lv5r':0,   'lv5g':255, 'lv5b':255, \n",
    "                                                                               'lv6r':255, 'lv6g':0,   'lv6b':255, \n",
    "                                                                               'lv7r':255, 'lv7b':255, 'lv7b':0, \n",
    "                                                                               'lv8r':255, 'lv8g':0, 'lv8b':0}},\n",
    "          'sound_wave_frequencies':{'names':['wave_1_freq','wave_2_freq'], 'value_range':{'min':1, 'max':30000, 'step':100}, 'init_val':{'wave_1_freq':440, \n",
    "                                                                                                                                         'wave_2_freq':440}},\n",
    "          'panner_phasor_frequencies':{'names':['panner_freq', 'phasor_1_freq', 'phasor_2_freq','phasor_1_min',  'phasor_2_min', 'phasor_1_dif', 'phasor_2_dif'],  'value_range':{'min':1, 'max':50, 'step':1},\n",
    "                                       'init_val':{'panner_freq':1,\n",
    "                                                    'phasor_1_freq':10,\n",
    "                                                    'phasor_2_freq':10,\n",
    "                                                    'phasor_1_min':1,\n",
    "                                                    'phasor_2_min':1,\n",
    "                                                    'phasor_1_dif':30,\n",
    "                                                    'phasor_2_dif':30}},\n",
    "          'panner_div':{'names':['panner_div'], 'value_range':{'min':1, 'max':5, 'step':1}, 'init_val':{'panner_div':2}},\n",
    "          'sound_wave_shapes':{'names':['wave_1_type', 'wave_2_type'], 'value_range':{'min':0, 'max':3, 'step':1}, \n",
    "                               'init_val':{'wave_1_type':0,\n",
    "                                           'wave_2_type':0}},\n",
    "          'maxibolume':{'names':['maxivolume'], 'value_range':{'min':0, 'max':50, 'step':10}, \n",
    "                        'init_val':{'maxivolume':10}}\n",
    "}\n",
    "out_order=['lv1r','lv1g','lv1b','lv2r','lv2g','lv2b','lv3r','lv3g','lv3b','lv4r','lv4g','lv4b','lv5r','lv5g','lv5b','lv6r','lv6g','lv6b',\n",
    "          'lv7r','lv7g','lv7b','lv8r','lv8g','lv8b','leddelay','wave_1_freq','wave_2_freq','panner_freq','panner_div','phasor_1_freq',\n",
    "          'phasor_1_min','phasor_1_dif','phasor_2_freq','phasor_2_min','phasor_2_dif','maxivolume','wave_1_type','wave_2_type']\n",
    "\n",
    "\n",
    "class SFSystemCommunicator(gym.Env):\n",
    "    def __init__(self, out_dict=out_dict, out_order=out_order,n_input_channels=8, channels_of_interest_inds=list(range(8)), n_timepoints_per_sample=100, max_sfsystem_output=1023,reward_formula_string='(fbin_1_4_ch0+freq_30_ch0)/fbin_12_30_ch0', \n",
    "                 fbins=[(0,1), (1,4), (4,8), (8,12), (12,30)], delay=10,\n",
    "                 use_raw_in_os_def=False, use_freq_in_os_def=False, use_fbins_in_os_def=False, device_address=\"ws://10.42.0.231:80/\",\n",
    "                 step_stim_length_millis=10000, episode_time_seconds=60, collect_data_toplot=True, render_data=True, return_plotly_figs=False,\n",
    "                 logfn='current_training.log', log_steps=True, log_episodes=True, log_best_actions_final=True, signal_plot_width=2000, signal_plot_height=1500, training_plot_width=2000, training_plot_height=500, \n",
    "                 write_raw=True,\n",
    "                 write_fft=True,\n",
    "                 write_bins=True,\n",
    "                 log_best_actions_every_episode=True,\n",
    "                 log_actions_every_step=True):\n",
    "        self.device_address=device_address\n",
    "        self.step_stim_length=step_stim_length_millis/1000\n",
    "        self.episode_time_seconds=episode_time_seconds\n",
    "        self.n_steps_per_episode=int(self.episode_time_seconds/self.step_stim_length)\n",
    "        self.cur_step=0\n",
    "        self.render_data=render_data\n",
    "        self.return_plotly_figs=return_plotly_figs\n",
    "        \n",
    "        self.out_dict=out_dict\n",
    "        self.out_order=out_order\n",
    "        self.max_sfsystem_output=max_sfsystem_output\n",
    "        self.n_timepoints_per_sample=n_timepoints_per_sample\n",
    "        self.n_input_channels=n_input_channels\n",
    "        self.reward_formula_string=reward_formula_string\n",
    "\n",
    "        self.delay=delay\n",
    "\n",
    "        self.record_raw=use_raw_in_os_def\n",
    "\n",
    "        self.do_fft=use_freq_in_os_def\n",
    "        self.record_fft=use_freq_in_os_def\n",
    "\n",
    "        self.do_fbins=use_fbins_in_os_def\n",
    "        self.record_fbins=use_fbins_in_os_def\n",
    "\n",
    "        self.fbins=fbins\n",
    "        self.n_fbins=len(self.fbins)\n",
    "\n",
    "        self.channels_of_interest_inds=channels_of_interest_inds\n",
    "        self.channels_of_interest_inds.sort()\n",
    "        self.n_channels_of_interest=len(self.channels_of_interest_inds)\n",
    "\n",
    "        self.set_fft_params()\n",
    "\n",
    "        self.timesleep_period=0.1\n",
    "\n",
    "        if 'raw' in self.reward_formula_string:\n",
    "            self.record_raw=True\n",
    "        if 'freq' in self.reward_formula_string:\n",
    "            self.record_fft=True\n",
    "        if 'fbin' in self.reward_formula_string:\n",
    "            self.record_fbins=True\n",
    "\n",
    "        if self.record_fbins:\n",
    "            self.do_fft=True\n",
    "            self.do_fbins=True\n",
    "        \n",
    "        self.init_action_space()\n",
    "        self.init_observation_space()\n",
    "        self.set_value_dict_for_reward_function()\n",
    "        self.connect()\n",
    "        print(self.connection_status)\n",
    "        self.set_delay_and_data_transfer_buffer_size()\n",
    "        print('Delay and data transfer buffer size are set up.')\n",
    "        self.set_default_actions()\n",
    "        print('Default actions are set.')\n",
    "\n",
    "\n",
    "        #logging part\n",
    "        self.logfn=logfn\n",
    "        self.collect_data_toplot=collect_data_toplot\n",
    "\n",
    "        self.write_raw=write_raw\n",
    "        self.write_fft=write_fft\n",
    "        self.write_bins=write_bins\n",
    "\n",
    "\n",
    "        self.log_steps=log_steps\n",
    "        self.log_episodes=log_episodes\n",
    "        \n",
    " \n",
    "        self.clear_reward_buffers()   \n",
    "        self.clear_reward_stats()\n",
    "        self.current_episode=0\n",
    "        self.set_fbin_x_axis_labels()\n",
    "        \n",
    "        self.create_log()\n",
    "        self.signal_plot_width=signal_plot_width\n",
    "        self.signal_plot_height=signal_plot_height\n",
    "        self.training_plot_width=training_plot_width\n",
    "        self.training_plot_height=training_plot_height\n",
    "        #action logging\n",
    "        self.best_action_overall=None\n",
    "        self.best_action_episode=None\n",
    "        self.log_actions_every_step=log_actions_every_step\n",
    "        self.log_best_actions_every_episode=log_best_actions_every_episode\n",
    "        self.log_best_actions_final=log_best_actions_final\n",
    "\n",
    "        self.done=False\n",
    "    def create_log(self):\n",
    "        if not os.path.isfile(self.logfn):\n",
    "            open(self.logfn, 'a').close()\n",
    "    def write_tolog(self, string):\n",
    "        with open(self.logfn, 'a') as log_file:\n",
    "            log_file.write(string + '\\n')\n",
    "    def help(self):\n",
    "        print('Reward formula can use the following operators: //, *, **, -, +')\n",
    "        print('It can refer to channels using \"ch\" prefix followed by an index (starting with 0) e.g. ch0')\n",
    "        print('It can refer to values of frequency bins in specific channels e.g. fbin_10_50_ch0')\n",
    "        print('The corresponding freqency bins must be present among fbins passed at the initialization step')\n",
    "        print('fbins should be passed in the form of [(b1 min, b1max),...(bn min, bn max)]')\n",
    "        print('It can refer to specific frequencies from fft e.g. freq_50_ch0')\n",
    "        print('Use integers for frequencies, fractions are not supported for now')\n",
    "        print('Some examples:')\n",
    "        print('1. (freq_50_ch0+fbin_0_10_ch0)/(fbin_20_30_ch0)')\n",
    "        print('2. freq_5_ch0/freq_10_ch0')\n",
    "        print('3. fbin_05_5_ch0')\n",
    "    def clear_log(self):\n",
    "        if os.path.isfile(self.logfn):\n",
    "            os.remove(self.logfn)\n",
    "    def set_value_dict_for_reward_function(self):\n",
    "        ftokens=re.split(r'[+/)(*]+',self.reward_formula_string)\n",
    "        self.rewarddict={}\n",
    "        self.tokendict={}\n",
    "        for token in ftokens:\n",
    "            if 'ch' in token:\n",
    "                self.rewarddict[token]=None\n",
    "                self.tokendict[token]={}\n",
    "                subtokens=token.split('_')\n",
    "                self.tokendict[token]['datatype']=subtokens[0]\n",
    "                for subtoken in subtokens:\n",
    "                    if 'ch' in subtoken:\n",
    "                        self.tokendict[token]['channelindex']=int(subtoken.split('h')[1])\n",
    "                    if subtoken=='freq':\n",
    "                        tfreq=float(subtokens[1])\n",
    "                        self.tokendict[token]['freqdata']=tfreq\n",
    "                        closestind=np.argmin(np.abs(self.f_plot - tfreq))\n",
    "                        self.tokendict[token]['closest_fft_ind']=closestind\n",
    "                        print(f'Token {token}:')\n",
    "                        print(f'Closest fft frequency {self.f_plot[closestind]}')\n",
    "                    if subtoken=='fbin':\n",
    "                        bin_lst=[subtokens[1],subtokens[2]]\n",
    "                        for i in range(2):\n",
    "                            val=bin_lst[i]\n",
    "                            if val.startswith('0'):\n",
    "                                val=float('0.'+val[1:])\n",
    "                            else:\n",
    "                                val=float(val)\n",
    "                            bin_lst[i]=val\n",
    "                        self.tokendict[token]['freqdata']=tuple(bin_lst)\n",
    "                        self.tokendict[token]['fbin_idx']=self.fbins.index(self.tokendict[token]['freqdata'])\n",
    "    def set_default_actions(self):\n",
    "        observation_space_sample=self.observation_space.sample()\n",
    "        for key1 in observation_space_sample:\n",
    "            for key2 in self.out_dict:\n",
    "                if key1 in self.out_dict[key2]['init_val']:\n",
    "                    observation_space_sample[key2]=self.out_dict[key1]['init_val'][key2]\n",
    "\n",
    "        self.default_actions=observation_space_sample\n",
    "    def populate_rewarddict(self, observations):\n",
    "        for token, tokendata in self.tokendict.items():\n",
    "            tartype=tokendata['datatype']\n",
    "            tarchannelidx=tokendata['channelindex']\n",
    "            if tartype=='raw':\n",
    "                tarobs=observations['raw_data']\n",
    "                tarobs=tarobs[:,tarchannelidx]\n",
    "                res=np.mean(tarobs) #here we use the mean, but this may be changed\n",
    "            if tartype=='freq':\n",
    "                #tarfreq=tokendata['freqdata']\n",
    "                taridx=tokendata['closest_fft_ind']\n",
    "                tarobs=observations['fft'][tarchannelidx]\n",
    "                res=tarobs[taridx]\n",
    "            if tartype=='fbin':\n",
    "                tarobs=observations['fbins'][tarchannelidx]\n",
    "                res=tarobs[tokendata['fbin_idx']]\n",
    "            self.rewarddict[token]=res\n",
    "    def get_reward(self, observations=None, toreturn=False):\n",
    "        if str(observations) != \"None\":\n",
    "            observations=self.observation_space.sample() #if no observations are given extrernally, sample from the observation space\n",
    "        self.populate_rewarddict(observations)\n",
    "        self.reward=ne.evaluate(self.reward_formula_string, local_dict=self.rewarddict)\n",
    "        if toreturn==True:\n",
    "            return self.reward\n",
    "    def init_action_space(self):\n",
    "        self.action_space=spaces.Dict({})\n",
    "        for key, val in self.out_dict.items():\n",
    "            spacesnames=val['names']\n",
    "            spacesrange=val['value_range']\n",
    "            for spacename in spacesnames:\n",
    "                self.action_space.spaces[spacename]=spaces.Box(low=spacesrange['min'], high=spacesrange['max'], shape=(1,), dtype=int)\n",
    "    def init_observation_space(self):\n",
    "        self.observation_space=spaces.Dict({})\n",
    "        self.observation_space['raw_data']=spaces.Box(low=0, high=self.max_sfsystem_output, shape=(self.n_timepoints_per_sample, self.n_channels_of_interest), dtype=int) #n timepoints per sample rows, n input channels columns, signals should be normalized\n",
    "        if self.record_fft:\n",
    "            self.observation_space['fft']=spaces.Box(low=0.0, high=1.0, shape=(self.n_channels_of_interest, self.n_fft_values))\n",
    "        if self.record_fbins:\n",
    "            self.observation_space['fbins']=spaces.Box(low=0.0, high=1.0, shape=(self.n_channels_of_interest, self.n_fbins))\n",
    "    def set_fft_params(self):\n",
    "        self.sampling_frequency=int(1000/self.delay)\n",
    "        self.max_possible_fft_frequency=self.sampling_frequency/2\n",
    "        self.sampling_period=int(self.delay*self.n_timepoints_per_sample)\n",
    "        self.timesteps=np.linspace(0, (self.n_timepoints_per_sample-1)*self.delay, self.n_timepoints_per_sample)\n",
    "        self.fstep=self.sampling_frequency/self.n_timepoints_per_sample\n",
    "        self.f=np.linspace(0, (self.n_timepoints_per_sample-1)*self.fstep, self.n_timepoints_per_sample)\n",
    "        self.f_plot=self.f[0:int(self.n_timepoints_per_sample/2 + 1)]\n",
    "        self.n_fft_values=len(self.f_plot)\n",
    "\n",
    "    def connect(self):\n",
    "        websocket.enableTrace(False)\n",
    "        self.ws=websocket.WebSocket()\n",
    "        self.ws.connect(self.device_address)\n",
    "        self.connection_status=self.ws.recv()\n",
    "    \n",
    "    def get_fft_fromsignal(self, raw_singlech):\n",
    "        X=np.fft.fft(raw_singlech)\n",
    "        X_mag=np.abs(X)/self.n_timepoints_per_sample\n",
    "        X_mag_plot=2*X_mag[0:int(self.n_timepoints_per_sample/2 + 1)]\n",
    "        return X_mag_plot\n",
    "\n",
    "    def get_fft_allchannels(self, raw_data):\n",
    "        if str(raw_data) != \"None\":\n",
    "            raw_data=self.observation_space.sample()['raw_data']\n",
    "\n",
    "        fft_data=[]\n",
    "        for chindex in range(raw_data.shape[1]):\n",
    "            chraw=raw_data[:,chindex]\n",
    "            chfft=self.get_fft_fromsignal(chraw)\n",
    "            fft_data.append(chfft)\n",
    "        fft_data=np.array(fft_data)\n",
    "        return fft_data\n",
    "    \n",
    "    def get_bin_values_from_signal(self, fft_signlech):\n",
    "        fpl=np.array(self.f_plot)\n",
    "        xmp=np.array(fft_signlech)\n",
    "        magnitudes=[]\n",
    "        for low, high in self.fbins:\n",
    "            mask = (fpl >= low) & (fpl < high)\n",
    "            magnitude = np.abs(xmp[mask]).mean() #here can be other functions\n",
    "            magnitudes.append(magnitude)\n",
    "        magnitudes=np.array(magnitudes)\n",
    "        if True in np.isnan(magnitudes):\n",
    "            print('Warning: nan values among bin values detected!')\n",
    "        return magnitudes\n",
    "    def set_fbin_x_axis_labels(self):\n",
    "        self.fbin_axis_labels=[]\n",
    "        for low, high in self.fbins:\n",
    "            binname=f'{low}-{high} Hz'\n",
    "            self.fbin_axis_labels.append(binname)\n",
    "    def get_bin_values_allchannels(self, fft=None):\n",
    "        if str(fft) != \"None\":\n",
    "            fft=self.observation_space.sample()['fft']\n",
    "        fbins_data=[]\n",
    "        for chindex in range(fft.shape[0]):\n",
    "            chfft=fft[chindex]\n",
    "            chbins=self.get_bin_values_from_signal(chfft)\n",
    "            fbins_data.append(chbins)\n",
    "        fbins_data=np.array(fbins_data)\n",
    "        return fbins_data\n",
    "\n",
    "    def set_delay_and_data_transfer_buffer_size(self):\n",
    "        self.ws.send(\"set_delay_and_data_transfer_buffer_size\")\n",
    "        time.sleep(self.timesleep_period)\n",
    "        setup=False\n",
    "        while setup==False:\n",
    "            try:\n",
    "                device_msg=self.ws.recv()\n",
    "                if device_msg == \"Awaiting delay and data transfer buffer size in shape with space separator\":\n",
    "                    self.ws.send(f'{self.delay},{self.n_timepoints_per_sample}')\n",
    "                time.sleep(self.timesleep_period)\n",
    "                device_msg=self.ws.recv()\n",
    "                if device_msg == \"Delay and data transfer buffer size set up\":\n",
    "                    setup = True \n",
    "                    break;\n",
    "            except:\n",
    "                pass\n",
    "    def start_data_transfer_from_device(self):\n",
    "        self.ws.send(\"start_data_transfer_from_ads\")\n",
    "    def stop_data_transfer_from_device(self):\n",
    "        self.ws.send(\"stop_data_transfer_from_ads\")\n",
    "    def stop_audiovis_feedback(self):\n",
    "        self.ws.send(\"stop_led_cycle\")\n",
    "    def update_audiovis_feedback(self, update_dict=None):\n",
    "        if str(update_dict)!= 'None':\n",
    "            update_dict=self.action_space.sample()\n",
    "        self.ws.send(\"receive_output_control_data\")\n",
    "        outmsg_vals=[]\n",
    "        for controlnm in self.out_order:\n",
    "            outmsg_vals.append(update_dict[controlnm][0])\n",
    "        self.current_control_msg=','.join(list(map(str,outmsg_vals)))\n",
    "        self.ws.send(self.current_control_msg)\n",
    "    def sample_observations(self):\n",
    "        self.ws.send(\"start_data_transfer_from_ads\")\n",
    "        self.current_sample=json.loads(self.ws.recv())\n",
    "        self.raw_data=[]\n",
    "        for key, value in self.current_sample.items():\n",
    "            self.raw_data.append(value)\n",
    "        self.raw_data=np.array(self.raw_data).transpose()\n",
    "        self.raw_data=self.raw_data[:,self.channels_of_interest_inds]\n",
    "        self.ws.send(\"stop_data_transfer_from_ads\")\n",
    "    def sample_and_process_observations_from_device(self):\n",
    "        new_observations=dict()\n",
    "        self.sample_observations()\n",
    "        new_observations['raw_data']=self.raw_data\n",
    "        if self.do_fft:\n",
    "         self.fft=self.get_fft_allchannels(raw_data=self.raw_data)\n",
    "         if self.record_fft:\n",
    "            new_observations['fft']=self.fft\n",
    "        if self.do_fbins:\n",
    "            self.fbins_data=self.get_bin_values_allchannels(fft=self.fft)\n",
    "            if self.record_fbins:\n",
    "                new_observations['fbins']=self.fbins_data \n",
    "        new_observations=OrderedDict(new_observations)\n",
    "        return new_observations\n",
    "    def write_signal_logs(self):\n",
    "        if self.record_fft==True:\n",
    "            if self.write_fft==True:\n",
    "                self.write_tolog(json.dumps({'fft':self.cur_observations['fft'].tolist()}))\n",
    "        if self.record_fbins==True:\n",
    "            if self.write_bins==True:\n",
    "                self.write_tolog(json.dumps({'fbins':self.cur_observations['fbins'].tolist()}))\n",
    "        if self.record_raw==True:\n",
    "            if self.write_raw==True:\n",
    "                self.write_tolog(json.dumps({'raw_data':self.cur_observations['raw_data'].tolist()}))\n",
    "    def step(self, action):\n",
    "        self.best_overall_reward_now=False\n",
    "        self.update_audiovis_feedback(action)\n",
    "        time.sleep(self.step_stim_length)\n",
    "        self.current_actions=action\n",
    "        new_observations=self.sample_and_process_observations_from_device()\n",
    "        self.cur_observations=new_observations\n",
    "        reward=self.get_reward(observations=new_observations, toreturn=True)\n",
    "        reward_val=reward.tolist()\n",
    "        self.total_cur_episode_reward+=reward_val\n",
    "        if reward_val>self.episode_max_reward:\n",
    "                self.episode_max_reward=reward_val\n",
    "                self.best_episode_reward_now=True\n",
    "                self.best_action_episode=action\n",
    "        if reward_val>self.overall_max_reward:\n",
    "                self.overall_max_reward=reward_val\n",
    "                self.best_overall_reward_now=True\n",
    "                self.best_action_overall=action\n",
    "        if self.total_cur_episode_reward>self.total_episode_max_reward:\n",
    "            self.total_episode_max_reward=self.total_cur_episode_reward\n",
    "            self.best_total_episode_reward_now=True\n",
    "\n",
    "        if self.collect_data_toplot:\n",
    "            self.cur_episode_rewards.append(reward_val)\n",
    "        if self.log_steps:\n",
    "            self.write_tolog(json.dumps({'Episode':self.current_episode, 'Step': self.cur_step, 'Step reward': reward_val}))\n",
    "        if self.log_actions_every_step:\n",
    "            self.write_tolog(json.dumps({'Action reward':reward_val}))\n",
    "            actionstring=self.get_json_string_from_ordered_dict(action)\n",
    "            self.write_tolog(actionstring)\n",
    "        self.write_signal_logs()        \n",
    "              \n",
    "\n",
    "\n",
    "        if self.cur_step<self.n_steps_per_episode:\n",
    "            self.done=False\n",
    "            self.cur_step+=1\n",
    "        else:\n",
    "            self.done=True\n",
    "        return new_observations, reward, self.done, {} #False\n",
    "    def reset(self):\n",
    "        if self.cur_step>0:\n",
    "            if self.done:\n",
    "                if self.collect_data_toplot:\n",
    "                    self.previous_episodes_total_rewards.append(self.total_cur_episode_reward)\n",
    "                    self.previous_episodes_max_rewards.append(self.episode_max_reward)\n",
    "                if self.log_episodes:\n",
    "                    self.write_tolog(json.dumps({'Episode':self.current_episode, 'Episode total reward': self.total_cur_episode_reward, 'Episode max reward': self.episode_max_reward}))\n",
    "                if self.log_best_actions_every_episode:\n",
    "                    actionstring=self.get_json_string_from_ordered_dict(self.best_action_episode)\n",
    "                    self.write_tolog(json.dumps({'Best action in the episode reward':self.episode_max_reward}))\n",
    "                    self.write_tolog(actionstring)\n",
    "        self.stop_audiovis_feedback()\n",
    "        self.cur_step=0\n",
    "        self.episode_max_reward=0\n",
    "        self.total_cur_episode_reward=0\n",
    "\n",
    "        self.done=False\n",
    "        self.best_episode_reward_now=False #just in case\n",
    "        self.best_overall_reward_now=False #just in case\n",
    "        self.best_total_episode_reward_now=False #just in case\n",
    "\n",
    "        self.best_action_epoch=None\n",
    "\n",
    "        new_observations=self.sample_and_process_observations_from_device()\n",
    "        self.cur_observations=new_observations\n",
    "        self.update_audiovis_feedback(update_dict=self.default_actions) #update back to default actions\n",
    "        if self.collect_data_toplot==True:\n",
    "            self.previous_episodes_max_rewards.append(self.episode_max_reward)\n",
    "            self.cur_episode_rewards=[]\n",
    "        time.sleep(self.step_stim_length) #prepare the brain for the next episode \n",
    "        return new_observations, {}\n",
    "\n",
    "    def get_json_string_from_ordered_dict(self, od):\n",
    "        od=dict(od)\n",
    "        for key, value in od.items():\n",
    "            od[key]=value.tolist()\n",
    "        return json.dumps(od)\n",
    "\n",
    "    def render(self, elems=['reward_lineplots', 'current_fft', 'current_fbins'], return_figs=False):\n",
    "        if return_figs==None:\n",
    "            return_figs=self.return_plotly_figs\n",
    "        figures=dict()\n",
    "        if 'reward_lineplots' in elems:\n",
    "            training_fig=sp.make_subplots(rows=2, cols=2)\n",
    "            training_fig.update_layout(width=self.training_plot_width, height = self.training_plot_height)\n",
    "            training_fig.add_trace(sp.go.Scatter(x=list(range(len(self.cur_episode_rewards))), y=self.cur_episode_rewards, mode='lines+markers', name='Current episode rewards'), row=1, col=1)\n",
    "            training_fig.add_trace(sp.go.Scatter(x=list(range(len(self.previous_episodes_max_rewards))), y=self.previous_episodes_max_rewards, mode='lines+markers', name='Previous episode max rewards'), row=1, col=2)\n",
    "            training_fig.add_trace(sp.go.Scatter(x=list(range(len(self.previous_episodes_total_rewards))), y=self.previous_episodes_total_rewards, mode='lines+markers', name='Previous episode total rewards'), row=2, col=1)           \n",
    "            figures['reward_lineplots']=training_fig\n",
    "            if self.render_data:\n",
    "                training_fig.show()\n",
    "        if ('current_fft' in elems) or ('current_fbins' in elems):\n",
    "            if self.record_fft or self.record_fbins:\n",
    "                signal_fig=sp.make_subplots(rows=self.n_channels_of_interest, cols=2)\n",
    "                signal_fig.update_layout(width=self.signal_plot_width, height = self.signal_plot_height)\n",
    "                if 'current_fft' in elems and self.record_fft:\n",
    "                    for chidx in range(self.n_channels_of_interest):\n",
    "                        orig_chidx=self.channels_of_interest_inds[chidx]\n",
    "                        chfft=self.cur_observations['fft'][chidx]\n",
    "                        signal_fig.add_trace(sp.go.Scatter(x=self.f_plot, y=chfft, mode='lines+markers', name=f'Channel {orig_chidx} spectrum'), row=chidx+1, col=1)\n",
    "                if 'current_fbins' in elems and self.record_fbins:\n",
    "                    for chidx in range(self.n_channels_of_interest):\n",
    "                        orig_chidx=self.channels_of_interest_inds[chidx]\n",
    "                        chbins=self.cur_observations['fbins'][chidx]\n",
    "                        signal_fig.add_trace(sp.go.Bar(x=self.fbin_axis_labels, y=chbins, name=f'Channel {orig_chidx} frequency bins'), row=chidx+1, col=2)\n",
    "                if self.render_data:\n",
    "                    signal_fig.show()\n",
    "        if return_figs:\n",
    "            return figures\n",
    "    def clear_reward_buffers(self):\n",
    "        self.cur_episode_rewards=[]\n",
    "        self.previous_episodes_max_rewards=[]\n",
    "        self.previous_episodes_total_rewards=[]\n",
    "    def clear_reward_stats(self):\n",
    "        self.episode_max_reward=0\n",
    "        self.overall_max_reward=0\n",
    "        self.total_cur_episode_reward=0\n",
    "        self.total_episode_max_reward=0\n",
    "        self.best_episode_reward_now=False\n",
    "        self.best_overall_reward_now=False\n",
    "        self.best_total_episode_reward_now=False\n",
    "    def close(self, clear_log=False):\n",
    "        if self.log_best_actions_final:\n",
    "            actionstring=self.get_json_string_from_ordered_dict(self.best_action_overall)\n",
    "            self.write_tolog(json.dumps({'Best action across episodes reward':self.overall_max_reward}))\n",
    "            self.write_tolog(actionstring)\n",
    "        self.stop_audiovis_feedback() #just in case\n",
    "        self.stop_data_transfer_from_device() #just in case\n",
    "        self.cur_step=0 #just in case\n",
    "        self.current_episode=0\n",
    "\n",
    "        self.clear_reward_buffers()\n",
    "        self.clear_reward_stats()\n",
    "        if clear_log:\n",
    "            self.clear_log()\n",
    "        self.ws.close()\n",
    "        \n",
    "        \n",
    "class FlattenActionSpaceWrapper(gym.Wrapper):\n",
    "    def __init__(self, env):\n",
    "        super().__init__(env)\n",
    "        # Flatten the action space\n",
    "        self.action_space = self._flatten_action_space(env.action_space)\n",
    "\n",
    "    def _flatten_action_space(self, original_space):\n",
    "        # Calculate the total size of the flattened action space\n",
    "        total_size = sum(space.shape[0] for space in original_space.spaces.values())\n",
    "        # Create a new Box space with the total size\n",
    "        return spaces.Box(low=np.concatenate([space.low for space in original_space.spaces.values()]),\n",
    "                            high=np.concatenate([space.high for space in original_space.spaces.values()]),\n",
    "                            shape=(total_size,),\n",
    "                            dtype=np.int64)\n",
    "\n",
    "    def step(self, action):\n",
    "        # Convert the flattened action back to the original action space format\n",
    "        original_action = self._unflatten_action(action)\n",
    "        return super().step(original_action)\n",
    "\n",
    "    def _unflatten_action(self, action):\n",
    "        # Split the flattened action into the original spaces\n",
    "        original_action = {}\n",
    "        start = 0\n",
    "        for key, space in self.env.action_space.spaces.items():\n",
    "            end = start + space.shape[0]\n",
    "            original_action[key] = action[start:end]\n",
    "            start = end\n",
    "        return original_action"
   ]
  },
  {
   "cell_type": "code",
   "execution_count": 38,
   "metadata": {},
   "outputs": [],
   "source": [
    "from stable_baselines3 import A2C\n",
    "from stable_baselines3.common.env_checker import check_env\n",
    "from gym.wrappers import FlattenObservation\n",
    "from stable_baselines3 import PPO, SAC, DDPG, TD3, A2C, DQN\n",
    "\n",
    "class stable_baselines_model_trainer():\n",
    "    def __init__(self, initialized_environment, algorithm='PPO', policy='MlpPolicy'):\n",
    "        self.env=initialized_environment\n",
    "        self.env = FlattenObservation(self.env)\n",
    "        self.env = FlattenActionSpaceWrapper(self.env)\n",
    "        self.algorithm=algorithm\n",
    "        self.policy=policy\n",
    "        self.set_model()\n",
    "        self.max_test_reward=0\n",
    "    def set_model(self):\n",
    "        if self.algorithm=='PPO':\n",
    "            self.model = PPO(self.policy, self.env)\n",
    "        if self.algorithm=='SAC':\n",
    "            self.model = SAC(self.policy, self.env)\n",
    "        if self.algorithm=='DDPG':\n",
    "            self.model = DDPG(self.policy, self.env)\n",
    "        if self.algorithm=='TD3':\n",
    "            self.model = TD3(self.policy, self.env)\n",
    "        if self.algorithm=='A2C':\n",
    "            self.model = A2C(self.policy, self.env)\n",
    "        if self.algorithm=='DQN':\n",
    "            self.model = DQN(self.policy, self.env)\n",
    "    \n",
    "    def close_env(self):\n",
    "        self.env.close()\n",
    "        \n",
    "    def train(self, num_episodes=5, log_model=True, get_plots=False, render_plots=True, log_or_plot_every_n_timesteps=1):\n",
    "        for i in range(num_episodes):\n",
    "            self.cur_n_timesteps=0\n",
    "            while self.cur_n_timesteps<self.env.n_steps_per_episode:\n",
    "                print('there')\n",
    "                self.model.learn(total_timesteps=log_or_plot_every_n_timesteps)\n",
    "                print('here')\n",
    "                print(self.cur_n_timesteps)\n",
    "                self.cur_n_timesteps+=log_or_plot_every_n_timesteps\n",
    "                if render_plots:\n",
    "                    if get_plots:\n",
    "                        figs=self.env.render(return_figs=True)\n",
    "                    else:\n",
    "                        self.env.render()\n",
    "                if log_model:\n",
    "                    if self.env.best_overall_reward_now:\n",
    "                        self.model.save(\"best_overall_reward_model\")\n",
    "                    if self.env.best_total_episode_reward_now:\n",
    "                        self.model.save(\"best_total_episode_reward_model\")\n",
    "                    \n",
    "            obs=self.env.reset()[0]\n",
    "            done=False\n",
    "            while not done:\n",
    "                action, _states = self.model.predict(obs, deterministic=True)\n",
    "                obs, reward, done, info = self.env.step(action)\n",
    "                if reward>self.max_test_reward:\n",
    "                    self.max_test_reward=reward\n",
    "                    if log_model:\n",
    "                        self.model.save(\"best_test_reward_model\")\n",
    "\n",
    "\n",
    "        \n",
    "        \n",
    "        \n",
    "\n",
    "\n",
    "\n",
    "\n",
    "        \n"
   ]
  },
  {
   "cell_type": "code",
   "execution_count": 39,
   "metadata": {},
   "outputs": [
    {
     "name": "stdout",
     "output_type": "stream",
     "text": [
      "Token freq_30_ch0:\n",
      "Closest fft frequency 30.0\n",
      "Connected\n",
      "Delay and data transfer buffer size are set up.\n",
      "Default actions are set.\n"
     ]
    }
   ],
   "source": [
    "env = SFSystemCommunicator(step_stim_length_millis=1000, episode_time_seconds=30)"
   ]
  },
  {
   "cell_type": "code",
   "execution_count": 40,
   "metadata": {},
   "outputs": [
    {
     "name": "stderr",
     "output_type": "stream",
     "text": [
      "/home/biorp/.local/lib/python3.10/site-packages/stable_baselines3/common/vec_env/patch_gym.py:49: UserWarning:\n",
      "\n",
      "You provided an OpenAI Gym environment. We strongly recommend transitioning to Gymnasium environments. Stable-Baselines3 is automatically wrapping your environments in a compatibility layer, which could potentially cause issues.\n",
      "\n"
     ]
    }
   ],
   "source": [
    "trainer=stable_baselines_model_trainer(initialized_environment=env)"
   ]
  },
  {
   "cell_type": "code",
   "execution_count": 41,
   "metadata": {},
   "outputs": [
    {
     "name": "stdout",
     "output_type": "stream",
     "text": [
      "there\n"
     ]
    },
    {
     "ename": "KeyboardInterrupt",
     "evalue": "",
     "output_type": "error",
     "traceback": [
      "\u001b[0;31m---------------------------------------------------------------------------\u001b[0m",
      "\u001b[0;31mKeyboardInterrupt\u001b[0m                         Traceback (most recent call last)",
      "Cell \u001b[0;32mIn[41], line 1\u001b[0m\n\u001b[0;32m----> 1\u001b[0m \u001b[43mtrainer\u001b[49m\u001b[38;5;241;43m.\u001b[39;49m\u001b[43mtrain\u001b[49m\u001b[43m(\u001b[49m\u001b[43mnum_episodes\u001b[49m\u001b[38;5;241;43m=\u001b[39;49m\u001b[38;5;241;43m2\u001b[39;49m\u001b[43m)\u001b[49m\n",
      "Cell \u001b[0;32mIn[38], line 36\u001b[0m, in \u001b[0;36mstable_baselines_model_trainer.train\u001b[0;34m(self, num_episodes, log_model, get_plots, render_plots, log_or_plot_every_n_timesteps)\u001b[0m\n\u001b[1;32m     34\u001b[0m \u001b[38;5;28;01mwhile\u001b[39;00m \u001b[38;5;28mself\u001b[39m\u001b[38;5;241m.\u001b[39mcur_n_timesteps\u001b[38;5;241m<\u001b[39m\u001b[38;5;28mself\u001b[39m\u001b[38;5;241m.\u001b[39menv\u001b[38;5;241m.\u001b[39mn_steps_per_episode:\n\u001b[1;32m     35\u001b[0m     \u001b[38;5;28mprint\u001b[39m(\u001b[38;5;124m'\u001b[39m\u001b[38;5;124mthere\u001b[39m\u001b[38;5;124m'\u001b[39m)\n\u001b[0;32m---> 36\u001b[0m     \u001b[38;5;28;43mself\u001b[39;49m\u001b[38;5;241;43m.\u001b[39;49m\u001b[43mmodel\u001b[49m\u001b[38;5;241;43m.\u001b[39;49m\u001b[43mlearn\u001b[49m\u001b[43m(\u001b[49m\u001b[43mtotal_timesteps\u001b[49m\u001b[38;5;241;43m=\u001b[39;49m\u001b[43mlog_or_plot_every_n_timesteps\u001b[49m\u001b[43m)\u001b[49m\n\u001b[1;32m     37\u001b[0m     \u001b[38;5;28mprint\u001b[39m(\u001b[38;5;124m'\u001b[39m\u001b[38;5;124mhere\u001b[39m\u001b[38;5;124m'\u001b[39m)\n\u001b[1;32m     38\u001b[0m     \u001b[38;5;28mprint\u001b[39m(\u001b[38;5;28mself\u001b[39m\u001b[38;5;241m.\u001b[39mcur_n_timesteps)\n",
      "File \u001b[0;32m~/.local/lib/python3.10/site-packages/stable_baselines3/ppo/ppo.py:315\u001b[0m, in \u001b[0;36mPPO.learn\u001b[0;34m(self, total_timesteps, callback, log_interval, tb_log_name, reset_num_timesteps, progress_bar)\u001b[0m\n\u001b[1;32m    306\u001b[0m \u001b[38;5;28;01mdef\u001b[39;00m \u001b[38;5;21mlearn\u001b[39m(\n\u001b[1;32m    307\u001b[0m     \u001b[38;5;28mself\u001b[39m: SelfPPO,\n\u001b[1;32m    308\u001b[0m     total_timesteps: \u001b[38;5;28mint\u001b[39m,\n\u001b[0;32m   (...)\u001b[0m\n\u001b[1;32m    313\u001b[0m     progress_bar: \u001b[38;5;28mbool\u001b[39m \u001b[38;5;241m=\u001b[39m \u001b[38;5;28;01mFalse\u001b[39;00m,\n\u001b[1;32m    314\u001b[0m ) \u001b[38;5;241m-\u001b[39m\u001b[38;5;241m>\u001b[39m SelfPPO:\n\u001b[0;32m--> 315\u001b[0m     \u001b[38;5;28;01mreturn\u001b[39;00m \u001b[38;5;28;43msuper\u001b[39;49m\u001b[43m(\u001b[49m\u001b[43m)\u001b[49m\u001b[38;5;241;43m.\u001b[39;49m\u001b[43mlearn\u001b[49m\u001b[43m(\u001b[49m\n\u001b[1;32m    316\u001b[0m \u001b[43m        \u001b[49m\u001b[43mtotal_timesteps\u001b[49m\u001b[38;5;241;43m=\u001b[39;49m\u001b[43mtotal_timesteps\u001b[49m\u001b[43m,\u001b[49m\n\u001b[1;32m    317\u001b[0m \u001b[43m        \u001b[49m\u001b[43mcallback\u001b[49m\u001b[38;5;241;43m=\u001b[39;49m\u001b[43mcallback\u001b[49m\u001b[43m,\u001b[49m\n\u001b[1;32m    318\u001b[0m \u001b[43m        \u001b[49m\u001b[43mlog_interval\u001b[49m\u001b[38;5;241;43m=\u001b[39;49m\u001b[43mlog_interval\u001b[49m\u001b[43m,\u001b[49m\n\u001b[1;32m    319\u001b[0m \u001b[43m        \u001b[49m\u001b[43mtb_log_name\u001b[49m\u001b[38;5;241;43m=\u001b[39;49m\u001b[43mtb_log_name\u001b[49m\u001b[43m,\u001b[49m\n\u001b[1;32m    320\u001b[0m \u001b[43m        \u001b[49m\u001b[43mreset_num_timesteps\u001b[49m\u001b[38;5;241;43m=\u001b[39;49m\u001b[43mreset_num_timesteps\u001b[49m\u001b[43m,\u001b[49m\n\u001b[1;32m    321\u001b[0m \u001b[43m        \u001b[49m\u001b[43mprogress_bar\u001b[49m\u001b[38;5;241;43m=\u001b[39;49m\u001b[43mprogress_bar\u001b[49m\u001b[43m,\u001b[49m\n\u001b[1;32m    322\u001b[0m \u001b[43m    \u001b[49m\u001b[43m)\u001b[49m\n",
      "File \u001b[0;32m~/.local/lib/python3.10/site-packages/stable_baselines3/common/on_policy_algorithm.py:277\u001b[0m, in \u001b[0;36mOnPolicyAlgorithm.learn\u001b[0;34m(self, total_timesteps, callback, log_interval, tb_log_name, reset_num_timesteps, progress_bar)\u001b[0m\n\u001b[1;32m    274\u001b[0m \u001b[38;5;28;01massert\u001b[39;00m \u001b[38;5;28mself\u001b[39m\u001b[38;5;241m.\u001b[39menv \u001b[38;5;129;01mis\u001b[39;00m \u001b[38;5;129;01mnot\u001b[39;00m \u001b[38;5;28;01mNone\u001b[39;00m\n\u001b[1;32m    276\u001b[0m \u001b[38;5;28;01mwhile\u001b[39;00m \u001b[38;5;28mself\u001b[39m\u001b[38;5;241m.\u001b[39mnum_timesteps \u001b[38;5;241m<\u001b[39m total_timesteps:\n\u001b[0;32m--> 277\u001b[0m     continue_training \u001b[38;5;241m=\u001b[39m \u001b[38;5;28;43mself\u001b[39;49m\u001b[38;5;241;43m.\u001b[39;49m\u001b[43mcollect_rollouts\u001b[49m\u001b[43m(\u001b[49m\u001b[38;5;28;43mself\u001b[39;49m\u001b[38;5;241;43m.\u001b[39;49m\u001b[43menv\u001b[49m\u001b[43m,\u001b[49m\u001b[43m \u001b[49m\u001b[43mcallback\u001b[49m\u001b[43m,\u001b[49m\u001b[43m \u001b[49m\u001b[38;5;28;43mself\u001b[39;49m\u001b[38;5;241;43m.\u001b[39;49m\u001b[43mrollout_buffer\u001b[49m\u001b[43m,\u001b[49m\u001b[43m \u001b[49m\u001b[43mn_rollout_steps\u001b[49m\u001b[38;5;241;43m=\u001b[39;49m\u001b[38;5;28;43mself\u001b[39;49m\u001b[38;5;241;43m.\u001b[39;49m\u001b[43mn_steps\u001b[49m\u001b[43m)\u001b[49m\n\u001b[1;32m    279\u001b[0m     \u001b[38;5;28;01mif\u001b[39;00m \u001b[38;5;129;01mnot\u001b[39;00m continue_training:\n\u001b[1;32m    280\u001b[0m         \u001b[38;5;28;01mbreak\u001b[39;00m\n",
      "File \u001b[0;32m~/.local/lib/python3.10/site-packages/stable_baselines3/common/on_policy_algorithm.py:194\u001b[0m, in \u001b[0;36mOnPolicyAlgorithm.collect_rollouts\u001b[0;34m(self, env, callback, rollout_buffer, n_rollout_steps)\u001b[0m\n\u001b[1;32m    189\u001b[0m     \u001b[38;5;28;01melse\u001b[39;00m:\n\u001b[1;32m    190\u001b[0m         \u001b[38;5;66;03m# Otherwise, clip the actions to avoid out of bound error\u001b[39;00m\n\u001b[1;32m    191\u001b[0m         \u001b[38;5;66;03m# as we are sampling from an unbounded Gaussian distribution\u001b[39;00m\n\u001b[1;32m    192\u001b[0m         clipped_actions \u001b[38;5;241m=\u001b[39m np\u001b[38;5;241m.\u001b[39mclip(actions, \u001b[38;5;28mself\u001b[39m\u001b[38;5;241m.\u001b[39maction_space\u001b[38;5;241m.\u001b[39mlow, \u001b[38;5;28mself\u001b[39m\u001b[38;5;241m.\u001b[39maction_space\u001b[38;5;241m.\u001b[39mhigh)\n\u001b[0;32m--> 194\u001b[0m new_obs, rewards, dones, infos \u001b[38;5;241m=\u001b[39m \u001b[43menv\u001b[49m\u001b[38;5;241;43m.\u001b[39;49m\u001b[43mstep\u001b[49m\u001b[43m(\u001b[49m\u001b[43mclipped_actions\u001b[49m\u001b[43m)\u001b[49m\n\u001b[1;32m    196\u001b[0m \u001b[38;5;28mself\u001b[39m\u001b[38;5;241m.\u001b[39mnum_timesteps \u001b[38;5;241m+\u001b[39m\u001b[38;5;241m=\u001b[39m env\u001b[38;5;241m.\u001b[39mnum_envs\n\u001b[1;32m    198\u001b[0m \u001b[38;5;66;03m# Give access to local variables\u001b[39;00m\n",
      "File \u001b[0;32m~/.local/lib/python3.10/site-packages/stable_baselines3/common/vec_env/base_vec_env.py:206\u001b[0m, in \u001b[0;36mVecEnv.step\u001b[0;34m(self, actions)\u001b[0m\n\u001b[1;32m    199\u001b[0m \u001b[38;5;250m\u001b[39m\u001b[38;5;124;03m\"\"\"\u001b[39;00m\n\u001b[1;32m    200\u001b[0m \u001b[38;5;124;03mStep the environments with the given action\u001b[39;00m\n\u001b[1;32m    201\u001b[0m \n\u001b[1;32m    202\u001b[0m \u001b[38;5;124;03m:param actions: the action\u001b[39;00m\n\u001b[1;32m    203\u001b[0m \u001b[38;5;124;03m:return: observation, reward, done, information\u001b[39;00m\n\u001b[1;32m    204\u001b[0m \u001b[38;5;124;03m\"\"\"\u001b[39;00m\n\u001b[1;32m    205\u001b[0m \u001b[38;5;28mself\u001b[39m\u001b[38;5;241m.\u001b[39mstep_async(actions)\n\u001b[0;32m--> 206\u001b[0m \u001b[38;5;28;01mreturn\u001b[39;00m \u001b[38;5;28;43mself\u001b[39;49m\u001b[38;5;241;43m.\u001b[39;49m\u001b[43mstep_wait\u001b[49m\u001b[43m(\u001b[49m\u001b[43m)\u001b[49m\n",
      "File \u001b[0;32m~/.local/lib/python3.10/site-packages/stable_baselines3/common/vec_env/dummy_vec_env.py:58\u001b[0m, in \u001b[0;36mDummyVecEnv.step_wait\u001b[0;34m(self)\u001b[0m\n\u001b[1;32m     55\u001b[0m \u001b[38;5;28;01mdef\u001b[39;00m \u001b[38;5;21mstep_wait\u001b[39m(\u001b[38;5;28mself\u001b[39m) \u001b[38;5;241m-\u001b[39m\u001b[38;5;241m>\u001b[39m VecEnvStepReturn:\n\u001b[1;32m     56\u001b[0m     \u001b[38;5;66;03m# Avoid circular imports\u001b[39;00m\n\u001b[1;32m     57\u001b[0m     \u001b[38;5;28;01mfor\u001b[39;00m env_idx \u001b[38;5;129;01min\u001b[39;00m \u001b[38;5;28mrange\u001b[39m(\u001b[38;5;28mself\u001b[39m\u001b[38;5;241m.\u001b[39mnum_envs):\n\u001b[0;32m---> 58\u001b[0m         obs, \u001b[38;5;28mself\u001b[39m\u001b[38;5;241m.\u001b[39mbuf_rews[env_idx], terminated, truncated, \u001b[38;5;28mself\u001b[39m\u001b[38;5;241m.\u001b[39mbuf_infos[env_idx] \u001b[38;5;241m=\u001b[39m \u001b[38;5;28;43mself\u001b[39;49m\u001b[38;5;241;43m.\u001b[39;49m\u001b[43menvs\u001b[49m\u001b[43m[\u001b[49m\u001b[43menv_idx\u001b[49m\u001b[43m]\u001b[49m\u001b[38;5;241;43m.\u001b[39;49m\u001b[43mstep\u001b[49m\u001b[43m(\u001b[49m\n\u001b[1;32m     59\u001b[0m \u001b[43m            \u001b[49m\u001b[38;5;28;43mself\u001b[39;49m\u001b[38;5;241;43m.\u001b[39;49m\u001b[43mactions\u001b[49m\u001b[43m[\u001b[49m\u001b[43menv_idx\u001b[49m\u001b[43m]\u001b[49m\n\u001b[1;32m     60\u001b[0m \u001b[43m        \u001b[49m\u001b[43m)\u001b[49m\n\u001b[1;32m     61\u001b[0m         \u001b[38;5;66;03m# convert to SB3 VecEnv api\u001b[39;00m\n\u001b[1;32m     62\u001b[0m         \u001b[38;5;28mself\u001b[39m\u001b[38;5;241m.\u001b[39mbuf_dones[env_idx] \u001b[38;5;241m=\u001b[39m terminated \u001b[38;5;129;01mor\u001b[39;00m truncated\n",
      "File \u001b[0;32m~/.local/lib/python3.10/site-packages/stable_baselines3/common/monitor.py:94\u001b[0m, in \u001b[0;36mMonitor.step\u001b[0;34m(self, action)\u001b[0m\n\u001b[1;32m     92\u001b[0m \u001b[38;5;28;01mif\u001b[39;00m \u001b[38;5;28mself\u001b[39m\u001b[38;5;241m.\u001b[39mneeds_reset:\n\u001b[1;32m     93\u001b[0m     \u001b[38;5;28;01mraise\u001b[39;00m \u001b[38;5;167;01mRuntimeError\u001b[39;00m(\u001b[38;5;124m\"\u001b[39m\u001b[38;5;124mTried to step environment that needs reset\u001b[39m\u001b[38;5;124m\"\u001b[39m)\n\u001b[0;32m---> 94\u001b[0m observation, reward, terminated, truncated, info \u001b[38;5;241m=\u001b[39m \u001b[38;5;28;43mself\u001b[39;49m\u001b[38;5;241;43m.\u001b[39;49m\u001b[43menv\u001b[49m\u001b[38;5;241;43m.\u001b[39;49m\u001b[43mstep\u001b[49m\u001b[43m(\u001b[49m\u001b[43maction\u001b[49m\u001b[43m)\u001b[49m\n\u001b[1;32m     95\u001b[0m \u001b[38;5;28mself\u001b[39m\u001b[38;5;241m.\u001b[39mrewards\u001b[38;5;241m.\u001b[39mappend(\u001b[38;5;28mfloat\u001b[39m(reward))\n\u001b[1;32m     96\u001b[0m \u001b[38;5;28;01mif\u001b[39;00m terminated \u001b[38;5;129;01mor\u001b[39;00m truncated:\n",
      "File \u001b[0;32m~/.local/lib/python3.10/site-packages/shimmy/openai_gym_compatibility.py:251\u001b[0m, in \u001b[0;36mGymV21CompatibilityV0.step\u001b[0;34m(self, action)\u001b[0m\n\u001b[1;32m    242\u001b[0m \u001b[38;5;28;01mdef\u001b[39;00m \u001b[38;5;21mstep\u001b[39m(\u001b[38;5;28mself\u001b[39m, action: ActType) \u001b[38;5;241m-\u001b[39m\u001b[38;5;241m>\u001b[39m \u001b[38;5;28mtuple\u001b[39m[Any, \u001b[38;5;28mfloat\u001b[39m, \u001b[38;5;28mbool\u001b[39m, \u001b[38;5;28mbool\u001b[39m, \u001b[38;5;28mdict\u001b[39m]:\n\u001b[1;32m    243\u001b[0m \u001b[38;5;250m    \u001b[39m\u001b[38;5;124;03m\"\"\"Steps through the environment.\u001b[39;00m\n\u001b[1;32m    244\u001b[0m \n\u001b[1;32m    245\u001b[0m \u001b[38;5;124;03m    Args:\u001b[39;00m\n\u001b[0;32m   (...)\u001b[0m\n\u001b[1;32m    249\u001b[0m \u001b[38;5;124;03m        (observation, reward, terminated, truncated, info)\u001b[39;00m\n\u001b[1;32m    250\u001b[0m \u001b[38;5;124;03m    \"\"\"\u001b[39;00m\n\u001b[0;32m--> 251\u001b[0m     obs, reward, done, info \u001b[38;5;241m=\u001b[39m \u001b[38;5;28;43mself\u001b[39;49m\u001b[38;5;241;43m.\u001b[39;49m\u001b[43mgym_env\u001b[49m\u001b[38;5;241;43m.\u001b[39;49m\u001b[43mstep\u001b[49m\u001b[43m(\u001b[49m\u001b[43maction\u001b[49m\u001b[43m)\u001b[49m\n\u001b[1;32m    253\u001b[0m     \u001b[38;5;28;01mif\u001b[39;00m \u001b[38;5;28mself\u001b[39m\u001b[38;5;241m.\u001b[39mrender_mode \u001b[38;5;129;01mis\u001b[39;00m \u001b[38;5;129;01mnot\u001b[39;00m \u001b[38;5;28;01mNone\u001b[39;00m:\n\u001b[1;32m    254\u001b[0m         \u001b[38;5;28mself\u001b[39m\u001b[38;5;241m.\u001b[39mrender()\n",
      "Cell \u001b[0;32mIn[23], line 538\u001b[0m, in \u001b[0;36mFlattenActionSpaceWrapper.step\u001b[0;34m(self, action)\u001b[0m\n\u001b[1;32m    535\u001b[0m \u001b[38;5;28;01mdef\u001b[39;00m \u001b[38;5;21mstep\u001b[39m(\u001b[38;5;28mself\u001b[39m, action):\n\u001b[1;32m    536\u001b[0m     \u001b[38;5;66;03m# Convert the flattened action back to the original action space format\u001b[39;00m\n\u001b[1;32m    537\u001b[0m     original_action \u001b[38;5;241m=\u001b[39m \u001b[38;5;28mself\u001b[39m\u001b[38;5;241m.\u001b[39m_unflatten_action(action)\n\u001b[0;32m--> 538\u001b[0m     \u001b[38;5;28;01mreturn\u001b[39;00m \u001b[38;5;28;43msuper\u001b[39;49m\u001b[43m(\u001b[49m\u001b[43m)\u001b[49m\u001b[38;5;241;43m.\u001b[39;49m\u001b[43mstep\u001b[49m\u001b[43m(\u001b[49m\u001b[43moriginal_action\u001b[49m\u001b[43m)\u001b[49m\n",
      "File \u001b[0;32m~/.local/lib/python3.10/site-packages/gym/core.py:319\u001b[0m, in \u001b[0;36mWrapper.step\u001b[0;34m(self, action)\u001b[0m\n\u001b[1;32m    317\u001b[0m \u001b[38;5;28;01mdef\u001b[39;00m \u001b[38;5;21mstep\u001b[39m(\u001b[38;5;28mself\u001b[39m, action: ActType) \u001b[38;5;241m-\u001b[39m\u001b[38;5;241m>\u001b[39m Tuple[ObsType, \u001b[38;5;28mfloat\u001b[39m, \u001b[38;5;28mbool\u001b[39m, \u001b[38;5;28mbool\u001b[39m, \u001b[38;5;28mdict\u001b[39m]:\n\u001b[1;32m    318\u001b[0m \u001b[38;5;250m    \u001b[39m\u001b[38;5;124;03m\"\"\"Steps through the environment with action.\"\"\"\u001b[39;00m\n\u001b[0;32m--> 319\u001b[0m     \u001b[38;5;28;01mreturn\u001b[39;00m \u001b[38;5;28;43mself\u001b[39;49m\u001b[38;5;241;43m.\u001b[39;49m\u001b[43menv\u001b[49m\u001b[38;5;241;43m.\u001b[39;49m\u001b[43mstep\u001b[49m\u001b[43m(\u001b[49m\u001b[43maction\u001b[49m\u001b[43m)\u001b[49m\n",
      "File \u001b[0;32m~/.local/lib/python3.10/site-packages/gym/core.py:384\u001b[0m, in \u001b[0;36mObservationWrapper.step\u001b[0;34m(self, action)\u001b[0m\n\u001b[1;32m    382\u001b[0m \u001b[38;5;28;01mdef\u001b[39;00m \u001b[38;5;21mstep\u001b[39m(\u001b[38;5;28mself\u001b[39m, action):\n\u001b[1;32m    383\u001b[0m \u001b[38;5;250m    \u001b[39m\u001b[38;5;124;03m\"\"\"Returns a modified observation using :meth:`self.observation` after calling :meth:`env.step`.\"\"\"\u001b[39;00m\n\u001b[0;32m--> 384\u001b[0m     observation, reward, done, info \u001b[38;5;241m=\u001b[39m \u001b[38;5;28;43mself\u001b[39;49m\u001b[38;5;241;43m.\u001b[39;49m\u001b[43menv\u001b[49m\u001b[38;5;241;43m.\u001b[39;49m\u001b[43mstep\u001b[49m\u001b[43m(\u001b[49m\u001b[43maction\u001b[49m\u001b[43m)\u001b[49m \u001b[38;5;66;03m#terminated, truncated\u001b[39;00m\n\u001b[1;32m    385\u001b[0m     \u001b[38;5;28;01mreturn\u001b[39;00m \u001b[38;5;28mself\u001b[39m\u001b[38;5;241m.\u001b[39mobservation(observation), reward, done, info\n",
      "Cell \u001b[0;32mIn[23], line 386\u001b[0m, in \u001b[0;36mSFSystemCommunicator.step\u001b[0;34m(self, action)\u001b[0m\n\u001b[1;32m    384\u001b[0m time\u001b[38;5;241m.\u001b[39msleep(\u001b[38;5;28mself\u001b[39m\u001b[38;5;241m.\u001b[39mstep_stim_length)\n\u001b[1;32m    385\u001b[0m \u001b[38;5;28mself\u001b[39m\u001b[38;5;241m.\u001b[39mcurrent_actions\u001b[38;5;241m=\u001b[39maction\n\u001b[0;32m--> 386\u001b[0m new_observations\u001b[38;5;241m=\u001b[39m\u001b[38;5;28;43mself\u001b[39;49m\u001b[38;5;241;43m.\u001b[39;49m\u001b[43msample_and_process_observations_from_device\u001b[49m\u001b[43m(\u001b[49m\u001b[43m)\u001b[49m\n\u001b[1;32m    387\u001b[0m \u001b[38;5;28mself\u001b[39m\u001b[38;5;241m.\u001b[39mcur_observations\u001b[38;5;241m=\u001b[39mnew_observations\n\u001b[1;32m    388\u001b[0m reward\u001b[38;5;241m=\u001b[39m\u001b[38;5;28mself\u001b[39m\u001b[38;5;241m.\u001b[39mget_reward(observations\u001b[38;5;241m=\u001b[39mnew_observations, toreturn\u001b[38;5;241m=\u001b[39m\u001b[38;5;28;01mTrue\u001b[39;00m)\n",
      "Cell \u001b[0;32mIn[23], line 359\u001b[0m, in \u001b[0;36mSFSystemCommunicator.sample_and_process_observations_from_device\u001b[0;34m(self)\u001b[0m\n\u001b[1;32m    357\u001b[0m \u001b[38;5;28;01mdef\u001b[39;00m \u001b[38;5;21msample_and_process_observations_from_device\u001b[39m(\u001b[38;5;28mself\u001b[39m):\n\u001b[1;32m    358\u001b[0m     new_observations\u001b[38;5;241m=\u001b[39m\u001b[38;5;28mdict\u001b[39m()\n\u001b[0;32m--> 359\u001b[0m     \u001b[38;5;28;43mself\u001b[39;49m\u001b[38;5;241;43m.\u001b[39;49m\u001b[43msample_observations\u001b[49m\u001b[43m(\u001b[49m\u001b[43m)\u001b[49m\n\u001b[1;32m    360\u001b[0m     new_observations[\u001b[38;5;124m'\u001b[39m\u001b[38;5;124mraw_data\u001b[39m\u001b[38;5;124m'\u001b[39m]\u001b[38;5;241m=\u001b[39m\u001b[38;5;28mself\u001b[39m\u001b[38;5;241m.\u001b[39mraw_data\n\u001b[1;32m    361\u001b[0m     \u001b[38;5;28;01mif\u001b[39;00m \u001b[38;5;28mself\u001b[39m\u001b[38;5;241m.\u001b[39mdo_fft:\n",
      "Cell \u001b[0;32mIn[23], line 350\u001b[0m, in \u001b[0;36mSFSystemCommunicator.sample_observations\u001b[0;34m(self)\u001b[0m\n\u001b[1;32m    348\u001b[0m \u001b[38;5;28;01mdef\u001b[39;00m \u001b[38;5;21msample_observations\u001b[39m(\u001b[38;5;28mself\u001b[39m):\n\u001b[1;32m    349\u001b[0m     \u001b[38;5;28mself\u001b[39m\u001b[38;5;241m.\u001b[39mws\u001b[38;5;241m.\u001b[39msend(\u001b[38;5;124m\"\u001b[39m\u001b[38;5;124mstart_data_transfer_from_ads\u001b[39m\u001b[38;5;124m\"\u001b[39m)\n\u001b[0;32m--> 350\u001b[0m     \u001b[38;5;28mself\u001b[39m\u001b[38;5;241m.\u001b[39mcurrent_sample\u001b[38;5;241m=\u001b[39mjson\u001b[38;5;241m.\u001b[39mloads(\u001b[38;5;28;43mself\u001b[39;49m\u001b[38;5;241;43m.\u001b[39;49m\u001b[43mws\u001b[49m\u001b[38;5;241;43m.\u001b[39;49m\u001b[43mrecv\u001b[49m\u001b[43m(\u001b[49m\u001b[43m)\u001b[49m)\n\u001b[1;32m    351\u001b[0m     \u001b[38;5;28mself\u001b[39m\u001b[38;5;241m.\u001b[39mraw_data\u001b[38;5;241m=\u001b[39m[]\n\u001b[1;32m    352\u001b[0m     \u001b[38;5;28;01mfor\u001b[39;00m key, value \u001b[38;5;129;01min\u001b[39;00m \u001b[38;5;28mself\u001b[39m\u001b[38;5;241m.\u001b[39mcurrent_sample\u001b[38;5;241m.\u001b[39mitems():\n",
      "File \u001b[0;32m~/.local/lib/python3.10/site-packages/websocket/_core.py:388\u001b[0m, in \u001b[0;36mWebSocket.recv\u001b[0;34m(self)\u001b[0m\n\u001b[1;32m    380\u001b[0m \u001b[38;5;250m\u001b[39m\u001b[38;5;124;03m\"\"\"\u001b[39;00m\n\u001b[1;32m    381\u001b[0m \u001b[38;5;124;03mReceive string data(byte array) from the server.\u001b[39;00m\n\u001b[1;32m    382\u001b[0m \n\u001b[0;32m   (...)\u001b[0m\n\u001b[1;32m    385\u001b[0m \u001b[38;5;124;03mdata: string (byte array) value.\u001b[39;00m\n\u001b[1;32m    386\u001b[0m \u001b[38;5;124;03m\"\"\"\u001b[39;00m\n\u001b[1;32m    387\u001b[0m \u001b[38;5;28;01mwith\u001b[39;00m \u001b[38;5;28mself\u001b[39m\u001b[38;5;241m.\u001b[39mreadlock:\n\u001b[0;32m--> 388\u001b[0m     opcode, data \u001b[38;5;241m=\u001b[39m \u001b[38;5;28;43mself\u001b[39;49m\u001b[38;5;241;43m.\u001b[39;49m\u001b[43mrecv_data\u001b[49m\u001b[43m(\u001b[49m\u001b[43m)\u001b[49m\n\u001b[1;32m    389\u001b[0m \u001b[38;5;28;01mif\u001b[39;00m opcode \u001b[38;5;241m==\u001b[39m ABNF\u001b[38;5;241m.\u001b[39mOPCODE_TEXT:\n\u001b[1;32m    390\u001b[0m     data_received: Union[\u001b[38;5;28mbytes\u001b[39m, \u001b[38;5;28mstr\u001b[39m] \u001b[38;5;241m=\u001b[39m data\n",
      "File \u001b[0;32m~/.local/lib/python3.10/site-packages/websocket/_core.py:416\u001b[0m, in \u001b[0;36mWebSocket.recv_data\u001b[0;34m(self, control_frame)\u001b[0m\n\u001b[1;32m    401\u001b[0m \u001b[38;5;28;01mdef\u001b[39;00m \u001b[38;5;21mrecv_data\u001b[39m(\u001b[38;5;28mself\u001b[39m, control_frame: \u001b[38;5;28mbool\u001b[39m \u001b[38;5;241m=\u001b[39m \u001b[38;5;28;01mFalse\u001b[39;00m) \u001b[38;5;241m-\u001b[39m\u001b[38;5;241m>\u001b[39m \u001b[38;5;28mtuple\u001b[39m:\n\u001b[1;32m    402\u001b[0m \u001b[38;5;250m    \u001b[39m\u001b[38;5;124;03m\"\"\"\u001b[39;00m\n\u001b[1;32m    403\u001b[0m \u001b[38;5;124;03m    Receive data with operation code.\u001b[39;00m\n\u001b[1;32m    404\u001b[0m \n\u001b[0;32m   (...)\u001b[0m\n\u001b[1;32m    414\u001b[0m \u001b[38;5;124;03m        tuple of operation code and string(byte array) value.\u001b[39;00m\n\u001b[1;32m    415\u001b[0m \u001b[38;5;124;03m    \"\"\"\u001b[39;00m\n\u001b[0;32m--> 416\u001b[0m     opcode, frame \u001b[38;5;241m=\u001b[39m \u001b[38;5;28;43mself\u001b[39;49m\u001b[38;5;241;43m.\u001b[39;49m\u001b[43mrecv_data_frame\u001b[49m\u001b[43m(\u001b[49m\u001b[43mcontrol_frame\u001b[49m\u001b[43m)\u001b[49m\n\u001b[1;32m    417\u001b[0m     \u001b[38;5;28;01mreturn\u001b[39;00m opcode, frame\u001b[38;5;241m.\u001b[39mdata\n",
      "File \u001b[0;32m~/.local/lib/python3.10/site-packages/websocket/_core.py:437\u001b[0m, in \u001b[0;36mWebSocket.recv_data_frame\u001b[0;34m(self, control_frame)\u001b[0m\n\u001b[1;32m    420\u001b[0m \u001b[38;5;250m\u001b[39m\u001b[38;5;124;03m\"\"\"\u001b[39;00m\n\u001b[1;32m    421\u001b[0m \u001b[38;5;124;03mReceive data with operation code.\u001b[39;00m\n\u001b[1;32m    422\u001b[0m \n\u001b[0;32m   (...)\u001b[0m\n\u001b[1;32m    434\u001b[0m \u001b[38;5;124;03m    tuple of operation code and string(byte array) value.\u001b[39;00m\n\u001b[1;32m    435\u001b[0m \u001b[38;5;124;03m\"\"\"\u001b[39;00m\n\u001b[1;32m    436\u001b[0m \u001b[38;5;28;01mwhile\u001b[39;00m \u001b[38;5;28;01mTrue\u001b[39;00m:\n\u001b[0;32m--> 437\u001b[0m     frame \u001b[38;5;241m=\u001b[39m \u001b[38;5;28;43mself\u001b[39;49m\u001b[38;5;241;43m.\u001b[39;49m\u001b[43mrecv_frame\u001b[49m\u001b[43m(\u001b[49m\u001b[43m)\u001b[49m\n\u001b[1;32m    438\u001b[0m     \u001b[38;5;28;01mif\u001b[39;00m isEnabledForTrace():\n\u001b[1;32m    439\u001b[0m         trace(\u001b[38;5;124mf\u001b[39m\u001b[38;5;124m\"\u001b[39m\u001b[38;5;124m++Rcv raw: \u001b[39m\u001b[38;5;132;01m{\u001b[39;00m\u001b[38;5;28mrepr\u001b[39m(frame\u001b[38;5;241m.\u001b[39mformat())\u001b[38;5;132;01m}\u001b[39;00m\u001b[38;5;124m\"\u001b[39m)\n",
      "File \u001b[0;32m~/.local/lib/python3.10/site-packages/websocket/_core.py:478\u001b[0m, in \u001b[0;36mWebSocket.recv_frame\u001b[0;34m(self)\u001b[0m\n\u001b[1;32m    470\u001b[0m \u001b[38;5;28;01mdef\u001b[39;00m \u001b[38;5;21mrecv_frame\u001b[39m(\u001b[38;5;28mself\u001b[39m):\n\u001b[1;32m    471\u001b[0m \u001b[38;5;250m    \u001b[39m\u001b[38;5;124;03m\"\"\"\u001b[39;00m\n\u001b[1;32m    472\u001b[0m \u001b[38;5;124;03m    Receive data as frame from server.\u001b[39;00m\n\u001b[1;32m    473\u001b[0m \n\u001b[0;32m   (...)\u001b[0m\n\u001b[1;32m    476\u001b[0m \u001b[38;5;124;03m    self.frame_buffer.recv_frame(): ABNF frame object\u001b[39;00m\n\u001b[1;32m    477\u001b[0m \u001b[38;5;124;03m    \"\"\"\u001b[39;00m\n\u001b[0;32m--> 478\u001b[0m     \u001b[38;5;28;01mreturn\u001b[39;00m \u001b[38;5;28;43mself\u001b[39;49m\u001b[38;5;241;43m.\u001b[39;49m\u001b[43mframe_buffer\u001b[49m\u001b[38;5;241;43m.\u001b[39;49m\u001b[43mrecv_frame\u001b[49m\u001b[43m(\u001b[49m\u001b[43m)\u001b[49m\n",
      "File \u001b[0;32m~/.local/lib/python3.10/site-packages/websocket/_abnf.py:363\u001b[0m, in \u001b[0;36mframe_buffer.recv_frame\u001b[0;34m(self)\u001b[0m\n\u001b[1;32m    360\u001b[0m \u001b[38;5;28;01mwith\u001b[39;00m \u001b[38;5;28mself\u001b[39m\u001b[38;5;241m.\u001b[39mlock:\n\u001b[1;32m    361\u001b[0m     \u001b[38;5;66;03m# Header\u001b[39;00m\n\u001b[1;32m    362\u001b[0m     \u001b[38;5;28;01mif\u001b[39;00m \u001b[38;5;28mself\u001b[39m\u001b[38;5;241m.\u001b[39mhas_received_header():\n\u001b[0;32m--> 363\u001b[0m         \u001b[38;5;28;43mself\u001b[39;49m\u001b[38;5;241;43m.\u001b[39;49m\u001b[43mrecv_header\u001b[49m\u001b[43m(\u001b[49m\u001b[43m)\u001b[49m\n\u001b[1;32m    364\u001b[0m     (fin, rsv1, rsv2, rsv3, opcode, has_mask, _) \u001b[38;5;241m=\u001b[39m \u001b[38;5;28mself\u001b[39m\u001b[38;5;241m.\u001b[39mheader\n\u001b[1;32m    366\u001b[0m     \u001b[38;5;66;03m# Frame length\u001b[39;00m\n",
      "File \u001b[0;32m~/.local/lib/python3.10/site-packages/websocket/_abnf.py:319\u001b[0m, in \u001b[0;36mframe_buffer.recv_header\u001b[0;34m(self)\u001b[0m\n\u001b[1;32m    318\u001b[0m \u001b[38;5;28;01mdef\u001b[39;00m \u001b[38;5;21mrecv_header\u001b[39m(\u001b[38;5;28mself\u001b[39m) \u001b[38;5;241m-\u001b[39m\u001b[38;5;241m>\u001b[39m \u001b[38;5;28;01mNone\u001b[39;00m:\n\u001b[0;32m--> 319\u001b[0m     header \u001b[38;5;241m=\u001b[39m \u001b[38;5;28;43mself\u001b[39;49m\u001b[38;5;241;43m.\u001b[39;49m\u001b[43mrecv_strict\u001b[49m\u001b[43m(\u001b[49m\u001b[38;5;241;43m2\u001b[39;49m\u001b[43m)\u001b[49m\n\u001b[1;32m    320\u001b[0m     b1 \u001b[38;5;241m=\u001b[39m header[\u001b[38;5;241m0\u001b[39m]\n\u001b[1;32m    321\u001b[0m     fin \u001b[38;5;241m=\u001b[39m b1 \u001b[38;5;241m>>\u001b[39m \u001b[38;5;241m7\u001b[39m \u001b[38;5;241m&\u001b[39m \u001b[38;5;241m1\u001b[39m\n",
      "File \u001b[0;32m~/.local/lib/python3.10/site-packages/websocket/_abnf.py:398\u001b[0m, in \u001b[0;36mframe_buffer.recv_strict\u001b[0;34m(self, bufsize)\u001b[0m\n\u001b[1;32m    390\u001b[0m shortage \u001b[38;5;241m=\u001b[39m bufsize \u001b[38;5;241m-\u001b[39m \u001b[38;5;28msum\u001b[39m(\u001b[38;5;28mmap\u001b[39m(\u001b[38;5;28mlen\u001b[39m, \u001b[38;5;28mself\u001b[39m\u001b[38;5;241m.\u001b[39mrecv_buffer))\n\u001b[1;32m    391\u001b[0m \u001b[38;5;28;01mwhile\u001b[39;00m shortage \u001b[38;5;241m>\u001b[39m \u001b[38;5;241m0\u001b[39m:\n\u001b[1;32m    392\u001b[0m     \u001b[38;5;66;03m# Limit buffer size that we pass to socket.recv() to avoid\u001b[39;00m\n\u001b[1;32m    393\u001b[0m     \u001b[38;5;66;03m# fragmenting the heap -- the number of bytes recv() actually\u001b[39;00m\n\u001b[0;32m   (...)\u001b[0m\n\u001b[1;32m    396\u001b[0m     \u001b[38;5;66;03m# buffers allocated and then shrunk, which results in\u001b[39;00m\n\u001b[1;32m    397\u001b[0m     \u001b[38;5;66;03m# fragmentation.\u001b[39;00m\n\u001b[0;32m--> 398\u001b[0m     bytes_ \u001b[38;5;241m=\u001b[39m \u001b[38;5;28;43mself\u001b[39;49m\u001b[38;5;241;43m.\u001b[39;49m\u001b[43mrecv\u001b[49m\u001b[43m(\u001b[49m\u001b[38;5;28;43mmin\u001b[39;49m\u001b[43m(\u001b[49m\u001b[38;5;241;43m16384\u001b[39;49m\u001b[43m,\u001b[49m\u001b[43m \u001b[49m\u001b[43mshortage\u001b[49m\u001b[43m)\u001b[49m\u001b[43m)\u001b[49m\n\u001b[1;32m    399\u001b[0m     \u001b[38;5;28mself\u001b[39m\u001b[38;5;241m.\u001b[39mrecv_buffer\u001b[38;5;241m.\u001b[39mappend(bytes_)\n\u001b[1;32m    400\u001b[0m     shortage \u001b[38;5;241m-\u001b[39m\u001b[38;5;241m=\u001b[39m \u001b[38;5;28mlen\u001b[39m(bytes_)\n",
      "File \u001b[0;32m~/.local/lib/python3.10/site-packages/websocket/_core.py:563\u001b[0m, in \u001b[0;36mWebSocket._recv\u001b[0;34m(self, bufsize)\u001b[0m\n\u001b[1;32m    561\u001b[0m \u001b[38;5;28;01mdef\u001b[39;00m \u001b[38;5;21m_recv\u001b[39m(\u001b[38;5;28mself\u001b[39m, bufsize):\n\u001b[1;32m    562\u001b[0m     \u001b[38;5;28;01mtry\u001b[39;00m:\n\u001b[0;32m--> 563\u001b[0m         \u001b[38;5;28;01mreturn\u001b[39;00m \u001b[43mrecv\u001b[49m\u001b[43m(\u001b[49m\u001b[38;5;28;43mself\u001b[39;49m\u001b[38;5;241;43m.\u001b[39;49m\u001b[43msock\u001b[49m\u001b[43m,\u001b[49m\u001b[43m \u001b[49m\u001b[43mbufsize\u001b[49m\u001b[43m)\u001b[49m\n\u001b[1;32m    564\u001b[0m     \u001b[38;5;28;01mexcept\u001b[39;00m WebSocketConnectionClosedException:\n\u001b[1;32m    565\u001b[0m         \u001b[38;5;28;01mif\u001b[39;00m \u001b[38;5;28mself\u001b[39m\u001b[38;5;241m.\u001b[39msock:\n",
      "File \u001b[0;32m~/.local/lib/python3.10/site-packages/websocket/_socket.py:115\u001b[0m, in \u001b[0;36mrecv\u001b[0;34m(sock, bufsize)\u001b[0m\n\u001b[1;32m    113\u001b[0m         bytes_ \u001b[38;5;241m=\u001b[39m sock\u001b[38;5;241m.\u001b[39mrecv(bufsize)\n\u001b[1;32m    114\u001b[0m     \u001b[38;5;28;01melse\u001b[39;00m:\n\u001b[0;32m--> 115\u001b[0m         bytes_ \u001b[38;5;241m=\u001b[39m \u001b[43m_recv\u001b[49m\u001b[43m(\u001b[49m\u001b[43m)\u001b[49m\n\u001b[1;32m    116\u001b[0m \u001b[38;5;28;01mexcept\u001b[39;00m \u001b[38;5;167;01mTimeoutError\u001b[39;00m:\n\u001b[1;32m    117\u001b[0m     \u001b[38;5;28;01mraise\u001b[39;00m WebSocketTimeoutException(\u001b[38;5;124m\"\u001b[39m\u001b[38;5;124mConnection timed out\u001b[39m\u001b[38;5;124m\"\u001b[39m)\n",
      "File \u001b[0;32m~/.local/lib/python3.10/site-packages/websocket/_socket.py:94\u001b[0m, in \u001b[0;36mrecv.<locals>._recv\u001b[0;34m()\u001b[0m\n\u001b[1;32m     92\u001b[0m \u001b[38;5;28;01mdef\u001b[39;00m \u001b[38;5;21m_recv\u001b[39m():\n\u001b[1;32m     93\u001b[0m     \u001b[38;5;28;01mtry\u001b[39;00m:\n\u001b[0;32m---> 94\u001b[0m         \u001b[38;5;28;01mreturn\u001b[39;00m \u001b[43msock\u001b[49m\u001b[38;5;241;43m.\u001b[39;49m\u001b[43mrecv\u001b[49m\u001b[43m(\u001b[49m\u001b[43mbufsize\u001b[49m\u001b[43m)\u001b[49m\n\u001b[1;32m     95\u001b[0m     \u001b[38;5;28;01mexcept\u001b[39;00m SSLWantReadError:\n\u001b[1;32m     96\u001b[0m         \u001b[38;5;28;01mpass\u001b[39;00m\n",
      "\u001b[0;31mKeyboardInterrupt\u001b[0m: "
     ]
    }
   ],
   "source": [
    "trainer.train(num_episodes=2)"
   ]
  },
  {
   "cell_type": "code",
   "execution_count": 42,
   "metadata": {},
   "outputs": [],
   "source": [
    "trainer.env.close()"
   ]
  },
  {
   "cell_type": "code",
   "execution_count": 33,
   "metadata": {},
   "outputs": [
    {
     "data": {
      "application/vnd.plotly.v1+json": {
       "config": {
        "plotlyServerURL": "https://plot.ly"
       },
       "data": [
        {
         "mode": "lines+markers",
         "name": "Current episode rewards",
         "type": "scatter",
         "x": [
          0,
          1,
          2,
          3,
          4,
          5,
          6,
          7,
          8,
          9
         ],
         "xaxis": "x",
         "y": [
          1.7785392999649048,
          0.7523601651191711,
          4.873262882232666,
          21.97707748413086,
          1.1974339485168457,
          1.6060595512390137,
          3.3657238483428955,
          5.505563259124756,
          1.8995344638824463,
          1.448906660079956
         ],
         "yaxis": "y"
        },
        {
         "mode": "lines+markers",
         "name": "Previous episode max rewards",
         "type": "scatter",
         "x": [
          0,
          1,
          2,
          3,
          4
         ],
         "xaxis": "x2",
         "y": [
          0,
          8.036214828491211,
          0,
          16.721323013305664,
          0
         ],
         "yaxis": "y2"
        },
        {
         "mode": "lines+markers",
         "name": "Previous episode total rewards",
         "type": "scatter",
         "x": [
          0,
          1
         ],
         "xaxis": "x3",
         "y": [
          81.85887891054153,
          89.12100586295128
         ],
         "yaxis": "y3"
        }
       ],
       "layout": {
        "height": 500,
        "template": {
         "data": {
          "bar": [
           {
            "error_x": {
             "color": "#2a3f5f"
            },
            "error_y": {
             "color": "#2a3f5f"
            },
            "marker": {
             "line": {
              "color": "#E5ECF6",
              "width": 0.5
             },
             "pattern": {
              "fillmode": "overlay",
              "size": 10,
              "solidity": 0.2
             }
            },
            "type": "bar"
           }
          ],
          "barpolar": [
           {
            "marker": {
             "line": {
              "color": "#E5ECF6",
              "width": 0.5
             },
             "pattern": {
              "fillmode": "overlay",
              "size": 10,
              "solidity": 0.2
             }
            },
            "type": "barpolar"
           }
          ],
          "carpet": [
           {
            "aaxis": {
             "endlinecolor": "#2a3f5f",
             "gridcolor": "white",
             "linecolor": "white",
             "minorgridcolor": "white",
             "startlinecolor": "#2a3f5f"
            },
            "baxis": {
             "endlinecolor": "#2a3f5f",
             "gridcolor": "white",
             "linecolor": "white",
             "minorgridcolor": "white",
             "startlinecolor": "#2a3f5f"
            },
            "type": "carpet"
           }
          ],
          "choropleth": [
           {
            "colorbar": {
             "outlinewidth": 0,
             "ticks": ""
            },
            "type": "choropleth"
           }
          ],
          "contour": [
           {
            "colorbar": {
             "outlinewidth": 0,
             "ticks": ""
            },
            "colorscale": [
             [
              0,
              "#0d0887"
             ],
             [
              0.1111111111111111,
              "#46039f"
             ],
             [
              0.2222222222222222,
              "#7201a8"
             ],
             [
              0.3333333333333333,
              "#9c179e"
             ],
             [
              0.4444444444444444,
              "#bd3786"
             ],
             [
              0.5555555555555556,
              "#d8576b"
             ],
             [
              0.6666666666666666,
              "#ed7953"
             ],
             [
              0.7777777777777778,
              "#fb9f3a"
             ],
             [
              0.8888888888888888,
              "#fdca26"
             ],
             [
              1,
              "#f0f921"
             ]
            ],
            "type": "contour"
           }
          ],
          "contourcarpet": [
           {
            "colorbar": {
             "outlinewidth": 0,
             "ticks": ""
            },
            "type": "contourcarpet"
           }
          ],
          "heatmap": [
           {
            "colorbar": {
             "outlinewidth": 0,
             "ticks": ""
            },
            "colorscale": [
             [
              0,
              "#0d0887"
             ],
             [
              0.1111111111111111,
              "#46039f"
             ],
             [
              0.2222222222222222,
              "#7201a8"
             ],
             [
              0.3333333333333333,
              "#9c179e"
             ],
             [
              0.4444444444444444,
              "#bd3786"
             ],
             [
              0.5555555555555556,
              "#d8576b"
             ],
             [
              0.6666666666666666,
              "#ed7953"
             ],
             [
              0.7777777777777778,
              "#fb9f3a"
             ],
             [
              0.8888888888888888,
              "#fdca26"
             ],
             [
              1,
              "#f0f921"
             ]
            ],
            "type": "heatmap"
           }
          ],
          "heatmapgl": [
           {
            "colorbar": {
             "outlinewidth": 0,
             "ticks": ""
            },
            "colorscale": [
             [
              0,
              "#0d0887"
             ],
             [
              0.1111111111111111,
              "#46039f"
             ],
             [
              0.2222222222222222,
              "#7201a8"
             ],
             [
              0.3333333333333333,
              "#9c179e"
             ],
             [
              0.4444444444444444,
              "#bd3786"
             ],
             [
              0.5555555555555556,
              "#d8576b"
             ],
             [
              0.6666666666666666,
              "#ed7953"
             ],
             [
              0.7777777777777778,
              "#fb9f3a"
             ],
             [
              0.8888888888888888,
              "#fdca26"
             ],
             [
              1,
              "#f0f921"
             ]
            ],
            "type": "heatmapgl"
           }
          ],
          "histogram": [
           {
            "marker": {
             "pattern": {
              "fillmode": "overlay",
              "size": 10,
              "solidity": 0.2
             }
            },
            "type": "histogram"
           }
          ],
          "histogram2d": [
           {
            "colorbar": {
             "outlinewidth": 0,
             "ticks": ""
            },
            "colorscale": [
             [
              0,
              "#0d0887"
             ],
             [
              0.1111111111111111,
              "#46039f"
             ],
             [
              0.2222222222222222,
              "#7201a8"
             ],
             [
              0.3333333333333333,
              "#9c179e"
             ],
             [
              0.4444444444444444,
              "#bd3786"
             ],
             [
              0.5555555555555556,
              "#d8576b"
             ],
             [
              0.6666666666666666,
              "#ed7953"
             ],
             [
              0.7777777777777778,
              "#fb9f3a"
             ],
             [
              0.8888888888888888,
              "#fdca26"
             ],
             [
              1,
              "#f0f921"
             ]
            ],
            "type": "histogram2d"
           }
          ],
          "histogram2dcontour": [
           {
            "colorbar": {
             "outlinewidth": 0,
             "ticks": ""
            },
            "colorscale": [
             [
              0,
              "#0d0887"
             ],
             [
              0.1111111111111111,
              "#46039f"
             ],
             [
              0.2222222222222222,
              "#7201a8"
             ],
             [
              0.3333333333333333,
              "#9c179e"
             ],
             [
              0.4444444444444444,
              "#bd3786"
             ],
             [
              0.5555555555555556,
              "#d8576b"
             ],
             [
              0.6666666666666666,
              "#ed7953"
             ],
             [
              0.7777777777777778,
              "#fb9f3a"
             ],
             [
              0.8888888888888888,
              "#fdca26"
             ],
             [
              1,
              "#f0f921"
             ]
            ],
            "type": "histogram2dcontour"
           }
          ],
          "mesh3d": [
           {
            "colorbar": {
             "outlinewidth": 0,
             "ticks": ""
            },
            "type": "mesh3d"
           }
          ],
          "parcoords": [
           {
            "line": {
             "colorbar": {
              "outlinewidth": 0,
              "ticks": ""
             }
            },
            "type": "parcoords"
           }
          ],
          "pie": [
           {
            "automargin": true,
            "type": "pie"
           }
          ],
          "scatter": [
           {
            "fillpattern": {
             "fillmode": "overlay",
             "size": 10,
             "solidity": 0.2
            },
            "type": "scatter"
           }
          ],
          "scatter3d": [
           {
            "line": {
             "colorbar": {
              "outlinewidth": 0,
              "ticks": ""
             }
            },
            "marker": {
             "colorbar": {
              "outlinewidth": 0,
              "ticks": ""
             }
            },
            "type": "scatter3d"
           }
          ],
          "scattercarpet": [
           {
            "marker": {
             "colorbar": {
              "outlinewidth": 0,
              "ticks": ""
             }
            },
            "type": "scattercarpet"
           }
          ],
          "scattergeo": [
           {
            "marker": {
             "colorbar": {
              "outlinewidth": 0,
              "ticks": ""
             }
            },
            "type": "scattergeo"
           }
          ],
          "scattergl": [
           {
            "marker": {
             "colorbar": {
              "outlinewidth": 0,
              "ticks": ""
             }
            },
            "type": "scattergl"
           }
          ],
          "scattermapbox": [
           {
            "marker": {
             "colorbar": {
              "outlinewidth": 0,
              "ticks": ""
             }
            },
            "type": "scattermapbox"
           }
          ],
          "scatterpolar": [
           {
            "marker": {
             "colorbar": {
              "outlinewidth": 0,
              "ticks": ""
             }
            },
            "type": "scatterpolar"
           }
          ],
          "scatterpolargl": [
           {
            "marker": {
             "colorbar": {
              "outlinewidth": 0,
              "ticks": ""
             }
            },
            "type": "scatterpolargl"
           }
          ],
          "scatterternary": [
           {
            "marker": {
             "colorbar": {
              "outlinewidth": 0,
              "ticks": ""
             }
            },
            "type": "scatterternary"
           }
          ],
          "surface": [
           {
            "colorbar": {
             "outlinewidth": 0,
             "ticks": ""
            },
            "colorscale": [
             [
              0,
              "#0d0887"
             ],
             [
              0.1111111111111111,
              "#46039f"
             ],
             [
              0.2222222222222222,
              "#7201a8"
             ],
             [
              0.3333333333333333,
              "#9c179e"
             ],
             [
              0.4444444444444444,
              "#bd3786"
             ],
             [
              0.5555555555555556,
              "#d8576b"
             ],
             [
              0.6666666666666666,
              "#ed7953"
             ],
             [
              0.7777777777777778,
              "#fb9f3a"
             ],
             [
              0.8888888888888888,
              "#fdca26"
             ],
             [
              1,
              "#f0f921"
             ]
            ],
            "type": "surface"
           }
          ],
          "table": [
           {
            "cells": {
             "fill": {
              "color": "#EBF0F8"
             },
             "line": {
              "color": "white"
             }
            },
            "header": {
             "fill": {
              "color": "#C8D4E3"
             },
             "line": {
              "color": "white"
             }
            },
            "type": "table"
           }
          ]
         },
         "layout": {
          "annotationdefaults": {
           "arrowcolor": "#2a3f5f",
           "arrowhead": 0,
           "arrowwidth": 1
          },
          "autotypenumbers": "strict",
          "coloraxis": {
           "colorbar": {
            "outlinewidth": 0,
            "ticks": ""
           }
          },
          "colorscale": {
           "diverging": [
            [
             0,
             "#8e0152"
            ],
            [
             0.1,
             "#c51b7d"
            ],
            [
             0.2,
             "#de77ae"
            ],
            [
             0.3,
             "#f1b6da"
            ],
            [
             0.4,
             "#fde0ef"
            ],
            [
             0.5,
             "#f7f7f7"
            ],
            [
             0.6,
             "#e6f5d0"
            ],
            [
             0.7,
             "#b8e186"
            ],
            [
             0.8,
             "#7fbc41"
            ],
            [
             0.9,
             "#4d9221"
            ],
            [
             1,
             "#276419"
            ]
           ],
           "sequential": [
            [
             0,
             "#0d0887"
            ],
            [
             0.1111111111111111,
             "#46039f"
            ],
            [
             0.2222222222222222,
             "#7201a8"
            ],
            [
             0.3333333333333333,
             "#9c179e"
            ],
            [
             0.4444444444444444,
             "#bd3786"
            ],
            [
             0.5555555555555556,
             "#d8576b"
            ],
            [
             0.6666666666666666,
             "#ed7953"
            ],
            [
             0.7777777777777778,
             "#fb9f3a"
            ],
            [
             0.8888888888888888,
             "#fdca26"
            ],
            [
             1,
             "#f0f921"
            ]
           ],
           "sequentialminus": [
            [
             0,
             "#0d0887"
            ],
            [
             0.1111111111111111,
             "#46039f"
            ],
            [
             0.2222222222222222,
             "#7201a8"
            ],
            [
             0.3333333333333333,
             "#9c179e"
            ],
            [
             0.4444444444444444,
             "#bd3786"
            ],
            [
             0.5555555555555556,
             "#d8576b"
            ],
            [
             0.6666666666666666,
             "#ed7953"
            ],
            [
             0.7777777777777778,
             "#fb9f3a"
            ],
            [
             0.8888888888888888,
             "#fdca26"
            ],
            [
             1,
             "#f0f921"
            ]
           ]
          },
          "colorway": [
           "#636efa",
           "#EF553B",
           "#00cc96",
           "#ab63fa",
           "#FFA15A",
           "#19d3f3",
           "#FF6692",
           "#B6E880",
           "#FF97FF",
           "#FECB52"
          ],
          "font": {
           "color": "#2a3f5f"
          },
          "geo": {
           "bgcolor": "white",
           "lakecolor": "white",
           "landcolor": "#E5ECF6",
           "showlakes": true,
           "showland": true,
           "subunitcolor": "white"
          },
          "hoverlabel": {
           "align": "left"
          },
          "hovermode": "closest",
          "mapbox": {
           "style": "light"
          },
          "paper_bgcolor": "white",
          "plot_bgcolor": "#E5ECF6",
          "polar": {
           "angularaxis": {
            "gridcolor": "white",
            "linecolor": "white",
            "ticks": ""
           },
           "bgcolor": "#E5ECF6",
           "radialaxis": {
            "gridcolor": "white",
            "linecolor": "white",
            "ticks": ""
           }
          },
          "scene": {
           "xaxis": {
            "backgroundcolor": "#E5ECF6",
            "gridcolor": "white",
            "gridwidth": 2,
            "linecolor": "white",
            "showbackground": true,
            "ticks": "",
            "zerolinecolor": "white"
           },
           "yaxis": {
            "backgroundcolor": "#E5ECF6",
            "gridcolor": "white",
            "gridwidth": 2,
            "linecolor": "white",
            "showbackground": true,
            "ticks": "",
            "zerolinecolor": "white"
           },
           "zaxis": {
            "backgroundcolor": "#E5ECF6",
            "gridcolor": "white",
            "gridwidth": 2,
            "linecolor": "white",
            "showbackground": true,
            "ticks": "",
            "zerolinecolor": "white"
           }
          },
          "shapedefaults": {
           "line": {
            "color": "#2a3f5f"
           }
          },
          "ternary": {
           "aaxis": {
            "gridcolor": "white",
            "linecolor": "white",
            "ticks": ""
           },
           "baxis": {
            "gridcolor": "white",
            "linecolor": "white",
            "ticks": ""
           },
           "bgcolor": "#E5ECF6",
           "caxis": {
            "gridcolor": "white",
            "linecolor": "white",
            "ticks": ""
           }
          },
          "title": {
           "x": 0.05
          },
          "xaxis": {
           "automargin": true,
           "gridcolor": "white",
           "linecolor": "white",
           "ticks": "",
           "title": {
            "standoff": 15
           },
           "zerolinecolor": "white",
           "zerolinewidth": 2
          },
          "yaxis": {
           "automargin": true,
           "gridcolor": "white",
           "linecolor": "white",
           "ticks": "",
           "title": {
            "standoff": 15
           },
           "zerolinecolor": "white",
           "zerolinewidth": 2
          }
         }
        },
        "width": 2000,
        "xaxis": {
         "anchor": "y",
         "domain": [
          0,
          0.45
         ]
        },
        "xaxis2": {
         "anchor": "y2",
         "domain": [
          0.55,
          1
         ]
        },
        "xaxis3": {
         "anchor": "y3",
         "domain": [
          0,
          0.45
         ]
        },
        "xaxis4": {
         "anchor": "y4",
         "domain": [
          0.55,
          1
         ]
        },
        "yaxis": {
         "anchor": "x",
         "domain": [
          0.575,
          1
         ]
        },
        "yaxis2": {
         "anchor": "x2",
         "domain": [
          0.575,
          1
         ]
        },
        "yaxis3": {
         "anchor": "x3",
         "domain": [
          0,
          0.425
         ]
        },
        "yaxis4": {
         "anchor": "x4",
         "domain": [
          0,
          0.425
         ]
        }
       }
      }
     },
     "metadata": {},
     "output_type": "display_data"
    },
    {
     "data": {
      "application/vnd.plotly.v1+json": {
       "config": {
        "plotlyServerURL": "https://plot.ly"
       },
       "data": [
        {
         "mode": "lines+markers",
         "name": "Channel 0 spectrum",
         "type": "scatter",
         "x": [
          0,
          1,
          2,
          3,
          4,
          5,
          6,
          7,
          8,
          9,
          10,
          11,
          12,
          13,
          14,
          15,
          16,
          17,
          18,
          19,
          20,
          21,
          22,
          23,
          24,
          25,
          26,
          27,
          28,
          29,
          30,
          31,
          32,
          33,
          34,
          35,
          36,
          37,
          38,
          39,
          40,
          41,
          42,
          43,
          44,
          45,
          46,
          47,
          48,
          49,
          50
         ],
         "xaxis": "x",
         "y": [
          865.32,
          13.287749704107439,
          65.81582107336035,
          91.77741218641339,
          33.718299604738874,
          7.297159911852454,
          70.9023721644049,
          52.70965148708603,
          8.378136966446547,
          43.63560746075805,
          71.43801653649878,
          23.717308737540133,
          13.476232282868606,
          82.15072390119381,
          64.79159097818886,
          73.21968261050027,
          86.1278929835918,
          90.38771753814899,
          9.727150052095727,
          50.21992119788866,
          33.551030518261385,
          56.0335819200771,
          64.86692137569231,
          89.94954210661561,
          11.264691412790933,
          32.573031790117426,
          21.529265586797205,
          19.62705918085443,
          78.1457064618762,
          65.99736625591122,
          63.22865642516002,
          29.29655690954743,
          34.12817507634436,
          55.43819426335976,
          47.72715450854531,
          84.18213413172266,
          94.16975733910236,
          69.88933756403918,
          38.962197878508015,
          66.21755761611574,
          116.50211650936944,
          26.698321562328857,
          84.3332395217506,
          14.13467784041858,
          54.59486546879386,
          12.194565538267863,
          59.01021448505416,
          23.646689628848797,
          47.43326605292731,
          62.02150318136221,
          41.75999999999999
         ],
         "yaxis": "y"
        },
        {
         "mode": "lines+markers",
         "name": "Channel 1 spectrum",
         "type": "scatter",
         "x": [
          0,
          1,
          2,
          3,
          4,
          5,
          6,
          7,
          8,
          9,
          10,
          11,
          12,
          13,
          14,
          15,
          16,
          17,
          18,
          19,
          20,
          21,
          22,
          23,
          24,
          25,
          26,
          27,
          28,
          29,
          30,
          31,
          32,
          33,
          34,
          35,
          36,
          37,
          38,
          39,
          40,
          41,
          42,
          43,
          44,
          45,
          46,
          47,
          48,
          49,
          50
         ],
         "xaxis": "x3",
         "y": [
          1072.92,
          6.08618241938655,
          46.93439033741901,
          71.87655206332416,
          54.75742602453962,
          42.72620305338413,
          8.103262149347529,
          117.76802323668231,
          51.110287853118045,
          60.40534295426397,
          56.296066799975605,
          57.26397830249743,
          23.197764740544347,
          58.51637458244167,
          82.45686495222382,
          39.69278189299662,
          54.15187860255024,
          40.08251782202917,
          69.23584370094119,
          56.76891718543558,
          64.99330855771196,
          5.944006883046491,
          129.56280828691015,
          28.47896572167062,
          19.51031831300025,
          20.263879194270775,
          39.67329907774756,
          64.2479570736545,
          24.242404153222186,
          43.88186831813925,
          100.21247857853176,
          33.6208406429547,
          59.43556291322896,
          33.568682450197905,
          45.35360925945715,
          56.99954230515783,
          24.10483803627514,
          76.05114420974294,
          46.87908178880766,
          66.06746865811841,
          63.302090350335554,
          86.28088635121081,
          13.047960205947453,
          13.343356977816624,
          28.1344956629035,
          33.956295664258064,
          76.85125969561618,
          96.86595787789066,
          88.64359336138939,
          8.250799608707696,
          6.400000000000009
         ],
         "yaxis": "y3"
        },
        {
         "mode": "lines+markers",
         "name": "Channel 2 spectrum",
         "type": "scatter",
         "x": [
          0,
          1,
          2,
          3,
          4,
          5,
          6,
          7,
          8,
          9,
          10,
          11,
          12,
          13,
          14,
          15,
          16,
          17,
          18,
          19,
          20,
          21,
          22,
          23,
          24,
          25,
          26,
          27,
          28,
          29,
          30,
          31,
          32,
          33,
          34,
          35,
          36,
          37,
          38,
          39,
          40,
          41,
          42,
          43,
          44,
          45,
          46,
          47,
          48,
          49,
          50
         ],
         "xaxis": "x5",
         "y": [
          1110.7,
          128.32753408787565,
          106.98665172180026,
          51.74056609762003,
          59.0745305494527,
          67.17334277333704,
          94.0379393325955,
          93.85973136767156,
          62.19743877810425,
          41.052942860166006,
          32.10281083843192,
          41.64762270547555,
          55.722971279398216,
          21.56399571815441,
          84.12939001879931,
          23.458037373731386,
          59.569024029688336,
          55.703305243010675,
          66.3626753006642,
          45.93068951488482,
          87.82084822762539,
          61.643762628420575,
          13.725022895274437,
          84.35945424506603,
          49.94373269638136,
          82.07712714270644,
          15.108369996571263,
          27.11331643755794,
          46.34931709086185,
          40.84716489495733,
          29.6493564225576,
          68.87636884825616,
          74.68655415349446,
          38.91532265389202,
          64.10753895398715,
          18.836895578586777,
          62.83307862101048,
          69.8290636468541,
          47.95527145224219,
          52.55006435633887,
          36.248484334939874,
          60.14690962586477,
          20.208670169488606,
          34.149177532773756,
          62.3107306426399,
          21.44073385380746,
          34.41722422272275,
          30.101684887004055,
          56.07652248292602,
          27.55440925126759,
          23.22
         ],
         "yaxis": "y5"
        },
        {
         "mode": "lines+markers",
         "name": "Channel 3 spectrum",
         "type": "scatter",
         "x": [
          0,
          1,
          2,
          3,
          4,
          5,
          6,
          7,
          8,
          9,
          10,
          11,
          12,
          13,
          14,
          15,
          16,
          17,
          18,
          19,
          20,
          21,
          22,
          23,
          24,
          25,
          26,
          27,
          28,
          29,
          30,
          31,
          32,
          33,
          34,
          35,
          36,
          37,
          38,
          39,
          40,
          41,
          42,
          43,
          44,
          45,
          46,
          47,
          48,
          49,
          50
         ],
         "xaxis": "x7",
         "y": [
          1103.76,
          40.38843821765671,
          47.97071079244994,
          49.430078918220204,
          47.964342840317656,
          118.00197101628378,
          35.642438898047054,
          10.896243689443793,
          39.50054152644329,
          26.71864001837491,
          80.7751551284883,
          18.731040746263428,
          78.23033828349871,
          44.58064391826153,
          41.74047819536951,
          44.5493529885616,
          68.65989453069655,
          34.67535765461861,
          67.24588366020643,
          26.343965184946413,
          16.335173151118564,
          64.79987513662765,
          31.115465962664334,
          48.692501723251354,
          42.339139535436914,
          44.452446501851846,
          126.63996988709357,
          17.108026255940285,
          15.400463993516059,
          23.844504492579205,
          53.713371835778936,
          61.78135107667211,
          54.45761033917198,
          27.918274488487487,
          59.49525091379487,
          22.01681161372966,
          67.84295459478085,
          43.97817280477287,
          29.417752338150766,
          35.19539988131337,
          30.547099995301906,
          78.09074482195665,
          35.950610330133635,
          123.83867759010889,
          60.51628299797722,
          83.72243421531765,
          48.576737788112005,
          80.65096355877,
          67.83394977728,
          41.02061326575895,
          27.400000000000006
         ],
         "yaxis": "y7"
        },
        {
         "mode": "lines+markers",
         "name": "Channel 4 spectrum",
         "type": "scatter",
         "x": [
          0,
          1,
          2,
          3,
          4,
          5,
          6,
          7,
          8,
          9,
          10,
          11,
          12,
          13,
          14,
          15,
          16,
          17,
          18,
          19,
          20,
          21,
          22,
          23,
          24,
          25,
          26,
          27,
          28,
          29,
          30,
          31,
          32,
          33,
          34,
          35,
          36,
          37,
          38,
          39,
          40,
          41,
          42,
          43,
          44,
          45,
          46,
          47,
          48,
          49,
          50
         ],
         "xaxis": "x9",
         "y": [
          1043.46,
          87.63374749745651,
          91.5392334642393,
          44.65256357696519,
          80.16043087150409,
          42.83216507693646,
          60.24991312974023,
          91.7706067473253,
          53.09768977641089,
          45.007101709699974,
          42.47392671829371,
          50.88367707476127,
          24.883590935597123,
          4.924534325152966,
          57.199789587587055,
          28.334166317551812,
          17.819675400590725,
          24.724095038217857,
          59.645506302902376,
          50.431373471697626,
          58.227073013707816,
          61.95061084604838,
          51.09088194948312,
          57.310876613192846,
          32.65131377900859,
          21.842573108496172,
          28.69713155759449,
          58.17521998635967,
          17.47333166873526,
          94.5515203210003,
          98.40378422158885,
          46.343896913827955,
          62.21214027242433,
          42.77228440966091,
          51.15444397170036,
          81.00258330909165,
          56.743246053053255,
          62.96543848049808,
          83.84229212342069,
          101.49210491678174,
          81.87436209373688,
          69.77979156839464,
          83.92726170561076,
          66.10028886680584,
          83.62000556626806,
          61.77431627436311,
          61.84552070820989,
          78.7971352824762,
          47.14737979732854,
          69.53099709751201,
          12.54000000000001
         ],
         "yaxis": "y9"
        },
        {
         "mode": "lines+markers",
         "name": "Channel 5 spectrum",
         "type": "scatter",
         "x": [
          0,
          1,
          2,
          3,
          4,
          5,
          6,
          7,
          8,
          9,
          10,
          11,
          12,
          13,
          14,
          15,
          16,
          17,
          18,
          19,
          20,
          21,
          22,
          23,
          24,
          25,
          26,
          27,
          28,
          29,
          30,
          31,
          32,
          33,
          34,
          35,
          36,
          37,
          38,
          39,
          40,
          41,
          42,
          43,
          44,
          45,
          46,
          47,
          48,
          49,
          50
         ],
         "xaxis": "x11",
         "y": [
          988.18,
          82.96911624093632,
          44.88326990833714,
          51.83628624368615,
          62.80151414789161,
          37.57713552559085,
          58.13887748605718,
          33.976636170402436,
          38.59673338223327,
          50.49777586104668,
          37.39694544165376,
          57.79850844710559,
          57.36261887493958,
          95.10969426349077,
          43.85320155753652,
          22.383510722334293,
          120.32995600115244,
          64.0874733471264,
          43.44270358708898,
          16.465636866965298,
          71.07658623653091,
          17.452168850268993,
          64.33588516196562,
          76.58819339430428,
          91.0630928756339,
          19.084454406663028,
          70.77635055483421,
          50.76305514107526,
          30.489360986354036,
          21.8090905761462,
          5.010715680815669,
          88.23303657130182,
          78.72437876266027,
          66.32420911305216,
          32.17591283769445,
          54.814160354589184,
          62.069102593240935,
          41.84434802769367,
          6.436590746335704,
          29.820599317702648,
          61.75090030891036,
          75.92839729577777,
          48.613519518355254,
          12.968658049769235,
          23.30668858632302,
          98.244097828093,
          30.224095692416586,
          46.95208103191844,
          70.03018334213233,
          25.831660804108537,
          65.98
         ],
         "yaxis": "y11"
        },
        {
         "mode": "lines+markers",
         "name": "Channel 6 spectrum",
         "type": "scatter",
         "x": [
          0,
          1,
          2,
          3,
          4,
          5,
          6,
          7,
          8,
          9,
          10,
          11,
          12,
          13,
          14,
          15,
          16,
          17,
          18,
          19,
          20,
          21,
          22,
          23,
          24,
          25,
          26,
          27,
          28,
          29,
          30,
          31,
          32,
          33,
          34,
          35,
          36,
          37,
          38,
          39,
          40,
          41,
          42,
          43,
          44,
          45,
          46,
          47,
          48,
          49,
          50
         ],
         "xaxis": "x13",
         "y": [
          988.26,
          33.598729268128196,
          33.69944773569234,
          22.63514903102133,
          36.12576044890629,
          49.414863692052975,
          40.91264073561378,
          34.99458680717644,
          8.597963891413293,
          3.7275848802607534,
          109.69185924584288,
          159.3513625621241,
          34.91896504045603,
          60.95859272985856,
          10.623654516036638,
          67.48846403276724,
          50.151680188328776,
          36.57444503751464,
          13.72615145263107,
          65.03561417939146,
          77.34017054172938,
          52.38244188477695,
          8.238848933923036,
          15.331546493643236,
          34.9355756343719,
          52.842365579144925,
          68.40318692328329,
          56.35390816652636,
          48.61734997819669,
          64.89809585771522,
          42.95940892505613,
          36.85859568722898,
          17.660572500283827,
          72.58664368708327,
          85.29812689069121,
          51.808543954564264,
          76.53774886747868,
          33.30880282309921,
          33.5738787753164,
          17.780690351765195,
          5.326088675211053,
          17.555877683986914,
          52.155804882379805,
          7.160260037318989,
          72.73184127902334,
          42.971474748973726,
          20.332619072432745,
          103.38842503305138,
          71.47689543704146,
          91.24964849088379,
          80.97999999999998
         ],
         "yaxis": "y13"
        },
        {
         "mode": "lines+markers",
         "name": "Channel 7 spectrum",
         "type": "scatter",
         "x": [
          0,
          1,
          2,
          3,
          4,
          5,
          6,
          7,
          8,
          9,
          10,
          11,
          12,
          13,
          14,
          15,
          16,
          17,
          18,
          19,
          20,
          21,
          22,
          23,
          24,
          25,
          26,
          27,
          28,
          29,
          30,
          31,
          32,
          33,
          34,
          35,
          36,
          37,
          38,
          39,
          40,
          41,
          42,
          43,
          44,
          45,
          46,
          47,
          48,
          49,
          50
         ],
         "xaxis": "x15",
         "y": [
          1002.1,
          25.13814918365706,
          92.6307269960721,
          34.739062791679245,
          15.277275655238084,
          62.13956920725737,
          53.73563468166239,
          51.556110672965396,
          84.86749385695288,
          56.26073267494894,
          48.99205412956849,
          83.5756813435199,
          134.85594812105555,
          29.68843326505678,
          63.83774633147092,
          38.003538313425494,
          24.098691605549657,
          21.072839804628817,
          37.09592257644187,
          82.62705752346078,
          13.05884796034246,
          52.32454997555367,
          25.522773292322146,
          51.101169084318784,
          4.957001948894644,
          41.628706441589095,
          51.59894081831901,
          101.43979113393696,
          32.44685147526011,
          48.11877294952121,
          43.35141787952767,
          40.14640813699398,
          43.51445236595077,
          34.97135757324906,
          61.63664623990613,
          78.78074869420264,
          16.641612864586566,
          43.499240320134135,
          53.71175169522797,
          26.24167389355243,
          69.43616125585181,
          46.2381637766699,
          135.19588732788353,
          71.65931581002022,
          105.28124513798195,
          116.43325748933317,
          39.258522930809335,
          33.093483853861635,
          9.503904147220931,
          93.00931535167523,
          32.62
         ],
         "yaxis": "y15"
        },
        {
         "name": "Channel 0 frequency bins",
         "type": "bar",
         "x": [
          "0-1 Hz",
          "1-4 Hz",
          "4-8 Hz",
          "8-12 Hz",
          "12-30 Hz"
         ],
         "xaxis": "x2",
         "y": [
          0.9486233,
          0.47332773,
          0.5875348,
          0.4656082,
          0.4781919
         ],
         "yaxis": "y2"
        },
        {
         "name": "Channel 1 frequency bins",
         "type": "bar",
         "x": [
          "0-1 Hz",
          "1-4 Hz",
          "4-8 Hz",
          "8-12 Hz",
          "12-30 Hz"
         ],
         "xaxis": "x4",
         "y": [
          0.76471364,
          0.3119118,
          0.4884105,
          0.50519025,
          0.5352345
         ],
         "yaxis": "y4"
        },
        {
         "name": "Channel 2 frequency bins",
         "type": "bar",
         "x": [
          "0-1 Hz",
          "1-4 Hz",
          "4-8 Hz",
          "8-12 Hz",
          "12-30 Hz"
         ],
         "xaxis": "x6",
         "y": [
          0.8542587,
          0.11772349,
          0.5488065,
          0.5507171,
          0.50737554
         ],
         "yaxis": "y6"
        },
        {
         "name": "Channel 3 frequency bins",
         "type": "bar",
         "x": [
          "0-1 Hz",
          "1-4 Hz",
          "4-8 Hz",
          "8-12 Hz",
          "12-30 Hz"
         ],
         "xaxis": "x8",
         "y": [
          0.46715906,
          0.4226747,
          0.30797678,
          0.4960897,
          0.49338955
         ],
         "yaxis": "y8"
        },
        {
         "name": "Channel 4 frequency bins",
         "type": "bar",
         "x": [
          "0-1 Hz",
          "1-4 Hz",
          "4-8 Hz",
          "8-12 Hz",
          "12-30 Hz"
         ],
         "xaxis": "x10",
         "y": [
          0.9324318,
          0.31714627,
          0.4932279,
          0.3986112,
          0.42542368
         ],
         "yaxis": "y10"
        },
        {
         "name": "Channel 5 frequency bins",
         "type": "bar",
         "x": [
          "0-1 Hz",
          "1-4 Hz",
          "4-8 Hz",
          "8-12 Hz",
          "12-30 Hz"
         ],
         "xaxis": "x12",
         "y": [
          0.15337081,
          0.47572932,
          0.56831884,
          0.42468622,
          0.6117006
         ],
         "yaxis": "y12"
        },
        {
         "name": "Channel 6 frequency bins",
         "type": "bar",
         "x": [
          "0-1 Hz",
          "1-4 Hz",
          "4-8 Hz",
          "8-12 Hz",
          "12-30 Hz"
         ],
         "xaxis": "x14",
         "y": [
          0.99205244,
          0.59722304,
          0.7203804,
          0.50041735,
          0.4810263
         ],
         "yaxis": "y14"
        },
        {
         "name": "Channel 7 frequency bins",
         "type": "bar",
         "x": [
          "0-1 Hz",
          "1-4 Hz",
          "4-8 Hz",
          "8-12 Hz",
          "12-30 Hz"
         ],
         "xaxis": "x16",
         "y": [
          0.45264342,
          0.57732767,
          0.4083541,
          0.39746365,
          0.3768927
         ],
         "yaxis": "y16"
        }
       ],
       "layout": {
        "height": 1500,
        "template": {
         "data": {
          "bar": [
           {
            "error_x": {
             "color": "#2a3f5f"
            },
            "error_y": {
             "color": "#2a3f5f"
            },
            "marker": {
             "line": {
              "color": "#E5ECF6",
              "width": 0.5
             },
             "pattern": {
              "fillmode": "overlay",
              "size": 10,
              "solidity": 0.2
             }
            },
            "type": "bar"
           }
          ],
          "barpolar": [
           {
            "marker": {
             "line": {
              "color": "#E5ECF6",
              "width": 0.5
             },
             "pattern": {
              "fillmode": "overlay",
              "size": 10,
              "solidity": 0.2
             }
            },
            "type": "barpolar"
           }
          ],
          "carpet": [
           {
            "aaxis": {
             "endlinecolor": "#2a3f5f",
             "gridcolor": "white",
             "linecolor": "white",
             "minorgridcolor": "white",
             "startlinecolor": "#2a3f5f"
            },
            "baxis": {
             "endlinecolor": "#2a3f5f",
             "gridcolor": "white",
             "linecolor": "white",
             "minorgridcolor": "white",
             "startlinecolor": "#2a3f5f"
            },
            "type": "carpet"
           }
          ],
          "choropleth": [
           {
            "colorbar": {
             "outlinewidth": 0,
             "ticks": ""
            },
            "type": "choropleth"
           }
          ],
          "contour": [
           {
            "colorbar": {
             "outlinewidth": 0,
             "ticks": ""
            },
            "colorscale": [
             [
              0,
              "#0d0887"
             ],
             [
              0.1111111111111111,
              "#46039f"
             ],
             [
              0.2222222222222222,
              "#7201a8"
             ],
             [
              0.3333333333333333,
              "#9c179e"
             ],
             [
              0.4444444444444444,
              "#bd3786"
             ],
             [
              0.5555555555555556,
              "#d8576b"
             ],
             [
              0.6666666666666666,
              "#ed7953"
             ],
             [
              0.7777777777777778,
              "#fb9f3a"
             ],
             [
              0.8888888888888888,
              "#fdca26"
             ],
             [
              1,
              "#f0f921"
             ]
            ],
            "type": "contour"
           }
          ],
          "contourcarpet": [
           {
            "colorbar": {
             "outlinewidth": 0,
             "ticks": ""
            },
            "type": "contourcarpet"
           }
          ],
          "heatmap": [
           {
            "colorbar": {
             "outlinewidth": 0,
             "ticks": ""
            },
            "colorscale": [
             [
              0,
              "#0d0887"
             ],
             [
              0.1111111111111111,
              "#46039f"
             ],
             [
              0.2222222222222222,
              "#7201a8"
             ],
             [
              0.3333333333333333,
              "#9c179e"
             ],
             [
              0.4444444444444444,
              "#bd3786"
             ],
             [
              0.5555555555555556,
              "#d8576b"
             ],
             [
              0.6666666666666666,
              "#ed7953"
             ],
             [
              0.7777777777777778,
              "#fb9f3a"
             ],
             [
              0.8888888888888888,
              "#fdca26"
             ],
             [
              1,
              "#f0f921"
             ]
            ],
            "type": "heatmap"
           }
          ],
          "heatmapgl": [
           {
            "colorbar": {
             "outlinewidth": 0,
             "ticks": ""
            },
            "colorscale": [
             [
              0,
              "#0d0887"
             ],
             [
              0.1111111111111111,
              "#46039f"
             ],
             [
              0.2222222222222222,
              "#7201a8"
             ],
             [
              0.3333333333333333,
              "#9c179e"
             ],
             [
              0.4444444444444444,
              "#bd3786"
             ],
             [
              0.5555555555555556,
              "#d8576b"
             ],
             [
              0.6666666666666666,
              "#ed7953"
             ],
             [
              0.7777777777777778,
              "#fb9f3a"
             ],
             [
              0.8888888888888888,
              "#fdca26"
             ],
             [
              1,
              "#f0f921"
             ]
            ],
            "type": "heatmapgl"
           }
          ],
          "histogram": [
           {
            "marker": {
             "pattern": {
              "fillmode": "overlay",
              "size": 10,
              "solidity": 0.2
             }
            },
            "type": "histogram"
           }
          ],
          "histogram2d": [
           {
            "colorbar": {
             "outlinewidth": 0,
             "ticks": ""
            },
            "colorscale": [
             [
              0,
              "#0d0887"
             ],
             [
              0.1111111111111111,
              "#46039f"
             ],
             [
              0.2222222222222222,
              "#7201a8"
             ],
             [
              0.3333333333333333,
              "#9c179e"
             ],
             [
              0.4444444444444444,
              "#bd3786"
             ],
             [
              0.5555555555555556,
              "#d8576b"
             ],
             [
              0.6666666666666666,
              "#ed7953"
             ],
             [
              0.7777777777777778,
              "#fb9f3a"
             ],
             [
              0.8888888888888888,
              "#fdca26"
             ],
             [
              1,
              "#f0f921"
             ]
            ],
            "type": "histogram2d"
           }
          ],
          "histogram2dcontour": [
           {
            "colorbar": {
             "outlinewidth": 0,
             "ticks": ""
            },
            "colorscale": [
             [
              0,
              "#0d0887"
             ],
             [
              0.1111111111111111,
              "#46039f"
             ],
             [
              0.2222222222222222,
              "#7201a8"
             ],
             [
              0.3333333333333333,
              "#9c179e"
             ],
             [
              0.4444444444444444,
              "#bd3786"
             ],
             [
              0.5555555555555556,
              "#d8576b"
             ],
             [
              0.6666666666666666,
              "#ed7953"
             ],
             [
              0.7777777777777778,
              "#fb9f3a"
             ],
             [
              0.8888888888888888,
              "#fdca26"
             ],
             [
              1,
              "#f0f921"
             ]
            ],
            "type": "histogram2dcontour"
           }
          ],
          "mesh3d": [
           {
            "colorbar": {
             "outlinewidth": 0,
             "ticks": ""
            },
            "type": "mesh3d"
           }
          ],
          "parcoords": [
           {
            "line": {
             "colorbar": {
              "outlinewidth": 0,
              "ticks": ""
             }
            },
            "type": "parcoords"
           }
          ],
          "pie": [
           {
            "automargin": true,
            "type": "pie"
           }
          ],
          "scatter": [
           {
            "fillpattern": {
             "fillmode": "overlay",
             "size": 10,
             "solidity": 0.2
            },
            "type": "scatter"
           }
          ],
          "scatter3d": [
           {
            "line": {
             "colorbar": {
              "outlinewidth": 0,
              "ticks": ""
             }
            },
            "marker": {
             "colorbar": {
              "outlinewidth": 0,
              "ticks": ""
             }
            },
            "type": "scatter3d"
           }
          ],
          "scattercarpet": [
           {
            "marker": {
             "colorbar": {
              "outlinewidth": 0,
              "ticks": ""
             }
            },
            "type": "scattercarpet"
           }
          ],
          "scattergeo": [
           {
            "marker": {
             "colorbar": {
              "outlinewidth": 0,
              "ticks": ""
             }
            },
            "type": "scattergeo"
           }
          ],
          "scattergl": [
           {
            "marker": {
             "colorbar": {
              "outlinewidth": 0,
              "ticks": ""
             }
            },
            "type": "scattergl"
           }
          ],
          "scattermapbox": [
           {
            "marker": {
             "colorbar": {
              "outlinewidth": 0,
              "ticks": ""
             }
            },
            "type": "scattermapbox"
           }
          ],
          "scatterpolar": [
           {
            "marker": {
             "colorbar": {
              "outlinewidth": 0,
              "ticks": ""
             }
            },
            "type": "scatterpolar"
           }
          ],
          "scatterpolargl": [
           {
            "marker": {
             "colorbar": {
              "outlinewidth": 0,
              "ticks": ""
             }
            },
            "type": "scatterpolargl"
           }
          ],
          "scatterternary": [
           {
            "marker": {
             "colorbar": {
              "outlinewidth": 0,
              "ticks": ""
             }
            },
            "type": "scatterternary"
           }
          ],
          "surface": [
           {
            "colorbar": {
             "outlinewidth": 0,
             "ticks": ""
            },
            "colorscale": [
             [
              0,
              "#0d0887"
             ],
             [
              0.1111111111111111,
              "#46039f"
             ],
             [
              0.2222222222222222,
              "#7201a8"
             ],
             [
              0.3333333333333333,
              "#9c179e"
             ],
             [
              0.4444444444444444,
              "#bd3786"
             ],
             [
              0.5555555555555556,
              "#d8576b"
             ],
             [
              0.6666666666666666,
              "#ed7953"
             ],
             [
              0.7777777777777778,
              "#fb9f3a"
             ],
             [
              0.8888888888888888,
              "#fdca26"
             ],
             [
              1,
              "#f0f921"
             ]
            ],
            "type": "surface"
           }
          ],
          "table": [
           {
            "cells": {
             "fill": {
              "color": "#EBF0F8"
             },
             "line": {
              "color": "white"
             }
            },
            "header": {
             "fill": {
              "color": "#C8D4E3"
             },
             "line": {
              "color": "white"
             }
            },
            "type": "table"
           }
          ]
         },
         "layout": {
          "annotationdefaults": {
           "arrowcolor": "#2a3f5f",
           "arrowhead": 0,
           "arrowwidth": 1
          },
          "autotypenumbers": "strict",
          "coloraxis": {
           "colorbar": {
            "outlinewidth": 0,
            "ticks": ""
           }
          },
          "colorscale": {
           "diverging": [
            [
             0,
             "#8e0152"
            ],
            [
             0.1,
             "#c51b7d"
            ],
            [
             0.2,
             "#de77ae"
            ],
            [
             0.3,
             "#f1b6da"
            ],
            [
             0.4,
             "#fde0ef"
            ],
            [
             0.5,
             "#f7f7f7"
            ],
            [
             0.6,
             "#e6f5d0"
            ],
            [
             0.7,
             "#b8e186"
            ],
            [
             0.8,
             "#7fbc41"
            ],
            [
             0.9,
             "#4d9221"
            ],
            [
             1,
             "#276419"
            ]
           ],
           "sequential": [
            [
             0,
             "#0d0887"
            ],
            [
             0.1111111111111111,
             "#46039f"
            ],
            [
             0.2222222222222222,
             "#7201a8"
            ],
            [
             0.3333333333333333,
             "#9c179e"
            ],
            [
             0.4444444444444444,
             "#bd3786"
            ],
            [
             0.5555555555555556,
             "#d8576b"
            ],
            [
             0.6666666666666666,
             "#ed7953"
            ],
            [
             0.7777777777777778,
             "#fb9f3a"
            ],
            [
             0.8888888888888888,
             "#fdca26"
            ],
            [
             1,
             "#f0f921"
            ]
           ],
           "sequentialminus": [
            [
             0,
             "#0d0887"
            ],
            [
             0.1111111111111111,
             "#46039f"
            ],
            [
             0.2222222222222222,
             "#7201a8"
            ],
            [
             0.3333333333333333,
             "#9c179e"
            ],
            [
             0.4444444444444444,
             "#bd3786"
            ],
            [
             0.5555555555555556,
             "#d8576b"
            ],
            [
             0.6666666666666666,
             "#ed7953"
            ],
            [
             0.7777777777777778,
             "#fb9f3a"
            ],
            [
             0.8888888888888888,
             "#fdca26"
            ],
            [
             1,
             "#f0f921"
            ]
           ]
          },
          "colorway": [
           "#636efa",
           "#EF553B",
           "#00cc96",
           "#ab63fa",
           "#FFA15A",
           "#19d3f3",
           "#FF6692",
           "#B6E880",
           "#FF97FF",
           "#FECB52"
          ],
          "font": {
           "color": "#2a3f5f"
          },
          "geo": {
           "bgcolor": "white",
           "lakecolor": "white",
           "landcolor": "#E5ECF6",
           "showlakes": true,
           "showland": true,
           "subunitcolor": "white"
          },
          "hoverlabel": {
           "align": "left"
          },
          "hovermode": "closest",
          "mapbox": {
           "style": "light"
          },
          "paper_bgcolor": "white",
          "plot_bgcolor": "#E5ECF6",
          "polar": {
           "angularaxis": {
            "gridcolor": "white",
            "linecolor": "white",
            "ticks": ""
           },
           "bgcolor": "#E5ECF6",
           "radialaxis": {
            "gridcolor": "white",
            "linecolor": "white",
            "ticks": ""
           }
          },
          "scene": {
           "xaxis": {
            "backgroundcolor": "#E5ECF6",
            "gridcolor": "white",
            "gridwidth": 2,
            "linecolor": "white",
            "showbackground": true,
            "ticks": "",
            "zerolinecolor": "white"
           },
           "yaxis": {
            "backgroundcolor": "#E5ECF6",
            "gridcolor": "white",
            "gridwidth": 2,
            "linecolor": "white",
            "showbackground": true,
            "ticks": "",
            "zerolinecolor": "white"
           },
           "zaxis": {
            "backgroundcolor": "#E5ECF6",
            "gridcolor": "white",
            "gridwidth": 2,
            "linecolor": "white",
            "showbackground": true,
            "ticks": "",
            "zerolinecolor": "white"
           }
          },
          "shapedefaults": {
           "line": {
            "color": "#2a3f5f"
           }
          },
          "ternary": {
           "aaxis": {
            "gridcolor": "white",
            "linecolor": "white",
            "ticks": ""
           },
           "baxis": {
            "gridcolor": "white",
            "linecolor": "white",
            "ticks": ""
           },
           "bgcolor": "#E5ECF6",
           "caxis": {
            "gridcolor": "white",
            "linecolor": "white",
            "ticks": ""
           }
          },
          "title": {
           "x": 0.05
          },
          "xaxis": {
           "automargin": true,
           "gridcolor": "white",
           "linecolor": "white",
           "ticks": "",
           "title": {
            "standoff": 15
           },
           "zerolinecolor": "white",
           "zerolinewidth": 2
          },
          "yaxis": {
           "automargin": true,
           "gridcolor": "white",
           "linecolor": "white",
           "ticks": "",
           "title": {
            "standoff": 15
           },
           "zerolinecolor": "white",
           "zerolinewidth": 2
          }
         }
        },
        "width": 2000,
        "xaxis": {
         "anchor": "y",
         "domain": [
          0,
          0.45
         ]
        },
        "xaxis10": {
         "anchor": "y10",
         "domain": [
          0.55,
          1
         ]
        },
        "xaxis11": {
         "anchor": "y11",
         "domain": [
          0,
          0.45
         ]
        },
        "xaxis12": {
         "anchor": "y12",
         "domain": [
          0.55,
          1
         ]
        },
        "xaxis13": {
         "anchor": "y13",
         "domain": [
          0,
          0.45
         ]
        },
        "xaxis14": {
         "anchor": "y14",
         "domain": [
          0.55,
          1
         ]
        },
        "xaxis15": {
         "anchor": "y15",
         "domain": [
          0,
          0.45
         ]
        },
        "xaxis16": {
         "anchor": "y16",
         "domain": [
          0.55,
          1
         ]
        },
        "xaxis2": {
         "anchor": "y2",
         "domain": [
          0.55,
          1
         ]
        },
        "xaxis3": {
         "anchor": "y3",
         "domain": [
          0,
          0.45
         ]
        },
        "xaxis4": {
         "anchor": "y4",
         "domain": [
          0.55,
          1
         ]
        },
        "xaxis5": {
         "anchor": "y5",
         "domain": [
          0,
          0.45
         ]
        },
        "xaxis6": {
         "anchor": "y6",
         "domain": [
          0.55,
          1
         ]
        },
        "xaxis7": {
         "anchor": "y7",
         "domain": [
          0,
          0.45
         ]
        },
        "xaxis8": {
         "anchor": "y8",
         "domain": [
          0.55,
          1
         ]
        },
        "xaxis9": {
         "anchor": "y9",
         "domain": [
          0,
          0.45
         ]
        },
        "yaxis": {
         "anchor": "x",
         "domain": [
          0.9078124999999999,
          0.9999999999999999
         ]
        },
        "yaxis10": {
         "anchor": "x10",
         "domain": [
          0.38906250000000003,
          0.48125000000000007
         ]
        },
        "yaxis11": {
         "anchor": "x11",
         "domain": [
          0.259375,
          0.3515625
         ]
        },
        "yaxis12": {
         "anchor": "x12",
         "domain": [
          0.259375,
          0.3515625
         ]
        },
        "yaxis13": {
         "anchor": "x13",
         "domain": [
          0.1296875,
          0.22187500000000002
         ]
        },
        "yaxis14": {
         "anchor": "x14",
         "domain": [
          0.1296875,
          0.22187500000000002
         ]
        },
        "yaxis15": {
         "anchor": "x15",
         "domain": [
          0,
          0.0921875
         ]
        },
        "yaxis16": {
         "anchor": "x16",
         "domain": [
          0,
          0.0921875
         ]
        },
        "yaxis2": {
         "anchor": "x2",
         "domain": [
          0.9078124999999999,
          0.9999999999999999
         ]
        },
        "yaxis3": {
         "anchor": "x3",
         "domain": [
          0.778125,
          0.8703124999999999
         ]
        },
        "yaxis4": {
         "anchor": "x4",
         "domain": [
          0.778125,
          0.8703124999999999
         ]
        },
        "yaxis5": {
         "anchor": "x5",
         "domain": [
          0.6484375,
          0.740625
         ]
        },
        "yaxis6": {
         "anchor": "x6",
         "domain": [
          0.6484375,
          0.740625
         ]
        },
        "yaxis7": {
         "anchor": "x7",
         "domain": [
          0.51875,
          0.6109375
         ]
        },
        "yaxis8": {
         "anchor": "x8",
         "domain": [
          0.51875,
          0.6109375
         ]
        },
        "yaxis9": {
         "anchor": "x9",
         "domain": [
          0.38906250000000003,
          0.48125000000000007
         ]
        }
       }
      }
     },
     "metadata": {},
     "output_type": "display_data"
    }
   ],
   "source": [
    "trainer.env.render()"
   ]
  },
  {
   "cell_type": "code",
   "execution_count": null,
   "metadata": {},
   "outputs": [],
   "source": []
  }
 ],
 "metadata": {
  "kernelspec": {
   "display_name": "Python 3",
   "language": "python",
   "name": "python3"
  },
  "language_info": {
   "codemirror_mode": {
    "name": "ipython",
    "version": 3
   },
   "file_extension": ".py",
   "mimetype": "text/x-python",
   "name": "python",
   "nbconvert_exporter": "python",
   "pygments_lexer": "ipython3",
   "version": "3.10.12"
  }
 },
 "nbformat": 4,
 "nbformat_minor": 2
}
