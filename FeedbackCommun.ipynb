{
 "cells": [
  {
   "cell_type": "code",
   "execution_count": 12,
   "metadata": {},
   "outputs": [],
   "source": [
    "import websocket\n",
    "import json\n",
    "import gym\n",
    "from gym import spaces\n",
    "import numpy as np\n",
    "import numexpr as ne"
   ]
  },
  {
   "cell_type": "code",
   "execution_count": 13,
   "metadata": {},
   "outputs": [
    {
     "name": "stderr",
     "output_type": "stream",
     "text": [
      "--- request header ---\n",
      "GET / HTTP/1.1\n",
      "Upgrade: websocket\n",
      "Host: 10.42.0.231\n",
      "Origin: http://10.42.0.231\n",
      "Sec-WebSocket-Key: S7Opfo7QrO2vKJ8ueVMADA==\n",
      "Sec-WebSocket-Version: 13\n",
      "Connection: Upgrade\n",
      "\n",
      "\n",
      "-----------------------\n",
      "--- response header ---\n",
      "HTTP/1.1 101 Switching Protocols\n",
      "Server: arduino-WebSocketsServer\n",
      "Upgrade: websocket\n",
      "Connection: Upgrade\n",
      "Sec-WebSocket-Version: 13\n",
      "Sec-WebSocket-Accept: MMoTmSOWyrsj+xOwsMVnwIWn3oU=\n",
      "-----------------------\n"
     ]
    }
   ],
   "source": [
    "websocket.enableTrace(True)\n",
    "ws=websocket.WebSocket()\n",
    "ws.connect(\"ws://10.42.0.231:80/\")"
   ]
  },
  {
   "cell_type": "code",
   "execution_count": 56,
   "metadata": {},
   "outputs": [
    {
     "data": {
      "text/plain": [
       "range(0, 100)"
      ]
     },
     "execution_count": 56,
     "metadata": {},
     "output_type": "execute_result"
    }
   ],
   "source": [
    "range(0, 100)"
   ]
  },
  {
   "cell_type": "code",
   "execution_count": 60,
   "metadata": {},
   "outputs": [
    {
     "data": {
      "text/plain": [
       "(2, 3)"
      ]
     },
     "execution_count": 60,
     "metadata": {},
     "output_type": "execute_result"
    }
   ],
   "source": [
    "import numpy as np\n",
    "np.array([[1,2,3],[1,2,3]]).shape"
   ]
  },
  {
   "cell_type": "code",
   "execution_count": 114,
   "metadata": {},
   "outputs": [],
   "source": [
    "import websocket\n",
    "import json\n",
    "import gym\n",
    "from gym import spaces\n",
    "import numpy as np\n",
    "import re\n",
    "import numexpr as ne\n",
    "import time\n",
    "from collections import OrderedDict\n",
    "import logging\n",
    "import plotly.graph_objects as go\n",
    "import plotly.subplots as sp\n",
    "import plotly\n",
    "import json\n",
    "import os\n",
    "plotly.io.json.config.default_engine = 'orjson'\n",
    "\n",
    "#steps are not implemented for now\n",
    "out_dict={'leddelay':{'names':['leddelay'], 'value_range':{'min':1, 'max':10001, 'step':100}, 'init_val':{'leddelay':10}},\n",
    "          'ledcontrols':{'names':['lv1r','lv1g','lv1b','lv2r','lv2g','lv2b','lv3r','lv3g','lv3b','lv4r','lv4g','lv4b', 'lv5r','lv5g','lv5b','lv6r','lv6g',\n",
    "          'lv6b',\n",
    "          'lv7r',\n",
    "          'lv7g',\n",
    "          'lv7b',\n",
    "          'lv8r',\n",
    "          'lv8g',\n",
    "          'lv8b'], 'value_range':{'min':10, 'max':255, 'step':10}, 'init_val':{'lv1r':255, 'lv1g':0, 'lv1b':0, \n",
    "                                                                               'lv2r':0, 'lv2b':255, 'lv2b':0, \n",
    "                                                                               'lv3r':0, 'lv3g':0, 'lv3b':255, \n",
    "                                                                               'lv4r':255, 'lv4g':255, 'lv4b':255, \n",
    "                                                                               'lv5r':0,   'lv5g':255, 'lv5b':255, \n",
    "                                                                               'lv6r':255, 'lv6g':0,   'lv6b':255, \n",
    "                                                                               'lv7r':255, 'lv7b':255, 'lv7b':0, \n",
    "                                                                               'lv8r':255, 'lv8g':0, 'lv8b':0}},\n",
    "          'sound_wave_frequencies':{'names':['wave_1_freq','wave_2_freq'], 'value_range':{'min':1, 'max':30000, 'step':100}, 'init_val':{'wave_1_freq':440, \n",
    "                                                                                                                                         'wave_2_freq':440}},\n",
    "          'panner_phasor_frequencies':{'names':['panner_freq', 'phasor_1_freq', 'phasor_2_freq','phasor_1_min',  'phasor_2_min', 'phasor_1_dif', 'phasor_2_dif'],  'value_range':{'min':1, 'max':50, 'step':1},\n",
    "                                       'init_val':{'panner_freq':1,\n",
    "                                                    'phasor_1_freq':10,\n",
    "                                                    'phasor_2_freq':10,\n",
    "                                                    'phasor_1_min':1,\n",
    "                                                    'phasor_2_min':1,\n",
    "                                                    'phasor_1_dif':30,\n",
    "                                                    'phasor_2_dif':30}},\n",
    "          'panner_div':{'names':['panner_div'], 'value_range':{'min':1, 'max':5, 'step':1}, 'init_val':{'panner_div':2}},\n",
    "          'sound_wave_shapes':{'names':['wave_1_type', 'wave_2_type'], 'value_range':{'min':0, 'max':3, 'step':1}, \n",
    "                               'init_val':{'wave_1_type':0,\n",
    "                                           'wave_2_type':0}},\n",
    "          'maxibolume':{'names':['maxivolume'], 'value_range':{'min':0, 'max':50, 'step':10}, \n",
    "                        'init_val':{'maxivolume':10}}\n",
    "}\n",
    "out_order=['lv1r','lv1g','lv1b','lv2r','lv2g','lv2b','lv3r','lv3g','lv3b','lv4r','lv4g','lv4b','lv5r','lv5g','lv5b','lv6r','lv6g','lv6b',\n",
    "          'lv7r','lv7g','lv7b','lv8r','lv8g','lv8b','leddelay','wave_1_freq','wave_2_freq','panner_freq','panner_div','phasor_1_freq',\n",
    "          'phasor_1_min','phasor_1_dif','phasor_2_freq','phasor_2_min','phasor_2_dif','maxivolume','wave_1_type','wave_2_type']\n",
    "\n",
    "\n",
    "class SFSystemCommunicator(gym.Env):\n",
    "    def __init__(self, out_dict=out_dict, out_order=out_order,n_input_channels=8, channels_of_interest_inds=list(range(8)), n_timepoints_per_sample=100, max_sfsystem_output=1023,reward_formula_string='(fbin_05_4_ch0+freq_30_ch0)/fbin_12_30_ch0', \n",
    "                 fbins=[(0.001, 0.5), (0.5, 4), (4,8), (8,12), (12,30)], delay=10,\n",
    "                 use_raw_in_os_def=False, use_freq_in_os_def=False, use_fbins_in_os_def=False, device_address=\"ws://10.42.0.231:80/\",\n",
    "                 step_stim_length_millis=10000, episode_time_seconds=60, log_and_plot_data=True, render_data=True, return_plotly_figs=False,\n",
    "                 logfn='current_training.log', write_log=True, write_signals=True, signal_plot_width=2000, signal_plot_height=1500, training_plot_width=2000, training_plot_height=500):\n",
    "        self.device_address=device_address\n",
    "        self.step_stim_length=step_stim_length_millis/1000\n",
    "        self.episode_time_seconds=episode_time_seconds\n",
    "        self.n_steps_per_episode=int(self.episode_time_seconds*1000/self.step_stim_length)\n",
    "        self.cur_step=0\n",
    "        self.render_data=render_data\n",
    "        self.return_plotly_figs=return_plotly_figs\n",
    "        \n",
    "        self.out_dict=out_dict\n",
    "        self.out_order=out_order\n",
    "        self.max_sfsystem_output=max_sfsystem_output\n",
    "        self.n_timepoints_per_sample=n_timepoints_per_sample\n",
    "        self.n_input_channels=n_input_channels\n",
    "        self.reward_formula_string=reward_formula_string\n",
    "\n",
    "        self.delay=delay\n",
    "\n",
    "        self.record_raw=use_raw_in_os_def\n",
    "\n",
    "        self.do_fft=use_freq_in_os_def\n",
    "        self.record_fft=use_freq_in_os_def\n",
    "\n",
    "        self.do_fbins=use_fbins_in_os_def\n",
    "        self.record_fbins=use_fbins_in_os_def\n",
    "\n",
    "        self.fbins=fbins\n",
    "        self.n_fbins=len(self.fbins)\n",
    "\n",
    "        self.channels_of_interest_inds=channels_of_interest_inds\n",
    "        self.channels_of_interest_inds.sort()\n",
    "        self.n_channels_of_interest=len(self.channels_of_interest_inds)\n",
    "\n",
    "        self.set_fft_params()\n",
    "\n",
    "        self.timesleep_period=0.1\n",
    "\n",
    "        if 'raw' in self.reward_formula_string:\n",
    "            self.record_raw=True\n",
    "        if 'freq' in self.reward_formula_string:\n",
    "            self.record_fft=True\n",
    "        if 'fbin' in self.reward_formula_string:\n",
    "            self.record_fbins=True\n",
    "\n",
    "        if self.record_fbins:\n",
    "            self.do_fft=True\n",
    "            self.do_fbins=True\n",
    "        \n",
    "        self.init_action_space()\n",
    "        self.init_observation_space()\n",
    "        self.set_value_dict_for_reward_function()\n",
    "        self.connect()\n",
    "        print(self.connection_status)\n",
    "        self.set_delay_and_data_transfer_buffer_size()\n",
    "        print('Delay and data transfer buffer size are set up.')\n",
    "        self.set_default_actions()\n",
    "        print('Default actions are set.')\n",
    "\n",
    "\n",
    "        #logging part\n",
    "        self.logfn=logfn\n",
    "        self.write_log=write_log\n",
    "        self.write_signals=write_signals\n",
    "        self.cur_episode_rewards=[]\n",
    "        self.previous_episodes_max_rewards=[]\n",
    "        self.log_and_plot_data=log_and_plot_data\n",
    "\n",
    "        self.episode_max_reward=0\n",
    "        self.overall_max_reward=0\n",
    "        self.best_episode_reward_now=False\n",
    "        self.best_overall_reward_now=False\n",
    "        self.current_episode=0\n",
    "        self.set_fbin_x_axis_labels()\n",
    "        if self.log_and_plot_data:\n",
    "            if self.write_log:\n",
    "                logging.basicConfig(filename=self.logfn, level=logging.INFO)\n",
    "        self.signal_plot_width=signal_plot_width\n",
    "        self.signal_plot_height=signal_plot_height\n",
    "        self.training_plot_width=training_plot_width\n",
    "        self.training_plot_height=training_plot_height\n",
    "\n",
    "\n",
    "\n",
    "    def help(self):\n",
    "        print('Reward formula can use the following operators: //, *, **, -, +')\n",
    "        print('It can refer to channels using \"ch\" prefix followed by an index (starting with 0) e.g. ch0')\n",
    "        print('It can refer to values of frequency bins in specific channels e.g. fbin_10_50_ch0')\n",
    "        print('The corresponding freqency bins must be present among fbins passed at the initialization step')\n",
    "        print('fbins should be passed in the form of [(b1 min, b1max),...(bn min, bn max)]')\n",
    "        print('It can refer to specific frequencies from fft e.g. freq_50_ch0')\n",
    "        print('For fractional frequencies (e.g. 0.5) do not use points, just start with 0 (e.g. 05)')\n",
    "        print('Some examples:')\n",
    "        print('1. (freq_50_ch0+fbin_0_10_ch0)/(fbin_20_30_ch0)')\n",
    "        print('2. freq_5_ch0/freq_10_ch0')\n",
    "        print('3. fbin_05_5_ch0')\n",
    "    def clear_log(self):\n",
    "        if os.path.isfile(self.logfn):\n",
    "            os.remove(self.logfn)\n",
    "    def set_value_dict_for_reward_function(self):\n",
    "        ftokens=re.split(r'[+/)(*]+',self.reward_formula_string)\n",
    "        self.rewarddict={}\n",
    "        self.tokendict={}\n",
    "        for token in ftokens:\n",
    "            if 'ch' in token:\n",
    "                self.rewarddict[token]=None\n",
    "                self.tokendict[token]={}\n",
    "                subtokens=token.split('_')\n",
    "                self.tokendict[token]['datatype']=subtokens[0]\n",
    "                for subtoken in subtokens:\n",
    "                    if 'ch' in subtoken:\n",
    "                        self.tokendict[token]['channelindex']=int(subtoken.split('h')[1])\n",
    "                    if subtoken=='freq':\n",
    "                        tfreq=float(subtokens[1])\n",
    "                        self.tokendict[token]['freqdata']=tfreq\n",
    "                        closestind=np.argmin(np.abs(self.f_plot - tfreq))\n",
    "                        self.tokendict[token]['closest_fft_ind']=closestind\n",
    "                        print(f'Token {token}:')\n",
    "                        print(f'Closest fft frequency {self.f_plot[closestind]}')\n",
    "                    if subtoken=='fbin':\n",
    "                        bin_lst=[subtokens[1],subtokens[2]]\n",
    "                        for i in range(2):\n",
    "                            val=bin_lst[i]\n",
    "                            if val.startswith('0'):\n",
    "                                val=float('0.'+val[1:])\n",
    "                            else:\n",
    "                                val=float(val)\n",
    "                            bin_lst[i]=val\n",
    "                        self.tokendict[token]['freqdata']=tuple(bin_lst)\n",
    "                        self.tokendict[token]['fbin_idx']=self.fbins.index(self.tokendict[token]['freqdata'])\n",
    "    def set_default_actions(self):\n",
    "        observation_space_sample=self.observation_space.sample()\n",
    "        for key1 in observation_space_sample:\n",
    "            for key2 in self.out_dict:\n",
    "                if key1 in self.out_dict[key2]['init_val']:\n",
    "                    observation_space_sample[key2]=self.out_dict[key1]['init_val'][key2]\n",
    "\n",
    "        self.default_actions=observation_space_sample\n",
    "    def populate_rewarddict(self, observations):\n",
    "        for token, tokendata in self.tokendict.items():\n",
    "            tartype=tokendata['datatype']\n",
    "            tarchannelidx=tokendata['channelindex']\n",
    "            if tartype=='raw':\n",
    "                tarobs=observations['raw_data']\n",
    "                tarobs=tarobs[:,tarchannelidx]\n",
    "                res=np.mean(tarobs) #here we use the mean, but this may be changed\n",
    "            if tartype=='freq':\n",
    "                #tarfreq=tokendata['freqdata']\n",
    "                taridx=tokendata['closest_fft_ind']\n",
    "                tarobs=observations['fft'][tarchannelidx]\n",
    "                res=tarobs[taridx]\n",
    "            if tartype=='fbin':\n",
    "                tarobs=observations['fbins'][tarchannelidx]\n",
    "                res=tarobs[tokendata['fbin_idx']]\n",
    "            self.rewarddict[token]=res\n",
    "    def get_reward(self, observations=None, toreturn=False):\n",
    "        if str(observations) != \"None\":\n",
    "            observations=self.observation_space.sample() #if no observations are given extrernally, sample from the observation space\n",
    "        self.populate_rewarddict(observations)\n",
    "        self.reward=ne.evaluate(self.reward_formula_string, local_dict=self.rewarddict)\n",
    "        if toreturn==True:\n",
    "            return self.reward\n",
    "    def init_action_space(self):\n",
    "        self.action_space=spaces.Dict({})\n",
    "        for key, val in self.out_dict.items():\n",
    "            spacesnames=val['names']\n",
    "            spacesrange=val['value_range']\n",
    "            for spacename in spacesnames:\n",
    "                self.action_space.spaces[spacename]=spaces.Box(low=spacesrange['min'], high=spacesrange['max'], shape=(1,), dtype=int)\n",
    "    def init_observation_space(self):\n",
    "        self.observation_space=spaces.Dict({})\n",
    "        self.observation_space['raw_data']=spaces.Box(low=0, high=self.max_sfsystem_output, shape=(self.n_timepoints_per_sample, self.n_channels_of_interest), dtype=int) #n timepoints per sample rows, n input channels columns, signals should be normalized\n",
    "        if self.record_fft:\n",
    "            self.observation_space['fft']=spaces.Box(low=0.0, high=1.0, shape=(self.n_channels_of_interest, self.n_fft_values))\n",
    "        if self.record_fbins:\n",
    "            self.observation_space['fbins']=spaces.Box(low=0.0, high=1.0, shape=(self.n_channels_of_interest, self.n_fbins))\n",
    "    def set_fft_params(self):\n",
    "        self.sampling_frequency=int(1000/self.delay)\n",
    "        self.max_possible_fft_frequency=self.sampling_frequency/2\n",
    "        self.sampling_period=int(self.delay*self.n_timepoints_per_sample)\n",
    "        self.timesteps=np.linspace(0, (self.n_timepoints_per_sample-1)*self.delay, self.n_timepoints_per_sample)\n",
    "        self.fstep=self.sampling_frequency/self.n_timepoints_per_sample\n",
    "        self.f=np.linspace(0, (self.n_timepoints_per_sample-1)*self.fstep, self.n_timepoints_per_sample)\n",
    "        self.f_plot=self.f[0:int(self.n_timepoints_per_sample/2 + 1)]\n",
    "        self.n_fft_values=len(self.f_plot)\n",
    "\n",
    "    def connect(self):\n",
    "        websocket.enableTrace(True)\n",
    "        self.ws=websocket.WebSocket()\n",
    "        self.ws.connect(self.device_address)\n",
    "        self.connection_status=self.ws.recv()\n",
    "    \n",
    "    def get_fft_fromsignal(self, raw_singlech):\n",
    "        X=np.fft.fft(raw_singlech)\n",
    "        X_mag=np.abs(X)/self.n_timepoints_per_sample\n",
    "        X_mag_plot=2*X_mag[0:int(self.n_timepoints_per_sample/2 + 1)]\n",
    "        return X_mag_plot\n",
    "\n",
    "    def get_fft_allchannels(self, raw_data):\n",
    "        if str(raw_data) != \"None\":\n",
    "            raw_data=self.observation_space.sample()['raw_data']\n",
    "\n",
    "        fft_data=[]\n",
    "        for chindex in range(raw_data.shape[1]):\n",
    "            chraw=raw_data[:,chindex]\n",
    "            chfft=self.get_fft_fromsignal(chraw)\n",
    "            fft_data.append(chfft)\n",
    "        fft_data=np.array(fft_data)\n",
    "        return fft_data\n",
    "    \n",
    "    def get_bin_values_from_signal(self, fft_signlech):\n",
    "        fpl=np.array(self.f_plot)\n",
    "        xmp=np.array(fft_signlech)\n",
    "        magnitudes=[]\n",
    "        for low, high in self.fbins:\n",
    "            mask = (fpl >= low) & (fpl < high)\n",
    "            magnitude = np.abs(xmp[mask]).mean() #here can be other functions\n",
    "            magnitudes.append(magnitude)\n",
    "        magnitudes=np.array(magnitudes)\n",
    "        return magnitudes\n",
    "    def set_fbin_x_axis_labels(self):\n",
    "        self.fbin_axis_labels=[]\n",
    "        for low, high in self.fbins:\n",
    "            binname=f'{low}-{high} Hz'\n",
    "            self.fbin_axis_labels.append(binname)\n",
    "    def get_bin_values_allchannels(self, fft=None):\n",
    "        if str(fft) != \"None\":\n",
    "            fft=self.observation_space.sample()['fft']\n",
    "        fbins_data=[]\n",
    "        for chindex in range(fft.shape[0]):\n",
    "            chfft=fft[chindex,:]\n",
    "            chbins=self.get_bin_values_from_signal(chfft)\n",
    "            fbins_data.append(chbins)\n",
    "        fbins_data=np.array(fbins_data)\n",
    "        return fbins_data\n",
    "\n",
    "    def set_delay_and_data_transfer_buffer_size(self):\n",
    "        self.ws.send(\"set_delay_and_data_transfer_buffer_size\")\n",
    "        time.sleep(self.timesleep_period)\n",
    "        setup=False\n",
    "        while setup==False:\n",
    "            try:\n",
    "                device_msg=self.ws.recv()\n",
    "                if device_msg == \"Awaiting delay and data transfer buffer size in shape with space separator\":\n",
    "                    self.ws.send(f'{self.delay},{self.n_timepoints_per_sample}')\n",
    "                time.sleep(self.timesleep_period)\n",
    "                device_msg=self.ws.recv()\n",
    "                if device_msg == \"Delay and data transfer buffer size set up\":\n",
    "                    setup = True \n",
    "                    break;\n",
    "            except:\n",
    "                pass\n",
    "    def start_data_transfer_from_device(self):\n",
    "        self.ws.send(\"start_data_transfer_from_ads\")\n",
    "    def stop_data_transfer_from_device(self):\n",
    "        self.ws.send(\"stop_data_transfer_from_ads\")\n",
    "    def stop_audiovis_feedback(self):\n",
    "        self.ws.send(\"stop_led_cycle\")\n",
    "    def update_audiovis_feedback(self, update_dict=None):\n",
    "        if str(update_dict)!= 'None':\n",
    "            update_dict=self.action_space.sample()\n",
    "        self.ws.send(\"receive_output_control_data\")\n",
    "        outmsg_vals=[]\n",
    "        for controlnm in self.out_order:\n",
    "            outmsg_vals.append(update_dict[controlnm][0])\n",
    "        self.current_control_msg=','.join(list(map(str,outmsg_vals)))\n",
    "        self.ws.send(self.current_control_msg)\n",
    "    def sample_observations(self):\n",
    "        self.ws.send(\"start_data_transfer_from_ads\")\n",
    "        self.current_sample=json.loads(self.ws.recv())\n",
    "        self.raw_data=[]\n",
    "        for key, value in self.current_sample.items():\n",
    "            self.raw_data.append(value)\n",
    "        self.raw_data=np.array(self.raw_data).transpose()\n",
    "        self.raw_data=self.raw_data[:,self.channels_of_interest_inds]\n",
    "        self.ws.send(\"stop_data_transfer_from_ads\")\n",
    "    def sample_and_process_observations_from_device(self):\n",
    "        new_observations=dict()\n",
    "        self.sample_observations()\n",
    "        new_observations['raw_data']=self.raw_data\n",
    "        if self.do_fft:\n",
    "         self.fft=self.get_fft_allchannels(raw_data=self.raw_data)\n",
    "         if self.record_fft:\n",
    "            new_observations['fft']=self.fft\n",
    "        if self.do_fbins:\n",
    "            self.fbins_data=self.get_bin_values_allchannels(fft=self.fft)\n",
    "            if self.record_fbins:\n",
    "                new_observations['fbins']=self.fbins_data \n",
    "        new_observations=OrderedDict(new_observations)\n",
    "        return new_observations\n",
    "\n",
    "    def step(self, action):\n",
    "        self.best_overall_reward_now=False\n",
    "        self.update_audiovis_feedback(action)\n",
    "        time.sleep(self.step_stim_length)\n",
    "        self.current_actions=action\n",
    "        new_observations=self.sample_and_process_observations_from_device()\n",
    "        self.cur_observations=new_observations\n",
    "        reward=self.get_reward(observations=new_observations, toreturn=True)\n",
    "\n",
    "        if reward>self.episode_max_reward:\n",
    "                self.episode_max_reward=reward\n",
    "                self.best_episode_reward_now=True\n",
    "        if reward>self.overall_max_reward:\n",
    "                self.overall_max_reward=reward\n",
    "                self.best_overall_reward_now=True\n",
    "\n",
    "        if self.log_and_plot_data==True:\n",
    "\n",
    "            self.cur_episode_rewards.append(reward)\n",
    "            if self.write_log:\n",
    "                logging.info(f'Episode {self.current_episode}, Step {self.cur_step}, Reward {reward}')\n",
    "                if self.write_signals:\n",
    "                    logging.info(str(self.cur_observations))            \n",
    "\n",
    "\n",
    "        if self.cur_step<self.n_steps_per_episode:\n",
    "            done=False\n",
    "            self.cur_step+=1\n",
    "        else:\n",
    "            done=True\n",
    "        return new_observations, reward, done, {}\n",
    "    def reset(self):\n",
    "        self.stop_audiovis_feedback()\n",
    "        self.cur_step=0\n",
    "        self.episode_max_reward=False\n",
    "        new_observations=self.sample_and_process_observations_from_device()\n",
    "        self.cur_observations=new_observations\n",
    "        self.update_audiovis_feedback(update_dict=self.default_actions) #update back to default actions\n",
    "        if self.log_and_plot_data==True:\n",
    "            self.previous_episodes_max_rewards.append(self.episode_max_reward)\n",
    "            self.cur_episode_rewards=[]\n",
    "        time.sleep(self.step_stim_length) #prepare the brain for the next episode \n",
    "        return new_observations\n",
    "\n",
    "    def render(self, elems=['reward_lineplots', 'current_fft', 'current_fbins']):\n",
    "        figures=dict()\n",
    "        if 'reward_lineplots' in elems:\n",
    "            training_fig=sp.make_subplots(rows=1, cols=2)\n",
    "            training_fig.update_layout(width=self.training_plot_width, height = self.training_plot_height)\n",
    "            training_fig.add_trace(sp.go.Scatter(x=list(range(len(self.cur_episode_rewards))), y=self.cur_episode_rewards, mode='lines+markers', name='Current episode rewards'), row=1, col=1)\n",
    "            training_fig.add_trace(sp.go.Scatter(x=list(range(len(self.previous_episodes_max_rewards))), y=self.previous_episodes_max_rewards, mode='lines+markers', name='Previous episode max rewards'), row=1, col=2)\n",
    "            figures['reward_lineplots']=training_fig\n",
    "            if self.render_data:\n",
    "                training_fig.show()\n",
    "        if ('current_fft' in elems) or ('current_fbins' in elems):\n",
    "            if self.record_fft or self.record_fbins:\n",
    "                signal_fig=sp.make_subplots(rows=self.n_channels_of_interest, cols=2)\n",
    "                signal_fig.update_layout(width=self.signal_plot_width, height = self.signal_plot_height)\n",
    "                if 'current_fft' in elems and self.record_fft:\n",
    "                    for chidx in range(self.n_channels_of_interest):\n",
    "                        orig_chidx=self.channels_of_interest_inds[chidx]\n",
    "                        chfft=self.cur_observations['fft'][chidx]\n",
    "                        signal_fig.add_trace(sp.go.Scatter(x=self.f_plot, y=chfft, mode='lines+markers', name=f'Channel {orig_chidx} spectrum'), row=chidx+1, col=1)\n",
    "                if 'current_fbins' in elems and self.record_fbins:\n",
    "                    for chidx in range(self.n_channels_of_interest):\n",
    "                        orig_chidx=self.channels_of_interest_inds[chidx]\n",
    "                        chbins=self.cur_observations['fbins'][chidx]\n",
    "                        signal_fig.add_trace(sp.go.Bar(x=self.fbin_axis_labels, y=chbins, name=f'Channel {orig_chidx} frequency bins'), row=chidx+1, col=2)\n",
    "                if self.render_data:\n",
    "                    signal_fig.show()\n",
    "        if self.return_plotly_figs:\n",
    "            return figures\n",
    "    def close(self, clear_log=False):\n",
    "        self.stop_audiovis_feedback() #just in case\n",
    "        self.stop_data_transfer_from_device() #just in case\n",
    "        self.cur_step=0 #just in case\n",
    "        self.current_episode=0\n",
    "        self.cur_episode_rewards=[]\n",
    "        self.previous_episodes_max_rewards=[]\n",
    "        if clear_log==True:\n",
    "            self.clear_log()\n",
    "        self.ws.close()\n",
    "        self.episode_max_reward=False\n",
    "        self.best_overall_reward_now=False"
   ]
  },
  {
   "cell_type": "code",
   "execution_count": null,
   "metadata": {},
   "outputs": [],
   "source": [
    "class SFSystemCommunicator(gym.Env):\n",
    "    def __init__(self"
   ]
  },
  {
   "cell_type": "code",
   "execution_count": null,
   "metadata": {},
   "outputs": [],
   "source": [
    "import gym\n",
    "import torch\n",
    "import torch.optim as optim\n",
    "\n",
    "# Define the environment\n",
    "env = YourCustomEnvironment()\n",
    "\n",
    "# Define the agent\n",
    "agent = MyAgent(env)\n",
    "\n",
    "# Set up the optimizer\n",
    "optimizer = optim.Adam(agent.model.parameters(), lr=0.001)\n",
    "\n",
    "# Training loop\n",
    "num_episodes = 1000\n",
    "for episode in range(num_episodes):\n",
    "    state = env.reset()\n",
    "    done = False\n",
    "    episode_reward = 0\n",
    "\n",
    "    while not done:\n",
    "        # Select an action\n",
    "        action = agent.select_action(state)\n",
    "\n",
    "        # Execute the action in the environment\n",
    "        next_state, reward, done, info = env.step(action)\n",
    "\n",
    "        # Update the agent's policy\n",
    "        loss = agent.update_policy(state, action, reward, next_state, done)\n",
    "\n",
    "        # Update the optimizer\n",
    "        optimizer.zero_grad()\n",
    "        loss.backward()\n",
    "        optimizer.step()\n",
    "\n",
    "        # Update the state and reward\n",
    "        state = next_state\n",
    "        episode_reward += reward\n",
    "\n",
    "    # Log the episode reward\n",
    "    print(f'Episode {episode} finished with total reward {episode_reward}')\n",
    "\n",
    "    # Save the model periodically\n",
    "    if episode % 100 == 0:\n",
    "        torch.save(agent.model.state_dict(), f'model_episode_{episode}.pth')\n"
   ]
  },
  {
   "cell_type": "code",
   "execution_count": null,
   "metadata": {},
   "outputs": [],
   "source": [
    "class trainer():\n",
    "    def __init__(self, environment, model):\n",
    "        self.env=environment()\n",
    "        agent="
   ]
  },
  {
   "cell_type": "code",
   "execution_count": 116,
   "metadata": {},
   "outputs": [
    {
     "name": "stderr",
     "output_type": "stream",
     "text": [
      "--- request header ---\n",
      "GET / HTTP/1.1\n",
      "Upgrade: websocket\n",
      "Host: 10.42.0.231\n",
      "Origin: http://10.42.0.231\n",
      "Sec-WebSocket-Key: nDD6Sn5jybagcXmRYLf0sQ==\n",
      "Sec-WebSocket-Version: 13\n",
      "Connection: Upgrade\n",
      "\n",
      "\n",
      "-----------------------\n",
      "--- response header ---\n",
      "HTTP/1.1 101 Switching Protocols\n",
      "Server: arduino-WebSocketsServer\n",
      "Upgrade: websocket\n",
      "Connection: Upgrade\n",
      "Sec-WebSocket-Version: 13\n",
      "Sec-WebSocket-Accept: EIwKcaZTYjSJG3KaIfrMP90Ig6U=\n",
      "-----------------------\n",
      "++Rcv raw: b'\\x89\\x00'\n",
      "++Rcv decoded: fin=1 opcode=9 data=b''\n",
      "++Sent raw: b'\\x8a\\x80m\\x95;\\xc0'\n",
      "++Sent decoded: fin=1 opcode=10 data=b''\n",
      "++Rcv raw: b'\\x81\\tConnected'\n",
      "++Rcv decoded: fin=1 opcode=1 data=b'Connected'\n",
      "++Sent raw: b'\\x81\\xa7\\x1dKm\\xdcn.\\x19\\x83y.\\x01\\xbdd\\x14\\x0c\\xb2y\\x14\\t\\xbdi*2\\xa8o*\\x03\\xaf{.\\x1f\\x83\\x7f>\\x0b\\xbax92\\xaft1\\x08'\n",
      "++Sent decoded: fin=1 opcode=1 data=b'set_delay_and_data_transfer_buffer_size'\n"
     ]
    },
    {
     "name": "stdout",
     "output_type": "stream",
     "text": [
      "Token freq_30_ch0:\n",
      "Closest fft frequency 30.0\n",
      "Connected\n"
     ]
    },
    {
     "name": "stderr",
     "output_type": "stream",
     "text": [
      "++Rcv raw: b'\\x81JAwaiting delay and data transfer buffer size in shape with space separator'\n",
      "++Rcv decoded: fin=1 opcode=1 data=b'Awaiting delay and data transfer buffer size in shape with space separator'\n",
      "++Sent raw: b'\\x81\\x86\\xed\\x1e\\xaee\\xdc.\\x82T\\xdd.'\n",
      "++Sent decoded: fin=1 opcode=1 data=b'10,100'\n",
      "++Rcv raw: b'\\x81*Delay and data transfer buffer size set up'\n",
      "++Rcv decoded: fin=1 opcode=1 data=b'Delay and data transfer buffer size set up'\n"
     ]
    },
    {
     "name": "stdout",
     "output_type": "stream",
     "text": [
      "Delay and data transfer buffer size are set up.\n",
      "Default actions are set.\n"
     ]
    }
   ],
   "source": [
    "communicator=SFSystemCommunicator()"
   ]
  },
  {
   "cell_type": "code",
   "execution_count": 111,
   "metadata": {},
   "outputs": [
    {
     "data": {
      "text/plain": [
       "True"
      ]
     },
     "execution_count": 111,
     "metadata": {},
     "output_type": "execute_result"
    }
   ],
   "source": [
    "communicator.write_log"
   ]
  },
  {
   "cell_type": "code",
   "execution_count": 78,
   "metadata": {},
   "outputs": [],
   "source": [
    "#communicator.clear_log()"
   ]
  },
  {
   "cell_type": "code",
   "execution_count": 119,
   "metadata": {},
   "outputs": [
    {
     "name": "stderr",
     "output_type": "stream",
     "text": [
      "++Sent raw: b'\\x81\\x8e\\xfe\\xc4\\xfb \\x8d\\xb0\\x94P\\xa1\\xa8\\x9eD\\xa1\\xa7\\x82C\\x92\\xa1'\n",
      "++Sent decoded: fin=1 opcode=1 data=b'stop_led_cycle'\n",
      "++Sent raw: b'\\x81\\x9b\\x952\\xc5\\x9f\\xe6F\\xaa\\xef\\xcaV\\xa4\\xeb\\xf4m\\xb1\\xed\\xf4\\\\\\xb6\\xf9\\xf0@\\x9a\\xf9\\xe7]\\xa8\\xc0\\xf4V\\xb6'\n",
      "++Sent decoded: fin=1 opcode=1 data=b'stop_data_transfer_from_ads'\n",
      "++Sent raw: b'\\x88\\x82Z\\x03\\x0c\\x9eY\\xeb'\n",
      "++Sent decoded: fin=1 opcode=8 data=b'\\x03\\xe8'\n"
     ]
    }
   ],
   "source": [
    "communicator.close()"
   ]
  },
  {
   "cell_type": "code",
   "execution_count": 82,
   "metadata": {},
   "outputs": [
    {
     "data": {
      "text/plain": [
       "array(5.275713, dtype=float32)"
      ]
     },
     "execution_count": 82,
     "metadata": {},
     "output_type": "execute_result"
    }
   ],
   "source": [
    "communicator.reward"
   ]
  },
  {
   "cell_type": "code",
   "execution_count": 117,
   "metadata": {},
   "outputs": [
    {
     "name": "stderr",
     "output_type": "stream",
     "text": [
      "++Sent raw: b'\\x81\\x9b\\xde%s\\x92\\xac@\\x10\\xf7\\xb7S\\x16\\xcd\\xb1P\\x07\\xe2\\xabQ,\\xf1\\xb1K\\x07\\xe0\\xb1I,\\xf6\\xbfQ\\x12'\n",
      "++Sent decoded: fin=1 opcode=1 data=b'receive_output_control_data'\n",
      "++Sent raw: b'\\x81\\xfe\\x00\\x7f<\\xd6\\xa0\\xa4\\x04\\xef\\x8c\\x96\\x0e\\xe1\\x8c\\x96\\r\\xef\\x8c\\x95\\t\\xe0\\x8c\\x96\\x05\\xfa\\x92\\x96\\x08\\xfa\\x92\\x94\\x04\\xfa\\x98\\x94\\x10\\xe7\\x97\\x92\\x10\\xe4\\x99\\x88\\x04\\xe1\\x8c\\x91\\x08\\xfa\\x99\\x93\\x10\\xe1\\x90\\x88\\x05\\xe6\\x8c\\x95\\x0b\\xe4\\x8c\\x95\\x04\\xe3\\x8c\\x95\\t\\xe2\\x8c\\x96\\x0f\\xe7\\x8c\\x96\\x08\\xe1\\x8c\\x92\\x0b\\xfa\\x91\\x92\\x0f\\xfa\\x91\\x92\\n\\xfa\\x95\\x90\\x10\\xef\\x93\\x93\\n\\xfa\\x94\\x96\\x0c\\xfa\\x98\\x95\\x04\\xe0\\x8c\\x96\\x05\\xfa\\x91\\x88\\t\\xfa\\x93\\x90\\x10\\xe2\\x91\\x88\\x0e\\xee\\x8c\\x95\\n\\xfa\\x94\\x9c\\x10\\xe7\\x93\\x88\\x0c\\xfa\\x92'\n",
      "++Sent decoded: fin=1 opcode=1 data=b'89,227,219,156,29,224,208,80,176,29,87,54,97,70,90,172,185,154,231,247,67,163,166,54,9376,420,8186,29,1,5,34,41,28,16,48,13,0,2'\n",
      "++Sent raw: b'\\x81\\x9cK\\x8fV_8\\xfb7-?\\xd02>?\\xee\\t+9\\xee8,-\\xea$\\x00-\\xfd92\\x14\\xee2,'\n",
      "++Sent decoded: fin=1 opcode=1 data=b'start_data_transfer_from_ads'\n",
      "++Rcv raw: b'\\x81~\\x06\\x81{\"ch1\":[0,0,0,0,0,0,0,0,0,0,0,0,0,0,0,0,0,0,0,0,0,0,0,0,0,0,0,0,0,0,0,0,0,0,0,0,0,0,0,0,0,0,0,0,0,0,0,0,0,0,0,0,0,0,0,0,0,0,0,0,0,0,0,0,0,0,0,0,0,0,0,0,0,0,0,0,0,0,0,0,0,0,0,0,0,0,0,0,0,0,0,0,0,0,0,0,0,0,0,0],\"ch2\":[0,0,0,0,0,0,0,0,0,0,0,0,0,0,0,0,0,0,0,0,0,0,0,0,0,0,0,0,0,0,0,0,0,0,0,0,0,0,0,0,0,0,0,0,0,0,0,0,0,0,0,0,0,0,0,0,0,0,0,0,0,0,0,0,0,0,0,0,0,0,0,0,0,0,0,0,0,0,0,0,0,0,0,0,0,0,0,0,0,0,0,0,0,0,0,0,0,0,0,0],\"ch3\":[0,0,0,0,0,0,0,0,0,0,0,0,0,0,0,0,0,0,0,0,0,0,0,0,0,0,0,0,0,0,0,0,0,0,0,0,0,0,0,0,0,0,0,0,0,0,0,0,0,0,0,0,0,0,0,0,0,0,0,0,0,0,0,0,0,0,0,0,0,0,0,0,0,0,0,0,0,0,0,0,0,0,0,0,0,0,0,0,0,0,0,0,0,0,0,0,0,0,0,0],\"ch4\":[0,0,0,0,0,0,0,0,0,0,0,0,0,0,0,0,0,0,0,0,0,0,0,0,0,0,0,0,0,0,0,0,0,0,0,0,0,0,0,0,0,0,0,0,0,0,0,0,0,0,0,0,0,0,0,0,0,0,0,0,0,0,0,0,0,0,0,0,0,0,0,0,0,0,0,0,0,0,0,0,0,0,0,0,0,0,0,0,0,0,0,0,0,0,0,0,0,0,0,0],\"ch5\":[0,0,0,0,0,0,0,0,0,0,0,0,0,0,0,0,0,0,0,0,0,0,0,0,0,0,0,0,0,0,0,0,0,0,0,0,0,0,0,0,0,0,0,0,0,0,0,0,0,0,0,0,0,0,0,0,0,0,0,0,0,0,0,0,0,0,0,0,0,0,0,0,0,0,0,0,0,0,0,0,0,0,0,0,0,0,0,0,0,0,0,0,0,0,0,0,0,0,0,0],\"ch6\":[0,0,0,0,0,0,0,0,0,0,0,0,0,0,0,0,0,0,0,0,0,0,0,0,0,0,0,0,0,0,0,0,0,0,0,0,0,0,0,0,0,0,0,0,0,0,0,0,0,0,0,0,0,0,0,0,0,0,0,0,0,0,0,0,0,0,0,0,0,0,0,0,0,0,0,0,0,0,0,0,0,0,0,0,0,0,0,0,0,0,0,0,0,0,0,0,0,0,0,0],\"ch7\":[0,0,0,0,0,0,0,0,0,0,0,0,0,0,0,0,0,0,0,0,0,0,0,0,0,0,0,0,0,0,0,0,0,0,0,0,0,0,0,0,0,0,0,0,0,0,0,0,0,0,0,0,0,0,0,0,0,0,0,0,0,0,0,0,0,0,0,0,0,0,0,0,0,0,0,0,0,0,0,0,0,0,0,0,0,0,0,0,0,0,0,0,0,0,0,0,0,0,0,0],\"ch8\":[0,0,0,0,0,0,0,0,0,0,0,0,0,0,0,0,0,0,0,0,0,0,0,0,0,0,0,0,0,0,0,0,0,0,0,0,0,0,0,0,0,0,0,0,0,0,0,0,0,0,0,0,0,0,0,0,0,0,0,0,0,0,0,0,0,0,0,0,0,0,0,0,0,0,0,0,0,0,0,0,0,0,0,0,0,0,0,0,0,0,0,0,0,0,0,0,0,0,0,0]}'\n",
      "++Rcv decoded: fin=1 opcode=1 data=b'{\"ch1\":[0,0,0,0,0,0,0,0,0,0,0,0,0,0,0,0,0,0,0,0,0,0,0,0,0,0,0,0,0,0,0,0,0,0,0,0,0,0,0,0,0,0,0,0,0,0,0,0,0,0,0,0,0,0,0,0,0,0,0,0,0,0,0,0,0,0,0,0,0,0,0,0,0,0,0,0,0,0,0,0,0,0,0,0,0,0,0,0,0,0,0,0,0,0,0,0,0,0,0,0],\"ch2\":[0,0,0,0,0,0,0,0,0,0,0,0,0,0,0,0,0,0,0,0,0,0,0,0,0,0,0,0,0,0,0,0,0,0,0,0,0,0,0,0,0,0,0,0,0,0,0,0,0,0,0,0,0,0,0,0,0,0,0,0,0,0,0,0,0,0,0,0,0,0,0,0,0,0,0,0,0,0,0,0,0,0,0,0,0,0,0,0,0,0,0,0,0,0,0,0,0,0,0,0],\"ch3\":[0,0,0,0,0,0,0,0,0,0,0,0,0,0,0,0,0,0,0,0,0,0,0,0,0,0,0,0,0,0,0,0,0,0,0,0,0,0,0,0,0,0,0,0,0,0,0,0,0,0,0,0,0,0,0,0,0,0,0,0,0,0,0,0,0,0,0,0,0,0,0,0,0,0,0,0,0,0,0,0,0,0,0,0,0,0,0,0,0,0,0,0,0,0,0,0,0,0,0,0],\"ch4\":[0,0,0,0,0,0,0,0,0,0,0,0,0,0,0,0,0,0,0,0,0,0,0,0,0,0,0,0,0,0,0,0,0,0,0,0,0,0,0,0,0,0,0,0,0,0,0,0,0,0,0,0,0,0,0,0,0,0,0,0,0,0,0,0,0,0,0,0,0,0,0,0,0,0,0,0,0,0,0,0,0,0,0,0,0,0,0,0,0,0,0,0,0,0,0,0,0,0,0,0],\"ch5\":[0,0,0,0,0,0,0,0,0,0,0,0,0,0,0,0,0,0,0,0,0,0,0,0,0,0,0,0,0,0,0,0,0,0,0,0,0,0,0,0,0,0,0,0,0,0,0,0,0,0,0,0,0,0,0,0,0,0,0,0,0,0,0,0,0,0,0,0,0,0,0,0,0,0,0,0,0,0,0,0,0,0,0,0,0,0,0,0,0,0,0,0,0,0,0,0,0,0,0,0],\"ch6\":[0,0,0,0,0,0,0,0,0,0,0,0,0,0,0,0,0,0,0,0,0,0,0,0,0,0,0,0,0,0,0,0,0,0,0,0,0,0,0,0,0,0,0,0,0,0,0,0,0,0,0,0,0,0,0,0,0,0,0,0,0,0,0,0,0,0,0,0,0,0,0,0,0,0,0,0,0,0,0,0,0,0,0,0,0,0,0,0,0,0,0,0,0,0,0,0,0,0,0,0],\"ch7\":[0,0,0,0,0,0,0,0,0,0,0,0,0,0,0,0,0,0,0,0,0,0,0,0,0,0,0,0,0,0,0,0,0,0,0,0,0,0,0,0,0,0,0,0,0,0,0,0,0,0,0,0,0,0,0,0,0,0,0,0,0,0,0,0,0,0,0,0,0,0,0,0,0,0,0,0,0,0,0,0,0,0,0,0,0,0,0,0,0,0,0,0,0,0,0,0,0,0,0,0],\"ch8\":[0,0,0,0,0,0,0,0,0,0,0,0,0,0,0,0,0,0,0,0,0,0,0,0,0,0,0,0,0,0,0,0,0,0,0,0,0,0,0,0,0,0,0,0,0,0,0,0,0,0,0,0,0,0,0,0,0,0,0,0,0,0,0,0,0,0,0,0,0,0,0,0,0,0,0,0,0,0,0,0,0,0,0,0,0,0,0,0,0,0,0,0,0,0,0,0,0,0,0,0]}'\n",
      "++Sent raw: b'\\x81\\x9b\\xb8\\xb9\\xad>\\xcb\\xcd\\xc2N\\xe7\\xdd\\xccJ\\xd9\\xe6\\xd9L\\xd9\\xd7\\xdeX\\xdd\\xcb\\xf2X\\xca\\xd6\\xc0a\\xd9\\xdd\\xde'\n",
      "++Sent decoded: fin=1 opcode=1 data=b'stop_data_transfer_from_ads'\n",
      "/tmp/ipykernel_29567/4165274767.py:271: RuntimeWarning:\n",
      "\n",
      "Mean of empty slice.\n",
      "\n"
     ]
    }
   ],
   "source": [
    "res=communicator.step(communicator.action_space.sample())"
   ]
  },
  {
   "cell_type": "code",
   "execution_count": 118,
   "metadata": {},
   "outputs": [
    {
     "data": {
      "application/vnd.plotly.v1+json": {
       "config": {
        "plotlyServerURL": "https://plot.ly"
       },
       "data": [
        {
         "mode": "lines+markers",
         "name": "Current episode rewards",
         "type": "scatter",
         "x": [
          0
         ],
         "xaxis": "x",
         "y": [
          1.0248332023620605
         ],
         "yaxis": "y"
        },
        {
         "mode": "lines+markers",
         "name": "Previous episode max rewards",
         "type": "scatter",
         "x": [],
         "xaxis": "x2",
         "y": [],
         "yaxis": "y2"
        }
       ],
       "layout": {
        "height": 500,
        "template": {
         "data": {
          "bar": [
           {
            "error_x": {
             "color": "#2a3f5f"
            },
            "error_y": {
             "color": "#2a3f5f"
            },
            "marker": {
             "line": {
              "color": "#E5ECF6",
              "width": 0.5
             },
             "pattern": {
              "fillmode": "overlay",
              "size": 10,
              "solidity": 0.2
             }
            },
            "type": "bar"
           }
          ],
          "barpolar": [
           {
            "marker": {
             "line": {
              "color": "#E5ECF6",
              "width": 0.5
             },
             "pattern": {
              "fillmode": "overlay",
              "size": 10,
              "solidity": 0.2
             }
            },
            "type": "barpolar"
           }
          ],
          "carpet": [
           {
            "aaxis": {
             "endlinecolor": "#2a3f5f",
             "gridcolor": "white",
             "linecolor": "white",
             "minorgridcolor": "white",
             "startlinecolor": "#2a3f5f"
            },
            "baxis": {
             "endlinecolor": "#2a3f5f",
             "gridcolor": "white",
             "linecolor": "white",
             "minorgridcolor": "white",
             "startlinecolor": "#2a3f5f"
            },
            "type": "carpet"
           }
          ],
          "choropleth": [
           {
            "colorbar": {
             "outlinewidth": 0,
             "ticks": ""
            },
            "type": "choropleth"
           }
          ],
          "contour": [
           {
            "colorbar": {
             "outlinewidth": 0,
             "ticks": ""
            },
            "colorscale": [
             [
              0,
              "#0d0887"
             ],
             [
              0.1111111111111111,
              "#46039f"
             ],
             [
              0.2222222222222222,
              "#7201a8"
             ],
             [
              0.3333333333333333,
              "#9c179e"
             ],
             [
              0.4444444444444444,
              "#bd3786"
             ],
             [
              0.5555555555555556,
              "#d8576b"
             ],
             [
              0.6666666666666666,
              "#ed7953"
             ],
             [
              0.7777777777777778,
              "#fb9f3a"
             ],
             [
              0.8888888888888888,
              "#fdca26"
             ],
             [
              1,
              "#f0f921"
             ]
            ],
            "type": "contour"
           }
          ],
          "contourcarpet": [
           {
            "colorbar": {
             "outlinewidth": 0,
             "ticks": ""
            },
            "type": "contourcarpet"
           }
          ],
          "heatmap": [
           {
            "colorbar": {
             "outlinewidth": 0,
             "ticks": ""
            },
            "colorscale": [
             [
              0,
              "#0d0887"
             ],
             [
              0.1111111111111111,
              "#46039f"
             ],
             [
              0.2222222222222222,
              "#7201a8"
             ],
             [
              0.3333333333333333,
              "#9c179e"
             ],
             [
              0.4444444444444444,
              "#bd3786"
             ],
             [
              0.5555555555555556,
              "#d8576b"
             ],
             [
              0.6666666666666666,
              "#ed7953"
             ],
             [
              0.7777777777777778,
              "#fb9f3a"
             ],
             [
              0.8888888888888888,
              "#fdca26"
             ],
             [
              1,
              "#f0f921"
             ]
            ],
            "type": "heatmap"
           }
          ],
          "heatmapgl": [
           {
            "colorbar": {
             "outlinewidth": 0,
             "ticks": ""
            },
            "colorscale": [
             [
              0,
              "#0d0887"
             ],
             [
              0.1111111111111111,
              "#46039f"
             ],
             [
              0.2222222222222222,
              "#7201a8"
             ],
             [
              0.3333333333333333,
              "#9c179e"
             ],
             [
              0.4444444444444444,
              "#bd3786"
             ],
             [
              0.5555555555555556,
              "#d8576b"
             ],
             [
              0.6666666666666666,
              "#ed7953"
             ],
             [
              0.7777777777777778,
              "#fb9f3a"
             ],
             [
              0.8888888888888888,
              "#fdca26"
             ],
             [
              1,
              "#f0f921"
             ]
            ],
            "type": "heatmapgl"
           }
          ],
          "histogram": [
           {
            "marker": {
             "pattern": {
              "fillmode": "overlay",
              "size": 10,
              "solidity": 0.2
             }
            },
            "type": "histogram"
           }
          ],
          "histogram2d": [
           {
            "colorbar": {
             "outlinewidth": 0,
             "ticks": ""
            },
            "colorscale": [
             [
              0,
              "#0d0887"
             ],
             [
              0.1111111111111111,
              "#46039f"
             ],
             [
              0.2222222222222222,
              "#7201a8"
             ],
             [
              0.3333333333333333,
              "#9c179e"
             ],
             [
              0.4444444444444444,
              "#bd3786"
             ],
             [
              0.5555555555555556,
              "#d8576b"
             ],
             [
              0.6666666666666666,
              "#ed7953"
             ],
             [
              0.7777777777777778,
              "#fb9f3a"
             ],
             [
              0.8888888888888888,
              "#fdca26"
             ],
             [
              1,
              "#f0f921"
             ]
            ],
            "type": "histogram2d"
           }
          ],
          "histogram2dcontour": [
           {
            "colorbar": {
             "outlinewidth": 0,
             "ticks": ""
            },
            "colorscale": [
             [
              0,
              "#0d0887"
             ],
             [
              0.1111111111111111,
              "#46039f"
             ],
             [
              0.2222222222222222,
              "#7201a8"
             ],
             [
              0.3333333333333333,
              "#9c179e"
             ],
             [
              0.4444444444444444,
              "#bd3786"
             ],
             [
              0.5555555555555556,
              "#d8576b"
             ],
             [
              0.6666666666666666,
              "#ed7953"
             ],
             [
              0.7777777777777778,
              "#fb9f3a"
             ],
             [
              0.8888888888888888,
              "#fdca26"
             ],
             [
              1,
              "#f0f921"
             ]
            ],
            "type": "histogram2dcontour"
           }
          ],
          "mesh3d": [
           {
            "colorbar": {
             "outlinewidth": 0,
             "ticks": ""
            },
            "type": "mesh3d"
           }
          ],
          "parcoords": [
           {
            "line": {
             "colorbar": {
              "outlinewidth": 0,
              "ticks": ""
             }
            },
            "type": "parcoords"
           }
          ],
          "pie": [
           {
            "automargin": true,
            "type": "pie"
           }
          ],
          "scatter": [
           {
            "fillpattern": {
             "fillmode": "overlay",
             "size": 10,
             "solidity": 0.2
            },
            "type": "scatter"
           }
          ],
          "scatter3d": [
           {
            "line": {
             "colorbar": {
              "outlinewidth": 0,
              "ticks": ""
             }
            },
            "marker": {
             "colorbar": {
              "outlinewidth": 0,
              "ticks": ""
             }
            },
            "type": "scatter3d"
           }
          ],
          "scattercarpet": [
           {
            "marker": {
             "colorbar": {
              "outlinewidth": 0,
              "ticks": ""
             }
            },
            "type": "scattercarpet"
           }
          ],
          "scattergeo": [
           {
            "marker": {
             "colorbar": {
              "outlinewidth": 0,
              "ticks": ""
             }
            },
            "type": "scattergeo"
           }
          ],
          "scattergl": [
           {
            "marker": {
             "colorbar": {
              "outlinewidth": 0,
              "ticks": ""
             }
            },
            "type": "scattergl"
           }
          ],
          "scattermapbox": [
           {
            "marker": {
             "colorbar": {
              "outlinewidth": 0,
              "ticks": ""
             }
            },
            "type": "scattermapbox"
           }
          ],
          "scatterpolar": [
           {
            "marker": {
             "colorbar": {
              "outlinewidth": 0,
              "ticks": ""
             }
            },
            "type": "scatterpolar"
           }
          ],
          "scatterpolargl": [
           {
            "marker": {
             "colorbar": {
              "outlinewidth": 0,
              "ticks": ""
             }
            },
            "type": "scatterpolargl"
           }
          ],
          "scatterternary": [
           {
            "marker": {
             "colorbar": {
              "outlinewidth": 0,
              "ticks": ""
             }
            },
            "type": "scatterternary"
           }
          ],
          "surface": [
           {
            "colorbar": {
             "outlinewidth": 0,
             "ticks": ""
            },
            "colorscale": [
             [
              0,
              "#0d0887"
             ],
             [
              0.1111111111111111,
              "#46039f"
             ],
             [
              0.2222222222222222,
              "#7201a8"
             ],
             [
              0.3333333333333333,
              "#9c179e"
             ],
             [
              0.4444444444444444,
              "#bd3786"
             ],
             [
              0.5555555555555556,
              "#d8576b"
             ],
             [
              0.6666666666666666,
              "#ed7953"
             ],
             [
              0.7777777777777778,
              "#fb9f3a"
             ],
             [
              0.8888888888888888,
              "#fdca26"
             ],
             [
              1,
              "#f0f921"
             ]
            ],
            "type": "surface"
           }
          ],
          "table": [
           {
            "cells": {
             "fill": {
              "color": "#EBF0F8"
             },
             "line": {
              "color": "white"
             }
            },
            "header": {
             "fill": {
              "color": "#C8D4E3"
             },
             "line": {
              "color": "white"
             }
            },
            "type": "table"
           }
          ]
         },
         "layout": {
          "annotationdefaults": {
           "arrowcolor": "#2a3f5f",
           "arrowhead": 0,
           "arrowwidth": 1
          },
          "autotypenumbers": "strict",
          "coloraxis": {
           "colorbar": {
            "outlinewidth": 0,
            "ticks": ""
           }
          },
          "colorscale": {
           "diverging": [
            [
             0,
             "#8e0152"
            ],
            [
             0.1,
             "#c51b7d"
            ],
            [
             0.2,
             "#de77ae"
            ],
            [
             0.3,
             "#f1b6da"
            ],
            [
             0.4,
             "#fde0ef"
            ],
            [
             0.5,
             "#f7f7f7"
            ],
            [
             0.6,
             "#e6f5d0"
            ],
            [
             0.7,
             "#b8e186"
            ],
            [
             0.8,
             "#7fbc41"
            ],
            [
             0.9,
             "#4d9221"
            ],
            [
             1,
             "#276419"
            ]
           ],
           "sequential": [
            [
             0,
             "#0d0887"
            ],
            [
             0.1111111111111111,
             "#46039f"
            ],
            [
             0.2222222222222222,
             "#7201a8"
            ],
            [
             0.3333333333333333,
             "#9c179e"
            ],
            [
             0.4444444444444444,
             "#bd3786"
            ],
            [
             0.5555555555555556,
             "#d8576b"
            ],
            [
             0.6666666666666666,
             "#ed7953"
            ],
            [
             0.7777777777777778,
             "#fb9f3a"
            ],
            [
             0.8888888888888888,
             "#fdca26"
            ],
            [
             1,
             "#f0f921"
            ]
           ],
           "sequentialminus": [
            [
             0,
             "#0d0887"
            ],
            [
             0.1111111111111111,
             "#46039f"
            ],
            [
             0.2222222222222222,
             "#7201a8"
            ],
            [
             0.3333333333333333,
             "#9c179e"
            ],
            [
             0.4444444444444444,
             "#bd3786"
            ],
            [
             0.5555555555555556,
             "#d8576b"
            ],
            [
             0.6666666666666666,
             "#ed7953"
            ],
            [
             0.7777777777777778,
             "#fb9f3a"
            ],
            [
             0.8888888888888888,
             "#fdca26"
            ],
            [
             1,
             "#f0f921"
            ]
           ]
          },
          "colorway": [
           "#636efa",
           "#EF553B",
           "#00cc96",
           "#ab63fa",
           "#FFA15A",
           "#19d3f3",
           "#FF6692",
           "#B6E880",
           "#FF97FF",
           "#FECB52"
          ],
          "font": {
           "color": "#2a3f5f"
          },
          "geo": {
           "bgcolor": "white",
           "lakecolor": "white",
           "landcolor": "#E5ECF6",
           "showlakes": true,
           "showland": true,
           "subunitcolor": "white"
          },
          "hoverlabel": {
           "align": "left"
          },
          "hovermode": "closest",
          "mapbox": {
           "style": "light"
          },
          "paper_bgcolor": "white",
          "plot_bgcolor": "#E5ECF6",
          "polar": {
           "angularaxis": {
            "gridcolor": "white",
            "linecolor": "white",
            "ticks": ""
           },
           "bgcolor": "#E5ECF6",
           "radialaxis": {
            "gridcolor": "white",
            "linecolor": "white",
            "ticks": ""
           }
          },
          "scene": {
           "xaxis": {
            "backgroundcolor": "#E5ECF6",
            "gridcolor": "white",
            "gridwidth": 2,
            "linecolor": "white",
            "showbackground": true,
            "ticks": "",
            "zerolinecolor": "white"
           },
           "yaxis": {
            "backgroundcolor": "#E5ECF6",
            "gridcolor": "white",
            "gridwidth": 2,
            "linecolor": "white",
            "showbackground": true,
            "ticks": "",
            "zerolinecolor": "white"
           },
           "zaxis": {
            "backgroundcolor": "#E5ECF6",
            "gridcolor": "white",
            "gridwidth": 2,
            "linecolor": "white",
            "showbackground": true,
            "ticks": "",
            "zerolinecolor": "white"
           }
          },
          "shapedefaults": {
           "line": {
            "color": "#2a3f5f"
           }
          },
          "ternary": {
           "aaxis": {
            "gridcolor": "white",
            "linecolor": "white",
            "ticks": ""
           },
           "baxis": {
            "gridcolor": "white",
            "linecolor": "white",
            "ticks": ""
           },
           "bgcolor": "#E5ECF6",
           "caxis": {
            "gridcolor": "white",
            "linecolor": "white",
            "ticks": ""
           }
          },
          "title": {
           "x": 0.05
          },
          "xaxis": {
           "automargin": true,
           "gridcolor": "white",
           "linecolor": "white",
           "ticks": "",
           "title": {
            "standoff": 15
           },
           "zerolinecolor": "white",
           "zerolinewidth": 2
          },
          "yaxis": {
           "automargin": true,
           "gridcolor": "white",
           "linecolor": "white",
           "ticks": "",
           "title": {
            "standoff": 15
           },
           "zerolinecolor": "white",
           "zerolinewidth": 2
          }
         }
        },
        "width": 2000,
        "xaxis": {
         "anchor": "y",
         "domain": [
          0,
          0.45
         ]
        },
        "xaxis2": {
         "anchor": "y2",
         "domain": [
          0.55,
          1
         ]
        },
        "yaxis": {
         "anchor": "x",
         "domain": [
          0,
          1
         ]
        },
        "yaxis2": {
         "anchor": "x2",
         "domain": [
          0,
          1
         ]
        }
       }
      }
     },
     "metadata": {},
     "output_type": "display_data"
    },
    {
     "data": {
      "application/vnd.plotly.v1+json": {
       "config": {
        "plotlyServerURL": "https://plot.ly"
       },
       "data": [
        {
         "mode": "lines+markers",
         "name": "Channel 0 spectrum",
         "type": "scatter",
         "x": [
          0,
          1,
          2,
          3,
          4,
          5,
          6,
          7,
          8,
          9,
          10,
          11,
          12,
          13,
          14,
          15,
          16,
          17,
          18,
          19,
          20,
          21,
          22,
          23,
          24,
          25,
          26,
          27,
          28,
          29,
          30,
          31,
          32,
          33,
          34,
          35,
          36,
          37,
          38,
          39,
          40,
          41,
          42,
          43,
          44,
          45,
          46,
          47,
          48,
          49,
          50
         ],
         "xaxis": "x",
         "y": [
          1001.2,
          46.987641720669835,
          37.38631665343593,
          35.12538885016208,
          41.46329139704932,
          8.347900003498951,
          65.8996786196729,
          5.7136776357523535,
          23.916391569203082,
          7.930867610685283,
          50.4994839181567,
          14.945008632746992,
          61.58215676634439,
          35.47890244319749,
          64.53977817717218,
          35.3194209331812,
          75.08655180765804,
          86.0582876022002,
          20.24477661567372,
          11.514473187004276,
          40.173187430106644,
          85.02378313823381,
          39.268562367668686,
          47.33286646243257,
          47.20101404241223,
          39.235677641656714,
          109.94309470503985,
          32.89686089985856,
          57.046462228466474,
          40.74719426904897,
          86.36895810416978,
          76.19193882518704,
          52.84985724009075,
          52.62052412812007,
          15.702873313381685,
          31.657368005061873,
          28.637286334841473,
          53.82625266909258,
          54.21881023241508,
          31.674685167973138,
          74.28122920163288,
          85.95713055269871,
          78.33085751182182,
          23.629107189372977,
          104.32269743410507,
          42.31481680769077,
          71.84881921046987,
          52.05415021332091,
          42.87122611038607,
          64.88455127622672,
          2.8800000000000114
         ],
         "yaxis": "y"
        },
        {
         "mode": "lines+markers",
         "name": "Channel 1 spectrum",
         "type": "scatter",
         "x": [
          0,
          1,
          2,
          3,
          4,
          5,
          6,
          7,
          8,
          9,
          10,
          11,
          12,
          13,
          14,
          15,
          16,
          17,
          18,
          19,
          20,
          21,
          22,
          23,
          24,
          25,
          26,
          27,
          28,
          29,
          30,
          31,
          32,
          33,
          34,
          35,
          36,
          37,
          38,
          39,
          40,
          41,
          42,
          43,
          44,
          45,
          46,
          47,
          48,
          49,
          50
         ],
         "xaxis": "x3",
         "y": [
          907.22,
          14.43104982686989,
          7.235286111106028,
          9.602089329262695,
          36.68100794423069,
          21.24296242750438,
          71.46656107544413,
          83.17084440296911,
          9.625269893760168,
          35.793298351726776,
          51.439888682183934,
          9.854906225632073,
          78.08492394002494,
          13.456241823634992,
          70.7269188382845,
          56.280339143150506,
          12.664129108586485,
          50.39649244707025,
          15.470148008465642,
          33.00120307577984,
          20.353552208841755,
          86.6003014115348,
          29.506092555900064,
          24.23220071844838,
          55.219756075658346,
          51.10823417023913,
          50.46548988702235,
          40.76854555617085,
          51.15271353041071,
          91.63904995004565,
          59.703817736929714,
          94.02029418719049,
          91.21132369937857,
          24.3061488220611,
          33.02668842356194,
          40.83331903471802,
          24.742828995250377,
          19.087045055670853,
          17.081186806260142,
          16.827180892670434,
          64.99982855732738,
          49.20257136106358,
          48.63557466335559,
          21.658990594925637,
          55.676984266818835,
          124.49431484949235,
          89.05238556014324,
          72.95177036807736,
          49.065843777123035,
          29.009007283832037,
          21.10000000000001
         ],
         "yaxis": "y3"
        },
        {
         "mode": "lines+markers",
         "name": "Channel 2 spectrum",
         "type": "scatter",
         "x": [
          0,
          1,
          2,
          3,
          4,
          5,
          6,
          7,
          8,
          9,
          10,
          11,
          12,
          13,
          14,
          15,
          16,
          17,
          18,
          19,
          20,
          21,
          22,
          23,
          24,
          25,
          26,
          27,
          28,
          29,
          30,
          31,
          32,
          33,
          34,
          35,
          36,
          37,
          38,
          39,
          40,
          41,
          42,
          43,
          44,
          45,
          46,
          47,
          48,
          49,
          50
         ],
         "xaxis": "x5",
         "y": [
          1037.7,
          46.092497150810715,
          62.09653464125732,
          86.78678872099634,
          55.84506636228767,
          42.42881235469979,
          41.641701288306486,
          30.58646213386198,
          35.6704529359346,
          94.85969707102251,
          32.89798422010279,
          94.46213826308718,
          51.534812705207415,
          58.847155771988184,
          39.19634556313554,
          46.43592890842002,
          108.22755579336446,
          98.39021251454271,
          48.092677384743325,
          68.06022301254043,
          59.61446943375926,
          34.89644576643311,
          51.40030575979307,
          15.637347126645249,
          90.02441121886424,
          46.079170999487395,
          99.5844197532517,
          26.286923334645724,
          31.7151466794178,
          68.74472028810172,
          92.84903141257784,
          10.288603882251387,
          11.875901581520235,
          41.08934278630832,
          105.74332277454481,
          21.021441616733405,
          35.10772754959617,
          44.98223476926956,
          58.48077314965796,
          78.68453197569033,
          48.92572977617591,
          100.32718557159288,
          87.63553552016332,
          36.867846982546354,
          25.253129671300652,
          26.548208620095373,
          124.954606399859,
          56.54151547126422,
          23.38053297733034,
          69.17255828308303,
          5.700000000000009
         ],
         "yaxis": "y5"
        },
        {
         "mode": "lines+markers",
         "name": "Channel 3 spectrum",
         "type": "scatter",
         "x": [
          0,
          1,
          2,
          3,
          4,
          5,
          6,
          7,
          8,
          9,
          10,
          11,
          12,
          13,
          14,
          15,
          16,
          17,
          18,
          19,
          20,
          21,
          22,
          23,
          24,
          25,
          26,
          27,
          28,
          29,
          30,
          31,
          32,
          33,
          34,
          35,
          36,
          37,
          38,
          39,
          40,
          41,
          42,
          43,
          44,
          45,
          46,
          47,
          48,
          49,
          50
         ],
         "xaxis": "x7",
         "y": [
          1061.42,
          10.282084829937505,
          61.93336768361518,
          49.20947827775767,
          51.03515408672163,
          85.1636210275344,
          37.4635611662414,
          38.69866666407365,
          11.397554651492271,
          111.02009804850663,
          88.99588640465772,
          48.93299576707934,
          43.032968153356826,
          100.18102892345314,
          50.10974631068185,
          36.95565403074465,
          65.32196273296344,
          52.07581233213613,
          71.30594408303664,
          32.89131467097105,
          45.631385156278064,
          52.61886301470999,
          7.2902418557220585,
          57.20423418975858,
          39.670296962086134,
          42.340906934074994,
          106.2100366548666,
          20.26321643546536,
          3.3747332468586455,
          48.45353500390818,
          57.72905163822851,
          71.40948512356927,
          64.83991395157098,
          7.6599148395678744,
          11.125184318543184,
          15.54470641640129,
          53.68846517620526,
          34.39579726665533,
          20.058549168609492,
          42.7805886934721,
          100.12383077329493,
          65.63016209650061,
          81.78400502394345,
          50.953501744318956,
          11.915982615269417,
          60.86356045341329,
          67.29278641908697,
          55.0218066424401,
          19.354016908064438,
          20.76121850302534,
          30.059999999999995
         ],
         "yaxis": "y7"
        },
        {
         "mode": "lines+markers",
         "name": "Channel 4 spectrum",
         "type": "scatter",
         "x": [
          0,
          1,
          2,
          3,
          4,
          5,
          6,
          7,
          8,
          9,
          10,
          11,
          12,
          13,
          14,
          15,
          16,
          17,
          18,
          19,
          20,
          21,
          22,
          23,
          24,
          25,
          26,
          27,
          28,
          29,
          30,
          31,
          32,
          33,
          34,
          35,
          36,
          37,
          38,
          39,
          40,
          41,
          42,
          43,
          44,
          45,
          46,
          47,
          48,
          49,
          50
         ],
         "xaxis": "x9",
         "y": [
          1002.18,
          52.40346698832154,
          28.662471795667763,
          10.828161721260507,
          61.467931078773375,
          105.9254326937155,
          67.99049733945972,
          24.90349431632634,
          43.709242472826034,
          92.55967827479634,
          15.379429803229197,
          14.328991076469336,
          62.031612957951914,
          61.645630966777986,
          36.63296843920369,
          28.531452694685782,
          13.475428973933823,
          24.067566716198897,
          52.17381825707261,
          22.00336925168642,
          31.49742324991832,
          115.29644554014469,
          19.807667848612486,
          51.83005602255098,
          41.86760850609684,
          36.53570856025651,
          17.957633276945064,
          91.06488147991747,
          84.77571040492032,
          50.14848922532619,
          57.02806273167224,
          6.11500359261393,
          58.729810253158035,
          91.95342255151368,
          44.044769397962,
          68.74715342562487,
          103.33713980879963,
          102.00899677966827,
          43.52760852750335,
          49.01133718363473,
          64.30377227360385,
          43.37051209462995,
          46.13009452405165,
          92.23846120690418,
          15.036088326230162,
          69.7552278446114,
          95.57221855306257,
          60.16745067879988,
          41.91523152843055,
          61.90831962217292,
          3.6200000000000045
         ],
         "yaxis": "y9"
        },
        {
         "mode": "lines+markers",
         "name": "Channel 5 spectrum",
         "type": "scatter",
         "x": [
          0,
          1,
          2,
          3,
          4,
          5,
          6,
          7,
          8,
          9,
          10,
          11,
          12,
          13,
          14,
          15,
          16,
          17,
          18,
          19,
          20,
          21,
          22,
          23,
          24,
          25,
          26,
          27,
          28,
          29,
          30,
          31,
          32,
          33,
          34,
          35,
          36,
          37,
          38,
          39,
          40,
          41,
          42,
          43,
          44,
          45,
          46,
          47,
          48,
          49,
          50
         ],
         "xaxis": "x11",
         "y": [
          979.1,
          91.35438847065357,
          50.42330940041689,
          36.13672157782301,
          23.27234390015176,
          23.792606345919957,
          15.26012261733711,
          21.70601394817579,
          27.50884496478915,
          99.87733766320143,
          42.60898955076856,
          16.099365527550173,
          35.76678860418852,
          18.789439846693725,
          95.48198836897738,
          36.322352270560266,
          13.832673243939233,
          67.41409810874273,
          28.000893905394374,
          17.60107796411787,
          42.091918834097505,
          52.167579594329446,
          41.36118131126415,
          9.139020813065951,
          14.685025281873598,
          94.21353830527754,
          58.733081973725504,
          70.1756701111655,
          56.51648762000326,
          77.28397853310517,
          59.8956593541009,
          67.41001195817167,
          122.3158837376768,
          73.75473090374578,
          10.93078192890939,
          69.84004135694069,
          135.20772606018772,
          7.114340213195566,
          24.79850360605972,
          32.28691597588383,
          77.29190364367892,
          98.06602180617821,
          51.602011173706074,
          17.885433269141956,
          85.64255852148953,
          34.050703840922694,
          117.97395812201492,
          71.5477812041013,
          64.66700604274418,
          39.293778150676815,
          6.300000000000009
         ],
         "yaxis": "y11"
        },
        {
         "mode": "lines+markers",
         "name": "Channel 6 spectrum",
         "type": "scatter",
         "x": [
          0,
          1,
          2,
          3,
          4,
          5,
          6,
          7,
          8,
          9,
          10,
          11,
          12,
          13,
          14,
          15,
          16,
          17,
          18,
          19,
          20,
          21,
          22,
          23,
          24,
          25,
          26,
          27,
          28,
          29,
          30,
          31,
          32,
          33,
          34,
          35,
          36,
          37,
          38,
          39,
          40,
          41,
          42,
          43,
          44,
          45,
          46,
          47,
          48,
          49,
          50
         ],
         "xaxis": "x13",
         "y": [
          1062.36,
          111.7245432796558,
          44.82884732692548,
          39.70296893590435,
          42.24401028113061,
          50.02141974111786,
          77.24181517845237,
          10.745205618632635,
          67.1843915020576,
          30.99889502497641,
          72.56952596384522,
          49.80440548734268,
          24.13540581969746,
          56.97669699874388,
          49.72259820642818,
          20.623629244397353,
          53.494341458631965,
          47.91383494277902,
          12.953510096009428,
          63.03982850309412,
          13.276076131386997,
          7.939469233289978,
          98.84586369380565,
          35.81451950265824,
          71.6367722085929,
          76.0349866837629,
          103.72247103209105,
          17.295826323784745,
          99.23872788219387,
          104.63390987501406,
          68.43024990004636,
          29.766639636591258,
          13.209184743344974,
          67.36564412988285,
          14.18376251696359,
          43.324919103415205,
          74.48357728326029,
          61.866252714057126,
          40.34871101543171,
          72.41051848522201,
          23.362041917469814,
          26.64495609128346,
          67.72745335862406,
          57.62782426324204,
          70.55847590141298,
          52.0306416312068,
          23.972879145093938,
          58.39780130526137,
          90.00426734063413,
          73.49749271620087,
          25.04
         ],
         "yaxis": "y13"
        },
        {
         "mode": "lines+markers",
         "name": "Channel 7 spectrum",
         "type": "scatter",
         "x": [
          0,
          1,
          2,
          3,
          4,
          5,
          6,
          7,
          8,
          9,
          10,
          11,
          12,
          13,
          14,
          15,
          16,
          17,
          18,
          19,
          20,
          21,
          22,
          23,
          24,
          25,
          26,
          27,
          28,
          29,
          30,
          31,
          32,
          33,
          34,
          35,
          36,
          37,
          38,
          39,
          40,
          41,
          42,
          43,
          44,
          45,
          46,
          47,
          48,
          49,
          50
         ],
         "xaxis": "x15",
         "y": [
          1059.88,
          37.582065190334106,
          71.0118695329384,
          78.70883427577137,
          47.9628328062707,
          18.26724383419975,
          31.977407101825406,
          60.90565387092994,
          55.16397733529875,
          29.201544259460384,
          66.44949562936458,
          95.833396478104,
          27.24160523984222,
          81.2497080389535,
          11.008961850522688,
          34.859668286062316,
          6.5198940406604935,
          25.069459715584518,
          10.066849729235361,
          60.554195054015935,
          91.47199369909684,
          64.24230915856104,
          25.822776732070334,
          68.20884930700561,
          60.311755907051065,
          22.602318465148652,
          42.332091279261725,
          69.86379639816542,
          34.11958910423257,
          4.059394292168448,
          45.278733756621975,
          26.19474177552352,
          39.05969894503328,
          25.989222511884908,
          22.23296409052131,
          32.944518596398666,
          50.373499956818776,
          40.744931295753574,
          32.01610419250418,
          79.6194564633378,
          25.633555522252205,
          72.02233215049168,
          32.161006199485385,
          109.2113567761049,
          37.729812960077325,
          51.142049471439194,
          76.17251096080959,
          40.981333064609714,
          72.70380713959538,
          34.70682358109159,
          141.83999999999997
         ],
         "yaxis": "y15"
        },
        {
         "name": "Channel 0 frequency bins",
         "type": "bar",
         "x": [
          "0.001-0.5 Hz",
          "0.5-4 Hz",
          "4-8 Hz",
          "8-12 Hz",
          "12-30 Hz"
         ],
         "xaxis": "x2",
         "y": [
          null,
          0.22295327,
          0.65249556,
          0.35113612,
          0.5341662
         ],
         "yaxis": "y2"
        },
        {
         "name": "Channel 1 frequency bins",
         "type": "bar",
         "x": [
          "0.001-0.5 Hz",
          "0.5-4 Hz",
          "4-8 Hz",
          "8-12 Hz",
          "12-30 Hz"
         ],
         "xaxis": "x4",
         "y": [
          null,
          0.6161769,
          0.6828191,
          0.80779904,
          0.65750164
         ],
         "yaxis": "y4"
        },
        {
         "name": "Channel 2 frequency bins",
         "type": "bar",
         "x": [
          "0.001-0.5 Hz",
          "0.5-4 Hz",
          "4-8 Hz",
          "8-12 Hz",
          "12-30 Hz"
         ],
         "xaxis": "x6",
         "y": [
          null,
          0.5568855,
          0.4292015,
          0.29230022,
          0.44919714
         ],
         "yaxis": "y6"
        },
        {
         "name": "Channel 3 frequency bins",
         "type": "bar",
         "x": [
          "0.001-0.5 Hz",
          "0.5-4 Hz",
          "4-8 Hz",
          "8-12 Hz",
          "12-30 Hz"
         ],
         "xaxis": "x8",
         "y": [
          null,
          0.6344216,
          0.46056473,
          0.5018736,
          0.48019198
         ],
         "yaxis": "y8"
        },
        {
         "name": "Channel 4 frequency bins",
         "type": "bar",
         "x": [
          "0.001-0.5 Hz",
          "0.5-4 Hz",
          "4-8 Hz",
          "8-12 Hz",
          "12-30 Hz"
         ],
         "xaxis": "x10",
         "y": [
          null,
          0.39380836,
          0.4586044,
          0.5730262,
          0.54135466
         ],
         "yaxis": "y10"
        },
        {
         "name": "Channel 5 frequency bins",
         "type": "bar",
         "x": [
          "0.001-0.5 Hz",
          "0.5-4 Hz",
          "4-8 Hz",
          "8-12 Hz",
          "12-30 Hz"
         ],
         "xaxis": "x12",
         "y": [
          null,
          0.24053164,
          0.30472094,
          0.8187457,
          0.48407438
         ],
         "yaxis": "y12"
        },
        {
         "name": "Channel 6 frequency bins",
         "type": "bar",
         "x": [
          "0.001-0.5 Hz",
          "0.5-4 Hz",
          "4-8 Hz",
          "8-12 Hz",
          "12-30 Hz"
         ],
         "xaxis": "x14",
         "y": [
          null,
          0.6177171,
          0.5146214,
          0.7071078,
          0.4993569
         ],
         "yaxis": "y14"
        },
        {
         "name": "Channel 7 frequency bins",
         "type": "bar",
         "x": [
          "0.001-0.5 Hz",
          "0.5-4 Hz",
          "4-8 Hz",
          "8-12 Hz",
          "12-30 Hz"
         ],
         "xaxis": "x16",
         "y": [
          null,
          0.2631889,
          0.44295382,
          0.64794797,
          0.43684447
         ],
         "yaxis": "y16"
        }
       ],
       "layout": {
        "height": 1500,
        "template": {
         "data": {
          "bar": [
           {
            "error_x": {
             "color": "#2a3f5f"
            },
            "error_y": {
             "color": "#2a3f5f"
            },
            "marker": {
             "line": {
              "color": "#E5ECF6",
              "width": 0.5
             },
             "pattern": {
              "fillmode": "overlay",
              "size": 10,
              "solidity": 0.2
             }
            },
            "type": "bar"
           }
          ],
          "barpolar": [
           {
            "marker": {
             "line": {
              "color": "#E5ECF6",
              "width": 0.5
             },
             "pattern": {
              "fillmode": "overlay",
              "size": 10,
              "solidity": 0.2
             }
            },
            "type": "barpolar"
           }
          ],
          "carpet": [
           {
            "aaxis": {
             "endlinecolor": "#2a3f5f",
             "gridcolor": "white",
             "linecolor": "white",
             "minorgridcolor": "white",
             "startlinecolor": "#2a3f5f"
            },
            "baxis": {
             "endlinecolor": "#2a3f5f",
             "gridcolor": "white",
             "linecolor": "white",
             "minorgridcolor": "white",
             "startlinecolor": "#2a3f5f"
            },
            "type": "carpet"
           }
          ],
          "choropleth": [
           {
            "colorbar": {
             "outlinewidth": 0,
             "ticks": ""
            },
            "type": "choropleth"
           }
          ],
          "contour": [
           {
            "colorbar": {
             "outlinewidth": 0,
             "ticks": ""
            },
            "colorscale": [
             [
              0,
              "#0d0887"
             ],
             [
              0.1111111111111111,
              "#46039f"
             ],
             [
              0.2222222222222222,
              "#7201a8"
             ],
             [
              0.3333333333333333,
              "#9c179e"
             ],
             [
              0.4444444444444444,
              "#bd3786"
             ],
             [
              0.5555555555555556,
              "#d8576b"
             ],
             [
              0.6666666666666666,
              "#ed7953"
             ],
             [
              0.7777777777777778,
              "#fb9f3a"
             ],
             [
              0.8888888888888888,
              "#fdca26"
             ],
             [
              1,
              "#f0f921"
             ]
            ],
            "type": "contour"
           }
          ],
          "contourcarpet": [
           {
            "colorbar": {
             "outlinewidth": 0,
             "ticks": ""
            },
            "type": "contourcarpet"
           }
          ],
          "heatmap": [
           {
            "colorbar": {
             "outlinewidth": 0,
             "ticks": ""
            },
            "colorscale": [
             [
              0,
              "#0d0887"
             ],
             [
              0.1111111111111111,
              "#46039f"
             ],
             [
              0.2222222222222222,
              "#7201a8"
             ],
             [
              0.3333333333333333,
              "#9c179e"
             ],
             [
              0.4444444444444444,
              "#bd3786"
             ],
             [
              0.5555555555555556,
              "#d8576b"
             ],
             [
              0.6666666666666666,
              "#ed7953"
             ],
             [
              0.7777777777777778,
              "#fb9f3a"
             ],
             [
              0.8888888888888888,
              "#fdca26"
             ],
             [
              1,
              "#f0f921"
             ]
            ],
            "type": "heatmap"
           }
          ],
          "heatmapgl": [
           {
            "colorbar": {
             "outlinewidth": 0,
             "ticks": ""
            },
            "colorscale": [
             [
              0,
              "#0d0887"
             ],
             [
              0.1111111111111111,
              "#46039f"
             ],
             [
              0.2222222222222222,
              "#7201a8"
             ],
             [
              0.3333333333333333,
              "#9c179e"
             ],
             [
              0.4444444444444444,
              "#bd3786"
             ],
             [
              0.5555555555555556,
              "#d8576b"
             ],
             [
              0.6666666666666666,
              "#ed7953"
             ],
             [
              0.7777777777777778,
              "#fb9f3a"
             ],
             [
              0.8888888888888888,
              "#fdca26"
             ],
             [
              1,
              "#f0f921"
             ]
            ],
            "type": "heatmapgl"
           }
          ],
          "histogram": [
           {
            "marker": {
             "pattern": {
              "fillmode": "overlay",
              "size": 10,
              "solidity": 0.2
             }
            },
            "type": "histogram"
           }
          ],
          "histogram2d": [
           {
            "colorbar": {
             "outlinewidth": 0,
             "ticks": ""
            },
            "colorscale": [
             [
              0,
              "#0d0887"
             ],
             [
              0.1111111111111111,
              "#46039f"
             ],
             [
              0.2222222222222222,
              "#7201a8"
             ],
             [
              0.3333333333333333,
              "#9c179e"
             ],
             [
              0.4444444444444444,
              "#bd3786"
             ],
             [
              0.5555555555555556,
              "#d8576b"
             ],
             [
              0.6666666666666666,
              "#ed7953"
             ],
             [
              0.7777777777777778,
              "#fb9f3a"
             ],
             [
              0.8888888888888888,
              "#fdca26"
             ],
             [
              1,
              "#f0f921"
             ]
            ],
            "type": "histogram2d"
           }
          ],
          "histogram2dcontour": [
           {
            "colorbar": {
             "outlinewidth": 0,
             "ticks": ""
            },
            "colorscale": [
             [
              0,
              "#0d0887"
             ],
             [
              0.1111111111111111,
              "#46039f"
             ],
             [
              0.2222222222222222,
              "#7201a8"
             ],
             [
              0.3333333333333333,
              "#9c179e"
             ],
             [
              0.4444444444444444,
              "#bd3786"
             ],
             [
              0.5555555555555556,
              "#d8576b"
             ],
             [
              0.6666666666666666,
              "#ed7953"
             ],
             [
              0.7777777777777778,
              "#fb9f3a"
             ],
             [
              0.8888888888888888,
              "#fdca26"
             ],
             [
              1,
              "#f0f921"
             ]
            ],
            "type": "histogram2dcontour"
           }
          ],
          "mesh3d": [
           {
            "colorbar": {
             "outlinewidth": 0,
             "ticks": ""
            },
            "type": "mesh3d"
           }
          ],
          "parcoords": [
           {
            "line": {
             "colorbar": {
              "outlinewidth": 0,
              "ticks": ""
             }
            },
            "type": "parcoords"
           }
          ],
          "pie": [
           {
            "automargin": true,
            "type": "pie"
           }
          ],
          "scatter": [
           {
            "fillpattern": {
             "fillmode": "overlay",
             "size": 10,
             "solidity": 0.2
            },
            "type": "scatter"
           }
          ],
          "scatter3d": [
           {
            "line": {
             "colorbar": {
              "outlinewidth": 0,
              "ticks": ""
             }
            },
            "marker": {
             "colorbar": {
              "outlinewidth": 0,
              "ticks": ""
             }
            },
            "type": "scatter3d"
           }
          ],
          "scattercarpet": [
           {
            "marker": {
             "colorbar": {
              "outlinewidth": 0,
              "ticks": ""
             }
            },
            "type": "scattercarpet"
           }
          ],
          "scattergeo": [
           {
            "marker": {
             "colorbar": {
              "outlinewidth": 0,
              "ticks": ""
             }
            },
            "type": "scattergeo"
           }
          ],
          "scattergl": [
           {
            "marker": {
             "colorbar": {
              "outlinewidth": 0,
              "ticks": ""
             }
            },
            "type": "scattergl"
           }
          ],
          "scattermapbox": [
           {
            "marker": {
             "colorbar": {
              "outlinewidth": 0,
              "ticks": ""
             }
            },
            "type": "scattermapbox"
           }
          ],
          "scatterpolar": [
           {
            "marker": {
             "colorbar": {
              "outlinewidth": 0,
              "ticks": ""
             }
            },
            "type": "scatterpolar"
           }
          ],
          "scatterpolargl": [
           {
            "marker": {
             "colorbar": {
              "outlinewidth": 0,
              "ticks": ""
             }
            },
            "type": "scatterpolargl"
           }
          ],
          "scatterternary": [
           {
            "marker": {
             "colorbar": {
              "outlinewidth": 0,
              "ticks": ""
             }
            },
            "type": "scatterternary"
           }
          ],
          "surface": [
           {
            "colorbar": {
             "outlinewidth": 0,
             "ticks": ""
            },
            "colorscale": [
             [
              0,
              "#0d0887"
             ],
             [
              0.1111111111111111,
              "#46039f"
             ],
             [
              0.2222222222222222,
              "#7201a8"
             ],
             [
              0.3333333333333333,
              "#9c179e"
             ],
             [
              0.4444444444444444,
              "#bd3786"
             ],
             [
              0.5555555555555556,
              "#d8576b"
             ],
             [
              0.6666666666666666,
              "#ed7953"
             ],
             [
              0.7777777777777778,
              "#fb9f3a"
             ],
             [
              0.8888888888888888,
              "#fdca26"
             ],
             [
              1,
              "#f0f921"
             ]
            ],
            "type": "surface"
           }
          ],
          "table": [
           {
            "cells": {
             "fill": {
              "color": "#EBF0F8"
             },
             "line": {
              "color": "white"
             }
            },
            "header": {
             "fill": {
              "color": "#C8D4E3"
             },
             "line": {
              "color": "white"
             }
            },
            "type": "table"
           }
          ]
         },
         "layout": {
          "annotationdefaults": {
           "arrowcolor": "#2a3f5f",
           "arrowhead": 0,
           "arrowwidth": 1
          },
          "autotypenumbers": "strict",
          "coloraxis": {
           "colorbar": {
            "outlinewidth": 0,
            "ticks": ""
           }
          },
          "colorscale": {
           "diverging": [
            [
             0,
             "#8e0152"
            ],
            [
             0.1,
             "#c51b7d"
            ],
            [
             0.2,
             "#de77ae"
            ],
            [
             0.3,
             "#f1b6da"
            ],
            [
             0.4,
             "#fde0ef"
            ],
            [
             0.5,
             "#f7f7f7"
            ],
            [
             0.6,
             "#e6f5d0"
            ],
            [
             0.7,
             "#b8e186"
            ],
            [
             0.8,
             "#7fbc41"
            ],
            [
             0.9,
             "#4d9221"
            ],
            [
             1,
             "#276419"
            ]
           ],
           "sequential": [
            [
             0,
             "#0d0887"
            ],
            [
             0.1111111111111111,
             "#46039f"
            ],
            [
             0.2222222222222222,
             "#7201a8"
            ],
            [
             0.3333333333333333,
             "#9c179e"
            ],
            [
             0.4444444444444444,
             "#bd3786"
            ],
            [
             0.5555555555555556,
             "#d8576b"
            ],
            [
             0.6666666666666666,
             "#ed7953"
            ],
            [
             0.7777777777777778,
             "#fb9f3a"
            ],
            [
             0.8888888888888888,
             "#fdca26"
            ],
            [
             1,
             "#f0f921"
            ]
           ],
           "sequentialminus": [
            [
             0,
             "#0d0887"
            ],
            [
             0.1111111111111111,
             "#46039f"
            ],
            [
             0.2222222222222222,
             "#7201a8"
            ],
            [
             0.3333333333333333,
             "#9c179e"
            ],
            [
             0.4444444444444444,
             "#bd3786"
            ],
            [
             0.5555555555555556,
             "#d8576b"
            ],
            [
             0.6666666666666666,
             "#ed7953"
            ],
            [
             0.7777777777777778,
             "#fb9f3a"
            ],
            [
             0.8888888888888888,
             "#fdca26"
            ],
            [
             1,
             "#f0f921"
            ]
           ]
          },
          "colorway": [
           "#636efa",
           "#EF553B",
           "#00cc96",
           "#ab63fa",
           "#FFA15A",
           "#19d3f3",
           "#FF6692",
           "#B6E880",
           "#FF97FF",
           "#FECB52"
          ],
          "font": {
           "color": "#2a3f5f"
          },
          "geo": {
           "bgcolor": "white",
           "lakecolor": "white",
           "landcolor": "#E5ECF6",
           "showlakes": true,
           "showland": true,
           "subunitcolor": "white"
          },
          "hoverlabel": {
           "align": "left"
          },
          "hovermode": "closest",
          "mapbox": {
           "style": "light"
          },
          "paper_bgcolor": "white",
          "plot_bgcolor": "#E5ECF6",
          "polar": {
           "angularaxis": {
            "gridcolor": "white",
            "linecolor": "white",
            "ticks": ""
           },
           "bgcolor": "#E5ECF6",
           "radialaxis": {
            "gridcolor": "white",
            "linecolor": "white",
            "ticks": ""
           }
          },
          "scene": {
           "xaxis": {
            "backgroundcolor": "#E5ECF6",
            "gridcolor": "white",
            "gridwidth": 2,
            "linecolor": "white",
            "showbackground": true,
            "ticks": "",
            "zerolinecolor": "white"
           },
           "yaxis": {
            "backgroundcolor": "#E5ECF6",
            "gridcolor": "white",
            "gridwidth": 2,
            "linecolor": "white",
            "showbackground": true,
            "ticks": "",
            "zerolinecolor": "white"
           },
           "zaxis": {
            "backgroundcolor": "#E5ECF6",
            "gridcolor": "white",
            "gridwidth": 2,
            "linecolor": "white",
            "showbackground": true,
            "ticks": "",
            "zerolinecolor": "white"
           }
          },
          "shapedefaults": {
           "line": {
            "color": "#2a3f5f"
           }
          },
          "ternary": {
           "aaxis": {
            "gridcolor": "white",
            "linecolor": "white",
            "ticks": ""
           },
           "baxis": {
            "gridcolor": "white",
            "linecolor": "white",
            "ticks": ""
           },
           "bgcolor": "#E5ECF6",
           "caxis": {
            "gridcolor": "white",
            "linecolor": "white",
            "ticks": ""
           }
          },
          "title": {
           "x": 0.05
          },
          "xaxis": {
           "automargin": true,
           "gridcolor": "white",
           "linecolor": "white",
           "ticks": "",
           "title": {
            "standoff": 15
           },
           "zerolinecolor": "white",
           "zerolinewidth": 2
          },
          "yaxis": {
           "automargin": true,
           "gridcolor": "white",
           "linecolor": "white",
           "ticks": "",
           "title": {
            "standoff": 15
           },
           "zerolinecolor": "white",
           "zerolinewidth": 2
          }
         }
        },
        "width": 2000,
        "xaxis": {
         "anchor": "y",
         "domain": [
          0,
          0.45
         ]
        },
        "xaxis10": {
         "anchor": "y10",
         "domain": [
          0.55,
          1
         ]
        },
        "xaxis11": {
         "anchor": "y11",
         "domain": [
          0,
          0.45
         ]
        },
        "xaxis12": {
         "anchor": "y12",
         "domain": [
          0.55,
          1
         ]
        },
        "xaxis13": {
         "anchor": "y13",
         "domain": [
          0,
          0.45
         ]
        },
        "xaxis14": {
         "anchor": "y14",
         "domain": [
          0.55,
          1
         ]
        },
        "xaxis15": {
         "anchor": "y15",
         "domain": [
          0,
          0.45
         ]
        },
        "xaxis16": {
         "anchor": "y16",
         "domain": [
          0.55,
          1
         ]
        },
        "xaxis2": {
         "anchor": "y2",
         "domain": [
          0.55,
          1
         ]
        },
        "xaxis3": {
         "anchor": "y3",
         "domain": [
          0,
          0.45
         ]
        },
        "xaxis4": {
         "anchor": "y4",
         "domain": [
          0.55,
          1
         ]
        },
        "xaxis5": {
         "anchor": "y5",
         "domain": [
          0,
          0.45
         ]
        },
        "xaxis6": {
         "anchor": "y6",
         "domain": [
          0.55,
          1
         ]
        },
        "xaxis7": {
         "anchor": "y7",
         "domain": [
          0,
          0.45
         ]
        },
        "xaxis8": {
         "anchor": "y8",
         "domain": [
          0.55,
          1
         ]
        },
        "xaxis9": {
         "anchor": "y9",
         "domain": [
          0,
          0.45
         ]
        },
        "yaxis": {
         "anchor": "x",
         "domain": [
          0.9078124999999999,
          0.9999999999999999
         ]
        },
        "yaxis10": {
         "anchor": "x10",
         "domain": [
          0.38906250000000003,
          0.48125000000000007
         ]
        },
        "yaxis11": {
         "anchor": "x11",
         "domain": [
          0.259375,
          0.3515625
         ]
        },
        "yaxis12": {
         "anchor": "x12",
         "domain": [
          0.259375,
          0.3515625
         ]
        },
        "yaxis13": {
         "anchor": "x13",
         "domain": [
          0.1296875,
          0.22187500000000002
         ]
        },
        "yaxis14": {
         "anchor": "x14",
         "domain": [
          0.1296875,
          0.22187500000000002
         ]
        },
        "yaxis15": {
         "anchor": "x15",
         "domain": [
          0,
          0.0921875
         ]
        },
        "yaxis16": {
         "anchor": "x16",
         "domain": [
          0,
          0.0921875
         ]
        },
        "yaxis2": {
         "anchor": "x2",
         "domain": [
          0.9078124999999999,
          0.9999999999999999
         ]
        },
        "yaxis3": {
         "anchor": "x3",
         "domain": [
          0.778125,
          0.8703124999999999
         ]
        },
        "yaxis4": {
         "anchor": "x4",
         "domain": [
          0.778125,
          0.8703124999999999
         ]
        },
        "yaxis5": {
         "anchor": "x5",
         "domain": [
          0.6484375,
          0.740625
         ]
        },
        "yaxis6": {
         "anchor": "x6",
         "domain": [
          0.6484375,
          0.740625
         ]
        },
        "yaxis7": {
         "anchor": "x7",
         "domain": [
          0.51875,
          0.6109375
         ]
        },
        "yaxis8": {
         "anchor": "x8",
         "domain": [
          0.51875,
          0.6109375
         ]
        },
        "yaxis9": {
         "anchor": "x9",
         "domain": [
          0.38906250000000003,
          0.48125000000000007
         ]
        }
       }
      }
     },
     "metadata": {},
     "output_type": "display_data"
    }
   ],
   "source": [
    "communicator.render()"
   ]
  },
  {
   "cell_type": "code",
   "execution_count": 80,
   "metadata": {},
   "outputs": [
    {
     "data": {
      "text/plain": [
       "(OrderedDict([('raw_data',\n",
       "               array([[0, 0, 0, 0, 0, 0, 0, 0],\n",
       "                      [0, 0, 0, 0, 0, 0, 0, 0],\n",
       "                      [0, 0, 0, 0, 0, 0, 0, 0],\n",
       "                      [0, 0, 0, 0, 0, 0, 0, 0],\n",
       "                      [0, 0, 0, 0, 0, 0, 0, 0],\n",
       "                      [0, 0, 0, 0, 0, 0, 0, 0],\n",
       "                      [0, 0, 0, 0, 0, 0, 0, 0],\n",
       "                      [0, 0, 0, 0, 0, 0, 0, 0],\n",
       "                      [0, 0, 0, 0, 0, 0, 0, 0],\n",
       "                      [0, 0, 0, 0, 0, 0, 0, 0],\n",
       "                      [0, 0, 0, 0, 0, 0, 0, 0],\n",
       "                      [0, 0, 0, 0, 0, 0, 0, 0],\n",
       "                      [0, 0, 0, 0, 0, 0, 0, 0],\n",
       "                      [0, 0, 0, 0, 0, 0, 0, 0],\n",
       "                      [0, 0, 0, 0, 0, 0, 0, 0],\n",
       "                      [0, 0, 0, 0, 0, 0, 0, 0],\n",
       "                      [0, 0, 0, 0, 0, 0, 0, 0],\n",
       "                      [0, 0, 0, 0, 0, 0, 0, 0],\n",
       "                      [0, 0, 0, 0, 0, 0, 0, 0],\n",
       "                      [0, 0, 0, 0, 0, 0, 0, 0],\n",
       "                      [0, 0, 0, 0, 0, 0, 0, 0],\n",
       "                      [0, 0, 0, 0, 0, 0, 0, 0],\n",
       "                      [0, 0, 0, 0, 0, 0, 0, 0],\n",
       "                      [0, 0, 0, 0, 0, 0, 0, 0],\n",
       "                      [0, 0, 0, 0, 0, 0, 0, 0],\n",
       "                      [0, 0, 0, 0, 0, 0, 0, 0],\n",
       "                      [0, 0, 0, 0, 0, 0, 0, 0],\n",
       "                      [0, 0, 0, 0, 0, 0, 0, 0],\n",
       "                      [0, 0, 0, 0, 0, 0, 0, 0],\n",
       "                      [0, 0, 0, 0, 0, 0, 0, 0],\n",
       "                      [0, 0, 0, 0, 0, 0, 0, 0],\n",
       "                      [0, 0, 0, 0, 0, 0, 0, 0],\n",
       "                      [0, 0, 0, 0, 0, 0, 0, 0],\n",
       "                      [0, 0, 0, 0, 0, 0, 0, 0],\n",
       "                      [0, 0, 0, 0, 0, 0, 0, 0],\n",
       "                      [0, 0, 0, 0, 0, 0, 0, 0],\n",
       "                      [0, 0, 0, 0, 0, 0, 0, 0],\n",
       "                      [0, 0, 0, 0, 0, 0, 0, 0],\n",
       "                      [0, 0, 0, 0, 0, 0, 0, 0],\n",
       "                      [0, 0, 0, 0, 0, 0, 0, 0],\n",
       "                      [0, 0, 0, 0, 0, 0, 0, 0],\n",
       "                      [0, 0, 0, 0, 0, 0, 0, 0],\n",
       "                      [0, 0, 0, 0, 0, 0, 0, 0],\n",
       "                      [0, 0, 0, 0, 0, 0, 0, 0],\n",
       "                      [0, 0, 0, 0, 0, 0, 0, 0],\n",
       "                      [0, 0, 0, 0, 0, 0, 0, 0],\n",
       "                      [0, 0, 0, 0, 0, 0, 0, 0],\n",
       "                      [0, 0, 0, 0, 0, 0, 0, 0],\n",
       "                      [0, 0, 0, 0, 0, 0, 0, 0],\n",
       "                      [0, 0, 0, 0, 0, 0, 0, 0],\n",
       "                      [0, 0, 0, 0, 0, 0, 0, 0],\n",
       "                      [0, 0, 0, 0, 0, 0, 0, 0],\n",
       "                      [0, 0, 0, 0, 0, 0, 0, 0],\n",
       "                      [0, 0, 0, 0, 0, 0, 0, 0],\n",
       "                      [0, 0, 0, 0, 0, 0, 0, 0],\n",
       "                      [0, 0, 0, 0, 0, 0, 0, 0],\n",
       "                      [0, 0, 0, 0, 0, 0, 0, 0],\n",
       "                      [0, 0, 0, 0, 0, 0, 0, 0],\n",
       "                      [0, 0, 0, 0, 0, 0, 0, 0],\n",
       "                      [0, 0, 0, 0, 0, 0, 0, 0],\n",
       "                      [0, 0, 0, 0, 0, 0, 0, 0],\n",
       "                      [0, 0, 0, 0, 0, 0, 0, 0],\n",
       "                      [0, 0, 0, 0, 0, 0, 0, 0],\n",
       "                      [0, 0, 0, 0, 0, 0, 0, 0],\n",
       "                      [0, 0, 0, 0, 0, 0, 0, 0],\n",
       "                      [0, 0, 0, 0, 0, 0, 0, 0],\n",
       "                      [0, 0, 0, 0, 0, 0, 0, 0],\n",
       "                      [0, 0, 0, 0, 0, 0, 0, 0],\n",
       "                      [0, 0, 0, 0, 0, 0, 0, 0],\n",
       "                      [0, 0, 0, 0, 0, 0, 0, 0],\n",
       "                      [0, 0, 0, 0, 0, 0, 0, 0],\n",
       "                      [0, 0, 0, 0, 0, 0, 0, 0],\n",
       "                      [0, 0, 0, 0, 0, 0, 0, 0],\n",
       "                      [0, 0, 0, 0, 0, 0, 0, 0],\n",
       "                      [0, 0, 0, 0, 0, 0, 0, 0],\n",
       "                      [0, 0, 0, 0, 0, 0, 0, 0],\n",
       "                      [0, 0, 0, 0, 0, 0, 0, 0],\n",
       "                      [0, 0, 0, 0, 0, 0, 0, 0],\n",
       "                      [0, 0, 0, 0, 0, 0, 0, 0],\n",
       "                      [0, 0, 0, 0, 0, 0, 0, 0],\n",
       "                      [0, 0, 0, 0, 0, 0, 0, 0],\n",
       "                      [0, 0, 0, 0, 0, 0, 0, 0],\n",
       "                      [0, 0, 0, 0, 0, 0, 0, 0],\n",
       "                      [0, 0, 0, 0, 0, 0, 0, 0],\n",
       "                      [0, 0, 0, 0, 0, 0, 0, 0],\n",
       "                      [0, 0, 0, 0, 0, 0, 0, 0],\n",
       "                      [0, 0, 0, 0, 0, 0, 0, 0],\n",
       "                      [0, 0, 0, 0, 0, 0, 0, 0],\n",
       "                      [0, 0, 0, 0, 0, 0, 0, 0],\n",
       "                      [0, 0, 0, 0, 0, 0, 0, 0],\n",
       "                      [0, 0, 0, 0, 0, 0, 0, 0],\n",
       "                      [0, 0, 0, 0, 0, 0, 0, 0],\n",
       "                      [0, 0, 0, 0, 0, 0, 0, 0],\n",
       "                      [0, 0, 0, 0, 0, 0, 0, 0],\n",
       "                      [0, 0, 0, 0, 0, 0, 0, 0],\n",
       "                      [0, 0, 0, 0, 0, 0, 0, 0],\n",
       "                      [0, 0, 0, 0, 0, 0, 0, 0],\n",
       "                      [0, 0, 0, 0, 0, 0, 0, 0],\n",
       "                      [0, 0, 0, 0, 0, 0, 0, 0],\n",
       "                      [0, 0, 0, 0, 0, 0, 0, 0]])),\n",
       "              ('fft',\n",
       "               array([[1049.54      ,   49.06836421,  111.98225449,   45.89247664,\n",
       "                         63.637579  ,   24.88828855,   42.83144032,   24.86216837,\n",
       "                         54.83159374,   73.05672657,   67.17028039,   88.10663254,\n",
       "                         48.5510092 ,   26.454265  ,   10.6655075 ,   52.83549736,\n",
       "                         57.9250794 ,   41.77439315,   55.48477007,   60.60042916,\n",
       "                         54.93757533,   10.19565864,   73.06569218,    7.03556455,\n",
       "                         67.78529703,   47.08003823,   56.05975653,  102.41625115,\n",
       "                         85.11167401,   36.02272309,   67.074438  ,   64.50978813,\n",
       "                        117.46164995,   77.55100632,   73.9348083 ,    9.31382926,\n",
       "                         47.61667348,   71.73359327,   73.71741022,    4.83146755,\n",
       "                         65.71949495,   43.67956235,   56.46987013,   37.43523271,\n",
       "                         72.80647493,   39.92327512,   33.8166421 ,  116.2609936 ,\n",
       "                         39.30771437,   32.22165043,   65.62      ],\n",
       "                      [1018.96      ,   40.33671518,   36.66926952,   94.58474725,\n",
       "                         98.80257065,   15.47301004,  110.68749931,   35.65800253,\n",
       "                        104.01655941,   39.06643099,   27.54293802,   33.29290691,\n",
       "                         31.40097661,   22.81195058,   19.90031131,   63.92638257,\n",
       "                        118.76177804,   70.62581295,   21.18269852,   56.05293546,\n",
       "                         89.79615398,   61.30356027,   52.31219506,   44.91926183,\n",
       "                         68.76524328,   52.43587322,  117.04488476,   69.22966479,\n",
       "                         14.9328537 ,   91.52929841,   72.775137  ,   58.17741617,\n",
       "                         42.28877156,   56.90905707,   26.95128192,   94.45851752,\n",
       "                         33.77599368,   12.26397794,   54.83120773,   17.7097001 ,\n",
       "                         47.00527555,   79.26004225,   72.42839014,   36.52284784,\n",
       "                         34.52772831,   19.96555131,   44.29631616,   15.1988198 ,\n",
       "                         88.39767741,   64.58816082,   66.6       ],\n",
       "                      [1133.52      ,   66.99971361,   59.27682187,   54.83069143,\n",
       "                         33.82184622,   43.26995745,   90.05040063,  108.30802088,\n",
       "                        119.94342419,   53.89288467,   70.30537118,   11.80521597,\n",
       "                         97.69371984,    9.63430974,   41.46704052,   42.93439502,\n",
       "                         61.91279288,   56.79576719,   63.8952663 ,  122.03919496,\n",
       "                         36.18393082,   57.27685214,   25.81637135,   99.09390284,\n",
       "                         48.67449774,   66.50521784,    5.19029621,   49.90720215,\n",
       "                         24.25259295,   19.86710824,   38.58595577,   30.38523108,\n",
       "                         23.02210628,   15.4024839 ,   83.90842653,   61.13474312,\n",
       "                          9.9936306 ,   63.21148602,   47.61299874,   34.98134125,\n",
       "                         88.17061841,   73.01726739,   50.38828165,   68.95468922,\n",
       "                         37.46705277,   36.95580725,   44.2019955 ,   18.32133889,\n",
       "                         63.03559173,   45.7499158 ,   25.04      ],\n",
       "                      [1020.66      ,  115.20525019,   24.33598893,   34.07328213,\n",
       "                         19.5776022 ,   92.93975357,   39.424183  ,   78.95315704,\n",
       "                         12.93549405,  139.9770858 ,   35.31006226,   23.23515468,\n",
       "                        109.07557592,   14.50900275,   11.91549105,   14.76146324,\n",
       "                         94.25532101,   42.46663242,   55.91588115,   34.69816036,\n",
       "                         54.89355924,   63.61156207,   55.98226074,   36.19004266,\n",
       "                         69.00096241,   67.52926773,   57.24668567,   81.22832259,\n",
       "                        102.4657097 ,   84.30371729,   75.34249998,    6.44801762,\n",
       "                         46.88418288,   77.90861102,   72.12115104,   42.75858495,\n",
       "                         88.91261563,   70.4678401 ,   52.54148926,   21.21566043,\n",
       "                         34.72624878,   52.05547443,   61.17864429,   81.92038596,\n",
       "                         59.9093659 ,   53.398959  ,   80.45675342,   38.61068703,\n",
       "                         31.17481771,   47.36027599,   10.98      ],\n",
       "                      [1056.14      ,   62.20064521,   60.82459993,   98.53185798,\n",
       "                         72.31210339,   71.11939851,   48.66173122,  100.06928203,\n",
       "                         64.40939163,   32.79450602,  102.94008673,   69.03441068,\n",
       "                         50.84064509,   37.03033796,   41.73667134,   89.2525979 ,\n",
       "                         26.41604951,   59.83283744,   30.02742219,   83.68042466,\n",
       "                         52.11855304,  101.4518964 ,   47.3440207 ,   82.80591207,\n",
       "                         53.48134071,   75.99201274,   36.18039561,   30.08950156,\n",
       "                          5.27635944,   52.30605619,   48.4288937 ,   52.6619978 ,\n",
       "                         46.97391503,   86.32561263,  118.74235831,   43.71797748,\n",
       "                         29.10088181,   39.92922262,   49.79808911,   42.25466764,\n",
       "                          7.72448245,    5.1989428 ,   17.66859099,   47.50497207,\n",
       "                         61.20154883,   83.65127237,   25.82259428,   83.43727429,\n",
       "                         32.91415715,   35.6958109 ,   58.26      ],\n",
       "                      [1213.78      ,   65.20601655,   40.83496046,   41.50607625,\n",
       "                         72.26715649,   17.51205865,   50.63784856,   37.02900277,\n",
       "                         60.73939277,   17.16923951,   69.06291331,   38.30514904,\n",
       "                         13.3368005 ,   61.8796739 ,   44.86648854,   58.62939698,\n",
       "                         43.35201902,   92.28894961,   30.37191241,   64.54257213,\n",
       "                         40.34684847,   26.26247718,   41.55273644,   70.5674602 ,\n",
       "                         99.77514041,   68.74400337,   68.15700236,   34.02800242,\n",
       "                         66.40633464,   63.38555899,   23.54947992,   66.92281025,\n",
       "                         27.14694006,   84.57267648,   42.56578795,   61.49449529,\n",
       "                         51.75141898,   59.29668419,   17.28514355,   62.28568864,\n",
       "                         72.66430086,   59.33356521,   36.18226111,   14.98271273,\n",
       "                         44.0757152 ,   94.11291442,   95.0262072 ,    9.57990098,\n",
       "                         45.30567452,   19.77090427,  107.7       ],\n",
       "                      [1030.58      ,   29.87776839,   83.96819374,   79.44731867,\n",
       "                         55.66540524,   18.87043862,   95.50253323,   60.56671015,\n",
       "                         78.9137001 ,   46.57344227,  110.21417256,   81.04802493,\n",
       "                         54.27930265,   38.60365665,   35.28728491,   79.2907271 ,\n",
       "                         15.22187149,  111.9291662 ,   30.64051351,   65.22808592,\n",
       "                         77.80944778,   52.83153912,   86.63459457,   64.69209397,\n",
       "                         71.06506736,   72.30017704,   65.1160802 ,   31.95272592,\n",
       "                         42.50082654,   14.30015061,   40.00706145,   15.95793807,\n",
       "                         28.03055644,   82.64687879,   51.88391946,   66.58709624,\n",
       "                         65.2483617 ,   33.42330787,   58.16487424,   58.06337986,\n",
       "                         42.94115318,   18.26046173,   20.62087001,   24.04312112,\n",
       "                          7.41155473,   14.54648262,   96.30879602,   50.87539252,\n",
       "                         51.24656604,   53.66523381,   30.82      ],\n",
       "                      [1036.72      ,   58.02820505,   10.21019983,   68.71408162,\n",
       "                         20.88572124,   72.31886999,   47.33716667,   58.37239322,\n",
       "                         60.89993663,   74.55426965,   74.86643655,   30.87881577,\n",
       "                         48.28861739,   72.88612646,   71.24345772,   56.4154705 ,\n",
       "                         53.99493455,   29.89132371,   49.95592414,   36.44281768,\n",
       "                         48.21613931,   90.64627895,   50.54981602,   70.9399817 ,\n",
       "                         72.34048128,   60.11423791,   43.34740575,   45.69359663,\n",
       "                         37.07760836,    5.80196139,   29.52209137,   39.65697863,\n",
       "                         81.34207326,   79.43759673,   55.63481432,   33.13484461,\n",
       "                         48.01739346,   71.66714227,   29.20298063,   56.34783866,\n",
       "                         30.98533056,   33.38896259,   84.97840294,   50.36103924,\n",
       "                         50.34009697,   38.17994506,   38.04966168,  106.21344481,\n",
       "                        101.92110795,   81.47110407,   54.24      ]])),\n",
       "              ('fbins',\n",
       "               array([[       nan, 0.46245614, 0.55076915, 0.7190973 , 0.3869585 ],\n",
       "                      [       nan, 0.6786988 , 0.27869403, 0.32404906, 0.42352626],\n",
       "                      [       nan, 0.7026524 , 0.61288786, 0.5821615 , 0.5422552 ],\n",
       "                      [       nan, 0.5038341 , 0.4776087 , 0.59036833, 0.51095974],\n",
       "                      [       nan, 0.60353667, 0.45966247, 0.5005088 , 0.35902268],\n",
       "                      [       nan, 0.74340755, 0.53612196, 0.52442694, 0.6386007 ],\n",
       "                      [       nan, 0.43773803, 0.26482034, 0.66295844, 0.46455294],\n",
       "                      [       nan, 0.6186531 , 0.53590035, 0.6800144 , 0.36122942]],\n",
       "                     dtype=float32))]),\n",
       " array(4.4100804, dtype=float32),\n",
       " False,\n",
       " {})"
      ]
     },
     "execution_count": 80,
     "metadata": {},
     "output_type": "execute_result"
    }
   ],
   "source": [
    "res"
   ]
  },
  {
   "cell_type": "code",
   "execution_count": 73,
   "metadata": {},
   "outputs": [
    {
     "ename": "ValueError",
     "evalue": "too many values to unpack (expected 2)",
     "output_type": "error",
     "traceback": [
      "\u001b[0;31m---------------------------------------------------------------------------\u001b[0m",
      "\u001b[0;31mValueError\u001b[0m                                Traceback (most recent call last)",
      "Cell \u001b[0;32mIn[73], line 1\u001b[0m\n\u001b[0;32m----> 1\u001b[0m \u001b[38;5;28;01mfor\u001b[39;00m low, high \u001b[38;5;129;01min\u001b[39;00m communicator\u001b[38;5;241m.\u001b[39mfbins:\n\u001b[1;32m      2\u001b[0m     \u001b[38;5;28mprint\u001b[39m(low, high)\n",
      "\u001b[0;31mValueError\u001b[0m: too many values to unpack (expected 2)"
     ]
    }
   ],
   "source": [
    "for low, high in communicator.fbins:\n",
    "    print(low, high)"
   ]
  },
  {
   "cell_type": "code",
   "execution_count": 74,
   "metadata": {},
   "outputs": [
    {
     "data": {
      "text/plain": [
       "array([[       nan, 0.6982351 , 0.6538787 , 0.43219435, 0.5053414 ],\n",
       "       [       nan, 0.5992771 , 0.6171261 , 0.3235731 , 0.42574465],\n",
       "       [       nan, 0.29284555, 0.64092684, 0.77488357, 0.47472328],\n",
       "       [       nan, 0.50798297, 0.46259686, 0.5543925 , 0.5086066 ],\n",
       "       [       nan, 0.45116618, 0.48398477, 0.79926497, 0.5995662 ],\n",
       "       [       nan, 0.5164592 , 0.33149385, 0.5761446 , 0.53982437],\n",
       "       [       nan, 0.31781006, 0.37277874, 0.52640885, 0.5283958 ],\n",
       "       [       nan, 0.3079564 , 0.6230651 , 0.31849974, 0.5566319 ]],\n",
       "      dtype=float32)"
      ]
     },
     "execution_count": 74,
     "metadata": {},
     "output_type": "execute_result"
    }
   ],
   "source": [
    "communicator.fbins"
   ]
  },
  {
   "cell_type": "code",
   "execution_count": 72,
   "metadata": {},
   "outputs": [
    {
     "data": {
      "text/plain": [
       "array([[ 977.94      ,   94.79825768,   35.85994414,  116.29147161,\n",
       "          58.17282561,   35.85678481,   15.70999903,   56.10109109,\n",
       "          90.15924147,   60.17444454,   18.45576598,  117.7905015 ,\n",
       "          42.8311498 ,   54.48442461,   73.40662573,   64.59555359,\n",
       "          40.2182514 ,   18.46259997,   18.2396288 ,   10.72506476,\n",
       "          59.97846249,   33.57476122,   92.8180531 ,   20.58441116,\n",
       "          35.45424914,   31.57437569,   20.30761684,   48.4961765 ,\n",
       "         159.04429771,   70.21094093,   49.69210704,   18.81233736,\n",
       "          92.78241405,   48.17055463,   51.66721257,   68.85679848,\n",
       "          71.76493153,   46.09494315,   14.85317015,   79.06896782,\n",
       "          63.247571  ,   50.19697439,   78.05301918,   47.09011193,\n",
       "          66.83176778,   62.76192749,   63.72843927,   92.15048586,\n",
       "          46.31383209,   38.68174902,   35.62      ],\n",
       "       [ 949.5       ,  109.48324881,   50.83762211,   64.38010751,\n",
       "          59.64524474,   18.4722154 ,   29.65695507,   53.70301892,\n",
       "          62.47357429,   81.25129549,   24.11040317,   54.430581  ,\n",
       "          91.91590523,   47.21399118,   85.0719965 ,   53.67491491,\n",
       "          38.93094824,   55.61927882,   39.06522805,  120.35100265,\n",
       "          87.57694713,   63.61061804,   52.2019999 ,   28.87675041,\n",
       "          53.9373466 ,  105.61655363,   10.07400451,   18.89092931,\n",
       "          75.17426787,    6.0923342 ,   39.1180733 ,   34.16646958,\n",
       "          81.46157013,   46.81311092,   68.72968537,   22.97749472,\n",
       "          34.50058968,   50.20731091,   20.68389305,   72.38078185,\n",
       "          87.76545067,   23.15018352,   66.65123167,   68.74348143,\n",
       "           5.46890407,   18.50829824,   29.73705496,   21.54579269,\n",
       "          68.94638506,   20.14897881,   28.66      ],\n",
       "       [1011.48      ,   21.14566516,   27.15002799,  102.12105362,\n",
       "          96.53240432,   49.5764402 ,   64.45882598,   73.92693503,\n",
       "           2.6158073 ,   96.60105332,   13.46229406,   40.80845803,\n",
       "           7.57950247,   62.6455914 ,  124.23908267,   55.25925008,\n",
       "          41.5777989 ,   57.41906421,   21.93655785,   22.41141469,\n",
       "          36.89700204,   59.08598985,   11.05012699,   59.10492885,\n",
       "          41.86836278,    4.82037343,   40.79887685,   41.07172168,\n",
       "          47.16558023,   31.78873361,   44.87243518,   47.01810787,\n",
       "          53.81292165,    7.2588168 ,   47.74571018,   50.12870424,\n",
       "          38.92450471,   54.70730047,   66.72249392,   48.88796602,\n",
       "          68.14161754,   97.72495842,   69.48147014,   73.83925575,\n",
       "          96.95504896,   64.01934762,   56.30025855,    7.9548982 ,\n",
       "          72.03565344,   45.96294234,   29.92      ],\n",
       "       [ 978.94      ,  106.71654442,   84.66345738,  109.17712937,\n",
       "          81.76982263,   54.34327418,   32.26730124,   74.27964868,\n",
       "          89.31622539,   35.35987092,   48.18576532,   50.82126705,\n",
       "          22.54808995,   14.56452117,   22.1062006 ,   24.8075916 ,\n",
       "           5.40598527,   56.38330715,   41.12989615,   49.95465302,\n",
       "          49.53775284,   65.29145321,   45.95475481,   73.64556927,\n",
       "          70.60542645,   59.06391453,   38.44735685,   19.89786356,\n",
       "          59.01494961,   59.00956852,   82.4037549 ,   66.07006384,\n",
       "          61.4475415 ,   55.27147701,   47.52912272,   30.55262689,\n",
       "          17.56285358,   22.49767616,    5.93470846,   84.41981642,\n",
       "          66.18111697,   26.52609392,   39.41245062,   46.66960038,\n",
       "          63.13827565,   73.04870252,   53.96937575,   69.3367185 ,\n",
       "          85.24133033,   49.16026571,   60.78      ],\n",
       "       [1085.74      ,   32.63451806,    7.97463383,   16.10561876,\n",
       "          86.41333956,   54.76060976,   50.58194156,   31.28203409,\n",
       "          47.54826515,   72.60592795,   31.76761066,   33.06196422,\n",
       "          34.6605445 ,   45.49730415,   59.73081421,   16.04338478,\n",
       "          37.90932693,   84.98434127,   43.16624349,   15.08220698,\n",
       "          43.70188246,   61.62886431,   69.28273383,   18.20464004,\n",
       "          83.72656051,   19.08944211,    5.45958105,   80.4182527 ,\n",
       "          71.7580953 ,   85.0646891 ,   39.85916347,   18.23550597,\n",
       "          25.54876989,   11.80609164,   23.51650469,   98.6187102 ,\n",
       "          52.38756145,   31.93620939,   48.13825514,   66.95923812,\n",
       "          46.8811974 ,   53.85692985,   25.00344298,   43.52565692,\n",
       "          48.76155022,   22.62862393,   74.76777158,  111.17417505,\n",
       "          39.59672486,   29.03851753,   59.9       ],\n",
       "       [1015.32      ,   11.60300576,   74.85952882,   56.27569836,\n",
       "          61.9913508 ,   28.6283529 ,   82.24047832,   35.78541951,\n",
       "          82.81051248,   33.66069066,   67.57818937,   15.5966773 ,\n",
       "          28.13138435,   51.13800083,   87.25320125,   91.54089788,\n",
       "          70.22492287,    7.32597862,   12.76601649,   67.67430787,\n",
       "          95.75112739,   26.44214486,   44.80048281,   24.45433217,\n",
       "         144.13408941,  107.24226779,   36.30239263,   30.02062183,\n",
       "          90.69999792,   56.29073809,   81.39561119,   24.47954347,\n",
       "          96.25660358,   24.27218116,   25.85145874,   88.3433838 ,\n",
       "          90.39007298,   11.19222633,   37.46621363,   66.20838459,\n",
       "          36.75889557,   40.32142757,   81.50503995,   24.69790763,\n",
       "          33.67658956,   54.12954798,   65.83081933,   65.60201223,\n",
       "          73.03316923,   58.93456432,    7.64      ],\n",
       "       [1033.28      ,   57.21777464,   50.47921056,    8.76477988,\n",
       "          98.69602385,   45.96549764,   60.61503649,   35.50421405,\n",
       "          68.42508102,   70.6478039 ,   28.53950493,   96.3508301 ,\n",
       "          37.77805199,   17.67482719,   60.55222628,   41.00559835,\n",
       "          45.44307118,   58.75651286,   41.50665778,   17.77778446,\n",
       "          94.41539381,   62.03319143,   74.45467588,   35.38277142,\n",
       "          71.22814139,   87.84792769,   55.49488087,   29.12175202,\n",
       "          27.60811866,   70.29767018,   73.78639074,   58.27252758,\n",
       "          67.27153983,   16.95207051,    8.94576229,   22.03347328,\n",
       "          30.14945651,   34.0775008 ,  103.5872801 ,   36.0390877 ,\n",
       "          64.29364052,   91.01960312,   44.44732115,   46.79540537,\n",
       "          40.3065659 ,   57.78637889,   63.28320254,   37.08926366,\n",
       "          80.27612247,   90.96449967,  100.12      ],\n",
       "       [ 979.46      ,   70.86766765,   38.89021183,   69.12358808,\n",
       "          51.80393212,  105.5978963 ,   19.47751138,   42.02786871,\n",
       "          63.13138164,   45.65344025,   75.6262531 ,   79.54720219,\n",
       "          48.32177527,   57.83388988,   39.26808101,   38.90575649,\n",
       "          50.36756023,   92.13886049,   56.42986896,   83.81940309,\n",
       "          60.37414454,   90.60825794,   26.18908922,   86.03637001,\n",
       "         104.36108456,   66.50493215,   57.41573708,   67.77255323,\n",
       "          54.76794023,   26.69327749,   37.32485824,   70.48668522,\n",
       "          47.5562999 ,   90.37325644,   87.73722067,    8.49056714,\n",
       "          75.86295659,   43.85712318,   51.77519585,  101.36473695,\n",
       "          29.06320475,   56.19921321,   90.81776641,   26.63931048,\n",
       "          70.01803571,   40.63939811,  128.06392516,   38.23187878,\n",
       "          58.66472333,   35.94839278,   83.26      ]])"
      ]
     },
     "execution_count": 72,
     "metadata": {},
     "output_type": "execute_result"
    }
   ],
   "source": [
    "communicator.fft"
   ]
  },
  {
   "cell_type": "code",
   "execution_count": 59,
   "metadata": {},
   "outputs": [
    {
     "data": {
      "text/plain": [
       "(100, 8)"
      ]
     },
     "execution_count": 59,
     "metadata": {},
     "output_type": "execute_result"
    }
   ],
   "source": [
    "communicator.raw_data.shape"
   ]
  },
  {
   "cell_type": "code",
   "execution_count": 51,
   "metadata": {},
   "outputs": [],
   "source": [
    "communicator.raw_data"
   ]
  },
  {
   "cell_type": "code",
   "execution_count": 31,
   "metadata": {},
   "outputs": [
    {
     "name": "stderr",
     "output_type": "stream",
     "text": [
      "++Sent raw: b'\\x81\\x9c\\xac\\xc1\\xf3\\xec\\xdf\\xb5\\x92\\x9e\\xd8\\x9e\\x97\\x8d\\xd8\\xa0\\xac\\x98\\xde\\xa0\\x9d\\x9f\\xca\\xa4\\x81\\xb3\\xca\\xb3\\x9c\\x81\\xf3\\xa0\\x97\\x9f'\n",
      "++Sent decoded: fin=1 opcode=1 data=b'start_data_transfer_from_ads'\n",
      "++Rcv raw: b'\\x81~\\x06\\x81{\"ch1\":[0,0,0,0,0,0,0,0,0,0,0,0,0,0,0,0,0,0,0,0,0,0,0,0,0,0,0,0,0,0,0,0,0,0,0,0,0,0,0,0,0,0,0,0,0,0,0,0,0,0,0,0,0,0,0,0,0,0,0,0,0,0,0,0,0,0,0,0,0,0,0,0,0,0,0,0,0,0,0,0,0,0,0,0,0,0,0,0,0,0,0,0,0,0,0,0,0,0,0,0],\"ch2\":[0,0,0,0,0,0,0,0,0,0,0,0,0,0,0,0,0,0,0,0,0,0,0,0,0,0,0,0,0,0,0,0,0,0,0,0,0,0,0,0,0,0,0,0,0,0,0,0,0,0,0,0,0,0,0,0,0,0,0,0,0,0,0,0,0,0,0,0,0,0,0,0,0,0,0,0,0,0,0,0,0,0,0,0,0,0,0,0,0,0,0,0,0,0,0,0,0,0,0,0],\"ch3\":[0,0,0,0,0,0,0,0,0,0,0,0,0,0,0,0,0,0,0,0,0,0,0,0,0,0,0,0,0,0,0,0,0,0,0,0,0,0,0,0,0,0,0,0,0,0,0,0,0,0,0,0,0,0,0,0,0,0,0,0,0,0,0,0,0,0,0,0,0,0,0,0,0,0,0,0,0,0,0,0,0,0,0,0,0,0,0,0,0,0,0,0,0,0,0,0,0,0,0,0],\"ch4\":[0,0,0,0,0,0,0,0,0,0,0,0,0,0,0,0,0,0,0,0,0,0,0,0,0,0,0,0,0,0,0,0,0,0,0,0,0,0,0,0,0,0,0,0,0,0,0,0,0,0,0,0,0,0,0,0,0,0,0,0,0,0,0,0,0,0,0,0,0,0,0,0,0,0,0,0,0,0,0,0,0,0,0,0,0,0,0,0,0,0,0,0,0,0,0,0,0,0,0,0],\"ch5\":[0,0,0,0,0,0,0,0,0,0,0,0,0,0,0,0,0,0,0,0,0,0,0,0,0,0,0,0,0,0,0,0,0,0,0,0,0,0,0,0,0,0,0,0,0,0,0,0,0,0,0,0,0,0,0,0,0,0,0,0,0,0,0,0,0,0,0,0,0,0,0,0,0,0,0,0,0,0,0,0,0,0,0,0,0,0,0,0,0,0,0,0,0,0,0,0,0,0,0,0],\"ch6\":[0,0,0,0,0,0,0,0,0,0,0,0,0,0,0,0,0,0,0,0,0,0,0,0,0,0,0,0,0,0,0,0,0,0,0,0,0,0,0,0,0,0,0,0,0,0,0,0,0,0,0,0,0,0,0,0,0,0,0,0,0,0,0,0,0,0,0,0,0,0,0,0,0,0,0,0,0,0,0,0,0,0,0,0,0,0,0,0,0,0,0,0,0,0,0,0,0,0,0,0],\"ch7\":[0,0,0,0,0,0,0,0,0,0,0,0,0,0,0,0,0,0,0,0,0,0,0,0,0,0,0,0,0,0,0,0,0,0,0,0,0,0,0,0,0,0,0,0,0,0,0,0,0,0,0,0,0,0,0,0,0,0,0,0,0,0,0,0,0,0,0,0,0,0,0,0,0,0,0,0,0,0,0,0,0,0,0,0,0,0,0,0,0,0,0,0,0,0,0,0,0,0,0,0],\"ch8\":[0,0,0,0,0,0,0,0,0,0,0,0,0,0,0,0,0,0,0,0,0,0,0,0,0,0,0,0,0,0,0,0,0,0,0,0,0,0,0,0,0,0,0,0,0,0,0,0,0,0,0,0,0,0,0,0,0,0,0,0,0,0,0,0,0,0,0,0,0,0,0,0,0,0,0,0,0,0,0,0,0,0,0,0,0,0,0,0,0,0,0,0,0,0,0,0,0,0,0,0]}'\n",
      "++Rcv decoded: fin=1 opcode=1 data=b'{\"ch1\":[0,0,0,0,0,0,0,0,0,0,0,0,0,0,0,0,0,0,0,0,0,0,0,0,0,0,0,0,0,0,0,0,0,0,0,0,0,0,0,0,0,0,0,0,0,0,0,0,0,0,0,0,0,0,0,0,0,0,0,0,0,0,0,0,0,0,0,0,0,0,0,0,0,0,0,0,0,0,0,0,0,0,0,0,0,0,0,0,0,0,0,0,0,0,0,0,0,0,0,0],\"ch2\":[0,0,0,0,0,0,0,0,0,0,0,0,0,0,0,0,0,0,0,0,0,0,0,0,0,0,0,0,0,0,0,0,0,0,0,0,0,0,0,0,0,0,0,0,0,0,0,0,0,0,0,0,0,0,0,0,0,0,0,0,0,0,0,0,0,0,0,0,0,0,0,0,0,0,0,0,0,0,0,0,0,0,0,0,0,0,0,0,0,0,0,0,0,0,0,0,0,0,0,0],\"ch3\":[0,0,0,0,0,0,0,0,0,0,0,0,0,0,0,0,0,0,0,0,0,0,0,0,0,0,0,0,0,0,0,0,0,0,0,0,0,0,0,0,0,0,0,0,0,0,0,0,0,0,0,0,0,0,0,0,0,0,0,0,0,0,0,0,0,0,0,0,0,0,0,0,0,0,0,0,0,0,0,0,0,0,0,0,0,0,0,0,0,0,0,0,0,0,0,0,0,0,0,0],\"ch4\":[0,0,0,0,0,0,0,0,0,0,0,0,0,0,0,0,0,0,0,0,0,0,0,0,0,0,0,0,0,0,0,0,0,0,0,0,0,0,0,0,0,0,0,0,0,0,0,0,0,0,0,0,0,0,0,0,0,0,0,0,0,0,0,0,0,0,0,0,0,0,0,0,0,0,0,0,0,0,0,0,0,0,0,0,0,0,0,0,0,0,0,0,0,0,0,0,0,0,0,0],\"ch5\":[0,0,0,0,0,0,0,0,0,0,0,0,0,0,0,0,0,0,0,0,0,0,0,0,0,0,0,0,0,0,0,0,0,0,0,0,0,0,0,0,0,0,0,0,0,0,0,0,0,0,0,0,0,0,0,0,0,0,0,0,0,0,0,0,0,0,0,0,0,0,0,0,0,0,0,0,0,0,0,0,0,0,0,0,0,0,0,0,0,0,0,0,0,0,0,0,0,0,0,0],\"ch6\":[0,0,0,0,0,0,0,0,0,0,0,0,0,0,0,0,0,0,0,0,0,0,0,0,0,0,0,0,0,0,0,0,0,0,0,0,0,0,0,0,0,0,0,0,0,0,0,0,0,0,0,0,0,0,0,0,0,0,0,0,0,0,0,0,0,0,0,0,0,0,0,0,0,0,0,0,0,0,0,0,0,0,0,0,0,0,0,0,0,0,0,0,0,0,0,0,0,0,0,0],\"ch7\":[0,0,0,0,0,0,0,0,0,0,0,0,0,0,0,0,0,0,0,0,0,0,0,0,0,0,0,0,0,0,0,0,0,0,0,0,0,0,0,0,0,0,0,0,0,0,0,0,0,0,0,0,0,0,0,0,0,0,0,0,0,0,0,0,0,0,0,0,0,0,0,0,0,0,0,0,0,0,0,0,0,0,0,0,0,0,0,0,0,0,0,0,0,0,0,0,0,0,0,0],\"ch8\":[0,0,0,0,0,0,0,0,0,0,0,0,0,0,0,0,0,0,0,0,0,0,0,0,0,0,0,0,0,0,0,0,0,0,0,0,0,0,0,0,0,0,0,0,0,0,0,0,0,0,0,0,0,0,0,0,0,0,0,0,0,0,0,0,0,0,0,0,0,0,0,0,0,0,0,0,0,0,0,0,0,0,0,0,0,0,0,0,0,0,0,0,0,0,0,0,0,0,0,0]}'\n",
      "++Sent raw: b'\\x81\\x9bR\\xa1o\\xf2!\\xd5\\x00\\x82\\r\\xc5\\x0e\\x863\\xfe\\x1b\\x803\\xcf\\x1c\\x947\\xd30\\x94 \\xce\\x02\\xad3\\xc5\\x1c'\n",
      "++Sent decoded: fin=1 opcode=1 data=b'stop_data_transfer_from_ads'\n"
     ]
    }
   ],
   "source": [
    "communicator.sample_observations()"
   ]
  },
  {
   "cell_type": "code",
   "execution_count": null,
   "metadata": {},
   "outputs": [],
   "source": []
  },
  {
   "cell_type": "code",
   "execution_count": 25,
   "metadata": {},
   "outputs": [
    {
     "name": "stderr",
     "output_type": "stream",
     "text": [
      "++Sent raw: b'\\x81\\x8e\\x88\\xae\\x1c\\xfb\\xfb\\xdas\\x8b\\xd7\\xc2y\\x9f\\xd7\\xcde\\x98\\xe4\\xcb'\n",
      "++Sent decoded: fin=1 opcode=1 data=b'stop_led_cycle'\n",
      "++Sent raw: b\"\\x81\\x9bHUG\\x8b;!(\\xfb\\x171&\\xff)\\n3\\xf9);4\\xed-'\\x18\\xed::*\\xd4)14\"\n",
      "++Sent decoded: fin=1 opcode=1 data=b'stop_data_transfer_from_ads'\n",
      "++Sent raw: b'\\x88\\x82\\xfcci\\xab\\xff\\x8b'\n",
      "++Sent decoded: fin=1 opcode=8 data=b'\\x03\\xe8'\n"
     ]
    }
   ],
   "source": [
    "communicator.close()"
   ]
  },
  {
   "cell_type": "code",
   "execution_count": 21,
   "metadata": {},
   "outputs": [
    {
     "name": "stderr",
     "output_type": "stream",
     "text": [
      "++Sent raw: b'\\x81\\x9c\\xfbJ\\xdc\\xa7\\x88>\\xbd\\xd5\\x8f\\x15\\xb8\\xc6\\x8f+\\x83\\xd3\\x89+\\xb2\\xd4\\x9d/\\xae\\xf8\\x9d8\\xb3\\xca\\xa4+\\xb8\\xd4'\n",
      "++Sent decoded: fin=1 opcode=1 data=b'start_data_transfer_from_ads'\n",
      "++Rcv raw: b'\\x81~\\x06\\x81{\"ch1\":[0,0,0,0,0,0,0,0,0,0,0,0,0,0,0,0,0,0,0,0,0,0,0,0,0,0,0,0,0,0,0,0,0,0,0,0,0,0,0,0,0,0,0,0,0,0,0,0,0,0,0,0,0,0,0,0,0,0,0,0,0,0,0,0,0,0,0,0,0,0,0,0,0,0,0,0,0,0,0,0,0,0,0,0,0,0,0,0,0,0,0,0,0,0,0,0,0,0,0,0],\"ch2\":[0,0,0,0,0,0,0,0,0,0,0,0,0,0,0,0,0,0,0,0,0,0,0,0,0,0,0,0,0,0,0,0,0,0,0,0,0,0,0,0,0,0,0,0,0,0,0,0,0,0,0,0,0,0,0,0,0,0,0,0,0,0,0,0,0,0,0,0,0,0,0,0,0,0,0,0,0,0,0,0,0,0,0,0,0,0,0,0,0,0,0,0,0,0,0,0,0,0,0,0],\"ch3\":[0,0,0,0,0,0,0,0,0,0,0,0,0,0,0,0,0,0,0,0,0,0,0,0,0,0,0,0,0,0,0,0,0,0,0,0,0,0,0,0,0,0,0,0,0,0,0,0,0,0,0,0,0,0,0,0,0,0,0,0,0,0,0,0,0,0,0,0,0,0,0,0,0,0,0,0,0,0,0,0,0,0,0,0,0,0,0,0,0,0,0,0,0,0,0,0,0,0,0,0],\"ch4\":[0,0,0,0,0,0,0,0,0,0,0,0,0,0,0,0,0,0,0,0,0,0,0,0,0,0,0,0,0,0,0,0,0,0,0,0,0,0,0,0,0,0,0,0,0,0,0,0,0,0,0,0,0,0,0,0,0,0,0,0,0,0,0,0,0,0,0,0,0,0,0,0,0,0,0,0,0,0,0,0,0,0,0,0,0,0,0,0,0,0,0,0,0,0,0,0,0,0,0,0],\"ch5\":[0,0,0,0,0,0,0,0,0,0,0,0,0,0,0,0,0,0,0,0,0,0,0,0,0,0,0,0,0,0,0,0,0,0,0,0,0,0,0,0,0,0,0,0,0,0,0,0,0,0,0,0,0,0,0,0,0,0,0,0,0,0,0,0,0,0,0,0,0,0,0,0,0,0,0,0,0,0,0,0,0,0,0,0,0,0,0,0,0,0,0,0,0,0,0,0,0,0,0,0],\"ch6\":[0,0,0,0,0,0,0,0,0,0,0,0,0,0,0,0,0,0,0,0,0,0,0,0,0,0,0,0,0,0,0,0,0,0,0,0,0,0,0,0,0,0,0,0,0,0,0,0,0,0,0,0,0,0,0,0,0,0,0,0,0,0,0,0,0,0,0,0,0,0,0,0,0,0,0,0,0,0,0,0,0,0,0,0,0,0,0,0,0,0,0,0,0,0,0,0,0,0,0,0],\"ch7\":[0,0,0,0,0,0,0,0,0,0,0,0,0,0,0,0,0,0,0,0,0,0,0,0,0,0,0,0,0,0,0,0,0,0,0,0,0,0,0,0,0,0,0,0,0,0,0,0,0,0,0,0,0,0,0,0,0,0,0,0,0,0,0,0,0,0,0,0,0,0,0,0,0,0,0,0,0,0,0,0,0,0,0,0,0,0,0,0,0,0,0,0,0,0,0,0,0,0,0,0],\"ch8\":[0,0,0,0,0,0,0,0,0,0,0,0,0,0,0,0,0,0,0,0,0,0,0,0,0,0,0,0,0,0,0,0,0,0,0,0,0,0,0,0,0,0,0,0,0,0,0,0,0,0,0,0,0,0,0,0,0,0,0,0,0,0,0,0,0,0,0,0,0,0,0,0,0,0,0,0,0,0,0,0,0,0,0,0,0,0,0,0,0,0,0,0,0,0,0,0,0,0,0,0]}'\n",
      "++Rcv decoded: fin=1 opcode=1 data=b'{\"ch1\":[0,0,0,0,0,0,0,0,0,0,0,0,0,0,0,0,0,0,0,0,0,0,0,0,0,0,0,0,0,0,0,0,0,0,0,0,0,0,0,0,0,0,0,0,0,0,0,0,0,0,0,0,0,0,0,0,0,0,0,0,0,0,0,0,0,0,0,0,0,0,0,0,0,0,0,0,0,0,0,0,0,0,0,0,0,0,0,0,0,0,0,0,0,0,0,0,0,0,0,0],\"ch2\":[0,0,0,0,0,0,0,0,0,0,0,0,0,0,0,0,0,0,0,0,0,0,0,0,0,0,0,0,0,0,0,0,0,0,0,0,0,0,0,0,0,0,0,0,0,0,0,0,0,0,0,0,0,0,0,0,0,0,0,0,0,0,0,0,0,0,0,0,0,0,0,0,0,0,0,0,0,0,0,0,0,0,0,0,0,0,0,0,0,0,0,0,0,0,0,0,0,0,0,0],\"ch3\":[0,0,0,0,0,0,0,0,0,0,0,0,0,0,0,0,0,0,0,0,0,0,0,0,0,0,0,0,0,0,0,0,0,0,0,0,0,0,0,0,0,0,0,0,0,0,0,0,0,0,0,0,0,0,0,0,0,0,0,0,0,0,0,0,0,0,0,0,0,0,0,0,0,0,0,0,0,0,0,0,0,0,0,0,0,0,0,0,0,0,0,0,0,0,0,0,0,0,0,0],\"ch4\":[0,0,0,0,0,0,0,0,0,0,0,0,0,0,0,0,0,0,0,0,0,0,0,0,0,0,0,0,0,0,0,0,0,0,0,0,0,0,0,0,0,0,0,0,0,0,0,0,0,0,0,0,0,0,0,0,0,0,0,0,0,0,0,0,0,0,0,0,0,0,0,0,0,0,0,0,0,0,0,0,0,0,0,0,0,0,0,0,0,0,0,0,0,0,0,0,0,0,0,0],\"ch5\":[0,0,0,0,0,0,0,0,0,0,0,0,0,0,0,0,0,0,0,0,0,0,0,0,0,0,0,0,0,0,0,0,0,0,0,0,0,0,0,0,0,0,0,0,0,0,0,0,0,0,0,0,0,0,0,0,0,0,0,0,0,0,0,0,0,0,0,0,0,0,0,0,0,0,0,0,0,0,0,0,0,0,0,0,0,0,0,0,0,0,0,0,0,0,0,0,0,0,0,0],\"ch6\":[0,0,0,0,0,0,0,0,0,0,0,0,0,0,0,0,0,0,0,0,0,0,0,0,0,0,0,0,0,0,0,0,0,0,0,0,0,0,0,0,0,0,0,0,0,0,0,0,0,0,0,0,0,0,0,0,0,0,0,0,0,0,0,0,0,0,0,0,0,0,0,0,0,0,0,0,0,0,0,0,0,0,0,0,0,0,0,0,0,0,0,0,0,0,0,0,0,0,0,0],\"ch7\":[0,0,0,0,0,0,0,0,0,0,0,0,0,0,0,0,0,0,0,0,0,0,0,0,0,0,0,0,0,0,0,0,0,0,0,0,0,0,0,0,0,0,0,0,0,0,0,0,0,0,0,0,0,0,0,0,0,0,0,0,0,0,0,0,0,0,0,0,0,0,0,0,0,0,0,0,0,0,0,0,0,0,0,0,0,0,0,0,0,0,0,0,0,0,0,0,0,0,0,0],\"ch8\":[0,0,0,0,0,0,0,0,0,0,0,0,0,0,0,0,0,0,0,0,0,0,0,0,0,0,0,0,0,0,0,0,0,0,0,0,0,0,0,0,0,0,0,0,0,0,0,0,0,0,0,0,0,0,0,0,0,0,0,0,0,0,0,0,0,0,0,0,0,0,0,0,0,0,0,0,0,0,0,0,0,0,0,0,0,0,0,0,0,0,0,0,0,0,0,0,0,0,0,0]}'\n",
      "++Sent raw: b'\\x81\\x9b\\xad\\xcc\\x13\\xfe\\xde\\xb8|\\x8e\\xf2\\xa8r\\x8a\\xcc\\x93g\\x8c\\xcc\\xa2`\\x98\\xc8\\xbeL\\x98\\xdf\\xa3~\\xa1\\xcc\\xa8`'\n",
      "++Sent decoded: fin=1 opcode=1 data=b'stop_data_transfer_from_ads'\n"
     ]
    }
   ],
   "source": [
    "communicator.sample_observations()"
   ]
  },
  {
   "cell_type": "code",
   "execution_count": 12,
   "metadata": {},
   "outputs": [
    {
     "name": "stderr",
     "output_type": "stream",
     "text": [
      "++Sent raw: b'\\x81\\x9b\\xd6_M\\xe0\\xa4:.\\x85\\xbf)(\\xbf\\xb9*9\\x90\\xa3+\\x12\\x83\\xb919\\x92\\xb93\\x12\\x84\\xb7+,'\n",
      "++Sent decoded: fin=1 opcode=1 data=b'receive_output_control_data'\n",
      "++Sent raw: b'\\x81\\xfe\\x00\\x82\\xc9\\xb1R\\xdd\\xf8\\x82k\\xf1\\xf8\\x81a\\xf1\\xf8\\x83c\\xf1\\xfb\\x85e\\xf1\\xfb\\x85c\\xf1\\xf8\\x88j\\xf1\\xfd\\x81~\\xeb\\xf8\\x9dd\\xef\\xe5\\x80k\\xee\\xe5\\x89b\\xf1\\xf8\\x83b\\xf1\\xf8\\x83j\\xf1\\xfb\\x85a\\xf1\\xfb\\x81`\\xf1\\xff\\x81~\\xe4\\xf0\\x9dk\\xe8\\xe5\\x86e\\xf1\\xf8\\x80d\\xf1\\xf8\\x88c\\xf1\\xff\\x85~\\xe9\\xfc\\x9dd\\xe5\\xe5\\x87e\\xec\\xf9\\x9d`\\xed\\xf1\\x82k\\xf1\\xfb\\x86e\\xec\\xfe\\x9d`\\xec\\xe5\\x82~\\xef\\xf0\\x9d`\\xef\\xe5\\x85g\\xf1\\xfa\\x85~\\xe9\\xf0\\x9d`\\xe5\\xe5\\x87~\\xec\\xe5\\x81'\n",
      "++Sent decoded: fin=1 opcode=1 data=b'139,103,121,247,241,198,40,61,62,193,80,120,128,243,202,60,99,95,77,116,191,64,45,68,6710,20839,27717,21,3,29,22,45,34,49,28,6,1,0'\n"
     ]
    }
   ],
   "source": [
    "communicator.update_audiovis_feedback(communicator.action_space.sample())"
   ]
  },
  {
   "cell_type": "code",
   "execution_count": 13,
   "metadata": {},
   "outputs": [
    {
     "name": "stderr",
     "output_type": "stream",
     "text": [
      "++Sent raw: b'\\x81\\x8e\\xa9M\\xc2\\x1b\\xda9\\xadk\\xf6!\\xa7\\x7f\\xf6.\\xbbx\\xc5('\n",
      "++Sent decoded: fin=1 opcode=1 data=b'stop_led_cycle'\n"
     ]
    }
   ],
   "source": [
    "communicator.stop_audiovis_feedback()"
   ]
  },
  {
   "cell_type": "code",
   "execution_count": 8,
   "metadata": {},
   "outputs": [
    {
     "data": {
      "text/plain": [
       "'{\"ch1\":[0,0,0,0,0,0,0,0,0,0,0,0,0,0,0,0,0,0,0,0,0,0,0,0,0,0,0,0,0,0,0,0,0,0,0,0,0,0,0,0,0,0,0,0,0,0,0,0,0,0,0,0,0,0,0,0,0,0,0,0,0,0,0,0,0,0,0,0,0,0,0,0,0,0,0,0,0,0,0,0,0,0,0,0,0,0,0,0,0,0,0,0,0,0,0,0,0,0,0,0],\"ch2\":[0,0,0,0,0,0,0,0,0,0,0,0,0,0,0,0,0,0,0,0,0,0,0,0,0,0,0,0,0,0,0,0,0,0,0,0,0,0,0,0,0,0,0,0,0,0,0,0,0,0,0,0,0,0,0,0,0,0,0,0,0,0,0,0,0,0,0,0,0,0,0,0,0,0,0,0,0,0,0,0,0,0,0,0,0,0,0,0,0,0,0,0,0,0,0,0,0,0,0,0],\"ch3\":[0,0,0,0,0,0,0,0,0,0,0,0,0,0,0,0,0,0,0,0,0,0,0,0,0,0,0,0,0,0,0,0,0,0,0,0,0,0,0,0,0,0,0,0,0,0,0,0,0,0,0,0,0,0,0,0,0,0,0,0,0,0,0,0,0,0,0,0,0,0,0,0,0,0,0,0,0,0,0,0,0,0,0,0,0,0,0,0,0,0,0,0,0,0,0,0,0,0,0,0],\"ch4\":[0,0,0,0,0,0,0,0,0,0,0,0,0,0,0,0,0,0,0,0,0,0,0,0,0,0,0,0,0,0,0,0,0,0,0,0,0,0,0,0,0,0,0,0,0,0,0,0,0,0,0,0,0,0,0,0,0,0,0,0,0,0,0,0,0,0,0,0,0,0,0,0,0,0,0,0,0,0,0,0,0,0,0,0,0,0,0,0,0,0,0,0,0,0,0,0,0,0,0,0],\"ch5\":[0,0,0,0,0,0,0,0,0,0,0,0,0,0,0,0,0,0,0,0,0,0,0,0,0,0,0,0,0,0,0,0,0,0,0,0,0,0,0,0,0,0,0,0,0,0,0,0,0,0,0,0,0,0,0,0,0,0,0,0,0,0,0,0,0,0,0,0,0,0,0,0,0,0,0,0,0,0,0,0,0,0,0,0,0,0,0,0,0,0,0,0,0,0,0,0,0,0,0,0],\"ch6\":[0,0,0,0,0,0,0,0,0,0,0,0,0,0,0,0,0,0,0,0,0,0,0,0,0,0,0,0,0,0,0,0,0,0,0,0,0,0,0,0,0,0,0,0,0,0,0,0,0,0,0,0,0,0,0,0,0,0,0,0,0,0,0,0,0,0,0,0,0,0,0,0,0,0,0,0,0,0,0,0,0,0,0,0,0,0,0,0,0,0,0,0,0,0,0,0,0,0,0,0],\"ch7\":[0,0,0,0,0,0,0,0,0,0,0,0,0,0,0,0,0,0,0,0,0,0,0,0,0,0,0,0,0,0,0,0,0,0,0,0,0,0,0,0,0,0,0,0,0,0,0,0,0,0,0,0,0,0,0,0,0,0,0,0,0,0,0,0,0,0,0,0,0,0,0,0,0,0,0,0,0,0,0,0,0,0,0,0,0,0,0,0,0,0,0,0,0,0,0,0,0,0,0,0],\"ch8\":[0,0,0,0,0,0,0,0,0,0,0,0,0,0,0,0,0,0,0,0,0,0,0,0,0,0,0,0,0,0,0,0,0,0,0,0,0,0,0,0,0,0,0,0,0,0,0,0,0,0,0,0,0,0,0,0,0,0,0,0,0,0,0,0,0,0,0,0,0,0,0,0,0,0,0,0,0,0,0,0,0,0,0,0,0,0,0,0,0,0,0,0,0,0,0,0,0,0,0,0]}'"
      ]
     },
     "execution_count": 8,
     "metadata": {},
     "output_type": "execute_result"
    }
   ],
   "source": [
    "communicator.current_sample"
   ]
  },
  {
   "cell_type": "code",
   "execution_count": 3,
   "metadata": {},
   "outputs": [],
   "source": [
    "actspace=communicator.action_space.sample()"
   ]
  },
  {
   "cell_type": "code",
   "execution_count": 14,
   "metadata": {},
   "outputs": [
    {
     "data": {
      "text/plain": [
       "{'fbin_05_4_ch0': None, 'freq_30_ch0': None, 'fbin_12_30_ch0': None}"
      ]
     },
     "execution_count": 14,
     "metadata": {},
     "output_type": "execute_result"
    }
   ],
   "source": [
    "communicator.rewarddict"
   ]
  },
  {
   "cell_type": "code",
   "execution_count": 15,
   "metadata": {},
   "outputs": [],
   "source": [
    "communicator.get_reward()"
   ]
  },
  {
   "cell_type": "code",
   "execution_count": 16,
   "metadata": {},
   "outputs": [
    {
     "data": {
      "text/plain": [
       "array(4.1762214, dtype=float32)"
      ]
     },
     "execution_count": 16,
     "metadata": {},
     "output_type": "execute_result"
    }
   ],
   "source": [
    "communicator.reward"
   ]
  },
  {
   "cell_type": "code",
   "execution_count": 51,
   "metadata": {},
   "outputs": [
    {
     "data": {
      "text/plain": [
       "{'fbin_0.5_5_ch0': None, 'freq_30_ch0': None, 'fbin_10_20_ch0': None}"
      ]
     },
     "execution_count": 51,
     "metadata": {},
     "output_type": "execute_result"
    }
   ],
   "source": [
    "communicator.rewarddict"
   ]
  },
  {
   "cell_type": "code",
   "execution_count": 12,
   "metadata": {},
   "outputs": [
    {
     "data": {
      "text/plain": [
       "array(0.75)"
      ]
     },
     "execution_count": 12,
     "metadata": {},
     "output_type": "execute_result"
    }
   ],
   "source": [
    "s = \"(freq_50+fbin_0_10)/(fbin_20_30)\"\n",
    "\n",
    "# Define the variables\n",
    "variables = {\n",
    "    'freq_50': 10,\n",
    "    'fbin_0_10': 20,\n",
    "    'fbin_20_30':40\n",
    "}\n",
    "\n",
    "# Evaluate the string as a mathematical expression\n",
    "result = ne.evaluate(s, local_dict=variables)\n",
    "result"
   ]
  },
  {
   "cell_type": "code",
   "execution_count": 3,
   "metadata": {},
   "outputs": [
    {
     "name": "stdout",
     "output_type": "stream",
     "text": [
      "Reward formula can use the following operators: //, *, **, -, +\n",
      "It can refer to channels using \"ch\" prefix followed by an index (starting with 0) e.g. ch0\n",
      "It can refer to values of frequency bins in specific channels e.g. fbin_10-50|ch0\n",
      "The corresponding freqency bins must be present among fbins passed at the initialization step\n",
      "fbins should be passed in the form of [(b1 min, b1max),...(bn min, bn max)]\n",
      "It can refer to specific frequencies from fft e.g. freq_50|ch0\n",
      "Some examples:\n",
      "1. (freq_50|ch0+fbin_0-10|ch0)/(fbin_20-30|ch0)\n",
      "2. freq_5|ch0/freq_10|ch0\n",
      "3. fbin_0.5-5|ch0\n"
     ]
    }
   ],
   "source": [
    "communicator.print_reward_formula_legend()"
   ]
  },
  {
   "cell_type": "code",
   "execution_count": 14,
   "metadata": {},
   "outputs": [
    {
     "data": {
      "text/plain": [
       "'Connected'"
      ]
     },
     "execution_count": 14,
     "metadata": {},
     "output_type": "execute_result"
    }
   ],
   "source": [
    "communicator.connection_status"
   ]
  },
  {
   "cell_type": "code",
   "execution_count": null,
   "metadata": {},
   "outputs": [],
   "source": [
    "\n",
    "\n",
    "\n",
    "leddelay=100\n",
    "ledvalues=[30, 0, 0, 0, 255, 0, 0, 0, 255, 255, 255, 255, 0, 255, 255, 255, 0, 255, 255, 255, 0, 255, 0, 0]\n",
    "sdict={'wave_1_freq':800, 'wave_2_freq':200, 'panner_freq':30, 'panner_div':2, 'phasor_1_freq':100, 'phasor_1_min':30, 'phasor_1_max':30, \n",
    "       'phasor_2_freq':30, 'phasor_2_min':30, 'phasor_2_max':30,\n",
    "       'maxivolume':5,'wave_1_type':3,'wave_2_type':0}\n"
   ]
  },
  {
   "cell_type": "code",
   "execution_count": 15,
   "metadata": {},
   "outputs": [
    {
     "name": "stderr",
     "output_type": "stream",
     "text": [
      "++Rcv raw: b'\\x89\\x00'\n",
      "++Rcv decoded: fin=1 opcode=9 data=b''\n",
      "++Sent raw: b'\\x8a\\x80M\\xc5\\x07\\x01'\n",
      "++Sent decoded: fin=1 opcode=10 data=b''\n",
      "++Rcv raw: b'\\x81\\tConnected'\n",
      "++Rcv decoded: fin=1 opcode=1 data=b'Connected'\n"
     ]
    },
    {
     "data": {
      "text/plain": [
       "'Connected'"
      ]
     },
     "execution_count": 15,
     "metadata": {},
     "output_type": "execute_result"
    }
   ],
   "source": [
    "ws.recv()"
   ]
  },
  {
   "cell_type": "code",
   "execution_count": 16,
   "metadata": {},
   "outputs": [
    {
     "name": "stderr",
     "output_type": "stream",
     "text": [
      "++Sent raw: b'\\x81\\x9b\\xe1\\xd95\\xcf\\x93\\xbcV\\xaa\\x88\\xafP\\x90\\x8e\\xacA\\xbf\\x94\\xadj\\xac\\x8e\\xb7A\\xbd\\x8e\\xb5j\\xab\\x80\\xadT'\n",
      "++Sent decoded: fin=1 opcode=1 data=b'receive_output_control_data'\n"
     ]
    },
    {
     "data": {
      "text/plain": [
       "33"
      ]
     },
     "execution_count": 16,
     "metadata": {},
     "output_type": "execute_result"
    }
   ],
   "source": [
    "ws.send(\"receive_output_control_data\")"
   ]
  },
  {
   "cell_type": "code",
   "execution_count": 17,
   "metadata": {},
   "outputs": [],
   "source": [
    "# 0. noise\n",
    "# 1. sinewave\n",
    "# 2. square\n",
    "# 3. triangle\n",
    "\n",
    "\n",
    "leddelay=100\n",
    "ledvalues=[30, 0, 0, 0, 255, 0, 0, 0, 255, 255, 255, 255, 0, 255, 255, 255, 0, 255, 255, 255, 0, 255, 0, 0]\n",
    "sdict={'wave_1_freq':800, 'wave_2_freq':200, 'panner_freq':30, 'panner_div':2, 'phasor_1_freq':100, 'phasor_1_min':30, 'phasor_1_max':30, \n",
    "       'phasor_2_freq':30, 'phasor_2_min':30, 'phasor_2_max':30,\n",
    "       'maxivolume':5,'wave_1_type':3,'wave_2_type':0}"
   ]
  },
  {
   "cell_type": "code",
   "execution_count": 18,
   "metadata": {},
   "outputs": [],
   "source": [
    "message=','.join(list(map(str,ledvalues)))+f',{leddelay}'+f\",{sdict['wave_1_freq']},{sdict['wave_2_freq']},{sdict['panner_freq']},{sdict['panner_div']},{sdict['phasor_1_freq']},{sdict['phasor_1_min']},{sdict['phasor_1_max']},{sdict['phasor_2_freq']},{sdict['phasor_2_min']},{sdict['phasor_2_max']},{sdict['maxivolume']},{sdict['wave_1_type']},{sdict['wave_2_type']}\""
   ]
  },
  {
   "cell_type": "code",
   "execution_count": 19,
   "metadata": {},
   "outputs": [
    {
     "data": {
      "text/plain": [
       "'30,0,0,0,255,0,0,0,255,255,255,255,0,255,255,255,0,255,255,255,0,255,0,0,100,800,200,30,2,100,30,30,30,30,30,5,3,0'"
      ]
     },
     "execution_count": 19,
     "metadata": {},
     "output_type": "execute_result"
    }
   ],
   "source": [
    "message"
   ]
  },
  {
   "cell_type": "code",
   "execution_count": 20,
   "metadata": {},
   "outputs": [
    {
     "data": {
      "text/plain": [
       "38"
      ]
     },
     "execution_count": 20,
     "metadata": {},
     "output_type": "execute_result"
    }
   ],
   "source": [
    "len(message.split(','))"
   ]
  },
  {
   "cell_type": "code",
   "execution_count": 21,
   "metadata": {},
   "outputs": [
    {
     "name": "stderr",
     "output_type": "stream",
     "text": [
      "++Sent raw: b'\\x81\\xf2C\\x9e\\x08\\xb5p\\xae$\\x85o\\xae$\\x85o\\xac=\\x80o\\xae$\\x85o\\xae$\\x87v\\xab$\\x87v\\xab$\\x87v\\xab$\\x87v\\xab$\\x85o\\xac=\\x80o\\xac=\\x80o\\xac=\\x80o\\xae$\\x87v\\xab$\\x87v\\xab$\\x87v\\xab$\\x85o\\xac=\\x80o\\xae$\\x85o\\xaf8\\x85o\\xa68\\x85o\\xac8\\x85o\\xad8\\x99q\\xb29\\x85s\\xb2;\\x85o\\xad8\\x99p\\xae$\\x86s\\xb2;\\x85o\\xab$\\x86o\\xae'\n",
      "++Sent decoded: fin=1 opcode=1 data=b'30,0,0,0,255,0,0,0,255,255,255,255,0,255,255,255,0,255,255,255,0,255,0,0,100,800,200,30,2,100,30,30,30,30,30,5,3,0'\n",
      "++Sent raw: b'\\x81\\xf2\\xf8\\xa5~@\\xcb\\x95Rp\\xd4\\x95Rp\\xd4\\x97Ku\\xd4\\x95Rp\\xd4\\x95Rr\\xcd\\x90Rr\\xcd\\x90Rr\\xcd\\x90Rr\\xcd\\x90Rp\\xd4\\x97Ku\\xd4\\x97Ku\\xd4\\x97Ku\\xd4\\x95Rr\\xcd\\x90Rr\\xcd\\x90Rr\\xcd\\x90Rp\\xd4\\x97Ku\\xd4\\x95Rp\\xd4\\x94Np\\xd4\\x9dNp\\xd4\\x97Np\\xd4\\x96Nl\\xca\\x89Op\\xc8\\x89Mp\\xd4\\x96Nl\\xcb\\x95Rs\\xc8\\x89Mp\\xd4\\x90Rs\\xd4\\x95'\n",
      "++Sent decoded: fin=1 opcode=1 data=b'30,0,0,0,255,0,0,0,255,255,255,255,0,255,255,255,0,255,255,255,0,255,0,0,100,800,200,30,2,100,30,30,30,30,30,5,3,0'\n"
     ]
    }
   ],
   "source": [
    "nsecs=60\n",
    "nmessages=int(nsecs*(1000/leddelay))\n",
    "for m in range(2):\n",
    "    ws.send(message)"
   ]
  },
  {
   "cell_type": "code",
   "execution_count": 22,
   "metadata": {},
   "outputs": [
    {
     "name": "stderr",
     "output_type": "stream",
     "text": [
      "++Sent raw: b'\\x81\\x8e\\xaa\\x15\\xa0\\x99\\xd9a\\xcf\\xe9\\xf5y\\xc5\\xfd\\xf5v\\xd9\\xfa\\xc6p'\n",
      "++Sent decoded: fin=1 opcode=1 data=b'stop_led_cycle'\n"
     ]
    },
    {
     "data": {
      "text/plain": [
       "20"
      ]
     },
     "execution_count": 22,
     "metadata": {},
     "output_type": "execute_result"
    }
   ],
   "source": [
    "ws.send('stop_led_cycle')"
   ]
  },
  {
   "cell_type": "code",
   "execution_count": 263,
   "metadata": {},
   "outputs": [
    {
     "data": {
      "text/plain": [
       "25"
      ]
     },
     "execution_count": 263,
     "metadata": {},
     "output_type": "execute_result"
    }
   ],
   "source": [
    "len(\"%d,%d,%d,%d,%d,%d,%d,%d,%d,%d,%d,%d,%d,%d,%d,%d,%d,%d,%d,%d,%d,%d,%d,%d,%d\".split(','))"
   ]
  },
  {
   "cell_type": "code",
   "execution_count": null,
   "metadata": {},
   "outputs": [],
   "source": []
  }
 ],
 "metadata": {
  "kernelspec": {
   "display_name": "Python 3",
   "language": "python",
   "name": "python3"
  },
  "language_info": {
   "codemirror_mode": {
    "name": "ipython",
    "version": 3
   },
   "file_extension": ".py",
   "mimetype": "text/x-python",
   "name": "python",
   "nbconvert_exporter": "python",
   "pygments_lexer": "ipython3",
   "version": "3.10.12"
  }
 },
 "nbformat": 4,
 "nbformat_minor": 2
}
