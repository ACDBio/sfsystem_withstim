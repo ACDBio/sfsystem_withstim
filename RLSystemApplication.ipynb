{
 "cells": [
  {
   "cell_type": "code",
   "execution_count": 28,
   "metadata": {},
   "outputs": [],
   "source": [
    "import RLSystem"
   ]
  },
  {
   "cell_type": "code",
   "execution_count": 44,
   "metadata": {},
   "outputs": [
    {
     "data": {
      "text/plain": [
       "<module 'RLSystem' from '/home/biorp/Documents/PlatformIO/Projects/SFSystem_withAV/RLSystem.py'>"
      ]
     },
     "execution_count": 44,
     "metadata": {},
     "output_type": "execute_result"
    }
   ],
   "source": [
    "from importlib import reload\n",
    "reload(RLSystem)"
   ]
  },
  {
   "cell_type": "code",
   "execution_count": 45,
   "metadata": {},
   "outputs": [],
   "source": [
    "sd={'n_input_channels': 8, 'channels_of_interest_inds': [0, 1, 2, 3, 4, 5, 6, 7], 'n_timepoints_per_sample': 100, 'delay': 10, 'max_sfsystem_output': 1023, 'reward_formula_string': '(fbin_1_4_ch0+freq_30_ch0)/fbin_12_30_ch0', 'fbins': [[0, 1], [1, 4], [4, 8], [8, 12], [12, 30]], 'device_address': 'ws://10.42.0.231:80/', 'step_stim_length_millis': 10000, 'episode_time_seconds': 60, 'n_total_timesteps': 0, 'num_episodes': 5, 'logfn': 'current_training.log', 'signal_plot_width': 2000, 'signal_plot_height': 1500, 'training_plot_width': 2000, 'training_plot_height': 500, 'render_each_step': True, 'render_data': True, 'log_steps': True, 'log_episodes': True, 'log_best_actions_every_episode': True, 'log_actions_every_step': True, 'log_best_actions_final': True, 'write_raw': True, 'write_fft': True, 'write_bins': True, 'log_model': True, 'log_or_plot_every_n_timesteps': 1, 'algorithm': 'A2C', 'n_steps_per_timestep': 1, 'use_raw_in_os_def': True, 'use_freq_in_os_def': True, 'use_fbins_in_os_def': True}\n",
    "\n"
   ]
  },
  {
   "cell_type": "code",
   "execution_count": 46,
   "metadata": {},
   "outputs": [],
   "source": [
    "out_dict={'leddelay': {'names': ['leddelay'], 'value_range': {'min': 1, 'max': 100}, 'init_val': {'leddelay': 10}}, 'ledcontrols': {'names': ['lv1r', 'lv1g', 'lv1b', 'lv2r', 'lv2g', 'lv2b', 'lv3r', 'lv3g', 'lv3b', 'lv4r', 'lv4g', 'lv4b', 'lv5r', 'lv5g', 'lv5b', 'lv6r', 'lv6g', 'lv6b', 'lv7r', 'lv7g', 'lv7b', 'lv8r', 'lv8g', 'lv8b'], 'value_range': {'min': 10, 'max': 255}, 'init_val': {'lv1r': 255, 'lv1g': 0, 'lv1b': 0, 'lv2r': 0, 'lv2b': 0, 'lv3r': 0, 'lv3g': 0, 'lv3b': 255, 'lv4r': 255, 'lv4g': 255, 'lv4b': 255, 'lv5r': 0, 'lv5g': 255, 'lv5b': 255, 'lv6r': 255, 'lv6g': 0, 'lv6b': 255, 'lv7r': 255, 'lv7b': 0, 'lv8r': 255, 'lv8g': 0, 'lv8b': 0}}, 'sound_wave_frequencies': {'names': ['wave_1_freq', 'wave_2_freq'], 'value_range': {'min': 1, 'max': 30000}, 'init_val': {'wave_1_freq': 440, 'wave_2_freq': 440}}, 'panner_phasor_frequencies': {'names': ['panner_freq', 'phasor_1_freq', 'phasor_2_freq', 'phasor_1_min', 'phasor_2_min', 'phasor_1_dif', 'phasor_2_dif'], 'value_range': {'min': 1, 'max': 50}, 'init_val': {'panner_freq': 1, 'phasor_1_freq': 440, 'phasor_2_freq': 440, 'phasor_1_min': 1, 'phasor_2_min': 1, 'phasor_1_dif': 49, 'phasor_2_dif': 49}}, 'panner_div': {'names': ['panner_div'], 'value_range': {'min': 1, 'max': 5}, 'init_val': {'panner_div': 2}}, 'sound_wave_shapes': {'names': ['wave_1_type', 'wave_2_type'], 'value_range': {'min': 0, 'max': 3}, 'init_val': {'wave_1_type': 0, 'wave_2_type': 0}}, 'maxivolume': {'names': ['maxivolume'], 'value_range': {'min': 1, 'max': 25}, 'init_val': {'maxivolume': 10}}}"
   ]
  },
  {
   "cell_type": "code",
   "execution_count": 47,
   "metadata": {},
   "outputs": [],
   "source": [
    "sd['fbins']=[[0, 1], [1.0, 4.0], [4, 8], [8, 12], [12, 30]]"
   ]
  },
  {
   "cell_type": "code",
   "execution_count": 36,
   "metadata": {},
   "outputs": [
    {
     "data": {
      "text/plain": [
       "0"
      ]
     },
     "execution_count": 36,
     "metadata": {},
     "output_type": "execute_result"
    }
   ],
   "source": [
    "sd['fbins'][0][0]"
   ]
  },
  {
   "cell_type": "code",
   "execution_count": 25,
   "metadata": {},
   "outputs": [
    {
     "data": {
      "text/plain": [
       "'(fbin_1_4_ch0+freq_30_ch0)/fbin_12_30_ch0'"
      ]
     },
     "execution_count": 25,
     "metadata": {},
     "output_type": "execute_result"
    }
   ],
   "source": [
    "sd['reward_formula_string']"
   ]
  },
  {
   "cell_type": "code",
   "execution_count": 48,
   "metadata": {},
   "outputs": [
    {
     "name": "stdout",
     "output_type": "stream",
     "text": [
      "[(0, 1), (1.0, 4.0), (4, 8), (8, 12), (12, 30)]\n",
      "Token freq_30_ch0:\n",
      "Closest fft frequency 30.0\n",
      "Connected\n",
      "Delay and data transfer buffer size are set up.\n",
      "Default actions are set.\n"
     ]
    }
   ],
   "source": [
    "env = RLSystem.SFSystemCommunicator(out_dict=out_dict,\n",
    "                                              n_input_channels=sd['n_input_channels'],\n",
    "                                              channels_of_interest_inds=sd['channels_of_interest_inds'],\n",
    "                                              n_timepoints_per_sample=sd['n_timepoints_per_sample'],\n",
    "                                              max_sfsystem_output=sd['max_sfsystem_output'],\n",
    "                                              reward_formula_string=sd['reward_formula_string'],\n",
    "                                              fbins=sd['fbins'],\n",
    "                                              delay=sd['delay'],\n",
    "                                              use_raw_in_os_def=sd['use_raw_in_os_def'],\n",
    "                                              use_freq_in_os_def=sd['use_freq_in_os_def'],\n",
    "                                              use_fbins_in_os_def=sd['use_fbins_in_os_def'],\n",
    "                                              device_address=sd['device_address'],\n",
    "                                              step_stim_length_millis=sd['step_stim_length_millis'],\n",
    "                                              episode_time_seconds=sd['episode_time_seconds'],\n",
    "                                              logfn=sd['logfn'],\n",
    "                                              log_steps=sd['log_steps'],\n",
    "                                              log_episodes=sd['log_episodes'],\n",
    "                                              log_best_actions_final=sd['log_best_actions_final'],\n",
    "                                              signal_plot_width=sd['signal_plot_width'],\n",
    "                                              signal_plot_height=sd['signal_plot_height'],\n",
    "                                              training_plot_width=sd['training_plot_width'],\n",
    "                                              training_plot_height=sd['training_plot_height'],\n",
    "                                              write_raw=sd['write_raw'],\n",
    "                                              write_fft=sd['write_fft'],\n",
    "                                              write_bins=sd['write_bins'],\n",
    "                                              log_best_actions_every_episode=sd['log_best_actions_every_episode'],\n",
    "                                              render_data=sd['render_data'],\n",
    "                                              render_each_step=sd['render_each_step'],\n",
    "                                              log_actions_every_step=sd['log_actions_every_step'])"
   ]
  },
  {
   "cell_type": "code",
   "execution_count": 50,
   "metadata": {},
   "outputs": [
    {
     "data": {
      "application/vnd.plotly.v1+json": {
       "config": {
        "plotlyServerURL": "https://plot.ly"
       },
       "data": [
        {
         "mode": "lines+markers",
         "name": "Current episode rewards",
         "type": "scatter",
         "x": [
          0
         ],
         "xaxis": "x",
         "y": [
          3.958754301071167
         ],
         "yaxis": "y"
        },
        {
         "mode": "lines+markers",
         "name": "Previous episode max rewards",
         "type": "scatter",
         "x": [],
         "xaxis": "x2",
         "y": [],
         "yaxis": "y2"
        },
        {
         "mode": "lines+markers",
         "name": "Previous episode total rewards",
         "type": "scatter",
         "x": [],
         "xaxis": "x3",
         "y": [],
         "yaxis": "y3"
        }
       ],
       "layout": {
        "height": 500,
        "template": {
         "data": {
          "bar": [
           {
            "error_x": {
             "color": "#2a3f5f"
            },
            "error_y": {
             "color": "#2a3f5f"
            },
            "marker": {
             "line": {
              "color": "#E5ECF6",
              "width": 0.5
             },
             "pattern": {
              "fillmode": "overlay",
              "size": 10,
              "solidity": 0.2
             }
            },
            "type": "bar"
           }
          ],
          "barpolar": [
           {
            "marker": {
             "line": {
              "color": "#E5ECF6",
              "width": 0.5
             },
             "pattern": {
              "fillmode": "overlay",
              "size": 10,
              "solidity": 0.2
             }
            },
            "type": "barpolar"
           }
          ],
          "carpet": [
           {
            "aaxis": {
             "endlinecolor": "#2a3f5f",
             "gridcolor": "white",
             "linecolor": "white",
             "minorgridcolor": "white",
             "startlinecolor": "#2a3f5f"
            },
            "baxis": {
             "endlinecolor": "#2a3f5f",
             "gridcolor": "white",
             "linecolor": "white",
             "minorgridcolor": "white",
             "startlinecolor": "#2a3f5f"
            },
            "type": "carpet"
           }
          ],
          "choropleth": [
           {
            "colorbar": {
             "outlinewidth": 0,
             "ticks": ""
            },
            "type": "choropleth"
           }
          ],
          "contour": [
           {
            "colorbar": {
             "outlinewidth": 0,
             "ticks": ""
            },
            "colorscale": [
             [
              0,
              "#0d0887"
             ],
             [
              0.1111111111111111,
              "#46039f"
             ],
             [
              0.2222222222222222,
              "#7201a8"
             ],
             [
              0.3333333333333333,
              "#9c179e"
             ],
             [
              0.4444444444444444,
              "#bd3786"
             ],
             [
              0.5555555555555556,
              "#d8576b"
             ],
             [
              0.6666666666666666,
              "#ed7953"
             ],
             [
              0.7777777777777778,
              "#fb9f3a"
             ],
             [
              0.8888888888888888,
              "#fdca26"
             ],
             [
              1,
              "#f0f921"
             ]
            ],
            "type": "contour"
           }
          ],
          "contourcarpet": [
           {
            "colorbar": {
             "outlinewidth": 0,
             "ticks": ""
            },
            "type": "contourcarpet"
           }
          ],
          "heatmap": [
           {
            "colorbar": {
             "outlinewidth": 0,
             "ticks": ""
            },
            "colorscale": [
             [
              0,
              "#0d0887"
             ],
             [
              0.1111111111111111,
              "#46039f"
             ],
             [
              0.2222222222222222,
              "#7201a8"
             ],
             [
              0.3333333333333333,
              "#9c179e"
             ],
             [
              0.4444444444444444,
              "#bd3786"
             ],
             [
              0.5555555555555556,
              "#d8576b"
             ],
             [
              0.6666666666666666,
              "#ed7953"
             ],
             [
              0.7777777777777778,
              "#fb9f3a"
             ],
             [
              0.8888888888888888,
              "#fdca26"
             ],
             [
              1,
              "#f0f921"
             ]
            ],
            "type": "heatmap"
           }
          ],
          "heatmapgl": [
           {
            "colorbar": {
             "outlinewidth": 0,
             "ticks": ""
            },
            "colorscale": [
             [
              0,
              "#0d0887"
             ],
             [
              0.1111111111111111,
              "#46039f"
             ],
             [
              0.2222222222222222,
              "#7201a8"
             ],
             [
              0.3333333333333333,
              "#9c179e"
             ],
             [
              0.4444444444444444,
              "#bd3786"
             ],
             [
              0.5555555555555556,
              "#d8576b"
             ],
             [
              0.6666666666666666,
              "#ed7953"
             ],
             [
              0.7777777777777778,
              "#fb9f3a"
             ],
             [
              0.8888888888888888,
              "#fdca26"
             ],
             [
              1,
              "#f0f921"
             ]
            ],
            "type": "heatmapgl"
           }
          ],
          "histogram": [
           {
            "marker": {
             "pattern": {
              "fillmode": "overlay",
              "size": 10,
              "solidity": 0.2
             }
            },
            "type": "histogram"
           }
          ],
          "histogram2d": [
           {
            "colorbar": {
             "outlinewidth": 0,
             "ticks": ""
            },
            "colorscale": [
             [
              0,
              "#0d0887"
             ],
             [
              0.1111111111111111,
              "#46039f"
             ],
             [
              0.2222222222222222,
              "#7201a8"
             ],
             [
              0.3333333333333333,
              "#9c179e"
             ],
             [
              0.4444444444444444,
              "#bd3786"
             ],
             [
              0.5555555555555556,
              "#d8576b"
             ],
             [
              0.6666666666666666,
              "#ed7953"
             ],
             [
              0.7777777777777778,
              "#fb9f3a"
             ],
             [
              0.8888888888888888,
              "#fdca26"
             ],
             [
              1,
              "#f0f921"
             ]
            ],
            "type": "histogram2d"
           }
          ],
          "histogram2dcontour": [
           {
            "colorbar": {
             "outlinewidth": 0,
             "ticks": ""
            },
            "colorscale": [
             [
              0,
              "#0d0887"
             ],
             [
              0.1111111111111111,
              "#46039f"
             ],
             [
              0.2222222222222222,
              "#7201a8"
             ],
             [
              0.3333333333333333,
              "#9c179e"
             ],
             [
              0.4444444444444444,
              "#bd3786"
             ],
             [
              0.5555555555555556,
              "#d8576b"
             ],
             [
              0.6666666666666666,
              "#ed7953"
             ],
             [
              0.7777777777777778,
              "#fb9f3a"
             ],
             [
              0.8888888888888888,
              "#fdca26"
             ],
             [
              1,
              "#f0f921"
             ]
            ],
            "type": "histogram2dcontour"
           }
          ],
          "mesh3d": [
           {
            "colorbar": {
             "outlinewidth": 0,
             "ticks": ""
            },
            "type": "mesh3d"
           }
          ],
          "parcoords": [
           {
            "line": {
             "colorbar": {
              "outlinewidth": 0,
              "ticks": ""
             }
            },
            "type": "parcoords"
           }
          ],
          "pie": [
           {
            "automargin": true,
            "type": "pie"
           }
          ],
          "scatter": [
           {
            "fillpattern": {
             "fillmode": "overlay",
             "size": 10,
             "solidity": 0.2
            },
            "type": "scatter"
           }
          ],
          "scatter3d": [
           {
            "line": {
             "colorbar": {
              "outlinewidth": 0,
              "ticks": ""
             }
            },
            "marker": {
             "colorbar": {
              "outlinewidth": 0,
              "ticks": ""
             }
            },
            "type": "scatter3d"
           }
          ],
          "scattercarpet": [
           {
            "marker": {
             "colorbar": {
              "outlinewidth": 0,
              "ticks": ""
             }
            },
            "type": "scattercarpet"
           }
          ],
          "scattergeo": [
           {
            "marker": {
             "colorbar": {
              "outlinewidth": 0,
              "ticks": ""
             }
            },
            "type": "scattergeo"
           }
          ],
          "scattergl": [
           {
            "marker": {
             "colorbar": {
              "outlinewidth": 0,
              "ticks": ""
             }
            },
            "type": "scattergl"
           }
          ],
          "scattermapbox": [
           {
            "marker": {
             "colorbar": {
              "outlinewidth": 0,
              "ticks": ""
             }
            },
            "type": "scattermapbox"
           }
          ],
          "scatterpolar": [
           {
            "marker": {
             "colorbar": {
              "outlinewidth": 0,
              "ticks": ""
             }
            },
            "type": "scatterpolar"
           }
          ],
          "scatterpolargl": [
           {
            "marker": {
             "colorbar": {
              "outlinewidth": 0,
              "ticks": ""
             }
            },
            "type": "scatterpolargl"
           }
          ],
          "scatterternary": [
           {
            "marker": {
             "colorbar": {
              "outlinewidth": 0,
              "ticks": ""
             }
            },
            "type": "scatterternary"
           }
          ],
          "surface": [
           {
            "colorbar": {
             "outlinewidth": 0,
             "ticks": ""
            },
            "colorscale": [
             [
              0,
              "#0d0887"
             ],
             [
              0.1111111111111111,
              "#46039f"
             ],
             [
              0.2222222222222222,
              "#7201a8"
             ],
             [
              0.3333333333333333,
              "#9c179e"
             ],
             [
              0.4444444444444444,
              "#bd3786"
             ],
             [
              0.5555555555555556,
              "#d8576b"
             ],
             [
              0.6666666666666666,
              "#ed7953"
             ],
             [
              0.7777777777777778,
              "#fb9f3a"
             ],
             [
              0.8888888888888888,
              "#fdca26"
             ],
             [
              1,
              "#f0f921"
             ]
            ],
            "type": "surface"
           }
          ],
          "table": [
           {
            "cells": {
             "fill": {
              "color": "#EBF0F8"
             },
             "line": {
              "color": "white"
             }
            },
            "header": {
             "fill": {
              "color": "#C8D4E3"
             },
             "line": {
              "color": "white"
             }
            },
            "type": "table"
           }
          ]
         },
         "layout": {
          "annotationdefaults": {
           "arrowcolor": "#2a3f5f",
           "arrowhead": 0,
           "arrowwidth": 1
          },
          "autotypenumbers": "strict",
          "coloraxis": {
           "colorbar": {
            "outlinewidth": 0,
            "ticks": ""
           }
          },
          "colorscale": {
           "diverging": [
            [
             0,
             "#8e0152"
            ],
            [
             0.1,
             "#c51b7d"
            ],
            [
             0.2,
             "#de77ae"
            ],
            [
             0.3,
             "#f1b6da"
            ],
            [
             0.4,
             "#fde0ef"
            ],
            [
             0.5,
             "#f7f7f7"
            ],
            [
             0.6,
             "#e6f5d0"
            ],
            [
             0.7,
             "#b8e186"
            ],
            [
             0.8,
             "#7fbc41"
            ],
            [
             0.9,
             "#4d9221"
            ],
            [
             1,
             "#276419"
            ]
           ],
           "sequential": [
            [
             0,
             "#0d0887"
            ],
            [
             0.1111111111111111,
             "#46039f"
            ],
            [
             0.2222222222222222,
             "#7201a8"
            ],
            [
             0.3333333333333333,
             "#9c179e"
            ],
            [
             0.4444444444444444,
             "#bd3786"
            ],
            [
             0.5555555555555556,
             "#d8576b"
            ],
            [
             0.6666666666666666,
             "#ed7953"
            ],
            [
             0.7777777777777778,
             "#fb9f3a"
            ],
            [
             0.8888888888888888,
             "#fdca26"
            ],
            [
             1,
             "#f0f921"
            ]
           ],
           "sequentialminus": [
            [
             0,
             "#0d0887"
            ],
            [
             0.1111111111111111,
             "#46039f"
            ],
            [
             0.2222222222222222,
             "#7201a8"
            ],
            [
             0.3333333333333333,
             "#9c179e"
            ],
            [
             0.4444444444444444,
             "#bd3786"
            ],
            [
             0.5555555555555556,
             "#d8576b"
            ],
            [
             0.6666666666666666,
             "#ed7953"
            ],
            [
             0.7777777777777778,
             "#fb9f3a"
            ],
            [
             0.8888888888888888,
             "#fdca26"
            ],
            [
             1,
             "#f0f921"
            ]
           ]
          },
          "colorway": [
           "#636efa",
           "#EF553B",
           "#00cc96",
           "#ab63fa",
           "#FFA15A",
           "#19d3f3",
           "#FF6692",
           "#B6E880",
           "#FF97FF",
           "#FECB52"
          ],
          "font": {
           "color": "#2a3f5f"
          },
          "geo": {
           "bgcolor": "white",
           "lakecolor": "white",
           "landcolor": "#E5ECF6",
           "showlakes": true,
           "showland": true,
           "subunitcolor": "white"
          },
          "hoverlabel": {
           "align": "left"
          },
          "hovermode": "closest",
          "mapbox": {
           "style": "light"
          },
          "paper_bgcolor": "white",
          "plot_bgcolor": "#E5ECF6",
          "polar": {
           "angularaxis": {
            "gridcolor": "white",
            "linecolor": "white",
            "ticks": ""
           },
           "bgcolor": "#E5ECF6",
           "radialaxis": {
            "gridcolor": "white",
            "linecolor": "white",
            "ticks": ""
           }
          },
          "scene": {
           "xaxis": {
            "backgroundcolor": "#E5ECF6",
            "gridcolor": "white",
            "gridwidth": 2,
            "linecolor": "white",
            "showbackground": true,
            "ticks": "",
            "zerolinecolor": "white"
           },
           "yaxis": {
            "backgroundcolor": "#E5ECF6",
            "gridcolor": "white",
            "gridwidth": 2,
            "linecolor": "white",
            "showbackground": true,
            "ticks": "",
            "zerolinecolor": "white"
           },
           "zaxis": {
            "backgroundcolor": "#E5ECF6",
            "gridcolor": "white",
            "gridwidth": 2,
            "linecolor": "white",
            "showbackground": true,
            "ticks": "",
            "zerolinecolor": "white"
           }
          },
          "shapedefaults": {
           "line": {
            "color": "#2a3f5f"
           }
          },
          "ternary": {
           "aaxis": {
            "gridcolor": "white",
            "linecolor": "white",
            "ticks": ""
           },
           "baxis": {
            "gridcolor": "white",
            "linecolor": "white",
            "ticks": ""
           },
           "bgcolor": "#E5ECF6",
           "caxis": {
            "gridcolor": "white",
            "linecolor": "white",
            "ticks": ""
           }
          },
          "title": {
           "x": 0.05
          },
          "xaxis": {
           "automargin": true,
           "gridcolor": "white",
           "linecolor": "white",
           "ticks": "",
           "title": {
            "standoff": 15
           },
           "zerolinecolor": "white",
           "zerolinewidth": 2
          },
          "yaxis": {
           "automargin": true,
           "gridcolor": "white",
           "linecolor": "white",
           "ticks": "",
           "title": {
            "standoff": 15
           },
           "zerolinecolor": "white",
           "zerolinewidth": 2
          }
         }
        },
        "width": 2000,
        "xaxis": {
         "anchor": "y",
         "domain": [
          0,
          0.45
         ]
        },
        "xaxis2": {
         "anchor": "y2",
         "domain": [
          0.55,
          1
         ]
        },
        "xaxis3": {
         "anchor": "y3",
         "domain": [
          0,
          0.45
         ]
        },
        "xaxis4": {
         "anchor": "y4",
         "domain": [
          0.55,
          1
         ]
        },
        "yaxis": {
         "anchor": "x",
         "domain": [
          0.575,
          1
         ]
        },
        "yaxis2": {
         "anchor": "x2",
         "domain": [
          0.575,
          1
         ]
        },
        "yaxis3": {
         "anchor": "x3",
         "domain": [
          0,
          0.425
         ]
        },
        "yaxis4": {
         "anchor": "x4",
         "domain": [
          0,
          0.425
         ]
        }
       }
      }
     },
     "metadata": {},
     "output_type": "display_data"
    },
    {
     "data": {
      "application/vnd.plotly.v1+json": {
       "config": {
        "plotlyServerURL": "https://plot.ly"
       },
       "data": [
        {
         "mode": "lines+markers",
         "name": "Channel 0 spectrum",
         "type": "scatter",
         "x": [
          0,
          1,
          2,
          3,
          4,
          5,
          6,
          7,
          8,
          9,
          10,
          11,
          12,
          13,
          14,
          15,
          16,
          17,
          18,
          19,
          20,
          21,
          22,
          23,
          24,
          25,
          26,
          27,
          28,
          29,
          30,
          31,
          32,
          33,
          34,
          35,
          36,
          37,
          38,
          39,
          40,
          41,
          42,
          43,
          44,
          45,
          46,
          47,
          48,
          49,
          50
         ],
         "xaxis": "x",
         "y": [
          1064.5,
          67.4356070929158,
          73.53458185008282,
          45.14121554977785,
          32.40910751088725,
          38.487968887163,
          37.4021899600075,
          62.36480461639838,
          72.63418616841622,
          65.65005056105285,
          70.95070178770878,
          86.83197506347786,
          85.5116711182933,
          48.93263509296064,
          70.17853707316918,
          25.51610706928094,
          54.316179120582156,
          44.00349134715241,
          29.136579847227946,
          47.67548484158608,
          41.56900635950667,
          71.94842387741065,
          66.3031609059239,
          33.80235559197186,
          79.93405077805511,
          37.0499824561362,
          15.797018732708967,
          19.86887235199189,
          64.25473413838337,
          9.404540241159928,
          66.77534811464196,
          67.64805150733808,
          74.70394469457878,
          102.02441380023342,
          74.07753329429495,
          79.53258522129248,
          65.16299427477094,
          29.28286361586505,
          55.657320568248316,
          21.55175054388695,
          54.12858496472352,
          46.062398741072954,
          53.60432340376175,
          70.9554265689796,
          50.37616929902434,
          42.269530621803824,
          41.045625845725674,
          100.710382765926,
          39.47896397178859,
          31.331950242647416,
          14.86
         ],
         "yaxis": "y"
        },
        {
         "mode": "lines+markers",
         "name": "Channel 1 spectrum",
         "type": "scatter",
         "x": [
          0,
          1,
          2,
          3,
          4,
          5,
          6,
          7,
          8,
          9,
          10,
          11,
          12,
          13,
          14,
          15,
          16,
          17,
          18,
          19,
          20,
          21,
          22,
          23,
          24,
          25,
          26,
          27,
          28,
          29,
          30,
          31,
          32,
          33,
          34,
          35,
          36,
          37,
          38,
          39,
          40,
          41,
          42,
          43,
          44,
          45,
          46,
          47,
          48,
          49,
          50
         ],
         "xaxis": "x3",
         "y": [
          1066.14,
          11.647001597802474,
          8.252989818574815,
          43.37891892998166,
          95.39542042392381,
          23.276884566195655,
          47.77399990576033,
          29.57074222996474,
          20.886482861822866,
          88.6230442100313,
          63.481603902182314,
          65.29961996709544,
          8.424464441961373,
          26.674815094356077,
          44.900446480433146,
          68.38995284879758,
          21.62635820714504,
          34.2140939142755,
          76.03696075225258,
          60.862199015278286,
          24.476712081083846,
          44.441889164511025,
          79.29209795676579,
          83.91996020702044,
          73.26453543792356,
          53.252113573078034,
          19.325490029842907,
          133.5897163381026,
          18.990459089044297,
          42.26525876804827,
          27.221145567489074,
          59.65452287492894,
          37.529119279562515,
          20.082589832867228,
          48.4756856765548,
          28.68603801035826,
          128.30071851568167,
          75.71267305828995,
          25.247466069018245,
          86.1870310188228,
          24.642925266691122,
          47.578378729342376,
          39.78145571570366,
          63.939202797681645,
          37.81151734741119,
          100.44826836486295,
          55.55841403981321,
          58.6882859704001,
          68.02514186951156,
          48.41194422457157,
          15.77999999999999
         ],
         "yaxis": "y3"
        },
        {
         "mode": "lines+markers",
         "name": "Channel 2 spectrum",
         "type": "scatter",
         "x": [
          0,
          1,
          2,
          3,
          4,
          5,
          6,
          7,
          8,
          9,
          10,
          11,
          12,
          13,
          14,
          15,
          16,
          17,
          18,
          19,
          20,
          21,
          22,
          23,
          24,
          25,
          26,
          27,
          28,
          29,
          30,
          31,
          32,
          33,
          34,
          35,
          36,
          37,
          38,
          39,
          40,
          41,
          42,
          43,
          44,
          45,
          46,
          47,
          48,
          49,
          50
         ],
         "xaxis": "x5",
         "y": [
          1026.8,
          9.860688680062466,
          28.955224821609903,
          19.32879689494374,
          29.83659781641619,
          28.07675528129459,
          46.320117152091754,
          88.4930619825744,
          80.75369554267526,
          56.075571766743735,
          31.186221742630405,
          56.94369024935443,
          66.02094191275717,
          52.026150947306526,
          29.654721421101744,
          99.2691227797355,
          29.119228520844114,
          66.33620273135101,
          26.450575701697435,
          29.81651661457338,
          49.142590947141535,
          82.2020238508845,
          48.72965191323987,
          45.94560441595085,
          61.47673696559781,
          51.80703427141916,
          104.95072274433329,
          50.48187184030271,
          55.75042010317512,
          4.248077335333252,
          53.35790825566053,
          73.05935315801621,
          99.26208150341814,
          58.56443658772699,
          58.72981985591933,
          73.18838624281622,
          48.57883964801905,
          53.80264673245278,
          33.05233017987169,
          31.840934755466222,
          39.96042736260362,
          30.3563285056377,
          62.90181388678379,
          62.93576629687157,
          77.48823642563183,
          42.21753657650388,
          63.83250429062867,
          60.92084577321424,
          45.686147203872764,
          39.98879943609728,
          100.68
         ],
         "yaxis": "y5"
        },
        {
         "mode": "lines+markers",
         "name": "Channel 3 spectrum",
         "type": "scatter",
         "x": [
          0,
          1,
          2,
          3,
          4,
          5,
          6,
          7,
          8,
          9,
          10,
          11,
          12,
          13,
          14,
          15,
          16,
          17,
          18,
          19,
          20,
          21,
          22,
          23,
          24,
          25,
          26,
          27,
          28,
          29,
          30,
          31,
          32,
          33,
          34,
          35,
          36,
          37,
          38,
          39,
          40,
          41,
          42,
          43,
          44,
          45,
          46,
          47,
          48,
          49,
          50
         ],
         "xaxis": "x7",
         "y": [
          950.82,
          49.276918122692635,
          32.16293777361988,
          32.75134582928233,
          49.16966990649949,
          69.90935318219469,
          70.19577024315159,
          47.54556579754326,
          59.44726021623881,
          26.704993496074053,
          81.8550088330966,
          57.763305268519055,
          127.33155412171207,
          29.470529209275757,
          2.0106911670164367,
          15.254239020023826,
          62.525175536883935,
          72.31721998304712,
          74.53044548381203,
          139.01243418703245,
          36.10192927918428,
          9.31510703008861,
          19.166925289577485,
          113.55028569898519,
          75.07007167822276,
          67.58498353924487,
          9.026870983664423,
          20.591898510434326,
          83.29397396872454,
          13.837356079875414,
          82.42404703078878,
          78.83603553748897,
          17.102660538441196,
          29.607869584369055,
          25.19461748165783,
          80.87444682754844,
          48.01579059953188,
          52.478951080170184,
          22.546142454247164,
          35.64233895897307,
          23.647357195271876,
          84.2847075511402,
          56.2783983450615,
          43.551307416160085,
          38.534566586896275,
          60.74331551623758,
          81.8327089619101,
          33.29403906153713,
          114.84134636703266,
          43.60218762762692,
          41.70000000000001
         ],
         "yaxis": "y7"
        },
        {
         "mode": "lines+markers",
         "name": "Channel 4 spectrum",
         "type": "scatter",
         "x": [
          0,
          1,
          2,
          3,
          4,
          5,
          6,
          7,
          8,
          9,
          10,
          11,
          12,
          13,
          14,
          15,
          16,
          17,
          18,
          19,
          20,
          21,
          22,
          23,
          24,
          25,
          26,
          27,
          28,
          29,
          30,
          31,
          32,
          33,
          34,
          35,
          36,
          37,
          38,
          39,
          40,
          41,
          42,
          43,
          44,
          45,
          46,
          47,
          48,
          49,
          50
         ],
         "xaxis": "x9",
         "y": [
          1085.48,
          11.251229534463857,
          26.683214893999903,
          7.501622794965312,
          82.88176936303067,
          40.11900456452556,
          28.770646249109465,
          65.5300735827137,
          110.04116894124454,
          26.3663256347261,
          110.64566328753114,
          47.91277919794402,
          47.09173474271973,
          6.352992256543446,
          23.80349899116722,
          10.385787406390321,
          29.97778082498977,
          42.43427679408331,
          51.23830545225296,
          67.76036868042662,
          51.06840212045651,
          51.52350226129887,
          53.937135813727075,
          81.15709656754001,
          54.18776881324963,
          29.57415087538441,
          53.94932913835787,
          54.59842093844028,
          54.53476109701494,
          47.02579158682846,
          93.28716093687432,
          91.24505034648419,
          5.63188388456194,
          92.16920380268073,
          29.92807429080288,
          21.098865310094784,
          12.519534349959756,
          79.14268098693707,
          43.713527544232385,
          45.1916343187818,
          22.29980055658249,
          69.25749645901162,
          106.83224319810702,
          46.97610395624616,
          64.37445014310086,
          50.981686666167896,
          65.29220784569455,
          96.00599763118062,
          90.2433126414683,
          87.13847247956706,
          57.95999999999998
         ],
         "yaxis": "y9"
        },
        {
         "mode": "lines+markers",
         "name": "Channel 5 spectrum",
         "type": "scatter",
         "x": [
          0,
          1,
          2,
          3,
          4,
          5,
          6,
          7,
          8,
          9,
          10,
          11,
          12,
          13,
          14,
          15,
          16,
          17,
          18,
          19,
          20,
          21,
          22,
          23,
          24,
          25,
          26,
          27,
          28,
          29,
          30,
          31,
          32,
          33,
          34,
          35,
          36,
          37,
          38,
          39,
          40,
          41,
          42,
          43,
          44,
          45,
          46,
          47,
          48,
          49,
          50
         ],
         "xaxis": "x11",
         "y": [
          1010.94,
          31.83159005009475,
          63.18522816479086,
          38.77517447700959,
          47.79885884558173,
          70.41254576106171,
          35.29279018731187,
          38.4890054413362,
          69.0206103943387,
          77.62957826811704,
          58.85802565514975,
          48.0014210686856,
          55.48174249389421,
          20.477536651720946,
          30.93043954703577,
          54.917578532204786,
          27.888669592991835,
          115.330115039222,
          89.5279813515749,
          68.00411916431275,
          75.6850339952112,
          82.40499430360649,
          34.219292322481884,
          28.312066046380465,
          61.97400072574113,
          40.577594803043716,
          28.16243278528465,
          36.932874180796155,
          87.21507563439401,
          90.01348731511304,
          54.659802560727705,
          36.05624493339309,
          17.58859638278968,
          35.20306137273797,
          39.04909695397411,
          40.207186855957225,
          56.09983588274543,
          60.750780628358605,
          27.409570005466406,
          39.89153445255644,
          31.098373416365757,
          36.222640875027956,
          51.209293577980134,
          12.128729716085894,
          56.95557487153986,
          89.51218851494832,
          8.07437490451086,
          34.640366379454356,
          13.295442468182037,
          101.21545794537835,
          5.059999999999989
         ],
         "yaxis": "y11"
        },
        {
         "mode": "lines+markers",
         "name": "Channel 6 spectrum",
         "type": "scatter",
         "x": [
          0,
          1,
          2,
          3,
          4,
          5,
          6,
          7,
          8,
          9,
          10,
          11,
          12,
          13,
          14,
          15,
          16,
          17,
          18,
          19,
          20,
          21,
          22,
          23,
          24,
          25,
          26,
          27,
          28,
          29,
          30,
          31,
          32,
          33,
          34,
          35,
          36,
          37,
          38,
          39,
          40,
          41,
          42,
          43,
          44,
          45,
          46,
          47,
          48,
          49,
          50
         ],
         "xaxis": "x13",
         "y": [
          1028.72,
          47.25475247832163,
          75.31606870219349,
          53.70009682214052,
          57.29097305658715,
          81.44463509988982,
          22.28999780810729,
          56.87796360186551,
          16.250687489900503,
          47.28363665837358,
          37.84016547027599,
          36.99032244508744,
          85.70809652976745,
          140.83540863045883,
          39.77182238559155,
          23.260048441829586,
          43.43553800601895,
          81.93744978379948,
          45.06072467781938,
          88.61788958138446,
          65.52580380547545,
          65.11513732177126,
          87.24735538116472,
          31.008578635415297,
          25.971670509818892,
          16.374077073227667,
          26.418740406483018,
          35.735649991190016,
          133.40502487055858,
          5.427290869888759,
          46.670708985209664,
          64.95453009753425,
          70.72677148663142,
          15.591201236650617,
          36.280732964062246,
          34.94663082379813,
          60.06792061797557,
          51.95483561920367,
          89.56951517531448,
          57.00946023803228,
          52.01568836078536,
          57.93357417551435,
          80.89836412038463,
          101.56320698299231,
          32.0541759030907,
          93.88403567164494,
          35.03083231130181,
          40.22652428710509,
          28.77888070801086,
          51.970569307566,
          2.959999999999991
         ],
         "yaxis": "y13"
        },
        {
         "mode": "lines+markers",
         "name": "Channel 7 spectrum",
         "type": "scatter",
         "x": [
          0,
          1,
          2,
          3,
          4,
          5,
          6,
          7,
          8,
          9,
          10,
          11,
          12,
          13,
          14,
          15,
          16,
          17,
          18,
          19,
          20,
          21,
          22,
          23,
          24,
          25,
          26,
          27,
          28,
          29,
          30,
          31,
          32,
          33,
          34,
          35,
          36,
          37,
          38,
          39,
          40,
          41,
          42,
          43,
          44,
          45,
          46,
          47,
          48,
          49,
          50
         ],
         "xaxis": "x15",
         "y": [
          979.78,
          24.58159029541329,
          32.7799210460005,
          33.79905615770038,
          105.94155993807412,
          36.57239484226887,
          44.983442386399545,
          64.09295109056536,
          53.31946855157639,
          25.579818948616172,
          19.82149474627015,
          86.07668606458175,
          119.01676766307364,
          37.085226798673354,
          61.690380395145276,
          69.61646392074164,
          73.07776579431994,
          88.53451201442289,
          38.78548456180809,
          31.516864487063994,
          64.27206843332304,
          21.35399712059849,
          26.392379566291808,
          47.9668157814207,
          69.35776459401907,
          63.1659560206287,
          16.82526613839384,
          59.08331487047504,
          32.88355528809259,
          4.542610732011985,
          77.1495012687936,
          43.22406336328514,
          94.6940707344175,
          29.811284656934955,
          86.78443877063204,
          18.13661536186663,
          28.527340304088156,
          27.07706882337396,
          46.61047958772814,
          26.25781280486478,
          38.55479242976467,
          93.05666504626875,
          39.63400693436593,
          39.51123273791483,
          44.48303181237359,
          21.860902769304026,
          44.185952922750154,
          84.06076270376481,
          69.89503057188129,
          29.786074050526096,
          97.06
         ],
         "yaxis": "y15"
        },
        {
         "name": "Channel 0 frequency bins",
         "type": "bar",
         "x": [
          "0-1 Hz",
          "1.0-4.0 Hz",
          "4-8 Hz",
          "8-12 Hz",
          "12-30 Hz"
         ],
         "xaxis": "x2",
         "y": [
          0.45649725,
          0.33308223,
          0.4805426,
          0.48954707,
          0.59437114
         ],
         "yaxis": "y2"
        },
        {
         "name": "Channel 1 frequency bins",
         "type": "bar",
         "x": [
          "0-1 Hz",
          "1.0-4.0 Hz",
          "4-8 Hz",
          "8-12 Hz",
          "12-30 Hz"
         ],
         "xaxis": "x4",
         "y": [
          0.947209,
          0.36329892,
          0.5575757,
          0.35498443,
          0.5846041
         ],
         "yaxis": "y4"
        },
        {
         "name": "Channel 2 frequency bins",
         "type": "bar",
         "x": [
          "0-1 Hz",
          "1.0-4.0 Hz",
          "4-8 Hz",
          "8-12 Hz",
          "12-30 Hz"
         ],
         "xaxis": "x6",
         "y": [
          0.8622154,
          0.6134732,
          0.5585826,
          0.73307484,
          0.46213478
         ],
         "yaxis": "y6"
        },
        {
         "name": "Channel 3 frequency bins",
         "type": "bar",
         "x": [
          "0-1 Hz",
          "1.0-4.0 Hz",
          "4-8 Hz",
          "8-12 Hz",
          "12-30 Hz"
         ],
         "xaxis": "x8",
         "y": [
          0.9224871,
          0.59512097,
          0.33293667,
          0.5090612,
          0.4831907
         ],
         "yaxis": "y8"
        },
        {
         "name": "Channel 4 frequency bins",
         "type": "bar",
         "x": [
          "0-1 Hz",
          "1.0-4.0 Hz",
          "4-8 Hz",
          "8-12 Hz",
          "12-30 Hz"
         ],
         "xaxis": "x10",
         "y": [
          0.25692922,
          0.22652318,
          0.47397363,
          0.5997754,
          0.46472734
         ],
         "yaxis": "y10"
        },
        {
         "name": "Channel 5 frequency bins",
         "type": "bar",
         "x": [
          "0-1 Hz",
          "1.0-4.0 Hz",
          "4-8 Hz",
          "8-12 Hz",
          "12-30 Hz"
         ],
         "xaxis": "x12",
         "y": [
          0.38721895,
          0.31670427,
          0.36731762,
          0.56597286,
          0.47360712
         ],
         "yaxis": "y12"
        },
        {
         "name": "Channel 6 frequency bins",
         "type": "bar",
         "x": [
          "0-1 Hz",
          "1.0-4.0 Hz",
          "4-8 Hz",
          "8-12 Hz",
          "12-30 Hz"
         ],
         "xaxis": "x14",
         "y": [
          0.47025764,
          0.26843604,
          0.55598605,
          0.45470923,
          0.4830911
         ],
         "yaxis": "y14"
        },
        {
         "name": "Channel 7 frequency bins",
         "type": "bar",
         "x": [
          "0-1 Hz",
          "1.0-4.0 Hz",
          "4-8 Hz",
          "8-12 Hz",
          "12-30 Hz"
         ],
         "xaxis": "x16",
         "y": [
          0.71087176,
          0.44788668,
          0.562593,
          0.41924483,
          0.5128278
         ],
         "yaxis": "y16"
        }
       ],
       "layout": {
        "height": 1500,
        "template": {
         "data": {
          "bar": [
           {
            "error_x": {
             "color": "#2a3f5f"
            },
            "error_y": {
             "color": "#2a3f5f"
            },
            "marker": {
             "line": {
              "color": "#E5ECF6",
              "width": 0.5
             },
             "pattern": {
              "fillmode": "overlay",
              "size": 10,
              "solidity": 0.2
             }
            },
            "type": "bar"
           }
          ],
          "barpolar": [
           {
            "marker": {
             "line": {
              "color": "#E5ECF6",
              "width": 0.5
             },
             "pattern": {
              "fillmode": "overlay",
              "size": 10,
              "solidity": 0.2
             }
            },
            "type": "barpolar"
           }
          ],
          "carpet": [
           {
            "aaxis": {
             "endlinecolor": "#2a3f5f",
             "gridcolor": "white",
             "linecolor": "white",
             "minorgridcolor": "white",
             "startlinecolor": "#2a3f5f"
            },
            "baxis": {
             "endlinecolor": "#2a3f5f",
             "gridcolor": "white",
             "linecolor": "white",
             "minorgridcolor": "white",
             "startlinecolor": "#2a3f5f"
            },
            "type": "carpet"
           }
          ],
          "choropleth": [
           {
            "colorbar": {
             "outlinewidth": 0,
             "ticks": ""
            },
            "type": "choropleth"
           }
          ],
          "contour": [
           {
            "colorbar": {
             "outlinewidth": 0,
             "ticks": ""
            },
            "colorscale": [
             [
              0,
              "#0d0887"
             ],
             [
              0.1111111111111111,
              "#46039f"
             ],
             [
              0.2222222222222222,
              "#7201a8"
             ],
             [
              0.3333333333333333,
              "#9c179e"
             ],
             [
              0.4444444444444444,
              "#bd3786"
             ],
             [
              0.5555555555555556,
              "#d8576b"
             ],
             [
              0.6666666666666666,
              "#ed7953"
             ],
             [
              0.7777777777777778,
              "#fb9f3a"
             ],
             [
              0.8888888888888888,
              "#fdca26"
             ],
             [
              1,
              "#f0f921"
             ]
            ],
            "type": "contour"
           }
          ],
          "contourcarpet": [
           {
            "colorbar": {
             "outlinewidth": 0,
             "ticks": ""
            },
            "type": "contourcarpet"
           }
          ],
          "heatmap": [
           {
            "colorbar": {
             "outlinewidth": 0,
             "ticks": ""
            },
            "colorscale": [
             [
              0,
              "#0d0887"
             ],
             [
              0.1111111111111111,
              "#46039f"
             ],
             [
              0.2222222222222222,
              "#7201a8"
             ],
             [
              0.3333333333333333,
              "#9c179e"
             ],
             [
              0.4444444444444444,
              "#bd3786"
             ],
             [
              0.5555555555555556,
              "#d8576b"
             ],
             [
              0.6666666666666666,
              "#ed7953"
             ],
             [
              0.7777777777777778,
              "#fb9f3a"
             ],
             [
              0.8888888888888888,
              "#fdca26"
             ],
             [
              1,
              "#f0f921"
             ]
            ],
            "type": "heatmap"
           }
          ],
          "heatmapgl": [
           {
            "colorbar": {
             "outlinewidth": 0,
             "ticks": ""
            },
            "colorscale": [
             [
              0,
              "#0d0887"
             ],
             [
              0.1111111111111111,
              "#46039f"
             ],
             [
              0.2222222222222222,
              "#7201a8"
             ],
             [
              0.3333333333333333,
              "#9c179e"
             ],
             [
              0.4444444444444444,
              "#bd3786"
             ],
             [
              0.5555555555555556,
              "#d8576b"
             ],
             [
              0.6666666666666666,
              "#ed7953"
             ],
             [
              0.7777777777777778,
              "#fb9f3a"
             ],
             [
              0.8888888888888888,
              "#fdca26"
             ],
             [
              1,
              "#f0f921"
             ]
            ],
            "type": "heatmapgl"
           }
          ],
          "histogram": [
           {
            "marker": {
             "pattern": {
              "fillmode": "overlay",
              "size": 10,
              "solidity": 0.2
             }
            },
            "type": "histogram"
           }
          ],
          "histogram2d": [
           {
            "colorbar": {
             "outlinewidth": 0,
             "ticks": ""
            },
            "colorscale": [
             [
              0,
              "#0d0887"
             ],
             [
              0.1111111111111111,
              "#46039f"
             ],
             [
              0.2222222222222222,
              "#7201a8"
             ],
             [
              0.3333333333333333,
              "#9c179e"
             ],
             [
              0.4444444444444444,
              "#bd3786"
             ],
             [
              0.5555555555555556,
              "#d8576b"
             ],
             [
              0.6666666666666666,
              "#ed7953"
             ],
             [
              0.7777777777777778,
              "#fb9f3a"
             ],
             [
              0.8888888888888888,
              "#fdca26"
             ],
             [
              1,
              "#f0f921"
             ]
            ],
            "type": "histogram2d"
           }
          ],
          "histogram2dcontour": [
           {
            "colorbar": {
             "outlinewidth": 0,
             "ticks": ""
            },
            "colorscale": [
             [
              0,
              "#0d0887"
             ],
             [
              0.1111111111111111,
              "#46039f"
             ],
             [
              0.2222222222222222,
              "#7201a8"
             ],
             [
              0.3333333333333333,
              "#9c179e"
             ],
             [
              0.4444444444444444,
              "#bd3786"
             ],
             [
              0.5555555555555556,
              "#d8576b"
             ],
             [
              0.6666666666666666,
              "#ed7953"
             ],
             [
              0.7777777777777778,
              "#fb9f3a"
             ],
             [
              0.8888888888888888,
              "#fdca26"
             ],
             [
              1,
              "#f0f921"
             ]
            ],
            "type": "histogram2dcontour"
           }
          ],
          "mesh3d": [
           {
            "colorbar": {
             "outlinewidth": 0,
             "ticks": ""
            },
            "type": "mesh3d"
           }
          ],
          "parcoords": [
           {
            "line": {
             "colorbar": {
              "outlinewidth": 0,
              "ticks": ""
             }
            },
            "type": "parcoords"
           }
          ],
          "pie": [
           {
            "automargin": true,
            "type": "pie"
           }
          ],
          "scatter": [
           {
            "fillpattern": {
             "fillmode": "overlay",
             "size": 10,
             "solidity": 0.2
            },
            "type": "scatter"
           }
          ],
          "scatter3d": [
           {
            "line": {
             "colorbar": {
              "outlinewidth": 0,
              "ticks": ""
             }
            },
            "marker": {
             "colorbar": {
              "outlinewidth": 0,
              "ticks": ""
             }
            },
            "type": "scatter3d"
           }
          ],
          "scattercarpet": [
           {
            "marker": {
             "colorbar": {
              "outlinewidth": 0,
              "ticks": ""
             }
            },
            "type": "scattercarpet"
           }
          ],
          "scattergeo": [
           {
            "marker": {
             "colorbar": {
              "outlinewidth": 0,
              "ticks": ""
             }
            },
            "type": "scattergeo"
           }
          ],
          "scattergl": [
           {
            "marker": {
             "colorbar": {
              "outlinewidth": 0,
              "ticks": ""
             }
            },
            "type": "scattergl"
           }
          ],
          "scattermapbox": [
           {
            "marker": {
             "colorbar": {
              "outlinewidth": 0,
              "ticks": ""
             }
            },
            "type": "scattermapbox"
           }
          ],
          "scatterpolar": [
           {
            "marker": {
             "colorbar": {
              "outlinewidth": 0,
              "ticks": ""
             }
            },
            "type": "scatterpolar"
           }
          ],
          "scatterpolargl": [
           {
            "marker": {
             "colorbar": {
              "outlinewidth": 0,
              "ticks": ""
             }
            },
            "type": "scatterpolargl"
           }
          ],
          "scatterternary": [
           {
            "marker": {
             "colorbar": {
              "outlinewidth": 0,
              "ticks": ""
             }
            },
            "type": "scatterternary"
           }
          ],
          "surface": [
           {
            "colorbar": {
             "outlinewidth": 0,
             "ticks": ""
            },
            "colorscale": [
             [
              0,
              "#0d0887"
             ],
             [
              0.1111111111111111,
              "#46039f"
             ],
             [
              0.2222222222222222,
              "#7201a8"
             ],
             [
              0.3333333333333333,
              "#9c179e"
             ],
             [
              0.4444444444444444,
              "#bd3786"
             ],
             [
              0.5555555555555556,
              "#d8576b"
             ],
             [
              0.6666666666666666,
              "#ed7953"
             ],
             [
              0.7777777777777778,
              "#fb9f3a"
             ],
             [
              0.8888888888888888,
              "#fdca26"
             ],
             [
              1,
              "#f0f921"
             ]
            ],
            "type": "surface"
           }
          ],
          "table": [
           {
            "cells": {
             "fill": {
              "color": "#EBF0F8"
             },
             "line": {
              "color": "white"
             }
            },
            "header": {
             "fill": {
              "color": "#C8D4E3"
             },
             "line": {
              "color": "white"
             }
            },
            "type": "table"
           }
          ]
         },
         "layout": {
          "annotationdefaults": {
           "arrowcolor": "#2a3f5f",
           "arrowhead": 0,
           "arrowwidth": 1
          },
          "autotypenumbers": "strict",
          "coloraxis": {
           "colorbar": {
            "outlinewidth": 0,
            "ticks": ""
           }
          },
          "colorscale": {
           "diverging": [
            [
             0,
             "#8e0152"
            ],
            [
             0.1,
             "#c51b7d"
            ],
            [
             0.2,
             "#de77ae"
            ],
            [
             0.3,
             "#f1b6da"
            ],
            [
             0.4,
             "#fde0ef"
            ],
            [
             0.5,
             "#f7f7f7"
            ],
            [
             0.6,
             "#e6f5d0"
            ],
            [
             0.7,
             "#b8e186"
            ],
            [
             0.8,
             "#7fbc41"
            ],
            [
             0.9,
             "#4d9221"
            ],
            [
             1,
             "#276419"
            ]
           ],
           "sequential": [
            [
             0,
             "#0d0887"
            ],
            [
             0.1111111111111111,
             "#46039f"
            ],
            [
             0.2222222222222222,
             "#7201a8"
            ],
            [
             0.3333333333333333,
             "#9c179e"
            ],
            [
             0.4444444444444444,
             "#bd3786"
            ],
            [
             0.5555555555555556,
             "#d8576b"
            ],
            [
             0.6666666666666666,
             "#ed7953"
            ],
            [
             0.7777777777777778,
             "#fb9f3a"
            ],
            [
             0.8888888888888888,
             "#fdca26"
            ],
            [
             1,
             "#f0f921"
            ]
           ],
           "sequentialminus": [
            [
             0,
             "#0d0887"
            ],
            [
             0.1111111111111111,
             "#46039f"
            ],
            [
             0.2222222222222222,
             "#7201a8"
            ],
            [
             0.3333333333333333,
             "#9c179e"
            ],
            [
             0.4444444444444444,
             "#bd3786"
            ],
            [
             0.5555555555555556,
             "#d8576b"
            ],
            [
             0.6666666666666666,
             "#ed7953"
            ],
            [
             0.7777777777777778,
             "#fb9f3a"
            ],
            [
             0.8888888888888888,
             "#fdca26"
            ],
            [
             1,
             "#f0f921"
            ]
           ]
          },
          "colorway": [
           "#636efa",
           "#EF553B",
           "#00cc96",
           "#ab63fa",
           "#FFA15A",
           "#19d3f3",
           "#FF6692",
           "#B6E880",
           "#FF97FF",
           "#FECB52"
          ],
          "font": {
           "color": "#2a3f5f"
          },
          "geo": {
           "bgcolor": "white",
           "lakecolor": "white",
           "landcolor": "#E5ECF6",
           "showlakes": true,
           "showland": true,
           "subunitcolor": "white"
          },
          "hoverlabel": {
           "align": "left"
          },
          "hovermode": "closest",
          "mapbox": {
           "style": "light"
          },
          "paper_bgcolor": "white",
          "plot_bgcolor": "#E5ECF6",
          "polar": {
           "angularaxis": {
            "gridcolor": "white",
            "linecolor": "white",
            "ticks": ""
           },
           "bgcolor": "#E5ECF6",
           "radialaxis": {
            "gridcolor": "white",
            "linecolor": "white",
            "ticks": ""
           }
          },
          "scene": {
           "xaxis": {
            "backgroundcolor": "#E5ECF6",
            "gridcolor": "white",
            "gridwidth": 2,
            "linecolor": "white",
            "showbackground": true,
            "ticks": "",
            "zerolinecolor": "white"
           },
           "yaxis": {
            "backgroundcolor": "#E5ECF6",
            "gridcolor": "white",
            "gridwidth": 2,
            "linecolor": "white",
            "showbackground": true,
            "ticks": "",
            "zerolinecolor": "white"
           },
           "zaxis": {
            "backgroundcolor": "#E5ECF6",
            "gridcolor": "white",
            "gridwidth": 2,
            "linecolor": "white",
            "showbackground": true,
            "ticks": "",
            "zerolinecolor": "white"
           }
          },
          "shapedefaults": {
           "line": {
            "color": "#2a3f5f"
           }
          },
          "ternary": {
           "aaxis": {
            "gridcolor": "white",
            "linecolor": "white",
            "ticks": ""
           },
           "baxis": {
            "gridcolor": "white",
            "linecolor": "white",
            "ticks": ""
           },
           "bgcolor": "#E5ECF6",
           "caxis": {
            "gridcolor": "white",
            "linecolor": "white",
            "ticks": ""
           }
          },
          "title": {
           "x": 0.05
          },
          "xaxis": {
           "automargin": true,
           "gridcolor": "white",
           "linecolor": "white",
           "ticks": "",
           "title": {
            "standoff": 15
           },
           "zerolinecolor": "white",
           "zerolinewidth": 2
          },
          "yaxis": {
           "automargin": true,
           "gridcolor": "white",
           "linecolor": "white",
           "ticks": "",
           "title": {
            "standoff": 15
           },
           "zerolinecolor": "white",
           "zerolinewidth": 2
          }
         }
        },
        "width": 2000,
        "xaxis": {
         "anchor": "y",
         "domain": [
          0,
          0.45
         ]
        },
        "xaxis10": {
         "anchor": "y10",
         "domain": [
          0.55,
          1
         ]
        },
        "xaxis11": {
         "anchor": "y11",
         "domain": [
          0,
          0.45
         ]
        },
        "xaxis12": {
         "anchor": "y12",
         "domain": [
          0.55,
          1
         ]
        },
        "xaxis13": {
         "anchor": "y13",
         "domain": [
          0,
          0.45
         ]
        },
        "xaxis14": {
         "anchor": "y14",
         "domain": [
          0.55,
          1
         ]
        },
        "xaxis15": {
         "anchor": "y15",
         "domain": [
          0,
          0.45
         ]
        },
        "xaxis16": {
         "anchor": "y16",
         "domain": [
          0.55,
          1
         ]
        },
        "xaxis2": {
         "anchor": "y2",
         "domain": [
          0.55,
          1
         ]
        },
        "xaxis3": {
         "anchor": "y3",
         "domain": [
          0,
          0.45
         ]
        },
        "xaxis4": {
         "anchor": "y4",
         "domain": [
          0.55,
          1
         ]
        },
        "xaxis5": {
         "anchor": "y5",
         "domain": [
          0,
          0.45
         ]
        },
        "xaxis6": {
         "anchor": "y6",
         "domain": [
          0.55,
          1
         ]
        },
        "xaxis7": {
         "anchor": "y7",
         "domain": [
          0,
          0.45
         ]
        },
        "xaxis8": {
         "anchor": "y8",
         "domain": [
          0.55,
          1
         ]
        },
        "xaxis9": {
         "anchor": "y9",
         "domain": [
          0,
          0.45
         ]
        },
        "yaxis": {
         "anchor": "x",
         "domain": [
          0.9078124999999999,
          0.9999999999999999
         ]
        },
        "yaxis10": {
         "anchor": "x10",
         "domain": [
          0.38906250000000003,
          0.48125000000000007
         ]
        },
        "yaxis11": {
         "anchor": "x11",
         "domain": [
          0.259375,
          0.3515625
         ]
        },
        "yaxis12": {
         "anchor": "x12",
         "domain": [
          0.259375,
          0.3515625
         ]
        },
        "yaxis13": {
         "anchor": "x13",
         "domain": [
          0.1296875,
          0.22187500000000002
         ]
        },
        "yaxis14": {
         "anchor": "x14",
         "domain": [
          0.1296875,
          0.22187500000000002
         ]
        },
        "yaxis15": {
         "anchor": "x15",
         "domain": [
          0,
          0.0921875
         ]
        },
        "yaxis16": {
         "anchor": "x16",
         "domain": [
          0,
          0.0921875
         ]
        },
        "yaxis2": {
         "anchor": "x2",
         "domain": [
          0.9078124999999999,
          0.9999999999999999
         ]
        },
        "yaxis3": {
         "anchor": "x3",
         "domain": [
          0.778125,
          0.8703124999999999
         ]
        },
        "yaxis4": {
         "anchor": "x4",
         "domain": [
          0.778125,
          0.8703124999999999
         ]
        },
        "yaxis5": {
         "anchor": "x5",
         "domain": [
          0.6484375,
          0.740625
         ]
        },
        "yaxis6": {
         "anchor": "x6",
         "domain": [
          0.6484375,
          0.740625
         ]
        },
        "yaxis7": {
         "anchor": "x7",
         "domain": [
          0.51875,
          0.6109375
         ]
        },
        "yaxis8": {
         "anchor": "x8",
         "domain": [
          0.51875,
          0.6109375
         ]
        },
        "yaxis9": {
         "anchor": "x9",
         "domain": [
          0.38906250000000003,
          0.48125000000000007
         ]
        }
       }
      }
     },
     "metadata": {},
     "output_type": "display_data"
    },
    {
     "data": {
      "text/plain": [
       "(OrderedDict([('raw_data',\n",
       "               array([[0, 0, 0, 0, 0, 0, 0, 0],\n",
       "                      [0, 0, 0, 0, 0, 0, 0, 0],\n",
       "                      [0, 0, 0, 0, 0, 0, 0, 0],\n",
       "                      [0, 0, 0, 0, 0, 0, 0, 0],\n",
       "                      [0, 0, 0, 0, 0, 0, 0, 0],\n",
       "                      [0, 0, 0, 0, 0, 0, 0, 0],\n",
       "                      [0, 0, 0, 0, 0, 0, 0, 0],\n",
       "                      [0, 0, 0, 0, 0, 0, 0, 0],\n",
       "                      [0, 0, 0, 0, 0, 0, 0, 0],\n",
       "                      [0, 0, 0, 0, 0, 0, 0, 0],\n",
       "                      [0, 0, 0, 0, 0, 0, 0, 0],\n",
       "                      [0, 0, 0, 0, 0, 0, 0, 0],\n",
       "                      [0, 0, 0, 0, 0, 0, 0, 0],\n",
       "                      [0, 0, 0, 0, 0, 0, 0, 0],\n",
       "                      [0, 0, 0, 0, 0, 0, 0, 0],\n",
       "                      [0, 0, 0, 0, 0, 0, 0, 0],\n",
       "                      [0, 0, 0, 0, 0, 0, 0, 0],\n",
       "                      [0, 0, 0, 0, 0, 0, 0, 0],\n",
       "                      [0, 0, 0, 0, 0, 0, 0, 0],\n",
       "                      [0, 0, 0, 0, 0, 0, 0, 0],\n",
       "                      [0, 0, 0, 0, 0, 0, 0, 0],\n",
       "                      [0, 0, 0, 0, 0, 0, 0, 0],\n",
       "                      [0, 0, 0, 0, 0, 0, 0, 0],\n",
       "                      [0, 0, 0, 0, 0, 0, 0, 0],\n",
       "                      [0, 0, 0, 0, 0, 0, 0, 0],\n",
       "                      [0, 0, 0, 0, 0, 0, 0, 0],\n",
       "                      [0, 0, 0, 0, 0, 0, 0, 0],\n",
       "                      [0, 0, 0, 0, 0, 0, 0, 0],\n",
       "                      [0, 0, 0, 0, 0, 0, 0, 0],\n",
       "                      [0, 0, 0, 0, 0, 0, 0, 0],\n",
       "                      [0, 0, 0, 0, 0, 0, 0, 0],\n",
       "                      [0, 0, 0, 0, 0, 0, 0, 0],\n",
       "                      [0, 0, 0, 0, 0, 0, 0, 0],\n",
       "                      [0, 0, 0, 0, 0, 0, 0, 0],\n",
       "                      [0, 0, 0, 0, 0, 0, 0, 0],\n",
       "                      [0, 0, 0, 0, 0, 0, 0, 0],\n",
       "                      [0, 0, 0, 0, 0, 0, 0, 0],\n",
       "                      [0, 0, 0, 0, 0, 0, 0, 0],\n",
       "                      [0, 0, 0, 0, 0, 0, 0, 0],\n",
       "                      [0, 0, 0, 0, 0, 0, 0, 0],\n",
       "                      [0, 0, 0, 0, 0, 0, 0, 0],\n",
       "                      [0, 0, 0, 0, 0, 0, 0, 0],\n",
       "                      [0, 0, 0, 0, 0, 0, 0, 0],\n",
       "                      [0, 0, 0, 0, 0, 0, 0, 0],\n",
       "                      [0, 0, 0, 0, 0, 0, 0, 0],\n",
       "                      [0, 0, 0, 0, 0, 0, 0, 0],\n",
       "                      [0, 0, 0, 0, 0, 0, 0, 0],\n",
       "                      [0, 0, 0, 0, 0, 0, 0, 0],\n",
       "                      [0, 0, 0, 0, 0, 0, 0, 0],\n",
       "                      [0, 0, 0, 0, 0, 0, 0, 0],\n",
       "                      [0, 0, 0, 0, 0, 0, 0, 0],\n",
       "                      [0, 0, 0, 0, 0, 0, 0, 0],\n",
       "                      [0, 0, 0, 0, 0, 0, 0, 0],\n",
       "                      [0, 0, 0, 0, 0, 0, 0, 0],\n",
       "                      [0, 0, 0, 0, 0, 0, 0, 0],\n",
       "                      [0, 0, 0, 0, 0, 0, 0, 0],\n",
       "                      [0, 0, 0, 0, 0, 0, 0, 0],\n",
       "                      [0, 0, 0, 0, 0, 0, 0, 0],\n",
       "                      [0, 0, 0, 0, 0, 0, 0, 0],\n",
       "                      [0, 0, 0, 0, 0, 0, 0, 0],\n",
       "                      [0, 0, 0, 0, 0, 0, 0, 0],\n",
       "                      [0, 0, 0, 0, 0, 0, 0, 0],\n",
       "                      [0, 0, 0, 0, 0, 0, 0, 0],\n",
       "                      [0, 0, 0, 0, 0, 0, 0, 0],\n",
       "                      [0, 0, 0, 0, 0, 0, 0, 0],\n",
       "                      [0, 0, 0, 0, 0, 0, 0, 0],\n",
       "                      [0, 0, 0, 0, 0, 0, 0, 0],\n",
       "                      [0, 0, 0, 0, 0, 0, 0, 0],\n",
       "                      [0, 0, 0, 0, 0, 0, 0, 0],\n",
       "                      [0, 0, 0, 0, 0, 0, 0, 0],\n",
       "                      [0, 0, 0, 0, 0, 0, 0, 0],\n",
       "                      [0, 0, 0, 0, 0, 0, 0, 0],\n",
       "                      [0, 0, 0, 0, 0, 0, 0, 0],\n",
       "                      [0, 0, 0, 0, 0, 0, 0, 0],\n",
       "                      [0, 0, 0, 0, 0, 0, 0, 0],\n",
       "                      [0, 0, 0, 0, 0, 0, 0, 0],\n",
       "                      [0, 0, 0, 0, 0, 0, 0, 0],\n",
       "                      [0, 0, 0, 0, 0, 0, 0, 0],\n",
       "                      [0, 0, 0, 0, 0, 0, 0, 0],\n",
       "                      [0, 0, 0, 0, 0, 0, 0, 0],\n",
       "                      [0, 0, 0, 0, 0, 0, 0, 0],\n",
       "                      [0, 0, 0, 0, 0, 0, 0, 0],\n",
       "                      [0, 0, 0, 0, 0, 0, 0, 0],\n",
       "                      [0, 0, 0, 0, 0, 0, 0, 0],\n",
       "                      [0, 0, 0, 0, 0, 0, 0, 0],\n",
       "                      [0, 0, 0, 0, 0, 0, 0, 0],\n",
       "                      [0, 0, 0, 0, 0, 0, 0, 0],\n",
       "                      [0, 0, 0, 0, 0, 0, 0, 0],\n",
       "                      [0, 0, 0, 0, 0, 0, 0, 0],\n",
       "                      [0, 0, 0, 0, 0, 0, 0, 0],\n",
       "                      [0, 0, 0, 0, 0, 0, 0, 0],\n",
       "                      [0, 0, 0, 0, 0, 0, 0, 0],\n",
       "                      [0, 0, 0, 0, 0, 0, 0, 0],\n",
       "                      [0, 0, 0, 0, 0, 0, 0, 0],\n",
       "                      [0, 0, 0, 0, 0, 0, 0, 0],\n",
       "                      [0, 0, 0, 0, 0, 0, 0, 0],\n",
       "                      [0, 0, 0, 0, 0, 0, 0, 0],\n",
       "                      [0, 0, 0, 0, 0, 0, 0, 0],\n",
       "                      [0, 0, 0, 0, 0, 0, 0, 0],\n",
       "                      [0, 0, 0, 0, 0, 0, 0, 0]])),\n",
       "              ('fft',\n",
       "               array([[1064.5       ,   67.43560709,   73.53458185,   45.14121555,\n",
       "                         32.40910751,   38.48796889,   37.40218996,   62.36480462,\n",
       "                         72.63418617,   65.65005056,   70.95070179,   86.83197506,\n",
       "                         85.51167112,   48.93263509,   70.17853707,   25.51610707,\n",
       "                         54.31617912,   44.00349135,   29.13657985,   47.67548484,\n",
       "                         41.56900636,   71.94842388,   66.30316091,   33.80235559,\n",
       "                         79.93405078,   37.04998246,   15.79701873,   19.86887235,\n",
       "                         64.25473414,    9.40454024,   66.77534811,   67.64805151,\n",
       "                         74.70394469,  102.0244138 ,   74.07753329,   79.53258522,\n",
       "                         65.16299427,   29.28286362,   55.65732057,   21.55175054,\n",
       "                         54.12858496,   46.06239874,   53.6043234 ,   70.95542657,\n",
       "                         50.3761693 ,   42.26953062,   41.04562585,  100.71038277,\n",
       "                         39.47896397,   31.33195024,   14.86      ],\n",
       "                      [1066.14      ,   11.6470016 ,    8.25298982,   43.37891893,\n",
       "                         95.39542042,   23.27688457,   47.77399991,   29.57074223,\n",
       "                         20.88648286,   88.62304421,   63.4816039 ,   65.29961997,\n",
       "                          8.42446444,   26.67481509,   44.90044648,   68.38995285,\n",
       "                         21.62635821,   34.21409391,   76.03696075,   60.86219902,\n",
       "                         24.47671208,   44.44188916,   79.29209796,   83.91996021,\n",
       "                         73.26453544,   53.25211357,   19.32549003,  133.58971634,\n",
       "                         18.99045909,   42.26525877,   27.22114557,   59.65452287,\n",
       "                         37.52911928,   20.08258983,   48.47568568,   28.68603801,\n",
       "                        128.30071852,   75.71267306,   25.24746607,   86.18703102,\n",
       "                         24.64292527,   47.57837873,   39.78145572,   63.9392028 ,\n",
       "                         37.81151735,  100.44826836,   55.55841404,   58.68828597,\n",
       "                         68.02514187,   48.41194422,   15.78      ],\n",
       "                      [1026.8       ,    9.86068868,   28.95522482,   19.32879689,\n",
       "                         29.83659782,   28.07675528,   46.32011715,   88.49306198,\n",
       "                         80.75369554,   56.07557177,   31.18622174,   56.94369025,\n",
       "                         66.02094191,   52.02615095,   29.65472142,   99.26912278,\n",
       "                         29.11922852,   66.33620273,   26.4505757 ,   29.81651661,\n",
       "                         49.14259095,   82.20202385,   48.72965191,   45.94560442,\n",
       "                         61.47673697,   51.80703427,  104.95072274,   50.48187184,\n",
       "                         55.7504201 ,    4.24807734,   53.35790826,   73.05935316,\n",
       "                         99.2620815 ,   58.56443659,   58.72981986,   73.18838624,\n",
       "                         48.57883965,   53.80264673,   33.05233018,   31.84093476,\n",
       "                         39.96042736,   30.35632851,   62.90181389,   62.9357663 ,\n",
       "                         77.48823643,   42.21753658,   63.83250429,   60.92084577,\n",
       "                         45.6861472 ,   39.98879944,  100.68      ],\n",
       "                      [ 950.82      ,   49.27691812,   32.16293777,   32.75134583,\n",
       "                         49.16966991,   69.90935318,   70.19577024,   47.5455658 ,\n",
       "                         59.44726022,   26.7049935 ,   81.85500883,   57.76330527,\n",
       "                        127.33155412,   29.47052921,    2.01069117,   15.25423902,\n",
       "                         62.52517554,   72.31721998,   74.53044548,  139.01243419,\n",
       "                         36.10192928,    9.31510703,   19.16692529,  113.5502857 ,\n",
       "                         75.07007168,   67.58498354,    9.02687098,   20.59189851,\n",
       "                         83.29397397,   13.83735608,   82.42404703,   78.83603554,\n",
       "                         17.10266054,   29.60786958,   25.19461748,   80.87444683,\n",
       "                         48.0157906 ,   52.47895108,   22.54614245,   35.64233896,\n",
       "                         23.6473572 ,   84.28470755,   56.27839835,   43.55130742,\n",
       "                         38.53456659,   60.74331552,   81.83270896,   33.29403906,\n",
       "                        114.84134637,   43.60218763,   41.7       ],\n",
       "                      [1085.48      ,   11.25122953,   26.68321489,    7.50162279,\n",
       "                         82.88176936,   40.11900456,   28.77064625,   65.53007358,\n",
       "                        110.04116894,   26.36632563,  110.64566329,   47.9127792 ,\n",
       "                         47.09173474,    6.35299226,   23.80349899,   10.38578741,\n",
       "                         29.97778082,   42.43427679,   51.23830545,   67.76036868,\n",
       "                         51.06840212,   51.52350226,   53.93713581,   81.15709657,\n",
       "                         54.18776881,   29.57415088,   53.94932914,   54.59842094,\n",
       "                         54.5347611 ,   47.02579159,   93.28716094,   91.24505035,\n",
       "                          5.63188388,   92.1692038 ,   29.92807429,   21.09886531,\n",
       "                         12.51953435,   79.14268099,   43.71352754,   45.19163432,\n",
       "                         22.29980056,   69.25749646,  106.8322432 ,   46.97610396,\n",
       "                         64.37445014,   50.98168667,   65.29220785,   96.00599763,\n",
       "                         90.24331264,   87.13847248,   57.96      ],\n",
       "                      [1010.94      ,   31.83159005,   63.18522816,   38.77517448,\n",
       "                         47.79885885,   70.41254576,   35.29279019,   38.48900544,\n",
       "                         69.02061039,   77.62957827,   58.85802566,   48.00142107,\n",
       "                         55.48174249,   20.47753665,   30.93043955,   54.91757853,\n",
       "                         27.88866959,  115.33011504,   89.52798135,   68.00411916,\n",
       "                         75.685034  ,   82.4049943 ,   34.21929232,   28.31206605,\n",
       "                         61.97400073,   40.5775948 ,   28.16243279,   36.93287418,\n",
       "                         87.21507563,   90.01348732,   54.65980256,   36.05624493,\n",
       "                         17.58859638,   35.20306137,   39.04909695,   40.20718686,\n",
       "                         56.09983588,   60.75078063,   27.40957001,   39.89153445,\n",
       "                         31.09837342,   36.22264088,   51.20929358,   12.12872972,\n",
       "                         56.95557487,   89.51218851,    8.0743749 ,   34.64036638,\n",
       "                         13.29544247,  101.21545795,    5.06      ],\n",
       "                      [1028.72      ,   47.25475248,   75.3160687 ,   53.70009682,\n",
       "                         57.29097306,   81.4446351 ,   22.28999781,   56.8779636 ,\n",
       "                         16.25068749,   47.28363666,   37.84016547,   36.99032245,\n",
       "                         85.70809653,  140.83540863,   39.77182239,   23.26004844,\n",
       "                         43.43553801,   81.93744978,   45.06072468,   88.61788958,\n",
       "                         65.52580381,   65.11513732,   87.24735538,   31.00857864,\n",
       "                         25.97167051,   16.37407707,   26.41874041,   35.73564999,\n",
       "                        133.40502487,    5.42729087,   46.67070899,   64.9545301 ,\n",
       "                         70.72677149,   15.59120124,   36.28073296,   34.94663082,\n",
       "                         60.06792062,   51.95483562,   89.56951518,   57.00946024,\n",
       "                         52.01568836,   57.93357418,   80.89836412,  101.56320698,\n",
       "                         32.0541759 ,   93.88403567,   35.03083231,   40.22652429,\n",
       "                         28.77888071,   51.97056931,    2.96      ],\n",
       "                      [ 979.78      ,   24.5815903 ,   32.77992105,   33.79905616,\n",
       "                        105.94155994,   36.57239484,   44.98344239,   64.09295109,\n",
       "                         53.31946855,   25.57981895,   19.82149475,   86.07668606,\n",
       "                        119.01676766,   37.0852268 ,   61.6903804 ,   69.61646392,\n",
       "                         73.07776579,   88.53451201,   38.78548456,   31.51686449,\n",
       "                         64.27206843,   21.35399712,   26.39237957,   47.96681578,\n",
       "                         69.35776459,   63.16595602,   16.82526614,   59.08331487,\n",
       "                         32.88355529,    4.54261073,   77.14950127,   43.22406336,\n",
       "                         94.69407073,   29.81128466,   86.78443877,   18.13661536,\n",
       "                         28.5273403 ,   27.07706882,   46.61047959,   26.2578128 ,\n",
       "                         38.55479243,   93.05666505,   39.63400693,   39.51123274,\n",
       "                         44.48303181,   21.86090277,   44.18595292,   84.0607627 ,\n",
       "                         69.89503057,   29.78607405,   97.06      ]])),\n",
       "              ('fbins',\n",
       "               array([[0.45649725, 0.33308223, 0.4805426 , 0.48954707, 0.59437114],\n",
       "                      [0.947209  , 0.36329892, 0.5575757 , 0.35498443, 0.5846041 ],\n",
       "                      [0.8622154 , 0.6134732 , 0.5585826 , 0.73307484, 0.46213478],\n",
       "                      [0.9224871 , 0.59512097, 0.33293667, 0.5090612 , 0.4831907 ],\n",
       "                      [0.25692922, 0.22652318, 0.47397363, 0.5997754 , 0.46472734],\n",
       "                      [0.38721895, 0.31670427, 0.36731762, 0.56597286, 0.47360712],\n",
       "                      [0.47025764, 0.26843604, 0.55598605, 0.45470923, 0.4830911 ],\n",
       "                      [0.71087176, 0.44788668, 0.562593  , 0.41924483, 0.5128278 ]],\n",
       "                     dtype=float32))]),\n",
       " array(3.9587543, dtype=float32),\n",
       " False,\n",
       " {})"
      ]
     },
     "execution_count": 50,
     "metadata": {},
     "output_type": "execute_result"
    }
   ],
   "source": [
    "env.step(env.action_space.sample())"
   ]
  },
  {
   "cell_type": "code",
   "execution_count": 51,
   "metadata": {},
   "outputs": [],
   "source": [
    "env.close()"
   ]
  },
  {
   "cell_type": "code",
   "execution_count": 3,
   "metadata": {},
   "outputs": [
    {
     "name": "stdout",
     "output_type": "stream",
     "text": [
      "Token freq_30_ch0:\n",
      "Closest fft frequency 30.0\n",
      "Connected\n",
      "Delay and data transfer buffer size are set up.\n",
      "Default actions are set.\n"
     ]
    }
   ],
   "source": [
    "env = RLSystem.SFSystemCommunicator(step_stim_length_millis=1000, episode_time_seconds=2, render_each_step=True)"
   ]
  },
  {
   "cell_type": "code",
   "execution_count": 4,
   "metadata": {},
   "outputs": [
    {
     "name": "stderr",
     "output_type": "stream",
     "text": [
      "/home/biorp/.local/lib/python3.10/site-packages/stable_baselines3/common/vec_env/patch_gym.py:49: UserWarning:\n",
      "\n",
      "You provided an OpenAI Gym environment. We strongly recommend transitioning to Gymnasium environments. Stable-Baselines3 is automatically wrapping your environments in a compatibility layer, which could potentially cause issues.\n",
      "\n"
     ]
    }
   ],
   "source": [
    "trainer=RLSystem.stable_baselines_model_trainer(initialized_environment=env)"
   ]
  },
  {
   "cell_type": "code",
   "execution_count": 5,
   "metadata": {},
   "outputs": [
    {
     "data": {
      "application/vnd.plotly.v1+json": {
       "config": {
        "plotlyServerURL": "https://plot.ly"
       },
       "data": [
        {
         "mode": "lines+markers",
         "name": "Current episode rewards",
         "type": "scatter",
         "x": [
          0
         ],
         "xaxis": "x",
         "y": [
          0.7820420861244202
         ],
         "yaxis": "y"
        },
        {
         "mode": "lines+markers",
         "name": "Previous episode max rewards",
         "type": "scatter",
         "x": [
          0,
          1,
          2,
          3
         ],
         "xaxis": "x2",
         "y": [
          0,
          0,
          0,
          0
         ],
         "yaxis": "y2"
        },
        {
         "mode": "lines+markers",
         "name": "Previous episode total rewards",
         "type": "scatter",
         "x": [],
         "xaxis": "x3",
         "y": [],
         "yaxis": "y3"
        }
       ],
       "layout": {
        "height": 500,
        "template": {
         "data": {
          "bar": [
           {
            "error_x": {
             "color": "#2a3f5f"
            },
            "error_y": {
             "color": "#2a3f5f"
            },
            "marker": {
             "line": {
              "color": "#E5ECF6",
              "width": 0.5
             },
             "pattern": {
              "fillmode": "overlay",
              "size": 10,
              "solidity": 0.2
             }
            },
            "type": "bar"
           }
          ],
          "barpolar": [
           {
            "marker": {
             "line": {
              "color": "#E5ECF6",
              "width": 0.5
             },
             "pattern": {
              "fillmode": "overlay",
              "size": 10,
              "solidity": 0.2
             }
            },
            "type": "barpolar"
           }
          ],
          "carpet": [
           {
            "aaxis": {
             "endlinecolor": "#2a3f5f",
             "gridcolor": "white",
             "linecolor": "white",
             "minorgridcolor": "white",
             "startlinecolor": "#2a3f5f"
            },
            "baxis": {
             "endlinecolor": "#2a3f5f",
             "gridcolor": "white",
             "linecolor": "white",
             "minorgridcolor": "white",
             "startlinecolor": "#2a3f5f"
            },
            "type": "carpet"
           }
          ],
          "choropleth": [
           {
            "colorbar": {
             "outlinewidth": 0,
             "ticks": ""
            },
            "type": "choropleth"
           }
          ],
          "contour": [
           {
            "colorbar": {
             "outlinewidth": 0,
             "ticks": ""
            },
            "colorscale": [
             [
              0,
              "#0d0887"
             ],
             [
              0.1111111111111111,
              "#46039f"
             ],
             [
              0.2222222222222222,
              "#7201a8"
             ],
             [
              0.3333333333333333,
              "#9c179e"
             ],
             [
              0.4444444444444444,
              "#bd3786"
             ],
             [
              0.5555555555555556,
              "#d8576b"
             ],
             [
              0.6666666666666666,
              "#ed7953"
             ],
             [
              0.7777777777777778,
              "#fb9f3a"
             ],
             [
              0.8888888888888888,
              "#fdca26"
             ],
             [
              1,
              "#f0f921"
             ]
            ],
            "type": "contour"
           }
          ],
          "contourcarpet": [
           {
            "colorbar": {
             "outlinewidth": 0,
             "ticks": ""
            },
            "type": "contourcarpet"
           }
          ],
          "heatmap": [
           {
            "colorbar": {
             "outlinewidth": 0,
             "ticks": ""
            },
            "colorscale": [
             [
              0,
              "#0d0887"
             ],
             [
              0.1111111111111111,
              "#46039f"
             ],
             [
              0.2222222222222222,
              "#7201a8"
             ],
             [
              0.3333333333333333,
              "#9c179e"
             ],
             [
              0.4444444444444444,
              "#bd3786"
             ],
             [
              0.5555555555555556,
              "#d8576b"
             ],
             [
              0.6666666666666666,
              "#ed7953"
             ],
             [
              0.7777777777777778,
              "#fb9f3a"
             ],
             [
              0.8888888888888888,
              "#fdca26"
             ],
             [
              1,
              "#f0f921"
             ]
            ],
            "type": "heatmap"
           }
          ],
          "heatmapgl": [
           {
            "colorbar": {
             "outlinewidth": 0,
             "ticks": ""
            },
            "colorscale": [
             [
              0,
              "#0d0887"
             ],
             [
              0.1111111111111111,
              "#46039f"
             ],
             [
              0.2222222222222222,
              "#7201a8"
             ],
             [
              0.3333333333333333,
              "#9c179e"
             ],
             [
              0.4444444444444444,
              "#bd3786"
             ],
             [
              0.5555555555555556,
              "#d8576b"
             ],
             [
              0.6666666666666666,
              "#ed7953"
             ],
             [
              0.7777777777777778,
              "#fb9f3a"
             ],
             [
              0.8888888888888888,
              "#fdca26"
             ],
             [
              1,
              "#f0f921"
             ]
            ],
            "type": "heatmapgl"
           }
          ],
          "histogram": [
           {
            "marker": {
             "pattern": {
              "fillmode": "overlay",
              "size": 10,
              "solidity": 0.2
             }
            },
            "type": "histogram"
           }
          ],
          "histogram2d": [
           {
            "colorbar": {
             "outlinewidth": 0,
             "ticks": ""
            },
            "colorscale": [
             [
              0,
              "#0d0887"
             ],
             [
              0.1111111111111111,
              "#46039f"
             ],
             [
              0.2222222222222222,
              "#7201a8"
             ],
             [
              0.3333333333333333,
              "#9c179e"
             ],
             [
              0.4444444444444444,
              "#bd3786"
             ],
             [
              0.5555555555555556,
              "#d8576b"
             ],
             [
              0.6666666666666666,
              "#ed7953"
             ],
             [
              0.7777777777777778,
              "#fb9f3a"
             ],
             [
              0.8888888888888888,
              "#fdca26"
             ],
             [
              1,
              "#f0f921"
             ]
            ],
            "type": "histogram2d"
           }
          ],
          "histogram2dcontour": [
           {
            "colorbar": {
             "outlinewidth": 0,
             "ticks": ""
            },
            "colorscale": [
             [
              0,
              "#0d0887"
             ],
             [
              0.1111111111111111,
              "#46039f"
             ],
             [
              0.2222222222222222,
              "#7201a8"
             ],
             [
              0.3333333333333333,
              "#9c179e"
             ],
             [
              0.4444444444444444,
              "#bd3786"
             ],
             [
              0.5555555555555556,
              "#d8576b"
             ],
             [
              0.6666666666666666,
              "#ed7953"
             ],
             [
              0.7777777777777778,
              "#fb9f3a"
             ],
             [
              0.8888888888888888,
              "#fdca26"
             ],
             [
              1,
              "#f0f921"
             ]
            ],
            "type": "histogram2dcontour"
           }
          ],
          "mesh3d": [
           {
            "colorbar": {
             "outlinewidth": 0,
             "ticks": ""
            },
            "type": "mesh3d"
           }
          ],
          "parcoords": [
           {
            "line": {
             "colorbar": {
              "outlinewidth": 0,
              "ticks": ""
             }
            },
            "type": "parcoords"
           }
          ],
          "pie": [
           {
            "automargin": true,
            "type": "pie"
           }
          ],
          "scatter": [
           {
            "fillpattern": {
             "fillmode": "overlay",
             "size": 10,
             "solidity": 0.2
            },
            "type": "scatter"
           }
          ],
          "scatter3d": [
           {
            "line": {
             "colorbar": {
              "outlinewidth": 0,
              "ticks": ""
             }
            },
            "marker": {
             "colorbar": {
              "outlinewidth": 0,
              "ticks": ""
             }
            },
            "type": "scatter3d"
           }
          ],
          "scattercarpet": [
           {
            "marker": {
             "colorbar": {
              "outlinewidth": 0,
              "ticks": ""
             }
            },
            "type": "scattercarpet"
           }
          ],
          "scattergeo": [
           {
            "marker": {
             "colorbar": {
              "outlinewidth": 0,
              "ticks": ""
             }
            },
            "type": "scattergeo"
           }
          ],
          "scattergl": [
           {
            "marker": {
             "colorbar": {
              "outlinewidth": 0,
              "ticks": ""
             }
            },
            "type": "scattergl"
           }
          ],
          "scattermapbox": [
           {
            "marker": {
             "colorbar": {
              "outlinewidth": 0,
              "ticks": ""
             }
            },
            "type": "scattermapbox"
           }
          ],
          "scatterpolar": [
           {
            "marker": {
             "colorbar": {
              "outlinewidth": 0,
              "ticks": ""
             }
            },
            "type": "scatterpolar"
           }
          ],
          "scatterpolargl": [
           {
            "marker": {
             "colorbar": {
              "outlinewidth": 0,
              "ticks": ""
             }
            },
            "type": "scatterpolargl"
           }
          ],
          "scatterternary": [
           {
            "marker": {
             "colorbar": {
              "outlinewidth": 0,
              "ticks": ""
             }
            },
            "type": "scatterternary"
           }
          ],
          "surface": [
           {
            "colorbar": {
             "outlinewidth": 0,
             "ticks": ""
            },
            "colorscale": [
             [
              0,
              "#0d0887"
             ],
             [
              0.1111111111111111,
              "#46039f"
             ],
             [
              0.2222222222222222,
              "#7201a8"
             ],
             [
              0.3333333333333333,
              "#9c179e"
             ],
             [
              0.4444444444444444,
              "#bd3786"
             ],
             [
              0.5555555555555556,
              "#d8576b"
             ],
             [
              0.6666666666666666,
              "#ed7953"
             ],
             [
              0.7777777777777778,
              "#fb9f3a"
             ],
             [
              0.8888888888888888,
              "#fdca26"
             ],
             [
              1,
              "#f0f921"
             ]
            ],
            "type": "surface"
           }
          ],
          "table": [
           {
            "cells": {
             "fill": {
              "color": "#EBF0F8"
             },
             "line": {
              "color": "white"
             }
            },
            "header": {
             "fill": {
              "color": "#C8D4E3"
             },
             "line": {
              "color": "white"
             }
            },
            "type": "table"
           }
          ]
         },
         "layout": {
          "annotationdefaults": {
           "arrowcolor": "#2a3f5f",
           "arrowhead": 0,
           "arrowwidth": 1
          },
          "autotypenumbers": "strict",
          "coloraxis": {
           "colorbar": {
            "outlinewidth": 0,
            "ticks": ""
           }
          },
          "colorscale": {
           "diverging": [
            [
             0,
             "#8e0152"
            ],
            [
             0.1,
             "#c51b7d"
            ],
            [
             0.2,
             "#de77ae"
            ],
            [
             0.3,
             "#f1b6da"
            ],
            [
             0.4,
             "#fde0ef"
            ],
            [
             0.5,
             "#f7f7f7"
            ],
            [
             0.6,
             "#e6f5d0"
            ],
            [
             0.7,
             "#b8e186"
            ],
            [
             0.8,
             "#7fbc41"
            ],
            [
             0.9,
             "#4d9221"
            ],
            [
             1,
             "#276419"
            ]
           ],
           "sequential": [
            [
             0,
             "#0d0887"
            ],
            [
             0.1111111111111111,
             "#46039f"
            ],
            [
             0.2222222222222222,
             "#7201a8"
            ],
            [
             0.3333333333333333,
             "#9c179e"
            ],
            [
             0.4444444444444444,
             "#bd3786"
            ],
            [
             0.5555555555555556,
             "#d8576b"
            ],
            [
             0.6666666666666666,
             "#ed7953"
            ],
            [
             0.7777777777777778,
             "#fb9f3a"
            ],
            [
             0.8888888888888888,
             "#fdca26"
            ],
            [
             1,
             "#f0f921"
            ]
           ],
           "sequentialminus": [
            [
             0,
             "#0d0887"
            ],
            [
             0.1111111111111111,
             "#46039f"
            ],
            [
             0.2222222222222222,
             "#7201a8"
            ],
            [
             0.3333333333333333,
             "#9c179e"
            ],
            [
             0.4444444444444444,
             "#bd3786"
            ],
            [
             0.5555555555555556,
             "#d8576b"
            ],
            [
             0.6666666666666666,
             "#ed7953"
            ],
            [
             0.7777777777777778,
             "#fb9f3a"
            ],
            [
             0.8888888888888888,
             "#fdca26"
            ],
            [
             1,
             "#f0f921"
            ]
           ]
          },
          "colorway": [
           "#636efa",
           "#EF553B",
           "#00cc96",
           "#ab63fa",
           "#FFA15A",
           "#19d3f3",
           "#FF6692",
           "#B6E880",
           "#FF97FF",
           "#FECB52"
          ],
          "font": {
           "color": "#2a3f5f"
          },
          "geo": {
           "bgcolor": "white",
           "lakecolor": "white",
           "landcolor": "#E5ECF6",
           "showlakes": true,
           "showland": true,
           "subunitcolor": "white"
          },
          "hoverlabel": {
           "align": "left"
          },
          "hovermode": "closest",
          "mapbox": {
           "style": "light"
          },
          "paper_bgcolor": "white",
          "plot_bgcolor": "#E5ECF6",
          "polar": {
           "angularaxis": {
            "gridcolor": "white",
            "linecolor": "white",
            "ticks": ""
           },
           "bgcolor": "#E5ECF6",
           "radialaxis": {
            "gridcolor": "white",
            "linecolor": "white",
            "ticks": ""
           }
          },
          "scene": {
           "xaxis": {
            "backgroundcolor": "#E5ECF6",
            "gridcolor": "white",
            "gridwidth": 2,
            "linecolor": "white",
            "showbackground": true,
            "ticks": "",
            "zerolinecolor": "white"
           },
           "yaxis": {
            "backgroundcolor": "#E5ECF6",
            "gridcolor": "white",
            "gridwidth": 2,
            "linecolor": "white",
            "showbackground": true,
            "ticks": "",
            "zerolinecolor": "white"
           },
           "zaxis": {
            "backgroundcolor": "#E5ECF6",
            "gridcolor": "white",
            "gridwidth": 2,
            "linecolor": "white",
            "showbackground": true,
            "ticks": "",
            "zerolinecolor": "white"
           }
          },
          "shapedefaults": {
           "line": {
            "color": "#2a3f5f"
           }
          },
          "ternary": {
           "aaxis": {
            "gridcolor": "white",
            "linecolor": "white",
            "ticks": ""
           },
           "baxis": {
            "gridcolor": "white",
            "linecolor": "white",
            "ticks": ""
           },
           "bgcolor": "#E5ECF6",
           "caxis": {
            "gridcolor": "white",
            "linecolor": "white",
            "ticks": ""
           }
          },
          "title": {
           "x": 0.05
          },
          "xaxis": {
           "automargin": true,
           "gridcolor": "white",
           "linecolor": "white",
           "ticks": "",
           "title": {
            "standoff": 15
           },
           "zerolinecolor": "white",
           "zerolinewidth": 2
          },
          "yaxis": {
           "automargin": true,
           "gridcolor": "white",
           "linecolor": "white",
           "ticks": "",
           "title": {
            "standoff": 15
           },
           "zerolinecolor": "white",
           "zerolinewidth": 2
          }
         }
        },
        "width": 2000,
        "xaxis": {
         "anchor": "y",
         "domain": [
          0,
          0.45
         ]
        },
        "xaxis2": {
         "anchor": "y2",
         "domain": [
          0.55,
          1
         ]
        },
        "xaxis3": {
         "anchor": "y3",
         "domain": [
          0,
          0.45
         ]
        },
        "xaxis4": {
         "anchor": "y4",
         "domain": [
          0.55,
          1
         ]
        },
        "yaxis": {
         "anchor": "x",
         "domain": [
          0.575,
          1
         ]
        },
        "yaxis2": {
         "anchor": "x2",
         "domain": [
          0.575,
          1
         ]
        },
        "yaxis3": {
         "anchor": "x3",
         "domain": [
          0,
          0.425
         ]
        },
        "yaxis4": {
         "anchor": "x4",
         "domain": [
          0,
          0.425
         ]
        }
       }
      }
     },
     "metadata": {},
     "output_type": "display_data"
    },
    {
     "data": {
      "application/vnd.plotly.v1+json": {
       "config": {
        "plotlyServerURL": "https://plot.ly"
       },
       "data": [
        {
         "mode": "lines+markers",
         "name": "Channel 0 spectrum",
         "type": "scatter",
         "x": [
          0,
          1,
          2,
          3,
          4,
          5,
          6,
          7,
          8,
          9,
          10,
          11,
          12,
          13,
          14,
          15,
          16,
          17,
          18,
          19,
          20,
          21,
          22,
          23,
          24,
          25,
          26,
          27,
          28,
          29,
          30,
          31,
          32,
          33,
          34,
          35,
          36,
          37,
          38,
          39,
          40,
          41,
          42,
          43,
          44,
          45,
          46,
          47,
          48,
          49,
          50
         ],
         "xaxis": "x",
         "y": [
          1004.4,
          31.029851391969718,
          61.2766045055278,
          69.53544084660697,
          36.01310516776288,
          50.38527864338389,
          64.28811860824415,
          102.03224531371768,
          78.64028932843954,
          32.62568918156828,
          79.33881389482131,
          83.42609702378704,
          38.09379795940339,
          72.20465850761819,
          35.3941546431693,
          105.41542503271083,
          43.69558038202556,
          49.15132642465206,
          15.000426869545429,
          35.4789754391909,
          36.29181160434189,
          61.45229015416131,
          53.13449340560263,
          24.326494600946145,
          131.11933197971786,
          37.96368791358395,
          43.86487162447637,
          43.70690321547235,
          87.16528539283054,
          28.293552066394554,
          39.892528244809334,
          71.66963622828224,
          39.72162643256246,
          80.95392181868006,
          21.193017929596625,
          45.96609857353958,
          2.7964199235692258,
          28.76307904385877,
          33.00821858479936,
          40.47080403502237,
          68.73516138393038,
          30.245144211333486,
          39.987125602254764,
          61.37575807662474,
          17.058351780225756,
          86.85090697931213,
          44.12346867341551,
          72.82403759270899,
          87.4152208136838,
          45.02775340624432,
          12.560000000000004
         ],
         "yaxis": "y"
        },
        {
         "mode": "lines+markers",
         "name": "Channel 1 spectrum",
         "type": "scatter",
         "x": [
          0,
          1,
          2,
          3,
          4,
          5,
          6,
          7,
          8,
          9,
          10,
          11,
          12,
          13,
          14,
          15,
          16,
          17,
          18,
          19,
          20,
          21,
          22,
          23,
          24,
          25,
          26,
          27,
          28,
          29,
          30,
          31,
          32,
          33,
          34,
          35,
          36,
          37,
          38,
          39,
          40,
          41,
          42,
          43,
          44,
          45,
          46,
          47,
          48,
          49,
          50
         ],
         "xaxis": "x3",
         "y": [
          1125.7,
          75.91538368258091,
          55.39959176710789,
          50.071385191737775,
          57.8320198326853,
          67.55660981195481,
          8.59772364029334,
          104.67934110369832,
          30.2263157670409,
          45.91359161425582,
          92.10539102567938,
          66.17811013427259,
          51.2180128752445,
          71.00583502726339,
          64.07197558163698,
          30.405921604293884,
          20.740007983203004,
          121.7811853643875,
          11.78343259310333,
          72.11591890898075,
          12.725492892331006,
          66.13499593406102,
          67.032330939959,
          50.95411004368595,
          20.425009808009825,
          8.420095011340425,
          42.860257087316,
          51.38883583515229,
          79.45851169624281,
          37.54959173242282,
          97.83857595042309,
          95.3051903427951,
          44.99910209022242,
          94.80686794392548,
          28.705250838593297,
          75.68566085069114,
          88.92431498190176,
          39.29230037926916,
          36.98149467621336,
          68.36625299856512,
          54.57651354426401,
          28.141487958652927,
          51.00783851967903,
          64.47834498634982,
          9.229748605319498,
          50.76728418679678,
          88.55066373638778,
          65.78279937954187,
          6.2058998789544395,
          33.75505249269159,
          16.90000000000001
         ],
         "yaxis": "y3"
        },
        {
         "mode": "lines+markers",
         "name": "Channel 2 spectrum",
         "type": "scatter",
         "x": [
          0,
          1,
          2,
          3,
          4,
          5,
          6,
          7,
          8,
          9,
          10,
          11,
          12,
          13,
          14,
          15,
          16,
          17,
          18,
          19,
          20,
          21,
          22,
          23,
          24,
          25,
          26,
          27,
          28,
          29,
          30,
          31,
          32,
          33,
          34,
          35,
          36,
          37,
          38,
          39,
          40,
          41,
          42,
          43,
          44,
          45,
          46,
          47,
          48,
          49,
          50
         ],
         "xaxis": "x5",
         "y": [
          1046.86,
          31.82599716266758,
          110.68845207523346,
          48.90145081696656,
          68.3116724719001,
          5.988564523441373,
          17.572254913975723,
          95.25779438051899,
          44.075873446435914,
          51.14999917418865,
          53.94017899081493,
          16.609503643716128,
          39.35995499607174,
          54.98193663739867,
          74.47680935260965,
          47.18142249792023,
          24.59486869685075,
          51.165578413813165,
          77.06644832068213,
          77.85125849267887,
          67.10346805137986,
          56.66722769554164,
          21.447433694107275,
          64.01622524172313,
          35.088645873329234,
          42.752539105882335,
          48.67145375192356,
          77.92937802100734,
          34.787879405769665,
          62.600661126820405,
          128.37249351180668,
          57.75905948208176,
          28.695204561084605,
          44.35517852091798,
          51.41260327184673,
          39.31933175484016,
          38.72493819016077,
          15.316782620477762,
          29.412568168357666,
          102.13354296873909,
          58.7430998116157,
          46.91267500018035,
          47.947699731572904,
          32.43384476349222,
          52.853590349432295,
          39.27960051189605,
          45.58146742847622,
          99.0528157439965,
          46.00499888363594,
          24.96223032871035,
          35.500000000000014
         ],
         "yaxis": "y5"
        },
        {
         "mode": "lines+markers",
         "name": "Channel 3 spectrum",
         "type": "scatter",
         "x": [
          0,
          1,
          2,
          3,
          4,
          5,
          6,
          7,
          8,
          9,
          10,
          11,
          12,
          13,
          14,
          15,
          16,
          17,
          18,
          19,
          20,
          21,
          22,
          23,
          24,
          25,
          26,
          27,
          28,
          29,
          30,
          31,
          32,
          33,
          34,
          35,
          36,
          37,
          38,
          39,
          40,
          41,
          42,
          43,
          44,
          45,
          46,
          47,
          48,
          49,
          50
         ],
         "xaxis": "x7",
         "y": [
          1080.52,
          69.13321099659706,
          62.3711075900573,
          68.091802274414,
          14.004131949771141,
          50.82653412713034,
          108.63036340311362,
          59.438236939913594,
          76.40738208028544,
          50.62006975329886,
          45.0426320167991,
          25.127633657367678,
          99.1350636604882,
          43.22522960953407,
          22.11625673037366,
          59.088747442751966,
          22.83004725811518,
          50.6833965808028,
          57.72266457484363,
          16.29261478686046,
          18.50437543729884,
          67.16249687760853,
          27.147890839737926,
          61.06734335174341,
          104.17635040517922,
          95.17986761915569,
          23.809401888664635,
          100.5142565104039,
          21.63456201029861,
          58.065529785170185,
          53.65824541484026,
          25.62450023147689,
          84.70977224326627,
          23.099315883673956,
          30.23090982365378,
          54.18071953428818,
          53.6548101806719,
          66.63920464122361,
          107.3734141422208,
          25.821045603480215,
          109.59099821461383,
          40.47126196835379,
          58.908642079260396,
          26.26611734081887,
          38.069239469899706,
          20.006143681807647,
          71.87326754243072,
          58.697507080264415,
          29.762945540170726,
          67.74688237739683,
          52
         ],
         "yaxis": "y7"
        },
        {
         "mode": "lines+markers",
         "name": "Channel 4 spectrum",
         "type": "scatter",
         "x": [
          0,
          1,
          2,
          3,
          4,
          5,
          6,
          7,
          8,
          9,
          10,
          11,
          12,
          13,
          14,
          15,
          16,
          17,
          18,
          19,
          20,
          21,
          22,
          23,
          24,
          25,
          26,
          27,
          28,
          29,
          30,
          31,
          32,
          33,
          34,
          35,
          36,
          37,
          38,
          39,
          40,
          41,
          42,
          43,
          44,
          45,
          46,
          47,
          48,
          49,
          50
         ],
         "xaxis": "x9",
         "y": [
          1009.36,
          26.168079572590827,
          46.4299405468819,
          35.39013310354048,
          8.556683336962186,
          28.125758375652584,
          12.940034354468157,
          21.518330916880696,
          27.512431231613814,
          17.625617548292514,
          33.21189624340032,
          33.52420759290721,
          21.86762745330158,
          99.90953837047425,
          20.14157040193995,
          37.91263245037002,
          63.27866984950024,
          48.97089405425124,
          26.343940984125794,
          96.86385713559015,
          45.11274085400897,
          46.74969330910587,
          9.746239855424749,
          42.16022247709536,
          28.888370717263694,
          36.112047851098126,
          42.22957354058014,
          73.64249050317687,
          74.86214958442187,
          33.34796719584192,
          19.933668701912648,
          105.6634591161295,
          77.29718841872007,
          97.8326397022792,
          54.88820764736872,
          13.51567176239894,
          71.99430933690631,
          111.3233529673506,
          121.87431327912338,
          26.68550630052273,
          54.32967708940512,
          24.276177368215954,
          44.265823900169735,
          57.45274080753611,
          59.781404027072085,
          34.73011133423921,
          102.18537680406448,
          44.65354413966293,
          46.48372322388257,
          41.67106458593824,
          76.64
         ],
         "yaxis": "y9"
        },
        {
         "mode": "lines+markers",
         "name": "Channel 5 spectrum",
         "type": "scatter",
         "x": [
          0,
          1,
          2,
          3,
          4,
          5,
          6,
          7,
          8,
          9,
          10,
          11,
          12,
          13,
          14,
          15,
          16,
          17,
          18,
          19,
          20,
          21,
          22,
          23,
          24,
          25,
          26,
          27,
          28,
          29,
          30,
          31,
          32,
          33,
          34,
          35,
          36,
          37,
          38,
          39,
          40,
          41,
          42,
          43,
          44,
          45,
          46,
          47,
          48,
          49,
          50
         ],
         "xaxis": "x11",
         "y": [
          1029.38,
          85.96532943612118,
          37.77320695865431,
          39.68607024991066,
          27.55780179011025,
          26.093820676831207,
          61.20280207879737,
          14.316081736261808,
          27.264312569966293,
          118.02833232384302,
          25.95873996548952,
          77.20914837814775,
          13.50557130042827,
          28.47811246704288,
          64.1082611010112,
          40.397605764674935,
          67.28831781183914,
          26.197887087630235,
          51.95844685630491,
          33.84618198370739,
          16.8390348135793,
          44.89549993325184,
          61.9447570231233,
          78.56797378154643,
          58.326144851801615,
          59.089156365614166,
          38.902095056228234,
          52.91857940703053,
          9.109106859905316,
          40.05622643456822,
          39.63933676796443,
          112.34924368875546,
          55.28020454209961,
          19.73092842415084,
          59.75048626118593,
          34.3001173588618,
          96.26168819175349,
          97.5522151582558,
          54.897963352741264,
          62.0517265092395,
          66.10538334014153,
          42.08284962634743,
          66.3311000457698,
          68.06356217830132,
          26.601863771398147,
          42.33893621875243,
          62.29755025858338,
          19.721795615957657,
          40.49280016957171,
          89.37879221907939,
          80.06
         ],
         "yaxis": "y11"
        },
        {
         "mode": "lines+markers",
         "name": "Channel 6 spectrum",
         "type": "scatter",
         "x": [
          0,
          1,
          2,
          3,
          4,
          5,
          6,
          7,
          8,
          9,
          10,
          11,
          12,
          13,
          14,
          15,
          16,
          17,
          18,
          19,
          20,
          21,
          22,
          23,
          24,
          25,
          26,
          27,
          28,
          29,
          30,
          31,
          32,
          33,
          34,
          35,
          36,
          37,
          38,
          39,
          40,
          41,
          42,
          43,
          44,
          45,
          46,
          47,
          48,
          49,
          50
         ],
         "xaxis": "x13",
         "y": [
          1007.72,
          48.521760778300774,
          39.65388757244016,
          37.20943000929114,
          15.993991091310257,
          48.160109162282566,
          52.19670526089844,
          38.77262938431994,
          65.75028340363494,
          96.49279004472062,
          80.39732756411996,
          76.90611201969818,
          10.684164385493247,
          74.55760300581751,
          46.31384196666656,
          60.316939753197595,
          45.124224882302435,
          65.08148502692316,
          34.38011467269776,
          126.45842390049856,
          55.805179120114005,
          62.13533213547892,
          48.566970999159594,
          29.342726782510617,
          25.416631533752966,
          92.88615397356055,
          99.56168568222853,
          48.361791565327685,
          85.51656393190704,
          27.040727964433557,
          55.17128710251009,
          63.64417137966113,
          64.82318795446992,
          63.017083507577546,
          48.85187289518938,
          39.480147009863124,
          6.565160214162301,
          40.353971006154886,
          108.78284225868914,
          24.437187271412203,
          68.16231204538171,
          2.8521347908071344,
          65.34023859151405,
          58.37159856586816,
          145.7686038749527,
          12.207336169932914,
          11.933731826856201,
          39.74943470837998,
          20.73394982521182,
          67.45567172657493,
          2.6399999999999952
         ],
         "yaxis": "y13"
        },
        {
         "mode": "lines+markers",
         "name": "Channel 7 spectrum",
         "type": "scatter",
         "x": [
          0,
          1,
          2,
          3,
          4,
          5,
          6,
          7,
          8,
          9,
          10,
          11,
          12,
          13,
          14,
          15,
          16,
          17,
          18,
          19,
          20,
          21,
          22,
          23,
          24,
          25,
          26,
          27,
          28,
          29,
          30,
          31,
          32,
          33,
          34,
          35,
          36,
          37,
          38,
          39,
          40,
          41,
          42,
          43,
          44,
          45,
          46,
          47,
          48,
          49,
          50
         ],
         "xaxis": "x15",
         "y": [
          1102.98,
          43.94776656780608,
          76.6690519534338,
          89.07413343505773,
          13.019791076126651,
          34.328452733650224,
          19.273330715011515,
          74.81083912265177,
          69.9296852173659,
          100.30772405946385,
          82.90491401659847,
          55.64757268671165,
          13.432908955390603,
          34.49270915617609,
          68.94408999809436,
          21.515027307007877,
          77.7090252760291,
          62.93170252651007,
          53.53163466789575,
          19.233517583908146,
          24.229023089062203,
          72.59567025174084,
          47.131727117645006,
          65.39499659601195,
          54.10107048413547,
          41.00213165190316,
          88.3777121184759,
          53.04225402430094,
          79.85668056175854,
          131.21862457218734,
          71.56029927201546,
          40.12765997126337,
          68.55455264502172,
          31.448927843475893,
          13.593173566969703,
          82.65735380621217,
          68.32654994382104,
          8.724584538020082,
          42.82402833153333,
          39.65938091659827,
          115.229150999865,
          61.7009633810296,
          39.61532002988006,
          22.029091737371935,
          62.453060053079355,
          13.014222783051911,
          45.29415732971708,
          23.531968322446183,
          23.219526910115924,
          12.469775732567468,
          8.140000000000004
         ],
         "yaxis": "y15"
        },
        {
         "name": "Channel 0 frequency bins",
         "type": "bar",
         "x": [
          "0-1 Hz",
          "1-4 Hz",
          "4-8 Hz",
          "8-12 Hz",
          "12-30 Hz"
         ],
         "xaxis": "x2",
         "y": [
          0.6606452,
          0.5042284,
          0.7656683,
          0.41321912,
          0.49359572
         ],
         "yaxis": "y2"
        },
        {
         "name": "Channel 1 frequency bins",
         "type": "bar",
         "x": [
          "0-1 Hz",
          "1-4 Hz",
          "4-8 Hz",
          "8-12 Hz",
          "12-30 Hz"
         ],
         "xaxis": "x4",
         "y": [
          0.93762714,
          0.4173895,
          0.59151316,
          0.5140189,
          0.60678875
         ],
         "yaxis": "y4"
        },
        {
         "name": "Channel 2 frequency bins",
         "type": "bar",
         "x": [
          "0-1 Hz",
          "1-4 Hz",
          "4-8 Hz",
          "8-12 Hz",
          "12-30 Hz"
         ],
         "xaxis": "x6",
         "y": [
          0.00031904585,
          0.4608163,
          0.5252535,
          0.50757444,
          0.5470389
         ],
         "yaxis": "y6"
        },
        {
         "name": "Channel 3 frequency bins",
         "type": "bar",
         "x": [
          "0-1 Hz",
          "1-4 Hz",
          "4-8 Hz",
          "8-12 Hz",
          "12-30 Hz"
         ],
         "xaxis": "x8",
         "y": [
          0.42857438,
          0.3683528,
          0.4509146,
          0.55971867,
          0.449247
         ],
         "yaxis": "y8"
        },
        {
         "name": "Channel 4 frequency bins",
         "type": "bar",
         "x": [
          "0-1 Hz",
          "1-4 Hz",
          "4-8 Hz",
          "8-12 Hz",
          "12-30 Hz"
         ],
         "xaxis": "x10",
         "y": [
          0.17381296,
          0.47730717,
          0.54305375,
          0.48630336,
          0.6730684
         ],
         "yaxis": "y10"
        },
        {
         "name": "Channel 5 frequency bins",
         "type": "bar",
         "x": [
          "0-1 Hz",
          "1-4 Hz",
          "4-8 Hz",
          "8-12 Hz",
          "12-30 Hz"
         ],
         "xaxis": "x12",
         "y": [
          0.34322175,
          0.6125112,
          0.5620693,
          0.3690361,
          0.56227714
         ],
         "yaxis": "y12"
        },
        {
         "name": "Channel 6 frequency bins",
         "type": "bar",
         "x": [
          "0-1 Hz",
          "1-4 Hz",
          "4-8 Hz",
          "8-12 Hz",
          "12-30 Hz"
         ],
         "xaxis": "x14",
         "y": [
          0.20130843,
          0.2991847,
          0.46090814,
          0.4154356,
          0.5094739
         ],
         "yaxis": "y14"
        },
        {
         "name": "Channel 7 frequency bins",
         "type": "bar",
         "x": [
          "0-1 Hz",
          "1-4 Hz",
          "4-8 Hz",
          "8-12 Hz",
          "12-30 Hz"
         ],
         "xaxis": "x16",
         "y": [
          0.82547414,
          0.43867412,
          0.29411545,
          0.7211906,
          0.5469067
         ],
         "yaxis": "y16"
        }
       ],
       "layout": {
        "height": 1500,
        "template": {
         "data": {
          "bar": [
           {
            "error_x": {
             "color": "#2a3f5f"
            },
            "error_y": {
             "color": "#2a3f5f"
            },
            "marker": {
             "line": {
              "color": "#E5ECF6",
              "width": 0.5
             },
             "pattern": {
              "fillmode": "overlay",
              "size": 10,
              "solidity": 0.2
             }
            },
            "type": "bar"
           }
          ],
          "barpolar": [
           {
            "marker": {
             "line": {
              "color": "#E5ECF6",
              "width": 0.5
             },
             "pattern": {
              "fillmode": "overlay",
              "size": 10,
              "solidity": 0.2
             }
            },
            "type": "barpolar"
           }
          ],
          "carpet": [
           {
            "aaxis": {
             "endlinecolor": "#2a3f5f",
             "gridcolor": "white",
             "linecolor": "white",
             "minorgridcolor": "white",
             "startlinecolor": "#2a3f5f"
            },
            "baxis": {
             "endlinecolor": "#2a3f5f",
             "gridcolor": "white",
             "linecolor": "white",
             "minorgridcolor": "white",
             "startlinecolor": "#2a3f5f"
            },
            "type": "carpet"
           }
          ],
          "choropleth": [
           {
            "colorbar": {
             "outlinewidth": 0,
             "ticks": ""
            },
            "type": "choropleth"
           }
          ],
          "contour": [
           {
            "colorbar": {
             "outlinewidth": 0,
             "ticks": ""
            },
            "colorscale": [
             [
              0,
              "#0d0887"
             ],
             [
              0.1111111111111111,
              "#46039f"
             ],
             [
              0.2222222222222222,
              "#7201a8"
             ],
             [
              0.3333333333333333,
              "#9c179e"
             ],
             [
              0.4444444444444444,
              "#bd3786"
             ],
             [
              0.5555555555555556,
              "#d8576b"
             ],
             [
              0.6666666666666666,
              "#ed7953"
             ],
             [
              0.7777777777777778,
              "#fb9f3a"
             ],
             [
              0.8888888888888888,
              "#fdca26"
             ],
             [
              1,
              "#f0f921"
             ]
            ],
            "type": "contour"
           }
          ],
          "contourcarpet": [
           {
            "colorbar": {
             "outlinewidth": 0,
             "ticks": ""
            },
            "type": "contourcarpet"
           }
          ],
          "heatmap": [
           {
            "colorbar": {
             "outlinewidth": 0,
             "ticks": ""
            },
            "colorscale": [
             [
              0,
              "#0d0887"
             ],
             [
              0.1111111111111111,
              "#46039f"
             ],
             [
              0.2222222222222222,
              "#7201a8"
             ],
             [
              0.3333333333333333,
              "#9c179e"
             ],
             [
              0.4444444444444444,
              "#bd3786"
             ],
             [
              0.5555555555555556,
              "#d8576b"
             ],
             [
              0.6666666666666666,
              "#ed7953"
             ],
             [
              0.7777777777777778,
              "#fb9f3a"
             ],
             [
              0.8888888888888888,
              "#fdca26"
             ],
             [
              1,
              "#f0f921"
             ]
            ],
            "type": "heatmap"
           }
          ],
          "heatmapgl": [
           {
            "colorbar": {
             "outlinewidth": 0,
             "ticks": ""
            },
            "colorscale": [
             [
              0,
              "#0d0887"
             ],
             [
              0.1111111111111111,
              "#46039f"
             ],
             [
              0.2222222222222222,
              "#7201a8"
             ],
             [
              0.3333333333333333,
              "#9c179e"
             ],
             [
              0.4444444444444444,
              "#bd3786"
             ],
             [
              0.5555555555555556,
              "#d8576b"
             ],
             [
              0.6666666666666666,
              "#ed7953"
             ],
             [
              0.7777777777777778,
              "#fb9f3a"
             ],
             [
              0.8888888888888888,
              "#fdca26"
             ],
             [
              1,
              "#f0f921"
             ]
            ],
            "type": "heatmapgl"
           }
          ],
          "histogram": [
           {
            "marker": {
             "pattern": {
              "fillmode": "overlay",
              "size": 10,
              "solidity": 0.2
             }
            },
            "type": "histogram"
           }
          ],
          "histogram2d": [
           {
            "colorbar": {
             "outlinewidth": 0,
             "ticks": ""
            },
            "colorscale": [
             [
              0,
              "#0d0887"
             ],
             [
              0.1111111111111111,
              "#46039f"
             ],
             [
              0.2222222222222222,
              "#7201a8"
             ],
             [
              0.3333333333333333,
              "#9c179e"
             ],
             [
              0.4444444444444444,
              "#bd3786"
             ],
             [
              0.5555555555555556,
              "#d8576b"
             ],
             [
              0.6666666666666666,
              "#ed7953"
             ],
             [
              0.7777777777777778,
              "#fb9f3a"
             ],
             [
              0.8888888888888888,
              "#fdca26"
             ],
             [
              1,
              "#f0f921"
             ]
            ],
            "type": "histogram2d"
           }
          ],
          "histogram2dcontour": [
           {
            "colorbar": {
             "outlinewidth": 0,
             "ticks": ""
            },
            "colorscale": [
             [
              0,
              "#0d0887"
             ],
             [
              0.1111111111111111,
              "#46039f"
             ],
             [
              0.2222222222222222,
              "#7201a8"
             ],
             [
              0.3333333333333333,
              "#9c179e"
             ],
             [
              0.4444444444444444,
              "#bd3786"
             ],
             [
              0.5555555555555556,
              "#d8576b"
             ],
             [
              0.6666666666666666,
              "#ed7953"
             ],
             [
              0.7777777777777778,
              "#fb9f3a"
             ],
             [
              0.8888888888888888,
              "#fdca26"
             ],
             [
              1,
              "#f0f921"
             ]
            ],
            "type": "histogram2dcontour"
           }
          ],
          "mesh3d": [
           {
            "colorbar": {
             "outlinewidth": 0,
             "ticks": ""
            },
            "type": "mesh3d"
           }
          ],
          "parcoords": [
           {
            "line": {
             "colorbar": {
              "outlinewidth": 0,
              "ticks": ""
             }
            },
            "type": "parcoords"
           }
          ],
          "pie": [
           {
            "automargin": true,
            "type": "pie"
           }
          ],
          "scatter": [
           {
            "fillpattern": {
             "fillmode": "overlay",
             "size": 10,
             "solidity": 0.2
            },
            "type": "scatter"
           }
          ],
          "scatter3d": [
           {
            "line": {
             "colorbar": {
              "outlinewidth": 0,
              "ticks": ""
             }
            },
            "marker": {
             "colorbar": {
              "outlinewidth": 0,
              "ticks": ""
             }
            },
            "type": "scatter3d"
           }
          ],
          "scattercarpet": [
           {
            "marker": {
             "colorbar": {
              "outlinewidth": 0,
              "ticks": ""
             }
            },
            "type": "scattercarpet"
           }
          ],
          "scattergeo": [
           {
            "marker": {
             "colorbar": {
              "outlinewidth": 0,
              "ticks": ""
             }
            },
            "type": "scattergeo"
           }
          ],
          "scattergl": [
           {
            "marker": {
             "colorbar": {
              "outlinewidth": 0,
              "ticks": ""
             }
            },
            "type": "scattergl"
           }
          ],
          "scattermapbox": [
           {
            "marker": {
             "colorbar": {
              "outlinewidth": 0,
              "ticks": ""
             }
            },
            "type": "scattermapbox"
           }
          ],
          "scatterpolar": [
           {
            "marker": {
             "colorbar": {
              "outlinewidth": 0,
              "ticks": ""
             }
            },
            "type": "scatterpolar"
           }
          ],
          "scatterpolargl": [
           {
            "marker": {
             "colorbar": {
              "outlinewidth": 0,
              "ticks": ""
             }
            },
            "type": "scatterpolargl"
           }
          ],
          "scatterternary": [
           {
            "marker": {
             "colorbar": {
              "outlinewidth": 0,
              "ticks": ""
             }
            },
            "type": "scatterternary"
           }
          ],
          "surface": [
           {
            "colorbar": {
             "outlinewidth": 0,
             "ticks": ""
            },
            "colorscale": [
             [
              0,
              "#0d0887"
             ],
             [
              0.1111111111111111,
              "#46039f"
             ],
             [
              0.2222222222222222,
              "#7201a8"
             ],
             [
              0.3333333333333333,
              "#9c179e"
             ],
             [
              0.4444444444444444,
              "#bd3786"
             ],
             [
              0.5555555555555556,
              "#d8576b"
             ],
             [
              0.6666666666666666,
              "#ed7953"
             ],
             [
              0.7777777777777778,
              "#fb9f3a"
             ],
             [
              0.8888888888888888,
              "#fdca26"
             ],
             [
              1,
              "#f0f921"
             ]
            ],
            "type": "surface"
           }
          ],
          "table": [
           {
            "cells": {
             "fill": {
              "color": "#EBF0F8"
             },
             "line": {
              "color": "white"
             }
            },
            "header": {
             "fill": {
              "color": "#C8D4E3"
             },
             "line": {
              "color": "white"
             }
            },
            "type": "table"
           }
          ]
         },
         "layout": {
          "annotationdefaults": {
           "arrowcolor": "#2a3f5f",
           "arrowhead": 0,
           "arrowwidth": 1
          },
          "autotypenumbers": "strict",
          "coloraxis": {
           "colorbar": {
            "outlinewidth": 0,
            "ticks": ""
           }
          },
          "colorscale": {
           "diverging": [
            [
             0,
             "#8e0152"
            ],
            [
             0.1,
             "#c51b7d"
            ],
            [
             0.2,
             "#de77ae"
            ],
            [
             0.3,
             "#f1b6da"
            ],
            [
             0.4,
             "#fde0ef"
            ],
            [
             0.5,
             "#f7f7f7"
            ],
            [
             0.6,
             "#e6f5d0"
            ],
            [
             0.7,
             "#b8e186"
            ],
            [
             0.8,
             "#7fbc41"
            ],
            [
             0.9,
             "#4d9221"
            ],
            [
             1,
             "#276419"
            ]
           ],
           "sequential": [
            [
             0,
             "#0d0887"
            ],
            [
             0.1111111111111111,
             "#46039f"
            ],
            [
             0.2222222222222222,
             "#7201a8"
            ],
            [
             0.3333333333333333,
             "#9c179e"
            ],
            [
             0.4444444444444444,
             "#bd3786"
            ],
            [
             0.5555555555555556,
             "#d8576b"
            ],
            [
             0.6666666666666666,
             "#ed7953"
            ],
            [
             0.7777777777777778,
             "#fb9f3a"
            ],
            [
             0.8888888888888888,
             "#fdca26"
            ],
            [
             1,
             "#f0f921"
            ]
           ],
           "sequentialminus": [
            [
             0,
             "#0d0887"
            ],
            [
             0.1111111111111111,
             "#46039f"
            ],
            [
             0.2222222222222222,
             "#7201a8"
            ],
            [
             0.3333333333333333,
             "#9c179e"
            ],
            [
             0.4444444444444444,
             "#bd3786"
            ],
            [
             0.5555555555555556,
             "#d8576b"
            ],
            [
             0.6666666666666666,
             "#ed7953"
            ],
            [
             0.7777777777777778,
             "#fb9f3a"
            ],
            [
             0.8888888888888888,
             "#fdca26"
            ],
            [
             1,
             "#f0f921"
            ]
           ]
          },
          "colorway": [
           "#636efa",
           "#EF553B",
           "#00cc96",
           "#ab63fa",
           "#FFA15A",
           "#19d3f3",
           "#FF6692",
           "#B6E880",
           "#FF97FF",
           "#FECB52"
          ],
          "font": {
           "color": "#2a3f5f"
          },
          "geo": {
           "bgcolor": "white",
           "lakecolor": "white",
           "landcolor": "#E5ECF6",
           "showlakes": true,
           "showland": true,
           "subunitcolor": "white"
          },
          "hoverlabel": {
           "align": "left"
          },
          "hovermode": "closest",
          "mapbox": {
           "style": "light"
          },
          "paper_bgcolor": "white",
          "plot_bgcolor": "#E5ECF6",
          "polar": {
           "angularaxis": {
            "gridcolor": "white",
            "linecolor": "white",
            "ticks": ""
           },
           "bgcolor": "#E5ECF6",
           "radialaxis": {
            "gridcolor": "white",
            "linecolor": "white",
            "ticks": ""
           }
          },
          "scene": {
           "xaxis": {
            "backgroundcolor": "#E5ECF6",
            "gridcolor": "white",
            "gridwidth": 2,
            "linecolor": "white",
            "showbackground": true,
            "ticks": "",
            "zerolinecolor": "white"
           },
           "yaxis": {
            "backgroundcolor": "#E5ECF6",
            "gridcolor": "white",
            "gridwidth": 2,
            "linecolor": "white",
            "showbackground": true,
            "ticks": "",
            "zerolinecolor": "white"
           },
           "zaxis": {
            "backgroundcolor": "#E5ECF6",
            "gridcolor": "white",
            "gridwidth": 2,
            "linecolor": "white",
            "showbackground": true,
            "ticks": "",
            "zerolinecolor": "white"
           }
          },
          "shapedefaults": {
           "line": {
            "color": "#2a3f5f"
           }
          },
          "ternary": {
           "aaxis": {
            "gridcolor": "white",
            "linecolor": "white",
            "ticks": ""
           },
           "baxis": {
            "gridcolor": "white",
            "linecolor": "white",
            "ticks": ""
           },
           "bgcolor": "#E5ECF6",
           "caxis": {
            "gridcolor": "white",
            "linecolor": "white",
            "ticks": ""
           }
          },
          "title": {
           "x": 0.05
          },
          "xaxis": {
           "automargin": true,
           "gridcolor": "white",
           "linecolor": "white",
           "ticks": "",
           "title": {
            "standoff": 15
           },
           "zerolinecolor": "white",
           "zerolinewidth": 2
          },
          "yaxis": {
           "automargin": true,
           "gridcolor": "white",
           "linecolor": "white",
           "ticks": "",
           "title": {
            "standoff": 15
           },
           "zerolinecolor": "white",
           "zerolinewidth": 2
          }
         }
        },
        "width": 2000,
        "xaxis": {
         "anchor": "y",
         "domain": [
          0,
          0.45
         ]
        },
        "xaxis10": {
         "anchor": "y10",
         "domain": [
          0.55,
          1
         ]
        },
        "xaxis11": {
         "anchor": "y11",
         "domain": [
          0,
          0.45
         ]
        },
        "xaxis12": {
         "anchor": "y12",
         "domain": [
          0.55,
          1
         ]
        },
        "xaxis13": {
         "anchor": "y13",
         "domain": [
          0,
          0.45
         ]
        },
        "xaxis14": {
         "anchor": "y14",
         "domain": [
          0.55,
          1
         ]
        },
        "xaxis15": {
         "anchor": "y15",
         "domain": [
          0,
          0.45
         ]
        },
        "xaxis16": {
         "anchor": "y16",
         "domain": [
          0.55,
          1
         ]
        },
        "xaxis2": {
         "anchor": "y2",
         "domain": [
          0.55,
          1
         ]
        },
        "xaxis3": {
         "anchor": "y3",
         "domain": [
          0,
          0.45
         ]
        },
        "xaxis4": {
         "anchor": "y4",
         "domain": [
          0.55,
          1
         ]
        },
        "xaxis5": {
         "anchor": "y5",
         "domain": [
          0,
          0.45
         ]
        },
        "xaxis6": {
         "anchor": "y6",
         "domain": [
          0.55,
          1
         ]
        },
        "xaxis7": {
         "anchor": "y7",
         "domain": [
          0,
          0.45
         ]
        },
        "xaxis8": {
         "anchor": "y8",
         "domain": [
          0.55,
          1
         ]
        },
        "xaxis9": {
         "anchor": "y9",
         "domain": [
          0,
          0.45
         ]
        },
        "yaxis": {
         "anchor": "x",
         "domain": [
          0.9078124999999999,
          0.9999999999999999
         ]
        },
        "yaxis10": {
         "anchor": "x10",
         "domain": [
          0.38906250000000003,
          0.48125000000000007
         ]
        },
        "yaxis11": {
         "anchor": "x11",
         "domain": [
          0.259375,
          0.3515625
         ]
        },
        "yaxis12": {
         "anchor": "x12",
         "domain": [
          0.259375,
          0.3515625
         ]
        },
        "yaxis13": {
         "anchor": "x13",
         "domain": [
          0.1296875,
          0.22187500000000002
         ]
        },
        "yaxis14": {
         "anchor": "x14",
         "domain": [
          0.1296875,
          0.22187500000000002
         ]
        },
        "yaxis15": {
         "anchor": "x15",
         "domain": [
          0,
          0.0921875
         ]
        },
        "yaxis16": {
         "anchor": "x16",
         "domain": [
          0,
          0.0921875
         ]
        },
        "yaxis2": {
         "anchor": "x2",
         "domain": [
          0.9078124999999999,
          0.9999999999999999
         ]
        },
        "yaxis3": {
         "anchor": "x3",
         "domain": [
          0.778125,
          0.8703124999999999
         ]
        },
        "yaxis4": {
         "anchor": "x4",
         "domain": [
          0.778125,
          0.8703124999999999
         ]
        },
        "yaxis5": {
         "anchor": "x5",
         "domain": [
          0.6484375,
          0.740625
         ]
        },
        "yaxis6": {
         "anchor": "x6",
         "domain": [
          0.6484375,
          0.740625
         ]
        },
        "yaxis7": {
         "anchor": "x7",
         "domain": [
          0.51875,
          0.6109375
         ]
        },
        "yaxis8": {
         "anchor": "x8",
         "domain": [
          0.51875,
          0.6109375
         ]
        },
        "yaxis9": {
         "anchor": "x9",
         "domain": [
          0.38906250000000003,
          0.48125000000000007
         ]
        }
       }
      }
     },
     "metadata": {},
     "output_type": "display_data"
    }
   ],
   "source": [
    "trainer.train(num_episodes=2)"
   ]
  },
  {
   "cell_type": "code",
   "execution_count": null,
   "metadata": {},
   "outputs": [],
   "source": []
  }
 ],
 "metadata": {
  "kernelspec": {
   "display_name": "Python 3",
   "language": "python",
   "name": "python3"
  },
  "language_info": {
   "codemirror_mode": {
    "name": "ipython",
    "version": 3
   },
   "file_extension": ".py",
   "mimetype": "text/x-python",
   "name": "python",
   "nbconvert_exporter": "python",
   "pygments_lexer": "ipython3",
   "version": "3.10.12"
  }
 },
 "nbformat": 4,
 "nbformat_minor": 2
}
