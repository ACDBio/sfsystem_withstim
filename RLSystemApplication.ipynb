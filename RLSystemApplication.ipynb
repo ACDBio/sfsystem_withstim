{
 "cells": [
  {
   "cell_type": "code",
   "execution_count": 1,
   "metadata": {},
   "outputs": [
    {
     "name": "stderr",
     "output_type": "stream",
     "text": [
      "2024-03-15 17:52:43.417380: I tensorflow/core/util/port.cc:113] oneDNN custom operations are on. You may see slightly different numerical results due to floating-point round-off errors from different computation orders. To turn them off, set the environment variable `TF_ENABLE_ONEDNN_OPTS=0`.\n",
      "2024-03-15 17:52:43.436790: E external/local_xla/xla/stream_executor/cuda/cuda_dnn.cc:9261] Unable to register cuDNN factory: Attempting to register factory for plugin cuDNN when one has already been registered\n",
      "2024-03-15 17:52:43.436817: E external/local_xla/xla/stream_executor/cuda/cuda_fft.cc:607] Unable to register cuFFT factory: Attempting to register factory for plugin cuFFT when one has already been registered\n",
      "2024-03-15 17:52:43.437362: E external/local_xla/xla/stream_executor/cuda/cuda_blas.cc:1515] Unable to register cuBLAS factory: Attempting to register factory for plugin cuBLAS when one has already been registered\n",
      "2024-03-15 17:52:43.441281: I tensorflow/core/platform/cpu_feature_guard.cc:182] This TensorFlow binary is optimized to use available CPU instructions in performance-critical operations.\n",
      "To enable the following instructions: AVX2 AVX_VNNI FMA, in other operations, rebuild TensorFlow with the appropriate compiler flags.\n",
      "2024-03-15 17:52:43.850443: W tensorflow/compiler/tf2tensorrt/utils/py_utils.cc:38] TF-TRT Warning: Could not find TensorRT\n"
     ]
    }
   ],
   "source": [
    "import RLSystem"
   ]
  },
  {
   "cell_type": "code",
   "execution_count": 26,
   "metadata": {},
   "outputs": [],
   "source": [
    "from importlib import reload\n",
    "reload(RLSystem)\n",
    "import numpy as np\n",
    "import time"
   ]
  },
  {
   "cell_type": "code",
   "execution_count": 27,
   "metadata": {},
   "outputs": [],
   "source": [
    "sd={'n_input_channels': 9, 'channels_of_interest_inds': [0, 1, 2, 3, 4, 5, 6, 7,8], 'n_timepoints_per_sample': 100, 'delay': 10, 'max_sfsystem_output': 1023, 'reward_formula_string': '(fbin_1_4_ch0+freq_30_ch0)/fbin_12_30_ch0', 'fbins': [[0, 1], [1, 4], [4, 8], [8, 12], [12, 30], [30,50]], 'device_address': 'ws://10.42.0.231:80/', 'step_stim_length_millis': 10000, 'episode_time_seconds': 60, 'n_total_timesteps': 'episode', 'num_episodes': 5, 'logfn': 'current_training.log', 'signal_plot_width': 2000, 'signal_plot_height': 1500, 'training_plot_width': 2000, 'training_plot_height': 500, 'render_each_step': True, 'render_data': True, 'log_steps': True, 'log_episodes': True, 'log_best_actions_every_episode': True, 'log_actions_every_step': True, 'log_best_actions_final': True, 'write_raw': True, 'write_fft': True, 'write_bins': True, 'log_model': True, 'log_or_plot_every_n_timesteps': 1, 'algorithm': 'A2C', 'n_steps_per_timestep': 1, 'use_raw_in_os_def': True, 'use_freq_in_os_def': True, 'use_fbins_in_os_def': True}\n",
    "out_dict={'leddelay': {'names': ['leddelay'], 'value_range': {'min': 1, 'max': 100}, 'init_val': {'leddelay': 10}}, 'ledcontrols': {'names': ['lv1r', 'lv1g', 'lv1b', 'lv2r', 'lv2g', 'lv2b', 'lv3r', 'lv3g', 'lv3b', 'lv4r', 'lv4g', 'lv4b', 'lv5r', 'lv5g', 'lv5b', 'lv6r', 'lv6g', 'lv6b', 'lv7r', 'lv7g', 'lv7b', 'lv8r', 'lv8g', 'lv8b'], 'value_range': {'min': 10, 'max': 255}, 'init_val': {'lv1r': 255, 'lv1g': 0, 'lv1b': 0, 'lv2r': 0, 'lv2b': 0, 'lv3r': 0, 'lv3g': 0, 'lv3b': 255, 'lv4r': 255, 'lv4g': 255, 'lv4b': 255, 'lv5r': 0, 'lv5g': 255, 'lv5b': 255, 'lv6r': 255, 'lv6g': 0, 'lv6b': 255, 'lv7r': 255, 'lv7b': 0, 'lv8r': 255, 'lv8g': 0, 'lv8b': 0}}, 'sound_wave_frequencies': {'names': ['wave_1_freq', 'wave_2_freq'], 'value_range': {'min': 1, 'max': 30000}, 'init_val': {'wave_1_freq': 440, 'wave_2_freq': 440}}, 'panner_phasor_frequencies': {'names': ['panner_freq', 'phasor_1_freq', 'phasor_2_freq', 'phasor_1_min', 'phasor_2_min', 'phasor_1_dif', 'phasor_2_dif'], 'value_range': {'min': 1, 'max': 50}, 'init_val': {'panner_freq': 1, 'phasor_1_freq': 440, 'phasor_2_freq': 440, 'phasor_1_min': 1, 'phasor_2_min': 1, 'phasor_1_dif': 49, 'phasor_2_dif': 49}}, 'panner_div': {'names': ['panner_div'], 'value_range': {'min': 1, 'max': 5}, 'init_val': {'panner_div': 2}}, 'sound_wave_shapes': {'names': ['wave_1_type', 'wave_2_type'], 'value_range': {'min': 0, 'max': 3}, 'init_val': {'wave_1_type': 0, 'wave_2_type': 0}}, 'maxivolume': {'names': ['maxivolume'], 'value_range': {'min': 1, 'max': 25}, 'init_val': {'maxivolume': 10}}}"
   ]
  },
  {
   "cell_type": "code",
   "execution_count": 28,
   "metadata": {},
   "outputs": [
    {
     "name": "stdout",
     "output_type": "stream",
     "text": [
      "Token freq_30_ch0:\n",
      "Closest fft frequency 30.0\n",
      "Connected\n",
      "Delay and data transfer buffer size are set up.\n",
      "Default actions are set.\n"
     ]
    }
   ],
   "source": [
    "env = RLSystem.SFSystemCommunicator(out_dict=out_dict,\n",
    "                                              n_input_channels=9,\n",
    "                                              channels_of_interest_inds=sd['channels_of_interest_inds'],\n",
    "                                              n_timepoints_per_sample=sd['n_timepoints_per_sample'],\n",
    "                                              max_sfsystem_output=sd['max_sfsystem_output'],\n",
    "                                              reward_formula_string=sd['reward_formula_string'],\n",
    "                                              fbins=sd['fbins'],\n",
    "                                              delay=sd['delay'],\n",
    "                                              use_raw_in_os_def=sd['use_raw_in_os_def'],\n",
    "                                              use_freq_in_os_def=sd['use_freq_in_os_def'],\n",
    "                                              use_fbins_in_os_def=sd['use_fbins_in_os_def'],\n",
    "                                              device_address=sd['device_address'],\n",
    "                                              step_stim_length_millis=sd['step_stim_length_millis'],\n",
    "                                              episode_time_seconds=sd['episode_time_seconds'],\n",
    "                                              logfn=sd['logfn'],\n",
    "                                              log_steps=sd['log_steps'],\n",
    "                                              log_episodes=sd['log_episodes'],\n",
    "                                              log_best_actions_final=sd['log_best_actions_final'],\n",
    "                                              signal_plot_width=sd['signal_plot_width'],\n",
    "                                              signal_plot_height=sd['signal_plot_height'],\n",
    "                                              training_plot_width=sd['training_plot_width'],\n",
    "                                              training_plot_height=sd['training_plot_height'],\n",
    "                                              write_raw=sd['write_raw'],\n",
    "                                              write_fft=sd['write_fft'],\n",
    "                                              write_bins=sd['write_bins'],\n",
    "                                              log_best_actions_every_episode=sd['log_best_actions_every_episode'],\n",
    "                                              render_data=sd['render_data'],\n",
    "                                              render_each_step=sd['render_each_step'],\n",
    "                                              log_actions_every_step=sd['log_actions_every_step'])"
   ]
  },
  {
   "cell_type": "code",
   "execution_count": 29,
   "metadata": {},
   "outputs": [
    {
     "name": "stdout",
     "output_type": "stream",
     "text": [
      "[123, 97, 190, 169, 211, 36, 105, 175, 132, 161, 213, 47, 39, 13, 192, 59, 202, 252, 77, 212, 129, 192, 148, 144, 100, 1371, 5910, 22, 5, 44, 45, 15, 4, 24, 29, 15, 0, 0]\n",
      "123,97,190,169,211,36,105,175,132,161,213,47,39,13,192,59,202,252,77,212,129,192,148,144,100,1371,5910,22,5,44,45,15,4,24,29,15,0,0\n"
     ]
    },
    {
     "data": {
      "text/plain": [
       "(OrderedDict([('raw_data',\n",
       "               array([[ 0,  0,  0,  0,  0,  0,  0,  0,  0],\n",
       "                      [ 0,  0,  0,  0,  0,  0,  0,  0, 29],\n",
       "                      [ 0,  0,  0,  0,  0,  0,  0,  0,  0],\n",
       "                      [ 0,  0,  0,  0,  0,  0,  0,  0,  0],\n",
       "                      [ 0,  0,  0,  0,  0,  0,  0,  0,  0],\n",
       "                      [ 0,  0,  0,  0,  0,  0,  0,  0,  0],\n",
       "                      [ 0,  0,  0,  0,  0,  0,  0,  0,  0],\n",
       "                      [ 0,  0,  0,  0,  0,  0,  0,  0,  0],\n",
       "                      [ 0,  0,  0,  0,  0,  0,  0,  0,  0],\n",
       "                      [ 0,  0,  0,  0,  0,  0,  0,  0,  0],\n",
       "                      [ 0,  0,  0,  0,  0,  0,  0,  0,  0],\n",
       "                      [ 0,  0,  0,  0,  0,  0,  0,  0,  0],\n",
       "                      [ 0,  0,  0,  0,  0,  0,  0,  0,  0],\n",
       "                      [ 0,  0,  0,  0,  0,  0,  0,  0,  0],\n",
       "                      [ 0,  0,  0,  0,  0,  0,  0,  0,  0],\n",
       "                      [ 0,  0,  0,  0,  0,  0,  0,  0,  0],\n",
       "                      [ 0,  0,  0,  0,  0,  0,  0,  0,  0],\n",
       "                      [ 0,  0,  0,  0,  0,  0,  0,  0,  0],\n",
       "                      [ 0,  0,  0,  0,  0,  0,  0,  0,  0],\n",
       "                      [ 0,  0,  0,  0,  0,  0,  0,  0,  0],\n",
       "                      [ 0,  0,  0,  0,  0,  0,  0,  0,  0],\n",
       "                      [ 0,  0,  0,  0,  0,  0,  0,  0,  0],\n",
       "                      [ 0,  0,  0,  0,  0,  0,  0,  0,  0],\n",
       "                      [ 0,  0,  0,  0,  0,  0,  0,  0,  0],\n",
       "                      [ 0,  0,  0,  0,  0,  0,  0,  0,  0],\n",
       "                      [ 0,  0,  0,  0,  0,  0,  0,  0,  0],\n",
       "                      [ 0,  0,  0,  0,  0,  0,  0,  0,  0],\n",
       "                      [ 0,  0,  0,  0,  0,  0,  0,  0,  0],\n",
       "                      [ 0,  0,  0,  0,  0,  0,  0,  0,  0],\n",
       "                      [ 0,  0,  0,  0,  0,  0,  0,  0,  0],\n",
       "                      [ 0,  0,  0,  0,  0,  0,  0,  0,  0],\n",
       "                      [ 0,  0,  0,  0,  0,  0,  0,  0,  0],\n",
       "                      [ 0,  0,  0,  0,  0,  0,  0,  0,  0],\n",
       "                      [ 0,  0,  0,  0,  0,  0,  0,  0,  0],\n",
       "                      [ 0,  0,  0,  0,  0,  0,  0,  0,  0],\n",
       "                      [ 0,  0,  0,  0,  0,  0,  0,  0,  0],\n",
       "                      [ 0,  0,  0,  0,  0,  0,  0,  0,  0],\n",
       "                      [ 0,  0,  0,  0,  0,  0,  0,  0, -1],\n",
       "                      [ 0,  0,  0,  0,  0,  0,  0,  0,  0],\n",
       "                      [ 0,  0,  0,  0,  0,  0,  0,  0,  0],\n",
       "                      [ 0,  0,  0,  0,  0,  0,  0,  0,  0],\n",
       "                      [ 0,  0,  0,  0,  0,  0,  0,  0,  0],\n",
       "                      [ 0,  0,  0,  0,  0,  0,  0,  0,  0],\n",
       "                      [ 0,  0,  0,  0,  0,  0,  0,  0,  0],\n",
       "                      [ 0,  0,  0,  0,  0,  0,  0,  0,  0],\n",
       "                      [ 0,  0,  0,  0,  0,  0,  0,  0,  0],\n",
       "                      [ 0,  0,  0,  0,  0,  0,  0,  0,  0],\n",
       "                      [ 0,  0,  0,  0,  0,  0,  0,  0,  0],\n",
       "                      [ 0,  0,  0,  0,  0,  0,  0,  0,  0],\n",
       "                      [ 0,  0,  0,  0,  0,  0,  0,  0,  0],\n",
       "                      [ 0,  0,  0,  0,  0,  0,  0,  0,  1],\n",
       "                      [ 0,  0,  0,  0,  0,  0,  0,  0,  0],\n",
       "                      [ 0,  0,  0,  0,  0,  0,  0,  0,  0],\n",
       "                      [ 0,  0,  0,  0,  0,  0,  0,  0,  0],\n",
       "                      [ 0,  0,  0,  0,  0,  0,  0,  0,  0],\n",
       "                      [ 0,  0,  0,  0,  0,  0,  0,  0,  1],\n",
       "                      [ 0,  0,  0,  0,  0,  0,  0,  0,  0],\n",
       "                      [ 0,  0,  0,  0,  0,  0,  0,  0,  0],\n",
       "                      [ 0,  0,  0,  0,  0,  0,  0,  0,  0],\n",
       "                      [ 0,  0,  0,  0,  0,  0,  0,  0,  0],\n",
       "                      [ 0,  0,  0,  0,  0,  0,  0,  0,  0],\n",
       "                      [ 0,  0,  0,  0,  0,  0,  0,  0,  0],\n",
       "                      [ 0,  0,  0,  0,  0,  0,  0,  0,  0],\n",
       "                      [ 0,  0,  0,  0,  0,  0,  0,  0,  0],\n",
       "                      [ 0,  0,  0,  0,  0,  0,  0,  0,  1],\n",
       "                      [ 0,  0,  0,  0,  0,  0,  0,  0,  0],\n",
       "                      [ 0,  0,  0,  0,  0,  0,  0,  0,  0],\n",
       "                      [ 0,  0,  0,  0,  0,  0,  0,  0,  0],\n",
       "                      [ 0,  0,  0,  0,  0,  0,  0,  0,  0],\n",
       "                      [ 0,  0,  0,  0,  0,  0,  0,  0,  0],\n",
       "                      [ 0,  0,  0,  0,  0,  0,  0,  0,  0],\n",
       "                      [ 0,  0,  0,  0,  0,  0,  0,  0,  0],\n",
       "                      [ 0,  0,  0,  0,  0,  0,  0,  0,  0],\n",
       "                      [ 0,  0,  0,  0,  0,  0,  0,  0,  0],\n",
       "                      [ 0,  0,  0,  0,  0,  0,  0,  0,  1],\n",
       "                      [ 0,  0,  0,  0,  0,  0,  0,  0,  0],\n",
       "                      [ 0,  0,  0,  0,  0,  0,  0,  0,  0],\n",
       "                      [ 0,  0,  0,  0,  0,  0,  0,  0,  1],\n",
       "                      [ 0,  0,  0,  0,  0,  0,  0,  0,  0],\n",
       "                      [ 0,  0,  0,  0,  0,  0,  0,  0,  0],\n",
       "                      [ 0,  0,  0,  0,  0,  0,  0,  0,  1],\n",
       "                      [ 0,  0,  0,  0,  0,  0,  0,  0,  0],\n",
       "                      [ 0,  0,  0,  0,  0,  0,  0,  0,  0],\n",
       "                      [ 0,  0,  0,  0,  0,  0,  0,  0,  1],\n",
       "                      [ 0,  0,  0,  0,  0,  0,  0,  0,  0],\n",
       "                      [ 0,  0,  0,  0,  0,  0,  0,  0,  0],\n",
       "                      [ 0,  0,  0,  0,  0,  0,  0,  0, -1],\n",
       "                      [ 0,  0,  0,  0,  0,  0,  0,  0,  0],\n",
       "                      [ 0,  0,  0,  0,  0,  0,  0,  0, -1],\n",
       "                      [ 0,  0,  0,  0,  0,  0,  0,  0,  0],\n",
       "                      [ 0,  0,  0,  0,  0,  0,  0,  0,  0],\n",
       "                      [ 0,  0,  0,  0,  0,  0,  0,  0,  1],\n",
       "                      [ 0,  0,  0,  0,  0,  0,  0,  0,  0],\n",
       "                      [ 0,  0,  0,  0,  0,  0,  0,  0,  1],\n",
       "                      [ 0,  0,  0,  0,  0,  0,  0,  0,  0],\n",
       "                      [ 0,  0,  0,  0,  0,  0,  0,  0,  0],\n",
       "                      [ 0,  0,  0,  0,  0,  0,  0,  0,  0],\n",
       "                      [ 0,  0,  0,  0,  0,  0,  0,  0,  0],\n",
       "                      [ 0,  0,  0,  0,  0,  0,  0,  0,  0],\n",
       "                      [ 0,  0,  0,  0,  0,  0,  0,  0,  0]])),\n",
       "              ('fft',\n",
       "               array([[0.        , 0.        , 0.        , 0.        , 0.        ,\n",
       "                       0.        , 0.        , 0.        , 0.        , 0.        ,\n",
       "                       0.        , 0.        , 0.        , 0.        , 0.        ,\n",
       "                       0.        , 0.        , 0.        , 0.        , 0.        ,\n",
       "                       0.        , 0.        , 0.        , 0.        , 0.        ,\n",
       "                       0.        , 0.        , 0.        , 0.        , 0.        ,\n",
       "                       0.        , 0.        , 0.        , 0.        , 0.        ,\n",
       "                       0.        , 0.        , 0.        , 0.        , 0.        ,\n",
       "                       0.        , 0.        , 0.        , 0.        , 0.        ,\n",
       "                       0.        , 0.        , 0.        , 0.        , 0.        ,\n",
       "                       0.        ],\n",
       "                      [0.        , 0.        , 0.        , 0.        , 0.        ,\n",
       "                       0.        , 0.        , 0.        , 0.        , 0.        ,\n",
       "                       0.        , 0.        , 0.        , 0.        , 0.        ,\n",
       "                       0.        , 0.        , 0.        , 0.        , 0.        ,\n",
       "                       0.        , 0.        , 0.        , 0.        , 0.        ,\n",
       "                       0.        , 0.        , 0.        , 0.        , 0.        ,\n",
       "                       0.        , 0.        , 0.        , 0.        , 0.        ,\n",
       "                       0.        , 0.        , 0.        , 0.        , 0.        ,\n",
       "                       0.        , 0.        , 0.        , 0.        , 0.        ,\n",
       "                       0.        , 0.        , 0.        , 0.        , 0.        ,\n",
       "                       0.        ],\n",
       "                      [0.        , 0.        , 0.        , 0.        , 0.        ,\n",
       "                       0.        , 0.        , 0.        , 0.        , 0.        ,\n",
       "                       0.        , 0.        , 0.        , 0.        , 0.        ,\n",
       "                       0.        , 0.        , 0.        , 0.        , 0.        ,\n",
       "                       0.        , 0.        , 0.        , 0.        , 0.        ,\n",
       "                       0.        , 0.        , 0.        , 0.        , 0.        ,\n",
       "                       0.        , 0.        , 0.        , 0.        , 0.        ,\n",
       "                       0.        , 0.        , 0.        , 0.        , 0.        ,\n",
       "                       0.        , 0.        , 0.        , 0.        , 0.        ,\n",
       "                       0.        , 0.        , 0.        , 0.        , 0.        ,\n",
       "                       0.        ],\n",
       "                      [0.        , 0.        , 0.        , 0.        , 0.        ,\n",
       "                       0.        , 0.        , 0.        , 0.        , 0.        ,\n",
       "                       0.        , 0.        , 0.        , 0.        , 0.        ,\n",
       "                       0.        , 0.        , 0.        , 0.        , 0.        ,\n",
       "                       0.        , 0.        , 0.        , 0.        , 0.        ,\n",
       "                       0.        , 0.        , 0.        , 0.        , 0.        ,\n",
       "                       0.        , 0.        , 0.        , 0.        , 0.        ,\n",
       "                       0.        , 0.        , 0.        , 0.        , 0.        ,\n",
       "                       0.        , 0.        , 0.        , 0.        , 0.        ,\n",
       "                       0.        , 0.        , 0.        , 0.        , 0.        ,\n",
       "                       0.        ],\n",
       "                      [0.        , 0.        , 0.        , 0.        , 0.        ,\n",
       "                       0.        , 0.        , 0.        , 0.        , 0.        ,\n",
       "                       0.        , 0.        , 0.        , 0.        , 0.        ,\n",
       "                       0.        , 0.        , 0.        , 0.        , 0.        ,\n",
       "                       0.        , 0.        , 0.        , 0.        , 0.        ,\n",
       "                       0.        , 0.        , 0.        , 0.        , 0.        ,\n",
       "                       0.        , 0.        , 0.        , 0.        , 0.        ,\n",
       "                       0.        , 0.        , 0.        , 0.        , 0.        ,\n",
       "                       0.        , 0.        , 0.        , 0.        , 0.        ,\n",
       "                       0.        , 0.        , 0.        , 0.        , 0.        ,\n",
       "                       0.        ],\n",
       "                      [0.        , 0.        , 0.        , 0.        , 0.        ,\n",
       "                       0.        , 0.        , 0.        , 0.        , 0.        ,\n",
       "                       0.        , 0.        , 0.        , 0.        , 0.        ,\n",
       "                       0.        , 0.        , 0.        , 0.        , 0.        ,\n",
       "                       0.        , 0.        , 0.        , 0.        , 0.        ,\n",
       "                       0.        , 0.        , 0.        , 0.        , 0.        ,\n",
       "                       0.        , 0.        , 0.        , 0.        , 0.        ,\n",
       "                       0.        , 0.        , 0.        , 0.        , 0.        ,\n",
       "                       0.        , 0.        , 0.        , 0.        , 0.        ,\n",
       "                       0.        , 0.        , 0.        , 0.        , 0.        ,\n",
       "                       0.        ],\n",
       "                      [0.        , 0.        , 0.        , 0.        , 0.        ,\n",
       "                       0.        , 0.        , 0.        , 0.        , 0.        ,\n",
       "                       0.        , 0.        , 0.        , 0.        , 0.        ,\n",
       "                       0.        , 0.        , 0.        , 0.        , 0.        ,\n",
       "                       0.        , 0.        , 0.        , 0.        , 0.        ,\n",
       "                       0.        , 0.        , 0.        , 0.        , 0.        ,\n",
       "                       0.        , 0.        , 0.        , 0.        , 0.        ,\n",
       "                       0.        , 0.        , 0.        , 0.        , 0.        ,\n",
       "                       0.        , 0.        , 0.        , 0.        , 0.        ,\n",
       "                       0.        , 0.        , 0.        , 0.        , 0.        ,\n",
       "                       0.        ],\n",
       "                      [0.        , 0.        , 0.        , 0.        , 0.        ,\n",
       "                       0.        , 0.        , 0.        , 0.        , 0.        ,\n",
       "                       0.        , 0.        , 0.        , 0.        , 0.        ,\n",
       "                       0.        , 0.        , 0.        , 0.        , 0.        ,\n",
       "                       0.        , 0.        , 0.        , 0.        , 0.        ,\n",
       "                       0.        , 0.        , 0.        , 0.        , 0.        ,\n",
       "                       0.        , 0.        , 0.        , 0.        , 0.        ,\n",
       "                       0.        , 0.        , 0.        , 0.        , 0.        ,\n",
       "                       0.        , 0.        , 0.        , 0.        , 0.        ,\n",
       "                       0.        , 0.        , 0.        , 0.        , 0.        ,\n",
       "                       0.        ],\n",
       "                      [0.7       , 0.56936379, 0.57534945, 0.5437451 , 0.66411318,\n",
       "                       0.56826288, 0.52463158, 0.49489312, 0.56981324, 0.57347622,\n",
       "                       0.64774567, 0.66189967, 0.61712037, 0.58497484, 0.53056912,\n",
       "                       0.5577459 , 0.57705013, 0.55600402, 0.60784503, 0.58330324,\n",
       "                       0.55428879, 0.58700197, 0.61470383, 0.55486683, 0.62317383,\n",
       "                       0.54      , 0.589651  , 0.57457418, 0.58621597, 0.65690725,\n",
       "                       0.60268196, 0.47816643, 0.55110367, 0.62792104, 0.56764728,\n",
       "                       0.59520505, 0.49039242, 0.66888411, 0.63052416, 0.5733708 ,\n",
       "                       0.55023989, 0.6283179 , 0.53786218, 0.64437553, 0.55014938,\n",
       "                       0.54233548, 0.53677423, 0.50252018, 0.60131776, 0.67598316,\n",
       "                       0.62      ]])),\n",
       "              ('fbins',\n",
       "               array([[0.        , 0.        , 0.        , 0.        , 0.        ,\n",
       "                       0.        ],\n",
       "                      [0.        , 0.        , 0.        , 0.        , 0.        ,\n",
       "                       0.        ],\n",
       "                      [0.        , 0.        , 0.        , 0.        , 0.        ,\n",
       "                       0.        ],\n",
       "                      [0.        , 0.        , 0.        , 0.        , 0.        ,\n",
       "                       0.        ],\n",
       "                      [0.        , 0.        , 0.        , 0.        , 0.        ,\n",
       "                       0.        ],\n",
       "                      [0.        , 0.        , 0.        , 0.        , 0.        ,\n",
       "                       0.        ],\n",
       "                      [0.        , 0.        , 0.        , 0.        , 0.        ,\n",
       "                       0.        ],\n",
       "                      [0.        , 0.        , 0.        , 0.        , 0.        ,\n",
       "                       0.        ],\n",
       "                      [0.7       , 0.56281945, 0.56297519, 0.6132337 , 0.58311091,\n",
       "                       0.57778863]]))]),\n",
       " array(nan),\n",
       " False,\n",
       " {})"
      ]
     },
     "execution_count": 29,
     "metadata": {},
     "output_type": "execute_result"
    }
   ],
   "source": [
    "env.step(env.action_space.sample())"
   ]
  },
  {
   "cell_type": "code",
   "execution_count": 30,
   "metadata": {},
   "outputs": [
    {
     "data": {
      "application/vnd.plotly.v1+json": {
       "config": {
        "plotlyServerURL": "https://plot.ly"
       },
       "data": [
        {
         "mode": "lines+markers",
         "name": "Current episode rewards",
         "type": "scatter",
         "x": [
          0
         ],
         "xaxis": "x",
         "y": [
          null
         ],
         "yaxis": "y"
        },
        {
         "mode": "lines+markers",
         "name": "Previous episode max rewards",
         "type": "scatter",
         "x": [],
         "xaxis": "x2",
         "y": [],
         "yaxis": "y2"
        },
        {
         "mode": "lines+markers",
         "name": "Previous episode total rewards",
         "type": "scatter",
         "x": [],
         "xaxis": "x3",
         "y": [],
         "yaxis": "y3"
        }
       ],
       "layout": {
        "height": 500,
        "template": {
         "data": {
          "bar": [
           {
            "error_x": {
             "color": "#2a3f5f"
            },
            "error_y": {
             "color": "#2a3f5f"
            },
            "marker": {
             "line": {
              "color": "#E5ECF6",
              "width": 0.5
             },
             "pattern": {
              "fillmode": "overlay",
              "size": 10,
              "solidity": 0.2
             }
            },
            "type": "bar"
           }
          ],
          "barpolar": [
           {
            "marker": {
             "line": {
              "color": "#E5ECF6",
              "width": 0.5
             },
             "pattern": {
              "fillmode": "overlay",
              "size": 10,
              "solidity": 0.2
             }
            },
            "type": "barpolar"
           }
          ],
          "carpet": [
           {
            "aaxis": {
             "endlinecolor": "#2a3f5f",
             "gridcolor": "white",
             "linecolor": "white",
             "minorgridcolor": "white",
             "startlinecolor": "#2a3f5f"
            },
            "baxis": {
             "endlinecolor": "#2a3f5f",
             "gridcolor": "white",
             "linecolor": "white",
             "minorgridcolor": "white",
             "startlinecolor": "#2a3f5f"
            },
            "type": "carpet"
           }
          ],
          "choropleth": [
           {
            "colorbar": {
             "outlinewidth": 0,
             "ticks": ""
            },
            "type": "choropleth"
           }
          ],
          "contour": [
           {
            "colorbar": {
             "outlinewidth": 0,
             "ticks": ""
            },
            "colorscale": [
             [
              0,
              "#0d0887"
             ],
             [
              0.1111111111111111,
              "#46039f"
             ],
             [
              0.2222222222222222,
              "#7201a8"
             ],
             [
              0.3333333333333333,
              "#9c179e"
             ],
             [
              0.4444444444444444,
              "#bd3786"
             ],
             [
              0.5555555555555556,
              "#d8576b"
             ],
             [
              0.6666666666666666,
              "#ed7953"
             ],
             [
              0.7777777777777778,
              "#fb9f3a"
             ],
             [
              0.8888888888888888,
              "#fdca26"
             ],
             [
              1,
              "#f0f921"
             ]
            ],
            "type": "contour"
           }
          ],
          "contourcarpet": [
           {
            "colorbar": {
             "outlinewidth": 0,
             "ticks": ""
            },
            "type": "contourcarpet"
           }
          ],
          "heatmap": [
           {
            "colorbar": {
             "outlinewidth": 0,
             "ticks": ""
            },
            "colorscale": [
             [
              0,
              "#0d0887"
             ],
             [
              0.1111111111111111,
              "#46039f"
             ],
             [
              0.2222222222222222,
              "#7201a8"
             ],
             [
              0.3333333333333333,
              "#9c179e"
             ],
             [
              0.4444444444444444,
              "#bd3786"
             ],
             [
              0.5555555555555556,
              "#d8576b"
             ],
             [
              0.6666666666666666,
              "#ed7953"
             ],
             [
              0.7777777777777778,
              "#fb9f3a"
             ],
             [
              0.8888888888888888,
              "#fdca26"
             ],
             [
              1,
              "#f0f921"
             ]
            ],
            "type": "heatmap"
           }
          ],
          "heatmapgl": [
           {
            "colorbar": {
             "outlinewidth": 0,
             "ticks": ""
            },
            "colorscale": [
             [
              0,
              "#0d0887"
             ],
             [
              0.1111111111111111,
              "#46039f"
             ],
             [
              0.2222222222222222,
              "#7201a8"
             ],
             [
              0.3333333333333333,
              "#9c179e"
             ],
             [
              0.4444444444444444,
              "#bd3786"
             ],
             [
              0.5555555555555556,
              "#d8576b"
             ],
             [
              0.6666666666666666,
              "#ed7953"
             ],
             [
              0.7777777777777778,
              "#fb9f3a"
             ],
             [
              0.8888888888888888,
              "#fdca26"
             ],
             [
              1,
              "#f0f921"
             ]
            ],
            "type": "heatmapgl"
           }
          ],
          "histogram": [
           {
            "marker": {
             "pattern": {
              "fillmode": "overlay",
              "size": 10,
              "solidity": 0.2
             }
            },
            "type": "histogram"
           }
          ],
          "histogram2d": [
           {
            "colorbar": {
             "outlinewidth": 0,
             "ticks": ""
            },
            "colorscale": [
             [
              0,
              "#0d0887"
             ],
             [
              0.1111111111111111,
              "#46039f"
             ],
             [
              0.2222222222222222,
              "#7201a8"
             ],
             [
              0.3333333333333333,
              "#9c179e"
             ],
             [
              0.4444444444444444,
              "#bd3786"
             ],
             [
              0.5555555555555556,
              "#d8576b"
             ],
             [
              0.6666666666666666,
              "#ed7953"
             ],
             [
              0.7777777777777778,
              "#fb9f3a"
             ],
             [
              0.8888888888888888,
              "#fdca26"
             ],
             [
              1,
              "#f0f921"
             ]
            ],
            "type": "histogram2d"
           }
          ],
          "histogram2dcontour": [
           {
            "colorbar": {
             "outlinewidth": 0,
             "ticks": ""
            },
            "colorscale": [
             [
              0,
              "#0d0887"
             ],
             [
              0.1111111111111111,
              "#46039f"
             ],
             [
              0.2222222222222222,
              "#7201a8"
             ],
             [
              0.3333333333333333,
              "#9c179e"
             ],
             [
              0.4444444444444444,
              "#bd3786"
             ],
             [
              0.5555555555555556,
              "#d8576b"
             ],
             [
              0.6666666666666666,
              "#ed7953"
             ],
             [
              0.7777777777777778,
              "#fb9f3a"
             ],
             [
              0.8888888888888888,
              "#fdca26"
             ],
             [
              1,
              "#f0f921"
             ]
            ],
            "type": "histogram2dcontour"
           }
          ],
          "mesh3d": [
           {
            "colorbar": {
             "outlinewidth": 0,
             "ticks": ""
            },
            "type": "mesh3d"
           }
          ],
          "parcoords": [
           {
            "line": {
             "colorbar": {
              "outlinewidth": 0,
              "ticks": ""
             }
            },
            "type": "parcoords"
           }
          ],
          "pie": [
           {
            "automargin": true,
            "type": "pie"
           }
          ],
          "scatter": [
           {
            "fillpattern": {
             "fillmode": "overlay",
             "size": 10,
             "solidity": 0.2
            },
            "type": "scatter"
           }
          ],
          "scatter3d": [
           {
            "line": {
             "colorbar": {
              "outlinewidth": 0,
              "ticks": ""
             }
            },
            "marker": {
             "colorbar": {
              "outlinewidth": 0,
              "ticks": ""
             }
            },
            "type": "scatter3d"
           }
          ],
          "scattercarpet": [
           {
            "marker": {
             "colorbar": {
              "outlinewidth": 0,
              "ticks": ""
             }
            },
            "type": "scattercarpet"
           }
          ],
          "scattergeo": [
           {
            "marker": {
             "colorbar": {
              "outlinewidth": 0,
              "ticks": ""
             }
            },
            "type": "scattergeo"
           }
          ],
          "scattergl": [
           {
            "marker": {
             "colorbar": {
              "outlinewidth": 0,
              "ticks": ""
             }
            },
            "type": "scattergl"
           }
          ],
          "scattermapbox": [
           {
            "marker": {
             "colorbar": {
              "outlinewidth": 0,
              "ticks": ""
             }
            },
            "type": "scattermapbox"
           }
          ],
          "scatterpolar": [
           {
            "marker": {
             "colorbar": {
              "outlinewidth": 0,
              "ticks": ""
             }
            },
            "type": "scatterpolar"
           }
          ],
          "scatterpolargl": [
           {
            "marker": {
             "colorbar": {
              "outlinewidth": 0,
              "ticks": ""
             }
            },
            "type": "scatterpolargl"
           }
          ],
          "scatterternary": [
           {
            "marker": {
             "colorbar": {
              "outlinewidth": 0,
              "ticks": ""
             }
            },
            "type": "scatterternary"
           }
          ],
          "surface": [
           {
            "colorbar": {
             "outlinewidth": 0,
             "ticks": ""
            },
            "colorscale": [
             [
              0,
              "#0d0887"
             ],
             [
              0.1111111111111111,
              "#46039f"
             ],
             [
              0.2222222222222222,
              "#7201a8"
             ],
             [
              0.3333333333333333,
              "#9c179e"
             ],
             [
              0.4444444444444444,
              "#bd3786"
             ],
             [
              0.5555555555555556,
              "#d8576b"
             ],
             [
              0.6666666666666666,
              "#ed7953"
             ],
             [
              0.7777777777777778,
              "#fb9f3a"
             ],
             [
              0.8888888888888888,
              "#fdca26"
             ],
             [
              1,
              "#f0f921"
             ]
            ],
            "type": "surface"
           }
          ],
          "table": [
           {
            "cells": {
             "fill": {
              "color": "#EBF0F8"
             },
             "line": {
              "color": "white"
             }
            },
            "header": {
             "fill": {
              "color": "#C8D4E3"
             },
             "line": {
              "color": "white"
             }
            },
            "type": "table"
           }
          ]
         },
         "layout": {
          "annotationdefaults": {
           "arrowcolor": "#2a3f5f",
           "arrowhead": 0,
           "arrowwidth": 1
          },
          "autotypenumbers": "strict",
          "coloraxis": {
           "colorbar": {
            "outlinewidth": 0,
            "ticks": ""
           }
          },
          "colorscale": {
           "diverging": [
            [
             0,
             "#8e0152"
            ],
            [
             0.1,
             "#c51b7d"
            ],
            [
             0.2,
             "#de77ae"
            ],
            [
             0.3,
             "#f1b6da"
            ],
            [
             0.4,
             "#fde0ef"
            ],
            [
             0.5,
             "#f7f7f7"
            ],
            [
             0.6,
             "#e6f5d0"
            ],
            [
             0.7,
             "#b8e186"
            ],
            [
             0.8,
             "#7fbc41"
            ],
            [
             0.9,
             "#4d9221"
            ],
            [
             1,
             "#276419"
            ]
           ],
           "sequential": [
            [
             0,
             "#0d0887"
            ],
            [
             0.1111111111111111,
             "#46039f"
            ],
            [
             0.2222222222222222,
             "#7201a8"
            ],
            [
             0.3333333333333333,
             "#9c179e"
            ],
            [
             0.4444444444444444,
             "#bd3786"
            ],
            [
             0.5555555555555556,
             "#d8576b"
            ],
            [
             0.6666666666666666,
             "#ed7953"
            ],
            [
             0.7777777777777778,
             "#fb9f3a"
            ],
            [
             0.8888888888888888,
             "#fdca26"
            ],
            [
             1,
             "#f0f921"
            ]
           ],
           "sequentialminus": [
            [
             0,
             "#0d0887"
            ],
            [
             0.1111111111111111,
             "#46039f"
            ],
            [
             0.2222222222222222,
             "#7201a8"
            ],
            [
             0.3333333333333333,
             "#9c179e"
            ],
            [
             0.4444444444444444,
             "#bd3786"
            ],
            [
             0.5555555555555556,
             "#d8576b"
            ],
            [
             0.6666666666666666,
             "#ed7953"
            ],
            [
             0.7777777777777778,
             "#fb9f3a"
            ],
            [
             0.8888888888888888,
             "#fdca26"
            ],
            [
             1,
             "#f0f921"
            ]
           ]
          },
          "colorway": [
           "#636efa",
           "#EF553B",
           "#00cc96",
           "#ab63fa",
           "#FFA15A",
           "#19d3f3",
           "#FF6692",
           "#B6E880",
           "#FF97FF",
           "#FECB52"
          ],
          "font": {
           "color": "#2a3f5f"
          },
          "geo": {
           "bgcolor": "white",
           "lakecolor": "white",
           "landcolor": "#E5ECF6",
           "showlakes": true,
           "showland": true,
           "subunitcolor": "white"
          },
          "hoverlabel": {
           "align": "left"
          },
          "hovermode": "closest",
          "mapbox": {
           "style": "light"
          },
          "paper_bgcolor": "white",
          "plot_bgcolor": "#E5ECF6",
          "polar": {
           "angularaxis": {
            "gridcolor": "white",
            "linecolor": "white",
            "ticks": ""
           },
           "bgcolor": "#E5ECF6",
           "radialaxis": {
            "gridcolor": "white",
            "linecolor": "white",
            "ticks": ""
           }
          },
          "scene": {
           "xaxis": {
            "backgroundcolor": "#E5ECF6",
            "gridcolor": "white",
            "gridwidth": 2,
            "linecolor": "white",
            "showbackground": true,
            "ticks": "",
            "zerolinecolor": "white"
           },
           "yaxis": {
            "backgroundcolor": "#E5ECF6",
            "gridcolor": "white",
            "gridwidth": 2,
            "linecolor": "white",
            "showbackground": true,
            "ticks": "",
            "zerolinecolor": "white"
           },
           "zaxis": {
            "backgroundcolor": "#E5ECF6",
            "gridcolor": "white",
            "gridwidth": 2,
            "linecolor": "white",
            "showbackground": true,
            "ticks": "",
            "zerolinecolor": "white"
           }
          },
          "shapedefaults": {
           "line": {
            "color": "#2a3f5f"
           }
          },
          "ternary": {
           "aaxis": {
            "gridcolor": "white",
            "linecolor": "white",
            "ticks": ""
           },
           "baxis": {
            "gridcolor": "white",
            "linecolor": "white",
            "ticks": ""
           },
           "bgcolor": "#E5ECF6",
           "caxis": {
            "gridcolor": "white",
            "linecolor": "white",
            "ticks": ""
           }
          },
          "title": {
           "x": 0.05
          },
          "xaxis": {
           "automargin": true,
           "gridcolor": "white",
           "linecolor": "white",
           "ticks": "",
           "title": {
            "standoff": 15
           },
           "zerolinecolor": "white",
           "zerolinewidth": 2
          },
          "yaxis": {
           "automargin": true,
           "gridcolor": "white",
           "linecolor": "white",
           "ticks": "",
           "title": {
            "standoff": 15
           },
           "zerolinecolor": "white",
           "zerolinewidth": 2
          }
         }
        },
        "width": 2000,
        "xaxis": {
         "anchor": "y",
         "domain": [
          0,
          0.45
         ]
        },
        "xaxis2": {
         "anchor": "y2",
         "domain": [
          0.55,
          1
         ]
        },
        "xaxis3": {
         "anchor": "y3",
         "domain": [
          0,
          0.45
         ]
        },
        "xaxis4": {
         "anchor": "y4",
         "domain": [
          0.55,
          1
         ]
        },
        "yaxis": {
         "anchor": "x",
         "domain": [
          0.575,
          1
         ]
        },
        "yaxis2": {
         "anchor": "x2",
         "domain": [
          0.575,
          1
         ]
        },
        "yaxis3": {
         "anchor": "x3",
         "domain": [
          0,
          0.425
         ]
        },
        "yaxis4": {
         "anchor": "x4",
         "domain": [
          0,
          0.425
         ]
        }
       }
      }
     },
     "metadata": {},
     "output_type": "display_data"
    },
    {
     "data": {
      "application/vnd.plotly.v1+json": {
       "config": {
        "plotlyServerURL": "https://plot.ly"
       },
       "data": [
        {
         "line": {
          "color": "mintcream"
         },
         "mode": "lines+markers",
         "name": "Channel 0 spectrum",
         "type": "scatter",
         "x": [
          0,
          1,
          2,
          3,
          4,
          5,
          6,
          7,
          8,
          9,
          10,
          11,
          12,
          13,
          14,
          15,
          16,
          17,
          18,
          19,
          20,
          21,
          22,
          23,
          24,
          25,
          26,
          27,
          28,
          29,
          30,
          31,
          32,
          33,
          34,
          35,
          36,
          37,
          38,
          39,
          40,
          41,
          42,
          43,
          44,
          45,
          46,
          47,
          48,
          49,
          50
         ],
         "xaxis": "x",
         "y": [
          0,
          0,
          0,
          0,
          0,
          0,
          0,
          0,
          0,
          0,
          0,
          0,
          0,
          0,
          0,
          0,
          0,
          0,
          0,
          0,
          0,
          0,
          0,
          0,
          0,
          0,
          0,
          0,
          0,
          0,
          0,
          0,
          0,
          0,
          0,
          0,
          0,
          0,
          0,
          0,
          0,
          0,
          0,
          0,
          0,
          0,
          0,
          0,
          0,
          0,
          0
         ],
         "yaxis": "y"
        },
        {
         "line": {
          "color": "mistyrose"
         },
         "mode": "lines+markers",
         "name": "Channel 1 spectrum",
         "type": "scatter",
         "x": [
          0,
          1,
          2,
          3,
          4,
          5,
          6,
          7,
          8,
          9,
          10,
          11,
          12,
          13,
          14,
          15,
          16,
          17,
          18,
          19,
          20,
          21,
          22,
          23,
          24,
          25,
          26,
          27,
          28,
          29,
          30,
          31,
          32,
          33,
          34,
          35,
          36,
          37,
          38,
          39,
          40,
          41,
          42,
          43,
          44,
          45,
          46,
          47,
          48,
          49,
          50
         ],
         "xaxis": "x4",
         "y": [
          0,
          0,
          0,
          0,
          0,
          0,
          0,
          0,
          0,
          0,
          0,
          0,
          0,
          0,
          0,
          0,
          0,
          0,
          0,
          0,
          0,
          0,
          0,
          0,
          0,
          0,
          0,
          0,
          0,
          0,
          0,
          0,
          0,
          0,
          0,
          0,
          0,
          0,
          0,
          0,
          0,
          0,
          0,
          0,
          0,
          0,
          0,
          0,
          0,
          0,
          0
         ],
         "yaxis": "y4"
        },
        {
         "line": {
          "color": "indigo"
         },
         "mode": "lines+markers",
         "name": "Channel 2 spectrum",
         "type": "scatter",
         "x": [
          0,
          1,
          2,
          3,
          4,
          5,
          6,
          7,
          8,
          9,
          10,
          11,
          12,
          13,
          14,
          15,
          16,
          17,
          18,
          19,
          20,
          21,
          22,
          23,
          24,
          25,
          26,
          27,
          28,
          29,
          30,
          31,
          32,
          33,
          34,
          35,
          36,
          37,
          38,
          39,
          40,
          41,
          42,
          43,
          44,
          45,
          46,
          47,
          48,
          49,
          50
         ],
         "xaxis": "x7",
         "y": [
          0,
          0,
          0,
          0,
          0,
          0,
          0,
          0,
          0,
          0,
          0,
          0,
          0,
          0,
          0,
          0,
          0,
          0,
          0,
          0,
          0,
          0,
          0,
          0,
          0,
          0,
          0,
          0,
          0,
          0,
          0,
          0,
          0,
          0,
          0,
          0,
          0,
          0,
          0,
          0,
          0,
          0,
          0,
          0,
          0,
          0,
          0,
          0,
          0,
          0,
          0
         ],
         "yaxis": "y7"
        },
        {
         "line": {
          "color": "palevioletred"
         },
         "mode": "lines+markers",
         "name": "Channel 3 spectrum",
         "type": "scatter",
         "x": [
          0,
          1,
          2,
          3,
          4,
          5,
          6,
          7,
          8,
          9,
          10,
          11,
          12,
          13,
          14,
          15,
          16,
          17,
          18,
          19,
          20,
          21,
          22,
          23,
          24,
          25,
          26,
          27,
          28,
          29,
          30,
          31,
          32,
          33,
          34,
          35,
          36,
          37,
          38,
          39,
          40,
          41,
          42,
          43,
          44,
          45,
          46,
          47,
          48,
          49,
          50
         ],
         "xaxis": "x10",
         "y": [
          0,
          0,
          0,
          0,
          0,
          0,
          0,
          0,
          0,
          0,
          0,
          0,
          0,
          0,
          0,
          0,
          0,
          0,
          0,
          0,
          0,
          0,
          0,
          0,
          0,
          0,
          0,
          0,
          0,
          0,
          0,
          0,
          0,
          0,
          0,
          0,
          0,
          0,
          0,
          0,
          0,
          0,
          0,
          0,
          0,
          0,
          0,
          0,
          0,
          0,
          0
         ],
         "yaxis": "y10"
        },
        {
         "line": {
          "color": "darkcyan"
         },
         "mode": "lines+markers",
         "name": "Channel 4 spectrum",
         "type": "scatter",
         "x": [
          0,
          1,
          2,
          3,
          4,
          5,
          6,
          7,
          8,
          9,
          10,
          11,
          12,
          13,
          14,
          15,
          16,
          17,
          18,
          19,
          20,
          21,
          22,
          23,
          24,
          25,
          26,
          27,
          28,
          29,
          30,
          31,
          32,
          33,
          34,
          35,
          36,
          37,
          38,
          39,
          40,
          41,
          42,
          43,
          44,
          45,
          46,
          47,
          48,
          49,
          50
         ],
         "xaxis": "x13",
         "y": [
          0,
          0,
          0,
          0,
          0,
          0,
          0,
          0,
          0,
          0,
          0,
          0,
          0,
          0,
          0,
          0,
          0,
          0,
          0,
          0,
          0,
          0,
          0,
          0,
          0,
          0,
          0,
          0,
          0,
          0,
          0,
          0,
          0,
          0,
          0,
          0,
          0,
          0,
          0,
          0,
          0,
          0,
          0,
          0,
          0,
          0,
          0,
          0,
          0,
          0,
          0
         ],
         "yaxis": "y13"
        },
        {
         "line": {
          "color": "lightslategray"
         },
         "mode": "lines+markers",
         "name": "Channel 5 spectrum",
         "type": "scatter",
         "x": [
          0,
          1,
          2,
          3,
          4,
          5,
          6,
          7,
          8,
          9,
          10,
          11,
          12,
          13,
          14,
          15,
          16,
          17,
          18,
          19,
          20,
          21,
          22,
          23,
          24,
          25,
          26,
          27,
          28,
          29,
          30,
          31,
          32,
          33,
          34,
          35,
          36,
          37,
          38,
          39,
          40,
          41,
          42,
          43,
          44,
          45,
          46,
          47,
          48,
          49,
          50
         ],
         "xaxis": "x16",
         "y": [
          0,
          0,
          0,
          0,
          0,
          0,
          0,
          0,
          0,
          0,
          0,
          0,
          0,
          0,
          0,
          0,
          0,
          0,
          0,
          0,
          0,
          0,
          0,
          0,
          0,
          0,
          0,
          0,
          0,
          0,
          0,
          0,
          0,
          0,
          0,
          0,
          0,
          0,
          0,
          0,
          0,
          0,
          0,
          0,
          0,
          0,
          0,
          0,
          0,
          0,
          0
         ],
         "yaxis": "y16"
        },
        {
         "line": {
          "color": "mediumvioletred"
         },
         "mode": "lines+markers",
         "name": "Channel 6 spectrum",
         "type": "scatter",
         "x": [
          0,
          1,
          2,
          3,
          4,
          5,
          6,
          7,
          8,
          9,
          10,
          11,
          12,
          13,
          14,
          15,
          16,
          17,
          18,
          19,
          20,
          21,
          22,
          23,
          24,
          25,
          26,
          27,
          28,
          29,
          30,
          31,
          32,
          33,
          34,
          35,
          36,
          37,
          38,
          39,
          40,
          41,
          42,
          43,
          44,
          45,
          46,
          47,
          48,
          49,
          50
         ],
         "xaxis": "x19",
         "y": [
          0,
          0,
          0,
          0,
          0,
          0,
          0,
          0,
          0,
          0,
          0,
          0,
          0,
          0,
          0,
          0,
          0,
          0,
          0,
          0,
          0,
          0,
          0,
          0,
          0,
          0,
          0,
          0,
          0,
          0,
          0,
          0,
          0,
          0,
          0,
          0,
          0,
          0,
          0,
          0,
          0,
          0,
          0,
          0,
          0,
          0,
          0,
          0,
          0,
          0,
          0
         ],
         "yaxis": "y19"
        },
        {
         "line": {
          "color": "pink"
         },
         "mode": "lines+markers",
         "name": "Channel 7 spectrum",
         "type": "scatter",
         "x": [
          0,
          1,
          2,
          3,
          4,
          5,
          6,
          7,
          8,
          9,
          10,
          11,
          12,
          13,
          14,
          15,
          16,
          17,
          18,
          19,
          20,
          21,
          22,
          23,
          24,
          25,
          26,
          27,
          28,
          29,
          30,
          31,
          32,
          33,
          34,
          35,
          36,
          37,
          38,
          39,
          40,
          41,
          42,
          43,
          44,
          45,
          46,
          47,
          48,
          49,
          50
         ],
         "xaxis": "x22",
         "y": [
          0,
          0,
          0,
          0,
          0,
          0,
          0,
          0,
          0,
          0,
          0,
          0,
          0,
          0,
          0,
          0,
          0,
          0,
          0,
          0,
          0,
          0,
          0,
          0,
          0,
          0,
          0,
          0,
          0,
          0,
          0,
          0,
          0,
          0,
          0,
          0,
          0,
          0,
          0,
          0,
          0,
          0,
          0,
          0,
          0,
          0,
          0,
          0,
          0,
          0,
          0
         ],
         "yaxis": "y22"
        },
        {
         "line": {
          "color": "lightcyan"
         },
         "mode": "lines+markers",
         "name": "Channel 8 spectrum",
         "type": "scatter",
         "x": [
          0,
          1,
          2,
          3,
          4,
          5,
          6,
          7,
          8,
          9,
          10,
          11,
          12,
          13,
          14,
          15,
          16,
          17,
          18,
          19,
          20,
          21,
          22,
          23,
          24,
          25,
          26,
          27,
          28,
          29,
          30,
          31,
          32,
          33,
          34,
          35,
          36,
          37,
          38,
          39,
          40,
          41,
          42,
          43,
          44,
          45,
          46,
          47,
          48,
          49,
          50
         ],
         "xaxis": "x25",
         "y": [
          0.7,
          0.569363789643034,
          0.5753494493795024,
          0.5437450999921648,
          0.6641131838200472,
          0.568262875778211,
          0.5246315806579165,
          0.4948931162724071,
          0.5698132391927837,
          0.5734762170760584,
          0.6477456727115183,
          0.6618996727589598,
          0.617120371625216,
          0.5849748448838469,
          0.5305691246050795,
          0.5577458956391211,
          0.5770501345403183,
          0.5560040186478676,
          0.6078450334538009,
          0.5833032381636474,
          0.5542887947428666,
          0.5870019727469619,
          0.6147038257814746,
          0.5548668270001518,
          0.6231738255856685,
          0.5399999999999998,
          0.5896509971652882,
          0.5745741772110408,
          0.5862159693591745,
          0.6569072450910042,
          0.6026819588170056,
          0.4781664300490603,
          0.5511036652942907,
          0.6279210427038877,
          0.5676472797051435,
          0.5952050487476669,
          0.49039241964714997,
          0.6688841061886864,
          0.6305241558146055,
          0.5733707963137727,
          0.5502398858884189,
          0.6283179029941902,
          0.5378621836940544,
          0.6443755278052408,
          0.5501493826279709,
          0.542335477223535,
          0.5367742255711608,
          0.5025201808453381,
          0.6013177551746363,
          0.6759831631554009,
          0.62
         ],
         "yaxis": "y25"
        },
        {
         "marker": {
          "color": "mintcream"
         },
         "name": "Channel 0 frequency bins",
         "type": "bar",
         "x": [
          "0-1 Hz",
          "1-4 Hz",
          "4-8 Hz",
          "8-12 Hz",
          "12-30 Hz",
          "30-50 Hz"
         ],
         "xaxis": "x2",
         "y": [
          0,
          0,
          0,
          0,
          0,
          0
         ],
         "yaxis": "y2"
        },
        {
         "marker": {
          "color": "mistyrose"
         },
         "name": "Channel 1 frequency bins",
         "type": "bar",
         "x": [
          "0-1 Hz",
          "1-4 Hz",
          "4-8 Hz",
          "8-12 Hz",
          "12-30 Hz",
          "30-50 Hz"
         ],
         "xaxis": "x5",
         "y": [
          0,
          0,
          0,
          0,
          0,
          0
         ],
         "yaxis": "y5"
        },
        {
         "marker": {
          "color": "indigo"
         },
         "name": "Channel 2 frequency bins",
         "type": "bar",
         "x": [
          "0-1 Hz",
          "1-4 Hz",
          "4-8 Hz",
          "8-12 Hz",
          "12-30 Hz",
          "30-50 Hz"
         ],
         "xaxis": "x8",
         "y": [
          0,
          0,
          0,
          0,
          0,
          0
         ],
         "yaxis": "y8"
        },
        {
         "marker": {
          "color": "palevioletred"
         },
         "name": "Channel 3 frequency bins",
         "type": "bar",
         "x": [
          "0-1 Hz",
          "1-4 Hz",
          "4-8 Hz",
          "8-12 Hz",
          "12-30 Hz",
          "30-50 Hz"
         ],
         "xaxis": "x11",
         "y": [
          0,
          0,
          0,
          0,
          0,
          0
         ],
         "yaxis": "y11"
        },
        {
         "marker": {
          "color": "darkcyan"
         },
         "name": "Channel 4 frequency bins",
         "type": "bar",
         "x": [
          "0-1 Hz",
          "1-4 Hz",
          "4-8 Hz",
          "8-12 Hz",
          "12-30 Hz",
          "30-50 Hz"
         ],
         "xaxis": "x14",
         "y": [
          0,
          0,
          0,
          0,
          0,
          0
         ],
         "yaxis": "y14"
        },
        {
         "marker": {
          "color": "lightslategray"
         },
         "name": "Channel 5 frequency bins",
         "type": "bar",
         "x": [
          "0-1 Hz",
          "1-4 Hz",
          "4-8 Hz",
          "8-12 Hz",
          "12-30 Hz",
          "30-50 Hz"
         ],
         "xaxis": "x17",
         "y": [
          0,
          0,
          0,
          0,
          0,
          0
         ],
         "yaxis": "y17"
        },
        {
         "marker": {
          "color": "mediumvioletred"
         },
         "name": "Channel 6 frequency bins",
         "type": "bar",
         "x": [
          "0-1 Hz",
          "1-4 Hz",
          "4-8 Hz",
          "8-12 Hz",
          "12-30 Hz",
          "30-50 Hz"
         ],
         "xaxis": "x20",
         "y": [
          0,
          0,
          0,
          0,
          0,
          0
         ],
         "yaxis": "y20"
        },
        {
         "marker": {
          "color": "pink"
         },
         "name": "Channel 7 frequency bins",
         "type": "bar",
         "x": [
          "0-1 Hz",
          "1-4 Hz",
          "4-8 Hz",
          "8-12 Hz",
          "12-30 Hz",
          "30-50 Hz"
         ],
         "xaxis": "x23",
         "y": [
          0,
          0,
          0,
          0,
          0,
          0
         ],
         "yaxis": "y23"
        },
        {
         "marker": {
          "color": "lightcyan"
         },
         "name": "Channel 8 frequency bins",
         "type": "bar",
         "x": [
          "0-1 Hz",
          "1-4 Hz",
          "4-8 Hz",
          "8-12 Hz",
          "12-30 Hz",
          "30-50 Hz"
         ],
         "xaxis": "x26",
         "y": [
          0.7,
          0.5628194463382337,
          0.5629751891321455,
          0.61323370043483,
          0.5831109053468071,
          0.5777886294130608
         ],
         "yaxis": "y26"
        },
        {
         "line": {
          "color": "mintcream"
         },
         "mode": "lines+markers",
         "name": "Channel 0 raw signal",
         "type": "scatter",
         "x": [
          0,
          1,
          2,
          3,
          4,
          5,
          6,
          7,
          8,
          9,
          10,
          11,
          12,
          13,
          14,
          15,
          16,
          17,
          18,
          19,
          20,
          21,
          22,
          23,
          24,
          25,
          26,
          27,
          28,
          29,
          30,
          31,
          32,
          33,
          34,
          35,
          36,
          37,
          38,
          39,
          40,
          41,
          42,
          43,
          44,
          45,
          46,
          47,
          48,
          49,
          50,
          51,
          52,
          53,
          54,
          55,
          56,
          57,
          58,
          59,
          60,
          61,
          62,
          63,
          64,
          65,
          66,
          67,
          68,
          69,
          70,
          71,
          72,
          73,
          74,
          75,
          76,
          77,
          78,
          79,
          80,
          81,
          82,
          83,
          84,
          85,
          86,
          87,
          88,
          89,
          90,
          91,
          92,
          93,
          94,
          95,
          96,
          97,
          98,
          99
         ],
         "xaxis": "x3",
         "y": [
          0,
          0,
          0,
          0,
          0,
          0,
          0,
          0,
          0,
          0,
          0,
          0,
          0,
          0,
          0,
          0,
          0,
          0,
          0,
          0,
          0,
          0,
          0,
          0,
          0,
          0,
          0,
          0,
          0,
          0,
          0,
          0,
          0,
          0,
          0,
          0,
          0,
          0,
          0,
          0,
          0,
          0,
          0,
          0,
          0,
          0,
          0,
          0,
          0,
          0,
          0,
          0,
          0,
          0,
          0,
          0,
          0,
          0,
          0,
          0,
          0,
          0,
          0,
          0,
          0,
          0,
          0,
          0,
          0,
          0,
          0,
          0,
          0,
          0,
          0,
          0,
          0,
          0,
          0,
          0,
          0,
          0,
          0,
          0,
          0,
          0,
          0,
          0,
          0,
          0,
          0,
          0,
          0,
          0,
          0,
          0,
          0,
          0,
          0,
          0
         ],
         "yaxis": "y3"
        },
        {
         "line": {
          "color": "mistyrose"
         },
         "mode": "lines+markers",
         "name": "Channel 1 raw signal",
         "type": "scatter",
         "x": [
          0,
          1,
          2,
          3,
          4,
          5,
          6,
          7,
          8,
          9,
          10,
          11,
          12,
          13,
          14,
          15,
          16,
          17,
          18,
          19,
          20,
          21,
          22,
          23,
          24,
          25,
          26,
          27,
          28,
          29,
          30,
          31,
          32,
          33,
          34,
          35,
          36,
          37,
          38,
          39,
          40,
          41,
          42,
          43,
          44,
          45,
          46,
          47,
          48,
          49,
          50,
          51,
          52,
          53,
          54,
          55,
          56,
          57,
          58,
          59,
          60,
          61,
          62,
          63,
          64,
          65,
          66,
          67,
          68,
          69,
          70,
          71,
          72,
          73,
          74,
          75,
          76,
          77,
          78,
          79,
          80,
          81,
          82,
          83,
          84,
          85,
          86,
          87,
          88,
          89,
          90,
          91,
          92,
          93,
          94,
          95,
          96,
          97,
          98,
          99
         ],
         "xaxis": "x6",
         "y": [
          0,
          0,
          0,
          0,
          0,
          0,
          0,
          0,
          0,
          0,
          0,
          0,
          0,
          0,
          0,
          0,
          0,
          0,
          0,
          0,
          0,
          0,
          0,
          0,
          0,
          0,
          0,
          0,
          0,
          0,
          0,
          0,
          0,
          0,
          0,
          0,
          0,
          0,
          0,
          0,
          0,
          0,
          0,
          0,
          0,
          0,
          0,
          0,
          0,
          0,
          0,
          0,
          0,
          0,
          0,
          0,
          0,
          0,
          0,
          0,
          0,
          0,
          0,
          0,
          0,
          0,
          0,
          0,
          0,
          0,
          0,
          0,
          0,
          0,
          0,
          0,
          0,
          0,
          0,
          0,
          0,
          0,
          0,
          0,
          0,
          0,
          0,
          0,
          0,
          0,
          0,
          0,
          0,
          0,
          0,
          0,
          0,
          0,
          0,
          0
         ],
         "yaxis": "y6"
        },
        {
         "line": {
          "color": "indigo"
         },
         "mode": "lines+markers",
         "name": "Channel 2 raw signal",
         "type": "scatter",
         "x": [
          0,
          1,
          2,
          3,
          4,
          5,
          6,
          7,
          8,
          9,
          10,
          11,
          12,
          13,
          14,
          15,
          16,
          17,
          18,
          19,
          20,
          21,
          22,
          23,
          24,
          25,
          26,
          27,
          28,
          29,
          30,
          31,
          32,
          33,
          34,
          35,
          36,
          37,
          38,
          39,
          40,
          41,
          42,
          43,
          44,
          45,
          46,
          47,
          48,
          49,
          50,
          51,
          52,
          53,
          54,
          55,
          56,
          57,
          58,
          59,
          60,
          61,
          62,
          63,
          64,
          65,
          66,
          67,
          68,
          69,
          70,
          71,
          72,
          73,
          74,
          75,
          76,
          77,
          78,
          79,
          80,
          81,
          82,
          83,
          84,
          85,
          86,
          87,
          88,
          89,
          90,
          91,
          92,
          93,
          94,
          95,
          96,
          97,
          98,
          99
         ],
         "xaxis": "x9",
         "y": [
          0,
          0,
          0,
          0,
          0,
          0,
          0,
          0,
          0,
          0,
          0,
          0,
          0,
          0,
          0,
          0,
          0,
          0,
          0,
          0,
          0,
          0,
          0,
          0,
          0,
          0,
          0,
          0,
          0,
          0,
          0,
          0,
          0,
          0,
          0,
          0,
          0,
          0,
          0,
          0,
          0,
          0,
          0,
          0,
          0,
          0,
          0,
          0,
          0,
          0,
          0,
          0,
          0,
          0,
          0,
          0,
          0,
          0,
          0,
          0,
          0,
          0,
          0,
          0,
          0,
          0,
          0,
          0,
          0,
          0,
          0,
          0,
          0,
          0,
          0,
          0,
          0,
          0,
          0,
          0,
          0,
          0,
          0,
          0,
          0,
          0,
          0,
          0,
          0,
          0,
          0,
          0,
          0,
          0,
          0,
          0,
          0,
          0,
          0,
          0
         ],
         "yaxis": "y9"
        },
        {
         "line": {
          "color": "palevioletred"
         },
         "mode": "lines+markers",
         "name": "Channel 3 raw signal",
         "type": "scatter",
         "x": [
          0,
          1,
          2,
          3,
          4,
          5,
          6,
          7,
          8,
          9,
          10,
          11,
          12,
          13,
          14,
          15,
          16,
          17,
          18,
          19,
          20,
          21,
          22,
          23,
          24,
          25,
          26,
          27,
          28,
          29,
          30,
          31,
          32,
          33,
          34,
          35,
          36,
          37,
          38,
          39,
          40,
          41,
          42,
          43,
          44,
          45,
          46,
          47,
          48,
          49,
          50,
          51,
          52,
          53,
          54,
          55,
          56,
          57,
          58,
          59,
          60,
          61,
          62,
          63,
          64,
          65,
          66,
          67,
          68,
          69,
          70,
          71,
          72,
          73,
          74,
          75,
          76,
          77,
          78,
          79,
          80,
          81,
          82,
          83,
          84,
          85,
          86,
          87,
          88,
          89,
          90,
          91,
          92,
          93,
          94,
          95,
          96,
          97,
          98,
          99
         ],
         "xaxis": "x12",
         "y": [
          0,
          0,
          0,
          0,
          0,
          0,
          0,
          0,
          0,
          0,
          0,
          0,
          0,
          0,
          0,
          0,
          0,
          0,
          0,
          0,
          0,
          0,
          0,
          0,
          0,
          0,
          0,
          0,
          0,
          0,
          0,
          0,
          0,
          0,
          0,
          0,
          0,
          0,
          0,
          0,
          0,
          0,
          0,
          0,
          0,
          0,
          0,
          0,
          0,
          0,
          0,
          0,
          0,
          0,
          0,
          0,
          0,
          0,
          0,
          0,
          0,
          0,
          0,
          0,
          0,
          0,
          0,
          0,
          0,
          0,
          0,
          0,
          0,
          0,
          0,
          0,
          0,
          0,
          0,
          0,
          0,
          0,
          0,
          0,
          0,
          0,
          0,
          0,
          0,
          0,
          0,
          0,
          0,
          0,
          0,
          0,
          0,
          0,
          0,
          0
         ],
         "yaxis": "y12"
        },
        {
         "line": {
          "color": "darkcyan"
         },
         "mode": "lines+markers",
         "name": "Channel 4 raw signal",
         "type": "scatter",
         "x": [
          0,
          1,
          2,
          3,
          4,
          5,
          6,
          7,
          8,
          9,
          10,
          11,
          12,
          13,
          14,
          15,
          16,
          17,
          18,
          19,
          20,
          21,
          22,
          23,
          24,
          25,
          26,
          27,
          28,
          29,
          30,
          31,
          32,
          33,
          34,
          35,
          36,
          37,
          38,
          39,
          40,
          41,
          42,
          43,
          44,
          45,
          46,
          47,
          48,
          49,
          50,
          51,
          52,
          53,
          54,
          55,
          56,
          57,
          58,
          59,
          60,
          61,
          62,
          63,
          64,
          65,
          66,
          67,
          68,
          69,
          70,
          71,
          72,
          73,
          74,
          75,
          76,
          77,
          78,
          79,
          80,
          81,
          82,
          83,
          84,
          85,
          86,
          87,
          88,
          89,
          90,
          91,
          92,
          93,
          94,
          95,
          96,
          97,
          98,
          99
         ],
         "xaxis": "x15",
         "y": [
          0,
          0,
          0,
          0,
          0,
          0,
          0,
          0,
          0,
          0,
          0,
          0,
          0,
          0,
          0,
          0,
          0,
          0,
          0,
          0,
          0,
          0,
          0,
          0,
          0,
          0,
          0,
          0,
          0,
          0,
          0,
          0,
          0,
          0,
          0,
          0,
          0,
          0,
          0,
          0,
          0,
          0,
          0,
          0,
          0,
          0,
          0,
          0,
          0,
          0,
          0,
          0,
          0,
          0,
          0,
          0,
          0,
          0,
          0,
          0,
          0,
          0,
          0,
          0,
          0,
          0,
          0,
          0,
          0,
          0,
          0,
          0,
          0,
          0,
          0,
          0,
          0,
          0,
          0,
          0,
          0,
          0,
          0,
          0,
          0,
          0,
          0,
          0,
          0,
          0,
          0,
          0,
          0,
          0,
          0,
          0,
          0,
          0,
          0,
          0
         ],
         "yaxis": "y15"
        },
        {
         "line": {
          "color": "lightslategray"
         },
         "mode": "lines+markers",
         "name": "Channel 5 raw signal",
         "type": "scatter",
         "x": [
          0,
          1,
          2,
          3,
          4,
          5,
          6,
          7,
          8,
          9,
          10,
          11,
          12,
          13,
          14,
          15,
          16,
          17,
          18,
          19,
          20,
          21,
          22,
          23,
          24,
          25,
          26,
          27,
          28,
          29,
          30,
          31,
          32,
          33,
          34,
          35,
          36,
          37,
          38,
          39,
          40,
          41,
          42,
          43,
          44,
          45,
          46,
          47,
          48,
          49,
          50,
          51,
          52,
          53,
          54,
          55,
          56,
          57,
          58,
          59,
          60,
          61,
          62,
          63,
          64,
          65,
          66,
          67,
          68,
          69,
          70,
          71,
          72,
          73,
          74,
          75,
          76,
          77,
          78,
          79,
          80,
          81,
          82,
          83,
          84,
          85,
          86,
          87,
          88,
          89,
          90,
          91,
          92,
          93,
          94,
          95,
          96,
          97,
          98,
          99
         ],
         "xaxis": "x18",
         "y": [
          0,
          0,
          0,
          0,
          0,
          0,
          0,
          0,
          0,
          0,
          0,
          0,
          0,
          0,
          0,
          0,
          0,
          0,
          0,
          0,
          0,
          0,
          0,
          0,
          0,
          0,
          0,
          0,
          0,
          0,
          0,
          0,
          0,
          0,
          0,
          0,
          0,
          0,
          0,
          0,
          0,
          0,
          0,
          0,
          0,
          0,
          0,
          0,
          0,
          0,
          0,
          0,
          0,
          0,
          0,
          0,
          0,
          0,
          0,
          0,
          0,
          0,
          0,
          0,
          0,
          0,
          0,
          0,
          0,
          0,
          0,
          0,
          0,
          0,
          0,
          0,
          0,
          0,
          0,
          0,
          0,
          0,
          0,
          0,
          0,
          0,
          0,
          0,
          0,
          0,
          0,
          0,
          0,
          0,
          0,
          0,
          0,
          0,
          0,
          0
         ],
         "yaxis": "y18"
        },
        {
         "line": {
          "color": "mediumvioletred"
         },
         "mode": "lines+markers",
         "name": "Channel 6 raw signal",
         "type": "scatter",
         "x": [
          0,
          1,
          2,
          3,
          4,
          5,
          6,
          7,
          8,
          9,
          10,
          11,
          12,
          13,
          14,
          15,
          16,
          17,
          18,
          19,
          20,
          21,
          22,
          23,
          24,
          25,
          26,
          27,
          28,
          29,
          30,
          31,
          32,
          33,
          34,
          35,
          36,
          37,
          38,
          39,
          40,
          41,
          42,
          43,
          44,
          45,
          46,
          47,
          48,
          49,
          50,
          51,
          52,
          53,
          54,
          55,
          56,
          57,
          58,
          59,
          60,
          61,
          62,
          63,
          64,
          65,
          66,
          67,
          68,
          69,
          70,
          71,
          72,
          73,
          74,
          75,
          76,
          77,
          78,
          79,
          80,
          81,
          82,
          83,
          84,
          85,
          86,
          87,
          88,
          89,
          90,
          91,
          92,
          93,
          94,
          95,
          96,
          97,
          98,
          99
         ],
         "xaxis": "x21",
         "y": [
          0,
          0,
          0,
          0,
          0,
          0,
          0,
          0,
          0,
          0,
          0,
          0,
          0,
          0,
          0,
          0,
          0,
          0,
          0,
          0,
          0,
          0,
          0,
          0,
          0,
          0,
          0,
          0,
          0,
          0,
          0,
          0,
          0,
          0,
          0,
          0,
          0,
          0,
          0,
          0,
          0,
          0,
          0,
          0,
          0,
          0,
          0,
          0,
          0,
          0,
          0,
          0,
          0,
          0,
          0,
          0,
          0,
          0,
          0,
          0,
          0,
          0,
          0,
          0,
          0,
          0,
          0,
          0,
          0,
          0,
          0,
          0,
          0,
          0,
          0,
          0,
          0,
          0,
          0,
          0,
          0,
          0,
          0,
          0,
          0,
          0,
          0,
          0,
          0,
          0,
          0,
          0,
          0,
          0,
          0,
          0,
          0,
          0,
          0,
          0
         ],
         "yaxis": "y21"
        },
        {
         "line": {
          "color": "pink"
         },
         "mode": "lines+markers",
         "name": "Channel 7 raw signal",
         "type": "scatter",
         "x": [
          0,
          1,
          2,
          3,
          4,
          5,
          6,
          7,
          8,
          9,
          10,
          11,
          12,
          13,
          14,
          15,
          16,
          17,
          18,
          19,
          20,
          21,
          22,
          23,
          24,
          25,
          26,
          27,
          28,
          29,
          30,
          31,
          32,
          33,
          34,
          35,
          36,
          37,
          38,
          39,
          40,
          41,
          42,
          43,
          44,
          45,
          46,
          47,
          48,
          49,
          50,
          51,
          52,
          53,
          54,
          55,
          56,
          57,
          58,
          59,
          60,
          61,
          62,
          63,
          64,
          65,
          66,
          67,
          68,
          69,
          70,
          71,
          72,
          73,
          74,
          75,
          76,
          77,
          78,
          79,
          80,
          81,
          82,
          83,
          84,
          85,
          86,
          87,
          88,
          89,
          90,
          91,
          92,
          93,
          94,
          95,
          96,
          97,
          98,
          99
         ],
         "xaxis": "x24",
         "y": [
          0,
          0,
          0,
          0,
          0,
          0,
          0,
          0,
          0,
          0,
          0,
          0,
          0,
          0,
          0,
          0,
          0,
          0,
          0,
          0,
          0,
          0,
          0,
          0,
          0,
          0,
          0,
          0,
          0,
          0,
          0,
          0,
          0,
          0,
          0,
          0,
          0,
          0,
          0,
          0,
          0,
          0,
          0,
          0,
          0,
          0,
          0,
          0,
          0,
          0,
          0,
          0,
          0,
          0,
          0,
          0,
          0,
          0,
          0,
          0,
          0,
          0,
          0,
          0,
          0,
          0,
          0,
          0,
          0,
          0,
          0,
          0,
          0,
          0,
          0,
          0,
          0,
          0,
          0,
          0,
          0,
          0,
          0,
          0,
          0,
          0,
          0,
          0,
          0,
          0,
          0,
          0,
          0,
          0,
          0,
          0,
          0,
          0,
          0,
          0
         ],
         "yaxis": "y24"
        },
        {
         "line": {
          "color": "lightcyan"
         },
         "mode": "lines+markers",
         "name": "Channel 8 raw signal",
         "type": "scatter",
         "x": [
          0,
          1,
          2,
          3,
          4,
          5,
          6,
          7,
          8,
          9,
          10,
          11,
          12,
          13,
          14,
          15,
          16,
          17,
          18,
          19,
          20,
          21,
          22,
          23,
          24,
          25,
          26,
          27,
          28,
          29,
          30,
          31,
          32,
          33,
          34,
          35,
          36,
          37,
          38,
          39,
          40,
          41,
          42,
          43,
          44,
          45,
          46,
          47,
          48,
          49,
          50,
          51,
          52,
          53,
          54,
          55,
          56,
          57,
          58,
          59,
          60,
          61,
          62,
          63,
          64,
          65,
          66,
          67,
          68,
          69,
          70,
          71,
          72,
          73,
          74,
          75,
          76,
          77,
          78,
          79,
          80,
          81,
          82,
          83,
          84,
          85,
          86,
          87,
          88,
          89,
          90,
          91,
          92,
          93,
          94,
          95,
          96,
          97,
          98,
          99
         ],
         "xaxis": "x27",
         "y": [
          0,
          29,
          0,
          0,
          0,
          0,
          0,
          0,
          0,
          0,
          0,
          0,
          0,
          0,
          0,
          0,
          0,
          0,
          0,
          0,
          0,
          0,
          0,
          0,
          0,
          0,
          0,
          0,
          0,
          0,
          0,
          0,
          0,
          0,
          0,
          0,
          0,
          -1,
          0,
          0,
          0,
          0,
          0,
          0,
          0,
          0,
          0,
          0,
          0,
          0,
          1,
          0,
          0,
          0,
          0,
          1,
          0,
          0,
          0,
          0,
          0,
          0,
          0,
          0,
          1,
          0,
          0,
          0,
          0,
          0,
          0,
          0,
          0,
          0,
          1,
          0,
          0,
          1,
          0,
          0,
          1,
          0,
          0,
          1,
          0,
          0,
          -1,
          0,
          -1,
          0,
          0,
          1,
          0,
          1,
          0,
          0,
          0,
          0,
          0,
          0
         ],
         "yaxis": "y27"
        }
       ],
       "layout": {
        "height": 1500,
        "template": {
         "data": {
          "bar": [
           {
            "error_x": {
             "color": "#2a3f5f"
            },
            "error_y": {
             "color": "#2a3f5f"
            },
            "marker": {
             "line": {
              "color": "#E5ECF6",
              "width": 0.5
             },
             "pattern": {
              "fillmode": "overlay",
              "size": 10,
              "solidity": 0.2
             }
            },
            "type": "bar"
           }
          ],
          "barpolar": [
           {
            "marker": {
             "line": {
              "color": "#E5ECF6",
              "width": 0.5
             },
             "pattern": {
              "fillmode": "overlay",
              "size": 10,
              "solidity": 0.2
             }
            },
            "type": "barpolar"
           }
          ],
          "carpet": [
           {
            "aaxis": {
             "endlinecolor": "#2a3f5f",
             "gridcolor": "white",
             "linecolor": "white",
             "minorgridcolor": "white",
             "startlinecolor": "#2a3f5f"
            },
            "baxis": {
             "endlinecolor": "#2a3f5f",
             "gridcolor": "white",
             "linecolor": "white",
             "minorgridcolor": "white",
             "startlinecolor": "#2a3f5f"
            },
            "type": "carpet"
           }
          ],
          "choropleth": [
           {
            "colorbar": {
             "outlinewidth": 0,
             "ticks": ""
            },
            "type": "choropleth"
           }
          ],
          "contour": [
           {
            "colorbar": {
             "outlinewidth": 0,
             "ticks": ""
            },
            "colorscale": [
             [
              0,
              "#0d0887"
             ],
             [
              0.1111111111111111,
              "#46039f"
             ],
             [
              0.2222222222222222,
              "#7201a8"
             ],
             [
              0.3333333333333333,
              "#9c179e"
             ],
             [
              0.4444444444444444,
              "#bd3786"
             ],
             [
              0.5555555555555556,
              "#d8576b"
             ],
             [
              0.6666666666666666,
              "#ed7953"
             ],
             [
              0.7777777777777778,
              "#fb9f3a"
             ],
             [
              0.8888888888888888,
              "#fdca26"
             ],
             [
              1,
              "#f0f921"
             ]
            ],
            "type": "contour"
           }
          ],
          "contourcarpet": [
           {
            "colorbar": {
             "outlinewidth": 0,
             "ticks": ""
            },
            "type": "contourcarpet"
           }
          ],
          "heatmap": [
           {
            "colorbar": {
             "outlinewidth": 0,
             "ticks": ""
            },
            "colorscale": [
             [
              0,
              "#0d0887"
             ],
             [
              0.1111111111111111,
              "#46039f"
             ],
             [
              0.2222222222222222,
              "#7201a8"
             ],
             [
              0.3333333333333333,
              "#9c179e"
             ],
             [
              0.4444444444444444,
              "#bd3786"
             ],
             [
              0.5555555555555556,
              "#d8576b"
             ],
             [
              0.6666666666666666,
              "#ed7953"
             ],
             [
              0.7777777777777778,
              "#fb9f3a"
             ],
             [
              0.8888888888888888,
              "#fdca26"
             ],
             [
              1,
              "#f0f921"
             ]
            ],
            "type": "heatmap"
           }
          ],
          "heatmapgl": [
           {
            "colorbar": {
             "outlinewidth": 0,
             "ticks": ""
            },
            "colorscale": [
             [
              0,
              "#0d0887"
             ],
             [
              0.1111111111111111,
              "#46039f"
             ],
             [
              0.2222222222222222,
              "#7201a8"
             ],
             [
              0.3333333333333333,
              "#9c179e"
             ],
             [
              0.4444444444444444,
              "#bd3786"
             ],
             [
              0.5555555555555556,
              "#d8576b"
             ],
             [
              0.6666666666666666,
              "#ed7953"
             ],
             [
              0.7777777777777778,
              "#fb9f3a"
             ],
             [
              0.8888888888888888,
              "#fdca26"
             ],
             [
              1,
              "#f0f921"
             ]
            ],
            "type": "heatmapgl"
           }
          ],
          "histogram": [
           {
            "marker": {
             "pattern": {
              "fillmode": "overlay",
              "size": 10,
              "solidity": 0.2
             }
            },
            "type": "histogram"
           }
          ],
          "histogram2d": [
           {
            "colorbar": {
             "outlinewidth": 0,
             "ticks": ""
            },
            "colorscale": [
             [
              0,
              "#0d0887"
             ],
             [
              0.1111111111111111,
              "#46039f"
             ],
             [
              0.2222222222222222,
              "#7201a8"
             ],
             [
              0.3333333333333333,
              "#9c179e"
             ],
             [
              0.4444444444444444,
              "#bd3786"
             ],
             [
              0.5555555555555556,
              "#d8576b"
             ],
             [
              0.6666666666666666,
              "#ed7953"
             ],
             [
              0.7777777777777778,
              "#fb9f3a"
             ],
             [
              0.8888888888888888,
              "#fdca26"
             ],
             [
              1,
              "#f0f921"
             ]
            ],
            "type": "histogram2d"
           }
          ],
          "histogram2dcontour": [
           {
            "colorbar": {
             "outlinewidth": 0,
             "ticks": ""
            },
            "colorscale": [
             [
              0,
              "#0d0887"
             ],
             [
              0.1111111111111111,
              "#46039f"
             ],
             [
              0.2222222222222222,
              "#7201a8"
             ],
             [
              0.3333333333333333,
              "#9c179e"
             ],
             [
              0.4444444444444444,
              "#bd3786"
             ],
             [
              0.5555555555555556,
              "#d8576b"
             ],
             [
              0.6666666666666666,
              "#ed7953"
             ],
             [
              0.7777777777777778,
              "#fb9f3a"
             ],
             [
              0.8888888888888888,
              "#fdca26"
             ],
             [
              1,
              "#f0f921"
             ]
            ],
            "type": "histogram2dcontour"
           }
          ],
          "mesh3d": [
           {
            "colorbar": {
             "outlinewidth": 0,
             "ticks": ""
            },
            "type": "mesh3d"
           }
          ],
          "parcoords": [
           {
            "line": {
             "colorbar": {
              "outlinewidth": 0,
              "ticks": ""
             }
            },
            "type": "parcoords"
           }
          ],
          "pie": [
           {
            "automargin": true,
            "type": "pie"
           }
          ],
          "scatter": [
           {
            "fillpattern": {
             "fillmode": "overlay",
             "size": 10,
             "solidity": 0.2
            },
            "type": "scatter"
           }
          ],
          "scatter3d": [
           {
            "line": {
             "colorbar": {
              "outlinewidth": 0,
              "ticks": ""
             }
            },
            "marker": {
             "colorbar": {
              "outlinewidth": 0,
              "ticks": ""
             }
            },
            "type": "scatter3d"
           }
          ],
          "scattercarpet": [
           {
            "marker": {
             "colorbar": {
              "outlinewidth": 0,
              "ticks": ""
             }
            },
            "type": "scattercarpet"
           }
          ],
          "scattergeo": [
           {
            "marker": {
             "colorbar": {
              "outlinewidth": 0,
              "ticks": ""
             }
            },
            "type": "scattergeo"
           }
          ],
          "scattergl": [
           {
            "marker": {
             "colorbar": {
              "outlinewidth": 0,
              "ticks": ""
             }
            },
            "type": "scattergl"
           }
          ],
          "scattermapbox": [
           {
            "marker": {
             "colorbar": {
              "outlinewidth": 0,
              "ticks": ""
             }
            },
            "type": "scattermapbox"
           }
          ],
          "scatterpolar": [
           {
            "marker": {
             "colorbar": {
              "outlinewidth": 0,
              "ticks": ""
             }
            },
            "type": "scatterpolar"
           }
          ],
          "scatterpolargl": [
           {
            "marker": {
             "colorbar": {
              "outlinewidth": 0,
              "ticks": ""
             }
            },
            "type": "scatterpolargl"
           }
          ],
          "scatterternary": [
           {
            "marker": {
             "colorbar": {
              "outlinewidth": 0,
              "ticks": ""
             }
            },
            "type": "scatterternary"
           }
          ],
          "surface": [
           {
            "colorbar": {
             "outlinewidth": 0,
             "ticks": ""
            },
            "colorscale": [
             [
              0,
              "#0d0887"
             ],
             [
              0.1111111111111111,
              "#46039f"
             ],
             [
              0.2222222222222222,
              "#7201a8"
             ],
             [
              0.3333333333333333,
              "#9c179e"
             ],
             [
              0.4444444444444444,
              "#bd3786"
             ],
             [
              0.5555555555555556,
              "#d8576b"
             ],
             [
              0.6666666666666666,
              "#ed7953"
             ],
             [
              0.7777777777777778,
              "#fb9f3a"
             ],
             [
              0.8888888888888888,
              "#fdca26"
             ],
             [
              1,
              "#f0f921"
             ]
            ],
            "type": "surface"
           }
          ],
          "table": [
           {
            "cells": {
             "fill": {
              "color": "#EBF0F8"
             },
             "line": {
              "color": "white"
             }
            },
            "header": {
             "fill": {
              "color": "#C8D4E3"
             },
             "line": {
              "color": "white"
             }
            },
            "type": "table"
           }
          ]
         },
         "layout": {
          "annotationdefaults": {
           "arrowcolor": "#2a3f5f",
           "arrowhead": 0,
           "arrowwidth": 1
          },
          "autotypenumbers": "strict",
          "coloraxis": {
           "colorbar": {
            "outlinewidth": 0,
            "ticks": ""
           }
          },
          "colorscale": {
           "diverging": [
            [
             0,
             "#8e0152"
            ],
            [
             0.1,
             "#c51b7d"
            ],
            [
             0.2,
             "#de77ae"
            ],
            [
             0.3,
             "#f1b6da"
            ],
            [
             0.4,
             "#fde0ef"
            ],
            [
             0.5,
             "#f7f7f7"
            ],
            [
             0.6,
             "#e6f5d0"
            ],
            [
             0.7,
             "#b8e186"
            ],
            [
             0.8,
             "#7fbc41"
            ],
            [
             0.9,
             "#4d9221"
            ],
            [
             1,
             "#276419"
            ]
           ],
           "sequential": [
            [
             0,
             "#0d0887"
            ],
            [
             0.1111111111111111,
             "#46039f"
            ],
            [
             0.2222222222222222,
             "#7201a8"
            ],
            [
             0.3333333333333333,
             "#9c179e"
            ],
            [
             0.4444444444444444,
             "#bd3786"
            ],
            [
             0.5555555555555556,
             "#d8576b"
            ],
            [
             0.6666666666666666,
             "#ed7953"
            ],
            [
             0.7777777777777778,
             "#fb9f3a"
            ],
            [
             0.8888888888888888,
             "#fdca26"
            ],
            [
             1,
             "#f0f921"
            ]
           ],
           "sequentialminus": [
            [
             0,
             "#0d0887"
            ],
            [
             0.1111111111111111,
             "#46039f"
            ],
            [
             0.2222222222222222,
             "#7201a8"
            ],
            [
             0.3333333333333333,
             "#9c179e"
            ],
            [
             0.4444444444444444,
             "#bd3786"
            ],
            [
             0.5555555555555556,
             "#d8576b"
            ],
            [
             0.6666666666666666,
             "#ed7953"
            ],
            [
             0.7777777777777778,
             "#fb9f3a"
            ],
            [
             0.8888888888888888,
             "#fdca26"
            ],
            [
             1,
             "#f0f921"
            ]
           ]
          },
          "colorway": [
           "#636efa",
           "#EF553B",
           "#00cc96",
           "#ab63fa",
           "#FFA15A",
           "#19d3f3",
           "#FF6692",
           "#B6E880",
           "#FF97FF",
           "#FECB52"
          ],
          "font": {
           "color": "#2a3f5f"
          },
          "geo": {
           "bgcolor": "white",
           "lakecolor": "white",
           "landcolor": "#E5ECF6",
           "showlakes": true,
           "showland": true,
           "subunitcolor": "white"
          },
          "hoverlabel": {
           "align": "left"
          },
          "hovermode": "closest",
          "mapbox": {
           "style": "light"
          },
          "paper_bgcolor": "white",
          "plot_bgcolor": "#E5ECF6",
          "polar": {
           "angularaxis": {
            "gridcolor": "white",
            "linecolor": "white",
            "ticks": ""
           },
           "bgcolor": "#E5ECF6",
           "radialaxis": {
            "gridcolor": "white",
            "linecolor": "white",
            "ticks": ""
           }
          },
          "scene": {
           "xaxis": {
            "backgroundcolor": "#E5ECF6",
            "gridcolor": "white",
            "gridwidth": 2,
            "linecolor": "white",
            "showbackground": true,
            "ticks": "",
            "zerolinecolor": "white"
           },
           "yaxis": {
            "backgroundcolor": "#E5ECF6",
            "gridcolor": "white",
            "gridwidth": 2,
            "linecolor": "white",
            "showbackground": true,
            "ticks": "",
            "zerolinecolor": "white"
           },
           "zaxis": {
            "backgroundcolor": "#E5ECF6",
            "gridcolor": "white",
            "gridwidth": 2,
            "linecolor": "white",
            "showbackground": true,
            "ticks": "",
            "zerolinecolor": "white"
           }
          },
          "shapedefaults": {
           "line": {
            "color": "#2a3f5f"
           }
          },
          "ternary": {
           "aaxis": {
            "gridcolor": "white",
            "linecolor": "white",
            "ticks": ""
           },
           "baxis": {
            "gridcolor": "white",
            "linecolor": "white",
            "ticks": ""
           },
           "bgcolor": "#E5ECF6",
           "caxis": {
            "gridcolor": "white",
            "linecolor": "white",
            "ticks": ""
           }
          },
          "title": {
           "x": 0.05
          },
          "xaxis": {
           "automargin": true,
           "gridcolor": "white",
           "linecolor": "white",
           "ticks": "",
           "title": {
            "standoff": 15
           },
           "zerolinecolor": "white",
           "zerolinewidth": 2
          },
          "yaxis": {
           "automargin": true,
           "gridcolor": "white",
           "linecolor": "white",
           "ticks": "",
           "title": {
            "standoff": 15
           },
           "zerolinecolor": "white",
           "zerolinewidth": 2
          }
         }
        },
        "width": 2000,
        "xaxis": {
         "anchor": "y",
         "domain": [
          0,
          0.2888888888888889
         ]
        },
        "xaxis10": {
         "anchor": "y10",
         "domain": [
          0,
          0.2888888888888889
         ]
        },
        "xaxis11": {
         "anchor": "y11",
         "domain": [
          0.35555555555555557,
          0.6444444444444445
         ]
        },
        "xaxis12": {
         "anchor": "y12",
         "domain": [
          0.7111111111111111,
          1
         ]
        },
        "xaxis13": {
         "anchor": "y13",
         "domain": [
          0,
          0.2888888888888889
         ]
        },
        "xaxis14": {
         "anchor": "y14",
         "domain": [
          0.35555555555555557,
          0.6444444444444445
         ]
        },
        "xaxis15": {
         "anchor": "y15",
         "domain": [
          0.7111111111111111,
          1
         ]
        },
        "xaxis16": {
         "anchor": "y16",
         "domain": [
          0,
          0.2888888888888889
         ]
        },
        "xaxis17": {
         "anchor": "y17",
         "domain": [
          0.35555555555555557,
          0.6444444444444445
         ]
        },
        "xaxis18": {
         "anchor": "y18",
         "domain": [
          0.7111111111111111,
          1
         ]
        },
        "xaxis19": {
         "anchor": "y19",
         "domain": [
          0,
          0.2888888888888889
         ]
        },
        "xaxis2": {
         "anchor": "y2",
         "domain": [
          0.35555555555555557,
          0.6444444444444445
         ]
        },
        "xaxis20": {
         "anchor": "y20",
         "domain": [
          0.35555555555555557,
          0.6444444444444445
         ]
        },
        "xaxis21": {
         "anchor": "y21",
         "domain": [
          0.7111111111111111,
          1
         ]
        },
        "xaxis22": {
         "anchor": "y22",
         "domain": [
          0,
          0.2888888888888889
         ]
        },
        "xaxis23": {
         "anchor": "y23",
         "domain": [
          0.35555555555555557,
          0.6444444444444445
         ]
        },
        "xaxis24": {
         "anchor": "y24",
         "domain": [
          0.7111111111111111,
          1
         ]
        },
        "xaxis25": {
         "anchor": "y25",
         "domain": [
          0,
          0.2888888888888889
         ]
        },
        "xaxis26": {
         "anchor": "y26",
         "domain": [
          0.35555555555555557,
          0.6444444444444445
         ]
        },
        "xaxis27": {
         "anchor": "y27",
         "domain": [
          0.7111111111111111,
          1
         ]
        },
        "xaxis3": {
         "anchor": "y3",
         "domain": [
          0.7111111111111111,
          1
         ]
        },
        "xaxis4": {
         "anchor": "y4",
         "domain": [
          0,
          0.2888888888888889
         ]
        },
        "xaxis5": {
         "anchor": "y5",
         "domain": [
          0.35555555555555557,
          0.6444444444444445
         ]
        },
        "xaxis6": {
         "anchor": "y6",
         "domain": [
          0.7111111111111111,
          1
         ]
        },
        "xaxis7": {
         "anchor": "y7",
         "domain": [
          0,
          0.2888888888888889
         ]
        },
        "xaxis8": {
         "anchor": "y8",
         "domain": [
          0.35555555555555557,
          0.6444444444444445
         ]
        },
        "xaxis9": {
         "anchor": "y9",
         "domain": [
          0.7111111111111111,
          1
         ]
        },
        "yaxis": {
         "anchor": "x",
         "domain": [
          0.9185185185185185,
          1
         ]
        },
        "yaxis10": {
         "anchor": "x10",
         "domain": [
          0.5740740740740741,
          0.6555555555555556
         ]
        },
        "yaxis11": {
         "anchor": "x11",
         "domain": [
          0.5740740740740741,
          0.6555555555555556
         ]
        },
        "yaxis12": {
         "anchor": "x12",
         "domain": [
          0.5740740740740741,
          0.6555555555555556
         ]
        },
        "yaxis13": {
         "anchor": "x13",
         "domain": [
          0.45925925925925926,
          0.5407407407407407
         ]
        },
        "yaxis14": {
         "anchor": "x14",
         "domain": [
          0.45925925925925926,
          0.5407407407407407
         ]
        },
        "yaxis15": {
         "anchor": "x15",
         "domain": [
          0.45925925925925926,
          0.5407407407407407
         ]
        },
        "yaxis16": {
         "anchor": "x16",
         "domain": [
          0.34444444444444444,
          0.42592592592592593
         ]
        },
        "yaxis17": {
         "anchor": "x17",
         "domain": [
          0.34444444444444444,
          0.42592592592592593
         ]
        },
        "yaxis18": {
         "anchor": "x18",
         "domain": [
          0.34444444444444444,
          0.42592592592592593
         ]
        },
        "yaxis19": {
         "anchor": "x19",
         "domain": [
          0.22962962962962963,
          0.3111111111111111
         ]
        },
        "yaxis2": {
         "anchor": "x2",
         "domain": [
          0.9185185185185185,
          1
         ]
        },
        "yaxis20": {
         "anchor": "x20",
         "domain": [
          0.22962962962962963,
          0.3111111111111111
         ]
        },
        "yaxis21": {
         "anchor": "x21",
         "domain": [
          0.22962962962962963,
          0.3111111111111111
         ]
        },
        "yaxis22": {
         "anchor": "x22",
         "domain": [
          0.11481481481481481,
          0.1962962962962963
         ]
        },
        "yaxis23": {
         "anchor": "x23",
         "domain": [
          0.11481481481481481,
          0.1962962962962963
         ]
        },
        "yaxis24": {
         "anchor": "x24",
         "domain": [
          0.11481481481481481,
          0.1962962962962963
         ]
        },
        "yaxis25": {
         "anchor": "x25",
         "domain": [
          0,
          0.08148148148148149
         ]
        },
        "yaxis26": {
         "anchor": "x26",
         "domain": [
          0,
          0.08148148148148149
         ]
        },
        "yaxis27": {
         "anchor": "x27",
         "domain": [
          0,
          0.08148148148148149
         ]
        },
        "yaxis3": {
         "anchor": "x3",
         "domain": [
          0.9185185185185185,
          1
         ]
        },
        "yaxis4": {
         "anchor": "x4",
         "domain": [
          0.8037037037037038,
          0.8851851851851853
         ]
        },
        "yaxis5": {
         "anchor": "x5",
         "domain": [
          0.8037037037037038,
          0.8851851851851853
         ]
        },
        "yaxis6": {
         "anchor": "x6",
         "domain": [
          0.8037037037037038,
          0.8851851851851853
         ]
        },
        "yaxis7": {
         "anchor": "x7",
         "domain": [
          0.6888888888888889,
          0.7703703703703704
         ]
        },
        "yaxis8": {
         "anchor": "x8",
         "domain": [
          0.6888888888888889,
          0.7703703703703704
         ]
        },
        "yaxis9": {
         "anchor": "x9",
         "domain": [
          0.6888888888888889,
          0.7703703703703704
         ]
        }
       }
      }
     },
     "metadata": {},
     "output_type": "display_data"
    }
   ],
   "source": [
    "env.render(jnb=True)"
   ]
  },
  {
   "cell_type": "code",
   "execution_count": 17,
   "metadata": {},
   "outputs": [],
   "source": [
    "env.close()"
   ]
  },
  {
   "cell_type": "code",
   "execution_count": 16,
   "metadata": {},
   "outputs": [
    {
     "name": "stdout",
     "output_type": "stream",
     "text": [
      "0.16\n",
      "0.12\n",
      "-0.15\n",
      "0.08\n",
      "0.22\n",
      "-0.18\n",
      "0.19\n",
      "0.0\n",
      "0.0\n"
     ]
    },
    {
     "ename": "KeyboardInterrupt",
     "evalue": "",
     "output_type": "error",
     "traceback": [
      "\u001b[0;31m---------------------------------------------------------------------------\u001b[0m",
      "\u001b[0;31mKeyboardInterrupt\u001b[0m                         Traceback (most recent call last)",
      "Cell \u001b[0;32mIn[16], line 2\u001b[0m\n\u001b[1;32m      1\u001b[0m \u001b[38;5;28;01mwhile\u001b[39;00m \u001b[38;5;28;01mTrue\u001b[39;00m:\n\u001b[0;32m----> 2\u001b[0m     \u001b[43mtime\u001b[49m\u001b[38;5;241;43m.\u001b[39;49m\u001b[43msleep\u001b[49m\u001b[43m(\u001b[49m\u001b[38;5;241;43m5\u001b[39;49m\u001b[43m)\u001b[49m\n\u001b[1;32m      3\u001b[0m     env\u001b[38;5;241m.\u001b[39msample_observations(use_synth_data\u001b[38;5;241m=\u001b[39m\u001b[38;5;28;01mFalse\u001b[39;00m)\n\u001b[1;32m      4\u001b[0m     \u001b[38;5;28mprint\u001b[39m(np\u001b[38;5;241m.\u001b[39mmean(env\u001b[38;5;241m.\u001b[39mcurrent_sample[\u001b[38;5;124m'\u001b[39m\u001b[38;5;124mch9\u001b[39m\u001b[38;5;124m'\u001b[39m]))\n",
      "\u001b[0;31mKeyboardInterrupt\u001b[0m: "
     ]
    }
   ],
   "source": [
    "while True:\n",
    "    time.sleep(5)\n",
    "    env.sample_observations(use_synth_data=False)\n",
    "    print(np.mean(env.current_sample['ch9']))"
   ]
  },
  {
   "cell_type": "code",
   "execution_count": null,
   "metadata": {},
   "outputs": [],
   "source": [
    "env."
   ]
  },
  {
   "cell_type": "code",
   "execution_count": null,
   "metadata": {},
   "outputs": [],
   "source": []
  },
  {
   "cell_type": "code",
   "execution_count": null,
   "metadata": {},
   "outputs": [],
   "source": []
  },
  {
   "cell_type": "code",
   "execution_count": null,
   "metadata": {},
   "outputs": [],
   "source": []
  },
  {
   "cell_type": "code",
   "execution_count": 95,
   "metadata": {},
   "outputs": [],
   "source": [
    "import json"
   ]
  },
  {
   "cell_type": "code",
   "execution_count": null,
   "metadata": {},
   "outputs": [],
   "source": [
    "env.close()"
   ]
  },
  {
   "cell_type": "code",
   "execution_count": 94,
   "metadata": {},
   "outputs": [],
   "source": [
    "def get_state_from_model_logfile(logfile=None):\n",
    "    if str(logfile)=='None':\n",
    "        logfile='model_stats.log'\n",
    "    with open(logfile, 'r') as f:\n",
    "        data = f.read()\n",
    "    envdata=json.loads(data.split('\\n')[0])\n",
    "    return envdata"
   ]
  },
  {
   "cell_type": "code",
   "execution_count": 96,
   "metadata": {},
   "outputs": [
    {
     "data": {
      "text/plain": [
       "{'out_dict': {'leddelay': {'names': ['leddelay'],\n",
       "   'value_range': {'min': 1, 'max': 100},\n",
       "   'init_val': {'leddelay': 10}},\n",
       "  'ledcontrols': {'names': ['lv1r',\n",
       "    'lv1g',\n",
       "    'lv1b',\n",
       "    'lv2r',\n",
       "    'lv2g',\n",
       "    'lv2b',\n",
       "    'lv3r',\n",
       "    'lv3g',\n",
       "    'lv3b',\n",
       "    'lv4r',\n",
       "    'lv4g',\n",
       "    'lv4b',\n",
       "    'lv5r',\n",
       "    'lv5g',\n",
       "    'lv5b',\n",
       "    'lv6r',\n",
       "    'lv6g',\n",
       "    'lv6b',\n",
       "    'lv7r',\n",
       "    'lv7g',\n",
       "    'lv7b',\n",
       "    'lv8r',\n",
       "    'lv8g',\n",
       "    'lv8b'],\n",
       "   'value_range': {'min': 10, 'max': 255},\n",
       "   'init_val': {'lv1r': 255,\n",
       "    'lv1g': 0,\n",
       "    'lv1b': 0,\n",
       "    'lv2r': 0,\n",
       "    'lv2b': 0,\n",
       "    'lv3r': 0,\n",
       "    'lv3g': 0,\n",
       "    'lv3b': 255,\n",
       "    'lv4r': 255,\n",
       "    'lv4g': 255,\n",
       "    'lv4b': 255,\n",
       "    'lv5r': 0,\n",
       "    'lv5g': 255,\n",
       "    'lv5b': 255,\n",
       "    'lv6r': 255,\n",
       "    'lv6g': 0,\n",
       "    'lv6b': 255,\n",
       "    'lv7r': 255,\n",
       "    'lv7b': 0,\n",
       "    'lv8r': 255,\n",
       "    'lv8g': 0,\n",
       "    'lv8b': 0}},\n",
       "  'sound_wave_frequencies': {'names': ['wave_1_freq', 'wave_2_freq'],\n",
       "   'value_range': {'min': 1, 'max': 30000},\n",
       "   'init_val': {'wave_1_freq': 440, 'wave_2_freq': 440}},\n",
       "  'panner_phasor_frequencies': {'names': ['panner_freq',\n",
       "    'phasor_1_freq',\n",
       "    'phasor_2_freq',\n",
       "    'phasor_1_min',\n",
       "    'phasor_2_min',\n",
       "    'phasor_1_dif',\n",
       "    'phasor_2_dif'],\n",
       "   'value_range': {'min': 1, 'max': 50},\n",
       "   'init_val': {'panner_freq': 1,\n",
       "    'phasor_1_freq': 440,\n",
       "    'phasor_2_freq': 440,\n",
       "    'phasor_1_min': 1,\n",
       "    'phasor_2_min': 1,\n",
       "    'phasor_1_dif': 49,\n",
       "    'phasor_2_dif': 49}},\n",
       "  'panner_div': {'names': ['panner_div'],\n",
       "   'value_range': {'min': 1, 'max': 5},\n",
       "   'init_val': {'panner_div': 2}},\n",
       "  'sound_wave_shapes': {'names': ['wave_1_type', 'wave_2_type'],\n",
       "   'value_range': {'min': 0, 'max': 3},\n",
       "   'init_val': {'wave_1_type': 0, 'wave_2_type': 0}},\n",
       "  'maxivolume': {'names': ['maxivolume'],\n",
       "   'value_range': {'min': 1, 'max': 25},\n",
       "   'init_val': {'maxivolume': 5}}},\n",
       " 'session_settings': {'n_input_channels': 8,\n",
       "  'channels_of_interest_inds': [0, 1, 2, 3, 4, 5, 6, 7],\n",
       "  'n_timepoints_per_sample': 100,\n",
       "  'max_sfsystem_output': 1023,\n",
       "  'reward_formula_string': '(fbin_1_4_ch0+freq_30_ch0)/fbin_12_30_ch0',\n",
       "  'fbins': [[0, 1], [1, 4], [4, 8], [8, 12], [12, 30], [30, 50]],\n",
       "  'delay': 10,\n",
       "  'use_raw_in_os_def': True,\n",
       "  'use_freq_in_os_def': True,\n",
       "  'use_fbins_in_os_def': True,\n",
       "  'device_address': 'ws://10.42.0.231:80/',\n",
       "  'step_stim_length_millis': 1000,\n",
       "  'episode_time_seconds': 2,\n",
       "  'logfn': 'current_training.log',\n",
       "  'algorithm': 'A2C',\n",
       "  'policy': 'MlpPolicy',\n",
       "  'n_steps_per_timestep': 3}}"
      ]
     },
     "execution_count": 96,
     "metadata": {},
     "output_type": "execute_result"
    }
   ],
   "source": [
    "get_state_from_model_logfile(logfile='model_stats.log')"
   ]
  },
  {
   "cell_type": "code",
   "execution_count": 4,
   "metadata": {},
   "outputs": [],
   "source": [
    "sd={'n_input_channels': 8, 'channels_of_interest_inds': [0, 1, 2, 3, 4, 5, 6, 7], 'n_timepoints_per_sample': 100, 'delay': 10, 'max_sfsystem_output': 1023, 'reward_formula_string': '(fbin_1_4_ch0+freq_30_ch0)/fbin_12_30_ch0', 'fbins': [[0, 1], [1, 4], [4, 8], [8, 12], [12, 30], [30,50]], 'device_address': 'ws://10.42.0.231:80/', 'step_stim_length_millis': 10000, 'episode_time_seconds': 60, 'n_total_timesteps': 'episode', 'num_episodes': 5, 'logfn': 'current_training.log', 'signal_plot_width': 2000, 'signal_plot_height': 1500, 'training_plot_width': 2000, 'training_plot_height': 500, 'render_each_step': True, 'render_data': True, 'log_steps': True, 'log_episodes': True, 'log_best_actions_every_episode': True, 'log_actions_every_step': True, 'log_best_actions_final': True, 'write_raw': True, 'write_fft': True, 'write_bins': True, 'log_model': True, 'log_or_plot_every_n_timesteps': 1, 'algorithm': 'A2C', 'n_steps_per_timestep': 1, 'use_raw_in_os_def': True, 'use_freq_in_os_def': True, 'use_fbins_in_os_def': True}\n",
    "out_dict={'leddelay': {'names': ['leddelay'], 'value_range': {'min': 1, 'max': 100}, 'init_val': {'leddelay': 10}}, 'ledcontrols': {'names': ['lv1r', 'lv1g', 'lv1b', 'lv2r', 'lv2g', 'lv2b', 'lv3r', 'lv3g', 'lv3b', 'lv4r', 'lv4g', 'lv4b', 'lv5r', 'lv5g', 'lv5b', 'lv6r', 'lv6g', 'lv6b', 'lv7r', 'lv7g', 'lv7b', 'lv8r', 'lv8g', 'lv8b'], 'value_range': {'min': 10, 'max': 255}, 'init_val': {'lv1r': 255, 'lv1g': 0, 'lv1b': 0, 'lv2r': 0, 'lv2b': 0, 'lv3r': 0, 'lv3g': 0, 'lv3b': 255, 'lv4r': 255, 'lv4g': 255, 'lv4b': 255, 'lv5r': 0, 'lv5g': 255, 'lv5b': 255, 'lv6r': 255, 'lv6g': 0, 'lv6b': 255, 'lv7r': 255, 'lv7b': 0, 'lv8r': 255, 'lv8g': 0, 'lv8b': 0}}, 'sound_wave_frequencies': {'names': ['wave_1_freq', 'wave_2_freq'], 'value_range': {'min': 1, 'max': 30000}, 'init_val': {'wave_1_freq': 440, 'wave_2_freq': 440}}, 'panner_phasor_frequencies': {'names': ['panner_freq', 'phasor_1_freq', 'phasor_2_freq', 'phasor_1_min', 'phasor_2_min', 'phasor_1_dif', 'phasor_2_dif'], 'value_range': {'min': 1, 'max': 50}, 'init_val': {'panner_freq': 1, 'phasor_1_freq': 440, 'phasor_2_freq': 440, 'phasor_1_min': 1, 'phasor_2_min': 1, 'phasor_1_dif': 49, 'phasor_2_dif': 49}}, 'panner_div': {'names': ['panner_div'], 'value_range': {'min': 1, 'max': 5}, 'init_val': {'panner_div': 2}}, 'sound_wave_shapes': {'names': ['wave_1_type', 'wave_2_type'], 'value_range': {'min': 0, 'max': 3}, 'init_val': {'wave_1_type': 0, 'wave_2_type': 0}}, 'maxivolume': {'names': ['maxivolume'], 'value_range': {'min': 1, 'max': 25}, 'init_val': {'maxivolume': 10}}}"
   ]
  },
  {
   "cell_type": "code",
   "execution_count": 6,
   "metadata": {},
   "outputs": [
    {
     "name": "stdout",
     "output_type": "stream",
     "text": [
      "Token freq_30_ch0:\n",
      "Closest fft frequency 30.0\n",
      "Connected\n",
      "Delay and data transfer buffer size are set up.\n",
      "Default actions are set.\n"
     ]
    }
   ],
   "source": [
    "env = RLSystem.SFSystemCommunicator(out_dict=out_dict,\n",
    "                                              n_input_channels=sd['n_input_channels'],\n",
    "                                              channels_of_interest_inds=sd['channels_of_interest_inds'],\n",
    "                                              n_timepoints_per_sample=sd['n_timepoints_per_sample'],\n",
    "                                              max_sfsystem_output=sd['max_sfsystem_output'],\n",
    "                                              reward_formula_string=sd['reward_formula_string'],\n",
    "                                              fbins=sd['fbins'],\n",
    "                                              delay=sd['delay'],\n",
    "                                              use_raw_in_os_def=sd['use_raw_in_os_def'],\n",
    "                                              use_freq_in_os_def=sd['use_freq_in_os_def'],\n",
    "                                              use_fbins_in_os_def=sd['use_fbins_in_os_def'],\n",
    "                                              device_address=sd['device_address'],\n",
    "                                              step_stim_length_millis=sd['step_stim_length_millis'],\n",
    "                                              episode_time_seconds=sd['episode_time_seconds'],\n",
    "                                              logfn=sd['logfn'],\n",
    "                                              log_steps=sd['log_steps'],\n",
    "                                              log_episodes=sd['log_episodes'],\n",
    "                                              log_best_actions_final=sd['log_best_actions_final'],\n",
    "                                              signal_plot_width=sd['signal_plot_width'],\n",
    "                                              signal_plot_height=sd['signal_plot_height'],\n",
    "                                              training_plot_width=sd['training_plot_width'],\n",
    "                                              training_plot_height=sd['training_plot_height'],\n",
    "                                              write_raw=sd['write_raw'],\n",
    "                                              write_fft=sd['write_fft'],\n",
    "                                              write_bins=sd['write_bins'],\n",
    "                                              log_best_actions_every_episode=sd['log_best_actions_every_episode'],\n",
    "                                              render_data=sd['render_data'],\n",
    "                                              render_each_step=sd['render_each_step'],\n",
    "                                              log_actions_every_step=sd['log_actions_every_step'])"
   ]
  },
  {
   "cell_type": "code",
   "execution_count": 93,
   "metadata": {},
   "outputs": [
    {
     "ename": "WebSocketConnectionClosedException",
     "evalue": "socket is already closed.",
     "output_type": "error",
     "traceback": [
      "\u001b[0;31m---------------------------------------------------------------------------\u001b[0m",
      "\u001b[0;31mWebSocketConnectionClosedException\u001b[0m        Traceback (most recent call last)",
      "Cell \u001b[0;32mIn[93], line 1\u001b[0m\n\u001b[0;32m----> 1\u001b[0m \u001b[43menv\u001b[49m\u001b[38;5;241;43m.\u001b[39;49m\u001b[43mclose\u001b[49m\u001b[43m(\u001b[49m\u001b[43m)\u001b[49m\n",
      "File \u001b[0;32m~/Documents/PlatformIO/Projects/SFSystem_withAV/RLSystem.py:604\u001b[0m, in \u001b[0;36mSFSystemCommunicator.close\u001b[0;34m(self, clear_log)\u001b[0m\n\u001b[1;32m    602\u001b[0m         \u001b[38;5;28mself\u001b[39m\u001b[38;5;241m.\u001b[39mwrite_tolog(json\u001b[38;5;241m.\u001b[39mdumps({\u001b[38;5;124m'\u001b[39m\u001b[38;5;124mBest action across episodes reward\u001b[39m\u001b[38;5;124m'\u001b[39m:\u001b[38;5;28mself\u001b[39m\u001b[38;5;241m.\u001b[39moverall_max_reward}))\n\u001b[1;32m    603\u001b[0m         \u001b[38;5;28mself\u001b[39m\u001b[38;5;241m.\u001b[39mwrite_tolog(actionstring)\n\u001b[0;32m--> 604\u001b[0m \u001b[38;5;28;43mself\u001b[39;49m\u001b[38;5;241;43m.\u001b[39;49m\u001b[43mstop_audiovis_feedback\u001b[49m\u001b[43m(\u001b[49m\u001b[43m)\u001b[49m \u001b[38;5;66;03m#just in case\u001b[39;00m\n\u001b[1;32m    605\u001b[0m \u001b[38;5;28mself\u001b[39m\u001b[38;5;241m.\u001b[39mstop_data_transfer_from_device() \u001b[38;5;66;03m#just in case\u001b[39;00m\n\u001b[1;32m    606\u001b[0m \u001b[38;5;28mself\u001b[39m\u001b[38;5;241m.\u001b[39mcur_step\u001b[38;5;241m=\u001b[39m\u001b[38;5;241m0\u001b[39m \u001b[38;5;66;03m#just in case\u001b[39;00m\n",
      "File \u001b[0;32m~/Documents/PlatformIO/Projects/SFSystem_withAV/RLSystem.py:389\u001b[0m, in \u001b[0;36mSFSystemCommunicator.stop_audiovis_feedback\u001b[0;34m(self)\u001b[0m\n\u001b[1;32m    388\u001b[0m \u001b[38;5;28;01mdef\u001b[39;00m \u001b[38;5;21mstop_audiovis_feedback\u001b[39m(\u001b[38;5;28mself\u001b[39m):\n\u001b[0;32m--> 389\u001b[0m     \u001b[38;5;28;43mself\u001b[39;49m\u001b[38;5;241;43m.\u001b[39;49m\u001b[43mws\u001b[49m\u001b[38;5;241;43m.\u001b[39;49m\u001b[43msend\u001b[49m\u001b[43m(\u001b[49m\u001b[38;5;124;43m\"\u001b[39;49m\u001b[38;5;124;43mstop_led_cycle\u001b[39;49m\u001b[38;5;124;43m\"\u001b[39;49m\u001b[43m)\u001b[49m\n",
      "File \u001b[0;32m~/.local/lib/python3.10/site-packages/websocket/_core.py:297\u001b[0m, in \u001b[0;36mWebSocket.send\u001b[0;34m(self, payload, opcode)\u001b[0m\n\u001b[1;32m    283\u001b[0m \u001b[38;5;250m\u001b[39m\u001b[38;5;124;03m\"\"\"\u001b[39;00m\n\u001b[1;32m    284\u001b[0m \u001b[38;5;124;03mSend the data as string.\u001b[39;00m\n\u001b[1;32m    285\u001b[0m \n\u001b[0;32m   (...)\u001b[0m\n\u001b[1;32m    293\u001b[0m \u001b[38;5;124;03m    Operation code (opcode) to send.\u001b[39;00m\n\u001b[1;32m    294\u001b[0m \u001b[38;5;124;03m\"\"\"\u001b[39;00m\n\u001b[1;32m    296\u001b[0m frame \u001b[38;5;241m=\u001b[39m ABNF\u001b[38;5;241m.\u001b[39mcreate_frame(payload, opcode)\n\u001b[0;32m--> 297\u001b[0m \u001b[38;5;28;01mreturn\u001b[39;00m \u001b[38;5;28;43mself\u001b[39;49m\u001b[38;5;241;43m.\u001b[39;49m\u001b[43msend_frame\u001b[49m\u001b[43m(\u001b[49m\u001b[43mframe\u001b[49m\u001b[43m)\u001b[49m\n",
      "File \u001b[0;32m~/.local/lib/python3.10/site-packages/websocket/_core.py:337\u001b[0m, in \u001b[0;36mWebSocket.send_frame\u001b[0;34m(self, frame)\u001b[0m\n\u001b[1;32m    335\u001b[0m \u001b[38;5;28;01mwith\u001b[39;00m \u001b[38;5;28mself\u001b[39m\u001b[38;5;241m.\u001b[39mlock:\n\u001b[1;32m    336\u001b[0m     \u001b[38;5;28;01mwhile\u001b[39;00m data:\n\u001b[0;32m--> 337\u001b[0m         l \u001b[38;5;241m=\u001b[39m \u001b[38;5;28;43mself\u001b[39;49m\u001b[38;5;241;43m.\u001b[39;49m\u001b[43m_send\u001b[49m\u001b[43m(\u001b[49m\u001b[43mdata\u001b[49m\u001b[43m)\u001b[49m\n\u001b[1;32m    338\u001b[0m         data \u001b[38;5;241m=\u001b[39m data[l:]\n\u001b[1;32m    340\u001b[0m \u001b[38;5;28;01mreturn\u001b[39;00m length\n",
      "File \u001b[0;32m~/.local/lib/python3.10/site-packages/websocket/_core.py:559\u001b[0m, in \u001b[0;36mWebSocket._send\u001b[0;34m(self, data)\u001b[0m\n\u001b[1;32m    558\u001b[0m \u001b[38;5;28;01mdef\u001b[39;00m \u001b[38;5;21m_send\u001b[39m(\u001b[38;5;28mself\u001b[39m, data: Union[\u001b[38;5;28mstr\u001b[39m, \u001b[38;5;28mbytes\u001b[39m]):\n\u001b[0;32m--> 559\u001b[0m     \u001b[38;5;28;01mreturn\u001b[39;00m \u001b[43msend\u001b[49m\u001b[43m(\u001b[49m\u001b[38;5;28;43mself\u001b[39;49m\u001b[38;5;241;43m.\u001b[39;49m\u001b[43msock\u001b[49m\u001b[43m,\u001b[49m\u001b[43m \u001b[49m\u001b[43mdata\u001b[49m\u001b[43m)\u001b[49m\n",
      "File \u001b[0;32m~/.local/lib/python3.10/site-packages/websocket/_socket.py:149\u001b[0m, in \u001b[0;36msend\u001b[0;34m(sock, data)\u001b[0m\n\u001b[1;32m    146\u001b[0m     data \u001b[38;5;241m=\u001b[39m data\u001b[38;5;241m.\u001b[39mencode(\u001b[38;5;124m\"\u001b[39m\u001b[38;5;124mutf-8\u001b[39m\u001b[38;5;124m\"\u001b[39m)\n\u001b[1;32m    148\u001b[0m \u001b[38;5;28;01mif\u001b[39;00m \u001b[38;5;129;01mnot\u001b[39;00m sock:\n\u001b[0;32m--> 149\u001b[0m     \u001b[38;5;28;01mraise\u001b[39;00m WebSocketConnectionClosedException(\u001b[38;5;124m\"\u001b[39m\u001b[38;5;124msocket is already closed.\u001b[39m\u001b[38;5;124m\"\u001b[39m)\n\u001b[1;32m    151\u001b[0m \u001b[38;5;28;01mdef\u001b[39;00m \u001b[38;5;21m_send\u001b[39m():\n\u001b[1;32m    152\u001b[0m     \u001b[38;5;28;01mtry\u001b[39;00m:\n",
      "\u001b[0;31mWebSocketConnectionClosedException\u001b[0m: socket is already closed."
     ]
    }
   ],
   "source": [
    "env.close()"
   ]
  },
  {
   "cell_type": "code",
   "execution_count": 90,
   "metadata": {},
   "outputs": [
    {
     "name": "stderr",
     "output_type": "stream",
     "text": [
      "/home/biorp/.local/lib/python3.10/site-packages/stable_baselines3/common/vec_env/patch_gym.py:49: UserWarning:\n",
      "\n",
      "You provided an OpenAI Gym environment. We strongly recommend transitioning to Gymnasium environments. Stable-Baselines3 is automatically wrapping your environments in a compatibility layer, which could potentially cause issues.\n",
      "\n"
     ]
    }
   ],
   "source": [
    "trainer=RLSystem.stable_baselines_model_trainer(initialized_environment=env,\n",
    "                                                          algorithm='A2C',\n",
    "                                                          policy='MlpPolicy',\n",
    "                                                          logfn='model_stats.log',\n",
    "                                                          n_steps_per_timestep=2)"
   ]
  },
  {
   "cell_type": "code",
   "execution_count": 91,
   "metadata": {},
   "outputs": [
    {
     "data": {
      "text/plain": [
       "{'out_dict': {'leddelay': {'names': ['leddelay'],\n",
       "   'value_range': {'min': 1, 'max': 100},\n",
       "   'init_val': {'leddelay': 10}},\n",
       "  'ledcontrols': {'names': ['lv1r',\n",
       "    'lv1g',\n",
       "    'lv1b',\n",
       "    'lv2r',\n",
       "    'lv2g',\n",
       "    'lv2b',\n",
       "    'lv3r',\n",
       "    'lv3g',\n",
       "    'lv3b',\n",
       "    'lv4r',\n",
       "    'lv4g',\n",
       "    'lv4b',\n",
       "    'lv5r',\n",
       "    'lv5g',\n",
       "    'lv5b',\n",
       "    'lv6r',\n",
       "    'lv6g',\n",
       "    'lv6b',\n",
       "    'lv7r',\n",
       "    'lv7g',\n",
       "    'lv7b',\n",
       "    'lv8r',\n",
       "    'lv8g',\n",
       "    'lv8b'],\n",
       "   'value_range': {'min': 10, 'max': 255},\n",
       "   'init_val': {'lv1r': 255,\n",
       "    'lv1g': 0,\n",
       "    'lv1b': 0,\n",
       "    'lv2r': 0,\n",
       "    'lv2b': 0,\n",
       "    'lv3r': 0,\n",
       "    'lv3g': 0,\n",
       "    'lv3b': 255,\n",
       "    'lv4r': 255,\n",
       "    'lv4g': 255,\n",
       "    'lv4b': 255,\n",
       "    'lv5r': 0,\n",
       "    'lv5g': 255,\n",
       "    'lv5b': 255,\n",
       "    'lv6r': 255,\n",
       "    'lv6g': 0,\n",
       "    'lv6b': 255,\n",
       "    'lv7r': 255,\n",
       "    'lv7b': 0,\n",
       "    'lv8r': 255,\n",
       "    'lv8g': 0,\n",
       "    'lv8b': 0}},\n",
       "  'sound_wave_frequencies': {'names': ['wave_1_freq', 'wave_2_freq'],\n",
       "   'value_range': {'min': 1, 'max': 30000},\n",
       "   'init_val': {'wave_1_freq': 440, 'wave_2_freq': 440}},\n",
       "  'panner_phasor_frequencies': {'names': ['panner_freq',\n",
       "    'phasor_1_freq',\n",
       "    'phasor_2_freq',\n",
       "    'phasor_1_min',\n",
       "    'phasor_2_min',\n",
       "    'phasor_1_dif',\n",
       "    'phasor_2_dif'],\n",
       "   'value_range': {'min': 1, 'max': 50},\n",
       "   'init_val': {'panner_freq': 1,\n",
       "    'phasor_1_freq': 440,\n",
       "    'phasor_2_freq': 440,\n",
       "    'phasor_1_min': 1,\n",
       "    'phasor_2_min': 1,\n",
       "    'phasor_1_dif': 49,\n",
       "    'phasor_2_dif': 49}},\n",
       "  'panner_div': {'names': ['panner_div'],\n",
       "   'value_range': {'min': 1, 'max': 5},\n",
       "   'init_val': {'panner_div': 2}},\n",
       "  'sound_wave_shapes': {'names': ['wave_1_type', 'wave_2_type'],\n",
       "   'value_range': {'min': 0, 'max': 3},\n",
       "   'init_val': {'wave_1_type': 0, 'wave_2_type': 0}},\n",
       "  'maxivolume': {'names': ['maxivolume'],\n",
       "   'value_range': {'min': 1, 'max': 25},\n",
       "   'init_val': {'maxivolume': 10}}},\n",
       " 'session_settings': {'n_input_channels': 8,\n",
       "  'channels_of_interest_inds': [0, 1, 2, 3, 4, 5, 6, 7],\n",
       "  'n_timepoints_per_sample': 100,\n",
       "  'max_sfsystem_output': 1023,\n",
       "  'reward_formula_string': '(fbin_1_4_ch0+freq_30_ch0)/fbin_12_30_ch0',\n",
       "  'fbins': [(0, 1), (1, 4), (4, 8), (8, 12), (12, 30), (30, 50)],\n",
       "  'delay': 10,\n",
       "  'use_raw_in_os_def': True,\n",
       "  'use_freq_in_os_def': True,\n",
       "  'use_fbins_in_os_def': True,\n",
       "  'device_address': 'ws://10.42.0.231:80/',\n",
       "  'step_stim_length_millis': 10000,\n",
       "  'episode_time_seconds': 60,\n",
       "  'logfn': 'current_training.log',\n",
       "  'algorithm': 'A2C',\n",
       "  'policy': 'MlpPolicy',\n",
       "  'n_steps_per_timestep': 2}}"
      ]
     },
     "execution_count": 91,
     "metadata": {},
     "output_type": "execute_result"
    }
   ],
   "source": [
    "trainer.env_data"
   ]
  },
  {
   "cell_type": "code",
   "execution_count": 81,
   "metadata": {},
   "outputs": [],
   "source": [
    "import json"
   ]
  },
  {
   "cell_type": "code",
   "execution_count": 76,
   "metadata": {},
   "outputs": [],
   "source": [
    "input='model_stats.log'\n",
    "with open(input, 'r') as f:\n",
    "# Read the entire file as a string\n",
    "    data = f.read()"
   ]
  },
  {
   "cell_type": "code",
   "execution_count": 83,
   "metadata": {},
   "outputs": [],
   "source": [
    "modstats=json.loads(data.split('\\n')[0])"
   ]
  },
  {
   "cell_type": "code",
   "execution_count": 84,
   "metadata": {},
   "outputs": [
    {
     "data": {
      "text/plain": [
       "{'out_dict': {'leddelay': {'names': ['leddelay'],\n",
       "   'value_range': {'min': 1, 'max': 100},\n",
       "   'init_val': {'leddelay': 10}},\n",
       "  'ledcontrols': {'names': ['lv1r',\n",
       "    'lv1g',\n",
       "    'lv1b',\n",
       "    'lv2r',\n",
       "    'lv2g',\n",
       "    'lv2b',\n",
       "    'lv3r',\n",
       "    'lv3g',\n",
       "    'lv3b',\n",
       "    'lv4r',\n",
       "    'lv4g',\n",
       "    'lv4b',\n",
       "    'lv5r',\n",
       "    'lv5g',\n",
       "    'lv5b',\n",
       "    'lv6r',\n",
       "    'lv6g',\n",
       "    'lv6b',\n",
       "    'lv7r',\n",
       "    'lv7g',\n",
       "    'lv7b',\n",
       "    'lv8r',\n",
       "    'lv8g',\n",
       "    'lv8b'],\n",
       "   'value_range': {'min': 10, 'max': 255},\n",
       "   'init_val': {'lv1r': 255,\n",
       "    'lv1g': 0,\n",
       "    'lv1b': 0,\n",
       "    'lv2r': 0,\n",
       "    'lv2b': 0,\n",
       "    'lv3r': 0,\n",
       "    'lv3g': 0,\n",
       "    'lv3b': 255,\n",
       "    'lv4r': 255,\n",
       "    'lv4g': 255,\n",
       "    'lv4b': 255,\n",
       "    'lv5r': 0,\n",
       "    'lv5g': 255,\n",
       "    'lv5b': 255,\n",
       "    'lv6r': 255,\n",
       "    'lv6g': 0,\n",
       "    'lv6b': 255,\n",
       "    'lv7r': 255,\n",
       "    'lv7b': 0,\n",
       "    'lv8r': 255,\n",
       "    'lv8g': 0,\n",
       "    'lv8b': 0}},\n",
       "  'sound_wave_frequencies': {'names': ['wave_1_freq', 'wave_2_freq'],\n",
       "   'value_range': {'min': 1, 'max': 30000},\n",
       "   'init_val': {'wave_1_freq': 440, 'wave_2_freq': 440}},\n",
       "  'panner_phasor_frequencies': {'names': ['panner_freq',\n",
       "    'phasor_1_freq',\n",
       "    'phasor_2_freq',\n",
       "    'phasor_1_min',\n",
       "    'phasor_2_min',\n",
       "    'phasor_1_dif',\n",
       "    'phasor_2_dif'],\n",
       "   'value_range': {'min': 1, 'max': 50},\n",
       "   'init_val': {'panner_freq': 1,\n",
       "    'phasor_1_freq': 440,\n",
       "    'phasor_2_freq': 440,\n",
       "    'phasor_1_min': 1,\n",
       "    'phasor_2_min': 1,\n",
       "    'phasor_1_dif': 49,\n",
       "    'phasor_2_dif': 49}},\n",
       "  'panner_div': {'names': ['panner_div'],\n",
       "   'value_range': {'min': 1, 'max': 5},\n",
       "   'init_val': {'panner_div': 2}},\n",
       "  'sound_wave_shapes': {'names': ['wave_1_type', 'wave_2_type'],\n",
       "   'value_range': {'min': 0, 'max': 3},\n",
       "   'init_val': {'wave_1_type': 0, 'wave_2_type': 0}},\n",
       "  'maxivolume': {'names': ['maxivolume'],\n",
       "   'value_range': {'min': 1, 'max': 25},\n",
       "   'init_val': {'maxivolume': 10}}},\n",
       " 'session_settings': {'n_input_channels': 8,\n",
       "  'channels_of_interest_inds': [0, 1, 2, 3, 4, 5, 6, 7],\n",
       "  'n_timepoints_per_sample': 100,\n",
       "  'max_sfsystem_output': 1023,\n",
       "  'reward_formula_string': '(fbin_1_4_ch0+freq_30_ch0)/fbin_12_30_ch0',\n",
       "  'fbins': [[0, 1], [1, 4], [4, 8], [8, 12], [12, 30], [30, 50]],\n",
       "  'delay': 10,\n",
       "  'use_raw_in_os_def': True,\n",
       "  'use_freq_in_os_def': True,\n",
       "  'use_fbins_in_os_def': True,\n",
       "  'device_address': 'ws://10.42.0.231:80/',\n",
       "  'step_stim_length_millis': 10000,\n",
       "  'episode_time_seconds': 60,\n",
       "  'render_data': True,\n",
       "  'logfn': 'current_training.log'}}"
      ]
     },
     "execution_count": 84,
     "metadata": {},
     "output_type": "execute_result"
    }
   ],
   "source": [
    "modstats"
   ]
  },
  {
   "cell_type": "code",
   "execution_count": null,
   "metadata": {},
   "outputs": [],
   "source": [
    "def read_model_logfile(logfn)"
   ]
  },
  {
   "cell_type": "code",
   "execution_count": 75,
   "metadata": {},
   "outputs": [],
   "source": [
    "import pandas as pd"
   ]
  },
  {
   "cell_type": "code",
   "execution_count": 40,
   "metadata": {},
   "outputs": [],
   "source": [
    "trainer.load_model('best_overall_reward_model.zip')"
   ]
  },
  {
   "cell_type": "code",
   "execution_count": 41,
   "metadata": {},
   "outputs": [
    {
     "name": "stdout",
     "output_type": "stream",
     "text": [
      "[255, 0, 0, 0, 42, 0, 0, 0, 255, 255, 255, 255, 0, 255, 255, 255, 0, 255, 255, 250, 0, 255, 0, 0, 10, 440, 440, 1, 2, 440, 1, 49, 440, 1, 49, 10, 0, 0]\n",
      "255,0,0,0,42,0,0,0,255,255,255,255,0,255,255,255,0,255,255,250,0,255,0,0,10,440,440,1,2,440,1,49,440,1,49,10,0,0\n",
      "[138.4424403309822, 124.5510958135128, 139.80554103851318, 140.6298005580902, 140.38353323936462, 139.61152374744415, 140.25324404239655, 139.9644523859024, 124.63485941290855, 126.8692198395729, 140.6295084953308, 140.76385736465454, 124.49521690607071, 124.57957193255424, 140.54167062044144, 140.28953284025192, 139.6722435951233, 123.93574878573418, 139.2077761888504, 124.17306438088417, 124.64347526431084, 139.62155610322952, 124.37772735953331, 124.09011125564575, 47.31272432208061, 16065.412345290184, 15841.281914293766, 23.880928188562393, 2.876176953315735, 23.809965699911118, 23.939073503017426, 27.036635637283325, 27.15800815820694, 23.796324908733368, 24.293258011341095, 13.819000720977783, 1.396243929862976, 1.5982182025909424]\n",
      "138,124,139,140,140,139,140,139,124,126,140,140,124,124,140,140,139,123,139,124,124,139,124,124,47,16065,15841,23,2,23,23,27,27,23,24,13,1,1\n",
      "[138.4424403309822, 124.5510958135128, 139.80554103851318, 140.6298005580902, 140.38353323936462, 139.61152374744415, 140.25324404239655, 139.9644523859024, 124.63485941290855, 126.8692198395729, 140.6295084953308, 140.76385736465454, 124.49521690607071, 124.57957193255424, 140.54167062044144, 140.28953284025192, 139.6722435951233, 123.93574878573418, 139.2077761888504, 124.17306438088417, 124.64347526431084, 139.62155610322952, 124.37772735953331, 124.09011125564575, 47.31272432208061, 16065.412345290184, 15841.281914293766, 23.880928188562393, 2.876176953315735, 23.809965699911118, 23.939073503017426, 27.036635637283325, 27.15800815820694, 23.796324908733368, 24.293258011341095, 13.819000720977783, 1.396243929862976, 1.5982182025909424]\n",
      "138,124,139,140,140,139,140,139,124,126,140,140,124,124,140,140,139,123,139,124,124,139,124,124,47,16065,15841,23,2,23,23,27,27,23,24,13,1,1\n",
      "[138.4424403309822, 124.5510958135128, 139.80554103851318, 140.6298005580902, 140.38353323936462, 139.61152374744415, 140.25324404239655, 139.9644523859024, 124.63485941290855, 126.8692198395729, 140.6295084953308, 140.76385736465454, 124.49521690607071, 124.57957193255424, 140.54167062044144, 140.28953284025192, 139.6722435951233, 123.93574878573418, 139.2077761888504, 124.17306438088417, 124.64347526431084, 139.62155610322952, 124.37772735953331, 124.09011125564575, 47.31272432208061, 16065.412345290184, 15841.281914293766, 23.880928188562393, 2.876176953315735, 23.809965699911118, 23.939073503017426, 27.036635637283325, 27.15800815820694, 23.796324908733368, 24.293258011341095, 13.819000720977783, 1.396243929862976, 1.5982182025909424]\n",
      "138,124,139,140,140,139,140,139,124,126,140,140,124,124,140,140,139,123,139,124,124,139,124,124,47,16065,15841,23,2,23,23,27,27,23,24,13,1,1\n",
      "[138.4424403309822, 124.5510958135128, 139.80554103851318, 140.6298005580902, 140.38353323936462, 139.61152374744415, 140.25324404239655, 139.9644523859024, 124.63485941290855, 126.8692198395729, 140.6295084953308, 140.76385736465454, 124.49521690607071, 124.57957193255424, 140.54167062044144, 140.28953284025192, 139.6722435951233, 123.93574878573418, 139.2077761888504, 124.17306438088417, 124.64347526431084, 139.62155610322952, 124.37772735953331, 124.09011125564575, 47.31272432208061, 16065.412345290184, 15841.281914293766, 23.880928188562393, 2.876176953315735, 23.809965699911118, 23.939073503017426, 27.036635637283325, 27.15800815820694, 23.796324908733368, 24.293258011341095, 13.819000720977783, 1.396243929862976, 1.5982182025909424]\n",
      "138,124,139,140,140,139,140,139,124,126,140,140,124,124,140,140,139,123,139,124,124,139,124,124,47,16065,15841,23,2,23,23,27,27,23,24,13,1,1\n",
      "[138.4424403309822, 124.5510958135128, 139.80554103851318, 140.6298005580902, 140.38353323936462, 139.61152374744415, 140.25324404239655, 139.9644523859024, 124.63485941290855, 126.8692198395729, 140.6295084953308, 140.76385736465454, 124.49521690607071, 124.57957193255424, 140.54167062044144, 140.28953284025192, 139.6722435951233, 123.93574878573418, 139.2077761888504, 124.17306438088417, 124.64347526431084, 139.62155610322952, 124.37772735953331, 124.09011125564575, 47.31272432208061, 16065.412345290184, 15841.281914293766, 23.880928188562393, 2.876176953315735, 23.809965699911118, 23.939073503017426, 27.036635637283325, 27.15800815820694, 23.796324908733368, 24.293258011341095, 13.819000720977783, 1.396243929862976, 1.5982182025909424]\n",
      "138,124,139,140,140,139,140,139,124,126,140,140,124,124,140,140,139,123,139,124,124,139,124,124,47,16065,15841,23,2,23,23,27,27,23,24,13,1,1\n",
      "[138.4424403309822, 124.5510958135128, 139.80554103851318, 140.6298005580902, 140.38353323936462, 139.61152374744415, 140.25324404239655, 139.9644523859024, 124.63485941290855, 126.8692198395729, 140.6295084953308, 140.76385736465454, 124.49521690607071, 124.57957193255424, 140.54167062044144, 140.28953284025192, 139.6722435951233, 123.93574878573418, 139.2077761888504, 124.17306438088417, 124.64347526431084, 139.62155610322952, 124.37772735953331, 124.09011125564575, 47.31272432208061, 16065.412345290184, 15841.281914293766, 23.880928188562393, 2.876176953315735, 23.809965699911118, 23.939073503017426, 27.036635637283325, 27.15800815820694, 23.796324908733368, 24.293258011341095, 13.819000720977783, 1.396243929862976, 1.5982182025909424]\n",
      "138,124,139,140,140,139,140,139,124,126,140,140,124,124,140,140,139,123,139,124,124,139,124,124,47,16065,15841,23,2,23,23,27,27,23,24,13,1,1\n",
      "[138.4424403309822, 124.5510958135128, 139.80554103851318, 140.6298005580902, 140.38353323936462, 139.61152374744415, 140.25324404239655, 139.9644523859024, 124.63485941290855, 126.8692198395729, 140.6295084953308, 140.76385736465454, 124.49521690607071, 124.57957193255424, 140.54167062044144, 140.28953284025192, 139.6722435951233, 123.93574878573418, 139.2077761888504, 124.17306438088417, 124.64347526431084, 139.62155610322952, 124.37772735953331, 124.09011125564575, 47.31272432208061, 16065.412345290184, 15841.281914293766, 23.880928188562393, 2.876176953315735, 23.809965699911118, 23.939073503017426, 27.036635637283325, 27.15800815820694, 23.796324908733368, 24.293258011341095, 13.819000720977783, 1.396243929862976, 1.5982182025909424]\n",
      "138,124,139,140,140,139,140,139,124,126,140,140,124,124,140,140,139,123,139,124,124,139,124,124,47,16065,15841,23,2,23,23,27,27,23,24,13,1,1\n"
     ]
    }
   ],
   "source": [
    "trainer.no_training_model_run()"
   ]
  },
  {
   "cell_type": "code",
   "execution_count": 42,
   "metadata": {},
   "outputs": [],
   "source": [
    "trainer.env.close()"
   ]
  },
  {
   "cell_type": "code",
   "execution_count": 15,
   "metadata": {},
   "outputs": [
    {
     "name": "stdout",
     "output_type": "stream",
     "text": [
      "[37.73528724908829, 224.54868972301483, 130.03612205386162, 50.64240217208862, 233.88463646173477, 181.85187429189682, 172.25359678268433, 236.10421121120453, 100.1171837747097, 114.15146380662918, 193.72041404247284, 115.02310320734978, 244.46252167224884, 219.5751529932022, 201.6594684123993, 183.14009010791779, 210.3464663028717, 185.45944809913635, 19.507840275764465, 65.53768321871758, 82.55119323730469, 165.09998679161072, 189.89147126674652, 120.66817253828049, 29.0343359708786, 10580.67264777422, 14374.204508632421, 26.696078777313232, 2.1812262535095215, 28.337191104888916, 8.98550695180893, 14.250910758972168, 9.53232291340828, 5.648097038269043, 42.035746455192566, 6.348744630813599, 1.184200644493103, 1.174378126859665]\n",
      "37,224,130,50,233,181,172,236,100,114,193,115,244,219,201,183,210,185,19,65,82,165,189,120,29,10580,14374,26,2,28,8,14,9,5,42,6,1,1\n"
     ]
    }
   ],
   "source": [
    "trainer.dynamic_launch()"
   ]
  },
  {
   "cell_type": "code",
   "execution_count": 23,
   "metadata": {},
   "outputs": [
    {
     "name": "stdout",
     "output_type": "stream",
     "text": [
      "[255, 0, 0, 0, 107, 0, 0, 0, 255, 255, 255, 255, 0, 255, 255, 255, 0, 255, 255, 24, 0, 255, 0, 0, 10, 440, 440, 1, 2, 440, 1, 49, 440, 1, 49, 10, 0, 0]\n",
      "255,0,0,0,107,0,0,0,255,255,255,255,0,255,255,255,0,255,255,24,0,255,0,0,10,440,440,1,2,440,1,49,440,1,49,10,0,0\n"
     ]
    }
   ],
   "source": [
    "trainer.static_launch()"
   ]
  },
  {
   "cell_type": "code",
   "execution_count": 132,
   "metadata": {},
   "outputs": [
    {
     "data": {
      "text/plain": [
       "Box(-1.0, 1.0, (38,), float32)"
      ]
     },
     "execution_count": 132,
     "metadata": {},
     "output_type": "execute_result"
    }
   ],
   "source": [
    "trainer.env.action_space"
   ]
  },
  {
   "cell_type": "code",
   "execution_count": 133,
   "metadata": {},
   "outputs": [
    {
     "data": {
      "text/plain": [
       "array([-0.2563431 , -0.32272372,  0.2055059 ,  0.25758225, -0.6767539 ,\n",
       "       -0.29601505, -0.15126814, -0.6863118 , -0.11512566, -0.32938278,\n",
       "        0.97094345,  0.8469327 , -0.3576547 , -0.28550586,  0.04247129,\n",
       "        0.8956824 ,  0.7959811 , -0.01473116,  0.24083948,  0.7983203 ,\n",
       "        0.24649554, -0.6973428 ,  0.14983971,  0.7582619 ,  0.3552442 ,\n",
       "       -0.6117365 ,  0.46261513, -0.8492093 ,  0.13925077,  0.23220345,\n",
       "       -0.41340008,  0.7191646 , -0.04941723, -0.7914214 ,  0.5314542 ,\n",
       "        0.8642335 , -0.65000075, -0.07796077], dtype=float32)"
      ]
     },
     "execution_count": 133,
     "metadata": {},
     "output_type": "execute_result"
    }
   ],
   "source": [
    "trainer.env.action_space.sample()"
   ]
  },
  {
   "cell_type": "code",
   "execution_count": 135,
   "metadata": {},
   "outputs": [
    {
     "name": "stdout",
     "output_type": "stream",
     "text": [
      "[173.20912390947342, 100.21237432956696, 51.36457845568657, 46.56760096549988, 157.72033482789993, 253.72263431549072, 110.5323389172554, 153.2065486907959, 226.37305974960327, 176.74655884504318, 172.50748693943024, 195.0515192747116, 127.053482234478, 70.72391465306282, 71.91187262535095, 66.466304063797, 91.91785767674446, 64.5831198990345, 25.932111144065857, 223.66016179323196, 136.10903412103653, 48.72679904103279, 184.41897451877594, 113.33859473466873, 68.43696165084839, 28048.323481857777, 11321.691335171461, 48.82400929927826, 1.127994179725647, 34.655781984329224, 25.808318972587585, 7.856333911418915, 33.82100236415863, 27.572786927223206, 34.27126383781433, 18.689464569091797, 2.243101716041565, 2.638328790664673]\n",
      "173,100,51,46,157,253,110,153,226,176,172,195,127,70,71,66,91,64,25,223,136,48,184,113,68,28048,11321,48,1,34,25,7,33,27,34,18,2,2\n"
     ]
    }
   ],
   "source": [
    "res=trainer.env.step(trainer.env.action_space.sample())"
   ]
  },
  {
   "cell_type": "code",
   "execution_count": 138,
   "metadata": {},
   "outputs": [
    {
     "data": {
      "text/plain": [
       "(1256,)"
      ]
     },
     "execution_count": 138,
     "metadata": {},
     "output_type": "execute_result"
    }
   ],
   "source": [
    "res[0].shape"
   ]
  },
  {
   "cell_type": "code",
   "execution_count": 118,
   "metadata": {},
   "outputs": [],
   "source": [
    "env.close()"
   ]
  },
  {
   "cell_type": "code",
   "execution_count": 7,
   "metadata": {},
   "outputs": [
    {
     "name": "stdout",
     "output_type": "stream",
     "text": [
      "[255, 0, 0, 0, 243, 0, 0, 0, 255, 255, 255, 255, 0, 255, 255, 255, 0, 255, 255, 96, 0, 255, 0, 0, 10, 440, 440, 1, 2, 440, 1, 49, 440, 1, 49, 10, 0, 0]\n",
      "255,0,0,0,243,0,0,0,255,255,255,255,0,255,255,255,0,255,255,96,0,255,0,0,10,440,440,1,2,440,1,49,440,1,49,10,0,0\n"
     ]
    },
    {
     "ename": "UnboundLocalError",
     "evalue": "local variable 'new_observations' referenced before assignment",
     "output_type": "error",
     "traceback": [
      "\u001b[0;31m---------------------------------------------------------------------------\u001b[0m",
      "\u001b[0;31mUnboundLocalError\u001b[0m                         Traceback (most recent call last)",
      "Cell \u001b[0;32mIn[7], line 3\u001b[0m\n\u001b[1;32m      1\u001b[0m sd2\u001b[38;5;241m=\u001b[39m{\u001b[38;5;124m'\u001b[39m\u001b[38;5;124mnum_episodes\u001b[39m\u001b[38;5;124m'\u001b[39m: \u001b[38;5;241m1\u001b[39m, \u001b[38;5;124m'\u001b[39m\u001b[38;5;124mlog_model\u001b[39m\u001b[38;5;124m'\u001b[39m: \u001b[38;5;28;01mTrue\u001b[39;00m, \u001b[38;5;124m'\u001b[39m\u001b[38;5;124mn_total_timesteps\u001b[39m\u001b[38;5;124m'\u001b[39m: \u001b[38;5;124m'\u001b[39m\u001b[38;5;124mepisode\u001b[39m\u001b[38;5;124m'\u001b[39m, \u001b[38;5;124m'\u001b[39m\u001b[38;5;124mlog_or_plot_every_n_timesteps\u001b[39m\u001b[38;5;124m'\u001b[39m: \u001b[38;5;241m1\u001b[39m, \u001b[38;5;124m'\u001b[39m\u001b[38;5;124mjnb\u001b[39m\u001b[38;5;124m'\u001b[39m: \u001b[38;5;28;01mFalse\u001b[39;00m}\n\u001b[0;32m----> 3\u001b[0m \u001b[43mtrainer\u001b[49m\u001b[38;5;241;43m.\u001b[39;49m\u001b[43mtrain\u001b[49m\u001b[43m(\u001b[49m\u001b[43mnum_episodes\u001b[49m\u001b[38;5;241;43m=\u001b[39;49m\u001b[43msd2\u001b[49m\u001b[43m[\u001b[49m\u001b[38;5;124;43m'\u001b[39;49m\u001b[38;5;124;43mnum_episodes\u001b[39;49m\u001b[38;5;124;43m'\u001b[39;49m\u001b[43m]\u001b[49m\u001b[43m,\u001b[49m\u001b[43m \u001b[49m\u001b[43mlog_model\u001b[49m\u001b[38;5;241;43m=\u001b[39;49m\u001b[43msd2\u001b[49m\u001b[43m[\u001b[49m\u001b[38;5;124;43m'\u001b[39;49m\u001b[38;5;124;43mlog_model\u001b[39;49m\u001b[38;5;124;43m'\u001b[39;49m\u001b[43m]\u001b[49m\u001b[43m,\u001b[49m\u001b[43mn_total_timesteps\u001b[49m\u001b[38;5;241;43m=\u001b[39;49m\u001b[38;5;241;43m2\u001b[39;49m\u001b[43m,\u001b[49m\u001b[43m \u001b[49m\u001b[38;5;66;43;03m#sd2['n_total_timesteps'],\u001b[39;49;00m\n\u001b[1;32m      4\u001b[0m \u001b[43m                 \u001b[49m\u001b[43mlog_or_plot_every_n_timesteps\u001b[49m\u001b[38;5;241;43m=\u001b[39;49m\u001b[43msd2\u001b[49m\u001b[43m[\u001b[49m\u001b[38;5;124;43m'\u001b[39;49m\u001b[38;5;124;43mlog_or_plot_every_n_timesteps\u001b[39;49m\u001b[38;5;124;43m'\u001b[39;49m\u001b[43m]\u001b[49m\u001b[43m,\u001b[49m\u001b[43m \u001b[49m\u001b[43mjnb\u001b[49m\u001b[38;5;241;43m=\u001b[39;49m\u001b[38;5;28;43;01mFalse\u001b[39;49;00m\u001b[43m)\u001b[49m\n",
      "File \u001b[0;32m~/Documents/PlatformIO/Projects/SFSystem_withAV/RLSystem.py:708\u001b[0m, in \u001b[0;36mstable_baselines_model_trainer.train\u001b[0;34m(self, num_episodes, log_model, get_plots, render_plots, n_total_timesteps, log_or_plot_every_n_timesteps, jnb)\u001b[0m\n\u001b[1;32m    706\u001b[0m \u001b[38;5;28;01mwhile\u001b[39;00m \u001b[38;5;28mself\u001b[39m\u001b[38;5;241m.\u001b[39mcur_n_timesteps\u001b[38;5;241m<\u001b[39m\u001b[38;5;28mint\u001b[39m(n_total_timesteps): \u001b[38;5;66;03m#here-for A2C\u001b[39;00m\n\u001b[1;32m    707\u001b[0m     \u001b[38;5;28;01mif\u001b[39;00m \u001b[38;5;28mself\u001b[39m\u001b[38;5;241m.\u001b[39menv\u001b[38;5;241m.\u001b[39mws\u001b[38;5;241m.\u001b[39msock \u001b[38;5;129;01mis\u001b[39;00m \u001b[38;5;129;01mnot\u001b[39;00m \u001b[38;5;28;01mNone\u001b[39;00m:\n\u001b[0;32m--> 708\u001b[0m         \u001b[38;5;28;43mself\u001b[39;49m\u001b[38;5;241;43m.\u001b[39;49m\u001b[43mmodel\u001b[49m\u001b[38;5;241;43m.\u001b[39;49m\u001b[43mlearn\u001b[49m\u001b[43m(\u001b[49m\u001b[43mtotal_timesteps\u001b[49m\u001b[38;5;241;43m=\u001b[39;49m\u001b[43mlog_or_plot_every_n_timesteps\u001b[49m\u001b[43m)\u001b[49m\n\u001b[1;32m    709\u001b[0m         \u001b[38;5;28mself\u001b[39m\u001b[38;5;241m.\u001b[39mcur_n_timesteps\u001b[38;5;241m+\u001b[39m\u001b[38;5;241m=\u001b[39mlog_or_plot_every_n_timesteps\n\u001b[1;32m    710\u001b[0m         \u001b[38;5;28;01mif\u001b[39;00m render_plots:\n",
      "File \u001b[0;32m~/.local/lib/python3.10/site-packages/stable_baselines3/ppo/ppo.py:315\u001b[0m, in \u001b[0;36mPPO.learn\u001b[0;34m(self, total_timesteps, callback, log_interval, tb_log_name, reset_num_timesteps, progress_bar)\u001b[0m\n\u001b[1;32m    306\u001b[0m \u001b[38;5;28;01mdef\u001b[39;00m \u001b[38;5;21mlearn\u001b[39m(\n\u001b[1;32m    307\u001b[0m     \u001b[38;5;28mself\u001b[39m: SelfPPO,\n\u001b[1;32m    308\u001b[0m     total_timesteps: \u001b[38;5;28mint\u001b[39m,\n\u001b[0;32m   (...)\u001b[0m\n\u001b[1;32m    313\u001b[0m     progress_bar: \u001b[38;5;28mbool\u001b[39m \u001b[38;5;241m=\u001b[39m \u001b[38;5;28;01mFalse\u001b[39;00m,\n\u001b[1;32m    314\u001b[0m ) \u001b[38;5;241m-\u001b[39m\u001b[38;5;241m>\u001b[39m SelfPPO:\n\u001b[0;32m--> 315\u001b[0m     \u001b[38;5;28;01mreturn\u001b[39;00m \u001b[38;5;28;43msuper\u001b[39;49m\u001b[43m(\u001b[49m\u001b[43m)\u001b[49m\u001b[38;5;241;43m.\u001b[39;49m\u001b[43mlearn\u001b[49m\u001b[43m(\u001b[49m\n\u001b[1;32m    316\u001b[0m \u001b[43m        \u001b[49m\u001b[43mtotal_timesteps\u001b[49m\u001b[38;5;241;43m=\u001b[39;49m\u001b[43mtotal_timesteps\u001b[49m\u001b[43m,\u001b[49m\n\u001b[1;32m    317\u001b[0m \u001b[43m        \u001b[49m\u001b[43mcallback\u001b[49m\u001b[38;5;241;43m=\u001b[39;49m\u001b[43mcallback\u001b[49m\u001b[43m,\u001b[49m\n\u001b[1;32m    318\u001b[0m \u001b[43m        \u001b[49m\u001b[43mlog_interval\u001b[49m\u001b[38;5;241;43m=\u001b[39;49m\u001b[43mlog_interval\u001b[49m\u001b[43m,\u001b[49m\n\u001b[1;32m    319\u001b[0m \u001b[43m        \u001b[49m\u001b[43mtb_log_name\u001b[49m\u001b[38;5;241;43m=\u001b[39;49m\u001b[43mtb_log_name\u001b[49m\u001b[43m,\u001b[49m\n\u001b[1;32m    320\u001b[0m \u001b[43m        \u001b[49m\u001b[43mreset_num_timesteps\u001b[49m\u001b[38;5;241;43m=\u001b[39;49m\u001b[43mreset_num_timesteps\u001b[49m\u001b[43m,\u001b[49m\n\u001b[1;32m    321\u001b[0m \u001b[43m        \u001b[49m\u001b[43mprogress_bar\u001b[49m\u001b[38;5;241;43m=\u001b[39;49m\u001b[43mprogress_bar\u001b[49m\u001b[43m,\u001b[49m\n\u001b[1;32m    322\u001b[0m \u001b[43m    \u001b[49m\u001b[43m)\u001b[49m\n",
      "File \u001b[0;32m~/.local/lib/python3.10/site-packages/stable_baselines3/common/on_policy_algorithm.py:264\u001b[0m, in \u001b[0;36mOnPolicyAlgorithm.learn\u001b[0;34m(self, total_timesteps, callback, log_interval, tb_log_name, reset_num_timesteps, progress_bar)\u001b[0m\n\u001b[1;32m    253\u001b[0m \u001b[38;5;28;01mdef\u001b[39;00m \u001b[38;5;21mlearn\u001b[39m(\n\u001b[1;32m    254\u001b[0m     \u001b[38;5;28mself\u001b[39m: SelfOnPolicyAlgorithm,\n\u001b[1;32m    255\u001b[0m     total_timesteps: \u001b[38;5;28mint\u001b[39m,\n\u001b[0;32m   (...)\u001b[0m\n\u001b[1;32m    260\u001b[0m     progress_bar: \u001b[38;5;28mbool\u001b[39m \u001b[38;5;241m=\u001b[39m \u001b[38;5;28;01mFalse\u001b[39;00m,\n\u001b[1;32m    261\u001b[0m ) \u001b[38;5;241m-\u001b[39m\u001b[38;5;241m>\u001b[39m SelfOnPolicyAlgorithm:\n\u001b[1;32m    262\u001b[0m     iteration \u001b[38;5;241m=\u001b[39m \u001b[38;5;241m0\u001b[39m\n\u001b[0;32m--> 264\u001b[0m     total_timesteps, callback \u001b[38;5;241m=\u001b[39m \u001b[38;5;28;43mself\u001b[39;49m\u001b[38;5;241;43m.\u001b[39;49m\u001b[43m_setup_learn\u001b[49m\u001b[43m(\u001b[49m\n\u001b[1;32m    265\u001b[0m \u001b[43m        \u001b[49m\u001b[43mtotal_timesteps\u001b[49m\u001b[43m,\u001b[49m\n\u001b[1;32m    266\u001b[0m \u001b[43m        \u001b[49m\u001b[43mcallback\u001b[49m\u001b[43m,\u001b[49m\n\u001b[1;32m    267\u001b[0m \u001b[43m        \u001b[49m\u001b[43mreset_num_timesteps\u001b[49m\u001b[43m,\u001b[49m\n\u001b[1;32m    268\u001b[0m \u001b[43m        \u001b[49m\u001b[43mtb_log_name\u001b[49m\u001b[43m,\u001b[49m\n\u001b[1;32m    269\u001b[0m \u001b[43m        \u001b[49m\u001b[43mprogress_bar\u001b[49m\u001b[43m,\u001b[49m\n\u001b[1;32m    270\u001b[0m \u001b[43m    \u001b[49m\u001b[43m)\u001b[49m\n\u001b[1;32m    272\u001b[0m     callback\u001b[38;5;241m.\u001b[39mon_training_start(\u001b[38;5;28mlocals\u001b[39m(), \u001b[38;5;28mglobals\u001b[39m())\n\u001b[1;32m    274\u001b[0m     \u001b[38;5;28;01massert\u001b[39;00m \u001b[38;5;28mself\u001b[39m\u001b[38;5;241m.\u001b[39menv \u001b[38;5;129;01mis\u001b[39;00m \u001b[38;5;129;01mnot\u001b[39;00m \u001b[38;5;28;01mNone\u001b[39;00m\n",
      "File \u001b[0;32m~/.local/lib/python3.10/site-packages/stable_baselines3/common/base_class.py:423\u001b[0m, in \u001b[0;36mBaseAlgorithm._setup_learn\u001b[0;34m(self, total_timesteps, callback, reset_num_timesteps, tb_log_name, progress_bar)\u001b[0m\n\u001b[1;32m    421\u001b[0m \u001b[38;5;28;01mif\u001b[39;00m reset_num_timesteps \u001b[38;5;129;01mor\u001b[39;00m \u001b[38;5;28mself\u001b[39m\u001b[38;5;241m.\u001b[39m_last_obs \u001b[38;5;129;01mis\u001b[39;00m \u001b[38;5;28;01mNone\u001b[39;00m:\n\u001b[1;32m    422\u001b[0m     \u001b[38;5;28;01massert\u001b[39;00m \u001b[38;5;28mself\u001b[39m\u001b[38;5;241m.\u001b[39menv \u001b[38;5;129;01mis\u001b[39;00m \u001b[38;5;129;01mnot\u001b[39;00m \u001b[38;5;28;01mNone\u001b[39;00m\n\u001b[0;32m--> 423\u001b[0m     \u001b[38;5;28mself\u001b[39m\u001b[38;5;241m.\u001b[39m_last_obs \u001b[38;5;241m=\u001b[39m \u001b[38;5;28;43mself\u001b[39;49m\u001b[38;5;241;43m.\u001b[39;49m\u001b[43menv\u001b[49m\u001b[38;5;241;43m.\u001b[39;49m\u001b[43mreset\u001b[49m\u001b[43m(\u001b[49m\u001b[43m)\u001b[49m  \u001b[38;5;66;03m# type: ignore[assignment]\u001b[39;00m\n\u001b[1;32m    424\u001b[0m     \u001b[38;5;28mself\u001b[39m\u001b[38;5;241m.\u001b[39m_last_episode_starts \u001b[38;5;241m=\u001b[39m np\u001b[38;5;241m.\u001b[39mones((\u001b[38;5;28mself\u001b[39m\u001b[38;5;241m.\u001b[39menv\u001b[38;5;241m.\u001b[39mnum_envs,), dtype\u001b[38;5;241m=\u001b[39m\u001b[38;5;28mbool\u001b[39m)\n\u001b[1;32m    425\u001b[0m     \u001b[38;5;66;03m# Retrieve unnormalized observation for saving into the buffer\u001b[39;00m\n",
      "File \u001b[0;32m~/.local/lib/python3.10/site-packages/stable_baselines3/common/vec_env/dummy_vec_env.py:79\u001b[0m, in \u001b[0;36mDummyVecEnv.reset\u001b[0;34m(self)\u001b[0m\n\u001b[1;32m     77\u001b[0m \u001b[38;5;28;01mfor\u001b[39;00m env_idx \u001b[38;5;129;01min\u001b[39;00m \u001b[38;5;28mrange\u001b[39m(\u001b[38;5;28mself\u001b[39m\u001b[38;5;241m.\u001b[39mnum_envs):\n\u001b[1;32m     78\u001b[0m     maybe_options \u001b[38;5;241m=\u001b[39m {\u001b[38;5;124m\"\u001b[39m\u001b[38;5;124moptions\u001b[39m\u001b[38;5;124m\"\u001b[39m: \u001b[38;5;28mself\u001b[39m\u001b[38;5;241m.\u001b[39m_options[env_idx]} \u001b[38;5;28;01mif\u001b[39;00m \u001b[38;5;28mself\u001b[39m\u001b[38;5;241m.\u001b[39m_options[env_idx] \u001b[38;5;28;01melse\u001b[39;00m {}\n\u001b[0;32m---> 79\u001b[0m     obs, \u001b[38;5;28mself\u001b[39m\u001b[38;5;241m.\u001b[39mreset_infos[env_idx] \u001b[38;5;241m=\u001b[39m \u001b[38;5;28;43mself\u001b[39;49m\u001b[38;5;241;43m.\u001b[39;49m\u001b[43menvs\u001b[49m\u001b[43m[\u001b[49m\u001b[43menv_idx\u001b[49m\u001b[43m]\u001b[49m\u001b[38;5;241;43m.\u001b[39;49m\u001b[43mreset\u001b[49m\u001b[43m(\u001b[49m\u001b[43mseed\u001b[49m\u001b[38;5;241;43m=\u001b[39;49m\u001b[38;5;28;43mself\u001b[39;49m\u001b[38;5;241;43m.\u001b[39;49m\u001b[43m_seeds\u001b[49m\u001b[43m[\u001b[49m\u001b[43menv_idx\u001b[49m\u001b[43m]\u001b[49m\u001b[43m,\u001b[49m\u001b[43m \u001b[49m\u001b[38;5;241;43m*\u001b[39;49m\u001b[38;5;241;43m*\u001b[39;49m\u001b[43mmaybe_options\u001b[49m\u001b[43m)\u001b[49m\n\u001b[1;32m     80\u001b[0m     \u001b[38;5;28;01mif\u001b[39;00m \u001b[38;5;28mlen\u001b[39m(obs)\u001b[38;5;241m>\u001b[39m\u001b[38;5;241m1\u001b[39m: \u001b[38;5;66;03m#here added\u001b[39;00m\n\u001b[1;32m     81\u001b[0m         obs\u001b[38;5;241m=\u001b[39mobs[\u001b[38;5;241m0\u001b[39m] \u001b[38;5;66;03m#here added\u001b[39;00m\n",
      "File \u001b[0;32m~/.local/lib/python3.10/site-packages/stable_baselines3/common/monitor.py:83\u001b[0m, in \u001b[0;36mMonitor.reset\u001b[0;34m(self, **kwargs)\u001b[0m\n\u001b[1;32m     81\u001b[0m         \u001b[38;5;28;01mraise\u001b[39;00m \u001b[38;5;167;01mValueError\u001b[39;00m(\u001b[38;5;124mf\u001b[39m\u001b[38;5;124m\"\u001b[39m\u001b[38;5;124mExpected you to pass keyword argument \u001b[39m\u001b[38;5;132;01m{\u001b[39;00mkey\u001b[38;5;132;01m}\u001b[39;00m\u001b[38;5;124m into reset\u001b[39m\u001b[38;5;124m\"\u001b[39m)\n\u001b[1;32m     82\u001b[0m     \u001b[38;5;28mself\u001b[39m\u001b[38;5;241m.\u001b[39mcurrent_reset_info[key] \u001b[38;5;241m=\u001b[39m value\n\u001b[0;32m---> 83\u001b[0m \u001b[38;5;28;01mreturn\u001b[39;00m \u001b[38;5;28;43mself\u001b[39;49m\u001b[38;5;241;43m.\u001b[39;49m\u001b[43menv\u001b[49m\u001b[38;5;241;43m.\u001b[39;49m\u001b[43mreset\u001b[49m\u001b[43m(\u001b[49m\u001b[38;5;241;43m*\u001b[39;49m\u001b[38;5;241;43m*\u001b[39;49m\u001b[43mkwargs\u001b[49m\u001b[43m)\u001b[49m\n",
      "File \u001b[0;32m~/.local/lib/python3.10/site-packages/shimmy/openai_gym_compatibility.py:235\u001b[0m, in \u001b[0;36mGymV21CompatibilityV0.reset\u001b[0;34m(self, seed, options)\u001b[0m\n\u001b[1;32m    230\u001b[0m \u001b[38;5;28;01mif\u001b[39;00m options \u001b[38;5;129;01mis\u001b[39;00m \u001b[38;5;129;01mnot\u001b[39;00m \u001b[38;5;28;01mNone\u001b[39;00m:\n\u001b[1;32m    231\u001b[0m     warn(\n\u001b[1;32m    232\u001b[0m         \u001b[38;5;124mf\u001b[39m\u001b[38;5;124m\"\u001b[39m\u001b[38;5;124mGym v21 environment do not accept options as a reset parameter, options=\u001b[39m\u001b[38;5;132;01m{\u001b[39;00moptions\u001b[38;5;132;01m}\u001b[39;00m\u001b[38;5;124m\"\u001b[39m\n\u001b[1;32m    233\u001b[0m     )\n\u001b[0;32m--> 235\u001b[0m obs \u001b[38;5;241m=\u001b[39m \u001b[38;5;28;43mself\u001b[39;49m\u001b[38;5;241;43m.\u001b[39;49m\u001b[43mgym_env\u001b[49m\u001b[38;5;241;43m.\u001b[39;49m\u001b[43mreset\u001b[49m\u001b[43m(\u001b[49m\u001b[43m)\u001b[49m\n\u001b[1;32m    237\u001b[0m \u001b[38;5;28;01mif\u001b[39;00m \u001b[38;5;28mself\u001b[39m\u001b[38;5;241m.\u001b[39mrender_mode \u001b[38;5;241m==\u001b[39m \u001b[38;5;124m\"\u001b[39m\u001b[38;5;124mhuman\u001b[39m\u001b[38;5;124m\"\u001b[39m:\n\u001b[1;32m    238\u001b[0m     \u001b[38;5;28mself\u001b[39m\u001b[38;5;241m.\u001b[39mrender()\n",
      "File \u001b[0;32m~/.local/lib/python3.10/site-packages/gym/core.py:323\u001b[0m, in \u001b[0;36mWrapper.reset\u001b[0;34m(self, **kwargs)\u001b[0m\n\u001b[1;32m    321\u001b[0m \u001b[38;5;28;01mdef\u001b[39;00m \u001b[38;5;21mreset\u001b[39m(\u001b[38;5;28mself\u001b[39m, \u001b[38;5;241m*\u001b[39m\u001b[38;5;241m*\u001b[39mkwargs) \u001b[38;5;241m-\u001b[39m\u001b[38;5;241m>\u001b[39m Tuple[ObsType, \u001b[38;5;28mdict\u001b[39m]:\n\u001b[1;32m    322\u001b[0m \u001b[38;5;250m    \u001b[39m\u001b[38;5;124;03m\"\"\"Resets the environment with kwargs.\"\"\"\u001b[39;00m\n\u001b[0;32m--> 323\u001b[0m     \u001b[38;5;28;01mreturn\u001b[39;00m \u001b[38;5;28;43mself\u001b[39;49m\u001b[38;5;241;43m.\u001b[39;49m\u001b[43menv\u001b[49m\u001b[38;5;241;43m.\u001b[39;49m\u001b[43mreset\u001b[49m\u001b[43m(\u001b[49m\u001b[38;5;241;43m*\u001b[39;49m\u001b[38;5;241;43m*\u001b[39;49m\u001b[43mkwargs\u001b[49m\u001b[43m)\u001b[49m\n",
      "File \u001b[0;32m~/.local/lib/python3.10/site-packages/gym/core.py:379\u001b[0m, in \u001b[0;36mObservationWrapper.reset\u001b[0;34m(self, **kwargs)\u001b[0m\n\u001b[1;32m    377\u001b[0m \u001b[38;5;28;01mdef\u001b[39;00m \u001b[38;5;21mreset\u001b[39m(\u001b[38;5;28mself\u001b[39m, \u001b[38;5;241m*\u001b[39m\u001b[38;5;241m*\u001b[39mkwargs):\n\u001b[1;32m    378\u001b[0m \u001b[38;5;250m    \u001b[39m\u001b[38;5;124;03m\"\"\"Resets the environment, returning a modified observation using :meth:`self.observation`.\"\"\"\u001b[39;00m\n\u001b[0;32m--> 379\u001b[0m     obs, info \u001b[38;5;241m=\u001b[39m \u001b[38;5;28;43mself\u001b[39;49m\u001b[38;5;241;43m.\u001b[39;49m\u001b[43menv\u001b[49m\u001b[38;5;241;43m.\u001b[39;49m\u001b[43mreset\u001b[49m\u001b[43m(\u001b[49m\u001b[38;5;241;43m*\u001b[39;49m\u001b[38;5;241;43m*\u001b[39;49m\u001b[43mkwargs\u001b[49m\u001b[43m)\u001b[49m\n\u001b[1;32m    380\u001b[0m     \u001b[38;5;28;01mreturn\u001b[39;00m \u001b[38;5;28mself\u001b[39m\u001b[38;5;241m.\u001b[39mobservation(obs), info\n",
      "File \u001b[0;32m~/Documents/PlatformIO/Projects/SFSystem_withAV/RLSystem.py:520\u001b[0m, in \u001b[0;36mSFSystemCommunicator.reset\u001b[0;34m(self)\u001b[0m\n\u001b[1;32m    515\u001b[0m \u001b[38;5;28mself\u001b[39m\u001b[38;5;241m.\u001b[39mbest_action_epoch\u001b[38;5;241m=\u001b[39m\u001b[38;5;28;01mNone\u001b[39;00m\n\u001b[1;32m    518\u001b[0m \u001b[38;5;28mself\u001b[39m\u001b[38;5;241m.\u001b[39mupdate_audiovis_feedback(update_dict\u001b[38;5;241m=\u001b[39m\u001b[38;5;28mself\u001b[39m\u001b[38;5;241m.\u001b[39mdefault_actions) \u001b[38;5;66;03m#update back to default actions\u001b[39;00m\n\u001b[0;32m--> 520\u001b[0m \u001b[38;5;28mself\u001b[39m\u001b[38;5;241m.\u001b[39mcur_observations\u001b[38;5;241m=\u001b[39m\u001b[43mnew_observations\u001b[49m\n\u001b[1;32m    521\u001b[0m \u001b[38;5;28;01mif\u001b[39;00m \u001b[38;5;28mself\u001b[39m\u001b[38;5;241m.\u001b[39mcollect_data_toplot\u001b[38;5;241m==\u001b[39m\u001b[38;5;28;01mTrue\u001b[39;00m:\n\u001b[1;32m    522\u001b[0m     \u001b[38;5;28mself\u001b[39m\u001b[38;5;241m.\u001b[39mprevious_episodes_max_rewards\u001b[38;5;241m.\u001b[39mappend(\u001b[38;5;28mself\u001b[39m\u001b[38;5;241m.\u001b[39mepisode_max_reward)\n",
      "\u001b[0;31mUnboundLocalError\u001b[0m: local variable 'new_observations' referenced before assignment"
     ]
    }
   ],
   "source": [
    "sd2={'num_episodes': 1, 'log_model': True, 'n_total_timesteps': 'episode', 'log_or_plot_every_n_timesteps': 1, 'jnb': False}\n",
    "\n",
    "trainer.train(num_episodes=sd2['num_episodes'], log_model=sd2['log_model'],n_total_timesteps=2, #sd2['n_total_timesteps'],\n",
    "                 log_or_plot_every_n_timesteps=sd2['log_or_plot_every_n_timesteps'], jnb=False)"
   ]
  },
  {
   "cell_type": "code",
   "execution_count": 8,
   "metadata": {},
   "outputs": [],
   "source": [
    "env.close()"
   ]
  },
  {
   "cell_type": "code",
   "execution_count": 94,
   "metadata": {},
   "outputs": [
    {
     "name": "stdout",
     "output_type": "stream",
     "text": [
      "[79, 145, 178, 226, 253, 80, 133, 34, 205, 247, 14, 183, 151, 197, 248, 241, 219, 224, 142, 174, 165, 73, 142, 159, 95, 7109, 29359, 27, 4, 18, 18, 15, 40, 27, 24, 21, 0, 0]\n",
      "79,145,178,226,253,80,133,34,205,247,14,183,151,197,248,241,219,224,142,174,165,73,142,159,95,7109,29359,27,4,18,18,15,40,27,24,21,0,0\n"
     ]
    },
    {
     "data": {
      "text/plain": [
       "(OrderedDict([('raw_data',\n",
       "               array([[ 0.00000000e+00,  0.00000000e+00,  0.00000000e+00,\n",
       "                        0.00000000e+00,  0.00000000e+00,  0.00000000e+00,\n",
       "                        0.00000000e+00,  0.00000000e+00],\n",
       "                      [ 9.51056516e-01,  9.51056516e-01,  9.51056516e-01,\n",
       "                        9.51056516e-01,  9.51056516e-01,  9.51056516e-01,\n",
       "                        9.51056516e-01,  9.51056516e-01],\n",
       "                      [-5.87785252e-01, -5.87785252e-01, -5.87785252e-01,\n",
       "                       -5.87785252e-01, -5.87785252e-01, -5.87785252e-01,\n",
       "                       -5.87785252e-01, -5.87785252e-01],\n",
       "                      [-5.87785252e-01, -5.87785252e-01, -5.87785252e-01,\n",
       "                       -5.87785252e-01, -5.87785252e-01, -5.87785252e-01,\n",
       "                       -5.87785252e-01, -5.87785252e-01],\n",
       "                      [ 9.51056516e-01,  9.51056516e-01,  9.51056516e-01,\n",
       "                        9.51056516e-01,  9.51056516e-01,  9.51056516e-01,\n",
       "                        9.51056516e-01,  9.51056516e-01],\n",
       "                      [ 3.67394040e-16,  3.67394040e-16,  3.67394040e-16,\n",
       "                        3.67394040e-16,  3.67394040e-16,  3.67394040e-16,\n",
       "                        3.67394040e-16,  3.67394040e-16],\n",
       "                      [-9.51056516e-01, -9.51056516e-01, -9.51056516e-01,\n",
       "                       -9.51056516e-01, -9.51056516e-01, -9.51056516e-01,\n",
       "                       -9.51056516e-01, -9.51056516e-01],\n",
       "                      [ 5.87785252e-01,  5.87785252e-01,  5.87785252e-01,\n",
       "                        5.87785252e-01,  5.87785252e-01,  5.87785252e-01,\n",
       "                        5.87785252e-01,  5.87785252e-01],\n",
       "                      [ 5.87785252e-01,  5.87785252e-01,  5.87785252e-01,\n",
       "                        5.87785252e-01,  5.87785252e-01,  5.87785252e-01,\n",
       "                        5.87785252e-01,  5.87785252e-01],\n",
       "                      [-9.51056516e-01, -9.51056516e-01, -9.51056516e-01,\n",
       "                       -9.51056516e-01, -9.51056516e-01, -9.51056516e-01,\n",
       "                       -9.51056516e-01, -9.51056516e-01],\n",
       "                      [-7.34788079e-16, -7.34788079e-16, -7.34788079e-16,\n",
       "                       -7.34788079e-16, -7.34788079e-16, -7.34788079e-16,\n",
       "                       -7.34788079e-16, -7.34788079e-16],\n",
       "                      [ 9.51056516e-01,  9.51056516e-01,  9.51056516e-01,\n",
       "                        9.51056516e-01,  9.51056516e-01,  9.51056516e-01,\n",
       "                        9.51056516e-01,  9.51056516e-01],\n",
       "                      [-5.87785252e-01, -5.87785252e-01, -5.87785252e-01,\n",
       "                       -5.87785252e-01, -5.87785252e-01, -5.87785252e-01,\n",
       "                       -5.87785252e-01, -5.87785252e-01],\n",
       "                      [-5.87785252e-01, -5.87785252e-01, -5.87785252e-01,\n",
       "                       -5.87785252e-01, -5.87785252e-01, -5.87785252e-01,\n",
       "                       -5.87785252e-01, -5.87785252e-01],\n",
       "                      [ 9.51056516e-01,  9.51056516e-01,  9.51056516e-01,\n",
       "                        9.51056516e-01,  9.51056516e-01,  9.51056516e-01,\n",
       "                        9.51056516e-01,  9.51056516e-01],\n",
       "                      [ 4.65489580e-15,  4.65489580e-15,  4.65489580e-15,\n",
       "                        4.65489580e-15,  4.65489580e-15,  4.65489580e-15,\n",
       "                        4.65489580e-15,  4.65489580e-15],\n",
       "                      [-9.51056516e-01, -9.51056516e-01, -9.51056516e-01,\n",
       "                       -9.51056516e-01, -9.51056516e-01, -9.51056516e-01,\n",
       "                       -9.51056516e-01, -9.51056516e-01],\n",
       "                      [ 5.87785252e-01,  5.87785252e-01,  5.87785252e-01,\n",
       "                        5.87785252e-01,  5.87785252e-01,  5.87785252e-01,\n",
       "                        5.87785252e-01,  5.87785252e-01],\n",
       "                      [ 5.87785252e-01,  5.87785252e-01,  5.87785252e-01,\n",
       "                        5.87785252e-01,  5.87785252e-01,  5.87785252e-01,\n",
       "                        5.87785252e-01,  5.87785252e-01],\n",
       "                      [-9.51056516e-01, -9.51056516e-01, -9.51056516e-01,\n",
       "                       -9.51056516e-01, -9.51056516e-01, -9.51056516e-01,\n",
       "                       -9.51056516e-01, -9.51056516e-01],\n",
       "                      [-1.46957616e-15, -1.46957616e-15, -1.46957616e-15,\n",
       "                       -1.46957616e-15, -1.46957616e-15, -1.46957616e-15,\n",
       "                       -1.46957616e-15, -1.46957616e-15],\n",
       "                      [ 9.51056516e-01,  9.51056516e-01,  9.51056516e-01,\n",
       "                        9.51056516e-01,  9.51056516e-01,  9.51056516e-01,\n",
       "                        9.51056516e-01,  9.51056516e-01],\n",
       "                      [-5.87785252e-01, -5.87785252e-01, -5.87785252e-01,\n",
       "                       -5.87785252e-01, -5.87785252e-01, -5.87785252e-01,\n",
       "                       -5.87785252e-01, -5.87785252e-01],\n",
       "                      [-5.87785252e-01, -5.87785252e-01, -5.87785252e-01,\n",
       "                       -5.87785252e-01, -5.87785252e-01, -5.87785252e-01,\n",
       "                       -5.87785252e-01, -5.87785252e-01],\n",
       "                      [ 9.51056516e-01,  9.51056516e-01,  9.51056516e-01,\n",
       "                        9.51056516e-01,  9.51056516e-01,  9.51056516e-01,\n",
       "                        9.51056516e-01,  9.51056516e-01],\n",
       "                      [ 5.38968388e-15,  5.38968388e-15,  5.38968388e-15,\n",
       "                        5.38968388e-15,  5.38968388e-15,  5.38968388e-15,\n",
       "                        5.38968388e-15,  5.38968388e-15],\n",
       "                      [-9.51056516e-01, -9.51056516e-01, -9.51056516e-01,\n",
       "                       -9.51056516e-01, -9.51056516e-01, -9.51056516e-01,\n",
       "                       -9.51056516e-01, -9.51056516e-01],\n",
       "                      [ 5.87785252e-01,  5.87785252e-01,  5.87785252e-01,\n",
       "                        5.87785252e-01,  5.87785252e-01,  5.87785252e-01,\n",
       "                        5.87785252e-01,  5.87785252e-01],\n",
       "                      [ 5.87785252e-01,  5.87785252e-01,  5.87785252e-01,\n",
       "                        5.87785252e-01,  5.87785252e-01,  5.87785252e-01,\n",
       "                        5.87785252e-01,  5.87785252e-01],\n",
       "                      [-9.51056516e-01, -9.51056516e-01, -9.51056516e-01,\n",
       "                       -9.51056516e-01, -9.51056516e-01, -9.51056516e-01,\n",
       "                       -9.51056516e-01, -9.51056516e-01],\n",
       "                      [-9.30979160e-15, -9.30979160e-15, -9.30979160e-15,\n",
       "                       -9.30979160e-15, -9.30979160e-15, -9.30979160e-15,\n",
       "                       -9.30979160e-15, -9.30979160e-15],\n",
       "                      [ 9.51056516e-01,  9.51056516e-01,  9.51056516e-01,\n",
       "                        9.51056516e-01,  9.51056516e-01,  9.51056516e-01,\n",
       "                        9.51056516e-01,  9.51056516e-01],\n",
       "                      [-5.87785252e-01, -5.87785252e-01, -5.87785252e-01,\n",
       "                       -5.87785252e-01, -5.87785252e-01, -5.87785252e-01,\n",
       "                       -5.87785252e-01, -5.87785252e-01],\n",
       "                      [-5.87785252e-01, -5.87785252e-01, -5.87785252e-01,\n",
       "                       -5.87785252e-01, -5.87785252e-01, -5.87785252e-01,\n",
       "                       -5.87785252e-01, -5.87785252e-01],\n",
       "                      [ 9.51056516e-01,  9.51056516e-01,  9.51056516e-01,\n",
       "                        9.51056516e-01,  9.51056516e-01,  9.51056516e-01,\n",
       "                        9.51056516e-01,  9.51056516e-01],\n",
       "                      [-9.80955401e-16, -9.80955401e-16, -9.80955401e-16,\n",
       "                       -9.80955401e-16, -9.80955401e-16, -9.80955401e-16,\n",
       "                       -9.80955401e-16, -9.80955401e-16],\n",
       "                      [-9.51056516e-01, -9.51056516e-01, -9.51056516e-01,\n",
       "                       -9.51056516e-01, -9.51056516e-01, -9.51056516e-01,\n",
       "                       -9.51056516e-01, -9.51056516e-01],\n",
       "                      [ 5.87785252e-01,  5.87785252e-01,  5.87785252e-01,\n",
       "                        5.87785252e-01,  5.87785252e-01,  5.87785252e-01,\n",
       "                        5.87785252e-01,  5.87785252e-01],\n",
       "                      [ 5.87785252e-01,  5.87785252e-01,  5.87785252e-01,\n",
       "                        5.87785252e-01,  5.87785252e-01,  5.87785252e-01,\n",
       "                        5.87785252e-01,  5.87785252e-01],\n",
       "                      [-9.51056516e-01, -9.51056516e-01, -9.51056516e-01,\n",
       "                       -9.51056516e-01, -9.51056516e-01, -9.51056516e-01,\n",
       "                       -9.51056516e-01, -9.51056516e-01],\n",
       "                      [-2.93915232e-15, -2.93915232e-15, -2.93915232e-15,\n",
       "                       -2.93915232e-15, -2.93915232e-15, -2.93915232e-15,\n",
       "                       -2.93915232e-15, -2.93915232e-15],\n",
       "                      [ 9.51056516e-01,  9.51056516e-01,  9.51056516e-01,\n",
       "                        9.51056516e-01,  9.51056516e-01,  9.51056516e-01,\n",
       "                        9.51056516e-01,  9.51056516e-01],\n",
       "                      [-5.87785252e-01, -5.87785252e-01, -5.87785252e-01,\n",
       "                       -5.87785252e-01, -5.87785252e-01, -5.87785252e-01,\n",
       "                       -5.87785252e-01, -5.87785252e-01],\n",
       "                      [-5.87785252e-01, -5.87785252e-01, -5.87785252e-01,\n",
       "                       -5.87785252e-01, -5.87785252e-01, -5.87785252e-01,\n",
       "                       -5.87785252e-01, -5.87785252e-01],\n",
       "                      [ 9.51056516e-01,  9.51056516e-01,  9.51056516e-01,\n",
       "                        9.51056516e-01,  9.51056516e-01,  9.51056516e-01,\n",
       "                        9.51056516e-01,  9.51056516e-01],\n",
       "                      [ 6.85926004e-15,  6.85926004e-15,  6.85926004e-15,\n",
       "                        6.85926004e-15,  6.85926004e-15,  6.85926004e-15,\n",
       "                        6.85926004e-15,  6.85926004e-15],\n",
       "                      [-9.51056516e-01, -9.51056516e-01, -9.51056516e-01,\n",
       "                       -9.51056516e-01, -9.51056516e-01, -9.51056516e-01,\n",
       "                       -9.51056516e-01, -9.51056516e-01],\n",
       "                      [ 5.87785252e-01,  5.87785252e-01,  5.87785252e-01,\n",
       "                        5.87785252e-01,  5.87785252e-01,  5.87785252e-01,\n",
       "                        5.87785252e-01,  5.87785252e-01],\n",
       "                      [ 5.87785252e-01,  5.87785252e-01,  5.87785252e-01,\n",
       "                        5.87785252e-01,  5.87785252e-01,  5.87785252e-01,\n",
       "                        5.87785252e-01,  5.87785252e-01],\n",
       "                      [-9.51056516e-01, -9.51056516e-01, -9.51056516e-01,\n",
       "                       -9.51056516e-01, -9.51056516e-01, -9.51056516e-01,\n",
       "                       -9.51056516e-01, -9.51056516e-01],\n",
       "                      [-1.07793678e-14, -1.07793678e-14, -1.07793678e-14,\n",
       "                       -1.07793678e-14, -1.07793678e-14, -1.07793678e-14,\n",
       "                       -1.07793678e-14, -1.07793678e-14],\n",
       "                      [ 9.51056516e-01,  9.51056516e-01,  9.51056516e-01,\n",
       "                        9.51056516e-01,  9.51056516e-01,  9.51056516e-01,\n",
       "                        9.51056516e-01,  9.51056516e-01],\n",
       "                      [-5.87785252e-01, -5.87785252e-01, -5.87785252e-01,\n",
       "                       -5.87785252e-01, -5.87785252e-01, -5.87785252e-01,\n",
       "                       -5.87785252e-01, -5.87785252e-01],\n",
       "                      [-5.87785252e-01, -5.87785252e-01, -5.87785252e-01,\n",
       "                       -5.87785252e-01, -5.87785252e-01, -5.87785252e-01,\n",
       "                       -5.87785252e-01, -5.87785252e-01],\n",
       "                      [ 9.51056516e-01,  9.51056516e-01,  9.51056516e-01,\n",
       "                        9.51056516e-01,  9.51056516e-01,  9.51056516e-01,\n",
       "                        9.51056516e-01,  9.51056516e-01],\n",
       "                      [ 4.88620758e-16,  4.88620758e-16,  4.88620758e-16,\n",
       "                        4.88620758e-16,  4.88620758e-16,  4.88620758e-16,\n",
       "                        4.88620758e-16,  4.88620758e-16],\n",
       "                      [-9.51056516e-01, -9.51056516e-01, -9.51056516e-01,\n",
       "                       -9.51056516e-01, -9.51056516e-01, -9.51056516e-01,\n",
       "                       -9.51056516e-01, -9.51056516e-01],\n",
       "                      [ 5.87785252e-01,  5.87785252e-01,  5.87785252e-01,\n",
       "                        5.87785252e-01,  5.87785252e-01,  5.87785252e-01,\n",
       "                        5.87785252e-01,  5.87785252e-01],\n",
       "                      [ 5.87785252e-01,  5.87785252e-01,  5.87785252e-01,\n",
       "                        5.87785252e-01,  5.87785252e-01,  5.87785252e-01,\n",
       "                        5.87785252e-01,  5.87785252e-01],\n",
       "                      [-9.51056516e-01, -9.51056516e-01, -9.51056516e-01,\n",
       "                       -9.51056516e-01, -9.51056516e-01, -9.51056516e-01,\n",
       "                       -9.51056516e-01, -9.51056516e-01],\n",
       "                      [-1.86195832e-14, -1.86195832e-14, -1.86195832e-14,\n",
       "                       -1.86195832e-14, -1.86195832e-14, -1.86195832e-14,\n",
       "                       -1.86195832e-14, -1.86195832e-14],\n",
       "                      [ 9.51056516e-01,  9.51056516e-01,  9.51056516e-01,\n",
       "                        9.51056516e-01,  9.51056516e-01,  9.51056516e-01,\n",
       "                        9.51056516e-01,  9.51056516e-01],\n",
       "                      [-5.87785252e-01, -5.87785252e-01, -5.87785252e-01,\n",
       "                       -5.87785252e-01, -5.87785252e-01, -5.87785252e-01,\n",
       "                       -5.87785252e-01, -5.87785252e-01],\n",
       "                      [-5.87785252e-01, -5.87785252e-01, -5.87785252e-01,\n",
       "                       -5.87785252e-01, -5.87785252e-01, -5.87785252e-01,\n",
       "                       -5.87785252e-01, -5.87785252e-01],\n",
       "                      [ 9.51056516e-01,  9.51056516e-01,  9.51056516e-01,\n",
       "                        9.51056516e-01,  9.51056516e-01,  9.51056516e-01,\n",
       "                        9.51056516e-01,  9.51056516e-01],\n",
       "                      [ 8.32883620e-15,  8.32883620e-15,  8.32883620e-15,\n",
       "                        8.32883620e-15,  8.32883620e-15,  8.32883620e-15,\n",
       "                        8.32883620e-15,  8.32883620e-15],\n",
       "                      [-9.51056516e-01, -9.51056516e-01, -9.51056516e-01,\n",
       "                       -9.51056516e-01, -9.51056516e-01, -9.51056516e-01,\n",
       "                       -9.51056516e-01, -9.51056516e-01],\n",
       "                      [ 5.87785252e-01,  5.87785252e-01,  5.87785252e-01,\n",
       "                        5.87785252e-01,  5.87785252e-01,  5.87785252e-01,\n",
       "                        5.87785252e-01,  5.87785252e-01],\n",
       "                      [ 5.87785252e-01,  5.87785252e-01,  5.87785252e-01,\n",
       "                        5.87785252e-01,  5.87785252e-01,  5.87785252e-01,\n",
       "                        5.87785252e-01,  5.87785252e-01],\n",
       "                      [-9.51056516e-01, -9.51056516e-01, -9.51056516e-01,\n",
       "                       -9.51056516e-01, -9.51056516e-01, -9.51056516e-01,\n",
       "                       -9.51056516e-01, -9.51056516e-01],\n",
       "                      [ 1.96191080e-15,  1.96191080e-15,  1.96191080e-15,\n",
       "                        1.96191080e-15,  1.96191080e-15,  1.96191080e-15,\n",
       "                        1.96191080e-15,  1.96191080e-15],\n",
       "                      [ 9.51056516e-01,  9.51056516e-01,  9.51056516e-01,\n",
       "                        9.51056516e-01,  9.51056516e-01,  9.51056516e-01,\n",
       "                        9.51056516e-01,  9.51056516e-01],\n",
       "                      [-5.87785252e-01, -5.87785252e-01, -5.87785252e-01,\n",
       "                       -5.87785252e-01, -5.87785252e-01, -5.87785252e-01,\n",
       "                       -5.87785252e-01, -5.87785252e-01],\n",
       "                      [-5.87785252e-01, -5.87785252e-01, -5.87785252e-01,\n",
       "                       -5.87785252e-01, -5.87785252e-01, -5.87785252e-01,\n",
       "                       -5.87785252e-01, -5.87785252e-01],\n",
       "                      [ 9.51056516e-01,  9.51056516e-01,  9.51056516e-01,\n",
       "                        9.51056516e-01,  9.51056516e-01,  9.51056516e-01,\n",
       "                        9.51056516e-01,  9.51056516e-01],\n",
       "                      [ 3.03799063e-14,  3.03799063e-14,  3.03799063e-14,\n",
       "                        3.03799063e-14,  3.03799063e-14,  3.03799063e-14,\n",
       "                        3.03799063e-14,  3.03799063e-14],\n",
       "                      [-9.51056516e-01, -9.51056516e-01, -9.51056516e-01,\n",
       "                       -9.51056516e-01, -9.51056516e-01, -9.51056516e-01,\n",
       "                       -9.51056516e-01, -9.51056516e-01],\n",
       "                      [ 5.87785252e-01,  5.87785252e-01,  5.87785252e-01,\n",
       "                        5.87785252e-01,  5.87785252e-01,  5.87785252e-01,\n",
       "                        5.87785252e-01,  5.87785252e-01],\n",
       "                      [ 5.87785252e-01,  5.87785252e-01,  5.87785252e-01,\n",
       "                        5.87785252e-01,  5.87785252e-01,  5.87785252e-01,\n",
       "                        5.87785252e-01,  5.87785252e-01],\n",
       "                      [-9.51056516e-01, -9.51056516e-01, -9.51056516e-01,\n",
       "                       -9.51056516e-01, -9.51056516e-01, -9.51056516e-01,\n",
       "                       -9.51056516e-01, -9.51056516e-01],\n",
       "                      [-5.87830464e-15, -5.87830464e-15, -5.87830464e-15,\n",
       "                       -5.87830464e-15, -5.87830464e-15, -5.87830464e-15,\n",
       "                       -5.87830464e-15, -5.87830464e-15],\n",
       "                      [ 9.51056516e-01,  9.51056516e-01,  9.51056516e-01,\n",
       "                        9.51056516e-01,  9.51056516e-01,  9.51056516e-01,\n",
       "                        9.51056516e-01,  9.51056516e-01],\n",
       "                      [-5.87785252e-01, -5.87785252e-01, -5.87785252e-01,\n",
       "                       -5.87785252e-01, -5.87785252e-01, -5.87785252e-01,\n",
       "                       -5.87785252e-01, -5.87785252e-01],\n",
       "                      [-5.87785252e-01, -5.87785252e-01, -5.87785252e-01,\n",
       "                       -5.87785252e-01, -5.87785252e-01, -5.87785252e-01,\n",
       "                       -5.87785252e-01, -5.87785252e-01],\n",
       "                      [ 9.51056516e-01,  9.51056516e-01,  9.51056516e-01,\n",
       "                        9.51056516e-01,  9.51056516e-01,  9.51056516e-01,\n",
       "                        9.51056516e-01,  9.51056516e-01],\n",
       "                      [ 9.79841235e-15,  9.79841235e-15,  9.79841235e-15,\n",
       "                        9.79841235e-15,  9.79841235e-15,  9.79841235e-15,\n",
       "                        9.79841235e-15,  9.79841235e-15],\n",
       "                      [-9.51056516e-01, -9.51056516e-01, -9.51056516e-01,\n",
       "                       -9.51056516e-01, -9.51056516e-01, -9.51056516e-01,\n",
       "                       -9.51056516e-01, -9.51056516e-01],\n",
       "                      [ 5.87785252e-01,  5.87785252e-01,  5.87785252e-01,\n",
       "                        5.87785252e-01,  5.87785252e-01,  5.87785252e-01,\n",
       "                        5.87785252e-01,  5.87785252e-01],\n",
       "                      [ 5.87785252e-01,  5.87785252e-01,  5.87785252e-01,\n",
       "                        5.87785252e-01,  5.87785252e-01,  5.87785252e-01,\n",
       "                        5.87785252e-01,  5.87785252e-01],\n",
       "                      [-9.51056516e-01, -9.51056516e-01, -9.51056516e-01,\n",
       "                       -9.51056516e-01, -9.51056516e-01, -9.51056516e-01,\n",
       "                       -9.51056516e-01, -9.51056516e-01],\n",
       "                      [-1.37185201e-14, -1.37185201e-14, -1.37185201e-14,\n",
       "                       -1.37185201e-14, -1.37185201e-14, -1.37185201e-14,\n",
       "                       -1.37185201e-14, -1.37185201e-14],\n",
       "                      [ 9.51056516e-01,  9.51056516e-01,  9.51056516e-01,\n",
       "                        9.51056516e-01,  9.51056516e-01,  9.51056516e-01,\n",
       "                        9.51056516e-01,  9.51056516e-01],\n",
       "                      [-5.87785252e-01, -5.87785252e-01, -5.87785252e-01,\n",
       "                       -5.87785252e-01, -5.87785252e-01, -5.87785252e-01,\n",
       "                       -5.87785252e-01, -5.87785252e-01],\n",
       "                      [-5.87785252e-01, -5.87785252e-01, -5.87785252e-01,\n",
       "                       -5.87785252e-01, -5.87785252e-01, -5.87785252e-01,\n",
       "                       -5.87785252e-01, -5.87785252e-01],\n",
       "                      [ 9.51056516e-01,  9.51056516e-01,  9.51056516e-01,\n",
       "                        9.51056516e-01,  9.51056516e-01,  9.51056516e-01,\n",
       "                        9.51056516e-01,  9.51056516e-01],\n",
       "                      [ 1.76386278e-14,  1.76386278e-14,  1.76386278e-14,\n",
       "                        1.76386278e-14,  1.76386278e-14,  1.76386278e-14,\n",
       "                        1.76386278e-14,  1.76386278e-14],\n",
       "                      [-9.51056516e-01, -9.51056516e-01, -9.51056516e-01,\n",
       "                       -9.51056516e-01, -9.51056516e-01, -9.51056516e-01,\n",
       "                       -9.51056516e-01, -9.51056516e-01],\n",
       "                      [ 5.87785252e-01,  5.87785252e-01,  5.87785252e-01,\n",
       "                        5.87785252e-01,  5.87785252e-01,  5.87785252e-01,\n",
       "                        5.87785252e-01,  5.87785252e-01],\n",
       "                      [ 5.87785252e-01,  5.87785252e-01,  5.87785252e-01,\n",
       "                        5.87785252e-01,  5.87785252e-01,  5.87785252e-01,\n",
       "                        5.87785252e-01,  5.87785252e-01],\n",
       "                      [-9.51056516e-01, -9.51056516e-01, -9.51056516e-01,\n",
       "                       -9.51056516e-01, -9.51056516e-01, -9.51056516e-01,\n",
       "                       -9.51056516e-01, -9.51056516e-01]])),\n",
       "              ('fft',\n",
       "               array([[1.29472414e-15, 1.07771335e-15, 1.14081624e-15, 5.90617668e-16,\n",
       "                       1.17550595e-15, 4.85227802e-16, 5.09158678e-16, 8.32637153e-16,\n",
       "                       8.31651230e-16, 1.39247223e-15, 1.05547034e-15, 1.35799461e-15,\n",
       "                       1.36712607e-15, 2.48780763e-16, 4.67115511e-16, 4.28478941e-16,\n",
       "                       1.22096914e-15, 1.37404425e-15, 3.60611124e-16, 1.29182611e-15,\n",
       "                       5.74644338e-16, 1.83726352e-15, 1.88022848e-15, 7.87352203e-16,\n",
       "                       1.39979992e-15, 9.73549557e-16, 1.81058000e-15, 6.58821442e-16,\n",
       "                       9.36767223e-16, 3.70657755e-15, 1.00000000e+00, 1.41359882e-15,\n",
       "                       1.30793024e-15, 9.71759930e-16, 1.35963098e-15, 1.13986635e-15,\n",
       "                       1.26516577e-15, 1.38159691e-15, 1.16263197e-15, 1.67029400e-15,\n",
       "                       1.06388645e-15, 8.95726345e-16, 1.00299865e-15, 1.07507701e-15,\n",
       "                       9.56910114e-16, 1.98311302e-16, 1.39598115e-15, 8.95223901e-16,\n",
       "                       3.30986662e-16, 2.73975981e-16, 3.75104419e-16],\n",
       "                      [1.29472414e-15, 1.07771335e-15, 1.14081624e-15, 5.90617668e-16,\n",
       "                       1.17550595e-15, 4.85227802e-16, 5.09158678e-16, 8.32637153e-16,\n",
       "                       8.31651230e-16, 1.39247223e-15, 1.05547034e-15, 1.35799461e-15,\n",
       "                       1.36712607e-15, 2.48780763e-16, 4.67115511e-16, 4.28478941e-16,\n",
       "                       1.22096914e-15, 1.37404425e-15, 3.60611124e-16, 1.29182611e-15,\n",
       "                       5.74644338e-16, 1.83726352e-15, 1.88022848e-15, 7.87352203e-16,\n",
       "                       1.39979992e-15, 9.73549557e-16, 1.81058000e-15, 6.58821442e-16,\n",
       "                       9.36767223e-16, 3.70657755e-15, 1.00000000e+00, 1.41359882e-15,\n",
       "                       1.30793024e-15, 9.71759930e-16, 1.35963098e-15, 1.13986635e-15,\n",
       "                       1.26516577e-15, 1.38159691e-15, 1.16263197e-15, 1.67029400e-15,\n",
       "                       1.06388645e-15, 8.95726345e-16, 1.00299865e-15, 1.07507701e-15,\n",
       "                       9.56910114e-16, 1.98311302e-16, 1.39598115e-15, 8.95223901e-16,\n",
       "                       3.30986662e-16, 2.73975981e-16, 3.75104419e-16],\n",
       "                      [1.29472414e-15, 1.07771335e-15, 1.14081624e-15, 5.90617668e-16,\n",
       "                       1.17550595e-15, 4.85227802e-16, 5.09158678e-16, 8.32637153e-16,\n",
       "                       8.31651230e-16, 1.39247223e-15, 1.05547034e-15, 1.35799461e-15,\n",
       "                       1.36712607e-15, 2.48780763e-16, 4.67115511e-16, 4.28478941e-16,\n",
       "                       1.22096914e-15, 1.37404425e-15, 3.60611124e-16, 1.29182611e-15,\n",
       "                       5.74644338e-16, 1.83726352e-15, 1.88022848e-15, 7.87352203e-16,\n",
       "                       1.39979992e-15, 9.73549557e-16, 1.81058000e-15, 6.58821442e-16,\n",
       "                       9.36767223e-16, 3.70657755e-15, 1.00000000e+00, 1.41359882e-15,\n",
       "                       1.30793024e-15, 9.71759930e-16, 1.35963098e-15, 1.13986635e-15,\n",
       "                       1.26516577e-15, 1.38159691e-15, 1.16263197e-15, 1.67029400e-15,\n",
       "                       1.06388645e-15, 8.95726345e-16, 1.00299865e-15, 1.07507701e-15,\n",
       "                       9.56910114e-16, 1.98311302e-16, 1.39598115e-15, 8.95223901e-16,\n",
       "                       3.30986662e-16, 2.73975981e-16, 3.75104419e-16],\n",
       "                      [1.29472414e-15, 1.07771335e-15, 1.14081624e-15, 5.90617668e-16,\n",
       "                       1.17550595e-15, 4.85227802e-16, 5.09158678e-16, 8.32637153e-16,\n",
       "                       8.31651230e-16, 1.39247223e-15, 1.05547034e-15, 1.35799461e-15,\n",
       "                       1.36712607e-15, 2.48780763e-16, 4.67115511e-16, 4.28478941e-16,\n",
       "                       1.22096914e-15, 1.37404425e-15, 3.60611124e-16, 1.29182611e-15,\n",
       "                       5.74644338e-16, 1.83726352e-15, 1.88022848e-15, 7.87352203e-16,\n",
       "                       1.39979992e-15, 9.73549557e-16, 1.81058000e-15, 6.58821442e-16,\n",
       "                       9.36767223e-16, 3.70657755e-15, 1.00000000e+00, 1.41359882e-15,\n",
       "                       1.30793024e-15, 9.71759930e-16, 1.35963098e-15, 1.13986635e-15,\n",
       "                       1.26516577e-15, 1.38159691e-15, 1.16263197e-15, 1.67029400e-15,\n",
       "                       1.06388645e-15, 8.95726345e-16, 1.00299865e-15, 1.07507701e-15,\n",
       "                       9.56910114e-16, 1.98311302e-16, 1.39598115e-15, 8.95223901e-16,\n",
       "                       3.30986662e-16, 2.73975981e-16, 3.75104419e-16],\n",
       "                      [1.29472414e-15, 1.07771335e-15, 1.14081624e-15, 5.90617668e-16,\n",
       "                       1.17550595e-15, 4.85227802e-16, 5.09158678e-16, 8.32637153e-16,\n",
       "                       8.31651230e-16, 1.39247223e-15, 1.05547034e-15, 1.35799461e-15,\n",
       "                       1.36712607e-15, 2.48780763e-16, 4.67115511e-16, 4.28478941e-16,\n",
       "                       1.22096914e-15, 1.37404425e-15, 3.60611124e-16, 1.29182611e-15,\n",
       "                       5.74644338e-16, 1.83726352e-15, 1.88022848e-15, 7.87352203e-16,\n",
       "                       1.39979992e-15, 9.73549557e-16, 1.81058000e-15, 6.58821442e-16,\n",
       "                       9.36767223e-16, 3.70657755e-15, 1.00000000e+00, 1.41359882e-15,\n",
       "                       1.30793024e-15, 9.71759930e-16, 1.35963098e-15, 1.13986635e-15,\n",
       "                       1.26516577e-15, 1.38159691e-15, 1.16263197e-15, 1.67029400e-15,\n",
       "                       1.06388645e-15, 8.95726345e-16, 1.00299865e-15, 1.07507701e-15,\n",
       "                       9.56910114e-16, 1.98311302e-16, 1.39598115e-15, 8.95223901e-16,\n",
       "                       3.30986662e-16, 2.73975981e-16, 3.75104419e-16],\n",
       "                      [1.29472414e-15, 1.07771335e-15, 1.14081624e-15, 5.90617668e-16,\n",
       "                       1.17550595e-15, 4.85227802e-16, 5.09158678e-16, 8.32637153e-16,\n",
       "                       8.31651230e-16, 1.39247223e-15, 1.05547034e-15, 1.35799461e-15,\n",
       "                       1.36712607e-15, 2.48780763e-16, 4.67115511e-16, 4.28478941e-16,\n",
       "                       1.22096914e-15, 1.37404425e-15, 3.60611124e-16, 1.29182611e-15,\n",
       "                       5.74644338e-16, 1.83726352e-15, 1.88022848e-15, 7.87352203e-16,\n",
       "                       1.39979992e-15, 9.73549557e-16, 1.81058000e-15, 6.58821442e-16,\n",
       "                       9.36767223e-16, 3.70657755e-15, 1.00000000e+00, 1.41359882e-15,\n",
       "                       1.30793024e-15, 9.71759930e-16, 1.35963098e-15, 1.13986635e-15,\n",
       "                       1.26516577e-15, 1.38159691e-15, 1.16263197e-15, 1.67029400e-15,\n",
       "                       1.06388645e-15, 8.95726345e-16, 1.00299865e-15, 1.07507701e-15,\n",
       "                       9.56910114e-16, 1.98311302e-16, 1.39598115e-15, 8.95223901e-16,\n",
       "                       3.30986662e-16, 2.73975981e-16, 3.75104419e-16],\n",
       "                      [1.29472414e-15, 1.07771335e-15, 1.14081624e-15, 5.90617668e-16,\n",
       "                       1.17550595e-15, 4.85227802e-16, 5.09158678e-16, 8.32637153e-16,\n",
       "                       8.31651230e-16, 1.39247223e-15, 1.05547034e-15, 1.35799461e-15,\n",
       "                       1.36712607e-15, 2.48780763e-16, 4.67115511e-16, 4.28478941e-16,\n",
       "                       1.22096914e-15, 1.37404425e-15, 3.60611124e-16, 1.29182611e-15,\n",
       "                       5.74644338e-16, 1.83726352e-15, 1.88022848e-15, 7.87352203e-16,\n",
       "                       1.39979992e-15, 9.73549557e-16, 1.81058000e-15, 6.58821442e-16,\n",
       "                       9.36767223e-16, 3.70657755e-15, 1.00000000e+00, 1.41359882e-15,\n",
       "                       1.30793024e-15, 9.71759930e-16, 1.35963098e-15, 1.13986635e-15,\n",
       "                       1.26516577e-15, 1.38159691e-15, 1.16263197e-15, 1.67029400e-15,\n",
       "                       1.06388645e-15, 8.95726345e-16, 1.00299865e-15, 1.07507701e-15,\n",
       "                       9.56910114e-16, 1.98311302e-16, 1.39598115e-15, 8.95223901e-16,\n",
       "                       3.30986662e-16, 2.73975981e-16, 3.75104419e-16],\n",
       "                      [1.29472414e-15, 1.07771335e-15, 1.14081624e-15, 5.90617668e-16,\n",
       "                       1.17550595e-15, 4.85227802e-16, 5.09158678e-16, 8.32637153e-16,\n",
       "                       8.31651230e-16, 1.39247223e-15, 1.05547034e-15, 1.35799461e-15,\n",
       "                       1.36712607e-15, 2.48780763e-16, 4.67115511e-16, 4.28478941e-16,\n",
       "                       1.22096914e-15, 1.37404425e-15, 3.60611124e-16, 1.29182611e-15,\n",
       "                       5.74644338e-16, 1.83726352e-15, 1.88022848e-15, 7.87352203e-16,\n",
       "                       1.39979992e-15, 9.73549557e-16, 1.81058000e-15, 6.58821442e-16,\n",
       "                       9.36767223e-16, 3.70657755e-15, 1.00000000e+00, 1.41359882e-15,\n",
       "                       1.30793024e-15, 9.71759930e-16, 1.35963098e-15, 1.13986635e-15,\n",
       "                       1.26516577e-15, 1.38159691e-15, 1.16263197e-15, 1.67029400e-15,\n",
       "                       1.06388645e-15, 8.95726345e-16, 1.00299865e-15, 1.07507701e-15,\n",
       "                       9.56910114e-16, 1.98311302e-16, 1.39598115e-15, 8.95223901e-16,\n",
       "                       3.30986662e-16, 2.73975981e-16, 3.75104419e-16]])),\n",
       "              ('fbins',\n",
       "               array([[1.29472414e-15, 9.36382420e-16, 7.50632396e-16, 1.15939710e-15,\n",
       "                       1.18469645e-15, 5.00000000e-02],\n",
       "                      [1.29472414e-15, 9.36382420e-16, 7.50632396e-16, 1.15939710e-15,\n",
       "                       1.18469645e-15, 5.00000000e-02],\n",
       "                      [1.29472414e-15, 9.36382420e-16, 7.50632396e-16, 1.15939710e-15,\n",
       "                       1.18469645e-15, 5.00000000e-02],\n",
       "                      [1.29472414e-15, 9.36382420e-16, 7.50632396e-16, 1.15939710e-15,\n",
       "                       1.18469645e-15, 5.00000000e-02],\n",
       "                      [1.29472414e-15, 9.36382420e-16, 7.50632396e-16, 1.15939710e-15,\n",
       "                       1.18469645e-15, 5.00000000e-02],\n",
       "                      [1.29472414e-15, 9.36382420e-16, 7.50632396e-16, 1.15939710e-15,\n",
       "                       1.18469645e-15, 5.00000000e-02],\n",
       "                      [1.29472414e-15, 9.36382420e-16, 7.50632396e-16, 1.15939710e-15,\n",
       "                       1.18469645e-15, 5.00000000e-02],\n",
       "                      [1.29472414e-15, 9.36382420e-16, 7.50632396e-16, 1.15939710e-15,\n",
       "                       1.18469645e-15, 5.00000000e-02]]))]),\n",
       " array(8.4409808e+14),\n",
       " False,\n",
       " {})"
      ]
     },
     "execution_count": 94,
     "metadata": {},
     "output_type": "execute_result"
    }
   ],
   "source": [
    "env.step(env.action_space.sample())"
   ]
  },
  {
   "cell_type": "code",
   "execution_count": 95,
   "metadata": {},
   "outputs": [],
   "source": [
    "wrapped_env= RLSystem.FlattenObservation(env)\n",
    "wrapped_env = RLSystem.FlattenActionSpaceWrapper(wrapped_env)"
   ]
  },
  {
   "cell_type": "code",
   "execution_count": 96,
   "metadata": {},
   "outputs": [
    {
     "name": "stdout",
     "output_type": "stream",
     "text": [
      "[10, 24, 218, 52, 213, 198, 134, 98, 47, 64, 39, 100, 108, 45, 199, 173, 76, 87, 52, 191, 91, 167, 42, 37, 80, 16124, 26402, 41, 4, 44, 26, 15, 33, 23, 14, 21, 1, 0]\n",
      "10,24,218,52,213,198,134,98,47,64,39,100,108,45,199,173,76,87,52,191,91,167,42,37,80,16124,26402,41,4,44,26,15,33,23,14,21,1,0\n"
     ]
    },
    {
     "data": {
      "text/plain": [
       "(OrderedDict([('raw_data',\n",
       "               array([[ 0.00000000e+00,  0.00000000e+00,  0.00000000e+00,\n",
       "                        0.00000000e+00,  0.00000000e+00,  0.00000000e+00,\n",
       "                        0.00000000e+00,  0.00000000e+00],\n",
       "                      [ 9.51056516e-01,  9.51056516e-01,  9.51056516e-01,\n",
       "                        9.51056516e-01,  9.51056516e-01,  9.51056516e-01,\n",
       "                        9.51056516e-01,  9.51056516e-01],\n",
       "                      [-5.87785252e-01, -5.87785252e-01, -5.87785252e-01,\n",
       "                       -5.87785252e-01, -5.87785252e-01, -5.87785252e-01,\n",
       "                       -5.87785252e-01, -5.87785252e-01],\n",
       "                      [-5.87785252e-01, -5.87785252e-01, -5.87785252e-01,\n",
       "                       -5.87785252e-01, -5.87785252e-01, -5.87785252e-01,\n",
       "                       -5.87785252e-01, -5.87785252e-01],\n",
       "                      [ 9.51056516e-01,  9.51056516e-01,  9.51056516e-01,\n",
       "                        9.51056516e-01,  9.51056516e-01,  9.51056516e-01,\n",
       "                        9.51056516e-01,  9.51056516e-01],\n",
       "                      [ 3.67394040e-16,  3.67394040e-16,  3.67394040e-16,\n",
       "                        3.67394040e-16,  3.67394040e-16,  3.67394040e-16,\n",
       "                        3.67394040e-16,  3.67394040e-16],\n",
       "                      [-9.51056516e-01, -9.51056516e-01, -9.51056516e-01,\n",
       "                       -9.51056516e-01, -9.51056516e-01, -9.51056516e-01,\n",
       "                       -9.51056516e-01, -9.51056516e-01],\n",
       "                      [ 5.87785252e-01,  5.87785252e-01,  5.87785252e-01,\n",
       "                        5.87785252e-01,  5.87785252e-01,  5.87785252e-01,\n",
       "                        5.87785252e-01,  5.87785252e-01],\n",
       "                      [ 5.87785252e-01,  5.87785252e-01,  5.87785252e-01,\n",
       "                        5.87785252e-01,  5.87785252e-01,  5.87785252e-01,\n",
       "                        5.87785252e-01,  5.87785252e-01],\n",
       "                      [-9.51056516e-01, -9.51056516e-01, -9.51056516e-01,\n",
       "                       -9.51056516e-01, -9.51056516e-01, -9.51056516e-01,\n",
       "                       -9.51056516e-01, -9.51056516e-01],\n",
       "                      [-7.34788079e-16, -7.34788079e-16, -7.34788079e-16,\n",
       "                       -7.34788079e-16, -7.34788079e-16, -7.34788079e-16,\n",
       "                       -7.34788079e-16, -7.34788079e-16],\n",
       "                      [ 9.51056516e-01,  9.51056516e-01,  9.51056516e-01,\n",
       "                        9.51056516e-01,  9.51056516e-01,  9.51056516e-01,\n",
       "                        9.51056516e-01,  9.51056516e-01],\n",
       "                      [-5.87785252e-01, -5.87785252e-01, -5.87785252e-01,\n",
       "                       -5.87785252e-01, -5.87785252e-01, -5.87785252e-01,\n",
       "                       -5.87785252e-01, -5.87785252e-01],\n",
       "                      [-5.87785252e-01, -5.87785252e-01, -5.87785252e-01,\n",
       "                       -5.87785252e-01, -5.87785252e-01, -5.87785252e-01,\n",
       "                       -5.87785252e-01, -5.87785252e-01],\n",
       "                      [ 9.51056516e-01,  9.51056516e-01,  9.51056516e-01,\n",
       "                        9.51056516e-01,  9.51056516e-01,  9.51056516e-01,\n",
       "                        9.51056516e-01,  9.51056516e-01],\n",
       "                      [ 4.65489580e-15,  4.65489580e-15,  4.65489580e-15,\n",
       "                        4.65489580e-15,  4.65489580e-15,  4.65489580e-15,\n",
       "                        4.65489580e-15,  4.65489580e-15],\n",
       "                      [-9.51056516e-01, -9.51056516e-01, -9.51056516e-01,\n",
       "                       -9.51056516e-01, -9.51056516e-01, -9.51056516e-01,\n",
       "                       -9.51056516e-01, -9.51056516e-01],\n",
       "                      [ 5.87785252e-01,  5.87785252e-01,  5.87785252e-01,\n",
       "                        5.87785252e-01,  5.87785252e-01,  5.87785252e-01,\n",
       "                        5.87785252e-01,  5.87785252e-01],\n",
       "                      [ 5.87785252e-01,  5.87785252e-01,  5.87785252e-01,\n",
       "                        5.87785252e-01,  5.87785252e-01,  5.87785252e-01,\n",
       "                        5.87785252e-01,  5.87785252e-01],\n",
       "                      [-9.51056516e-01, -9.51056516e-01, -9.51056516e-01,\n",
       "                       -9.51056516e-01, -9.51056516e-01, -9.51056516e-01,\n",
       "                       -9.51056516e-01, -9.51056516e-01],\n",
       "                      [-1.46957616e-15, -1.46957616e-15, -1.46957616e-15,\n",
       "                       -1.46957616e-15, -1.46957616e-15, -1.46957616e-15,\n",
       "                       -1.46957616e-15, -1.46957616e-15],\n",
       "                      [ 9.51056516e-01,  9.51056516e-01,  9.51056516e-01,\n",
       "                        9.51056516e-01,  9.51056516e-01,  9.51056516e-01,\n",
       "                        9.51056516e-01,  9.51056516e-01],\n",
       "                      [-5.87785252e-01, -5.87785252e-01, -5.87785252e-01,\n",
       "                       -5.87785252e-01, -5.87785252e-01, -5.87785252e-01,\n",
       "                       -5.87785252e-01, -5.87785252e-01],\n",
       "                      [-5.87785252e-01, -5.87785252e-01, -5.87785252e-01,\n",
       "                       -5.87785252e-01, -5.87785252e-01, -5.87785252e-01,\n",
       "                       -5.87785252e-01, -5.87785252e-01],\n",
       "                      [ 9.51056516e-01,  9.51056516e-01,  9.51056516e-01,\n",
       "                        9.51056516e-01,  9.51056516e-01,  9.51056516e-01,\n",
       "                        9.51056516e-01,  9.51056516e-01],\n",
       "                      [ 5.38968388e-15,  5.38968388e-15,  5.38968388e-15,\n",
       "                        5.38968388e-15,  5.38968388e-15,  5.38968388e-15,\n",
       "                        5.38968388e-15,  5.38968388e-15],\n",
       "                      [-9.51056516e-01, -9.51056516e-01, -9.51056516e-01,\n",
       "                       -9.51056516e-01, -9.51056516e-01, -9.51056516e-01,\n",
       "                       -9.51056516e-01, -9.51056516e-01],\n",
       "                      [ 5.87785252e-01,  5.87785252e-01,  5.87785252e-01,\n",
       "                        5.87785252e-01,  5.87785252e-01,  5.87785252e-01,\n",
       "                        5.87785252e-01,  5.87785252e-01],\n",
       "                      [ 5.87785252e-01,  5.87785252e-01,  5.87785252e-01,\n",
       "                        5.87785252e-01,  5.87785252e-01,  5.87785252e-01,\n",
       "                        5.87785252e-01,  5.87785252e-01],\n",
       "                      [-9.51056516e-01, -9.51056516e-01, -9.51056516e-01,\n",
       "                       -9.51056516e-01, -9.51056516e-01, -9.51056516e-01,\n",
       "                       -9.51056516e-01, -9.51056516e-01],\n",
       "                      [-9.30979160e-15, -9.30979160e-15, -9.30979160e-15,\n",
       "                       -9.30979160e-15, -9.30979160e-15, -9.30979160e-15,\n",
       "                       -9.30979160e-15, -9.30979160e-15],\n",
       "                      [ 9.51056516e-01,  9.51056516e-01,  9.51056516e-01,\n",
       "                        9.51056516e-01,  9.51056516e-01,  9.51056516e-01,\n",
       "                        9.51056516e-01,  9.51056516e-01],\n",
       "                      [-5.87785252e-01, -5.87785252e-01, -5.87785252e-01,\n",
       "                       -5.87785252e-01, -5.87785252e-01, -5.87785252e-01,\n",
       "                       -5.87785252e-01, -5.87785252e-01],\n",
       "                      [-5.87785252e-01, -5.87785252e-01, -5.87785252e-01,\n",
       "                       -5.87785252e-01, -5.87785252e-01, -5.87785252e-01,\n",
       "                       -5.87785252e-01, -5.87785252e-01],\n",
       "                      [ 9.51056516e-01,  9.51056516e-01,  9.51056516e-01,\n",
       "                        9.51056516e-01,  9.51056516e-01,  9.51056516e-01,\n",
       "                        9.51056516e-01,  9.51056516e-01],\n",
       "                      [-9.80955401e-16, -9.80955401e-16, -9.80955401e-16,\n",
       "                       -9.80955401e-16, -9.80955401e-16, -9.80955401e-16,\n",
       "                       -9.80955401e-16, -9.80955401e-16],\n",
       "                      [-9.51056516e-01, -9.51056516e-01, -9.51056516e-01,\n",
       "                       -9.51056516e-01, -9.51056516e-01, -9.51056516e-01,\n",
       "                       -9.51056516e-01, -9.51056516e-01],\n",
       "                      [ 5.87785252e-01,  5.87785252e-01,  5.87785252e-01,\n",
       "                        5.87785252e-01,  5.87785252e-01,  5.87785252e-01,\n",
       "                        5.87785252e-01,  5.87785252e-01],\n",
       "                      [ 5.87785252e-01,  5.87785252e-01,  5.87785252e-01,\n",
       "                        5.87785252e-01,  5.87785252e-01,  5.87785252e-01,\n",
       "                        5.87785252e-01,  5.87785252e-01],\n",
       "                      [-9.51056516e-01, -9.51056516e-01, -9.51056516e-01,\n",
       "                       -9.51056516e-01, -9.51056516e-01, -9.51056516e-01,\n",
       "                       -9.51056516e-01, -9.51056516e-01],\n",
       "                      [-2.93915232e-15, -2.93915232e-15, -2.93915232e-15,\n",
       "                       -2.93915232e-15, -2.93915232e-15, -2.93915232e-15,\n",
       "                       -2.93915232e-15, -2.93915232e-15],\n",
       "                      [ 9.51056516e-01,  9.51056516e-01,  9.51056516e-01,\n",
       "                        9.51056516e-01,  9.51056516e-01,  9.51056516e-01,\n",
       "                        9.51056516e-01,  9.51056516e-01],\n",
       "                      [-5.87785252e-01, -5.87785252e-01, -5.87785252e-01,\n",
       "                       -5.87785252e-01, -5.87785252e-01, -5.87785252e-01,\n",
       "                       -5.87785252e-01, -5.87785252e-01],\n",
       "                      [-5.87785252e-01, -5.87785252e-01, -5.87785252e-01,\n",
       "                       -5.87785252e-01, -5.87785252e-01, -5.87785252e-01,\n",
       "                       -5.87785252e-01, -5.87785252e-01],\n",
       "                      [ 9.51056516e-01,  9.51056516e-01,  9.51056516e-01,\n",
       "                        9.51056516e-01,  9.51056516e-01,  9.51056516e-01,\n",
       "                        9.51056516e-01,  9.51056516e-01],\n",
       "                      [ 6.85926004e-15,  6.85926004e-15,  6.85926004e-15,\n",
       "                        6.85926004e-15,  6.85926004e-15,  6.85926004e-15,\n",
       "                        6.85926004e-15,  6.85926004e-15],\n",
       "                      [-9.51056516e-01, -9.51056516e-01, -9.51056516e-01,\n",
       "                       -9.51056516e-01, -9.51056516e-01, -9.51056516e-01,\n",
       "                       -9.51056516e-01, -9.51056516e-01],\n",
       "                      [ 5.87785252e-01,  5.87785252e-01,  5.87785252e-01,\n",
       "                        5.87785252e-01,  5.87785252e-01,  5.87785252e-01,\n",
       "                        5.87785252e-01,  5.87785252e-01],\n",
       "                      [ 5.87785252e-01,  5.87785252e-01,  5.87785252e-01,\n",
       "                        5.87785252e-01,  5.87785252e-01,  5.87785252e-01,\n",
       "                        5.87785252e-01,  5.87785252e-01],\n",
       "                      [-9.51056516e-01, -9.51056516e-01, -9.51056516e-01,\n",
       "                       -9.51056516e-01, -9.51056516e-01, -9.51056516e-01,\n",
       "                       -9.51056516e-01, -9.51056516e-01],\n",
       "                      [-1.07793678e-14, -1.07793678e-14, -1.07793678e-14,\n",
       "                       -1.07793678e-14, -1.07793678e-14, -1.07793678e-14,\n",
       "                       -1.07793678e-14, -1.07793678e-14],\n",
       "                      [ 9.51056516e-01,  9.51056516e-01,  9.51056516e-01,\n",
       "                        9.51056516e-01,  9.51056516e-01,  9.51056516e-01,\n",
       "                        9.51056516e-01,  9.51056516e-01],\n",
       "                      [-5.87785252e-01, -5.87785252e-01, -5.87785252e-01,\n",
       "                       -5.87785252e-01, -5.87785252e-01, -5.87785252e-01,\n",
       "                       -5.87785252e-01, -5.87785252e-01],\n",
       "                      [-5.87785252e-01, -5.87785252e-01, -5.87785252e-01,\n",
       "                       -5.87785252e-01, -5.87785252e-01, -5.87785252e-01,\n",
       "                       -5.87785252e-01, -5.87785252e-01],\n",
       "                      [ 9.51056516e-01,  9.51056516e-01,  9.51056516e-01,\n",
       "                        9.51056516e-01,  9.51056516e-01,  9.51056516e-01,\n",
       "                        9.51056516e-01,  9.51056516e-01],\n",
       "                      [ 4.88620758e-16,  4.88620758e-16,  4.88620758e-16,\n",
       "                        4.88620758e-16,  4.88620758e-16,  4.88620758e-16,\n",
       "                        4.88620758e-16,  4.88620758e-16],\n",
       "                      [-9.51056516e-01, -9.51056516e-01, -9.51056516e-01,\n",
       "                       -9.51056516e-01, -9.51056516e-01, -9.51056516e-01,\n",
       "                       -9.51056516e-01, -9.51056516e-01],\n",
       "                      [ 5.87785252e-01,  5.87785252e-01,  5.87785252e-01,\n",
       "                        5.87785252e-01,  5.87785252e-01,  5.87785252e-01,\n",
       "                        5.87785252e-01,  5.87785252e-01],\n",
       "                      [ 5.87785252e-01,  5.87785252e-01,  5.87785252e-01,\n",
       "                        5.87785252e-01,  5.87785252e-01,  5.87785252e-01,\n",
       "                        5.87785252e-01,  5.87785252e-01],\n",
       "                      [-9.51056516e-01, -9.51056516e-01, -9.51056516e-01,\n",
       "                       -9.51056516e-01, -9.51056516e-01, -9.51056516e-01,\n",
       "                       -9.51056516e-01, -9.51056516e-01],\n",
       "                      [-1.86195832e-14, -1.86195832e-14, -1.86195832e-14,\n",
       "                       -1.86195832e-14, -1.86195832e-14, -1.86195832e-14,\n",
       "                       -1.86195832e-14, -1.86195832e-14],\n",
       "                      [ 9.51056516e-01,  9.51056516e-01,  9.51056516e-01,\n",
       "                        9.51056516e-01,  9.51056516e-01,  9.51056516e-01,\n",
       "                        9.51056516e-01,  9.51056516e-01],\n",
       "                      [-5.87785252e-01, -5.87785252e-01, -5.87785252e-01,\n",
       "                       -5.87785252e-01, -5.87785252e-01, -5.87785252e-01,\n",
       "                       -5.87785252e-01, -5.87785252e-01],\n",
       "                      [-5.87785252e-01, -5.87785252e-01, -5.87785252e-01,\n",
       "                       -5.87785252e-01, -5.87785252e-01, -5.87785252e-01,\n",
       "                       -5.87785252e-01, -5.87785252e-01],\n",
       "                      [ 9.51056516e-01,  9.51056516e-01,  9.51056516e-01,\n",
       "                        9.51056516e-01,  9.51056516e-01,  9.51056516e-01,\n",
       "                        9.51056516e-01,  9.51056516e-01],\n",
       "                      [ 8.32883620e-15,  8.32883620e-15,  8.32883620e-15,\n",
       "                        8.32883620e-15,  8.32883620e-15,  8.32883620e-15,\n",
       "                        8.32883620e-15,  8.32883620e-15],\n",
       "                      [-9.51056516e-01, -9.51056516e-01, -9.51056516e-01,\n",
       "                       -9.51056516e-01, -9.51056516e-01, -9.51056516e-01,\n",
       "                       -9.51056516e-01, -9.51056516e-01],\n",
       "                      [ 5.87785252e-01,  5.87785252e-01,  5.87785252e-01,\n",
       "                        5.87785252e-01,  5.87785252e-01,  5.87785252e-01,\n",
       "                        5.87785252e-01,  5.87785252e-01],\n",
       "                      [ 5.87785252e-01,  5.87785252e-01,  5.87785252e-01,\n",
       "                        5.87785252e-01,  5.87785252e-01,  5.87785252e-01,\n",
       "                        5.87785252e-01,  5.87785252e-01],\n",
       "                      [-9.51056516e-01, -9.51056516e-01, -9.51056516e-01,\n",
       "                       -9.51056516e-01, -9.51056516e-01, -9.51056516e-01,\n",
       "                       -9.51056516e-01, -9.51056516e-01],\n",
       "                      [ 1.96191080e-15,  1.96191080e-15,  1.96191080e-15,\n",
       "                        1.96191080e-15,  1.96191080e-15,  1.96191080e-15,\n",
       "                        1.96191080e-15,  1.96191080e-15],\n",
       "                      [ 9.51056516e-01,  9.51056516e-01,  9.51056516e-01,\n",
       "                        9.51056516e-01,  9.51056516e-01,  9.51056516e-01,\n",
       "                        9.51056516e-01,  9.51056516e-01],\n",
       "                      [-5.87785252e-01, -5.87785252e-01, -5.87785252e-01,\n",
       "                       -5.87785252e-01, -5.87785252e-01, -5.87785252e-01,\n",
       "                       -5.87785252e-01, -5.87785252e-01],\n",
       "                      [-5.87785252e-01, -5.87785252e-01, -5.87785252e-01,\n",
       "                       -5.87785252e-01, -5.87785252e-01, -5.87785252e-01,\n",
       "                       -5.87785252e-01, -5.87785252e-01],\n",
       "                      [ 9.51056516e-01,  9.51056516e-01,  9.51056516e-01,\n",
       "                        9.51056516e-01,  9.51056516e-01,  9.51056516e-01,\n",
       "                        9.51056516e-01,  9.51056516e-01],\n",
       "                      [ 3.03799063e-14,  3.03799063e-14,  3.03799063e-14,\n",
       "                        3.03799063e-14,  3.03799063e-14,  3.03799063e-14,\n",
       "                        3.03799063e-14,  3.03799063e-14],\n",
       "                      [-9.51056516e-01, -9.51056516e-01, -9.51056516e-01,\n",
       "                       -9.51056516e-01, -9.51056516e-01, -9.51056516e-01,\n",
       "                       -9.51056516e-01, -9.51056516e-01],\n",
       "                      [ 5.87785252e-01,  5.87785252e-01,  5.87785252e-01,\n",
       "                        5.87785252e-01,  5.87785252e-01,  5.87785252e-01,\n",
       "                        5.87785252e-01,  5.87785252e-01],\n",
       "                      [ 5.87785252e-01,  5.87785252e-01,  5.87785252e-01,\n",
       "                        5.87785252e-01,  5.87785252e-01,  5.87785252e-01,\n",
       "                        5.87785252e-01,  5.87785252e-01],\n",
       "                      [-9.51056516e-01, -9.51056516e-01, -9.51056516e-01,\n",
       "                       -9.51056516e-01, -9.51056516e-01, -9.51056516e-01,\n",
       "                       -9.51056516e-01, -9.51056516e-01],\n",
       "                      [-5.87830464e-15, -5.87830464e-15, -5.87830464e-15,\n",
       "                       -5.87830464e-15, -5.87830464e-15, -5.87830464e-15,\n",
       "                       -5.87830464e-15, -5.87830464e-15],\n",
       "                      [ 9.51056516e-01,  9.51056516e-01,  9.51056516e-01,\n",
       "                        9.51056516e-01,  9.51056516e-01,  9.51056516e-01,\n",
       "                        9.51056516e-01,  9.51056516e-01],\n",
       "                      [-5.87785252e-01, -5.87785252e-01, -5.87785252e-01,\n",
       "                       -5.87785252e-01, -5.87785252e-01, -5.87785252e-01,\n",
       "                       -5.87785252e-01, -5.87785252e-01],\n",
       "                      [-5.87785252e-01, -5.87785252e-01, -5.87785252e-01,\n",
       "                       -5.87785252e-01, -5.87785252e-01, -5.87785252e-01,\n",
       "                       -5.87785252e-01, -5.87785252e-01],\n",
       "                      [ 9.51056516e-01,  9.51056516e-01,  9.51056516e-01,\n",
       "                        9.51056516e-01,  9.51056516e-01,  9.51056516e-01,\n",
       "                        9.51056516e-01,  9.51056516e-01],\n",
       "                      [ 9.79841235e-15,  9.79841235e-15,  9.79841235e-15,\n",
       "                        9.79841235e-15,  9.79841235e-15,  9.79841235e-15,\n",
       "                        9.79841235e-15,  9.79841235e-15],\n",
       "                      [-9.51056516e-01, -9.51056516e-01, -9.51056516e-01,\n",
       "                       -9.51056516e-01, -9.51056516e-01, -9.51056516e-01,\n",
       "                       -9.51056516e-01, -9.51056516e-01],\n",
       "                      [ 5.87785252e-01,  5.87785252e-01,  5.87785252e-01,\n",
       "                        5.87785252e-01,  5.87785252e-01,  5.87785252e-01,\n",
       "                        5.87785252e-01,  5.87785252e-01],\n",
       "                      [ 5.87785252e-01,  5.87785252e-01,  5.87785252e-01,\n",
       "                        5.87785252e-01,  5.87785252e-01,  5.87785252e-01,\n",
       "                        5.87785252e-01,  5.87785252e-01],\n",
       "                      [-9.51056516e-01, -9.51056516e-01, -9.51056516e-01,\n",
       "                       -9.51056516e-01, -9.51056516e-01, -9.51056516e-01,\n",
       "                       -9.51056516e-01, -9.51056516e-01],\n",
       "                      [-1.37185201e-14, -1.37185201e-14, -1.37185201e-14,\n",
       "                       -1.37185201e-14, -1.37185201e-14, -1.37185201e-14,\n",
       "                       -1.37185201e-14, -1.37185201e-14],\n",
       "                      [ 9.51056516e-01,  9.51056516e-01,  9.51056516e-01,\n",
       "                        9.51056516e-01,  9.51056516e-01,  9.51056516e-01,\n",
       "                        9.51056516e-01,  9.51056516e-01],\n",
       "                      [-5.87785252e-01, -5.87785252e-01, -5.87785252e-01,\n",
       "                       -5.87785252e-01, -5.87785252e-01, -5.87785252e-01,\n",
       "                       -5.87785252e-01, -5.87785252e-01],\n",
       "                      [-5.87785252e-01, -5.87785252e-01, -5.87785252e-01,\n",
       "                       -5.87785252e-01, -5.87785252e-01, -5.87785252e-01,\n",
       "                       -5.87785252e-01, -5.87785252e-01],\n",
       "                      [ 9.51056516e-01,  9.51056516e-01,  9.51056516e-01,\n",
       "                        9.51056516e-01,  9.51056516e-01,  9.51056516e-01,\n",
       "                        9.51056516e-01,  9.51056516e-01],\n",
       "                      [ 1.76386278e-14,  1.76386278e-14,  1.76386278e-14,\n",
       "                        1.76386278e-14,  1.76386278e-14,  1.76386278e-14,\n",
       "                        1.76386278e-14,  1.76386278e-14],\n",
       "                      [-9.51056516e-01, -9.51056516e-01, -9.51056516e-01,\n",
       "                       -9.51056516e-01, -9.51056516e-01, -9.51056516e-01,\n",
       "                       -9.51056516e-01, -9.51056516e-01],\n",
       "                      [ 5.87785252e-01,  5.87785252e-01,  5.87785252e-01,\n",
       "                        5.87785252e-01,  5.87785252e-01,  5.87785252e-01,\n",
       "                        5.87785252e-01,  5.87785252e-01],\n",
       "                      [ 5.87785252e-01,  5.87785252e-01,  5.87785252e-01,\n",
       "                        5.87785252e-01,  5.87785252e-01,  5.87785252e-01,\n",
       "                        5.87785252e-01,  5.87785252e-01],\n",
       "                      [-9.51056516e-01, -9.51056516e-01, -9.51056516e-01,\n",
       "                       -9.51056516e-01, -9.51056516e-01, -9.51056516e-01,\n",
       "                       -9.51056516e-01, -9.51056516e-01]])),\n",
       "              ('fft',\n",
       "               array([[1.29472414e-15, 1.07771335e-15, 1.14081624e-15, 5.90617668e-16,\n",
       "                       1.17550595e-15, 4.85227802e-16, 5.09158678e-16, 8.32637153e-16,\n",
       "                       8.31651230e-16, 1.39247223e-15, 1.05547034e-15, 1.35799461e-15,\n",
       "                       1.36712607e-15, 2.48780763e-16, 4.67115511e-16, 4.28478941e-16,\n",
       "                       1.22096914e-15, 1.37404425e-15, 3.60611124e-16, 1.29182611e-15,\n",
       "                       5.74644338e-16, 1.83726352e-15, 1.88022848e-15, 7.87352203e-16,\n",
       "                       1.39979992e-15, 9.73549557e-16, 1.81058000e-15, 6.58821442e-16,\n",
       "                       9.36767223e-16, 3.70657755e-15, 1.00000000e+00, 1.41359882e-15,\n",
       "                       1.30793024e-15, 9.71759930e-16, 1.35963098e-15, 1.13986635e-15,\n",
       "                       1.26516577e-15, 1.38159691e-15, 1.16263197e-15, 1.67029400e-15,\n",
       "                       1.06388645e-15, 8.95726345e-16, 1.00299865e-15, 1.07507701e-15,\n",
       "                       9.56910114e-16, 1.98311302e-16, 1.39598115e-15, 8.95223901e-16,\n",
       "                       3.30986662e-16, 2.73975981e-16, 3.75104419e-16],\n",
       "                      [1.29472414e-15, 1.07771335e-15, 1.14081624e-15, 5.90617668e-16,\n",
       "                       1.17550595e-15, 4.85227802e-16, 5.09158678e-16, 8.32637153e-16,\n",
       "                       8.31651230e-16, 1.39247223e-15, 1.05547034e-15, 1.35799461e-15,\n",
       "                       1.36712607e-15, 2.48780763e-16, 4.67115511e-16, 4.28478941e-16,\n",
       "                       1.22096914e-15, 1.37404425e-15, 3.60611124e-16, 1.29182611e-15,\n",
       "                       5.74644338e-16, 1.83726352e-15, 1.88022848e-15, 7.87352203e-16,\n",
       "                       1.39979992e-15, 9.73549557e-16, 1.81058000e-15, 6.58821442e-16,\n",
       "                       9.36767223e-16, 3.70657755e-15, 1.00000000e+00, 1.41359882e-15,\n",
       "                       1.30793024e-15, 9.71759930e-16, 1.35963098e-15, 1.13986635e-15,\n",
       "                       1.26516577e-15, 1.38159691e-15, 1.16263197e-15, 1.67029400e-15,\n",
       "                       1.06388645e-15, 8.95726345e-16, 1.00299865e-15, 1.07507701e-15,\n",
       "                       9.56910114e-16, 1.98311302e-16, 1.39598115e-15, 8.95223901e-16,\n",
       "                       3.30986662e-16, 2.73975981e-16, 3.75104419e-16],\n",
       "                      [1.29472414e-15, 1.07771335e-15, 1.14081624e-15, 5.90617668e-16,\n",
       "                       1.17550595e-15, 4.85227802e-16, 5.09158678e-16, 8.32637153e-16,\n",
       "                       8.31651230e-16, 1.39247223e-15, 1.05547034e-15, 1.35799461e-15,\n",
       "                       1.36712607e-15, 2.48780763e-16, 4.67115511e-16, 4.28478941e-16,\n",
       "                       1.22096914e-15, 1.37404425e-15, 3.60611124e-16, 1.29182611e-15,\n",
       "                       5.74644338e-16, 1.83726352e-15, 1.88022848e-15, 7.87352203e-16,\n",
       "                       1.39979992e-15, 9.73549557e-16, 1.81058000e-15, 6.58821442e-16,\n",
       "                       9.36767223e-16, 3.70657755e-15, 1.00000000e+00, 1.41359882e-15,\n",
       "                       1.30793024e-15, 9.71759930e-16, 1.35963098e-15, 1.13986635e-15,\n",
       "                       1.26516577e-15, 1.38159691e-15, 1.16263197e-15, 1.67029400e-15,\n",
       "                       1.06388645e-15, 8.95726345e-16, 1.00299865e-15, 1.07507701e-15,\n",
       "                       9.56910114e-16, 1.98311302e-16, 1.39598115e-15, 8.95223901e-16,\n",
       "                       3.30986662e-16, 2.73975981e-16, 3.75104419e-16],\n",
       "                      [1.29472414e-15, 1.07771335e-15, 1.14081624e-15, 5.90617668e-16,\n",
       "                       1.17550595e-15, 4.85227802e-16, 5.09158678e-16, 8.32637153e-16,\n",
       "                       8.31651230e-16, 1.39247223e-15, 1.05547034e-15, 1.35799461e-15,\n",
       "                       1.36712607e-15, 2.48780763e-16, 4.67115511e-16, 4.28478941e-16,\n",
       "                       1.22096914e-15, 1.37404425e-15, 3.60611124e-16, 1.29182611e-15,\n",
       "                       5.74644338e-16, 1.83726352e-15, 1.88022848e-15, 7.87352203e-16,\n",
       "                       1.39979992e-15, 9.73549557e-16, 1.81058000e-15, 6.58821442e-16,\n",
       "                       9.36767223e-16, 3.70657755e-15, 1.00000000e+00, 1.41359882e-15,\n",
       "                       1.30793024e-15, 9.71759930e-16, 1.35963098e-15, 1.13986635e-15,\n",
       "                       1.26516577e-15, 1.38159691e-15, 1.16263197e-15, 1.67029400e-15,\n",
       "                       1.06388645e-15, 8.95726345e-16, 1.00299865e-15, 1.07507701e-15,\n",
       "                       9.56910114e-16, 1.98311302e-16, 1.39598115e-15, 8.95223901e-16,\n",
       "                       3.30986662e-16, 2.73975981e-16, 3.75104419e-16],\n",
       "                      [1.29472414e-15, 1.07771335e-15, 1.14081624e-15, 5.90617668e-16,\n",
       "                       1.17550595e-15, 4.85227802e-16, 5.09158678e-16, 8.32637153e-16,\n",
       "                       8.31651230e-16, 1.39247223e-15, 1.05547034e-15, 1.35799461e-15,\n",
       "                       1.36712607e-15, 2.48780763e-16, 4.67115511e-16, 4.28478941e-16,\n",
       "                       1.22096914e-15, 1.37404425e-15, 3.60611124e-16, 1.29182611e-15,\n",
       "                       5.74644338e-16, 1.83726352e-15, 1.88022848e-15, 7.87352203e-16,\n",
       "                       1.39979992e-15, 9.73549557e-16, 1.81058000e-15, 6.58821442e-16,\n",
       "                       9.36767223e-16, 3.70657755e-15, 1.00000000e+00, 1.41359882e-15,\n",
       "                       1.30793024e-15, 9.71759930e-16, 1.35963098e-15, 1.13986635e-15,\n",
       "                       1.26516577e-15, 1.38159691e-15, 1.16263197e-15, 1.67029400e-15,\n",
       "                       1.06388645e-15, 8.95726345e-16, 1.00299865e-15, 1.07507701e-15,\n",
       "                       9.56910114e-16, 1.98311302e-16, 1.39598115e-15, 8.95223901e-16,\n",
       "                       3.30986662e-16, 2.73975981e-16, 3.75104419e-16],\n",
       "                      [1.29472414e-15, 1.07771335e-15, 1.14081624e-15, 5.90617668e-16,\n",
       "                       1.17550595e-15, 4.85227802e-16, 5.09158678e-16, 8.32637153e-16,\n",
       "                       8.31651230e-16, 1.39247223e-15, 1.05547034e-15, 1.35799461e-15,\n",
       "                       1.36712607e-15, 2.48780763e-16, 4.67115511e-16, 4.28478941e-16,\n",
       "                       1.22096914e-15, 1.37404425e-15, 3.60611124e-16, 1.29182611e-15,\n",
       "                       5.74644338e-16, 1.83726352e-15, 1.88022848e-15, 7.87352203e-16,\n",
       "                       1.39979992e-15, 9.73549557e-16, 1.81058000e-15, 6.58821442e-16,\n",
       "                       9.36767223e-16, 3.70657755e-15, 1.00000000e+00, 1.41359882e-15,\n",
       "                       1.30793024e-15, 9.71759930e-16, 1.35963098e-15, 1.13986635e-15,\n",
       "                       1.26516577e-15, 1.38159691e-15, 1.16263197e-15, 1.67029400e-15,\n",
       "                       1.06388645e-15, 8.95726345e-16, 1.00299865e-15, 1.07507701e-15,\n",
       "                       9.56910114e-16, 1.98311302e-16, 1.39598115e-15, 8.95223901e-16,\n",
       "                       3.30986662e-16, 2.73975981e-16, 3.75104419e-16],\n",
       "                      [1.29472414e-15, 1.07771335e-15, 1.14081624e-15, 5.90617668e-16,\n",
       "                       1.17550595e-15, 4.85227802e-16, 5.09158678e-16, 8.32637153e-16,\n",
       "                       8.31651230e-16, 1.39247223e-15, 1.05547034e-15, 1.35799461e-15,\n",
       "                       1.36712607e-15, 2.48780763e-16, 4.67115511e-16, 4.28478941e-16,\n",
       "                       1.22096914e-15, 1.37404425e-15, 3.60611124e-16, 1.29182611e-15,\n",
       "                       5.74644338e-16, 1.83726352e-15, 1.88022848e-15, 7.87352203e-16,\n",
       "                       1.39979992e-15, 9.73549557e-16, 1.81058000e-15, 6.58821442e-16,\n",
       "                       9.36767223e-16, 3.70657755e-15, 1.00000000e+00, 1.41359882e-15,\n",
       "                       1.30793024e-15, 9.71759930e-16, 1.35963098e-15, 1.13986635e-15,\n",
       "                       1.26516577e-15, 1.38159691e-15, 1.16263197e-15, 1.67029400e-15,\n",
       "                       1.06388645e-15, 8.95726345e-16, 1.00299865e-15, 1.07507701e-15,\n",
       "                       9.56910114e-16, 1.98311302e-16, 1.39598115e-15, 8.95223901e-16,\n",
       "                       3.30986662e-16, 2.73975981e-16, 3.75104419e-16],\n",
       "                      [1.29472414e-15, 1.07771335e-15, 1.14081624e-15, 5.90617668e-16,\n",
       "                       1.17550595e-15, 4.85227802e-16, 5.09158678e-16, 8.32637153e-16,\n",
       "                       8.31651230e-16, 1.39247223e-15, 1.05547034e-15, 1.35799461e-15,\n",
       "                       1.36712607e-15, 2.48780763e-16, 4.67115511e-16, 4.28478941e-16,\n",
       "                       1.22096914e-15, 1.37404425e-15, 3.60611124e-16, 1.29182611e-15,\n",
       "                       5.74644338e-16, 1.83726352e-15, 1.88022848e-15, 7.87352203e-16,\n",
       "                       1.39979992e-15, 9.73549557e-16, 1.81058000e-15, 6.58821442e-16,\n",
       "                       9.36767223e-16, 3.70657755e-15, 1.00000000e+00, 1.41359882e-15,\n",
       "                       1.30793024e-15, 9.71759930e-16, 1.35963098e-15, 1.13986635e-15,\n",
       "                       1.26516577e-15, 1.38159691e-15, 1.16263197e-15, 1.67029400e-15,\n",
       "                       1.06388645e-15, 8.95726345e-16, 1.00299865e-15, 1.07507701e-15,\n",
       "                       9.56910114e-16, 1.98311302e-16, 1.39598115e-15, 8.95223901e-16,\n",
       "                       3.30986662e-16, 2.73975981e-16, 3.75104419e-16]])),\n",
       "              ('fbins',\n",
       "               array([[1.29472414e-15, 9.36382420e-16, 7.50632396e-16, 1.15939710e-15,\n",
       "                       1.18469645e-15, 5.00000000e-02],\n",
       "                      [1.29472414e-15, 9.36382420e-16, 7.50632396e-16, 1.15939710e-15,\n",
       "                       1.18469645e-15, 5.00000000e-02],\n",
       "                      [1.29472414e-15, 9.36382420e-16, 7.50632396e-16, 1.15939710e-15,\n",
       "                       1.18469645e-15, 5.00000000e-02],\n",
       "                      [1.29472414e-15, 9.36382420e-16, 7.50632396e-16, 1.15939710e-15,\n",
       "                       1.18469645e-15, 5.00000000e-02],\n",
       "                      [1.29472414e-15, 9.36382420e-16, 7.50632396e-16, 1.15939710e-15,\n",
       "                       1.18469645e-15, 5.00000000e-02],\n",
       "                      [1.29472414e-15, 9.36382420e-16, 7.50632396e-16, 1.15939710e-15,\n",
       "                       1.18469645e-15, 5.00000000e-02],\n",
       "                      [1.29472414e-15, 9.36382420e-16, 7.50632396e-16, 1.15939710e-15,\n",
       "                       1.18469645e-15, 5.00000000e-02],\n",
       "                      [1.29472414e-15, 9.36382420e-16, 7.50632396e-16, 1.15939710e-15,\n",
       "                       1.18469645e-15, 5.00000000e-02]]))]),\n",
       " array(8.4409808e+14),\n",
       " False,\n",
       " {})"
      ]
     },
     "execution_count": 96,
     "metadata": {},
     "output_type": "execute_result"
    }
   ],
   "source": [
    "env.step(env.action_space.sample())"
   ]
  },
  {
   "cell_type": "code",
   "execution_count": 97,
   "metadata": {},
   "outputs": [
    {
     "name": "stderr",
     "output_type": "stream",
     "text": [
      "/home/biorp/.local/lib/python3.10/site-packages/stable_baselines3/common/vec_env/patch_gym.py:49: UserWarning:\n",
      "\n",
      "You provided an OpenAI Gym environment. We strongly recommend transitioning to Gymnasium environments. Stable-Baselines3 is automatically wrapping your environments in a compatibility layer, which could potentially cause issues.\n",
      "\n",
      "/home/biorp/.local/lib/python3.10/site-packages/stable_baselines3/ppo/ppo.py:155: UserWarning:\n",
      "\n",
      "You have specified a mini-batch size of 64, but because the `RolloutBuffer` is of size `n_steps * n_envs = 2`, after every 0 untruncated mini-batches, there will be a truncated mini-batch of size 2\n",
      "We recommend using a `batch_size` that is a factor of `n_steps * n_envs`.\n",
      "Info: (n_steps=2 and n_envs=1)\n",
      "\n"
     ]
    }
   ],
   "source": [
    "trainer=RLSystem.stable_baselines_model_trainer(initialized_environment=env,\n",
    "                                                          algorithm='PPO',\n",
    "                                                          policy='MlpPolicy',\n",
    "                                                          logfn='model_stats.log',\n",
    "                                                          n_steps_per_timestep=2)"
   ]
  },
  {
   "cell_type": "code",
   "execution_count": 98,
   "metadata": {},
   "outputs": [
    {
     "name": "stdout",
     "output_type": "stream",
     "text": [
      "[255, 0, 0, 0, 180, 0, 0, 0, 255, 255, 255, 255, 0, 255, 255, 255, 0, 255, 255, 15, 0, 255, 0, 0, 10, 440, 440, 1, 2, 440, 1, 49, 440, 1, 49, 10, 0, 0]\n",
      "255,0,0,0,180,0,0,0,255,255,255,255,0,255,255,255,0,255,255,15,0,255,0,0,10,440,440,1,2,440,1,49,440,1,49,10,0,0\n",
      "[0.4965278, 0.49014455, 0.26404753, -0.9619765, 1.0, -0.27713594, 0.9036476, -1.0, -0.04646215, 1.0, -0.57344335, -0.45032436, -0.19467962, 1.0, -1.0, -0.12566246, 0.41311267, 1.0, 1.0, -0.86183596, 0.49786505, -0.24034674, 0.9391116, -0.14344169, 0.1920244, 1.0, -0.40890962, 1.0, 0.032054022, -0.8257742, 0.77733415, 0.3293386, 0.6139202, 0.39258578, 1.0, -0.11418468, -1.0, -1.0]\n",
      "0,0,0,0,1,0,0,-1,0,1,0,0,0,1,-1,0,0,1,1,0,0,0,0,0,0,1,0,1,0,0,0,0,0,0,1,0,-1,-1\n",
      "[-1.0, 0.20954262, 0.07139504, -0.45225158, -1.0, -1.0, 0.7054772, 0.047031544, 0.48128018, 0.19606665, -0.46316028, -1.0, 0.9472068, -1.0, 0.5887848, 0.083143026, -0.5493856, 0.23341493, -1.0, 0.38518944, 0.7039911, 1.0, -0.1675186, -1.0, -0.907039, -0.06828914, -1.0, -1.0, 0.35648793, 0.7902874, 0.28212047, -0.975213, 0.26175952, -0.22866486, -0.1567915, -1.0, -0.37256783, 1.0]\n",
      "-1,0,0,0,-1,-1,0,0,0,0,0,-1,0,-1,0,0,0,0,-1,0,0,1,0,-1,0,0,-1,-1,0,0,0,0,0,0,0,-1,0,1\n"
     ]
    },
    {
     "ename": "KeyboardInterrupt",
     "evalue": "",
     "output_type": "error",
     "traceback": [
      "\u001b[0;31m---------------------------------------------------------------------------\u001b[0m",
      "\u001b[0;31mKeyboardInterrupt\u001b[0m                         Traceback (most recent call last)",
      "Cell \u001b[0;32mIn[98], line 3\u001b[0m\n\u001b[1;32m      1\u001b[0m sd2\u001b[38;5;241m=\u001b[39m{\u001b[38;5;124m'\u001b[39m\u001b[38;5;124mnum_episodes\u001b[39m\u001b[38;5;124m'\u001b[39m: \u001b[38;5;241m1\u001b[39m, \u001b[38;5;124m'\u001b[39m\u001b[38;5;124mlog_model\u001b[39m\u001b[38;5;124m'\u001b[39m: \u001b[38;5;28;01mTrue\u001b[39;00m, \u001b[38;5;124m'\u001b[39m\u001b[38;5;124mn_total_timesteps\u001b[39m\u001b[38;5;124m'\u001b[39m: \u001b[38;5;124m'\u001b[39m\u001b[38;5;124mepisode\u001b[39m\u001b[38;5;124m'\u001b[39m, \u001b[38;5;124m'\u001b[39m\u001b[38;5;124mlog_or_plot_every_n_timesteps\u001b[39m\u001b[38;5;124m'\u001b[39m: \u001b[38;5;241m1\u001b[39m, \u001b[38;5;124m'\u001b[39m\u001b[38;5;124mjnb\u001b[39m\u001b[38;5;124m'\u001b[39m: \u001b[38;5;28;01mFalse\u001b[39;00m}\n\u001b[0;32m----> 3\u001b[0m \u001b[43mtrainer\u001b[49m\u001b[38;5;241;43m.\u001b[39;49m\u001b[43mtrain\u001b[49m\u001b[43m(\u001b[49m\u001b[43mnum_episodes\u001b[49m\u001b[38;5;241;43m=\u001b[39;49m\u001b[43msd2\u001b[49m\u001b[43m[\u001b[49m\u001b[38;5;124;43m'\u001b[39;49m\u001b[38;5;124;43mnum_episodes\u001b[39;49m\u001b[38;5;124;43m'\u001b[39;49m\u001b[43m]\u001b[49m\u001b[43m,\u001b[49m\u001b[43m \u001b[49m\u001b[43mlog_model\u001b[49m\u001b[38;5;241;43m=\u001b[39;49m\u001b[43msd2\u001b[49m\u001b[43m[\u001b[49m\u001b[38;5;124;43m'\u001b[39;49m\u001b[38;5;124;43mlog_model\u001b[39;49m\u001b[38;5;124;43m'\u001b[39;49m\u001b[43m]\u001b[49m\u001b[43m,\u001b[49m\u001b[43mn_total_timesteps\u001b[49m\u001b[38;5;241;43m=\u001b[39;49m\u001b[38;5;241;43m2\u001b[39;49m\u001b[43m,\u001b[49m\u001b[43m \u001b[49m\u001b[38;5;66;43;03m#sd2['n_total_timesteps'],\u001b[39;49;00m\n\u001b[1;32m      4\u001b[0m \u001b[43m                 \u001b[49m\u001b[43mlog_or_plot_every_n_timesteps\u001b[49m\u001b[38;5;241;43m=\u001b[39;49m\u001b[43msd2\u001b[49m\u001b[43m[\u001b[49m\u001b[38;5;124;43m'\u001b[39;49m\u001b[38;5;124;43mlog_or_plot_every_n_timesteps\u001b[39;49m\u001b[38;5;124;43m'\u001b[39;49m\u001b[43m]\u001b[49m\u001b[43m,\u001b[49m\u001b[43m \u001b[49m\u001b[43mjnb\u001b[49m\u001b[38;5;241;43m=\u001b[39;49m\u001b[38;5;28;43;01mFalse\u001b[39;49;00m\u001b[43m)\u001b[49m\n",
      "File \u001b[0;32m~/Documents/PlatformIO/Projects/SFSystem_withAV/RLSystem.py:672\u001b[0m, in \u001b[0;36mstable_baselines_model_trainer.train\u001b[0;34m(self, num_episodes, log_model, get_plots, render_plots, n_total_timesteps, log_or_plot_every_n_timesteps, jnb)\u001b[0m\n\u001b[1;32m    670\u001b[0m \u001b[38;5;28;01mwhile\u001b[39;00m \u001b[38;5;28mself\u001b[39m\u001b[38;5;241m.\u001b[39mcur_n_timesteps\u001b[38;5;241m<\u001b[39m\u001b[38;5;28mint\u001b[39m(n_total_timesteps): \u001b[38;5;66;03m#here-for A2C\u001b[39;00m\n\u001b[1;32m    671\u001b[0m     \u001b[38;5;28;01mif\u001b[39;00m \u001b[38;5;28mself\u001b[39m\u001b[38;5;241m.\u001b[39menv\u001b[38;5;241m.\u001b[39mws\u001b[38;5;241m.\u001b[39msock \u001b[38;5;129;01mis\u001b[39;00m \u001b[38;5;129;01mnot\u001b[39;00m \u001b[38;5;28;01mNone\u001b[39;00m:\n\u001b[0;32m--> 672\u001b[0m         \u001b[38;5;28;43mself\u001b[39;49m\u001b[38;5;241;43m.\u001b[39;49m\u001b[43mmodel\u001b[49m\u001b[38;5;241;43m.\u001b[39;49m\u001b[43mlearn\u001b[49m\u001b[43m(\u001b[49m\u001b[43mtotal_timesteps\u001b[49m\u001b[38;5;241;43m=\u001b[39;49m\u001b[43mlog_or_plot_every_n_timesteps\u001b[49m\u001b[43m)\u001b[49m\n\u001b[1;32m    673\u001b[0m         \u001b[38;5;28mself\u001b[39m\u001b[38;5;241m.\u001b[39mcur_n_timesteps\u001b[38;5;241m+\u001b[39m\u001b[38;5;241m=\u001b[39mlog_or_plot_every_n_timesteps\n\u001b[1;32m    674\u001b[0m         \u001b[38;5;28;01mif\u001b[39;00m render_plots:\n",
      "File \u001b[0;32m~/.local/lib/python3.10/site-packages/stable_baselines3/ppo/ppo.py:315\u001b[0m, in \u001b[0;36mPPO.learn\u001b[0;34m(self, total_timesteps, callback, log_interval, tb_log_name, reset_num_timesteps, progress_bar)\u001b[0m\n\u001b[1;32m    306\u001b[0m \u001b[38;5;28;01mdef\u001b[39;00m \u001b[38;5;21mlearn\u001b[39m(\n\u001b[1;32m    307\u001b[0m     \u001b[38;5;28mself\u001b[39m: SelfPPO,\n\u001b[1;32m    308\u001b[0m     total_timesteps: \u001b[38;5;28mint\u001b[39m,\n\u001b[0;32m   (...)\u001b[0m\n\u001b[1;32m    313\u001b[0m     progress_bar: \u001b[38;5;28mbool\u001b[39m \u001b[38;5;241m=\u001b[39m \u001b[38;5;28;01mFalse\u001b[39;00m,\n\u001b[1;32m    314\u001b[0m ) \u001b[38;5;241m-\u001b[39m\u001b[38;5;241m>\u001b[39m SelfPPO:\n\u001b[0;32m--> 315\u001b[0m     \u001b[38;5;28;01mreturn\u001b[39;00m \u001b[38;5;28;43msuper\u001b[39;49m\u001b[43m(\u001b[49m\u001b[43m)\u001b[49m\u001b[38;5;241;43m.\u001b[39;49m\u001b[43mlearn\u001b[49m\u001b[43m(\u001b[49m\n\u001b[1;32m    316\u001b[0m \u001b[43m        \u001b[49m\u001b[43mtotal_timesteps\u001b[49m\u001b[38;5;241;43m=\u001b[39;49m\u001b[43mtotal_timesteps\u001b[49m\u001b[43m,\u001b[49m\n\u001b[1;32m    317\u001b[0m \u001b[43m        \u001b[49m\u001b[43mcallback\u001b[49m\u001b[38;5;241;43m=\u001b[39;49m\u001b[43mcallback\u001b[49m\u001b[43m,\u001b[49m\n\u001b[1;32m    318\u001b[0m \u001b[43m        \u001b[49m\u001b[43mlog_interval\u001b[49m\u001b[38;5;241;43m=\u001b[39;49m\u001b[43mlog_interval\u001b[49m\u001b[43m,\u001b[49m\n\u001b[1;32m    319\u001b[0m \u001b[43m        \u001b[49m\u001b[43mtb_log_name\u001b[49m\u001b[38;5;241;43m=\u001b[39;49m\u001b[43mtb_log_name\u001b[49m\u001b[43m,\u001b[49m\n\u001b[1;32m    320\u001b[0m \u001b[43m        \u001b[49m\u001b[43mreset_num_timesteps\u001b[49m\u001b[38;5;241;43m=\u001b[39;49m\u001b[43mreset_num_timesteps\u001b[49m\u001b[43m,\u001b[49m\n\u001b[1;32m    321\u001b[0m \u001b[43m        \u001b[49m\u001b[43mprogress_bar\u001b[49m\u001b[38;5;241;43m=\u001b[39;49m\u001b[43mprogress_bar\u001b[49m\u001b[43m,\u001b[49m\n\u001b[1;32m    322\u001b[0m \u001b[43m    \u001b[49m\u001b[43m)\u001b[49m\n",
      "File \u001b[0;32m~/.local/lib/python3.10/site-packages/stable_baselines3/common/on_policy_algorithm.py:277\u001b[0m, in \u001b[0;36mOnPolicyAlgorithm.learn\u001b[0;34m(self, total_timesteps, callback, log_interval, tb_log_name, reset_num_timesteps, progress_bar)\u001b[0m\n\u001b[1;32m    274\u001b[0m \u001b[38;5;28;01massert\u001b[39;00m \u001b[38;5;28mself\u001b[39m\u001b[38;5;241m.\u001b[39menv \u001b[38;5;129;01mis\u001b[39;00m \u001b[38;5;129;01mnot\u001b[39;00m \u001b[38;5;28;01mNone\u001b[39;00m\n\u001b[1;32m    276\u001b[0m \u001b[38;5;28;01mwhile\u001b[39;00m \u001b[38;5;28mself\u001b[39m\u001b[38;5;241m.\u001b[39mnum_timesteps \u001b[38;5;241m<\u001b[39m total_timesteps:\n\u001b[0;32m--> 277\u001b[0m     continue_training \u001b[38;5;241m=\u001b[39m \u001b[38;5;28;43mself\u001b[39;49m\u001b[38;5;241;43m.\u001b[39;49m\u001b[43mcollect_rollouts\u001b[49m\u001b[43m(\u001b[49m\u001b[38;5;28;43mself\u001b[39;49m\u001b[38;5;241;43m.\u001b[39;49m\u001b[43menv\u001b[49m\u001b[43m,\u001b[49m\u001b[43m \u001b[49m\u001b[43mcallback\u001b[49m\u001b[43m,\u001b[49m\u001b[43m \u001b[49m\u001b[38;5;28;43mself\u001b[39;49m\u001b[38;5;241;43m.\u001b[39;49m\u001b[43mrollout_buffer\u001b[49m\u001b[43m,\u001b[49m\u001b[43m \u001b[49m\u001b[43mn_rollout_steps\u001b[49m\u001b[38;5;241;43m=\u001b[39;49m\u001b[38;5;28;43mself\u001b[39;49m\u001b[38;5;241;43m.\u001b[39;49m\u001b[43mn_steps\u001b[49m\u001b[43m)\u001b[49m\n\u001b[1;32m    279\u001b[0m     \u001b[38;5;28;01mif\u001b[39;00m \u001b[38;5;129;01mnot\u001b[39;00m continue_training:\n\u001b[1;32m    280\u001b[0m         \u001b[38;5;28;01mbreak\u001b[39;00m\n",
      "File \u001b[0;32m~/.local/lib/python3.10/site-packages/stable_baselines3/common/on_policy_algorithm.py:194\u001b[0m, in \u001b[0;36mOnPolicyAlgorithm.collect_rollouts\u001b[0;34m(self, env, callback, rollout_buffer, n_rollout_steps)\u001b[0m\n\u001b[1;32m    189\u001b[0m     \u001b[38;5;28;01melse\u001b[39;00m:\n\u001b[1;32m    190\u001b[0m         \u001b[38;5;66;03m# Otherwise, clip the actions to avoid out of bound error\u001b[39;00m\n\u001b[1;32m    191\u001b[0m         \u001b[38;5;66;03m# as we are sampling from an unbounded Gaussian distribution\u001b[39;00m\n\u001b[1;32m    192\u001b[0m         clipped_actions \u001b[38;5;241m=\u001b[39m np\u001b[38;5;241m.\u001b[39mclip(actions, \u001b[38;5;28mself\u001b[39m\u001b[38;5;241m.\u001b[39maction_space\u001b[38;5;241m.\u001b[39mlow, \u001b[38;5;28mself\u001b[39m\u001b[38;5;241m.\u001b[39maction_space\u001b[38;5;241m.\u001b[39mhigh)\n\u001b[0;32m--> 194\u001b[0m new_obs, rewards, dones, infos \u001b[38;5;241m=\u001b[39m \u001b[43menv\u001b[49m\u001b[38;5;241;43m.\u001b[39;49m\u001b[43mstep\u001b[49m\u001b[43m(\u001b[49m\u001b[43mclipped_actions\u001b[49m\u001b[43m)\u001b[49m\n\u001b[1;32m    196\u001b[0m \u001b[38;5;28mself\u001b[39m\u001b[38;5;241m.\u001b[39mnum_timesteps \u001b[38;5;241m+\u001b[39m\u001b[38;5;241m=\u001b[39m env\u001b[38;5;241m.\u001b[39mnum_envs\n\u001b[1;32m    198\u001b[0m \u001b[38;5;66;03m# Give access to local variables\u001b[39;00m\n",
      "File \u001b[0;32m~/.local/lib/python3.10/site-packages/stable_baselines3/common/vec_env/base_vec_env.py:206\u001b[0m, in \u001b[0;36mVecEnv.step\u001b[0;34m(self, actions)\u001b[0m\n\u001b[1;32m    199\u001b[0m \u001b[38;5;250m\u001b[39m\u001b[38;5;124;03m\"\"\"\u001b[39;00m\n\u001b[1;32m    200\u001b[0m \u001b[38;5;124;03mStep the environments with the given action\u001b[39;00m\n\u001b[1;32m    201\u001b[0m \n\u001b[1;32m    202\u001b[0m \u001b[38;5;124;03m:param actions: the action\u001b[39;00m\n\u001b[1;32m    203\u001b[0m \u001b[38;5;124;03m:return: observation, reward, done, information\u001b[39;00m\n\u001b[1;32m    204\u001b[0m \u001b[38;5;124;03m\"\"\"\u001b[39;00m\n\u001b[1;32m    205\u001b[0m \u001b[38;5;28mself\u001b[39m\u001b[38;5;241m.\u001b[39mstep_async(actions)\n\u001b[0;32m--> 206\u001b[0m \u001b[38;5;28;01mreturn\u001b[39;00m \u001b[38;5;28;43mself\u001b[39;49m\u001b[38;5;241;43m.\u001b[39;49m\u001b[43mstep_wait\u001b[49m\u001b[43m(\u001b[49m\u001b[43m)\u001b[49m\n",
      "File \u001b[0;32m~/.local/lib/python3.10/site-packages/stable_baselines3/common/vec_env/dummy_vec_env.py:58\u001b[0m, in \u001b[0;36mDummyVecEnv.step_wait\u001b[0;34m(self)\u001b[0m\n\u001b[1;32m     55\u001b[0m \u001b[38;5;28;01mdef\u001b[39;00m \u001b[38;5;21mstep_wait\u001b[39m(\u001b[38;5;28mself\u001b[39m) \u001b[38;5;241m-\u001b[39m\u001b[38;5;241m>\u001b[39m VecEnvStepReturn:\n\u001b[1;32m     56\u001b[0m     \u001b[38;5;66;03m# Avoid circular imports\u001b[39;00m\n\u001b[1;32m     57\u001b[0m     \u001b[38;5;28;01mfor\u001b[39;00m env_idx \u001b[38;5;129;01min\u001b[39;00m \u001b[38;5;28mrange\u001b[39m(\u001b[38;5;28mself\u001b[39m\u001b[38;5;241m.\u001b[39mnum_envs):\n\u001b[0;32m---> 58\u001b[0m         obs, \u001b[38;5;28mself\u001b[39m\u001b[38;5;241m.\u001b[39mbuf_rews[env_idx], terminated, truncated, \u001b[38;5;28mself\u001b[39m\u001b[38;5;241m.\u001b[39mbuf_infos[env_idx] \u001b[38;5;241m=\u001b[39m \u001b[38;5;28;43mself\u001b[39;49m\u001b[38;5;241;43m.\u001b[39;49m\u001b[43menvs\u001b[49m\u001b[43m[\u001b[49m\u001b[43menv_idx\u001b[49m\u001b[43m]\u001b[49m\u001b[38;5;241;43m.\u001b[39;49m\u001b[43mstep\u001b[49m\u001b[43m(\u001b[49m\n\u001b[1;32m     59\u001b[0m \u001b[43m            \u001b[49m\u001b[38;5;28;43mself\u001b[39;49m\u001b[38;5;241;43m.\u001b[39;49m\u001b[43mactions\u001b[49m\u001b[43m[\u001b[49m\u001b[43menv_idx\u001b[49m\u001b[43m]\u001b[49m\n\u001b[1;32m     60\u001b[0m \u001b[43m        \u001b[49m\u001b[43m)\u001b[49m\n\u001b[1;32m     61\u001b[0m         \u001b[38;5;66;03m# convert to SB3 VecEnv api\u001b[39;00m\n\u001b[1;32m     62\u001b[0m         \u001b[38;5;28mself\u001b[39m\u001b[38;5;241m.\u001b[39mbuf_dones[env_idx] \u001b[38;5;241m=\u001b[39m terminated \u001b[38;5;129;01mor\u001b[39;00m truncated\n",
      "File \u001b[0;32m~/.local/lib/python3.10/site-packages/stable_baselines3/common/monitor.py:94\u001b[0m, in \u001b[0;36mMonitor.step\u001b[0;34m(self, action)\u001b[0m\n\u001b[1;32m     92\u001b[0m \u001b[38;5;28;01mif\u001b[39;00m \u001b[38;5;28mself\u001b[39m\u001b[38;5;241m.\u001b[39mneeds_reset:\n\u001b[1;32m     93\u001b[0m     \u001b[38;5;28;01mraise\u001b[39;00m \u001b[38;5;167;01mRuntimeError\u001b[39;00m(\u001b[38;5;124m\"\u001b[39m\u001b[38;5;124mTried to step environment that needs reset\u001b[39m\u001b[38;5;124m\"\u001b[39m)\n\u001b[0;32m---> 94\u001b[0m observation, reward, terminated, truncated, info \u001b[38;5;241m=\u001b[39m \u001b[38;5;28;43mself\u001b[39;49m\u001b[38;5;241;43m.\u001b[39;49m\u001b[43menv\u001b[49m\u001b[38;5;241;43m.\u001b[39;49m\u001b[43mstep\u001b[49m\u001b[43m(\u001b[49m\u001b[43maction\u001b[49m\u001b[43m)\u001b[49m\n\u001b[1;32m     95\u001b[0m \u001b[38;5;28mself\u001b[39m\u001b[38;5;241m.\u001b[39mrewards\u001b[38;5;241m.\u001b[39mappend(\u001b[38;5;28mfloat\u001b[39m(reward))\n\u001b[1;32m     96\u001b[0m \u001b[38;5;28;01mif\u001b[39;00m terminated \u001b[38;5;129;01mor\u001b[39;00m truncated:\n",
      "File \u001b[0;32m~/.local/lib/python3.10/site-packages/shimmy/openai_gym_compatibility.py:251\u001b[0m, in \u001b[0;36mGymV21CompatibilityV0.step\u001b[0;34m(self, action)\u001b[0m\n\u001b[1;32m    242\u001b[0m \u001b[38;5;28;01mdef\u001b[39;00m \u001b[38;5;21mstep\u001b[39m(\u001b[38;5;28mself\u001b[39m, action: ActType) \u001b[38;5;241m-\u001b[39m\u001b[38;5;241m>\u001b[39m \u001b[38;5;28mtuple\u001b[39m[Any, \u001b[38;5;28mfloat\u001b[39m, \u001b[38;5;28mbool\u001b[39m, \u001b[38;5;28mbool\u001b[39m, \u001b[38;5;28mdict\u001b[39m]:\n\u001b[1;32m    243\u001b[0m \u001b[38;5;250m    \u001b[39m\u001b[38;5;124;03m\"\"\"Steps through the environment.\u001b[39;00m\n\u001b[1;32m    244\u001b[0m \n\u001b[1;32m    245\u001b[0m \u001b[38;5;124;03m    Args:\u001b[39;00m\n\u001b[0;32m   (...)\u001b[0m\n\u001b[1;32m    249\u001b[0m \u001b[38;5;124;03m        (observation, reward, terminated, truncated, info)\u001b[39;00m\n\u001b[1;32m    250\u001b[0m \u001b[38;5;124;03m    \"\"\"\u001b[39;00m\n\u001b[0;32m--> 251\u001b[0m     obs, reward, done, info \u001b[38;5;241m=\u001b[39m \u001b[38;5;28;43mself\u001b[39;49m\u001b[38;5;241;43m.\u001b[39;49m\u001b[43mgym_env\u001b[49m\u001b[38;5;241;43m.\u001b[39;49m\u001b[43mstep\u001b[49m\u001b[43m(\u001b[49m\u001b[43maction\u001b[49m\u001b[43m)\u001b[49m\n\u001b[1;32m    253\u001b[0m     \u001b[38;5;28;01mif\u001b[39;00m \u001b[38;5;28mself\u001b[39m\u001b[38;5;241m.\u001b[39mrender_mode \u001b[38;5;129;01mis\u001b[39;00m \u001b[38;5;129;01mnot\u001b[39;00m \u001b[38;5;28;01mNone\u001b[39;00m:\n\u001b[1;32m    254\u001b[0m         \u001b[38;5;28mself\u001b[39m\u001b[38;5;241m.\u001b[39mrender()\n",
      "File \u001b[0;32m~/Documents/PlatformIO/Projects/SFSystem_withAV/RLSystem.py:623\u001b[0m, in \u001b[0;36mFlattenActionSpaceWrapper.step\u001b[0;34m(self, action)\u001b[0m\n\u001b[1;32m    620\u001b[0m \u001b[38;5;28;01mdef\u001b[39;00m \u001b[38;5;21mstep\u001b[39m(\u001b[38;5;28mself\u001b[39m, action):\n\u001b[1;32m    621\u001b[0m     \u001b[38;5;66;03m# Convert the flattened action back to the original action space format\u001b[39;00m\n\u001b[1;32m    622\u001b[0m     original_action \u001b[38;5;241m=\u001b[39m \u001b[38;5;28mself\u001b[39m\u001b[38;5;241m.\u001b[39m_unflatten_action(action)\n\u001b[0;32m--> 623\u001b[0m     \u001b[38;5;28;01mreturn\u001b[39;00m \u001b[38;5;28;43msuper\u001b[39;49m\u001b[43m(\u001b[49m\u001b[43m)\u001b[49m\u001b[38;5;241;43m.\u001b[39;49m\u001b[43mstep\u001b[49m\u001b[43m(\u001b[49m\u001b[43moriginal_action\u001b[49m\u001b[43m)\u001b[49m\n",
      "File \u001b[0;32m~/.local/lib/python3.10/site-packages/gym/core.py:319\u001b[0m, in \u001b[0;36mWrapper.step\u001b[0;34m(self, action)\u001b[0m\n\u001b[1;32m    317\u001b[0m \u001b[38;5;28;01mdef\u001b[39;00m \u001b[38;5;21mstep\u001b[39m(\u001b[38;5;28mself\u001b[39m, action: ActType) \u001b[38;5;241m-\u001b[39m\u001b[38;5;241m>\u001b[39m Tuple[ObsType, \u001b[38;5;28mfloat\u001b[39m, \u001b[38;5;28mbool\u001b[39m, \u001b[38;5;28mbool\u001b[39m, \u001b[38;5;28mdict\u001b[39m]:\n\u001b[1;32m    318\u001b[0m \u001b[38;5;250m    \u001b[39m\u001b[38;5;124;03m\"\"\"Steps through the environment with action.\"\"\"\u001b[39;00m\n\u001b[0;32m--> 319\u001b[0m     \u001b[38;5;28;01mreturn\u001b[39;00m \u001b[38;5;28;43mself\u001b[39;49m\u001b[38;5;241;43m.\u001b[39;49m\u001b[43menv\u001b[49m\u001b[38;5;241;43m.\u001b[39;49m\u001b[43mstep\u001b[49m\u001b[43m(\u001b[49m\u001b[43maction\u001b[49m\u001b[43m)\u001b[49m\n",
      "File \u001b[0;32m~/.local/lib/python3.10/site-packages/gym/core.py:384\u001b[0m, in \u001b[0;36mObservationWrapper.step\u001b[0;34m(self, action)\u001b[0m\n\u001b[1;32m    382\u001b[0m \u001b[38;5;28;01mdef\u001b[39;00m \u001b[38;5;21mstep\u001b[39m(\u001b[38;5;28mself\u001b[39m, action):\n\u001b[1;32m    383\u001b[0m \u001b[38;5;250m    \u001b[39m\u001b[38;5;124;03m\"\"\"Returns a modified observation using :meth:`self.observation` after calling :meth:`env.step`.\"\"\"\u001b[39;00m\n\u001b[0;32m--> 384\u001b[0m     observation, reward, done, info \u001b[38;5;241m=\u001b[39m \u001b[38;5;28;43mself\u001b[39;49m\u001b[38;5;241;43m.\u001b[39;49m\u001b[43menv\u001b[49m\u001b[38;5;241;43m.\u001b[39;49m\u001b[43mstep\u001b[49m\u001b[43m(\u001b[49m\u001b[43maction\u001b[49m\u001b[43m)\u001b[49m \u001b[38;5;66;03m#terminated, truncated\u001b[39;00m\n\u001b[1;32m    385\u001b[0m     \u001b[38;5;28;01mreturn\u001b[39;00m \u001b[38;5;28mself\u001b[39m\u001b[38;5;241m.\u001b[39mobservation(observation), reward, done, info\n",
      "File \u001b[0;32m~/Documents/PlatformIO/Projects/SFSystem_withAV/RLSystem.py:414\u001b[0m, in \u001b[0;36mSFSystemCommunicator.step\u001b[0;34m(self, action)\u001b[0m\n\u001b[1;32m    412\u001b[0m \u001b[38;5;28mself\u001b[39m\u001b[38;5;241m.\u001b[39mbest_total_episode_reward_now\u001b[38;5;241m=\u001b[39m\u001b[38;5;28;01mFalse\u001b[39;00m\n\u001b[1;32m    413\u001b[0m \u001b[38;5;28mself\u001b[39m\u001b[38;5;241m.\u001b[39mupdate_audiovis_feedback(update_dict\u001b[38;5;241m=\u001b[39maction)\n\u001b[0;32m--> 414\u001b[0m \u001b[43mtime\u001b[49m\u001b[38;5;241;43m.\u001b[39;49m\u001b[43msleep\u001b[49m\u001b[43m(\u001b[49m\u001b[38;5;28;43mself\u001b[39;49m\u001b[38;5;241;43m.\u001b[39;49m\u001b[43mstep_stim_length\u001b[49m\u001b[43m)\u001b[49m\n\u001b[1;32m    415\u001b[0m \u001b[38;5;28mself\u001b[39m\u001b[38;5;241m.\u001b[39mcurrent_actions\u001b[38;5;241m=\u001b[39maction\n\u001b[1;32m    416\u001b[0m new_observations\u001b[38;5;241m=\u001b[39m\u001b[38;5;28mself\u001b[39m\u001b[38;5;241m.\u001b[39msample_and_process_observations_from_device()\n",
      "\u001b[0;31mKeyboardInterrupt\u001b[0m: "
     ]
    }
   ],
   "source": [
    "sd2={'num_episodes': 1, 'log_model': True, 'n_total_timesteps': 'episode', 'log_or_plot_every_n_timesteps': 1, 'jnb': False}\n",
    "\n",
    "trainer.train(num_episodes=sd2['num_episodes'], log_model=sd2['log_model'],n_total_timesteps=2, #sd2['n_total_timesteps'],\n",
    "                 log_or_plot_every_n_timesteps=sd2['log_or_plot_every_n_timesteps'], jnb=False)"
   ]
  },
  {
   "cell_type": "code",
   "execution_count": 11,
   "metadata": {},
   "outputs": [
    {
     "data": {
      "text/plain": [
       "['lv1r',\n",
       " 'lv1g',\n",
       " 'lv1b',\n",
       " 'lv2r',\n",
       " 'lv2g',\n",
       " 'lv2b',\n",
       " 'lv3r',\n",
       " 'lv3g',\n",
       " 'lv3b',\n",
       " 'lv4r',\n",
       " 'lv4g',\n",
       " 'lv4b',\n",
       " 'lv5r',\n",
       " 'lv5g',\n",
       " 'lv5b',\n",
       " 'lv6r',\n",
       " 'lv6g',\n",
       " 'lv6b',\n",
       " 'lv7r',\n",
       " 'lv7g',\n",
       " 'lv7b',\n",
       " 'lv8r',\n",
       " 'lv8g',\n",
       " 'lv8b',\n",
       " 'leddelay',\n",
       " 'wave_1_freq',\n",
       " 'wave_2_freq',\n",
       " 'panner_freq',\n",
       " 'panner_div',\n",
       " 'phasor_1_freq',\n",
       " 'phasor_1_min',\n",
       " 'phasor_1_dif',\n",
       " 'phasor_2_freq',\n",
       " 'phasor_2_min',\n",
       " 'phasor_2_dif',\n",
       " 'maxivolume',\n",
       " 'wave_1_type',\n",
       " 'wave_2_type']"
      ]
     },
     "execution_count": 11,
     "metadata": {},
     "output_type": "execute_result"
    }
   ],
   "source": [
    "env.out_order"
   ]
  },
  {
   "cell_type": "code",
   "execution_count": 9,
   "metadata": {},
   "outputs": [],
   "source": [
    "env.close()"
   ]
  },
  {
   "cell_type": "code",
   "execution_count": 136,
   "metadata": {},
   "outputs": [],
   "source": [
    "import numpy as np"
   ]
  },
  {
   "cell_type": "code",
   "execution_count": null,
   "metadata": {},
   "outputs": [],
   "source": [
    "env.step(env.default_actions)"
   ]
  },
  {
   "cell_type": "code",
   "execution_count": 142,
   "metadata": {},
   "outputs": [],
   "source": [
    "env.stop_audiovis_feedback()"
   ]
  },
  {
   "cell_type": "code",
   "execution_count": 140,
   "metadata": {},
   "outputs": [
    {
     "name": "stdout",
     "output_type": "stream",
     "text": [
      "OrderedDict([('leddelay', array([59])), ('lv1r', array([177])), ('lv1g', array([60])), ('lv1b', array([16])), ('lv2r', array([63])), ('lv2g', array([217])), ('lv2b', array([200])), ('lv3r', array([37])), ('lv3g', array([80])), ('lv3b', array([196])), ('lv4r', array([37])), ('lv4g', array([78])), ('lv4b', array([154])), ('lv5r', array([100])), ('lv5g', array([209])), ('lv5b', array([253])), ('lv6r', array([30])), ('lv6g', array([10])), ('lv6b', array([215])), ('lv7r', array([172])), ('lv7g', array([243])), ('lv7b', array([225])), ('lv8r', array([158])), ('lv8g', array([101])), ('lv8b', array([144])), ('wave_1_freq', array([13973])), ('wave_2_freq', array([24204])), ('panner_freq', array([9])), ('phasor_1_freq', array([6])), ('phasor_2_freq', array([42])), ('phasor_1_min', array([32])), ('phasor_2_min', array([14])), ('phasor_1_dif', array([3])), ('phasor_2_dif', array([34])), ('panner_div', array([2])), ('wave_1_type', array([3])), ('wave_2_type', array([1])), ('maxivolume', array([21]))])\n"
     ]
    },
    {
     "data": {
      "text/plain": [
       "(OrderedDict([('raw_data',\n",
       "               array([[ 0.00000000e+00,  0.00000000e+00,  0.00000000e+00,\n",
       "                        0.00000000e+00,  0.00000000e+00,  0.00000000e+00,\n",
       "                        0.00000000e+00,  0.00000000e+00],\n",
       "                      [ 9.51056516e-01,  9.51056516e-01,  9.51056516e-01,\n",
       "                        9.51056516e-01,  9.51056516e-01,  9.51056516e-01,\n",
       "                        9.51056516e-01,  9.51056516e-01],\n",
       "                      [-5.87785252e-01, -5.87785252e-01, -5.87785252e-01,\n",
       "                       -5.87785252e-01, -5.87785252e-01, -5.87785252e-01,\n",
       "                       -5.87785252e-01, -5.87785252e-01],\n",
       "                      [-5.87785252e-01, -5.87785252e-01, -5.87785252e-01,\n",
       "                       -5.87785252e-01, -5.87785252e-01, -5.87785252e-01,\n",
       "                       -5.87785252e-01, -5.87785252e-01],\n",
       "                      [ 9.51056516e-01,  9.51056516e-01,  9.51056516e-01,\n",
       "                        9.51056516e-01,  9.51056516e-01,  9.51056516e-01,\n",
       "                        9.51056516e-01,  9.51056516e-01],\n",
       "                      [ 3.67394040e-16,  3.67394040e-16,  3.67394040e-16,\n",
       "                        3.67394040e-16,  3.67394040e-16,  3.67394040e-16,\n",
       "                        3.67394040e-16,  3.67394040e-16],\n",
       "                      [-9.51056516e-01, -9.51056516e-01, -9.51056516e-01,\n",
       "                       -9.51056516e-01, -9.51056516e-01, -9.51056516e-01,\n",
       "                       -9.51056516e-01, -9.51056516e-01],\n",
       "                      [ 5.87785252e-01,  5.87785252e-01,  5.87785252e-01,\n",
       "                        5.87785252e-01,  5.87785252e-01,  5.87785252e-01,\n",
       "                        5.87785252e-01,  5.87785252e-01],\n",
       "                      [ 5.87785252e-01,  5.87785252e-01,  5.87785252e-01,\n",
       "                        5.87785252e-01,  5.87785252e-01,  5.87785252e-01,\n",
       "                        5.87785252e-01,  5.87785252e-01],\n",
       "                      [-9.51056516e-01, -9.51056516e-01, -9.51056516e-01,\n",
       "                       -9.51056516e-01, -9.51056516e-01, -9.51056516e-01,\n",
       "                       -9.51056516e-01, -9.51056516e-01],\n",
       "                      [-7.34788079e-16, -7.34788079e-16, -7.34788079e-16,\n",
       "                       -7.34788079e-16, -7.34788079e-16, -7.34788079e-16,\n",
       "                       -7.34788079e-16, -7.34788079e-16],\n",
       "                      [ 9.51056516e-01,  9.51056516e-01,  9.51056516e-01,\n",
       "                        9.51056516e-01,  9.51056516e-01,  9.51056516e-01,\n",
       "                        9.51056516e-01,  9.51056516e-01],\n",
       "                      [-5.87785252e-01, -5.87785252e-01, -5.87785252e-01,\n",
       "                       -5.87785252e-01, -5.87785252e-01, -5.87785252e-01,\n",
       "                       -5.87785252e-01, -5.87785252e-01],\n",
       "                      [-5.87785252e-01, -5.87785252e-01, -5.87785252e-01,\n",
       "                       -5.87785252e-01, -5.87785252e-01, -5.87785252e-01,\n",
       "                       -5.87785252e-01, -5.87785252e-01],\n",
       "                      [ 9.51056516e-01,  9.51056516e-01,  9.51056516e-01,\n",
       "                        9.51056516e-01,  9.51056516e-01,  9.51056516e-01,\n",
       "                        9.51056516e-01,  9.51056516e-01],\n",
       "                      [ 4.65489580e-15,  4.65489580e-15,  4.65489580e-15,\n",
       "                        4.65489580e-15,  4.65489580e-15,  4.65489580e-15,\n",
       "                        4.65489580e-15,  4.65489580e-15],\n",
       "                      [-9.51056516e-01, -9.51056516e-01, -9.51056516e-01,\n",
       "                       -9.51056516e-01, -9.51056516e-01, -9.51056516e-01,\n",
       "                       -9.51056516e-01, -9.51056516e-01],\n",
       "                      [ 5.87785252e-01,  5.87785252e-01,  5.87785252e-01,\n",
       "                        5.87785252e-01,  5.87785252e-01,  5.87785252e-01,\n",
       "                        5.87785252e-01,  5.87785252e-01],\n",
       "                      [ 5.87785252e-01,  5.87785252e-01,  5.87785252e-01,\n",
       "                        5.87785252e-01,  5.87785252e-01,  5.87785252e-01,\n",
       "                        5.87785252e-01,  5.87785252e-01],\n",
       "                      [-9.51056516e-01, -9.51056516e-01, -9.51056516e-01,\n",
       "                       -9.51056516e-01, -9.51056516e-01, -9.51056516e-01,\n",
       "                       -9.51056516e-01, -9.51056516e-01],\n",
       "                      [-1.46957616e-15, -1.46957616e-15, -1.46957616e-15,\n",
       "                       -1.46957616e-15, -1.46957616e-15, -1.46957616e-15,\n",
       "                       -1.46957616e-15, -1.46957616e-15],\n",
       "                      [ 9.51056516e-01,  9.51056516e-01,  9.51056516e-01,\n",
       "                        9.51056516e-01,  9.51056516e-01,  9.51056516e-01,\n",
       "                        9.51056516e-01,  9.51056516e-01],\n",
       "                      [-5.87785252e-01, -5.87785252e-01, -5.87785252e-01,\n",
       "                       -5.87785252e-01, -5.87785252e-01, -5.87785252e-01,\n",
       "                       -5.87785252e-01, -5.87785252e-01],\n",
       "                      [-5.87785252e-01, -5.87785252e-01, -5.87785252e-01,\n",
       "                       -5.87785252e-01, -5.87785252e-01, -5.87785252e-01,\n",
       "                       -5.87785252e-01, -5.87785252e-01],\n",
       "                      [ 9.51056516e-01,  9.51056516e-01,  9.51056516e-01,\n",
       "                        9.51056516e-01,  9.51056516e-01,  9.51056516e-01,\n",
       "                        9.51056516e-01,  9.51056516e-01],\n",
       "                      [ 5.38968388e-15,  5.38968388e-15,  5.38968388e-15,\n",
       "                        5.38968388e-15,  5.38968388e-15,  5.38968388e-15,\n",
       "                        5.38968388e-15,  5.38968388e-15],\n",
       "                      [-9.51056516e-01, -9.51056516e-01, -9.51056516e-01,\n",
       "                       -9.51056516e-01, -9.51056516e-01, -9.51056516e-01,\n",
       "                       -9.51056516e-01, -9.51056516e-01],\n",
       "                      [ 5.87785252e-01,  5.87785252e-01,  5.87785252e-01,\n",
       "                        5.87785252e-01,  5.87785252e-01,  5.87785252e-01,\n",
       "                        5.87785252e-01,  5.87785252e-01],\n",
       "                      [ 5.87785252e-01,  5.87785252e-01,  5.87785252e-01,\n",
       "                        5.87785252e-01,  5.87785252e-01,  5.87785252e-01,\n",
       "                        5.87785252e-01,  5.87785252e-01],\n",
       "                      [-9.51056516e-01, -9.51056516e-01, -9.51056516e-01,\n",
       "                       -9.51056516e-01, -9.51056516e-01, -9.51056516e-01,\n",
       "                       -9.51056516e-01, -9.51056516e-01],\n",
       "                      [-9.30979160e-15, -9.30979160e-15, -9.30979160e-15,\n",
       "                       -9.30979160e-15, -9.30979160e-15, -9.30979160e-15,\n",
       "                       -9.30979160e-15, -9.30979160e-15],\n",
       "                      [ 9.51056516e-01,  9.51056516e-01,  9.51056516e-01,\n",
       "                        9.51056516e-01,  9.51056516e-01,  9.51056516e-01,\n",
       "                        9.51056516e-01,  9.51056516e-01],\n",
       "                      [-5.87785252e-01, -5.87785252e-01, -5.87785252e-01,\n",
       "                       -5.87785252e-01, -5.87785252e-01, -5.87785252e-01,\n",
       "                       -5.87785252e-01, -5.87785252e-01],\n",
       "                      [-5.87785252e-01, -5.87785252e-01, -5.87785252e-01,\n",
       "                       -5.87785252e-01, -5.87785252e-01, -5.87785252e-01,\n",
       "                       -5.87785252e-01, -5.87785252e-01],\n",
       "                      [ 9.51056516e-01,  9.51056516e-01,  9.51056516e-01,\n",
       "                        9.51056516e-01,  9.51056516e-01,  9.51056516e-01,\n",
       "                        9.51056516e-01,  9.51056516e-01],\n",
       "                      [-9.80955401e-16, -9.80955401e-16, -9.80955401e-16,\n",
       "                       -9.80955401e-16, -9.80955401e-16, -9.80955401e-16,\n",
       "                       -9.80955401e-16, -9.80955401e-16],\n",
       "                      [-9.51056516e-01, -9.51056516e-01, -9.51056516e-01,\n",
       "                       -9.51056516e-01, -9.51056516e-01, -9.51056516e-01,\n",
       "                       -9.51056516e-01, -9.51056516e-01],\n",
       "                      [ 5.87785252e-01,  5.87785252e-01,  5.87785252e-01,\n",
       "                        5.87785252e-01,  5.87785252e-01,  5.87785252e-01,\n",
       "                        5.87785252e-01,  5.87785252e-01],\n",
       "                      [ 5.87785252e-01,  5.87785252e-01,  5.87785252e-01,\n",
       "                        5.87785252e-01,  5.87785252e-01,  5.87785252e-01,\n",
       "                        5.87785252e-01,  5.87785252e-01],\n",
       "                      [-9.51056516e-01, -9.51056516e-01, -9.51056516e-01,\n",
       "                       -9.51056516e-01, -9.51056516e-01, -9.51056516e-01,\n",
       "                       -9.51056516e-01, -9.51056516e-01],\n",
       "                      [-2.93915232e-15, -2.93915232e-15, -2.93915232e-15,\n",
       "                       -2.93915232e-15, -2.93915232e-15, -2.93915232e-15,\n",
       "                       -2.93915232e-15, -2.93915232e-15],\n",
       "                      [ 9.51056516e-01,  9.51056516e-01,  9.51056516e-01,\n",
       "                        9.51056516e-01,  9.51056516e-01,  9.51056516e-01,\n",
       "                        9.51056516e-01,  9.51056516e-01],\n",
       "                      [-5.87785252e-01, -5.87785252e-01, -5.87785252e-01,\n",
       "                       -5.87785252e-01, -5.87785252e-01, -5.87785252e-01,\n",
       "                       -5.87785252e-01, -5.87785252e-01],\n",
       "                      [-5.87785252e-01, -5.87785252e-01, -5.87785252e-01,\n",
       "                       -5.87785252e-01, -5.87785252e-01, -5.87785252e-01,\n",
       "                       -5.87785252e-01, -5.87785252e-01],\n",
       "                      [ 9.51056516e-01,  9.51056516e-01,  9.51056516e-01,\n",
       "                        9.51056516e-01,  9.51056516e-01,  9.51056516e-01,\n",
       "                        9.51056516e-01,  9.51056516e-01],\n",
       "                      [ 6.85926004e-15,  6.85926004e-15,  6.85926004e-15,\n",
       "                        6.85926004e-15,  6.85926004e-15,  6.85926004e-15,\n",
       "                        6.85926004e-15,  6.85926004e-15],\n",
       "                      [-9.51056516e-01, -9.51056516e-01, -9.51056516e-01,\n",
       "                       -9.51056516e-01, -9.51056516e-01, -9.51056516e-01,\n",
       "                       -9.51056516e-01, -9.51056516e-01],\n",
       "                      [ 5.87785252e-01,  5.87785252e-01,  5.87785252e-01,\n",
       "                        5.87785252e-01,  5.87785252e-01,  5.87785252e-01,\n",
       "                        5.87785252e-01,  5.87785252e-01],\n",
       "                      [ 5.87785252e-01,  5.87785252e-01,  5.87785252e-01,\n",
       "                        5.87785252e-01,  5.87785252e-01,  5.87785252e-01,\n",
       "                        5.87785252e-01,  5.87785252e-01],\n",
       "                      [-9.51056516e-01, -9.51056516e-01, -9.51056516e-01,\n",
       "                       -9.51056516e-01, -9.51056516e-01, -9.51056516e-01,\n",
       "                       -9.51056516e-01, -9.51056516e-01],\n",
       "                      [-1.07793678e-14, -1.07793678e-14, -1.07793678e-14,\n",
       "                       -1.07793678e-14, -1.07793678e-14, -1.07793678e-14,\n",
       "                       -1.07793678e-14, -1.07793678e-14],\n",
       "                      [ 9.51056516e-01,  9.51056516e-01,  9.51056516e-01,\n",
       "                        9.51056516e-01,  9.51056516e-01,  9.51056516e-01,\n",
       "                        9.51056516e-01,  9.51056516e-01],\n",
       "                      [-5.87785252e-01, -5.87785252e-01, -5.87785252e-01,\n",
       "                       -5.87785252e-01, -5.87785252e-01, -5.87785252e-01,\n",
       "                       -5.87785252e-01, -5.87785252e-01],\n",
       "                      [-5.87785252e-01, -5.87785252e-01, -5.87785252e-01,\n",
       "                       -5.87785252e-01, -5.87785252e-01, -5.87785252e-01,\n",
       "                       -5.87785252e-01, -5.87785252e-01],\n",
       "                      [ 9.51056516e-01,  9.51056516e-01,  9.51056516e-01,\n",
       "                        9.51056516e-01,  9.51056516e-01,  9.51056516e-01,\n",
       "                        9.51056516e-01,  9.51056516e-01],\n",
       "                      [ 4.88620758e-16,  4.88620758e-16,  4.88620758e-16,\n",
       "                        4.88620758e-16,  4.88620758e-16,  4.88620758e-16,\n",
       "                        4.88620758e-16,  4.88620758e-16],\n",
       "                      [-9.51056516e-01, -9.51056516e-01, -9.51056516e-01,\n",
       "                       -9.51056516e-01, -9.51056516e-01, -9.51056516e-01,\n",
       "                       -9.51056516e-01, -9.51056516e-01],\n",
       "                      [ 5.87785252e-01,  5.87785252e-01,  5.87785252e-01,\n",
       "                        5.87785252e-01,  5.87785252e-01,  5.87785252e-01,\n",
       "                        5.87785252e-01,  5.87785252e-01],\n",
       "                      [ 5.87785252e-01,  5.87785252e-01,  5.87785252e-01,\n",
       "                        5.87785252e-01,  5.87785252e-01,  5.87785252e-01,\n",
       "                        5.87785252e-01,  5.87785252e-01],\n",
       "                      [-9.51056516e-01, -9.51056516e-01, -9.51056516e-01,\n",
       "                       -9.51056516e-01, -9.51056516e-01, -9.51056516e-01,\n",
       "                       -9.51056516e-01, -9.51056516e-01],\n",
       "                      [-1.86195832e-14, -1.86195832e-14, -1.86195832e-14,\n",
       "                       -1.86195832e-14, -1.86195832e-14, -1.86195832e-14,\n",
       "                       -1.86195832e-14, -1.86195832e-14],\n",
       "                      [ 9.51056516e-01,  9.51056516e-01,  9.51056516e-01,\n",
       "                        9.51056516e-01,  9.51056516e-01,  9.51056516e-01,\n",
       "                        9.51056516e-01,  9.51056516e-01],\n",
       "                      [-5.87785252e-01, -5.87785252e-01, -5.87785252e-01,\n",
       "                       -5.87785252e-01, -5.87785252e-01, -5.87785252e-01,\n",
       "                       -5.87785252e-01, -5.87785252e-01],\n",
       "                      [-5.87785252e-01, -5.87785252e-01, -5.87785252e-01,\n",
       "                       -5.87785252e-01, -5.87785252e-01, -5.87785252e-01,\n",
       "                       -5.87785252e-01, -5.87785252e-01],\n",
       "                      [ 9.51056516e-01,  9.51056516e-01,  9.51056516e-01,\n",
       "                        9.51056516e-01,  9.51056516e-01,  9.51056516e-01,\n",
       "                        9.51056516e-01,  9.51056516e-01],\n",
       "                      [ 8.32883620e-15,  8.32883620e-15,  8.32883620e-15,\n",
       "                        8.32883620e-15,  8.32883620e-15,  8.32883620e-15,\n",
       "                        8.32883620e-15,  8.32883620e-15],\n",
       "                      [-9.51056516e-01, -9.51056516e-01, -9.51056516e-01,\n",
       "                       -9.51056516e-01, -9.51056516e-01, -9.51056516e-01,\n",
       "                       -9.51056516e-01, -9.51056516e-01],\n",
       "                      [ 5.87785252e-01,  5.87785252e-01,  5.87785252e-01,\n",
       "                        5.87785252e-01,  5.87785252e-01,  5.87785252e-01,\n",
       "                        5.87785252e-01,  5.87785252e-01],\n",
       "                      [ 5.87785252e-01,  5.87785252e-01,  5.87785252e-01,\n",
       "                        5.87785252e-01,  5.87785252e-01,  5.87785252e-01,\n",
       "                        5.87785252e-01,  5.87785252e-01],\n",
       "                      [-9.51056516e-01, -9.51056516e-01, -9.51056516e-01,\n",
       "                       -9.51056516e-01, -9.51056516e-01, -9.51056516e-01,\n",
       "                       -9.51056516e-01, -9.51056516e-01],\n",
       "                      [ 1.96191080e-15,  1.96191080e-15,  1.96191080e-15,\n",
       "                        1.96191080e-15,  1.96191080e-15,  1.96191080e-15,\n",
       "                        1.96191080e-15,  1.96191080e-15],\n",
       "                      [ 9.51056516e-01,  9.51056516e-01,  9.51056516e-01,\n",
       "                        9.51056516e-01,  9.51056516e-01,  9.51056516e-01,\n",
       "                        9.51056516e-01,  9.51056516e-01],\n",
       "                      [-5.87785252e-01, -5.87785252e-01, -5.87785252e-01,\n",
       "                       -5.87785252e-01, -5.87785252e-01, -5.87785252e-01,\n",
       "                       -5.87785252e-01, -5.87785252e-01],\n",
       "                      [-5.87785252e-01, -5.87785252e-01, -5.87785252e-01,\n",
       "                       -5.87785252e-01, -5.87785252e-01, -5.87785252e-01,\n",
       "                       -5.87785252e-01, -5.87785252e-01],\n",
       "                      [ 9.51056516e-01,  9.51056516e-01,  9.51056516e-01,\n",
       "                        9.51056516e-01,  9.51056516e-01,  9.51056516e-01,\n",
       "                        9.51056516e-01,  9.51056516e-01],\n",
       "                      [ 3.03799063e-14,  3.03799063e-14,  3.03799063e-14,\n",
       "                        3.03799063e-14,  3.03799063e-14,  3.03799063e-14,\n",
       "                        3.03799063e-14,  3.03799063e-14],\n",
       "                      [-9.51056516e-01, -9.51056516e-01, -9.51056516e-01,\n",
       "                       -9.51056516e-01, -9.51056516e-01, -9.51056516e-01,\n",
       "                       -9.51056516e-01, -9.51056516e-01],\n",
       "                      [ 5.87785252e-01,  5.87785252e-01,  5.87785252e-01,\n",
       "                        5.87785252e-01,  5.87785252e-01,  5.87785252e-01,\n",
       "                        5.87785252e-01,  5.87785252e-01],\n",
       "                      [ 5.87785252e-01,  5.87785252e-01,  5.87785252e-01,\n",
       "                        5.87785252e-01,  5.87785252e-01,  5.87785252e-01,\n",
       "                        5.87785252e-01,  5.87785252e-01],\n",
       "                      [-9.51056516e-01, -9.51056516e-01, -9.51056516e-01,\n",
       "                       -9.51056516e-01, -9.51056516e-01, -9.51056516e-01,\n",
       "                       -9.51056516e-01, -9.51056516e-01],\n",
       "                      [-5.87830464e-15, -5.87830464e-15, -5.87830464e-15,\n",
       "                       -5.87830464e-15, -5.87830464e-15, -5.87830464e-15,\n",
       "                       -5.87830464e-15, -5.87830464e-15],\n",
       "                      [ 9.51056516e-01,  9.51056516e-01,  9.51056516e-01,\n",
       "                        9.51056516e-01,  9.51056516e-01,  9.51056516e-01,\n",
       "                        9.51056516e-01,  9.51056516e-01],\n",
       "                      [-5.87785252e-01, -5.87785252e-01, -5.87785252e-01,\n",
       "                       -5.87785252e-01, -5.87785252e-01, -5.87785252e-01,\n",
       "                       -5.87785252e-01, -5.87785252e-01],\n",
       "                      [-5.87785252e-01, -5.87785252e-01, -5.87785252e-01,\n",
       "                       -5.87785252e-01, -5.87785252e-01, -5.87785252e-01,\n",
       "                       -5.87785252e-01, -5.87785252e-01],\n",
       "                      [ 9.51056516e-01,  9.51056516e-01,  9.51056516e-01,\n",
       "                        9.51056516e-01,  9.51056516e-01,  9.51056516e-01,\n",
       "                        9.51056516e-01,  9.51056516e-01],\n",
       "                      [ 9.79841235e-15,  9.79841235e-15,  9.79841235e-15,\n",
       "                        9.79841235e-15,  9.79841235e-15,  9.79841235e-15,\n",
       "                        9.79841235e-15,  9.79841235e-15],\n",
       "                      [-9.51056516e-01, -9.51056516e-01, -9.51056516e-01,\n",
       "                       -9.51056516e-01, -9.51056516e-01, -9.51056516e-01,\n",
       "                       -9.51056516e-01, -9.51056516e-01],\n",
       "                      [ 5.87785252e-01,  5.87785252e-01,  5.87785252e-01,\n",
       "                        5.87785252e-01,  5.87785252e-01,  5.87785252e-01,\n",
       "                        5.87785252e-01,  5.87785252e-01],\n",
       "                      [ 5.87785252e-01,  5.87785252e-01,  5.87785252e-01,\n",
       "                        5.87785252e-01,  5.87785252e-01,  5.87785252e-01,\n",
       "                        5.87785252e-01,  5.87785252e-01],\n",
       "                      [-9.51056516e-01, -9.51056516e-01, -9.51056516e-01,\n",
       "                       -9.51056516e-01, -9.51056516e-01, -9.51056516e-01,\n",
       "                       -9.51056516e-01, -9.51056516e-01],\n",
       "                      [-1.37185201e-14, -1.37185201e-14, -1.37185201e-14,\n",
       "                       -1.37185201e-14, -1.37185201e-14, -1.37185201e-14,\n",
       "                       -1.37185201e-14, -1.37185201e-14],\n",
       "                      [ 9.51056516e-01,  9.51056516e-01,  9.51056516e-01,\n",
       "                        9.51056516e-01,  9.51056516e-01,  9.51056516e-01,\n",
       "                        9.51056516e-01,  9.51056516e-01],\n",
       "                      [-5.87785252e-01, -5.87785252e-01, -5.87785252e-01,\n",
       "                       -5.87785252e-01, -5.87785252e-01, -5.87785252e-01,\n",
       "                       -5.87785252e-01, -5.87785252e-01],\n",
       "                      [-5.87785252e-01, -5.87785252e-01, -5.87785252e-01,\n",
       "                       -5.87785252e-01, -5.87785252e-01, -5.87785252e-01,\n",
       "                       -5.87785252e-01, -5.87785252e-01],\n",
       "                      [ 9.51056516e-01,  9.51056516e-01,  9.51056516e-01,\n",
       "                        9.51056516e-01,  9.51056516e-01,  9.51056516e-01,\n",
       "                        9.51056516e-01,  9.51056516e-01],\n",
       "                      [ 1.76386278e-14,  1.76386278e-14,  1.76386278e-14,\n",
       "                        1.76386278e-14,  1.76386278e-14,  1.76386278e-14,\n",
       "                        1.76386278e-14,  1.76386278e-14],\n",
       "                      [-9.51056516e-01, -9.51056516e-01, -9.51056516e-01,\n",
       "                       -9.51056516e-01, -9.51056516e-01, -9.51056516e-01,\n",
       "                       -9.51056516e-01, -9.51056516e-01],\n",
       "                      [ 5.87785252e-01,  5.87785252e-01,  5.87785252e-01,\n",
       "                        5.87785252e-01,  5.87785252e-01,  5.87785252e-01,\n",
       "                        5.87785252e-01,  5.87785252e-01],\n",
       "                      [ 5.87785252e-01,  5.87785252e-01,  5.87785252e-01,\n",
       "                        5.87785252e-01,  5.87785252e-01,  5.87785252e-01,\n",
       "                        5.87785252e-01,  5.87785252e-01],\n",
       "                      [-9.51056516e-01, -9.51056516e-01, -9.51056516e-01,\n",
       "                       -9.51056516e-01, -9.51056516e-01, -9.51056516e-01,\n",
       "                       -9.51056516e-01, -9.51056516e-01]])),\n",
       "              ('fft',\n",
       "               array([[1.29472414e-15, 1.07771335e-15, 1.14081624e-15, 5.90617668e-16,\n",
       "                       1.17550595e-15, 4.85227802e-16, 5.09158678e-16, 8.32637153e-16,\n",
       "                       8.31651230e-16, 1.39247223e-15, 1.05547034e-15, 1.35799461e-15,\n",
       "                       1.36712607e-15, 2.48780763e-16, 4.67115511e-16, 4.28478941e-16,\n",
       "                       1.22096914e-15, 1.37404425e-15, 3.60611124e-16, 1.29182611e-15,\n",
       "                       5.74644338e-16, 1.83726352e-15, 1.88022848e-15, 7.87352203e-16,\n",
       "                       1.39979992e-15, 9.73549557e-16, 1.81058000e-15, 6.58821442e-16,\n",
       "                       9.36767223e-16, 3.70657755e-15, 1.00000000e+00, 1.41359882e-15,\n",
       "                       1.30793024e-15, 9.71759930e-16, 1.35963098e-15, 1.13986635e-15,\n",
       "                       1.26516577e-15, 1.38159691e-15, 1.16263197e-15, 1.67029400e-15,\n",
       "                       1.06388645e-15, 8.95726345e-16, 1.00299865e-15, 1.07507701e-15,\n",
       "                       9.56910114e-16, 1.98311302e-16, 1.39598115e-15, 8.95223901e-16,\n",
       "                       3.30986662e-16, 2.73975981e-16, 3.75104419e-16],\n",
       "                      [1.29472414e-15, 1.07771335e-15, 1.14081624e-15, 5.90617668e-16,\n",
       "                       1.17550595e-15, 4.85227802e-16, 5.09158678e-16, 8.32637153e-16,\n",
       "                       8.31651230e-16, 1.39247223e-15, 1.05547034e-15, 1.35799461e-15,\n",
       "                       1.36712607e-15, 2.48780763e-16, 4.67115511e-16, 4.28478941e-16,\n",
       "                       1.22096914e-15, 1.37404425e-15, 3.60611124e-16, 1.29182611e-15,\n",
       "                       5.74644338e-16, 1.83726352e-15, 1.88022848e-15, 7.87352203e-16,\n",
       "                       1.39979992e-15, 9.73549557e-16, 1.81058000e-15, 6.58821442e-16,\n",
       "                       9.36767223e-16, 3.70657755e-15, 1.00000000e+00, 1.41359882e-15,\n",
       "                       1.30793024e-15, 9.71759930e-16, 1.35963098e-15, 1.13986635e-15,\n",
       "                       1.26516577e-15, 1.38159691e-15, 1.16263197e-15, 1.67029400e-15,\n",
       "                       1.06388645e-15, 8.95726345e-16, 1.00299865e-15, 1.07507701e-15,\n",
       "                       9.56910114e-16, 1.98311302e-16, 1.39598115e-15, 8.95223901e-16,\n",
       "                       3.30986662e-16, 2.73975981e-16, 3.75104419e-16],\n",
       "                      [1.29472414e-15, 1.07771335e-15, 1.14081624e-15, 5.90617668e-16,\n",
       "                       1.17550595e-15, 4.85227802e-16, 5.09158678e-16, 8.32637153e-16,\n",
       "                       8.31651230e-16, 1.39247223e-15, 1.05547034e-15, 1.35799461e-15,\n",
       "                       1.36712607e-15, 2.48780763e-16, 4.67115511e-16, 4.28478941e-16,\n",
       "                       1.22096914e-15, 1.37404425e-15, 3.60611124e-16, 1.29182611e-15,\n",
       "                       5.74644338e-16, 1.83726352e-15, 1.88022848e-15, 7.87352203e-16,\n",
       "                       1.39979992e-15, 9.73549557e-16, 1.81058000e-15, 6.58821442e-16,\n",
       "                       9.36767223e-16, 3.70657755e-15, 1.00000000e+00, 1.41359882e-15,\n",
       "                       1.30793024e-15, 9.71759930e-16, 1.35963098e-15, 1.13986635e-15,\n",
       "                       1.26516577e-15, 1.38159691e-15, 1.16263197e-15, 1.67029400e-15,\n",
       "                       1.06388645e-15, 8.95726345e-16, 1.00299865e-15, 1.07507701e-15,\n",
       "                       9.56910114e-16, 1.98311302e-16, 1.39598115e-15, 8.95223901e-16,\n",
       "                       3.30986662e-16, 2.73975981e-16, 3.75104419e-16],\n",
       "                      [1.29472414e-15, 1.07771335e-15, 1.14081624e-15, 5.90617668e-16,\n",
       "                       1.17550595e-15, 4.85227802e-16, 5.09158678e-16, 8.32637153e-16,\n",
       "                       8.31651230e-16, 1.39247223e-15, 1.05547034e-15, 1.35799461e-15,\n",
       "                       1.36712607e-15, 2.48780763e-16, 4.67115511e-16, 4.28478941e-16,\n",
       "                       1.22096914e-15, 1.37404425e-15, 3.60611124e-16, 1.29182611e-15,\n",
       "                       5.74644338e-16, 1.83726352e-15, 1.88022848e-15, 7.87352203e-16,\n",
       "                       1.39979992e-15, 9.73549557e-16, 1.81058000e-15, 6.58821442e-16,\n",
       "                       9.36767223e-16, 3.70657755e-15, 1.00000000e+00, 1.41359882e-15,\n",
       "                       1.30793024e-15, 9.71759930e-16, 1.35963098e-15, 1.13986635e-15,\n",
       "                       1.26516577e-15, 1.38159691e-15, 1.16263197e-15, 1.67029400e-15,\n",
       "                       1.06388645e-15, 8.95726345e-16, 1.00299865e-15, 1.07507701e-15,\n",
       "                       9.56910114e-16, 1.98311302e-16, 1.39598115e-15, 8.95223901e-16,\n",
       "                       3.30986662e-16, 2.73975981e-16, 3.75104419e-16],\n",
       "                      [1.29472414e-15, 1.07771335e-15, 1.14081624e-15, 5.90617668e-16,\n",
       "                       1.17550595e-15, 4.85227802e-16, 5.09158678e-16, 8.32637153e-16,\n",
       "                       8.31651230e-16, 1.39247223e-15, 1.05547034e-15, 1.35799461e-15,\n",
       "                       1.36712607e-15, 2.48780763e-16, 4.67115511e-16, 4.28478941e-16,\n",
       "                       1.22096914e-15, 1.37404425e-15, 3.60611124e-16, 1.29182611e-15,\n",
       "                       5.74644338e-16, 1.83726352e-15, 1.88022848e-15, 7.87352203e-16,\n",
       "                       1.39979992e-15, 9.73549557e-16, 1.81058000e-15, 6.58821442e-16,\n",
       "                       9.36767223e-16, 3.70657755e-15, 1.00000000e+00, 1.41359882e-15,\n",
       "                       1.30793024e-15, 9.71759930e-16, 1.35963098e-15, 1.13986635e-15,\n",
       "                       1.26516577e-15, 1.38159691e-15, 1.16263197e-15, 1.67029400e-15,\n",
       "                       1.06388645e-15, 8.95726345e-16, 1.00299865e-15, 1.07507701e-15,\n",
       "                       9.56910114e-16, 1.98311302e-16, 1.39598115e-15, 8.95223901e-16,\n",
       "                       3.30986662e-16, 2.73975981e-16, 3.75104419e-16],\n",
       "                      [1.29472414e-15, 1.07771335e-15, 1.14081624e-15, 5.90617668e-16,\n",
       "                       1.17550595e-15, 4.85227802e-16, 5.09158678e-16, 8.32637153e-16,\n",
       "                       8.31651230e-16, 1.39247223e-15, 1.05547034e-15, 1.35799461e-15,\n",
       "                       1.36712607e-15, 2.48780763e-16, 4.67115511e-16, 4.28478941e-16,\n",
       "                       1.22096914e-15, 1.37404425e-15, 3.60611124e-16, 1.29182611e-15,\n",
       "                       5.74644338e-16, 1.83726352e-15, 1.88022848e-15, 7.87352203e-16,\n",
       "                       1.39979992e-15, 9.73549557e-16, 1.81058000e-15, 6.58821442e-16,\n",
       "                       9.36767223e-16, 3.70657755e-15, 1.00000000e+00, 1.41359882e-15,\n",
       "                       1.30793024e-15, 9.71759930e-16, 1.35963098e-15, 1.13986635e-15,\n",
       "                       1.26516577e-15, 1.38159691e-15, 1.16263197e-15, 1.67029400e-15,\n",
       "                       1.06388645e-15, 8.95726345e-16, 1.00299865e-15, 1.07507701e-15,\n",
       "                       9.56910114e-16, 1.98311302e-16, 1.39598115e-15, 8.95223901e-16,\n",
       "                       3.30986662e-16, 2.73975981e-16, 3.75104419e-16],\n",
       "                      [1.29472414e-15, 1.07771335e-15, 1.14081624e-15, 5.90617668e-16,\n",
       "                       1.17550595e-15, 4.85227802e-16, 5.09158678e-16, 8.32637153e-16,\n",
       "                       8.31651230e-16, 1.39247223e-15, 1.05547034e-15, 1.35799461e-15,\n",
       "                       1.36712607e-15, 2.48780763e-16, 4.67115511e-16, 4.28478941e-16,\n",
       "                       1.22096914e-15, 1.37404425e-15, 3.60611124e-16, 1.29182611e-15,\n",
       "                       5.74644338e-16, 1.83726352e-15, 1.88022848e-15, 7.87352203e-16,\n",
       "                       1.39979992e-15, 9.73549557e-16, 1.81058000e-15, 6.58821442e-16,\n",
       "                       9.36767223e-16, 3.70657755e-15, 1.00000000e+00, 1.41359882e-15,\n",
       "                       1.30793024e-15, 9.71759930e-16, 1.35963098e-15, 1.13986635e-15,\n",
       "                       1.26516577e-15, 1.38159691e-15, 1.16263197e-15, 1.67029400e-15,\n",
       "                       1.06388645e-15, 8.95726345e-16, 1.00299865e-15, 1.07507701e-15,\n",
       "                       9.56910114e-16, 1.98311302e-16, 1.39598115e-15, 8.95223901e-16,\n",
       "                       3.30986662e-16, 2.73975981e-16, 3.75104419e-16],\n",
       "                      [1.29472414e-15, 1.07771335e-15, 1.14081624e-15, 5.90617668e-16,\n",
       "                       1.17550595e-15, 4.85227802e-16, 5.09158678e-16, 8.32637153e-16,\n",
       "                       8.31651230e-16, 1.39247223e-15, 1.05547034e-15, 1.35799461e-15,\n",
       "                       1.36712607e-15, 2.48780763e-16, 4.67115511e-16, 4.28478941e-16,\n",
       "                       1.22096914e-15, 1.37404425e-15, 3.60611124e-16, 1.29182611e-15,\n",
       "                       5.74644338e-16, 1.83726352e-15, 1.88022848e-15, 7.87352203e-16,\n",
       "                       1.39979992e-15, 9.73549557e-16, 1.81058000e-15, 6.58821442e-16,\n",
       "                       9.36767223e-16, 3.70657755e-15, 1.00000000e+00, 1.41359882e-15,\n",
       "                       1.30793024e-15, 9.71759930e-16, 1.35963098e-15, 1.13986635e-15,\n",
       "                       1.26516577e-15, 1.38159691e-15, 1.16263197e-15, 1.67029400e-15,\n",
       "                       1.06388645e-15, 8.95726345e-16, 1.00299865e-15, 1.07507701e-15,\n",
       "                       9.56910114e-16, 1.98311302e-16, 1.39598115e-15, 8.95223901e-16,\n",
       "                       3.30986662e-16, 2.73975981e-16, 3.75104419e-16]])),\n",
       "              ('fbins',\n",
       "               array([[1.29472414e-15, 9.36382420e-16, 7.50632396e-16, 1.15939710e-15,\n",
       "                       1.18469645e-15],\n",
       "                      [1.29472414e-15, 9.36382420e-16, 7.50632396e-16, 1.15939710e-15,\n",
       "                       1.18469645e-15],\n",
       "                      [1.29472414e-15, 9.36382420e-16, 7.50632396e-16, 1.15939710e-15,\n",
       "                       1.18469645e-15],\n",
       "                      [1.29472414e-15, 9.36382420e-16, 7.50632396e-16, 1.15939710e-15,\n",
       "                       1.18469645e-15],\n",
       "                      [1.29472414e-15, 9.36382420e-16, 7.50632396e-16, 1.15939710e-15,\n",
       "                       1.18469645e-15],\n",
       "                      [1.29472414e-15, 9.36382420e-16, 7.50632396e-16, 1.15939710e-15,\n",
       "                       1.18469645e-15],\n",
       "                      [1.29472414e-15, 9.36382420e-16, 7.50632396e-16, 1.15939710e-15,\n",
       "                       1.18469645e-15],\n",
       "                      [1.29472414e-15, 9.36382420e-16, 7.50632396e-16, 1.15939710e-15,\n",
       "                       1.18469645e-15]]))]),\n",
       " array(8.4409808e+14),\n",
       " False,\n",
       " {})"
      ]
     },
     "execution_count": 140,
     "metadata": {},
     "output_type": "execute_result"
    }
   ],
   "source": [
    "env.step(env.action_space.sample())"
   ]
  },
  {
   "cell_type": "code",
   "execution_count": 14,
   "metadata": {},
   "outputs": [],
   "source": [
    "import numpy as np"
   ]
  },
  {
   "cell_type": "code",
   "execution_count": 15,
   "metadata": {},
   "outputs": [],
   "source": [
    "res=env.sample_and_process_observations_from_device()"
   ]
  },
  {
   "cell_type": "code",
   "execution_count": 16,
   "metadata": {},
   "outputs": [
    {
     "data": {
      "text/plain": [
       "(100, 8)"
      ]
     },
     "execution_count": 16,
     "metadata": {},
     "output_type": "execute_result"
    }
   ],
   "source": [
    "env.raw_data.shape"
   ]
  },
  {
   "cell_type": "code",
   "execution_count": 19,
   "metadata": {},
   "outputs": [
    {
     "data": {
      "text/plain": [
       "30"
      ]
     },
     "execution_count": 19,
     "metadata": {},
     "output_type": "execute_result"
    }
   ],
   "source": [
    "res['fft'][0].argmax()"
   ]
  },
  {
   "cell_type": "code",
   "execution_count": 20,
   "metadata": {},
   "outputs": [],
   "source": [
    "import matplotlib.pyplot as plt"
   ]
  },
  {
   "cell_type": "code",
   "execution_count": 21,
   "metadata": {},
   "outputs": [
    {
     "data": {
      "text/plain": [
       "[<matplotlib.lines.Line2D at 0x7901a16b4700>]"
      ]
     },
     "execution_count": 21,
     "metadata": {},
     "output_type": "execute_result"
    },
    {
     "data": {
      "image/png": "[encoded data removed]",
      "text/plain": [
       "<Figure size 640x480 with 1 Axes>"
      ]
     },
     "metadata": {},
     "output_type": "display_data"
    }
   ],
   "source": [
    "plt.plot(env.raw_data[:,1])"
   ]
  },
  {
   "cell_type": "code",
   "execution_count": 52,
   "metadata": {},
   "outputs": [
    {
     "data": {
      "text/plain": [
       "(100,)"
      ]
     },
     "execution_count": 52,
     "metadata": {},
     "output_type": "execute_result"
    }
   ],
   "source": [
    "env.timesteps.shape"
   ]
  },
  {
   "cell_type": "code",
   "execution_count": 22,
   "metadata": {},
   "outputs": [],
   "source": [
    "env.close()"
   ]
  },
  {
   "cell_type": "code",
   "execution_count": null,
   "metadata": {},
   "outputs": [],
   "source": [
    "env.step(env.action_space.sample())"
   ]
  },
  {
   "cell_type": "code",
   "execution_count": 32,
   "metadata": {},
   "outputs": [
    {
     "ename": "KeyError",
     "evalue": "'lv1r'",
     "output_type": "error",
     "traceback": [
      "\u001b[0;31m---------------------------------------------------------------------------\u001b[0m",
      "\u001b[0;31mKeyError\u001b[0m                                  Traceback (most recent call last)",
      "Cell \u001b[0;32mIn[32], line 1\u001b[0m\n\u001b[0;32m----> 1\u001b[0m \u001b[43menv\u001b[49m\u001b[38;5;241;43m.\u001b[39;49m\u001b[43mreset\u001b[49m\u001b[43m(\u001b[49m\u001b[43m)\u001b[49m\n",
      "File \u001b[0;32m~/Documents/PlatformIO/Projects/SFSystem_withAV/RLSystem.py:476\u001b[0m, in \u001b[0;36mSFSystemCommunicator.reset\u001b[0;34m(self)\u001b[0m\n\u001b[1;32m    474\u001b[0m new_observations\u001b[38;5;241m=\u001b[39m\u001b[38;5;28mself\u001b[39m\u001b[38;5;241m.\u001b[39msample_and_process_observations_from_device()\n\u001b[1;32m    475\u001b[0m \u001b[38;5;28mself\u001b[39m\u001b[38;5;241m.\u001b[39mcur_observations\u001b[38;5;241m=\u001b[39mnew_observations\n\u001b[0;32m--> 476\u001b[0m \u001b[38;5;28;43mself\u001b[39;49m\u001b[38;5;241;43m.\u001b[39;49m\u001b[43mupdate_audiovis_feedback\u001b[49m\u001b[43m(\u001b[49m\u001b[43mupdate_dict\u001b[49m\u001b[38;5;241;43m=\u001b[39;49m\u001b[38;5;28;43mself\u001b[39;49m\u001b[38;5;241;43m.\u001b[39;49m\u001b[43mdefault_actions\u001b[49m\u001b[43m)\u001b[49m \u001b[38;5;66;03m#update back to default actions\u001b[39;00m\n\u001b[1;32m    477\u001b[0m \u001b[38;5;28;01mif\u001b[39;00m \u001b[38;5;28mself\u001b[39m\u001b[38;5;241m.\u001b[39mcollect_data_toplot\u001b[38;5;241m==\u001b[39m\u001b[38;5;28;01mTrue\u001b[39;00m:\n\u001b[1;32m    478\u001b[0m     \u001b[38;5;28mself\u001b[39m\u001b[38;5;241m.\u001b[39mprevious_episodes_max_rewards\u001b[38;5;241m.\u001b[39mappend(\u001b[38;5;28mself\u001b[39m\u001b[38;5;241m.\u001b[39mepisode_max_reward)\n",
      "File \u001b[0;32m~/Documents/PlatformIO/Projects/SFSystem_withAV/RLSystem.py:357\u001b[0m, in \u001b[0;36mSFSystemCommunicator.update_audiovis_feedback\u001b[0;34m(self, update_dict)\u001b[0m\n\u001b[1;32m    355\u001b[0m outmsg_vals\u001b[38;5;241m=\u001b[39m[]\n\u001b[1;32m    356\u001b[0m \u001b[38;5;28;01mfor\u001b[39;00m controlnm \u001b[38;5;129;01min\u001b[39;00m \u001b[38;5;28mself\u001b[39m\u001b[38;5;241m.\u001b[39mout_order:\n\u001b[0;32m--> 357\u001b[0m     outmsg_vals\u001b[38;5;241m.\u001b[39mappend(\u001b[43mupdate_dict\u001b[49m\u001b[43m[\u001b[49m\u001b[43mcontrolnm\u001b[49m\u001b[43m]\u001b[49m[\u001b[38;5;241m0\u001b[39m])\n\u001b[1;32m    358\u001b[0m \u001b[38;5;28mself\u001b[39m\u001b[38;5;241m.\u001b[39mcurrent_control_msg\u001b[38;5;241m=\u001b[39m\u001b[38;5;124m'\u001b[39m\u001b[38;5;124m,\u001b[39m\u001b[38;5;124m'\u001b[39m\u001b[38;5;241m.\u001b[39mjoin(\u001b[38;5;28mlist\u001b[39m(\u001b[38;5;28mmap\u001b[39m(\u001b[38;5;28mstr\u001b[39m,outmsg_vals)))\n\u001b[1;32m    359\u001b[0m \u001b[38;5;28mself\u001b[39m\u001b[38;5;241m.\u001b[39mws\u001b[38;5;241m.\u001b[39msend(\u001b[38;5;28mself\u001b[39m\u001b[38;5;241m.\u001b[39mcurrent_control_msg)\n",
      "\u001b[0;31mKeyError\u001b[0m: 'lv1r'"
     ]
    }
   ],
   "source": [
    "env.reset()"
   ]
  },
  {
   "cell_type": "code",
   "execution_count": 33,
   "metadata": {},
   "outputs": [],
   "source": [
    "env.close()"
   ]
  },
  {
   "cell_type": "code",
   "execution_count": 88,
   "metadata": {},
   "outputs": [
    {
     "name": "stderr",
     "output_type": "stream",
     "text": [
      "/home/biorp/.local/lib/python3.10/site-packages/stable_baselines3/common/vec_env/patch_gym.py:49: UserWarning:\n",
      "\n",
      "You provided an OpenAI Gym environment. We strongly recommend transitioning to Gymnasium environments. Stable-Baselines3 is automatically wrapping your environments in a compatibility layer, which could potentially cause issues.\n",
      "\n"
     ]
    },
    {
     "name": "stdout",
     "output_type": "stream",
     "text": [
      "255,0,0,0,71,0,0,0,255,255,255,255,0,255,255,255,0,255,255,81,0,255,0,0,10,440,440,1,2,440,1,49,440,1,49,10,0,0\n",
      "0,0,1,0,0,0,0,1,0,1,0,0,-1,0,-1,1,0,0,0,0,-1,1,0,0,0,1,-1,1,0,0,0,-1,0,0,-1,0,-1,-1\n",
      "255,0,0,0,71,0,0,0,255,255,255,255,0,255,255,255,0,255,255,81,0,255,0,0,10,440,440,1,2,440,1,49,440,1,49,10,0,0\n",
      "0,1,-1,1,0,0,-1,-1,1,0,0,0,0,0,1,0,0,0,0,1,0,-1,1,0,-1,1,0,0,0,0,0,0,0,0,0,0,1,0\n",
      "255,0,0,0,71,0,0,0,255,255,255,255,0,255,255,255,0,255,255,81,0,255,0,0,10,440,440,1,2,440,1,49,440,1,49,10,0,0\n",
      "-1,1,-1,0,0,0,0,1,0,0,0,0,0,0,0,0,0,0,0,-1,0,0,0,0,0,1,-1,0,0,1,0,0,0,0,0,1,0,-1\n",
      "255,0,0,0,71,0,0,0,255,255,255,255,0,255,255,255,0,255,255,81,0,255,0,0,10,440,440,1,2,440,1,49,440,1,49,10,0,0\n",
      "-1,0,0,0,0,0,0,0,0,0,0,0,0,-1,-1,1,0,0,0,0,0,1,0,-1,0,1,0,0,0,0,-1,0,0,0,0,0,-1,1\n"
     ]
    },
    {
     "ename": "KeyboardInterrupt",
     "evalue": "",
     "output_type": "error",
     "traceback": [
      "\u001b[0;31m---------------------------------------------------------------------------\u001b[0m",
      "\u001b[0;31mKeyboardInterrupt\u001b[0m                         Traceback (most recent call last)",
      "Cell \u001b[0;32mIn[88], line 8\u001b[0m\n\u001b[1;32m      1\u001b[0m trainer\u001b[38;5;241m=\u001b[39mRLSystem\u001b[38;5;241m.\u001b[39mstable_baselines_model_trainer(initialized_environment\u001b[38;5;241m=\u001b[39menv,\n\u001b[1;32m      2\u001b[0m                                                           algorithm\u001b[38;5;241m=\u001b[39msd[\u001b[38;5;124m'\u001b[39m\u001b[38;5;124malgorithm\u001b[39m\u001b[38;5;124m'\u001b[39m],\n\u001b[1;32m      3\u001b[0m                                                           policy\u001b[38;5;241m=\u001b[39m\u001b[38;5;124m'\u001b[39m\u001b[38;5;124mMlpPolicy\u001b[39m\u001b[38;5;124m'\u001b[39m,\n\u001b[1;32m      4\u001b[0m                                                           logfn\u001b[38;5;241m=\u001b[39m\u001b[38;5;124m'\u001b[39m\u001b[38;5;124mmodel_stats.log\u001b[39m\u001b[38;5;124m'\u001b[39m,\n\u001b[1;32m      5\u001b[0m                                                           n_steps_per_timestep\u001b[38;5;241m=\u001b[39msd[\u001b[38;5;124m'\u001b[39m\u001b[38;5;124mn_steps_per_timestep\u001b[39m\u001b[38;5;124m'\u001b[39m])\n\u001b[1;32m      6\u001b[0m sd2\u001b[38;5;241m=\u001b[39m{\u001b[38;5;124m'\u001b[39m\u001b[38;5;124mnum_episodes\u001b[39m\u001b[38;5;124m'\u001b[39m: \u001b[38;5;241m5\u001b[39m, \u001b[38;5;124m'\u001b[39m\u001b[38;5;124mlog_model\u001b[39m\u001b[38;5;124m'\u001b[39m: \u001b[38;5;28;01mTrue\u001b[39;00m, \u001b[38;5;124m'\u001b[39m\u001b[38;5;124mn_total_timesteps\u001b[39m\u001b[38;5;124m'\u001b[39m: \u001b[38;5;124m'\u001b[39m\u001b[38;5;124mepisode\u001b[39m\u001b[38;5;124m'\u001b[39m, \u001b[38;5;124m'\u001b[39m\u001b[38;5;124mlog_or_plot_every_n_timesteps\u001b[39m\u001b[38;5;124m'\u001b[39m: \u001b[38;5;241m1\u001b[39m, \u001b[38;5;124m'\u001b[39m\u001b[38;5;124mjnb\u001b[39m\u001b[38;5;124m'\u001b[39m: \u001b[38;5;28;01mFalse\u001b[39;00m}\n\u001b[0;32m----> 8\u001b[0m \u001b[43mtrainer\u001b[49m\u001b[38;5;241;43m.\u001b[39;49m\u001b[43mtrain\u001b[49m\u001b[43m(\u001b[49m\u001b[43mnum_episodes\u001b[49m\u001b[38;5;241;43m=\u001b[39;49m\u001b[43msd2\u001b[49m\u001b[43m[\u001b[49m\u001b[38;5;124;43m'\u001b[39;49m\u001b[38;5;124;43mnum_episodes\u001b[39;49m\u001b[38;5;124;43m'\u001b[39;49m\u001b[43m]\u001b[49m\u001b[43m,\u001b[49m\u001b[43m \u001b[49m\u001b[43mlog_model\u001b[49m\u001b[38;5;241;43m=\u001b[39;49m\u001b[43msd2\u001b[49m\u001b[43m[\u001b[49m\u001b[38;5;124;43m'\u001b[39;49m\u001b[38;5;124;43mlog_model\u001b[39;49m\u001b[38;5;124;43m'\u001b[39;49m\u001b[43m]\u001b[49m\u001b[43m,\u001b[49m\u001b[43mn_total_timesteps\u001b[49m\u001b[38;5;241;43m=\u001b[39;49m\u001b[43msd2\u001b[49m\u001b[43m[\u001b[49m\u001b[38;5;124;43m'\u001b[39;49m\u001b[38;5;124;43mn_total_timesteps\u001b[39;49m\u001b[38;5;124;43m'\u001b[39;49m\u001b[43m]\u001b[49m\u001b[43m,\u001b[49m\n\u001b[1;32m      9\u001b[0m \u001b[43m                 \u001b[49m\u001b[43mlog_or_plot_every_n_timesteps\u001b[49m\u001b[38;5;241;43m=\u001b[39;49m\u001b[43msd2\u001b[49m\u001b[43m[\u001b[49m\u001b[38;5;124;43m'\u001b[39;49m\u001b[38;5;124;43mlog_or_plot_every_n_timesteps\u001b[39;49m\u001b[38;5;124;43m'\u001b[39;49m\u001b[43m]\u001b[49m\u001b[43m,\u001b[49m\u001b[43m \u001b[49m\u001b[43mjnb\u001b[49m\u001b[38;5;241;43m=\u001b[39;49m\u001b[38;5;28;43;01mFalse\u001b[39;49;00m\u001b[43m)\u001b[49m\n",
      "File \u001b[0;32m~/Documents/PlatformIO/Projects/SFSystem_withAV/RLSystem.py:671\u001b[0m, in \u001b[0;36mstable_baselines_model_trainer.train\u001b[0;34m(self, num_episodes, log_model, get_plots, render_plots, n_total_timesteps, log_or_plot_every_n_timesteps, jnb)\u001b[0m\n\u001b[1;32m    669\u001b[0m \u001b[38;5;28;01mwhile\u001b[39;00m \u001b[38;5;28mself\u001b[39m\u001b[38;5;241m.\u001b[39mcur_n_timesteps\u001b[38;5;241m<\u001b[39m\u001b[38;5;28mint\u001b[39m(n_total_timesteps): \u001b[38;5;66;03m#here-for A2C\u001b[39;00m\n\u001b[1;32m    670\u001b[0m     \u001b[38;5;28;01mif\u001b[39;00m \u001b[38;5;28mself\u001b[39m\u001b[38;5;241m.\u001b[39menv\u001b[38;5;241m.\u001b[39mws\u001b[38;5;241m.\u001b[39msock \u001b[38;5;129;01mis\u001b[39;00m \u001b[38;5;129;01mnot\u001b[39;00m \u001b[38;5;28;01mNone\u001b[39;00m:\n\u001b[0;32m--> 671\u001b[0m         \u001b[38;5;28;43mself\u001b[39;49m\u001b[38;5;241;43m.\u001b[39;49m\u001b[43mmodel\u001b[49m\u001b[38;5;241;43m.\u001b[39;49m\u001b[43mlearn\u001b[49m\u001b[43m(\u001b[49m\u001b[43mtotal_timesteps\u001b[49m\u001b[38;5;241;43m=\u001b[39;49m\u001b[43mlog_or_plot_every_n_timesteps\u001b[49m\u001b[43m)\u001b[49m\n\u001b[1;32m    672\u001b[0m         \u001b[38;5;28mself\u001b[39m\u001b[38;5;241m.\u001b[39mcur_n_timesteps\u001b[38;5;241m+\u001b[39m\u001b[38;5;241m=\u001b[39mlog_or_plot_every_n_timesteps\n\u001b[1;32m    673\u001b[0m         \u001b[38;5;28;01mif\u001b[39;00m render_plots:\n",
      "File \u001b[0;32m~/.local/lib/python3.10/site-packages/stable_baselines3/a2c/a2c.py:201\u001b[0m, in \u001b[0;36mA2C.learn\u001b[0;34m(self, total_timesteps, callback, log_interval, tb_log_name, reset_num_timesteps, progress_bar)\u001b[0m\n\u001b[1;32m    192\u001b[0m \u001b[38;5;28;01mdef\u001b[39;00m \u001b[38;5;21mlearn\u001b[39m(\n\u001b[1;32m    193\u001b[0m     \u001b[38;5;28mself\u001b[39m: SelfA2C,\n\u001b[1;32m    194\u001b[0m     total_timesteps: \u001b[38;5;28mint\u001b[39m,\n\u001b[0;32m   (...)\u001b[0m\n\u001b[1;32m    199\u001b[0m     progress_bar: \u001b[38;5;28mbool\u001b[39m \u001b[38;5;241m=\u001b[39m \u001b[38;5;28;01mFalse\u001b[39;00m,\n\u001b[1;32m    200\u001b[0m ) \u001b[38;5;241m-\u001b[39m\u001b[38;5;241m>\u001b[39m SelfA2C:\n\u001b[0;32m--> 201\u001b[0m     \u001b[38;5;28;01mreturn\u001b[39;00m \u001b[38;5;28;43msuper\u001b[39;49m\u001b[43m(\u001b[49m\u001b[43m)\u001b[49m\u001b[38;5;241;43m.\u001b[39;49m\u001b[43mlearn\u001b[49m\u001b[43m(\u001b[49m\n\u001b[1;32m    202\u001b[0m \u001b[43m        \u001b[49m\u001b[43mtotal_timesteps\u001b[49m\u001b[38;5;241;43m=\u001b[39;49m\u001b[43mtotal_timesteps\u001b[49m\u001b[43m,\u001b[49m\n\u001b[1;32m    203\u001b[0m \u001b[43m        \u001b[49m\u001b[43mcallback\u001b[49m\u001b[38;5;241;43m=\u001b[39;49m\u001b[43mcallback\u001b[49m\u001b[43m,\u001b[49m\n\u001b[1;32m    204\u001b[0m \u001b[43m        \u001b[49m\u001b[43mlog_interval\u001b[49m\u001b[38;5;241;43m=\u001b[39;49m\u001b[43mlog_interval\u001b[49m\u001b[43m,\u001b[49m\n\u001b[1;32m    205\u001b[0m \u001b[43m        \u001b[49m\u001b[43mtb_log_name\u001b[49m\u001b[38;5;241;43m=\u001b[39;49m\u001b[43mtb_log_name\u001b[49m\u001b[43m,\u001b[49m\n\u001b[1;32m    206\u001b[0m \u001b[43m        \u001b[49m\u001b[43mreset_num_timesteps\u001b[49m\u001b[38;5;241;43m=\u001b[39;49m\u001b[43mreset_num_timesteps\u001b[49m\u001b[43m,\u001b[49m\n\u001b[1;32m    207\u001b[0m \u001b[43m        \u001b[49m\u001b[43mprogress_bar\u001b[49m\u001b[38;5;241;43m=\u001b[39;49m\u001b[43mprogress_bar\u001b[49m\u001b[43m,\u001b[49m\n\u001b[1;32m    208\u001b[0m \u001b[43m    \u001b[49m\u001b[43m)\u001b[49m\n",
      "File \u001b[0;32m~/.local/lib/python3.10/site-packages/stable_baselines3/common/on_policy_algorithm.py:277\u001b[0m, in \u001b[0;36mOnPolicyAlgorithm.learn\u001b[0;34m(self, total_timesteps, callback, log_interval, tb_log_name, reset_num_timesteps, progress_bar)\u001b[0m\n\u001b[1;32m    274\u001b[0m \u001b[38;5;28;01massert\u001b[39;00m \u001b[38;5;28mself\u001b[39m\u001b[38;5;241m.\u001b[39menv \u001b[38;5;129;01mis\u001b[39;00m \u001b[38;5;129;01mnot\u001b[39;00m \u001b[38;5;28;01mNone\u001b[39;00m\n\u001b[1;32m    276\u001b[0m \u001b[38;5;28;01mwhile\u001b[39;00m \u001b[38;5;28mself\u001b[39m\u001b[38;5;241m.\u001b[39mnum_timesteps \u001b[38;5;241m<\u001b[39m total_timesteps:\n\u001b[0;32m--> 277\u001b[0m     continue_training \u001b[38;5;241m=\u001b[39m \u001b[38;5;28;43mself\u001b[39;49m\u001b[38;5;241;43m.\u001b[39;49m\u001b[43mcollect_rollouts\u001b[49m\u001b[43m(\u001b[49m\u001b[38;5;28;43mself\u001b[39;49m\u001b[38;5;241;43m.\u001b[39;49m\u001b[43menv\u001b[49m\u001b[43m,\u001b[49m\u001b[43m \u001b[49m\u001b[43mcallback\u001b[49m\u001b[43m,\u001b[49m\u001b[43m \u001b[49m\u001b[38;5;28;43mself\u001b[39;49m\u001b[38;5;241;43m.\u001b[39;49m\u001b[43mrollout_buffer\u001b[49m\u001b[43m,\u001b[49m\u001b[43m \u001b[49m\u001b[43mn_rollout_steps\u001b[49m\u001b[38;5;241;43m=\u001b[39;49m\u001b[38;5;28;43mself\u001b[39;49m\u001b[38;5;241;43m.\u001b[39;49m\u001b[43mn_steps\u001b[49m\u001b[43m)\u001b[49m\n\u001b[1;32m    279\u001b[0m     \u001b[38;5;28;01mif\u001b[39;00m \u001b[38;5;129;01mnot\u001b[39;00m continue_training:\n\u001b[1;32m    280\u001b[0m         \u001b[38;5;28;01mbreak\u001b[39;00m\n",
      "File \u001b[0;32m~/.local/lib/python3.10/site-packages/stable_baselines3/common/on_policy_algorithm.py:194\u001b[0m, in \u001b[0;36mOnPolicyAlgorithm.collect_rollouts\u001b[0;34m(self, env, callback, rollout_buffer, n_rollout_steps)\u001b[0m\n\u001b[1;32m    189\u001b[0m     \u001b[38;5;28;01melse\u001b[39;00m:\n\u001b[1;32m    190\u001b[0m         \u001b[38;5;66;03m# Otherwise, clip the actions to avoid out of bound error\u001b[39;00m\n\u001b[1;32m    191\u001b[0m         \u001b[38;5;66;03m# as we are sampling from an unbounded Gaussian distribution\u001b[39;00m\n\u001b[1;32m    192\u001b[0m         clipped_actions \u001b[38;5;241m=\u001b[39m np\u001b[38;5;241m.\u001b[39mclip(actions, \u001b[38;5;28mself\u001b[39m\u001b[38;5;241m.\u001b[39maction_space\u001b[38;5;241m.\u001b[39mlow, \u001b[38;5;28mself\u001b[39m\u001b[38;5;241m.\u001b[39maction_space\u001b[38;5;241m.\u001b[39mhigh)\n\u001b[0;32m--> 194\u001b[0m new_obs, rewards, dones, infos \u001b[38;5;241m=\u001b[39m \u001b[43menv\u001b[49m\u001b[38;5;241;43m.\u001b[39;49m\u001b[43mstep\u001b[49m\u001b[43m(\u001b[49m\u001b[43mclipped_actions\u001b[49m\u001b[43m)\u001b[49m\n\u001b[1;32m    196\u001b[0m \u001b[38;5;28mself\u001b[39m\u001b[38;5;241m.\u001b[39mnum_timesteps \u001b[38;5;241m+\u001b[39m\u001b[38;5;241m=\u001b[39m env\u001b[38;5;241m.\u001b[39mnum_envs\n\u001b[1;32m    198\u001b[0m \u001b[38;5;66;03m# Give access to local variables\u001b[39;00m\n",
      "File \u001b[0;32m~/.local/lib/python3.10/site-packages/stable_baselines3/common/vec_env/base_vec_env.py:206\u001b[0m, in \u001b[0;36mVecEnv.step\u001b[0;34m(self, actions)\u001b[0m\n\u001b[1;32m    199\u001b[0m \u001b[38;5;250m\u001b[39m\u001b[38;5;124;03m\"\"\"\u001b[39;00m\n\u001b[1;32m    200\u001b[0m \u001b[38;5;124;03mStep the environments with the given action\u001b[39;00m\n\u001b[1;32m    201\u001b[0m \n\u001b[1;32m    202\u001b[0m \u001b[38;5;124;03m:param actions: the action\u001b[39;00m\n\u001b[1;32m    203\u001b[0m \u001b[38;5;124;03m:return: observation, reward, done, information\u001b[39;00m\n\u001b[1;32m    204\u001b[0m \u001b[38;5;124;03m\"\"\"\u001b[39;00m\n\u001b[1;32m    205\u001b[0m \u001b[38;5;28mself\u001b[39m\u001b[38;5;241m.\u001b[39mstep_async(actions)\n\u001b[0;32m--> 206\u001b[0m \u001b[38;5;28;01mreturn\u001b[39;00m \u001b[38;5;28;43mself\u001b[39;49m\u001b[38;5;241;43m.\u001b[39;49m\u001b[43mstep_wait\u001b[49m\u001b[43m(\u001b[49m\u001b[43m)\u001b[49m\n",
      "File \u001b[0;32m~/.local/lib/python3.10/site-packages/stable_baselines3/common/vec_env/dummy_vec_env.py:58\u001b[0m, in \u001b[0;36mDummyVecEnv.step_wait\u001b[0;34m(self)\u001b[0m\n\u001b[1;32m     55\u001b[0m \u001b[38;5;28;01mdef\u001b[39;00m \u001b[38;5;21mstep_wait\u001b[39m(\u001b[38;5;28mself\u001b[39m) \u001b[38;5;241m-\u001b[39m\u001b[38;5;241m>\u001b[39m VecEnvStepReturn:\n\u001b[1;32m     56\u001b[0m     \u001b[38;5;66;03m# Avoid circular imports\u001b[39;00m\n\u001b[1;32m     57\u001b[0m     \u001b[38;5;28;01mfor\u001b[39;00m env_idx \u001b[38;5;129;01min\u001b[39;00m \u001b[38;5;28mrange\u001b[39m(\u001b[38;5;28mself\u001b[39m\u001b[38;5;241m.\u001b[39mnum_envs):\n\u001b[0;32m---> 58\u001b[0m         obs, \u001b[38;5;28mself\u001b[39m\u001b[38;5;241m.\u001b[39mbuf_rews[env_idx], terminated, truncated, \u001b[38;5;28mself\u001b[39m\u001b[38;5;241m.\u001b[39mbuf_infos[env_idx] \u001b[38;5;241m=\u001b[39m \u001b[38;5;28;43mself\u001b[39;49m\u001b[38;5;241;43m.\u001b[39;49m\u001b[43menvs\u001b[49m\u001b[43m[\u001b[49m\u001b[43menv_idx\u001b[49m\u001b[43m]\u001b[49m\u001b[38;5;241;43m.\u001b[39;49m\u001b[43mstep\u001b[49m\u001b[43m(\u001b[49m\n\u001b[1;32m     59\u001b[0m \u001b[43m            \u001b[49m\u001b[38;5;28;43mself\u001b[39;49m\u001b[38;5;241;43m.\u001b[39;49m\u001b[43mactions\u001b[49m\u001b[43m[\u001b[49m\u001b[43menv_idx\u001b[49m\u001b[43m]\u001b[49m\n\u001b[1;32m     60\u001b[0m \u001b[43m        \u001b[49m\u001b[43m)\u001b[49m\n\u001b[1;32m     61\u001b[0m         \u001b[38;5;66;03m# convert to SB3 VecEnv api\u001b[39;00m\n\u001b[1;32m     62\u001b[0m         \u001b[38;5;28mself\u001b[39m\u001b[38;5;241m.\u001b[39mbuf_dones[env_idx] \u001b[38;5;241m=\u001b[39m terminated \u001b[38;5;129;01mor\u001b[39;00m truncated\n",
      "File \u001b[0;32m~/.local/lib/python3.10/site-packages/stable_baselines3/common/monitor.py:94\u001b[0m, in \u001b[0;36mMonitor.step\u001b[0;34m(self, action)\u001b[0m\n\u001b[1;32m     92\u001b[0m \u001b[38;5;28;01mif\u001b[39;00m \u001b[38;5;28mself\u001b[39m\u001b[38;5;241m.\u001b[39mneeds_reset:\n\u001b[1;32m     93\u001b[0m     \u001b[38;5;28;01mraise\u001b[39;00m \u001b[38;5;167;01mRuntimeError\u001b[39;00m(\u001b[38;5;124m\"\u001b[39m\u001b[38;5;124mTried to step environment that needs reset\u001b[39m\u001b[38;5;124m\"\u001b[39m)\n\u001b[0;32m---> 94\u001b[0m observation, reward, terminated, truncated, info \u001b[38;5;241m=\u001b[39m \u001b[38;5;28;43mself\u001b[39;49m\u001b[38;5;241;43m.\u001b[39;49m\u001b[43menv\u001b[49m\u001b[38;5;241;43m.\u001b[39;49m\u001b[43mstep\u001b[49m\u001b[43m(\u001b[49m\u001b[43maction\u001b[49m\u001b[43m)\u001b[49m\n\u001b[1;32m     95\u001b[0m \u001b[38;5;28mself\u001b[39m\u001b[38;5;241m.\u001b[39mrewards\u001b[38;5;241m.\u001b[39mappend(\u001b[38;5;28mfloat\u001b[39m(reward))\n\u001b[1;32m     96\u001b[0m \u001b[38;5;28;01mif\u001b[39;00m terminated \u001b[38;5;129;01mor\u001b[39;00m truncated:\n",
      "File \u001b[0;32m~/.local/lib/python3.10/site-packages/shimmy/openai_gym_compatibility.py:251\u001b[0m, in \u001b[0;36mGymV21CompatibilityV0.step\u001b[0;34m(self, action)\u001b[0m\n\u001b[1;32m    242\u001b[0m \u001b[38;5;28;01mdef\u001b[39;00m \u001b[38;5;21mstep\u001b[39m(\u001b[38;5;28mself\u001b[39m, action: ActType) \u001b[38;5;241m-\u001b[39m\u001b[38;5;241m>\u001b[39m \u001b[38;5;28mtuple\u001b[39m[Any, \u001b[38;5;28mfloat\u001b[39m, \u001b[38;5;28mbool\u001b[39m, \u001b[38;5;28mbool\u001b[39m, \u001b[38;5;28mdict\u001b[39m]:\n\u001b[1;32m    243\u001b[0m \u001b[38;5;250m    \u001b[39m\u001b[38;5;124;03m\"\"\"Steps through the environment.\u001b[39;00m\n\u001b[1;32m    244\u001b[0m \n\u001b[1;32m    245\u001b[0m \u001b[38;5;124;03m    Args:\u001b[39;00m\n\u001b[0;32m   (...)\u001b[0m\n\u001b[1;32m    249\u001b[0m \u001b[38;5;124;03m        (observation, reward, terminated, truncated, info)\u001b[39;00m\n\u001b[1;32m    250\u001b[0m \u001b[38;5;124;03m    \"\"\"\u001b[39;00m\n\u001b[0;32m--> 251\u001b[0m     obs, reward, done, info \u001b[38;5;241m=\u001b[39m \u001b[38;5;28;43mself\u001b[39;49m\u001b[38;5;241;43m.\u001b[39;49m\u001b[43mgym_env\u001b[49m\u001b[38;5;241;43m.\u001b[39;49m\u001b[43mstep\u001b[49m\u001b[43m(\u001b[49m\u001b[43maction\u001b[49m\u001b[43m)\u001b[49m\n\u001b[1;32m    253\u001b[0m     \u001b[38;5;28;01mif\u001b[39;00m \u001b[38;5;28mself\u001b[39m\u001b[38;5;241m.\u001b[39mrender_mode \u001b[38;5;129;01mis\u001b[39;00m \u001b[38;5;129;01mnot\u001b[39;00m \u001b[38;5;28;01mNone\u001b[39;00m:\n\u001b[1;32m    254\u001b[0m         \u001b[38;5;28mself\u001b[39m\u001b[38;5;241m.\u001b[39mrender()\n",
      "File \u001b[0;32m~/Documents/PlatformIO/Projects/SFSystem_withAV/RLSystem.py:622\u001b[0m, in \u001b[0;36mFlattenActionSpaceWrapper.step\u001b[0;34m(self, action)\u001b[0m\n\u001b[1;32m    619\u001b[0m \u001b[38;5;28;01mdef\u001b[39;00m \u001b[38;5;21mstep\u001b[39m(\u001b[38;5;28mself\u001b[39m, action):\n\u001b[1;32m    620\u001b[0m     \u001b[38;5;66;03m# Convert the flattened action back to the original action space format\u001b[39;00m\n\u001b[1;32m    621\u001b[0m     original_action \u001b[38;5;241m=\u001b[39m \u001b[38;5;28mself\u001b[39m\u001b[38;5;241m.\u001b[39m_unflatten_action(action)\n\u001b[0;32m--> 622\u001b[0m     \u001b[38;5;28;01mreturn\u001b[39;00m \u001b[38;5;28;43msuper\u001b[39;49m\u001b[43m(\u001b[49m\u001b[43m)\u001b[49m\u001b[38;5;241;43m.\u001b[39;49m\u001b[43mstep\u001b[49m\u001b[43m(\u001b[49m\u001b[43moriginal_action\u001b[49m\u001b[43m)\u001b[49m\n",
      "File \u001b[0;32m~/.local/lib/python3.10/site-packages/gym/core.py:319\u001b[0m, in \u001b[0;36mWrapper.step\u001b[0;34m(self, action)\u001b[0m\n\u001b[1;32m    317\u001b[0m \u001b[38;5;28;01mdef\u001b[39;00m \u001b[38;5;21mstep\u001b[39m(\u001b[38;5;28mself\u001b[39m, action: ActType) \u001b[38;5;241m-\u001b[39m\u001b[38;5;241m>\u001b[39m Tuple[ObsType, \u001b[38;5;28mfloat\u001b[39m, \u001b[38;5;28mbool\u001b[39m, \u001b[38;5;28mbool\u001b[39m, \u001b[38;5;28mdict\u001b[39m]:\n\u001b[1;32m    318\u001b[0m \u001b[38;5;250m    \u001b[39m\u001b[38;5;124;03m\"\"\"Steps through the environment with action.\"\"\"\u001b[39;00m\n\u001b[0;32m--> 319\u001b[0m     \u001b[38;5;28;01mreturn\u001b[39;00m \u001b[38;5;28;43mself\u001b[39;49m\u001b[38;5;241;43m.\u001b[39;49m\u001b[43menv\u001b[49m\u001b[38;5;241;43m.\u001b[39;49m\u001b[43mstep\u001b[49m\u001b[43m(\u001b[49m\u001b[43maction\u001b[49m\u001b[43m)\u001b[49m\n",
      "File \u001b[0;32m~/.local/lib/python3.10/site-packages/gym/core.py:384\u001b[0m, in \u001b[0;36mObservationWrapper.step\u001b[0;34m(self, action)\u001b[0m\n\u001b[1;32m    382\u001b[0m \u001b[38;5;28;01mdef\u001b[39;00m \u001b[38;5;21mstep\u001b[39m(\u001b[38;5;28mself\u001b[39m, action):\n\u001b[1;32m    383\u001b[0m \u001b[38;5;250m    \u001b[39m\u001b[38;5;124;03m\"\"\"Returns a modified observation using :meth:`self.observation` after calling :meth:`env.step`.\"\"\"\u001b[39;00m\n\u001b[0;32m--> 384\u001b[0m     observation, reward, done, info \u001b[38;5;241m=\u001b[39m \u001b[38;5;28;43mself\u001b[39;49m\u001b[38;5;241;43m.\u001b[39;49m\u001b[43menv\u001b[49m\u001b[38;5;241;43m.\u001b[39;49m\u001b[43mstep\u001b[49m\u001b[43m(\u001b[49m\u001b[43maction\u001b[49m\u001b[43m)\u001b[49m \u001b[38;5;66;03m#terminated, truncated\u001b[39;00m\n\u001b[1;32m    385\u001b[0m     \u001b[38;5;28;01mreturn\u001b[39;00m \u001b[38;5;28mself\u001b[39m\u001b[38;5;241m.\u001b[39mobservation(observation), reward, done, info\n",
      "File \u001b[0;32m~/Documents/PlatformIO/Projects/SFSystem_withAV/RLSystem.py:413\u001b[0m, in \u001b[0;36mSFSystemCommunicator.step\u001b[0;34m(self, action)\u001b[0m\n\u001b[1;32m    411\u001b[0m \u001b[38;5;28mself\u001b[39m\u001b[38;5;241m.\u001b[39mbest_total_episode_reward_now\u001b[38;5;241m=\u001b[39m\u001b[38;5;28;01mFalse\u001b[39;00m\n\u001b[1;32m    412\u001b[0m \u001b[38;5;28mself\u001b[39m\u001b[38;5;241m.\u001b[39mupdate_audiovis_feedback(update_dict\u001b[38;5;241m=\u001b[39maction)\n\u001b[0;32m--> 413\u001b[0m \u001b[43mtime\u001b[49m\u001b[38;5;241;43m.\u001b[39;49m\u001b[43msleep\u001b[49m\u001b[43m(\u001b[49m\u001b[38;5;28;43mself\u001b[39;49m\u001b[38;5;241;43m.\u001b[39;49m\u001b[43mstep_stim_length\u001b[49m\u001b[43m)\u001b[49m\n\u001b[1;32m    414\u001b[0m \u001b[38;5;28mself\u001b[39m\u001b[38;5;241m.\u001b[39mcurrent_actions\u001b[38;5;241m=\u001b[39maction\n\u001b[1;32m    415\u001b[0m new_observations\u001b[38;5;241m=\u001b[39m\u001b[38;5;28mself\u001b[39m\u001b[38;5;241m.\u001b[39msample_and_process_observations_from_device()\n",
      "\u001b[0;31mKeyboardInterrupt\u001b[0m: "
     ]
    }
   ],
   "source": [
    "trainer=RLSystem.stable_baselines_model_trainer(initialized_environment=env,\n",
    "                                                          algorithm=sd['algorithm'],\n",
    "                                                          policy='MlpPolicy',\n",
    "                                                          logfn='model_stats.log',\n",
    "                                                          n_steps_per_timestep=sd['n_steps_per_timestep'])\n",
    "sd2={'num_episodes': 5, 'log_model': True, 'n_total_timesteps': 'episode', 'log_or_plot_every_n_timesteps': 1, 'jnb': False}\n",
    "\n",
    "trainer.train(num_episodes=sd2['num_episodes'], log_model=sd2['log_model'],n_total_timesteps=sd2['n_total_timesteps'],\n",
    "                 log_or_plot_every_n_timesteps=sd2['log_or_plot_every_n_timesteps'], jnb=False)"
   ]
  },
  {
   "cell_type": "code",
   "execution_count": 94,
   "metadata": {},
   "outputs": [],
   "source": [
    "env.close()"
   ]
  },
  {
   "cell_type": "code",
   "execution_count": null,
   "metadata": {},
   "outputs": [],
   "source": []
  },
  {
   "cell_type": "code",
   "execution_count": null,
   "metadata": {},
   "outputs": [],
   "source": []
  },
  {
   "cell_type": "code",
   "execution_count": null,
   "metadata": {},
   "outputs": [],
   "source": []
  },
  {
   "cell_type": "code",
   "execution_count": null,
   "metadata": {},
   "outputs": [],
   "source": []
  },
  {
   "cell_type": "code",
   "execution_count": null,
   "metadata": {},
   "outputs": [],
   "source": []
  },
  {
   "cell_type": "code",
   "execution_count": null,
   "metadata": {},
   "outputs": [],
   "source": []
  },
  {
   "cell_type": "code",
   "execution_count": null,
   "metadata": {},
   "outputs": [],
   "source": []
  },
  {
   "cell_type": "code",
   "execution_count": 8,
   "metadata": {},
   "outputs": [
    {
     "data": {
      "text/plain": [
       "array([[0, 0, 0, 0, 0, 0, 0, 0],\n",
       "       [0, 0, 0, 0, 0, 0, 0, 0],\n",
       "       [0, 0, 0, 0, 0, 0, 0, 0],\n",
       "       [0, 0, 0, 0, 0, 0, 0, 0],\n",
       "       [0, 0, 0, 0, 0, 0, 0, 0],\n",
       "       [0, 0, 0, 0, 0, 0, 0, 0],\n",
       "       [0, 0, 0, 0, 0, 0, 0, 0],\n",
       "       [0, 0, 0, 0, 0, 0, 0, 0],\n",
       "       [0, 0, 0, 0, 0, 0, 0, 0],\n",
       "       [0, 0, 0, 0, 0, 0, 0, 0]])"
      ]
     },
     "execution_count": 8,
     "metadata": {},
     "output_type": "execute_result"
    }
   ],
   "source": [
    "env.raw_data[:10]"
   ]
  },
  {
   "cell_type": "code",
   "execution_count": 24,
   "metadata": {},
   "outputs": [],
   "source": [
    "synthesized_data=env.synth_data()"
   ]
  },
  {
   "cell_type": "code",
   "execution_count": 25,
   "metadata": {},
   "outputs": [
    {
     "data": {
      "text/plain": [
       "array([ 0.00000000e+00, -1.01900517e-13, -2.03801035e-13, -3.05701552e-13,\n",
       "       -4.07602070e-13, -5.09502587e-13, -6.11403104e-13, -7.13303622e-13,\n",
       "       -8.15204139e-13, -2.73609406e-12, -1.01900517e-12, -2.93989509e-12,\n",
       "       -1.22280621e-12, -3.14369613e-12, -1.42660724e-12, -3.34749716e-12,\n",
       "       -1.63040828e-12, -3.55129820e-12, -5.47218812e-12, -3.75509923e-12,\n",
       "       -2.03801035e-12, -7.59687908e-12, -5.87979019e-12, -4.16270130e-12,\n",
       "       -2.44561242e-12, -8.00448115e-12, -6.28739226e-12, -4.57030337e-12,\n",
       "       -2.85321449e-12, -8.41208321e-12, -6.69499433e-12, -4.97790544e-12,\n",
       "       -3.26081656e-12, -8.81968528e-12, -7.10259640e-12, -5.38550751e-12,\n",
       "       -1.09443762e-11, -1.95132974e-12, -7.51019847e-12, -1.30690672e-11,\n",
       "       -4.07602070e-12, -9.63488942e-12, -1.51937582e-11, -6.20071165e-12,\n",
       "       -1.17595804e-11, -2.76653388e-12, -8.32540261e-12, -1.38842713e-11,\n",
       "       -4.89122483e-12, -1.04500936e-11, -1.60089623e-11, -7.01591579e-12,\n",
       "       -1.25747845e-11, -1.81336532e-11, -9.14060675e-12, -1.46994755e-11,\n",
       "       -5.70642897e-12, -1.12652977e-11, -1.68241664e-11, -7.83111993e-12,\n",
       "       -1.33899887e-11, -1.89488574e-11, -9.95581088e-12, -1.55146796e-11,\n",
       "       -6.52163311e-12, -1.20805018e-11, -1.76393706e-11, -8.64632407e-12,\n",
       "       -1.42051928e-11, -1.97640615e-11, -1.07710150e-11, -1.77796852e-12,\n",
       "       -2.18887525e-11, -1.28957060e-11, -3.90265948e-12, -2.40134434e-11,\n",
       "       -1.50203969e-11, -6.02735043e-12, -2.61381344e-11, -1.71450879e-11,\n",
       "       -8.15204139e-12, -2.82628253e-11, -1.92697788e-11, -1.02767323e-11,\n",
       "       -3.03875163e-11, -2.13944698e-11, -1.24014233e-11, -3.25122073e-11,\n",
       "       -2.35191608e-11, -1.45261143e-11, -5.53306776e-12, -2.56438517e-11,\n",
       "       -1.66508052e-11, -7.65775871e-12, -2.77685427e-11, -1.87754962e-11,\n",
       "       -9.78244967e-12, -2.98932336e-11, -2.09001871e-11, -1.19071406e-11])"
      ]
     },
     "execution_count": 25,
     "metadata": {},
     "output_type": "execute_result"
    }
   ],
   "source": [
    "synthesized_data"
   ]
  },
  {
   "cell_type": "code",
   "execution_count": 12,
   "metadata": {},
   "outputs": [
    {
     "data": {
      "text/plain": [
       "array([  0.,  10.,  20.,  30.,  40.,  50.,  60.,  70.,  80.,  90., 100.,\n",
       "       110., 120., 130., 140., 150., 160., 170., 180., 190., 200., 210.,\n",
       "       220., 230., 240., 250., 260., 270., 280., 290., 300., 310., 320.,\n",
       "       330., 340., 350., 360., 370., 380., 390., 400., 410., 420., 430.,\n",
       "       440., 450., 460., 470., 480., 490., 500., 510., 520., 530., 540.,\n",
       "       550., 560., 570., 580., 590., 600., 610., 620., 630., 640., 650.,\n",
       "       660., 670., 680., 690., 700., 710., 720., 730., 740., 750., 760.,\n",
       "       770., 780., 790., 800., 810., 820., 830., 840., 850., 860., 870.,\n",
       "       880., 890., 900., 910., 920., 930., 940., 950., 960., 970., 980.,\n",
       "       990.])"
      ]
     },
     "execution_count": 12,
     "metadata": {},
     "output_type": "execute_result"
    }
   ],
   "source": [
    "env.timesteps"
   ]
  },
  {
   "cell_type": "code",
   "execution_count": 9,
   "metadata": {},
   "outputs": [
    {
     "ename": "IndexError",
     "evalue": "too many indices for array: array is 1-dimensional, but 2 were indexed",
     "output_type": "error",
     "traceback": [
      "\u001b[0;31m---------------------------------------------------------------------------\u001b[0m",
      "\u001b[0;31mIndexError\u001b[0m                                Traceback (most recent call last)",
      "Cell \u001b[0;32mIn[9], line 1\u001b[0m\n\u001b[0;32m----> 1\u001b[0m \u001b[43menv\u001b[49m\u001b[38;5;241;43m.\u001b[39;49m\u001b[43msample_observations\u001b[49m\u001b[43m(\u001b[49m\u001b[43muse_synth_data\u001b[49m\u001b[38;5;241;43m=\u001b[39;49m\u001b[38;5;28;43;01mTrue\u001b[39;49;00m\u001b[43m)\u001b[49m\n",
      "File \u001b[0;32m~/Documents/PlatformIO/Projects/SFSystem_withAV/RLSystem.py:373\u001b[0m, in \u001b[0;36mSFSystemCommunicator.sample_observations\u001b[0;34m(self, use_synth_data)\u001b[0m\n\u001b[1;32m    371\u001b[0m         \u001b[38;5;28mself\u001b[39m\u001b[38;5;241m.\u001b[39mraw_data\u001b[38;5;241m.\u001b[39mappend(\u001b[38;5;28mself\u001b[39m\u001b[38;5;241m.\u001b[39msynth_data())\n\u001b[1;32m    372\u001b[0m \u001b[38;5;28mself\u001b[39m\u001b[38;5;241m.\u001b[39mraw_data\u001b[38;5;241m=\u001b[39mnp\u001b[38;5;241m.\u001b[39marray(\u001b[38;5;28mself\u001b[39m\u001b[38;5;241m.\u001b[39mraw_data)\u001b[38;5;241m.\u001b[39mtranspose()\n\u001b[0;32m--> 373\u001b[0m \u001b[38;5;28mself\u001b[39m\u001b[38;5;241m.\u001b[39mraw_data\u001b[38;5;241m=\u001b[39m\u001b[38;5;28;43mself\u001b[39;49m\u001b[38;5;241;43m.\u001b[39;49m\u001b[43mraw_data\u001b[49m\u001b[43m[\u001b[49m\u001b[43m:\u001b[49m\u001b[43m,\u001b[49m\u001b[38;5;28;43mself\u001b[39;49m\u001b[38;5;241;43m.\u001b[39;49m\u001b[43mchannels_of_interest_inds\u001b[49m\u001b[43m]\u001b[49m\n\u001b[1;32m    374\u001b[0m \u001b[38;5;28mself\u001b[39m\u001b[38;5;241m.\u001b[39mws\u001b[38;5;241m.\u001b[39msend(\u001b[38;5;124m\"\u001b[39m\u001b[38;5;124mstop_data_transfer_from_ads\u001b[39m\u001b[38;5;124m\"\u001b[39m)\n",
      "\u001b[0;31mIndexError\u001b[0m: too many indices for array: array is 1-dimensional, but 2 were indexed"
     ]
    }
   ],
   "source": [
    "env.sample_observations(use_synth_data=True)"
   ]
  },
  {
   "cell_type": "code",
   "execution_count": null,
   "metadata": {},
   "outputs": [],
   "source": [
    "env."
   ]
  },
  {
   "cell_type": "code",
   "execution_count": null,
   "metadata": {},
   "outputs": [],
   "source": []
  },
  {
   "cell_type": "code",
   "execution_count": null,
   "metadata": {},
   "outputs": [],
   "source": []
  },
  {
   "cell_type": "code",
   "execution_count": null,
   "metadata": {},
   "outputs": [],
   "source": []
  },
  {
   "cell_type": "code",
   "execution_count": 7,
   "metadata": {},
   "outputs": [
    {
     "name": "stderr",
     "output_type": "stream",
     "text": [
      "/home/biorp/.local/lib/python3.10/site-packages/stable_baselines3/common/vec_env/patch_gym.py:49: UserWarning:\n",
      "\n",
      "You provided an OpenAI Gym environment. We strongly recommend transitioning to Gymnasium environments. Stable-Baselines3 is automatically wrapping your environments in a compatibility layer, which could potentially cause issues.\n",
      "\n"
     ]
    }
   ],
   "source": [
    "trainer=RLSystem.stable_baselines_model_trainer(initialized_environment=env,\n",
    "                                                          algorithm=sd['algorithm'],\n",
    "                                                          policy='MlpPolicy',\n",
    "                                                          logfn='model_stats.log',\n",
    "                                                          n_steps_per_timestep=sd['n_steps_per_timestep'])"
   ]
  },
  {
   "cell_type": "code",
   "execution_count": 8,
   "metadata": {},
   "outputs": [
    {
     "ename": "KeyboardInterrupt",
     "evalue": "",
     "output_type": "error",
     "traceback": [
      "\u001b[0;31m---------------------------------------------------------------------------\u001b[0m",
      "\u001b[0;31mKeyboardInterrupt\u001b[0m                         Traceback (most recent call last)",
      "Cell \u001b[0;32mIn[8], line 3\u001b[0m\n\u001b[1;32m      1\u001b[0m sd2\u001b[38;5;241m=\u001b[39m{\u001b[38;5;124m'\u001b[39m\u001b[38;5;124mnum_episodes\u001b[39m\u001b[38;5;124m'\u001b[39m: \u001b[38;5;241m5\u001b[39m, \u001b[38;5;124m'\u001b[39m\u001b[38;5;124mlog_model\u001b[39m\u001b[38;5;124m'\u001b[39m: \u001b[38;5;28;01mTrue\u001b[39;00m, \u001b[38;5;124m'\u001b[39m\u001b[38;5;124mn_total_timesteps\u001b[39m\u001b[38;5;124m'\u001b[39m: \u001b[38;5;124m'\u001b[39m\u001b[38;5;124mepisode\u001b[39m\u001b[38;5;124m'\u001b[39m, \u001b[38;5;124m'\u001b[39m\u001b[38;5;124mlog_or_plot_every_n_timesteps\u001b[39m\u001b[38;5;124m'\u001b[39m: \u001b[38;5;241m1\u001b[39m, \u001b[38;5;124m'\u001b[39m\u001b[38;5;124mjnb\u001b[39m\u001b[38;5;124m'\u001b[39m: \u001b[38;5;28;01mFalse\u001b[39;00m}\n\u001b[0;32m----> 3\u001b[0m \u001b[43mtrainer\u001b[49m\u001b[38;5;241;43m.\u001b[39;49m\u001b[43mtrain\u001b[49m\u001b[43m(\u001b[49m\u001b[43mnum_episodes\u001b[49m\u001b[38;5;241;43m=\u001b[39;49m\u001b[43msd2\u001b[49m\u001b[43m[\u001b[49m\u001b[38;5;124;43m'\u001b[39;49m\u001b[38;5;124;43mnum_episodes\u001b[39;49m\u001b[38;5;124;43m'\u001b[39;49m\u001b[43m]\u001b[49m\u001b[43m,\u001b[49m\u001b[43m \u001b[49m\u001b[43mlog_model\u001b[49m\u001b[38;5;241;43m=\u001b[39;49m\u001b[43msd2\u001b[49m\u001b[43m[\u001b[49m\u001b[38;5;124;43m'\u001b[39;49m\u001b[38;5;124;43mlog_model\u001b[39;49m\u001b[38;5;124;43m'\u001b[39;49m\u001b[43m]\u001b[49m\u001b[43m,\u001b[49m\u001b[43mn_total_timesteps\u001b[49m\u001b[38;5;241;43m=\u001b[39;49m\u001b[43msd2\u001b[49m\u001b[43m[\u001b[49m\u001b[38;5;124;43m'\u001b[39;49m\u001b[38;5;124;43mn_total_timesteps\u001b[39;49m\u001b[38;5;124;43m'\u001b[39;49m\u001b[43m]\u001b[49m\u001b[43m,\u001b[49m\n\u001b[1;32m      4\u001b[0m \u001b[43m                 \u001b[49m\u001b[43mlog_or_plot_every_n_timesteps\u001b[49m\u001b[38;5;241;43m=\u001b[39;49m\u001b[43msd2\u001b[49m\u001b[43m[\u001b[49m\u001b[38;5;124;43m'\u001b[39;49m\u001b[38;5;124;43mlog_or_plot_every_n_timesteps\u001b[39;49m\u001b[38;5;124;43m'\u001b[39;49m\u001b[43m]\u001b[49m\u001b[43m,\u001b[49m\u001b[43m \u001b[49m\u001b[43mjnb\u001b[49m\u001b[38;5;241;43m=\u001b[39;49m\u001b[38;5;28;43;01mFalse\u001b[39;49;00m\u001b[43m)\u001b[49m\n",
      "File \u001b[0;32m~/Documents/PlatformIO/Projects/SFSystem_withAV/RLSystem.py:608\u001b[0m, in \u001b[0;36mstable_baselines_model_trainer.train\u001b[0;34m(self, num_episodes, log_model, get_plots, render_plots, n_total_timesteps, log_or_plot_every_n_timesteps, jnb)\u001b[0m\n\u001b[1;32m    606\u001b[0m \u001b[38;5;28mself\u001b[39m\u001b[38;5;241m.\u001b[39mcur_n_timesteps\u001b[38;5;241m=\u001b[39m\u001b[38;5;241m0\u001b[39m\n\u001b[1;32m    607\u001b[0m \u001b[38;5;28;01mwhile\u001b[39;00m \u001b[38;5;28mself\u001b[39m\u001b[38;5;241m.\u001b[39mcur_n_timesteps\u001b[38;5;241m<\u001b[39m\u001b[38;5;28mint\u001b[39m(n_total_timesteps): \u001b[38;5;66;03m#here-for A2C\u001b[39;00m\n\u001b[0;32m--> 608\u001b[0m     \u001b[38;5;28;43mself\u001b[39;49m\u001b[38;5;241;43m.\u001b[39;49m\u001b[43mmodel\u001b[49m\u001b[38;5;241;43m.\u001b[39;49m\u001b[43mlearn\u001b[49m\u001b[43m(\u001b[49m\u001b[43mtotal_timesteps\u001b[49m\u001b[38;5;241;43m=\u001b[39;49m\u001b[43mlog_or_plot_every_n_timesteps\u001b[49m\u001b[43m)\u001b[49m\n\u001b[1;32m    609\u001b[0m     \u001b[38;5;28mself\u001b[39m\u001b[38;5;241m.\u001b[39mcur_n_timesteps\u001b[38;5;241m+\u001b[39m\u001b[38;5;241m=\u001b[39mlog_or_plot_every_n_timesteps\n\u001b[1;32m    610\u001b[0m     \u001b[38;5;28;01mif\u001b[39;00m render_plots:\n",
      "File \u001b[0;32m~/.local/lib/python3.10/site-packages/stable_baselines3/a2c/a2c.py:201\u001b[0m, in \u001b[0;36mA2C.learn\u001b[0;34m(self, total_timesteps, callback, log_interval, tb_log_name, reset_num_timesteps, progress_bar)\u001b[0m\n\u001b[1;32m    192\u001b[0m \u001b[38;5;28;01mdef\u001b[39;00m \u001b[38;5;21mlearn\u001b[39m(\n\u001b[1;32m    193\u001b[0m     \u001b[38;5;28mself\u001b[39m: SelfA2C,\n\u001b[1;32m    194\u001b[0m     total_timesteps: \u001b[38;5;28mint\u001b[39m,\n\u001b[0;32m   (...)\u001b[0m\n\u001b[1;32m    199\u001b[0m     progress_bar: \u001b[38;5;28mbool\u001b[39m \u001b[38;5;241m=\u001b[39m \u001b[38;5;28;01mFalse\u001b[39;00m,\n\u001b[1;32m    200\u001b[0m ) \u001b[38;5;241m-\u001b[39m\u001b[38;5;241m>\u001b[39m SelfA2C:\n\u001b[0;32m--> 201\u001b[0m     \u001b[38;5;28;01mreturn\u001b[39;00m \u001b[38;5;28;43msuper\u001b[39;49m\u001b[43m(\u001b[49m\u001b[43m)\u001b[49m\u001b[38;5;241;43m.\u001b[39;49m\u001b[43mlearn\u001b[49m\u001b[43m(\u001b[49m\n\u001b[1;32m    202\u001b[0m \u001b[43m        \u001b[49m\u001b[43mtotal_timesteps\u001b[49m\u001b[38;5;241;43m=\u001b[39;49m\u001b[43mtotal_timesteps\u001b[49m\u001b[43m,\u001b[49m\n\u001b[1;32m    203\u001b[0m \u001b[43m        \u001b[49m\u001b[43mcallback\u001b[49m\u001b[38;5;241;43m=\u001b[39;49m\u001b[43mcallback\u001b[49m\u001b[43m,\u001b[49m\n\u001b[1;32m    204\u001b[0m \u001b[43m        \u001b[49m\u001b[43mlog_interval\u001b[49m\u001b[38;5;241;43m=\u001b[39;49m\u001b[43mlog_interval\u001b[49m\u001b[43m,\u001b[49m\n\u001b[1;32m    205\u001b[0m \u001b[43m        \u001b[49m\u001b[43mtb_log_name\u001b[49m\u001b[38;5;241;43m=\u001b[39;49m\u001b[43mtb_log_name\u001b[49m\u001b[43m,\u001b[49m\n\u001b[1;32m    206\u001b[0m \u001b[43m        \u001b[49m\u001b[43mreset_num_timesteps\u001b[49m\u001b[38;5;241;43m=\u001b[39;49m\u001b[43mreset_num_timesteps\u001b[49m\u001b[43m,\u001b[49m\n\u001b[1;32m    207\u001b[0m \u001b[43m        \u001b[49m\u001b[43mprogress_bar\u001b[49m\u001b[38;5;241;43m=\u001b[39;49m\u001b[43mprogress_bar\u001b[49m\u001b[43m,\u001b[49m\n\u001b[1;32m    208\u001b[0m \u001b[43m    \u001b[49m\u001b[43m)\u001b[49m\n",
      "File \u001b[0;32m~/.local/lib/python3.10/site-packages/stable_baselines3/common/on_policy_algorithm.py:264\u001b[0m, in \u001b[0;36mOnPolicyAlgorithm.learn\u001b[0;34m(self, total_timesteps, callback, log_interval, tb_log_name, reset_num_timesteps, progress_bar)\u001b[0m\n\u001b[1;32m    253\u001b[0m \u001b[38;5;28;01mdef\u001b[39;00m \u001b[38;5;21mlearn\u001b[39m(\n\u001b[1;32m    254\u001b[0m     \u001b[38;5;28mself\u001b[39m: SelfOnPolicyAlgorithm,\n\u001b[1;32m    255\u001b[0m     total_timesteps: \u001b[38;5;28mint\u001b[39m,\n\u001b[0;32m   (...)\u001b[0m\n\u001b[1;32m    260\u001b[0m     progress_bar: \u001b[38;5;28mbool\u001b[39m \u001b[38;5;241m=\u001b[39m \u001b[38;5;28;01mFalse\u001b[39;00m,\n\u001b[1;32m    261\u001b[0m ) \u001b[38;5;241m-\u001b[39m\u001b[38;5;241m>\u001b[39m SelfOnPolicyAlgorithm:\n\u001b[1;32m    262\u001b[0m     iteration \u001b[38;5;241m=\u001b[39m \u001b[38;5;241m0\u001b[39m\n\u001b[0;32m--> 264\u001b[0m     total_timesteps, callback \u001b[38;5;241m=\u001b[39m \u001b[38;5;28;43mself\u001b[39;49m\u001b[38;5;241;43m.\u001b[39;49m\u001b[43m_setup_learn\u001b[49m\u001b[43m(\u001b[49m\n\u001b[1;32m    265\u001b[0m \u001b[43m        \u001b[49m\u001b[43mtotal_timesteps\u001b[49m\u001b[43m,\u001b[49m\n\u001b[1;32m    266\u001b[0m \u001b[43m        \u001b[49m\u001b[43mcallback\u001b[49m\u001b[43m,\u001b[49m\n\u001b[1;32m    267\u001b[0m \u001b[43m        \u001b[49m\u001b[43mreset_num_timesteps\u001b[49m\u001b[43m,\u001b[49m\n\u001b[1;32m    268\u001b[0m \u001b[43m        \u001b[49m\u001b[43mtb_log_name\u001b[49m\u001b[43m,\u001b[49m\n\u001b[1;32m    269\u001b[0m \u001b[43m        \u001b[49m\u001b[43mprogress_bar\u001b[49m\u001b[43m,\u001b[49m\n\u001b[1;32m    270\u001b[0m \u001b[43m    \u001b[49m\u001b[43m)\u001b[49m\n\u001b[1;32m    272\u001b[0m     callback\u001b[38;5;241m.\u001b[39mon_training_start(\u001b[38;5;28mlocals\u001b[39m(), \u001b[38;5;28mglobals\u001b[39m())\n\u001b[1;32m    274\u001b[0m     \u001b[38;5;28;01massert\u001b[39;00m \u001b[38;5;28mself\u001b[39m\u001b[38;5;241m.\u001b[39menv \u001b[38;5;129;01mis\u001b[39;00m \u001b[38;5;129;01mnot\u001b[39;00m \u001b[38;5;28;01mNone\u001b[39;00m\n",
      "File \u001b[0;32m~/.local/lib/python3.10/site-packages/stable_baselines3/common/base_class.py:423\u001b[0m, in \u001b[0;36mBaseAlgorithm._setup_learn\u001b[0;34m(self, total_timesteps, callback, reset_num_timesteps, tb_log_name, progress_bar)\u001b[0m\n\u001b[1;32m    421\u001b[0m \u001b[38;5;28;01mif\u001b[39;00m reset_num_timesteps \u001b[38;5;129;01mor\u001b[39;00m \u001b[38;5;28mself\u001b[39m\u001b[38;5;241m.\u001b[39m_last_obs \u001b[38;5;129;01mis\u001b[39;00m \u001b[38;5;28;01mNone\u001b[39;00m:\n\u001b[1;32m    422\u001b[0m     \u001b[38;5;28;01massert\u001b[39;00m \u001b[38;5;28mself\u001b[39m\u001b[38;5;241m.\u001b[39menv \u001b[38;5;129;01mis\u001b[39;00m \u001b[38;5;129;01mnot\u001b[39;00m \u001b[38;5;28;01mNone\u001b[39;00m\n\u001b[0;32m--> 423\u001b[0m     \u001b[38;5;28mself\u001b[39m\u001b[38;5;241m.\u001b[39m_last_obs \u001b[38;5;241m=\u001b[39m \u001b[38;5;28;43mself\u001b[39;49m\u001b[38;5;241;43m.\u001b[39;49m\u001b[43menv\u001b[49m\u001b[38;5;241;43m.\u001b[39;49m\u001b[43mreset\u001b[49m\u001b[43m(\u001b[49m\u001b[43m)\u001b[49m  \u001b[38;5;66;03m# type: ignore[assignment]\u001b[39;00m\n\u001b[1;32m    424\u001b[0m     \u001b[38;5;28mself\u001b[39m\u001b[38;5;241m.\u001b[39m_last_episode_starts \u001b[38;5;241m=\u001b[39m np\u001b[38;5;241m.\u001b[39mones((\u001b[38;5;28mself\u001b[39m\u001b[38;5;241m.\u001b[39menv\u001b[38;5;241m.\u001b[39mnum_envs,), dtype\u001b[38;5;241m=\u001b[39m\u001b[38;5;28mbool\u001b[39m)\n\u001b[1;32m    425\u001b[0m     \u001b[38;5;66;03m# Retrieve unnormalized observation for saving into the buffer\u001b[39;00m\n",
      "File \u001b[0;32m~/.local/lib/python3.10/site-packages/stable_baselines3/common/vec_env/dummy_vec_env.py:79\u001b[0m, in \u001b[0;36mDummyVecEnv.reset\u001b[0;34m(self)\u001b[0m\n\u001b[1;32m     77\u001b[0m \u001b[38;5;28;01mfor\u001b[39;00m env_idx \u001b[38;5;129;01min\u001b[39;00m \u001b[38;5;28mrange\u001b[39m(\u001b[38;5;28mself\u001b[39m\u001b[38;5;241m.\u001b[39mnum_envs):\n\u001b[1;32m     78\u001b[0m     maybe_options \u001b[38;5;241m=\u001b[39m {\u001b[38;5;124m\"\u001b[39m\u001b[38;5;124moptions\u001b[39m\u001b[38;5;124m\"\u001b[39m: \u001b[38;5;28mself\u001b[39m\u001b[38;5;241m.\u001b[39m_options[env_idx]} \u001b[38;5;28;01mif\u001b[39;00m \u001b[38;5;28mself\u001b[39m\u001b[38;5;241m.\u001b[39m_options[env_idx] \u001b[38;5;28;01melse\u001b[39;00m {}\n\u001b[0;32m---> 79\u001b[0m     obs, \u001b[38;5;28mself\u001b[39m\u001b[38;5;241m.\u001b[39mreset_infos[env_idx] \u001b[38;5;241m=\u001b[39m \u001b[38;5;28;43mself\u001b[39;49m\u001b[38;5;241;43m.\u001b[39;49m\u001b[43menvs\u001b[49m\u001b[43m[\u001b[49m\u001b[43menv_idx\u001b[49m\u001b[43m]\u001b[49m\u001b[38;5;241;43m.\u001b[39;49m\u001b[43mreset\u001b[49m\u001b[43m(\u001b[49m\u001b[43mseed\u001b[49m\u001b[38;5;241;43m=\u001b[39;49m\u001b[38;5;28;43mself\u001b[39;49m\u001b[38;5;241;43m.\u001b[39;49m\u001b[43m_seeds\u001b[49m\u001b[43m[\u001b[49m\u001b[43menv_idx\u001b[49m\u001b[43m]\u001b[49m\u001b[43m,\u001b[49m\u001b[43m \u001b[49m\u001b[38;5;241;43m*\u001b[39;49m\u001b[38;5;241;43m*\u001b[39;49m\u001b[43mmaybe_options\u001b[49m\u001b[43m)\u001b[49m\n\u001b[1;32m     80\u001b[0m     \u001b[38;5;28;01mif\u001b[39;00m \u001b[38;5;28mlen\u001b[39m(obs)\u001b[38;5;241m>\u001b[39m\u001b[38;5;241m1\u001b[39m: \u001b[38;5;66;03m#here added\u001b[39;00m\n\u001b[1;32m     81\u001b[0m         obs\u001b[38;5;241m=\u001b[39mobs[\u001b[38;5;241m0\u001b[39m] \u001b[38;5;66;03m#here added\u001b[39;00m\n",
      "File \u001b[0;32m~/.local/lib/python3.10/site-packages/stable_baselines3/common/monitor.py:83\u001b[0m, in \u001b[0;36mMonitor.reset\u001b[0;34m(self, **kwargs)\u001b[0m\n\u001b[1;32m     81\u001b[0m         \u001b[38;5;28;01mraise\u001b[39;00m \u001b[38;5;167;01mValueError\u001b[39;00m(\u001b[38;5;124mf\u001b[39m\u001b[38;5;124m\"\u001b[39m\u001b[38;5;124mExpected you to pass keyword argument \u001b[39m\u001b[38;5;132;01m{\u001b[39;00mkey\u001b[38;5;132;01m}\u001b[39;00m\u001b[38;5;124m into reset\u001b[39m\u001b[38;5;124m\"\u001b[39m)\n\u001b[1;32m     82\u001b[0m     \u001b[38;5;28mself\u001b[39m\u001b[38;5;241m.\u001b[39mcurrent_reset_info[key] \u001b[38;5;241m=\u001b[39m value\n\u001b[0;32m---> 83\u001b[0m \u001b[38;5;28;01mreturn\u001b[39;00m \u001b[38;5;28;43mself\u001b[39;49m\u001b[38;5;241;43m.\u001b[39;49m\u001b[43menv\u001b[49m\u001b[38;5;241;43m.\u001b[39;49m\u001b[43mreset\u001b[49m\u001b[43m(\u001b[49m\u001b[38;5;241;43m*\u001b[39;49m\u001b[38;5;241;43m*\u001b[39;49m\u001b[43mkwargs\u001b[49m\u001b[43m)\u001b[49m\n",
      "File \u001b[0;32m~/.local/lib/python3.10/site-packages/shimmy/openai_gym_compatibility.py:235\u001b[0m, in \u001b[0;36mGymV21CompatibilityV0.reset\u001b[0;34m(self, seed, options)\u001b[0m\n\u001b[1;32m    230\u001b[0m \u001b[38;5;28;01mif\u001b[39;00m options \u001b[38;5;129;01mis\u001b[39;00m \u001b[38;5;129;01mnot\u001b[39;00m \u001b[38;5;28;01mNone\u001b[39;00m:\n\u001b[1;32m    231\u001b[0m     warn(\n\u001b[1;32m    232\u001b[0m         \u001b[38;5;124mf\u001b[39m\u001b[38;5;124m\"\u001b[39m\u001b[38;5;124mGym v21 environment do not accept options as a reset parameter, options=\u001b[39m\u001b[38;5;132;01m{\u001b[39;00moptions\u001b[38;5;132;01m}\u001b[39;00m\u001b[38;5;124m\"\u001b[39m\n\u001b[1;32m    233\u001b[0m     )\n\u001b[0;32m--> 235\u001b[0m obs \u001b[38;5;241m=\u001b[39m \u001b[38;5;28;43mself\u001b[39;49m\u001b[38;5;241;43m.\u001b[39;49m\u001b[43mgym_env\u001b[49m\u001b[38;5;241;43m.\u001b[39;49m\u001b[43mreset\u001b[49m\u001b[43m(\u001b[49m\u001b[43m)\u001b[49m\n\u001b[1;32m    237\u001b[0m \u001b[38;5;28;01mif\u001b[39;00m \u001b[38;5;28mself\u001b[39m\u001b[38;5;241m.\u001b[39mrender_mode \u001b[38;5;241m==\u001b[39m \u001b[38;5;124m\"\u001b[39m\u001b[38;5;124mhuman\u001b[39m\u001b[38;5;124m\"\u001b[39m:\n\u001b[1;32m    238\u001b[0m     \u001b[38;5;28mself\u001b[39m\u001b[38;5;241m.\u001b[39mrender()\n",
      "File \u001b[0;32m~/.local/lib/python3.10/site-packages/gym/core.py:323\u001b[0m, in \u001b[0;36mWrapper.reset\u001b[0;34m(self, **kwargs)\u001b[0m\n\u001b[1;32m    321\u001b[0m \u001b[38;5;28;01mdef\u001b[39;00m \u001b[38;5;21mreset\u001b[39m(\u001b[38;5;28mself\u001b[39m, \u001b[38;5;241m*\u001b[39m\u001b[38;5;241m*\u001b[39mkwargs) \u001b[38;5;241m-\u001b[39m\u001b[38;5;241m>\u001b[39m Tuple[ObsType, \u001b[38;5;28mdict\u001b[39m]:\n\u001b[1;32m    322\u001b[0m \u001b[38;5;250m    \u001b[39m\u001b[38;5;124;03m\"\"\"Resets the environment with kwargs.\"\"\"\u001b[39;00m\n\u001b[0;32m--> 323\u001b[0m     \u001b[38;5;28;01mreturn\u001b[39;00m \u001b[38;5;28;43mself\u001b[39;49m\u001b[38;5;241;43m.\u001b[39;49m\u001b[43menv\u001b[49m\u001b[38;5;241;43m.\u001b[39;49m\u001b[43mreset\u001b[49m\u001b[43m(\u001b[49m\u001b[38;5;241;43m*\u001b[39;49m\u001b[38;5;241;43m*\u001b[39;49m\u001b[43mkwargs\u001b[49m\u001b[43m)\u001b[49m\n",
      "File \u001b[0;32m~/.local/lib/python3.10/site-packages/gym/core.py:379\u001b[0m, in \u001b[0;36mObservationWrapper.reset\u001b[0;34m(self, **kwargs)\u001b[0m\n\u001b[1;32m    377\u001b[0m \u001b[38;5;28;01mdef\u001b[39;00m \u001b[38;5;21mreset\u001b[39m(\u001b[38;5;28mself\u001b[39m, \u001b[38;5;241m*\u001b[39m\u001b[38;5;241m*\u001b[39mkwargs):\n\u001b[1;32m    378\u001b[0m \u001b[38;5;250m    \u001b[39m\u001b[38;5;124;03m\"\"\"Resets the environment, returning a modified observation using :meth:`self.observation`.\"\"\"\u001b[39;00m\n\u001b[0;32m--> 379\u001b[0m     obs, info \u001b[38;5;241m=\u001b[39m \u001b[38;5;28;43mself\u001b[39;49m\u001b[38;5;241;43m.\u001b[39;49m\u001b[43menv\u001b[49m\u001b[38;5;241;43m.\u001b[39;49m\u001b[43mreset\u001b[49m\u001b[43m(\u001b[49m\u001b[38;5;241;43m*\u001b[39;49m\u001b[38;5;241;43m*\u001b[39;49m\u001b[43mkwargs\u001b[49m\u001b[43m)\u001b[49m\n\u001b[1;32m    380\u001b[0m     \u001b[38;5;28;01mreturn\u001b[39;00m \u001b[38;5;28mself\u001b[39m\u001b[38;5;241m.\u001b[39mobservation(obs), info\n",
      "File \u001b[0;32m~/Documents/PlatformIO/Projects/SFSystem_withAV/RLSystem.py:465\u001b[0m, in \u001b[0;36mSFSystemCommunicator.reset\u001b[0;34m(self)\u001b[0m\n\u001b[1;32m    463\u001b[0m     \u001b[38;5;28mself\u001b[39m\u001b[38;5;241m.\u001b[39mprevious_episodes_max_rewards\u001b[38;5;241m.\u001b[39mappend(\u001b[38;5;28mself\u001b[39m\u001b[38;5;241m.\u001b[39mepisode_max_reward)\n\u001b[1;32m    464\u001b[0m     \u001b[38;5;28mself\u001b[39m\u001b[38;5;241m.\u001b[39mcur_episode_rewards\u001b[38;5;241m=\u001b[39m[]\n\u001b[0;32m--> 465\u001b[0m \u001b[43mtime\u001b[49m\u001b[38;5;241;43m.\u001b[39;49m\u001b[43msleep\u001b[49m\u001b[43m(\u001b[49m\u001b[38;5;28;43mself\u001b[39;49m\u001b[38;5;241;43m.\u001b[39;49m\u001b[43mstep_stim_length\u001b[49m\u001b[43m)\u001b[49m \u001b[38;5;66;03m#prepare the brain for the next episode \u001b[39;00m\n\u001b[1;32m    466\u001b[0m \u001b[38;5;28;01mreturn\u001b[39;00m new_observations, {}\n",
      "\u001b[0;31mKeyboardInterrupt\u001b[0m: "
     ]
    }
   ],
   "source": [
    "sd2={'num_episodes': 5, 'log_model': True, 'n_total_timesteps': 'episode', 'log_or_plot_every_n_timesteps': 1, 'jnb': False}\n",
    "\n",
    "trainer.train(num_episodes=sd2['num_episodes'], log_model=sd2['log_model'],n_total_timesteps=sd2['n_total_timesteps'],\n",
    "                 log_or_plot_every_n_timesteps=sd2['log_or_plot_every_n_timesteps'], jnb=False)"
   ]
  },
  {
   "cell_type": "code",
   "execution_count": 75,
   "metadata": {},
   "outputs": [
    {
     "ename": "TypeError",
     "evalue": "'NoneType' object is not iterable",
     "output_type": "error",
     "traceback": [
      "\u001b[0;31m---------------------------------------------------------------------------\u001b[0m",
      "\u001b[0;31mTypeError\u001b[0m                                 Traceback (most recent call last)",
      "Cell \u001b[0;32mIn[75], line 1\u001b[0m\n\u001b[0;32m----> 1\u001b[0m \u001b[43mtrainer\u001b[49m\u001b[38;5;241;43m.\u001b[39;49m\u001b[43mclose_env\u001b[49m\u001b[43m(\u001b[49m\u001b[43m)\u001b[49m\n",
      "File \u001b[0;32m~/Documents/PlatformIO/Projects/SFSystem_withAV/RLSystem.py:600\u001b[0m, in \u001b[0;36mstable_baselines_model_trainer.close_env\u001b[0;34m(self)\u001b[0m\n\u001b[1;32m    599\u001b[0m \u001b[38;5;28;01mdef\u001b[39;00m \u001b[38;5;21mclose_env\u001b[39m(\u001b[38;5;28mself\u001b[39m):\n\u001b[0;32m--> 600\u001b[0m     \u001b[38;5;28;43mself\u001b[39;49m\u001b[38;5;241;43m.\u001b[39;49m\u001b[43menv\u001b[49m\u001b[38;5;241;43m.\u001b[39;49m\u001b[43mclose\u001b[49m\u001b[43m(\u001b[49m\u001b[43m)\u001b[49m\n",
      "File \u001b[0;32m~/.local/lib/python3.10/site-packages/gym/core.py:333\u001b[0m, in \u001b[0;36mWrapper.close\u001b[0;34m(self)\u001b[0m\n\u001b[1;32m    331\u001b[0m \u001b[38;5;28;01mdef\u001b[39;00m \u001b[38;5;21mclose\u001b[39m(\u001b[38;5;28mself\u001b[39m):\n\u001b[1;32m    332\u001b[0m \u001b[38;5;250m    \u001b[39m\u001b[38;5;124;03m\"\"\"Closes the environment.\"\"\"\u001b[39;00m\n\u001b[0;32m--> 333\u001b[0m     \u001b[38;5;28;01mreturn\u001b[39;00m \u001b[38;5;28;43mself\u001b[39;49m\u001b[38;5;241;43m.\u001b[39;49m\u001b[43menv\u001b[49m\u001b[38;5;241;43m.\u001b[39;49m\u001b[43mclose\u001b[49m\u001b[43m(\u001b[49m\u001b[43m)\u001b[49m\n",
      "File \u001b[0;32m~/.local/lib/python3.10/site-packages/gym/core.py:333\u001b[0m, in \u001b[0;36mWrapper.close\u001b[0;34m(self)\u001b[0m\n\u001b[1;32m    331\u001b[0m \u001b[38;5;28;01mdef\u001b[39;00m \u001b[38;5;21mclose\u001b[39m(\u001b[38;5;28mself\u001b[39m):\n\u001b[1;32m    332\u001b[0m \u001b[38;5;250m    \u001b[39m\u001b[38;5;124;03m\"\"\"Closes the environment.\"\"\"\u001b[39;00m\n\u001b[0;32m--> 333\u001b[0m     \u001b[38;5;28;01mreturn\u001b[39;00m \u001b[38;5;28;43mself\u001b[39;49m\u001b[38;5;241;43m.\u001b[39;49m\u001b[43menv\u001b[49m\u001b[38;5;241;43m.\u001b[39;49m\u001b[43mclose\u001b[49m\u001b[43m(\u001b[49m\u001b[43m)\u001b[49m\n",
      "File \u001b[0;32m~/Documents/PlatformIO/Projects/SFSystem_withAV/RLSystem.py:521\u001b[0m, in \u001b[0;36mSFSystemCommunicator.close\u001b[0;34m(self, clear_log)\u001b[0m\n\u001b[1;32m    519\u001b[0m \u001b[38;5;28;01mdef\u001b[39;00m \u001b[38;5;21mclose\u001b[39m(\u001b[38;5;28mself\u001b[39m, clear_log\u001b[38;5;241m=\u001b[39m\u001b[38;5;28;01mFalse\u001b[39;00m):\n\u001b[1;32m    520\u001b[0m     \u001b[38;5;28;01mif\u001b[39;00m \u001b[38;5;28mself\u001b[39m\u001b[38;5;241m.\u001b[39mlog_best_actions_final:\n\u001b[0;32m--> 521\u001b[0m         actionstring\u001b[38;5;241m=\u001b[39m\u001b[38;5;28;43mself\u001b[39;49m\u001b[38;5;241;43m.\u001b[39;49m\u001b[43mget_json_string_from_ordered_dict\u001b[49m\u001b[43m(\u001b[49m\u001b[38;5;28;43mself\u001b[39;49m\u001b[38;5;241;43m.\u001b[39;49m\u001b[43mbest_action_overall\u001b[49m\u001b[43m)\u001b[49m\n\u001b[1;32m    522\u001b[0m         \u001b[38;5;28mself\u001b[39m\u001b[38;5;241m.\u001b[39mwrite_tolog(json\u001b[38;5;241m.\u001b[39mdumps({\u001b[38;5;124m'\u001b[39m\u001b[38;5;124mBest action across episodes reward\u001b[39m\u001b[38;5;124m'\u001b[39m:\u001b[38;5;28mself\u001b[39m\u001b[38;5;241m.\u001b[39moverall_max_reward}))\n\u001b[1;32m    523\u001b[0m         \u001b[38;5;28mself\u001b[39m\u001b[38;5;241m.\u001b[39mwrite_tolog(actionstring)\n",
      "File \u001b[0;32m~/Documents/PlatformIO/Projects/SFSystem_withAV/RLSystem.py:469\u001b[0m, in \u001b[0;36mSFSystemCommunicator.get_json_string_from_ordered_dict\u001b[0;34m(self, od)\u001b[0m\n\u001b[1;32m    468\u001b[0m \u001b[38;5;28;01mdef\u001b[39;00m \u001b[38;5;21mget_json_string_from_ordered_dict\u001b[39m(\u001b[38;5;28mself\u001b[39m, od):\n\u001b[0;32m--> 469\u001b[0m     od\u001b[38;5;241m=\u001b[39m\u001b[38;5;28;43mdict\u001b[39;49m\u001b[43m(\u001b[49m\u001b[43mod\u001b[49m\u001b[43m)\u001b[49m\n\u001b[1;32m    470\u001b[0m     \u001b[38;5;28;01mfor\u001b[39;00m key, value \u001b[38;5;129;01min\u001b[39;00m od\u001b[38;5;241m.\u001b[39mitems():\n\u001b[1;32m    471\u001b[0m         od[key]\u001b[38;5;241m=\u001b[39mvalue\u001b[38;5;241m.\u001b[39mtolist()\n",
      "\u001b[0;31mTypeError\u001b[0m: 'NoneType' object is not iterable"
     ]
    }
   ],
   "source": [
    "trainer.close_env()"
   ]
  },
  {
   "cell_type": "code",
   "execution_count": 76,
   "metadata": {},
   "outputs": [
    {
     "ename": "TypeError",
     "evalue": "'NoneType' object is not iterable",
     "output_type": "error",
     "traceback": [
      "\u001b[0;31m---------------------------------------------------------------------------\u001b[0m",
      "\u001b[0;31mTypeError\u001b[0m                                 Traceback (most recent call last)",
      "Cell \u001b[0;32mIn[76], line 1\u001b[0m\n\u001b[0;32m----> 1\u001b[0m \u001b[43menv\u001b[49m\u001b[38;5;241;43m.\u001b[39;49m\u001b[43mclose\u001b[49m\u001b[43m(\u001b[49m\u001b[43m)\u001b[49m\n",
      "File \u001b[0;32m~/Documents/PlatformIO/Projects/SFSystem_withAV/RLSystem.py:521\u001b[0m, in \u001b[0;36mSFSystemCommunicator.close\u001b[0;34m(self, clear_log)\u001b[0m\n\u001b[1;32m    519\u001b[0m \u001b[38;5;28;01mdef\u001b[39;00m \u001b[38;5;21mclose\u001b[39m(\u001b[38;5;28mself\u001b[39m, clear_log\u001b[38;5;241m=\u001b[39m\u001b[38;5;28;01mFalse\u001b[39;00m):\n\u001b[1;32m    520\u001b[0m     \u001b[38;5;28;01mif\u001b[39;00m \u001b[38;5;28mself\u001b[39m\u001b[38;5;241m.\u001b[39mlog_best_actions_final:\n\u001b[0;32m--> 521\u001b[0m         actionstring\u001b[38;5;241m=\u001b[39m\u001b[38;5;28;43mself\u001b[39;49m\u001b[38;5;241;43m.\u001b[39;49m\u001b[43mget_json_string_from_ordered_dict\u001b[49m\u001b[43m(\u001b[49m\u001b[38;5;28;43mself\u001b[39;49m\u001b[38;5;241;43m.\u001b[39;49m\u001b[43mbest_action_overall\u001b[49m\u001b[43m)\u001b[49m\n\u001b[1;32m    522\u001b[0m         \u001b[38;5;28mself\u001b[39m\u001b[38;5;241m.\u001b[39mwrite_tolog(json\u001b[38;5;241m.\u001b[39mdumps({\u001b[38;5;124m'\u001b[39m\u001b[38;5;124mBest action across episodes reward\u001b[39m\u001b[38;5;124m'\u001b[39m:\u001b[38;5;28mself\u001b[39m\u001b[38;5;241m.\u001b[39moverall_max_reward}))\n\u001b[1;32m    523\u001b[0m         \u001b[38;5;28mself\u001b[39m\u001b[38;5;241m.\u001b[39mwrite_tolog(actionstring)\n",
      "File \u001b[0;32m~/Documents/PlatformIO/Projects/SFSystem_withAV/RLSystem.py:469\u001b[0m, in \u001b[0;36mSFSystemCommunicator.get_json_string_from_ordered_dict\u001b[0;34m(self, od)\u001b[0m\n\u001b[1;32m    468\u001b[0m \u001b[38;5;28;01mdef\u001b[39;00m \u001b[38;5;21mget_json_string_from_ordered_dict\u001b[39m(\u001b[38;5;28mself\u001b[39m, od):\n\u001b[0;32m--> 469\u001b[0m     od\u001b[38;5;241m=\u001b[39m\u001b[38;5;28;43mdict\u001b[39;49m\u001b[43m(\u001b[49m\u001b[43mod\u001b[49m\u001b[43m)\u001b[49m\n\u001b[1;32m    470\u001b[0m     \u001b[38;5;28;01mfor\u001b[39;00m key, value \u001b[38;5;129;01min\u001b[39;00m od\u001b[38;5;241m.\u001b[39mitems():\n\u001b[1;32m    471\u001b[0m         od[key]\u001b[38;5;241m=\u001b[39mvalue\u001b[38;5;241m.\u001b[39mtolist()\n",
      "\u001b[0;31mTypeError\u001b[0m: 'NoneType' object is not iterable"
     ]
    }
   ],
   "source": [
    "env.close()"
   ]
  },
  {
   "cell_type": "code",
   "execution_count": 63,
   "metadata": {},
   "outputs": [],
   "source": [
    "trainer.train(num_episodes=sd['num_episodes'], log_model=sd['log_model'],n_total_timesteps=sd['n_total_timesteps'],\n",
    "                        log_or_plot_every_n_timesteps=sd['log_or_plot_every_n_timesteps'], jnb=False)"
   ]
  },
  {
   "cell_type": "code",
   "execution_count": 64,
   "metadata": {},
   "outputs": [
    {
     "data": {
      "text/plain": [
       "5"
      ]
     },
     "execution_count": 64,
     "metadata": {},
     "output_type": "execute_result"
    }
   ],
   "source": [
    "sd['num_episodes']"
   ]
  },
  {
   "cell_type": "code",
   "execution_count": 65,
   "metadata": {},
   "outputs": [
    {
     "data": {
      "text/plain": [
       "True"
      ]
     },
     "execution_count": 65,
     "metadata": {},
     "output_type": "execute_result"
    }
   ],
   "source": [
    "sd['log_model']"
   ]
  },
  {
   "cell_type": "code",
   "execution_count": 66,
   "metadata": {},
   "outputs": [
    {
     "data": {
      "text/plain": [
       "0"
      ]
     },
     "execution_count": 66,
     "metadata": {},
     "output_type": "execute_result"
    }
   ],
   "source": [
    "sd['n_total_timesteps']"
   ]
  },
  {
   "cell_type": "code",
   "execution_count": null,
   "metadata": {},
   "outputs": [],
   "source": []
  },
  {
   "cell_type": "code",
   "execution_count": 50,
   "metadata": {},
   "outputs": [
    {
     "data": {
      "application/vnd.plotly.v1+json": {
       "config": {
        "plotlyServerURL": "https://plot.ly"
       },
       "data": [
        {
         "mode": "lines+markers",
         "name": "Current episode rewards",
         "type": "scatter",
         "x": [
          0
         ],
         "xaxis": "x",
         "y": [
          3.958754301071167
         ],
         "yaxis": "y"
        },
        {
         "mode": "lines+markers",
         "name": "Previous episode max rewards",
         "type": "scatter",
         "x": [],
         "xaxis": "x2",
         "y": [],
         "yaxis": "y2"
        },
        {
         "mode": "lines+markers",
         "name": "Previous episode total rewards",
         "type": "scatter",
         "x": [],
         "xaxis": "x3",
         "y": [],
         "yaxis": "y3"
        }
       ],
       "layout": {
        "height": 500,
        "template": {
         "data": {
          "bar": [
           {
            "error_x": {
             "color": "#2a3f5f"
            },
            "error_y": {
             "color": "#2a3f5f"
            },
            "marker": {
             "line": {
              "color": "#E5ECF6",
              "width": 0.5
             },
             "pattern": {
              "fillmode": "overlay",
              "size": 10,
              "solidity": 0.2
             }
            },
            "type": "bar"
           }
          ],
          "barpolar": [
           {
            "marker": {
             "line": {
              "color": "#E5ECF6",
              "width": 0.5
             },
             "pattern": {
              "fillmode": "overlay",
              "size": 10,
              "solidity": 0.2
             }
            },
            "type": "barpolar"
           }
          ],
          "carpet": [
           {
            "aaxis": {
             "endlinecolor": "#2a3f5f",
             "gridcolor": "white",
             "linecolor": "white",
             "minorgridcolor": "white",
             "startlinecolor": "#2a3f5f"
            },
            "baxis": {
             "endlinecolor": "#2a3f5f",
             "gridcolor": "white",
             "linecolor": "white",
             "minorgridcolor": "white",
             "startlinecolor": "#2a3f5f"
            },
            "type": "carpet"
           }
          ],
          "choropleth": [
           {
            "colorbar": {
             "outlinewidth": 0,
             "ticks": ""
            },
            "type": "choropleth"
           }
          ],
          "contour": [
           {
            "colorbar": {
             "outlinewidth": 0,
             "ticks": ""
            },
            "colorscale": [
             [
              0,
              "#0d0887"
             ],
             [
              0.1111111111111111,
              "#46039f"
             ],
             [
              0.2222222222222222,
              "#7201a8"
             ],
             [
              0.3333333333333333,
              "#9c179e"
             ],
             [
              0.4444444444444444,
              "#bd3786"
             ],
             [
              0.5555555555555556,
              "#d8576b"
             ],
             [
              0.6666666666666666,
              "#ed7953"
             ],
             [
              0.7777777777777778,
              "#fb9f3a"
             ],
             [
              0.8888888888888888,
              "#fdca26"
             ],
             [
              1,
              "#f0f921"
             ]
            ],
            "type": "contour"
           }
          ],
          "contourcarpet": [
           {
            "colorbar": {
             "outlinewidth": 0,
             "ticks": ""
            },
            "type": "contourcarpet"
           }
          ],
          "heatmap": [
           {
            "colorbar": {
             "outlinewidth": 0,
             "ticks": ""
            },
            "colorscale": [
             [
              0,
              "#0d0887"
             ],
             [
              0.1111111111111111,
              "#46039f"
             ],
             [
              0.2222222222222222,
              "#7201a8"
             ],
             [
              0.3333333333333333,
              "#9c179e"
             ],
             [
              0.4444444444444444,
              "#bd3786"
             ],
             [
              0.5555555555555556,
              "#d8576b"
             ],
             [
              0.6666666666666666,
              "#ed7953"
             ],
             [
              0.7777777777777778,
              "#fb9f3a"
             ],
             [
              0.8888888888888888,
              "#fdca26"
             ],
             [
              1,
              "#f0f921"
             ]
            ],
            "type": "heatmap"
           }
          ],
          "heatmapgl": [
           {
            "colorbar": {
             "outlinewidth": 0,
             "ticks": ""
            },
            "colorscale": [
             [
              0,
              "#0d0887"
             ],
             [
              0.1111111111111111,
              "#46039f"
             ],
             [
              0.2222222222222222,
              "#7201a8"
             ],
             [
              0.3333333333333333,
              "#9c179e"
             ],
             [
              0.4444444444444444,
              "#bd3786"
             ],
             [
              0.5555555555555556,
              "#d8576b"
             ],
             [
              0.6666666666666666,
              "#ed7953"
             ],
             [
              0.7777777777777778,
              "#fb9f3a"
             ],
             [
              0.8888888888888888,
              "#fdca26"
             ],
             [
              1,
              "#f0f921"
             ]
            ],
            "type": "heatmapgl"
           }
          ],
          "histogram": [
           {
            "marker": {
             "pattern": {
              "fillmode": "overlay",
              "size": 10,
              "solidity": 0.2
             }
            },
            "type": "histogram"
           }
          ],
          "histogram2d": [
           {
            "colorbar": {
             "outlinewidth": 0,
             "ticks": ""
            },
            "colorscale": [
             [
              0,
              "#0d0887"
             ],
             [
              0.1111111111111111,
              "#46039f"
             ],
             [
              0.2222222222222222,
              "#7201a8"
             ],
             [
              0.3333333333333333,
              "#9c179e"
             ],
             [
              0.4444444444444444,
              "#bd3786"
             ],
             [
              0.5555555555555556,
              "#d8576b"
             ],
             [
              0.6666666666666666,
              "#ed7953"
             ],
             [
              0.7777777777777778,
              "#fb9f3a"
             ],
             [
              0.8888888888888888,
              "#fdca26"
             ],
             [
              1,
              "#f0f921"
             ]
            ],
            "type": "histogram2d"
           }
          ],
          "histogram2dcontour": [
           {
            "colorbar": {
             "outlinewidth": 0,
             "ticks": ""
            },
            "colorscale": [
             [
              0,
              "#0d0887"
             ],
             [
              0.1111111111111111,
              "#46039f"
             ],
             [
              0.2222222222222222,
              "#7201a8"
             ],
             [
              0.3333333333333333,
              "#9c179e"
             ],
             [
              0.4444444444444444,
              "#bd3786"
             ],
             [
              0.5555555555555556,
              "#d8576b"
             ],
             [
              0.6666666666666666,
              "#ed7953"
             ],
             [
              0.7777777777777778,
              "#fb9f3a"
             ],
             [
              0.8888888888888888,
              "#fdca26"
             ],
             [
              1,
              "#f0f921"
             ]
            ],
            "type": "histogram2dcontour"
           }
          ],
          "mesh3d": [
           {
            "colorbar": {
             "outlinewidth": 0,
             "ticks": ""
            },
            "type": "mesh3d"
           }
          ],
          "parcoords": [
           {
            "line": {
             "colorbar": {
              "outlinewidth": 0,
              "ticks": ""
             }
            },
            "type": "parcoords"
           }
          ],
          "pie": [
           {
            "automargin": true,
            "type": "pie"
           }
          ],
          "scatter": [
           {
            "fillpattern": {
             "fillmode": "overlay",
             "size": 10,
             "solidity": 0.2
            },
            "type": "scatter"
           }
          ],
          "scatter3d": [
           {
            "line": {
             "colorbar": {
              "outlinewidth": 0,
              "ticks": ""
             }
            },
            "marker": {
             "colorbar": {
              "outlinewidth": 0,
              "ticks": ""
             }
            },
            "type": "scatter3d"
           }
          ],
          "scattercarpet": [
           {
            "marker": {
             "colorbar": {
              "outlinewidth": 0,
              "ticks": ""
             }
            },
            "type": "scattercarpet"
           }
          ],
          "scattergeo": [
           {
            "marker": {
             "colorbar": {
              "outlinewidth": 0,
              "ticks": ""
             }
            },
            "type": "scattergeo"
           }
          ],
          "scattergl": [
           {
            "marker": {
             "colorbar": {
              "outlinewidth": 0,
              "ticks": ""
             }
            },
            "type": "scattergl"
           }
          ],
          "scattermapbox": [
           {
            "marker": {
             "colorbar": {
              "outlinewidth": 0,
              "ticks": ""
             }
            },
            "type": "scattermapbox"
           }
          ],
          "scatterpolar": [
           {
            "marker": {
             "colorbar": {
              "outlinewidth": 0,
              "ticks": ""
             }
            },
            "type": "scatterpolar"
           }
          ],
          "scatterpolargl": [
           {
            "marker": {
             "colorbar": {
              "outlinewidth": 0,
              "ticks": ""
             }
            },
            "type": "scatterpolargl"
           }
          ],
          "scatterternary": [
           {
            "marker": {
             "colorbar": {
              "outlinewidth": 0,
              "ticks": ""
             }
            },
            "type": "scatterternary"
           }
          ],
          "surface": [
           {
            "colorbar": {
             "outlinewidth": 0,
             "ticks": ""
            },
            "colorscale": [
             [
              0,
              "#0d0887"
             ],
             [
              0.1111111111111111,
              "#46039f"
             ],
             [
              0.2222222222222222,
              "#7201a8"
             ],
             [
              0.3333333333333333,
              "#9c179e"
             ],
             [
              0.4444444444444444,
              "#bd3786"
             ],
             [
              0.5555555555555556,
              "#d8576b"
             ],
             [
              0.6666666666666666,
              "#ed7953"
             ],
             [
              0.7777777777777778,
              "#fb9f3a"
             ],
             [
              0.8888888888888888,
              "#fdca26"
             ],
             [
              1,
              "#f0f921"
             ]
            ],
            "type": "surface"
           }
          ],
          "table": [
           {
            "cells": {
             "fill": {
              "color": "#EBF0F8"
             },
             "line": {
              "color": "white"
             }
            },
            "header": {
             "fill": {
              "color": "#C8D4E3"
             },
             "line": {
              "color": "white"
             }
            },
            "type": "table"
           }
          ]
         },
         "layout": {
          "annotationdefaults": {
           "arrowcolor": "#2a3f5f",
           "arrowhead": 0,
           "arrowwidth": 1
          },
          "autotypenumbers": "strict",
          "coloraxis": {
           "colorbar": {
            "outlinewidth": 0,
            "ticks": ""
           }
          },
          "colorscale": {
           "diverging": [
            [
             0,
             "#8e0152"
            ],
            [
             0.1,
             "#c51b7d"
            ],
            [
             0.2,
             "#de77ae"
            ],
            [
             0.3,
             "#f1b6da"
            ],
            [
             0.4,
             "#fde0ef"
            ],
            [
             0.5,
             "#f7f7f7"
            ],
            [
             0.6,
             "#e6f5d0"
            ],
            [
             0.7,
             "#b8e186"
            ],
            [
             0.8,
             "#7fbc41"
            ],
            [
             0.9,
             "#4d9221"
            ],
            [
             1,
             "#276419"
            ]
           ],
           "sequential": [
            [
             0,
             "#0d0887"
            ],
            [
             0.1111111111111111,
             "#46039f"
            ],
            [
             0.2222222222222222,
             "#7201a8"
            ],
            [
             0.3333333333333333,
             "#9c179e"
            ],
            [
             0.4444444444444444,
             "#bd3786"
            ],
            [
             0.5555555555555556,
             "#d8576b"
            ],
            [
             0.6666666666666666,
             "#ed7953"
            ],
            [
             0.7777777777777778,
             "#fb9f3a"
            ],
            [
             0.8888888888888888,
             "#fdca26"
            ],
            [
             1,
             "#f0f921"
            ]
           ],
           "sequentialminus": [
            [
             0,
             "#0d0887"
            ],
            [
             0.1111111111111111,
             "#46039f"
            ],
            [
             0.2222222222222222,
             "#7201a8"
            ],
            [
             0.3333333333333333,
             "#9c179e"
            ],
            [
             0.4444444444444444,
             "#bd3786"
            ],
            [
             0.5555555555555556,
             "#d8576b"
            ],
            [
             0.6666666666666666,
             "#ed7953"
            ],
            [
             0.7777777777777778,
             "#fb9f3a"
            ],
            [
             0.8888888888888888,
             "#fdca26"
            ],
            [
             1,
             "#f0f921"
            ]
           ]
          },
          "colorway": [
           "#636efa",
           "#EF553B",
           "#00cc96",
           "#ab63fa",
           "#FFA15A",
           "#19d3f3",
           "#FF6692",
           "#B6E880",
           "#FF97FF",
           "#FECB52"
          ],
          "font": {
           "color": "#2a3f5f"
          },
          "geo": {
           "bgcolor": "white",
           "lakecolor": "white",
           "landcolor": "#E5ECF6",
           "showlakes": true,
           "showland": true,
           "subunitcolor": "white"
          },
          "hoverlabel": {
           "align": "left"
          },
          "hovermode": "closest",
          "mapbox": {
           "style": "light"
          },
          "paper_bgcolor": "white",
          "plot_bgcolor": "#E5ECF6",
          "polar": {
           "angularaxis": {
            "gridcolor": "white",
            "linecolor": "white",
            "ticks": ""
           },
           "bgcolor": "#E5ECF6",
           "radialaxis": {
            "gridcolor": "white",
            "linecolor": "white",
            "ticks": ""
           }
          },
          "scene": {
           "xaxis": {
            "backgroundcolor": "#E5ECF6",
            "gridcolor": "white",
            "gridwidth": 2,
            "linecolor": "white",
            "showbackground": true,
            "ticks": "",
            "zerolinecolor": "white"
           },
           "yaxis": {
            "backgroundcolor": "#E5ECF6",
            "gridcolor": "white",
            "gridwidth": 2,
            "linecolor": "white",
            "showbackground": true,
            "ticks": "",
            "zerolinecolor": "white"
           },
           "zaxis": {
            "backgroundcolor": "#E5ECF6",
            "gridcolor": "white",
            "gridwidth": 2,
            "linecolor": "white",
            "showbackground": true,
            "ticks": "",
            "zerolinecolor": "white"
           }
          },
          "shapedefaults": {
           "line": {
            "color": "#2a3f5f"
           }
          },
          "ternary": {
           "aaxis": {
            "gridcolor": "white",
            "linecolor": "white",
            "ticks": ""
           },
           "baxis": {
            "gridcolor": "white",
            "linecolor": "white",
            "ticks": ""
           },
           "bgcolor": "#E5ECF6",
           "caxis": {
            "gridcolor": "white",
            "linecolor": "white",
            "ticks": ""
           }
          },
          "title": {
           "x": 0.05
          },
          "xaxis": {
           "automargin": true,
           "gridcolor": "white",
           "linecolor": "white",
           "ticks": "",
           "title": {
            "standoff": 15
           },
           "zerolinecolor": "white",
           "zerolinewidth": 2
          },
          "yaxis": {
           "automargin": true,
           "gridcolor": "white",
           "linecolor": "white",
           "ticks": "",
           "title": {
            "standoff": 15
           },
           "zerolinecolor": "white",
           "zerolinewidth": 2
          }
         }
        },
        "width": 2000,
        "xaxis": {
         "anchor": "y",
         "domain": [
          0,
          0.45
         ]
        },
        "xaxis2": {
         "anchor": "y2",
         "domain": [
          0.55,
          1
         ]
        },
        "xaxis3": {
         "anchor": "y3",
         "domain": [
          0,
          0.45
         ]
        },
        "xaxis4": {
         "anchor": "y4",
         "domain": [
          0.55,
          1
         ]
        },
        "yaxis": {
         "anchor": "x",
         "domain": [
          0.575,
          1
         ]
        },
        "yaxis2": {
         "anchor": "x2",
         "domain": [
          0.575,
          1
         ]
        },
        "yaxis3": {
         "anchor": "x3",
         "domain": [
          0,
          0.425
         ]
        },
        "yaxis4": {
         "anchor": "x4",
         "domain": [
          0,
          0.425
         ]
        }
       }
      }
     },
     "metadata": {},
     "output_type": "display_data"
    },
    {
     "data": {
      "application/vnd.plotly.v1+json": {
       "config": {
        "plotlyServerURL": "https://plot.ly"
       },
       "data": [
        {
         "mode": "lines+markers",
         "name": "Channel 0 spectrum",
         "type": "scatter",
         "x": [
          0,
          1,
          2,
          3,
          4,
          5,
          6,
          7,
          8,
          9,
          10,
          11,
          12,
          13,
          14,
          15,
          16,
          17,
          18,
          19,
          20,
          21,
          22,
          23,
          24,
          25,
          26,
          27,
          28,
          29,
          30,
          31,
          32,
          33,
          34,
          35,
          36,
          37,
          38,
          39,
          40,
          41,
          42,
          43,
          44,
          45,
          46,
          47,
          48,
          49,
          50
         ],
         "xaxis": "x",
         "y": [
          1064.5,
          67.4356070929158,
          73.53458185008282,
          45.14121554977785,
          32.40910751088725,
          38.487968887163,
          37.4021899600075,
          62.36480461639838,
          72.63418616841622,
          65.65005056105285,
          70.95070178770878,
          86.83197506347786,
          85.5116711182933,
          48.93263509296064,
          70.17853707316918,
          25.51610706928094,
          54.316179120582156,
          44.00349134715241,
          29.136579847227946,
          47.67548484158608,
          41.56900635950667,
          71.94842387741065,
          66.3031609059239,
          33.80235559197186,
          79.93405077805511,
          37.0499824561362,
          15.797018732708967,
          19.86887235199189,
          64.25473413838337,
          9.404540241159928,
          66.77534811464196,
          67.64805150733808,
          74.70394469457878,
          102.02441380023342,
          74.07753329429495,
          79.53258522129248,
          65.16299427477094,
          29.28286361586505,
          55.657320568248316,
          21.55175054388695,
          54.12858496472352,
          46.062398741072954,
          53.60432340376175,
          70.9554265689796,
          50.37616929902434,
          42.269530621803824,
          41.045625845725674,
          100.710382765926,
          39.47896397178859,
          31.331950242647416,
          14.86
         ],
         "yaxis": "y"
        },
        {
         "mode": "lines+markers",
         "name": "Channel 1 spectrum",
         "type": "scatter",
         "x": [
          0,
          1,
          2,
          3,
          4,
          5,
          6,
          7,
          8,
          9,
          10,
          11,
          12,
          13,
          14,
          15,
          16,
          17,
          18,
          19,
          20,
          21,
          22,
          23,
          24,
          25,
          26,
          27,
          28,
          29,
          30,
          31,
          32,
          33,
          34,
          35,
          36,
          37,
          38,
          39,
          40,
          41,
          42,
          43,
          44,
          45,
          46,
          47,
          48,
          49,
          50
         ],
         "xaxis": "x3",
         "y": [
          1066.14,
          11.647001597802474,
          8.252989818574815,
          43.37891892998166,
          95.39542042392381,
          23.276884566195655,
          47.77399990576033,
          29.57074222996474,
          20.886482861822866,
          88.6230442100313,
          63.481603902182314,
          65.29961996709544,
          8.424464441961373,
          26.674815094356077,
          44.900446480433146,
          68.38995284879758,
          21.62635820714504,
          34.2140939142755,
          76.03696075225258,
          60.862199015278286,
          24.476712081083846,
          44.441889164511025,
          79.29209795676579,
          83.91996020702044,
          73.26453543792356,
          53.252113573078034,
          19.325490029842907,
          133.5897163381026,
          18.990459089044297,
          42.26525876804827,
          27.221145567489074,
          59.65452287492894,
          37.529119279562515,
          20.082589832867228,
          48.4756856765548,
          28.68603801035826,
          128.30071851568167,
          75.71267305828995,
          25.247466069018245,
          86.1870310188228,
          24.642925266691122,
          47.578378729342376,
          39.78145571570366,
          63.939202797681645,
          37.81151734741119,
          100.44826836486295,
          55.55841403981321,
          58.6882859704001,
          68.02514186951156,
          48.41194422457157,
          15.77999999999999
         ],
         "yaxis": "y3"
        },
        {
         "mode": "lines+markers",
         "name": "Channel 2 spectrum",
         "type": "scatter",
         "x": [
          0,
          1,
          2,
          3,
          4,
          5,
          6,
          7,
          8,
          9,
          10,
          11,
          12,
          13,
          14,
          15,
          16,
          17,
          18,
          19,
          20,
          21,
          22,
          23,
          24,
          25,
          26,
          27,
          28,
          29,
          30,
          31,
          32,
          33,
          34,
          35,
          36,
          37,
          38,
          39,
          40,
          41,
          42,
          43,
          44,
          45,
          46,
          47,
          48,
          49,
          50
         ],
         "xaxis": "x5",
         "y": [
          1026.8,
          9.860688680062466,
          28.955224821609903,
          19.32879689494374,
          29.83659781641619,
          28.07675528129459,
          46.320117152091754,
          88.4930619825744,
          80.75369554267526,
          56.075571766743735,
          31.186221742630405,
          56.94369024935443,
          66.02094191275717,
          52.026150947306526,
          29.654721421101744,
          99.2691227797355,
          29.119228520844114,
          66.33620273135101,
          26.450575701697435,
          29.81651661457338,
          49.142590947141535,
          82.2020238508845,
          48.72965191323987,
          45.94560441595085,
          61.47673696559781,
          51.80703427141916,
          104.95072274433329,
          50.48187184030271,
          55.75042010317512,
          4.248077335333252,
          53.35790825566053,
          73.05935315801621,
          99.26208150341814,
          58.56443658772699,
          58.72981985591933,
          73.18838624281622,
          48.57883964801905,
          53.80264673245278,
          33.05233017987169,
          31.840934755466222,
          39.96042736260362,
          30.3563285056377,
          62.90181388678379,
          62.93576629687157,
          77.48823642563183,
          42.21753657650388,
          63.83250429062867,
          60.92084577321424,
          45.686147203872764,
          39.98879943609728,
          100.68
         ],
         "yaxis": "y5"
        },
        {
         "mode": "lines+markers",
         "name": "Channel 3 spectrum",
         "type": "scatter",
         "x": [
          0,
          1,
          2,
          3,
          4,
          5,
          6,
          7,
          8,
          9,
          10,
          11,
          12,
          13,
          14,
          15,
          16,
          17,
          18,
          19,
          20,
          21,
          22,
          23,
          24,
          25,
          26,
          27,
          28,
          29,
          30,
          31,
          32,
          33,
          34,
          35,
          36,
          37,
          38,
          39,
          40,
          41,
          42,
          43,
          44,
          45,
          46,
          47,
          48,
          49,
          50
         ],
         "xaxis": "x7",
         "y": [
          950.82,
          49.276918122692635,
          32.16293777361988,
          32.75134582928233,
          49.16966990649949,
          69.90935318219469,
          70.19577024315159,
          47.54556579754326,
          59.44726021623881,
          26.704993496074053,
          81.8550088330966,
          57.763305268519055,
          127.33155412171207,
          29.470529209275757,
          2.0106911670164367,
          15.254239020023826,
          62.525175536883935,
          72.31721998304712,
          74.53044548381203,
          139.01243418703245,
          36.10192927918428,
          9.31510703008861,
          19.166925289577485,
          113.55028569898519,
          75.07007167822276,
          67.58498353924487,
          9.026870983664423,
          20.591898510434326,
          83.29397396872454,
          13.837356079875414,
          82.42404703078878,
          78.83603553748897,
          17.102660538441196,
          29.607869584369055,
          25.19461748165783,
          80.87444682754844,
          48.01579059953188,
          52.478951080170184,
          22.546142454247164,
          35.64233895897307,
          23.647357195271876,
          84.2847075511402,
          56.2783983450615,
          43.551307416160085,
          38.534566586896275,
          60.74331551623758,
          81.8327089619101,
          33.29403906153713,
          114.84134636703266,
          43.60218762762692,
          41.70000000000001
         ],
         "yaxis": "y7"
        },
        {
         "mode": "lines+markers",
         "name": "Channel 4 spectrum",
         "type": "scatter",
         "x": [
          0,
          1,
          2,
          3,
          4,
          5,
          6,
          7,
          8,
          9,
          10,
          11,
          12,
          13,
          14,
          15,
          16,
          17,
          18,
          19,
          20,
          21,
          22,
          23,
          24,
          25,
          26,
          27,
          28,
          29,
          30,
          31,
          32,
          33,
          34,
          35,
          36,
          37,
          38,
          39,
          40,
          41,
          42,
          43,
          44,
          45,
          46,
          47,
          48,
          49,
          50
         ],
         "xaxis": "x9",
         "y": [
          1085.48,
          11.251229534463857,
          26.683214893999903,
          7.501622794965312,
          82.88176936303067,
          40.11900456452556,
          28.770646249109465,
          65.5300735827137,
          110.04116894124454,
          26.3663256347261,
          110.64566328753114,
          47.91277919794402,
          47.09173474271973,
          6.352992256543446,
          23.80349899116722,
          10.385787406390321,
          29.97778082498977,
          42.43427679408331,
          51.23830545225296,
          67.76036868042662,
          51.06840212045651,
          51.52350226129887,
          53.937135813727075,
          81.15709656754001,
          54.18776881324963,
          29.57415087538441,
          53.94932913835787,
          54.59842093844028,
          54.53476109701494,
          47.02579158682846,
          93.28716093687432,
          91.24505034648419,
          5.63188388456194,
          92.16920380268073,
          29.92807429080288,
          21.098865310094784,
          12.519534349959756,
          79.14268098693707,
          43.713527544232385,
          45.1916343187818,
          22.29980055658249,
          69.25749645901162,
          106.83224319810702,
          46.97610395624616,
          64.37445014310086,
          50.981686666167896,
          65.29220784569455,
          96.00599763118062,
          90.2433126414683,
          87.13847247956706,
          57.95999999999998
         ],
         "yaxis": "y9"
        },
        {
         "mode": "lines+markers",
         "name": "Channel 5 spectrum",
         "type": "scatter",
         "x": [
          0,
          1,
          2,
          3,
          4,
          5,
          6,
          7,
          8,
          9,
          10,
          11,
          12,
          13,
          14,
          15,
          16,
          17,
          18,
          19,
          20,
          21,
          22,
          23,
          24,
          25,
          26,
          27,
          28,
          29,
          30,
          31,
          32,
          33,
          34,
          35,
          36,
          37,
          38,
          39,
          40,
          41,
          42,
          43,
          44,
          45,
          46,
          47,
          48,
          49,
          50
         ],
         "xaxis": "x11",
         "y": [
          1010.94,
          31.83159005009475,
          63.18522816479086,
          38.77517447700959,
          47.79885884558173,
          70.41254576106171,
          35.29279018731187,
          38.4890054413362,
          69.0206103943387,
          77.62957826811704,
          58.85802565514975,
          48.0014210686856,
          55.48174249389421,
          20.477536651720946,
          30.93043954703577,
          54.917578532204786,
          27.888669592991835,
          115.330115039222,
          89.5279813515749,
          68.00411916431275,
          75.6850339952112,
          82.40499430360649,
          34.219292322481884,
          28.312066046380465,
          61.97400072574113,
          40.577594803043716,
          28.16243278528465,
          36.932874180796155,
          87.21507563439401,
          90.01348731511304,
          54.659802560727705,
          36.05624493339309,
          17.58859638278968,
          35.20306137273797,
          39.04909695397411,
          40.207186855957225,
          56.09983588274543,
          60.750780628358605,
          27.409570005466406,
          39.89153445255644,
          31.098373416365757,
          36.222640875027956,
          51.209293577980134,
          12.128729716085894,
          56.95557487153986,
          89.51218851494832,
          8.07437490451086,
          34.640366379454356,
          13.295442468182037,
          101.21545794537835,
          5.059999999999989
         ],
         "yaxis": "y11"
        },
        {
         "mode": "lines+markers",
         "name": "Channel 6 spectrum",
         "type": "scatter",
         "x": [
          0,
          1,
          2,
          3,
          4,
          5,
          6,
          7,
          8,
          9,
          10,
          11,
          12,
          13,
          14,
          15,
          16,
          17,
          18,
          19,
          20,
          21,
          22,
          23,
          24,
          25,
          26,
          27,
          28,
          29,
          30,
          31,
          32,
          33,
          34,
          35,
          36,
          37,
          38,
          39,
          40,
          41,
          42,
          43,
          44,
          45,
          46,
          47,
          48,
          49,
          50
         ],
         "xaxis": "x13",
         "y": [
          1028.72,
          47.25475247832163,
          75.31606870219349,
          53.70009682214052,
          57.29097305658715,
          81.44463509988982,
          22.28999780810729,
          56.87796360186551,
          16.250687489900503,
          47.28363665837358,
          37.84016547027599,
          36.99032244508744,
          85.70809652976745,
          140.83540863045883,
          39.77182238559155,
          23.260048441829586,
          43.43553800601895,
          81.93744978379948,
          45.06072467781938,
          88.61788958138446,
          65.52580380547545,
          65.11513732177126,
          87.24735538116472,
          31.008578635415297,
          25.971670509818892,
          16.374077073227667,
          26.418740406483018,
          35.735649991190016,
          133.40502487055858,
          5.427290869888759,
          46.670708985209664,
          64.95453009753425,
          70.72677148663142,
          15.591201236650617,
          36.280732964062246,
          34.94663082379813,
          60.06792061797557,
          51.95483561920367,
          89.56951517531448,
          57.00946023803228,
          52.01568836078536,
          57.93357417551435,
          80.89836412038463,
          101.56320698299231,
          32.0541759030907,
          93.88403567164494,
          35.03083231130181,
          40.22652428710509,
          28.77888070801086,
          51.970569307566,
          2.959999999999991
         ],
         "yaxis": "y13"
        },
        {
         "mode": "lines+markers",
         "name": "Channel 7 spectrum",
         "type": "scatter",
         "x": [
          0,
          1,
          2,
          3,
          4,
          5,
          6,
          7,
          8,
          9,
          10,
          11,
          12,
          13,
          14,
          15,
          16,
          17,
          18,
          19,
          20,
          21,
          22,
          23,
          24,
          25,
          26,
          27,
          28,
          29,
          30,
          31,
          32,
          33,
          34,
          35,
          36,
          37,
          38,
          39,
          40,
          41,
          42,
          43,
          44,
          45,
          46,
          47,
          48,
          49,
          50
         ],
         "xaxis": "x15",
         "y": [
          979.78,
          24.58159029541329,
          32.7799210460005,
          33.79905615770038,
          105.94155993807412,
          36.57239484226887,
          44.983442386399545,
          64.09295109056536,
          53.31946855157639,
          25.579818948616172,
          19.82149474627015,
          86.07668606458175,
          119.01676766307364,
          37.085226798673354,
          61.690380395145276,
          69.61646392074164,
          73.07776579431994,
          88.53451201442289,
          38.78548456180809,
          31.516864487063994,
          64.27206843332304,
          21.35399712059849,
          26.392379566291808,
          47.9668157814207,
          69.35776459401907,
          63.1659560206287,
          16.82526613839384,
          59.08331487047504,
          32.88355528809259,
          4.542610732011985,
          77.1495012687936,
          43.22406336328514,
          94.6940707344175,
          29.811284656934955,
          86.78443877063204,
          18.13661536186663,
          28.527340304088156,
          27.07706882337396,
          46.61047958772814,
          26.25781280486478,
          38.55479242976467,
          93.05666504626875,
          39.63400693436593,
          39.51123273791483,
          44.48303181237359,
          21.860902769304026,
          44.185952922750154,
          84.06076270376481,
          69.89503057188129,
          29.786074050526096,
          97.06
         ],
         "yaxis": "y15"
        },
        {
         "name": "Channel 0 frequency bins",
         "type": "bar",
         "x": [
          "0-1 Hz",
          "1.0-4.0 Hz",
          "4-8 Hz",
          "8-12 Hz",
          "12-30 Hz"
         ],
         "xaxis": "x2",
         "y": [
          0.45649725,
          0.33308223,
          0.4805426,
          0.48954707,
          0.59437114
         ],
         "yaxis": "y2"
        },
        {
         "name": "Channel 1 frequency bins",
         "type": "bar",
         "x": [
          "0-1 Hz",
          "1.0-4.0 Hz",
          "4-8 Hz",
          "8-12 Hz",
          "12-30 Hz"
         ],
         "xaxis": "x4",
         "y": [
          0.947209,
          0.36329892,
          0.5575757,
          0.35498443,
          0.5846041
         ],
         "yaxis": "y4"
        },
        {
         "name": "Channel 2 frequency bins",
         "type": "bar",
         "x": [
          "0-1 Hz",
          "1.0-4.0 Hz",
          "4-8 Hz",
          "8-12 Hz",
          "12-30 Hz"
         ],
         "xaxis": "x6",
         "y": [
          0.8622154,
          0.6134732,
          0.5585826,
          0.73307484,
          0.46213478
         ],
         "yaxis": "y6"
        },
        {
         "name": "Channel 3 frequency bins",
         "type": "bar",
         "x": [
          "0-1 Hz",
          "1.0-4.0 Hz",
          "4-8 Hz",
          "8-12 Hz",
          "12-30 Hz"
         ],
         "xaxis": "x8",
         "y": [
          0.9224871,
          0.59512097,
          0.33293667,
          0.5090612,
          0.4831907
         ],
         "yaxis": "y8"
        },
        {
         "name": "Channel 4 frequency bins",
         "type": "bar",
         "x": [
          "0-1 Hz",
          "1.0-4.0 Hz",
          "4-8 Hz",
          "8-12 Hz",
          "12-30 Hz"
         ],
         "xaxis": "x10",
         "y": [
          0.25692922,
          0.22652318,
          0.47397363,
          0.5997754,
          0.46472734
         ],
         "yaxis": "y10"
        },
        {
         "name": "Channel 5 frequency bins",
         "type": "bar",
         "x": [
          "0-1 Hz",
          "1.0-4.0 Hz",
          "4-8 Hz",
          "8-12 Hz",
          "12-30 Hz"
         ],
         "xaxis": "x12",
         "y": [
          0.38721895,
          0.31670427,
          0.36731762,
          0.56597286,
          0.47360712
         ],
         "yaxis": "y12"
        },
        {
         "name": "Channel 6 frequency bins",
         "type": "bar",
         "x": [
          "0-1 Hz",
          "1.0-4.0 Hz",
          "4-8 Hz",
          "8-12 Hz",
          "12-30 Hz"
         ],
         "xaxis": "x14",
         "y": [
          0.47025764,
          0.26843604,
          0.55598605,
          0.45470923,
          0.4830911
         ],
         "yaxis": "y14"
        },
        {
         "name": "Channel 7 frequency bins",
         "type": "bar",
         "x": [
          "0-1 Hz",
          "1.0-4.0 Hz",
          "4-8 Hz",
          "8-12 Hz",
          "12-30 Hz"
         ],
         "xaxis": "x16",
         "y": [
          0.71087176,
          0.44788668,
          0.562593,
          0.41924483,
          0.5128278
         ],
         "yaxis": "y16"
        }
       ],
       "layout": {
        "height": 1500,
        "template": {
         "data": {
          "bar": [
           {
            "error_x": {
             "color": "#2a3f5f"
            },
            "error_y": {
             "color": "#2a3f5f"
            },
            "marker": {
             "line": {
              "color": "#E5ECF6",
              "width": 0.5
             },
             "pattern": {
              "fillmode": "overlay",
              "size": 10,
              "solidity": 0.2
             }
            },
            "type": "bar"
           }
          ],
          "barpolar": [
           {
            "marker": {
             "line": {
              "color": "#E5ECF6",
              "width": 0.5
             },
             "pattern": {
              "fillmode": "overlay",
              "size": 10,
              "solidity": 0.2
             }
            },
            "type": "barpolar"
           }
          ],
          "carpet": [
           {
            "aaxis": {
             "endlinecolor": "#2a3f5f",
             "gridcolor": "white",
             "linecolor": "white",
             "minorgridcolor": "white",
             "startlinecolor": "#2a3f5f"
            },
            "baxis": {
             "endlinecolor": "#2a3f5f",
             "gridcolor": "white",
             "linecolor": "white",
             "minorgridcolor": "white",
             "startlinecolor": "#2a3f5f"
            },
            "type": "carpet"
           }
          ],
          "choropleth": [
           {
            "colorbar": {
             "outlinewidth": 0,
             "ticks": ""
            },
            "type": "choropleth"
           }
          ],
          "contour": [
           {
            "colorbar": {
             "outlinewidth": 0,
             "ticks": ""
            },
            "colorscale": [
             [
              0,
              "#0d0887"
             ],
             [
              0.1111111111111111,
              "#46039f"
             ],
             [
              0.2222222222222222,
              "#7201a8"
             ],
             [
              0.3333333333333333,
              "#9c179e"
             ],
             [
              0.4444444444444444,
              "#bd3786"
             ],
             [
              0.5555555555555556,
              "#d8576b"
             ],
             [
              0.6666666666666666,
              "#ed7953"
             ],
             [
              0.7777777777777778,
              "#fb9f3a"
             ],
             [
              0.8888888888888888,
              "#fdca26"
             ],
             [
              1,
              "#f0f921"
             ]
            ],
            "type": "contour"
           }
          ],
          "contourcarpet": [
           {
            "colorbar": {
             "outlinewidth": 0,
             "ticks": ""
            },
            "type": "contourcarpet"
           }
          ],
          "heatmap": [
           {
            "colorbar": {
             "outlinewidth": 0,
             "ticks": ""
            },
            "colorscale": [
             [
              0,
              "#0d0887"
             ],
             [
              0.1111111111111111,
              "#46039f"
             ],
             [
              0.2222222222222222,
              "#7201a8"
             ],
             [
              0.3333333333333333,
              "#9c179e"
             ],
             [
              0.4444444444444444,
              "#bd3786"
             ],
             [
              0.5555555555555556,
              "#d8576b"
             ],
             [
              0.6666666666666666,
              "#ed7953"
             ],
             [
              0.7777777777777778,
              "#fb9f3a"
             ],
             [
              0.8888888888888888,
              "#fdca26"
             ],
             [
              1,
              "#f0f921"
             ]
            ],
            "type": "heatmap"
           }
          ],
          "heatmapgl": [
           {
            "colorbar": {
             "outlinewidth": 0,
             "ticks": ""
            },
            "colorscale": [
             [
              0,
              "#0d0887"
             ],
             [
              0.1111111111111111,
              "#46039f"
             ],
             [
              0.2222222222222222,
              "#7201a8"
             ],
             [
              0.3333333333333333,
              "#9c179e"
             ],
             [
              0.4444444444444444,
              "#bd3786"
             ],
             [
              0.5555555555555556,
              "#d8576b"
             ],
             [
              0.6666666666666666,
              "#ed7953"
             ],
             [
              0.7777777777777778,
              "#fb9f3a"
             ],
             [
              0.8888888888888888,
              "#fdca26"
             ],
             [
              1,
              "#f0f921"
             ]
            ],
            "type": "heatmapgl"
           }
          ],
          "histogram": [
           {
            "marker": {
             "pattern": {
              "fillmode": "overlay",
              "size": 10,
              "solidity": 0.2
             }
            },
            "type": "histogram"
           }
          ],
          "histogram2d": [
           {
            "colorbar": {
             "outlinewidth": 0,
             "ticks": ""
            },
            "colorscale": [
             [
              0,
              "#0d0887"
             ],
             [
              0.1111111111111111,
              "#46039f"
             ],
             [
              0.2222222222222222,
              "#7201a8"
             ],
             [
              0.3333333333333333,
              "#9c179e"
             ],
             [
              0.4444444444444444,
              "#bd3786"
             ],
             [
              0.5555555555555556,
              "#d8576b"
             ],
             [
              0.6666666666666666,
              "#ed7953"
             ],
             [
              0.7777777777777778,
              "#fb9f3a"
             ],
             [
              0.8888888888888888,
              "#fdca26"
             ],
             [
              1,
              "#f0f921"
             ]
            ],
            "type": "histogram2d"
           }
          ],
          "histogram2dcontour": [
           {
            "colorbar": {
             "outlinewidth": 0,
             "ticks": ""
            },
            "colorscale": [
             [
              0,
              "#0d0887"
             ],
             [
              0.1111111111111111,
              "#46039f"
             ],
             [
              0.2222222222222222,
              "#7201a8"
             ],
             [
              0.3333333333333333,
              "#9c179e"
             ],
             [
              0.4444444444444444,
              "#bd3786"
             ],
             [
              0.5555555555555556,
              "#d8576b"
             ],
             [
              0.6666666666666666,
              "#ed7953"
             ],
             [
              0.7777777777777778,
              "#fb9f3a"
             ],
             [
              0.8888888888888888,
              "#fdca26"
             ],
             [
              1,
              "#f0f921"
             ]
            ],
            "type": "histogram2dcontour"
           }
          ],
          "mesh3d": [
           {
            "colorbar": {
             "outlinewidth": 0,
             "ticks": ""
            },
            "type": "mesh3d"
           }
          ],
          "parcoords": [
           {
            "line": {
             "colorbar": {
              "outlinewidth": 0,
              "ticks": ""
             }
            },
            "type": "parcoords"
           }
          ],
          "pie": [
           {
            "automargin": true,
            "type": "pie"
           }
          ],
          "scatter": [
           {
            "fillpattern": {
             "fillmode": "overlay",
             "size": 10,
             "solidity": 0.2
            },
            "type": "scatter"
           }
          ],
          "scatter3d": [
           {
            "line": {
             "colorbar": {
              "outlinewidth": 0,
              "ticks": ""
             }
            },
            "marker": {
             "colorbar": {
              "outlinewidth": 0,
              "ticks": ""
             }
            },
            "type": "scatter3d"
           }
          ],
          "scattercarpet": [
           {
            "marker": {
             "colorbar": {
              "outlinewidth": 0,
              "ticks": ""
             }
            },
            "type": "scattercarpet"
           }
          ],
          "scattergeo": [
           {
            "marker": {
             "colorbar": {
              "outlinewidth": 0,
              "ticks": ""
             }
            },
            "type": "scattergeo"
           }
          ],
          "scattergl": [
           {
            "marker": {
             "colorbar": {
              "outlinewidth": 0,
              "ticks": ""
             }
            },
            "type": "scattergl"
           }
          ],
          "scattermapbox": [
           {
            "marker": {
             "colorbar": {
              "outlinewidth": 0,
              "ticks": ""
             }
            },
            "type": "scattermapbox"
           }
          ],
          "scatterpolar": [
           {
            "marker": {
             "colorbar": {
              "outlinewidth": 0,
              "ticks": ""
             }
            },
            "type": "scatterpolar"
           }
          ],
          "scatterpolargl": [
           {
            "marker": {
             "colorbar": {
              "outlinewidth": 0,
              "ticks": ""
             }
            },
            "type": "scatterpolargl"
           }
          ],
          "scatterternary": [
           {
            "marker": {
             "colorbar": {
              "outlinewidth": 0,
              "ticks": ""
             }
            },
            "type": "scatterternary"
           }
          ],
          "surface": [
           {
            "colorbar": {
             "outlinewidth": 0,
             "ticks": ""
            },
            "colorscale": [
             [
              0,
              "#0d0887"
             ],
             [
              0.1111111111111111,
              "#46039f"
             ],
             [
              0.2222222222222222,
              "#7201a8"
             ],
             [
              0.3333333333333333,
              "#9c179e"
             ],
             [
              0.4444444444444444,
              "#bd3786"
             ],
             [
              0.5555555555555556,
              "#d8576b"
             ],
             [
              0.6666666666666666,
              "#ed7953"
             ],
             [
              0.7777777777777778,
              "#fb9f3a"
             ],
             [
              0.8888888888888888,
              "#fdca26"
             ],
             [
              1,
              "#f0f921"
             ]
            ],
            "type": "surface"
           }
          ],
          "table": [
           {
            "cells": {
             "fill": {
              "color": "#EBF0F8"
             },
             "line": {
              "color": "white"
             }
            },
            "header": {
             "fill": {
              "color": "#C8D4E3"
             },
             "line": {
              "color": "white"
             }
            },
            "type": "table"
           }
          ]
         },
         "layout": {
          "annotationdefaults": {
           "arrowcolor": "#2a3f5f",
           "arrowhead": 0,
           "arrowwidth": 1
          },
          "autotypenumbers": "strict",
          "coloraxis": {
           "colorbar": {
            "outlinewidth": 0,
            "ticks": ""
           }
          },
          "colorscale": {
           "diverging": [
            [
             0,
             "#8e0152"
            ],
            [
             0.1,
             "#c51b7d"
            ],
            [
             0.2,
             "#de77ae"
            ],
            [
             0.3,
             "#f1b6da"
            ],
            [
             0.4,
             "#fde0ef"
            ],
            [
             0.5,
             "#f7f7f7"
            ],
            [
             0.6,
             "#e6f5d0"
            ],
            [
             0.7,
             "#b8e186"
            ],
            [
             0.8,
             "#7fbc41"
            ],
            [
             0.9,
             "#4d9221"
            ],
            [
             1,
             "#276419"
            ]
           ],
           "sequential": [
            [
             0,
             "#0d0887"
            ],
            [
             0.1111111111111111,
             "#46039f"
            ],
            [
             0.2222222222222222,
             "#7201a8"
            ],
            [
             0.3333333333333333,
             "#9c179e"
            ],
            [
             0.4444444444444444,
             "#bd3786"
            ],
            [
             0.5555555555555556,
             "#d8576b"
            ],
            [
             0.6666666666666666,
             "#ed7953"
            ],
            [
             0.7777777777777778,
             "#fb9f3a"
            ],
            [
             0.8888888888888888,
             "#fdca26"
            ],
            [
             1,
             "#f0f921"
            ]
           ],
           "sequentialminus": [
            [
             0,
             "#0d0887"
            ],
            [
             0.1111111111111111,
             "#46039f"
            ],
            [
             0.2222222222222222,
             "#7201a8"
            ],
            [
             0.3333333333333333,
             "#9c179e"
            ],
            [
             0.4444444444444444,
             "#bd3786"
            ],
            [
             0.5555555555555556,
             "#d8576b"
            ],
            [
             0.6666666666666666,
             "#ed7953"
            ],
            [
             0.7777777777777778,
             "#fb9f3a"
            ],
            [
             0.8888888888888888,
             "#fdca26"
            ],
            [
             1,
             "#f0f921"
            ]
           ]
          },
          "colorway": [
           "#636efa",
           "#EF553B",
           "#00cc96",
           "#ab63fa",
           "#FFA15A",
           "#19d3f3",
           "#FF6692",
           "#B6E880",
           "#FF97FF",
           "#FECB52"
          ],
          "font": {
           "color": "#2a3f5f"
          },
          "geo": {
           "bgcolor": "white",
           "lakecolor": "white",
           "landcolor": "#E5ECF6",
           "showlakes": true,
           "showland": true,
           "subunitcolor": "white"
          },
          "hoverlabel": {
           "align": "left"
          },
          "hovermode": "closest",
          "mapbox": {
           "style": "light"
          },
          "paper_bgcolor": "white",
          "plot_bgcolor": "#E5ECF6",
          "polar": {
           "angularaxis": {
            "gridcolor": "white",
            "linecolor": "white",
            "ticks": ""
           },
           "bgcolor": "#E5ECF6",
           "radialaxis": {
            "gridcolor": "white",
            "linecolor": "white",
            "ticks": ""
           }
          },
          "scene": {
           "xaxis": {
            "backgroundcolor": "#E5ECF6",
            "gridcolor": "white",
            "gridwidth": 2,
            "linecolor": "white",
            "showbackground": true,
            "ticks": "",
            "zerolinecolor": "white"
           },
           "yaxis": {
            "backgroundcolor": "#E5ECF6",
            "gridcolor": "white",
            "gridwidth": 2,
            "linecolor": "white",
            "showbackground": true,
            "ticks": "",
            "zerolinecolor": "white"
           },
           "zaxis": {
            "backgroundcolor": "#E5ECF6",
            "gridcolor": "white",
            "gridwidth": 2,
            "linecolor": "white",
            "showbackground": true,
            "ticks": "",
            "zerolinecolor": "white"
           }
          },
          "shapedefaults": {
           "line": {
            "color": "#2a3f5f"
           }
          },
          "ternary": {
           "aaxis": {
            "gridcolor": "white",
            "linecolor": "white",
            "ticks": ""
           },
           "baxis": {
            "gridcolor": "white",
            "linecolor": "white",
            "ticks": ""
           },
           "bgcolor": "#E5ECF6",
           "caxis": {
            "gridcolor": "white",
            "linecolor": "white",
            "ticks": ""
           }
          },
          "title": {
           "x": 0.05
          },
          "xaxis": {
           "automargin": true,
           "gridcolor": "white",
           "linecolor": "white",
           "ticks": "",
           "title": {
            "standoff": 15
           },
           "zerolinecolor": "white",
           "zerolinewidth": 2
          },
          "yaxis": {
           "automargin": true,
           "gridcolor": "white",
           "linecolor": "white",
           "ticks": "",
           "title": {
            "standoff": 15
           },
           "zerolinecolor": "white",
           "zerolinewidth": 2
          }
         }
        },
        "width": 2000,
        "xaxis": {
         "anchor": "y",
         "domain": [
          0,
          0.45
         ]
        },
        "xaxis10": {
         "anchor": "y10",
         "domain": [
          0.55,
          1
         ]
        },
        "xaxis11": {
         "anchor": "y11",
         "domain": [
          0,
          0.45
         ]
        },
        "xaxis12": {
         "anchor": "y12",
         "domain": [
          0.55,
          1
         ]
        },
        "xaxis13": {
         "anchor": "y13",
         "domain": [
          0,
          0.45
         ]
        },
        "xaxis14": {
         "anchor": "y14",
         "domain": [
          0.55,
          1
         ]
        },
        "xaxis15": {
         "anchor": "y15",
         "domain": [
          0,
          0.45
         ]
        },
        "xaxis16": {
         "anchor": "y16",
         "domain": [
          0.55,
          1
         ]
        },
        "xaxis2": {
         "anchor": "y2",
         "domain": [
          0.55,
          1
         ]
        },
        "xaxis3": {
         "anchor": "y3",
         "domain": [
          0,
          0.45
         ]
        },
        "xaxis4": {
         "anchor": "y4",
         "domain": [
          0.55,
          1
         ]
        },
        "xaxis5": {
         "anchor": "y5",
         "domain": [
          0,
          0.45
         ]
        },
        "xaxis6": {
         "anchor": "y6",
         "domain": [
          0.55,
          1
         ]
        },
        "xaxis7": {
         "anchor": "y7",
         "domain": [
          0,
          0.45
         ]
        },
        "xaxis8": {
         "anchor": "y8",
         "domain": [
          0.55,
          1
         ]
        },
        "xaxis9": {
         "anchor": "y9",
         "domain": [
          0,
          0.45
         ]
        },
        "yaxis": {
         "anchor": "x",
         "domain": [
          0.9078124999999999,
          0.9999999999999999
         ]
        },
        "yaxis10": {
         "anchor": "x10",
         "domain": [
          0.38906250000000003,
          0.48125000000000007
         ]
        },
        "yaxis11": {
         "anchor": "x11",
         "domain": [
          0.259375,
          0.3515625
         ]
        },
        "yaxis12": {
         "anchor": "x12",
         "domain": [
          0.259375,
          0.3515625
         ]
        },
        "yaxis13": {
         "anchor": "x13",
         "domain": [
          0.1296875,
          0.22187500000000002
         ]
        },
        "yaxis14": {
         "anchor": "x14",
         "domain": [
          0.1296875,
          0.22187500000000002
         ]
        },
        "yaxis15": {
         "anchor": "x15",
         "domain": [
          0,
          0.0921875
         ]
        },
        "yaxis16": {
         "anchor": "x16",
         "domain": [
          0,
          0.0921875
         ]
        },
        "yaxis2": {
         "anchor": "x2",
         "domain": [
          0.9078124999999999,
          0.9999999999999999
         ]
        },
        "yaxis3": {
         "anchor": "x3",
         "domain": [
          0.778125,
          0.8703124999999999
         ]
        },
        "yaxis4": {
         "anchor": "x4",
         "domain": [
          0.778125,
          0.8703124999999999
         ]
        },
        "yaxis5": {
         "anchor": "x5",
         "domain": [
          0.6484375,
          0.740625
         ]
        },
        "yaxis6": {
         "anchor": "x6",
         "domain": [
          0.6484375,
          0.740625
         ]
        },
        "yaxis7": {
         "anchor": "x7",
         "domain": [
          0.51875,
          0.6109375
         ]
        },
        "yaxis8": {
         "anchor": "x8",
         "domain": [
          0.51875,
          0.6109375
         ]
        },
        "yaxis9": {
         "anchor": "x9",
         "domain": [
          0.38906250000000003,
          0.48125000000000007
         ]
        }
       }
      }
     },
     "metadata": {},
     "output_type": "display_data"
    },
    {
     "data": {
      "text/plain": [
       "(OrderedDict([('raw_data',\n",
       "               array([[0, 0, 0, 0, 0, 0, 0, 0],\n",
       "                      [0, 0, 0, 0, 0, 0, 0, 0],\n",
       "                      [0, 0, 0, 0, 0, 0, 0, 0],\n",
       "                      [0, 0, 0, 0, 0, 0, 0, 0],\n",
       "                      [0, 0, 0, 0, 0, 0, 0, 0],\n",
       "                      [0, 0, 0, 0, 0, 0, 0, 0],\n",
       "                      [0, 0, 0, 0, 0, 0, 0, 0],\n",
       "                      [0, 0, 0, 0, 0, 0, 0, 0],\n",
       "                      [0, 0, 0, 0, 0, 0, 0, 0],\n",
       "                      [0, 0, 0, 0, 0, 0, 0, 0],\n",
       "                      [0, 0, 0, 0, 0, 0, 0, 0],\n",
       "                      [0, 0, 0, 0, 0, 0, 0, 0],\n",
       "                      [0, 0, 0, 0, 0, 0, 0, 0],\n",
       "                      [0, 0, 0, 0, 0, 0, 0, 0],\n",
       "                      [0, 0, 0, 0, 0, 0, 0, 0],\n",
       "                      [0, 0, 0, 0, 0, 0, 0, 0],\n",
       "                      [0, 0, 0, 0, 0, 0, 0, 0],\n",
       "                      [0, 0, 0, 0, 0, 0, 0, 0],\n",
       "                      [0, 0, 0, 0, 0, 0, 0, 0],\n",
       "                      [0, 0, 0, 0, 0, 0, 0, 0],\n",
       "                      [0, 0, 0, 0, 0, 0, 0, 0],\n",
       "                      [0, 0, 0, 0, 0, 0, 0, 0],\n",
       "                      [0, 0, 0, 0, 0, 0, 0, 0],\n",
       "                      [0, 0, 0, 0, 0, 0, 0, 0],\n",
       "                      [0, 0, 0, 0, 0, 0, 0, 0],\n",
       "                      [0, 0, 0, 0, 0, 0, 0, 0],\n",
       "                      [0, 0, 0, 0, 0, 0, 0, 0],\n",
       "                      [0, 0, 0, 0, 0, 0, 0, 0],\n",
       "                      [0, 0, 0, 0, 0, 0, 0, 0],\n",
       "                      [0, 0, 0, 0, 0, 0, 0, 0],\n",
       "                      [0, 0, 0, 0, 0, 0, 0, 0],\n",
       "                      [0, 0, 0, 0, 0, 0, 0, 0],\n",
       "                      [0, 0, 0, 0, 0, 0, 0, 0],\n",
       "                      [0, 0, 0, 0, 0, 0, 0, 0],\n",
       "                      [0, 0, 0, 0, 0, 0, 0, 0],\n",
       "                      [0, 0, 0, 0, 0, 0, 0, 0],\n",
       "                      [0, 0, 0, 0, 0, 0, 0, 0],\n",
       "                      [0, 0, 0, 0, 0, 0, 0, 0],\n",
       "                      [0, 0, 0, 0, 0, 0, 0, 0],\n",
       "                      [0, 0, 0, 0, 0, 0, 0, 0],\n",
       "                      [0, 0, 0, 0, 0, 0, 0, 0],\n",
       "                      [0, 0, 0, 0, 0, 0, 0, 0],\n",
       "                      [0, 0, 0, 0, 0, 0, 0, 0],\n",
       "                      [0, 0, 0, 0, 0, 0, 0, 0],\n",
       "                      [0, 0, 0, 0, 0, 0, 0, 0],\n",
       "                      [0, 0, 0, 0, 0, 0, 0, 0],\n",
       "                      [0, 0, 0, 0, 0, 0, 0, 0],\n",
       "                      [0, 0, 0, 0, 0, 0, 0, 0],\n",
       "                      [0, 0, 0, 0, 0, 0, 0, 0],\n",
       "                      [0, 0, 0, 0, 0, 0, 0, 0],\n",
       "                      [0, 0, 0, 0, 0, 0, 0, 0],\n",
       "                      [0, 0, 0, 0, 0, 0, 0, 0],\n",
       "                      [0, 0, 0, 0, 0, 0, 0, 0],\n",
       "                      [0, 0, 0, 0, 0, 0, 0, 0],\n",
       "                      [0, 0, 0, 0, 0, 0, 0, 0],\n",
       "                      [0, 0, 0, 0, 0, 0, 0, 0],\n",
       "                      [0, 0, 0, 0, 0, 0, 0, 0],\n",
       "                      [0, 0, 0, 0, 0, 0, 0, 0],\n",
       "                      [0, 0, 0, 0, 0, 0, 0, 0],\n",
       "                      [0, 0, 0, 0, 0, 0, 0, 0],\n",
       "                      [0, 0, 0, 0, 0, 0, 0, 0],\n",
       "                      [0, 0, 0, 0, 0, 0, 0, 0],\n",
       "                      [0, 0, 0, 0, 0, 0, 0, 0],\n",
       "                      [0, 0, 0, 0, 0, 0, 0, 0],\n",
       "                      [0, 0, 0, 0, 0, 0, 0, 0],\n",
       "                      [0, 0, 0, 0, 0, 0, 0, 0],\n",
       "                      [0, 0, 0, 0, 0, 0, 0, 0],\n",
       "                      [0, 0, 0, 0, 0, 0, 0, 0],\n",
       "                      [0, 0, 0, 0, 0, 0, 0, 0],\n",
       "                      [0, 0, 0, 0, 0, 0, 0, 0],\n",
       "                      [0, 0, 0, 0, 0, 0, 0, 0],\n",
       "                      [0, 0, 0, 0, 0, 0, 0, 0],\n",
       "                      [0, 0, 0, 0, 0, 0, 0, 0],\n",
       "                      [0, 0, 0, 0, 0, 0, 0, 0],\n",
       "                      [0, 0, 0, 0, 0, 0, 0, 0],\n",
       "                      [0, 0, 0, 0, 0, 0, 0, 0],\n",
       "                      [0, 0, 0, 0, 0, 0, 0, 0],\n",
       "                      [0, 0, 0, 0, 0, 0, 0, 0],\n",
       "                      [0, 0, 0, 0, 0, 0, 0, 0],\n",
       "                      [0, 0, 0, 0, 0, 0, 0, 0],\n",
       "                      [0, 0, 0, 0, 0, 0, 0, 0],\n",
       "                      [0, 0, 0, 0, 0, 0, 0, 0],\n",
       "                      [0, 0, 0, 0, 0, 0, 0, 0],\n",
       "                      [0, 0, 0, 0, 0, 0, 0, 0],\n",
       "                      [0, 0, 0, 0, 0, 0, 0, 0],\n",
       "                      [0, 0, 0, 0, 0, 0, 0, 0],\n",
       "                      [0, 0, 0, 0, 0, 0, 0, 0],\n",
       "                      [0, 0, 0, 0, 0, 0, 0, 0],\n",
       "                      [0, 0, 0, 0, 0, 0, 0, 0],\n",
       "                      [0, 0, 0, 0, 0, 0, 0, 0],\n",
       "                      [0, 0, 0, 0, 0, 0, 0, 0],\n",
       "                      [0, 0, 0, 0, 0, 0, 0, 0],\n",
       "                      [0, 0, 0, 0, 0, 0, 0, 0],\n",
       "                      [0, 0, 0, 0, 0, 0, 0, 0],\n",
       "                      [0, 0, 0, 0, 0, 0, 0, 0],\n",
       "                      [0, 0, 0, 0, 0, 0, 0, 0],\n",
       "                      [0, 0, 0, 0, 0, 0, 0, 0],\n",
       "                      [0, 0, 0, 0, 0, 0, 0, 0],\n",
       "                      [0, 0, 0, 0, 0, 0, 0, 0],\n",
       "                      [0, 0, 0, 0, 0, 0, 0, 0]])),\n",
       "              ('fft',\n",
       "               array([[1064.5       ,   67.43560709,   73.53458185,   45.14121555,\n",
       "                         32.40910751,   38.48796889,   37.40218996,   62.36480462,\n",
       "                         72.63418617,   65.65005056,   70.95070179,   86.83197506,\n",
       "                         85.51167112,   48.93263509,   70.17853707,   25.51610707,\n",
       "                         54.31617912,   44.00349135,   29.13657985,   47.67548484,\n",
       "                         41.56900636,   71.94842388,   66.30316091,   33.80235559,\n",
       "                         79.93405078,   37.04998246,   15.79701873,   19.86887235,\n",
       "                         64.25473414,    9.40454024,   66.77534811,   67.64805151,\n",
       "                         74.70394469,  102.0244138 ,   74.07753329,   79.53258522,\n",
       "                         65.16299427,   29.28286362,   55.65732057,   21.55175054,\n",
       "                         54.12858496,   46.06239874,   53.6043234 ,   70.95542657,\n",
       "                         50.3761693 ,   42.26953062,   41.04562585,  100.71038277,\n",
       "                         39.47896397,   31.33195024,   14.86      ],\n",
       "                      [1066.14      ,   11.6470016 ,    8.25298982,   43.37891893,\n",
       "                         95.39542042,   23.27688457,   47.77399991,   29.57074223,\n",
       "                         20.88648286,   88.62304421,   63.4816039 ,   65.29961997,\n",
       "                          8.42446444,   26.67481509,   44.90044648,   68.38995285,\n",
       "                         21.62635821,   34.21409391,   76.03696075,   60.86219902,\n",
       "                         24.47671208,   44.44188916,   79.29209796,   83.91996021,\n",
       "                         73.26453544,   53.25211357,   19.32549003,  133.58971634,\n",
       "                         18.99045909,   42.26525877,   27.22114557,   59.65452287,\n",
       "                         37.52911928,   20.08258983,   48.47568568,   28.68603801,\n",
       "                        128.30071852,   75.71267306,   25.24746607,   86.18703102,\n",
       "                         24.64292527,   47.57837873,   39.78145572,   63.9392028 ,\n",
       "                         37.81151735,  100.44826836,   55.55841404,   58.68828597,\n",
       "                         68.02514187,   48.41194422,   15.78      ],\n",
       "                      [1026.8       ,    9.86068868,   28.95522482,   19.32879689,\n",
       "                         29.83659782,   28.07675528,   46.32011715,   88.49306198,\n",
       "                         80.75369554,   56.07557177,   31.18622174,   56.94369025,\n",
       "                         66.02094191,   52.02615095,   29.65472142,   99.26912278,\n",
       "                         29.11922852,   66.33620273,   26.4505757 ,   29.81651661,\n",
       "                         49.14259095,   82.20202385,   48.72965191,   45.94560442,\n",
       "                         61.47673697,   51.80703427,  104.95072274,   50.48187184,\n",
       "                         55.7504201 ,    4.24807734,   53.35790826,   73.05935316,\n",
       "                         99.2620815 ,   58.56443659,   58.72981986,   73.18838624,\n",
       "                         48.57883965,   53.80264673,   33.05233018,   31.84093476,\n",
       "                         39.96042736,   30.35632851,   62.90181389,   62.9357663 ,\n",
       "                         77.48823643,   42.21753658,   63.83250429,   60.92084577,\n",
       "                         45.6861472 ,   39.98879944,  100.68      ],\n",
       "                      [ 950.82      ,   49.27691812,   32.16293777,   32.75134583,\n",
       "                         49.16966991,   69.90935318,   70.19577024,   47.5455658 ,\n",
       "                         59.44726022,   26.7049935 ,   81.85500883,   57.76330527,\n",
       "                        127.33155412,   29.47052921,    2.01069117,   15.25423902,\n",
       "                         62.52517554,   72.31721998,   74.53044548,  139.01243419,\n",
       "                         36.10192928,    9.31510703,   19.16692529,  113.5502857 ,\n",
       "                         75.07007168,   67.58498354,    9.02687098,   20.59189851,\n",
       "                         83.29397397,   13.83735608,   82.42404703,   78.83603554,\n",
       "                         17.10266054,   29.60786958,   25.19461748,   80.87444683,\n",
       "                         48.0157906 ,   52.47895108,   22.54614245,   35.64233896,\n",
       "                         23.6473572 ,   84.28470755,   56.27839835,   43.55130742,\n",
       "                         38.53456659,   60.74331552,   81.83270896,   33.29403906,\n",
       "                        114.84134637,   43.60218763,   41.7       ],\n",
       "                      [1085.48      ,   11.25122953,   26.68321489,    7.50162279,\n",
       "                         82.88176936,   40.11900456,   28.77064625,   65.53007358,\n",
       "                        110.04116894,   26.36632563,  110.64566329,   47.9127792 ,\n",
       "                         47.09173474,    6.35299226,   23.80349899,   10.38578741,\n",
       "                         29.97778082,   42.43427679,   51.23830545,   67.76036868,\n",
       "                         51.06840212,   51.52350226,   53.93713581,   81.15709657,\n",
       "                         54.18776881,   29.57415088,   53.94932914,   54.59842094,\n",
       "                         54.5347611 ,   47.02579159,   93.28716094,   91.24505035,\n",
       "                          5.63188388,   92.1692038 ,   29.92807429,   21.09886531,\n",
       "                         12.51953435,   79.14268099,   43.71352754,   45.19163432,\n",
       "                         22.29980056,   69.25749646,  106.8322432 ,   46.97610396,\n",
       "                         64.37445014,   50.98168667,   65.29220785,   96.00599763,\n",
       "                         90.24331264,   87.13847248,   57.96      ],\n",
       "                      [1010.94      ,   31.83159005,   63.18522816,   38.77517448,\n",
       "                         47.79885885,   70.41254576,   35.29279019,   38.48900544,\n",
       "                         69.02061039,   77.62957827,   58.85802566,   48.00142107,\n",
       "                         55.48174249,   20.47753665,   30.93043955,   54.91757853,\n",
       "                         27.88866959,  115.33011504,   89.52798135,   68.00411916,\n",
       "                         75.685034  ,   82.4049943 ,   34.21929232,   28.31206605,\n",
       "                         61.97400073,   40.5775948 ,   28.16243279,   36.93287418,\n",
       "                         87.21507563,   90.01348732,   54.65980256,   36.05624493,\n",
       "                         17.58859638,   35.20306137,   39.04909695,   40.20718686,\n",
       "                         56.09983588,   60.75078063,   27.40957001,   39.89153445,\n",
       "                         31.09837342,   36.22264088,   51.20929358,   12.12872972,\n",
       "                         56.95557487,   89.51218851,    8.0743749 ,   34.64036638,\n",
       "                         13.29544247,  101.21545795,    5.06      ],\n",
       "                      [1028.72      ,   47.25475248,   75.3160687 ,   53.70009682,\n",
       "                         57.29097306,   81.4446351 ,   22.28999781,   56.8779636 ,\n",
       "                         16.25068749,   47.28363666,   37.84016547,   36.99032245,\n",
       "                         85.70809653,  140.83540863,   39.77182239,   23.26004844,\n",
       "                         43.43553801,   81.93744978,   45.06072468,   88.61788958,\n",
       "                         65.52580381,   65.11513732,   87.24735538,   31.00857864,\n",
       "                         25.97167051,   16.37407707,   26.41874041,   35.73564999,\n",
       "                        133.40502487,    5.42729087,   46.67070899,   64.9545301 ,\n",
       "                         70.72677149,   15.59120124,   36.28073296,   34.94663082,\n",
       "                         60.06792062,   51.95483562,   89.56951518,   57.00946024,\n",
       "                         52.01568836,   57.93357418,   80.89836412,  101.56320698,\n",
       "                         32.0541759 ,   93.88403567,   35.03083231,   40.22652429,\n",
       "                         28.77888071,   51.97056931,    2.96      ],\n",
       "                      [ 979.78      ,   24.5815903 ,   32.77992105,   33.79905616,\n",
       "                        105.94155994,   36.57239484,   44.98344239,   64.09295109,\n",
       "                         53.31946855,   25.57981895,   19.82149475,   86.07668606,\n",
       "                        119.01676766,   37.0852268 ,   61.6903804 ,   69.61646392,\n",
       "                         73.07776579,   88.53451201,   38.78548456,   31.51686449,\n",
       "                         64.27206843,   21.35399712,   26.39237957,   47.96681578,\n",
       "                         69.35776459,   63.16595602,   16.82526614,   59.08331487,\n",
       "                         32.88355529,    4.54261073,   77.14950127,   43.22406336,\n",
       "                         94.69407073,   29.81128466,   86.78443877,   18.13661536,\n",
       "                         28.5273403 ,   27.07706882,   46.61047959,   26.2578128 ,\n",
       "                         38.55479243,   93.05666505,   39.63400693,   39.51123274,\n",
       "                         44.48303181,   21.86090277,   44.18595292,   84.0607627 ,\n",
       "                         69.89503057,   29.78607405,   97.06      ]])),\n",
       "              ('fbins',\n",
       "               array([[0.45649725, 0.33308223, 0.4805426 , 0.48954707, 0.59437114],\n",
       "                      [0.947209  , 0.36329892, 0.5575757 , 0.35498443, 0.5846041 ],\n",
       "                      [0.8622154 , 0.6134732 , 0.5585826 , 0.73307484, 0.46213478],\n",
       "                      [0.9224871 , 0.59512097, 0.33293667, 0.5090612 , 0.4831907 ],\n",
       "                      [0.25692922, 0.22652318, 0.47397363, 0.5997754 , 0.46472734],\n",
       "                      [0.38721895, 0.31670427, 0.36731762, 0.56597286, 0.47360712],\n",
       "                      [0.47025764, 0.26843604, 0.55598605, 0.45470923, 0.4830911 ],\n",
       "                      [0.71087176, 0.44788668, 0.562593  , 0.41924483, 0.5128278 ]],\n",
       "                     dtype=float32))]),\n",
       " array(3.9587543, dtype=float32),\n",
       " False,\n",
       " {})"
      ]
     },
     "execution_count": 50,
     "metadata": {},
     "output_type": "execute_result"
    }
   ],
   "source": [
    "env.step(env.action_space.sample())"
   ]
  },
  {
   "cell_type": "code",
   "execution_count": 51,
   "metadata": {},
   "outputs": [],
   "source": [
    "env.close()"
   ]
  },
  {
   "cell_type": "code",
   "execution_count": 3,
   "metadata": {},
   "outputs": [
    {
     "name": "stdout",
     "output_type": "stream",
     "text": [
      "Token freq_30_ch0:\n",
      "Closest fft frequency 30.0\n",
      "Connected\n",
      "Delay and data transfer buffer size are set up.\n",
      "Default actions are set.\n"
     ]
    }
   ],
   "source": [
    "env = RLSystem.SFSystemCommunicator(step_stim_length_millis=1000, episode_time_seconds=2, render_each_step=True)"
   ]
  },
  {
   "cell_type": "code",
   "execution_count": 4,
   "metadata": {},
   "outputs": [
    {
     "name": "stderr",
     "output_type": "stream",
     "text": [
      "/home/biorp/.local/lib/python3.10/site-packages/stable_baselines3/common/vec_env/patch_gym.py:49: UserWarning:\n",
      "\n",
      "You provided an OpenAI Gym environment. We strongly recommend transitioning to Gymnasium environments. Stable-Baselines3 is automatically wrapping your environments in a compatibility layer, which could potentially cause issues.\n",
      "\n"
     ]
    }
   ],
   "source": [
    "trainer=RLSystem.stable_baselines_model_trainer(initialized_environment=env)"
   ]
  },
  {
   "cell_type": "code",
   "execution_count": 5,
   "metadata": {},
   "outputs": [
    {
     "data": {
      "application/vnd.plotly.v1+json": {
       "config": {
        "plotlyServerURL": "https://plot.ly"
       },
       "data": [
        {
         "mode": "lines+markers",
         "name": "Current episode rewards",
         "type": "scatter",
         "x": [
          0
         ],
         "xaxis": "x",
         "y": [
          0.7820420861244202
         ],
         "yaxis": "y"
        },
        {
         "mode": "lines+markers",
         "name": "Previous episode max rewards",
         "type": "scatter",
         "x": [
          0,
          1,
          2,
          3
         ],
         "xaxis": "x2",
         "y": [
          0,
          0,
          0,
          0
         ],
         "yaxis": "y2"
        },
        {
         "mode": "lines+markers",
         "name": "Previous episode total rewards",
         "type": "scatter",
         "x": [],
         "xaxis": "x3",
         "y": [],
         "yaxis": "y3"
        }
       ],
       "layout": {
        "height": 500,
        "template": {
         "data": {
          "bar": [
           {
            "error_x": {
             "color": "#2a3f5f"
            },
            "error_y": {
             "color": "#2a3f5f"
            },
            "marker": {
             "line": {
              "color": "#E5ECF6",
              "width": 0.5
             },
             "pattern": {
              "fillmode": "overlay",
              "size": 10,
              "solidity": 0.2
             }
            },
            "type": "bar"
           }
          ],
          "barpolar": [
           {
            "marker": {
             "line": {
              "color": "#E5ECF6",
              "width": 0.5
             },
             "pattern": {
              "fillmode": "overlay",
              "size": 10,
              "solidity": 0.2
             }
            },
            "type": "barpolar"
           }
          ],
          "carpet": [
           {
            "aaxis": {
             "endlinecolor": "#2a3f5f",
             "gridcolor": "white",
             "linecolor": "white",
             "minorgridcolor": "white",
             "startlinecolor": "#2a3f5f"
            },
            "baxis": {
             "endlinecolor": "#2a3f5f",
             "gridcolor": "white",
             "linecolor": "white",
             "minorgridcolor": "white",
             "startlinecolor": "#2a3f5f"
            },
            "type": "carpet"
           }
          ],
          "choropleth": [
           {
            "colorbar": {
             "outlinewidth": 0,
             "ticks": ""
            },
            "type": "choropleth"
           }
          ],
          "contour": [
           {
            "colorbar": {
             "outlinewidth": 0,
             "ticks": ""
            },
            "colorscale": [
             [
              0,
              "#0d0887"
             ],
             [
              0.1111111111111111,
              "#46039f"
             ],
             [
              0.2222222222222222,
              "#7201a8"
             ],
             [
              0.3333333333333333,
              "#9c179e"
             ],
             [
              0.4444444444444444,
              "#bd3786"
             ],
             [
              0.5555555555555556,
              "#d8576b"
             ],
             [
              0.6666666666666666,
              "#ed7953"
             ],
             [
              0.7777777777777778,
              "#fb9f3a"
             ],
             [
              0.8888888888888888,
              "#fdca26"
             ],
             [
              1,
              "#f0f921"
             ]
            ],
            "type": "contour"
           }
          ],
          "contourcarpet": [
           {
            "colorbar": {
             "outlinewidth": 0,
             "ticks": ""
            },
            "type": "contourcarpet"
           }
          ],
          "heatmap": [
           {
            "colorbar": {
             "outlinewidth": 0,
             "ticks": ""
            },
            "colorscale": [
             [
              0,
              "#0d0887"
             ],
             [
              0.1111111111111111,
              "#46039f"
             ],
             [
              0.2222222222222222,
              "#7201a8"
             ],
             [
              0.3333333333333333,
              "#9c179e"
             ],
             [
              0.4444444444444444,
              "#bd3786"
             ],
             [
              0.5555555555555556,
              "#d8576b"
             ],
             [
              0.6666666666666666,
              "#ed7953"
             ],
             [
              0.7777777777777778,
              "#fb9f3a"
             ],
             [
              0.8888888888888888,
              "#fdca26"
             ],
             [
              1,
              "#f0f921"
             ]
            ],
            "type": "heatmap"
           }
          ],
          "heatmapgl": [
           {
            "colorbar": {
             "outlinewidth": 0,
             "ticks": ""
            },
            "colorscale": [
             [
              0,
              "#0d0887"
             ],
             [
              0.1111111111111111,
              "#46039f"
             ],
             [
              0.2222222222222222,
              "#7201a8"
             ],
             [
              0.3333333333333333,
              "#9c179e"
             ],
             [
              0.4444444444444444,
              "#bd3786"
             ],
             [
              0.5555555555555556,
              "#d8576b"
             ],
             [
              0.6666666666666666,
              "#ed7953"
             ],
             [
              0.7777777777777778,
              "#fb9f3a"
             ],
             [
              0.8888888888888888,
              "#fdca26"
             ],
             [
              1,
              "#f0f921"
             ]
            ],
            "type": "heatmapgl"
           }
          ],
          "histogram": [
           {
            "marker": {
             "pattern": {
              "fillmode": "overlay",
              "size": 10,
              "solidity": 0.2
             }
            },
            "type": "histogram"
           }
          ],
          "histogram2d": [
           {
            "colorbar": {
             "outlinewidth": 0,
             "ticks": ""
            },
            "colorscale": [
             [
              0,
              "#0d0887"
             ],
             [
              0.1111111111111111,
              "#46039f"
             ],
             [
              0.2222222222222222,
              "#7201a8"
             ],
             [
              0.3333333333333333,
              "#9c179e"
             ],
             [
              0.4444444444444444,
              "#bd3786"
             ],
             [
              0.5555555555555556,
              "#d8576b"
             ],
             [
              0.6666666666666666,
              "#ed7953"
             ],
             [
              0.7777777777777778,
              "#fb9f3a"
             ],
             [
              0.8888888888888888,
              "#fdca26"
             ],
             [
              1,
              "#f0f921"
             ]
            ],
            "type": "histogram2d"
           }
          ],
          "histogram2dcontour": [
           {
            "colorbar": {
             "outlinewidth": 0,
             "ticks": ""
            },
            "colorscale": [
             [
              0,
              "#0d0887"
             ],
             [
              0.1111111111111111,
              "#46039f"
             ],
             [
              0.2222222222222222,
              "#7201a8"
             ],
             [
              0.3333333333333333,
              "#9c179e"
             ],
             [
              0.4444444444444444,
              "#bd3786"
             ],
             [
              0.5555555555555556,
              "#d8576b"
             ],
             [
              0.6666666666666666,
              "#ed7953"
             ],
             [
              0.7777777777777778,
              "#fb9f3a"
             ],
             [
              0.8888888888888888,
              "#fdca26"
             ],
             [
              1,
              "#f0f921"
             ]
            ],
            "type": "histogram2dcontour"
           }
          ],
          "mesh3d": [
           {
            "colorbar": {
             "outlinewidth": 0,
             "ticks": ""
            },
            "type": "mesh3d"
           }
          ],
          "parcoords": [
           {
            "line": {
             "colorbar": {
              "outlinewidth": 0,
              "ticks": ""
             }
            },
            "type": "parcoords"
           }
          ],
          "pie": [
           {
            "automargin": true,
            "type": "pie"
           }
          ],
          "scatter": [
           {
            "fillpattern": {
             "fillmode": "overlay",
             "size": 10,
             "solidity": 0.2
            },
            "type": "scatter"
           }
          ],
          "scatter3d": [
           {
            "line": {
             "colorbar": {
              "outlinewidth": 0,
              "ticks": ""
             }
            },
            "marker": {
             "colorbar": {
              "outlinewidth": 0,
              "ticks": ""
             }
            },
            "type": "scatter3d"
           }
          ],
          "scattercarpet": [
           {
            "marker": {
             "colorbar": {
              "outlinewidth": 0,
              "ticks": ""
             }
            },
            "type": "scattercarpet"
           }
          ],
          "scattergeo": [
           {
            "marker": {
             "colorbar": {
              "outlinewidth": 0,
              "ticks": ""
             }
            },
            "type": "scattergeo"
           }
          ],
          "scattergl": [
           {
            "marker": {
             "colorbar": {
              "outlinewidth": 0,
              "ticks": ""
             }
            },
            "type": "scattergl"
           }
          ],
          "scattermapbox": [
           {
            "marker": {
             "colorbar": {
              "outlinewidth": 0,
              "ticks": ""
             }
            },
            "type": "scattermapbox"
           }
          ],
          "scatterpolar": [
           {
            "marker": {
             "colorbar": {
              "outlinewidth": 0,
              "ticks": ""
             }
            },
            "type": "scatterpolar"
           }
          ],
          "scatterpolargl": [
           {
            "marker": {
             "colorbar": {
              "outlinewidth": 0,
              "ticks": ""
             }
            },
            "type": "scatterpolargl"
           }
          ],
          "scatterternary": [
           {
            "marker": {
             "colorbar": {
              "outlinewidth": 0,
              "ticks": ""
             }
            },
            "type": "scatterternary"
           }
          ],
          "surface": [
           {
            "colorbar": {
             "outlinewidth": 0,
             "ticks": ""
            },
            "colorscale": [
             [
              0,
              "#0d0887"
             ],
             [
              0.1111111111111111,
              "#46039f"
             ],
             [
              0.2222222222222222,
              "#7201a8"
             ],
             [
              0.3333333333333333,
              "#9c179e"
             ],
             [
              0.4444444444444444,
              "#bd3786"
             ],
             [
              0.5555555555555556,
              "#d8576b"
             ],
             [
              0.6666666666666666,
              "#ed7953"
             ],
             [
              0.7777777777777778,
              "#fb9f3a"
             ],
             [
              0.8888888888888888,
              "#fdca26"
             ],
             [
              1,
              "#f0f921"
             ]
            ],
            "type": "surface"
           }
          ],
          "table": [
           {
            "cells": {
             "fill": {
              "color": "#EBF0F8"
             },
             "line": {
              "color": "white"
             }
            },
            "header": {
             "fill": {
              "color": "#C8D4E3"
             },
             "line": {
              "color": "white"
             }
            },
            "type": "table"
           }
          ]
         },
         "layout": {
          "annotationdefaults": {
           "arrowcolor": "#2a3f5f",
           "arrowhead": 0,
           "arrowwidth": 1
          },
          "autotypenumbers": "strict",
          "coloraxis": {
           "colorbar": {
            "outlinewidth": 0,
            "ticks": ""
           }
          },
          "colorscale": {
           "diverging": [
            [
             0,
             "#8e0152"
            ],
            [
             0.1,
             "#c51b7d"
            ],
            [
             0.2,
             "#de77ae"
            ],
            [
             0.3,
             "#f1b6da"
            ],
            [
             0.4,
             "#fde0ef"
            ],
            [
             0.5,
             "#f7f7f7"
            ],
            [
             0.6,
             "#e6f5d0"
            ],
            [
             0.7,
             "#b8e186"
            ],
            [
             0.8,
             "#7fbc41"
            ],
            [
             0.9,
             "#4d9221"
            ],
            [
             1,
             "#276419"
            ]
           ],
           "sequential": [
            [
             0,
             "#0d0887"
            ],
            [
             0.1111111111111111,
             "#46039f"
            ],
            [
             0.2222222222222222,
             "#7201a8"
            ],
            [
             0.3333333333333333,
             "#9c179e"
            ],
            [
             0.4444444444444444,
             "#bd3786"
            ],
            [
             0.5555555555555556,
             "#d8576b"
            ],
            [
             0.6666666666666666,
             "#ed7953"
            ],
            [
             0.7777777777777778,
             "#fb9f3a"
            ],
            [
             0.8888888888888888,
             "#fdca26"
            ],
            [
             1,
             "#f0f921"
            ]
           ],
           "sequentialminus": [
            [
             0,
             "#0d0887"
            ],
            [
             0.1111111111111111,
             "#46039f"
            ],
            [
             0.2222222222222222,
             "#7201a8"
            ],
            [
             0.3333333333333333,
             "#9c179e"
            ],
            [
             0.4444444444444444,
             "#bd3786"
            ],
            [
             0.5555555555555556,
             "#d8576b"
            ],
            [
             0.6666666666666666,
             "#ed7953"
            ],
            [
             0.7777777777777778,
             "#fb9f3a"
            ],
            [
             0.8888888888888888,
             "#fdca26"
            ],
            [
             1,
             "#f0f921"
            ]
           ]
          },
          "colorway": [
           "#636efa",
           "#EF553B",
           "#00cc96",
           "#ab63fa",
           "#FFA15A",
           "#19d3f3",
           "#FF6692",
           "#B6E880",
           "#FF97FF",
           "#FECB52"
          ],
          "font": {
           "color": "#2a3f5f"
          },
          "geo": {
           "bgcolor": "white",
           "lakecolor": "white",
           "landcolor": "#E5ECF6",
           "showlakes": true,
           "showland": true,
           "subunitcolor": "white"
          },
          "hoverlabel": {
           "align": "left"
          },
          "hovermode": "closest",
          "mapbox": {
           "style": "light"
          },
          "paper_bgcolor": "white",
          "plot_bgcolor": "#E5ECF6",
          "polar": {
           "angularaxis": {
            "gridcolor": "white",
            "linecolor": "white",
            "ticks": ""
           },
           "bgcolor": "#E5ECF6",
           "radialaxis": {
            "gridcolor": "white",
            "linecolor": "white",
            "ticks": ""
           }
          },
          "scene": {
           "xaxis": {
            "backgroundcolor": "#E5ECF6",
            "gridcolor": "white",
            "gridwidth": 2,
            "linecolor": "white",
            "showbackground": true,
            "ticks": "",
            "zerolinecolor": "white"
           },
           "yaxis": {
            "backgroundcolor": "#E5ECF6",
            "gridcolor": "white",
            "gridwidth": 2,
            "linecolor": "white",
            "showbackground": true,
            "ticks": "",
            "zerolinecolor": "white"
           },
           "zaxis": {
            "backgroundcolor": "#E5ECF6",
            "gridcolor": "white",
            "gridwidth": 2,
            "linecolor": "white",
            "showbackground": true,
            "ticks": "",
            "zerolinecolor": "white"
           }
          },
          "shapedefaults": {
           "line": {
            "color": "#2a3f5f"
           }
          },
          "ternary": {
           "aaxis": {
            "gridcolor": "white",
            "linecolor": "white",
            "ticks": ""
           },
           "baxis": {
            "gridcolor": "white",
            "linecolor": "white",
            "ticks": ""
           },
           "bgcolor": "#E5ECF6",
           "caxis": {
            "gridcolor": "white",
            "linecolor": "white",
            "ticks": ""
           }
          },
          "title": {
           "x": 0.05
          },
          "xaxis": {
           "automargin": true,
           "gridcolor": "white",
           "linecolor": "white",
           "ticks": "",
           "title": {
            "standoff": 15
           },
           "zerolinecolor": "white",
           "zerolinewidth": 2
          },
          "yaxis": {
           "automargin": true,
           "gridcolor": "white",
           "linecolor": "white",
           "ticks": "",
           "title": {
            "standoff": 15
           },
           "zerolinecolor": "white",
           "zerolinewidth": 2
          }
         }
        },
        "width": 2000,
        "xaxis": {
         "anchor": "y",
         "domain": [
          0,
          0.45
         ]
        },
        "xaxis2": {
         "anchor": "y2",
         "domain": [
          0.55,
          1
         ]
        },
        "xaxis3": {
         "anchor": "y3",
         "domain": [
          0,
          0.45
         ]
        },
        "xaxis4": {
         "anchor": "y4",
         "domain": [
          0.55,
          1
         ]
        },
        "yaxis": {
         "anchor": "x",
         "domain": [
          0.575,
          1
         ]
        },
        "yaxis2": {
         "anchor": "x2",
         "domain": [
          0.575,
          1
         ]
        },
        "yaxis3": {
         "anchor": "x3",
         "domain": [
          0,
          0.425
         ]
        },
        "yaxis4": {
         "anchor": "x4",
         "domain": [
          0,
          0.425
         ]
        }
       }
      }
     },
     "metadata": {},
     "output_type": "display_data"
    },
    {
     "data": {
      "application/vnd.plotly.v1+json": {
       "config": {
        "plotlyServerURL": "https://plot.ly"
       },
       "data": [
        {
         "mode": "lines+markers",
         "name": "Channel 0 spectrum",
         "type": "scatter",
         "x": [
          0,
          1,
          2,
          3,
          4,
          5,
          6,
          7,
          8,
          9,
          10,
          11,
          12,
          13,
          14,
          15,
          16,
          17,
          18,
          19,
          20,
          21,
          22,
          23,
          24,
          25,
          26,
          27,
          28,
          29,
          30,
          31,
          32,
          33,
          34,
          35,
          36,
          37,
          38,
          39,
          40,
          41,
          42,
          43,
          44,
          45,
          46,
          47,
          48,
          49,
          50
         ],
         "xaxis": "x",
         "y": [
          1004.4,
          31.029851391969718,
          61.2766045055278,
          69.53544084660697,
          36.01310516776288,
          50.38527864338389,
          64.28811860824415,
          102.03224531371768,
          78.64028932843954,
          32.62568918156828,
          79.33881389482131,
          83.42609702378704,
          38.09379795940339,
          72.20465850761819,
          35.3941546431693,
          105.41542503271083,
          43.69558038202556,
          49.15132642465206,
          15.000426869545429,
          35.4789754391909,
          36.29181160434189,
          61.45229015416131,
          53.13449340560263,
          24.326494600946145,
          131.11933197971786,
          37.96368791358395,
          43.86487162447637,
          43.70690321547235,
          87.16528539283054,
          28.293552066394554,
          39.892528244809334,
          71.66963622828224,
          39.72162643256246,
          80.95392181868006,
          21.193017929596625,
          45.96609857353958,
          2.7964199235692258,
          28.76307904385877,
          33.00821858479936,
          40.47080403502237,
          68.73516138393038,
          30.245144211333486,
          39.987125602254764,
          61.37575807662474,
          17.058351780225756,
          86.85090697931213,
          44.12346867341551,
          72.82403759270899,
          87.4152208136838,
          45.02775340624432,
          12.560000000000004
         ],
         "yaxis": "y"
        },
        {
         "mode": "lines+markers",
         "name": "Channel 1 spectrum",
         "type": "scatter",
         "x": [
          0,
          1,
          2,
          3,
          4,
          5,
          6,
          7,
          8,
          9,
          10,
          11,
          12,
          13,
          14,
          15,
          16,
          17,
          18,
          19,
          20,
          21,
          22,
          23,
          24,
          25,
          26,
          27,
          28,
          29,
          30,
          31,
          32,
          33,
          34,
          35,
          36,
          37,
          38,
          39,
          40,
          41,
          42,
          43,
          44,
          45,
          46,
          47,
          48,
          49,
          50
         ],
         "xaxis": "x3",
         "y": [
          1125.7,
          75.91538368258091,
          55.39959176710789,
          50.071385191737775,
          57.8320198326853,
          67.55660981195481,
          8.59772364029334,
          104.67934110369832,
          30.2263157670409,
          45.91359161425582,
          92.10539102567938,
          66.17811013427259,
          51.2180128752445,
          71.00583502726339,
          64.07197558163698,
          30.405921604293884,
          20.740007983203004,
          121.7811853643875,
          11.78343259310333,
          72.11591890898075,
          12.725492892331006,
          66.13499593406102,
          67.032330939959,
          50.95411004368595,
          20.425009808009825,
          8.420095011340425,
          42.860257087316,
          51.38883583515229,
          79.45851169624281,
          37.54959173242282,
          97.83857595042309,
          95.3051903427951,
          44.99910209022242,
          94.80686794392548,
          28.705250838593297,
          75.68566085069114,
          88.92431498190176,
          39.29230037926916,
          36.98149467621336,
          68.36625299856512,
          54.57651354426401,
          28.141487958652927,
          51.00783851967903,
          64.47834498634982,
          9.229748605319498,
          50.76728418679678,
          88.55066373638778,
          65.78279937954187,
          6.2058998789544395,
          33.75505249269159,
          16.90000000000001
         ],
         "yaxis": "y3"
        },
        {
         "mode": "lines+markers",
         "name": "Channel 2 spectrum",
         "type": "scatter",
         "x": [
          0,
          1,
          2,
          3,
          4,
          5,
          6,
          7,
          8,
          9,
          10,
          11,
          12,
          13,
          14,
          15,
          16,
          17,
          18,
          19,
          20,
          21,
          22,
          23,
          24,
          25,
          26,
          27,
          28,
          29,
          30,
          31,
          32,
          33,
          34,
          35,
          36,
          37,
          38,
          39,
          40,
          41,
          42,
          43,
          44,
          45,
          46,
          47,
          48,
          49,
          50
         ],
         "xaxis": "x5",
         "y": [
          1046.86,
          31.82599716266758,
          110.68845207523346,
          48.90145081696656,
          68.3116724719001,
          5.988564523441373,
          17.572254913975723,
          95.25779438051899,
          44.075873446435914,
          51.14999917418865,
          53.94017899081493,
          16.609503643716128,
          39.35995499607174,
          54.98193663739867,
          74.47680935260965,
          47.18142249792023,
          24.59486869685075,
          51.165578413813165,
          77.06644832068213,
          77.85125849267887,
          67.10346805137986,
          56.66722769554164,
          21.447433694107275,
          64.01622524172313,
          35.088645873329234,
          42.752539105882335,
          48.67145375192356,
          77.92937802100734,
          34.787879405769665,
          62.600661126820405,
          128.37249351180668,
          57.75905948208176,
          28.695204561084605,
          44.35517852091798,
          51.41260327184673,
          39.31933175484016,
          38.72493819016077,
          15.316782620477762,
          29.412568168357666,
          102.13354296873909,
          58.7430998116157,
          46.91267500018035,
          47.947699731572904,
          32.43384476349222,
          52.853590349432295,
          39.27960051189605,
          45.58146742847622,
          99.0528157439965,
          46.00499888363594,
          24.96223032871035,
          35.500000000000014
         ],
         "yaxis": "y5"
        },
        {
         "mode": "lines+markers",
         "name": "Channel 3 spectrum",
         "type": "scatter",
         "x": [
          0,
          1,
          2,
          3,
          4,
          5,
          6,
          7,
          8,
          9,
          10,
          11,
          12,
          13,
          14,
          15,
          16,
          17,
          18,
          19,
          20,
          21,
          22,
          23,
          24,
          25,
          26,
          27,
          28,
          29,
          30,
          31,
          32,
          33,
          34,
          35,
          36,
          37,
          38,
          39,
          40,
          41,
          42,
          43,
          44,
          45,
          46,
          47,
          48,
          49,
          50
         ],
         "xaxis": "x7",
         "y": [
          1080.52,
          69.13321099659706,
          62.3711075900573,
          68.091802274414,
          14.004131949771141,
          50.82653412713034,
          108.63036340311362,
          59.438236939913594,
          76.40738208028544,
          50.62006975329886,
          45.0426320167991,
          25.127633657367678,
          99.1350636604882,
          43.22522960953407,
          22.11625673037366,
          59.088747442751966,
          22.83004725811518,
          50.6833965808028,
          57.72266457484363,
          16.29261478686046,
          18.50437543729884,
          67.16249687760853,
          27.147890839737926,
          61.06734335174341,
          104.17635040517922,
          95.17986761915569,
          23.809401888664635,
          100.5142565104039,
          21.63456201029861,
          58.065529785170185,
          53.65824541484026,
          25.62450023147689,
          84.70977224326627,
          23.099315883673956,
          30.23090982365378,
          54.18071953428818,
          53.6548101806719,
          66.63920464122361,
          107.3734141422208,
          25.821045603480215,
          109.59099821461383,
          40.47126196835379,
          58.908642079260396,
          26.26611734081887,
          38.069239469899706,
          20.006143681807647,
          71.87326754243072,
          58.697507080264415,
          29.762945540170726,
          67.74688237739683,
          52
         ],
         "yaxis": "y7"
        },
        {
         "mode": "lines+markers",
         "name": "Channel 4 spectrum",
         "type": "scatter",
         "x": [
          0,
          1,
          2,
          3,
          4,
          5,
          6,
          7,
          8,
          9,
          10,
          11,
          12,
          13,
          14,
          15,
          16,
          17,
          18,
          19,
          20,
          21,
          22,
          23,
          24,
          25,
          26,
          27,
          28,
          29,
          30,
          31,
          32,
          33,
          34,
          35,
          36,
          37,
          38,
          39,
          40,
          41,
          42,
          43,
          44,
          45,
          46,
          47,
          48,
          49,
          50
         ],
         "xaxis": "x9",
         "y": [
          1009.36,
          26.168079572590827,
          46.4299405468819,
          35.39013310354048,
          8.556683336962186,
          28.125758375652584,
          12.940034354468157,
          21.518330916880696,
          27.512431231613814,
          17.625617548292514,
          33.21189624340032,
          33.52420759290721,
          21.86762745330158,
          99.90953837047425,
          20.14157040193995,
          37.91263245037002,
          63.27866984950024,
          48.97089405425124,
          26.343940984125794,
          96.86385713559015,
          45.11274085400897,
          46.74969330910587,
          9.746239855424749,
          42.16022247709536,
          28.888370717263694,
          36.112047851098126,
          42.22957354058014,
          73.64249050317687,
          74.86214958442187,
          33.34796719584192,
          19.933668701912648,
          105.6634591161295,
          77.29718841872007,
          97.8326397022792,
          54.88820764736872,
          13.51567176239894,
          71.99430933690631,
          111.3233529673506,
          121.87431327912338,
          26.68550630052273,
          54.32967708940512,
          24.276177368215954,
          44.265823900169735,
          57.45274080753611,
          59.781404027072085,
          34.73011133423921,
          102.18537680406448,
          44.65354413966293,
          46.48372322388257,
          41.67106458593824,
          76.64
         ],
         "yaxis": "y9"
        },
        {
         "mode": "lines+markers",
         "name": "Channel 5 spectrum",
         "type": "scatter",
         "x": [
          0,
          1,
          2,
          3,
          4,
          5,
          6,
          7,
          8,
          9,
          10,
          11,
          12,
          13,
          14,
          15,
          16,
          17,
          18,
          19,
          20,
          21,
          22,
          23,
          24,
          25,
          26,
          27,
          28,
          29,
          30,
          31,
          32,
          33,
          34,
          35,
          36,
          37,
          38,
          39,
          40,
          41,
          42,
          43,
          44,
          45,
          46,
          47,
          48,
          49,
          50
         ],
         "xaxis": "x11",
         "y": [
          1029.38,
          85.96532943612118,
          37.77320695865431,
          39.68607024991066,
          27.55780179011025,
          26.093820676831207,
          61.20280207879737,
          14.316081736261808,
          27.264312569966293,
          118.02833232384302,
          25.95873996548952,
          77.20914837814775,
          13.50557130042827,
          28.47811246704288,
          64.1082611010112,
          40.397605764674935,
          67.28831781183914,
          26.197887087630235,
          51.95844685630491,
          33.84618198370739,
          16.8390348135793,
          44.89549993325184,
          61.9447570231233,
          78.56797378154643,
          58.326144851801615,
          59.089156365614166,
          38.902095056228234,
          52.91857940703053,
          9.109106859905316,
          40.05622643456822,
          39.63933676796443,
          112.34924368875546,
          55.28020454209961,
          19.73092842415084,
          59.75048626118593,
          34.3001173588618,
          96.26168819175349,
          97.5522151582558,
          54.897963352741264,
          62.0517265092395,
          66.10538334014153,
          42.08284962634743,
          66.3311000457698,
          68.06356217830132,
          26.601863771398147,
          42.33893621875243,
          62.29755025858338,
          19.721795615957657,
          40.49280016957171,
          89.37879221907939,
          80.06
         ],
         "yaxis": "y11"
        },
        {
         "mode": "lines+markers",
         "name": "Channel 6 spectrum",
         "type": "scatter",
         "x": [
          0,
          1,
          2,
          3,
          4,
          5,
          6,
          7,
          8,
          9,
          10,
          11,
          12,
          13,
          14,
          15,
          16,
          17,
          18,
          19,
          20,
          21,
          22,
          23,
          24,
          25,
          26,
          27,
          28,
          29,
          30,
          31,
          32,
          33,
          34,
          35,
          36,
          37,
          38,
          39,
          40,
          41,
          42,
          43,
          44,
          45,
          46,
          47,
          48,
          49,
          50
         ],
         "xaxis": "x13",
         "y": [
          1007.72,
          48.521760778300774,
          39.65388757244016,
          37.20943000929114,
          15.993991091310257,
          48.160109162282566,
          52.19670526089844,
          38.77262938431994,
          65.75028340363494,
          96.49279004472062,
          80.39732756411996,
          76.90611201969818,
          10.684164385493247,
          74.55760300581751,
          46.31384196666656,
          60.316939753197595,
          45.124224882302435,
          65.08148502692316,
          34.38011467269776,
          126.45842390049856,
          55.805179120114005,
          62.13533213547892,
          48.566970999159594,
          29.342726782510617,
          25.416631533752966,
          92.88615397356055,
          99.56168568222853,
          48.361791565327685,
          85.51656393190704,
          27.040727964433557,
          55.17128710251009,
          63.64417137966113,
          64.82318795446992,
          63.017083507577546,
          48.85187289518938,
          39.480147009863124,
          6.565160214162301,
          40.353971006154886,
          108.78284225868914,
          24.437187271412203,
          68.16231204538171,
          2.8521347908071344,
          65.34023859151405,
          58.37159856586816,
          145.7686038749527,
          12.207336169932914,
          11.933731826856201,
          39.74943470837998,
          20.73394982521182,
          67.45567172657493,
          2.6399999999999952
         ],
         "yaxis": "y13"
        },
        {
         "mode": "lines+markers",
         "name": "Channel 7 spectrum",
         "type": "scatter",
         "x": [
          0,
          1,
          2,
          3,
          4,
          5,
          6,
          7,
          8,
          9,
          10,
          11,
          12,
          13,
          14,
          15,
          16,
          17,
          18,
          19,
          20,
          21,
          22,
          23,
          24,
          25,
          26,
          27,
          28,
          29,
          30,
          31,
          32,
          33,
          34,
          35,
          36,
          37,
          38,
          39,
          40,
          41,
          42,
          43,
          44,
          45,
          46,
          47,
          48,
          49,
          50
         ],
         "xaxis": "x15",
         "y": [
          1102.98,
          43.94776656780608,
          76.6690519534338,
          89.07413343505773,
          13.019791076126651,
          34.328452733650224,
          19.273330715011515,
          74.81083912265177,
          69.9296852173659,
          100.30772405946385,
          82.90491401659847,
          55.64757268671165,
          13.432908955390603,
          34.49270915617609,
          68.94408999809436,
          21.515027307007877,
          77.7090252760291,
          62.93170252651007,
          53.53163466789575,
          19.233517583908146,
          24.229023089062203,
          72.59567025174084,
          47.131727117645006,
          65.39499659601195,
          54.10107048413547,
          41.00213165190316,
          88.3777121184759,
          53.04225402430094,
          79.85668056175854,
          131.21862457218734,
          71.56029927201546,
          40.12765997126337,
          68.55455264502172,
          31.448927843475893,
          13.593173566969703,
          82.65735380621217,
          68.32654994382104,
          8.724584538020082,
          42.82402833153333,
          39.65938091659827,
          115.229150999865,
          61.7009633810296,
          39.61532002988006,
          22.029091737371935,
          62.453060053079355,
          13.014222783051911,
          45.29415732971708,
          23.531968322446183,
          23.219526910115924,
          12.469775732567468,
          8.140000000000004
         ],
         "yaxis": "y15"
        },
        {
         "name": "Channel 0 frequency bins",
         "type": "bar",
         "x": [
          "0-1 Hz",
          "1-4 Hz",
          "4-8 Hz",
          "8-12 Hz",
          "12-30 Hz"
         ],
         "xaxis": "x2",
         "y": [
          0.6606452,
          0.5042284,
          0.7656683,
          0.41321912,
          0.49359572
         ],
         "yaxis": "y2"
        },
        {
         "name": "Channel 1 frequency bins",
         "type": "bar",
         "x": [
          "0-1 Hz",
          "1-4 Hz",
          "4-8 Hz",
          "8-12 Hz",
          "12-30 Hz"
         ],
         "xaxis": "x4",
         "y": [
          0.93762714,
          0.4173895,
          0.59151316,
          0.5140189,
          0.60678875
         ],
         "yaxis": "y4"
        },
        {
         "name": "Channel 2 frequency bins",
         "type": "bar",
         "x": [
          "0-1 Hz",
          "1-4 Hz",
          "4-8 Hz",
          "8-12 Hz",
          "12-30 Hz"
         ],
         "xaxis": "x6",
         "y": [
          0.00031904585,
          0.4608163,
          0.5252535,
          0.50757444,
          0.5470389
         ],
         "yaxis": "y6"
        },
        {
         "name": "Channel 3 frequency bins",
         "type": "bar",
         "x": [
          "0-1 Hz",
          "1-4 Hz",
          "4-8 Hz",
          "8-12 Hz",
          "12-30 Hz"
         ],
         "xaxis": "x8",
         "y": [
          0.42857438,
          0.3683528,
          0.4509146,
          0.55971867,
          0.449247
         ],
         "yaxis": "y8"
        },
        {
         "name": "Channel 4 frequency bins",
         "type": "bar",
         "x": [
          "0-1 Hz",
          "1-4 Hz",
          "4-8 Hz",
          "8-12 Hz",
          "12-30 Hz"
         ],
         "xaxis": "x10",
         "y": [
          0.17381296,
          0.47730717,
          0.54305375,
          0.48630336,
          0.6730684
         ],
         "yaxis": "y10"
        },
        {
         "name": "Channel 5 frequency bins",
         "type": "bar",
         "x": [
          "0-1 Hz",
          "1-4 Hz",
          "4-8 Hz",
          "8-12 Hz",
          "12-30 Hz"
         ],
         "xaxis": "x12",
         "y": [
          0.34322175,
          0.6125112,
          0.5620693,
          0.3690361,
          0.56227714
         ],
         "yaxis": "y12"
        },
        {
         "name": "Channel 6 frequency bins",
         "type": "bar",
         "x": [
          "0-1 Hz",
          "1-4 Hz",
          "4-8 Hz",
          "8-12 Hz",
          "12-30 Hz"
         ],
         "xaxis": "x14",
         "y": [
          0.20130843,
          0.2991847,
          0.46090814,
          0.4154356,
          0.5094739
         ],
         "yaxis": "y14"
        },
        {
         "name": "Channel 7 frequency bins",
         "type": "bar",
         "x": [
          "0-1 Hz",
          "1-4 Hz",
          "4-8 Hz",
          "8-12 Hz",
          "12-30 Hz"
         ],
         "xaxis": "x16",
         "y": [
          0.82547414,
          0.43867412,
          0.29411545,
          0.7211906,
          0.5469067
         ],
         "yaxis": "y16"
        }
       ],
       "layout": {
        "height": 1500,
        "template": {
         "data": {
          "bar": [
           {
            "error_x": {
             "color": "#2a3f5f"
            },
            "error_y": {
             "color": "#2a3f5f"
            },
            "marker": {
             "line": {
              "color": "#E5ECF6",
              "width": 0.5
             },
             "pattern": {
              "fillmode": "overlay",
              "size": 10,
              "solidity": 0.2
             }
            },
            "type": "bar"
           }
          ],
          "barpolar": [
           {
            "marker": {
             "line": {
              "color": "#E5ECF6",
              "width": 0.5
             },
             "pattern": {
              "fillmode": "overlay",
              "size": 10,
              "solidity": 0.2
             }
            },
            "type": "barpolar"
           }
          ],
          "carpet": [
           {
            "aaxis": {
             "endlinecolor": "#2a3f5f",
             "gridcolor": "white",
             "linecolor": "white",
             "minorgridcolor": "white",
             "startlinecolor": "#2a3f5f"
            },
            "baxis": {
             "endlinecolor": "#2a3f5f",
             "gridcolor": "white",
             "linecolor": "white",
             "minorgridcolor": "white",
             "startlinecolor": "#2a3f5f"
            },
            "type": "carpet"
           }
          ],
          "choropleth": [
           {
            "colorbar": {
             "outlinewidth": 0,
             "ticks": ""
            },
            "type": "choropleth"
           }
          ],
          "contour": [
           {
            "colorbar": {
             "outlinewidth": 0,
             "ticks": ""
            },
            "colorscale": [
             [
              0,
              "#0d0887"
             ],
             [
              0.1111111111111111,
              "#46039f"
             ],
             [
              0.2222222222222222,
              "#7201a8"
             ],
             [
              0.3333333333333333,
              "#9c179e"
             ],
             [
              0.4444444444444444,
              "#bd3786"
             ],
             [
              0.5555555555555556,
              "#d8576b"
             ],
             [
              0.6666666666666666,
              "#ed7953"
             ],
             [
              0.7777777777777778,
              "#fb9f3a"
             ],
             [
              0.8888888888888888,
              "#fdca26"
             ],
             [
              1,
              "#f0f921"
             ]
            ],
            "type": "contour"
           }
          ],
          "contourcarpet": [
           {
            "colorbar": {
             "outlinewidth": 0,
             "ticks": ""
            },
            "type": "contourcarpet"
           }
          ],
          "heatmap": [
           {
            "colorbar": {
             "outlinewidth": 0,
             "ticks": ""
            },
            "colorscale": [
             [
              0,
              "#0d0887"
             ],
             [
              0.1111111111111111,
              "#46039f"
             ],
             [
              0.2222222222222222,
              "#7201a8"
             ],
             [
              0.3333333333333333,
              "#9c179e"
             ],
             [
              0.4444444444444444,
              "#bd3786"
             ],
             [
              0.5555555555555556,
              "#d8576b"
             ],
             [
              0.6666666666666666,
              "#ed7953"
             ],
             [
              0.7777777777777778,
              "#fb9f3a"
             ],
             [
              0.8888888888888888,
              "#fdca26"
             ],
             [
              1,
              "#f0f921"
             ]
            ],
            "type": "heatmap"
           }
          ],
          "heatmapgl": [
           {
            "colorbar": {
             "outlinewidth": 0,
             "ticks": ""
            },
            "colorscale": [
             [
              0,
              "#0d0887"
             ],
             [
              0.1111111111111111,
              "#46039f"
             ],
             [
              0.2222222222222222,
              "#7201a8"
             ],
             [
              0.3333333333333333,
              "#9c179e"
             ],
             [
              0.4444444444444444,
              "#bd3786"
             ],
             [
              0.5555555555555556,
              "#d8576b"
             ],
             [
              0.6666666666666666,
              "#ed7953"
             ],
             [
              0.7777777777777778,
              "#fb9f3a"
             ],
             [
              0.8888888888888888,
              "#fdca26"
             ],
             [
              1,
              "#f0f921"
             ]
            ],
            "type": "heatmapgl"
           }
          ],
          "histogram": [
           {
            "marker": {
             "pattern": {
              "fillmode": "overlay",
              "size": 10,
              "solidity": 0.2
             }
            },
            "type": "histogram"
           }
          ],
          "histogram2d": [
           {
            "colorbar": {
             "outlinewidth": 0,
             "ticks": ""
            },
            "colorscale": [
             [
              0,
              "#0d0887"
             ],
             [
              0.1111111111111111,
              "#46039f"
             ],
             [
              0.2222222222222222,
              "#7201a8"
             ],
             [
              0.3333333333333333,
              "#9c179e"
             ],
             [
              0.4444444444444444,
              "#bd3786"
             ],
             [
              0.5555555555555556,
              "#d8576b"
             ],
             [
              0.6666666666666666,
              "#ed7953"
             ],
             [
              0.7777777777777778,
              "#fb9f3a"
             ],
             [
              0.8888888888888888,
              "#fdca26"
             ],
             [
              1,
              "#f0f921"
             ]
            ],
            "type": "histogram2d"
           }
          ],
          "histogram2dcontour": [
           {
            "colorbar": {
             "outlinewidth": 0,
             "ticks": ""
            },
            "colorscale": [
             [
              0,
              "#0d0887"
             ],
             [
              0.1111111111111111,
              "#46039f"
             ],
             [
              0.2222222222222222,
              "#7201a8"
             ],
             [
              0.3333333333333333,
              "#9c179e"
             ],
             [
              0.4444444444444444,
              "#bd3786"
             ],
             [
              0.5555555555555556,
              "#d8576b"
             ],
             [
              0.6666666666666666,
              "#ed7953"
             ],
             [
              0.7777777777777778,
              "#fb9f3a"
             ],
             [
              0.8888888888888888,
              "#fdca26"
             ],
             [
              1,
              "#f0f921"
             ]
            ],
            "type": "histogram2dcontour"
           }
          ],
          "mesh3d": [
           {
            "colorbar": {
             "outlinewidth": 0,
             "ticks": ""
            },
            "type": "mesh3d"
           }
          ],
          "parcoords": [
           {
            "line": {
             "colorbar": {
              "outlinewidth": 0,
              "ticks": ""
             }
            },
            "type": "parcoords"
           }
          ],
          "pie": [
           {
            "automargin": true,
            "type": "pie"
           }
          ],
          "scatter": [
           {
            "fillpattern": {
             "fillmode": "overlay",
             "size": 10,
             "solidity": 0.2
            },
            "type": "scatter"
           }
          ],
          "scatter3d": [
           {
            "line": {
             "colorbar": {
              "outlinewidth": 0,
              "ticks": ""
             }
            },
            "marker": {
             "colorbar": {
              "outlinewidth": 0,
              "ticks": ""
             }
            },
            "type": "scatter3d"
           }
          ],
          "scattercarpet": [
           {
            "marker": {
             "colorbar": {
              "outlinewidth": 0,
              "ticks": ""
             }
            },
            "type": "scattercarpet"
           }
          ],
          "scattergeo": [
           {
            "marker": {
             "colorbar": {
              "outlinewidth": 0,
              "ticks": ""
             }
            },
            "type": "scattergeo"
           }
          ],
          "scattergl": [
           {
            "marker": {
             "colorbar": {
              "outlinewidth": 0,
              "ticks": ""
             }
            },
            "type": "scattergl"
           }
          ],
          "scattermapbox": [
           {
            "marker": {
             "colorbar": {
              "outlinewidth": 0,
              "ticks": ""
             }
            },
            "type": "scattermapbox"
           }
          ],
          "scatterpolar": [
           {
            "marker": {
             "colorbar": {
              "outlinewidth": 0,
              "ticks": ""
             }
            },
            "type": "scatterpolar"
           }
          ],
          "scatterpolargl": [
           {
            "marker": {
             "colorbar": {
              "outlinewidth": 0,
              "ticks": ""
             }
            },
            "type": "scatterpolargl"
           }
          ],
          "scatterternary": [
           {
            "marker": {
             "colorbar": {
              "outlinewidth": 0,
              "ticks": ""
             }
            },
            "type": "scatterternary"
           }
          ],
          "surface": [
           {
            "colorbar": {
             "outlinewidth": 0,
             "ticks": ""
            },
            "colorscale": [
             [
              0,
              "#0d0887"
             ],
             [
              0.1111111111111111,
              "#46039f"
             ],
             [
              0.2222222222222222,
              "#7201a8"
             ],
             [
              0.3333333333333333,
              "#9c179e"
             ],
             [
              0.4444444444444444,
              "#bd3786"
             ],
             [
              0.5555555555555556,
              "#d8576b"
             ],
             [
              0.6666666666666666,
              "#ed7953"
             ],
             [
              0.7777777777777778,
              "#fb9f3a"
             ],
             [
              0.8888888888888888,
              "#fdca26"
             ],
             [
              1,
              "#f0f921"
             ]
            ],
            "type": "surface"
           }
          ],
          "table": [
           {
            "cells": {
             "fill": {
              "color": "#EBF0F8"
             },
             "line": {
              "color": "white"
             }
            },
            "header": {
             "fill": {
              "color": "#C8D4E3"
             },
             "line": {
              "color": "white"
             }
            },
            "type": "table"
           }
          ]
         },
         "layout": {
          "annotationdefaults": {
           "arrowcolor": "#2a3f5f",
           "arrowhead": 0,
           "arrowwidth": 1
          },
          "autotypenumbers": "strict",
          "coloraxis": {
           "colorbar": {
            "outlinewidth": 0,
            "ticks": ""
           }
          },
          "colorscale": {
           "diverging": [
            [
             0,
             "#8e0152"
            ],
            [
             0.1,
             "#c51b7d"
            ],
            [
             0.2,
             "#de77ae"
            ],
            [
             0.3,
             "#f1b6da"
            ],
            [
             0.4,
             "#fde0ef"
            ],
            [
             0.5,
             "#f7f7f7"
            ],
            [
             0.6,
             "#e6f5d0"
            ],
            [
             0.7,
             "#b8e186"
            ],
            [
             0.8,
             "#7fbc41"
            ],
            [
             0.9,
             "#4d9221"
            ],
            [
             1,
             "#276419"
            ]
           ],
           "sequential": [
            [
             0,
             "#0d0887"
            ],
            [
             0.1111111111111111,
             "#46039f"
            ],
            [
             0.2222222222222222,
             "#7201a8"
            ],
            [
             0.3333333333333333,
             "#9c179e"
            ],
            [
             0.4444444444444444,
             "#bd3786"
            ],
            [
             0.5555555555555556,
             "#d8576b"
            ],
            [
             0.6666666666666666,
             "#ed7953"
            ],
            [
             0.7777777777777778,
             "#fb9f3a"
            ],
            [
             0.8888888888888888,
             "#fdca26"
            ],
            [
             1,
             "#f0f921"
            ]
           ],
           "sequentialminus": [
            [
             0,
             "#0d0887"
            ],
            [
             0.1111111111111111,
             "#46039f"
            ],
            [
             0.2222222222222222,
             "#7201a8"
            ],
            [
             0.3333333333333333,
             "#9c179e"
            ],
            [
             0.4444444444444444,
             "#bd3786"
            ],
            [
             0.5555555555555556,
             "#d8576b"
            ],
            [
             0.6666666666666666,
             "#ed7953"
            ],
            [
             0.7777777777777778,
             "#fb9f3a"
            ],
            [
             0.8888888888888888,
             "#fdca26"
            ],
            [
             1,
             "#f0f921"
            ]
           ]
          },
          "colorway": [
           "#636efa",
           "#EF553B",
           "#00cc96",
           "#ab63fa",
           "#FFA15A",
           "#19d3f3",
           "#FF6692",
           "#B6E880",
           "#FF97FF",
           "#FECB52"
          ],
          "font": {
           "color": "#2a3f5f"
          },
          "geo": {
           "bgcolor": "white",
           "lakecolor": "white",
           "landcolor": "#E5ECF6",
           "showlakes": true,
           "showland": true,
           "subunitcolor": "white"
          },
          "hoverlabel": {
           "align": "left"
          },
          "hovermode": "closest",
          "mapbox": {
           "style": "light"
          },
          "paper_bgcolor": "white",
          "plot_bgcolor": "#E5ECF6",
          "polar": {
           "angularaxis": {
            "gridcolor": "white",
            "linecolor": "white",
            "ticks": ""
           },
           "bgcolor": "#E5ECF6",
           "radialaxis": {
            "gridcolor": "white",
            "linecolor": "white",
            "ticks": ""
           }
          },
          "scene": {
           "xaxis": {
            "backgroundcolor": "#E5ECF6",
            "gridcolor": "white",
            "gridwidth": 2,
            "linecolor": "white",
            "showbackground": true,
            "ticks": "",
            "zerolinecolor": "white"
           },
           "yaxis": {
            "backgroundcolor": "#E5ECF6",
            "gridcolor": "white",
            "gridwidth": 2,
            "linecolor": "white",
            "showbackground": true,
            "ticks": "",
            "zerolinecolor": "white"
           },
           "zaxis": {
            "backgroundcolor": "#E5ECF6",
            "gridcolor": "white",
            "gridwidth": 2,
            "linecolor": "white",
            "showbackground": true,
            "ticks": "",
            "zerolinecolor": "white"
           }
          },
          "shapedefaults": {
           "line": {
            "color": "#2a3f5f"
           }
          },
          "ternary": {
           "aaxis": {
            "gridcolor": "white",
            "linecolor": "white",
            "ticks": ""
           },
           "baxis": {
            "gridcolor": "white",
            "linecolor": "white",
            "ticks": ""
           },
           "bgcolor": "#E5ECF6",
           "caxis": {
            "gridcolor": "white",
            "linecolor": "white",
            "ticks": ""
           }
          },
          "title": {
           "x": 0.05
          },
          "xaxis": {
           "automargin": true,
           "gridcolor": "white",
           "linecolor": "white",
           "ticks": "",
           "title": {
            "standoff": 15
           },
           "zerolinecolor": "white",
           "zerolinewidth": 2
          },
          "yaxis": {
           "automargin": true,
           "gridcolor": "white",
           "linecolor": "white",
           "ticks": "",
           "title": {
            "standoff": 15
           },
           "zerolinecolor": "white",
           "zerolinewidth": 2
          }
         }
        },
        "width": 2000,
        "xaxis": {
         "anchor": "y",
         "domain": [
          0,
          0.45
         ]
        },
        "xaxis10": {
         "anchor": "y10",
         "domain": [
          0.55,
          1
         ]
        },
        "xaxis11": {
         "anchor": "y11",
         "domain": [
          0,
          0.45
         ]
        },
        "xaxis12": {
         "anchor": "y12",
         "domain": [
          0.55,
          1
         ]
        },
        "xaxis13": {
         "anchor": "y13",
         "domain": [
          0,
          0.45
         ]
        },
        "xaxis14": {
         "anchor": "y14",
         "domain": [
          0.55,
          1
         ]
        },
        "xaxis15": {
         "anchor": "y15",
         "domain": [
          0,
          0.45
         ]
        },
        "xaxis16": {
         "anchor": "y16",
         "domain": [
          0.55,
          1
         ]
        },
        "xaxis2": {
         "anchor": "y2",
         "domain": [
          0.55,
          1
         ]
        },
        "xaxis3": {
         "anchor": "y3",
         "domain": [
          0,
          0.45
         ]
        },
        "xaxis4": {
         "anchor": "y4",
         "domain": [
          0.55,
          1
         ]
        },
        "xaxis5": {
         "anchor": "y5",
         "domain": [
          0,
          0.45
         ]
        },
        "xaxis6": {
         "anchor": "y6",
         "domain": [
          0.55,
          1
         ]
        },
        "xaxis7": {
         "anchor": "y7",
         "domain": [
          0,
          0.45
         ]
        },
        "xaxis8": {
         "anchor": "y8",
         "domain": [
          0.55,
          1
         ]
        },
        "xaxis9": {
         "anchor": "y9",
         "domain": [
          0,
          0.45
         ]
        },
        "yaxis": {
         "anchor": "x",
         "domain": [
          0.9078124999999999,
          0.9999999999999999
         ]
        },
        "yaxis10": {
         "anchor": "x10",
         "domain": [
          0.38906250000000003,
          0.48125000000000007
         ]
        },
        "yaxis11": {
         "anchor": "x11",
         "domain": [
          0.259375,
          0.3515625
         ]
        },
        "yaxis12": {
         "anchor": "x12",
         "domain": [
          0.259375,
          0.3515625
         ]
        },
        "yaxis13": {
         "anchor": "x13",
         "domain": [
          0.1296875,
          0.22187500000000002
         ]
        },
        "yaxis14": {
         "anchor": "x14",
         "domain": [
          0.1296875,
          0.22187500000000002
         ]
        },
        "yaxis15": {
         "anchor": "x15",
         "domain": [
          0,
          0.0921875
         ]
        },
        "yaxis16": {
         "anchor": "x16",
         "domain": [
          0,
          0.0921875
         ]
        },
        "yaxis2": {
         "anchor": "x2",
         "domain": [
          0.9078124999999999,
          0.9999999999999999
         ]
        },
        "yaxis3": {
         "anchor": "x3",
         "domain": [
          0.778125,
          0.8703124999999999
         ]
        },
        "yaxis4": {
         "anchor": "x4",
         "domain": [
          0.778125,
          0.8703124999999999
         ]
        },
        "yaxis5": {
         "anchor": "x5",
         "domain": [
          0.6484375,
          0.740625
         ]
        },
        "yaxis6": {
         "anchor": "x6",
         "domain": [
          0.6484375,
          0.740625
         ]
        },
        "yaxis7": {
         "anchor": "x7",
         "domain": [
          0.51875,
          0.6109375
         ]
        },
        "yaxis8": {
         "anchor": "x8",
         "domain": [
          0.51875,
          0.6109375
         ]
        },
        "yaxis9": {
         "anchor": "x9",
         "domain": [
          0.38906250000000003,
          0.48125000000000007
         ]
        }
       }
      }
     },
     "metadata": {},
     "output_type": "display_data"
    }
   ],
   "source": [
    "trainer.train(num_episodes=2)"
   ]
  },
  {
   "cell_type": "code",
   "execution_count": null,
   "metadata": {},
   "outputs": [],
   "source": []
  }
 ],
 "metadata": {
  "kernelspec": {
   "display_name": "Python 3",
   "language": "python",
   "name": "python3"
  },
  "language_info": {
   "codemirror_mode": {
    "name": "ipython",
    "version": 3
   },
   "file_extension": ".py",
   "mimetype": "text/x-python",
   "name": "python",
   "nbconvert_exporter": "python",
   "pygments_lexer": "ipython3",
   "version": "3.10.12"
  }
 },
 "nbformat": 4,
 "nbformat_minor": 2
}
